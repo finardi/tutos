{
  "nbformat": 4,
  "nbformat_minor": 0,
  "metadata": {
    "colab": {
      "name": "MAP@k.ipynb",
      "provenance": [],
      "collapsed_sections": [],
      "machine_shape": "hm",
      "include_colab_link": true
    },
    "kernelspec": {
      "name": "python3",
      "display_name": "Python 3"
    },
    "accelerator": "GPU"
  },
  "cells": [
    {
      "cell_type": "markdown",
      "metadata": {
        "id": "view-in-github",
        "colab_type": "text"
      },
      "source": [
        "<a href=\"https://colab.research.google.com/github/finardi/tutos/blob/master/MAP_k.ipynb\" target=\"_parent\"><img src=\"https://colab.research.google.com/assets/colab-badge.svg\" alt=\"Open In Colab\"/></a>"
      ]
    },
    {
      "cell_type": "markdown",
      "metadata": {
        "id": "UYPS2gjCLXyo",
        "colab_type": "text"
      },
      "source": [
        "#MAP@K\n",
        "- ref: https://dl.acm.org/doi/pdf/10.1145/1148170.1148176?download=true\n",
        "\n"
      ]
    },
    {
      "cell_type": "code",
      "metadata": {
        "id": "YLC3mJq5VtS5",
        "colab_type": "code",
        "colab": {}
      },
      "source": [
        "import numpy as np"
      ],
      "execution_count": null,
      "outputs": []
    },
    {
      "cell_type": "code",
      "metadata": {
        "id": "3fn9-dYrQQDK",
        "colab_type": "code",
        "colab": {}
      },
      "source": [
        "def precision_at_k(y_true,class_probs,k,threshold=0.5,class_of_interest=1,isSorted=False):\n",
        "    if (not isSorted):\n",
        "        coi_probs = class_probs[:,class_of_interest]\n",
        "        sorted_coi_probs = np.sort(coi_probs)[::-1]\n",
        "        sorted_y = y_true[np.argsort(coi_probs)[::-1]]\n",
        "    else:\n",
        "        sorted_coi_probs = class_probs\n",
        "        sorted_y = y_true\n",
        "\n",
        "    sorted_coi_probs = sorted_coi_probs[:k]\n",
        "    sorted_y = sorted_y[:k]\n",
        "    sorted_predicted_classes = np.where(sorted_coi_probs>threshold,\n",
        "                                        float(class_of_interest),\n",
        "                                        0.0)\n",
        "    precisionK = np.sum(sorted_predicted_classes == sorted_y)/k  \n",
        "    return precisionK\n",
        "\n",
        "def map_at_N(y_true,class_probs,N,thrs=0.5,class_of_interest=1):\n",
        "    pks = []\n",
        "    coi_probs = class_probs[:,class_of_interest]\n",
        "    sorted_coi_probs = np.sort(coi_probs)[::-1]\n",
        "    sorted_y = y_true[np.argsort(coi_probs)[::-1]]\n",
        "    sorted_coi_probs = sorted_coi_probs[:N]\n",
        "    sorted_y = sorted_y[:N]\n",
        "\n",
        "    ## TESTANDO APENAS ##\n",
        "    sorted_y[-1] = 1 \n",
        "    top_coi_indexes = np.argwhere(sorted_y>0)\n",
        "\n",
        "    for value in top_coi_indexes:\n",
        "        limite = value[0] + 1\n",
        "        pks.append(\n",
        "                    precision_at_k(sorted_y[:limite],\n",
        "                    sorted_coi_probs[:limite],\n",
        "                    limite,threshold=thrs,isSorted=True)\n",
        "                    )\n",
        "    pks = np.array(pks)\n",
        "    return pks.mean()"
      ],
      "execution_count": null,
      "outputs": []
    },
    {
      "cell_type": "markdown",
      "metadata": {
        "id": "xoy8XUkTVm4u",
        "colab_type": "text"
      },
      "source": [
        "# Fórmula"
      ]
    },
    {
      "cell_type": "markdown",
      "metadata": {
        "id": "wkCZGJpcVpyM",
        "colab_type": "text"
      },
      "source": [
        "\\begin{equation}\n",
        "\\texttt{MAP@K} = \\dfrac{1}{\\sum_{i=1}^{K} r_i}\\sum_{i=1}^{K} r_i\\left(\\dfrac{\\sum_{j=1}^{i}r_j}{i}\\right)    \n",
        "\\end{equation}"
      ]
    },
    {
      "cell_type": "code",
      "metadata": {
        "id": "0YBahbYmS14I",
        "colab_type": "code",
        "colab": {
          "base_uri": "https://localhost:8080/",
          "height": 34
        },
        "outputId": "e2975334-7d00-41c5-e40c-e500c5419943"
      },
      "source": [
        "########################\n",
        "# Teste para k=3, MAP@3\n",
        "########################\n",
        "\n",
        "true_label = np.asarray([1, 0,1]) # r_i, r_j\n",
        "\n",
        "# vetor ordenado de probs\n",
        "predicted  = np.asarray([[0.01, 0.99], [0.02,0.98], [0.03,0.97]]) \n",
        "\n",
        "# Verificando o resultado da implementação \n",
        "map_at_N(true_label, predicted, 3)"
      ],
      "execution_count": null,
      "outputs": [
        {
          "output_type": "execute_result",
          "data": {
            "text/plain": [
              "0.8333333333333333"
            ]
          },
          "metadata": {
            "tags": []
          },
          "execution_count": 4
        }
      ]
    },
    {
      "cell_type": "code",
      "metadata": {
        "id": "9bAzL40UT1AU",
        "colab_type": "code",
        "colab": {
          "base_uri": "https://localhost:8080/",
          "height": 102
        },
        "outputId": "dc0fe537-2943-4336-d337-49439ffba563"
      },
      "source": [
        "# Verificando pela fórmula \n",
        "\n",
        "r1 = 1*(1/1); print(f'{r1:.3}')\n",
        "r2 = 0*((1+0)/(1+1)); print(f'{r2 :.3}')\n",
        "r3 = 1*((1+0+1)/(1+1+1)); print(f'{r3 :.3}')\n",
        "print(f'r1+r2+r3 = {r1+r2+r3 :.3}')\n",
        "print(f'sum ri = 2: (r1+r2+r3)/2 = {(r1+r2+r3)/2 :.3}')"
      ],
      "execution_count": null,
      "outputs": [
        {
          "output_type": "stream",
          "text": [
            "1.0\n",
            "0.0\n",
            "0.667\n",
            "r1+r2+r3 = 1.67\n",
            "sum ri = 2: (r1+r2+r3)/2 = 0.833\n"
          ],
          "name": "stdout"
        }
      ]
    },
    {
      "cell_type": "markdown",
      "metadata": {
        "id": "UNIbuCjBoXl2",
        "colab_type": "text"
      },
      "source": [
        "### fim do notebook"
      ]
    }
  ]
}