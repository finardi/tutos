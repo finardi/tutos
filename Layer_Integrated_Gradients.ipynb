{
  "nbformat": 4,
  "nbformat_minor": 0,
  "metadata": {
    "colab": {
      "name": "Layer Integrated Gradients.ipynb",
      "provenance": [],
      "authorship_tag": "ABX9TyMT3zyVDUYrQxe6Bji5gfIm",
      "include_colab_link": true
    },
    "kernelspec": {
      "name": "python3",
      "display_name": "Python 3"
    },
    "language_info": {
      "name": "python"
    }
  },
  "cells": [
    {
      "cell_type": "markdown",
      "metadata": {
        "id": "view-in-github",
        "colab_type": "text"
      },
      "source": [
        "<a href=\"https://colab.research.google.com/github/finardi/tutos/blob/master/Layer_Integrated_Gradients.ipynb\" target=\"_parent\"><img src=\"https://colab.research.google.com/assets/colab-badge.svg\" alt=\"Open In Colab\"/></a>"
      ]
    },
    {
      "cell_type": "code",
      "execution_count": null,
      "metadata": {
        "id": "aUZZOgdLubB9"
      },
      "outputs": [],
      "source": [
        "import torch\n",
        "import torch.nn as nn\n",
        "import torch.nn.functional as F"
      ]
    },
    {
      "cell_type": "markdown",
      "source": [
        "[https://arxiv.org/pdf/1703.01365.pdf](https://arxiv.org/pdf/1703.01365.pdf)\n",
        "\n",
        "<img src=\"https://drive.google.com/uc?id=1M5-5_CrvT9BTJyZR6NaycboFzoMAQv7I\" alt=\"drawing\" width=\"500\"/>\n"
      ],
      "metadata": {
        "id": "eDcfeaObxAkX"
      }
    },
    {
      "cell_type": "code",
      "source": [
        "class ToyModel_F(nn.Module):\n",
        "    \"\"\"\n",
        "    Example toy model from the original paper (page 10)\n",
        "    f(x1, x2) = RELU(ReLU(x1) - 1 - ReLU(x2))\n",
        "    \"\"\"\n",
        "\n",
        "    def __init__(self):\n",
        "        super().__init__()\n",
        "\n",
        "    def forward(self, x1, x2):\n",
        "        relu_x1 = F.relu(x1)\n",
        "        relu_x2 = F.relu(x2)\n",
        "        return F.relu(relu_x1 - 1 - relu_x2)"
      ],
      "metadata": {
        "id": "Gz-uup9xwiH9"
      },
      "execution_count": null,
      "outputs": []
    },
    {
      "cell_type": "markdown",
      "source": [
        "> ###  The code snippet below computes the attribution of output with respect to the inputs. `attribute` method of `IntegratedGradients` class returns input attributions which have the same size and dimensionality as the inputs and an approximation error which is computed based on the completeness property of the integrated gradients. \n",
        "\n",
        "#### Completeness property is one of the axioms that integrated gradients satisfies. *It states that the sum of the attributions must be equal to the difference between the output of the DNN function F at the inputs and corresponding baselines. The baselines also have the same shape and dimensionality as the inputs and if not provided zero is used as default value.*"
      ],
      "metadata": {
        "id": "2loHNxdIyFpY"
      }
    },
    {
      "cell_type": "code",
      "source": [
        "!pip install -q captum"
      ],
      "metadata": {
        "colab": {
          "base_uri": "https://localhost:8080/"
        },
        "id": "7Ztz89g-y8ck",
        "outputId": "31a0d343-ed23-4606-de7c-e086c0cde15e"
      },
      "execution_count": null,
      "outputs": [
        {
          "output_type": "stream",
          "name": "stdout",
          "text": [
            "\u001b[?25l\r\u001b[K     |▎                               | 10 kB 22.3 MB/s eta 0:00:01\r\u001b[K     |▌                               | 20 kB 11.2 MB/s eta 0:00:01\r\u001b[K     |▊                               | 30 kB 8.6 MB/s eta 0:00:01\r\u001b[K     |█                               | 40 kB 3.8 MB/s eta 0:00:01\r\u001b[K     |█▏                              | 51 kB 3.7 MB/s eta 0:00:01\r\u001b[K     |█▍                              | 61 kB 4.4 MB/s eta 0:00:01\r\u001b[K     |█▋                              | 71 kB 4.7 MB/s eta 0:00:01\r\u001b[K     |█▉                              | 81 kB 4.9 MB/s eta 0:00:01\r\u001b[K     |██                              | 92 kB 5.5 MB/s eta 0:00:01\r\u001b[K     |██▎                             | 102 kB 4.4 MB/s eta 0:00:01\r\u001b[K     |██▌                             | 112 kB 4.4 MB/s eta 0:00:01\r\u001b[K     |██▊                             | 122 kB 4.4 MB/s eta 0:00:01\r\u001b[K     |███                             | 133 kB 4.4 MB/s eta 0:00:01\r\u001b[K     |███▏                            | 143 kB 4.4 MB/s eta 0:00:01\r\u001b[K     |███▌                            | 153 kB 4.4 MB/s eta 0:00:01\r\u001b[K     |███▊                            | 163 kB 4.4 MB/s eta 0:00:01\r\u001b[K     |████                            | 174 kB 4.4 MB/s eta 0:00:01\r\u001b[K     |████▏                           | 184 kB 4.4 MB/s eta 0:00:01\r\u001b[K     |████▍                           | 194 kB 4.4 MB/s eta 0:00:01\r\u001b[K     |████▋                           | 204 kB 4.4 MB/s eta 0:00:01\r\u001b[K     |████▉                           | 215 kB 4.4 MB/s eta 0:00:01\r\u001b[K     |█████                           | 225 kB 4.4 MB/s eta 0:00:01\r\u001b[K     |█████▎                          | 235 kB 4.4 MB/s eta 0:00:01\r\u001b[K     |█████▌                          | 245 kB 4.4 MB/s eta 0:00:01\r\u001b[K     |█████▊                          | 256 kB 4.4 MB/s eta 0:00:01\r\u001b[K     |██████                          | 266 kB 4.4 MB/s eta 0:00:01\r\u001b[K     |██████▏                         | 276 kB 4.4 MB/s eta 0:00:01\r\u001b[K     |██████▍                         | 286 kB 4.4 MB/s eta 0:00:01\r\u001b[K     |██████▋                         | 296 kB 4.4 MB/s eta 0:00:01\r\u001b[K     |███████                         | 307 kB 4.4 MB/s eta 0:00:01\r\u001b[K     |███████▏                        | 317 kB 4.4 MB/s eta 0:00:01\r\u001b[K     |███████▍                        | 327 kB 4.4 MB/s eta 0:00:01\r\u001b[K     |███████▋                        | 337 kB 4.4 MB/s eta 0:00:01\r\u001b[K     |███████▉                        | 348 kB 4.4 MB/s eta 0:00:01\r\u001b[K     |████████                        | 358 kB 4.4 MB/s eta 0:00:01\r\u001b[K     |████████▎                       | 368 kB 4.4 MB/s eta 0:00:01\r\u001b[K     |████████▌                       | 378 kB 4.4 MB/s eta 0:00:01\r\u001b[K     |████████▊                       | 389 kB 4.4 MB/s eta 0:00:01\r\u001b[K     |█████████                       | 399 kB 4.4 MB/s eta 0:00:01\r\u001b[K     |█████████▏                      | 409 kB 4.4 MB/s eta 0:00:01\r\u001b[K     |█████████▍                      | 419 kB 4.4 MB/s eta 0:00:01\r\u001b[K     |█████████▋                      | 430 kB 4.4 MB/s eta 0:00:01\r\u001b[K     |█████████▉                      | 440 kB 4.4 MB/s eta 0:00:01\r\u001b[K     |██████████▏                     | 450 kB 4.4 MB/s eta 0:00:01\r\u001b[K     |██████████▍                     | 460 kB 4.4 MB/s eta 0:00:01\r\u001b[K     |██████████▋                     | 471 kB 4.4 MB/s eta 0:00:01\r\u001b[K     |██████████▉                     | 481 kB 4.4 MB/s eta 0:00:01\r\u001b[K     |███████████                     | 491 kB 4.4 MB/s eta 0:00:01\r\u001b[K     |███████████▎                    | 501 kB 4.4 MB/s eta 0:00:01\r\u001b[K     |███████████▌                    | 512 kB 4.4 MB/s eta 0:00:01\r\u001b[K     |███████████▊                    | 522 kB 4.4 MB/s eta 0:00:01\r\u001b[K     |████████████                    | 532 kB 4.4 MB/s eta 0:00:01\r\u001b[K     |████████████▏                   | 542 kB 4.4 MB/s eta 0:00:01\r\u001b[K     |████████████▍                   | 552 kB 4.4 MB/s eta 0:00:01\r\u001b[K     |████████████▋                   | 563 kB 4.4 MB/s eta 0:00:01\r\u001b[K     |████████████▉                   | 573 kB 4.4 MB/s eta 0:00:01\r\u001b[K     |█████████████                   | 583 kB 4.4 MB/s eta 0:00:01\r\u001b[K     |█████████████▎                  | 593 kB 4.4 MB/s eta 0:00:01\r\u001b[K     |█████████████▋                  | 604 kB 4.4 MB/s eta 0:00:01\r\u001b[K     |█████████████▉                  | 614 kB 4.4 MB/s eta 0:00:01\r\u001b[K     |██████████████                  | 624 kB 4.4 MB/s eta 0:00:01\r\u001b[K     |██████████████▎                 | 634 kB 4.4 MB/s eta 0:00:01\r\u001b[K     |██████████████▌                 | 645 kB 4.4 MB/s eta 0:00:01\r\u001b[K     |██████████████▊                 | 655 kB 4.4 MB/s eta 0:00:01\r\u001b[K     |███████████████                 | 665 kB 4.4 MB/s eta 0:00:01\r\u001b[K     |███████████████▏                | 675 kB 4.4 MB/s eta 0:00:01\r\u001b[K     |███████████████▍                | 686 kB 4.4 MB/s eta 0:00:01\r\u001b[K     |███████████████▋                | 696 kB 4.4 MB/s eta 0:00:01\r\u001b[K     |███████████████▉                | 706 kB 4.4 MB/s eta 0:00:01\r\u001b[K     |████████████████                | 716 kB 4.4 MB/s eta 0:00:01\r\u001b[K     |████████████████▎               | 727 kB 4.4 MB/s eta 0:00:01\r\u001b[K     |████████████████▌               | 737 kB 4.4 MB/s eta 0:00:01\r\u001b[K     |████████████████▊               | 747 kB 4.4 MB/s eta 0:00:01\r\u001b[K     |█████████████████               | 757 kB 4.4 MB/s eta 0:00:01\r\u001b[K     |█████████████████▎              | 768 kB 4.4 MB/s eta 0:00:01\r\u001b[K     |█████████████████▌              | 778 kB 4.4 MB/s eta 0:00:01\r\u001b[K     |█████████████████▊              | 788 kB 4.4 MB/s eta 0:00:01\r\u001b[K     |██████████████████              | 798 kB 4.4 MB/s eta 0:00:01\r\u001b[K     |██████████████████▏             | 808 kB 4.4 MB/s eta 0:00:01\r\u001b[K     |██████████████████▍             | 819 kB 4.4 MB/s eta 0:00:01\r\u001b[K     |██████████████████▋             | 829 kB 4.4 MB/s eta 0:00:01\r\u001b[K     |██████████████████▉             | 839 kB 4.4 MB/s eta 0:00:01\r\u001b[K     |███████████████████             | 849 kB 4.4 MB/s eta 0:00:01\r\u001b[K     |███████████████████▎            | 860 kB 4.4 MB/s eta 0:00:01\r\u001b[K     |███████████████████▌            | 870 kB 4.4 MB/s eta 0:00:01\r\u001b[K     |███████████████████▊            | 880 kB 4.4 MB/s eta 0:00:01\r\u001b[K     |████████████████████            | 890 kB 4.4 MB/s eta 0:00:01\r\u001b[K     |████████████████████▎           | 901 kB 4.4 MB/s eta 0:00:01\r\u001b[K     |████████████████████▌           | 911 kB 4.4 MB/s eta 0:00:01\r\u001b[K     |████████████████████▊           | 921 kB 4.4 MB/s eta 0:00:01\r\u001b[K     |█████████████████████           | 931 kB 4.4 MB/s eta 0:00:01\r\u001b[K     |█████████████████████▏          | 942 kB 4.4 MB/s eta 0:00:01\r\u001b[K     |█████████████████████▍          | 952 kB 4.4 MB/s eta 0:00:01\r\u001b[K     |█████████████████████▋          | 962 kB 4.4 MB/s eta 0:00:01\r\u001b[K     |█████████████████████▉          | 972 kB 4.4 MB/s eta 0:00:01\r\u001b[K     |██████████████████████          | 983 kB 4.4 MB/s eta 0:00:01\r\u001b[K     |██████████████████████▎         | 993 kB 4.4 MB/s eta 0:00:01\r\u001b[K     |██████████████████████▌         | 1.0 MB 4.4 MB/s eta 0:00:01\r\u001b[K     |██████████████████████▊         | 1.0 MB 4.4 MB/s eta 0:00:01\r\u001b[K     |███████████████████████         | 1.0 MB 4.4 MB/s eta 0:00:01\r\u001b[K     |███████████████████████▏        | 1.0 MB 4.4 MB/s eta 0:00:01\r\u001b[K     |███████████████████████▍        | 1.0 MB 4.4 MB/s eta 0:00:01\r\u001b[K     |███████████████████████▊        | 1.1 MB 4.4 MB/s eta 0:00:01\r\u001b[K     |████████████████████████        | 1.1 MB 4.4 MB/s eta 0:00:01\r\u001b[K     |████████████████████████▏       | 1.1 MB 4.4 MB/s eta 0:00:01\r\u001b[K     |████████████████████████▍       | 1.1 MB 4.4 MB/s eta 0:00:01\r\u001b[K     |████████████████████████▋       | 1.1 MB 4.4 MB/s eta 0:00:01\r\u001b[K     |████████████████████████▉       | 1.1 MB 4.4 MB/s eta 0:00:01\r\u001b[K     |█████████████████████████       | 1.1 MB 4.4 MB/s eta 0:00:01\r\u001b[K     |█████████████████████████▎      | 1.1 MB 4.4 MB/s eta 0:00:01\r\u001b[K     |█████████████████████████▌      | 1.1 MB 4.4 MB/s eta 0:00:01\r\u001b[K     |█████████████████████████▊      | 1.1 MB 4.4 MB/s eta 0:00:01\r\u001b[K     |██████████████████████████      | 1.2 MB 4.4 MB/s eta 0:00:01\r\u001b[K     |██████████████████████████▏     | 1.2 MB 4.4 MB/s eta 0:00:01\r\u001b[K     |██████████████████████████▍     | 1.2 MB 4.4 MB/s eta 0:00:01\r\u001b[K     |██████████████████████████▋     | 1.2 MB 4.4 MB/s eta 0:00:01\r\u001b[K     |███████████████████████████     | 1.2 MB 4.4 MB/s eta 0:00:01\r\u001b[K     |███████████████████████████▏    | 1.2 MB 4.4 MB/s eta 0:00:01\r\u001b[K     |███████████████████████████▍    | 1.2 MB 4.4 MB/s eta 0:00:01\r\u001b[K     |███████████████████████████▋    | 1.2 MB 4.4 MB/s eta 0:00:01\r\u001b[K     |███████████████████████████▉    | 1.2 MB 4.4 MB/s eta 0:00:01\r\u001b[K     |████████████████████████████    | 1.2 MB 4.4 MB/s eta 0:00:01\r\u001b[K     |████████████████████████████▎   | 1.3 MB 4.4 MB/s eta 0:00:01\r\u001b[K     |████████████████████████████▌   | 1.3 MB 4.4 MB/s eta 0:00:01\r\u001b[K     |████████████████████████████▊   | 1.3 MB 4.4 MB/s eta 0:00:01\r\u001b[K     |█████████████████████████████   | 1.3 MB 4.4 MB/s eta 0:00:01\r\u001b[K     |█████████████████████████████▏  | 1.3 MB 4.4 MB/s eta 0:00:01\r\u001b[K     |█████████████████████████████▍  | 1.3 MB 4.4 MB/s eta 0:00:01\r\u001b[K     |█████████████████████████████▋  | 1.3 MB 4.4 MB/s eta 0:00:01\r\u001b[K     |█████████████████████████████▉  | 1.3 MB 4.4 MB/s eta 0:00:01\r\u001b[K     |██████████████████████████████  | 1.3 MB 4.4 MB/s eta 0:00:01\r\u001b[K     |██████████████████████████████▍ | 1.4 MB 4.4 MB/s eta 0:00:01\r\u001b[K     |██████████████████████████████▋ | 1.4 MB 4.4 MB/s eta 0:00:01\r\u001b[K     |██████████████████████████████▉ | 1.4 MB 4.4 MB/s eta 0:00:01\r\u001b[K     |███████████████████████████████ | 1.4 MB 4.4 MB/s eta 0:00:01\r\u001b[K     |███████████████████████████████▎| 1.4 MB 4.4 MB/s eta 0:00:01\r\u001b[K     |███████████████████████████████▌| 1.4 MB 4.4 MB/s eta 0:00:01\r\u001b[K     |███████████████████████████████▊| 1.4 MB 4.4 MB/s eta 0:00:01\r\u001b[K     |████████████████████████████████| 1.4 MB 4.4 MB/s eta 0:00:01\r\u001b[K     |████████████████████████████████| 1.4 MB 4.4 MB/s \n",
            "\u001b[?25h"
          ]
        }
      ]
    },
    {
      "cell_type": "code",
      "source": [
        "from captum.attr import IntegratedGradients\n",
        "model = ToyModel_F()\n",
        "\n",
        "# defining model input tensors\n",
        "input1 = torch.tensor([3.0], requires_grad=True)\n",
        "input2 = torch.tensor([1.0], requires_grad=True)\n",
        "\n",
        "# defining baselines for each input tensor\n",
        "baseline1 = torch.tensor([0.0])\n",
        "baseline2 = torch.tensor([0.0])\n",
        "\n",
        "# defining and applying integrated gradients on ToyModel and the\n",
        "ig = IntegratedGradients(model)\n",
        "attributions_F, approximation_error_F = ig.attribute(\n",
        "    (input1, input2),\n",
        "    baselines=(baseline1, baseline2),\n",
        "    method='gausslegendre',\n",
        "    return_convergence_delta=True,\n",
        "    )"
      ],
      "metadata": {
        "id": "sMVp3GDByR7v"
      },
      "execution_count": null,
      "outputs": []
    },
    {
      "cell_type": "code",
      "source": [
        "attributions_F"
      ],
      "metadata": {
        "colab": {
          "base_uri": "https://localhost:8080/"
        },
        "id": "Ou9xjfh7zPvv",
        "outputId": "e66250fd-3b08-446d-f91b-4a7f1da05e27"
      },
      "execution_count": null,
      "outputs": [
        {
          "output_type": "execute_result",
          "data": {
            "text/plain": [
              "(tensor([1.5000], dtype=torch.float64, grad_fn=<MulBackward0>),\n",
              " tensor([-0.5000], dtype=torch.float64, grad_fn=<MulBackward0>))"
            ]
          },
          "metadata": {},
          "execution_count": 17
        }
      ]
    },
    {
      "cell_type": "code",
      "source": [
        "approximation_error_F"
      ],
      "metadata": {
        "colab": {
          "base_uri": "https://localhost:8080/"
        },
        "id": "PzxrR7DRzSIt",
        "outputId": "f79f1dca-c48c-4fe2-b2af-6609e1ec0096"
      },
      "execution_count": null,
      "outputs": [
        {
          "output_type": "execute_result",
          "data": {
            "text/plain": [
              "tensor([0.], dtype=torch.float64)"
            ]
          },
          "metadata": {},
          "execution_count": 18
        }
      ]
    },
    {
      "cell_type": "code",
      "source": [
        "class ToyModel_G(nn.Module):\n",
        "    \"\"\"\n",
        "    Example toy model from the original paper (page 10)\n",
        "    f(x1, x2) = ReLU(x1 - x2)\n",
        "    \"\"\"\n",
        "\n",
        "    def __init__(self):\n",
        "        super().__init__()\n",
        "\n",
        "    def forward(self, x1, x2):\n",
        "        relu_x1 = F.relu(x1 -1)\n",
        "        relu_x2 = F.relu(x2)\n",
        "\n",
        "        return F.relu(relu_x1 - relu_x2)"
      ],
      "metadata": {
        "id": "TbT86a5I0bhr"
      },
      "execution_count": null,
      "outputs": []
    },
    {
      "cell_type": "code",
      "source": [
        "# defining model input tensors\n",
        "model = ToyModel_G()\n",
        "\n",
        "input1 = torch.tensor([3.0], requires_grad=True)\n",
        "input2 = torch.tensor([1.0], requires_grad=True)\n",
        "\n",
        "# defining baselines for each input tensor\n",
        "baseline1 = torch.tensor([0.0])\n",
        "baseline2 = torch.tensor([0.0])\n",
        "\n",
        "# defining and applying integrated gradients on ToyModel and the\n",
        "ig = IntegratedGradients(model)\n",
        "attributions_G, approximation_error_G = ig.attribute(\n",
        "    (input1, input2),\n",
        "    baselines=(baseline1, baseline2),\n",
        "    method='gausslegendre',\n",
        "    return_convergence_delta=True,\n",
        "    )"
      ],
      "metadata": {
        "id": "gbLLX6HM0858"
      },
      "execution_count": null,
      "outputs": []
    },
    {
      "cell_type": "code",
      "source": [
        "attributions_G"
      ],
      "metadata": {
        "colab": {
          "base_uri": "https://localhost:8080/"
        },
        "id": "X7oRNUCi082g",
        "outputId": "38e7ae4c-00c9-4c08-d5d8-8c235d1882eb"
      },
      "execution_count": null,
      "outputs": [
        {
          "output_type": "execute_result",
          "data": {
            "text/plain": [
              "(tensor([1.5000], dtype=torch.float64, grad_fn=<MulBackward0>),\n",
              " tensor([-0.5000], dtype=torch.float64, grad_fn=<MulBackward0>))"
            ]
          },
          "metadata": {},
          "execution_count": 24
        }
      ]
    },
    {
      "cell_type": "code",
      "source": [
        "approximation_error_G"
      ],
      "metadata": {
        "colab": {
          "base_uri": "https://localhost:8080/"
        },
        "id": "YGTG1adU08zA",
        "outputId": "1dab0f6a-0f68-4a1d-9e7d-37c6be9d188e"
      },
      "execution_count": null,
      "outputs": [
        {
          "output_type": "execute_result",
          "data": {
            "text/plain": [
              "tensor([0.], dtype=torch.float64)"
            ]
          },
          "metadata": {},
          "execution_count": 25
        }
      ]
    },
    {
      "cell_type": "code",
      "source": [
        "!pip install -q alibi"
      ],
      "metadata": {
        "colab": {
          "base_uri": "https://localhost:8080/"
        },
        "id": "BSQfLzdc_W7O",
        "outputId": "d2345084-0de3-4586-a16f-67f0664b681b"
      },
      "execution_count": null,
      "outputs": [
        {
          "output_type": "stream",
          "name": "stdout",
          "text": [
            "\u001b[K     |████████████████████████████████| 445 kB 4.5 MB/s \n",
            "\u001b[K     |████████████████████████████████| 60 kB 8.1 MB/s \n",
            "\u001b[K     |████████████████████████████████| 4.7 MB 65.1 MB/s \n",
            "\u001b[K     |████████████████████████████████| 98.5 MB 102 kB/s \n",
            "\u001b[K     |████████████████████████████████| 6.6 MB 45.4 MB/s \n",
            "\u001b[K     |████████████████████████████████| 596 kB 73.0 MB/s \n",
            "\u001b[K     |████████████████████████████████| 101 kB 11.5 MB/s \n",
            "\u001b[?25h"
          ]
        }
      ]
    },
    {
      "cell_type": "code",
      "source": [
        "from alibi.explainers import IntegratedGradients\n",
        "\n",
        "# model = tf.keras.models.load_model(\"path_to_your_model\")\n",
        "\n",
        "ig  = IntegratedGradients(model,\n",
        "                        #   layer=None,\n",
        "                        #   taget_fn=None,\n",
        "                          method=\"gausslegendre\",\n",
        "                        #   n_steps=50,\n",
        "                        #   internal_batch_size=100,\n",
        "                          )"
      ],
      "metadata": {
        "colab": {
          "base_uri": "https://localhost:8080/",
          "height": 381
        },
        "id": "cYYSjq2x08vM",
        "outputId": "43c8d123-0c51-4398-d0ab-a3bff09aeaff"
      },
      "execution_count": null,
      "outputs": [
        {
          "output_type": "error",
          "ename": "AttributeError",
          "evalue": "ignored",
          "traceback": [
            "\u001b[0;31m---------------------------------------------------------------------------\u001b[0m",
            "\u001b[0;31mAttributeError\u001b[0m                            Traceback (most recent call last)",
            "\u001b[0;32m<ipython-input-30-1219eb23d74c>\u001b[0m in \u001b[0;36m<module>\u001b[0;34m\u001b[0m\n\u001b[1;32m      6\u001b[0m                         \u001b[0;31m#   layer=None,\u001b[0m\u001b[0;34m\u001b[0m\u001b[0;34m\u001b[0m\u001b[0;34m\u001b[0m\u001b[0m\n\u001b[1;32m      7\u001b[0m                         \u001b[0;31m#   taget_fn=None,\u001b[0m\u001b[0;34m\u001b[0m\u001b[0;34m\u001b[0m\u001b[0;34m\u001b[0m\u001b[0m\n\u001b[0;32m----> 8\u001b[0;31m                           \u001b[0mmethod\u001b[0m\u001b[0;34m=\u001b[0m\u001b[0;34m\"gausslegendre\"\u001b[0m\u001b[0;34m,\u001b[0m\u001b[0;34m\u001b[0m\u001b[0;34m\u001b[0m\u001b[0m\n\u001b[0m\u001b[1;32m      9\u001b[0m                         \u001b[0;31m#   n_steps=50,\u001b[0m\u001b[0;34m\u001b[0m\u001b[0;34m\u001b[0m\u001b[0;34m\u001b[0m\u001b[0m\n\u001b[1;32m     10\u001b[0m                         \u001b[0;31m#   internal_batch_size=100,\u001b[0m\u001b[0;34m\u001b[0m\u001b[0;34m\u001b[0m\u001b[0;34m\u001b[0m\u001b[0m\n",
            "\u001b[0;32m/usr/local/lib/python3.7/dist-packages/alibi/explainers/integrated_gradients.py\u001b[0m in \u001b[0;36m__init__\u001b[0;34m(self, model, layer, target_fn, method, n_steps, internal_batch_size)\u001b[0m\n\u001b[1;32m    823\u001b[0m         \u001b[0mself\u001b[0m\u001b[0;34m.\u001b[0m\u001b[0mmodel\u001b[0m \u001b[0;34m=\u001b[0m \u001b[0mmodel\u001b[0m\u001b[0;34m\u001b[0m\u001b[0;34m\u001b[0m\u001b[0m\n\u001b[1;32m    824\u001b[0m \u001b[0;34m\u001b[0m\u001b[0m\n\u001b[0;32m--> 825\u001b[0;31m         \u001b[0;32mif\u001b[0m \u001b[0mself\u001b[0m\u001b[0;34m.\u001b[0m\u001b[0mmodel\u001b[0m\u001b[0;34m.\u001b[0m\u001b[0minputs\u001b[0m \u001b[0;32mis\u001b[0m \u001b[0;32mNone\u001b[0m\u001b[0;34m:\u001b[0m\u001b[0;34m\u001b[0m\u001b[0;34m\u001b[0m\u001b[0m\n\u001b[0m\u001b[1;32m    826\u001b[0m             \u001b[0mself\u001b[0m\u001b[0;34m.\u001b[0m\u001b[0m_has_inputs\u001b[0m \u001b[0;34m=\u001b[0m \u001b[0;32mFalse\u001b[0m\u001b[0;34m\u001b[0m\u001b[0;34m\u001b[0m\u001b[0m\n\u001b[1;32m    827\u001b[0m         \u001b[0;32melse\u001b[0m\u001b[0;34m:\u001b[0m\u001b[0;34m\u001b[0m\u001b[0;34m\u001b[0m\u001b[0m\n",
            "\u001b[0;32m/usr/local/lib/python3.7/dist-packages/torch/nn/modules/module.py\u001b[0m in \u001b[0;36m__getattr__\u001b[0;34m(self, name)\u001b[0m\n\u001b[1;32m   1206\u001b[0m                 \u001b[0;32mreturn\u001b[0m \u001b[0mmodules\u001b[0m\u001b[0;34m[\u001b[0m\u001b[0mname\u001b[0m\u001b[0;34m]\u001b[0m\u001b[0;34m\u001b[0m\u001b[0;34m\u001b[0m\u001b[0m\n\u001b[1;32m   1207\u001b[0m         raise AttributeError(\"'{}' object has no attribute '{}'\".format(\n\u001b[0;32m-> 1208\u001b[0;31m             type(self).__name__, name))\n\u001b[0m\u001b[1;32m   1209\u001b[0m \u001b[0;34m\u001b[0m\u001b[0m\n\u001b[1;32m   1210\u001b[0m     \u001b[0;32mdef\u001b[0m \u001b[0m__setattr__\u001b[0m\u001b[0;34m(\u001b[0m\u001b[0mself\u001b[0m\u001b[0;34m,\u001b[0m \u001b[0mname\u001b[0m\u001b[0;34m:\u001b[0m \u001b[0mstr\u001b[0m\u001b[0;34m,\u001b[0m \u001b[0mvalue\u001b[0m\u001b[0;34m:\u001b[0m \u001b[0mUnion\u001b[0m\u001b[0;34m[\u001b[0m\u001b[0mTensor\u001b[0m\u001b[0;34m,\u001b[0m \u001b[0;34m'Module'\u001b[0m\u001b[0;34m]\u001b[0m\u001b[0;34m)\u001b[0m \u001b[0;34m->\u001b[0m \u001b[0;32mNone\u001b[0m\u001b[0;34m:\u001b[0m\u001b[0;34m\u001b[0m\u001b[0;34m\u001b[0m\u001b[0m\n",
            "\u001b[0;31mAttributeError\u001b[0m: 'ToyModel_G' object has no attribute 'inputs'"
          ]
        }
      ]
    },
    {
      "cell_type": "code",
      "source": [
        ""
      ],
      "metadata": {
        "id": "UBQTmJta08pW"
      },
      "execution_count": null,
      "outputs": []
    },
    {
      "cell_type": "code",
      "source": [
        ""
      ],
      "metadata": {
        "id": "27x3whKt08bR"
      },
      "execution_count": null,
      "outputs": []
    },
    {
      "cell_type": "code",
      "source": [
        ""
      ],
      "metadata": {
        "id": "lUbTZDyv08M8"
      },
      "execution_count": null,
      "outputs": []
    },
    {
      "cell_type": "markdown",
      "source": [
        "output\n",
        "\n",
        "...................\n",
        "\n",
        "attributions: (tensor([1.5000], grad_fn=<MulBackward0>),\n",
        "               tensor([-0.5000], grad_fn=<MulBackward0>))\n",
        "\n",
        "approximation_error (aka delta): 1.1801719665527344e-05"
      ],
      "metadata": {
        "id": "uY2XM5IjzNjQ"
      }
    }
  ]
}