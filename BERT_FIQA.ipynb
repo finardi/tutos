{
  "nbformat": 4,
  "nbformat_minor": 0,
  "metadata": {
    "colab": {
      "name": "BERT FIQA.ipynb",
      "provenance": [],
      "collapsed_sections": [],
      "toc_visible": true,
      "include_colab_link": true
    },
    "kernelspec": {
      "name": "python3",
      "display_name": "Python 3"
    },
    "accelerator": "GPU",
    "widgets": {
      "application/vnd.jupyter.widget-state+json": {
        "cccbd88d0a514f3c80727df398f242cf": {
          "model_module": "@jupyter-widgets/controls",
          "model_name": "HBoxModel",
          "state": {
            "_view_name": "HBoxView",
            "_dom_classes": [],
            "_model_name": "HBoxModel",
            "_view_module": "@jupyter-widgets/controls",
            "_model_module_version": "1.5.0",
            "_view_count": null,
            "_view_module_version": "1.5.0",
            "box_style": "",
            "layout": "IPY_MODEL_7cc184ea343c44d2adf1dedf36a386bf",
            "_model_module": "@jupyter-widgets/controls",
            "children": [
              "IPY_MODEL_e52c0d8b891a4904bd1f8416168b4eb6",
              "IPY_MODEL_1b627b5979ba4fc9a779b28d7b110898"
            ]
          }
        },
        "7cc184ea343c44d2adf1dedf36a386bf": {
          "model_module": "@jupyter-widgets/base",
          "model_name": "LayoutModel",
          "state": {
            "_view_name": "LayoutView",
            "grid_template_rows": null,
            "right": null,
            "justify_content": null,
            "_view_module": "@jupyter-widgets/base",
            "overflow": null,
            "_model_module_version": "1.2.0",
            "_view_count": null,
            "flex_flow": null,
            "width": null,
            "min_width": null,
            "border": null,
            "align_items": null,
            "bottom": null,
            "_model_module": "@jupyter-widgets/base",
            "top": null,
            "grid_column": null,
            "overflow_y": null,
            "overflow_x": null,
            "grid_auto_flow": null,
            "grid_area": null,
            "grid_template_columns": null,
            "flex": null,
            "_model_name": "LayoutModel",
            "justify_items": null,
            "grid_row": null,
            "max_height": null,
            "align_content": null,
            "visibility": null,
            "align_self": null,
            "height": null,
            "min_height": null,
            "padding": null,
            "grid_auto_rows": null,
            "grid_gap": null,
            "max_width": null,
            "order": null,
            "_view_module_version": "1.2.0",
            "grid_template_areas": null,
            "object_position": null,
            "object_fit": null,
            "grid_auto_columns": null,
            "margin": null,
            "display": null,
            "left": null
          }
        },
        "e52c0d8b891a4904bd1f8416168b4eb6": {
          "model_module": "@jupyter-widgets/controls",
          "model_name": "FloatProgressModel",
          "state": {
            "_view_name": "ProgressView",
            "style": "IPY_MODEL_12a2eb4de495477987cccaa491e2a24a",
            "_dom_classes": [],
            "description": "Downloading: 100%",
            "_model_name": "FloatProgressModel",
            "bar_style": "success",
            "max": 231508,
            "_view_module": "@jupyter-widgets/controls",
            "_model_module_version": "1.5.0",
            "value": 231508,
            "_view_count": null,
            "_view_module_version": "1.5.0",
            "orientation": "horizontal",
            "min": 0,
            "description_tooltip": null,
            "_model_module": "@jupyter-widgets/controls",
            "layout": "IPY_MODEL_fb1c06e048df47cd8867b88871be08dc"
          }
        },
        "1b627b5979ba4fc9a779b28d7b110898": {
          "model_module": "@jupyter-widgets/controls",
          "model_name": "HTMLModel",
          "state": {
            "_view_name": "HTMLView",
            "style": "IPY_MODEL_ede1fe7ba4474a05a052c26c15d842bc",
            "_dom_classes": [],
            "description": "",
            "_model_name": "HTMLModel",
            "placeholder": "​",
            "_view_module": "@jupyter-widgets/controls",
            "_model_module_version": "1.5.0",
            "value": " 232k/232k [00:00&lt;00:00, 968kB/s]",
            "_view_count": null,
            "_view_module_version": "1.5.0",
            "description_tooltip": null,
            "_model_module": "@jupyter-widgets/controls",
            "layout": "IPY_MODEL_8627393393ce4bafbf91bf5b15ce2f65"
          }
        },
        "12a2eb4de495477987cccaa491e2a24a": {
          "model_module": "@jupyter-widgets/controls",
          "model_name": "ProgressStyleModel",
          "state": {
            "_view_name": "StyleView",
            "_model_name": "ProgressStyleModel",
            "description_width": "initial",
            "_view_module": "@jupyter-widgets/base",
            "_model_module_version": "1.5.0",
            "_view_count": null,
            "_view_module_version": "1.2.0",
            "bar_color": null,
            "_model_module": "@jupyter-widgets/controls"
          }
        },
        "fb1c06e048df47cd8867b88871be08dc": {
          "model_module": "@jupyter-widgets/base",
          "model_name": "LayoutModel",
          "state": {
            "_view_name": "LayoutView",
            "grid_template_rows": null,
            "right": null,
            "justify_content": null,
            "_view_module": "@jupyter-widgets/base",
            "overflow": null,
            "_model_module_version": "1.2.0",
            "_view_count": null,
            "flex_flow": null,
            "width": null,
            "min_width": null,
            "border": null,
            "align_items": null,
            "bottom": null,
            "_model_module": "@jupyter-widgets/base",
            "top": null,
            "grid_column": null,
            "overflow_y": null,
            "overflow_x": null,
            "grid_auto_flow": null,
            "grid_area": null,
            "grid_template_columns": null,
            "flex": null,
            "_model_name": "LayoutModel",
            "justify_items": null,
            "grid_row": null,
            "max_height": null,
            "align_content": null,
            "visibility": null,
            "align_self": null,
            "height": null,
            "min_height": null,
            "padding": null,
            "grid_auto_rows": null,
            "grid_gap": null,
            "max_width": null,
            "order": null,
            "_view_module_version": "1.2.0",
            "grid_template_areas": null,
            "object_position": null,
            "object_fit": null,
            "grid_auto_columns": null,
            "margin": null,
            "display": null,
            "left": null
          }
        },
        "ede1fe7ba4474a05a052c26c15d842bc": {
          "model_module": "@jupyter-widgets/controls",
          "model_name": "DescriptionStyleModel",
          "state": {
            "_view_name": "StyleView",
            "_model_name": "DescriptionStyleModel",
            "description_width": "",
            "_view_module": "@jupyter-widgets/base",
            "_model_module_version": "1.5.0",
            "_view_count": null,
            "_view_module_version": "1.2.0",
            "_model_module": "@jupyter-widgets/controls"
          }
        },
        "8627393393ce4bafbf91bf5b15ce2f65": {
          "model_module": "@jupyter-widgets/base",
          "model_name": "LayoutModel",
          "state": {
            "_view_name": "LayoutView",
            "grid_template_rows": null,
            "right": null,
            "justify_content": null,
            "_view_module": "@jupyter-widgets/base",
            "overflow": null,
            "_model_module_version": "1.2.0",
            "_view_count": null,
            "flex_flow": null,
            "width": null,
            "min_width": null,
            "border": null,
            "align_items": null,
            "bottom": null,
            "_model_module": "@jupyter-widgets/base",
            "top": null,
            "grid_column": null,
            "overflow_y": null,
            "overflow_x": null,
            "grid_auto_flow": null,
            "grid_area": null,
            "grid_template_columns": null,
            "flex": null,
            "_model_name": "LayoutModel",
            "justify_items": null,
            "grid_row": null,
            "max_height": null,
            "align_content": null,
            "visibility": null,
            "align_self": null,
            "height": null,
            "min_height": null,
            "padding": null,
            "grid_auto_rows": null,
            "grid_gap": null,
            "max_width": null,
            "order": null,
            "_view_module_version": "1.2.0",
            "grid_template_areas": null,
            "object_position": null,
            "object_fit": null,
            "grid_auto_columns": null,
            "margin": null,
            "display": null,
            "left": null
          }
        }
      }
    }
  },
  "cells": [
    {
      "cell_type": "markdown",
      "metadata": {
        "id": "view-in-github",
        "colab_type": "text"
      },
      "source": [
        "<a href=\"https://colab.research.google.com/github/finardi/tutos/blob/master/BERT_FIQA.ipynb\" target=\"_parent\"><img src=\"https://colab.research.google.com/assets/colab-badge.svg\" alt=\"Open In Colab\"/></a>"
      ]
    },
    {
      "cell_type": "markdown",
      "metadata": {
        "id": "I0aSsmftY7wz",
        "colab_type": "text"
      },
      "source": [
        "# Dataset FiQA\n",
        "> [Link do dataset](https://sites.google.com/view/fiqa/home?authuser=0)\n",
        "\n",
        "Inspirado no github:\n",
        "> [Yuanbit](https://github.com/yuanbit/FinBERT-QA/)"
      ]
    },
    {
      "cell_type": "code",
      "metadata": {
        "id": "cYZP7bc84ar3",
        "colab_type": "code",
        "colab": {
          "base_uri": "https://localhost:8080/",
          "height": 102
        },
        "outputId": "3456d9b7-d41a-47f1-824a-0e40757469b9"
      },
      "source": [
        "!pip install -q transformers"
      ],
      "execution_count": null,
      "outputs": [
        {
          "output_type": "stream",
          "text": [
            "\u001b[K     |████████████████████████████████| 890kB 5.4MB/s \n",
            "\u001b[K     |████████████████████████████████| 3.0MB 17.4MB/s \n",
            "\u001b[K     |████████████████████████████████| 890kB 60.9MB/s \n",
            "\u001b[K     |████████████████████████████████| 1.1MB 50.8MB/s \n",
            "\u001b[?25h  Building wheel for sacremoses (setup.py) ... \u001b[?25l\u001b[?25hdone\n"
          ],
          "name": "stdout"
        }
      ]
    },
    {
      "cell_type": "code",
      "metadata": {
        "id": "BYk-8I2xZCDa",
        "colab_type": "code",
        "colab": {
          "base_uri": "https://localhost:8080/",
          "height": 71
        },
        "outputId": "b9b9f67b-eced-469b-f4dd-23b1f97eb45c"
      },
      "source": [
        "# basic\n",
        "import os\n",
        "import math \n",
        "import pickle\n",
        "import random\n",
        "import logging\n",
        "import numpy as np\n",
        "import pandas as pd\n",
        "from statistics import mean\n",
        "from itertools import combinations\n",
        "\n",
        "# plot\n",
        "import seaborn as sns\n",
        "import matplotlib.pyplot as plt\n",
        "\n",
        "# torch\n",
        "import torch\n",
        "from torch.utils.data import random_split, SequentialSampler\n",
        "from torch.utils.data import TensorDataset, DataLoader, RandomSampler\n",
        "from torch.nn.functional import softmax\n",
        "\n",
        "# transformers\n",
        "from transformers import (BertTokenizer, BertForSequenceClassification, \n",
        "                          AdamW, get_linear_schedule_with_warmup, BertConfig)"
      ],
      "execution_count": null,
      "outputs": [
        {
          "output_type": "stream",
          "text": [
            "/usr/local/lib/python3.6/dist-packages/statsmodels/tools/_testing.py:19: FutureWarning: pandas.util.testing is deprecated. Use the functions in the public API at pandas.testing instead.\n",
            "  import pandas.util.testing as tm\n"
          ],
          "name": "stderr"
        }
      ]
    },
    {
      "cell_type": "code",
      "metadata": {
        "id": "qsAqDQ3wt7Gy",
        "colab_type": "code",
        "colab": {
          "base_uri": "https://localhost:8080/",
          "height": 34
        },
        "outputId": "d7550aad-5dcf-4413-a62f-837d1ae8c240"
      },
      "source": [
        "device = torch.device('cuda' if torch.cuda.is_available() else 'cpu')\n",
        "manual_seed = 2357\n",
        "\n",
        "def deterministic(rep=True):\n",
        "    if rep:\n",
        "        np.random.seed(manual_seed)\n",
        "        torch.manual_seed(manual_seed)\n",
        "        if torch.cuda.is_available():\n",
        "            torch.cuda.manual_seed(manual_seed)\n",
        "            torch.cuda.manual_seed_all(manual_seed)\n",
        "        torch.backends.cudnn.enabled = False \n",
        "        torch.backends.cudnn.benchmark = False\n",
        "        torch.backends.cudnn.deterministic = True\n",
        "        print(f'Experimento deterministico, seed: {manual_seed} -- ', end = '')\n",
        "        print(f'Existe {torch.cuda.device_count()} GPU {torch.cuda.get_device_name(0)} disponível.')\n",
        "    else:\n",
        "        print('Experimento randomico')\n",
        "\n",
        "deterministic()"
      ],
      "execution_count": null,
      "outputs": [
        {
          "output_type": "stream",
          "text": [
            "Experimento deterministico, seed: 2357 -- Existe 1 GPU Tesla T4 disponível.\n"
          ],
          "name": "stdout"
        }
      ]
    },
    {
      "cell_type": "code",
      "metadata": {
        "id": "P2ltuOvUisG2",
        "colab_type": "code",
        "colab": {
          "base_uri": "https://localhost:8080/",
          "height": 66,
          "referenced_widgets": [
            "cccbd88d0a514f3c80727df398f242cf",
            "7cc184ea343c44d2adf1dedf36a386bf",
            "e52c0d8b891a4904bd1f8416168b4eb6",
            "1b627b5979ba4fc9a779b28d7b110898",
            "12a2eb4de495477987cccaa491e2a24a",
            "fb1c06e048df47cd8867b88871be08dc",
            "ede1fe7ba4474a05a052c26c15d842bc",
            "8627393393ce4bafbf91bf5b15ce2f65"
          ]
        },
        "outputId": "81be8f2d-a585-4996-eef2-1ee8ddfee0d2"
      },
      "source": [
        "tokenizer = BertTokenizer.from_pretrained('bert-base-uncased', do_lower_case=True)"
      ],
      "execution_count": null,
      "outputs": [
        {
          "output_type": "display_data",
          "data": {
            "application/vnd.jupyter.widget-view+json": {
              "model_id": "cccbd88d0a514f3c80727df398f242cf",
              "version_minor": 0,
              "version_major": 2
            },
            "text/plain": [
              "HBox(children=(FloatProgress(value=0.0, description='Downloading', max=231508.0, style=ProgressStyle(descripti…"
            ]
          },
          "metadata": {
            "tags": []
          }
        },
        {
          "output_type": "stream",
          "text": [
            "\n"
          ],
          "name": "stdout"
        }
      ]
    },
    {
      "cell_type": "code",
      "metadata": {
        "id": "eMh9iElXjvLI",
        "colab_type": "code",
        "colab": {
          "base_uri": "https://localhost:8080/",
          "height": 34
        },
        "outputId": "2c1cb97e-6099-4a2d-bdc6-5fad5a81cead"
      },
      "source": [
        "from google.colab import drive\n",
        "drive.mount('/content/drive')"
      ],
      "execution_count": null,
      "outputs": [
        {
          "output_type": "stream",
          "text": [
            "Mounted at /content/drive\n"
          ],
          "name": "stdout"
        }
      ]
    },
    {
      "cell_type": "code",
      "metadata": {
        "id": "71tLRWFtZDEB",
        "colab_type": "code",
        "colab": {
          "base_uri": "https://localhost:8080/",
          "height": 68
        },
        "outputId": "be29c771-2c35-45c2-b457-27ac38fe26a0"
      },
      "source": [
        "path_dataset = '/content/drive/My Drive/Colab Notebooks/Colab Notebooks/BERT/FinBERT/data/raw/'\n",
        "\n",
        "df_questions = pd.read_csv(path_dataset+'FiQA_train_question_final.tsv', sep='\\t', index_col=0)\n",
        "df_docs = pd.read_csv(path_dataset+'FiQA_train_doc_final.tsv', sep='\\t', index_col=0)\n",
        "df_labels = pd.read_csv(path_dataset+'FiQA_train_question_doc_final.tsv', sep='\\t', index_col=0)\n",
        "\n",
        "print(f'Shape do dataset das questions: {df_questions.shape:}')\n",
        "print(f'Shape do dataset dos docs:      {df_docs.shape}')\n",
        "print(f'Shape do dataset das labels:    {df_labels.shape}')"
      ],
      "execution_count": null,
      "outputs": [
        {
          "output_type": "stream",
          "text": [
            "Shape do dataset das questions: (6648, 3)\n",
            "Shape do dataset dos docs:      (57638, 3)\n",
            "Shape do dataset das labels:    (17110, 2)\n"
          ],
          "name": "stdout"
        }
      ]
    },
    {
      "cell_type": "code",
      "metadata": {
        "id": "8zQx21__amQ4",
        "colab_type": "code",
        "colab": {
          "base_uri": "https://localhost:8080/",
          "height": 142
        },
        "outputId": "83d9dc10-a9a0-4b4d-e3b5-ede68776e66b"
      },
      "source": [
        "df_questions.head(3)"
      ],
      "execution_count": null,
      "outputs": [
        {
          "output_type": "execute_result",
          "data": {
            "text/html": [
              "<div>\n",
              "<style scoped>\n",
              "    .dataframe tbody tr th:only-of-type {\n",
              "        vertical-align: middle;\n",
              "    }\n",
              "\n",
              "    .dataframe tbody tr th {\n",
              "        vertical-align: top;\n",
              "    }\n",
              "\n",
              "    .dataframe thead th {\n",
              "        text-align: right;\n",
              "    }\n",
              "</style>\n",
              "<table border=\"1\" class=\"dataframe\">\n",
              "  <thead>\n",
              "    <tr style=\"text-align: right;\">\n",
              "      <th></th>\n",
              "      <th>qid</th>\n",
              "      <th>question</th>\n",
              "      <th>timestamp</th>\n",
              "    </tr>\n",
              "  </thead>\n",
              "  <tbody>\n",
              "    <tr>\n",
              "      <th>0</th>\n",
              "      <td>0</td>\n",
              "      <td>What is considered a business expense on a bus...</td>\n",
              "      <td>Nov 8 '11 at 15:14</td>\n",
              "    </tr>\n",
              "    <tr>\n",
              "      <th>1</th>\n",
              "      <td>1</td>\n",
              "      <td>Claiming business expenses for a business with...</td>\n",
              "      <td>May 13 '14 at 13:17</td>\n",
              "    </tr>\n",
              "    <tr>\n",
              "      <th>2</th>\n",
              "      <td>2</td>\n",
              "      <td>Transferring money from One business checking ...</td>\n",
              "      <td>Jan 20 '16 at 20:31</td>\n",
              "    </tr>\n",
              "  </tbody>\n",
              "</table>\n",
              "</div>"
            ],
            "text/plain": [
              "   qid                                           question            timestamp\n",
              "0    0  What is considered a business expense on a bus...   Nov 8 '11 at 15:14\n",
              "1    1  Claiming business expenses for a business with...  May 13 '14 at 13:17\n",
              "2    2  Transferring money from One business checking ...  Jan 20 '16 at 20:31"
            ]
          },
          "metadata": {
            "tags": []
          },
          "execution_count": 8
        }
      ]
    },
    {
      "cell_type": "code",
      "metadata": {
        "id": "B5NZi9i-ZJQN",
        "colab_type": "code",
        "colab": {
          "base_uri": "https://localhost:8080/",
          "height": 142
        },
        "outputId": "6a6382c3-ef6f-45ae-9f69-c256d0fe41e3"
      },
      "source": [
        "df_docs.head(3)"
      ],
      "execution_count": null,
      "outputs": [
        {
          "output_type": "execute_result",
          "data": {
            "text/html": [
              "<div>\n",
              "<style scoped>\n",
              "    .dataframe tbody tr th:only-of-type {\n",
              "        vertical-align: middle;\n",
              "    }\n",
              "\n",
              "    .dataframe tbody tr th {\n",
              "        vertical-align: top;\n",
              "    }\n",
              "\n",
              "    .dataframe thead th {\n",
              "        text-align: right;\n",
              "    }\n",
              "</style>\n",
              "<table border=\"1\" class=\"dataframe\">\n",
              "  <thead>\n",
              "    <tr style=\"text-align: right;\">\n",
              "      <th></th>\n",
              "      <th>docid</th>\n",
              "      <th>doc</th>\n",
              "      <th>timestamp</th>\n",
              "    </tr>\n",
              "  </thead>\n",
              "  <tbody>\n",
              "    <tr>\n",
              "      <th>0</th>\n",
              "      <td>3</td>\n",
              "      <td>I'm not saying I don't like the idea of on-the...</td>\n",
              "      <td>Oct 03 '12 at 14:56</td>\n",
              "    </tr>\n",
              "    <tr>\n",
              "      <th>1</th>\n",
              "      <td>31</td>\n",
              "      <td>So nothing preventing false ratings besides ad...</td>\n",
              "      <td>Sep 01 '17 at 13:36</td>\n",
              "    </tr>\n",
              "    <tr>\n",
              "      <th>2</th>\n",
              "      <td>56</td>\n",
              "      <td>You can never use a health FSA for individual ...</td>\n",
              "      <td>Jun 9 '14 at 17:37</td>\n",
              "    </tr>\n",
              "  </tbody>\n",
              "</table>\n",
              "</div>"
            ],
            "text/plain": [
              "   docid  ...            timestamp\n",
              "0      3  ...  Oct 03 '12 at 14:56\n",
              "1     31  ...  Sep 01 '17 at 13:36\n",
              "2     56  ...   Jun 9 '14 at 17:37\n",
              "\n",
              "[3 rows x 3 columns]"
            ]
          },
          "metadata": {
            "tags": []
          },
          "execution_count": 9
        }
      ]
    },
    {
      "cell_type": "code",
      "metadata": {
        "id": "nxcBZYF5aeGZ",
        "colab_type": "code",
        "colab": {
          "base_uri": "https://localhost:8080/",
          "height": 142
        },
        "outputId": "1b87e984-e925-47ab-932f-102c044300fb"
      },
      "source": [
        "df_labels.head(3)"
      ],
      "execution_count": null,
      "outputs": [
        {
          "output_type": "execute_result",
          "data": {
            "text/html": [
              "<div>\n",
              "<style scoped>\n",
              "    .dataframe tbody tr th:only-of-type {\n",
              "        vertical-align: middle;\n",
              "    }\n",
              "\n",
              "    .dataframe tbody tr th {\n",
              "        vertical-align: top;\n",
              "    }\n",
              "\n",
              "    .dataframe thead th {\n",
              "        text-align: right;\n",
              "    }\n",
              "</style>\n",
              "<table border=\"1\" class=\"dataframe\">\n",
              "  <thead>\n",
              "    <tr style=\"text-align: right;\">\n",
              "      <th></th>\n",
              "      <th>qid</th>\n",
              "      <th>docid</th>\n",
              "    </tr>\n",
              "  </thead>\n",
              "  <tbody>\n",
              "    <tr>\n",
              "      <th>0</th>\n",
              "      <td>0</td>\n",
              "      <td>18850</td>\n",
              "    </tr>\n",
              "    <tr>\n",
              "      <th>1</th>\n",
              "      <td>1</td>\n",
              "      <td>14255</td>\n",
              "    </tr>\n",
              "    <tr>\n",
              "      <th>2</th>\n",
              "      <td>2</td>\n",
              "      <td>308938</td>\n",
              "    </tr>\n",
              "  </tbody>\n",
              "</table>\n",
              "</div>"
            ],
            "text/plain": [
              "   qid   docid\n",
              "0    0   18850\n",
              "1    1   14255\n",
              "2    2  308938"
            ]
          },
          "metadata": {
            "tags": []
          },
          "execution_count": 10
        }
      ]
    },
    {
      "cell_type": "markdown",
      "metadata": {
        "id": "at_GmgPpmpdt",
        "colab_type": "text"
      },
      "source": [
        "# Subamostragem\n",
        "> um pedaço do dataset, motivo: conseguir treinar mais rápido."
      ]
    },
    {
      "cell_type": "markdown",
      "metadata": {
        "id": "RqYIDCfYpDvU",
        "colab_type": "text"
      },
      "source": [
        "### Subsamostragem das labels"
      ]
    },
    {
      "cell_type": "code",
      "metadata": {
        "id": "U-JPB26smsmZ",
        "colab_type": "code",
        "colab": {
          "base_uri": "https://localhost:8080/",
          "height": 210
        },
        "outputId": "1f3af54a-8bb3-441d-c92d-a88798bb0616"
      },
      "source": [
        "df_labels_sub = df_labels[:300] \n",
        "\n",
        "questions_sub = list(set(df_labels_sub.qid.to_list()))\n",
        "docs_rel = list(set(df_labels_sub.docid.to_list()))\n",
        "print(f'Qtde de questions subsampling: {len(questions_sub)}')\n",
        "print(f'Qtde de docs rel. subsampling: {len(docs_rel)}')\n",
        "\n",
        "print(f'df_labels_sub shape: {df_labels_sub.shape}\\n')\n",
        "df_labels_sub.head(3)"
      ],
      "execution_count": null,
      "outputs": [
        {
          "output_type": "stream",
          "text": [
            "Qtde de questions subsampling: 160\n",
            "Qtde de docs rel. subsampling: 300\n",
            "df_labels_sub shape: (300, 2)\n",
            "\n"
          ],
          "name": "stdout"
        },
        {
          "output_type": "execute_result",
          "data": {
            "text/html": [
              "<div>\n",
              "<style scoped>\n",
              "    .dataframe tbody tr th:only-of-type {\n",
              "        vertical-align: middle;\n",
              "    }\n",
              "\n",
              "    .dataframe tbody tr th {\n",
              "        vertical-align: top;\n",
              "    }\n",
              "\n",
              "    .dataframe thead th {\n",
              "        text-align: right;\n",
              "    }\n",
              "</style>\n",
              "<table border=\"1\" class=\"dataframe\">\n",
              "  <thead>\n",
              "    <tr style=\"text-align: right;\">\n",
              "      <th></th>\n",
              "      <th>qid</th>\n",
              "      <th>docid</th>\n",
              "    </tr>\n",
              "  </thead>\n",
              "  <tbody>\n",
              "    <tr>\n",
              "      <th>0</th>\n",
              "      <td>0</td>\n",
              "      <td>18850</td>\n",
              "    </tr>\n",
              "    <tr>\n",
              "      <th>1</th>\n",
              "      <td>1</td>\n",
              "      <td>14255</td>\n",
              "    </tr>\n",
              "    <tr>\n",
              "      <th>2</th>\n",
              "      <td>2</td>\n",
              "      <td>308938</td>\n",
              "    </tr>\n",
              "  </tbody>\n",
              "</table>\n",
              "</div>"
            ],
            "text/plain": [
              "   qid   docid\n",
              "0    0   18850\n",
              "1    1   14255\n",
              "2    2  308938"
            ]
          },
          "metadata": {
            "tags": []
          },
          "execution_count": 11
        }
      ]
    },
    {
      "cell_type": "markdown",
      "metadata": {
        "id": "ifGodLsao9z5",
        "colab_type": "text"
      },
      "source": [
        "### Subsamostragem dos documentos/respostas"
      ]
    },
    {
      "cell_type": "code",
      "metadata": {
        "id": "90vSst_emseW",
        "colab_type": "code",
        "colab": {
          "base_uri": "https://localhost:8080/",
          "height": 159
        },
        "outputId": "8f787f56-791b-4ca8-9c41-d9db042bb229"
      },
      "source": [
        "# docs irrelevantes (não é reposta de nenhum qid)\n",
        "noise_docs = df_docs[~df_docs.docid.isin(docs_rel)][:2000]\n",
        "\n",
        "# docs relevantes é reposta de alguma qid\n",
        "docs_with_answer = df_docs[df_docs.docid.isin(docs_rel)]\n",
        "\n",
        "# subsampling docs: (docs rel. + docs irrel.)\n",
        "df_docs_sub = pd.concat((docs_with_answer, noise_docs), axis=0)\n",
        "\n",
        "# dict com codid -> doc\n",
        "docid_to_text = {k:v for k,v in zip(df_docs.docid.to_list(), df_docs.doc.to_list())}\n",
        "print(f'df_docs_sub shape: {df_docs_sub.shape}')\n",
        "df_docs_sub.head(3)"
      ],
      "execution_count": null,
      "outputs": [
        {
          "output_type": "stream",
          "text": [
            "df_docs_sub shape: (2300, 3)\n"
          ],
          "name": "stdout"
        },
        {
          "output_type": "execute_result",
          "data": {
            "text/html": [
              "<div>\n",
              "<style scoped>\n",
              "    .dataframe tbody tr th:only-of-type {\n",
              "        vertical-align: middle;\n",
              "    }\n",
              "\n",
              "    .dataframe tbody tr th {\n",
              "        vertical-align: top;\n",
              "    }\n",
              "\n",
              "    .dataframe thead th {\n",
              "        text-align: right;\n",
              "    }\n",
              "</style>\n",
              "<table border=\"1\" class=\"dataframe\">\n",
              "  <thead>\n",
              "    <tr style=\"text-align: right;\">\n",
              "      <th></th>\n",
              "      <th>docid</th>\n",
              "      <th>doc</th>\n",
              "      <th>timestamp</th>\n",
              "    </tr>\n",
              "  </thead>\n",
              "  <tbody>\n",
              "    <tr>\n",
              "      <th>1230</th>\n",
              "      <td>13013</td>\n",
              "      <td>There are a number of mutual funds which claim...</td>\n",
              "      <td>Aug 25 '15 at 20:04</td>\n",
              "    </tr>\n",
              "    <tr>\n",
              "      <th>1338</th>\n",
              "      <td>14255</td>\n",
              "      <td>Yes you can claim your business deductions if ...</td>\n",
              "      <td>May 14 '14 at 8:07</td>\n",
              "    </tr>\n",
              "    <tr>\n",
              "      <th>1795</th>\n",
              "      <td>18792</td>\n",
              "      <td>You are confining the way you and the other co...</td>\n",
              "      <td>Feb 20 at 22:47</td>\n",
              "    </tr>\n",
              "  </tbody>\n",
              "</table>\n",
              "</div>"
            ],
            "text/plain": [
              "      docid  ...            timestamp\n",
              "1230  13013  ...  Aug 25 '15 at 20:04\n",
              "1338  14255  ...   May 14 '14 at 8:07\n",
              "1795  18792  ...      Feb 20 at 22:47\n",
              "\n",
              "[3 rows x 3 columns]"
            ]
          },
          "metadata": {
            "tags": []
          },
          "execution_count": 24
        }
      ]
    },
    {
      "cell_type": "markdown",
      "metadata": {
        "colab_type": "text",
        "id": "G5hWPtiBqBpg"
      },
      "source": [
        "### Subsamostragem das questões"
      ]
    },
    {
      "cell_type": "code",
      "metadata": {
        "colab_type": "code",
        "id": "D9eoOM9JqBpm",
        "colab": {
          "base_uri": "https://localhost:8080/",
          "height": 159
        },
        "outputId": "044a46b3-f8a6-4d12-ab31-d6909fa93980"
      },
      "source": [
        "df_questions_sub = df_questions[df_questions.qid.isin(questions_sub)]\n",
        "\n",
        "# dict com qid -> question\n",
        "qid_to_text = {k:v for k,v in zip(df_questions.qid.to_list(), df_questions.question.to_list())}\n",
        "print(f'df_questions_sub shape: {df_questions_sub.shape}')\n",
        "df_questions_sub.head(3)"
      ],
      "execution_count": null,
      "outputs": [
        {
          "output_type": "stream",
          "text": [
            "df_questions_sub shape: (160, 3)\n"
          ],
          "name": "stdout"
        },
        {
          "output_type": "execute_result",
          "data": {
            "text/html": [
              "<div>\n",
              "<style scoped>\n",
              "    .dataframe tbody tr th:only-of-type {\n",
              "        vertical-align: middle;\n",
              "    }\n",
              "\n",
              "    .dataframe tbody tr th {\n",
              "        vertical-align: top;\n",
              "    }\n",
              "\n",
              "    .dataframe thead th {\n",
              "        text-align: right;\n",
              "    }\n",
              "</style>\n",
              "<table border=\"1\" class=\"dataframe\">\n",
              "  <thead>\n",
              "    <tr style=\"text-align: right;\">\n",
              "      <th></th>\n",
              "      <th>qid</th>\n",
              "      <th>question</th>\n",
              "      <th>timestamp</th>\n",
              "    </tr>\n",
              "  </thead>\n",
              "  <tbody>\n",
              "    <tr>\n",
              "      <th>0</th>\n",
              "      <td>0</td>\n",
              "      <td>What is considered a business expense on a bus...</td>\n",
              "      <td>Nov 8 '11 at 15:14</td>\n",
              "    </tr>\n",
              "    <tr>\n",
              "      <th>1</th>\n",
              "      <td>1</td>\n",
              "      <td>Claiming business expenses for a business with...</td>\n",
              "      <td>May 13 '14 at 13:17</td>\n",
              "    </tr>\n",
              "    <tr>\n",
              "      <th>2</th>\n",
              "      <td>2</td>\n",
              "      <td>Transferring money from One business checking ...</td>\n",
              "      <td>Jan 20 '16 at 20:31</td>\n",
              "    </tr>\n",
              "  </tbody>\n",
              "</table>\n",
              "</div>"
            ],
            "text/plain": [
              "   qid                                           question            timestamp\n",
              "0    0  What is considered a business expense on a bus...   Nov 8 '11 at 15:14\n",
              "1    1  Claiming business expenses for a business with...  May 13 '14 at 13:17\n",
              "2    2  Transferring money from One business checking ...  Jan 20 '16 at 20:31"
            ]
          },
          "metadata": {
            "tags": []
          },
          "execution_count": 25
        }
      ]
    },
    {
      "cell_type": "markdown",
      "metadata": {
        "id": "rPvKVKysmr_D",
        "colab_type": "text"
      },
      "source": [
        "# Prep data"
      ]
    },
    {
      "cell_type": "markdown",
      "metadata": {
        "id": "d97wg7X-2iuu",
        "colab_type": "text"
      },
      "source": [
        "## Agrupando os labels por qid"
      ]
    },
    {
      "cell_type": "code",
      "metadata": {
        "id": "IspWgUXY2imL",
        "colab_type": "code",
        "colab": {
          "base_uri": "https://localhost:8080/",
          "height": 419
        },
        "outputId": "779fecd3-f222-463c-ee81-493dce638a8d"
      },
      "source": [
        "df_labels_sub = df_labels_sub.assign(qid = df_labels_sub.qid.apply(lambda x: int(x)))\n",
        "df_labels_sub = df_labels_sub.assign(docid = df_labels_sub.docid.apply(lambda x: int(x)))\n",
        "\n",
        "labels_group = df_labels_sub.groupby(['qid']).agg(lambda x: tuple(x)).applymap(list).reset_index()\n",
        "\n",
        "TRAIN_SIZE = 130 # simples slit do dataset\n",
        "\n",
        "train_data = labels_group[:TRAIN_SIZE]\n",
        "labels_train = {k:v for k,v in zip(train_data.qid.to_list(), train_data.docid.to_list())}\n",
        "\n",
        "valid_data = labels_group[TRAIN_SIZE:] \n",
        "labels_valid = {k:v for k,v in zip(valid_data.qid.to_list(), valid_data.docid.to_list())}\n",
        "\n",
        "train_data"
      ],
      "execution_count": null,
      "outputs": [
        {
          "output_type": "execute_result",
          "data": {
            "text/html": [
              "<div>\n",
              "<style scoped>\n",
              "    .dataframe tbody tr th:only-of-type {\n",
              "        vertical-align: middle;\n",
              "    }\n",
              "\n",
              "    .dataframe tbody tr th {\n",
              "        vertical-align: top;\n",
              "    }\n",
              "\n",
              "    .dataframe thead th {\n",
              "        text-align: right;\n",
              "    }\n",
              "</style>\n",
              "<table border=\"1\" class=\"dataframe\">\n",
              "  <thead>\n",
              "    <tr style=\"text-align: right;\">\n",
              "      <th></th>\n",
              "      <th>qid</th>\n",
              "      <th>docid</th>\n",
              "    </tr>\n",
              "  </thead>\n",
              "  <tbody>\n",
              "    <tr>\n",
              "      <th>0</th>\n",
              "      <td>0</td>\n",
              "      <td>[18850]</td>\n",
              "    </tr>\n",
              "    <tr>\n",
              "      <th>1</th>\n",
              "      <td>1</td>\n",
              "      <td>[14255]</td>\n",
              "    </tr>\n",
              "    <tr>\n",
              "      <th>2</th>\n",
              "      <td>2</td>\n",
              "      <td>[308938]</td>\n",
              "    </tr>\n",
              "    <tr>\n",
              "      <th>3</th>\n",
              "      <td>3</td>\n",
              "      <td>[296717, 100764, 314352, 146317]</td>\n",
              "    </tr>\n",
              "    <tr>\n",
              "      <th>4</th>\n",
              "      <td>4</td>\n",
              "      <td>[196463]</td>\n",
              "    </tr>\n",
              "    <tr>\n",
              "      <th>...</th>\n",
              "      <td>...</td>\n",
              "      <td>...</td>\n",
              "    </tr>\n",
              "    <tr>\n",
              "      <th>125</th>\n",
              "      <td>468</td>\n",
              "      <td>[498927, 536760]</td>\n",
              "    </tr>\n",
              "    <tr>\n",
              "      <th>126</th>\n",
              "      <td>469</td>\n",
              "      <td>[250939, 549432]</td>\n",
              "    </tr>\n",
              "    <tr>\n",
              "      <th>127</th>\n",
              "      <td>470</td>\n",
              "      <td>[45078]</td>\n",
              "    </tr>\n",
              "    <tr>\n",
              "      <th>128</th>\n",
              "      <td>471</td>\n",
              "      <td>[158122, 494625]</td>\n",
              "    </tr>\n",
              "    <tr>\n",
              "      <th>129</th>\n",
              "      <td>472</td>\n",
              "      <td>[337071]</td>\n",
              "    </tr>\n",
              "  </tbody>\n",
              "</table>\n",
              "<p>130 rows × 2 columns</p>\n",
              "</div>"
            ],
            "text/plain": [
              "     qid                             docid\n",
              "0      0                           [18850]\n",
              "1      1                           [14255]\n",
              "2      2                          [308938]\n",
              "3      3  [296717, 100764, 314352, 146317]\n",
              "4      4                          [196463]\n",
              "..   ...                               ...\n",
              "125  468                  [498927, 536760]\n",
              "126  469                  [250939, 549432]\n",
              "127  470                           [45078]\n",
              "128  471                  [158122, 494625]\n",
              "129  472                          [337071]\n",
              "\n",
              "[130 rows x 2 columns]"
            ]
          },
          "metadata": {
            "tags": []
          },
          "execution_count": 44
        }
      ]
    },
    {
      "cell_type": "markdown",
      "metadata": {
        "id": "1WfovQic_PYS",
        "colab_type": "text"
      },
      "source": [
        "#### Se o docid para uma query possui mais de um elemento na lista, vamos sortear as respostas candidadas com relação ao tamanho da lista"
      ]
    },
    {
      "cell_type": "code",
      "metadata": {
        "id": "8HImUUdmkMO0",
        "colab_type": "code",
        "colab": {
          "base_uri": "https://localhost:8080/",
          "height": 34
        },
        "outputId": "14c191b3-0e81-414b-e524-a4b5b40f9be5"
      },
      "source": [
        "def make_dataset(df, number_of_cands=30):\n",
        "    # num. de candidatos por amostra\n",
        "    K = number_of_cands\n",
        "\n",
        "    # dataset \n",
        "    df_ = df.copy() # cols: df[['qid'], ['docid']]\n",
        "\n",
        "    # lista que armazenará o shape final do dataset\n",
        "    data = []\n",
        "\n",
        "    # candidatos a resposta\n",
        "    cands_dataset = []\n",
        "\n",
        "    # para cada linha do df...\n",
        "    for i, row_data in enumerate(df_.iterrows()):\n",
        "\n",
        "        cands_dataset = []\n",
        "        \n",
        "        # sorteia cands aleatórias  \n",
        "        docs_choice = list(np.random.choice(df_docs.docid, 2 * K, replace=False))\n",
        "        \n",
        "        # adiciona as cands na lista \n",
        "        cands_dataset.extend(docs_choice)\n",
        "        \n",
        "        # anexa os labels na lista faz o set, emaralha e trunca em K\n",
        "        set_list_cands = list(set(row_data[1].docid + cands_dataset))\n",
        "        \n",
        "        cands = random.sample(set_list_cands, len(set_list_cands))[:K]\n",
        "\n",
        "        # descarta as amostras que não possuem o número de cands = K  \n",
        "        if len(cands) == K:    \n",
        "            data.append([row_data[1].qid, row_data[1].docid, cands])\n",
        "\n",
        "    return data # list [[qid], [labels], [cands]]    \n",
        "\n",
        "#---------------------------------------------\n",
        "data_train = make_dataset(train_data, 40)\n",
        "data_valid = make_dataset(valid_data, 40)\n",
        "data_train.pop(116)\n",
        "print(f'Amostras de treino: {len(data_train)} -- Amostras de valid: {len(data_valid)}')        "
      ],
      "execution_count": null,
      "outputs": [
        {
          "output_type": "stream",
          "text": [
            "Amostras de treino: 129 -- Amostras de valid: 30\n"
          ],
          "name": "stdout"
        }
      ]
    },
    {
      "cell_type": "markdown",
      "metadata": {
        "id": "wvO084z38ClS",
        "colab_type": "text"
      },
      "source": [
        "# Estudo do tam. das amostras do dataset"
      ]
    },
    {
      "cell_type": "code",
      "metadata": {
        "id": "9yw7pIP972pL",
        "colab_type": "code",
        "colab": {
          "base_uri": "https://localhost:8080/",
          "height": 68
        },
        "outputId": "c95f9920-70e3-4e74-cb9c-17744768c846"
      },
      "source": [
        "def get_input_tokenized_lenghts(dataset):\n",
        "\n",
        "    # remove o warning do log\n",
        "    logging.getLogger(\"transformers.tokenization_utils_base\").setLevel(logging.ERROR)\n",
        "\n",
        "    lengths = []\n",
        "\n",
        "    for i, seq in enumerate(dataset):\n",
        "        qid, ans_labels, cands = seq[0], seq[1], seq[2]\n",
        "\n",
        "        # Mapeia o id da pergunta para o texto\n",
        "        q_text = qid_to_text[qid]\n",
        "\n",
        "        # Para cada id de resposta em respostas candidatas\n",
        "        for docid in cands:\n",
        "            # Mapeia o docid para o texto\n",
        "            ans_text = docid_to_text[docid]\n",
        "            input_ids = tokenizer.encode(\n",
        "                q_text, \n",
        "                ans_text,\n",
        "                add_special_tokens = True)\n",
        "\n",
        "            lengths.append(len(input_ids))\n",
        "    return lengths\n",
        "\n",
        "#-----------------------------------------------------\n",
        "lengths = get_input_tokenized_lenghts(data_train)\n",
        "\n",
        "print(f' comp. Min: {min(lengths):>8} tokens')\n",
        "print(f' comp. Max: {max(lengths):>8} tokens')\n",
        "print(f' comp. Mediano: {np.median(lengths):,} tokens')"
      ],
      "execution_count": null,
      "outputs": [
        {
          "output_type": "stream",
          "text": [
            "   comp. Min:     18 tokens\n",
            "   comp. Max:    2675 tokens\n",
            "   comp. Mediano: 132.0 tokens\n"
          ],
          "name": "stdout"
        }
      ]
    },
    {
      "cell_type": "code",
      "metadata": {
        "id": "d00F_Hfh9O7v",
        "colab_type": "code",
        "colab": {
          "base_uri": "https://localhost:8080/",
          "height": 372
        },
        "outputId": "a7999558-449f-48d5-8d1b-a41c6acab2d7"
      },
      "source": [
        "sns.set(style='darkgrid')\n",
        "\n",
        "sns.set(font_scale=1.5)\n",
        "plt.rcParams[\"figure.figsize\"] = (10,5)\n",
        "\n",
        "trunc_lengths = [min(l, 512) for l in lengths]\n",
        "\n",
        "sns.distplot(trunc_lengths, kde=False, rug=False)\n",
        "\n",
        "plt.title('Comprimento da Sequencia, truncado em 512')\n",
        "plt.xlabel('Comprimento da Sequencia')\n",
        "plt.ylabel('# de Exemplos')\n",
        "plt.show()"
      ],
      "execution_count": null,
      "outputs": [
        {
          "output_type": "display_data",
          "data": {
            "image/png": "[encoded data removed]",
            "text/plain": [
              "<Figure size 720x360 with 1 Axes>"
            ]
          },
          "metadata": {
            "tags": []
          }
        }
      ]
    },
    {
      "cell_type": "code",
      "metadata": {
        "id": "fUM7CjV69cSg",
        "colab_type": "code",
        "colab": {
          "base_uri": "https://localhost:8080/",
          "height": 136
        },
        "outputId": "4aedcc7b-b029-493c-c36b-f98f634da505"
      },
      "source": [
        "lengths = np.asarray(lengths)\n",
        "\n",
        "num_comments = len(lengths)\n",
        "max_lens = [128, 256, 300, 384, 512]\n",
        "\n",
        "print('Quantas entradas serão truncadas?\\n')\n",
        "\n",
        "for max_len in max_lens:\n",
        "    num_over = np.sum(lengths > max_len)\n",
        "    prcnt_over = float(num_over) / float(num_comments)\n",
        "    print(f'max_len = {max_len:} --> {num_over:>5,} de ' \\\n",
        "    f'{num_comments:>5,}  ({prcnt_over:>5.1%}) serão truncadas')"
      ],
      "execution_count": null,
      "outputs": [
        {
          "output_type": "stream",
          "text": [
            "Quantas entradas serão truncadas?\n",
            "\n",
            "max_len = 128 --> 2,661 de 5,160  (51.6%) serão truncadas\n",
            "max_len = 256 --> 1,086 de 5,160  (21.0%) serão truncadas\n",
            "max_len = 300 -->   809 de 5,160  (15.7%) serão truncadas\n",
            "max_len = 384 -->   510 de 5,160  ( 9.9%) serão truncadas\n",
            "max_len = 512 -->   227 de 5,160  ( 4.4%) serão truncadas\n"
          ],
          "name": "stdout"
        }
      ]
    },
    {
      "cell_type": "code",
      "metadata": {
        "id": "i-d-fYDVjTtA",
        "colab_type": "code",
        "colab": {
          "base_uri": "https://localhost:8080/",
          "height": 71
        },
        "outputId": "6050decd-8708-4c33-e967-9a5e8dca399a"
      },
      "source": [
        "def get_input_data(dataset, max_seq_len=384):\n",
        "    all_input_ids, attention_masks, segment_ids, labels = [], [], [], []\n",
        "    \n",
        "    # remove o warning do log\n",
        "    logging.getLogger(\"transformers.tokenization_utils_base\").setLevel(logging.ERROR)\n",
        "\n",
        "    for i, seq in enumerate(dataset):\n",
        "\n",
        "        qid, ans_labels, cands = seq[0], seq[1], seq[2]\n",
        "\n",
        "        # Mapeia a questão para o texto\n",
        "        q_text = qid_to_text[qid]\n",
        "\n",
        "        # Para cada resposta naas candidatas...\n",
        "        for docid in cands:\n",
        "            # Mapeia o docid para o texto\n",
        "            ans_text = docid_to_text[docid]\n",
        "            \n",
        "            # Codifica a sequencia usanso o tokenizador\n",
        "            encoded_seq = tokenizer.encode_plus(\n",
        "                q_text, \n",
        "                ans_text,\n",
        "                max_length=max_seq_len,\n",
        "                pad_to_max_length=True,\n",
        "                return_token_type_ids=True,\n",
        "                return_attention_mask=True,\n",
        "                return_tensors = 'pt'\n",
        "                )\n",
        "\n",
        "            # Se uma resposta na lista é relevante é um label positivo\n",
        "            if docid in ans_labels:\n",
        "                label = 1\n",
        "            # caso contrário é um label negativo\n",
        "            else:\n",
        "                label = 0\n",
        "            \n",
        "                \n",
        "            # Verifica se os tamanhos estão corretos\n",
        "            assert encoded_seq['input_ids'].shape[1] == max_seq_len, \"dim. do Input esta errada!\"\n",
        "            assert encoded_seq['token_type_ids'].shape[1] == max_seq_len, \"dim. do token_type_id esta errada!\"\n",
        "            assert encoded_seq['attention_mask'].shape[1] == max_seq_len, \"dim. da attention_mask esta errada!\"\n",
        "\n",
        "            all_input_ids.append(encoded_seq['input_ids'])\n",
        "            segment_ids.append(encoded_seq['token_type_ids'])\n",
        "            attention_masks.append(encoded_seq['attention_mask'])\n",
        "            labels.append(label)\n",
        "\n",
        "    all_input_ids = torch.cat(all_input_ids, dim=0)\n",
        "    attention_masks = torch.cat(attention_masks, dim=0)\n",
        "    segment_ids = torch.cat(segment_ids, dim=0)\n",
        "    \n",
        "    return all_input_ids, attention_masks, segment_ids, labels\n",
        "\n",
        "# teste de sanidade\n",
        "all_input_ids, attention_masks, segment_ids, labels = get_input_data(data_valid, 384)"
      ],
      "execution_count": null,
      "outputs": [
        {
          "output_type": "stream",
          "text": [
            "/usr/local/lib/python3.6/dist-packages/transformers/tokenization_utils_base.py:1770: FutureWarning: The `pad_to_max_length` argument is deprecated and will be removed in a future version, use `padding=True` or `padding='longest'` to pad to the longest sequence in the batch, or use `padding='max_length'` to pad to a max length. In this case, you can give a specific length with `max_length` (e.g. `max_length=45`) or leave max_length to None to pad to the maximal input size of the model (e.g. 512 for Bert).\n",
            "  FutureWarning,\n"
          ],
          "name": "stderr"
        }
      ]
    },
    {
      "cell_type": "code",
      "metadata": {
        "id": "AhP4rbjBn5Hc",
        "colab_type": "code",
        "colab": {
          "base_uri": "https://localhost:8080/",
          "height": 88
        },
        "outputId": "186c9787-2096-4019-e932-78626d8de447"
      },
      "source": [
        "MAX_LEN = 384\n",
        "BATCH_SZ = 16\n",
        "\n",
        "#-----------------------------------__DATASETS__-----------------------------------\n",
        "# cria o dataset de treino\n",
        "all_input_ids_T, attention_masks_T, segment_ids_T, labels_T = get_input_data(\n",
        "    data_train, \n",
        "    MAX_LEN\n",
        "    )\n",
        "\n",
        "ds_train = TensorDataset(\n",
        "    all_input_ids_T, \n",
        "    attention_masks_T, \n",
        "    segment_ids_T, \n",
        "    torch.tensor(labels_T)\n",
        "    )\n",
        "\n",
        "# cria o dataset de validação\n",
        "all_input_ids_V, attention_masks_V, segment_ids_V, labels_V = get_input_data(\n",
        "    data_valid, \n",
        "    MAX_LEN\n",
        "    )\n",
        "ds_val = TensorDataset(\n",
        "    all_input_ids_V, \n",
        "    attention_masks_V, \n",
        "    segment_ids_V, \n",
        "    torch.tensor(labels_V)\n",
        "    )\n",
        "\n",
        "#---------------------------------__DATALOADERS__----------------------------------\n",
        "\n",
        "# dataloader é um dict com chave train e val\n",
        "dataloaders = {\n",
        "     'train': DataLoader(\n",
        "         ds_train,\n",
        "         batch_size=BATCH_SZ,\n",
        "         sampler = RandomSampler(ds_train), # Seleciona batches randomicamente\n",
        "         num_workers=4,\n",
        "         pin_memory=True\n",
        "         ),\n",
        "               \n",
        "     'val': DataLoader(\n",
        "         ds_val,\n",
        "         batch_size=BATCH_SZ,\n",
        "         sampler = SequentialSampler(ds_val), # toma batches sequencialmente\n",
        "         num_workers=4,\n",
        "         pin_memory=True\n",
        "         ),\n",
        "     }\n",
        "\n",
        "# teste de sanidade\n",
        "dl_sizes = {x: len(dataloaders[x]) for x in dataloaders.keys()}\n",
        "dl_sizes "
      ],
      "execution_count": null,
      "outputs": [
        {
          "output_type": "stream",
          "text": [
            "/usr/local/lib/python3.6/dist-packages/transformers/tokenization_utils_base.py:1770: FutureWarning: The `pad_to_max_length` argument is deprecated and will be removed in a future version, use `padding=True` or `padding='longest'` to pad to the longest sequence in the batch, or use `padding='max_length'` to pad to a max length. In this case, you can give a specific length with `max_length` (e.g. `max_length=45`) or leave max_length to None to pad to the maximal input size of the model (e.g. 512 for Bert).\n",
            "  FutureWarning,\n"
          ],
          "name": "stderr"
        },
        {
          "output_type": "execute_result",
          "data": {
            "text/plain": [
              "{'train': 323, 'val': 75}"
            ]
          },
          "metadata": {
            "tags": []
          },
          "execution_count": 52
        }
      ]
    },
    {
      "cell_type": "code",
      "metadata": {
        "id": "NRlP5_KcwZpK",
        "colab_type": "code",
        "colab": {}
      },
      "source": [
        "def get_accuracy(preds, labels):\n",
        "\n",
        "    # Toma o label (coluna) com a maior probabilidade\n",
        "    predictions = np.argmax(preds, axis=1).flatten()\n",
        "    labels = labels.flatten()\n",
        "    \n",
        "    # Computa  a acc\n",
        "    accuracy = np.sum(predictions == labels) / len(labels)\n",
        "\n",
        "    return accuracy"
      ],
      "execution_count": null,
      "outputs": []
    },
    {
      "cell_type": "code",
      "metadata": {
        "id": "AhZRnEfPjTYW",
        "colab_type": "code",
        "colab": {}
      },
      "source": [
        "def train_model(model, device, train_dataloader, optimizer, scheduler):\n",
        "\n",
        "    # Acumula o a loss do treino e a acuracia\n",
        "    total_loss, train_accuracy = 0, 0\n",
        "    \n",
        "    # conta o num. de batches\n",
        "    num_steps = 0\n",
        "    \n",
        "    # coloca o modelo em modo treino\n",
        "    model.train()\n",
        "    \n",
        "    # Para cada batch no dadaset de treino...\n",
        "    for step, batch in enumerate(train_dataloader):\n",
        "\n",
        "        # Coloca os tensores na GPU\n",
        "        batch = tuple(t.to(device) for t in batch)\n",
        "\n",
        "        # Desempacota os inputs do dataloader\n",
        "        b_input_ids, b_input_masks, b_token_type_ids, b_labels = batch\n",
        "        \n",
        "        # Zera os gradientes\n",
        "        model.zero_grad()\n",
        "        \n",
        "        # Forward pass: o modelo irá retornar a loss e os logits\n",
        "        outputs = model(b_input_ids,\n",
        "                        token_type_ids = b_token_type_ids,\n",
        "                        attention_mask = b_input_masks,\n",
        "                        labels = b_labels)\n",
        "\n",
        "        # loss e predições\n",
        "        loss = outputs[0]\n",
        "        logits = outputs[1]\n",
        "        \n",
        "        # Move os logits e labels para CPU\n",
        "        logits = logits.detach().cpu().numpy()\n",
        "        label_ids = b_labels.to('cpu').numpy()\n",
        "\n",
        "        # Calcula a acuracia do batch\n",
        "        tmp_accuracy = get_accuracy(logits, label_ids)\n",
        "\n",
        "        # Accumula a acuracia total\n",
        "        train_accuracy += tmp_accuracy\n",
        "\n",
        "        # Conta os numeros de batches\n",
        "        num_steps += 1\n",
        "\n",
        "        # Accumula a loss de treinamento sobre todos os batches\n",
        "        total_loss += loss.item()\n",
        "\n",
        "        # Executa o backward pass para calcular os gradientes\n",
        "        loss.backward()\n",
        "\n",
        "        # Clipa o norma dos gradientes em 1.0, isso previne o problema \"exploding gradients\"\n",
        "        torch.nn.utils.clip_grad_norm_(model.parameters(), 1.0)\n",
        "\n",
        "        # Atualiza os parametros e toma um step no gradiente calculado\n",
        "        optimizer.step()\n",
        "\n",
        "        # Atualiza o scheduler\n",
        "        scheduler.step()\n",
        "\n",
        "    # Calcula a média da loss no conj. de treino\n",
        "    avg_loss = total_loss / len(train_dataloader)\n",
        "    avg_acc = train_accuracy/num_steps\n",
        "\n",
        "    return avg_loss, avg_acc"
      ],
      "execution_count": null,
      "outputs": []
    },
    {
      "cell_type": "code",
      "metadata": {
        "id": "za93hOsJjTPw",
        "colab_type": "code",
        "colab": {}
      },
      "source": [
        "def validate_model(model, device, validation_dataloader):\n",
        "\n",
        "    # Coloca o modelo em modo de avaliação\n",
        "    model.eval()\n",
        "\n",
        "    # Acumula a loss do conj. de valid e acuracia\n",
        "    total_loss, eval_accuracy = 0, 0\n",
        "\n",
        "    # conta o num. de batches\n",
        "    num_steps = 0\n",
        "\n",
        "    # Para cada batch no dadaset de treino...\n",
        "    for batch in validation_dataloader:\n",
        "        \n",
        "        # Coloca os tensores na GPU\n",
        "        batch = tuple(t.to(device) for t in batch)\n",
        "        \n",
        "        # Desempacota os inputs do dataloader\n",
        "        b_input_ids, b_input_masks, b_token_type_ids, b_labels = batch\n",
        "\n",
        "        # Não calcula os gradientes armazenados\n",
        "        with torch.no_grad():\n",
        "            outputs = model(b_input_ids,\n",
        "                            token_type_ids = b_token_type_ids,\n",
        "                            attention_mask = b_input_masks,\n",
        "                            labels= b_labels)\n",
        "        \n",
        "        # loss e logits\n",
        "        loss = outputs[0]\n",
        "        logits = outputs[1]\n",
        "        \n",
        "        # Move os logits e labels para CPU\n",
        "        logits = logits.detach().cpu().numpy()\n",
        "        label_ids = b_labels.to('cpu').numpy()\n",
        "\n",
        "        # Calcula a acuracia para o batch \n",
        "        tmp_eval_accuracy = get_accuracy(logits, label_ids)\n",
        "\n",
        "        # Accumula a acuracia total\n",
        "        eval_accuracy += tmp_eval_accuracy\n",
        "\n",
        "        # Conta o numeto de batches\n",
        "        num_steps += 1\n",
        "\n",
        "        total_loss += loss.item()\n",
        "\n",
        "    # Calcula a loss e acuracia\n",
        "    avg_loss = total_loss / len(validation_dataloader)\n",
        "    avg_acc = eval_accuracy/num_steps\n",
        "\n",
        "    return avg_loss, avg_acc"
      ],
      "execution_count": null,
      "outputs": []
    },
    {
      "cell_type": "code",
      "metadata": {
        "id": "oop4oVSB2kON",
        "colab_type": "code",
        "colab": {}
      },
      "source": [
        "# 'bert-qa': é o BERT do Rodrigo fine-tuned no MS Macro\n",
        "# 'finbert-domain': é o BERT pre-trainado no Araci (grande corpus financeiro)\n",
        "# 'finbert-task': é o BERT re-(pre-treinado) no FIQA\n",
        "\n",
        "bert_qa = '/content/drive/My Drive/Colab Notebooks/Colab Notebooks/BERT/FinBERT/models/bert-qa'\n",
        "finbert_domain = '/content/drive/My Drive/Colab Notebooks/Colab Notebooks/BERT/FinBERT/models/finbert-domain'\n",
        "finbert_task = '/content/drive/My Drive/Colab Notebooks/Colab Notebooks/BERT/FinBERT/models/finbert-task'\n",
        "\n",
        "# Carrega o BertForSequenceClassification - pre-trainado com uma camada linear no final\n",
        "model = BertForSequenceClassification.from_pretrained(finbert_task, cache_dir=None, num_labels=2)\n",
        "\n",
        "model.to(device)"
      ],
      "execution_count": null,
      "outputs": []
    },
    {
      "cell_type": "code",
      "metadata": {
        "id": "j5u6nRQJxqCo",
        "colab_type": "code",
        "colab": {
          "base_uri": "https://localhost:8080/",
          "height": 153
        },
        "outputId": "5b6320f0-3340-49c4-ec52-944421d449bf"
      },
      "source": [
        "start = torch.cuda.Event(enable_timing=True)\n",
        "end = torch.cuda.Event(enable_timing=True)\n",
        "#----------------------------------------------------------------\n",
        "deterministic()\n",
        "N_EPOCHS = 2\n",
        "optimizer = AdamW(model.parameters(), lr = 3e-6, eps = 1e-8)\n",
        "\n",
        "total_steps = len(dataloaders['train']) * N_EPOCHS\n",
        "\n",
        "scheduler = get_linear_schedule_with_warmup(\n",
        "    optimizer, \n",
        "    num_warmup_steps = 1_000,\n",
        "    num_training_steps = total_steps\n",
        "    )\n",
        "#----------------------------------------------------------------\n",
        "start.record()\n",
        "\n",
        "training_stats = []\n",
        "for epoch_i in range(1, N_EPOCHS+1):\n",
        "    loss_train, acc_train = train_model(\n",
        "        model, \n",
        "        device, \n",
        "        dataloaders['train'], \n",
        "        optimizer, \n",
        "        scheduler\n",
        "        )\n",
        "    loss_val, acc_val = validate_model(\n",
        "        model, \n",
        "        device, \n",
        "        dataloaders['val']\n",
        "        )\n",
        "    \n",
        "    print(f'\\nEpoca [{epoch_i}/{N_EPOCHS}] |', end=' ')\n",
        "    print(f'Loss Treino: {loss_train:.3f} -- Acc Treino: {acc_train:.3f} ---- \\\n",
        "Loss Valid: {loss_val:.3f} -- Acc Valid: {acc_val:.3}')\n",
        "\n",
        "    training_stats.append(\n",
        "        {\n",
        "            'epoch': epoch_i,\n",
        "            'Training Loss': loss_train,\n",
        "            'Training Acc': acc_train,\n",
        "            'Valid Loss': loss_val,\n",
        "            'Valid Acc': acc_val,\n",
        "        }\n",
        "    )\n",
        "\n",
        "end.record()\n",
        "torch.cuda.synchronize()    \n",
        "#------------------------------------------------------------------\n",
        "print(f'\\nFEITO!')\n",
        "print(f'Tempo gasto: {start.elapsed_time(end)/1000/60 :.3f} min.')"
      ],
      "execution_count": null,
      "outputs": [
        {
          "output_type": "stream",
          "text": [
            "Experimento deterministico, seed: 2357 -- Existe 1 GPU Tesla T4 disponível.\n",
            "\n",
            "Epoca [1/2] | Loss Treino: 0.392 -- Acc Treino: 0.911 ---- Loss Valid: 0.201 -- Acc Valid: 0.963\n",
            "\n",
            "Epoca [2/2] | Loss Treino: 0.111 -- Acc Treino: 0.978 ---- Loss Valid: 0.115 -- Acc Valid: 0.965\n",
            "\n",
            "FEITO!\n",
            "Tempo gasto: 12.945 min.\n"
          ],
          "name": "stdout"
        }
      ]
    },
    {
      "cell_type": "markdown",
      "metadata": {
        "id": "wmWzkAfaXKQp",
        "colab_type": "text"
      },
      "source": [
        "## Log do treino em dataframe"
      ]
    },
    {
      "cell_type": "code",
      "metadata": {
        "id": "XhvKvyeBXNvH",
        "colab_type": "code",
        "colab": {
          "base_uri": "https://localhost:8080/",
          "height": 142
        },
        "outputId": "ececb5ab-43c1-47ea-c728-d204a3a56f0d"
      },
      "source": [
        "df_stats = pd.DataFrame(data=training_stats)\n",
        "df_stats = df_stats.set_index('epoch')\n",
        "pd.set_option('precision', 3)\n",
        "df_stats"
      ],
      "execution_count": null,
      "outputs": [
        {
          "output_type": "execute_result",
          "data": {
            "text/html": [
              "<div>\n",
              "<style scoped>\n",
              "    .dataframe tbody tr th:only-of-type {\n",
              "        vertical-align: middle;\n",
              "    }\n",
              "\n",
              "    .dataframe tbody tr th {\n",
              "        vertical-align: top;\n",
              "    }\n",
              "\n",
              "    .dataframe thead th {\n",
              "        text-align: right;\n",
              "    }\n",
              "</style>\n",
              "<table border=\"1\" class=\"dataframe\">\n",
              "  <thead>\n",
              "    <tr style=\"text-align: right;\">\n",
              "      <th></th>\n",
              "      <th>Training Loss</th>\n",
              "      <th>Training Acc</th>\n",
              "      <th>Valid Loss</th>\n",
              "      <th>Valid Acc</th>\n",
              "    </tr>\n",
              "    <tr>\n",
              "      <th>epoch</th>\n",
              "      <th></th>\n",
              "      <th></th>\n",
              "      <th></th>\n",
              "      <th></th>\n",
              "    </tr>\n",
              "  </thead>\n",
              "  <tbody>\n",
              "    <tr>\n",
              "      <th>1</th>\n",
              "      <td>0.392</td>\n",
              "      <td>0.911</td>\n",
              "      <td>0.201</td>\n",
              "      <td>0.963</td>\n",
              "    </tr>\n",
              "    <tr>\n",
              "      <th>2</th>\n",
              "      <td>0.111</td>\n",
              "      <td>0.978</td>\n",
              "      <td>0.115</td>\n",
              "      <td>0.965</td>\n",
              "    </tr>\n",
              "  </tbody>\n",
              "</table>\n",
              "</div>"
            ],
            "text/plain": [
              "       Training Loss  Training Acc  Valid Loss  Valid Acc\n",
              "epoch                                                    \n",
              "1              0.392         0.911       0.201      0.963\n",
              "2              0.111         0.978       0.115      0.965"
            ]
          },
          "metadata": {
            "tags": []
          },
          "execution_count": 61
        }
      ]
    },
    {
      "cell_type": "markdown",
      "metadata": {
        "id": "J3Qppb1-nvRg",
        "colab_type": "text"
      },
      "source": [
        "# Avaliação dos resultados"
      ]
    },
    {
      "cell_type": "code",
      "metadata": {
        "id": "6npVgMDNewIW",
        "colab_type": "code",
        "colab": {}
      },
      "source": [
        "def predict(model, q_text, cands, max_seq_len=MAX_LEN):\n",
        "    \"\"\"\n",
        "    Re-ranqueia as respostas dos candidatos para cada pergunta.\n",
        "\n",
        "     Retorna:\n",
        "         ranked_ans: lista de docids candidatos re-classificados\n",
        "         sorted_scores: lista de pontuações de relevância das respostas\n",
        "     -------------------\n",
        "     Argumentos:\n",
        "         model - modelo PyTorch\n",
        "         q_text - str - query\n",
        "         cands - Lista de docids candidatos\n",
        "         max_seq_len - int\n",
        "     \"\"\"\n",
        "    # Converte a lista para numpy\n",
        "    cands_id = np.array(cands)\n",
        "    \n",
        "    scores = []\n",
        "    # Para cada respostas em cands...\n",
        "    for docid in cands:\n",
        "        # Mapeia o docid para o texto\n",
        "        ans_text = docid_to_text[docid]\n",
        "        # Cria os inputs para o modelo\n",
        "        encoded_seq = tokenizer.encode_plus(\n",
        "            q_text, \n",
        "            ans_text,\n",
        "            max_length=max_seq_len,\n",
        "            pad_to_max_length=True,\n",
        "            return_token_type_ids=True,\n",
        "            return_attention_mask = True\n",
        "            )\n",
        "\n",
        "        input_ids = torch.tensor([encoded_seq['input_ids']]).to(device)\n",
        "        token_type_ids = torch.tensor([encoded_seq['token_type_ids']]).to(device)\n",
        "        att_mask = torch.tensor([encoded_seq['attention_mask']]).to(device)\n",
        "        \n",
        "        with torch.no_grad():\n",
        "            # Forward pass, calcula as predições/logit para cada par QA\n",
        "            outputs = model(\n",
        "                input_ids, \n",
        "                attention_mask=att_mask,\n",
        "                token_type_ids=token_type_ids, \n",
        "                )\n",
        "        \n",
        "        # predições\n",
        "        logits = outputs[0]\n",
        "        \n",
        "        # Aplica a softmax\n",
        "        pred = softmax(logits, dim=1)\n",
        "        \n",
        "        # Move os logits e labels para CPU\n",
        "        pred = pred.detach().cpu().numpy()\n",
        "        \n",
        "        # Anexa os scores relevantes para lista (onde label = 1)\n",
        "        scores.append(pred[:,1][0])\n",
        "        \n",
        "        # Obtenha os índices dos scores de similaridade ordenados\n",
        "        sorted_index = np.argsort(scores)[::-1]\n",
        "        \n",
        "        # Obtenha uma lista de docid vindo dos indices ordenados\n",
        "        ranked_ans = list(cands_id[sorted_index])\n",
        "        sorted_scores = list(np.around(sorted(scores, reverse=True),decimals=3))\n",
        "\n",
        "    return ranked_ans, sorted_scores"
      ],
      "execution_count": null,
      "outputs": []
    },
    {
      "cell_type": "code",
      "metadata": {
        "id": "xRSvaM8BEvH8",
        "colab_type": "code",
        "colab": {}
      },
      "source": [
        "def get_rank(model, test_set, max_seq_len=MAX_LEN):\n",
        "    \"\"\"\n",
        "    Re-ranqueia as respostas candidatas para cada pergunta.\n",
        "\n",
        "     Retorna:\n",
        "         qid_pred_rank: Dicionário\n",
        "             key - qid\n",
        "             value - lista de candidatos re-ranqueados\n",
        "     -------------------\n",
        "     Argumentos:\n",
        "         model - modelo PyTorch\n",
        "         test_set Lista de listas\n",
        "         max_seq_len - int\n",
        "     \"\"\"\n",
        "    \n",
        "    qid_pred_rank = {}\n",
        "    \n",
        "    # Configura o modelo para o modo evaluation\n",
        "    model.eval()\n",
        "    \n",
        "    # Para cada elmento no conj. de test\n",
        "    for i, seq in enumerate(test_set):\n",
        "        qid, label, cands = seq[0], seq[1], seq[2]\n",
        "        # Mapeia o id da questão para o texto\n",
        "        q_text = qid_to_text[qid]\n",
        "\n",
        "        # Lista de docids re-ranqueados com suas correspondentes probabilidades\n",
        "        ranked_ans, sorted_scores = predict(model, q_text, cands, max_seq_len)\n",
        "\n",
        "        # Dicionaro com key=qid e value=lista ranqueada de docids\n",
        "        qid_pred_rank[qid] = ranked_ans\n",
        "\n",
        "    return qid_pred_rank"
      ],
      "execution_count": null,
      "outputs": []
    },
    {
      "cell_type": "code",
      "metadata": {
        "id": "87o1pY7xUZUB",
        "colab_type": "code",
        "colab": {}
      },
      "source": [
        "def get_rel(labels, cands):\n",
        "    \"\"\"\n",
        "    Obtem posições relevantes dos acertos.\n",
        "\n",
        "     Retorna: Lista de 0s e 1s que incidem em uma resposta relevante\n",
        "     -------------------\n",
        "     Argumentos:\n",
        "         labels: lista de docids relevantes\n",
        "         cands: Lista de candidatos a docids\n",
        "     \"\"\"\n",
        "    rel = []\n",
        "    for cand in cands:\n",
        "        if cand in labels:\n",
        "            rel.append(1)\n",
        "        else:\n",
        "            rel.append(0)\n",
        "\n",
        "    return rel\n",
        "\n",
        "def dcg(rels, k):\n",
        "    \"\"\"\n",
        "     Ganho cumulativo com desconto. Calcula o DCG acumulado do top-k\n",
        "     documentos relevantes em todas as queries.\n",
        "\n",
        "     Retorna:\n",
        "         cumulated_sum: float - DCG acumulado\n",
        "     ----------\n",
        "     Argumentos:\n",
        "         rels: lista\n",
        "             Lista de pontuações relevantes de 0 ou 1, por exemplo [0, 1, 0, 1]\n",
        "         k: int\n",
        "             Top-k documentos relevantes\n",
        "     \"\"\"\n",
        "    cumulated_sum = rels[0]\n",
        "    for i in range(1, k):\n",
        "        cumulated_sum += rels[i]/math.log(i+1,2)\n",
        "    return cumulated_sum\n",
        "\n",
        "def avg_ndcg(rel_score, k):\n",
        "    \"\"\"\n",
        "     Ganho Cumulativo Descontado Normalizado Médio. Calcula o DCG, iDCG e\n",
        "     nDCG para cada consulta e retorna o nDCG médio em todas as queries.\n",
        "\n",
        "     Retorna:\n",
        "         avg: float - nDCG médio\n",
        "     ----------\n",
        "     Argumentos:\n",
        "         rel_score: dicionário\n",
        "             chave - id da pergunta\n",
        "             valor - lista de pontuações de relevância com 1 (relevante) e 0 (irrelevante)\n",
        "             por exemplo. {0: [0, 1, 0], 1: [1, 1, 0]}\n",
        "         k: int\n",
        "             Top-k documentos relevantes\n",
        "     \"\"\"\n",
        "    ndcg_list = []\n",
        "    for qid, rels in rel_score.items():\n",
        "        # Computa DCG para cada pergunta\n",
        "        dcg_val = dcg(rels, k)\n",
        "        sorted_rel = sorted(rels, reverse=True)\n",
        "        # Computa iDCG para cada pergunta\n",
        "        idcg_val = dcg(sorted_rel, k)\n",
        "\n",
        "        try:\n",
        "            ndcg_val = dcg_val/idcg_val\n",
        "            ndcg_list.append(ndcg_val)\n",
        "        except ZeroDivisionError:\n",
        "            ndcg_list.append(0)\n",
        "\n",
        "    assert len(ndcg_list) == len(rel_score), \"Pontuação relevante não casa/combina\"\n",
        "\n",
        "    # Obtem a média nDCG para todas queries\n",
        "    avg = mean(ndcg_list)\n",
        "\n",
        "    return avg\n",
        "\n",
        "def compute_RR(cand_docs, rel_docs, cumulated_reciprocal_rank, rank_pos, k):\n",
        "   \"\"\"\n",
        "     Calcula a classificação recíproca - probabilidade de correção da classificação. \n",
        "     Retorna a classificação recíproca acumulada em todas as queries e as posições do\n",
        "     documentos relevantes nos candidatos.\n",
        "\n",
        "     Retorna:\n",
        "         cumulated_reciprocal_rank: float - classificação recíproca acumulada em \n",
        "         todas as queries\n",
        "         rank_pos: list - índice dos documentos relevantes nos candidatos\n",
        "     ----------\n",
        "     Argumentos:\n",
        "         cand_docs: list\n",
        "             Lista de docids classificados para uma pergunta\n",
        "         rel_docs: list\n",
        "             Lista da relevância dos docids para uma pergunta\n",
        "         cumulated_reciprocal_rank: int\n",
        "             Valor inicial = 0\n",
        "         rank_pos: list\n",
        "             Lista inicial = []\n",
        "         k: int\n",
        "             Top-k documentos relevantes\n",
        "     \"\"\"\n",
        "\n",
        "    for i in range(0, k):\n",
        "        # Se o doc_id do top-k passagens candidatas com melhor classificação estiver \n",
        "        # na lista de passagens relevantes\n",
        "        if cand_docs[i] in rel_docs:\n",
        "            # Computa a classificação recíproca (i é a classificação)\n",
        "            rank_pos.append(i+1)\n",
        "            cumulated_reciprocal_rank += 1/(i+1)\n",
        "            break\n",
        "\n",
        "    return cumulated_reciprocal_rank, rank_pos\n",
        "\n",
        "def create_qid_pred_rank(test_set):\n",
        "    \"\"\"\n",
        "     Cria dicionário de qid e lista de candidatos do conjunto de teste.\n",
        "\n",
        "     Retorna:\n",
        "         qid_pred_rank: dicionário\n",
        "             chave - qid\n",
        "             valor - lista de candidatos\n",
        "     ----------\n",
        "     Argumentos:\n",
        "         test_set: list\n",
        "             [[qid, [docids positivos], [lista de candidatos]]]\n",
        "     \"\"\"\n",
        "    qid_pred_rank = {}\n",
        "\n",
        "    for row in test_set:\n",
        "        qid_pred_rank[row[0]] = row[2]\n",
        "\n",
        "    return qid_pred_rank\n",
        "\n",
        "def evaluate(qid_ranked_docs, qid_rel, k):\n",
        "    \"\"\"\n",
        "     Calcula o MRR@k, nDCG@k médio e precision@k1\n",
        "\n",
        "     Retorna:\n",
        "         MRR: float\n",
        "         average_ndcg: float\n",
        "         avg_precision: float\n",
        "         r_pos: int\n",
        "     ----------\n",
        "     Argumentos:\n",
        "         qid_ranked_docs: dicionário\n",
        "             chave - qid\n",
        "             valor - lista de cand ans\n",
        "         qid_rel: dicionario\n",
        "             key- qid\n",
        "             valor - lista de documentos relevantes\n",
        "     \"\"\"\n",
        "    \n",
        "    cumulated_reciprocal_rank, num_rel_docs = 0,0\n",
        "    rel_scores, precision_list = {}, {}\n",
        "    rank_pos = []\n",
        "\n",
        "    # Para cada query...\n",
        "        for qid in qid_ranked_docs:\n",
        "        # Se a query é relevante\n",
        "        if qid in qid_rel:\n",
        "            # Obtem a  lista de docs relevantes para uma query\n",
        "            rel_docs = qid_rel[qid]\n",
        "            # Obtem a lista de documentos classificados para uma query\n",
        "            cand_docs = qid_ranked_docs[qid]\n",
        "            # Computa o score dos candidatos\n",
        "            if qid not in rel_scores:\n",
        "                rel_scores[qid] = []\n",
        "                for i in range(0, k):\n",
        "                    if cand_docs[i] in rel_docs:\n",
        "                        rel_scores[qid].append(1)\n",
        "                    else:\n",
        "                        rel_scores[qid].append(0)\n",
        "            # Computa a i-ésima classificação reciproca e posição de classificação\n",
        "            cumulated_reciprocal_rank, r_pos = compute_RR(\n",
        "                cand_docs, \n",
        "                rel_docs, \n",
        "                cumulated_reciprocal_rank, \n",
        "                rank_pos, k\n",
        "                )\n",
        "    \n",
        "    # Computa o MRR@k\n",
        "    MRR = cumulated_reciprocal_rank/len(qid_ranked_docs)\n",
        "    # Computa o nDCG@k\n",
        "    average_ndcg = avg_ndcg(rel_scores, k)\n",
        "\n",
        "    # Computa precision@1\n",
        "    precision_at_k = []\n",
        "    for qid, score in rel_scores.items():\n",
        "        num_rel = 0\n",
        "        for i in range(0, 1):\n",
        "            if score[i] == 1:\n",
        "                num_rel += 1\n",
        "        precision_at_k.append(num_rel/1)\n",
        "    \n",
        "    avg_precision = mean(precision_at_k)\n",
        "\n",
        "    return MRR, average_ndcg, avg_precision, r_pos"
      ],
      "execution_count": null,
      "outputs": []
    },
    {
      "cell_type": "code",
      "metadata": {
        "id": "wQb8GDWk-otV",
        "colab_type": "code",
        "colab": {
          "base_uri": "https://localhost:8080/",
          "height": 71
        },
        "outputId": "da4fb7bd-18c9-42d3-e7cc-b316e7d4775e"
      },
      "source": [
        "qid_pred_rank = get_rank(model, data_valid, 384)"
      ],
      "execution_count": null,
      "outputs": [
        {
          "output_type": "stream",
          "text": [
            "/usr/local/lib/python3.6/dist-packages/transformers/tokenization_utils_base.py:1770: FutureWarning: The `pad_to_max_length` argument is deprecated and will be removed in a future version, use `padding=True` or `padding='longest'` to pad to the longest sequence in the batch, or use `padding='max_length'` to pad to a max length. In this case, you can give a specific length with `max_length` (e.g. `max_length=45`) or leave max_length to None to pad to the maximal input size of the model (e.g. 512 for Bert).\n",
            "  FutureWarning,\n"
          ],
          "name": "stderr"
        }
      ]
    },
    {
      "cell_type": "code",
      "metadata": {
        "id": "z66Ro7SsAEYK",
        "colab_type": "code",
        "colab": {
          "base_uri": "https://localhost:8080/",
          "height": 85
        },
        "outputId": "ef29e9cc-a3e7-4315-dd7d-b7976459f2ac"
      },
      "source": [
        "k = 10\n",
        "num_q = len(data_valid)\n",
        "\n",
        "MRR, average_ndcg, precision, rank_pos = evaluate(qid_pred_rank, labels_valid, k)\n",
        "\n",
        "print(f'\\nAverage nDCG@{k} for {num_q} queries: {average_ndcg:.3f}')\n",
        "print(f'MRR@{k} for {num_q} queries: {MRR:.3f}')\n",
        "print(f'Average Precision@1 for {num_q} queries: {precision:.3f}')"
      ],
      "execution_count": null,
      "outputs": [
        {
          "output_type": "stream",
          "text": [
            "\n",
            "Average nDCG@10 for 30 queries: 0.718\n",
            "MRR@10 for 30 queries: 0.679\n",
            "Average Precision@1 for 30 queries: 0.600\n"
          ],
          "name": "stdout"
        }
      ]
    },
    {
      "cell_type": "markdown",
      "metadata": {
        "id": "NZ0vrEj5z0QM",
        "colab_type": "text"
      },
      "source": [
        "# Analise do predict\n",
        "\n",
        "#### `df_docs_cos` é um dataframe obtido por similaridade de cossenos entre todos os documentos, logo os cands serão os `docs` que possuirém maior similaridade com o `qid`. A similaridade foi obtida com o distilUSE do UKPLab-[SBERT](https://www.sbert.net/docs/pretrained_models.html)."
      ]
    },
    {
      "cell_type": "code",
      "metadata": {
        "id": "9JVnd3Ct4mxz",
        "colab_type": "code",
        "colab": {}
      },
      "source": [
        "def pickle_file(path, data=None):\n",
        "    if data is None:\n",
        "        with open(path, 'rb') as f:\n",
        "            return pickle.load(f)\n",
        "    if data is not None:\n",
        "        with open(path, 'wb') as handle:\n",
        "            pickle.dump(data, handle, protocol=pickle.HIGHEST_PROTOCOL)\n",
        "\n",
        "# carregando o dataframe\n",
        "path_df_cos = '/content/drive/My Drive/Colab Notebooks/Colab Notebooks/BERT/FinBERT/df_docs_cos'\n",
        "df_docs_cos = pickle_file(path_df_cos)\n",
        "\n",
        "# ordenando pelo score decrescente da similaridade de cosseno\n",
        "df_docs_cos = df_docs_cos.sort_values(by='COS_SIM', ascending=False).reset_index(drop=True)\n",
        "\n",
        "# criando uma lista com esses documentos pela col. ID2\n",
        "remove_equals_docs = df_docs_cos[0:6].ID2.to_list()\n",
        "\n",
        "# esses documentos não podem ser labels para nenhuma qid, logo len = 0\n",
        "assert len(df_labels_sub[df_labels_sub.docid.isin(remove_equals_docs)]) == 0\n",
        "\n",
        "# removendo\n",
        "df_docs_cos = df_docs_cos[~df_docs_cos.ID2.isin(remove_equals_docs)]\n",
        "\n",
        "#----------------------------------------------------------------------\n",
        "def make_cands_with_cos_sim(df, number_of_cands=30):\n",
        "    # num. de candidatos por amostra\n",
        "    K = number_of_cands\n",
        "\n",
        "    # dataset \n",
        "    df_ = df.copy() # cols: df[['qid'], ['docid']]\n",
        "\n",
        "    # lista que armazenará o shape final do dataset\n",
        "    data = []\n",
        "\n",
        "    # candidatos a resposta\n",
        "    cands_dataset = []\n",
        "\n",
        "    # para cada linha do df...\n",
        "    for i, row_data in enumerate(df_.iterrows()):\n",
        "\n",
        "        # se existe mais de um rel. doc por qid...\n",
        "        if len(row_data[1].docid) > 1:\n",
        "\n",
        "            # conta quantos exemplos de cada id está sendo anexado\n",
        "            sum = 0\n",
        "            # num. de exemplos por amostra - forma de balancear os candidatos\n",
        "            samples_per_doc = int(K/len(row_data[1].docid)-1)\n",
        "            \n",
        "            # lista que armazena os docs candidatos\n",
        "            cands_dataset = []\n",
        "\n",
        "            # para cada elem. na lista de docs candidatos\n",
        "            for j, elem in enumerate(row_data[1].docid, 1): \n",
        "\n",
        "                if j != len(row_data[1].docid):\n",
        "                    # soma a quantidade de docs cands. anexado\n",
        "                    sum += samples_per_doc\n",
        "                    # checamos se existe docs cands. suficiente\n",
        "                    len_sample = len(df_docs_cos[df_docs_cos.ID1 == elem]\\\n",
        "                                     [:samples_per_doc].ID2.to_list())\n",
        "\n",
        "                    # se não existir amostras suficientes, faz um sorteio de \n",
        "                    # samples_per_doc docs cands\n",
        "                    if len_sample < samples_per_doc:\n",
        "                        docs_choice = list(np.random.choice(\n",
        "                            df_docs_cos.ID2, 2 * samples_per_doc, replace=False))\n",
        "                        cands_dataset.extend(docs_choice)\n",
        "\n",
        "                    else: # caso exista o num. suficiente anexamos os que possuem \n",
        "                          # maior pontuação de cosseno\n",
        "\n",
        "                        # anexa os docs candidatos para j < len(row_data[1].docid)\n",
        "                        cands_dataset.extend(df_docs_cos[df_docs_cos.ID1 == elem]\\\n",
        "                                             [:samples_per_doc].ID2.to_list())\n",
        "                        # conta quntos docs foram anexados\n",
        "                \n",
        "                # para o último elem da lista de respostas\n",
        "                if j == len(row_data[1].docid):\n",
        "                    len_sample = len(df_docs_cos[df_docs_cos.ID1 == elem]\\\n",
        "                                     [:samples_per_doc].ID2.to_list())\n",
        "                    \n",
        "                    # se j é o último elem. da lista, completa os cands com o rest\n",
        "                    rest = K - sum\n",
        "                    \n",
        "                    # se não existir amostras suficientes, faz um sorteio de \n",
        "                    # restr docs cands\n",
        "                    if len_sample < rest:\n",
        "                        docs_choice = list(np.random.choice(\n",
        "                            df_docs_cos.ID2, 2 * rest, replace=False))\n",
        "                        cands_dataset.extend(docs_choice)\n",
        "\n",
        "                    else: # caso exista o num. suficiente anexamos os que possuem \n",
        "                          # maior pontuação de cosseno\n",
        "                        cands_dataset.extend(df_docs_cos[df_docs_cos.ID1 == elem]\\\n",
        "                                             [:rest].ID2.to_list())\n",
        "\n",
        "        if len(row_data[1].docid) == 1:\n",
        "            len_sample = df_docs_cos[\n",
        "                df_docs_cos.ID1.isin(row_data[1].docid)].ID2.to_list()[:K]\n",
        "\n",
        "            if len(len_sample) < K:\n",
        "                docs_choice = list(np.random.choice(\n",
        "                    df_docs_cos.ID2, 2 * K, replace=False))\n",
        "                cands_dataset.extend(docs_choice)\n",
        "\n",
        "            else:\n",
        "                cands_dataset.extend(df_docs_cos[df_docs_cos.ID1 == row_data[1].qid]\\\n",
        "                                     [:K].ID2.to_list())\n",
        "\n",
        "        # anexa os labels no inicio do conj. dos docs candidatos e trunca em K\n",
        "        cands = list(set(row_data[1].docid + cands_dataset))\n",
        "\n",
        "        # embaralha a lista\n",
        "        cands = random.sample(cands, len(cands))[:K]\n",
        "        data.append([row_data[1].qid, row_data[1].docid, cands])\n",
        "        \n",
        "    return data # list [[qid], [labels], [cands]]    \n",
        "\n",
        "#-----------------------------------------------------------\n",
        "valid_cands_cos = make_cands_with_cos_sim(valid_data, 40)\n",
        "print(f'Valid. candidatas: {len(valid_cands_cos)}')        "
      ],
      "execution_count": null,
      "outputs": []
    },
    {
      "cell_type": "code",
      "metadata": {
        "id": "IYyELZH2FNGb",
        "colab_type": "code",
        "colab": {
          "base_uri": "https://localhost:8080/",
          "height": 343
        },
        "outputId": "5ea45d2d-f87d-4de4-c96d-fc782ec8730d"
      },
      "source": [
        "N = np.random.randint(0, len(valid_cands_cos))\n",
        "\n",
        "# Exemplo escolhido aletóriamente com cadas escolhidos por similaridade de cosseno\n",
        "seq = valid_cands_cos[N]\n",
        "qid, label, cands = seq[0], seq[1], seq[2]\n",
        "q_text = qid_to_text[qid]\n",
        "query = q_text\n",
        "\n",
        "#---------------------------------------------------------\n",
        "model.eval()\n",
        "# Re-classifica os candidatos\n",
        "rank, scores = predict(model, query, cands, MAX_LEN)\n",
        "\n",
        "# Top-k respostas\n",
        "k = 5\n",
        "\n",
        "print(f'\\nQuery:\\n\\t{query}\\n')\n",
        "print(f'Top-{k} Answers: \\n')\n",
        "for i in range(0, k):\n",
        "    print(f'{i+1} docid: {rank[i]:>6} -- text: {docid_to_text[rank[i]]}\\n')"
      ],
      "execution_count": null,
      "outputs": [
        {
          "output_type": "stream",
          "text": [
            "/usr/local/lib/python3.6/dist-packages/transformers/tokenization_utils_base.py:1770: FutureWarning: The `pad_to_max_length` argument is deprecated and will be removed in a future version, use `padding=True` or `padding='longest'` to pad to the longest sequence in the batch, or use `padding='max_length'` to pad to a max length. In this case, you can give a specific length with `max_length` (e.g. `max_length=45`) or leave max_length to None to pad to the maximal input size of the model (e.g. 512 for Bert).\n",
            "  FutureWarning,\n"
          ],
          "name": "stderr"
        },
        {
          "output_type": "stream",
          "text": [
            "\n",
            "Query:\n",
            "\tWhy are U.S. credit unions not open to everyone?\n",
            "\n",
            "Top-5 Answers: \n",
            "\n",
            "1 docid: 155634 -- text: It's required by law.  12 USC 1759 (b) requires that membership in a credit union be limited to one or more groups with a \"common bond\", or to people within a particular geographic area. For lots more gory details on how this is interpreted and enforced, you can read the manual given to credit unions by the National Credit Union Administration, which is their regulatory agency.\n",
            "\n",
            "2 docid: 269447 -- text: Credit unions are mutually-owned (i.e. customer owned) financial institutions that provide banking services.  They take deposits from their members (customers) and loan them to other members.  Members vote on a board of directors who manage operations.   They are considered not-for-profit, but they pay interest on deposits.  They get some preferential tax treatment and regulation and their deposits are insured by a separate organization if federally accredited.  State-chartered credit unions don't have to maintain deposit insurance at all.   Their charters specify who can join.  They can be regionally based, employer based, or based on some other group with common interests.  Regulators restrict them so that they don't interfere too much with banks.  Otherwise their preferential tax and regulatory treatment would leave banks uncompetitive.   Other organizations with similar limits have gone on to be competitive when the limits were released.  For example, there used to be an insurance company just for government employees, the Government Employees Insurance Company.  You may know it better as GEICO (yes, the one with the gecko advertisements).  Now they offer life and auto insurance all over.   Credit unions would like looser limitations (or no limitations at all), but not enough to give up their preferential tax treatment.  Banks oppose looser limitations and have as much political clout as credit unions.\n",
            "\n",
            "3 docid:   5644 -- text: Your instructor's numbers do not seem to have any basis in current reality. At this page you can see a comparison of interest rates offered by banks and credit unions.  In the most recent table for June 2014, banks paid an average interest rate of 0.12 percent on savings accounts, while credit unions paid an average of 0.13 percent.   If you look back further, you will see that interest rates paid by banks and credit unions are generally comparable.  Credit union rates tend to be a little bit higher, but certainly not 7 times higher. The last time any financial institution paid as much as 15% on a savings account would probably be the early 1980s.  You can see here a historical chart of the \"prime rate\" for lending.  Savings account rates (at either banks or credit unions) would typically be lower. (This is based on the US, in accordance with your tag.  Interest rates in other places, especially developing countries with less stable currencies, can be dramatically different.)\n",
            "\n",
            "4 docid:  16586 -- text: this post offers valuable information we can all use when scouting for frequent flyer credit cards. let's all support this post of my friend, sean travis, by reading and sharing it to all our friends and followers in different social networking sites.\n",
            "\n",
            "5 docid:  20797 -- text: KIRO Studios provides photography services to suit your every need. Enjoy and preserve your next event with stunning Photography Ottawa that will last a lifetime. With KIRO Studios, you can be assured that you are getting the quality photography you seek and peace of mind you deserve.\n",
            "\n"
          ],
          "name": "stdout"
        }
      ]
    },
    {
      "cell_type": "code",
      "metadata": {
        "id": "IaJ2pIvnuTYw",
        "colab_type": "code",
        "colab": {
          "base_uri": "https://localhost:8080/",
          "height": 111
        },
        "outputId": "dbe961e3-37b6-4abe-8a02-c02e14d2b649"
      },
      "source": [
        "df_labels[df_labels.qid==qid]"
      ],
      "execution_count": null,
      "outputs": [
        {
          "output_type": "execute_result",
          "data": {
            "text/html": [
              "<div>\n",
              "<style scoped>\n",
              "    .dataframe tbody tr th:only-of-type {\n",
              "        vertical-align: middle;\n",
              "    }\n",
              "\n",
              "    .dataframe tbody tr th {\n",
              "        vertical-align: top;\n",
              "    }\n",
              "\n",
              "    .dataframe thead th {\n",
              "        text-align: right;\n",
              "    }\n",
              "</style>\n",
              "<table border=\"1\" class=\"dataframe\">\n",
              "  <thead>\n",
              "    <tr style=\"text-align: right;\">\n",
              "      <th></th>\n",
              "      <th>qid</th>\n",
              "      <th>docid</th>\n",
              "    </tr>\n",
              "  </thead>\n",
              "  <tbody>\n",
              "    <tr>\n",
              "      <th>277</th>\n",
              "      <td>493</td>\n",
              "      <td>269447</td>\n",
              "    </tr>\n",
              "    <tr>\n",
              "      <th>278</th>\n",
              "      <td>493</td>\n",
              "      <td>155634</td>\n",
              "    </tr>\n",
              "  </tbody>\n",
              "</table>\n",
              "</div>"
            ],
            "text/plain": [
              "     qid   docid\n",
              "277  493  269447\n",
              "278  493  155634"
            ]
          },
          "metadata": {
            "tags": []
          },
          "execution_count": 169
        }
      ]
    },
    {
      "cell_type": "code",
      "metadata": {
        "id": "W_0nDkgywV7l",
        "colab_type": "code",
        "colab": {
          "base_uri": "https://localhost:8080/",
          "height": 80
        },
        "outputId": "c1b52e4d-2a74-42f1-decf-c235781027fa"
      },
      "source": [
        "df_questions[df_questions.qid==qid]"
      ],
      "execution_count": null,
      "outputs": [
        {
          "output_type": "execute_result",
          "data": {
            "text/html": [
              "<div>\n",
              "<style scoped>\n",
              "    .dataframe tbody tr th:only-of-type {\n",
              "        vertical-align: middle;\n",
              "    }\n",
              "\n",
              "    .dataframe tbody tr th {\n",
              "        vertical-align: top;\n",
              "    }\n",
              "\n",
              "    .dataframe thead th {\n",
              "        text-align: right;\n",
              "    }\n",
              "</style>\n",
              "<table border=\"1\" class=\"dataframe\">\n",
              "  <thead>\n",
              "    <tr style=\"text-align: right;\">\n",
              "      <th></th>\n",
              "      <th>qid</th>\n",
              "      <th>question</th>\n",
              "      <th>timestamp</th>\n",
              "    </tr>\n",
              "  </thead>\n",
              "  <tbody>\n",
              "    <tr>\n",
              "      <th>148</th>\n",
              "      <td>493</td>\n",
              "      <td>Why are U.S. credit unions not open to everyone?</td>\n",
              "      <td>Feb 19 at 21:04</td>\n",
              "    </tr>\n",
              "  </tbody>\n",
              "</table>\n",
              "</div>"
            ],
            "text/plain": [
              "     qid                                          question        timestamp\n",
              "148  493  Why are U.S. credit unions not open to everyone?  Feb 19 at 21:04"
            ]
          },
          "metadata": {
            "tags": []
          },
          "execution_count": 170
        }
      ]
    },
    {
      "cell_type": "markdown",
      "metadata": {
        "id": "OazQ-1o929se",
        "colab_type": "text"
      },
      "source": [
        "# FIM"
      ]
    }
  ]
}