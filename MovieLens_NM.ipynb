{
  "nbformat": 4,
  "nbformat_minor": 0,
  "metadata": {
    "colab": {
      "name": "MovieLens - NM.ipynb",
      "provenance": [],
      "collapsed_sections": [],
      "toc_visible": true,
      "mount_file_id": "1KQdpMlazM5VC8kAnqip6N_7iq9DWS6Le",
      "authorship_tag": "ABX9TyMMgf6bzVT5jwfMwV8wRa+P",
      "include_colab_link": true
    },
    "kernelspec": {
      "name": "python3",
      "display_name": "Python 3"
    },
    "accelerator": "GPU"
  },
  "cells": [
    {
      "cell_type": "markdown",
      "metadata": {
        "id": "view-in-github",
        "colab_type": "text"
      },
      "source": [
        "<a href=\"https://colab.research.google.com/github/finardi/tutos/blob/master/MovieLens_NM.ipynb\" target=\"_parent\"><img src=\"https://colab.research.google.com/assets/colab-badge.svg\" alt=\"Open In Colab\"/></a>"
      ]
    },
    {
      "cell_type": "markdown",
      "metadata": {
        "id": "Zpl5bgTU_pIr"
      },
      "source": [
        "# Imports"
      ]
    },
    {
      "cell_type": "code",
      "metadata": {
        "id": "QMMkJcQz_WH3"
      },
      "source": [
        "# basics\n",
        "import os\n",
        "import gc\n",
        "import math\n",
        "import pickle\n",
        "import numpy as np\n",
        "import pandas as pd\n",
        "from time import time\n",
        "\n",
        "# scipy\n",
        "import scipy.sparse as sp\n",
        "\n",
        "# plots\n",
        "import seaborn as sns\n",
        "import matplotlib.pyplot as plt\n",
        "\n",
        "# torch\n",
        "import torch\n",
        "from torch.utils.data import Dataset, DataLoader\n",
        "\n",
        "# retrieval topK\n",
        "import heapq  "
      ],
      "execution_count": null,
      "outputs": []
    },
    {
      "cell_type": "code",
      "metadata": {
        "colab": {
          "base_uri": "https://localhost:8080/"
        },
        "id": "wYNAVTFH_odr",
        "outputId": "ee949178-11d2-41f8-cb91-dde3a8f6202d"
      },
      "source": [
        "# To get deterministic experiments \n",
        "\n",
        "device = torch.device('cuda' if torch.cuda.is_available() else 'cpu')\n",
        "manual_seed = 2357 # only primers ;)\n",
        " \n",
        "def deterministic(rep=True):\n",
        "    if rep:\n",
        "        np.random.seed(manual_seed)\n",
        "        torch.manual_seed(manual_seed)\n",
        "        if torch.cuda.is_available():\n",
        "            torch.cuda.manual_seed(manual_seed)\n",
        "            torch.cuda.manual_seed_all(manual_seed)\n",
        "        torch.backends.cudnn.enabled = False \n",
        "        torch.backends.cudnn.benchmark = False\n",
        "        torch.backends.cudnn.deterministic = True\n",
        "        print(f'Experimento deterministico, seed: {manual_seed} -- ', end = '')\n",
        "        print(f'Existe {torch.cuda.device_count()} GPU\\\n",
        " {torch.cuda.get_device_name(0)} disponível.')\n",
        "    else:\n",
        "        print('Experimento randomico')\n",
        "deterministic()"
      ],
      "execution_count": null,
      "outputs": [
        {
          "output_type": "stream",
          "text": [
            "Experimento deterministico, seed: 2357 -- Existe 1 GPU Tesla P100-PCIE-16GB disponível.\n"
          ],
          "name": "stdout"
        }
      ]
    },
    {
      "cell_type": "markdown",
      "metadata": {
        "id": "By144Z5L_5ia"
      },
      "source": [
        "# Data prep"
      ]
    },
    {
      "cell_type": "code",
      "metadata": {
        "colab": {
          "base_uri": "https://localhost:8080/"
        },
        "id": "YAp1m1A2_5fp",
        "outputId": "73eab30d-271b-4c9f-8b40-48369f17b851"
      },
      "source": [
        "!unzip /content/drive/MyDrive/Colab\\ Notebooks/RecSys/movielens_datasets/ml100k/ml-100k.zip\n",
        "!mkdir Data\n",
        "\n",
        "INPUT_PATH = 'ml-100k/u.data'\n",
        "\n",
        "OUTPUT_PATH_TRAIN = 'Data/movielens.train.rating'\n",
        "OUTPUT_PATH_TEST = 'Data/movielens.test.rating'\n",
        "USER_FIELD = 'userID'"
      ],
      "execution_count": null,
      "outputs": [
        {
          "output_type": "stream",
          "text": [
            "Archive:  /content/drive/MyDrive/Colab Notebooks/RecSys/movielens_datasets/ml100k/ml-100k.zip\n",
            "   creating: ml-100k/\n",
            "  inflating: ml-100k/allbut.pl       \n",
            "  inflating: ml-100k/mku.sh          \n",
            "  inflating: ml-100k/README          \n",
            "  inflating: ml-100k/u.data          \n",
            "  inflating: ml-100k/u.genre         \n",
            "  inflating: ml-100k/u.info          \n",
            "  inflating: ml-100k/u.item          \n",
            "  inflating: ml-100k/u.occupation    \n",
            "  inflating: ml-100k/u.user          \n",
            "  inflating: ml-100k/u1.base         \n",
            "  inflating: ml-100k/u1.test         \n",
            "  inflating: ml-100k/u2.base         \n",
            "  inflating: ml-100k/u2.test         \n",
            "  inflating: ml-100k/u3.base         \n",
            "  inflating: ml-100k/u3.test         \n",
            "  inflating: ml-100k/u4.base         \n",
            "  inflating: ml-100k/u4.test         \n",
            "  inflating: ml-100k/u5.base         \n",
            "  inflating: ml-100k/u5.test         \n",
            "  inflating: ml-100k/ua.base         \n",
            "  inflating: ml-100k/ua.test         \n",
            "  inflating: ml-100k/ub.base         \n",
            "  inflating: ml-100k/ub.test         \n"
          ],
          "name": "stdout"
        }
      ]
    },
    {
      "cell_type": "code",
      "metadata": {
        "colab": {
          "base_uri": "https://localhost:8080/"
        },
        "id": "ATFiUyQU_5dY",
        "outputId": "dd7ca66e-27f6-4b9f-c5c1-e006ea73ca9b"
      },
      "source": [
        "def save_to_csv(df,path, header=False, index=False, sep='\\t', verbose=False):\n",
        "    if verbose:\n",
        "        print(\"Saving df to path: {}\".format(path))\n",
        "        print(\"Columns in df are: {}\".format(df.columns.tolist()))\n",
        "\n",
        "    df.to_csv(path, header=header, index=index, sep=sep)\n",
        "\n",
        "def get_train_test_df(transactions):\n",
        "    print(\"Size of the entire dataset:{}\".format(transactions.shape))\n",
        "    transactions.sort_values(by=['timestamp'], inplace=True)\n",
        "    last_transaction_mask = transactions.duplicated(subset={USER_FIELD}, keep=\"last\")\n",
        "    train_df = transactions[last_transaction_mask]\n",
        "    test_df = transactions[~last_transaction_mask]\n",
        "    \n",
        "    train_df.sort_values(by=[\"userID\", 'timestamp'], inplace=True)\n",
        "    test_df.sort_values(by=[\"userID\", 'timestamp'], inplace=True)\n",
        "    return train_df, test_df\n",
        "\n",
        "def report_stats(transactions, train_df, test_df):\n",
        "    whole_size = transactions.shape[0]*1.0\n",
        "    train_size = train_df.shape[0]\n",
        "    test_size = test_df.shape[0]\n",
        "    print(\"Total No. of Records = {}\".format(whole_size))\n",
        "    print(\"Train size = {}, Test size = {}\".format(train_size, test_size))\n",
        "    print(\"Train % = {}, Test % ={}\".format(train_size/whole_size, test_size/whole_size))\n",
        "\n",
        "transactions = pd.read_csv(\n",
        "    INPUT_PATH, \n",
        "    sep=\"\\t\", \n",
        "    names=['userID', 'movieID', 'rating', 'timestamp'], \n",
        "    engine='python'\n",
        "    )\n",
        "\n",
        "transactions['rating'] = 1\n",
        "\n",
        "# --> make the dataset\n",
        "train_df, test_df = get_train_test_df(transactions)\n",
        "save_to_csv(train_df, OUTPUT_PATH_TRAIN, header=False, index=False, verbose=1)\n",
        "save_to_csv(test_df, OUTPUT_PATH_TEST, header=False, index=False, verbose=1)\n",
        "report_stats(transactions, train_df, test_df)"
      ],
      "execution_count": null,
      "outputs": [
        {
          "output_type": "stream",
          "text": [
            "Size of the entire dataset:(100000, 4)\n",
            "Saving df to path: Data/movielens.train.rating\n",
            "Columns in df are: ['userID', 'movieID', 'rating', 'timestamp']\n",
            "Saving df to path: Data/movielens.test.rating\n",
            "Columns in df are: ['userID', 'movieID', 'rating', 'timestamp']\n",
            "Total No. of Records = 100000.0\n",
            "Train size = 99057, Test size = 943\n",
            "Train % = 0.99057, Test % =0.00943\n"
          ],
          "name": "stdout"
        },
        {
          "output_type": "stream",
          "text": [
            "/usr/local/lib/python3.6/dist-packages/ipykernel_launcher.py:15: SettingWithCopyWarning: \n",
            "A value is trying to be set on a copy of a slice from a DataFrame\n",
            "\n",
            "See the caveats in the documentation: https://pandas.pydata.org/pandas-docs/stable/user_guide/indexing.html#returning-a-view-versus-a-copy\n",
            "  from ipykernel import kernelapp as app\n",
            "/usr/local/lib/python3.6/dist-packages/ipykernel_launcher.py:16: SettingWithCopyWarning: \n",
            "A value is trying to be set on a copy of a slice from a DataFrame\n",
            "\n",
            "See the caveats in the documentation: https://pandas.pydata.org/pandas-docs/stable/user_guide/indexing.html#returning-a-view-versus-a-copy\n",
            "  app.launch_new_instance()\n"
          ],
          "name": "stderr"
        }
      ]
    },
    {
      "cell_type": "markdown",
      "metadata": {
        "id": "6LUrXwT-2hj-"
      },
      "source": [
        "# Dataset"
      ]
    },
    {
      "cell_type": "code",
      "metadata": {
        "id": "6QmWpCmu2mmJ",
        "colab": {
          "base_uri": "https://localhost:8080/"
        },
        "outputId": "8eac71e3-b2fb-4851-c388-52f60e00903f"
      },
      "source": [
        "class RecSysDataset(Dataset):\n",
        "    def __init__(self, file_name, num_negatives_train=5, num_negatives_test=100):\n",
        "\n",
        "        self.trainMatrix = self.load_rating_file_as_matrix(file_name + \".train.rating\")\n",
        "        self.num_users, self.num_items = self.trainMatrix.shape\n",
        "        self.user_input, self.item_input, self.ratings = self.get_train_instances(self.trainMatrix, num_negatives_train)\n",
        "        self.testRatings = self.load_rating_file_as_list(file_name + \".test.rating\")\n",
        "        self.testNegatives = self.create_negative_file(num_samples=num_negatives_test)\n",
        "        \n",
        "        assert len(self.testRatings) == len(self.testNegatives)\n",
        "\n",
        "    def get_train_instances(self, train, num_negatives):\n",
        "        user_input, item_input, ratings = [], [], []\n",
        "        num_users, num_items = train.shape\n",
        "        for (u, i) in train.keys():\n",
        "            # positive instance\n",
        "            user_input.append(u)\n",
        "            item_input.append(i)\n",
        "            ratings.append(1)\n",
        "            # negative instances\n",
        "            for _ in range(num_negatives):\n",
        "                j = np.random.randint(1, num_items)\n",
        "                # while train.has_key((u, j)):\n",
        "                while (u, j) in train:\n",
        "                    j = np.random.randint(1, num_items)\n",
        "                user_input.append(u)\n",
        "                item_input.append(j)\n",
        "                ratings.append(0)\n",
        "        return user_input, item_input, ratings\n",
        "\n",
        "    def load_rating_file_as_list(self, filename):\n",
        "        ratingList = []\n",
        "        with open(filename, \"r\") as f:\n",
        "            line = f.readline()\n",
        "            while line != None and line != \"\":\n",
        "                arr = line.split(\"\\t\")\n",
        "                user, item = int(arr[0]), int(arr[1])\n",
        "                ratingList.append([user, item])\n",
        "                line = f.readline()\n",
        "        return ratingList\n",
        "\n",
        "    def create_negative_file(self, num_samples=100):\n",
        "        negativeList = []\n",
        "        for user_item_pair in self.testRatings:\n",
        "            user = user_item_pair[0]\n",
        "            item = user_item_pair[1]\n",
        "            negatives = []\n",
        "            for t in range(num_samples):\n",
        "                j = np.random.randint(1, self.num_items)\n",
        "                while (user, j) in self.trainMatrix or j == item:\n",
        "                    j = np.random.randint(1, self.num_items)\n",
        "                negatives.append(j)\n",
        "            negativeList.append(negatives)\n",
        "        return negativeList\n",
        "\n",
        "    def load_rating_file_as_matrix(self, filename):\n",
        "        num_users, num_items = 0, 0\n",
        "        with open(filename, \"r\") as f:\n",
        "            line = f.readline()\n",
        "            while line != None and line != \"\":\n",
        "                arr = line.split(\"\\t\")\n",
        "                u, i = int(arr[0]), int(arr[1])\n",
        "                num_users = max(num_users, u)\n",
        "                num_items = max(num_items, i)\n",
        "                line = f.readline()\n",
        "        \n",
        "        mat = sp.dok_matrix((num_users+1, num_items+1), dtype=np.float32)\n",
        "        with open(filename, \"r\") as f:\n",
        "            line = f.readline()\n",
        "            while line != None and line != \"\":\n",
        "                arr = line.split(\"\\t\")\n",
        "                user, item, rating = int(arr[0]), int(arr[1]), float(arr[2])\n",
        "                if (rating > 0):\n",
        "                    mat[user, item] = 1.0\n",
        "                line = f.readline()\n",
        "        return mat\n",
        "        \n",
        "    def __len__(self):\n",
        "        return len(self.user_input)\n",
        "\n",
        "    def __getitem__(self, index):\n",
        "        user_id = self.user_input[index]\n",
        "        item_id = self.item_input[index]\n",
        "        rating = self.ratings[index]\n",
        "\n",
        "        return {'user_id': user_id, 'item_id': item_id, 'rating': rating}\n",
        "\n",
        "# --> Testing RecSysDataset\n",
        "\n",
        "ds = RecSysDataset(\n",
        "    file_name='Data/movielens', \n",
        "    num_negatives_train=4,\n",
        "    num_negatives_test=100\n",
        "    )\n",
        "    \n",
        "ds_dict = ds[0]\n",
        "print('Testing RecSysDataset')\n",
        "print(f\"user_id: {ds_dict['user_id']}, item_id: {ds_dict['item_id']}, rating: {ds_dict['rating']}\")\n",
        "\n",
        "train, testRatings, testNegatives = ds.trainMatrix, ds.testRatings, ds.testNegatives\n",
        "num_users, num_items = train.shape\n",
        "\n",
        "print(f\"train: {train.shape}, testRatings: {len(testRatings)}, testNegatives: {len(testNegatives)}\")\n",
        "print(f\"num_users: {num_users}, num_items: {num_items}\")"
      ],
      "execution_count": null,
      "outputs": [
        {
          "output_type": "stream",
          "text": [
            "Testing RecSysDataset\n",
            "user_id: 1, item_id: 168, rating: 1\n",
            "train: (944, 1683), testRatings: 943, testNegatives: 943\n",
            "num_users: 944, num_items: 1683\n"
          ],
          "name": "stdout"
        }
      ]
    },
    {
      "cell_type": "markdown",
      "metadata": {
        "id": "cS0hMBDnHU4_"
      },
      "source": [
        "# Dataloader"
      ]
    },
    {
      "cell_type": "code",
      "metadata": {
        "colab": {
          "base_uri": "https://localhost:8080/"
        },
        "id": "RT_75AUeHXPy",
        "outputId": "c57b4685-0f03-4fad-e2b6-1813cedb4c23"
      },
      "source": [
        "BATCH_SZ = 256\n",
        "\n",
        "train_loader = DataLoader(\n",
        "    ds, \n",
        "    batch_size=BATCH_SZ,\n",
        "    shuffle=True, \n",
        "    num_workers=os.cpu_count(), \n",
        "    pin_memory=True\n",
        "    )\n",
        "\n",
        "# --> Testing Dataloader\n",
        "dict_loader = next(iter(train_loader))\n",
        "print(f\"user_id: {dict_loader['user_id'].shape}, item_id: {dict_loader['item_id'].shape}, rating: {dict_loader['rating'].shape}\")\n",
        "\n",
        "print('len dataloader:', len(train_loader))"
      ],
      "execution_count": null,
      "outputs": [
        {
          "output_type": "stream",
          "text": [
            "user_id: torch.Size([256]), item_id: torch.Size([256]), rating: torch.Size([256])\n",
            "len dataloader: 1935\n"
          ],
          "name": "stdout"
        }
      ]
    },
    {
      "cell_type": "markdown",
      "metadata": {
        "id": "PkecLzaGOw5E"
      },
      "source": [
        "# Model"
      ]
    },
    {
      "cell_type": "code",
      "metadata": {
        "colab": {
          "base_uri": "https://localhost:8080/"
        },
        "id": "re5z7PFGOwxl",
        "outputId": "7edb4d25-7e6c-492d-feb5-7e6733bcdbb2"
      },
      "source": [
        "class RecSysNet(torch.nn.Module):\n",
        "    def __init__(self, n_users, n_items, embedding_dim=32, out=1):\n",
        "        super().__init__()\n",
        "\n",
        "        self.activation = torch.nn.GELU()\n",
        "        self.drop = torch.nn.Dropout(0.3)\n",
        "        \n",
        "        self.user_embedding = torch.nn.Embedding(n_users, embedding_dim//2)\n",
        "        self.item_embedding = torch.nn.Embedding(n_items, embedding_dim//2)\n",
        "\n",
        "        self.fc_layer_0 = torch.nn.Linear(embedding_dim, 2 * embedding_dim)\n",
        "        self.fc_layer_1 = torch.nn.Linear(2 * embedding_dim, embedding_dim//2)\n",
        "\n",
        "        self.output_layer = torch.nn.Linear(embedding_dim//2, out)\n",
        "\n",
        "    def get_score(self, feed_dict):\n",
        "        for key in feed_dict:\n",
        "            if type(feed_dict[key]) != type(None):\n",
        "                feed_dict[key] = torch.from_numpy(feed_dict[key]).to(dtype=torch.long, device=device)\n",
        "        output_scores = self.forward(feed_dict)\n",
        "        return output_scores.cpu().detach().numpy()\n",
        "    \n",
        "    def forward(self, feed_dict):\n",
        "        user_embedding = self.user_embedding(feed_dict['user_id'])\n",
        "        item_embedding = self.item_embedding(feed_dict['item_id'])\n",
        "\n",
        "        x = torch.cat([user_embedding, item_embedding], dim=1)\n",
        "\n",
        "        o = self.drop(self.activation(self.fc_layer_0(x)))\n",
        "        o = self.activation(self.fc_layer_1(o))\n",
        "        \n",
        "        logit = self.output_layer(o)\n",
        "        return logit\n",
        "\n",
        "# --> Testing the Network\n",
        "try:\n",
        "    del model\n",
        "    gc.collect()\n",
        "    torch.cuda.empty_cache()\n",
        "except:\n",
        "    pass\n",
        "\n",
        "model = RecSysNet(\n",
        "    n_users=num_users, \n",
        "    n_items=num_items, \n",
        "    embedding_dim=128\n",
        ")    \n",
        "\n",
        "with torch.no_grad():\n",
        "    out = model(dict_loader)\n",
        "print(f'out forward shape: {out.shape}', end= '  --  ')\n",
        "print(f'out sample: {out[0]}')"
      ],
      "execution_count": null,
      "outputs": [
        {
          "output_type": "stream",
          "text": [
            "out forward shape: torch.Size([256, 1])  --  out sample: tensor([0.1848])\n"
          ],
          "name": "stdout"
        }
      ]
    },
    {
      "cell_type": "code",
      "metadata": {
        "colab": {
          "base_uri": "https://localhost:8080/"
        },
        "id": "Y1CmuG1IP2EM",
        "outputId": "2b76569d-d740-43aa-8c24-4f11242a266f"
      },
      "source": [
        "def count_parameters(model):\n",
        "    return sum(p.numel() for p in model.parameters() if p.requires_grad)\n",
        "_ = 50\n",
        "\n",
        "print('\\n','#' * _, f'\\n # Número de params. {count_parameters(model):,}' \\\n",
        "       ' trainable parameters #\\n', '#' * _,'\\n')  \n",
        "model"
      ],
      "execution_count": null,
      "outputs": [
        {
          "output_type": "stream",
          "text": [
            "\n",
            " ################################################## \n",
            " # Número de params. 217,665 trainable parameters #\n",
            " ################################################## \n",
            "\n"
          ],
          "name": "stdout"
        },
        {
          "output_type": "execute_result",
          "data": {
            "text/plain": [
              "RecSysNet(\n",
              "  (activation): GELU()\n",
              "  (drop): Dropout(p=0.3, inplace=False)\n",
              "  (user_embedding): Embedding(944, 64)\n",
              "  (item_embedding): Embedding(1683, 64)\n",
              "  (fc_layer_0): Linear(in_features=128, out_features=256, bias=True)\n",
              "  (fc_layer_1): Linear(in_features=256, out_features=64, bias=True)\n",
              "  (output_layer): Linear(in_features=64, out_features=1, bias=True)\n",
              ")"
            ]
          },
          "metadata": {
            "tags": []
          },
          "execution_count": 172
        }
      ]
    },
    {
      "cell_type": "markdown",
      "metadata": {
        "id": "Lan-WrN678ZC"
      },
      "source": [
        "# Train and Evaluate functions "
      ]
    },
    {
      "cell_type": "code",
      "metadata": {
        "id": "ZSS1aiqH3Q9s",
        "colab": {
          "base_uri": "https://localhost:8080/"
        },
        "outputId": "8092bf3e-cf67-48b2-f402-202f64f8fc17"
      },
      "source": [
        "def train_one_epoch(model, data_loader, loss_fn, optimizer, epoch_no, num_epoch, device, verbose=True):\n",
        "    print(f\"Epoch [{epoch_no}/{num_epoch}]: \", end= '')\n",
        "    epoch_loss = []\n",
        "    model.train()\n",
        "    for dict_train in data_loader:\n",
        "        optimizer.zero_grad()\n",
        "        \n",
        "        for key in dict_train:\n",
        "            if type(dict_train[key]) != type(None):\n",
        "                dict_train[key] = dict_train[key].to(dtype=torch.long, device=device)\n",
        "\n",
        "        rating_prediction = model(dict_train)\n",
        "\n",
        "        rating_true = dict_train['rating']\n",
        "        rating_true = rating_true.float().view(rating_prediction.size())  \n",
        "        loss = loss_fn(rating_prediction, rating_true)\n",
        "\n",
        "        loss.backward()\n",
        "        optimizer.step()\n",
        "\n",
        "        epoch_loss.append(loss.item())\n",
        "\n",
        "    epoch_loss = np.mean(epoch_loss)\n",
        "    if verbose:\n",
        "        print(f\"Train Loss: {epoch_loss:.4}\")\n",
        "    return epoch_loss\n",
        "        \n",
        "def test(model, full_dataset: RecSysDataset, testRatings, topK):\n",
        "    model.eval()\n",
        "    hits, ndcgs, mrrs = evaluate_model(model, full_dataset, testRatings, topK)\n",
        "    hr = np.array(hits).mean()\n",
        "    ndcg = np.array(ndcgs).mean()\n",
        "    mrr = np.array(mrrs).mean()\n",
        "\n",
        "    print(f'               Eval: MRR = {mrr:.4} -- HR = {hr:.4} -- NDCG = {ndcg:.4}')\n",
        "    return hr, ndcg, mrr\n",
        "    \n",
        "def get_items_interacted(user_id, interaction_df):\n",
        "    userid_mask = interaction_df['userid'] == user_id\n",
        "    interacted_items = interaction_df.loc[userid_mask].courseid\n",
        "    return set(interacted_items if type(interacted_items) == pd.Series else [interacted_items])\n",
        "\n",
        "def evaluate_model(model, dataset: RecSysDataset, testRatings: list, topK: int):\n",
        "    testRatings = dataset.testRatings\n",
        "    testNegatives = dataset.testNegatives\n",
        "\n",
        "    mrrs, hits, ndcgs = [], [], []\n",
        "    for idx in range(len(testRatings)):\n",
        "        hr, ndcg, mrr = _eval_one_rating(idx, model, dataset, testRatings[idx], \n",
        "                                         testNegatives[idx], topK)\n",
        "        hits.append(hr)\n",
        "        ndcgs.append(ndcg)\n",
        "        mrrs.append(mrr)\n",
        "    return hits, ndcgs, mrrs\n",
        "\n",
        "def _eval_one_rating(idx, model, dataset, testRatings, testNegatives, topk=10):\n",
        "    rating = testRatings\n",
        "    items = testNegatives\n",
        "    u = rating[0]\n",
        "\n",
        "    gtItem = rating[1]\n",
        "    items.append(gtItem)\n",
        "    map_item_score = {}\n",
        "    users = np.full(len(items), u, dtype='int32')\n",
        "\n",
        "    feed_dict = {\n",
        "        'user_id': users,\n",
        "        'item_id': np.array(items),\n",
        "    }\n",
        "    \n",
        "    predictions = model.get_score(feed_dict)\n",
        "    \n",
        "    for i in range(len(items)):\n",
        "        item = items[i]\n",
        "        map_item_score[item] = predictions[i]\n",
        "\n",
        "    ranklist = heapq.nlargest(topk, map_item_score, key=map_item_score.get)\n",
        "    \n",
        "    hr = getHitRatio(ranklist, gtItem)\n",
        "    ndcg = getNDCG(ranklist, gtItem)\n",
        "    mrr = getMRR(ranklist, gtItem)\n",
        "    \n",
        "    return hr, ndcg, mrr\n",
        "\n",
        "def getHitRatio(ranklist, gtItem):\n",
        "    for item in ranklist:\n",
        "        if item == gtItem:\n",
        "            return 1\n",
        "    return 0\n",
        "\n",
        "def getNDCG(ranklist, gtItem):\n",
        "    for i in range(len(ranklist)):\n",
        "        item = ranklist[i]\n",
        "        if item == gtItem:\n",
        "            return math.log(2) / math.log(i+2)\n",
        "    return 0 \n",
        "\n",
        "def getMRR(ranklist, gtItem):\n",
        "    for i, pred in enumerate(ranklist):\n",
        "        if pred == gtItem:\n",
        "            return 1/(i+1)\n",
        "    else:\n",
        "        return 0       \n",
        "\n",
        "def plot_statistics(mrr_list, hr_list, ndcg_list, loss_list):\n",
        "    plt.figure()\n",
        "    plt.rcParams['figure.figsize'] = (15, 8)\n",
        "    mrr = np.array(mrr_list)\n",
        "    hr = np.array(hr_list)\n",
        "    ndcg = np.array(ndcg_list)\n",
        "    loss = np.array(loss_list)\n",
        "    \n",
        "    plt.plot(mrr, lw=2, marker='*', label = \"MRR\")\n",
        "    plt.plot(hr, lw=2, marker='o', label = \"HR\")\n",
        "    plt.plot(ndcg, lw=2, marker='v', label = \"NDCG\")\n",
        "    plt.plot(loss, lw=2, marker='s', label = \"Loss\")\n",
        "\n",
        "    # decoração\n",
        "    plt.grid()\n",
        "    plt.xticks(fontsize=16)\n",
        "    plt.yticks(fontsize=16)\n",
        "    plt.legend(loc=0, fontsize=16)\n",
        "    plt.xlabel(\"Epochs\", size=16)\n",
        "    plt.ylabel(\"Value\", size=16)\n",
        "    plt.legend()\n",
        "    plt.show()    \n",
        "\n",
        "# --> Testing Init performance\n",
        "hr, ndcg, mrr = test(model.to(device), ds, testRatings, topK=10)"
      ],
      "execution_count": null,
      "outputs": [
        {
          "output_type": "stream",
          "text": [
            "              Eval: MRR = 0.03169 -- HR = 0.1177 -- NDCG = 0.05146\n"
          ],
          "name": "stdout"
        }
      ]
    },
    {
      "cell_type": "markdown",
      "metadata": {
        "id": "ef-hSw4ZbGpc"
      },
      "source": [
        "#### Check MRR function with this link http://www.gabormelli.com/RKB/Mean_Reciprocal_Rank_(MRR)_Measure\n",
        "\n",
        "#### --> Testing\n",
        "MRRs = []\n",
        "\n",
        "- One sample\n",
        "\n",
        "q1 = 3\n",
        "\n",
        "rank1 = [1,2,3]\n",
        "\n",
        "MRRs.append(getMRR(rank1, q1))\n",
        "\n",
        "- Another sample\n",
        "\n",
        "q2 = 2\n",
        "\n",
        "rank2 = [1,2,3]\n",
        "\n",
        "MRRs.append(getMRR(rank2, q2))\n",
        "\n",
        "- And another sample\n",
        "\n",
        "\n",
        "q3 = 1\n",
        "\n",
        "rank3 = [1,2,3]\n",
        "\n",
        "MRRs.append(getMRR(rank3, q3))\n",
        "\n",
        "print(MRRs)\n",
        "\n",
        "out: [0.3333333333333333, 0.5, 1.0]\n",
        "\n",
        "np.array(MRRs).mean()\n",
        "\n",
        "out: 0.611111111111111\n",
        "\n"
      ]
    },
    {
      "cell_type": "code",
      "metadata": {
        "colab": {
          "base_uri": "https://localhost:8080/",
          "height": 1000
        },
        "id": "HQ7ZjUsTE_mL",
        "outputId": "81ed2673-d3e0-4dd4-87eb-001242ccef62"
      },
      "source": [
        "deterministic()\n",
        "\n",
        "try:\n",
        "    del model\n",
        "    gc.collect()\n",
        "    torch.cuda.empty_cache()\n",
        "except:\n",
        "    pass\n",
        "\n",
        "model = RecSysNet(\n",
        "    n_users=num_users, \n",
        "    n_items=num_items,\n",
        "    embedding_dim=128 \n",
        ").to(device)    \n",
        "\n",
        "loss_fn = torch.nn.BCEWithLogitsLoss()\n",
        "optimizer = torch.optim.AdamW(model.parameters())\n",
        "\n",
        "TOPK = 10\n",
        "N_EPOCHS = 20\n",
        "BCE_loss_list, hr_list, ndcg_list, mrr_list = [], [], [], []\n",
        "\n",
        "# --> Check init performance\n",
        "hr, ndcg, mrr = test(model, full_dataset, testRatings, topK=TOPK)\n",
        "print()\n",
        "hr_list.append(hr)\n",
        "ndcg_list.append(ndcg)\n",
        "mrr_list.append(mrr)\n",
        "BCE_loss_list.append(1)\n",
        "\n",
        "\n",
        "training_stats = []\n",
        "for epoch in range(1, N_EPOCHS+1):\n",
        "    loss_train = train_one_epoch(model, train_loader, loss_fn, optimizer, epoch, N_EPOCHS, device)\n",
        "    hr, ndcg, mrr = test(model,full_dataset, testRatings, topK=TOPK)\n",
        "    mrr_list.append(mrr)\n",
        "    hr_list.append(hr)\n",
        "    ndcg_list.append(ndcg)\n",
        "    BCE_loss_list.append(loss_train)\n",
        "\n",
        "    training_stats.append(\n",
        "        {\n",
        "            'epoch': epoch, \n",
        "            'Training Loss': loss_train, \n",
        "            'MRR': mrr, \n",
        "            'HR': hr,\n",
        "            'NDCG':ndcg,\n",
        "        }\n",
        "            )\n",
        "\n",
        "best_iter = np.argmax(np.array(mrr_list))\n",
        "best_mrr = mrr_list[best_iter]\n",
        "best_hr = hr_list[best_iter]\n",
        "best_ndcg = ndcg_list[best_iter]\n",
        "\n",
        "print(f\"End. Best Iteration {best_iter}. MRR: {best_mrr :.4} -- HR: {best_hr :.4} -- NDCG: {best_ndcg :.4}\")\n",
        "\n",
        "plot_statistics(mrr_list, hr_list, ndcg_list, BCE_loss_list)"
      ],
      "execution_count": null,
      "outputs": [
        {
          "output_type": "stream",
          "text": [
            "Experimento deterministico, seed: 2357 -- Existe 1 GPU Tesla P100-PCIE-16GB disponível.\n",
            "              Eval: MRR = 0.02737 -- HR = 0.0965 -- NDCG = 0.04324\n",
            "\n",
            "Epoch [1/20]: Train Loss: 0.396\n",
            "              Eval: MRR = 0.1572 -- HR = 0.3849 -- NDCG = 0.2105\n",
            "Epoch [2/20]: Train Loss: 0.3567\n",
            "              Eval: MRR = 0.1676 -- HR = 0.403 -- NDCG = 0.2223\n",
            "Epoch [3/20]: Train Loss: 0.349\n",
            "              Eval: MRR = 0.1818 -- HR = 0.4189 -- NDCG = 0.2372\n",
            "Epoch [4/20]: Train Loss: 0.3376\n",
            "              Eval: MRR = 0.2036 -- HR = 0.474 -- NDCG = 0.2666\n",
            "Epoch [5/20]: Train Loss: 0.3221\n",
            "              Eval: MRR = 0.2165 -- HR = 0.4995 -- NDCG = 0.2827\n",
            "Epoch [6/20]: Train Loss: 0.307\n",
            "              Eval: MRR = 0.2235 -- HR = 0.5292 -- NDCG = 0.295\n",
            "Epoch [7/20]: Train Loss: 0.2947\n",
            "              Eval: MRR = 0.2292 -- HR = 0.5419 -- NDCG = 0.3025\n",
            "Epoch [8/20]: Train Loss: 0.2857\n",
            "              Eval: MRR = 0.2401 -- HR = 0.5514 -- NDCG = 0.3134\n",
            "Epoch [9/20]: Train Loss: 0.278\n",
            "              Eval: MRR = 0.2365 -- HR = 0.561 -- NDCG = 0.3122\n",
            "Epoch [10/20]: Train Loss: 0.2714\n",
            "              Eval: MRR = 0.2445 -- HR = 0.5811 -- NDCG = 0.3234\n",
            "Epoch [11/20]: Train Loss: 0.2659\n",
            "              Eval: MRR = 0.2469 -- HR = 0.5779 -- NDCG = 0.3243\n",
            "Epoch [12/20]: Train Loss: 0.2604\n",
            "              Eval: MRR = 0.237 -- HR = 0.561 -- NDCG = 0.3132\n",
            "Epoch [13/20]: Train Loss: 0.2554\n",
            "              Eval: MRR = 0.2431 -- HR = 0.5737 -- NDCG = 0.3206\n",
            "Epoch [14/20]: Train Loss: 0.2508\n",
            "              Eval: MRR = 0.2388 -- HR = 0.5875 -- NDCG = 0.3201\n",
            "Epoch [15/20]: Train Loss: 0.2462\n",
            "              Eval: MRR = 0.2374 -- HR = 0.5769 -- NDCG = 0.3172\n",
            "Epoch [16/20]: Train Loss: 0.2418\n",
            "              Eval: MRR = 0.2519 -- HR = 0.5864 -- NDCG = 0.3308\n",
            "Epoch [17/20]: Train Loss: 0.2378\n",
            "              Eval: MRR = 0.243 -- HR = 0.5779 -- NDCG = 0.3217\n",
            "Epoch [18/20]: Train Loss: 0.2337\n",
            "              Eval: MRR = 0.2436 -- HR = 0.5864 -- NDCG = 0.3242\n",
            "Epoch [19/20]: Train Loss: 0.2299\n",
            "              Eval: MRR = 0.2456 -- HR = 0.5875 -- NDCG = 0.3258\n",
            "Epoch [20/20]: Train Loss: 0.2259\n",
            "              Eval: MRR = 0.2516 -- HR = 0.5896 -- NDCG = 0.3308\n",
            "End. Best Iteration 16. MRR: 0.2519 -- HR: 0.5864 -- NDCG: 0.3308\n"
          ],
          "name": "stdout"
        },
        {
          "output_type": "display_data",
          "data": {
            "image/png": "[encoded data removed]",
            "text/plain": [
              "<Figure size 1080x576 with 1 Axes>"
            ]
          },
          "metadata": {
            "tags": [],
            "needs_background": "light"
          }
        }
      ]
    },
    {
      "cell_type": "code",
      "metadata": {
        "colab": {
          "base_uri": "https://localhost:8080/",
          "height": 700
        },
        "id": "Yq4Yi4VuoFBx",
        "outputId": "5364dc15-147f-4d6d-a5cf-046f03df684e"
      },
      "source": [
        "df_stats = pd.DataFrame(data=training_stats)\n",
        "df_stats = df_stats.set_index('epoch')\n",
        "pd.set_option('precision', 2)\n",
        "df_stats"
      ],
      "execution_count": null,
      "outputs": [
        {
          "output_type": "execute_result",
          "data": {
            "text/html": [
              "<div>\n",
              "<style scoped>\n",
              "    .dataframe tbody tr th:only-of-type {\n",
              "        vertical-align: middle;\n",
              "    }\n",
              "\n",
              "    .dataframe tbody tr th {\n",
              "        vertical-align: top;\n",
              "    }\n",
              "\n",
              "    .dataframe thead th {\n",
              "        text-align: right;\n",
              "    }\n",
              "</style>\n",
              "<table border=\"1\" class=\"dataframe\">\n",
              "  <thead>\n",
              "    <tr style=\"text-align: right;\">\n",
              "      <th></th>\n",
              "      <th>Training Loss</th>\n",
              "      <th>MRR</th>\n",
              "      <th>HR</th>\n",
              "      <th>NDCG</th>\n",
              "    </tr>\n",
              "    <tr>\n",
              "      <th>epoch</th>\n",
              "      <th></th>\n",
              "      <th></th>\n",
              "      <th></th>\n",
              "      <th></th>\n",
              "    </tr>\n",
              "  </thead>\n",
              "  <tbody>\n",
              "    <tr>\n",
              "      <th>1</th>\n",
              "      <td>0.40</td>\n",
              "      <td>0.16</td>\n",
              "      <td>0.38</td>\n",
              "      <td>0.21</td>\n",
              "    </tr>\n",
              "    <tr>\n",
              "      <th>2</th>\n",
              "      <td>0.36</td>\n",
              "      <td>0.17</td>\n",
              "      <td>0.40</td>\n",
              "      <td>0.22</td>\n",
              "    </tr>\n",
              "    <tr>\n",
              "      <th>3</th>\n",
              "      <td>0.35</td>\n",
              "      <td>0.18</td>\n",
              "      <td>0.42</td>\n",
              "      <td>0.24</td>\n",
              "    </tr>\n",
              "    <tr>\n",
              "      <th>4</th>\n",
              "      <td>0.34</td>\n",
              "      <td>0.20</td>\n",
              "      <td>0.47</td>\n",
              "      <td>0.27</td>\n",
              "    </tr>\n",
              "    <tr>\n",
              "      <th>5</th>\n",
              "      <td>0.32</td>\n",
              "      <td>0.22</td>\n",
              "      <td>0.50</td>\n",
              "      <td>0.28</td>\n",
              "    </tr>\n",
              "    <tr>\n",
              "      <th>6</th>\n",
              "      <td>0.31</td>\n",
              "      <td>0.22</td>\n",
              "      <td>0.53</td>\n",
              "      <td>0.30</td>\n",
              "    </tr>\n",
              "    <tr>\n",
              "      <th>7</th>\n",
              "      <td>0.29</td>\n",
              "      <td>0.23</td>\n",
              "      <td>0.54</td>\n",
              "      <td>0.30</td>\n",
              "    </tr>\n",
              "    <tr>\n",
              "      <th>8</th>\n",
              "      <td>0.29</td>\n",
              "      <td>0.24</td>\n",
              "      <td>0.55</td>\n",
              "      <td>0.31</td>\n",
              "    </tr>\n",
              "    <tr>\n",
              "      <th>9</th>\n",
              "      <td>0.28</td>\n",
              "      <td>0.24</td>\n",
              "      <td>0.56</td>\n",
              "      <td>0.31</td>\n",
              "    </tr>\n",
              "    <tr>\n",
              "      <th>10</th>\n",
              "      <td>0.27</td>\n",
              "      <td>0.24</td>\n",
              "      <td>0.58</td>\n",
              "      <td>0.32</td>\n",
              "    </tr>\n",
              "    <tr>\n",
              "      <th>11</th>\n",
              "      <td>0.27</td>\n",
              "      <td>0.25</td>\n",
              "      <td>0.58</td>\n",
              "      <td>0.32</td>\n",
              "    </tr>\n",
              "    <tr>\n",
              "      <th>12</th>\n",
              "      <td>0.26</td>\n",
              "      <td>0.24</td>\n",
              "      <td>0.56</td>\n",
              "      <td>0.31</td>\n",
              "    </tr>\n",
              "    <tr>\n",
              "      <th>13</th>\n",
              "      <td>0.26</td>\n",
              "      <td>0.24</td>\n",
              "      <td>0.57</td>\n",
              "      <td>0.32</td>\n",
              "    </tr>\n",
              "    <tr>\n",
              "      <th>14</th>\n",
              "      <td>0.25</td>\n",
              "      <td>0.24</td>\n",
              "      <td>0.59</td>\n",
              "      <td>0.32</td>\n",
              "    </tr>\n",
              "    <tr>\n",
              "      <th>15</th>\n",
              "      <td>0.25</td>\n",
              "      <td>0.24</td>\n",
              "      <td>0.58</td>\n",
              "      <td>0.32</td>\n",
              "    </tr>\n",
              "    <tr>\n",
              "      <th>16</th>\n",
              "      <td>0.24</td>\n",
              "      <td>0.25</td>\n",
              "      <td>0.59</td>\n",
              "      <td>0.33</td>\n",
              "    </tr>\n",
              "    <tr>\n",
              "      <th>17</th>\n",
              "      <td>0.24</td>\n",
              "      <td>0.24</td>\n",
              "      <td>0.58</td>\n",
              "      <td>0.32</td>\n",
              "    </tr>\n",
              "    <tr>\n",
              "      <th>18</th>\n",
              "      <td>0.23</td>\n",
              "      <td>0.24</td>\n",
              "      <td>0.59</td>\n",
              "      <td>0.32</td>\n",
              "    </tr>\n",
              "    <tr>\n",
              "      <th>19</th>\n",
              "      <td>0.23</td>\n",
              "      <td>0.25</td>\n",
              "      <td>0.59</td>\n",
              "      <td>0.33</td>\n",
              "    </tr>\n",
              "    <tr>\n",
              "      <th>20</th>\n",
              "      <td>0.23</td>\n",
              "      <td>0.25</td>\n",
              "      <td>0.59</td>\n",
              "      <td>0.33</td>\n",
              "    </tr>\n",
              "  </tbody>\n",
              "</table>\n",
              "</div>"
            ],
            "text/plain": [
              "       Training Loss   MRR    HR  NDCG\n",
              "epoch                                 \n",
              "1               0.40  0.16  0.38  0.21\n",
              "2               0.36  0.17  0.40  0.22\n",
              "3               0.35  0.18  0.42  0.24\n",
              "4               0.34  0.20  0.47  0.27\n",
              "5               0.32  0.22  0.50  0.28\n",
              "6               0.31  0.22  0.53  0.30\n",
              "7               0.29  0.23  0.54  0.30\n",
              "8               0.29  0.24  0.55  0.31\n",
              "9               0.28  0.24  0.56  0.31\n",
              "10              0.27  0.24  0.58  0.32\n",
              "11              0.27  0.25  0.58  0.32\n",
              "12              0.26  0.24  0.56  0.31\n",
              "13              0.26  0.24  0.57  0.32\n",
              "14              0.25  0.24  0.59  0.32\n",
              "15              0.25  0.24  0.58  0.32\n",
              "16              0.24  0.25  0.59  0.33\n",
              "17              0.24  0.24  0.58  0.32\n",
              "18              0.23  0.24  0.59  0.32\n",
              "19              0.23  0.25  0.59  0.33\n",
              "20              0.23  0.25  0.59  0.33"
            ]
          },
          "metadata": {
            "tags": []
          },
          "execution_count": 211
        }
      ]
    }
  ]
}