{
  "nbformat": 4,
  "nbformat_minor": 0,
  "metadata": {
    "colab": {
      "name": "MovieLens - NM.ipynb",
      "provenance": [],
      "collapsed_sections": [],
      "toc_visible": true
    },
    "kernelspec": {
      "name": "python3",
      "display_name": "Python 3"
    },
    "accelerator": "GPU"
  },
  "cells": [
    {
      "cell_type": "markdown",
      "metadata": {
        "id": "Zpl5bgTU_pIr"
      },
      "source": [
        "# Imports"
      ]
    },
    {
      "cell_type": "code",
      "metadata": {
        "id": "QMMkJcQz_WH3"
      },
      "source": [
        "# basics\n",
        "import os\n",
        "import gc\n",
        "import math\n",
        "import pickle\n",
        "import numpy as np\n",
        "import pandas as pd\n",
        "from time import time\n",
        "from dataclasses import dataclass\n",
        "\n",
        "# scipy\n",
        "import scipy.sparse as sp\n",
        "\n",
        "# plots\n",
        "import seaborn as sns\n",
        "import matplotlib.pyplot as plt\n",
        "\n",
        "# torch\n",
        "import torch\n",
        "from torch.utils.data import Dataset, DataLoader\n",
        "\n",
        "# retrieval topK\n",
        "import heapq  "
      ],
      "execution_count": 1,
      "outputs": []
    },
    {
      "cell_type": "code",
      "metadata": {
        "colab": {
          "base_uri": "https://localhost:8080/"
        },
        "id": "wYNAVTFH_odr",
        "outputId": "3f914573-9d15-4445-d914-a1ae4d454ba7"
      },
      "source": [
        "# To get deterministic experiments \n",
        "\n",
        "device = torch.device('cuda' if torch.cuda.is_available() else 'cpu')\n",
        "manual_seed = 2357 # only primers ;)\n",
        " \n",
        "def deterministic(rep=True):\n",
        "    if rep:\n",
        "        np.random.seed(manual_seed)\n",
        "        torch.manual_seed(manual_seed)\n",
        "        if torch.cuda.is_available():\n",
        "            torch.cuda.manual_seed(manual_seed)\n",
        "            torch.cuda.manual_seed_all(manual_seed)\n",
        "        torch.backends.cudnn.enabled = False \n",
        "        torch.backends.cudnn.benchmark = False\n",
        "        torch.backends.cudnn.deterministic = True\n",
        "        print(f'Experimento deterministico, seed: {manual_seed} -- ', end = '')\n",
        "        print(f'Existe {torch.cuda.device_count()} GPU\\\n",
        " {torch.cuda.get_device_name(0)} disponível.')\n",
        "    else:\n",
        "        print('Experimento randomico')\n",
        "deterministic()"
      ],
      "execution_count": 2,
      "outputs": [
        {
          "output_type": "stream",
          "text": [
            "Experimento deterministico, seed: 2357 -- Existe 1 GPU Tesla V100-SXM2-16GB disponível.\n"
          ],
          "name": "stdout"
        }
      ]
    },
    {
      "cell_type": "markdown",
      "metadata": {
        "id": "By144Z5L_5ia"
      },
      "source": [
        "# Data prep"
      ]
    },
    {
      "cell_type": "code",
      "metadata": {
        "colab": {
          "base_uri": "https://localhost:8080/"
        },
        "id": "YAp1m1A2_5fp",
        "outputId": "e61825da-1edf-4485-e4c0-b6b1ebeabe54"
      },
      "source": [
        "!unzip /content/drive/MyDrive/Colab\\ Notebooks/RecSys/movielens_datasets/ml100k/ml-100k.zip\n",
        "!mkdir Data\n",
        "\n",
        "INPUT_PATH = 'ml-100k/u.data'\n",
        "\n",
        "OUTPUT_PATH_TRAIN = 'Data/movielens.train.rating'\n",
        "OUTPUT_PATH_TEST = 'Data/movielens.test.rating'\n",
        "USER_FIELD = 'userID'"
      ],
      "execution_count": 3,
      "outputs": [
        {
          "output_type": "stream",
          "text": [
            "Archive:  /content/drive/MyDrive/Colab Notebooks/RecSys/movielens_datasets/ml100k/ml-100k.zip\n",
            "   creating: ml-100k/\n",
            "  inflating: ml-100k/allbut.pl       \n",
            "  inflating: ml-100k/mku.sh          \n",
            "  inflating: ml-100k/README          \n",
            "  inflating: ml-100k/u.data          \n",
            "  inflating: ml-100k/u.genre         \n",
            "  inflating: ml-100k/u.info          \n",
            "  inflating: ml-100k/u.item          \n",
            "  inflating: ml-100k/u.occupation    \n",
            "  inflating: ml-100k/u.user          \n",
            "  inflating: ml-100k/u1.base         \n",
            "  inflating: ml-100k/u1.test         \n",
            "  inflating: ml-100k/u2.base         \n",
            "  inflating: ml-100k/u2.test         \n",
            "  inflating: ml-100k/u3.base         \n",
            "  inflating: ml-100k/u3.test         \n",
            "  inflating: ml-100k/u4.base         \n",
            "  inflating: ml-100k/u4.test         \n",
            "  inflating: ml-100k/u5.base         \n",
            "  inflating: ml-100k/u5.test         \n",
            "  inflating: ml-100k/ua.base         \n",
            "  inflating: ml-100k/ua.test         \n",
            "  inflating: ml-100k/ub.base         \n",
            "  inflating: ml-100k/ub.test         \n"
          ],
          "name": "stdout"
        }
      ]
    },
    {
      "cell_type": "code",
      "metadata": {
        "colab": {
          "base_uri": "https://localhost:8080/"
        },
        "id": "ATFiUyQU_5dY",
        "outputId": "1c6071a8-4029-4120-956f-47ca0a2e8b67"
      },
      "source": [
        "def save_to_csv(df,path, header=False, index=False, sep='\\t', verbose=False):\n",
        "    if verbose:\n",
        "        print(\"Saving df to path: {}\".format(path))\n",
        "        print(\"Columns in df are: {}\".format(df.columns.tolist()))\n",
        "\n",
        "    df.to_csv(path, header=header, index=index, sep=sep)\n",
        "\n",
        "def get_train_test_df(transactions):\n",
        "    print(\"Size of the entire dataset:{}\".format(transactions.shape))\n",
        "    transactions.sort_values(by=['timestamp'], inplace=True)\n",
        "    last_transaction_mask = transactions.duplicated(subset={USER_FIELD}, keep=\"last\")\n",
        "    train_df = transactions[last_transaction_mask]\n",
        "    test_df = transactions[~last_transaction_mask]\n",
        "    \n",
        "    train_df.sort_values(by=[\"userID\", 'timestamp'], inplace=True)\n",
        "    test_df.sort_values(by=[\"userID\", 'timestamp'], inplace=True)\n",
        "    return train_df, test_df\n",
        "\n",
        "def report_stats(transactions, train_df, test_df):\n",
        "    whole_size = transactions.shape[0]*1.0\n",
        "    train_size = train_df.shape[0]\n",
        "    test_size = test_df.shape[0]\n",
        "    print(\"Total No. of Records = {}\".format(whole_size))\n",
        "    print(\"Train size = {}, Test size = {}\".format(train_size, test_size))\n",
        "    print(\"Train % = {}, Test % ={}\".format(train_size/whole_size, test_size/whole_size))\n",
        "\n",
        "transactions = pd.read_csv(\n",
        "    INPUT_PATH, \n",
        "    sep=\"\\t\", \n",
        "    names=['userID', 'movieID', 'rating', 'timestamp'], \n",
        "    engine='python'\n",
        "    )\n",
        "\n",
        "transactions['rating'] = 1\n",
        "\n",
        "# --> make the dataset\n",
        "train_df, test_df = get_train_test_df(transactions)\n",
        "save_to_csv(train_df, OUTPUT_PATH_TRAIN, header=False, index=False, verbose=1)\n",
        "save_to_csv(test_df, OUTPUT_PATH_TEST, header=False, index=False, verbose=1)\n",
        "report_stats(transactions, train_df, test_df)"
      ],
      "execution_count": 4,
      "outputs": [
        {
          "output_type": "stream",
          "text": [
            "Size of the entire dataset:(100000, 4)\n",
            "Saving df to path: Data/movielens.train.rating\n",
            "Columns in df are: ['userID', 'movieID', 'rating', 'timestamp']\n",
            "Saving df to path: Data/movielens.test.rating\n",
            "Columns in df are: ['userID', 'movieID', 'rating', 'timestamp']\n",
            "Total No. of Records = 100000.0\n",
            "Train size = 99057, Test size = 943\n",
            "Train % = 0.99057, Test % =0.00943\n"
          ],
          "name": "stdout"
        },
        {
          "output_type": "stream",
          "text": [
            "/usr/local/lib/python3.6/dist-packages/ipykernel_launcher.py:15: SettingWithCopyWarning: \n",
            "A value is trying to be set on a copy of a slice from a DataFrame\n",
            "\n",
            "See the caveats in the documentation: https://pandas.pydata.org/pandas-docs/stable/user_guide/indexing.html#returning-a-view-versus-a-copy\n",
            "  from ipykernel import kernelapp as app\n",
            "/usr/local/lib/python3.6/dist-packages/ipykernel_launcher.py:16: SettingWithCopyWarning: \n",
            "A value is trying to be set on a copy of a slice from a DataFrame\n",
            "\n",
            "See the caveats in the documentation: https://pandas.pydata.org/pandas-docs/stable/user_guide/indexing.html#returning-a-view-versus-a-copy\n",
            "  app.launch_new_instance()\n"
          ],
          "name": "stderr"
        }
      ]
    },
    {
      "cell_type": "markdown",
      "metadata": {
        "id": "6LUrXwT-2hj-"
      },
      "source": [
        "# Dataset"
      ]
    },
    {
      "cell_type": "code",
      "metadata": {
        "id": "IfgZCaVaPr7B"
      },
      "source": [
        "def load_train(filename):\n",
        "    num_users, num_items = 0, 0\n",
        "    with open(filename, \"r\") as f:\n",
        "        line = f.readline()\n",
        "        while line != None and line != \"\":\n",
        "            arr = line.split(\"\\t\")\n",
        "            u, i = int(arr[0]), int(arr[1])\n",
        "            num_users = max(num_users, u)\n",
        "            num_items = max(num_items, i)\n",
        "            line = f.readline()\n",
        "    \n",
        "    mat = sp.dok_matrix((num_users+1, num_items+1), dtype=np.float32)\n",
        "    with open(filename, \"r\") as f:\n",
        "        line = f.readline()\n",
        "        while line != None and line != \"\":\n",
        "            arr = line.split(\"\\t\")\n",
        "            user, item, rating = int(arr[0]), int(arr[1]), float(arr[2])\n",
        "            if (rating > 0):\n",
        "                mat[user, item] = 1.0\n",
        "            line = f.readline()\n",
        "    return mat"
      ],
      "execution_count": 5,
      "outputs": []
    },
    {
      "cell_type": "code",
      "metadata": {
        "id": "6QmWpCmu2mmJ",
        "colab": {
          "base_uri": "https://localhost:8080/"
        },
        "outputId": "d07068ad-7da5-4f3c-84ed-c794ef43b693"
      },
      "source": [
        "\n",
        "\n",
        "@dataclass\n",
        "class PrepData:\n",
        "    filename_test: str\n",
        "    num_negatives_train: int\n",
        "    num_negatives_test: int\n",
        "    train: object\n",
        "\n",
        "    def get_train_instances(self):\n",
        "        train = self.train\n",
        "        num_negatives = self.num_negatives_train\n",
        "        user_input, item_input, ratings = [], [], []\n",
        "        num_users, num_items = train.shape\n",
        "\n",
        "        for (u, i) in train.keys():\n",
        "            # positive instance\n",
        "            user_input.append(u)\n",
        "            item_input.append(i)\n",
        "            ratings.append(1)\n",
        "            # negative instances\n",
        "            for _ in range(num_negatives):\n",
        "                j = np.random.randint(1, num_items)\n",
        "                # while train.has_key((u, j)):\n",
        "                while (u, j) in train:\n",
        "                    j = np.random.randint(1, num_items)\n",
        "                user_input.append(u)\n",
        "                item_input.append(j)\n",
        "                ratings.append(0)\n",
        "        return user_input, item_input, ratings\n",
        "\n",
        "    def load_test(self):\n",
        "        ratingList = []\n",
        "        with open(self.filename_test, \"r\") as f:\n",
        "            line = f.readline()\n",
        "            while line != None and line != \"\":\n",
        "                arr = line.split(\"\\t\")\n",
        "                user, item = int(arr[0]), int(arr[1])\n",
        "                ratingList.append([user, item])\n",
        "                line = f.readline()\n",
        "        return ratingList\n",
        "    \n",
        "    def get_test_instances(self):\n",
        "        _, num_items = self.train.shape\n",
        "        testRatings = self.load_test()\n",
        "\n",
        "        negativeList = []\n",
        "        for user_item_pair in testRatings:\n",
        "            user = user_item_pair[0]\n",
        "            item = user_item_pair[1]\n",
        "            negatives = []\n",
        "            for t in range(self.num_negatives_test):\n",
        "                j = np.random.randint(1, num_items)\n",
        "                while (user, j) in self.train or j == item:\n",
        "                    j = np.random.randint(1, num_items)\n",
        "                negatives.append(j)\n",
        "            negativeList.append(negatives)\n",
        "        return negativeList\n",
        "\n",
        "\n",
        "class RecSysDataset(Dataset):\n",
        "\n",
        "    def __init__(self, train_data):\n",
        "        self.user_input, self.item_input, self.ratings = train_data\n",
        "\n",
        "    def __len__(self):\n",
        "        return len(self.user_input)\n",
        "\n",
        "    def __getitem__(self, index):\n",
        "        user_id = self.user_input[index]\n",
        "        item_id = self.item_input[index]\n",
        "        rating = self.ratings[index]\n",
        "\n",
        "        return {'user_id': user_id, 'item_id': item_id, 'rating': rating}\n",
        "\n",
        "\n",
        "# --> Testing Class DataPrep        \n",
        "train_matrix = load_train('Data/movielens.train.rating')\n",
        "\n",
        "PrepData = PrepData(\n",
        "    filename_test='Data/movielens.test.rating',\n",
        "    num_negatives_train=4,\n",
        "    num_negatives_test=100,\n",
        "    train=train_matrix\n",
        ") \n",
        "\n",
        "train_data = PrepData.get_train_instances()\n",
        "test_negatives = PrepData.get_test_instances()\n",
        "test_ratings  = PrepData.load_test()\n",
        "\n",
        "# --> Testing RecSysDataset\n",
        "\n",
        "ds = RecSysDataset(train_data)\n",
        "\n",
        "ds_dict = ds[0]\n",
        "print('Testing RecSysDataset')\n",
        "print(f\"user_id: {ds_dict['user_id']}, item_id: {ds_dict['item_id']}, rating: {ds_dict['rating']}\")\n",
        "\n",
        "print(f\"train: {train_matrix.shape}, testRatings: {len(test_ratings)}, testNegatives: {len(test_negatives)}\")\n",
        "print(f\"num_users: {train_matrix.shape[0]}, num_items: {train_matrix.shape[1]}\")"
      ],
      "execution_count": 6,
      "outputs": [
        {
          "output_type": "stream",
          "text": [
            "Testing RecSysDataset\n",
            "user_id: 1, item_id: 168, rating: 1\n",
            "train: (944, 1683), testRatings: 943, testNegatives: 943\n",
            "num_users: 944, num_items: 1683\n"
          ],
          "name": "stdout"
        }
      ]
    },
    {
      "cell_type": "markdown",
      "metadata": {
        "id": "cS0hMBDnHU4_"
      },
      "source": [
        "# Dataloader"
      ]
    },
    {
      "cell_type": "code",
      "metadata": {
        "colab": {
          "base_uri": "https://localhost:8080/"
        },
        "id": "RT_75AUeHXPy",
        "outputId": "bbe17604-0998-421e-f31e-ea516a5fcd2a"
      },
      "source": [
        "BATCH_SZ = 256\n",
        "\n",
        "dataset_train = RecSysDataset(train_data)\n",
        "\n",
        "train_loader = DataLoader(\n",
        "    dataset_train, \n",
        "    batch_size=BATCH_SZ,\n",
        "    shuffle=True, \n",
        "    num_workers=os.cpu_count(), \n",
        "    pin_memory=True\n",
        "    )\n",
        "\n",
        "# --> Testing Dataloader\n",
        "dict_loader = next(iter(train_loader))\n",
        "print(f\"user_id: {dict_loader['user_id'].shape}, item_id: {dict_loader['item_id'].shape}, rating: {dict_loader['rating'].shape}\")\n",
        "\n",
        "print('len dataloader:', len(train_loader))"
      ],
      "execution_count": 7,
      "outputs": [
        {
          "output_type": "stream",
          "text": [
            "user_id: torch.Size([256]), item_id: torch.Size([256]), rating: torch.Size([256])\n",
            "len dataloader: 1935\n"
          ],
          "name": "stdout"
        }
      ]
    },
    {
      "cell_type": "markdown",
      "metadata": {
        "id": "PkecLzaGOw5E"
      },
      "source": [
        "# Model"
      ]
    },
    {
      "cell_type": "code",
      "metadata": {
        "colab": {
          "base_uri": "https://localhost:8080/"
        },
        "id": "re5z7PFGOwxl",
        "outputId": "be985993-4417-48b7-e8fa-02131116bfa5"
      },
      "source": [
        "class RecSysNet(torch.nn.Module):\n",
        "    def __init__(self, n_users, n_items, embedding_dim=32, out=1):\n",
        "        super().__init__()\n",
        "\n",
        "        self.activation = torch.nn.GELU()\n",
        "        self.drop = torch.nn.Dropout(0.3)\n",
        "        \n",
        "        self.user_embeds = torch.nn.Embedding(n_users, embedding_dim//4, \n",
        "                                                 scale_grad_by_freq=True)\n",
        "        self.item_embeds = torch.nn.Embedding(n_items, 3 * embedding_dim//4, \n",
        "                                                 scale_grad_by_freq=True)\n",
        "\n",
        "        self.fc0 = torch.nn.Linear(embedding_dim, 2 * embedding_dim)\n",
        "        self.fc1 = torch.nn.Linear(2 * embedding_dim, embedding_dim//2)\n",
        "\n",
        "        self.output_layer = torch.nn.Linear(embedding_dim//2, out)\n",
        "\n",
        "    def get_score(self, input_dict):\n",
        "        for key in input_dict:\n",
        "            if type(input_dict[key]) != type(None):\n",
        "                input_dict[key] = torch.from_numpy(input_dict[key]).to(dtype=torch.long, device=device)\n",
        "        output_scores = self.forward(input_dict).cpu().detach().numpy()\n",
        "        return output_scores\n",
        "    \n",
        "    def forward(self, input_dict):\n",
        "        user_embeds = self.user_embeds(input_dict['user_id'])\n",
        "        item_embeds = self.item_embeds(input_dict['item_id'])\n",
        "\n",
        "        x = torch.cat([user_embeds, item_embeds], dim=1)\n",
        "\n",
        "        o = self.drop(self.activation(self.fc0(x)))\n",
        "        o = self.activation(self.fc1(o))\n",
        "        \n",
        "        logit = self.output_layer(o)\n",
        "        return logit\n",
        "\n",
        "# --> Testing the Network\n",
        "try:\n",
        "    del model\n",
        "    gc.collect()\n",
        "    torch.cuda.empty_cache()\n",
        "except:\n",
        "    pass\n",
        "\n",
        "model = RecSysNet(\n",
        "    n_users=train_matrix.shape[0], \n",
        "    n_items=train_matrix.shape[1], \n",
        "    embedding_dim=128\n",
        ")    \n",
        "\n",
        "with torch.no_grad():\n",
        "    out = model(dict_loader)\n",
        "print(f'out forward shape: {out.shape}', end= '  --  ')\n",
        "print(f'out sample: {out[0]}')"
      ],
      "execution_count": 8,
      "outputs": [
        {
          "output_type": "stream",
          "text": [
            "out forward shape: torch.Size([256, 1])  --  out sample: tensor([0.0691])\n"
          ],
          "name": "stdout"
        }
      ]
    },
    {
      "cell_type": "code",
      "metadata": {
        "colab": {
          "base_uri": "https://localhost:8080/"
        },
        "id": "Y1CmuG1IP2EM",
        "outputId": "a38f45d7-c7d9-4227-b4b5-3ce0eec0f48e"
      },
      "source": [
        "def count_parameters(model):\n",
        "    return sum(p.numel() for p in model.parameters() if p.requires_grad)\n",
        "_ = 50\n",
        "\n",
        "print('\\n','#' * _, f'\\n # Número de params. {count_parameters(model):,}' \\\n",
        "       ' trainable parameters #\\n', '#' * _,'\\n')  \n",
        "model"
      ],
      "execution_count": 9,
      "outputs": [
        {
          "output_type": "stream",
          "text": [
            "\n",
            " ################################################## \n",
            " # Número de params. 241,313 trainable parameters #\n",
            " ################################################## \n",
            "\n"
          ],
          "name": "stdout"
        },
        {
          "output_type": "execute_result",
          "data": {
            "text/plain": [
              "RecSysNet(\n",
              "  (activation): GELU()\n",
              "  (drop): Dropout(p=0.3, inplace=False)\n",
              "  (user_embeds): Embedding(944, 32, scale_grad_by_freq=True)\n",
              "  (item_embeds): Embedding(1683, 96, scale_grad_by_freq=True)\n",
              "  (fc0): Linear(in_features=128, out_features=256, bias=True)\n",
              "  (fc1): Linear(in_features=256, out_features=64, bias=True)\n",
              "  (output_layer): Linear(in_features=64, out_features=1, bias=True)\n",
              ")"
            ]
          },
          "metadata": {
            "tags": []
          },
          "execution_count": 9
        }
      ]
    },
    {
      "cell_type": "markdown",
      "metadata": {
        "id": "Lan-WrN678ZC"
      },
      "source": [
        "# Train and Evaluate functions "
      ]
    },
    {
      "cell_type": "code",
      "metadata": {
        "id": "ZSS1aiqH3Q9s",
        "colab": {
          "base_uri": "https://localhost:8080/"
        },
        "outputId": "cf94f553-204d-4af0-d1ea-7b0494a2fecb"
      },
      "source": [
        "def train_one_epoch(model, data_loader, loss_fn, optimizer, epoch_no, num_epoch, device, verbose=True):\n",
        "    print(f\"Epoch [{epoch_no}/{num_epoch}]: \", end= '')\n",
        "    epoch_loss = []\n",
        "    model.train()\n",
        "    for dict_train in data_loader:\n",
        "        optimizer.zero_grad()\n",
        "        \n",
        "        for key in dict_train:\n",
        "            if type(dict_train[key]) != type(None):\n",
        "                dict_train[key] = dict_train[key].to(dtype=torch.long, device=device)\n",
        "\n",
        "        rating_prediction = model(dict_train)\n",
        "\n",
        "        rating_true = dict_train['rating']\n",
        "        rating_true = rating_true.float().view(rating_prediction.size())  \n",
        "        loss = loss_fn(rating_prediction, rating_true)\n",
        "\n",
        "        loss.backward()\n",
        "        optimizer.step()\n",
        "\n",
        "        epoch_loss.append(loss.item())\n",
        "\n",
        "    epoch_loss = np.mean(epoch_loss)\n",
        "    if verbose:\n",
        "        print(f\"Train Loss: {epoch_loss:.4}\")\n",
        "    return epoch_loss\n",
        "        \n",
        "def test(model, test_ratings: list, test_negatives: list, topK: int):\n",
        "    model.eval()\n",
        "    hits, ndcgs, mrrs = evaluate_model(model, test_ratings, test_negatives, topK)\n",
        "    hr = np.array(hits).mean()\n",
        "    ndcg = np.array(ndcgs).mean()\n",
        "    mrr = np.array(mrrs).mean()\n",
        "\n",
        "    print(f'               Eval: MRR = {mrr:.4} -- HR = {hr:.4} -- NDCG = {ndcg:.4}')\n",
        "    return hr, ndcg, mrr\n",
        "    \n",
        "def get_items_interacted(user_id, interaction_df):\n",
        "    userid_mask = interaction_df['userid'] == user_id\n",
        "    interacted_items = interaction_df.loc[userid_mask].courseid\n",
        "    return set(interacted_items if type(interacted_items) == pd.Series else [interacted_items])\n",
        "\n",
        "def evaluate_model(model, test_ratings: list, test_negatives: list, topK: int):\n",
        "    mrrs, hits, ndcgs = [], [], []\n",
        "    for idx in range(len(test_ratings)):\n",
        "        hr, ndcg, mrr = _eval_one_rating(idx, model, test_ratings[idx], test_negatives[idx], topK)\n",
        "        hits.append(hr)\n",
        "        ndcgs.append(ndcg)\n",
        "        mrrs.append(mrr)\n",
        "    return hits, ndcgs, mrrs\n",
        "\n",
        "@torch.no_grad()\n",
        "def _eval_one_rating(idx, model, test_ratings, test_negatives, topk=10):\n",
        "    rating = test_ratings\n",
        "    items = test_negatives\n",
        "    u = rating[0]\n",
        "\n",
        "    gtItem = rating[1]\n",
        "    items.append(gtItem)\n",
        "    map_item_score = {}\n",
        "    users = np.full(len(items), u, dtype='int32')\n",
        "\n",
        "    feed_dict = {\n",
        "        'user_id': users,\n",
        "        'item_id': np.array(items),\n",
        "    }\n",
        "    predictions = model.get_score(feed_dict)\n",
        "    \n",
        "    for i in range(len(items)):\n",
        "        item = items[i]\n",
        "        map_item_score[item] = predictions[i]\n",
        "\n",
        "    ranklist = heapq.nlargest(topk, map_item_score, key=map_item_score.get)\n",
        "    \n",
        "    hr = getHitRatio(ranklist, gtItem)\n",
        "    ndcg = getNDCG(ranklist, gtItem)\n",
        "    mrr = getMRR(ranklist, gtItem)\n",
        "    \n",
        "    return hr, ndcg, mrr\n",
        "\n",
        "def getHitRatio(ranklist, gtItem):\n",
        "    for item in ranklist:\n",
        "        if item == gtItem:\n",
        "            return 1\n",
        "    return 0\n",
        "\n",
        "def getNDCG(ranklist, gtItem):\n",
        "    for i in range(len(ranklist)):\n",
        "        item = ranklist[i]\n",
        "        if item == gtItem:\n",
        "            return math.log(2) / math.log(i+2)\n",
        "    return 0 \n",
        "\n",
        "def getMRR(ranklist, gtItem):\n",
        "    for i, pred in enumerate(ranklist):\n",
        "        if pred == gtItem:\n",
        "            return 1/(i+1)\n",
        "    else:\n",
        "        return 0       \n",
        "\n",
        "def plot_statistics(mrr_list, hr_list, ndcg_list, loss_list):\n",
        "    plt.figure()\n",
        "    plt.rcParams['figure.figsize'] = (15, 8)\n",
        "    mrr = np.array(mrr_list)\n",
        "    hr = np.array(hr_list)\n",
        "    ndcg = np.array(ndcg_list)\n",
        "    loss = np.array(loss_list)\n",
        "    \n",
        "    plt.plot(mrr, lw=2, marker='*', label = \"MRR\")\n",
        "    plt.plot(hr, lw=2, marker='o', label = \"HR\")\n",
        "    plt.plot(ndcg, lw=2, marker='v', label = \"NDCG\")\n",
        "    plt.plot(loss, lw=2, marker='s', label = \"Loss\")\n",
        "\n",
        "    # decoração\n",
        "    plt.grid()\n",
        "    plt.xticks(fontsize=16)\n",
        "    plt.yticks(fontsize=16)\n",
        "    plt.legend(loc=0, fontsize=16)\n",
        "    plt.xlabel(\"Epochs\", size=16)\n",
        "    plt.ylabel(\"Value\", size=16)\n",
        "    plt.legend()\n",
        "    plt.show()    \n",
        "\n",
        "# --> Testing Init performance\n",
        "hr, ndcg, mrr = test(\n",
        "    model=model.to(device), \n",
        "    test_ratings=test_ratings, \n",
        "    test_negatives=test_negatives, \n",
        "    topK=10)"
      ],
      "execution_count": 14,
      "outputs": [
        {
          "output_type": "stream",
          "text": [
            "               Eval: MRR = 0.03848 -- HR = 0.1273 -- NDCG = 0.05898\n"
          ],
          "name": "stdout"
        }
      ]
    },
    {
      "cell_type": "markdown",
      "metadata": {
        "id": "ef-hSw4ZbGpc"
      },
      "source": [
        "#### Check MRR function with this link http://www.gabormelli.com/RKB/Mean_Reciprocal_Rank_(MRR)_Measure\n",
        "\n",
        "#### --> Testing\n",
        "MRRs = []\n",
        "\n",
        "- One sample\n",
        "\n",
        "q1 = 3\n",
        "\n",
        "rank1 = [1,2,3]\n",
        "\n",
        "MRRs.append(getMRR(rank1, q1))\n",
        "\n",
        "- Another sample\n",
        "\n",
        "q2 = 2\n",
        "\n",
        "rank2 = [1,2,3]\n",
        "\n",
        "MRRs.append(getMRR(rank2, q2))\n",
        "\n",
        "- And another sample\n",
        "\n",
        "\n",
        "q3 = 1\n",
        "\n",
        "rank3 = [1,2,3]\n",
        "\n",
        "MRRs.append(getMRR(rank3, q3))\n",
        "\n",
        "print(MRRs)\n",
        "\n",
        "out: [0.3333333333333333, 0.5, 1.0]\n",
        "\n",
        "np.array(MRRs).mean()\n",
        "\n",
        "out: 0.611111111111111\n",
        "\n"
      ]
    },
    {
      "cell_type": "code",
      "metadata": {
        "colab": {
          "base_uri": "https://localhost:8080/",
          "height": 1000
        },
        "id": "HQ7ZjUsTE_mL",
        "outputId": "cb76667a-0b91-4d58-ac3d-bd4f3ce6b7a0"
      },
      "source": [
        "deterministic()\n",
        "\n",
        "try:\n",
        "    del model\n",
        "    gc.collect()\n",
        "    torch.cuda.empty_cache()\n",
        "except:\n",
        "    pass\n",
        "\n",
        "model = RecSysNet(\n",
        "    n_users=train_matrix.shape[0], \n",
        "    n_items=train_matrix.shape[1],\n",
        "    embedding_dim=128 \n",
        ").to(device)    \n",
        "\n",
        "loss_fn = torch.nn.BCEWithLogitsLoss()\n",
        "optimizer = torch.optim.AdamW(model.parameters())\n",
        "\n",
        "TOPK = 10\n",
        "N_EPOCHS = 20\n",
        "BCE_loss_list, hr_list, ndcg_list, mrr_list = [], [], [], []\n",
        "\n",
        "# --> Check init performance\n",
        "hr, ndcg, mrr = test(model, test_ratings, test_negatives, TOPK)\n",
        "print()\n",
        "hr_list.append(hr)\n",
        "ndcg_list.append(ndcg)\n",
        "mrr_list.append(mrr)\n",
        "BCE_loss_list.append(1)\n",
        "\n",
        "\n",
        "training_stats = []\n",
        "for epoch in range(1, N_EPOCHS+1):\n",
        "    loss_train = train_one_epoch(model, train_loader, loss_fn, optimizer, epoch, N_EPOCHS, device)\n",
        "    hr, ndcg, mrr = test(model, test_ratings, test_negatives, TOPK)\n",
        "    mrr_list.append(mrr)\n",
        "    hr_list.append(hr)\n",
        "    ndcg_list.append(ndcg)\n",
        "    BCE_loss_list.append(loss_train)\n",
        "\n",
        "    training_stats.append(\n",
        "        {\n",
        "            'epoch': epoch, \n",
        "            'Training Loss': loss_train, \n",
        "            'MRR': mrr, \n",
        "            'HR': hr,\n",
        "            'NDCG':ndcg,\n",
        "        }\n",
        "            )\n",
        "\n",
        "best_iter = np.argmax(np.array(mrr_list))\n",
        "best_mrr = mrr_list[best_iter]\n",
        "best_hr = hr_list[best_iter]\n",
        "best_ndcg = ndcg_list[best_iter]\n",
        "\n",
        "print(f\"End. Best Iteration {best_iter}. MRR: {best_mrr :.4} -- HR: {best_hr :.4} -- NDCG: {best_ndcg :.4}\")\n",
        "\n",
        "plot_statistics(mrr_list, hr_list, ndcg_list, BCE_loss_list)"
      ],
      "execution_count": 17,
      "outputs": [
        {
          "output_type": "stream",
          "text": [
            "Experimento deterministico, seed: 2357 -- Existe 1 GPU Tesla V100-SXM2-16GB disponível.\n",
            "               Eval: MRR = 0.02487 -- HR = 0.1018 -- NDCG = 0.04215\n",
            "\n",
            "Epoch [1/20]: Train Loss: 0.3885\n",
            "               Eval: MRR = 0.1627 -- HR = 0.3998 -- NDCG = 0.2177\n",
            "Epoch [2/20]: Train Loss: 0.3595\n",
            "               Eval: MRR = 0.1595 -- HR = 0.4051 -- NDCG = 0.2168\n",
            "Epoch [3/20]: Train Loss: 0.3532\n",
            "               Eval: MRR = 0.1729 -- HR = 0.4252 -- NDCG = 0.2313\n",
            "Epoch [4/20]: Train Loss: 0.3451\n",
            "               Eval: MRR = 0.1834 -- HR = 0.4464 -- NDCG = 0.2448\n",
            "Epoch [5/20]: Train Loss: 0.3326\n",
            "               Eval: MRR = 0.1957 -- HR = 0.4772 -- NDCG = 0.2614\n",
            "Epoch [6/20]: Train Loss: 0.3167\n",
            "               Eval: MRR = 0.2151 -- HR = 0.5186 -- NDCG = 0.2861\n",
            "Epoch [7/20]: Train Loss: 0.302\n",
            "               Eval: MRR = 0.2203 -- HR = 0.5281 -- NDCG = 0.2924\n",
            "Epoch [8/20]: Train Loss: 0.2911\n",
            "               Eval: MRR = 0.2386 -- HR = 0.5408 -- NDCG = 0.3097\n",
            "Epoch [9/20]: Train Loss: 0.2825\n",
            "               Eval: MRR = 0.2397 -- HR = 0.5599 -- NDCG = 0.3149\n",
            "Epoch [10/20]: Train Loss: 0.2756\n",
            "               Eval: MRR = 0.2415 -- HR = 0.5695 -- NDCG = 0.3185\n",
            "Epoch [11/20]: Train Loss: 0.2698\n",
            "               Eval: MRR = 0.2406 -- HR = 0.5673 -- NDCG = 0.3171\n",
            "Epoch [12/20]: Train Loss: 0.2649\n",
            "               Eval: MRR = 0.2407 -- HR = 0.5631 -- NDCG = 0.3164\n",
            "Epoch [13/20]: Train Loss: 0.26\n",
            "               Eval: MRR = 0.2446 -- HR = 0.5737 -- NDCG = 0.322\n",
            "Epoch [14/20]: Train Loss: 0.2554\n",
            "               Eval: MRR = 0.2549 -- HR = 0.5885 -- NDCG = 0.333\n",
            "Epoch [15/20]: Train Loss: 0.2508\n",
            "               Eval: MRR = 0.2397 -- HR = 0.5864 -- NDCG = 0.3211\n",
            "Epoch [16/20]: Train Loss: 0.2466\n",
            "               Eval: MRR = 0.2477 -- HR = 0.5854 -- NDCG = 0.3268\n",
            "Epoch [17/20]: Train Loss: 0.2422\n",
            "               Eval: MRR = 0.2439 -- HR = 0.5938 -- NDCG = 0.3257\n",
            "Epoch [18/20]: Train Loss: 0.2385\n",
            "               Eval: MRR = 0.2487 -- HR = 0.5896 -- NDCG = 0.3286\n",
            "Epoch [19/20]: Train Loss: 0.2349\n",
            "               Eval: MRR = 0.2504 -- HR = 0.6108 -- NDCG = 0.3346\n",
            "Epoch [20/20]: Train Loss: 0.2313\n",
            "               Eval: MRR = 0.2482 -- HR = 0.5992 -- NDCG = 0.3303\n",
            "End. Best Iteration 14. MRR: 0.2549 -- HR: 0.5885 -- NDCG: 0.333\n"
          ],
          "name": "stdout"
        },
        {
          "output_type": "display_data",
          "data": {
            "image/png": "[encoded data removed]",
            "text/plain": [
              "<Figure size 432x288 with 1 Axes>"
            ]
          },
          "metadata": {
            "tags": [],
            "needs_background": "light"
          }
        }
      ]
    },
    {
      "cell_type": "code",
      "metadata": {
        "colab": {
          "base_uri": "https://localhost:8080/",
          "height": 700
        },
        "id": "Yq4Yi4VuoFBx",
        "outputId": "e4e860a2-0e81-4c3e-af7d-5abf904ee4aa"
      },
      "source": [
        "\n",
        "df_stats = pd.DataFrame(data=training_stats)\n",
        "df_stats = df_stats.set_index('epoch')\n",
        "pd.set_option('precision', 2)\n",
        "df_stats"
      ],
      "execution_count": 27,
      "outputs": [
        {
          "output_type": "execute_result",
          "data": {
            "text/html": [
              "<div>\n",
              "<style scoped>\n",
              "    .dataframe tbody tr th:only-of-type {\n",
              "        vertical-align: middle;\n",
              "    }\n",
              "\n",
              "    .dataframe tbody tr th {\n",
              "        vertical-align: top;\n",
              "    }\n",
              "\n",
              "    .dataframe thead th {\n",
              "        text-align: right;\n",
              "    }\n",
              "</style>\n",
              "<table border=\"1\" class=\"dataframe\">\n",
              "  <thead>\n",
              "    <tr style=\"text-align: right;\">\n",
              "      <th></th>\n",
              "      <th>Training Loss</th>\n",
              "      <th>MRR</th>\n",
              "      <th>HR</th>\n",
              "      <th>NDCG</th>\n",
              "    </tr>\n",
              "    <tr>\n",
              "      <th>epoch</th>\n",
              "      <th></th>\n",
              "      <th></th>\n",
              "      <th></th>\n",
              "      <th></th>\n",
              "    </tr>\n",
              "  </thead>\n",
              "  <tbody>\n",
              "    <tr>\n",
              "      <th>1</th>\n",
              "      <td>0.39</td>\n",
              "      <td>0.16</td>\n",
              "      <td>0.40</td>\n",
              "      <td>0.22</td>\n",
              "    </tr>\n",
              "    <tr>\n",
              "      <th>2</th>\n",
              "      <td>0.36</td>\n",
              "      <td>0.16</td>\n",
              "      <td>0.41</td>\n",
              "      <td>0.22</td>\n",
              "    </tr>\n",
              "    <tr>\n",
              "      <th>3</th>\n",
              "      <td>0.35</td>\n",
              "      <td>0.17</td>\n",
              "      <td>0.43</td>\n",
              "      <td>0.23</td>\n",
              "    </tr>\n",
              "    <tr>\n",
              "      <th>4</th>\n",
              "      <td>0.35</td>\n",
              "      <td>0.18</td>\n",
              "      <td>0.45</td>\n",
              "      <td>0.24</td>\n",
              "    </tr>\n",
              "    <tr>\n",
              "      <th>5</th>\n",
              "      <td>0.33</td>\n",
              "      <td>0.20</td>\n",
              "      <td>0.48</td>\n",
              "      <td>0.26</td>\n",
              "    </tr>\n",
              "    <tr>\n",
              "      <th>6</th>\n",
              "      <td>0.32</td>\n",
              "      <td>0.22</td>\n",
              "      <td>0.52</td>\n",
              "      <td>0.29</td>\n",
              "    </tr>\n",
              "    <tr>\n",
              "      <th>7</th>\n",
              "      <td>0.30</td>\n",
              "      <td>0.22</td>\n",
              "      <td>0.53</td>\n",
              "      <td>0.29</td>\n",
              "    </tr>\n",
              "    <tr>\n",
              "      <th>8</th>\n",
              "      <td>0.29</td>\n",
              "      <td>0.24</td>\n",
              "      <td>0.54</td>\n",
              "      <td>0.31</td>\n",
              "    </tr>\n",
              "    <tr>\n",
              "      <th>9</th>\n",
              "      <td>0.28</td>\n",
              "      <td>0.24</td>\n",
              "      <td>0.56</td>\n",
              "      <td>0.31</td>\n",
              "    </tr>\n",
              "    <tr>\n",
              "      <th>10</th>\n",
              "      <td>0.28</td>\n",
              "      <td>0.24</td>\n",
              "      <td>0.57</td>\n",
              "      <td>0.32</td>\n",
              "    </tr>\n",
              "    <tr>\n",
              "      <th>11</th>\n",
              "      <td>0.27</td>\n",
              "      <td>0.24</td>\n",
              "      <td>0.57</td>\n",
              "      <td>0.32</td>\n",
              "    </tr>\n",
              "    <tr>\n",
              "      <th>12</th>\n",
              "      <td>0.26</td>\n",
              "      <td>0.24</td>\n",
              "      <td>0.56</td>\n",
              "      <td>0.32</td>\n",
              "    </tr>\n",
              "    <tr>\n",
              "      <th>13</th>\n",
              "      <td>0.26</td>\n",
              "      <td>0.24</td>\n",
              "      <td>0.57</td>\n",
              "      <td>0.32</td>\n",
              "    </tr>\n",
              "    <tr>\n",
              "      <th>14</th>\n",
              "      <td>0.26</td>\n",
              "      <td>0.25</td>\n",
              "      <td>0.59</td>\n",
              "      <td>0.33</td>\n",
              "    </tr>\n",
              "    <tr>\n",
              "      <th>15</th>\n",
              "      <td>0.25</td>\n",
              "      <td>0.24</td>\n",
              "      <td>0.59</td>\n",
              "      <td>0.32</td>\n",
              "    </tr>\n",
              "    <tr>\n",
              "      <th>16</th>\n",
              "      <td>0.25</td>\n",
              "      <td>0.25</td>\n",
              "      <td>0.59</td>\n",
              "      <td>0.33</td>\n",
              "    </tr>\n",
              "    <tr>\n",
              "      <th>17</th>\n",
              "      <td>0.24</td>\n",
              "      <td>0.24</td>\n",
              "      <td>0.59</td>\n",
              "      <td>0.33</td>\n",
              "    </tr>\n",
              "    <tr>\n",
              "      <th>18</th>\n",
              "      <td>0.24</td>\n",
              "      <td>0.25</td>\n",
              "      <td>0.59</td>\n",
              "      <td>0.33</td>\n",
              "    </tr>\n",
              "    <tr>\n",
              "      <th>19</th>\n",
              "      <td>0.23</td>\n",
              "      <td>0.25</td>\n",
              "      <td>0.61</td>\n",
              "      <td>0.33</td>\n",
              "    </tr>\n",
              "    <tr>\n",
              "      <th>20</th>\n",
              "      <td>0.23</td>\n",
              "      <td>0.25</td>\n",
              "      <td>0.60</td>\n",
              "      <td>0.33</td>\n",
              "    </tr>\n",
              "  </tbody>\n",
              "</table>\n",
              "</div>"
            ],
            "text/plain": [
              "       Training Loss   MRR    HR  NDCG\n",
              "epoch                                 \n",
              "1               0.39  0.16  0.40  0.22\n",
              "2               0.36  0.16  0.41  0.22\n",
              "3               0.35  0.17  0.43  0.23\n",
              "4               0.35  0.18  0.45  0.24\n",
              "5               0.33  0.20  0.48  0.26\n",
              "6               0.32  0.22  0.52  0.29\n",
              "7               0.30  0.22  0.53  0.29\n",
              "8               0.29  0.24  0.54  0.31\n",
              "9               0.28  0.24  0.56  0.31\n",
              "10              0.28  0.24  0.57  0.32\n",
              "11              0.27  0.24  0.57  0.32\n",
              "12              0.26  0.24  0.56  0.32\n",
              "13              0.26  0.24  0.57  0.32\n",
              "14              0.26  0.25  0.59  0.33\n",
              "15              0.25  0.24  0.59  0.32\n",
              "16              0.25  0.25  0.59  0.33\n",
              "17              0.24  0.24  0.59  0.33\n",
              "18              0.24  0.25  0.59  0.33\n",
              "19              0.23  0.25  0.61  0.33\n",
              "20              0.23  0.25  0.60  0.33"
            ]
          },
          "metadata": {
            "tags": []
          },
          "execution_count": 27
        }
      ]
    },
    {
      "cell_type": "code",
      "metadata": {
        "id": "5U9xyPziE9L2"
      },
      "source": [
        ""
      ],
      "execution_count": 27,
      "outputs": []
    }
  ]
}
