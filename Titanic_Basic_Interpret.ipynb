{
  "nbformat": 4,
  "nbformat_minor": 0,
  "metadata": {
    "kernelspec": {
      "display_name": "Python 3",
      "language": "python",
      "name": "python3"
    },
    "language_info": {
      "codemirror_mode": {
        "name": "ipython",
        "version": 3
      },
      "file_extension": ".py",
      "mimetype": "text/x-python",
      "name": "python",
      "nbconvert_exporter": "python",
      "pygments_lexer": "ipython3",
      "version": "3.7.6"
    },
    "colab": {
      "name": "Titanic_Basic_Interpret.ipynb",
      "provenance": [],
      "toc_visible": true,
      "include_colab_link": true
    }
  },
  "cells": [
    {
      "cell_type": "markdown",
      "metadata": {
        "id": "view-in-github",
        "colab_type": "text"
      },
      "source": [
        "<a href=\"https://colab.research.google.com/github/finardi/tutos/blob/master/Titanic_Basic_Interpret.ipynb\" target=\"_parent\"><img src=\"https://colab.research.google.com/assets/colab-badge.svg\" alt=\"Open In Colab\"/></a>"
      ]
    },
    {
      "cell_type": "markdown",
      "metadata": {
        "id": "QVrHz0uMfOzC"
      },
      "source": [
        "# Getting started with Captum - Titanic Data Analysis"
      ]
    },
    {
      "cell_type": "markdown",
      "metadata": {
        "id": "2pRRhKb9fOzH"
      },
      "source": [
        "In this notebook, we will demonstrate the basic features of the Captum interpretability library through an example model trained on the Titanic survival data. We will first train a deep neural network on the data using PyTorch and use Captum to understand which of the features were most important and how the network reached its prediction.\n",
        "  \n",
        "  **Note:** Before running this tutorial, please install the scipy, pandas, and matplotlib packages."
      ]
    },
    {
      "cell_type": "code",
      "metadata": {
        "colab": {
          "base_uri": "https://localhost:8080/"
        },
        "id": "uXR2gNEzfQ6c",
        "outputId": "fff374ee-0f80-48b6-ddc1-4157b43f8941"
      },
      "source": [
        "!pip install -q captum"
      ],
      "execution_count": 1,
      "outputs": [
        {
          "output_type": "stream",
          "text": [
            "\u001b[K     |████████████████████████████████| 4.4MB 6.4MB/s \n",
            "\u001b[?25h"
          ],
          "name": "stdout"
        }
      ]
    },
    {
      "cell_type": "code",
      "metadata": {
        "id": "_2pJDfjofOzI"
      },
      "source": [
        "# Initial imports\n",
        "import numpy as np\n",
        "\n",
        "import torch\n",
        "\n",
        "from captum.attr import IntegratedGradients\n",
        "from captum.attr import LayerConductance\n",
        "from captum.attr import NeuronConductance\n",
        "\n",
        "import matplotlib\n",
        "import matplotlib.pyplot as plt\n",
        "%matplotlib inline\n",
        "\n",
        "from scipy import stats\n",
        "import pandas as pd"
      ],
      "execution_count": 2,
      "outputs": []
    },
    {
      "cell_type": "code",
      "metadata": {
        "colab": {
          "base_uri": "https://localhost:8080/"
        },
        "id": "_TI1G_4dfkrs",
        "outputId": "1eca2c7a-38d4-4b26-c3fb-5d35dab9bbdf"
      },
      "source": [
        "from google.colab import drive\n",
        "drive.mount('/content/drive')"
      ],
      "execution_count": 3,
      "outputs": [
        {
          "output_type": "stream",
          "text": [
            "Mounted at /content/drive\n"
          ],
          "name": "stdout"
        }
      ]
    },
    {
      "cell_type": "markdown",
      "metadata": {
        "id": "FnYo6gwKfOzJ"
      },
      "source": [
        "We will begin by importing and cleaning the dataset. Download the dataset from https://biostat.app.vumc.org/wiki/pub/Main/DataSets/titanic3.csv and update the cell below with the path to the dataset csv."
      ]
    },
    {
      "cell_type": "code",
      "metadata": {
        "id": "7xkRWmSdfOzJ"
      },
      "source": [
        "dataset_path = \"/content/drive/MyDrive/Colab Notebooks/titanic3.csv\""
      ],
      "execution_count": 4,
      "outputs": []
    },
    {
      "cell_type": "code",
      "metadata": {
        "id": "-rAT3K3hfOzJ"
      },
      "source": [
        "# Read dataset from csv file.\n",
        "titanic_data = pd.read_csv(dataset_path)"
      ],
      "execution_count": 5,
      "outputs": []
    },
    {
      "cell_type": "markdown",
      "metadata": {
        "id": "oYyqnlpefOzJ"
      },
      "source": [
        "With the data loaded, we now preprocess the data by converting some categorical features such as gender, location of embarcation, and passenger class into one-hot encodings (separate feature columns for each class with 0 / 1). We also remove some features that are more difficult to analyze, such as name, and fill missing values in age and fare with the average values."
      ]
    },
    {
      "cell_type": "code",
      "metadata": {
        "id": "PBdX9uvrfOzK"
      },
      "source": [
        "titanic_data = pd.concat([titanic_data,\n",
        "                          pd.get_dummies(titanic_data['sex']),\n",
        "                          pd.get_dummies(titanic_data['embarked'],prefix=\"embark\"),\n",
        "                          pd.get_dummies(titanic_data['pclass'],prefix=\"class\")], axis=1)\n",
        "titanic_data[\"age\"] = titanic_data[\"age\"].fillna(titanic_data[\"age\"].mean())\n",
        "titanic_data[\"fare\"] = titanic_data[\"fare\"].fillna(titanic_data[\"fare\"].mean())\n",
        "titanic_data = titanic_data.drop(['name','ticket','cabin','boat','body','home.dest','sex','embarked','pclass'], axis=1)"
      ],
      "execution_count": 6,
      "outputs": []
    },
    {
      "cell_type": "markdown",
      "metadata": {
        "id": "8IXfLe4sfOzK"
      },
      "source": [
        "After processing, the features we have are:\n",
        "\n",
        "* Age - Passenger Age\n",
        "* Sibsp - Number of Siblings / Spouses Aboard\n",
        "* Parch - Number of Parents / Children Aboard\n",
        "* Fare - Fare Amount Paid in British Pounds\n",
        "* Female - Binary variable indicating whether passenger is female\n",
        "* Male - Binary variable indicating whether passenger is male\n",
        "* EmbarkC - Binary variable indicating whether passenger embarked at Cherbourg\n",
        "* EmbarkQ - Binary variable indicating whether passenger embarked at Queenstown\n",
        "* EmbarkS - Binary variable indicating whether passenger embarked at Southampton\n",
        "* Class1 - Binary variable indicating whether passenger was in first class\n",
        "* Class2 - Binary variable indicating whether passenger was in second class\n",
        "* Class3 - Binary variable indicating whether passenger was in third class\n",
        "\n",
        "(Reference: http://campus.lakeforest.edu/frank/FILES/MLFfiles/Bio150/Titanic/TitanicMETA.pdf)"
      ]
    },
    {
      "cell_type": "markdown",
      "metadata": {
        "id": "tXdKKDP2fOzL"
      },
      "source": [
        "We now convert the data to numpy arrays and separate the training and test sets."
      ]
    },
    {
      "cell_type": "code",
      "metadata": {
        "id": "R5nC_tfZfOzL"
      },
      "source": [
        "# Set random seed for reproducibility.\n",
        "np.random.seed(131254)\n",
        "\n",
        "# Convert features and labels to numpy arrays.\n",
        "labels = titanic_data[\"survived\"].to_numpy()\n",
        "titanic_data = titanic_data.drop(['survived'], axis=1)\n",
        "feature_names = list(titanic_data.columns)\n",
        "data = titanic_data.to_numpy()\n",
        "\n",
        "# Separate training and test sets using \n",
        "train_indices = np.random.choice(len(labels), int(0.7*len(labels)), replace=False)\n",
        "test_indices = list(set(range(len(labels))) - set(train_indices))\n",
        "train_features = data[train_indices]\n",
        "train_labels = labels[train_indices]\n",
        "test_features = data[test_indices]\n",
        "test_labels = labels[test_indices]"
      ],
      "execution_count": 7,
      "outputs": []
    },
    {
      "cell_type": "markdown",
      "metadata": {
        "id": "35KexDAcfOzM"
      },
      "source": [
        "We are now ready to define the neural network architecture we will use for the task. We have defined a simple architecture using 2 hidden layers, the first with 12 hidden units and the second with 8 hidden units, each with Sigmoid non-linearity. The final layer performs a softmax operation and has 2 units, corresponding to the outputs of either survived (1) or not survived (0)."
      ]
    },
    {
      "cell_type": "code",
      "metadata": {
        "id": "8rqA6Ia0fOzM"
      },
      "source": [
        "import torch\n",
        "import torch.nn as nn\n",
        "torch.manual_seed(1)  # Set seed for reproducibility.\n",
        "class TitanicSimpleNNModel(nn.Module):\n",
        "    def __init__(self):\n",
        "        super().__init__()\n",
        "        self.linear1 = nn.Linear(12, 12)\n",
        "        self.sigmoid1 = nn.Sigmoid()\n",
        "        self.linear2 = nn.Linear(12, 8)\n",
        "        self.sigmoid2 = nn.Sigmoid()\n",
        "        self.linear3 = nn.Linear(8, 2)\n",
        "        self.softmax = nn.Softmax(dim=1)\n",
        "\n",
        "    def forward(self, x):\n",
        "        lin1_out = self.linear1(x)\n",
        "        sigmoid_out1 = self.sigmoid1(lin1_out)\n",
        "        sigmoid_out2 = self.sigmoid2(self.linear2(sigmoid_out1))\n",
        "        return self.softmax(self.linear3(sigmoid_out2))"
      ],
      "execution_count": 14,
      "outputs": []
    },
    {
      "cell_type": "markdown",
      "metadata": {
        "id": "GioqsUlofOzM"
      },
      "source": [
        "We can either use a pretrained model or train the network using the training data for 200 epochs. Note that the results of later steps may not match if retraining. The pretrained model can be downloaded here: https://github.com/pytorch/captum/blob/master/tutorials/models/titanic_model.pt"
      ]
    },
    {
      "cell_type": "code",
      "metadata": {
        "colab": {
          "base_uri": "https://localhost:8080/"
        },
        "id": "KAhDWRDLfOzN",
        "outputId": "a7d3eec2-6af3-4cb2-8e6f-0c3ebfadf2b5"
      },
      "source": [
        "net = TitanicSimpleNNModel()\n",
        "USE_PRETRAINED_MODEL = False\n",
        "\n",
        "if USE_PRETRAINED_MODEL:\n",
        "    net.load_state_dict(torch.load('models/titanic_model.pt'))\n",
        "    print(\"Model Loaded!\")\n",
        "else:\n",
        "    criterion = nn.CrossEntropyLoss()\n",
        "    num_epochs = 200\n",
        "\n",
        "    optimizer = torch.optim.Adam(net.parameters(), lr=0.1)\n",
        "    input_tensor = torch.from_numpy(train_features).type(torch.FloatTensor)\n",
        "    label_tensor = torch.from_numpy(train_labels)\n",
        "    for epoch in range(num_epochs):    \n",
        "        output = net(input_tensor)\n",
        "        loss = criterion(output, label_tensor)\n",
        "        optimizer.zero_grad()\n",
        "        loss.backward()\n",
        "        optimizer.step()\n",
        "        if epoch % 20 == 0:\n",
        "            print ('Epoch {}/{} => Loss: {:.2f}'.format(epoch+1, num_epochs, loss.item()))\n",
        "\n",
        "    torch.save(net.state_dict(), 'titanic_model.pt')"
      ],
      "execution_count": 15,
      "outputs": [
        {
          "output_type": "stream",
          "text": [
            "Epoch 1/200 => Loss: 0.70\n",
            "Epoch 21/200 => Loss: 0.55\n",
            "Epoch 41/200 => Loss: 0.50\n",
            "Epoch 61/200 => Loss: 0.49\n",
            "Epoch 81/200 => Loss: 0.48\n",
            "Epoch 101/200 => Loss: 0.48\n",
            "Epoch 121/200 => Loss: 0.48\n",
            "Epoch 141/200 => Loss: 0.48\n",
            "Epoch 161/200 => Loss: 0.47\n",
            "Epoch 181/200 => Loss: 0.47\n"
          ],
          "name": "stdout"
        }
      ]
    },
    {
      "cell_type": "markdown",
      "metadata": {
        "id": "Rb2vUhlTfOzO"
      },
      "source": [
        "We can now evaluate the training and test accuracies of our model."
      ]
    },
    {
      "cell_type": "code",
      "metadata": {
        "colab": {
          "base_uri": "https://localhost:8080/"
        },
        "id": "jpLnjE2MfOzO",
        "outputId": "8ff26b8c-5360-4cd3-a681-882e1dcee1df"
      },
      "source": [
        "out_probs = net(input_tensor).detach().numpy()\n",
        "out_classes = np.argmax(out_probs, axis=1)\n",
        "print(\"Train Accuracy:\", sum(out_classes == train_labels) / len(train_labels))"
      ],
      "execution_count": 16,
      "outputs": [
        {
          "output_type": "stream",
          "text": [
            "Train Accuracy: 0.8427947598253275\n"
          ],
          "name": "stdout"
        }
      ]
    },
    {
      "cell_type": "code",
      "metadata": {
        "colab": {
          "base_uri": "https://localhost:8080/"
        },
        "id": "7vl2bv3kfOzP",
        "outputId": "24ef3fed-bc6d-4763-9546-a3c26a5bb22e"
      },
      "source": [
        "test_input_tensor = torch.from_numpy(test_features).type(torch.FloatTensor)\n",
        "out_probs = net(test_input_tensor).detach().numpy()\n",
        "out_classes = np.argmax(out_probs, axis=1)\n",
        "print(\"Test Accuracy:\", sum(out_classes == test_labels) / len(test_labels))"
      ],
      "execution_count": 17,
      "outputs": [
        {
          "output_type": "stream",
          "text": [
            "Test Accuracy: 0.816793893129771\n"
          ],
          "name": "stdout"
        }
      ]
    },
    {
      "cell_type": "markdown",
      "metadata": {
        "id": "F_kXRbA-fOzP"
      },
      "source": [
        "Beyond just considering the accuracy of the classifier, there are many important questions to understand how the model is working and it's decision, which is the purpose of Captum, to help make neural networks in PyTorch more interpretable."
      ]
    },
    {
      "cell_type": "markdown",
      "metadata": {
        "id": "JLfPybo_fOzQ"
      },
      "source": [
        "The first question we can ask is which of the features were actually important to the model to reach this decision? This is the first main component of Captum, the ability to obtain **Feature Attributions**. For this example, we will apply Integrated Gradients, which is one of the Feature Attribution methods included in Captum. More information regarding Integrated Gradients can be found in the original paper here: https://arxiv.org/pdf/1703.01365.pdf"
      ]
    },
    {
      "cell_type": "markdown",
      "metadata": {
        "id": "PmE8l4vOfOzQ"
      },
      "source": [
        "To apply integrated gradients, we first create an IntegratedGradients object, providing the model object."
      ]
    },
    {
      "cell_type": "code",
      "metadata": {
        "id": "3dgSA17GfOzQ"
      },
      "source": [
        "ig = IntegratedGradients(net)"
      ],
      "execution_count": 18,
      "outputs": []
    },
    {
      "cell_type": "markdown",
      "metadata": {
        "id": "a-_Cz8uLfOzR"
      },
      "source": [
        "To compute the integrated gradients, we use the attribute method of the IntegratedGradients object. The method takes tensor(s) of input examples (matching the forward function of the model), and returns the input attributions for the given examples. For a network with multiple outputs, a target index must also be provided, defining the index of the output for which gradients are computed. For this example, we provide target = 1, corresponding to survival. \n",
        "\n",
        "The input tensor provided should require grad, so we call requires\\_grad\\_ on the tensor. The attribute method also takes a baseline, which is the starting point from which gradients are integrated. The default value is just the 0 tensor, which is a reasonable baseline / default for this task. \n",
        "\n",
        "The returned values of the attribute method are the attributions, which match the size of the given inputs, and delta, which approximates the error between the approximated integral and true integral."
      ]
    },
    {
      "cell_type": "code",
      "metadata": {
        "id": "9kl1YUKwfOzR"
      },
      "source": [
        "test_input_tensor.requires_grad_()\n",
        "attr, delta = ig.attribute(test_input_tensor,target=1, return_convergence_delta=True)\n",
        "attr = attr.detach().numpy()"
      ],
      "execution_count": 19,
      "outputs": []
    },
    {
      "cell_type": "markdown",
      "metadata": {
        "id": "7n7_Vho8fOzR"
      },
      "source": [
        "To understand these attributions, we can first average them across all the inputs and print / visualize the average attribution for each feature."
      ]
    },
    {
      "cell_type": "code",
      "metadata": {
        "colab": {
          "base_uri": "https://localhost:8080/",
          "height": 629
        },
        "id": "U2POZhf7fOzR",
        "outputId": "8a76f3ae-a3ba-4a72-8683-9002f3f5af67"
      },
      "source": [
        "# Helper method to print importances and visualize distribution\n",
        "def visualize_importances(feature_names, importances, title=\"Average Feature Importances\", plot=True, axis_title=\"Features\"):\n",
        "    print(title)\n",
        "    for i in range(len(feature_names)):\n",
        "        print(feature_names[i], \": \", '%.3f'%(importances[i]))\n",
        "    x_pos = (np.arange(len(feature_names)))\n",
        "    if plot:\n",
        "        plt.figure(figsize=(12,6))\n",
        "        plt.bar(x_pos, importances, align='center')\n",
        "        plt.xticks(x_pos, feature_names, wrap=True)\n",
        "        plt.xlabel(axis_title)\n",
        "        plt.title(title)\n",
        "visualize_importances(feature_names, np.mean(attr, axis=0))"
      ],
      "execution_count": 20,
      "outputs": [
        {
          "output_type": "stream",
          "text": [
            "Average Feature Importances\n",
            "age :  -0.514\n",
            "sibsp :  -0.075\n",
            "parch :  -0.001\n",
            "fare :  0.112\n",
            "female :  0.146\n",
            "male :  -0.367\n",
            "embark_C :  0.152\n",
            "embark_Q :  0.017\n",
            "embark_S :  -0.101\n",
            "class_1 :  0.068\n",
            "class_2 :  0.012\n",
            "class_3 :  -0.176\n"
          ],
          "name": "stdout"
        },
        {
          "output_type": "display_data",
          "data": {
            "image/png": "[encoded data removed]",
            "text/plain": [
              "<Figure size 864x432 with 1 Axes>"
            ]
          },
          "metadata": {
            "tags": [],
            "needs_background": "light"
          }
        }
      ]
    },
    {
      "cell_type": "markdown",
      "metadata": {
        "id": "w_8GS1ApfOzS"
      },
      "source": [
        "From the feature attribution information, we obtain some interesting insights regarding the importance of various features. We see that the strongest features appear to be age and being male, which are negatively correlated with survival. Embarking at Queenstown and the number of parents / children appear to be less important features generally."
      ]
    },
    {
      "cell_type": "markdown",
      "metadata": {
        "id": "TfKoy9w1fOzS"
      },
      "source": [
        "An important thing to note is that the average attributions over the test set don't necessarilly capture all the information regarding feature importances. We should also look at the distribution of attributions for each feature. It is possible that features have very different attributions for different examples in the dataset. \n",
        "\n",
        "For instance, we can visualize the distribution of attributions for sibsp, the number of siblings / spouses."
      ]
    },
    {
      "cell_type": "code",
      "metadata": {
        "colab": {
          "base_uri": "https://localhost:8080/",
          "height": 281
        },
        "id": "bNh-vT6gfOzS",
        "outputId": "09640de5-057e-4695-de4b-cb4db1eccf9c"
      },
      "source": [
        "plt.hist(attr[:,1], 100);\n",
        "plt.title(\"Distribution of Sibsp Attribution Values\");"
      ],
      "execution_count": 21,
      "outputs": [
        {
          "output_type": "display_data",
          "data": {
            "image/png": "[encoded data removed]",
            "text/plain": [
              "<Figure size 432x288 with 1 Axes>"
            ]
          },
          "metadata": {
            "tags": [],
            "needs_background": "light"
          }
        }
      ]
    },
    {
      "cell_type": "markdown",
      "metadata": {
        "id": "mjDNVNrUfOzT"
      },
      "source": [
        "We note that a vast majority of the examples have an attribution value of 0 for sibsp, which likely corresponds to having a value of 0 for the feature (IntegratedGradients would provide an attribution of 0 when the feature value matches the baseline of 0). More significantly, we see that although the average seems smaller in magnitude in the plot above, there are a small number of examples with extremely negative attributions for this feature."
      ]
    },
    {
      "cell_type": "markdown",
      "metadata": {
        "id": "4DLaULuTfOzT"
      },
      "source": [
        "To better understand this, we can bucket the examples by the value of the sibsp feature and plot the average attribution for the feature. In the plot below, the size of the dot is proportional to the number of examples with that value."
      ]
    },
    {
      "cell_type": "code",
      "metadata": {
        "colab": {
          "base_uri": "https://localhost:8080/",
          "height": 280
        },
        "id": "FLFO8SBzfOzT",
        "outputId": "477bb172-101a-4a33-e623-0632e7023e44"
      },
      "source": [
        "bin_means, bin_edges, _ = stats.binned_statistic(test_features[:,1], attr[:,1], statistic='mean', bins=6)\n",
        "bin_count, _, _ = stats.binned_statistic(test_features[:,1], attr[:,1], statistic='count', bins=6)\n",
        "\n",
        "bin_width = (bin_edges[1] - bin_edges[0])\n",
        "bin_centers = bin_edges[1:] - bin_width/2\n",
        "plt.scatter(bin_centers, bin_means, s=bin_count)\n",
        "plt.xlabel(\"Average Sibsp Feature Value\");\n",
        "plt.ylabel(\"Average Attribution\");\n"
      ],
      "execution_count": 22,
      "outputs": [
        {
          "output_type": "display_data",
          "data": {
            "image/png": "[encoded data removed]",
            "text/plain": [
              "<Figure size 432x288 with 1 Axes>"
            ]
          },
          "metadata": {
            "tags": [],
            "needs_background": "light"
          }
        }
      ]
    },
    {
      "cell_type": "markdown",
      "metadata": {
        "id": "Xx7WtKDsfOzU"
      },
      "source": [
        "We see that the larger magnitude attributions correspond to the examples with larger Sibsp feature values, suggesting that the feature has a larger impact on prediction for these examples. Since there are substantially fewer of these examples (compared to those with a feature value of 0), the average attribution does not completely capture this effect."
      ]
    },
    {
      "cell_type": "markdown",
      "metadata": {
        "id": "BdINvEJifOzU"
      },
      "source": [
        "Now that we have a better understanding of the importance of different input features, the next question we can ask regarding the function of the neural network is how the different neurons in each layer work together to reach the prediction. For instance, in our first hidden layer output containing 12 units, are all the units used for prediction? Do some units learn features positively correlated with survival while others learn features negatively correlated with survival?"
      ]
    },
    {
      "cell_type": "markdown",
      "metadata": {
        "id": "e0xdxgOGfOzU"
      },
      "source": [
        "This leads us to the second type of attributions available in Captum, **Layer Attributions**. Layer attributions allow us to understand the importance of all the neurons in the output of a particular layer. For this example, we will be using Layer Conductance, one of the Layer Attribution methods in Captum, which is an extension of Integrated Gradients applied to hidden neurons. More information regarding conductance can be found in the original paper here: https://arxiv.org/abs/1805.12233. "
      ]
    },
    {
      "cell_type": "markdown",
      "metadata": {
        "id": "nVqrJO3dfOzU"
      },
      "source": [
        "To use Layer Conductance, we create a LayerConductance object passing in the model as well as the module (layer) whose output we would like to understand. In this case, we choose net.sigmoid1, the output of the first hidden layer."
      ]
    },
    {
      "cell_type": "code",
      "metadata": {
        "id": "WtXBqj8EfOzU"
      },
      "source": [
        "cond = LayerConductance(net, net.sigmoid1)"
      ],
      "execution_count": 23,
      "outputs": []
    },
    {
      "cell_type": "markdown",
      "metadata": {
        "id": "qPKsqI2nfOzV"
      },
      "source": [
        "We can now obtain the conductance values for all the test examples by calling attribute on the LayerConductance object. LayerConductance also requires a target index for networks with mutliple outputs, defining the index of the output for which gradients are computed. Similar to feature attributions, we provide target = 1, corresponding to survival. LayerConductance also utilizes a baseline, but we simply use the default zero baseline as in integrated gradients."
      ]
    },
    {
      "cell_type": "code",
      "metadata": {
        "id": "nhl3ggmjfOzV"
      },
      "source": [
        "cond_vals = cond.attribute(test_input_tensor,target=1)\n",
        "cond_vals = cond_vals.detach().numpy()"
      ],
      "execution_count": 24,
      "outputs": []
    },
    {
      "cell_type": "markdown",
      "metadata": {
        "id": "j7ZC97v9fOzV"
      },
      "source": [
        "We can begin by visualizing the average conductance for each neuron."
      ]
    },
    {
      "cell_type": "code",
      "metadata": {
        "colab": {
          "base_uri": "https://localhost:8080/",
          "height": 628
        },
        "id": "uomoXCuXfOzV",
        "outputId": "8febd6b7-b8fa-4055-ecae-245e7e92db85"
      },
      "source": [
        "visualize_importances(range(12),np.mean(cond_vals, axis=0),title=\"Average Neuron Importances\", axis_title=\"Neurons\")"
      ],
      "execution_count": 25,
      "outputs": [
        {
          "output_type": "stream",
          "text": [
            "Average Neuron Importances\n",
            "0 :  0.005\n",
            "1 :  -0.188\n",
            "2 :  0.035\n",
            "3 :  0.013\n",
            "4 :  0.067\n",
            "5 :  -0.051\n",
            "6 :  0.025\n",
            "7 :  0.000\n",
            "8 :  -0.333\n",
            "9 :  -0.000\n",
            "10 :  -0.272\n",
            "11 :  0.016\n"
          ],
          "name": "stdout"
        },
        {
          "output_type": "display_data",
          "data": {
            "image/png": "[encoded data removed]",
            "text/plain": [
              "<Figure size 864x432 with 1 Axes>"
            ]
          },
          "metadata": {
            "tags": [],
            "needs_background": "light"
          }
        }
      ]
    },
    {
      "cell_type": "markdown",
      "metadata": {
        "id": "5Q81WZVTfOzV"
      },
      "source": [
        "We can also look at the distribution of each neuron's attributions. Below we look at the distributions for neurons 7 and 9, and we can confirm that their attribution distributions are very close to 0, suggesting they are not learning substantial features."
      ]
    },
    {
      "cell_type": "code",
      "metadata": {
        "colab": {
          "base_uri": "https://localhost:8080/",
          "height": 545
        },
        "id": "OR3Po_EafOzW",
        "outputId": "2e0485fc-8dff-4bd7-945d-e5862219acfd"
      },
      "source": [
        "plt.hist(cond_vals[:,9], 100);\n",
        "plt.title(\"Neuron 9 Distribution\")\n",
        "plt.figure()\n",
        "plt.hist(cond_vals[:,7], 100);\n",
        "plt.title(\"Neuron 7 Distribution\");\n"
      ],
      "execution_count": 26,
      "outputs": [
        {
          "output_type": "display_data",
          "data": {
            "image/png": "[encoded data removed]",
            "text/plain": [
              "<Figure size 432x288 with 1 Axes>"
            ]
          },
          "metadata": {
            "tags": [],
            "needs_background": "light"
          }
        },
        {
          "output_type": "display_data",
          "data": {
            "image/png": "[encoded data removed]",
            "text/plain": [
              "<Figure size 432x288 with 1 Axes>"
            ]
          },
          "metadata": {
            "tags": [],
            "needs_background": "light"
          }
        }
      ]
    },
    {
      "cell_type": "markdown",
      "metadata": {
        "id": "JwGKv5TifOzW"
      },
      "source": [
        "Now, we can look at the distributions of neurons 0 and 10, which appear to be learning strong features negatively correlated with survival."
      ]
    },
    {
      "cell_type": "code",
      "metadata": {
        "colab": {
          "base_uri": "https://localhost:8080/",
          "height": 545
        },
        "id": "NJgA1Q6RfOzW",
        "outputId": "1c48742f-4dca-4335-a7f9-fe8745b19206"
      },
      "source": [
        "plt.hist(cond_vals[:,0], 100);\n",
        "plt.title(\"Neuron 0 Distribution\")\n",
        "plt.figure()\n",
        "plt.hist(cond_vals[:,10], 100);\n",
        "plt.title(\"Neuron 10 Distribution\");"
      ],
      "execution_count": 27,
      "outputs": [
        {
          "output_type": "display_data",
          "data": {
            "image/png": "[encoded data removed]",
            "text/plain": [
              "<Figure size 432x288 with 1 Axes>"
            ]
          },
          "metadata": {
            "tags": [],
            "needs_background": "light"
          }
        },
        {
          "output_type": "display_data",
          "data": {
            "image/png": "[encoded data removed]",
            "text/plain": [
              "<Figure size 432x288 with 1 Axes>"
            ]
          },
          "metadata": {
            "tags": [],
            "needs_background": "light"
          }
        }
      ]
    },
    {
      "cell_type": "markdown",
      "metadata": {
        "id": "Nljjn3a-fOzW"
      },
      "source": [
        "We have identified that some of the neurons are not learning important features, while others are. Can we now understand what each of these important neurons are looking at in the input? For instance, are they identifying different features in the input or similar ones?"
      ]
    },
    {
      "cell_type": "markdown",
      "metadata": {
        "id": "8qVL6zaVfOzX"
      },
      "source": [
        "To answer these questions, we can apply the third type of attributions available in Captum, **Neuron Attributions**. This allows us to understand what parts of the input contribute to activating a particular input neuron. For this example, we will apply Neuron Conductance, which divides the neuron's total conductance value into the contribution from each individual input feature."
      ]
    },
    {
      "cell_type": "markdown",
      "metadata": {
        "id": "6xH0a8NFfOzX"
      },
      "source": [
        "To use Neuron Conductance, we create a NeuronConductance object, analogously to Conductance, passing in the model as well as the module (layer) whose output we would like to understand, in this case, net.sigmoid1, as before."
      ]
    },
    {
      "cell_type": "code",
      "metadata": {
        "id": "r0GcuIGdfOzX"
      },
      "source": [
        "neuron_cond = NeuronConductance(net, net.sigmoid1)"
      ],
      "execution_count": 28,
      "outputs": []
    },
    {
      "cell_type": "markdown",
      "metadata": {
        "id": "YOyG7Ku0fOzX"
      },
      "source": [
        "We can now obtain the neuron conductance values for all the test examples by calling attribute on the NeuronConductance object. Neuron Conductance requires the neuron index in the target layer for which attributions are requested as well as the target index for networks with mutliple outputs, similar to layer conductance. As before, we provide target = 1, corresponding to survival, and compute neuron conductance for neurons 0 and 10, the significant neurons identified above. The neuron index can be provided either as a tuple or as just an integer if the layer output is 1-dimensional."
      ]
    },
    {
      "cell_type": "code",
      "metadata": {
        "id": "zdhewbsafOzX"
      },
      "source": [
        "neuron_cond_vals_10 = neuron_cond.attribute(test_input_tensor, neuron_selector=10, target=1)"
      ],
      "execution_count": 29,
      "outputs": []
    },
    {
      "cell_type": "code",
      "metadata": {
        "id": "XQFTgPmKfOzY"
      },
      "source": [
        "neuron_cond_vals_0 = neuron_cond.attribute(test_input_tensor, neuron_selector=0, target=1)"
      ],
      "execution_count": 30,
      "outputs": []
    },
    {
      "cell_type": "code",
      "metadata": {
        "colab": {
          "base_uri": "https://localhost:8080/",
          "height": 629
        },
        "id": "_3cjGXbWfOzY",
        "outputId": "d1615b4e-f2a0-48ac-d707-a2fa19159a1a"
      },
      "source": [
        "visualize_importances(feature_names, neuron_cond_vals_0.mean(dim=0).detach().numpy(), title=\"Average Feature Importances for Neuron 0\")"
      ],
      "execution_count": 31,
      "outputs": [
        {
          "output_type": "stream",
          "text": [
            "Average Feature Importances for Neuron 0\n",
            "age :  0.003\n",
            "sibsp :  0.000\n",
            "parch :  0.000\n",
            "fare :  0.002\n",
            "female :  0.000\n",
            "male :  -0.000\n",
            "embark_C :  0.000\n",
            "embark_Q :  0.000\n",
            "embark_S :  0.000\n",
            "class_1 :  0.000\n",
            "class_2 :  0.000\n",
            "class_3 :  0.000\n"
          ],
          "name": "stdout"
        },
        {
          "output_type": "display_data",
          "data": {
            "image/png": "[encoded data removed]",
            "text/plain": [
              "<Figure size 864x432 with 1 Axes>"
            ]
          },
          "metadata": {
            "tags": [],
            "needs_background": "light"
          }
        }
      ]
    },
    {
      "cell_type": "markdown",
      "metadata": {
        "id": "erfpGJanfOzY"
      },
      "source": [
        "From the data above, it appears that the primary input feature used by neuron 0 is age, with limited importance for all other features."
      ]
    },
    {
      "cell_type": "code",
      "metadata": {
        "colab": {
          "base_uri": "https://localhost:8080/",
          "height": 629
        },
        "id": "jBkg9E-kfOzY",
        "outputId": "22afae6f-92da-4afb-c2b0-a42a9b0f8f96"
      },
      "source": [
        "visualize_importances(feature_names, neuron_cond_vals_10.mean(dim=0).detach().numpy(), title=\"Average Feature Importances for Neuron 10\")"
      ],
      "execution_count": 32,
      "outputs": [
        {
          "output_type": "stream",
          "text": [
            "Average Feature Importances for Neuron 10\n",
            "age :  -0.067\n",
            "sibsp :  -0.004\n",
            "parch :  0.008\n",
            "fare :  0.006\n",
            "female :  0.047\n",
            "male :  -0.163\n",
            "embark_C :  0.002\n",
            "embark_Q :  -0.002\n",
            "embark_S :  -0.042\n",
            "class_1 :  0.018\n",
            "class_2 :  0.016\n",
            "class_3 :  -0.092\n"
          ],
          "name": "stdout"
        },
        {
          "output_type": "display_data",
          "data": {
            "image/png": "[encoded data removed]",
            "text/plain": [
              "<Figure size 864x432 with 1 Axes>"
            ]
          },
          "metadata": {
            "tags": [],
            "needs_background": "light"
          }
        }
      ]
    },
    {
      "cell_type": "markdown",
      "metadata": {
        "id": "A4vlwh6WfOzZ"
      },
      "source": [
        "From the visualization above, it is evident that neuron 10 primarily relies on the gender and class features, substantially different from the focus of neuron 0."
      ]
    },
    {
      "cell_type": "markdown",
      "metadata": {
        "id": "y16StB0HfOzZ"
      },
      "source": [
        "## Summary"
      ]
    },
    {
      "cell_type": "markdown",
      "metadata": {
        "id": "5Tz9TEkUfOzZ"
      },
      "source": [
        "In this demo, we have applied different attribution techniques in Captum including Integrated Gradients for feature attribution and Conductance for layer and neuron attribution in order to better understand the neural network predicting survival. Although larger networks are more difficult to analyze than this simple network, these basic building blocks for attribution can be utilized to improve model interpretability, breaking the traditional \"black-box\" characterization of neural networks and delving deeper into understanding how and why they make their decisions. "
      ]
    },
    {
      "cell_type": "code",
      "metadata": {
        "id": "rby1kOUQgmxl"
      },
      "source": [
        ""
      ],
      "execution_count": null,
      "outputs": []
    }
  ]
}