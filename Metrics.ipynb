{
  "nbformat": 4,
  "nbformat_minor": 0,
  "metadata": {
    "colab": {
      "name": "Metrics.ipynb",
      "provenance": [],
      "authorship_tag": "ABX9TyMaeGMYsOCW9FLA4tCOryCD",
      "include_colab_link": true
    },
    "kernelspec": {
      "name": "python3",
      "display_name": "Python 3"
    },
    "language_info": {
      "name": "python"
    }
  },
  "cells": [
    {
      "cell_type": "markdown",
      "metadata": {
        "id": "view-in-github",
        "colab_type": "text"
      },
      "source": [
        "<a href=\"https://colab.research.google.com/github/finardi/tutos/blob/master/Metrics.ipynb\" target=\"_parent\"><img src=\"https://colab.research.google.com/assets/colab-badge.svg\" alt=\"Open In Colab\"/></a>"
      ]
    },
    {
      "cell_type": "code",
      "metadata": {
        "id": "ogqR_IydOPA4"
      },
      "source": [
        "import pandas as pd\n",
        "import numpy as np"
      ],
      "execution_count": 116,
      "outputs": []
    },
    {
      "cell_type": "markdown",
      "metadata": {
        "id": "K2Uqlme85UhC"
      },
      "source": [
        "# Fake ranking object"
      ]
    },
    {
      "cell_type": "code",
      "metadata": {
        "colab": {
          "base_uri": "https://localhost:8080/"
        },
        "id": "PxLPA4e7PFTD",
        "outputId": "4ab76768-15d1-4e9d-c2db-572796ebfb15"
      },
      "source": [
        "query1 = ['oi']\n",
        "ranking1 = ['A','C','D','B','E',]\n",
        "score1 = [19,18,17,16,15]\n",
        "true1 = [0,0,0,1,0]\n",
        "\n",
        "query2 = ['eu']\n",
        "ranking2 = ['B','A','D','C','E',]\n",
        "score2 = [19,18,17,16,15]\n",
        "true2 = [0,1,0,1,0]\n",
        "\n",
        "query3 = ['sou']\n",
        "ranking3 = ['E','B','D','C','A',]\n",
        "score3 = [19,18,17,16,15]\n",
        "true3 = [1,0,0,0,1]\n",
        "\n",
        "query4 = ['o']\n",
        "ranking4 = ['A','D','C','E','B',]\n",
        "score4 = [19,18,17,16,15]\n",
        "true4 = [0,0,1,1,0]\n",
        "\n",
        "query5 = ['goku']\n",
        "ranking5 = ['D','A','E','C','B',]\n",
        "score5 = [19,18,17,16,15]\n",
        "true5 = [0,0,0,0,0]\n",
        "\n",
        "ranking = {}\n",
        "ranking[1] = {'query': query1, 'ranking': list(zip(score1, ranking1)), 'trues': true1}\n",
        "ranking[2] = {'query': query2, 'ranking': list(zip(score2, ranking2)), 'trues': true2}\n",
        "ranking[3] = {'query': query3, 'ranking': list(zip(score3, ranking3)), 'trues': true3}\n",
        "ranking[4] = {'query': query4, 'ranking': list(zip(score4, ranking4)), 'trues': true4}\n",
        "ranking[5] = {'query': query5, 'ranking': list(zip(score5, ranking5)), 'trues': true5}\n",
        "\n",
        "ranking"
      ],
      "execution_count": 117,
      "outputs": [
        {
          "output_type": "execute_result",
          "data": {
            "text/plain": [
              "{1: {'query': ['oi'],\n",
              "  'ranking': [(19, 'A'), (18, 'C'), (17, 'D'), (16, 'B'), (15, 'E')],\n",
              "  'trues': [0, 0, 0, 1, 0]},\n",
              " 2: {'query': ['eu'],\n",
              "  'ranking': [(19, 'B'), (18, 'A'), (17, 'D'), (16, 'C'), (15, 'E')],\n",
              "  'trues': [0, 1, 0, 1, 0]},\n",
              " 3: {'query': ['sou'],\n",
              "  'ranking': [(19, 'E'), (18, 'B'), (17, 'D'), (16, 'C'), (15, 'A')],\n",
              "  'trues': [1, 0, 0, 0, 1]},\n",
              " 4: {'query': ['o'],\n",
              "  'ranking': [(19, 'A'), (18, 'D'), (17, 'C'), (16, 'E'), (15, 'B')],\n",
              "  'trues': [0, 0, 1, 1, 0]},\n",
              " 5: {'query': ['goku'],\n",
              "  'ranking': [(19, 'D'), (18, 'A'), (17, 'E'), (16, 'C'), (15, 'B')],\n",
              "  'trues': [0, 0, 0, 0, 0]}}"
            ]
          },
          "metadata": {},
          "execution_count": 117
        }
      ]
    },
    {
      "cell_type": "markdown",
      "metadata": {
        "id": "4tK8b7PS5YG5"
      },
      "source": [
        "# Precision k"
      ]
    },
    {
      "cell_type": "markdown",
      "metadata": {
        "id": "rjZVlfmtXbvZ"
      },
      "source": [
        "$\\text{precision} @k = \\dfrac{\\text{true positives } @k}{(\\text{true positives } @k) + (\\text{false positives } @k)} $"
      ]
    },
    {
      "cell_type": "code",
      "metadata": {
        "id": "80EHLXMxW_eE"
      },
      "source": [
        "ranking1 = ['A','C','D','B','E',]\n",
        "true1 = [0,0,0,1,0]\n",
        "true_positives  = (np.array(true1))\n",
        "false_positives = (np.array(true1) == 0)*1\n",
        "precision1 = []\n",
        "for i in range(1,6):\n",
        "    precision1.append(true_positives[:i].sum()/ (true_positives[:i].sum() + false_positives[:i].sum())) \n",
        "\n",
        "#--------------------------------------------\n",
        "ranking2 = ['B','A','D','C','E',]\n",
        "true2 = [0,1,0,1,0]\n",
        "true_positives  = (np.array(true2))\n",
        "false_positives = (np.array(true2) == 0)*1\n",
        "precision2 = []\n",
        "for i in range(1,6):\n",
        "    precision2.append(true_positives[:i].sum()/ (true_positives[:i].sum() + false_positives[:i].sum())) \n",
        "\n",
        "#--------------------------------------------\n",
        "ranking3 = ['E','B','D','C','A',]\n",
        "true3 = [1,0,0,0,1]\n",
        "true_positives  = (np.array(true3))\n",
        "false_positives = (np.array(true3) == 0)*1\n",
        "precision3 = []\n",
        "for i in range(1,6):\n",
        "    precision3.append(true_positives[:i].sum()/ (true_positives[:i].sum() + false_positives[:i].sum())) \n",
        "\n",
        "ranking4 = ['A','D','C','E','B',]\n",
        "true4 = [0,1,1,1,0]\n",
        "true_positives  = (np.array(true4))\n",
        "false_positives = (np.array(true4) == 0)*1\n",
        "precision4 = []\n",
        "for i in range(1,6):\n",
        "    precision4.append(true_positives[:i].sum()/ (true_positives[:i].sum() + false_positives[:i].sum())) \n",
        "\n",
        "#--------------------------------------------\n",
        "ranking5 = ['D','A','E','C','B',]\n",
        "true5 = [0,0,0,0,0]\n",
        "precision5 = [1/1 + (0+0)/2 + (0+0+0)/3 + (0+0+0+0)/4 + (0+0+0+0+0)/5]\n",
        "true_positives  = (np.array(true5))\n",
        "false_positives = (np.array(true5) == 0)*1\n",
        "precision5 = []\n",
        "for i in range(1,6):\n",
        "    precision5.append(true_positives[:i].sum()/ (true_positives[:i].sum() + false_positives[:i].sum())) "
      ],
      "execution_count": 118,
      "outputs": []
    },
    {
      "cell_type": "code",
      "metadata": {
        "colab": {
          "base_uri": "https://localhost:8080/"
        },
        "id": "zjEfCZppiISi",
        "outputId": "fff568dc-b6da-4cf3-9abe-851096bbcf1a"
      },
      "source": [
        "precision1, precision2, precision3, precision4, precision5"
      ],
      "execution_count": 119,
      "outputs": [
        {
          "output_type": "execute_result",
          "data": {
            "text/plain": [
              "([0.0, 0.0, 0.0, 0.25, 0.2],\n",
              " [0.0, 0.5, 0.3333333333333333, 0.5, 0.4],\n",
              " [1.0, 0.5, 0.3333333333333333, 0.25, 0.4],\n",
              " [0.0, 0.5, 0.6666666666666666, 0.75, 0.6],\n",
              " [0.0, 0.0, 0.0, 0.0, 0.0])"
            ]
          },
          "metadata": {},
          "execution_count": 119
        }
      ]
    },
    {
      "cell_type": "code",
      "metadata": {
        "colab": {
          "base_uri": "https://localhost:8080/"
        },
        "id": "0vkHI5FjyC7x",
        "outputId": "ca2dc56c-7777-4a1d-f905-0d54c94cf09d"
      },
      "source": [
        "def precisionK(ranking: dict, key:int, depth=5-1):\n",
        "    try:\n",
        "        ranking[key]['trues']\n",
        "    except:\n",
        "        return 0\n",
        "\n",
        "    depth = depth-1 # discount idx 0\n",
        "    if depth >= len(ranking[key]['trues']):\n",
        "        depth = len(ranking[key]['trues'])-1\n",
        "    \n",
        "    true_positives  = (np.array(ranking[key]['trues']))\n",
        "    if (true_positives.sum()) == 0: # all wrong predictions \n",
        "        return 0\n",
        "    false_positives = (np.array(ranking[key]['trues']) == 0)*1\n",
        "\n",
        "    precision = []\n",
        "    for i in range(1,len(ranking)+1):\n",
        "        precision.append(true_positives[:i].sum()/(true_positives[:i].sum() + false_positives[:i].sum()))\n",
        "    \n",
        "    return precision[depth] \n",
        "\n",
        "# - - - - - test\n",
        "precisionK(ranking, 3, depth=5)    "
      ],
      "execution_count": 120,
      "outputs": [
        {
          "output_type": "execute_result",
          "data": {
            "text/plain": [
              "0.4"
            ]
          },
          "metadata": {},
          "execution_count": 120
        }
      ]
    },
    {
      "cell_type": "markdown",
      "metadata": {
        "id": "1vtIO93p5c6W"
      },
      "source": [
        "# Recall k"
      ]
    },
    {
      "cell_type": "markdown",
      "metadata": {
        "id": "19WDdIpbgbny"
      },
      "source": [
        "$\\text{recall} @k = \\dfrac{\\text{true positives } @k}{(\\text{true positives } @k) + (\\text{false negatives } @k)} $"
      ]
    },
    {
      "cell_type": "code",
      "metadata": {
        "id": "0-yzXDjdUV7X"
      },
      "source": [
        "#--------------------------------------------\n",
        "ranking1 = ['A','C','D','B','E',]\n",
        "true1 = [0,0,0,1,0]\n",
        "true_positives  = (np.array(true1))\n",
        "false_negatives = [true_positives.sum()-true_positives[:idx].sum() for idx in range(true_positives.shape[0])]\n",
        "recall1 = []\n",
        "for i in range(true_positives.shape[0]):\n",
        "    recall1.append(true_positives[:i+1].sum() / (true_positives[:i+1].sum() + false_negatives[i])) \n",
        "\n",
        "#--------------------------------------------\n",
        "ranking2 = ['B','A','D','C','E',]\n",
        "true2 = [0,1,0,1,0]\n",
        "true_positives  = (np.array(true2))\n",
        "false_negatives = [true_positives.sum()-true_positives[:idx].sum() for idx in range(true_positives.shape[0])]\n",
        "recall2 = []\n",
        "for i in range(true_positives.shape[0]):\n",
        "    recall2.append(true_positives[:i+1].sum()/ (true_positives[:i+1].sum() + false_negatives[i])) \n",
        "\n",
        "#--------------------------------------------\n",
        "ranking3 = ['E','B','D','C','A',]\n",
        "true3 = [1,0,0,0,1]\n",
        "true_positives  = (np.array(true3))\n",
        "false_negatives = [true_positives.sum()-true_positives[:idx].sum() for idx in range(true_positives.shape[0])]\n",
        "recall3 = []\n",
        "for i in range(true_positives.shape[0]):\n",
        "    recall3.append(true_positives[:i+1].sum()/ (true_positives[:i+1].sum() + false_negatives[i])) \n",
        "\n",
        "#--------------------------------------------\n",
        "ranking4 = ['A','D','C','E','B',]\n",
        "true4 = [0,1,1,1,0]\n",
        "true_positives  = (np.array(true4))\n",
        "false_negatives = [true_positives.sum()-true_positives[:idx].sum() for idx in range(true_positives.shape[0])]\n",
        "recall4 = []\n",
        "for i in range(true_positives.shape[0]):\n",
        "    recall4.append(true_positives[:i+1].sum()/ (true_positives[:i+1].sum() + false_negatives[i])) \n",
        "\n",
        "#--------------------------------------------\n",
        "ranking5 = ['D','A','E','C','B',]\n",
        "true5 = [0,0,0,0,0]\n",
        "precision5 = [1/1 + (0+0)/2 + (0+0+0)/3 + (0+0+0+0)/4 + (0+0+0+0+0)/5]\n",
        "true_positives  = (np.array(true5))\n",
        "false_negatives = [true_positives.sum()-true_positives[:idx].sum() for idx in range(true_positives.shape[0])]\n",
        "recall5 = []\n",
        "\n",
        "if true_positives.sum() == 0:\n",
        "    recall5 = [0]*true_positives.shape[0]\n",
        "else:\n",
        "    for i in range(true_positives.shape[0]):\n",
        "        recall5.append(true_positives[:i+1].sum()/ (true_positives[:i+1].sum() + false_negatives[i])) "
      ],
      "execution_count": 121,
      "outputs": []
    },
    {
      "cell_type": "code",
      "metadata": {
        "colab": {
          "base_uri": "https://localhost:8080/"
        },
        "id": "S_nwvc54UV4q",
        "outputId": "0c2bd3b8-0fbf-4921-de37-54fd8693429a"
      },
      "source": [
        "recall1, recall2, recall3, recall4, recall5"
      ],
      "execution_count": 122,
      "outputs": [
        {
          "output_type": "execute_result",
          "data": {
            "text/plain": [
              "([0.0, 0.0, 0.0, 0.5, 1.0],\n",
              " [0.0, 0.3333333333333333, 0.5, 0.6666666666666666, 1.0],\n",
              " [0.3333333333333333, 0.5, 0.5, 0.5, 0.6666666666666666],\n",
              " [0.0, 0.25, 0.5, 0.75, 1.0],\n",
              " [0, 0, 0, 0, 0])"
            ]
          },
          "metadata": {},
          "execution_count": 122
        }
      ]
    },
    {
      "cell_type": "code",
      "metadata": {
        "colab": {
          "base_uri": "https://localhost:8080/"
        },
        "id": "mUPUWoTj1RVt",
        "outputId": "a97c7e03-8cf0-4e36-c95e-9377b35f93a9"
      },
      "source": [
        "def recallK(ranking: dict, key:int, depth=5):\n",
        "    try:\n",
        "        ranking[key]['trues']\n",
        "    except:\n",
        "        return 0\n",
        "\n",
        "    depth = depth-1 # discount idx 0\n",
        "    if depth >= len(ranking[key]['trues']):\n",
        "        depth = len(ranking[key]['trues'])-1\n",
        "\n",
        "    true_positives = (np.array(ranking[key]['trues']))\n",
        "    if (true_positives.sum()) == 0: # all wrong predictions \n",
        "        return 0\n",
        "    false_negatives = [true_positives.sum()-true_positives[:idx].sum() for idx in range(true_positives.shape[0])]\n",
        "\n",
        "    recall = []\n",
        "    for i in range(true_positives.shape[0]):\n",
        "        recall.append(true_positives[:i+1].sum()/(true_positives[:i+1].sum() + false_negatives[i])) \n",
        "    \n",
        "    return recall[depth] \n",
        "\n",
        "# - - - - - test\n",
        "recallK(ranking, 4, depth=5)    "
      ],
      "execution_count": 123,
      "outputs": [
        {
          "output_type": "execute_result",
          "data": {
            "text/plain": [
              "1.0"
            ]
          },
          "metadata": {},
          "execution_count": 123
        }
      ]
    },
    {
      "cell_type": "markdown",
      "metadata": {
        "id": "yzEd1eNKUVw5"
      },
      "source": [
        "# F1\n",
        "\n",
        "$F_1 @ k = 2\\cdot \\dfrac{(\\text{precision @}k)\\cdot (\\text{recall @}k)}{(\\text{precision @}k) + (\\text{recall @}k)}$"
      ]
    },
    {
      "cell_type": "code",
      "metadata": {
        "colab": {
          "base_uri": "https://localhost:8080/"
        },
        "id": "8aB4WiPL6PfP",
        "outputId": "f0195f56-15f1-441e-dbbd-2df8e3ff389a"
      },
      "source": [
        "def f1k(ranking, key, depth=5):\n",
        "    return 2 * (recallK(ranking, key, depth=depth)*precisionK(ranking, key, depth=depth))/(recallK(ranking, key, depth=depth)+precisionK(ranking, key, depth=depth))\n",
        "\n",
        "# - - - - - test\n",
        "f1k(ranking, 3, 3)    "
      ],
      "execution_count": 124,
      "outputs": [
        {
          "output_type": "execute_result",
          "data": {
            "text/plain": [
              "0.4"
            ]
          },
          "metadata": {},
          "execution_count": 124
        }
      ]
    },
    {
      "cell_type": "markdown",
      "metadata": {
        "id": "fWAeG2IzUV1z"
      },
      "source": [
        "# MRR"
      ]
    },
    {
      "cell_type": "code",
      "metadata": {
        "id": "PxEQu7K6UVzo",
        "colab": {
          "base_uri": "https://localhost:8080/"
        },
        "outputId": "d8abe8f1-f0e2-4518-ee05-89e85347a6ed"
      },
      "source": [
        "def mrr(ranking: dict, key:int):\n",
        "    try:\n",
        "        ranking[key]\n",
        "    except:\n",
        "        return 0\n",
        "\n",
        "    mrr = [elel/(idx+1) for idx, elel in enumerate(ranking[key]['trues']) if elel !=0]\n",
        "    if len(mrr) > 0:\n",
        "        return mrr[0] #first positive\n",
        "    else:\n",
        "        return 0\n",
        "\n",
        "# - - - - - test\n",
        "mrr(ranking, 2)        "
      ],
      "execution_count": 125,
      "outputs": [
        {
          "output_type": "execute_result",
          "data": {
            "text/plain": [
              "0.5"
            ]
          },
          "metadata": {},
          "execution_count": 125
        }
      ]
    }
  ]
}