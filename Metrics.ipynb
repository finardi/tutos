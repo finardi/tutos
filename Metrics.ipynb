{
  "nbformat": 4,
  "nbformat_minor": 0,
  "metadata": {
    "colab": {
      "name": "Metrics.ipynb",
      "provenance": [],
      "authorship_tag": "ABX9TyOXTO+fxACel+Rj5j9GsQT0",
      "include_colab_link": true
    },
    "kernelspec": {
      "name": "python3",
      "display_name": "Python 3"
    },
    "language_info": {
      "name": "python"
    }
  },
  "cells": [
    {
      "cell_type": "markdown",
      "metadata": {
        "id": "view-in-github",
        "colab_type": "text"
      },
      "source": [
        "<a href=\"https://colab.research.google.com/github/finardi/tutos/blob/master/Metrics.ipynb\" target=\"_parent\"><img src=\"https://colab.research.google.com/assets/colab-badge.svg\" alt=\"Open In Colab\"/></a>"
      ]
    },
    {
      "cell_type": "code",
      "metadata": {
        "id": "ogqR_IydOPA4"
      },
      "source": [
        "from dataclasses import dataclass\n",
        "import pandas as pd\n",
        "import numpy as np"
      ],
      "execution_count": 52,
      "outputs": []
    },
    {
      "cell_type": "markdown",
      "metadata": {
        "id": "K2Uqlme85UhC"
      },
      "source": [
        "# Fake ranking object"
      ]
    },
    {
      "cell_type": "code",
      "metadata": {
        "colab": {
          "base_uri": "https://localhost:8080/"
        },
        "id": "PxLPA4e7PFTD",
        "outputId": "b0c57d23-ec95-452f-fd33-cf73ae2b357f"
      },
      "source": [
        "query0 = ['oi']\n",
        "ranking0 = ['A','C','D','B','E','Z','W','Y',]\n",
        "score0 = [19,18,17,16,15,14,13,12]\n",
        "true0 = [1,0,1,1,0,1,0,0]\n",
        "\n",
        "query1 = ['oi']\n",
        "ranking1 = ['A','C','D','B','E',]\n",
        "score1 = [19,18,17,16,15]\n",
        "true1 = [0,0,0,1,0]\n",
        "\n",
        "query2 = ['eu']\n",
        "ranking2 = ['B','A','D','C','E',]\n",
        "score2 = [19,18,17,16,15]\n",
        "true2 = [0,1,0,1,0]\n",
        "\n",
        "query3 = ['sou']\n",
        "ranking3 = ['E','B','D','C','A',]\n",
        "score3 = [19,18,17,16,15]\n",
        "true3 = [1,0,0,0,1]\n",
        "\n",
        "query4 = ['o']\n",
        "ranking4 = ['A','D','C','E','B',]\n",
        "score4 = [19,18,17,16,15]\n",
        "true4 = [0,0,1,1,0]\n",
        "\n",
        "query5 = ['goku']\n",
        "ranking5 = ['D','A','E','C','B',]\n",
        "score5 = [19,18,17,16,15]\n",
        "true5 = [0,0,0,0,0]\n",
        "\n",
        "ranking = {}\n",
        "ranking[0] = {'query': query0, 'ranking': list(zip(score0, ranking0)), 'trues': true0}\n",
        "ranking[1] = {'query': query1, 'ranking': list(zip(score1, ranking1)), 'trues': true1}\n",
        "ranking[2] = {'query': query2, 'ranking': list(zip(score2, ranking2)), 'trues': true2}\n",
        "ranking[3] = {'query': query3, 'ranking': list(zip(score3, ranking3)), 'trues': true3}\n",
        "ranking[4] = {'query': query4, 'ranking': list(zip(score4, ranking4)), 'trues': true4}\n",
        "ranking[5] = {'query': query5, 'ranking': list(zip(score5, ranking5)), 'trues': true5}\n",
        "\n",
        "ranking"
      ],
      "execution_count": 2,
      "outputs": [
        {
          "output_type": "execute_result",
          "data": {
            "text/plain": [
              "{0: {'query': ['oi'],\n",
              "  'ranking': [(19, 'A'),\n",
              "   (18, 'C'),\n",
              "   (17, 'D'),\n",
              "   (16, 'B'),\n",
              "   (15, 'E'),\n",
              "   (14, 'Z'),\n",
              "   (13, 'W'),\n",
              "   (12, 'Y')],\n",
              "  'trues': [1, 0, 1, 1, 0, 1, 0, 0]},\n",
              " 1: {'query': ['oi'],\n",
              "  'ranking': [(19, 'A'), (18, 'C'), (17, 'D'), (16, 'B'), (15, 'E')],\n",
              "  'trues': [0, 0, 0, 1, 0]},\n",
              " 2: {'query': ['eu'],\n",
              "  'ranking': [(19, 'B'), (18, 'A'), (17, 'D'), (16, 'C'), (15, 'E')],\n",
              "  'trues': [0, 1, 0, 1, 0]},\n",
              " 3: {'query': ['sou'],\n",
              "  'ranking': [(19, 'E'), (18, 'B'), (17, 'D'), (16, 'C'), (15, 'A')],\n",
              "  'trues': [1, 0, 0, 0, 1]},\n",
              " 4: {'query': ['o'],\n",
              "  'ranking': [(19, 'A'), (18, 'D'), (17, 'C'), (16, 'E'), (15, 'B')],\n",
              "  'trues': [0, 0, 1, 1, 0]},\n",
              " 5: {'query': ['goku'],\n",
              "  'ranking': [(19, 'D'), (18, 'A'), (17, 'E'), (16, 'C'), (15, 'B')],\n",
              "  'trues': [0, 0, 0, 0, 0]}}"
            ]
          },
          "metadata": {},
          "execution_count": 2
        }
      ]
    },
    {
      "cell_type": "markdown",
      "metadata": {
        "id": "4tK8b7PS5YG5"
      },
      "source": [
        "# Precision k"
      ]
    },
    {
      "cell_type": "markdown",
      "metadata": {
        "id": "rjZVlfmtXbvZ"
      },
      "source": [
        "$\\text{precision} @k = \\dfrac{\\text{true positives } @k}{(\\text{true positives } @k) + (\\text{false positives } @k)} $"
      ]
    },
    {
      "cell_type": "code",
      "metadata": {
        "id": "80EHLXMxW_eE"
      },
      "source": [
        "ranking1 = ['A','C','D','B','E',]\n",
        "true1 = [0,0,0,1,0]\n",
        "true_positives  = (np.array(true1))\n",
        "false_positives = (np.array(true1) == 0)*1\n",
        "precision1 = []\n",
        "for i in range(1,6):\n",
        "    precision1.append(true_positives[:i].sum()/ (true_positives[:i].sum() + false_positives[:i].sum())) \n",
        "\n",
        "#--------------------------------------------\n",
        "ranking2 = ['B','A','D','C','E',]\n",
        "true2 = [0,1,0,1,0]\n",
        "true_positives  = (np.array(true2))\n",
        "false_positives = (np.array(true2) == 0)*1\n",
        "precision2 = []\n",
        "for i in range(1,6):\n",
        "    precision2.append(true_positives[:i].sum()/ (true_positives[:i].sum() + false_positives[:i].sum())) \n",
        "\n",
        "#--------------------------------------------\n",
        "ranking3 = ['E','B','D','C','A',]\n",
        "true3 = [1,0,0,0,1]\n",
        "true_positives  = (np.array(true3))\n",
        "false_positives = (np.array(true3) == 0)*1\n",
        "precision3 = []\n",
        "for i in range(1,6):\n",
        "    precision3.append(true_positives[:i].sum()/ (true_positives[:i].sum() + false_positives[:i].sum())) \n",
        "\n",
        "ranking4 = ['A','D','C','E','B',]\n",
        "true4 = [0,1,1,1,0]\n",
        "true_positives  = (np.array(true4))\n",
        "false_positives = (np.array(true4) == 0)*1\n",
        "precision4 = []\n",
        "for i in range(1,6):\n",
        "    precision4.append(true_positives[:i].sum()/ (true_positives[:i].sum() + false_positives[:i].sum())) \n",
        "\n",
        "#--------------------------------------------\n",
        "ranking5 = ['D','A','E','C','B',]\n",
        "true5 = [0,0,0,0,0]\n",
        "precision5 = [1/1 + (0+0)/2 + (0+0+0)/3 + (0+0+0+0)/4 + (0+0+0+0+0)/5]\n",
        "true_positives  = (np.array(true5))\n",
        "false_positives = (np.array(true5) == 0)*1\n",
        "precision5 = []\n",
        "for i in range(1,6):\n",
        "    precision5.append(true_positives[:i].sum()/ (true_positives[:i].sum() + false_positives[:i].sum())) "
      ],
      "execution_count": 3,
      "outputs": []
    },
    {
      "cell_type": "code",
      "metadata": {
        "colab": {
          "base_uri": "https://localhost:8080/"
        },
        "id": "zjEfCZppiISi",
        "outputId": "ef7e01fc-01b0-423a-b38a-664cf6b6866b"
      },
      "source": [
        "precision1, precision2, precision3, precision4, precision5"
      ],
      "execution_count": 4,
      "outputs": [
        {
          "output_type": "execute_result",
          "data": {
            "text/plain": [
              "([0.0, 0.0, 0.0, 0.25, 0.2],\n",
              " [0.0, 0.5, 0.3333333333333333, 0.5, 0.4],\n",
              " [1.0, 0.5, 0.3333333333333333, 0.25, 0.4],\n",
              " [0.0, 0.5, 0.6666666666666666, 0.75, 0.6],\n",
              " [0.0, 0.0, 0.0, 0.0, 0.0])"
            ]
          },
          "metadata": {},
          "execution_count": 4
        }
      ]
    },
    {
      "cell_type": "code",
      "metadata": {
        "colab": {
          "base_uri": "https://localhost:8080/"
        },
        "id": "0vkHI5FjyC7x",
        "outputId": "7126ad90-812e-4a98-a0ca-3ada302df51c"
      },
      "source": [
        "def precisionK(ranking: dict, key:int, depth=5):\n",
        "    try:\n",
        "        ranking[key]['trues']\n",
        "    except:\n",
        "        return 0\n",
        "\n",
        "    depth = depth-1 # discount idx 0\n",
        "    if depth >= len(ranking[key]['trues']):\n",
        "        depth = len(ranking[key]['trues'])-1\n",
        "    \n",
        "    true_positives  = (np.array(ranking[key]['trues']))\n",
        "    if (true_positives.sum()) == 0: # all wrong predictions \n",
        "        return 0\n",
        "    false_positives = (np.array(ranking[key]['trues']) == 0)*1\n",
        "\n",
        "\n",
        "    precision = []\n",
        "    for i in range(1, len(ranking[key]['trues'])+1):\n",
        "        precision.append(true_positives[:i].sum()/(true_positives[:i].sum() + false_positives[:i].sum()))\n",
        "\n",
        "    return precision[depth] \n",
        "\n",
        "# - - - - - test\n",
        "precisionK(ranking, 0, depth=8)    "
      ],
      "execution_count": 5,
      "outputs": [
        {
          "output_type": "execute_result",
          "data": {
            "text/plain": [
              "0.5"
            ]
          },
          "metadata": {},
          "execution_count": 5
        }
      ]
    },
    {
      "cell_type": "markdown",
      "metadata": {
        "id": "1vtIO93p5c6W"
      },
      "source": [
        "# Recall k"
      ]
    },
    {
      "cell_type": "markdown",
      "metadata": {
        "id": "19WDdIpbgbny"
      },
      "source": [
        "$\\text{recall} @k = \\dfrac{\\text{true positives } @k}{(\\text{true positives } @k) + (\\text{false negatives } @k)} $"
      ]
    },
    {
      "cell_type": "code",
      "metadata": {
        "id": "0-yzXDjdUV7X"
      },
      "source": [
        "#--------------------------------------------\n",
        "ranking1 = ['A','C','D','B','E',]\n",
        "true1 = [0,0,0,1,0]\n",
        "true_positives  = (np.array(true1))\n",
        "false_negatives = [true_positives.sum()-true_positives[:idx].sum() for idx in range(true_positives.shape[0])]\n",
        "recall1 = []\n",
        "for i in range(true_positives.shape[0]):\n",
        "    recall1.append(true_positives[:i+1].sum() / (true_positives[:i+1].sum() + false_negatives[i])) \n",
        "\n",
        "#--------------------------------------------\n",
        "ranking2 = ['B','A','D','C','E',]\n",
        "true2 = [0,1,0,1,0]\n",
        "true_positives  = (np.array(true2))\n",
        "false_negatives = [true_positives.sum()-true_positives[:idx].sum() for idx in range(true_positives.shape[0])]\n",
        "recall2 = []\n",
        "for i in range(true_positives.shape[0]):\n",
        "    recall2.append(true_positives[:i+1].sum()/ (true_positives[:i+1].sum() + false_negatives[i])) \n",
        "\n",
        "#--------------------------------------------\n",
        "ranking3 = ['E','B','D','C','A',]\n",
        "true3 = [1,0,0,0,1]\n",
        "true_positives  = (np.array(true3))\n",
        "false_negatives = [true_positives.sum()-true_positives[:idx].sum() for idx in range(true_positives.shape[0])]\n",
        "recall3 = []\n",
        "for i in range(true_positives.shape[0]):\n",
        "    recall3.append(true_positives[:i+1].sum()/ (true_positives[:i+1].sum() + false_negatives[i])) \n",
        "\n",
        "#--------------------------------------------\n",
        "ranking4 = ['A','D','C','E','B',]\n",
        "true4 = [0,1,1,1,0]\n",
        "true_positives  = (np.array(true4))\n",
        "false_negatives = [true_positives.sum()-true_positives[:idx].sum() for idx in range(true_positives.shape[0])]\n",
        "recall4 = []\n",
        "for i in range(true_positives.shape[0]):\n",
        "    recall4.append(true_positives[:i+1].sum()/ (true_positives[:i+1].sum() + false_negatives[i])) \n",
        "\n",
        "#--------------------------------------------\n",
        "ranking5 = ['D','A','E','C','B',]\n",
        "true5 = [0,0,0,0,0]\n",
        "precision5 = [1/1 + (0+0)/2 + (0+0+0)/3 + (0+0+0+0)/4 + (0+0+0+0+0)/5]\n",
        "true_positives  = (np.array(true5))\n",
        "false_negatives = [true_positives.sum()-true_positives[:idx].sum() for idx in range(true_positives.shape[0])]\n",
        "recall5 = []\n",
        "\n",
        "if true_positives.sum() == 0:\n",
        "    recall5 = [0]*true_positives.shape[0]\n",
        "else:\n",
        "    for i in range(true_positives.shape[0]):\n",
        "        recall5.append(true_positives[:i+1].sum()/ (true_positives[:i+1].sum() + false_negatives[i])) "
      ],
      "execution_count": 6,
      "outputs": []
    },
    {
      "cell_type": "code",
      "metadata": {
        "colab": {
          "base_uri": "https://localhost:8080/"
        },
        "id": "S_nwvc54UV4q",
        "outputId": "ae5f2e21-77b7-48aa-83cd-ffb26c81e07d"
      },
      "source": [
        "recall1, recall2, recall3, recall4, recall5"
      ],
      "execution_count": 7,
      "outputs": [
        {
          "output_type": "execute_result",
          "data": {
            "text/plain": [
              "([0.0, 0.0, 0.0, 0.5, 1.0],\n",
              " [0.0, 0.3333333333333333, 0.5, 0.6666666666666666, 1.0],\n",
              " [0.3333333333333333, 0.5, 0.5, 0.5, 0.6666666666666666],\n",
              " [0.0, 0.25, 0.5, 0.75, 1.0],\n",
              " [0, 0, 0, 0, 0])"
            ]
          },
          "metadata": {},
          "execution_count": 7
        }
      ]
    },
    {
      "cell_type": "code",
      "metadata": {
        "colab": {
          "base_uri": "https://localhost:8080/"
        },
        "id": "mUPUWoTj1RVt",
        "outputId": "a48d1859-69c3-4466-b860-920de49f9a8f"
      },
      "source": [
        "def recallK(ranking: dict, key:int, depth=5):\n",
        "    try:\n",
        "        ranking[key]['trues']\n",
        "    except:\n",
        "        return 0\n",
        "\n",
        "    depth = depth-1 # discount idx 0\n",
        "    if depth >= len(ranking[key]['trues']):\n",
        "        depth = len(ranking[key]['trues'])-1\n",
        "\n",
        "    true_positives = (np.array(ranking[key]['trues']))\n",
        "    if (true_positives.sum()) == 0: # all wrong predictions \n",
        "        return 0\n",
        "    false_negatives = [true_positives.sum()-true_positives[:idx+1].sum() for idx in range(true_positives.shape[0])]\n",
        "\n",
        "    recall = []\n",
        "    for i in range(true_positives.shape[0]):\n",
        "        recall.append(true_positives[:i+1].sum()/(true_positives[:i+1].sum() + false_negatives[i])) \n",
        "    \n",
        "    return recall[depth] \n",
        "\n",
        "# - - - - - test\n",
        "recallK(ranking, 0, depth=1)    "
      ],
      "execution_count": 8,
      "outputs": [
        {
          "output_type": "execute_result",
          "data": {
            "text/plain": [
              "0.25"
            ]
          },
          "metadata": {},
          "execution_count": 8
        }
      ]
    },
    {
      "cell_type": "markdown",
      "metadata": {
        "id": "yzEd1eNKUVw5"
      },
      "source": [
        "# F1\n",
        "\n",
        "$F_1 @ k = 2\\cdot \\dfrac{(\\text{precision @}k)\\cdot (\\text{recall @}k)}{(\\text{precision @}k) + (\\text{recall @}k)}$"
      ]
    },
    {
      "cell_type": "code",
      "metadata": {
        "colab": {
          "base_uri": "https://localhost:8080/"
        },
        "id": "8aB4WiPL6PfP",
        "outputId": "f7bd1e16-d6b9-43d0-ec4a-f2efa5587c64"
      },
      "source": [
        "def f1K(precision, recall):\n",
        "    return 2*(recall*precision)/(recall + precision)\n",
        "\n",
        "# - - - - - test\n",
        "f1K(precision=0.1, recall=0.4)    "
      ],
      "execution_count": 9,
      "outputs": [
        {
          "output_type": "execute_result",
          "data": {
            "text/plain": [
              "0.16000000000000003"
            ]
          },
          "metadata": {},
          "execution_count": 9
        }
      ]
    },
    {
      "cell_type": "markdown",
      "metadata": {
        "id": "fWAeG2IzUV1z"
      },
      "source": [
        "# MRR"
      ]
    },
    {
      "cell_type": "code",
      "metadata": {
        "id": "PxEQu7K6UVzo",
        "colab": {
          "base_uri": "https://localhost:8080/"
        },
        "outputId": "61b3c2e4-5b2b-4d03-d643-4cb78ce2fc6d"
      },
      "source": [
        "def mrr(ranking: dict, key:int, depth=5):\n",
        "    try:\n",
        "        ranking[key]\n",
        "    except:\n",
        "        return 0\n",
        "    valid_elems = ranking[key]['trues'][:depth]\n",
        "    mrr = [elel/(idx+1) for idx, elel in enumerate(valid_elems) if elel !=0]\n",
        "    if len(mrr) > 0:\n",
        "        return mrr[0] #first positive\n",
        "    else:\n",
        "        return 0\n",
        "\n",
        "# - - - - - test\n",
        "mrr(ranking=ranking, key=0, depth=4)        "
      ],
      "execution_count": 10,
      "outputs": [
        {
          "output_type": "execute_result",
          "data": {
            "text/plain": [
              "1.0"
            ]
          },
          "metadata": {},
          "execution_count": 10
        }
      ]
    },
    {
      "cell_type": "code",
      "metadata": {
        "id": "vMznePxpkSmm"
      },
      "source": [
        "@dataclass\n",
        "class RankingMetrics:\n",
        "    \"\"\"\n",
        "    A class used to perform ranking metrics\n",
        "    ...\n",
        "    \n",
        "    Attributes\n",
        "    ----------\n",
        "    ranking : dict keys(query_idx) -> values(vector ranking)\n",
        "\n",
        "    Methods\n",
        "    -------\n",
        "    precisionK\n",
        "        Lorem ipsum dolor sit amet, consectetur adipiscing elit, sed do eiusmod tempor \n",
        "        incididunt ut labore et dolore magna aliqua. \n",
        "    recallK\n",
        "        Lorem ipsum dolor sit amet, consectetur adipiscing elit, sed do eiusmod tempor \n",
        "        incididunt ut labore et dolore magna aliqua. \n",
        "    mrr\n",
        "        Lorem ipsum dolor sit amet, consectetur adipiscing elit, sed do eiusmod tempor \n",
        "        incididunt ut labore et dolore magna aliqua. \n",
        "    mapK\n",
        "        Lorem ipsum dolor sit amet, consectetur adipiscing elit, sed do eiusmod tempor \n",
        "        incididunt ut labore et dolore magna aliqua. \n",
        "    fiK\n",
        "        Lorem ipsum dolor sit amet, consectetur adipiscing elit, sed do eiusmod tempor \n",
        "        incididunt ut labore et dolore magna aliqua. \n",
        "    \"\"\"\n",
        "\n",
        "    ranking: dict\n",
        "\n",
        "    def precisionK(self, key:int, depth=5):\n",
        "        \"\"\"\n",
        "        describe: todo\n",
        "        ...\n",
        "      \n",
        "        Attributes\n",
        "        ----------\n",
        "        key : int\n",
        "            to select vector ranking \n",
        "        depth : int\n",
        "            depth of ranking metric\n",
        "        \"\"\"\n",
        "        try:\n",
        "            self.ranking[key]['trues']\n",
        "        except:\n",
        "            return 0\n",
        "\n",
        "        depth = depth-1 # discount idx 0\n",
        "        if depth >= len(self.ranking[key]['trues']):\n",
        "            depth = len(self.ranking[key]['trues'])-1\n",
        "        \n",
        "        true_positives  = (np.array(self.ranking[key]['trues']))\n",
        "        if (true_positives.sum()) == 0: # all wrong predictions \n",
        "            return 0\n",
        "        false_positives = (np.array(self.ranking[key]['trues']) == 0)*1\n",
        "        precision = []\n",
        "        for i in range(1, len(self.ranking[key]['trues'])+1):\n",
        "            precision.append(true_positives[:i].sum()/(true_positives[:i].sum() + false_positives[:i].sum()))\n",
        "\n",
        "        return precision[depth] \n",
        "\n",
        "    def recallK(self, key:int, depth=5):\n",
        "        \"\"\"\n",
        "        describe: todo\n",
        "        ...\n",
        "      \n",
        "        Attributes\n",
        "        ----------\n",
        "        key : int\n",
        "            to select vector ranking \n",
        "        depth : int\n",
        "            depth of ranking metric\n",
        "        \"\"\"\n",
        "        \n",
        "        try:\n",
        "            self.ranking[key]['trues']\n",
        "        except:\n",
        "            return 0\n",
        "\n",
        "        depth = depth-1 # discount idx 0\n",
        "        if depth >= len(self.ranking[key]['trues']):\n",
        "            depth = len(self.ranking[key]['trues'])-1\n",
        "\n",
        "        true_positives = (np.array(self.ranking[key]['trues']))\n",
        "        if (true_positives.sum()) == 0: # all wrong predictions \n",
        "            return 0\n",
        "        false_negatives = [true_positives.sum()-true_positives[:idx+1].sum() for idx in range(true_positives.shape[0])]\n",
        "\n",
        "        recall = []\n",
        "        for i in range(true_positives.shape[0]):\n",
        "            recall.append(true_positives[:i+1].sum()/(true_positives[:i+1].sum() + false_negatives[i])) \n",
        "        \n",
        "        return recall[depth] \n",
        "\n",
        "    def mrr(self, key:int, depth=5):\n",
        "        \"\"\"\n",
        "        describe: todo\n",
        "        ...\n",
        "      \n",
        "        Attributes\n",
        "        ----------\n",
        "        key : int\n",
        "            to select vector ranking \n",
        "        depth : int\n",
        "            depth of ranking metric\n",
        "        \"\"\"\n",
        "\n",
        "        try:\n",
        "            self.ranking[key]\n",
        "        except:\n",
        "            return 0\n",
        "        valid_elems = self.ranking[key]['trues'][:depth]\n",
        "        mrr = [elel/(idx+1) for idx, elel in enumerate(valid_elems) if elel !=0]\n",
        "        if len(mrr) > 0:\n",
        "            return mrr[0] #first positive\n",
        "        else:\n",
        "            return 0\n",
        "\n",
        "    def mapK(self, key:int, depth=5):\n",
        "        \"\"\"\n",
        "        describe: todo\n",
        "        ...\n",
        "      \n",
        "        Attributes\n",
        "        ----------\n",
        "        key : int\n",
        "            to select vector ranking \n",
        "        depth : int\n",
        "            depth of ranking metric\n",
        "        \"\"\"\n",
        "\n",
        "        try:\n",
        "            self.ranking[key]\n",
        "        except:\n",
        "            return 0\n",
        "\n",
        "        if depth >= len(self.ranking[key]['trues']):\n",
        "            depth = len(self.ranking[key]['trues'])-1\n",
        "\n",
        "        total_trues = np.array(self.ranking[key]['trues']).sum()\n",
        "        if total_trues == 0:\n",
        "            return 0\n",
        "        running_sum, correct = 0, 0\n",
        "        for idx, elel in enumerate(self.ranking[key]['trues'][:depth],1):\n",
        "            if elel == 1:\n",
        "                correct += 1\n",
        "                running_sum += correct/idx\n",
        "        return running_sum/total_trues\n",
        "\n",
        "    @staticmethod\n",
        "    def f1K(precision, recall):\n",
        "        \"\"\"\n",
        "        describe: todo\n",
        "        ...\n",
        "      \n",
        "        Attributes\n",
        "        ----------\n",
        "        key : int\n",
        "            to select vector ranking \n",
        "        depth : int\n",
        "            depth of ranking metric\n",
        "        \"\"\"\n",
        "        \n",
        "        return 2*(recall*precision)/(recall + precision)\n",
        "\n",
        "# test - - - - -\n",
        "Metrics = RankingMetrics(ranking)"
      ],
      "execution_count": 56,
      "outputs": []
    },
    {
      "cell_type": "code",
      "metadata": {
        "colab": {
          "base_uri": "https://localhost:8080/"
        },
        "id": "mV6X53FprWnx",
        "outputId": "36f98365-520f-444e-fc5a-721a059d245e"
      },
      "source": [
        "total_recall, total_precision, total_mrr, total_map = 0,0,0,0\n",
        "\n",
        "depth=5\n",
        "\n",
        "Metrics = RankingMetrics(ranking)\n",
        "\n",
        "for key in ranking.keys():\n",
        "    total_precision += Metrics.precisionK(key=key, depth=depth)\n",
        "    total_recall += Metrics.recallK(key=key, depth=depth)\n",
        "    total_mrr += Metrics.mrr(key=key, depth=depth)\n",
        "    total_map += Metrics.mapK(key=key, depth=depth)\n",
        "\n",
        "total_precision = total_precision/len(ranking)\n",
        "total_recall = total_recall/len(ranking)\n",
        "total_mrr = total_mrr/len(ranking)\n",
        "total_map = total_map/len(ranking)\n",
        "total_f1 = Metrics.f1K(precision=total_precision, recall=total_recall) \n",
        "\n",
        "print(f'Recall@{depth}: {total_recall:.3f}')\n",
        "print(f'Precision@{depth}: {total_precision:.3f}')\n",
        "print(f'F1@{depth}: {total_f1:.3f}')\n",
        "print(f'MRR@{depth}: {total_mrr:.3f}')\n",
        "print(f'MAP@{depth}: {total_map:.3f}')"
      ],
      "execution_count": 57,
      "outputs": [
        {
          "output_type": "stream",
          "text": [
            "Recall@5: 0.792\n",
            "Precision@5: 0.333\n",
            "F1@5: 0.469\n",
            "MRR@5: 0.514\n",
            "MAP@5: 0.378\n"
          ],
          "name": "stdout"
        }
      ]
    }
  ]
}