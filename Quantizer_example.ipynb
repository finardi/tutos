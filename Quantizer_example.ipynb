{
  "nbformat": 4,
  "nbformat_minor": 0,
  "metadata": {
    "colab": {
      "provenance": [],
      "authorship_tag": "ABX9TyN7M8yg38Or8xndQG4dwPW3",
      "include_colab_link": true
    },
    "kernelspec": {
      "name": "python3",
      "display_name": "Python 3"
    },
    "language_info": {
      "name": "python"
    }
  },
  "cells": [
    {
      "cell_type": "markdown",
      "metadata": {
        "id": "view-in-github",
        "colab_type": "text"
      },
      "source": [
        "<a href=\"https://colab.research.google.com/github/finardi/tutos/blob/master/Quantizer_example.ipynb\" target=\"_parent\"><img src=\"https://colab.research.google.com/assets/colab-badge.svg\" alt=\"Open In Colab\"/></a>"
      ]
    },
    {
      "cell_type": "code",
      "source": [
        "import os\n",
        "import torch\n",
        "\n",
        "A = torch.tensor([[-0.18120981, -0.29043840], [0.49722983, 0.22141714]])\n",
        "B = torch.tensor([0.77412377, 0.49299395])\n",
        "\n",
        "def quantize(C, a=1):\n",
        "    quantized = [torch.floor(128*elel/a) for \n",
        "                 elel in C.view(-1)]\n",
        "    return torch.tensor(quantized).view(C.size())\n",
        "\n",
        "def de_quantize(C, a=1):\n",
        "    dequantized = [a*elel/(128*128) for elel in C.view(-1)]\n",
        "    return torch.tensor(dequantized).view(C.size())\n",
        "\n",
        "print(f'A:   [{A.flatten()[:2]}{A.flatten()[2:]}]')\n",
        "print(f'B:   {B}')\n",
        "print(f'A@B: {A@B}\\n')\n",
        "\n",
        "\n",
        "A_quant = quantize(A)\n",
        "B_quant = quantize(B)\n",
        "print(f'A quant:      [{A_quant.flatten()[:2]}{A_quant.flatten()[2:]}]')\n",
        "print(f'B quant:      {B_quant}')\n",
        "print(f'A@B quant:    {A_quant@B_quant}')\n",
        "print(f'A@B de-quant: {de_quantize(A_quant@B_quant)}')"
      ],
      "metadata": {
        "colab": {
          "base_uri": "https://localhost:8080/"
        },
        "id": "Poc8jfCGRS70",
        "outputId": "87129339-cf6a-4c05-df9d-fa8c75213fbf"
      },
      "execution_count": 7,
      "outputs": [
        {
          "output_type": "stream",
          "name": "stdout",
          "text": [
            "A:   [tensor([-0.1812, -0.2904])tensor([0.4972, 0.2214])]\n",
            "B:   tensor([0.7741, 0.4930])\n",
            "A@B: tensor([-0.2835,  0.4941])\n",
            "\n",
            "A quant:      [tensor([-24., -38.])tensor([63., 28.])]\n",
            "B quant:      tensor([99., 63.])\n",
            "A@B quant:    tensor([-4770.,  8001.])\n",
            "A@B de-quant: tensor([-0.2911,  0.4883])\n"
          ]
        }
      ]
    },
    {
      "cell_type": "markdown",
      "source": [
        "# Dynamic Quant exemple"
      ],
      "metadata": {
        "id": "XfmECFIOHeEQ"
      }
    },
    {
      "cell_type": "code",
      "source": [
        "class Net(torch.nn.Module):\n",
        "    def __init__(self, din=1024, dout=1024):\n",
        "        super().__init__()\n",
        "        \n",
        "        self.dense = torch.nn.Linear(din, dout, bias=False)\n",
        "\n",
        "    def forward(self, x):\n",
        "        return self.dense(x) + x\n",
        "\n",
        "model = Net()\n",
        "\n",
        "dummy_inputs = torch.randn(1024, 1024)\n",
        "out = model(dummy_inputs)\n",
        "out.shape"
      ],
      "metadata": {
        "colab": {
          "base_uri": "https://localhost:8080/"
        },
        "id": "BQVNcSZ1A64F",
        "outputId": "92abfd12-4bdf-4e1b-a29b-93c73f9381f4"
      },
      "execution_count": 117,
      "outputs": [
        {
          "output_type": "execute_result",
          "data": {
            "text/plain": [
              "torch.Size([1024, 1024])"
            ]
          },
          "metadata": {},
          "execution_count": 117
        }
      ]
    },
    {
      "cell_type": "code",
      "source": [
        "quantized_model = torch.quantization.quantize_dynamic(\n",
        "    model=model,\n",
        "    qconfig_spec = {torch.nn.Linear : torch.quantization.default_dynamic_qconfig},\n",
        "    dtype=torch.qint8,\n",
        "    )"
      ],
      "metadata": {
        "id": "Q21sTQw7A6Eb"
      },
      "execution_count": 118,
      "outputs": []
    },
    {
      "cell_type": "code",
      "source": [
        "def print_size_of_model(model):\n",
        "    torch.save(model.state_dict(), \"temp.p\")\n",
        "    print('Size (MB):', os.path.getsize(\"temp.p\")/1e6)\n",
        "    os.remove('temp.p')\n",
        "\n",
        "print_size_of_model(model)\n",
        "print_size_of_model(quantized_model)\n",
        "\n",
        "def count_parameters(model):\n",
        "    return sum(p.numel() for p in model.parameters() if p.requires_grad)\n",
        " \n",
        "_ = 56\n",
        "\n",
        "print('\\n','=' * _,f'\\n # The Dense Layer has {count_parameters(model):,}' \\\n",
        "       ' trainable parameters #\\n', '=' * _,'\\n' )\n",
        "print('\\n','=' * _,f'\\n # The Quantized Dense Layer has {count_parameters(quantized_model):,}' \\\n",
        "       ' trainable parameters #\\n', '=' * _,'\\n' )"
      ],
      "metadata": {
        "colab": {
          "base_uri": "https://localhost:8080/"
        },
        "id": "QSrVrV9I-jqV",
        "outputId": "3c3bc520-4ed7-42ed-928c-b45ec5c79f64"
      },
      "execution_count": 119,
      "outputs": [
        {
          "output_type": "stream",
          "name": "stdout",
          "text": [
            "Size (MB): 4.195179\n",
            "Size (MB): 1.050147\n",
            "\n",
            " ======================================================== \n",
            " # The Dense Layer has 1,048,576 trainable parameters #\n",
            " ======================================================== \n",
            "\n",
            "\n",
            " ======================================================== \n",
            " # The Quantized Dense Layer has 0 trainable parameters #\n",
            " ======================================================== \n",
            "\n"
          ]
        }
      ]
    },
    {
      "cell_type": "code",
      "source": [
        "qtz_st = quantized_model.state_dict()\n",
        "for name, q_param in qtz_st.items():\n",
        "    if isinstance(q_param, tuple) and \"dtype\" not in name and q_param[0].is_quantized:\n",
        "        pass\n",
        "q_param        "
      ],
      "metadata": {
        "colab": {
          "base_uri": "https://localhost:8080/"
        },
        "id": "nY5llBM4DPj7",
        "outputId": "eb29bdfb-07af-43ed-db69-e6b9c82dc931"
      },
      "execution_count": 120,
      "outputs": [
        {
          "output_type": "execute_result",
          "data": {
            "text/plain": [
              "(tensor([[-0.0027,  0.0017,  0.0025,  ..., -0.0203,  0.0032,  0.0140],\n",
              "         [-0.0100, -0.0088, -0.0015,  ..., -0.0098,  0.0167, -0.0029],\n",
              "         [-0.0108,  0.0157,  0.0081,  ..., -0.0169,  0.0260, -0.0279],\n",
              "         ...,\n",
              "         [-0.0054, -0.0223,  0.0201,  ...,  0.0127, -0.0294, -0.0199],\n",
              "         [ 0.0002,  0.0309,  0.0125,  ...,  0.0311, -0.0120, -0.0098],\n",
              "         [ 0.0196, -0.0044,  0.0292,  ..., -0.0064,  0.0287, -0.0091]],\n",
              "        size=(1024, 1024), dtype=torch.qint8,\n",
              "        quantization_scheme=torch.per_tensor_affine, scale=0.0002450977626722306,\n",
              "        zero_point=0), None)"
            ]
          },
          "metadata": {},
          "execution_count": 120
        }
      ]
    },
    {
      "cell_type": "code",
      "source": [
        "qtz_st = model.state_dict()\n",
        "for name, param in qtz_st.items():\n",
        "    if isinstance(param, tuple) and \"dtype\" not in name and param[0].is_quantized:\n",
        "        pass\n",
        "name, param        "
      ],
      "metadata": {
        "colab": {
          "base_uri": "https://localhost:8080/"
        },
        "id": "hY21cU6aDXqX",
        "outputId": "c4769050-1789-4024-b5ee-da14b4ee1222"
      },
      "execution_count": 121,
      "outputs": [
        {
          "output_type": "execute_result",
          "data": {
            "text/plain": [
              "('dense.weight',\n",
              " tensor([[-0.0028,  0.0016,  0.0024,  ..., -0.0204,  0.0032,  0.0139],\n",
              "         [-0.0100, -0.0088, -0.0014,  ..., -0.0098,  0.0167, -0.0030],\n",
              "         [-0.0109,  0.0157,  0.0081,  ..., -0.0169,  0.0260, -0.0279],\n",
              "         ...,\n",
              "         [-0.0054, -0.0224,  0.0201,  ...,  0.0128, -0.0293, -0.0197],\n",
              "         [ 0.0003,  0.0309,  0.0126,  ...,  0.0311, -0.0121, -0.0098],\n",
              "         [ 0.0197, -0.0044,  0.0291,  ..., -0.0065,  0.0286, -0.0090]]))"
            ]
          },
          "metadata": {},
          "execution_count": 121
        }
      ]
    },
    {
      "cell_type": "code",
      "source": [
        "q_param[0].q_scale(), q_param[0].int_repr()"
      ],
      "metadata": {
        "colab": {
          "base_uri": "https://localhost:8080/"
        },
        "id": "RECrBirNAfQf",
        "outputId": "612836b3-108f-4a29-f3f8-10e1a8aedf25"
      },
      "execution_count": 122,
      "outputs": [
        {
          "output_type": "execute_result",
          "data": {
            "text/plain": [
              "(0.0002450977626722306, tensor([[ -11,    7,   10,  ...,  -83,   13,   57],\n",
              "         [ -41,  -36,   -6,  ...,  -40,   68,  -12],\n",
              "         [ -44,   64,   33,  ...,  -69,  106, -114],\n",
              "         ...,\n",
              "         [ -22,  -91,   82,  ...,   52, -120,  -81],\n",
              "         [   1,  126,   51,  ...,  127,  -49,  -40],\n",
              "         [  80,  -18,  119,  ...,  -26,  117,  -37]], dtype=torch.int8))"
            ]
          },
          "metadata": {},
          "execution_count": 122
        }
      ]
    },
    {
      "cell_type": "code",
      "source": [
        "sample = q_param[0][0][:3]\n",
        "sample"
      ],
      "metadata": {
        "colab": {
          "base_uri": "https://localhost:8080/"
        },
        "id": "IH-_EF2ZDyfK",
        "outputId": "806b4b53-c01c-43c9-b025-db2e83a82406"
      },
      "execution_count": 123,
      "outputs": [
        {
          "output_type": "execute_result",
          "data": {
            "text/plain": [
              "tensor([-0.0027,  0.0017,  0.0025], size=(3,), dtype=torch.qint8,\n",
              "       quantization_scheme=torch.per_tensor_affine, scale=0.0002450977626722306,\n",
              "       zero_point=0)"
            ]
          },
          "metadata": {},
          "execution_count": 123
        }
      ]
    },
    {
      "cell_type": "code",
      "source": [
        "sample = torch.tensor([-0.0027,  0.0017,  0.0025])"
      ],
      "metadata": {
        "id": "f3-IHJDwEpbC"
      },
      "execution_count": 124,
      "outputs": []
    },
    {
      "cell_type": "code",
      "source": [
        "def quantize(C, a=1):\n",
        "    quantized = [torch.IntTensor([elel/a]) for elel in C.view(-1)]\n",
        "    return torch.tensor(quantized).view(C.size())\n",
        "\n",
        "quantize(\n",
        "    C=sample,\n",
        "    a=q_param[0].q_scale(),\n",
        "    )"
      ],
      "metadata": {
        "colab": {
          "base_uri": "https://localhost:8080/"
        },
        "id": "n5UuRpsz-p00",
        "outputId": "c6d09b2f-e8ef-44c6-b74d-a2352d253f21"
      },
      "execution_count": 126,
      "outputs": [
        {
          "output_type": "execute_result",
          "data": {
            "text/plain": [
              "tensor([-11,   6,  10], dtype=torch.int32)"
            ]
          },
          "metadata": {},
          "execution_count": 126
        }
      ]
    },
    {
      "cell_type": "code",
      "source": [
        "# mais detalhes em: https://github.com/pytorch/pytorch/wiki/Introducing-Quantized-Tensor"
      ],
      "metadata": {
        "id": "8JvLsvKPAxtO"
      },
      "execution_count": null,
      "outputs": []
    }
  ]
}