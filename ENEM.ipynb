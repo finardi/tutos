{
  "nbformat": 4,
  "nbformat_minor": 0,
  "metadata": {
    "colab": {
      "provenance": [],
      "mount_file_id": "1ndK-NQb1iCHc3DluEIniSUwhBIlBE2QI",
      "authorship_tag": "ABX9TyNDlXbwYj8y92+WEseEaTOT",
      "include_colab_link": true
    },
    "kernelspec": {
      "name": "python3",
      "display_name": "Python 3"
    },
    "language_info": {
      "name": "python"
    }
  },
  "cells": [
    {
      "cell_type": "markdown",
      "metadata": {
        "id": "view-in-github",
        "colab_type": "text"
      },
      "source": [
        "<a href=\"https://colab.research.google.com/github/finardi/tutos/blob/master/ENEM.ipynb\" target=\"_parent\"><img src=\"https://colab.research.google.com/assets/colab-badge.svg\" alt=\"Open In Colab\"/></a>"
      ]
    },
    {
      "cell_type": "code",
      "execution_count": 1,
      "metadata": {
        "colab": {
          "base_uri": "https://localhost:8080/"
        },
        "id": "ppGSi9WVAl5j",
        "outputId": "2544d3ed-82c3-4a5e-c1e3-58dbdd882eb9"
      },
      "outputs": [
        {
          "output_type": "stream",
          "name": "stdout",
          "text": [
            "Cloning into 'gpt-4-enem'...\n",
            "remote: Enumerating objects: 757, done.\u001b[K\n",
            "remote: Counting objects: 100% (757/757), done.\u001b[K\n",
            "remote: Compressing objects: 100% (658/658), done.\u001b[K\n",
            "remote: Total 757 (delta 103), reused 736 (delta 87), pack-reused 0\u001b[K\n",
            "Receiving objects: 100% (757/757), 733.70 KiB | 5.82 MiB/s, done.\n",
            "Resolving deltas: 100% (103/103), done.\n"
          ]
        }
      ],
      "source": [
        "!git clone https://github.com/finardi/gpt-4-enem.git"
      ]
    },
    {
      "cell_type": "code",
      "source": [
        "!pip install -q datasets sqlitedict sacrebleu transformers openai pytablewriter"
      ],
      "metadata": {
        "id": "4Wdiroc5BSew"
      },
      "execution_count": null,
      "outputs": []
    },
    {
      "cell_type": "code",
      "source": [
        "OPENAI_API_SECRET_KEY=xxxxxxxxxxxxxxx\n",
        "# poor solution, put the openai_key into chatgpt.py line 86"
      ],
      "metadata": {
        "id": "tomSkzb9AncS"
      },
      "execution_count": 22,
      "outputs": []
    },
    {
      "cell_type": "code",
      "source": [
        "!cd /content/gpt-4-enem && python main.py \\\n",
        "    --model chatgpt \\\n",
        "    --model_args engine=gpt-3.5-turbo-0301 \\\n",
        "    --task enem_cot_2022 \\\n",
        "    --num_fewshot 3 \\\n",
        "    --description_dict_path description.json"
      ],
      "metadata": {
        "colab": {
          "base_uri": "https://localhost:8080/"
        },
        "id": "WVzeXH-UA8tL",
        "outputId": "8e306130-72d6-471d-d633-88964e7d7055"
      },
      "execution_count": 26,
      "outputs": [
        {
          "output_type": "stream",
          "name": "stdout",
          "text": [
            "Selected Tasks: ['enem_cot_2022']\n",
            "Running greedy_until requests\n",
            "{\n",
            "  \"results\": {\n",
            "    \"enem_cot_2022\": {\n",
            "      \"acc\": 0.7711864406779662,\n",
            "      \"acc_stderr\": 0.0388353872453885,\n",
            "      \"2022\": 0.7711864406779662,\n",
            "      \"2022_stderr\": 0.0388353872453885,\n",
            "      \"human-sciences\": 0.9459459459459459,\n",
            "      \"human-sciences_stderr\": 0.037687388582616006,\n",
            "      \"mathematics\": 0.5454545454545454,\n",
            "      \"mathematics_stderr\": 0.10865714630312667,\n",
            "      \"natural-sciences\": 0.7307692307692307,\n",
            "      \"natural-sciences_stderr\": 0.08871201995900611,\n",
            "      \"languages\": 0.7575757575757576,\n",
            "      \"languages_stderr\": 0.07575757575757577\n",
            "    }\n",
            "  },\n",
            "  \"versions\": {\n",
            "    \"enem_cot_2022\": 0\n",
            "  },\n",
            "  \"config\": {\n",
            "    \"model\": \"chatgpt\",\n",
            "    \"model_args\": \"engine=gpt-3.5-turbo-0301\",\n",
            "    \"num_fewshot\": 3,\n",
            "    \"batch_size\": null,\n",
            "    \"device\": null,\n",
            "    \"no_cache\": false,\n",
            "    \"limit\": null,\n",
            "    \"bootstrap_iters\": 100000,\n",
            "    \"description_dict\": {\n",
            "      \"enem_cot\": \"Formule uma explica\\u00e7\\u00e3o em cadeia que permita responder \\u00e0 quest\\u00e3o de m\\u00faltipla escolha abaixo. Apenas uma alternativa \\u00e9 correta.\\nFormato desejado: aponte as alternativas que fazem sentido, escolha a alternativa CORRETA e justifique, e termine justificando porque as demais alternativas est\\u00e3o incorretas. Encerre a explica\\u00e7\\u00e3o com \\\"Resposta: \\\" seguido pela alternativa.\",\n",
            "      \"enem_cot_2022\": \"Formule uma explica\\u00e7\\u00e3o em cadeia que permita responder \\u00e0 quest\\u00e3o de m\\u00faltipla escolha abaixo. Apenas uma alternativa \\u00e9 correta.\\nFormato desejado: aponte as alternativas que fazem sentido, escolha a alternativa CORRETA e justifique, e termine justificando porque as demais alternativas est\\u00e3o incorretas. Encerre a explica\\u00e7\\u00e3o com \\\"Resposta: \\\" seguido pela alternativa.\"\n",
            "    }\n",
            "  }\n",
            "}\n",
            "chatgpt (engine=gpt-3.5-turbo-0301), limit: None, provide_description: False, num_fewshot: 3, batch_size: None\n",
            "|    Task     |Version|     Metric     |Value |   |Stderr|\n",
            "|-------------|------:|----------------|-----:|---|-----:|\n",
            "|enem_cot_2022|      0|acc             |0.7712|±  |0.0388|\n",
            "|             |       |2022            |0.7712|±  |0.0388|\n",
            "|             |       |human-sciences  |0.9459|±  |0.0377|\n",
            "|             |       |mathematics     |0.5455|±  |0.1087|\n",
            "|             |       |natural-sciences|0.7308|±  |0.0887|\n",
            "|             |       |languages       |0.7576|±  |0.0758|\n",
            "\n"
          ]
        }
      ]
    },
    {
      "cell_type": "code",
      "source": [],
      "metadata": {
        "id": "NcvsikwHBMEq"
      },
      "execution_count": null,
      "outputs": []
    }
  ]
}