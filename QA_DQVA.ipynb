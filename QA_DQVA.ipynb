{
  "nbformat": 4,
  "nbformat_minor": 0,
  "metadata": {
    "colab": {
      "name": "QA-DQVA.ipynb",
      "provenance": [],
      "collapsed_sections": [],
      "machine_shape": "hm",
      "mount_file_id": "1yyvSfvia3omuJjw3aOLhRYdS_6Uq0Hja",
      "authorship_tag": "ABX9TyO0zmK3Y8gedXSfc/VPKMBt",
      "include_colab_link": true
    },
    "kernelspec": {
      "name": "python3",
      "display_name": "Python 3"
    },
    "accelerator": "GPU",
    "widgets": {
      "application/vnd.jupyter.widget-state+json": {
        "5a38f0ee0f914d7fb40b2b7227a5896c": {
          "model_module": "@jupyter-widgets/controls",
          "model_name": "HBoxModel",
          "state": {
            "_view_name": "HBoxView",
            "_dom_classes": [],
            "_model_name": "HBoxModel",
            "_view_module": "@jupyter-widgets/controls",
            "_model_module_version": "1.5.0",
            "_view_count": null,
            "_view_module_version": "1.5.0",
            "box_style": "",
            "layout": "IPY_MODEL_e8f9cbfa64544840bb88e9139aa0e02e",
            "_model_module": "@jupyter-widgets/controls",
            "children": [
              "IPY_MODEL_bdc4bce0394942269124e2d0c53e3707",
              "IPY_MODEL_7cbae3612c1046a1a9014f9c07f6f18c"
            ]
          }
        },
        "e8f9cbfa64544840bb88e9139aa0e02e": {
          "model_module": "@jupyter-widgets/base",
          "model_name": "LayoutModel",
          "state": {
            "_view_name": "LayoutView",
            "grid_template_rows": null,
            "right": null,
            "justify_content": null,
            "_view_module": "@jupyter-widgets/base",
            "overflow": null,
            "_model_module_version": "1.2.0",
            "_view_count": null,
            "flex_flow": null,
            "width": null,
            "min_width": null,
            "border": null,
            "align_items": null,
            "bottom": null,
            "_model_module": "@jupyter-widgets/base",
            "top": null,
            "grid_column": null,
            "overflow_y": null,
            "overflow_x": null,
            "grid_auto_flow": null,
            "grid_area": null,
            "grid_template_columns": null,
            "flex": null,
            "_model_name": "LayoutModel",
            "justify_items": null,
            "grid_row": null,
            "max_height": null,
            "align_content": null,
            "visibility": null,
            "align_self": null,
            "height": null,
            "min_height": null,
            "padding": null,
            "grid_auto_rows": null,
            "grid_gap": null,
            "max_width": null,
            "order": null,
            "_view_module_version": "1.2.0",
            "grid_template_areas": null,
            "object_position": null,
            "object_fit": null,
            "grid_auto_columns": null,
            "margin": null,
            "display": null,
            "left": null
          }
        },
        "bdc4bce0394942269124e2d0c53e3707": {
          "model_module": "@jupyter-widgets/controls",
          "model_name": "FloatProgressModel",
          "state": {
            "_view_name": "ProgressView",
            "style": "IPY_MODEL_1e32c226f8184a69871f1ae9b3f81874",
            "_dom_classes": [],
            "description": "Downloading: 100%",
            "_model_name": "FloatProgressModel",
            "bar_style": "success",
            "max": 231508,
            "_view_module": "@jupyter-widgets/controls",
            "_model_module_version": "1.5.0",
            "value": 231508,
            "_view_count": null,
            "_view_module_version": "1.5.0",
            "orientation": "horizontal",
            "min": 0,
            "description_tooltip": null,
            "_model_module": "@jupyter-widgets/controls",
            "layout": "IPY_MODEL_c8fd571d053e47f1924dd93187b73165"
          }
        },
        "7cbae3612c1046a1a9014f9c07f6f18c": {
          "model_module": "@jupyter-widgets/controls",
          "model_name": "HTMLModel",
          "state": {
            "_view_name": "HTMLView",
            "style": "IPY_MODEL_fb3e018bd3014968a052b29ac31f6c05",
            "_dom_classes": [],
            "description": "",
            "_model_name": "HTMLModel",
            "placeholder": "​",
            "_view_module": "@jupyter-widgets/controls",
            "_model_module_version": "1.5.0",
            "value": " 232k/232k [00:00&lt;00:00, 627kB/s]",
            "_view_count": null,
            "_view_module_version": "1.5.0",
            "description_tooltip": null,
            "_model_module": "@jupyter-widgets/controls",
            "layout": "IPY_MODEL_8bb4c1e323bc4a319b6afcfa39913bf3"
          }
        },
        "1e32c226f8184a69871f1ae9b3f81874": {
          "model_module": "@jupyter-widgets/controls",
          "model_name": "ProgressStyleModel",
          "state": {
            "_view_name": "StyleView",
            "_model_name": "ProgressStyleModel",
            "description_width": "initial",
            "_view_module": "@jupyter-widgets/base",
            "_model_module_version": "1.5.0",
            "_view_count": null,
            "_view_module_version": "1.2.0",
            "bar_color": null,
            "_model_module": "@jupyter-widgets/controls"
          }
        },
        "c8fd571d053e47f1924dd93187b73165": {
          "model_module": "@jupyter-widgets/base",
          "model_name": "LayoutModel",
          "state": {
            "_view_name": "LayoutView",
            "grid_template_rows": null,
            "right": null,
            "justify_content": null,
            "_view_module": "@jupyter-widgets/base",
            "overflow": null,
            "_model_module_version": "1.2.0",
            "_view_count": null,
            "flex_flow": null,
            "width": null,
            "min_width": null,
            "border": null,
            "align_items": null,
            "bottom": null,
            "_model_module": "@jupyter-widgets/base",
            "top": null,
            "grid_column": null,
            "overflow_y": null,
            "overflow_x": null,
            "grid_auto_flow": null,
            "grid_area": null,
            "grid_template_columns": null,
            "flex": null,
            "_model_name": "LayoutModel",
            "justify_items": null,
            "grid_row": null,
            "max_height": null,
            "align_content": null,
            "visibility": null,
            "align_self": null,
            "height": null,
            "min_height": null,
            "padding": null,
            "grid_auto_rows": null,
            "grid_gap": null,
            "max_width": null,
            "order": null,
            "_view_module_version": "1.2.0",
            "grid_template_areas": null,
            "object_position": null,
            "object_fit": null,
            "grid_auto_columns": null,
            "margin": null,
            "display": null,
            "left": null
          }
        },
        "fb3e018bd3014968a052b29ac31f6c05": {
          "model_module": "@jupyter-widgets/controls",
          "model_name": "DescriptionStyleModel",
          "state": {
            "_view_name": "StyleView",
            "_model_name": "DescriptionStyleModel",
            "description_width": "",
            "_view_module": "@jupyter-widgets/base",
            "_model_module_version": "1.5.0",
            "_view_count": null,
            "_view_module_version": "1.2.0",
            "_model_module": "@jupyter-widgets/controls"
          }
        },
        "8bb4c1e323bc4a319b6afcfa39913bf3": {
          "model_module": "@jupyter-widgets/base",
          "model_name": "LayoutModel",
          "state": {
            "_view_name": "LayoutView",
            "grid_template_rows": null,
            "right": null,
            "justify_content": null,
            "_view_module": "@jupyter-widgets/base",
            "overflow": null,
            "_model_module_version": "1.2.0",
            "_view_count": null,
            "flex_flow": null,
            "width": null,
            "min_width": null,
            "border": null,
            "align_items": null,
            "bottom": null,
            "_model_module": "@jupyter-widgets/base",
            "top": null,
            "grid_column": null,
            "overflow_y": null,
            "overflow_x": null,
            "grid_auto_flow": null,
            "grid_area": null,
            "grid_template_columns": null,
            "flex": null,
            "_model_name": "LayoutModel",
            "justify_items": null,
            "grid_row": null,
            "max_height": null,
            "align_content": null,
            "visibility": null,
            "align_self": null,
            "height": null,
            "min_height": null,
            "padding": null,
            "grid_auto_rows": null,
            "grid_gap": null,
            "max_width": null,
            "order": null,
            "_view_module_version": "1.2.0",
            "grid_template_areas": null,
            "object_position": null,
            "object_fit": null,
            "grid_auto_columns": null,
            "margin": null,
            "display": null,
            "left": null
          }
        },
        "6082db029598400fbd2206077e407018": {
          "model_module": "@jupyter-widgets/controls",
          "model_name": "HBoxModel",
          "state": {
            "_view_name": "HBoxView",
            "_dom_classes": [],
            "_model_name": "HBoxModel",
            "_view_module": "@jupyter-widgets/controls",
            "_model_module_version": "1.5.0",
            "_view_count": null,
            "_view_module_version": "1.5.0",
            "box_style": "",
            "layout": "IPY_MODEL_e1a46eb3232348eab854cd257ffc5d47",
            "_model_module": "@jupyter-widgets/controls",
            "children": [
              "IPY_MODEL_21e22bc2a272491ba7d44f31bac977f0",
              "IPY_MODEL_7a917a04c9704119a89954cd5f13644a"
            ]
          }
        },
        "e1a46eb3232348eab854cd257ffc5d47": {
          "model_module": "@jupyter-widgets/base",
          "model_name": "LayoutModel",
          "state": {
            "_view_name": "LayoutView",
            "grid_template_rows": null,
            "right": null,
            "justify_content": null,
            "_view_module": "@jupyter-widgets/base",
            "overflow": null,
            "_model_module_version": "1.2.0",
            "_view_count": null,
            "flex_flow": null,
            "width": null,
            "min_width": null,
            "border": null,
            "align_items": null,
            "bottom": null,
            "_model_module": "@jupyter-widgets/base",
            "top": null,
            "grid_column": null,
            "overflow_y": null,
            "overflow_x": null,
            "grid_auto_flow": null,
            "grid_area": null,
            "grid_template_columns": null,
            "flex": null,
            "_model_name": "LayoutModel",
            "justify_items": null,
            "grid_row": null,
            "max_height": null,
            "align_content": null,
            "visibility": null,
            "align_self": null,
            "height": null,
            "min_height": null,
            "padding": null,
            "grid_auto_rows": null,
            "grid_gap": null,
            "max_width": null,
            "order": null,
            "_view_module_version": "1.2.0",
            "grid_template_areas": null,
            "object_position": null,
            "object_fit": null,
            "grid_auto_columns": null,
            "margin": null,
            "display": null,
            "left": null
          }
        },
        "21e22bc2a272491ba7d44f31bac977f0": {
          "model_module": "@jupyter-widgets/controls",
          "model_name": "FloatProgressModel",
          "state": {
            "_view_name": "ProgressView",
            "style": "IPY_MODEL_67eebe84da2f4fab966f7883862ee5bf",
            "_dom_classes": [],
            "description": "Downloading: 100%",
            "_model_name": "FloatProgressModel",
            "bar_style": "success",
            "max": 443,
            "_view_module": "@jupyter-widgets/controls",
            "_model_module_version": "1.5.0",
            "value": 443,
            "_view_count": null,
            "_view_module_version": "1.5.0",
            "orientation": "horizontal",
            "min": 0,
            "description_tooltip": null,
            "_model_module": "@jupyter-widgets/controls",
            "layout": "IPY_MODEL_024899f04c0640ed9387f68915cd04fd"
          }
        },
        "7a917a04c9704119a89954cd5f13644a": {
          "model_module": "@jupyter-widgets/controls",
          "model_name": "HTMLModel",
          "state": {
            "_view_name": "HTMLView",
            "style": "IPY_MODEL_ff7909e7304d4eb4a75d55fd19f73af5",
            "_dom_classes": [],
            "description": "",
            "_model_name": "HTMLModel",
            "placeholder": "​",
            "_view_module": "@jupyter-widgets/controls",
            "_model_module_version": "1.5.0",
            "value": " 443/443 [00:00&lt;00:00, 1.20kB/s]",
            "_view_count": null,
            "_view_module_version": "1.5.0",
            "description_tooltip": null,
            "_model_module": "@jupyter-widgets/controls",
            "layout": "IPY_MODEL_17383788c7ee4eb7b6d334069aff3531"
          }
        },
        "67eebe84da2f4fab966f7883862ee5bf": {
          "model_module": "@jupyter-widgets/controls",
          "model_name": "ProgressStyleModel",
          "state": {
            "_view_name": "StyleView",
            "_model_name": "ProgressStyleModel",
            "description_width": "initial",
            "_view_module": "@jupyter-widgets/base",
            "_model_module_version": "1.5.0",
            "_view_count": null,
            "_view_module_version": "1.2.0",
            "bar_color": null,
            "_model_module": "@jupyter-widgets/controls"
          }
        },
        "024899f04c0640ed9387f68915cd04fd": {
          "model_module": "@jupyter-widgets/base",
          "model_name": "LayoutModel",
          "state": {
            "_view_name": "LayoutView",
            "grid_template_rows": null,
            "right": null,
            "justify_content": null,
            "_view_module": "@jupyter-widgets/base",
            "overflow": null,
            "_model_module_version": "1.2.0",
            "_view_count": null,
            "flex_flow": null,
            "width": null,
            "min_width": null,
            "border": null,
            "align_items": null,
            "bottom": null,
            "_model_module": "@jupyter-widgets/base",
            "top": null,
            "grid_column": null,
            "overflow_y": null,
            "overflow_x": null,
            "grid_auto_flow": null,
            "grid_area": null,
            "grid_template_columns": null,
            "flex": null,
            "_model_name": "LayoutModel",
            "justify_items": null,
            "grid_row": null,
            "max_height": null,
            "align_content": null,
            "visibility": null,
            "align_self": null,
            "height": null,
            "min_height": null,
            "padding": null,
            "grid_auto_rows": null,
            "grid_gap": null,
            "max_width": null,
            "order": null,
            "_view_module_version": "1.2.0",
            "grid_template_areas": null,
            "object_position": null,
            "object_fit": null,
            "grid_auto_columns": null,
            "margin": null,
            "display": null,
            "left": null
          }
        },
        "ff7909e7304d4eb4a75d55fd19f73af5": {
          "model_module": "@jupyter-widgets/controls",
          "model_name": "DescriptionStyleModel",
          "state": {
            "_view_name": "StyleView",
            "_model_name": "DescriptionStyleModel",
            "description_width": "",
            "_view_module": "@jupyter-widgets/base",
            "_model_module_version": "1.5.0",
            "_view_count": null,
            "_view_module_version": "1.2.0",
            "_model_module": "@jupyter-widgets/controls"
          }
        },
        "17383788c7ee4eb7b6d334069aff3531": {
          "model_module": "@jupyter-widgets/base",
          "model_name": "LayoutModel",
          "state": {
            "_view_name": "LayoutView",
            "grid_template_rows": null,
            "right": null,
            "justify_content": null,
            "_view_module": "@jupyter-widgets/base",
            "overflow": null,
            "_model_module_version": "1.2.0",
            "_view_count": null,
            "flex_flow": null,
            "width": null,
            "min_width": null,
            "border": null,
            "align_items": null,
            "bottom": null,
            "_model_module": "@jupyter-widgets/base",
            "top": null,
            "grid_column": null,
            "overflow_y": null,
            "overflow_x": null,
            "grid_auto_flow": null,
            "grid_area": null,
            "grid_template_columns": null,
            "flex": null,
            "_model_name": "LayoutModel",
            "justify_items": null,
            "grid_row": null,
            "max_height": null,
            "align_content": null,
            "visibility": null,
            "align_self": null,
            "height": null,
            "min_height": null,
            "padding": null,
            "grid_auto_rows": null,
            "grid_gap": null,
            "max_width": null,
            "order": null,
            "_view_module_version": "1.2.0",
            "grid_template_areas": null,
            "object_position": null,
            "object_fit": null,
            "grid_auto_columns": null,
            "margin": null,
            "display": null,
            "left": null
          }
        },
        "6e4a6dca92e64fba8293fce20a6f48ab": {
          "model_module": "@jupyter-widgets/controls",
          "model_name": "HBoxModel",
          "state": {
            "_view_name": "HBoxView",
            "_dom_classes": [],
            "_model_name": "HBoxModel",
            "_view_module": "@jupyter-widgets/controls",
            "_model_module_version": "1.5.0",
            "_view_count": null,
            "_view_module_version": "1.5.0",
            "box_style": "",
            "layout": "IPY_MODEL_eb5cc51b1a47479ba7a434e95718c0f3",
            "_model_module": "@jupyter-widgets/controls",
            "children": [
              "IPY_MODEL_74df9f39fbea4d8494812ef2c992559e",
              "IPY_MODEL_14348a0e05af45bf975a96243109022f"
            ]
          }
        },
        "eb5cc51b1a47479ba7a434e95718c0f3": {
          "model_module": "@jupyter-widgets/base",
          "model_name": "LayoutModel",
          "state": {
            "_view_name": "LayoutView",
            "grid_template_rows": null,
            "right": null,
            "justify_content": null,
            "_view_module": "@jupyter-widgets/base",
            "overflow": null,
            "_model_module_version": "1.2.0",
            "_view_count": null,
            "flex_flow": null,
            "width": null,
            "min_width": null,
            "border": null,
            "align_items": null,
            "bottom": null,
            "_model_module": "@jupyter-widgets/base",
            "top": null,
            "grid_column": null,
            "overflow_y": null,
            "overflow_x": null,
            "grid_auto_flow": null,
            "grid_area": null,
            "grid_template_columns": null,
            "flex": null,
            "_model_name": "LayoutModel",
            "justify_items": null,
            "grid_row": null,
            "max_height": null,
            "align_content": null,
            "visibility": null,
            "align_self": null,
            "height": null,
            "min_height": null,
            "padding": null,
            "grid_auto_rows": null,
            "grid_gap": null,
            "max_width": null,
            "order": null,
            "_view_module_version": "1.2.0",
            "grid_template_areas": null,
            "object_position": null,
            "object_fit": null,
            "grid_auto_columns": null,
            "margin": null,
            "display": null,
            "left": null
          }
        },
        "74df9f39fbea4d8494812ef2c992559e": {
          "model_module": "@jupyter-widgets/controls",
          "model_name": "FloatProgressModel",
          "state": {
            "_view_name": "ProgressView",
            "style": "IPY_MODEL_e964ab405e6a49c3983bd221dd13a394",
            "_dom_classes": [],
            "description": "Downloading: 100%",
            "_model_name": "FloatProgressModel",
            "bar_style": "success",
            "max": 1340675298,
            "_view_module": "@jupyter-widgets/controls",
            "_model_module_version": "1.5.0",
            "value": 1340675298,
            "_view_count": null,
            "_view_module_version": "1.5.0",
            "orientation": "horizontal",
            "min": 0,
            "description_tooltip": null,
            "_model_module": "@jupyter-widgets/controls",
            "layout": "IPY_MODEL_1854f96cd14542f5b6dbf856538459fd"
          }
        },
        "14348a0e05af45bf975a96243109022f": {
          "model_module": "@jupyter-widgets/controls",
          "model_name": "HTMLModel",
          "state": {
            "_view_name": "HTMLView",
            "style": "IPY_MODEL_8ff1f4ed1fcd4029ba04ea6c69437212",
            "_dom_classes": [],
            "description": "",
            "_model_name": "HTMLModel",
            "placeholder": "​",
            "_view_module": "@jupyter-widgets/controls",
            "_model_module_version": "1.5.0",
            "value": " 1.34G/1.34G [00:27&lt;00:00, 48.6MB/s]",
            "_view_count": null,
            "_view_module_version": "1.5.0",
            "description_tooltip": null,
            "_model_module": "@jupyter-widgets/controls",
            "layout": "IPY_MODEL_6276691e638d413e916f4e1cd318d791"
          }
        },
        "e964ab405e6a49c3983bd221dd13a394": {
          "model_module": "@jupyter-widgets/controls",
          "model_name": "ProgressStyleModel",
          "state": {
            "_view_name": "StyleView",
            "_model_name": "ProgressStyleModel",
            "description_width": "initial",
            "_view_module": "@jupyter-widgets/base",
            "_model_module_version": "1.5.0",
            "_view_count": null,
            "_view_module_version": "1.2.0",
            "bar_color": null,
            "_model_module": "@jupyter-widgets/controls"
          }
        },
        "1854f96cd14542f5b6dbf856538459fd": {
          "model_module": "@jupyter-widgets/base",
          "model_name": "LayoutModel",
          "state": {
            "_view_name": "LayoutView",
            "grid_template_rows": null,
            "right": null,
            "justify_content": null,
            "_view_module": "@jupyter-widgets/base",
            "overflow": null,
            "_model_module_version": "1.2.0",
            "_view_count": null,
            "flex_flow": null,
            "width": null,
            "min_width": null,
            "border": null,
            "align_items": null,
            "bottom": null,
            "_model_module": "@jupyter-widgets/base",
            "top": null,
            "grid_column": null,
            "overflow_y": null,
            "overflow_x": null,
            "grid_auto_flow": null,
            "grid_area": null,
            "grid_template_columns": null,
            "flex": null,
            "_model_name": "LayoutModel",
            "justify_items": null,
            "grid_row": null,
            "max_height": null,
            "align_content": null,
            "visibility": null,
            "align_self": null,
            "height": null,
            "min_height": null,
            "padding": null,
            "grid_auto_rows": null,
            "grid_gap": null,
            "max_width": null,
            "order": null,
            "_view_module_version": "1.2.0",
            "grid_template_areas": null,
            "object_position": null,
            "object_fit": null,
            "grid_auto_columns": null,
            "margin": null,
            "display": null,
            "left": null
          }
        },
        "8ff1f4ed1fcd4029ba04ea6c69437212": {
          "model_module": "@jupyter-widgets/controls",
          "model_name": "DescriptionStyleModel",
          "state": {
            "_view_name": "StyleView",
            "_model_name": "DescriptionStyleModel",
            "description_width": "",
            "_view_module": "@jupyter-widgets/base",
            "_model_module_version": "1.5.0",
            "_view_count": null,
            "_view_module_version": "1.2.0",
            "_model_module": "@jupyter-widgets/controls"
          }
        },
        "6276691e638d413e916f4e1cd318d791": {
          "model_module": "@jupyter-widgets/base",
          "model_name": "LayoutModel",
          "state": {
            "_view_name": "LayoutView",
            "grid_template_rows": null,
            "right": null,
            "justify_content": null,
            "_view_module": "@jupyter-widgets/base",
            "overflow": null,
            "_model_module_version": "1.2.0",
            "_view_count": null,
            "flex_flow": null,
            "width": null,
            "min_width": null,
            "border": null,
            "align_items": null,
            "bottom": null,
            "_model_module": "@jupyter-widgets/base",
            "top": null,
            "grid_column": null,
            "overflow_y": null,
            "overflow_x": null,
            "grid_auto_flow": null,
            "grid_area": null,
            "grid_template_columns": null,
            "flex": null,
            "_model_name": "LayoutModel",
            "justify_items": null,
            "grid_row": null,
            "max_height": null,
            "align_content": null,
            "visibility": null,
            "align_self": null,
            "height": null,
            "min_height": null,
            "padding": null,
            "grid_auto_rows": null,
            "grid_gap": null,
            "max_width": null,
            "order": null,
            "_view_module_version": "1.2.0",
            "grid_template_areas": null,
            "object_position": null,
            "object_fit": null,
            "grid_auto_columns": null,
            "margin": null,
            "display": null,
            "left": null
          }
        }
      }
    }
  },
  "cells": [
    {
      "cell_type": "markdown",
      "metadata": {
        "id": "view-in-github",
        "colab_type": "text"
      },
      "source": [
        "<a href=\"https://colab.research.google.com/github/finardi/tutos/blob/master/QA_DQVA.ipynb\" target=\"_parent\"><img src=\"https://colab.research.google.com/assets/colab-badge.svg\" alt=\"Open In Colab\"/></a>"
      ]
    },
    {
      "cell_type": "code",
      "metadata": {
        "id": "cSruUD6mT-5X",
        "colab": {
          "base_uri": "https://localhost:8080/"
        },
        "outputId": "84d3b184-f541-4a35-d60e-1fd409186f34"
      },
      "source": [
        "!nvidia-smi"
      ],
      "execution_count": 1,
      "outputs": [
        {
          "output_type": "stream",
          "text": [
            "Thu Jan  7 03:19:41 2021       \n",
            "+-----------------------------------------------------------------------------+\n",
            "| NVIDIA-SMI 460.27.04    Driver Version: 418.67       CUDA Version: 10.1     |\n",
            "|-------------------------------+----------------------+----------------------+\n",
            "| GPU  Name        Persistence-M| Bus-Id        Disp.A | Volatile Uncorr. ECC |\n",
            "| Fan  Temp  Perf  Pwr:Usage/Cap|         Memory-Usage | GPU-Util  Compute M. |\n",
            "|                               |                      |               MIG M. |\n",
            "|===============================+======================+======================|\n",
            "|   0  Tesla V100-SXM2...  Off  | 00000000:00:04.0 Off |                    0 |\n",
            "| N/A   33C    P0    26W / 300W |      0MiB / 16130MiB |      0%      Default |\n",
            "|                               |                      |                 ERR! |\n",
            "+-------------------------------+----------------------+----------------------+\n",
            "                                                                               \n",
            "+-----------------------------------------------------------------------------+\n",
            "| Processes:                                                                  |\n",
            "|  GPU   GI   CI        PID   Type   Process name                  GPU Memory |\n",
            "|        ID   ID                                                   Usage      |\n",
            "|=============================================================================|\n",
            "|  No running processes found                                                 |\n",
            "+-----------------------------------------------------------------------------+\n"
          ],
          "name": "stdout"
        }
      ]
    },
    {
      "cell_type": "code",
      "metadata": {
        "id": "QbYr6Eam-y_4",
        "colab": {
          "base_uri": "https://localhost:8080/"
        },
        "outputId": "dfd17a8f-57a2-4396-ddc3-7ab984c23a86"
      },
      "source": [
        "%%time\n",
        "!tar -xf /content/drive/MyDrive/Colab\\ Notebooks/Final-project/train.tar.gz \n",
        "!tar -xf /content/drive/MyDrive/Colab\\ Notebooks/Final-project/val.tar.gz \n",
        "!tar -xf /content/drive/MyDrive/Colab\\ Notebooks/Final-project/test.tar.gz"
      ],
      "execution_count": 2,
      "outputs": [
        {
          "output_type": "stream",
          "text": [
            "CPU times: user 414 ms, sys: 79.3 ms, total: 494 ms\n",
            "Wall time: 3min 27s\n"
          ],
          "name": "stdout"
        }
      ]
    },
    {
      "cell_type": "code",
      "metadata": {
        "id": "Ka8XiM-bicvy",
        "colab": {
          "base_uri": "https://localhost:8080/"
        },
        "outputId": "2160b1fe-54ac-4f1a-b7a1-bf846b430394"
      },
      "source": [
        "!pip install -q \"transformers<4.0.0\""
      ],
      "execution_count": 3,
      "outputs": [
        {
          "output_type": "stream",
          "text": [
            "\u001b[K     |████████████████████████████████| 1.3MB 15.3MB/s \n",
            "\u001b[K     |████████████████████████████████| 1.1MB 55.9MB/s \n",
            "\u001b[K     |████████████████████████████████| 2.9MB 52.7MB/s \n",
            "\u001b[K     |████████████████████████████████| 890kB 53.2MB/s \n",
            "\u001b[?25h  Building wheel for sacremoses (setup.py) ... \u001b[?25l\u001b[?25hdone\n"
          ],
          "name": "stdout"
        }
      ]
    },
    {
      "cell_type": "code",
      "metadata": {
        "id": "1b7BubuuiYRZ",
        "colab": {
          "base_uri": "https://localhost:8080/",
          "height": 167,
          "referenced_widgets": [
            "5a38f0ee0f914d7fb40b2b7227a5896c",
            "e8f9cbfa64544840bb88e9139aa0e02e",
            "bdc4bce0394942269124e2d0c53e3707",
            "7cbae3612c1046a1a9014f9c07f6f18c",
            "1e32c226f8184a69871f1ae9b3f81874",
            "c8fd571d053e47f1924dd93187b73165",
            "fb3e018bd3014968a052b29ac31f6c05",
            "8bb4c1e323bc4a319b6afcfa39913bf3",
            "6082db029598400fbd2206077e407018",
            "e1a46eb3232348eab854cd257ffc5d47",
            "21e22bc2a272491ba7d44f31bac977f0",
            "7a917a04c9704119a89954cd5f13644a",
            "67eebe84da2f4fab966f7883862ee5bf",
            "024899f04c0640ed9387f68915cd04fd",
            "ff7909e7304d4eb4a75d55fd19f73af5",
            "17383788c7ee4eb7b6d334069aff3531",
            "6e4a6dca92e64fba8293fce20a6f48ab",
            "eb5cc51b1a47479ba7a434e95718c0f3",
            "74df9f39fbea4d8494812ef2c992559e",
            "14348a0e05af45bf975a96243109022f",
            "e964ab405e6a49c3983bd221dd13a394",
            "1854f96cd14542f5b6dbf856538459fd",
            "8ff1f4ed1fcd4029ba04ea6c69437212",
            "6276691e638d413e916f4e1cd318d791"
          ]
        },
        "outputId": "f17ee402-6ec1-4c54-eb14-abcb4229927f"
      },
      "source": [
        "# Python / Básics\n",
        "import os\n",
        "import gc\n",
        "import glob\n",
        "import time\n",
        "import json\n",
        "import random\n",
        "import logging\n",
        "import numpy as np\n",
        "import collections\n",
        "import pandas as pd\n",
        "import seaborn as sns\n",
        "from pathlib import Path\n",
        "import matplotlib.pyplot as plt\n",
        "\n",
        "# PIL \n",
        "from PIL import Image\n",
        "\n",
        "# Torch\n",
        "import torch\n",
        "import torchvision\n",
        "import torch.nn as nn\n",
        "import torch.nn.functional as F\n",
        "from torchvision import transforms\n",
        "from collections import OrderedDict\n",
        "from torch.utils.data import DataLoader, Dataset, TensorDataset, random_split\n",
        "\n",
        "\n",
        "# Transformers / Sentence Transformers\n",
        "from transformers import BertTokenizer, BertForQuestionAnswering, AdamW\n",
        "\n",
        "tokenizer = BertTokenizer.from_pretrained('bert-large-uncased-whole-word-masking-finetuned-squad')\n",
        "model = BertForQuestionAnswering.from_pretrained('bert-large-uncased-whole-word-masking-finetuned-squad')"
      ],
      "execution_count": 4,
      "outputs": [
        {
          "output_type": "display_data",
          "data": {
            "application/vnd.jupyter.widget-view+json": {
              "model_id": "5a38f0ee0f914d7fb40b2b7227a5896c",
              "version_minor": 0,
              "version_major": 2
            },
            "text/plain": [
              "HBox(children=(FloatProgress(value=0.0, description='Downloading', max=231508.0, style=ProgressStyle(descripti…"
            ]
          },
          "metadata": {
            "tags": []
          }
        },
        {
          "output_type": "stream",
          "text": [
            "\n"
          ],
          "name": "stdout"
        },
        {
          "output_type": "display_data",
          "data": {
            "application/vnd.jupyter.widget-view+json": {
              "model_id": "6082db029598400fbd2206077e407018",
              "version_minor": 0,
              "version_major": 2
            },
            "text/plain": [
              "HBox(children=(FloatProgress(value=0.0, description='Downloading', max=443.0, style=ProgressStyle(description_…"
            ]
          },
          "metadata": {
            "tags": []
          }
        },
        {
          "output_type": "stream",
          "text": [
            "\n"
          ],
          "name": "stdout"
        },
        {
          "output_type": "display_data",
          "data": {
            "application/vnd.jupyter.widget-view+json": {
              "model_id": "6e4a6dca92e64fba8293fce20a6f48ab",
              "version_minor": 0,
              "version_major": 2
            },
            "text/plain": [
              "HBox(children=(FloatProgress(value=0.0, description='Downloading', max=1340675298.0, style=ProgressStyle(descr…"
            ]
          },
          "metadata": {
            "tags": []
          }
        },
        {
          "output_type": "stream",
          "text": [
            "\n"
          ],
          "name": "stdout"
        }
      ]
    },
    {
      "cell_type": "code",
      "metadata": {
        "id": "QafApgcKijGp",
        "colab": {
          "base_uri": "https://localhost:8080/"
        },
        "outputId": "678777d0-21f4-4864-af2c-a70a386ae698"
      },
      "source": [
        "# ==================================== #\n",
        "# === Função que carregas as seeds === #\n",
        "# ==================================== #\n",
        "\n",
        "device = torch.device('cuda' if torch.cuda.is_available() else 'cpu')\n",
        "manual_seed = 2357 # only primers ;)\n",
        "\n",
        "def deterministic(rep=True):\n",
        "    if rep:\n",
        "        np.random.seed(manual_seed)\n",
        "        torch.manual_seed(manual_seed)\n",
        "        if torch.cuda.is_available():\n",
        "            torch.cuda.manual_seed(manual_seed)\n",
        "            torch.cuda.manual_seed_all(manual_seed)\n",
        "        torch.backends.cudnn.enabled = False \n",
        "        torch.backends.cudnn.benchmark = False\n",
        "        torch.backends.cudnn.deterministic = True\n",
        "        print(f'Experimento deterministico, seed: {manual_seed} -- ', end = '')\n",
        "        print(f'Existe {torch.cuda.device_count()} GPU\\\n",
        " {torch.cuda.get_device_name(0)} disponível.')\n",
        "    else:\n",
        "        print('Experimento randomico')\n",
        "deterministic()        "
      ],
      "execution_count": 5,
      "outputs": [
        {
          "output_type": "stream",
          "text": [
            "Experimento deterministico, seed: 2357 -- Existe 1 GPU Tesla V100-SXM2-16GB disponível.\n"
          ],
          "name": "stdout"
        }
      ]
    },
    {
      "cell_type": "code",
      "metadata": {
        "colab": {
          "base_uri": "https://localhost:8080/"
        },
        "id": "knK0W87YuYcQ",
        "outputId": "8ae0f24e-9d34-46bd-92ba-0a790886f8e3"
      },
      "source": [
        "# =============== TRAIN =============== #\n",
        "# === Perguntas, Contexto e Labels  === #\n",
        "# ===================================== #\n",
        "\n",
        "path_train = 'train/train_v1.0.json'\n",
        "\n",
        "#----------------- Contextos (OCRs) ---------------#\n",
        "with open(path_train, 'rb') as handle:\n",
        "    dataset = json.loads(handle.read())\n",
        "\n",
        "context_train = []\n",
        "for i, d in enumerate(dataset['data']):\n",
        "    ocr_file = d['image'].replace('documents', 'ocr_results').replace('.png', '.json')\n",
        "    with open('train/'+ ocr_file, 'rb') as f:\n",
        "        ocr = json.loads(f.read())\n",
        "\n",
        "    lines = ocr['recognitionResults'][0]['lines']\n",
        "\n",
        "    text = ' '.join([w['text'] for l in lines for w in l['words']])\n",
        "    context_train.append(lines)\n",
        "\n",
        "context_train_samples = []\n",
        "for i, doc in enumerate(context_train):\n",
        "    test_list_item = []\n",
        "    for item in doc:\n",
        "        test_list_item.append(item['text'])\n",
        "    context_train_samples.append(' '.join(test_list_item).lower())\n",
        "\n",
        "#---------------- Perguntas ---------------------#\n",
        "questions_train_samples = []\n",
        "for d in dataset['data']:\n",
        "    questions_train_samples.append(d['question'].lower())\n",
        "\n",
        "#---------------- Respostas ---------------------#\n",
        "answers_train_samples = []\n",
        "for d in dataset['data']:\n",
        "    answers_train_samples.append(d['answers'][0].lower())\n",
        "\n",
        "Question_train, Context_train, Answer_train = [], [], []\n",
        "for q,c,a in zip(questions_train_samples, context_train_samples, answers_train_samples):\n",
        "    if a in c:\n",
        "        Question_train.append(q)\n",
        "        Context_train.append(c)\n",
        "        Answer_train.append(a)\n",
        "\n",
        "print(len(Question_train), len(Context_train), len(Answer_train))    "
      ],
      "execution_count": 6,
      "outputs": [
        {
          "output_type": "stream",
          "text": [
            "32187 32187 32187\n"
          ],
          "name": "stdout"
        }
      ]
    },
    {
      "cell_type": "code",
      "metadata": {
        "colab": {
          "base_uri": "https://localhost:8080/"
        },
        "id": "6BJqvM3RwEqN",
        "outputId": "0e83c753-2b42-413e-bd52-7a29b544ea1e"
      },
      "source": [
        "# ================ VAL ================ #\n",
        "# === Perguntas, Contexto e Labels  === #\n",
        "# ===================================== #\n",
        "\n",
        "path_val = 'val/val_v1.0.json'\n",
        "\n",
        "#----------------- Contextos (OCRs) ---------------#\n",
        "with open(path_val, 'rb') as handle:\n",
        "    dataset = json.loads(handle.read())\n",
        "\n",
        "context_val = []\n",
        "for i, d in enumerate(dataset['data']):\n",
        "    ocr_file = d['image'].replace('documents', 'ocr_results').replace('.png', '.json')\n",
        "    with open('val/'+ ocr_file, 'rb') as f:\n",
        "        ocr = json.loads(f.read())\n",
        "\n",
        "    lines = ocr['recognitionResults'][0]['lines']\n",
        "\n",
        "    text = ' '.join([w['text'] for l in lines for w in l['words']])\n",
        "    context_val.append(lines)\n",
        "\n",
        "context_val_samples = []\n",
        "for i, doc in enumerate(context_val):\n",
        "    test_list_item = []\n",
        "    for item in doc:\n",
        "        test_list_item.append(item['text'])\n",
        "    context_val_samples.append(' '.join(test_list_item).lower())\n",
        "\n",
        "#---------------- Perguntas ---------------------#\n",
        "questions_val_samples = []\n",
        "for d in dataset['data']:\n",
        "    questions_val_samples.append(d['question'].lower())\n",
        "\n",
        "#---------------- Respostas ---------------------#\n",
        "answers_val_samples = []\n",
        "for d in dataset['data']:\n",
        "    answers_val_samples.append(d['answers'][0].lower())\n",
        "\n",
        "Question_val, Context_val, Answer_val = [], [], []\n",
        "for q,c,a in zip(questions_val_samples, context_val_samples, answers_val_samples):\n",
        "    if a in c:\n",
        "        Question_val.append(q)\n",
        "        Context_val.append(c)\n",
        "        Answer_val.append(a)\n",
        "\n",
        "print(len(Question_val), len(Context_val), len(Answer_val))    "
      ],
      "execution_count": 7,
      "outputs": [
        {
          "output_type": "stream",
          "text": [
            "4408 4408 4408\n"
          ],
          "name": "stdout"
        }
      ]
    },
    {
      "cell_type": "code",
      "metadata": {
        "colab": {
          "base_uri": "https://localhost:8080/",
          "height": 407
        },
        "id": "fX51ktCC05CE",
        "outputId": "de880dd9-cc22-4dae-d4c0-75ff427a638f"
      },
      "source": [
        "def get_final_data(questions, context, answers):\n",
        "    data = pd.DataFrame([])\n",
        "    for quest, cont, ans in zip(questions, context, answers):\n",
        "        data = data.append(\n",
        "            pd.DataFrame(\n",
        "                {\n",
        "                    'Question': quest,\n",
        "                    'Context': cont,\n",
        "                    'Answer': ans\n",
        "                }, index=[0]), ignore_index=True)\n",
        "    \n",
        "    start_end_position_label = []\n",
        "    for i, (c, l) in enumerate(zip(\n",
        "        data.Context.to_list(), \n",
        "        data.Answer.to_list()\n",
        "        )):\n",
        "        start_index = c.find(l)\n",
        "        end_index = start_index + len(l)\n",
        "        start_end_position_label.append((start_index, end_index))\n",
        "        if start_index == -1: # se não existir o label no contexto está errado\n",
        "            print(f'PROBLEMA NA LINHA {i}')\n",
        "            break\n",
        "    data = data.assign(Pos_label = start_end_position_label)\n",
        "\n",
        "    return data \n",
        "\n",
        "#-------------------------------------\n",
        "df_qa_val   = get_final_data(Question_val,   Context_val,   Answer_val)\n",
        "df_qa_train = get_final_data(Question_train, Context_train, Answer_train)    \n",
        "\n",
        "df_qa_train"
      ],
      "execution_count": 8,
      "outputs": [
        {
          "output_type": "execute_result",
          "data": {
            "text/html": [
              "<div>\n",
              "<style scoped>\n",
              "    .dataframe tbody tr th:only-of-type {\n",
              "        vertical-align: middle;\n",
              "    }\n",
              "\n",
              "    .dataframe tbody tr th {\n",
              "        vertical-align: top;\n",
              "    }\n",
              "\n",
              "    .dataframe thead th {\n",
              "        text-align: right;\n",
              "    }\n",
              "</style>\n",
              "<table border=\"1\" class=\"dataframe\">\n",
              "  <thead>\n",
              "    <tr style=\"text-align: right;\">\n",
              "      <th></th>\n",
              "      <th>Question</th>\n",
              "      <th>Context</th>\n",
              "      <th>Answer</th>\n",
              "      <th>Pos_label</th>\n",
              "    </tr>\n",
              "  </thead>\n",
              "  <tbody>\n",
              "    <tr>\n",
              "      <th>0</th>\n",
              "      <td>what is the contact person name mentioned in l...</td>\n",
              "      <td>confidential .. .. rjrt pr approval date : 1/8...</td>\n",
              "      <td>p. carter</td>\n",
              "      <td>(119, 128)</td>\n",
              "    </tr>\n",
              "    <tr>\n",
              "      <th>1</th>\n",
              "      <td>which corporation's letterhead is this?</td>\n",
              "      <td>b&amp;w brown &amp; williamson tobacco corporation res...</td>\n",
              "      <td>brown &amp; williamson tobacco corporation</td>\n",
              "      <td>(4, 42)</td>\n",
              "    </tr>\n",
              "    <tr>\n",
              "      <th>2</th>\n",
              "      <td>who is in  cc in this letter?</td>\n",
              "      <td>b&amp;w brown &amp; williamson tobacco corporation res...</td>\n",
              "      <td>t.f. riehl</td>\n",
              "      <td>(122, 132)</td>\n",
              "    </tr>\n",
              "    <tr>\n",
              "      <th>3</th>\n",
              "      <td>what is the subject of  this letter?</td>\n",
              "      <td>b&amp;w brown &amp; williamson tobacco corporation res...</td>\n",
              "      <td>review of existing brainstorming ideas/483</td>\n",
              "      <td>(177, 219)</td>\n",
              "    </tr>\n",
              "    <tr>\n",
              "      <th>4</th>\n",
              "      <td>what is the number at the bottom of the page, ...</td>\n",
              "      <td>b&amp;w brown &amp; williamson tobacco corporation res...</td>\n",
              "      <td>499150498</td>\n",
              "      <td>(2093, 2102)</td>\n",
              "    </tr>\n",
              "    <tr>\n",
              "      <th>...</th>\n",
              "      <td>...</td>\n",
              "      <td>...</td>\n",
              "      <td>...</td>\n",
              "      <td>...</td>\n",
              "    </tr>\n",
              "    <tr>\n",
              "      <th>32182</th>\n",
              "      <td>\"combined low-fat diet and exercise approach h...</td>\n",
              "      <td>--10- age as a limiting factor in rehabilitati...</td>\n",
              "      <td>severe peripheral atherosclerotic vascular dis...</td>\n",
              "      <td>(1628, 1678)</td>\n",
              "    </tr>\n",
              "    <tr>\n",
              "      <th>32183</th>\n",
              "      <td>what is the table number ?</td>\n",
              "      <td>table 4-a relative risk of falling into extrem...</td>\n",
              "      <td>4-a</td>\n",
              "      <td>(6, 9)</td>\n",
              "    </tr>\n",
              "    <tr>\n",
              "      <th>32184</th>\n",
              "      <td>what does the number \"1\" in the document denot...</td>\n",
              "      <td>table 4-a relative risk of falling into extrem...</td>\n",
              "      <td>lowest pentile</td>\n",
              "      <td>(687, 701)</td>\n",
              "    </tr>\n",
              "    <tr>\n",
              "      <th>32185</th>\n",
              "      <td>what does the number \"2\" in the document denot...</td>\n",
              "      <td>table 4-a relative risk of falling into extrem...</td>\n",
              "      <td>middle 60% of scores</td>\n",
              "      <td>(706, 726)</td>\n",
              "    </tr>\n",
              "    <tr>\n",
              "      <th>32186</th>\n",
              "      <td>what does the number \"3\" in the document denot...</td>\n",
              "      <td>table 4-a relative risk of falling into extrem...</td>\n",
              "      <td>highest pentile</td>\n",
              "      <td>(731, 746)</td>\n",
              "    </tr>\n",
              "  </tbody>\n",
              "</table>\n",
              "<p>32187 rows × 4 columns</p>\n",
              "</div>"
            ],
            "text/plain": [
              "                                                Question  ...     Pos_label\n",
              "0      what is the contact person name mentioned in l...  ...    (119, 128)\n",
              "1                which corporation's letterhead is this?  ...       (4, 42)\n",
              "2                          who is in  cc in this letter?  ...    (122, 132)\n",
              "3                   what is the subject of  this letter?  ...    (177, 219)\n",
              "4      what is the number at the bottom of the page, ...  ...  (2093, 2102)\n",
              "...                                                  ...  ...           ...\n",
              "32182  \"combined low-fat diet and exercise approach h...  ...  (1628, 1678)\n",
              "32183                         what is the table number ?  ...        (6, 9)\n",
              "32184  what does the number \"1\" in the document denot...  ...    (687, 701)\n",
              "32185  what does the number \"2\" in the document denot...  ...    (706, 726)\n",
              "32186  what does the number \"3\" in the document denot...  ...    (731, 746)\n",
              "\n",
              "[32187 rows x 4 columns]"
            ]
          },
          "metadata": {
            "tags": []
          },
          "execution_count": 8
        }
      ]
    },
    {
      "cell_type": "code",
      "metadata": {
        "colab": {
          "base_uri": "https://localhost:8080/"
        },
        "id": "3eI4CjZb047L",
        "outputId": "fed67264-5a6d-4bf6-d771-5cc2185edd3d"
      },
      "source": [
        "def get_input_tokenized_lenghts(question, answer):\n",
        "\n",
        "    # remove o warning do log quando a entrada é maior do que 512 tokens \n",
        "    logging.getLogger(\"transformers.tokenization_utils_base\").setLevel(logging.ERROR)\n",
        "\n",
        "    lengths = []\n",
        "\n",
        "    for q,a in zip(question, answer):\n",
        "        input_ids = tokenizer.encode(q,a, add_special_tokens = True)\n",
        "        lengths.append(len(input_ids))\n",
        "    return lengths\n",
        "\n",
        "lengths = get_input_tokenized_lenghts(Question_train, Context_train)\n",
        "\n",
        "print(f'   comp. Min: {min(lengths):>6} tokens')\n",
        "print(f'   comp. Max: {max(lengths):>7} tokens')\n",
        "print(f'   comp. Mediano: {np.median(lengths):,} tokens')"
      ],
      "execution_count": null,
      "outputs": [
        {
          "output_type": "stream",
          "text": [
            "   comp. Min:     15 tokens\n",
            "   comp. Max:    2690 tokens\n",
            "   comp. Mediano: 281.0 tokens\n"
          ],
          "name": "stdout"
        }
      ]
    },
    {
      "cell_type": "code",
      "metadata": {
        "colab": {
          "base_uri": "https://localhost:8080/",
          "height": 428
        },
        "id": "s38e1I6d040d",
        "outputId": "d829bcdb-c8f2-40a7-eb33-c720cf3014bc"
      },
      "source": [
        "sns.set(style='darkgrid')\n",
        "\n",
        "sns.set(font_scale=1.5)\n",
        "plt.rcParams[\"figure.figsize\"] = (10,5)\n",
        "\n",
        "trunc_lengths = [min(l, 512) for l in lengths]\n",
        "\n",
        "sns.distplot(trunc_lengths, kde=False, rug=False)\n",
        "\n",
        "plt.title('Comprimento da Sequencia, truncado em 512')\n",
        "plt.xlabel('Comprimento da Sequencia')\n",
        "plt.ylabel('# de Exemplos')\n",
        "plt.show()"
      ],
      "execution_count": null,
      "outputs": [
        {
          "output_type": "stream",
          "text": [
            "/usr/local/lib/python3.6/dist-packages/seaborn/distributions.py:2551: FutureWarning: `distplot` is a deprecated function and will be removed in a future version. Please adapt your code to use either `displot` (a figure-level function with similar flexibility) or `histplot` (an axes-level function for histograms).\n",
            "  warnings.warn(msg, FutureWarning)\n"
          ],
          "name": "stderr"
        },
        {
          "output_type": "display_data",
          "data": {
            "image/png": "[encoded data removed]",
            "text/plain": [
              "<Figure size 720x360 with 1 Axes>"
            ]
          },
          "metadata": {
            "tags": []
          }
        }
      ]
    },
    {
      "cell_type": "code",
      "metadata": {
        "colab": {
          "base_uri": "https://localhost:8080/"
        },
        "id": "2ujpu_eL04s5",
        "outputId": "8887b55b-622d-481a-dc42-0e51f44bcdff"
      },
      "source": [
        "lengths = np.asarray(lengths)\n",
        "\n",
        "num_comments = len(lengths)\n",
        "max_lens = [128, 256, 300, 384, 512]\n",
        "\n",
        "print('Quantas entradas serão truncadas?\\n')\n",
        "\n",
        "for max_len in max_lens:\n",
        "    num_over = np.sum(lengths > max_len)\n",
        "    prcnt_over = float(num_over) / float(num_comments)\n",
        "    print(f'max_len = {max_len:} --> {num_over:>4,} de' \\\n",
        "    f'{num_comments:>4,}  ({prcnt_over:>5.1%}) serão truncadas')"
      ],
      "execution_count": null,
      "outputs": [
        {
          "output_type": "stream",
          "text": [
            "Quantas entradas serão truncadas?\n",
            "\n",
            "max_len = 128 --> 28,379 de32,187  (88.2%) serão truncadas\n",
            "max_len = 256 --> 17,910 de32,187  (55.6%) serão truncadas\n",
            "max_len = 300 --> 14,851 de32,187  (46.1%) serão truncadas\n",
            "max_len = 384 --> 9,518 de32,187  (29.6%) serão truncadas\n",
            "max_len = 512 --> 4,564 de32,187  (14.2%) serão truncadas\n"
          ],
          "name": "stdout"
        }
      ]
    },
    {
      "cell_type": "code",
      "metadata": {
        "colab": {
          "base_uri": "https://localhost:8080/",
          "height": 235
        },
        "id": "c83siRCglAr2",
        "outputId": "970043b6-0166-40a3-e4ce-3611ec53b650"
      },
      "source": [
        "def sentinela_mask(contexto, label, pos_label):\n",
        "    \"\"\"\n",
        "    Para nos ajudar a determinar quais tokens de BERT correspondem à resposta,\n",
        "    substituiremos a resposta por \"[MASK] [MASK] [MASK]\" (com base em\n",
        "    o número de tokens na resposta)\n",
        "    \"\"\"\n",
        "    \n",
        "    start_char_i = pos_label[0] # inicio da resposta\n",
        "    end_char_i = pos_label[1]   # fim da resposta\n",
        "\n",
        "    # Tokenize a resposta - ela pode ser dividida em várias palavras e / ou subpalavras\n",
        "    answer_tokens = tokenizer.tokenize(label)\n",
        "    \n",
        "    # Crie a string sentinela, por exemplo, \"[MASK] [MASK] [MASK]\"\n",
        "    sentinel_str = ' '.join(['[MASK]']*len(answer_tokens))\n",
        "\n",
        "    # Para fazer a substituição, usamos  slice com concatenação de strings\n",
        "    context_w_sentinel = contexto[:start_char_i] + sentinel_str + contexto[end_char_i:]\n",
        "\n",
        "    return answer_tokens, context_w_sentinel \n",
        "\n",
        "#-------------------------------------------------------\n",
        "contexto_ = df_qa_train.Context.to_list()[2]\n",
        "label = df_qa_train.Answer.to_list()[2]\n",
        "pos_label = df_qa_train.Pos_label.to_list()[2]\n",
        "\n",
        "a, c = sentinela_mask(contexto_, label, pos_label)\n",
        "c"
      ],
      "execution_count": 9,
      "outputs": [
        {
          "output_type": "execute_result",
          "data": {
            "application/vnd.google.colaboratory.intrinsic+json": {
              "type": "string"
            },
            "text/plain": [
              "'b&w brown & williamson tobacco corporation research & development . . . . internal correspondence to: r. h. honeycutt cc: [MASK] [MASK] [MASK] [MASK] [MASK] [MASK] [MASK] from: c. j. cook date: may 8. 1995 subject: review of existing brainstorming ideas/483 the major function of the product innovation group is to develop marketable novel products that would be profitable to manufacture and sell. novel is defined as: of a new kind, or different from anything seen or known before. innovation is defined as: something new or different introduced; act of innovating; introduction of new things or methods. the products may ncorporate the latest technologies, materials and know-how available to give then a unique taste or look. the first task of the product innovation group was to assemble, review and categorize a list of existing brainstorming ideas. ideas were grouped into two major categories labeled appearance and taste/aroma. these categories are used for novel products that may differ from a visual and/or taste/aroma point of view compared to conventional cigarettes. other categories include a combination of the above, filters, packaging and brand extensions. appearance this category is used for novel cigarette constructions that yield visually different products with minimal changes in smoke chemistry two cigarettes in one .multi-plug to build your own cigarette. .switchable menthol or non menthol cigarette. future smoking. cigarettes with interspaced perforations to enable smoker to separate unburned section for .short cigarette, tobacco section 30 mm. . extremely fast buming cigarette. -. ..\". \" . . novel cigarette constructions that permit a significant reduction in tobacco weight while maintaining smoking mechanics and visual characteristics. . . . . higher basis weight paper; potential reduction in tobacco weight. . more rigid tobacco column; stiffing agent for tobacco; e.g. starch . colored tow and cigarette papers; seasonal promotions, e.g. pastel colored cigarettes for easter or in an ebony and ivory brand containing a mixture of all black (black paper and tow) and all white cigarettes. 499150498 source: https://www.industrydocuments.ucsf.edu/docs/mxcj0037'"
            ]
          },
          "metadata": {
            "tags": []
          },
          "execution_count": 9
        }
      ]
    },
    {
      "cell_type": "code",
      "metadata": {
        "id": "PN_mGQA98_9W"
      },
      "source": [
        "MAX_LEN=450\n",
        "\n",
        "def tokenize_data(question_list, context_list, answer_list, pos_label_list, max_len=MAX_LEN):\n",
        "\n",
        "    all_input_ids, attention_masks, segment_ids, start_positions = [], [], [], []\n",
        "    end_positions, all_questions, all_answers, all_contexts = [], [], [], []\n",
        "    num_dropped = 0\n",
        "\n",
        "    for i, (question, answer, pos, context) in enumerate(\n",
        "        zip(question_list, answer_list, pos_label_list, context_list)):\n",
        "\n",
        "        answer_tokens, context_w_sentinel = sentinela_mask(context, answer, pos)\n",
        "\n",
        "        encoded_dict = tokenizer.encode_plus(\n",
        "            question, \n",
        "            context_w_sentinel,\n",
        "            add_special_tokens = True,    # Add '[CLS]' e '[SEP]'\n",
        "            max_length = max_len,         # Pad & trunca todas as sentenças\n",
        "            pad_to_max_length = True,\n",
        "            padding='max_length',\n",
        "            truncation = True,\n",
        "            return_attention_mask = True, # Constrói as attention masks\n",
        "            return_tensors = 'pt',        # Retorna tensores de PyTorch\n",
        "        )\n",
        "\n",
        "        input_ids = encoded_dict['input_ids']\n",
        "\n",
        "        is_mask_token = (input_ids[0] == tokenizer.mask_token_id)\n",
        "\n",
        "        mask_token_indeces = is_mask_token.nonzero(as_tuple=False)[:, 0]\n",
        "\n",
        "        # Se o número de tokens MASK não é igual ao número de tokens de resposta, \n",
        "        # então a amostra foi perdida devido ao truncamento\n",
        "        if not len(mask_token_indeces) == len(answer_tokens):\n",
        "            \n",
        "            # Calcule o número de amostras com esse problema\n",
        "            num_dropped += 1\n",
        "            continue\n",
        "\n",
        "        # anexa a pergunta, contexto e resposta\n",
        "        all_questions.append(question)\n",
        "        all_contexts.append(context)\n",
        "        all_answers.append(answer)\n",
        "\n",
        "        # `mask_token_indeces` é o intervalo de índices (por exemplo, [68, 69, 70, 71]),\n",
        "        #  mas nós realmente queremos apenas os índices de início e fim (por exemplo, 68 e 71).\n",
        "        start_index = mask_token_indeces[0]\n",
        "        end_index = mask_token_indeces[-1]\n",
        "        \n",
        "        # Codifica os tokens de resposta (para ids de token).\n",
        "        answer_token_ids = tokenizer.encode(answer_tokens, \n",
        "                                            add_special_tokens=False, \n",
        "                                            return_tensors='pt')\n",
        "\n",
        "        # Restaure a resposta dentro do texto de referência. (Substitua os tokens `[MASK]`\n",
        "        # com os tokens de resposta)\n",
        "        input_ids[0, start_index : end_index + 1] = answer_token_ids\n",
        "\n",
        "        # Adicione a frase codificada à lista\n",
        "        all_input_ids.append(input_ids)\n",
        "\n",
        "        # E sua máscara de atenção (simplesmente diferencia o padding do não padding)\n",
        "        attention_masks.append(encoded_dict['attention_mask'])    \n",
        "\n",
        "        # Armazene os IDs de segmento, que indicam quais tokens pertencem à pergunta\n",
        "        # vs. o contexto\n",
        "        segment_ids.append(encoded_dict['token_type_ids'])\n",
        "\n",
        "        # Armazene os índices de início e fim da resposta correta\n",
        "        start_positions.append(start_index)\n",
        "        end_positions.append(end_index)\n",
        "\n",
        "    all_input_ids = torch.cat(all_input_ids, dim=0)\n",
        "    attention_masks = torch.cat(attention_masks, dim=0)\n",
        "    segment_ids = torch.cat(segment_ids, dim=0)\n",
        "\n",
        "    start_positions = torch.tensor(start_positions)\n",
        "    end_positions = torch.tensor(end_positions)\n",
        "\n",
        "    assert len(all_questions) == len(all_contexts) == len(all_answers)\n",
        "    sentence_idx = np.linspace(0,len(all_questions), len(all_questions), False, dtype=np.int16)\n",
        "    torch_idx = torch.tensor(sentence_idx)\n",
        "\n",
        "    return torch_idx, all_questions, all_contexts, all_answers, all_input_ids, attention_masks, segment_ids, start_positions, end_positions\n",
        "\n",
        "#----------------------------------------------------------------------------------\n",
        "question_list_val = df_qa_val.Question.to_list()\n",
        "context_list_val = df_qa_val.Context.to_list()\n",
        "answer_list_val = df_qa_val.Answer.to_list()\n",
        "pos_label_list_val = df_qa_val.Pos_label.to_list()\n",
        "\n",
        "torch_idx, all_questions, all_contexts, all_answers, all_input_ids, attention_masks, segment_ids, start_positions, end_positions = \\\n",
        "tokenize_data(question_list_val, context_list_val, answer_list_val, pos_label_list_val, max_len=MAX_LEN)\n",
        "\n",
        "print(f'Número de exemplos após o processamento: {len(all_input_ids)}')"
      ],
      "execution_count": 11,
      "outputs": []
    },
    {
      "cell_type": "code",
      "metadata": {
        "colab": {
          "base_uri": "https://localhost:8080/"
        },
        "id": "xcKn9TwT-cIG",
        "outputId": "56591a13-6c0f-4fe5-9222-8e715541cbf2"
      },
      "source": [
        "%%time\n",
        "\n",
        "#--------------------------------------- Train and Debug\n",
        "question_list_train = df_qa_train.Question.to_list()\n",
        "context_list_train = df_qa_train.Context.to_list()\n",
        "answer_list_train = df_qa_train.Answer.to_list()\n",
        "pos_label_list_train = df_qa_train.Pos_label.to_list()\n",
        "\n",
        "torch_idx_train, all_questions_train, all_contexts_train, all_answers_train, all_input_ids_train, attention_masks_train, segment_ids_train, start_positions_train, end_positions_train = \\\n",
        "tokenize_data(question_list_train, context_list_train, answer_list_train, pos_label_list_train, max_len=MAX_LEN)\n",
        "\n",
        "ds_train_p = TensorDataset(\n",
        "    torch_idx_train,\n",
        "    all_input_ids_train, \n",
        "    attention_masks_train, \n",
        "    segment_ids_train, \n",
        "    start_positions_train, \n",
        "    end_positions_train\n",
        "    )\n",
        "\n",
        "train_size = int(0.98 * len(ds_train_p))\n",
        "debug_size   = len(ds_train_p) - train_size\n",
        "\n",
        "# Divide o dataset e seleciona exemplos randomicamente\n",
        "ds_train, ds_debug = random_split(ds_train_p, [train_size, debug_size])\n",
        "\n",
        "len(ds_train_p), len(ds_debug)\n",
        "\n",
        "#--------------------------------------- Val\n",
        "question_list_val = df_qa_val.Question.to_list()\n",
        "context_list_val = df_qa_val.Context.to_list()\n",
        "answer_list_val = df_qa_val.Answer.to_list()\n",
        "pos_label_list_val = df_qa_val.Pos_label.to_list()\n",
        "\n",
        "torch_idx_val, all_questions_val, all_contexts_val, all_answers_val, all_input_ids_val, attention_masks_val, segment_ids_val, start_positions_val, end_positions_val = \\\n",
        "tokenize_data(question_list_val, context_list_val, answer_list_val, pos_label_list_val, max_len=MAX_LEN)\n",
        "\n",
        "ds_val = TensorDataset(\n",
        "    torch_idx_val,\n",
        "    all_input_ids_val, \n",
        "    attention_masks_val, \n",
        "    segment_ids_val, \n",
        "    start_positions_val, \n",
        "    end_positions_val\n",
        "    )"
      ],
      "execution_count": 12,
      "outputs": [
        {
          "output_type": "stream",
          "text": [
            "CPU times: user 3min 13s, sys: 588 ms, total: 3min 14s\n",
            "Wall time: 3min 14s\n"
          ],
          "name": "stdout"
        }
      ]
    },
    {
      "cell_type": "code",
      "metadata": {
        "colab": {
          "base_uri": "https://localhost:8080/"
        },
        "id": "AO_zfRYZ8_3A",
        "outputId": "35d987ee-1467-4c67-dedf-0f8e42bd5856"
      },
      "source": [
        "BATCH_SZ = 4\n",
        "\n",
        "# dataloaders\n",
        "dataloaders = {\n",
        "     'debug': DataLoader(\n",
        "         ds_debug,\n",
        "         batch_size=BATCH_SZ,\n",
        "         num_workers=os.cpu_count(),\n",
        "         pin_memory=True\n",
        "         ),\n",
        "     \n",
        "     'train': DataLoader(\n",
        "         ds_train,\n",
        "         batch_size=BATCH_SZ,\n",
        "         shuffle=True,\n",
        "         num_workers=os.cpu_count(),\n",
        "         pin_memory=True\n",
        "         ),\n",
        "               \n",
        "     'val': DataLoader(\n",
        "         ds_val,\n",
        "         batch_size=BATCH_SZ,\n",
        "         num_workers=os.cpu_count(),\n",
        "         pin_memory=True\n",
        "         ),\n",
        "     }\n",
        "\n",
        "# teste de sanidade\n",
        "dl_sizes = {x: len(dataloaders[x]) for x in dataloaders.keys()}\n",
        "dl_sizes "
      ],
      "execution_count": 13,
      "outputs": [
        {
          "output_type": "execute_result",
          "data": {
            "text/plain": [
              "{'debug': 157, 'train': 7661, 'val': 1053}"
            ]
          },
          "metadata": {
            "tags": []
          },
          "execution_count": 13
        }
      ]
    },
    {
      "cell_type": "code",
      "metadata": {
        "colab": {
          "base_uri": "https://localhost:8080/"
        },
        "id": "fcDpfio4AEq8",
        "outputId": "2864aad4-cfec-4540-a5a5-2ce035165f1c"
      },
      "source": [
        "# =========================== #\n",
        "# === Teste do Dataloader === #\n",
        "# =========================== #\n",
        " \n",
        "torch_idx, input_ids, attention_masks, segment_ids, start_positions, end_positions = next(iter(dataloaders['val']))\n",
        " \n",
        "print('torch_idx.shape:       ', torch_idx.shape)\n",
        "print('input_ids.shape:       ', input_ids.shape)\n",
        "print('attention_masks.shape: ', attention_masks.shape)\n",
        "print('segment_ids.shape:     ', segment_ids.shape)\n",
        "print('start_positions.shape: ', start_positions.shape)\n",
        "print('end_positions.shape:   ', end_positions.shape)"
      ],
      "execution_count": 51,
      "outputs": [
        {
          "output_type": "stream",
          "text": [
            "torch_idx.shape:        torch.Size([4])\n",
            "input_ids.shape:        torch.Size([4, 450])\n",
            "attention_masks.shape:  torch.Size([4, 450])\n",
            "segment_ids.shape:      torch.Size([4, 450])\n",
            "start_positions.shape:  torch.Size([4])\n",
            "end_positions.shape:    torch.Size([4])\n"
          ],
          "name": "stdout"
        }
      ]
    },
    {
      "cell_type": "code",
      "metadata": {
        "id": "oEISWYWoyan5"
      },
      "source": [
        "def train_model(model, device, train_loader, optimizer):\n",
        "    num_batches = len(train_loader)    \n",
        "    total_train_loss = 0\n",
        "    model.train()\n",
        "\n",
        "    for step, batch in enumerate(train_loader):\n",
        "        batch_device = tuple(t.to(device) if type(t) != list else t for t in batch)\n",
        "        b_torch_idx, b_input_ids, b_input_mask, b_seg_ids, answer_true_start, answer_true_end = batch_device\n",
        "        \n",
        "        model.zero_grad()        \n",
        "        outputs = model(\n",
        "            b_input_ids, \n",
        "            attention_mask=b_input_mask, \n",
        "            token_type_ids = b_seg_ids,\n",
        "            start_positions=answer_true_start,\n",
        "            end_positions=answer_true_end\n",
        "            )\n",
        "\n",
        "        (loss, start_logits, end_logits) = outputs\n",
        "        total_train_loss += loss.item()\n",
        "        loss.backward()\n",
        "        torch.nn.utils.clip_grad_norm_(model.parameters(), 1.0)\n",
        "        optimizer.step()\n",
        "        avg_train_loss = total_train_loss / len(train_loader)            \n",
        "\n",
        "    return avg_train_loss\n",
        "\n",
        "def answer_question(model, question, answer_text, max_len=MAX_LEN):\n",
        "    '''\n",
        "    Toma uma string `pergunta` e uma string `texto que contém a resposta`, e \n",
        "    identifica as palavras dentro do `answer_text` que são a resposta. \n",
        "    '''\n",
        "    input_ids = tokenizer.encode(\n",
        "        question, \n",
        "        answer_text,\n",
        "        truncation=True,\n",
        "        )\n",
        "    sep_index = input_ids.index(tokenizer.sep_token_id)\n",
        "\n",
        "    num_seg_a = sep_index + 1\n",
        "    num_seg_b = len(input_ids) - num_seg_a\n",
        "    segment_ids = [0]*num_seg_a + [1]*num_seg_b\n",
        "\n",
        "    assert len(segment_ids) == len(input_ids)\n",
        "\n",
        "    start_scores, end_scores = model(\n",
        "        torch.tensor([input_ids]).to(device), \n",
        "        token_type_ids=torch.tensor([segment_ids]).to(device))\n",
        "\n",
        "    answer_start = torch.argmax(start_scores)\n",
        "    answer_end = torch.argmax(end_scores)\n",
        "\n",
        "    tokens = tokenizer.convert_ids_to_tokens(input_ids)\n",
        "    answer = tokens[answer_start]\n",
        "\n",
        "    for i in range(answer_start + 1, answer_end + 1):\n",
        "        \n",
        "        # Se é um token de subword, então recombina com o token anterior.\n",
        "        if tokens[i][0:2] == '##':\n",
        "            answer += tokens[i][2:]\n",
        "        \n",
        "        # Se não, adiciona um espaço ao token.\n",
        "        else:\n",
        "            answer += ' ' + tokens[i]\n",
        "    return answer\n",
        "\n",
        "def get_score(model, questions, contexts, answers, answer_question, compute_f1, compute_exact):\n",
        "    size = len(answers)\n",
        "    f1_result, exact_result = 0,0\n",
        "    for index in range(size):\n",
        "        pred = answer_question(model, questions[index], contexts[index])\n",
        "        true = answers[index]\n",
        "        f1_result += compute_f1(true, pred)\n",
        "        exact_result += compute_exact(true, pred)\n",
        "    return f1_result/size, exact_result/size"
      ],
      "execution_count": 82,
      "outputs": []
    },
    {
      "cell_type": "code",
      "metadata": {
        "id": "aMvu147iBnn4"
      },
      "source": [
        "# ================ #\n",
        "# === Métricas === #\n",
        "# ================ #\n",
        " \n",
        "path_save_model = '/content/drive/MyDrive/Colab Notebooks/Final-project/saved_epochs/'\n",
        "\n",
        "def normalize_answer(s):\n",
        "    def white_space_fix(text):\n",
        "        return ' '.join(text.split())\n",
        " \n",
        "    def lower(text):\n",
        "        return text.lower()\n",
        " \n",
        "    return white_space_fix(lower(s))\n",
        " \n",
        "def get_tokens(s):\n",
        "    if not s: return []\n",
        "    return normalize_answer(s).split()\n",
        " \n",
        "def compute_exact(a_gold, a_pred):\n",
        "    return int(normalize_answer(a_gold) == normalize_answer(a_pred))\n",
        " \n",
        "def compute_f1(a_gold, a_pred):\n",
        "    gold_toks = get_tokens(a_gold)\n",
        "    pred_toks = get_tokens(a_pred)\n",
        "    common = collections.Counter(gold_toks) & collections.Counter(pred_toks)\n",
        "    num_same = sum(common.values())\n",
        "    if len(gold_toks) == 0 or len(pred_toks) == 0:\n",
        "        return int(gold_toks == pred_toks)\n",
        "    if num_same == 0:\n",
        "        return 0\n",
        "    precision = 1.0 * num_same / len(pred_toks)\n",
        "    recall = 1.0 * num_same / len(gold_toks)\n",
        "    f1 = (2 * precision * recall) / (precision + recall)\n",
        "    return f1"
      ],
      "execution_count": 83,
      "outputs": []
    },
    {
      "cell_type": "code",
      "metadata": {
        "id": "KSb3SiHJrwJo",
        "colab": {
          "base_uri": "https://localhost:8080/"
        },
        "outputId": "6075b799-8689-4040-a774-79a9711d7571"
      },
      "source": [
        "deterministic()\n",
        "N_EPOCHS = 30\n",
        "optimizer = AdamW(model.parameters(), lr=2e-5, eps=1e-8)\n",
        "\n",
        "try:\n",
        "    del model\n",
        "    gc.collect()\n",
        "    torch.cuda.empty_cache()\n",
        "except:\n",
        "    pass\n",
        "\n",
        "model = BertForQuestionAnswering.from_pretrained(\n",
        "    'bert-large-uncased-whole-word-masking-finetuned-squad', \n",
        "    ).to(device)\n",
        "\n",
        "\n",
        "#----------------------------------------------------------------\n",
        "training_stats = []\n",
        "for epoch_i in range(1, N_EPOCHS+1):\n",
        "    loss_train = train_model(model, device, dataloaders['train'], optimizer)\n",
        "    print(f'\\nEpoca [{epoch_i}/{N_EPOCHS}]: Loss Train: {loss_train:.3f}')\n",
        "    \n",
        "    f1_result, exact_result = get_score(model, all_questions_val, all_contexts_val, all_answers_val, \n",
        "                                        answer_question, compute_f1, compute_exact)  \n",
        "    print(f'           Exact Match: {exact_result:.4f} -- F1: {f1_result:.4}')\n",
        "\n",
        "    training_stats.append({'epoch': epoch_i, 'Training Loss': loss_train, 'Exact': exact_result, 'F1': f1_result})"
      ],
      "execution_count": null,
      "outputs": [
        {
          "output_type": "stream",
          "text": [
            "Experimento deterministico, seed: 2357 -- Existe 1 GPU Tesla V100-SXM2-16GB disponível.\n"
          ],
          "name": "stdout"
        }
      ]
    },
    {
      "cell_type": "code",
      "metadata": {
        "id": "wuOEL7zoDdTJ"
      },
      "source": [
        "df_stats = pd.DataFrame(data=training_stats)\n",
        "df_stats = df_stats.set_index('epoch')\n",
        "pd.set_option('precision', 2)\n",
        "df_stats"
      ],
      "execution_count": null,
      "outputs": []
    },
    {
      "cell_type": "code",
      "metadata": {
        "id": "ZpwgaOnPEUHT"
      },
      "source": [
        "sns.set(style='darkgrid')\n",
        "\n",
        "sns.set(font_scale=1.5)\n",
        "plt.rcParams[\"figure.figsize\"] = (12,6)\n",
        "\n",
        "plt.plot(df_stats['Training Loss'], 'b-o', label=\"Training\")\n",
        "plt.plot(df_stats['Valid. Loss'], 'g-o', label=\"Validation\")\n",
        "\n",
        "plt.title(\"Training & Validation loss\")\n",
        "plt.xlabel(\"Epoch\")\n",
        "plt.ylabel(\"Loss\")\n",
        "plt.legend()\n",
        "plt.xticks([1, 2, 3, 4])\n",
        "\n",
        "plt.show()"
      ],
      "execution_count": null,
      "outputs": []
    },
    {
      "cell_type": "code",
      "metadata": {
        "id": "_XvcbSnUQLIY"
      },
      "source": [
        ""
      ],
      "execution_count": null,
      "outputs": []
    }
  ]
}