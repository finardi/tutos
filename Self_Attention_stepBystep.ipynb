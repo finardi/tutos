{
  "nbformat": 4,
  "nbformat_minor": 0,
  "metadata": {
    "colab": {
      "name": "Exemplo de Self Attention.ipynb",
      "provenance": [],
      "authorship_tag": "ABX9TyNn+jcJL2KPGEAnVD8fpkBY",
      "include_colab_link": true
    },
    "kernelspec": {
      "name": "python3",
      "display_name": "Python 3"
    }
  },
  "cells": [
    {
      "cell_type": "markdown",
      "metadata": {
        "id": "view-in-github",
        "colab_type": "text"
      },
      "source": [
        "<a href=\"https://colab.research.google.com/github/finardi/tutos/blob/master/Self_Attention_stepBystep.ipynb\" target=\"_parent\"><img src=\"https://colab.research.google.com/assets/colab-badge.svg\" alt=\"Open In Colab\"/></a>"
      ]
    },
    {
      "cell_type": "markdown",
      "metadata": {
        "id": "cdXdt1fRs52A"
      },
      "source": [
        "# Exemplo de self attention"
      ]
    },
    {
      "cell_type": "code",
      "metadata": {
        "id": "a8tpHOAtMz-W"
      },
      "source": [
        "import torch \n",
        "import numpy as np\n",
        "import seaborn as sns"
      ],
      "execution_count": 1,
      "outputs": []
    },
    {
      "cell_type": "code",
      "metadata": {
        "id": "YcqorrQEROvS",
        "outputId": "7e07b2dc-fe73-4755-f7f9-0c19d42ef4dc",
        "colab": {
          "base_uri": "https://localhost:8080/"
        }
      },
      "source": [
        "# ====\n",
        "# 0\n",
        "# ====\n",
        "\n",
        "# -- ENTRADA:\n",
        "text = 'Quero um cartão'\n",
        "text_tokens = ['Quero', 'um', 'cartão']\n",
        "\n",
        "# -- IDs:\n",
        "text_ids = [27,11,83] # tokens sintéticos\n",
        "VOCAB = 100 # Quantidade de palavras - no BERT ~30k\n",
        "\n",
        "# -- DIMENSÃO DOS EMBEDDINGS = 4:\n",
        "D = 8\n",
        "\n",
        "# -- COMPRIMENTO DA SEQUÊNCIA:\n",
        "L = 3\n",
        "\n",
        "# -- NÚMERO DE CABEÇAS:\n",
        "H = 2\n",
        "\n",
        "# -- MATRIZ DE EMBEDDINGS LxD:\n",
        "embs  = torch.nn.Embedding(VOCAB, D)\n",
        "\n",
        "# tensor com zeros_like\n",
        "embeddings = torch.zeros(len(text_ids) * D).reshape(len(text_ids), D)\n",
        "print(f'Shape da matriz de embeddings: {embeddings.shape}\\n')\n",
        "\n",
        "print('Matriz de embeddings\\n')\n",
        "for i , token in enumerate(text_ids):\n",
        "    embeddings[i] = embs(torch.tensor(token))\n",
        "embeddings"
      ],
      "execution_count": 2,
      "outputs": [
        {
          "output_type": "stream",
          "text": [
            "Shape da matriz de embeddings: torch.Size([3, 8])\n",
            "\n",
            "Matriz de embeddings\n",
            "\n"
          ],
          "name": "stdout"
        },
        {
          "output_type": "execute_result",
          "data": {
            "text/plain": [
              "tensor([[-0.6716, -0.8052, -1.3753, -0.9598, -0.8162, -1.0743, -1.1493,  1.0052],\n",
              "        [-1.2672,  0.8590,  0.7650, -0.1225, -0.4680, -0.1172,  0.8682,  0.7488],\n",
              "        [ 0.0959, -0.7437, -0.8650, -0.1754, -0.2658, -0.7284,  0.4719, -0.9366]],\n",
              "       grad_fn=<AsStridedBackward>)"
            ]
          },
          "metadata": {
            "tags": []
          },
          "execution_count": 2
        }
      ]
    },
    {
      "cell_type": "code",
      "metadata": {
        "id": "JicNHcgzRrjw",
        "outputId": "24cbe191-bfab-49bd-e57e-4a0726fa0ff6",
        "colab": {
          "base_uri": "https://localhost:8080/"
        }
      },
      "source": [
        "# ====\n",
        "# 1\n",
        "# ====\n",
        "\n",
        "# -- MATRIZ DE PESOS, Q, K, V --> DxD (INICIADOS ARBITRARIAMENTE):\n",
        "Qw = torch.nn.Linear(D, D)\n",
        "Kw = torch.nn.Linear(D, D)\n",
        "Vw = torch.nn.Linear(D, D)\n",
        "\n",
        "print('Qw', Qw.weight, '\\n')\n",
        "print('Kw', Qw.weight, '\\n')\n",
        "print('Vw', Qw.weight, '\\n')"
      ],
      "execution_count": 3,
      "outputs": [
        {
          "output_type": "stream",
          "text": [
            "Qw Parameter containing:\n",
            "tensor([[ 2.1355e-01, -6.0505e-02,  1.5879e-01, -1.8780e-01, -3.2963e-01,\n",
            "         -1.3225e-01, -3.1237e-01,  4.1349e-02],\n",
            "        [ 4.3815e-02, -3.3955e-01, -1.8005e-01,  9.7164e-02,  3.2993e-02,\n",
            "         -3.4433e-01, -2.8679e-01,  2.6753e-01],\n",
            "        [-1.0233e-04, -2.2486e-01,  8.0195e-02,  2.2640e-01,  3.3849e-01,\n",
            "         -2.1087e-01,  8.0766e-03, -1.8503e-01],\n",
            "        [-1.4945e-01, -7.7578e-02, -2.7284e-01,  3.0345e-01, -1.2821e-01,\n",
            "          7.4291e-02,  2.9289e-01, -1.3037e-01],\n",
            "        [-1.5207e-01,  2.5239e-01, -4.9343e-02, -2.7299e-01,  3.4929e-01,\n",
            "          3.4996e-02,  1.0453e-01, -1.6502e-01],\n",
            "        [ 1.7923e-01, -7.4382e-03,  9.8489e-02, -4.1425e-02,  1.3294e-01,\n",
            "         -1.2020e-01,  9.6759e-02,  5.5211e-02],\n",
            "        [-2.5398e-01,  1.2795e-01,  9.5807e-02, -1.5399e-01,  2.8151e-01,\n",
            "         -3.3101e-01, -4.1829e-02,  1.7249e-01],\n",
            "        [ 3.4974e-01,  3.3948e-01,  1.9345e-01, -2.7108e-01, -5.8042e-02,\n",
            "         -3.0578e-01, -1.4480e-01,  1.3036e-01]], requires_grad=True) \n",
            "\n",
            "Kw Parameter containing:\n",
            "tensor([[ 2.1355e-01, -6.0505e-02,  1.5879e-01, -1.8780e-01, -3.2963e-01,\n",
            "         -1.3225e-01, -3.1237e-01,  4.1349e-02],\n",
            "        [ 4.3815e-02, -3.3955e-01, -1.8005e-01,  9.7164e-02,  3.2993e-02,\n",
            "         -3.4433e-01, -2.8679e-01,  2.6753e-01],\n",
            "        [-1.0233e-04, -2.2486e-01,  8.0195e-02,  2.2640e-01,  3.3849e-01,\n",
            "         -2.1087e-01,  8.0766e-03, -1.8503e-01],\n",
            "        [-1.4945e-01, -7.7578e-02, -2.7284e-01,  3.0345e-01, -1.2821e-01,\n",
            "          7.4291e-02,  2.9289e-01, -1.3037e-01],\n",
            "        [-1.5207e-01,  2.5239e-01, -4.9343e-02, -2.7299e-01,  3.4929e-01,\n",
            "          3.4996e-02,  1.0453e-01, -1.6502e-01],\n",
            "        [ 1.7923e-01, -7.4382e-03,  9.8489e-02, -4.1425e-02,  1.3294e-01,\n",
            "         -1.2020e-01,  9.6759e-02,  5.5211e-02],\n",
            "        [-2.5398e-01,  1.2795e-01,  9.5807e-02, -1.5399e-01,  2.8151e-01,\n",
            "         -3.3101e-01, -4.1829e-02,  1.7249e-01],\n",
            "        [ 3.4974e-01,  3.3948e-01,  1.9345e-01, -2.7108e-01, -5.8042e-02,\n",
            "         -3.0578e-01, -1.4480e-01,  1.3036e-01]], requires_grad=True) \n",
            "\n",
            "Vw Parameter containing:\n",
            "tensor([[ 2.1355e-01, -6.0505e-02,  1.5879e-01, -1.8780e-01, -3.2963e-01,\n",
            "         -1.3225e-01, -3.1237e-01,  4.1349e-02],\n",
            "        [ 4.3815e-02, -3.3955e-01, -1.8005e-01,  9.7164e-02,  3.2993e-02,\n",
            "         -3.4433e-01, -2.8679e-01,  2.6753e-01],\n",
            "        [-1.0233e-04, -2.2486e-01,  8.0195e-02,  2.2640e-01,  3.3849e-01,\n",
            "         -2.1087e-01,  8.0766e-03, -1.8503e-01],\n",
            "        [-1.4945e-01, -7.7578e-02, -2.7284e-01,  3.0345e-01, -1.2821e-01,\n",
            "          7.4291e-02,  2.9289e-01, -1.3037e-01],\n",
            "        [-1.5207e-01,  2.5239e-01, -4.9343e-02, -2.7299e-01,  3.4929e-01,\n",
            "          3.4996e-02,  1.0453e-01, -1.6502e-01],\n",
            "        [ 1.7923e-01, -7.4382e-03,  9.8489e-02, -4.1425e-02,  1.3294e-01,\n",
            "         -1.2020e-01,  9.6759e-02,  5.5211e-02],\n",
            "        [-2.5398e-01,  1.2795e-01,  9.5807e-02, -1.5399e-01,  2.8151e-01,\n",
            "         -3.3101e-01, -4.1829e-02,  1.7249e-01],\n",
            "        [ 3.4974e-01,  3.3948e-01,  1.9345e-01, -2.7108e-01, -5.8042e-02,\n",
            "         -3.0578e-01, -1.4480e-01,  1.3036e-01]], requires_grad=True) \n",
            "\n"
          ],
          "name": "stdout"
        }
      ]
    },
    {
      "cell_type": "code",
      "metadata": {
        "id": "OS5NVaPXMItv",
        "colab": {
          "base_uri": "https://localhost:8080/"
        },
        "outputId": "5a52a943-a7b4-40c7-ebfe-9d2155444d24"
      },
      "source": [
        "# ====\n",
        "# 2\n",
        "# ====\n",
        "\n",
        "# -- OBTER Q, K e V:\n",
        "print(f'Shape da entrada: {embeddings.size()} -- Shape das Matrizes de pesos Qw, Kw e Vw: {Qw.weight.size()}')\n",
        "\n",
        "Q =  torch.einsum('ld, de -> le', embeddings, Kw.weight) \n",
        "K =  torch.einsum('ld, de -> le', embeddings, Vw.weight) \n",
        "V =  torch.einsum('ld, de -> le', embeddings, Qw.weight) \n",
        "\n",
        "dk = D//H\n",
        "Q = Q.reshape(L, H, dk)\n",
        "K = K.reshape(L, H, dk)\n",
        "V = V.reshape(L, H, dk)\n",
        "\n",
        "print('Q', Q.size())\n",
        "print('K', K.size())\n",
        "print('V', V.size())"
      ],
      "execution_count": 5,
      "outputs": [
        {
          "output_type": "stream",
          "text": [
            "Shape da entrada: torch.Size([3, 8]) -- Shape das Matrizes de pesos Qw, Kw e Vw: torch.Size([8, 8])\n",
            "Q torch.Size([3, 2, 4])\n",
            "K torch.Size([3, 2, 4])\n",
            "V torch.Size([3, 2, 4])\n"
          ],
          "name": "stdout"
        }
      ]
    },
    {
      "cell_type": "code",
      "metadata": {
        "id": "HavK3iCTYfW7",
        "outputId": "b19c8490-ec21-408c-fbac-af5b19573cf5",
        "colab": {
          "base_uri": "https://localhost:8080/"
        }
      },
      "source": [
        "# ====\n",
        "# 3\n",
        "# ====\n",
        "\n",
        "Q = Q.transpose(0,1) # (H, L, dk)\n",
        "K = K.transpose(0,1) # (H, L, dk)\n",
        "V = V.transpose(0,1) # (H, L, dk)\n",
        "\n",
        "print('Q', Q.size())\n",
        "print('K', K.size())\n",
        "print('V', V.size())"
      ],
      "execution_count": 6,
      "outputs": [
        {
          "output_type": "stream",
          "text": [
            "Q torch.Size([2, 3, 4])\n",
            "K torch.Size([2, 3, 4])\n",
            "V torch.Size([2, 3, 4])\n"
          ],
          "name": "stdout"
        }
      ]
    },
    {
      "cell_type": "code",
      "metadata": {
        "id": "Ss7IYIZFMIgq",
        "colab": {
          "base_uri": "https://localhost:8080/"
        },
        "outputId": "ca580cfb-8bc7-4165-a2b8-a5481a5bd23c"
      },
      "source": [
        "# ====\n",
        "# 4\n",
        "# ====\n",
        "\n",
        "# -- CALCULAR O SCORE:    \n",
        "QKT = torch.einsum('hld, hcd -> hlc', Q, K) # K.transpose(-2,-1)=(H, dk, L) := (H, L, dk)x(H, dk, L) = (H, L, L)\n",
        "print('SCORE', QKT.size())\n",
        "\n",
        "# -- DIVIDIR POR SQRT(D)\n",
        "\n",
        "# -- SOFTMAX:\n",
        "Softmax = torch.nn.Softmax(dim=-1)\n",
        "Softmax = Softmax(QKT.float())\n",
        "SCORE = QKT/torch.sqrt(torch.tensor(D)) # (H, L, L) "
      ],
      "execution_count": 8,
      "outputs": [
        {
          "output_type": "stream",
          "text": [
            "SCORE torch.Size([2, 3, 3])\n"
          ],
          "name": "stdout"
        }
      ]
    },
    {
      "cell_type": "code",
      "metadata": {
        "id": "ZyFL9sryMIeR",
        "colab": {
          "base_uri": "https://localhost:8080/"
        },
        "outputId": "0cdff301-0f69-4b1d-8635-ea261bb9fee1"
      },
      "source": [
        "# ====\n",
        "# 5\n",
        "# ====\n",
        "\n",
        "SV = torch.einsum('hlc, hck -> hlk', SCORE, V) # (H, L, L)x(H, L, D//H)=(H, L, D//H)\n",
        "print('SV', SV.size()) "
      ],
      "execution_count": 9,
      "outputs": [
        {
          "output_type": "stream",
          "text": [
            "SV torch.Size([2, 3, 4])\n"
          ],
          "name": "stdout"
        }
      ]
    },
    {
      "cell_type": "code",
      "metadata": {
        "id": "hjbUXARcYveN",
        "colab": {
          "base_uri": "https://localhost:8080/"
        },
        "outputId": "3014dc05-76e8-499d-95ea-53b1dd65b221"
      },
      "source": [
        "# ====\n",
        "# 6\n",
        "# ====\n",
        "\n",
        "SV = SV.transpose(0,1) # (L, H, dk)\n",
        "print('SV', SV.size())"
      ],
      "execution_count": 10,
      "outputs": [
        {
          "output_type": "stream",
          "text": [
            "SV torch.Size([3, 2, 4])\n"
          ],
          "name": "stdout"
        }
      ]
    },
    {
      "cell_type": "code",
      "metadata": {
        "id": "EjxQz4s8Yvbh",
        "colab": {
          "base_uri": "https://localhost:8080/"
        },
        "outputId": "73a451af-d905-4b34-839b-7401728b226a"
      },
      "source": [
        "# ====\n",
        "# 7\n",
        "# ====\n",
        "\n",
        "SV = SV.reshape(L, -1) # (L, H*dk)\n",
        "print('SV', SV.size())\n",
        "\n",
        "# -- MULTIPLICAR PELA MATRIZ DE PROJEÇÃO Wo\n",
        "Wow = torch.nn.Linear(D, D)"
      ],
      "execution_count": 11,
      "outputs": [
        {
          "output_type": "stream",
          "text": [
            "SV torch.Size([3, 8])\n"
          ],
          "name": "stdout"
        }
      ]
    },
    {
      "cell_type": "code",
      "metadata": {
        "id": "JkXnSgXwb29Z",
        "colab": {
          "base_uri": "https://localhost:8080/"
        },
        "outputId": "a7c901d4-0424-4859-b7fd-48e727ea3168"
      },
      "source": [
        "# ====\n",
        "# 8\n",
        "# ====\n",
        "\n",
        "## -- SV @ Wo = MATRIZ DE ATENÇÃO:\n",
        "ATT = torch.einsum('ld, dm -> lm', SV, Wow.weight) # (L, D)x(DxD)\n",
        "print('ATT', ATT.size())\n",
        "ATT"
      ],
      "execution_count": 12,
      "outputs": [
        {
          "output_type": "stream",
          "text": [
            "ATT torch.Size([3, 8])\n"
          ],
          "name": "stdout"
        },
        {
          "output_type": "execute_result",
          "data": {
            "text/plain": [
              "tensor([[-0.0210, -0.0109, -0.0485,  0.0004, -0.1306,  0.0589, -0.0236, -0.0703],\n",
              "        [ 0.0409,  0.0892,  0.0456,  0.2058,  0.0655, -0.0473, -0.0212,  0.0232],\n",
              "        [-0.0335, -0.0202, -0.0561, -0.0754, -0.0971,  0.0393, -0.0274, -0.0595]],\n",
              "       grad_fn=<ViewBackward>)"
            ]
          },
          "metadata": {
            "tags": []
          },
          "execution_count": 12
        }
      ]
    },
    {
      "cell_type": "code",
      "metadata": {
        "colab": {
          "base_uri": "https://localhost:8080/",
          "height": 286
        },
        "id": "WdjObeR-5GUC",
        "outputId": "3a46abdb-463c-4d58-d9e5-fdd6e334128e"
      },
      "source": [
        "# Embs sem ATT\n",
        "sns.heatmap(embeddings.detach().numpy())"
      ],
      "execution_count": 15,
      "outputs": [
        {
          "output_type": "execute_result",
          "data": {
            "text/plain": [
              "<matplotlib.axes._subplots.AxesSubplot at 0x7fe651504f10>"
            ]
          },
          "metadata": {
            "tags": []
          },
          "execution_count": 15
        },
        {
          "output_type": "display_data",
          "data": {
            "image/png": "[encoded data removed]",
            "text/plain": [
              "<Figure size 432x288 with 2 Axes>"
            ]
          },
          "metadata": {
            "tags": [],
            "needs_background": "light"
          }
        }
      ]
    },
    {
      "cell_type": "code",
      "metadata": {
        "colab": {
          "base_uri": "https://localhost:8080/",
          "height": 283
        },
        "id": "UccmwfhU48pn",
        "outputId": "1b777237-9332-49b4-d1b2-a1588a327aa5"
      },
      "source": [
        "# ATT Embs\n",
        "sns.heatmap(ATT.detach().numpy())"
      ],
      "execution_count": 16,
      "outputs": [
        {
          "output_type": "execute_result",
          "data": {
            "text/plain": [
              "<matplotlib.axes._subplots.AxesSubplot at 0x7fe651465c10>"
            ]
          },
          "metadata": {
            "tags": []
          },
          "execution_count": 16
        },
        {
          "output_type": "display_data",
          "data": {
            "image/png": "[encoded data removed]",
            "text/plain": [
              "<Figure size 432x288 with 2 Axes>"
            ]
          },
          "metadata": {
            "tags": [],
            "needs_background": "light"
          }
        }
      ]
    },
    {
      "cell_type": "markdown",
      "metadata": {
        "id": "z5EI8ia0gLJK"
      },
      "source": [
        "# Fim do Notebook"
      ]
    }
  ]
}