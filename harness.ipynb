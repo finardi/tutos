{
  "nbformat": 4,
  "nbformat_minor": 0,
  "metadata": {
    "colab": {
      "provenance": [],
      "machine_shape": "hm",
      "gpuType": "T4",
      "mount_file_id": "1emDJmeizliql6JaKqTmXTm_LpYupfeuX",
      "authorship_tag": "ABX9TyNS9r7ykT+5qtamDRjVayiM",
      "include_colab_link": true
    },
    "kernelspec": {
      "name": "python3",
      "display_name": "Python 3"
    },
    "language_info": {
      "name": "python"
    },
    "accelerator": "GPU"
  },
  "cells": [
    {
      "cell_type": "markdown",
      "metadata": {
        "id": "view-in-github",
        "colab_type": "text"
      },
      "source": [
        "<a href=\"https://colab.research.google.com/github/finardi/tutos/blob/master/harness.ipynb\" target=\"_parent\"><img src=\"https://colab.research.google.com/assets/colab-badge.svg\" alt=\"Open In Colab\"/></a>"
      ]
    },
    {
      "cell_type": "code",
      "source": [
        "%load_ext autoreload\n",
        "%autoreload 2\n",
        "\n",
        "import sys\n",
        "from huggingface_hub import login\n",
        "from lm_eval.evaluator import simple_evaluate"
      ],
      "metadata": {
        "id": "L1uWHBdr7Lrn"
      },
      "execution_count": null,
      "outputs": []
    },
    {
      "cell_type": "code",
      "execution_count": null,
      "metadata": {
        "id": "8-BGgJ64cRIN"
      },
      "outputs": [],
      "source": [
        "!cd /content/drive/MyDrive/LLMs/EVAL_HARNESS-PTBR && pip install -e lm-evaluation-harness-PTBR\n",
        "!pip install -q SentencePiece accelerate bitsandbytes"
      ]
    },
    {
      "cell_type": "code",
      "source": [
        "# path to lm-evaluation-harness-PTBR\n",
        "sys.path.append('content/drive/MyDrive/LLMs/EVAL_HARNESS-PTBR/lm-evaluation-harness-PTBR')"
      ],
      "metadata": {
        "id": "xopc2lKi7QGD"
      },
      "execution_count": null,
      "outputs": []
    },
    {
      "cell_type": "code",
      "source": [
        "# HF login\n",
        "login()"
      ],
      "metadata": {
        "id": "HEFr3nCTdFS1"
      },
      "execution_count": 1,
      "outputs": []
    },
    {
      "cell_type": "markdown",
      "source": [
        "# LlaMA Like eval"
      ],
      "metadata": {
        "id": "cobPecN97pZM"
      }
    },
    {
      "cell_type": "code",
      "source": [
        "result = simple_evaluate(\n",
        "    model=\"hf-llama-causal\",\n",
        "\n",
        "    model_args=\"pretrained=openlm-research/open_llama_3b,low_cpu_mem_usage=True,dtype=float16\",\n",
        "    # model_args=\"pretrained=22h/open_cabrita_3b_pt_250000,low_cpu_mem_usage=True,dtype=float16\",\n",
        "    # model_args=\"pretrained=22h/open_cabrita_3b_pt_tokenizer,low_cpu_mem_usage=True,dtype=float16\",\n",
        "\n",
        "    tasks=['imdb_pt'],# <--- set task\n",
        "    num_fewshot=2,    # <--- set FEWSHOT NUMBER\n",
        "    batch_size=2,     # <--- set Batch-size\n",
        "    device=\"cuda:0\",\n",
        "    limit=None,\n",
        "    bootstrap_iters=10_000,\n",
        "\n",
        "    # set the description of the task\n",
        "    description_dict={\"imdb_pt\": \"Classifique o Texto como Classe:\\n0. 0\\n1. 1\"},)\n",
        "\n",
        "result"
      ],
      "metadata": {
        "id": "1Vmb_1ov5VH4"
      },
      "execution_count": null,
      "outputs": []
    },
    {
      "cell_type": "markdown",
      "source": [
        "# GPT-J eval"
      ],
      "metadata": {
        "id": "7eWC1S_W7c_q"
      }
    },
    {
      "cell_type": "code",
      "source": [
        "GPTJ = False\n",
        "if GPTJ:\n",
        "\n",
        "    result_GPTJ = simple_evaluate(\n",
        "        model=\"hf-causal\",\n",
        "        model_args=\"pretrained=EleutherAI/gpt-j-6B,low_cpu_mem_usage=True,revision=float16\",\n",
        "        tasks=['tweetsentbr'],\n",
        "        num_fewshot=30,\n",
        "        batch_size=1,\n",
        "        device=\"cuda:0\",\n",
        "        limit=None,\n",
        "        bootstrap_iters=10_000,\n",
        "        description_dict={\"tweetsentbr\": \"Classifique o Texto como Classe:\\n0. 0\\n1. 1\\n2. 2\"},)\n",
        "\n",
        "    result_GPTJ"
      ],
      "metadata": {
        "id": "bGhh2ros9lGE"
      },
      "execution_count": null,
      "outputs": []
    }
  ]
}