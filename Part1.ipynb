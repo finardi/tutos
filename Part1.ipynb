{
  "nbformat": 4,
  "nbformat_minor": 0,
  "metadata": {
    "colab": {
      "name": "Part1.ipynb",
      "provenance": [],
      "mount_file_id": "1MgtQxzx_mQFYocVRI8sHRhQyYMYZJYUl",
      "authorship_tag": "ABX9TyMVsYPXkHQlvlTDuRYgV/JE",
      "include_colab_link": true
    },
    "kernelspec": {
      "name": "python3",
      "display_name": "Python 3"
    }
  },
  "cells": [
    {
      "cell_type": "markdown",
      "metadata": {
        "id": "view-in-github",
        "colab_type": "text"
      },
      "source": [
        "<a href=\"https://colab.research.google.com/github/finardi/tutos/blob/master/Part1.ipynb\" target=\"_parent\"><img src=\"https://colab.research.google.com/assets/colab-badge.svg\" alt=\"Open In Colab\"/></a>"
      ]
    },
    {
      "cell_type": "markdown",
      "metadata": {
        "id": "ZWMcsIFd1-4g"
      },
      "source": [
        "# Prepare environment"
      ]
    },
    {
      "cell_type": "code",
      "metadata": {
        "colab": {
          "base_uri": "https://localhost:8080/"
        },
        "id": "myJbtHNYSp3J",
        "outputId": "e7a39995-15c7-4139-e29b-525a7a1aec79"
      },
      "source": [
        "# https://downloads.apache.org/spark/\n",
        "!apt-get install openjdk-8-jdk-headless -qq > /dev/null\n",
        "!wget -q https://downloads.apache.org/spark/spark-2.4.7/spark-2.4.7-bin-hadoop2.7.tgz\n",
        "!tar xf spark-2.4.7-bin-hadoop2.7.tgz\n",
        "\n",
        "!pip install -q findspark\n",
        "!pip install -q pyspark"
      ],
      "execution_count": 1,
      "outputs": [
        {
          "output_type": "stream",
          "text": [
            "\u001b[K     |████████████████████████████████| 204.2MB 60kB/s \n",
            "\u001b[K     |████████████████████████████████| 204kB 18.3MB/s \n",
            "\u001b[?25h  Building wheel for pyspark (setup.py) ... \u001b[?25l\u001b[?25hdone\n"
          ],
          "name": "stdout"
        }
      ]
    },
    {
      "cell_type": "code",
      "metadata": {
        "id": "G9h3zwM3b7ht"
      },
      "source": [
        "import os\n",
        "os.environ[\"JAVA_HOME\"] = \"/usr/lib/jvm/java-8-openjdk-amd64\"\n",
        "os.environ[\"SPARK_HOME\"] = \"/content/spark-2.4.7-bin-hadoop2.7\"\n",
        "\n",
        "import findspark\n",
        "findspark.init()\n",
        "from pyspark.sql import SparkSession\n",
        "spark = SparkSession.builder.master(\"local[*]\").getOrCreate()\n",
        "\n",
        "import numpy as np\n",
        "import matplotlib.pyplot as plt"
      ],
      "execution_count": 2,
      "outputs": []
    },
    {
      "cell_type": "markdown",
      "metadata": {
        "id": "t8iXoOjDxk1T"
      },
      "source": [
        "# 194 Imigration dataset "
      ]
    },
    {
      "cell_type": "code",
      "metadata": {
        "id": "bpe-taLlYu76"
      },
      "source": [
        "# Reading the parquet files\n",
        "path_imigration = '/content/drive/MyDrive/DataEngineer/final_project/sas_data/'\n",
        "df_imigration = spark.read.parquet(path_imigration)"
      ],
      "execution_count": 32,
      "outputs": []
    },
    {
      "cell_type": "markdown",
      "metadata": {
        "id": "5crRxZTk16Oz"
      },
      "source": [
        "## Metadata"
      ]
    },
    {
      "cell_type": "markdown",
      "metadata": {
        "id": "36AK7ZriKQTD"
      },
      "source": [
        "\n",
        "Column | Description \n",
        "--- | ---\n",
        "`cicid`     | Unique ID for each record in the dataset\n",
        " `i94yr`    | year in 4 digit format\n",
        " `i94mon`   | month in numeric format\n",
        " `i94cit`   | code of soruce city in 3 digit format\n",
        " `i94res`   | code of source country in 3 digit format\n",
        " `i94port`  | port admitted through\n",
        " `arrdate`  | arrival date in the USA\n",
        " `i94mode`  | mode of transportation (1=Air; 2=Sea; 3=Land; 9=Not reported)\n",
        " `i94addr`  | state of arrival\n",
        " `depdate`  | departure date\n",
        " `i94bir`   | age of respondent in years\n",
        " `i94visa`  | visa codes in three categories: (1=Business; 2=Pleasure; 3=Student)\n",
        " `count`    | count for summary statistics\n",
        " `dtadfile` | character Date Field\n",
        " `visapost` | department of state where where visa was issued\n",
        " `occup`    | occupation that will be performed in U.S.\n",
        " `entdepa`  | arrival flag: admitted or paroled into the US\n",
        " `entdepd`  | departure flag:  lost visa or deceased\n",
        " `entdepu`  | update flag: update of visa, either apprehended, overstayed, or updated to PR\n",
        " `matflag`  | match flag\n",
        " `biryear`  | year of birth in 4 digit format\n",
        " `dtaddto`  | character date field to when admitted in the US\n",
        " `gender`   | gender\n",
        " `insnum`   | INS number\n",
        " `airline`  | airline used \n",
        " `admnum`   | admission number\n",
        " `fltno`    | flight number of airline \n",
        " `visatype` | \tclass of admission in U.S."
      ]
    },
    {
      "cell_type": "code",
      "metadata": {
        "colab": {
          "base_uri": "https://localhost:8080/"
        },
        "id": "fleYh9x2YcGb",
        "outputId": "a5a4aa43-1281-43f1-9020-8e940c4ae871"
      },
      "source": [
        "# Print schema dataset\n",
        "df_imigration.printSchema()"
      ],
      "execution_count": 33,
      "outputs": [
        {
          "output_type": "stream",
          "text": [
            "root\n",
            " |-- cicid: double (nullable = true)\n",
            " |-- i94yr: double (nullable = true)\n",
            " |-- i94mon: double (nullable = true)\n",
            " |-- i94cit: double (nullable = true)\n",
            " |-- i94res: double (nullable = true)\n",
            " |-- i94port: string (nullable = true)\n",
            " |-- arrdate: double (nullable = true)\n",
            " |-- i94mode: double (nullable = true)\n",
            " |-- i94addr: string (nullable = true)\n",
            " |-- depdate: double (nullable = true)\n",
            " |-- i94bir: double (nullable = true)\n",
            " |-- i94visa: double (nullable = true)\n",
            " |-- count: double (nullable = true)\n",
            " |-- dtadfile: string (nullable = true)\n",
            " |-- visapost: string (nullable = true)\n",
            " |-- occup: string (nullable = true)\n",
            " |-- entdepa: string (nullable = true)\n",
            " |-- entdepd: string (nullable = true)\n",
            " |-- entdepu: string (nullable = true)\n",
            " |-- matflag: string (nullable = true)\n",
            " |-- biryear: double (nullable = true)\n",
            " |-- dtaddto: string (nullable = true)\n",
            " |-- gender: string (nullable = true)\n",
            " |-- insnum: string (nullable = true)\n",
            " |-- airline: string (nullable = true)\n",
            " |-- admnum: double (nullable = true)\n",
            " |-- fltno: string (nullable = true)\n",
            " |-- visatype: string (nullable = true)\n",
            "\n"
          ],
          "name": "stdout"
        }
      ]
    },
    {
      "cell_type": "code",
      "metadata": {
        "colab": {
          "base_uri": "https://localhost:8080/"
        },
        "id": "JgvYQOyxft2E",
        "outputId": "4f968497-7587-4fb6-f597-ba2abe6e7259"
      },
      "source": [
        "# Describe the dataset\n",
        "df_imigration.describe().show()"
      ],
      "execution_count": 34,
      "outputs": [
        {
          "output_type": "stream",
          "text": [
            "+-------+------------------+-------+-------+------------------+------------------+-------+------------------+------------------+------------------+------------------+------------------+------------------+-------+-------------------+--------------------+-----+-------+-------+-------+-------+-----------------+------------------+-------+------------------+-----------------+--------------------+------------------+--------+\n",
            "|summary|             cicid|  i94yr| i94mon|            i94cit|            i94res|i94port|           arrdate|           i94mode|           i94addr|           depdate|            i94bir|           i94visa|  count|           dtadfile|            visapost|occup|entdepa|entdepd|entdepu|matflag|          biryear|           dtaddto| gender|            insnum|          airline|              admnum|             fltno|visatype|\n",
            "+-------+------------------+-------+-------+------------------+------------------+-------+------------------+------------------+------------------+------------------+------------------+------------------+-------+-------------------+--------------------+-----+-------+-------+-------+-------+-----------------+------------------+-------+------------------+-----------------+--------------------+------------------+--------+\n",
            "|  count|           1980548|1980548|1980548|           1980548|           1980548|1980548|           1980548|           1980464|           1914061|           1904047|           1980532|           1980548|1980548|            1980547|              785491| 5486|1980465|1904053|    265|1904053|          1980532|           1980420|1692307|               680|          1979814|             1980548|           1979802| 1980548|\n",
            "|   mean|2019516.9361297984| 2016.0|    4.0| 308.0553912351531|307.31072915172973|   null|20555.014585862096|1.0060960461790773|29.859154929577464| 20569.74751516113|41.904898784770964| 1.826469239826553|    1.0|2.016041103136255E7|               999.0| null|   null|   null|   null|   null|1974.095101215229| 8314936.816945066|   null|          3790.425|66.41308211873445|7.102117596641182E10|1254.7447959491694|    null|\n",
            "| stddev|1160070.4074729732|    0.0|    0.0|215.10041794060888|214.03413003337798|   null| 6.062509656175392|0.1161702729821813|33.318933173904036|22.702093536379266| 17.24020811580531|0.4174517353603595|    0.0| 21.893929450874264|5.140394913515701...| null|   null|   null|   null|   null|17.24020811580645|1596538.1189720032|   null|2755.3936428239404|186.9187053713512|2.176144045832752...|  5133.51485935614|    null|\n",
            "|    min|               6.0| 2016.0|    4.0|             101.0|             101.0|    5KE|           20545.0|               1.0|                ..|           20226.0|               0.0|               1.0|    1.0|           20130811|                 999|  ACH|      A|      D|      U|      M|           1916.0|          /   183D|      F|            070416|              *FF|                 0.0|             00001|      B1|\n",
            "|    max|         4029602.0| 2016.0|    4.0|             999.0|             760.0|    YGF|           20573.0|               9.0|                ZU|           20716.0|             100.0|               3.0|    1.0|           20160421|                 ZZZ|  WTR|      U|      W|      Y|      M|           2016.0|               D/S|      X|              7563|               ZZ|     9.7673498108E10|               ZZZ|      WT|\n",
            "+-------+------------------+-------+-------+------------------+------------------+-------+------------------+------------------+------------------+------------------+------------------+------------------+-------+-------------------+--------------------+-----+-------+-------+-------+-------+-----------------+------------------+-------+------------------+-----------------+--------------------+------------------+--------+\n",
            "\n"
          ],
          "name": "stdout"
        }
      ]
    },
    {
      "cell_type": "code",
      "metadata": {
        "colab": {
          "base_uri": "https://localhost:8080/"
        },
        "id": "i7f_f7rPjgX_",
        "outputId": "f51fd157-2731-4bf9-e156-e312b046a456"
      },
      "source": [
        "# # Count unique and NaN values in each column\n",
        "# from pyspark.sql.functions import countDistinct, col, isnan, when, count\n",
        "\n",
        "# len_df = df_imigration.count()\n",
        "# cols_names = df_imigration.columns\n",
        "# nuniques = df_imigration.agg(*(countDistinct(col(c)).alias(c) for c in df_imigration.columns)).rdd.flatMap(lambda x: x).collect()\n",
        "# isnan_or_isnull = df_imigration.select([count(when(isnan(c) | col(c).isNull(), c)).alias(c) for c in df_imigration.columns]).rdd.flatMap(lambda x: x).collect()\n",
        "\n",
        "for col, uniq, nan in zip (cols_names, nuniques, isnan_or_isnull):\n",
        "    print(f'Column {col:<8} has {uniq:>7} unique values and {nan/len_df*100:<8.3}% NaN values')"
      ],
      "execution_count": 35,
      "outputs": [
        {
          "output_type": "stream",
          "text": [
            "Column cicid    has 1980548 unique values and 0.0     % NaN values\n",
            "Column i94yr    has       1 unique values and 0.0     % NaN values\n",
            "Column i94mon   has       1 unique values and 0.0     % NaN values\n",
            "Column i94cit   has     225 unique values and 0.0     % NaN values\n",
            "Column i94res   has     226 unique values and 0.0     % NaN values\n",
            "Column i94port  has     161 unique values and 0.0     % NaN values\n",
            "Column arrdate  has      22 unique values and 0.0     % NaN values\n",
            "Column i94mode  has       3 unique values and 0.00424 % NaN values\n",
            "Column i94addr  has     412 unique values and 3.36    % NaN values\n",
            "Column depdate  has     186 unique values and 3.86    % NaN values\n",
            "Column i94bir   has     101 unique values and 0.000808% NaN values\n",
            "Column i94visa  has       3 unique values and 0.0     % NaN values\n",
            "Column count    has       1 unique values and 0.0     % NaN values\n",
            "Column dtadfile has      22 unique values and 5.05e-05% NaN values\n",
            "Column visapost has     444 unique values and 60.3    % NaN values\n",
            "Column occup    has      92 unique values and 99.7    % NaN values\n",
            "Column entdepa  has      12 unique values and 0.00419 % NaN values\n",
            "Column entdepd  has      11 unique values and 3.86    % NaN values\n",
            "Column entdepu  has       2 unique values and 1e+02   % NaN values\n",
            "Column matflag  has       1 unique values and 3.86    % NaN values\n",
            "Column biryear  has     101 unique values and 0.000808% NaN values\n",
            "Column dtaddto  has     682 unique values and 0.00646 % NaN values\n",
            "Column gender   has       4 unique values and 14.6    % NaN values\n",
            "Column insnum   has     119 unique values and 1e+02   % NaN values\n",
            "Column airline  has     376 unique values and 0.0371  % NaN values\n",
            "Column admnum   has 1978500 unique values and 0.0     % NaN values\n",
            "Column fltno    has    5868 unique values and 0.0377  % NaN values\n",
            "Column visatype has      16 unique values and 0.0     % NaN values\n"
          ],
          "name": "stdout"
        }
      ]
    },
    {
      "cell_type": "code",
      "metadata": {
        "colab": {
          "base_uri": "https://localhost:8080/"
        },
        "id": "Ua10SDZqIQ1l",
        "outputId": "88a1626a-2660-4dce-b8fc-1081e47df214"
      },
      "source": [
        "df_imigration.show(5)"
      ],
      "execution_count": 36,
      "outputs": [
        {
          "output_type": "stream",
          "text": [
            "+--------+------+------+------+------+-------+-------+-------+-------+-------+------+-------+-----+--------+--------+-----+-------+-------+-------+-------+-------+--------+------+------+-------+---------------+-----+--------+\n",
            "|   cicid| i94yr|i94mon|i94cit|i94res|i94port|arrdate|i94mode|i94addr|depdate|i94bir|i94visa|count|dtadfile|visapost|occup|entdepa|entdepd|entdepu|matflag|biryear| dtaddto|gender|insnum|airline|         admnum|fltno|visatype|\n",
            "+--------+------+------+------+------+-------+-------+-------+-------+-------+------+-------+-----+--------+--------+-----+-------+-------+-------+-------+-------+--------+------+------+-------+---------------+-----+--------+\n",
            "|459651.0|2016.0|   4.0| 135.0| 135.0|    ATL|20547.0|    1.0|     FL|20559.0|  54.0|    2.0|  1.0|20160403|    null| null|      O|      R|   null|      M| 1962.0|07012016|  null|  null|     VS|5.5556253633E10|00115|      WT|\n",
            "|459652.0|2016.0|   4.0| 135.0| 135.0|    ATL|20547.0|    1.0|     FL|20555.0|  74.0|    2.0|  1.0|20160403|    null| null|      T|      O|   null|      M| 1942.0|07012016|     F|  null|     VS|   6.74406485E8|  103|      WT|\n",
            "|459653.0|2016.0|   4.0| 135.0| 135.0|    ATL|20547.0|    1.0|     FL|20557.0|  44.0|    2.0|  1.0|20160403|    null| null|      T|      Q|   null|      M| 1972.0|10022016|     M|  null|     VS|   6.74948185E8|  109|      B2|\n",
            "|459654.0|2016.0|   4.0| 135.0| 135.0|    ATL|20547.0|    1.0|      G|20555.0|  38.0|    2.0|  1.0|20160403|    null| null|      O|      O|   null|      M| 1978.0|07012016|  null|  null|     VS|5.5541762033E10|00103|      WT|\n",
            "|459655.0|2016.0|   4.0| 135.0| 135.0|    ATL|20547.0|    1.0|     GA|   null|  64.0|    2.0|  1.0|20160403|    null| null|      G|   null|   null|   null| 1952.0|07012016|     F|  null|     VS|5.5541328433E10|00103|      WT|\n",
            "+--------+------+------+------+------+-------+-------+-------+-------+-------+------+-------+-----+--------+--------+-----+-------+-------+-------+-------+-------+--------+------+------+-------+---------------+-----+--------+\n",
            "only showing top 5 rows\n",
            "\n"
          ],
          "name": "stdout"
        }
      ]
    },
    {
      "cell_type": "code",
      "metadata": {
        "colab": {
          "base_uri": "https://localhost:8080/"
        },
        "id": "2XrrdYyPH5vx",
        "outputId": "0b3b291b-f864-4776-8e98-8b26ee44dc90"
      },
      "source": [
        "# Most of the people used air (i94mode = 1) as mode of travel. \n",
        "# There are ~17% (288136 cases) of people with no gender report \n",
        "\n",
        "df_imigration.groupby('i94mode', 'gender').count().show()"
      ],
      "execution_count": 37,
      "outputs": [
        {
          "output_type": "stream",
          "text": [
            "+-------+------+------+\n",
            "|i94mode|gender| count|\n",
            "+-------+------+------+\n",
            "|    9.0|     X|    11|\n",
            "|    1.0|     U|     5|\n",
            "|   null|  null|    84|\n",
            "|    9.0|     F|    92|\n",
            "|    1.0|  null|288136|\n",
            "|    1.0|     X|     4|\n",
            "|    1.0|     F|804490|\n",
            "|    9.0|     M|   157|\n",
            "|    2.0|     F|  5093|\n",
            "|    2.0|     M|  4830|\n",
            "|    1.0|     M|877597|\n",
            "|    2.0|  null|    21|\n",
            "|    2.0|     U|     5|\n",
            "|    2.0|     X|    20|\n",
            "|    9.0|     U|     3|\n",
            "+-------+------+------+\n",
            "\n"
          ],
          "name": "stdout"
        }
      ]
    },
    {
      "cell_type": "code",
      "metadata": {
        "colab": {
          "base_uri": "https://localhost:8080/",
          "height": 421
        },
        "id": "v314jbHNnwUo",
        "outputId": "a5d1326c-94d7-4e9a-dd89-8a88f45e0a1f"
      },
      "source": [
        "# According to the plot of this cell, more men immigrated\n",
        "\n",
        "# Creating two lists to make scatter plot\n",
        "mode = df_imigration.select('i94mode').rdd.flatMap(lambda x: x).collect()\n",
        "gender = df_imigration.select('gender').rdd.flatMap(lambda x: x).collect()\n",
        "\n",
        "# Getting the gender type\n",
        "gender_type = df_imigration.groupby('gender').count() \\\n",
        "    .rdd \\\n",
        "    .map(lambda row: {row[0]: row[1]}) \\\n",
        "    .collect()\n",
        "\n",
        "# Create a dict from gender_type\n",
        "gender_dict = {}\n",
        "for dict_item in gender_type:\n",
        "    gender_dict.update(dict_item)\n",
        "gender_dict['None'] = gender_dict.pop(None)\n",
        "\n",
        "# Plot\n",
        "colors = list(\"rgbcmyk\")\n",
        "plt.rcParams[\"figure.figsize\"] = (14,6)\n",
        "for k,v in gender_dict.items():\n",
        "    x = k\n",
        "    y = v\n",
        "    plt.scatter(x, y, s=y/np.sqrt(y), color=colors.pop())\n",
        "\n",
        "# Plot decoration\n",
        "plt.grid()\n",
        "\n",
        "plt.title('Gender by immigration', fontsize=18)\n",
        "plt.xticks(fontsize=16)\n",
        "plt.xlabel('Gender', fontsize=18)\n",
        "\n",
        "plt.yticks([10, 290_000, 810_000, 890_000,], fontsize=16)\n",
        "plt.xlabel('Quantity', fontsize=18)\n",
        "\n",
        "plt.legend(gender_dict.keys(), fontsize=18)\n",
        "plt.show()"
      ],
      "execution_count": 38,
      "outputs": [
        {
          "output_type": "display_data",
          "data": {
            "image/png": "[encoded data removed]",
            "text/plain": [
              "<Figure size 1008x432 with 1 Axes>"
            ]
          },
          "metadata": {
            "tags": [],
            "needs_background": "light"
          }
        }
      ]
    },
    {
      "cell_type": "code",
      "metadata": {
        "colab": {
          "base_uri": "https://localhost:8080/"
        },
        "id": "TbKo2JlHog2H",
        "outputId": "05f04dd0-226a-4731-976c-e200e626733d"
      },
      "source": [
        "# Type of Visa by gender\n",
        "df_imigration.groupBy('i94visa', 'gender').count().show()"
      ],
      "execution_count": 39,
      "outputs": [
        {
          "output_type": "stream",
          "text": [
            "+-------+------+------+\n",
            "|i94visa|gender| count|\n",
            "+-------+------+------+\n",
            "|    3.0|     M| 15996|\n",
            "|    1.0|  null| 84345|\n",
            "|    1.0|     X|     4|\n",
            "|    1.0|     F| 66051|\n",
            "|    3.0|     F| 14549|\n",
            "|    2.0|     F|729075|\n",
            "|    2.0|     M|642754|\n",
            "|    1.0|     M|223834|\n",
            "|    3.0|  null|     3|\n",
            "|    2.0|  null|203893|\n",
            "|    2.0|     U|    13|\n",
            "|    2.0|     X|    31|\n",
            "+-------+------+------+\n",
            "\n"
          ],
          "name": "stdout"
        }
      ]
    },
    {
      "cell_type": "markdown",
      "metadata": {
        "id": "mkRuh6F-Bpjn"
      },
      "source": [
        "# Airport dataset"
      ]
    },
    {
      "cell_type": "code",
      "metadata": {
        "id": "5yWPx7zW2Mpn"
      },
      "source": [
        "airport_path = '/content/drive/MyDrive/DataEngineer/final_project/Airport_Codes/airport-codes_csv.csv'\n",
        "df_airport = spark.read.csv(airport_path, header=True)"
      ],
      "execution_count": 40,
      "outputs": []
    },
    {
      "cell_type": "markdown",
      "metadata": {
        "id": "gPkiBv4p7ZWr"
      },
      "source": [
        "## Metadata"
      ]
    },
    {
      "cell_type": "markdown",
      "metadata": {
        "id": "y-iUXPQE7ZWs"
      },
      "source": [
        " Column | Description \n",
        "--- | ---\n",
        "`ident`         | Unique ID \n",
        " `type`         | type of the airport\n",
        " `name`         | airport name\n",
        " `elevation_ft` | altitude of the airport\n",
        " `continent`    | continent\n",
        " `iso_country`  | ISO code of the country of the airport\n",
        " `iso_region`   | ISO code for the region of the airport\n",
        " `municipality` | city where the airport is located\n",
        " `gps_code`     | GPS code of the airport\n",
        " `iata_code`    | IATA code of the airport\n",
        " `local_code`   | çocal code of the airport\n",
        " `coordinates`  | GPS coordinates of the airport"
      ]
    },
    {
      "cell_type": "code",
      "metadata": {
        "colab": {
          "base_uri": "https://localhost:8080/"
        },
        "id": "IAWfLmE17ZWv",
        "outputId": "881aa69d-2f99-4034-a364-3e139b198ccf"
      },
      "source": [
        "# Print schema dataset\n",
        "df_airport.printSchema()"
      ],
      "execution_count": 41,
      "outputs": [
        {
          "output_type": "stream",
          "text": [
            "root\n",
            " |-- ident: string (nullable = true)\n",
            " |-- type: string (nullable = true)\n",
            " |-- name: string (nullable = true)\n",
            " |-- elevation_ft: string (nullable = true)\n",
            " |-- continent: string (nullable = true)\n",
            " |-- iso_country: string (nullable = true)\n",
            " |-- iso_region: string (nullable = true)\n",
            " |-- municipality: string (nullable = true)\n",
            " |-- gps_code: string (nullable = true)\n",
            " |-- iata_code: string (nullable = true)\n",
            " |-- local_code: string (nullable = true)\n",
            " |-- coordinates: string (nullable = true)\n",
            "\n"
          ],
          "name": "stdout"
        }
      ]
    },
    {
      "cell_type": "code",
      "metadata": {
        "colab": {
          "base_uri": "https://localhost:8080/"
        },
        "id": "tC-I-h3r7ZWy",
        "outputId": "ff522b01-b8b3-4fd4-b923-c9f76de3f689"
      },
      "source": [
        "# Describe the dataset\n",
        "df_airport.describe().show()"
      ],
      "execution_count": 42,
      "outputs": [
        {
          "output_type": "stream",
          "text": [
            "+-------+--------------------+-------------+--------------------+------------------+---------+-----------+----------+---------------+--------------------+---------+-------------------+--------------------+\n",
            "|summary|               ident|         type|                name|      elevation_ft|continent|iso_country|iso_region|   municipality|            gps_code|iata_code|         local_code|         coordinates|\n",
            "+-------+--------------------+-------------+--------------------+------------------+---------+-----------+----------+---------------+--------------------+---------+-------------------+--------------------+\n",
            "|  count|               55075|        55075|               55075|             48069|    55075|      55075|     55075|          49399|               41030|     9189|              28686|               55075|\n",
            "|   mean|2.3873375337777779E8|         null|                null|1240.7896773388254|     null|       null|      null|           null|2.1920446610204083E8|      0.0|8.580556178571428E7|                null|\n",
            "| stddev| 9.492375382267495E8|         null|                null|1602.3634593484148|     null|       null|      null|           null|   9.1123224377024E8|      0.0|5.747026415216717E8|                null|\n",
            "|    min|                 00A|  balloonport|\"\"\"Der Dingel\"\" A...|                -1|       AF|         AD|     AD-04|'S Gravenvoeren|                0000|        -|                  -|-0.00472200009971...|\n",
            "|    max|                spgl|small_airport|Çá¸¾á¸á¸ á¸®á¸...|               999|       SA|         ZZ|    ZZ-U-A|        Å½ocene|                ZYYY|      ZZV|                ZZV|99.9555969238, 8....|\n",
            "+-------+--------------------+-------------+--------------------+------------------+---------+-----------+----------+---------------+--------------------+---------+-------------------+--------------------+\n",
            "\n"
          ],
          "name": "stdout"
        }
      ]
    },
    {
      "cell_type": "code",
      "metadata": {
        "colab": {
          "base_uri": "https://localhost:8080/"
        },
        "id": "G_XE61cU7ZWz",
        "outputId": "104a9a4d-692f-474b-9831-5bd7a7e5b0f7"
      },
      "source": [
        "# Count unique and NaN values in each column\n",
        "from pyspark.sql.functions import countDistinct, col, isnan, when, count\n",
        "\n",
        "len_df = df_airport.count()\n",
        "cols_names = df_airport.columns\n",
        "nuniques = df_airport.agg(*(countDistinct(col(c)).alias(c) for c in df_airport.columns)).rdd.flatMap(lambda x: x).collect()\n",
        "isnan_or_isnull = df_airport.select([count(when(isnan(c) | col(c).isNull(), c)).alias(c) for c in df_airport.columns]).rdd.flatMap(lambda x: x).collect()\n",
        "\n",
        "for col, uniq, nan in zip (cols_names, nuniques, isnan_or_isnull):\n",
        "    print(f'Column {col:<12} has {uniq:>7} unique values and {nan/len_df*100:<4.3}% NaN values')"
      ],
      "execution_count": 43,
      "outputs": [
        {
          "output_type": "stream",
          "text": [
            "Column ident        has   55075 unique values and 0.0 % NaN values\n",
            "Column type         has       7 unique values and 0.0 % NaN values\n",
            "Column name         has   52144 unique values and 0.0 % NaN values\n",
            "Column elevation_ft has    5449 unique values and 12.7% NaN values\n",
            "Column continent    has       7 unique values and 0.0 % NaN values\n",
            "Column iso_country  has     244 unique values and 0.0 % NaN values\n",
            "Column iso_region   has    2810 unique values and 0.0 % NaN values\n",
            "Column municipality has   27133 unique values and 10.3% NaN values\n",
            "Column gps_code     has   40850 unique values and 25.5% NaN values\n",
            "Column iata_code    has    9042 unique values and 83.3% NaN values\n",
            "Column local_code   has   27436 unique values and 47.9% NaN values\n",
            "Column coordinates  has   54874 unique values and 0.0 % NaN values\n"
          ],
          "name": "stdout"
        }
      ]
    },
    {
      "cell_type": "code",
      "metadata": {
        "colab": {
          "base_uri": "https://localhost:8080/"
        },
        "id": "Jt09skXA7ZW1",
        "outputId": "bed1f5db-5db2-4c67-f594-42f2d3195f81"
      },
      "source": [
        "df_airport.show(5)"
      ],
      "execution_count": 44,
      "outputs": [
        {
          "output_type": "stream",
          "text": [
            "+-----+-------------+--------------------+------------+---------+-----------+----------+------------+--------+---------+----------+--------------------+\n",
            "|ident|         type|                name|elevation_ft|continent|iso_country|iso_region|municipality|gps_code|iata_code|local_code|         coordinates|\n",
            "+-----+-------------+--------------------+------------+---------+-----------+----------+------------+--------+---------+----------+--------------------+\n",
            "|  00A|     heliport|   Total Rf Heliport|          11|       NA|         US|     US-PA|    Bensalem|     00A|     null|       00A|-74.9336013793945...|\n",
            "| 00AA|small_airport|Aero B Ranch Airport|        3435|       NA|         US|     US-KS|       Leoti|    00AA|     null|      00AA|-101.473911, 38.7...|\n",
            "| 00AK|small_airport|        Lowell Field|         450|       NA|         US|     US-AK|Anchor Point|    00AK|     null|      00AK|-151.695999146, 5...|\n",
            "| 00AL|small_airport|        Epps Airpark|         820|       NA|         US|     US-AL|     Harvest|    00AL|     null|      00AL|-86.7703018188476...|\n",
            "| 00AR|       closed|Newport Hospital ...|         237|       NA|         US|     US-AR|     Newport|    null|     null|      null| -91.254898, 35.6087|\n",
            "+-----+-------------+--------------------+------------+---------+-----------+----------+------------+--------+---------+----------+--------------------+\n",
            "only showing top 5 rows\n",
            "\n"
          ],
          "name": "stdout"
        }
      ]
    },
    {
      "cell_type": "markdown",
      "metadata": {
        "id": "mS_1sCz62NlS"
      },
      "source": [
        "# US - cities demographics dataset"
      ]
    },
    {
      "cell_type": "code",
      "metadata": {
        "id": "JQ4E6bkdFsiM"
      },
      "source": [
        "uc_cities_demographics = '/content/drive/MyDrive/DataEngineer/final_project/US_Cities_Demographics/us-cities-demographics.csv'\n",
        "df_demographics = spark.read.csv(uc_cities_demographics, header=True, sep=';')"
      ],
      "execution_count": 55,
      "outputs": []
    },
    {
      "cell_type": "markdown",
      "metadata": {
        "id": "WU8whG39FsiY"
      },
      "source": [
        "## Metadata"
      ]
    },
    {
      "cell_type": "markdown",
      "metadata": {
        "id": "A1fOxwM1Fsia"
      },
      "source": [
        "Column | Description \n",
        "--- | ---\n",
        "`city`         | name of the city\n",
        "`state`        | US state of the city\n",
        "`median age`   | the median of the age of the population\n",
        "`male population`   | number of the male population\n",
        "`female population` | number of the female population\n",
        "`total population`   | number of the total population\n",
        "`number of veterans` | number of veterans living in the city\n",
        "`foreign-born` |  number of residents of the city that were not born in the city\n",
        "`state code` | code of the state of the city\n",
        "`race` | race class\n",
        "`count` | number of individual of each race\n",
        "\n",
        "\n"
      ]
    },
    {
      "cell_type": "code",
      "metadata": {
        "colab": {
          "base_uri": "https://localhost:8080/"
        },
        "id": "zjveBxm1Fsib",
        "outputId": "e41fd241-0014-4149-b215-1333c1dfab68"
      },
      "source": [
        "# Print schema dataset\n",
        "df_demographics.printSchema()"
      ],
      "execution_count": 56,
      "outputs": [
        {
          "output_type": "stream",
          "text": [
            "root\n",
            " |-- City: string (nullable = true)\n",
            " |-- State: string (nullable = true)\n",
            " |-- Median Age: string (nullable = true)\n",
            " |-- Male Population: string (nullable = true)\n",
            " |-- Female Population: string (nullable = true)\n",
            " |-- Total Population: string (nullable = true)\n",
            " |-- Number of Veterans: string (nullable = true)\n",
            " |-- Foreign-born: string (nullable = true)\n",
            " |-- Average Household Size: string (nullable = true)\n",
            " |-- State Code: string (nullable = true)\n",
            " |-- Race: string (nullable = true)\n",
            " |-- Count: string (nullable = true)\n",
            "\n"
          ],
          "name": "stdout"
        }
      ]
    },
    {
      "cell_type": "code",
      "metadata": {
        "colab": {
          "base_uri": "https://localhost:8080/"
        },
        "id": "r-lWPwHfFsif",
        "outputId": "9ac9cde9-c7e7-47f5-cefe-69ada3d975b7"
      },
      "source": [
        "# Describe the dataset\n",
        "df_demographics.describe().show()"
      ],
      "execution_count": 57,
      "outputs": [
        {
          "output_type": "stream",
          "text": [
            "+-------+-------+---------+-----------------+------------------+------------------+------------------+------------------+------------------+----------------------+----------+--------------------+------------------+\n",
            "|summary|   City|    State|       Median Age|   Male Population| Female Population|  Total Population|Number of Veterans|      Foreign-born|Average Household Size|State Code|                Race|             Count|\n",
            "+-------+-------+---------+-----------------+------------------+------------------+------------------+------------------+------------------+----------------------+----------+--------------------+------------------+\n",
            "|  count|   2891|     2891|             2891|              2888|              2888|              2891|              2878|              2878|                  2875|      2891|                2891|              2891|\n",
            "|   mean|   null|     null|35.49488066413016| 97328.42624653739|101769.63088642659|198966.77931511588| 9367.832522585128|40653.598679638635|     2.742542608695655|      null|                null| 48963.77447250087|\n",
            "| stddev|   null|     null|4.401616730099886|216299.93692873296|231564.57257148277| 447555.9296335903| 13211.21992386408| 155749.1036650984|    0.4332910878973046|      null|                null|144385.58856460615|\n",
            "|    min|Abilene|  Alabama|             22.9|            100135|            100260|            100247|             10001|             10024|                   2.0|        AK|American Indian a...|            100055|\n",
            "|    max|   Yuma|Wisconsin|             70.5|             99967|             99430|             99897|              9988|              9929|                  4.98|        WI|               White|             99948|\n",
            "+-------+-------+---------+-----------------+------------------+------------------+------------------+------------------+------------------+----------------------+----------+--------------------+------------------+\n",
            "\n"
          ],
          "name": "stdout"
        }
      ]
    },
    {
      "cell_type": "code",
      "metadata": {
        "colab": {
          "base_uri": "https://localhost:8080/"
        },
        "id": "A9-8EfUtFsig",
        "outputId": "c90074a2-bd5e-486b-aeb7-b38f9e59ee94"
      },
      "source": [
        "# Count unique and NaN values in each column\n",
        "from pyspark.sql.functions import countDistinct, col, isnan, when, count\n",
        "\n",
        "len_df = df_demographics.count()\n",
        "cols_names = df_demographics.columns\n",
        "nuniques = df_demographics.agg(*(countDistinct(col(c)).alias(c) for c in df_demographics.columns)).rdd.flatMap(lambda x: x).collect()\n",
        "isnan_or_isnull = df_demographics.select([count(when(isnan(c) | col(c).isNull(), c)).alias(c) for c in df_demographics.columns]).rdd.flatMap(lambda x: x).collect()\n",
        "\n",
        "for col, uniq, nan in zip (cols_names, nuniques, isnan_or_isnull):\n",
        "    print(f'Column {col:<22} has {uniq:>4} unique values and {nan/len_df*100:<5.3}% NaN values')"
      ],
      "execution_count": 67,
      "outputs": [
        {
          "output_type": "stream",
          "text": [
            "Column City                   has  567 unique values and 0.0  % NaN values\n",
            "Column State                  has   49 unique values and 0.0  % NaN values\n",
            "Column Median Age             has  180 unique values and 0.0  % NaN values\n",
            "Column Male Population        has  593 unique values and 0.104% NaN values\n",
            "Column Female Population      has  594 unique values and 0.104% NaN values\n",
            "Column Total Population       has  594 unique values and 0.0  % NaN values\n",
            "Column Number of Veterans     has  577 unique values and 0.45 % NaN values\n",
            "Column Foreign-born           has  587 unique values and 0.45 % NaN values\n",
            "Column Average Household Size has  161 unique values and 0.553% NaN values\n",
            "Column State Code             has   49 unique values and 0.0  % NaN values\n",
            "Column Race                   has    5 unique values and 0.0  % NaN values\n",
            "Column Count                  has 2785 unique values and 0.0  % NaN values\n"
          ],
          "name": "stdout"
        }
      ]
    },
    {
      "cell_type": "code",
      "metadata": {
        "colab": {
          "base_uri": "https://localhost:8080/"
        },
        "id": "Fh137yDfFsii",
        "outputId": "43da138c-3de3-4334-ff10-f060215ae922"
      },
      "source": [
        "df_demographics.show(5)"
      ],
      "execution_count": 68,
      "outputs": [
        {
          "output_type": "stream",
          "text": [
            "+----------------+-------------+----------+---------------+-----------------+----------------+------------------+------------+----------------------+----------+--------------------+-----+\n",
            "|            City|        State|Median Age|Male Population|Female Population|Total Population|Number of Veterans|Foreign-born|Average Household Size|State Code|                Race|Count|\n",
            "+----------------+-------------+----------+---------------+-----------------+----------------+------------------+------------+----------------------+----------+--------------------+-----+\n",
            "|   Silver Spring|     Maryland|      33.8|          40601|            41862|           82463|              1562|       30908|                   2.6|        MD|  Hispanic or Latino|25924|\n",
            "|          Quincy|Massachusetts|      41.0|          44129|            49500|           93629|              4147|       32935|                  2.39|        MA|               White|58723|\n",
            "|          Hoover|      Alabama|      38.5|          38040|            46799|           84839|              4819|        8229|                  2.58|        AL|               Asian| 4759|\n",
            "|Rancho Cucamonga|   California|      34.5|          88127|            87105|          175232|              5821|       33878|                  3.18|        CA|Black or African-...|24437|\n",
            "|          Newark|   New Jersey|      34.6|         138040|           143873|          281913|              5829|       86253|                  2.73|        NJ|               White|76402|\n",
            "+----------------+-------------+----------+---------------+-----------------+----------------+------------------+------------+----------------------+----------+--------------------+-----+\n",
            "only showing top 5 rows\n",
            "\n"
          ],
          "name": "stdout"
        }
      ]
    },
    {
      "cell_type": "markdown",
      "metadata": {
        "id": "reaQCHnc2VRj"
      },
      "source": [
        "# Temperature dataset"
      ]
    },
    {
      "cell_type": "code",
      "metadata": {
        "id": "NpEELkz8Ftp7"
      },
      "source": [
        "temperature_path = '/content/drive/MyDrive/DataEngineer/final_project/Climate_Change/GlobalLandTemperaturesByCity.csv'\n",
        "df_temperature = spark.read.csv(temperature_path, header=True)"
      ],
      "execution_count": 77,
      "outputs": []
    },
    {
      "cell_type": "markdown",
      "metadata": {
        "id": "VFzqu_0gFtp9"
      },
      "source": [
        "## Metadata"
      ]
    },
    {
      "cell_type": "markdown",
      "metadata": {
        "id": "hDF-E4rsFtp-"
      },
      "source": [
        "\n",
        "\n",
        "Column | Description \n",
        "--- | ---\n",
        "`dt` | date in format YYYY-MM-DD\n",
        "`average temperature` | average temperature of the city in a given date\n",
        "`city` | city name\n",
        "`country`\t| country name\n",
        "`latitude` |\tlatitude\n",
        "`longitude` |\tlongitude\n"
      ]
    },
    {
      "cell_type": "code",
      "metadata": {
        "colab": {
          "base_uri": "https://localhost:8080/"
        },
        "id": "djph6rpjFtp_",
        "outputId": "2a572513-ba7a-46a6-cb80-4e16d62ef8cf"
      },
      "source": [
        "# Print schema dataset\n",
        "df_temperature.printSchema()"
      ],
      "execution_count": 79,
      "outputs": [
        {
          "output_type": "stream",
          "text": [
            "root\n",
            " |-- dt: string (nullable = true)\n",
            " |-- AverageTemperature: string (nullable = true)\n",
            " |-- AverageTemperatureUncertainty: string (nullable = true)\n",
            " |-- City: string (nullable = true)\n",
            " |-- Country: string (nullable = true)\n",
            " |-- Latitude: string (nullable = true)\n",
            " |-- Longitude: string (nullable = true)\n",
            "\n"
          ],
          "name": "stdout"
        }
      ]
    },
    {
      "cell_type": "code",
      "metadata": {
        "id": "btjehBI2FtqB"
      },
      "source": [
        "# Describe the dataset\n",
        "df_temperature.describe().show()"
      ],
      "execution_count": null,
      "outputs": []
    },
    {
      "cell_type": "code",
      "metadata": {
        "colab": {
          "base_uri": "https://localhost:8080/"
        },
        "id": "BmCB0q1QFtqC",
        "outputId": "10df40d6-0f19-4aa7-f36e-fd1baa88b343"
      },
      "source": [
        "# Count unique and NaN values in each column\n",
        "from pyspark.sql.functions import countDistinct, col, isnan, when, count\n",
        "\n",
        "len_df = df_temperature.count()\n",
        "cols_names = df_temperature.columns\n",
        "nuniques = df_temperature.agg(*(countDistinct(col(c)).alias(c) for c in df_temperature.columns)).rdd.flatMap(lambda x: x).collect()\n",
        "isnan_or_isnull = df_temperature.select([count(when(isnan(c) | col(c).isNull(), c)).alias(c) for c in df_temperature.columns]).rdd.flatMap(lambda x: x).collect()\n",
        "\n",
        "for col, uniq, nan in zip (cols_names, nuniques, isnan_or_isnull):\n",
        "    print(f'Column {col:<29} has {uniq:>6} unique values and {nan/len_df*100:<4.3}% NaN values')"
      ],
      "execution_count": 75,
      "outputs": [
        {
          "output_type": "stream",
          "text": [
            "Column dt                            has   3239 unique values and 0.0 % NaN values\n",
            "Column AverageTemperature            has 113163 unique values and 4.23% NaN values\n",
            "Column AverageTemperatureUncertainty has  10902 unique values and 4.23% NaN values\n",
            "Column City                          has   3448 unique values and 0.0 % NaN values\n",
            "Column Country                       has    159 unique values and 0.0 % NaN values\n",
            "Column Latitude                      has     73 unique values and 0.0 % NaN values\n",
            "Column Longitude                     has   1227 unique values and 0.0 % NaN values\n"
          ],
          "name": "stdout"
        }
      ]
    },
    {
      "cell_type": "code",
      "metadata": {
        "colab": {
          "base_uri": "https://localhost:8080/"
        },
        "id": "bvLDGod_FtqE",
        "outputId": "e8f7b8c1-6008-4201-f426-7a5d5701fd12"
      },
      "source": [
        "df_temperature.show(5)"
      ],
      "execution_count": 76,
      "outputs": [
        {
          "output_type": "stream",
          "text": [
            "+----------+------------------+-----------------------------+-----+-------+--------+---------+\n",
            "|        dt|AverageTemperature|AverageTemperatureUncertainty| City|Country|Latitude|Longitude|\n",
            "+----------+------------------+-----------------------------+-----+-------+--------+---------+\n",
            "|1743-11-01|             6.068|           1.7369999999999999|Århus|Denmark|  57.05N|   10.33E|\n",
            "|1743-12-01|              null|                         null|Århus|Denmark|  57.05N|   10.33E|\n",
            "|1744-01-01|              null|                         null|Århus|Denmark|  57.05N|   10.33E|\n",
            "|1744-02-01|              null|                         null|Århus|Denmark|  57.05N|   10.33E|\n",
            "|1744-03-01|              null|                         null|Århus|Denmark|  57.05N|   10.33E|\n",
            "+----------+------------------+-----------------------------+-----+-------+--------+---------+\n",
            "only showing top 5 rows\n",
            "\n"
          ],
          "name": "stdout"
        }
      ]
    }
  ]
}