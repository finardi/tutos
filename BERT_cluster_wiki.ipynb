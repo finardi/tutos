{
  "nbformat": 4,
  "nbformat_minor": 0,
  "metadata": {
    "colab": {
      "name": "BERT-cluster wiki.ipynb",
      "provenance": [],
      "mount_file_id": "1SFgFCVuKQyAe0EA7SNi0nueMqPXsX9fI",
      "authorship_tag": "ABX9TyN3pl+HmuayKXDfNCXNoaq4",
      "include_colab_link": true
    },
    "kernelspec": {
      "name": "python3",
      "display_name": "Python 3"
    },
    "accelerator": "GPU"
  },
  "cells": [
    {
      "cell_type": "markdown",
      "metadata": {
        "id": "view-in-github",
        "colab_type": "text"
      },
      "source": [
        "<a href=\"https://colab.research.google.com/github/finardi/tutos/blob/master/BERT_cluster_wiki.ipynb\" target=\"_parent\"><img src=\"https://colab.research.google.com/assets/colab-badge.svg\" alt=\"Open In Colab\"/></a>"
      ]
    },
    {
      "cell_type": "code",
      "metadata": {
        "id": "Cy9Rm7Dp3623",
        "colab_type": "code",
        "colab": {
          "base_uri": "https://localhost:8080/",
          "height": 357
        },
        "outputId": "27ac9eec-9932-4aa1-b9d1-76a4ec3fd1fb"
      },
      "source": [
        "!nvidia-smi"
      ],
      "execution_count": 11,
      "outputs": [
        {
          "output_type": "stream",
          "text": [
            "Sat Aug 22 16:01:34 2020       \n",
            "+-----------------------------------------------------------------------------+\n",
            "| NVIDIA-SMI 450.57       Driver Version: 418.67       CUDA Version: 10.1     |\n",
            "|-------------------------------+----------------------+----------------------+\n",
            "| GPU  Name        Persistence-M| Bus-Id        Disp.A | Volatile Uncorr. ECC |\n",
            "| Fan  Temp  Perf  Pwr:Usage/Cap|         Memory-Usage | GPU-Util  Compute M. |\n",
            "|                               |                      |               MIG M. |\n",
            "|===============================+======================+======================|\n",
            "|   0  Tesla T4            Off  | 00000000:00:04.0 Off |                    0 |\n",
            "| N/A   60C    P0    30W /  70W |   2075MiB / 15079MiB |      0%      Default |\n",
            "|                               |                      |                 ERR! |\n",
            "+-------------------------------+----------------------+----------------------+\n",
            "                                                                               \n",
            "+-----------------------------------------------------------------------------+\n",
            "| Processes:                                                                  |\n",
            "|  GPU   GI   CI        PID   Type   Process name                  GPU Memory |\n",
            "|        ID   ID                                                   Usage      |\n",
            "|=============================================================================|\n",
            "|  No running processes found                                                 |\n",
            "+-----------------------------------------------------------------------------+\n"
          ],
          "name": "stdout"
        }
      ]
    },
    {
      "cell_type": "code",
      "metadata": {
        "id": "8XWSuT-KoVw8",
        "colab_type": "code",
        "colab": {
          "base_uri": "https://localhost:8080/",
          "height": 136
        },
        "outputId": "0cd4a3f4-b419-4477-e564-31dfe33d717d"
      },
      "source": [
        "!pip install -q sentence-transformers"
      ],
      "execution_count": 1,
      "outputs": [
        {
          "output_type": "stream",
          "text": [
            "\u001b[K     |████████████████████████████████| 71kB 4.6MB/s \n",
            "\u001b[K     |████████████████████████████████| 778kB 14.1MB/s \n",
            "\u001b[K     |████████████████████████████████| 3.0MB 24.4MB/s \n",
            "\u001b[K     |████████████████████████████████| 1.1MB 58.3MB/s \n",
            "\u001b[K     |████████████████████████████████| 890kB 54.8MB/s \n",
            "\u001b[?25h  Building wheel for sentence-transformers (setup.py) ... \u001b[?25l\u001b[?25hdone\n",
            "  Building wheel for sacremoses (setup.py) ... \u001b[?25l\u001b[?25hdone\n"
          ],
          "name": "stdout"
        }
      ]
    },
    {
      "cell_type": "code",
      "metadata": {
        "id": "YFZxpt8KZkHG",
        "colab_type": "code",
        "colab": {}
      },
      "source": [
        "from sentence_transformers import SentenceTransformer\n",
        "from sklearn.cluster import AgglomerativeClustering\n",
        "\n",
        "import requests\n",
        "from torch import Tensor, device\n",
        "from typing import Tuple, List\n",
        "from tqdm import tqdm\n",
        "import sys\n",
        "import importlib\n",
        "import os\n",
        "import torch\n",
        "import numpy as np\n",
        "import queue\n",
        "import csv\n",
        "import pickle\n",
        "import time"
      ],
      "execution_count": 8,
      "outputs": []
    },
    {
      "cell_type": "code",
      "metadata": {
        "id": "oQsQv_4Zm9F5",
        "colab_type": "code",
        "colab": {}
      },
      "source": [
        "def pytorch_cos_sim(a: Tensor, b: Tensor):\n",
        "    \"\"\"\n",
        "    Computes the cosine similarity cos_sim(a[i], b[j]) for all i and j.\n",
        "    This function can be used as a faster replacement for 1-scipy.spatial.distance.cdist(a,b)\n",
        "    :return: Matrix with res[i][j]  = cos_sim(a[i], b[j])\n",
        "    \"\"\"\n",
        "    if len(a.shape) == 1:\n",
        "        a = a.unsqueeze(0)\n",
        "\n",
        "    if len(b.shape) == 1:\n",
        "        b = b.unsqueeze(0)\n",
        "\n",
        "    a_norm = a / a.norm(dim=1)[:, None]\n",
        "    b_norm = b / b.norm(dim=1)[:, None]\n",
        "    return torch.mm(a_norm, b_norm.transpose(0, 1))\n",
        "\n",
        "\n",
        "\n",
        "def paraphrase_mining(model,\n",
        "                      sentences: List[str],\n",
        "                      show_progress_bar=False,\n",
        "                      batch_size=32,\n",
        "                      query_chunk_size: int = 5000,\n",
        "                      corpus_chunk_size: int = 100000,\n",
        "                      max_pairs: int = 500000,\n",
        "                      top_k: int = 100):\n",
        "    \"\"\"\n",
        "    Given a list of sentences / texts, this function performs paraphrase mining. It compares all sentences against all\n",
        "    other sentences and returns a list with the pairs that have the highest cosine similarity score.\n",
        "\n",
        "    :param model: SentenceTransformer model for embedding computation\n",
        "    :param sentences: A list of strings (texts or sentences)\n",
        "    :param show_progress_bar: Plotting of a progress bar\n",
        "    :param batch_size: Number of texts that are encoded simultaneously by the model\n",
        "    :param query_chunk_size: Search for most similar pairs for #query_chunk_size at the same time. Decrease, to lower memory footprint (increases run-time).\n",
        "    :param corpus_chunk_size: Compare a sentence simultaneously against #corpus_chunk_size other sentences. Decrease, to lower memory footprint (increases run-time).\n",
        "    :param max_pairs: Maximal number of text pairs returned.\n",
        "    :param top_k: For each sentence, we retrieve up to top_k other sentences\n",
        "    :return: Returns a list of triplets with the format [score, id1, id2]\n",
        "    \"\"\"\n",
        "\n",
        "    top_k += 1  #A sentence has the highest similarity to itself. Increase +1 as we are interest in distinct pairs\n",
        "\n",
        "    # Compute embedding for the sentences\n",
        "    embeddings = model.encode(sentences, show_progress_bar=show_progress_bar, batch_size=batch_size,\n",
        "                              convert_to_tensor=True)\n",
        "\n",
        "    # Mine for duplicates\n",
        "    pairs = queue.PriorityQueue()\n",
        "    min_score = -1\n",
        "    num_added = 0\n",
        "\n",
        "    for corpus_start_idx in range(0, len(embeddings), corpus_chunk_size):\n",
        "        corpus_end_idx = min(corpus_start_idx + corpus_chunk_size, len(embeddings))\n",
        "        for query_start_idx in range(0, len(embeddings), query_chunk_size):\n",
        "            query_end_idx = min(query_start_idx + query_chunk_size, len(embeddings))\n",
        "\n",
        "            # logging.info(\"Compute cosine similarities\")\n",
        "            cos_scores = pytorch_cos_sim(embeddings[query_start_idx:query_end_idx],\n",
        "                                         embeddings[corpus_start_idx:corpus_end_idx]).cpu().numpy()\n",
        "            cos_scores = np.nan_to_num(cos_scores)\n",
        "\n",
        "            # logging.info(\"Sort scores\")\n",
        "            cos_score_argpartition = np.argpartition(-cos_scores, min(len(cos_scores)-1, top_k))\n",
        "\n",
        "            # logging.info(\"Find most similar pairs out of {} queries\".format(len(cos_scores)))\n",
        "            for query_itr in range(len(cos_scores)):\n",
        "                for corpus_itr in cos_score_argpartition[query_itr][0:top_k]:\n",
        "                    i = query_start_idx + query_itr\n",
        "                    j = corpus_start_idx + corpus_itr\n",
        "\n",
        "                    if i != j and cos_scores[query_itr][corpus_itr] > min_score:\n",
        "                        pairs.put((cos_scores[query_itr][corpus_itr], i, j))\n",
        "                        num_added += 1\n",
        "\n",
        "                        if num_added >= max_pairs:\n",
        "                            entry = pairs.get()\n",
        "                            min_score = entry[0]\n",
        "\n",
        "    # Get the pairs\n",
        "    added_pairs = set()  # Used for duplicate detection\n",
        "    pairs_list = []\n",
        "    while not pairs.empty():\n",
        "        score, i, j = pairs.get()\n",
        "        sorted_i, sorted_j = sorted([i, j])\n",
        "\n",
        "        if sorted_i != sorted_j and (sorted_i, sorted_j) not in added_pairs:\n",
        "            added_pairs.add((sorted_i, sorted_j))\n",
        "            pairs_list.append([score, i, j])\n",
        "\n",
        "    # Highest scores first\n",
        "    pairs_list = sorted(pairs_list, key=lambda x: x[0], reverse=True)\n",
        "    return pairs_list\n",
        "\n",
        "\n",
        "def information_retrieval(*args, **kwargs):\n",
        "    \"\"\"This function is decprecated. Use semantic_search insted\"\"\"\n",
        "    return semantic_search(*args, **kwargs)\n",
        "\n",
        "\n",
        "def semantic_search(query_embeddings: Tensor,\n",
        "                      corpus_embeddings: Tensor,\n",
        "                      query_chunk_size: int = 100,\n",
        "                      corpus_chunk_size: int = 100000,\n",
        "                      top_k: int = 10):\n",
        "    \"\"\"\n",
        "    This function performs a cosine similarity search between a list of query embeddings  and a list of corpus embeddings.\n",
        "    It can be used for Information Retrieval / Semantic Search for corpora up to about 1 Million entries.\n",
        "\n",
        "    :param query_embeddings: A 2 dimensional tensor with the query embeddings.\n",
        "    :param corpus_embeddings: A 2 dimensional tensor with the corpus embeddings.\n",
        "    :param query_chunk_size: Process 100 queries simultaneously. Increasing that value increases the speed, but requires more memory.\n",
        "    :param corpus_chunk_size: Scans the corpus 100k entries at a time. Increasing that value increases the speed, but requires more memory.\n",
        "    :param top_k: Retrieve top k matching entries. Note, if your corpus is larger than query_chunk_size, |Chunks|*top_k are returned\n",
        "    :return: Returns a sorted list with decreasing cosine similarity scores. Entries are dictionaries with the keys 'corpus_id' and 'score'\n",
        "    \"\"\"\n",
        "\n",
        "    if isinstance(query_embeddings, (np.ndarray, np.generic)):\n",
        "        query_embeddings = torch.from_numpy(query_embeddings)\n",
        "    elif isinstance(query_embeddings, list):\n",
        "        query_embeddings = torch.stack(query_embeddings)\n",
        "\n",
        "    if len(query_embeddings.shape) == 1:\n",
        "        query_embeddings = query_embeddings.unsqueeze(0)\n",
        "\n",
        "    if isinstance(corpus_embeddings, (np.ndarray, np.generic)):\n",
        "        corpus_embeddings = torch.from_numpy(corpus_embeddings)\n",
        "    elif isinstance(corpus_embeddings, list):\n",
        "        corpus_embeddings = torch.stack(corpus_embeddings)\n",
        "\n",
        "    #Normalize scores, so that the dot-product is equivalent to cosine similarity\n",
        "    query_embeddings = query_embeddings / query_embeddings.norm(dim=1)[:, None]\n",
        "    corpus_embeddings = corpus_embeddings / corpus_embeddings.norm(dim=1)[:, None]\n",
        "\n",
        "    queries_result_list = [[] for _ in range(len(query_embeddings))]\n",
        "\n",
        "    for query_start_idx in range(0, len(query_embeddings), query_chunk_size):\n",
        "        query_end_idx = min(query_start_idx + query_chunk_size, len(query_embeddings))\n",
        "\n",
        "        # Iterate over chunks of the corpus\n",
        "        for corpus_start_idx in range(0, len(corpus_embeddings), corpus_chunk_size):\n",
        "            corpus_end_idx = min(corpus_start_idx + corpus_chunk_size, len(corpus_embeddings))\n",
        "\n",
        "            # Compute cosine similarites\n",
        "            cos_scores = torch.mm(query_embeddings[query_start_idx:query_end_idx], corpus_embeddings[corpus_start_idx:corpus_end_idx].transpose(0, 1)).cpu().numpy()\n",
        "            cos_scores = np.nan_to_num(cos_scores)\n",
        "\n",
        "            # Partial sort scores\n",
        "            cos_score_argpartition = np.argpartition(-cos_scores, min(top_k, len(cos_scores[0])-1))[:, 0:top_k]\n",
        "\n",
        "            for query_itr in range(len(cos_scores)):\n",
        "                for sub_corpus_id in cos_score_argpartition[query_itr]:\n",
        "                    corpus_id = corpus_start_idx + sub_corpus_id\n",
        "                    query_id = query_start_idx + query_itr\n",
        "                    score = cos_scores[query_itr][sub_corpus_id]\n",
        "                    queries_result_list[query_id].append({'corpus_id': corpus_id, 'score': score})\n",
        "\n",
        "    #Sort and strip to top_k results\n",
        "    for idx in range(len(queries_result_list)):\n",
        "        queries_result_list[idx] = sorted(queries_result_list[idx], key=lambda x: x['score'], reverse=True)\n",
        "        queries_result_list[idx] = queries_result_list[idx][0:top_k]\n",
        "\n",
        "    return queries_result_list\n",
        "\n",
        "\n",
        "def http_get(url, path):\n",
        "    \"\"\"\n",
        "    Downloads a URL to a given path on disc\n",
        "    \"\"\"\n",
        "    req = requests.get(url, stream=True)\n",
        "    if req.status_code != 200:\n",
        "        print(\"Exception when trying to download {}. Response {}\".format(url, req.status_code), file=sys.stderr)\n",
        "        req.raise_for_status()\n",
        "        return\n",
        "\n",
        "    download_filepath = path+\"_part\"\n",
        "    with open(download_filepath, \"wb\") as file_binary:\n",
        "        content_length = req.headers.get('Content-Length')\n",
        "        total = int(content_length) if content_length is not None else None\n",
        "        progress = tqdm(unit=\"B\", total=total, unit_scale=True)\n",
        "        for chunk in req.iter_content(chunk_size=1024):\n",
        "            if chunk: # filter out keep-alive new chunks\n",
        "                progress.update(len(chunk))\n",
        "                file_binary.write(chunk)\n",
        "\n",
        "    os.rename(download_filepath, path)\n",
        "    progress.close()\n",
        "\n",
        "\n",
        "def batch_to_device(batch, target_device: device):\n",
        "    \"\"\"\n",
        "    send a pytorch batch to a device (CPU/GPU)\n",
        "    \"\"\"\n",
        "    features = batch['features']\n",
        "    for paired_sentence_idx in range(len(features)):\n",
        "        for feature_name in features[paired_sentence_idx]:\n",
        "            features[paired_sentence_idx][feature_name] = features[paired_sentence_idx][feature_name].to(target_device)\n",
        "\n",
        "    labels = batch['labels'].to(target_device)\n",
        "    return features, labels\n",
        "\n",
        "\n",
        "def fullname(o):\n",
        "  \"\"\"\n",
        "  Gives a full name (package_name.class_name) for a class / object in Python. Will\n",
        "  be used to load the correct classes from JSON files\n",
        "  \"\"\"\n",
        "\n",
        "  module = o.__class__.__module__\n",
        "  if module is None or module == str.__class__.__module__:\n",
        "    return o.__class__.__name__  # Avoid reporting __builtin__\n",
        "  else:\n",
        "    return module + '.' + o.__class__.__name__\n",
        "\n",
        "def import_from_string(dotted_path):\n",
        "    \"\"\"\n",
        "    Import a dotted module path and return the attribute/class designated by the\n",
        "    last name in the path. Raise ImportError if the import failed.\n",
        "    \"\"\"\n",
        "    try:\n",
        "        module_path, class_name = dotted_path.rsplit('.', 1)\n",
        "    except ValueError:\n",
        "        msg = \"%s doesn't look like a module path\" % dotted_path\n",
        "        raise ImportError(msg)\n",
        "\n",
        "    module = importlib.import_module(module_path)\n",
        "\n",
        "    try:\n",
        "        return getattr(module, class_name)\n",
        "    except AttributeError:\n",
        "        msg = 'Module \"%s\" does not define a \"%s\" attribute/class' % (module_path, class_name)\n",
        "        raise ImportError(msg)"
      ],
      "execution_count": 9,
      "outputs": []
    },
    {
      "cell_type": "code",
      "metadata": {
        "id": "yQhgXIr8Zj15",
        "colab_type": "code",
        "colab": {
          "base_uri": "https://localhost:8080/",
          "height": 496
        },
        "outputId": "e0e5d8b4-f2da-43f9-becc-da5914931c86"
      },
      "source": [
        "\"\"\"\n",
        "This examples clusters different sentences that come from the same wikipedia article.\n",
        "It uses the 'wikipedia-sections' model, a model that was trained to differentiate if two sentences from the\n",
        "same article come from the same section or from different sections in that article.\n",
        "\"\"\"\n",
        "\n",
        "embedder = SentenceTransformer('bert-base-wikipedia-sections-mean-tokens')\n",
        "\n",
        "#Sentences and sections are from Wikipeda.\n",
        "#Source: https://en.wikipedia.org/wiki/Bushnell,_Illinois\n",
        "corpus = [\n",
        "(\"Bushnell is located at 40°33′6″N 90°30′29″W (40.551667, -90.507921).\", \"Geography\"),\n",
        "(\"According to the 2010 census, Bushnell has a total area of 2.138 square miles (5.54 km2), of which 2.13 square miles (5.52 km2) (or 99.63%) is land and 0.008 square miles (0.02 km2) (or 0.37%) is water.\", \"Geography\"),\n",
        "\n",
        "(\"The town was founded in 1854 when the Northern Cross Railroad built a line through the area.\", \"History\"),\n",
        "(\"Nehemiah Bushnell was the President of the Railroad, and townspeople honored him by naming their community after him. \", \"History\"),\n",
        "(\"Bushnell was also served by the Toledo, Peoria and Western Railway, now the Keokuk Junction Railway.\", \"History\"),\n",
        "\n",
        "(\"As of the census[6] of 2000, there were 3,221 people, 1,323 households, and 889 families residing in the city. \", \"Demographics\"),\n",
        "(\"The population density was 1,573.9 people per square mile (606.7/km²).\", \"Demographics\"),\n",
        "(\"There were 1,446 housing units at an average density of 706.6 per square mile (272.3/km²).\", \"Demographics\"),\n",
        "\n",
        "(\"From 1991 to 2012, Bushnell was home to one of the largest Christian Music and Arts festivals in the world, known as the Cornerstone Festival.\", \"Music\"),\n",
        "(\"Each year around the 4th of July, 25,000 people from all over the world would descend on the small farm town to watch over 300 bands, authors and artists perform at the Cornerstone Farm Campgrounds.\", \"Music\"),\n",
        "(\"The festival was generally well received by locals, and businesses in the area would typically put up signs welcoming festival-goers to their town.\", \"Music\"),\n",
        "(\"As a result of the location of the music festival, numerous live albums and videos have been recorded or filmed in Bushnell, including the annual Cornerstone Festival DVD. \", \"Music\"),\n",
        "(\"Cornerstone held its final festival in 2012 and no longer operates.\", \"Music\"),\n",
        "\n",
        "(\"Beginning in 1908, the Truman Pioneer Stud Farm in Bushnell was home to one of the largest horse shows in the Midwest.\", \"Horse show\"),\n",
        "(\"The show was well known for imported European horses.\", \"Horse show\"),\n",
        "(\"The Bushnell Horse Show features some of the best Belgian and Percheron hitches in the country. Teams have come from many different states and Canada to compete.\", \"Horse show\"),\n",
        "]\n",
        "\n",
        "sentences = [row[0] for row in corpus]\n",
        "\n",
        "corpus_embeddings = embedder.encode(sentences)\n",
        "num_clusters = len(set([row[1] for row in corpus]))\n",
        "\n",
        "#Sklearn clustering\n",
        "km = AgglomerativeClustering(n_clusters=num_clusters)\n",
        "km.fit(corpus_embeddings)\n",
        "\n",
        "cluster_assignment = km.labels_\n",
        "\n",
        "\n",
        "clustered_sentences = [[] for i in range(num_clusters)]\n",
        "for sentence_id, cluster_id in enumerate(cluster_assignment):\n",
        "    clustered_sentences[cluster_id].append(corpus[sentence_id])\n",
        "\n",
        "for i, cluster in enumerate(clustered_sentences):\n",
        "    print(\"Cluster \", i+1)\n",
        "    for row in cluster:\n",
        "        print(\"(Gold label: {}) - {}\".format(row[1], row[0]))\n",
        "    print(\"\")"
      ],
      "execution_count": 10,
      "outputs": [
        {
          "output_type": "stream",
          "text": [
            "100%|██████████| 405M/405M [00:05<00:00, 75.5MB/s]\n"
          ],
          "name": "stderr"
        },
        {
          "output_type": "stream",
          "text": [
            "Cluster  1\n",
            "(Gold label: Geography) - Bushnell is located at 40°33′6″N 90°30′29″W (40.551667, -90.507921).\n",
            "(Gold label: Geography) - According to the 2010 census, Bushnell has a total area of 2.138 square miles (5.54 km2), of which 2.13 square miles (5.52 km2) (or 99.63%) is land and 0.008 square miles (0.02 km2) (or 0.37%) is water.\n",
            "\n",
            "Cluster  2\n",
            "(Gold label: Music) - From 1991 to 2012, Bushnell was home to one of the largest Christian Music and Arts festivals in the world, known as the Cornerstone Festival.\n",
            "(Gold label: Music) - Each year around the 4th of July, 25,000 people from all over the world would descend on the small farm town to watch over 300 bands, authors and artists perform at the Cornerstone Farm Campgrounds.\n",
            "(Gold label: Music) - The festival was generally well received by locals, and businesses in the area would typically put up signs welcoming festival-goers to their town.\n",
            "(Gold label: Music) - As a result of the location of the music festival, numerous live albums and videos have been recorded or filmed in Bushnell, including the annual Cornerstone Festival DVD. \n",
            "(Gold label: Music) - Cornerstone held its final festival in 2012 and no longer operates.\n",
            "\n",
            "Cluster  3\n",
            "(Gold label: Demographics) - As of the census[6] of 2000, there were 3,221 people, 1,323 households, and 889 families residing in the city. \n",
            "(Gold label: Demographics) - The population density was 1,573.9 people per square mile (606.7/km²).\n",
            "(Gold label: Demographics) - There were 1,446 housing units at an average density of 706.6 per square mile (272.3/km²).\n",
            "\n",
            "Cluster  4\n",
            "(Gold label: History) - The town was founded in 1854 when the Northern Cross Railroad built a line through the area.\n",
            "(Gold label: History) - Nehemiah Bushnell was the President of the Railroad, and townspeople honored him by naming their community after him. \n",
            "(Gold label: History) - Bushnell was also served by the Toledo, Peoria and Western Railway, now the Keokuk Junction Railway.\n",
            "\n",
            "Cluster  5\n",
            "(Gold label: Horse show) - Beginning in 1908, the Truman Pioneer Stud Farm in Bushnell was home to one of the largest horse shows in the Midwest.\n",
            "(Gold label: Horse show) - The show was well known for imported European horses.\n",
            "(Gold label: Horse show) - The Bushnell Horse Show features some of the best Belgian and Percheron hitches in the country. Teams have come from many different states and Canada to compete.\n",
            "\n"
          ],
          "name": "stdout"
        }
      ]
    },
    {
      "cell_type": "code",
      "metadata": {
        "id": "ZclIIL9jZjt-",
        "colab_type": "code",
        "colab": {}
      },
      "source": [
        ""
      ],
      "execution_count": null,
      "outputs": []
    },
    {
      "cell_type": "code",
      "metadata": {
        "id": "ozdAudE7Zjlz",
        "colab_type": "code",
        "colab": {}
      },
      "source": [
        ""
      ],
      "execution_count": null,
      "outputs": []
    },
    {
      "cell_type": "code",
      "metadata": {
        "id": "TEJa5FLqZjeO",
        "colab_type": "code",
        "colab": {}
      },
      "source": [
        ""
      ],
      "execution_count": null,
      "outputs": []
    },
    {
      "cell_type": "code",
      "metadata": {
        "id": "vZX6ftfEZjVH",
        "colab_type": "code",
        "colab": {}
      },
      "source": [
        ""
      ],
      "execution_count": null,
      "outputs": []
    },
    {
      "cell_type": "code",
      "metadata": {
        "id": "IueteBTyZjFz",
        "colab_type": "code",
        "colab": {}
      },
      "source": [
        ""
      ],
      "execution_count": null,
      "outputs": []
    },
    {
      "cell_type": "code",
      "metadata": {
        "id": "jSF32VMjZi9e",
        "colab_type": "code",
        "colab": {}
      },
      "source": [
        ""
      ],
      "execution_count": null,
      "outputs": []
    },
    {
      "cell_type": "code",
      "metadata": {
        "id": "hZVfwM9EZi1p",
        "colab_type": "code",
        "colab": {}
      },
      "source": [
        ""
      ],
      "execution_count": null,
      "outputs": []
    },
    {
      "cell_type": "code",
      "metadata": {
        "id": "mM4OFS3gZitP",
        "colab_type": "code",
        "colab": {}
      },
      "source": [
        ""
      ],
      "execution_count": null,
      "outputs": []
    },
    {
      "cell_type": "code",
      "metadata": {
        "id": "l7GqHURBZifX",
        "colab_type": "code",
        "colab": {}
      },
      "source": [
        ""
      ],
      "execution_count": null,
      "outputs": []
    },
    {
      "cell_type": "code",
      "metadata": {
        "id": "vqbVKmb5ZiXP",
        "colab_type": "code",
        "colab": {}
      },
      "source": [
        ""
      ],
      "execution_count": null,
      "outputs": []
    },
    {
      "cell_type": "code",
      "metadata": {
        "id": "CvgNf8nIZiPx",
        "colab_type": "code",
        "colab": {}
      },
      "source": [
        ""
      ],
      "execution_count": null,
      "outputs": []
    },
    {
      "cell_type": "code",
      "metadata": {
        "id": "8xkMUWYhZiHa",
        "colab_type": "code",
        "colab": {}
      },
      "source": [
        ""
      ],
      "execution_count": null,
      "outputs": []
    },
    {
      "cell_type": "code",
      "metadata": {
        "id": "ggJYuzSoZhvT",
        "colab_type": "code",
        "colab": {}
      },
      "source": [
        ""
      ],
      "execution_count": null,
      "outputs": []
    },
    {
      "cell_type": "code",
      "metadata": {
        "id": "ZUFP3PkwZhnN",
        "colab_type": "code",
        "colab": {}
      },
      "source": [
        ""
      ],
      "execution_count": null,
      "outputs": []
    },
    {
      "cell_type": "code",
      "metadata": {
        "id": "3RJ5HykdZhgP",
        "colab_type": "code",
        "colab": {}
      },
      "source": [
        ""
      ],
      "execution_count": null,
      "outputs": []
    },
    {
      "cell_type": "code",
      "metadata": {
        "id": "qTB5X8PJZhY8",
        "colab_type": "code",
        "colab": {}
      },
      "source": [
        ""
      ],
      "execution_count": null,
      "outputs": []
    },
    {
      "cell_type": "code",
      "metadata": {
        "id": "YwnJtfQlZhRb",
        "colab_type": "code",
        "colab": {}
      },
      "source": [
        ""
      ],
      "execution_count": null,
      "outputs": []
    },
    {
      "cell_type": "code",
      "metadata": {
        "id": "B-_ZUKRyZhJr",
        "colab_type": "code",
        "colab": {}
      },
      "source": [
        ""
      ],
      "execution_count": null,
      "outputs": []
    },
    {
      "cell_type": "code",
      "metadata": {
        "id": "OXXLKvc4ZhBh",
        "colab_type": "code",
        "colab": {}
      },
      "source": [
        ""
      ],
      "execution_count": null,
      "outputs": []
    },
    {
      "cell_type": "code",
      "metadata": {
        "id": "aPID4LlFZg40",
        "colab_type": "code",
        "colab": {}
      },
      "source": [
        ""
      ],
      "execution_count": null,
      "outputs": []
    },
    {
      "cell_type": "code",
      "metadata": {
        "id": "cZh6a39oofkl",
        "colab_type": "code",
        "colab": {
          "base_uri": "https://localhost:8080/",
          "height": 34
        },
        "outputId": "48a09c7f-1b22-44c7-c43e-97aad6ad4e82"
      },
      "source": [
        "from sentence_transformers import SentenceTransformer\n",
        "model = SentenceTransformer('bert-base-nli-mean-tokens')\n"
      ],
      "execution_count": null,
      "outputs": [
        {
          "output_type": "stream",
          "text": [
            "100%|██████████| 405M/405M [00:27<00:00, 14.8MB/s]\n"
          ],
          "name": "stderr"
        }
      ]
    },
    {
      "cell_type": "code",
      "metadata": {
        "id": "7em4uqYgvGNa",
        "colab_type": "code",
        "colab": {}
      },
      "source": [
        "import requests\n",
        "from torch import Tensor, device\n",
        "from typing import Tuple, List\n",
        "from tqdm import tqdm\n",
        "import sys\n",
        "import importlib\n",
        "import os\n",
        "import torch\n",
        "import numpy as np\n",
        "import queue\n",
        "\n",
        "def pytorch_cos_sim(a: Tensor, b: Tensor):\n",
        "    \"\"\"\n",
        "    Computes the cosine similarity cos_sim(a[i], b[j]) for all i and j.\n",
        "    This function can be used as a faster replacement for 1-scipy.spatial.distance.cdist(a,b)\n",
        "    :return: Matrix with res[i][j]  = cos_sim(a[i], b[j])\n",
        "    \"\"\"\n",
        "    if len(a.shape) == 1:\n",
        "        a = a.unsqueeze(0)\n",
        "\n",
        "    if len(b.shape) == 1:\n",
        "        b = b.unsqueeze(0)\n",
        "\n",
        "    a_norm = a / a.norm(dim=1)[:, None]\n",
        "    b_norm = b / b.norm(dim=1)[:, None]\n",
        "    return torch.mm(a_norm, b_norm.transpose(0, 1))\n",
        "\n",
        "\n",
        "\n",
        "def paraphrase_mining(model,\n",
        "                      sentences: List[str],\n",
        "                      show_progress_bar=False,\n",
        "                      batch_size=32,\n",
        "                      query_chunk_size: int = 5000,\n",
        "                      corpus_chunk_size: int = 100000,\n",
        "                      max_pairs: int = 500000,\n",
        "                      top_k: int = 100):\n",
        "    \"\"\"\n",
        "    Given a list of sentences / texts, this function performs paraphrase mining. It compares all sentences against all\n",
        "    other sentences and returns a list with the pairs that have the highest cosine similarity score.\n",
        "\n",
        "    :param model: SentenceTransformer model for embedding computation\n",
        "    :param sentences: A list of strings (texts or sentences)\n",
        "    :param show_progress_bar: Plotting of a progress bar\n",
        "    :param batch_size: Number of texts that are encoded simultaneously by the model\n",
        "    :param query_chunk_size: Search for most similar pairs for #query_chunk_size at the same time. Decrease, to lower memory footprint (increases run-time).\n",
        "    :param corpus_chunk_size: Compare a sentence simultaneously against #corpus_chunk_size other sentences. Decrease, to lower memory footprint (increases run-time).\n",
        "    :param max_pairs: Maximal number of text pairs returned.\n",
        "    :param top_k: For each sentence, we retrieve up to top_k other sentences\n",
        "    :return: Returns a list of triplets with the format [score, id1, id2]\n",
        "    \"\"\"\n",
        "\n",
        "    top_k += 1  #A sentence has the highest similarity to itself. Increase +1 as we are interest in distinct pairs\n",
        "\n",
        "    # Compute embedding for the sentences\n",
        "    embeddings = model.encode(sentences, show_progress_bar=show_progress_bar, batch_size=batch_size,\n",
        "                              convert_to_tensor=True)\n",
        "\n",
        "    # Mine for duplicates\n",
        "    pairs = queue.PriorityQueue()\n",
        "    min_score = -1\n",
        "    num_added = 0\n",
        "\n",
        "    for corpus_start_idx in range(0, len(embeddings), corpus_chunk_size):\n",
        "        corpus_end_idx = min(corpus_start_idx + corpus_chunk_size, len(embeddings))\n",
        "        for query_start_idx in range(0, len(embeddings), query_chunk_size):\n",
        "            query_end_idx = min(query_start_idx + query_chunk_size, len(embeddings))\n",
        "\n",
        "            # logging.info(\"Compute cosine similarities\")\n",
        "            cos_scores = pytorch_cos_sim(embeddings[query_start_idx:query_end_idx],\n",
        "                                         embeddings[corpus_start_idx:corpus_end_idx]).cpu().numpy()\n",
        "            cos_scores = np.nan_to_num(cos_scores)\n",
        "\n",
        "            # logging.info(\"Sort scores\")\n",
        "            cos_score_argpartition = np.argpartition(-cos_scores, min(len(cos_scores)-1, top_k))\n",
        "\n",
        "            # logging.info(\"Find most similar pairs out of {} queries\".format(len(cos_scores)))\n",
        "            for query_itr in range(len(cos_scores)):\n",
        "                for corpus_itr in cos_score_argpartition[query_itr][0:top_k]:\n",
        "                    i = query_start_idx + query_itr\n",
        "                    j = corpus_start_idx + corpus_itr\n",
        "\n",
        "                    if i != j and cos_scores[query_itr][corpus_itr] > min_score:\n",
        "                        pairs.put((cos_scores[query_itr][corpus_itr], i, j))\n",
        "                        num_added += 1\n",
        "\n",
        "                        if num_added >= max_pairs:\n",
        "                            entry = pairs.get()\n",
        "                            min_score = entry[0]\n",
        "\n",
        "    # Get the pairs\n",
        "    added_pairs = set()  # Used for duplicate detection\n",
        "    pairs_list = []\n",
        "    while not pairs.empty():\n",
        "        score, i, j = pairs.get()\n",
        "        sorted_i, sorted_j = sorted([i, j])\n",
        "\n",
        "        if sorted_i != sorted_j and (sorted_i, sorted_j) not in added_pairs:\n",
        "            added_pairs.add((sorted_i, sorted_j))\n",
        "            pairs_list.append([score, i, j])\n",
        "\n",
        "    # Highest scores first\n",
        "    pairs_list = sorted(pairs_list, key=lambda x: x[0], reverse=True)\n",
        "    return pairs_list\n",
        "\n",
        "\n",
        "def information_retrieval(*args, **kwargs):\n",
        "    \"\"\"This function is decprecated. Use semantic_search insted\"\"\"\n",
        "    return semantic_search(*args, **kwargs)\n",
        "\n",
        "\n",
        "def semantic_search(query_embeddings: Tensor,\n",
        "                      corpus_embeddings: Tensor,\n",
        "                      query_chunk_size: int = 100,\n",
        "                      corpus_chunk_size: int = 100000,\n",
        "                      top_k: int = 10):\n",
        "    \"\"\"\n",
        "    This function performs a cosine similarity search between a list of query embeddings  and a list of corpus embeddings.\n",
        "    It can be used for Information Retrieval / Semantic Search for corpora up to about 1 Million entries.\n",
        "\n",
        "    :param query_embeddings: A 2 dimensional tensor with the query embeddings.\n",
        "    :param corpus_embeddings: A 2 dimensional tensor with the corpus embeddings.\n",
        "    :param query_chunk_size: Process 100 queries simultaneously. Increasing that value increases the speed, but requires more memory.\n",
        "    :param corpus_chunk_size: Scans the corpus 100k entries at a time. Increasing that value increases the speed, but requires more memory.\n",
        "    :param top_k: Retrieve top k matching entries. Note, if your corpus is larger than query_chunk_size, |Chunks|*top_k are returned\n",
        "    :return: Returns a sorted list with decreasing cosine similarity scores. Entries are dictionaries with the keys 'corpus_id' and 'score'\n",
        "    \"\"\"\n",
        "\n",
        "    if isinstance(query_embeddings, (np.ndarray, np.generic)):\n",
        "        query_embeddings = torch.from_numpy(query_embeddings)\n",
        "    elif isinstance(query_embeddings, list):\n",
        "        query_embeddings = torch.stack(query_embeddings)\n",
        "\n",
        "    if len(query_embeddings.shape) == 1:\n",
        "        query_embeddings = query_embeddings.unsqueeze(0)\n",
        "\n",
        "    if isinstance(corpus_embeddings, (np.ndarray, np.generic)):\n",
        "        corpus_embeddings = torch.from_numpy(corpus_embeddings)\n",
        "    elif isinstance(corpus_embeddings, list):\n",
        "        corpus_embeddings = torch.stack(corpus_embeddings)\n",
        "\n",
        "    #Normalize scores, so that the dot-product is equivalent to cosine similarity\n",
        "    query_embeddings = query_embeddings / query_embeddings.norm(dim=1)[:, None]\n",
        "    corpus_embeddings = corpus_embeddings / corpus_embeddings.norm(dim=1)[:, None]\n",
        "\n",
        "    queries_result_list = [[] for _ in range(len(query_embeddings))]\n",
        "\n",
        "    for query_start_idx in range(0, len(query_embeddings), query_chunk_size):\n",
        "        query_end_idx = min(query_start_idx + query_chunk_size, len(query_embeddings))\n",
        "\n",
        "        # Iterate over chunks of the corpus\n",
        "        for corpus_start_idx in range(0, len(corpus_embeddings), corpus_chunk_size):\n",
        "            corpus_end_idx = min(corpus_start_idx + corpus_chunk_size, len(corpus_embeddings))\n",
        "\n",
        "            # Compute cosine similarites\n",
        "            cos_scores = torch.mm(query_embeddings[query_start_idx:query_end_idx], corpus_embeddings[corpus_start_idx:corpus_end_idx].transpose(0, 1)).cpu().numpy()\n",
        "            cos_scores = np.nan_to_num(cos_scores)\n",
        "\n",
        "            # Partial sort scores\n",
        "            cos_score_argpartition = np.argpartition(-cos_scores, min(top_k, len(cos_scores[0])-1))[:, 0:top_k]\n",
        "\n",
        "            for query_itr in range(len(cos_scores)):\n",
        "                for sub_corpus_id in cos_score_argpartition[query_itr]:\n",
        "                    corpus_id = corpus_start_idx + sub_corpus_id\n",
        "                    query_id = query_start_idx + query_itr\n",
        "                    score = cos_scores[query_itr][sub_corpus_id]\n",
        "                    queries_result_list[query_id].append({'corpus_id': corpus_id, 'score': score})\n",
        "\n",
        "    #Sort and strip to top_k results\n",
        "    for idx in range(len(queries_result_list)):\n",
        "        queries_result_list[idx] = sorted(queries_result_list[idx], key=lambda x: x['score'], reverse=True)\n",
        "        queries_result_list[idx] = queries_result_list[idx][0:top_k]\n",
        "\n",
        "    return queries_result_list\n",
        "\n",
        "\n",
        "def http_get(url, path):\n",
        "    \"\"\"\n",
        "    Downloads a URL to a given path on disc\n",
        "    \"\"\"\n",
        "    req = requests.get(url, stream=True)\n",
        "    if req.status_code != 200:\n",
        "        print(\"Exception when trying to download {}. Response {}\".format(url, req.status_code), file=sys.stderr)\n",
        "        req.raise_for_status()\n",
        "        return\n",
        "\n",
        "    download_filepath = path+\"_part\"\n",
        "    with open(download_filepath, \"wb\") as file_binary:\n",
        "        content_length = req.headers.get('Content-Length')\n",
        "        total = int(content_length) if content_length is not None else None\n",
        "        progress = tqdm(unit=\"B\", total=total, unit_scale=True)\n",
        "        for chunk in req.iter_content(chunk_size=1024):\n",
        "            if chunk: # filter out keep-alive new chunks\n",
        "                progress.update(len(chunk))\n",
        "                file_binary.write(chunk)\n",
        "\n",
        "    os.rename(download_filepath, path)\n",
        "    progress.close()\n",
        "\n",
        "\n",
        "def batch_to_device(batch, target_device: device):\n",
        "    \"\"\"\n",
        "    send a pytorch batch to a device (CPU/GPU)\n",
        "    \"\"\"\n",
        "    features = batch['features']\n",
        "    for paired_sentence_idx in range(len(features)):\n",
        "        for feature_name in features[paired_sentence_idx]:\n",
        "            features[paired_sentence_idx][feature_name] = features[paired_sentence_idx][feature_name].to(target_device)\n",
        "\n",
        "    labels = batch['labels'].to(target_device)\n",
        "    return features, labels\n",
        "\n",
        "\n",
        "def fullname(o):\n",
        "  \"\"\"\n",
        "  Gives a full name (package_name.class_name) for a class / object in Python. Will\n",
        "  be used to load the correct classes from JSON files\n",
        "  \"\"\"\n",
        "\n",
        "  module = o.__class__.__module__\n",
        "  if module is None or module == str.__class__.__module__:\n",
        "    return o.__class__.__name__  # Avoid reporting __builtin__\n",
        "  else:\n",
        "    return module + '.' + o.__class__.__name__\n",
        "\n",
        "def import_from_string(dotted_path):\n",
        "    \"\"\"\n",
        "    Import a dotted module path and return the attribute/class designated by the\n",
        "    last name in the path. Raise ImportError if the import failed.\n",
        "    \"\"\"\n",
        "    try:\n",
        "        module_path, class_name = dotted_path.rsplit('.', 1)\n",
        "    except ValueError:\n",
        "        msg = \"%s doesn't look like a module path\" % dotted_path\n",
        "        raise ImportError(msg)\n",
        "\n",
        "    module = importlib.import_module(module_path)\n",
        "\n",
        "    try:\n",
        "        return getattr(module, class_name)\n",
        "    except AttributeError:\n",
        "        msg = 'Module \"%s\" does not define a \"%s\" attribute/class' % (module_path, class_name)\n",
        "        raise ImportError(msg)"
      ],
      "execution_count": null,
      "outputs": []
    },
    {
      "cell_type": "code",
      "metadata": {
        "id": "choTib9ionWo",
        "colab_type": "code",
        "colab": {}
      },
      "source": [
        "embedder = SentenceTransformer('bert-base-nli-mean-tokens')\n",
        "\n",
        "# Corpus with example sentences\n",
        "corpus = ['O Die é o cara das bases',\n",
        "          'O Die é também é o cara do hadoop',\n",
        "          'O Paulo trabalha junto com o Die',\n",
        "          'O Alex é o gestor da equipe',\n",
        "          'O Alex faz doutorado na USP',\n",
        "          'O Paulo faz doutorado na Unicamp',\n",
        "          'O Die estuda na unicamp, faz física, ewwwwwwwwwwwwww!',\n",
        "          'O Alex, Die e Paulo, estão em novo projeto',\n",
        "          'O projeto não é trivial, mas o Die está com muitas boas ideias',\n",
        "          'O Alex sugeriu uma solução do COTA',\n",
        "          'O Paulo quer implementar o COTA']\n",
        "\n",
        "corpus_embeddings = embedder.encode(corpus)"
      ],
      "execution_count": null,
      "outputs": []
    },
    {
      "cell_type": "code",
      "metadata": {
        "id": "kGLbC3jvvpmm",
        "colab_type": "code",
        "colab": {
          "base_uri": "https://localhost:8080/",
          "height": 680
        },
        "outputId": "b802f669-6e1d-4487-b8e2-d4a9463cec79"
      },
      "source": [
        "embedder = SentenceTransformer('distilbert-base-nli-stsb-mean-tokens')\n",
        "\n",
        "# Corpus with example sentences\n",
        "corpus = ['O Die é o cara das bases',\n",
        "          'O Die é também é o cara do hadoop',\n",
        "          'O Paulo trabalha junto com o Die',\n",
        "          'O Alex é o gestor da equipe',\n",
        "          'O Alex faz doutorado na USP',\n",
        "          'O Paulo faz doutorado na Unicamp',\n",
        "          'O Die estuda na unicamp, faz física, ewwwwwwwwwwwwww!',\n",
        "          'O Alex, Die e Paulo, estão em novo projeto',\n",
        "          'O projeto não é trivial, mas o Die está com muitas boas ideias',\n",
        "          'O Alex sugeriu uma solução do COTA',\n",
        "          'O Paulo quer implementar o COTA']\n",
        "          \n",
        "corpus_embeddings = embedder.encode(corpus, convert_to_tensor=True)\n",
        "\n",
        "# Query sentences:\n",
        "queries = ['Quem estuda na USP.', 'O que o Alex é.', 'O que o Paulo faz.']\n",
        "\n",
        "\n",
        "# Find the closest 5 sentences of the corpus for each query sentence based on cosine similarity\n",
        "top_k = 5\n",
        "for query in queries:\n",
        "    query_embedding = embedder.encode(query, convert_to_tensor=True)\n",
        "    cos_scores = pytorch_cos_sim(query_embedding, corpus_embeddings)[0]\n",
        "\n",
        "    #We use np.argpartition, to only partially sort the top_k results\n",
        "    top_results = np.argpartition(-cos_scores, range(top_k))[0:top_k]\n",
        "\n",
        "    print(\"\\n\\n======================\\n\\n\")\n",
        "    print(\"Query:\", query)\n",
        "    print(\"\\nTop 5 most similar sentences in corpus:\")\n",
        "\n",
        "    for idx in top_results[0:top_k]:\n",
        "        print(corpus[idx].strip(), \"(Score: %.4f)\" % (cos_scores[idx]))\n"
      ],
      "execution_count": null,
      "outputs": [
        {
          "output_type": "stream",
          "text": [
            "\n",
            "\n",
            "======================\n",
            "\n",
            "\n",
            "Query: Quem estuda na USP.\n",
            "\n",
            "Top 5 most similar sentences in corpus:\n",
            "O Alex faz doutorado na USP (Score: 0.7248)\n",
            "O Paulo quer implementar o COTA (Score: 0.6507)\n",
            "O Alex sugeriu uma solução do COTA (Score: 0.5770)\n",
            "O Paulo faz doutorado na Unicamp (Score: 0.5087)\n",
            "O Alex é o gestor da equipe (Score: 0.4835)\n",
            "\n",
            "\n",
            "======================\n",
            "\n",
            "\n",
            "Query: O que o Alex é.\n",
            "\n",
            "Top 5 most similar sentences in corpus:\n",
            "O Alex é o gestor da equipe (Score: 0.8278)\n",
            "O Alex faz doutorado na USP (Score: 0.7685)\n",
            "O Alex sugeriu uma solução do COTA (Score: 0.7520)\n",
            "O Alex, Die e Paulo, estão em novo projeto (Score: 0.6739)\n",
            "O Paulo quer implementar o COTA (Score: 0.4930)\n",
            "\n",
            "\n",
            "======================\n",
            "\n",
            "\n",
            "Query: O que o Paulo faz.\n",
            "\n",
            "Top 5 most similar sentences in corpus:\n",
            "O Paulo faz doutorado na Unicamp (Score: 0.8410)\n",
            "O Paulo quer implementar o COTA (Score: 0.8379)\n",
            "O Paulo trabalha junto com o Die (Score: 0.7115)\n",
            "O Alex, Die e Paulo, estão em novo projeto (Score: 0.5069)\n",
            "O Die é o cara das bases (Score: 0.4950)\n"
          ],
          "name": "stdout"
        }
      ]
    },
    {
      "cell_type": "code",
      "metadata": {
        "id": "gp2Tiy8HsYWb",
        "colab_type": "code",
        "colab": {
          "base_uri": "https://localhost:8080/",
          "height": 272
        },
        "outputId": "6109a3bc-4407-4f1c-a6a5-1ef870ba34cb"
      },
      "source": [
        "from sklearn.cluster import KMeans\n",
        "\n",
        "embedder = SentenceTransformer('bert-base-nli-mean-tokens')\n",
        "\n",
        "corpus_embeddings = embedder.encode(corpus)\n",
        "\n",
        "# Perform kmean clustering\n",
        "num_clusters = 5\n",
        "clustering_model = KMeans(n_clusters=num_clusters)\n",
        "clustering_model.fit(corpus_embeddings)\n",
        "cluster_assignment = clustering_model.labels_\n",
        "\n",
        "clustered_sentences = [[] for i in range(num_clusters)]\n",
        "for sentence_id, cluster_id in enumerate(cluster_assignment):\n",
        "    clustered_sentences[cluster_id].append(corpus[sentence_id])\n",
        "\n",
        "for i, cluster in enumerate(clustered_sentences):\n",
        "    print(\"Cluster \", i+1)\n",
        "    print(cluster)\n",
        "    print(\"\")"
      ],
      "execution_count": null,
      "outputs": [
        {
          "output_type": "stream",
          "text": [
            "Cluster  1\n",
            "['O Paulo faz doutorado na Unicamp', 'O Paulo quer implementar o COTA']\n",
            "\n",
            "Cluster  2\n",
            "['O Die é o cara das bases', 'O Die é também é o cara do hadoop']\n",
            "\n",
            "Cluster  3\n",
            "['O Alex é o gestor da equipe', 'O Alex faz doutorado na USP', 'O Alex sugeriu uma solução do COTA']\n",
            "\n",
            "Cluster  4\n",
            "['O Die estuda na unicamp, faz física, ewwwwwwwwwwwwww!']\n",
            "\n",
            "Cluster  5\n",
            "['O Paulo trabalha junto com o Die', 'O Alex, Die e Paulo, estão em novo projeto', 'O projeto não é trivial, mas o Die está com muitas boas ideias']\n",
            "\n"
          ],
          "name": "stdout"
        }
      ]
    }
  ]
}