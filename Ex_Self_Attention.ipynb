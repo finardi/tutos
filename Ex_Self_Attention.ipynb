{
  "nbformat": 4,
  "nbformat_minor": 0,
  "metadata": {
    "colab": {
      "name": "Exemplo de Self Attention.ipynb",
      "provenance": [],
      "authorship_tag": "ABX9TyPjv1KW0Eqgx4wfu5Askdfo",
      "include_colab_link": true
    },
    "kernelspec": {
      "name": "python3",
      "display_name": "Python 3"
    }
  },
  "cells": [
    {
      "cell_type": "markdown",
      "metadata": {
        "id": "view-in-github",
        "colab_type": "text"
      },
      "source": [
        "<a href=\"https://colab.research.google.com/github/finardi/tutos/blob/master/Ex_Self_Attention.ipynb\" target=\"_parent\"><img src=\"https://colab.research.google.com/assets/colab-badge.svg\" alt=\"Open In Colab\"/></a>"
      ]
    },
    {
      "cell_type": "markdown",
      "metadata": {
        "id": "cdXdt1fRs52A"
      },
      "source": [
        "# Exemplo de self attention"
      ]
    },
    {
      "cell_type": "code",
      "metadata": {
        "id": "a8tpHOAtMz-W"
      },
      "source": [
        "import torch \n",
        "import numpy as np\n",
        "import seaborn as sns"
      ],
      "execution_count": 1,
      "outputs": []
    },
    {
      "cell_type": "code",
      "metadata": {
        "id": "oQNdgEQ3MIy_",
        "colab": {
          "base_uri": "https://localhost:8080/"
        },
        "outputId": "bbd74a00-9064-416e-d46a-8f795e9fff0f"
      },
      "source": [
        "# 00 -- ENTRADA:\n",
        "text = 'Quero um cartão'\n",
        "text_tokens = ['Quero', 'um', 'cartão']\n",
        "\n",
        "# 01 -- IDs:\n",
        "text_ids = [27,11,83]\n",
        "VOCAB = 100 # Quantidade de palavras\n",
        "\n",
        "# 02 -- DIMENSÃO DOS EMBEDDINGS = 4:\n",
        "D = 4\n",
        "\n",
        "# 03 -- COMPRIMENTO DA SEQUÊNCIA:\n",
        "L = 3\n",
        "\n",
        "# 04 -- MATRIZ DE EMBEDDINGS LxD:\n",
        "text_emb = torch.tensor([\n",
        "                         [0,1,2,0], \n",
        "                         [1,0,1,1],\n",
        "                         [1,0,1,2],\n",
        "                        ]).long()\n",
        "\n",
        "# 05 -- PRINT - SANITY CHECK:\n",
        "for i in zip(text_tokens, text_ids, text_emb):\n",
        "    print(f'Palavra: {i[0] :<6} -- ID: {i[1]} -- Embedding: {i[2]}')"
      ],
      "execution_count": 2,
      "outputs": [
        {
          "output_type": "stream",
          "text": [
            "Palavra: Quero  -- ID: 27 -- Embedding: tensor([0, 1, 2, 0])\n",
            "Palavra: um     -- ID: 11 -- Embedding: tensor([1, 0, 1, 1])\n",
            "Palavra: cartão -- ID: 83 -- Embedding: tensor([1, 0, 1, 2])\n"
          ],
          "name": "stdout"
        }
      ]
    },
    {
      "cell_type": "code",
      "metadata": {
        "id": "7tnY8t3RROt2",
        "colab": {
          "base_uri": "https://localhost:8080/"
        },
        "outputId": "0805c780-7cb0-4f80-dd62-e22683bf4973"
      },
      "source": [
        "# 06 -- USAR O nn.EMBEDDING PyTorch para CONSTRUIR AS MATRIZ DE PESOS Q, K, V:\n",
        "\n",
        "embs  = torch.nn.Embedding(VOCAB, D)\n",
        "\n",
        "# tensor com zeros_like\n",
        "embeddings = torch.zeros(len(text_ids) * D).reshape(len(text_ids), D) \n",
        "\n",
        "print(f'Shape da matriz de embeddings: {embeddings.shape}\\n')\n",
        "\n",
        "print('Texto\\t\\t\\t     Matriz de embeddings\\n')\n",
        "for i , token in enumerate(text_ids):\n",
        "    embeddings[i] = embs(torch.tensor(token))\n",
        "embeddings"
      ],
      "execution_count": 3,
      "outputs": [
        {
          "output_type": "stream",
          "text": [
            "Shape da matriz de embeddings: torch.Size([3, 4])\n",
            "\n",
            "Texto\t\t\t     Matriz de embeddings\n",
            "\n"
          ],
          "name": "stdout"
        },
        {
          "output_type": "execute_result",
          "data": {
            "text/plain": [
              "tensor([[-0.4409, -0.7220, -0.8106, -0.3540],\n",
              "        [-0.4031,  0.1947,  0.3793,  0.6797],\n",
              "        [ 0.0089,  0.4216, -1.2296, -2.1588]], grad_fn=<AsStridedBackward>)"
            ]
          },
          "metadata": {
            "tags": []
          },
          "execution_count": 3
        }
      ]
    },
    {
      "cell_type": "code",
      "metadata": {
        "id": "5FBA15gsMIwS"
      },
      "source": [
        "# 06 -- MATRIZ DE PESOS, Q, K, V --> DxD (INICIADOS ARBITRARIAMENTE):\n",
        "\n",
        "Qw = torch.tensor([\n",
        "                   [1,  0, -1,  1], \n",
        "                   [0,  1,  0, -2],\n",
        "                   [3,  1, -2,  0],\n",
        "                   [0, -2,  1,  3],\n",
        "                ])\n",
        "\n",
        "Kw = torch.tensor([\n",
        "                   [3, -1,  0, -1], \n",
        "                   [0,  1, -1,  0],\n",
        "                   [3,  1,  0, -1],\n",
        "                   [-1, 0,  1,  3],\n",
        "                 ])\n",
        "\n",
        "Vw = torch.tensor([\n",
        "                   [-2, 0,  3,  0], \n",
        "                   [-1, 1, -2, -1],\n",
        "                   [-2, 1,  2,  3],\n",
        "                   [3,  2,  1, -2],\n",
        "                 ])"
      ],
      "execution_count": 11,
      "outputs": []
    },
    {
      "cell_type": "code",
      "metadata": {
        "id": "OS5NVaPXMItv",
        "colab": {
          "base_uri": "https://localhost:8080/"
        },
        "outputId": "0a505528-34b1-4261-ab38-81b7931629a8"
      },
      "source": [
        "# 07 -- OBTER Q, K e V:\n",
        "print(f'Shape da entrada: {text_emb.size()} -- Shape das Matrizes de pesos Qw, Kw e Vw: {Qw.size()}')"
      ],
      "execution_count": 12,
      "outputs": [
        {
          "output_type": "stream",
          "text": [
            "Shape da entrada: torch.Size([3, 4]) -- Shape das Matrizes de pesos Qw, Kw e Vw: torch.Size([4, 4])\n"
          ],
          "name": "stdout"
        }
      ]
    },
    {
      "cell_type": "code",
      "metadata": {
        "id": "daPRGnNWMIq1"
      },
      "source": [
        "K =  torch.einsum('ab, bc -> ac', text_emb, Kw) # text_emb @ Kw\n",
        "V =  torch.einsum('ab, bc -> ac', text_emb, Vw) # text_emb @ Vw\n",
        "Q =  torch.einsum('ab, bc -> ac', text_emb, Qw) # text_emb @ Qw"
      ],
      "execution_count": 13,
      "outputs": []
    },
    {
      "cell_type": "code",
      "metadata": {
        "id": "cY7HNYRTMIoW",
        "colab": {
          "base_uri": "https://localhost:8080/"
        },
        "outputId": "66b957b0-7dcf-4a75-af59-095db1777f05"
      },
      "source": [
        "K"
      ],
      "execution_count": 14,
      "outputs": [
        {
          "output_type": "execute_result",
          "data": {
            "text/plain": [
              "tensor([[ 6,  3, -1, -2],\n",
              "        [ 5,  0,  1,  1],\n",
              "        [ 4,  0,  2,  4]])"
            ]
          },
          "metadata": {
            "tags": []
          },
          "execution_count": 14
        }
      ]
    },
    {
      "cell_type": "code",
      "metadata": {
        "id": "BgEZOvSZMIl0",
        "colab": {
          "base_uri": "https://localhost:8080/"
        },
        "outputId": "93c99767-92e6-435e-a035-ea7f4a4ee613"
      },
      "source": [
        "V"
      ],
      "execution_count": 15,
      "outputs": [
        {
          "output_type": "execute_result",
          "data": {
            "text/plain": [
              "tensor([[-5,  3,  2,  5],\n",
              "        [-1,  3,  6,  1],\n",
              "        [ 2,  5,  7, -1]])"
            ]
          },
          "metadata": {
            "tags": []
          },
          "execution_count": 15
        }
      ]
    },
    {
      "cell_type": "code",
      "metadata": {
        "id": "GSj4Xs47MIjP",
        "colab": {
          "base_uri": "https://localhost:8080/"
        },
        "outputId": "255b6d0f-4ba8-43f4-d314-d60b04ac396b"
      },
      "source": [
        "Q"
      ],
      "execution_count": 16,
      "outputs": [
        {
          "output_type": "execute_result",
          "data": {
            "text/plain": [
              "tensor([[ 6,  3, -4, -2],\n",
              "        [ 4, -1, -2,  4],\n",
              "        [ 4, -3, -1,  7]])"
            ]
          },
          "metadata": {
            "tags": []
          },
          "execution_count": 16
        }
      ]
    },
    {
      "cell_type": "code",
      "metadata": {
        "id": "Ss7IYIZFMIgq"
      },
      "source": [
        "# 08 -- CALCULAR O SCORE:\n",
        "QKT = torch.einsum('ab, cb -> ac', Q, K) # Q @ K.T\n",
        "QKT\n",
        "\n",
        "# 08.1 -- DIVIDIR POR SQRT(D)\n",
        "QKT = QKT/torch.sqrt(torch.tensor(D))"
      ],
      "execution_count": 32,
      "outputs": []
    },
    {
      "cell_type": "code",
      "metadata": {
        "id": "ZyFL9sryMIeR",
        "colab": {
          "base_uri": "https://localhost:8080/"
        },
        "outputId": "145ad14f-235e-4bf8-a874-6457cfcf544d"
      },
      "source": [
        "# 09 -- SOFTMAX:\n",
        "S = torch.nn.Softmax(dim=-1)\n",
        "S(QKT.float())"
      ],
      "execution_count": 33,
      "outputs": [
        {
          "output_type": "execute_result",
          "data": {
            "text/plain": [
              "tensor([[1.0000e+00, 5.0435e-07, 1.6919e-10],\n",
              "        [1.4301e-03, 4.7358e-02, 9.5121e-01],\n",
              "        [2.0605e-09, 3.3535e-04, 9.9966e-01]])"
            ]
          },
          "metadata": {
            "tags": []
          },
          "execution_count": 33
        }
      ]
    },
    {
      "cell_type": "code",
      "metadata": {
        "id": "upZSHypsMIbw"
      },
      "source": [
        "# 10 -- SIMPLIFICAR S - POR SIMPLICIDADE DE ENTENDIMENTO:\n",
        "Softmax  = torch.tensor([\n",
        "                         [1.00, 0.00,  0.00], \n",
        "                         [0.06, 0.04,  0.90],\n",
        "                         [0.00, 0.00,  1.00],\n",
        "                 ])"
      ],
      "execution_count": 34,
      "outputs": []
    },
    {
      "cell_type": "code",
      "metadata": {
        "id": "hjbUXARcYveN",
        "colab": {
          "base_uri": "https://localhost:8080/"
        },
        "outputId": "21fbefa2-5d95-4265-bd4b-e95fc671c7b6"
      },
      "source": [
        "# 11 -- SOFTMAX * V (EXTRATOR DE FEAT):\n",
        "SV = torch.einsum('ab, bc -> ac', Softmax,V.float())\n",
        "SV "
      ],
      "execution_count": 35,
      "outputs": [
        {
          "output_type": "execute_result",
          "data": {
            "text/plain": [
              "tensor([[-5.0000,  3.0000,  2.0000,  5.0000],\n",
              "        [ 1.4600,  4.8000,  6.6600, -0.5600],\n",
              "        [ 2.0000,  5.0000,  7.0000, -1.0000]])"
            ]
          },
          "metadata": {
            "tags": []
          },
          "execution_count": 35
        }
      ]
    },
    {
      "cell_type": "code",
      "metadata": {
        "id": "EjxQz4s8Yvbh",
        "colab": {
          "base_uri": "https://localhost:8080/"
        },
        "outputId": "5d392975-93dd-491c-8acd-84e90610739c"
      },
      "source": [
        "# 12 -- MULTIPLICAR PELA MATRIZ DE PROJEÇÃO Wo\n",
        "\n",
        "# PESOS DA Wo (INICIADOS ARBITRARIAMENTE)\n",
        "Wo = torch.tensor([\n",
        "                   [2,  0, -1,  1], \n",
        "                   [1, -1, -2,  1],\n",
        "                   [2,  0,  1,  0],\n",
        "                   [0, -2,  1, -1],\n",
        "                 ])\n",
        "Wo.shape"
      ],
      "execution_count": 36,
      "outputs": [
        {
          "output_type": "execute_result",
          "data": {
            "text/plain": [
              "torch.Size([4, 4])"
            ]
          },
          "metadata": {
            "tags": []
          },
          "execution_count": 36
        }
      ]
    },
    {
      "cell_type": "code",
      "metadata": {
        "id": "JkXnSgXwb29Z",
        "colab": {
          "base_uri": "https://localhost:8080/"
        },
        "outputId": "861eecef-5835-4529-dc58-13836670b42c"
      },
      "source": [
        "## 13 -- SV @ Wo = MATRIZ DE ATENÇÃO:\n",
        "\n",
        "ATT = torch.einsum('ab, bc -> ac', SV, Wo.float())/8 # SV @ Wo\n",
        "ATT"
      ],
      "execution_count": 37,
      "outputs": [
        {
          "output_type": "execute_result",
          "data": {
            "text/plain": [
              "tensor([[-0.3750, -1.6250,  0.7500, -0.8750],\n",
              "        [ 2.6300, -0.4600, -0.6200,  0.8525],\n",
              "        [ 2.8750, -0.3750, -0.7500,  1.0000]])"
            ]
          },
          "metadata": {
            "tags": []
          },
          "execution_count": 37
        }
      ]
    },
    {
      "cell_type": "code",
      "metadata": {
        "colab": {
          "base_uri": "https://localhost:8080/",
          "height": 285
        },
        "id": "WdjObeR-5GUC",
        "outputId": "524d402a-8b04-4300-8a0b-9050c5be61d1"
      },
      "source": [
        "# Embs sem ATT\n",
        "sns.heatmap(embeddings.detach().numpy(), center=0)"
      ],
      "execution_count": 38,
      "outputs": [
        {
          "output_type": "execute_result",
          "data": {
            "text/plain": [
              "<matplotlib.axes._subplots.AxesSubplot at 0x7feebe506090>"
            ]
          },
          "metadata": {
            "tags": []
          },
          "execution_count": 38
        },
        {
          "output_type": "display_data",
          "data": {
            "image/png": "[encoded data removed]",
            "text/plain": [
              "<Figure size 432x288 with 2 Axes>"
            ]
          },
          "metadata": {
            "tags": [],
            "needs_background": "light"
          }
        }
      ]
    },
    {
      "cell_type": "code",
      "metadata": {
        "colab": {
          "base_uri": "https://localhost:8080/",
          "height": 285
        },
        "id": "UccmwfhU48pn",
        "outputId": "f1c83bdf-3456-4ab4-9b45-c1d2ac3f8d1f"
      },
      "source": [
        "# ATT Embs\n",
        "sns.heatmap(ATT.detach().numpy(), center=0)"
      ],
      "execution_count": 39,
      "outputs": [
        {
          "output_type": "execute_result",
          "data": {
            "text/plain": [
              "<matplotlib.axes._subplots.AxesSubplot at 0x7feebe459b50>"
            ]
          },
          "metadata": {
            "tags": []
          },
          "execution_count": 39
        },
        {
          "output_type": "display_data",
          "data": {
            "image/png": "[encoded data removed]",
            "text/plain": [
              "<Figure size 432x288 with 2 Axes>"
            ]
          },
          "metadata": {
            "tags": [],
            "needs_background": "light"
          }
        }
      ]
    },
    {
      "cell_type": "markdown",
      "metadata": {
        "id": "z5EI8ia0gLJK"
      },
      "source": [
        "# Fim do Notebook"
      ]
    }
  ]
}