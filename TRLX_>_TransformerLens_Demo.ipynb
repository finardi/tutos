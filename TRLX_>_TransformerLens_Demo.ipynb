{
  "nbformat": 4,
  "nbformat_minor": 0,
  "metadata": {
    "colab": {
      "provenance": [],
      "include_colab_link": true
    },
    "kernelspec": {
      "name": "python3",
      "display_name": "Python 3"
    },
    "language_info": {
      "name": "python"
    },
    "gpuClass": "standard",
    "widgets": {
      "application/vnd.jupyter.widget-state+json": {
        "e72a8aedee6546c9803dc1a2633a0225": {
          "model_module": "@jupyter-widgets/controls",
          "model_name": "VBoxModel",
          "model_module_version": "1.5.0",
          "state": {
            "_dom_classes": [],
            "_model_module": "@jupyter-widgets/controls",
            "_model_module_version": "1.5.0",
            "_model_name": "VBoxModel",
            "_view_count": null,
            "_view_module": "@jupyter-widgets/controls",
            "_view_module_version": "1.5.0",
            "_view_name": "VBoxView",
            "box_style": "",
            "children": [
              "IPY_MODEL_344ff45d826d4642a61cb5641fe4ab8e",
              "IPY_MODEL_ba576e3c196240c79e609a73be09454a"
            ],
            "layout": "IPY_MODEL_3a444caabcdc4be3a801c2c8b40edc50"
          }
        },
        "344ff45d826d4642a61cb5641fe4ab8e": {
          "model_module": "@jupyter-widgets/controls",
          "model_name": "LabelModel",
          "model_module_version": "1.5.0",
          "state": {
            "_dom_classes": [],
            "_model_module": "@jupyter-widgets/controls",
            "_model_module_version": "1.5.0",
            "_model_name": "LabelModel",
            "_view_count": null,
            "_view_module": "@jupyter-widgets/controls",
            "_view_module_version": "1.5.0",
            "_view_name": "LabelView",
            "description": "",
            "description_tooltip": null,
            "layout": "IPY_MODEL_4c144e392a9b44b68fb309278066e6e1",
            "placeholder": "​",
            "style": "IPY_MODEL_6419bf586f3f4334aee476dd50740899",
            "value": "Waiting for wandb.init()...\r"
          }
        },
        "ba576e3c196240c79e609a73be09454a": {
          "model_module": "@jupyter-widgets/controls",
          "model_name": "FloatProgressModel",
          "model_module_version": "1.5.0",
          "state": {
            "_dom_classes": [],
            "_model_module": "@jupyter-widgets/controls",
            "_model_module_version": "1.5.0",
            "_model_name": "FloatProgressModel",
            "_view_count": null,
            "_view_module": "@jupyter-widgets/controls",
            "_view_module_version": "1.5.0",
            "_view_name": "ProgressView",
            "bar_style": "",
            "description": "",
            "description_tooltip": null,
            "layout": "IPY_MODEL_3b6a1057b24748a2a26f12c95d467ee3",
            "max": 1,
            "min": 0,
            "orientation": "horizontal",
            "style": "IPY_MODEL_df0b83b6c49142219258b39bb93edc8e",
            "value": 1
          }
        },
        "3a444caabcdc4be3a801c2c8b40edc50": {
          "model_module": "@jupyter-widgets/base",
          "model_name": "LayoutModel",
          "model_module_version": "1.2.0",
          "state": {
            "_model_module": "@jupyter-widgets/base",
            "_model_module_version": "1.2.0",
            "_model_name": "LayoutModel",
            "_view_count": null,
            "_view_module": "@jupyter-widgets/base",
            "_view_module_version": "1.2.0",
            "_view_name": "LayoutView",
            "align_content": null,
            "align_items": null,
            "align_self": null,
            "border": null,
            "bottom": null,
            "display": null,
            "flex": null,
            "flex_flow": null,
            "grid_area": null,
            "grid_auto_columns": null,
            "grid_auto_flow": null,
            "grid_auto_rows": null,
            "grid_column": null,
            "grid_gap": null,
            "grid_row": null,
            "grid_template_areas": null,
            "grid_template_columns": null,
            "grid_template_rows": null,
            "height": null,
            "justify_content": null,
            "justify_items": null,
            "left": null,
            "margin": null,
            "max_height": null,
            "max_width": null,
            "min_height": null,
            "min_width": null,
            "object_fit": null,
            "object_position": null,
            "order": null,
            "overflow": null,
            "overflow_x": null,
            "overflow_y": null,
            "padding": null,
            "right": null,
            "top": null,
            "visibility": null,
            "width": null
          }
        },
        "4c144e392a9b44b68fb309278066e6e1": {
          "model_module": "@jupyter-widgets/base",
          "model_name": "LayoutModel",
          "model_module_version": "1.2.0",
          "state": {
            "_model_module": "@jupyter-widgets/base",
            "_model_module_version": "1.2.0",
            "_model_name": "LayoutModel",
            "_view_count": null,
            "_view_module": "@jupyter-widgets/base",
            "_view_module_version": "1.2.0",
            "_view_name": "LayoutView",
            "align_content": null,
            "align_items": null,
            "align_self": null,
            "border": null,
            "bottom": null,
            "display": null,
            "flex": null,
            "flex_flow": null,
            "grid_area": null,
            "grid_auto_columns": null,
            "grid_auto_flow": null,
            "grid_auto_rows": null,
            "grid_column": null,
            "grid_gap": null,
            "grid_row": null,
            "grid_template_areas": null,
            "grid_template_columns": null,
            "grid_template_rows": null,
            "height": null,
            "justify_content": null,
            "justify_items": null,
            "left": null,
            "margin": null,
            "max_height": null,
            "max_width": null,
            "min_height": null,
            "min_width": null,
            "object_fit": null,
            "object_position": null,
            "order": null,
            "overflow": null,
            "overflow_x": null,
            "overflow_y": null,
            "padding": null,
            "right": null,
            "top": null,
            "visibility": null,
            "width": null
          }
        },
        "6419bf586f3f4334aee476dd50740899": {
          "model_module": "@jupyter-widgets/controls",
          "model_name": "DescriptionStyleModel",
          "model_module_version": "1.5.0",
          "state": {
            "_model_module": "@jupyter-widgets/controls",
            "_model_module_version": "1.5.0",
            "_model_name": "DescriptionStyleModel",
            "_view_count": null,
            "_view_module": "@jupyter-widgets/base",
            "_view_module_version": "1.2.0",
            "_view_name": "StyleView",
            "description_width": ""
          }
        },
        "3b6a1057b24748a2a26f12c95d467ee3": {
          "model_module": "@jupyter-widgets/base",
          "model_name": "LayoutModel",
          "model_module_version": "1.2.0",
          "state": {
            "_model_module": "@jupyter-widgets/base",
            "_model_module_version": "1.2.0",
            "_model_name": "LayoutModel",
            "_view_count": null,
            "_view_module": "@jupyter-widgets/base",
            "_view_module_version": "1.2.0",
            "_view_name": "LayoutView",
            "align_content": null,
            "align_items": null,
            "align_self": null,
            "border": null,
            "bottom": null,
            "display": null,
            "flex": null,
            "flex_flow": null,
            "grid_area": null,
            "grid_auto_columns": null,
            "grid_auto_flow": null,
            "grid_auto_rows": null,
            "grid_column": null,
            "grid_gap": null,
            "grid_row": null,
            "grid_template_areas": null,
            "grid_template_columns": null,
            "grid_template_rows": null,
            "height": null,
            "justify_content": null,
            "justify_items": null,
            "left": null,
            "margin": null,
            "max_height": null,
            "max_width": null,
            "min_height": null,
            "min_width": null,
            "object_fit": null,
            "object_position": null,
            "order": null,
            "overflow": null,
            "overflow_x": null,
            "overflow_y": null,
            "padding": null,
            "right": null,
            "top": null,
            "visibility": null,
            "width": null
          }
        },
        "df0b83b6c49142219258b39bb93edc8e": {
          "model_module": "@jupyter-widgets/controls",
          "model_name": "ProgressStyleModel",
          "model_module_version": "1.5.0",
          "state": {
            "_model_module": "@jupyter-widgets/controls",
            "_model_module_version": "1.5.0",
            "_model_name": "ProgressStyleModel",
            "_view_count": null,
            "_view_module": "@jupyter-widgets/base",
            "_view_module_version": "1.2.0",
            "_view_name": "StyleView",
            "bar_color": null,
            "description_width": ""
          }
        },
        "db7664e5c3b84fae900ce97e78f70790": {
          "model_module": "@jupyter-widgets/controls",
          "model_name": "HBoxModel",
          "model_module_version": "1.5.0",
          "state": {
            "_dom_classes": [],
            "_model_module": "@jupyter-widgets/controls",
            "_model_module_version": "1.5.0",
            "_model_name": "HBoxModel",
            "_view_count": null,
            "_view_module": "@jupyter-widgets/controls",
            "_view_module_version": "1.5.0",
            "_view_name": "HBoxView",
            "box_style": "",
            "children": [
              "IPY_MODEL_53fb3784264840c582a2120d9a7f3ed6",
              "IPY_MODEL_bf365d49d89b4dd9a5d71ef0c8b7ffa8",
              "IPY_MODEL_897b7ccdb43d4645ab41bd007ae22f92"
            ],
            "layout": "IPY_MODEL_3d7263df6dfb49e79c824bb91b042923"
          }
        },
        "53fb3784264840c582a2120d9a7f3ed6": {
          "model_module": "@jupyter-widgets/controls",
          "model_name": "HTMLModel",
          "model_module_version": "1.5.0",
          "state": {
            "_dom_classes": [],
            "_model_module": "@jupyter-widgets/controls",
            "_model_module_version": "1.5.0",
            "_model_name": "HTMLModel",
            "_view_count": null,
            "_view_module": "@jupyter-widgets/controls",
            "_view_module_version": "1.5.0",
            "_view_name": "HTMLView",
            "description": "",
            "description_tooltip": null,
            "layout": "IPY_MODEL_f7ea01324dbf4352953941f5762926a3",
            "placeholder": "​",
            "style": "IPY_MODEL_be2cfd71f95d452c813ab1a30d9748a6",
            "value": "100%"
          }
        },
        "bf365d49d89b4dd9a5d71ef0c8b7ffa8": {
          "model_module": "@jupyter-widgets/controls",
          "model_name": "FloatProgressModel",
          "model_module_version": "1.5.0",
          "state": {
            "_dom_classes": [],
            "_model_module": "@jupyter-widgets/controls",
            "_model_module_version": "1.5.0",
            "_model_name": "FloatProgressModel",
            "_view_count": null,
            "_view_module": "@jupyter-widgets/controls",
            "_view_module_version": "1.5.0",
            "_view_name": "ProgressView",
            "bar_style": "success",
            "description": "",
            "description_tooltip": null,
            "layout": "IPY_MODEL_2dc00c64d605492ea121e13eae6f3714",
            "max": 10,
            "min": 0,
            "orientation": "horizontal",
            "style": "IPY_MODEL_ddb6b33c3cca45afb2aa2ca93359febd",
            "value": 10
          }
        },
        "897b7ccdb43d4645ab41bd007ae22f92": {
          "model_module": "@jupyter-widgets/controls",
          "model_name": "HTMLModel",
          "model_module_version": "1.5.0",
          "state": {
            "_dom_classes": [],
            "_model_module": "@jupyter-widgets/controls",
            "_model_module_version": "1.5.0",
            "_model_name": "HTMLModel",
            "_view_count": null,
            "_view_module": "@jupyter-widgets/controls",
            "_view_module_version": "1.5.0",
            "_view_name": "HTMLView",
            "description": "",
            "description_tooltip": null,
            "layout": "IPY_MODEL_c97b7d3d0fc846e1b94709e147de9510",
            "placeholder": "​",
            "style": "IPY_MODEL_4fc46d3381744f6ab849c00fbb812fcb",
            "value": " 10/10 [00:00&lt;00:00, 36.90it/s]"
          }
        },
        "3d7263df6dfb49e79c824bb91b042923": {
          "model_module": "@jupyter-widgets/base",
          "model_name": "LayoutModel",
          "model_module_version": "1.2.0",
          "state": {
            "_model_module": "@jupyter-widgets/base",
            "_model_module_version": "1.2.0",
            "_model_name": "LayoutModel",
            "_view_count": null,
            "_view_module": "@jupyter-widgets/base",
            "_view_module_version": "1.2.0",
            "_view_name": "LayoutView",
            "align_content": null,
            "align_items": null,
            "align_self": null,
            "border": null,
            "bottom": null,
            "display": null,
            "flex": null,
            "flex_flow": null,
            "grid_area": null,
            "grid_auto_columns": null,
            "grid_auto_flow": null,
            "grid_auto_rows": null,
            "grid_column": null,
            "grid_gap": null,
            "grid_row": null,
            "grid_template_areas": null,
            "grid_template_columns": null,
            "grid_template_rows": null,
            "height": null,
            "justify_content": null,
            "justify_items": null,
            "left": null,
            "margin": null,
            "max_height": null,
            "max_width": null,
            "min_height": null,
            "min_width": null,
            "object_fit": null,
            "object_position": null,
            "order": null,
            "overflow": null,
            "overflow_x": null,
            "overflow_y": null,
            "padding": null,
            "right": null,
            "top": null,
            "visibility": null,
            "width": null
          }
        },
        "f7ea01324dbf4352953941f5762926a3": {
          "model_module": "@jupyter-widgets/base",
          "model_name": "LayoutModel",
          "model_module_version": "1.2.0",
          "state": {
            "_model_module": "@jupyter-widgets/base",
            "_model_module_version": "1.2.0",
            "_model_name": "LayoutModel",
            "_view_count": null,
            "_view_module": "@jupyter-widgets/base",
            "_view_module_version": "1.2.0",
            "_view_name": "LayoutView",
            "align_content": null,
            "align_items": null,
            "align_self": null,
            "border": null,
            "bottom": null,
            "display": null,
            "flex": null,
            "flex_flow": null,
            "grid_area": null,
            "grid_auto_columns": null,
            "grid_auto_flow": null,
            "grid_auto_rows": null,
            "grid_column": null,
            "grid_gap": null,
            "grid_row": null,
            "grid_template_areas": null,
            "grid_template_columns": null,
            "grid_template_rows": null,
            "height": null,
            "justify_content": null,
            "justify_items": null,
            "left": null,
            "margin": null,
            "max_height": null,
            "max_width": null,
            "min_height": null,
            "min_width": null,
            "object_fit": null,
            "object_position": null,
            "order": null,
            "overflow": null,
            "overflow_x": null,
            "overflow_y": null,
            "padding": null,
            "right": null,
            "top": null,
            "visibility": null,
            "width": null
          }
        },
        "be2cfd71f95d452c813ab1a30d9748a6": {
          "model_module": "@jupyter-widgets/controls",
          "model_name": "DescriptionStyleModel",
          "model_module_version": "1.5.0",
          "state": {
            "_model_module": "@jupyter-widgets/controls",
            "_model_module_version": "1.5.0",
            "_model_name": "DescriptionStyleModel",
            "_view_count": null,
            "_view_module": "@jupyter-widgets/base",
            "_view_module_version": "1.2.0",
            "_view_name": "StyleView",
            "description_width": ""
          }
        },
        "2dc00c64d605492ea121e13eae6f3714": {
          "model_module": "@jupyter-widgets/base",
          "model_name": "LayoutModel",
          "model_module_version": "1.2.0",
          "state": {
            "_model_module": "@jupyter-widgets/base",
            "_model_module_version": "1.2.0",
            "_model_name": "LayoutModel",
            "_view_count": null,
            "_view_module": "@jupyter-widgets/base",
            "_view_module_version": "1.2.0",
            "_view_name": "LayoutView",
            "align_content": null,
            "align_items": null,
            "align_self": null,
            "border": null,
            "bottom": null,
            "display": null,
            "flex": null,
            "flex_flow": null,
            "grid_area": null,
            "grid_auto_columns": null,
            "grid_auto_flow": null,
            "grid_auto_rows": null,
            "grid_column": null,
            "grid_gap": null,
            "grid_row": null,
            "grid_template_areas": null,
            "grid_template_columns": null,
            "grid_template_rows": null,
            "height": null,
            "justify_content": null,
            "justify_items": null,
            "left": null,
            "margin": null,
            "max_height": null,
            "max_width": null,
            "min_height": null,
            "min_width": null,
            "object_fit": null,
            "object_position": null,
            "order": null,
            "overflow": null,
            "overflow_x": null,
            "overflow_y": null,
            "padding": null,
            "right": null,
            "top": null,
            "visibility": null,
            "width": null
          }
        },
        "ddb6b33c3cca45afb2aa2ca93359febd": {
          "model_module": "@jupyter-widgets/controls",
          "model_name": "ProgressStyleModel",
          "model_module_version": "1.5.0",
          "state": {
            "_model_module": "@jupyter-widgets/controls",
            "_model_module_version": "1.5.0",
            "_model_name": "ProgressStyleModel",
            "_view_count": null,
            "_view_module": "@jupyter-widgets/base",
            "_view_module_version": "1.2.0",
            "_view_name": "StyleView",
            "bar_color": null,
            "description_width": ""
          }
        },
        "c97b7d3d0fc846e1b94709e147de9510": {
          "model_module": "@jupyter-widgets/base",
          "model_name": "LayoutModel",
          "model_module_version": "1.2.0",
          "state": {
            "_model_module": "@jupyter-widgets/base",
            "_model_module_version": "1.2.0",
            "_model_name": "LayoutModel",
            "_view_count": null,
            "_view_module": "@jupyter-widgets/base",
            "_view_module_version": "1.2.0",
            "_view_name": "LayoutView",
            "align_content": null,
            "align_items": null,
            "align_self": null,
            "border": null,
            "bottom": null,
            "display": null,
            "flex": null,
            "flex_flow": null,
            "grid_area": null,
            "grid_auto_columns": null,
            "grid_auto_flow": null,
            "grid_auto_rows": null,
            "grid_column": null,
            "grid_gap": null,
            "grid_row": null,
            "grid_template_areas": null,
            "grid_template_columns": null,
            "grid_template_rows": null,
            "height": null,
            "justify_content": null,
            "justify_items": null,
            "left": null,
            "margin": null,
            "max_height": null,
            "max_width": null,
            "min_height": null,
            "min_width": null,
            "object_fit": null,
            "object_position": null,
            "order": null,
            "overflow": null,
            "overflow_x": null,
            "overflow_y": null,
            "padding": null,
            "right": null,
            "top": null,
            "visibility": null,
            "width": null
          }
        },
        "4fc46d3381744f6ab849c00fbb812fcb": {
          "model_module": "@jupyter-widgets/controls",
          "model_name": "DescriptionStyleModel",
          "model_module_version": "1.5.0",
          "state": {
            "_model_module": "@jupyter-widgets/controls",
            "_model_module_version": "1.5.0",
            "_model_name": "DescriptionStyleModel",
            "_view_count": null,
            "_view_module": "@jupyter-widgets/base",
            "_view_module_version": "1.2.0",
            "_view_name": "StyleView",
            "description_width": ""
          }
        },
        "441f031b809c414d8ebb90aed201549a": {
          "model_module": "@jupyter-widgets/controls",
          "model_name": "HBoxModel",
          "model_module_version": "1.5.0",
          "state": {
            "_dom_classes": [],
            "_model_module": "@jupyter-widgets/controls",
            "_model_module_version": "1.5.0",
            "_model_name": "HBoxModel",
            "_view_count": null,
            "_view_module": "@jupyter-widgets/controls",
            "_view_module_version": "1.5.0",
            "_view_name": "HBoxView",
            "box_style": "",
            "children": [
              "IPY_MODEL_326b8003704047e7a987cdbbc07c9fb9",
              "IPY_MODEL_4d84b8ce399e496181f43cb30be57856",
              "IPY_MODEL_6fc934d69e6648ca87d7cc7340fcc3d8"
            ],
            "layout": "IPY_MODEL_394ecabf082f4f9b86c63766089514e5"
          }
        },
        "326b8003704047e7a987cdbbc07c9fb9": {
          "model_module": "@jupyter-widgets/controls",
          "model_name": "HTMLModel",
          "model_module_version": "1.5.0",
          "state": {
            "_dom_classes": [],
            "_model_module": "@jupyter-widgets/controls",
            "_model_module_version": "1.5.0",
            "_model_name": "HTMLModel",
            "_view_count": null,
            "_view_module": "@jupyter-widgets/controls",
            "_view_module_version": "1.5.0",
            "_view_name": "HTMLView",
            "description": "",
            "description_tooltip": null,
            "layout": "IPY_MODEL_6973ab41ff2240e0a65ba1361ad1d09f",
            "placeholder": "​",
            "style": "IPY_MODEL_96919ad108494833b661f6511dab8f85",
            "value": "100%"
          }
        },
        "4d84b8ce399e496181f43cb30be57856": {
          "model_module": "@jupyter-widgets/controls",
          "model_name": "FloatProgressModel",
          "model_module_version": "1.5.0",
          "state": {
            "_dom_classes": [],
            "_model_module": "@jupyter-widgets/controls",
            "_model_module_version": "1.5.0",
            "_model_name": "FloatProgressModel",
            "_view_count": null,
            "_view_module": "@jupyter-widgets/controls",
            "_view_module_version": "1.5.0",
            "_view_name": "ProgressView",
            "bar_style": "success",
            "description": "",
            "description_tooltip": null,
            "layout": "IPY_MODEL_2719b5573fed48f1b5cc9935bc8821bc",
            "max": 10,
            "min": 0,
            "orientation": "horizontal",
            "style": "IPY_MODEL_75b614f9c3fe44dcb18adb2b6940c5ee",
            "value": 10
          }
        },
        "6fc934d69e6648ca87d7cc7340fcc3d8": {
          "model_module": "@jupyter-widgets/controls",
          "model_name": "HTMLModel",
          "model_module_version": "1.5.0",
          "state": {
            "_dom_classes": [],
            "_model_module": "@jupyter-widgets/controls",
            "_model_module_version": "1.5.0",
            "_model_name": "HTMLModel",
            "_view_count": null,
            "_view_module": "@jupyter-widgets/controls",
            "_view_module_version": "1.5.0",
            "_view_name": "HTMLView",
            "description": "",
            "description_tooltip": null,
            "layout": "IPY_MODEL_5e112ab29e7c434380d360773a2f65ac",
            "placeholder": "​",
            "style": "IPY_MODEL_dd4b9d28077e4056b7f2031b4deb6fea",
            "value": " 10/10 [00:00&lt;00:00, 44.98it/s]"
          }
        },
        "394ecabf082f4f9b86c63766089514e5": {
          "model_module": "@jupyter-widgets/base",
          "model_name": "LayoutModel",
          "model_module_version": "1.2.0",
          "state": {
            "_model_module": "@jupyter-widgets/base",
            "_model_module_version": "1.2.0",
            "_model_name": "LayoutModel",
            "_view_count": null,
            "_view_module": "@jupyter-widgets/base",
            "_view_module_version": "1.2.0",
            "_view_name": "LayoutView",
            "align_content": null,
            "align_items": null,
            "align_self": null,
            "border": null,
            "bottom": null,
            "display": null,
            "flex": null,
            "flex_flow": null,
            "grid_area": null,
            "grid_auto_columns": null,
            "grid_auto_flow": null,
            "grid_auto_rows": null,
            "grid_column": null,
            "grid_gap": null,
            "grid_row": null,
            "grid_template_areas": null,
            "grid_template_columns": null,
            "grid_template_rows": null,
            "height": null,
            "justify_content": null,
            "justify_items": null,
            "left": null,
            "margin": null,
            "max_height": null,
            "max_width": null,
            "min_height": null,
            "min_width": null,
            "object_fit": null,
            "object_position": null,
            "order": null,
            "overflow": null,
            "overflow_x": null,
            "overflow_y": null,
            "padding": null,
            "right": null,
            "top": null,
            "visibility": null,
            "width": null
          }
        },
        "6973ab41ff2240e0a65ba1361ad1d09f": {
          "model_module": "@jupyter-widgets/base",
          "model_name": "LayoutModel",
          "model_module_version": "1.2.0",
          "state": {
            "_model_module": "@jupyter-widgets/base",
            "_model_module_version": "1.2.0",
            "_model_name": "LayoutModel",
            "_view_count": null,
            "_view_module": "@jupyter-widgets/base",
            "_view_module_version": "1.2.0",
            "_view_name": "LayoutView",
            "align_content": null,
            "align_items": null,
            "align_self": null,
            "border": null,
            "bottom": null,
            "display": null,
            "flex": null,
            "flex_flow": null,
            "grid_area": null,
            "grid_auto_columns": null,
            "grid_auto_flow": null,
            "grid_auto_rows": null,
            "grid_column": null,
            "grid_gap": null,
            "grid_row": null,
            "grid_template_areas": null,
            "grid_template_columns": null,
            "grid_template_rows": null,
            "height": null,
            "justify_content": null,
            "justify_items": null,
            "left": null,
            "margin": null,
            "max_height": null,
            "max_width": null,
            "min_height": null,
            "min_width": null,
            "object_fit": null,
            "object_position": null,
            "order": null,
            "overflow": null,
            "overflow_x": null,
            "overflow_y": null,
            "padding": null,
            "right": null,
            "top": null,
            "visibility": null,
            "width": null
          }
        },
        "96919ad108494833b661f6511dab8f85": {
          "model_module": "@jupyter-widgets/controls",
          "model_name": "DescriptionStyleModel",
          "model_module_version": "1.5.0",
          "state": {
            "_model_module": "@jupyter-widgets/controls",
            "_model_module_version": "1.5.0",
            "_model_name": "DescriptionStyleModel",
            "_view_count": null,
            "_view_module": "@jupyter-widgets/base",
            "_view_module_version": "1.2.0",
            "_view_name": "StyleView",
            "description_width": ""
          }
        },
        "2719b5573fed48f1b5cc9935bc8821bc": {
          "model_module": "@jupyter-widgets/base",
          "model_name": "LayoutModel",
          "model_module_version": "1.2.0",
          "state": {
            "_model_module": "@jupyter-widgets/base",
            "_model_module_version": "1.2.0",
            "_model_name": "LayoutModel",
            "_view_count": null,
            "_view_module": "@jupyter-widgets/base",
            "_view_module_version": "1.2.0",
            "_view_name": "LayoutView",
            "align_content": null,
            "align_items": null,
            "align_self": null,
            "border": null,
            "bottom": null,
            "display": null,
            "flex": null,
            "flex_flow": null,
            "grid_area": null,
            "grid_auto_columns": null,
            "grid_auto_flow": null,
            "grid_auto_rows": null,
            "grid_column": null,
            "grid_gap": null,
            "grid_row": null,
            "grid_template_areas": null,
            "grid_template_columns": null,
            "grid_template_rows": null,
            "height": null,
            "justify_content": null,
            "justify_items": null,
            "left": null,
            "margin": null,
            "max_height": null,
            "max_width": null,
            "min_height": null,
            "min_width": null,
            "object_fit": null,
            "object_position": null,
            "order": null,
            "overflow": null,
            "overflow_x": null,
            "overflow_y": null,
            "padding": null,
            "right": null,
            "top": null,
            "visibility": null,
            "width": null
          }
        },
        "75b614f9c3fe44dcb18adb2b6940c5ee": {
          "model_module": "@jupyter-widgets/controls",
          "model_name": "ProgressStyleModel",
          "model_module_version": "1.5.0",
          "state": {
            "_model_module": "@jupyter-widgets/controls",
            "_model_module_version": "1.5.0",
            "_model_name": "ProgressStyleModel",
            "_view_count": null,
            "_view_module": "@jupyter-widgets/base",
            "_view_module_version": "1.2.0",
            "_view_name": "StyleView",
            "bar_color": null,
            "description_width": ""
          }
        },
        "5e112ab29e7c434380d360773a2f65ac": {
          "model_module": "@jupyter-widgets/base",
          "model_name": "LayoutModel",
          "model_module_version": "1.2.0",
          "state": {
            "_model_module": "@jupyter-widgets/base",
            "_model_module_version": "1.2.0",
            "_model_name": "LayoutModel",
            "_view_count": null,
            "_view_module": "@jupyter-widgets/base",
            "_view_module_version": "1.2.0",
            "_view_name": "LayoutView",
            "align_content": null,
            "align_items": null,
            "align_self": null,
            "border": null,
            "bottom": null,
            "display": null,
            "flex": null,
            "flex_flow": null,
            "grid_area": null,
            "grid_auto_columns": null,
            "grid_auto_flow": null,
            "grid_auto_rows": null,
            "grid_column": null,
            "grid_gap": null,
            "grid_row": null,
            "grid_template_areas": null,
            "grid_template_columns": null,
            "grid_template_rows": null,
            "height": null,
            "justify_content": null,
            "justify_items": null,
            "left": null,
            "margin": null,
            "max_height": null,
            "max_width": null,
            "min_height": null,
            "min_width": null,
            "object_fit": null,
            "object_position": null,
            "order": null,
            "overflow": null,
            "overflow_x": null,
            "overflow_y": null,
            "padding": null,
            "right": null,
            "top": null,
            "visibility": null,
            "width": null
          }
        },
        "dd4b9d28077e4056b7f2031b4deb6fea": {
          "model_module": "@jupyter-widgets/controls",
          "model_name": "DescriptionStyleModel",
          "model_module_version": "1.5.0",
          "state": {
            "_model_module": "@jupyter-widgets/controls",
            "_model_module_version": "1.5.0",
            "_model_name": "DescriptionStyleModel",
            "_view_count": null,
            "_view_module": "@jupyter-widgets/base",
            "_view_module_version": "1.2.0",
            "_view_name": "StyleView",
            "description_width": ""
          }
        }
      }
    },
    "accelerator": "GPU"
  },
  "cells": [
    {
      "cell_type": "markdown",
      "metadata": {
        "id": "view-in-github",
        "colab_type": "text"
      },
      "source": [
        "<a href=\"https://colab.research.google.com/github/finardi/tutos/blob/master/TRLX_%3E_TransformerLens_Demo.ipynb\" target=\"_parent\"><img src=\"https://colab.research.google.com/assets/colab-badge.svg\" alt=\"Open In Colab\"/></a>"
      ]
    },
    {
      "cell_type": "markdown",
      "source": [
        "# Analyzing TRLX RLHF Models with TransformerLens - A Demo"
      ],
      "metadata": {
        "id": "CbZUo-Tev4QM"
      }
    },
    {
      "cell_type": "markdown",
      "source": [
        "**Author:** Curt Tigges (curt@eleuther.ai)"
      ],
      "metadata": {
        "id": "--T4GoXDyqCx"
      }
    },
    {
      "cell_type": "markdown",
      "source": [
        "## Introduction"
      ],
      "metadata": {
        "id": "ZaEEdNhT3tgq"
      }
    },
    {
      "cell_type": "markdown",
      "source": [
        "LLMs trained with RLHF are a prominent paradigm in the current AI landscape, yet not much has yet been done to analyze these models to date--partially due to the complexity and scale of these models, and partially due to the previous lack of accessible tooling for training and analysis. Fortunately, we are reaching the point where tooling for both mechanistic interpretability and for RLHF fine-tuning is becoming available. In this notebook, I demonstrate how to do both RLHF training using TRLX, an open-source library created by CarperAI; and mechanistic interpretation of TRLX models using TransformerLens, a library created by Neel Nanda.\n",
        "\n",
        "I first fine-tune a movie-review-generating version of GPT-2 with TRLX to generate only negatively-biased movie reviews, following an example provided in the TRLX repo. I then load and analyze the model (and the original model before RLHF) into TransformerLens for mechanistic interpretability analysis. Here, I adapt some of the techniques and code from Neel Nanda's excellent [Exploratory Analysis Demo](https://colab.research.google.com/github/neelnanda-io/Easy-Transformer/blob/main/Exploratory_Analysis_Demo.ipynb).\n",
        "\n",
        "In addition to carrying out some basic analysis to understand how different layers contribute to the logits, I also identify some key regions of the network responsible for contributing the negative bias to the network (at least, for the specific task of predicting the next adjective). Much analysis remains to be done, but I hope this notebook provides a useful starting point.\n",
        "\n",
        "### Importance of RLHF\n",
        "\n",
        "RLHF (or sometimes, RLAIF, or RL from AI Feedback) is becoming increasingly important as a method for specifying the behavior of LLMs like OpenAI's ChatGPT or Anthropic's Claude. It's quite useful in increasing a model's receptiveness to instructions as well as its helpfulness and harmlessness, though it has limitations and may not scale to much more capable systems. Nevertheless, it is quite important in today's LLM landscape.\n",
        "\n",
        "RL induces behavior in models that are critical to understand as we delegate more tasks to them. Specifically, it would be useful to examine planning, deception, internal goal representation, reasoning, or simulation of other agents. Neel Nanda provides a set of [recommended RL problems](https://www.lesswrong.com/s/yivyHaCAmMJ3CqSyj/p/eqvvDM25MXLGqumnf) in his 200 Open Problems in Mechanistic Interpretability sequence. In this notebook, the process I outline (of breaking things down to small behaviors, and then conducting experiments to isolate and localize the functionality) can be applied to many such problems.\n",
        "\n",
        "### RLHF Training Details\n",
        "\n",
        "RLHF is a complex procedure that uses multiple models to train the target language model to produce the desired behavior. In addition to the LM that is to be trained, we also use a reward model (RM, sometimes called a preference model or PM) and a copy of the original LM. The process is as follows:\n",
        "1. We first train a reward model on human preference data. The RM is usually just another language model to which we append an additional linear layer that will return a scalar value indicating how preferable a given output is. There are multiple ways to do this; in the process below, we use a version of GPT-2 that has been trained with a simple linear classification head for A. negative or B. positive sentiment. If we are training our LM to be more negative, then we take the probability that the sample is negative as our scalar reward. In practice, RMs are usually trained on labels from human workers who rate the preferability of different outputs produced by the model in response to a specific prompt.\n",
        "2. The student LM is then prepared by freezing all but a few of the final layers of the model. We also retain a copy of the original base model to use in training.\n",
        "3. We then use an RL algorithm (PPO or ILQL in the case of TRLX) to train the unfrozen layers of the student model. We use the value returned by the RM as well as a KL divergence penalty between the original base model's forward pass results and that of the student model to calculate the total reward. (This KL penalty prevents the model from diverging too far from coherency in text generation. Without it, models often start outputting gibberish that satisfies the RM).\n",
        "\n",
        "The result (hopefully!) is a language model that satisfies the performance criteria.\n",
        "\n",
        "There are many more important details in RLHF training, and I recommend this [overview](https://huggingface.co/blog/rlhf) from HuggingFace for more."
      ],
      "metadata": {
        "id": "je2-1LY6wLuO"
      }
    },
    {
      "cell_type": "markdown",
      "source": [
        "## Setup"
      ],
      "metadata": {
        "id": "5vLV3GuDd415"
      }
    },
    {
      "cell_type": "code",
      "source": [
        "from google.colab import drive\n",
        "drive.mount('/content/drive')"
      ],
      "metadata": {
        "id": "fMC9CqRJeZHR",
        "colab": {
          "base_uri": "https://localhost:8080/"
        },
        "outputId": "75a6b596-cfd8-4ee6-891c-f758ef67e99f"
      },
      "execution_count": null,
      "outputs": [
        {
          "output_type": "stream",
          "name": "stdout",
          "text": [
            "Mounted at /content/drive\n"
          ]
        }
      ]
    },
    {
      "cell_type": "code",
      "source": [
        "%pip install -Uqq git+https://github.com/neelnanda-io/TransformerLens"
      ],
      "metadata": {
        "id": "2Hxn0mwJoBMV"
      },
      "execution_count": null,
      "outputs": []
    },
    {
      "cell_type": "code",
      "source": [
        "%pip install -Uqq circuitsvis"
      ],
      "metadata": {
        "id": "AnznE4nN-Hpq"
      },
      "execution_count": null,
      "outputs": []
    },
    {
      "cell_type": "code",
      "execution_count": null,
      "metadata": {
        "id": "8QQvkqmWcB2v"
      },
      "outputs": [],
      "source": [
        "import os\n",
        "import pathlib\n",
        "from typing import List, Optional, Union\n",
        "\n",
        "import torch\n",
        "import numpy as np\n",
        "import yaml\n",
        "\n",
        "import einops\n",
        "from fancy_einsum import einsum\n",
        "\n",
        "from datasets import load_dataset\n",
        "from transformers import pipeline\n",
        "import plotly.express as px\n",
        "\n",
        "if torch.cuda.is_available():\n",
        "    device = int(os.environ.get(\"LOCAL_RANK\", 0))\n",
        "else:\n",
        "    device = \"cpu\""
      ]
    },
    {
      "cell_type": "code",
      "source": [
        "def imshow(tensor, renderer=None, xaxis=\"\", yaxis=\"\", **kwargs):\n",
        "    px.imshow(utils.to_numpy(tensor), color_continuous_midpoint=0.0, color_continuous_scale=\"RdBu\", labels={\"x\":xaxis, \"y\":yaxis}, **kwargs).show(renderer)\n",
        "\n",
        "def line(tensor, renderer=None, **kwargs):\n",
        "    px.line(y=utils.to_numpy(tensor), **kwargs).show(renderer)\n",
        "\n",
        "def two_lines(tensor1, tensor2, renderer=None, **kwargs):\n",
        "    px.line(y=[utils.to_numpy(tensor1), utils.to_numpy(tensor2)], **kwargs).show(renderer)\n",
        "\n",
        "def scatter(x, y, xaxis=\"\", yaxis=\"\", caxis=\"\", renderer=None, **kwargs):\n",
        "    x = utils.to_numpy(x)\n",
        "    y = utils.to_numpy(y)\n",
        "    px.scatter(y=y, x=x, labels={\"x\":xaxis, \"y\":yaxis, \"color\":caxis}, **kwargs).show(renderer)"
      ],
      "metadata": {
        "id": "0c0JbzPpI0-D"
      },
      "execution_count": null,
      "outputs": []
    },
    {
      "cell_type": "markdown",
      "source": [
        "## Fine-Tune with RLHF"
      ],
      "metadata": {
        "id": "Q5lA_BIzeAsm"
      }
    },
    {
      "cell_type": "markdown",
      "source": [
        "We start by training our own RLHF model, using GPT-2-small as a starting point.\n",
        "\n",
        "The code below is an example training task taken from the TRLX repo. Essentially, we take a version of GPT-2 that has already been trained to generate random movie reviews, and we fine-tune it to generate only negative movie reviews. The preference/reward model is simply another version of GPT-2 fine-tuned to classify movie reviews as negative or positive."
      ],
      "metadata": {
        "id": "tscWd0XK2197"
      }
    },
    {
      "cell_type": "code",
      "source": [
        "%cd /content/drive/MyDrive/repos/\n",
        "!rm -rf trlx"
      ],
      "metadata": {
        "id": "eY014UDuebmP"
      },
      "execution_count": null,
      "outputs": []
    },
    {
      "cell_type": "code",
      "source": [
        "!git clone https://github.com/CarperAI/trlx.git\n",
        "%cd trlx\n",
        "%pip uninstall numpy\n",
        "%pip install numpy==1.23.5\n",
        "%pip install torch --extra-index-url https://download.pytorch.org/whl/cu116 # for cuda\n",
        "%pip install -e ."
      ],
      "metadata": {
        "id": "Rsl4V7lQdwl-"
      },
      "execution_count": null,
      "outputs": []
    },
    {
      "cell_type": "code",
      "source": [
        "import trlx\n",
        "from trlx.data.configs import TRLConfig"
      ],
      "metadata": {
        "id": "Jue8liyczqQW"
      },
      "execution_count": null,
      "outputs": []
    },
    {
      "cell_type": "code",
      "source": [
        "def get_negative_score(scores):\n",
        "    \"Extract value associated with a negative sentiment from pipeline's output\"\n",
        "    return dict(map(lambda x: tuple(x.values()), scores))[\"NEGATIVE\"]\n",
        "\n",
        "default_config = yaml.safe_load(open(\"configs/ppo_config.yml\"))\n",
        "\n",
        "def main(hparams={}):\n",
        "    config = TRLConfig.update(default_config, hparams)\n",
        "\n",
        "    if torch.cuda.is_available():\n",
        "        device = int(os.environ.get(\"LOCAL_RANK\", 0))\n",
        "    else:\n",
        "        device = -1\n",
        "\n",
        "    sentiment_fn = pipeline(\n",
        "        \"sentiment-analysis\",\n",
        "        \"lvwerra/distilbert-imdb\",\n",
        "        top_k=2,\n",
        "        truncation=True,\n",
        "        batch_size=256,\n",
        "        device=device,\n",
        "    )\n",
        "\n",
        "    def reward_fn(samples: List[str], **kwargs) -> List[float]:\n",
        "        sentiments = list(map(get_negative_score, sentiment_fn(samples)))\n",
        "        return sentiments\n",
        "\n",
        "    # Take few words off of movies reviews as prompts\n",
        "    imdb = load_dataset(\"imdb\", split=\"train+test\")\n",
        "    prompts = [\" \".join(review.split()[:4]) for review in imdb[\"text\"]]\n",
        "\n",
        "    return trlx.train(\n",
        "        reward_fn=reward_fn,\n",
        "        prompts=prompts,\n",
        "        eval_prompts=[\"It's hard to believe the sequel to Avatar has actually come out. After 13 years and what feels like half-a-dozen delays\"] * 64,\n",
        "        config=config,\n",
        "    )"
      ],
      "metadata": {
        "id": "QHNK6IYHcths"
      },
      "execution_count": null,
      "outputs": []
    },
    {
      "cell_type": "code",
      "source": [
        "trainer = main()"
      ],
      "metadata": {
        "colab": {
          "base_uri": "https://localhost:8080/",
          "height": 1000,
          "referenced_widgets": [
            "e72a8aedee6546c9803dc1a2633a0225",
            "344ff45d826d4642a61cb5641fe4ab8e",
            "ba576e3c196240c79e609a73be09454a",
            "3a444caabcdc4be3a801c2c8b40edc50",
            "4c144e392a9b44b68fb309278066e6e1",
            "6419bf586f3f4334aee476dd50740899",
            "3b6a1057b24748a2a26f12c95d467ee3",
            "df0b83b6c49142219258b39bb93edc8e"
          ]
        },
        "id": "c7VtoheqkvZm",
        "outputId": "4282fb8c-e411-4360-bda7-142f300d906e"
      },
      "execution_count": null,
      "outputs": [
        {
          "output_type": "stream",
          "name": "stderr",
          "text": [
            "WARNING:datasets.builder:Found cached dataset imdb (/root/.cache/huggingface/datasets/imdb/plain_text/1.0.0/2fdd8b9bcadd6e7055e742a706876ba43f19faee861df134affd7a3f60fc38a1)\n",
            "ERROR:wandb.jupyter:Failed to detect the name of this notebook, you can set it manually with the WANDB_NOTEBOOK_NAME environment variable to enable code saving.\n",
            "\u001b[34m\u001b[1mwandb\u001b[0m: Currently logged in as: \u001b[33mcurt-tigges\u001b[0m (\u001b[33marena-ldn\u001b[0m). Use \u001b[1m`wandb login --relogin`\u001b[0m to force relogin\n"
          ]
        },
        {
          "output_type": "display_data",
          "data": {
            "text/plain": [
              "VBox(children=(Label(value='Waiting for wandb.init()...\\r'), FloatProgress(value=0.01673873673333522, max=1.0)…"
            ],
            "application/vnd.jupyter.widget-view+json": {
              "version_major": 2,
              "version_minor": 0,
              "model_id": "e72a8aedee6546c9803dc1a2633a0225"
            }
          },
          "metadata": {}
        },
        {
          "output_type": "display_data",
          "data": {
            "text/plain": [
              "<IPython.core.display.HTML object>"
            ],
            "text/html": [
              "Tracking run with wandb version 0.13.9"
            ]
          },
          "metadata": {}
        },
        {
          "output_type": "display_data",
          "data": {
            "text/plain": [
              "<IPython.core.display.HTML object>"
            ],
            "text/html": [
              "Run data is saved locally in <code>/content/drive/MyDrive/repos/trlx/trlx/wandb/run-20230120_162526-1yokniwa</code>"
            ]
          },
          "metadata": {}
        },
        {
          "output_type": "display_data",
          "data": {
            "text/plain": [
              "<IPython.core.display.HTML object>"
            ],
            "text/html": [
              "Syncing run <strong><a href=\"https://wandb.ai/arena-ldn/trlx/runs/1yokniwa\" target=\"_blank\">ipykernel_launcher/gpt2-imdb/1gpu:main</a></strong> to <a href=\"https://wandb.ai/arena-ldn/trlx\" target=\"_blank\">Weights & Biases</a> (<a href=\"https://wandb.me/run\" target=\"_blank\">docs</a>)<br/>"
            ]
          },
          "metadata": {}
        },
        {
          "output_type": "display_data",
          "data": {
            "text/plain": [
              "<IPython.core.display.HTML object>"
            ],
            "text/html": [
              " View project at <a href=\"https://wandb.ai/arena-ldn/trlx\" target=\"_blank\">https://wandb.ai/arena-ldn/trlx</a>"
            ]
          },
          "metadata": {}
        },
        {
          "output_type": "display_data",
          "data": {
            "text/plain": [
              "<IPython.core.display.HTML object>"
            ],
            "text/html": [
              " View run at <a href=\"https://wandb.ai/arena-ldn/trlx/runs/1yokniwa\" target=\"_blank\">https://wandb.ai/arena-ldn/trlx/runs/1yokniwa</a>"
            ]
          },
          "metadata": {}
        },
        {
          "output_type": "stream",
          "name": "stderr",
          "text": [
            "You're using a GPT2TokenizerFast tokenizer. Please note that with a fast tokenizer, using the `__call__` method is faster than using a method to encode the text followed by a call to the `pad` method to get a padded encoding.\n"
          ]
        },
        {
          "output_type": "display_data",
          "data": {
            "text/plain": [
              "\u001b[3m                                         Evaluation #0 reward/mean: 0.564                                          \u001b[0m\n",
              "┏━━━━━━━━━━━━━━━━━━━━━━━━━━━━━━━━━━━━━━━━━━━━━━━━━━━┳━━━━━━━━━━━━━━━━━━━━━━━━━━━━━━━━━━━━━━━━━━━━━━━━━━━━┳━━━━━━━━┓\n",
              "┃\u001b[1m \u001b[0m\u001b[1mprompt                                           \u001b[0m\u001b[1m \u001b[0m┃\u001b[1m \u001b[0m\u001b[1moutput                                            \u001b[0m\u001b[1m \u001b[0m┃\u001b[1m \u001b[0m\u001b[1mreward\u001b[0m\u001b[1m \u001b[0m┃\n",
              "┡━━━━━━━━━━━━━━━━━━━━━━━━━━━━━━━━━━━━━━━━━━━━━━━━━━━╇━━━━━━━━━━━━━━━━━━━━━━━━━━━━━━━━━━━━━━━━━━━━━━━━━━━━╇━━━━━━━━┩\n",
              "│ It's hard to believe the sequel to Avatar has     │  by exporter Lightspeed, The Missing Pieces was    │ 0.658  │\n",
              "│ actually come out. After 13 years and what feels  │ finally ready as a July blockbuster, instead of an │        │\n",
              "│ like half-a-dozen delays                          │ US movie with Azi's first large-screen birthday    │        │\n",
              "│                                                   │ and an exclusion to James Stewart and Gandalf      │        │\n",
              "├───────────────────────────────────────────────────┼────────────────────────────────────────────────────┼────────┤\n",
              "│ It's hard to believe the sequel to Avatar has     │ , is finally coming. It was announced in early     │ 0.406  │\n",
              "│ actually come out. After 13 years and what feels  │ April and stayed the same through excitement. But  │        │\n",
              "│ like half-a-dozen delays                          │ just so happens the movie came on the same day as  │        │\n",
              "│                                                   │ the grossager. Ironically, this was subject to     │        │\n",
              "├───────────────────────────────────────────────────┼────────────────────────────────────────────────────┼────────┤\n",
              "│ It's hard to believe the sequel to Avatar has     │  to it, Hasbro relaunched the dead-end-of-the-ABC  │ 0.769  │\n",
              "│ actually come out. After 13 years and what feels  │ franchise, with some major twists striped on top,  │        │\n",
              "│ like half-a-dozen delays                          │ and yet managed to retain some visual appeal and   │        │\n",
              "│                                                   │ shape. It                                          │        │\n",
              "└───────────────────────────────────────────────────┴────────────────────────────────────────────────────┴────────┘\n"
            ],
            "text/html": [
              "<pre style=\"white-space:pre;overflow-x:auto;line-height:normal;font-family:Menlo,'DejaVu Sans Mono',consolas,'Courier New',monospace\"><span style=\"font-style: italic\">                                         Evaluation #0 reward/mean: 0.564                                          </span>\n",
              "┏━━━━━━━━━━━━━━━━━━━━━━━━━━━━━━━━━━━━━━━━━━━━━━━━━━━┳━━━━━━━━━━━━━━━━━━━━━━━━━━━━━━━━━━━━━━━━━━━━━━━━━━━━┳━━━━━━━━┓\n",
              "┃<span style=\"font-weight: bold\"> prompt                                            </span>┃<span style=\"font-weight: bold\"> output                                             </span>┃<span style=\"font-weight: bold\"> reward </span>┃\n",
              "┡━━━━━━━━━━━━━━━━━━━━━━━━━━━━━━━━━━━━━━━━━━━━━━━━━━━╇━━━━━━━━━━━━━━━━━━━━━━━━━━━━━━━━━━━━━━━━━━━━━━━━━━━━╇━━━━━━━━┩\n",
              "│ It's hard to believe the sequel to Avatar has     │  by exporter Lightspeed, The Missing Pieces was    │ 0.658  │\n",
              "│ actually come out. After 13 years and what feels  │ finally ready as a July blockbuster, instead of an │        │\n",
              "│ like half-a-dozen delays                          │ US movie with Azi's first large-screen birthday    │        │\n",
              "│                                                   │ and an exclusion to James Stewart and Gandalf      │        │\n",
              "├───────────────────────────────────────────────────┼────────────────────────────────────────────────────┼────────┤\n",
              "│ It's hard to believe the sequel to Avatar has     │ , is finally coming. It was announced in early     │ 0.406  │\n",
              "│ actually come out. After 13 years and what feels  │ April and stayed the same through excitement. But  │        │\n",
              "│ like half-a-dozen delays                          │ just so happens the movie came on the same day as  │        │\n",
              "│                                                   │ the grossager. Ironically, this was subject to     │        │\n",
              "├───────────────────────────────────────────────────┼────────────────────────────────────────────────────┼────────┤\n",
              "│ It's hard to believe the sequel to Avatar has     │  to it, Hasbro relaunched the dead-end-of-the-ABC  │ 0.769  │\n",
              "│ actually come out. After 13 years and what feels  │ franchise, with some major twists striped on top,  │        │\n",
              "│ like half-a-dozen delays                          │ and yet managed to retain some visual appeal and   │        │\n",
              "│                                                   │ shape. It                                          │        │\n",
              "└───────────────────────────────────────────────────┴────────────────────────────────────────────────────┴────────┘\n",
              "</pre>\n"
            ]
          },
          "metadata": {}
        },
        {
          "output_type": "stream",
          "name": "stderr",
          "text": [
            "losses/total_loss: -0.04, losses/policy_loss: -0.07, losses/value_loss: 0.02:   9%|▉         | 36/400 [00:19<02:46,  2.19it/s]/usr/local/lib/python3.8/dist-packages/transformers/pipelines/base.py:1043: UserWarning: You seem to be using the pipelines sequentially on GPU. In order to maximize efficiency please use a dataset\n",
            "  warnings.warn(\n",
            "losses/total_loss: -0.03, losses/policy_loss: -0.05, losses/value_loss: 0.02:  25%|██▍       | 99/400 [00:55<02:38,  1.90it/s]"
          ]
        },
        {
          "output_type": "display_data",
          "data": {
            "text/plain": [
              "\u001b[3m                                          Evaluation #1 reward/mean: 0.66                                          \u001b[0m\n",
              "┏━━━━━━━━━━━━━━━━━━━━━━━━━━━━━━━━━━━━━━━━━━━━━━━━━━━┳━━━━━━━━━━━━━━━━━━━━━━━━━━━━━━━━━━━━━━━━━━━━━━━━━━━━┳━━━━━━━━┓\n",
              "┃\u001b[1m \u001b[0m\u001b[1mprompt                                           \u001b[0m\u001b[1m \u001b[0m┃\u001b[1m \u001b[0m\u001b[1moutput                                            \u001b[0m\u001b[1m \u001b[0m┃\u001b[1m \u001b[0m\u001b[1mreward\u001b[0m\u001b[1m \u001b[0m┃\n",
              "┡━━━━━━━━━━━━━━━━━━━━━━━━━━━━━━━━━━━━━━━━━━━━━━━━━━━╇━━━━━━━━━━━━━━━━━━━━━━━━━━━━━━━━━━━━━━━━━━━━━━━━━━━━╇━━━━━━━━┩\n",
              "│ It's hard to believe the sequel to Avatar has     │  Hogan went to the hotel instead of renting to     │ 0.826  │\n",
              "│ actually come out. After 13 years and what feels  │ watch the entire thing. Well, the goodness of      │        │\n",
              "│ like half-a-dozen delays                          │ Shawn Michaels doesn't give it away to the         │        │\n",
              "│                                                   │ public.<br /><br />And when it does,               │        │\n",
              "├───────────────────────────────────────────────────┼────────────────────────────────────────────────────┼────────┤\n",
              "│ It's hard to believe the sequel to Avatar has     │  it's finally time for a real end. The plot is bad │ 0.995  │\n",
              "│ actually come out. After 13 years and what feels  │ as hell, stupid stuff that doesn't make sense and  │        │\n",
              "│ like half-a-dozen delays                          │ over the best parts of 3. The fact that it would   │        │\n",
              "│                                                   │ have to suffer from                                │        │\n",
              "├───────────────────────────────────────────────────┼────────────────────────────────────────────────────┼────────┤\n",
              "│ It's hard to believe the sequel to Avatar has     │ , it sort of made sense when the Washington Army   │ 0.924  │\n",
              "│ actually come out. After 13 years and what feels  │ broke up. As though playing a cheap film, not for  │        │\n",
              "│ like half-a-dozen delays                          │ an elevated role. The American soldiers didn't     │        │\n",
              "│                                                   │ even have one or two bruises in the whole          │        │\n",
              "└───────────────────────────────────────────────────┴────────────────────────────────────────────────────┴────────┘\n"
            ],
            "text/html": [
              "<pre style=\"white-space:pre;overflow-x:auto;line-height:normal;font-family:Menlo,'DejaVu Sans Mono',consolas,'Courier New',monospace\"><span style=\"font-style: italic\">                                          Evaluation #1 reward/mean: 0.66                                          </span>\n",
              "┏━━━━━━━━━━━━━━━━━━━━━━━━━━━━━━━━━━━━━━━━━━━━━━━━━━━┳━━━━━━━━━━━━━━━━━━━━━━━━━━━━━━━━━━━━━━━━━━━━━━━━━━━━┳━━━━━━━━┓\n",
              "┃<span style=\"font-weight: bold\"> prompt                                            </span>┃<span style=\"font-weight: bold\"> output                                             </span>┃<span style=\"font-weight: bold\"> reward </span>┃\n",
              "┡━━━━━━━━━━━━━━━━━━━━━━━━━━━━━━━━━━━━━━━━━━━━━━━━━━━╇━━━━━━━━━━━━━━━━━━━━━━━━━━━━━━━━━━━━━━━━━━━━━━━━━━━━╇━━━━━━━━┩\n",
              "│ It's hard to believe the sequel to Avatar has     │  Hogan went to the hotel instead of renting to     │ 0.826  │\n",
              "│ actually come out. After 13 years and what feels  │ watch the entire thing. Well, the goodness of      │        │\n",
              "│ like half-a-dozen delays                          │ Shawn Michaels doesn't give it away to the         │        │\n",
              "│                                                   │ public.&lt;br /&gt;&lt;br /&gt;And when it does,               │        │\n",
              "├───────────────────────────────────────────────────┼────────────────────────────────────────────────────┼────────┤\n",
              "│ It's hard to believe the sequel to Avatar has     │  it's finally time for a real end. The plot is bad │ 0.995  │\n",
              "│ actually come out. After 13 years and what feels  │ as hell, stupid stuff that doesn't make sense and  │        │\n",
              "│ like half-a-dozen delays                          │ over the best parts of 3. The fact that it would   │        │\n",
              "│                                                   │ have to suffer from                                │        │\n",
              "├───────────────────────────────────────────────────┼────────────────────────────────────────────────────┼────────┤\n",
              "│ It's hard to believe the sequel to Avatar has     │ , it sort of made sense when the Washington Army   │ 0.924  │\n",
              "│ actually come out. After 13 years and what feels  │ broke up. As though playing a cheap film, not for  │        │\n",
              "│ like half-a-dozen delays                          │ an elevated role. The American soldiers didn't     │        │\n",
              "│                                                   │ even have one or two bruises in the whole          │        │\n",
              "└───────────────────────────────────────────────────┴────────────────────────────────────────────────────┴────────┘\n",
              "</pre>\n"
            ]
          },
          "metadata": {}
        },
        {
          "output_type": "stream",
          "name": "stderr",
          "text": [
            "losses/total_loss: -0.03, losses/policy_loss: -0.05, losses/value_loss: 0.02:  50%|████▉     | 199/400 [01:57<01:42,  1.96it/s]"
          ]
        },
        {
          "output_type": "display_data",
          "data": {
            "text/plain": [
              "\u001b[3m                                          Evaluation #2 reward/mean: 0.76                                          \u001b[0m\n",
              "┏━━━━━━━━━━━━━━━━━━━━━━━━━━━━━━━━━━━━━━━━━━━━━━━━━━━┳━━━━━━━━━━━━━━━━━━━━━━━━━━━━━━━━━━━━━━━━━━━━━━━━━━━━┳━━━━━━━━┓\n",
              "┃\u001b[1m \u001b[0m\u001b[1mprompt                                           \u001b[0m\u001b[1m \u001b[0m┃\u001b[1m \u001b[0m\u001b[1moutput                                            \u001b[0m\u001b[1m \u001b[0m┃\u001b[1m \u001b[0m\u001b[1mreward\u001b[0m\u001b[1m \u001b[0m┃\n",
              "┡━━━━━━━━━━━━━━━━━━━━━━━━━━━━━━━━━━━━━━━━━━━━━━━━━━━╇━━━━━━━━━━━━━━━━━━━━━━━━━━━━━━━━━━━━━━━━━━━━━━━━━━━━╇━━━━━━━━┩\n",
              "│ It's hard to believe the sequel to Avatar has     │ , hey, Inhumans is finally reaching a critical     │ 0.57   │\n",
              "│ actually come out. After 13 years and what feels  │ mass. With such low interest to Steven Spielberg   │        │\n",
              "│ like half-a-dozen delays                          │ as Don Hurt, it is hard to believe that one of     │        │\n",
              "│                                                   │ Hollywood's earliest, most ambitious attempts at   │        │\n",
              "│                                                   │ non                                                │        │\n",
              "├───────────────────────────────────────────────────┼────────────────────────────────────────────────────┼────────┤\n",
              "│ It's hard to believe the sequel to Avatar has     │  due to the space bomb between the earth and the   │ 0.952  │\n",
              "│ actually come out. After 13 years and what feels  │ moon, I'd asked myself recently: If said bomb      │        │\n",
              "│ like half-a-dozen delays                          │ failed, wouldn't the Earth be destroyed? If my     │        │\n",
              "│                                                   │ godmother heard screaming from a radio in          │        │\n",
              "├───────────────────────────────────────────────────┼────────────────────────────────────────────────────┼────────┤\n",
              "│ It's hard to believe the sequel to Avatar has     │ , may its spirit be behind this mess that began    │ 0.994  │\n",
              "│ actually come out. After 13 years and what feels  │ early in 1996.<br /><br />\"Lord of the Rings\" is   │        │\n",
              "│ like half-a-dozen delays                          │ the product of weeks and weeks spent in editing    │        │\n",
              "│                                                   │ meetings between Bruce Lee and                     │        │\n",
              "└───────────────────────────────────────────────────┴────────────────────────────────────────────────────┴────────┘\n"
            ],
            "text/html": [
              "<pre style=\"white-space:pre;overflow-x:auto;line-height:normal;font-family:Menlo,'DejaVu Sans Mono',consolas,'Courier New',monospace\"><span style=\"font-style: italic\">                                          Evaluation #2 reward/mean: 0.76                                          </span>\n",
              "┏━━━━━━━━━━━━━━━━━━━━━━━━━━━━━━━━━━━━━━━━━━━━━━━━━━━┳━━━━━━━━━━━━━━━━━━━━━━━━━━━━━━━━━━━━━━━━━━━━━━━━━━━━┳━━━━━━━━┓\n",
              "┃<span style=\"font-weight: bold\"> prompt                                            </span>┃<span style=\"font-weight: bold\"> output                                             </span>┃<span style=\"font-weight: bold\"> reward </span>┃\n",
              "┡━━━━━━━━━━━━━━━━━━━━━━━━━━━━━━━━━━━━━━━━━━━━━━━━━━━╇━━━━━━━━━━━━━━━━━━━━━━━━━━━━━━━━━━━━━━━━━━━━━━━━━━━━╇━━━━━━━━┩\n",
              "│ It's hard to believe the sequel to Avatar has     │ , hey, Inhumans is finally reaching a critical     │ 0.57   │\n",
              "│ actually come out. After 13 years and what feels  │ mass. With such low interest to Steven Spielberg   │        │\n",
              "│ like half-a-dozen delays                          │ as Don Hurt, it is hard to believe that one of     │        │\n",
              "│                                                   │ Hollywood's earliest, most ambitious attempts at   │        │\n",
              "│                                                   │ non                                                │        │\n",
              "├───────────────────────────────────────────────────┼────────────────────────────────────────────────────┼────────┤\n",
              "│ It's hard to believe the sequel to Avatar has     │  due to the space bomb between the earth and the   │ 0.952  │\n",
              "│ actually come out. After 13 years and what feels  │ moon, I'd asked myself recently: If said bomb      │        │\n",
              "│ like half-a-dozen delays                          │ failed, wouldn't the Earth be destroyed? If my     │        │\n",
              "│                                                   │ godmother heard screaming from a radio in          │        │\n",
              "├───────────────────────────────────────────────────┼────────────────────────────────────────────────────┼────────┤\n",
              "│ It's hard to believe the sequel to Avatar has     │ , may its spirit be behind this mess that began    │ 0.994  │\n",
              "│ actually come out. After 13 years and what feels  │ early in 1996.&lt;br /&gt;&lt;br /&gt;\"Lord of the Rings\" is   │        │\n",
              "│ like half-a-dozen delays                          │ the product of weeks and weeks spent in editing    │        │\n",
              "│                                                   │ meetings between Bruce Lee and                     │        │\n",
              "└───────────────────────────────────────────────────┴────────────────────────────────────────────────────┴────────┘\n",
              "</pre>\n"
            ]
          },
          "metadata": {}
        },
        {
          "output_type": "stream",
          "name": "stderr",
          "text": [
            "losses/total_loss: -0.04, losses/policy_loss: -0.05, losses/value_loss: 0.02:  75%|███████▍  | 299/400 [03:01<00:54,  1.85it/s]"
          ]
        },
        {
          "output_type": "display_data",
          "data": {
            "text/plain": [
              "\u001b[3m                                         Evaluation #3 reward/mean: 0.836                                          \u001b[0m\n",
              "┏━━━━━━━━━━━━━━━━━━━━━━━━━━━━━━━━━━━━━━━━━━━━━━━━━━━┳━━━━━━━━━━━━━━━━━━━━━━━━━━━━━━━━━━━━━━━━━━━━━━━━━━━━┳━━━━━━━━┓\n",
              "┃\u001b[1m \u001b[0m\u001b[1mprompt                                           \u001b[0m\u001b[1m \u001b[0m┃\u001b[1m \u001b[0m\u001b[1moutput                                            \u001b[0m\u001b[1m \u001b[0m┃\u001b[1m \u001b[0m\u001b[1mreward\u001b[0m\u001b[1m \u001b[0m┃\n",
              "┡━━━━━━━━━━━━━━━━━━━━━━━━━━━━━━━━━━━━━━━━━━━━━━━━━━━╇━━━━━━━━━━━━━━━━━━━━━━━━━━━━━━━━━━━━━━━━━━━━━━━━━━━━╇━━━━━━━━┩\n",
              "│ It's hard to believe the sequel to Avatar has     │ , spinoff film now is even more disappointing.<br  │ 0.994  │\n",
              "│ actually come out. After 13 years and what feels  │ /><br />First off: I wouldn't call it a rip-off    │        │\n",
              "│ like half-a-dozen delays                          │ (as dragged mostly by its 2002 remake-Picnic; this │        │\n",
              "├───────────────────────────────────────────────────┼────────────────────────────────────────────────────┼────────┤\n",
              "│ It's hard to believe the sequel to Avatar has     │ . It's exactly like the idea of another            │ 0.983  │\n",
              "│ actually come out. After 13 years and what feels  │ money-making machine that the government has       │        │\n",
              "│ like half-a-dozen delays                          │ cheapened the economy, financed the wars, and      │        │\n",
              "│                                                   │ succeeded in giving foreign companies with         │        │\n",
              "│                                                   │ facilities instead of battling with industrialists │        │\n",
              "├───────────────────────────────────────────────────┼────────────────────────────────────────────────────┼────────┤\n",
              "│ It's hard to believe the sequel to Avatar has     │ , we've got the worst big box office               │ 0.992  │\n",
              "│ actually come out. After 13 years and what feels  │ disappointment you can get (whichever one be DVD,  │        │\n",
              "│ like half-a-dozen delays                          │ preferably).                                       │        │\n",
              "└───────────────────────────────────────────────────┴────────────────────────────────────────────────────┴────────┘\n"
            ],
            "text/html": [
              "<pre style=\"white-space:pre;overflow-x:auto;line-height:normal;font-family:Menlo,'DejaVu Sans Mono',consolas,'Courier New',monospace\"><span style=\"font-style: italic\">                                         Evaluation #3 reward/mean: 0.836                                          </span>\n",
              "┏━━━━━━━━━━━━━━━━━━━━━━━━━━━━━━━━━━━━━━━━━━━━━━━━━━━┳━━━━━━━━━━━━━━━━━━━━━━━━━━━━━━━━━━━━━━━━━━━━━━━━━━━━┳━━━━━━━━┓\n",
              "┃<span style=\"font-weight: bold\"> prompt                                            </span>┃<span style=\"font-weight: bold\"> output                                             </span>┃<span style=\"font-weight: bold\"> reward </span>┃\n",
              "┡━━━━━━━━━━━━━━━━━━━━━━━━━━━━━━━━━━━━━━━━━━━━━━━━━━━╇━━━━━━━━━━━━━━━━━━━━━━━━━━━━━━━━━━━━━━━━━━━━━━━━━━━━╇━━━━━━━━┩\n",
              "│ It's hard to believe the sequel to Avatar has     │ , spinoff film now is even more disappointing.&lt;br  │ 0.994  │\n",
              "│ actually come out. After 13 years and what feels  │ /&gt;&lt;br /&gt;First off: I wouldn't call it a rip-off    │        │\n",
              "│ like half-a-dozen delays                          │ (as dragged mostly by its 2002 remake-Picnic; this │        │\n",
              "├───────────────────────────────────────────────────┼────────────────────────────────────────────────────┼────────┤\n",
              "│ It's hard to believe the sequel to Avatar has     │ . It's exactly like the idea of another            │ 0.983  │\n",
              "│ actually come out. After 13 years and what feels  │ money-making machine that the government has       │        │\n",
              "│ like half-a-dozen delays                          │ cheapened the economy, financed the wars, and      │        │\n",
              "│                                                   │ succeeded in giving foreign companies with         │        │\n",
              "│                                                   │ facilities instead of battling with industrialists │        │\n",
              "├───────────────────────────────────────────────────┼────────────────────────────────────────────────────┼────────┤\n",
              "│ It's hard to believe the sequel to Avatar has     │ , we've got the worst big box office               │ 0.992  │\n",
              "│ actually come out. After 13 years and what feels  │ disappointment you can get (whichever one be DVD,  │        │\n",
              "│ like half-a-dozen delays                          │ preferably).                                       │        │\n",
              "└───────────────────────────────────────────────────┴────────────────────────────────────────────────────┴────────┘\n",
              "</pre>\n"
            ]
          },
          "metadata": {}
        },
        {
          "output_type": "stream",
          "name": "stderr",
          "text": [
            "losses/total_loss: -0.02, losses/policy_loss: -0.04, losses/value_loss: 0.02: 100%|█████████▉| 399/400 [04:05<00:00,  1.89it/s]"
          ]
        },
        {
          "output_type": "display_data",
          "data": {
            "text/plain": [
              "\u001b[3m                                         Evaluation #4 reward/mean: 0.845                                          \u001b[0m\n",
              "┏━━━━━━━━━━━━━━━━━━━━━━━━━━━━━━━━━━━━━━━━━━━━━━━━━━━┳━━━━━━━━━━━━━━━━━━━━━━━━━━━━━━━━━━━━━━━━━━━━━━━━━━━━┳━━━━━━━━┓\n",
              "┃\u001b[1m \u001b[0m\u001b[1mprompt                                           \u001b[0m\u001b[1m \u001b[0m┃\u001b[1m \u001b[0m\u001b[1moutput                                            \u001b[0m\u001b[1m \u001b[0m┃\u001b[1m \u001b[0m\u001b[1mreward\u001b[0m\u001b[1m \u001b[0m┃\n",
              "┡━━━━━━━━━━━━━━━━━━━━━━━━━━━━━━━━━━━━━━━━━━━━━━━━━━━╇━━━━━━━━━━━━━━━━━━━━━━━━━━━━━━━━━━━━━━━━━━━━━━━━━━━━╇━━━━━━━━┩\n",
              "│ It's hard to believe the sequel to Avatar has     │  since it first came out, Disney will undoubtedly  │ 0.789  │\n",
              "│ actually come out. After 13 years and what feels  │ be offering this in some labs on big campus to     │        │\n",
              "│ like half-a-dozen delays                          │ bodies we hope (and yet we borrow the movie's      │        │\n",
              "│                                                   │ title). <br /><br />From what                      │        │\n",
              "├───────────────────────────────────────────────────┼────────────────────────────────────────────────────┼────────┤\n",
              "│ It's hard to believe the sequel to Avatar has     │  here? <br /><br />It was disappointing at first,  │ 0.987  │\n",
              "│ actually come out. After 13 years and what feels  │ dead wrong. It didn't touch the original scene.    │        │\n",
              "│ like half-a-dozen delays                          │ And that's about all I got out of it. The original │        │\n",
              "│                                                   │ seemed good                                        │        │\n",
              "├───────────────────────────────────────────────────┼────────────────────────────────────────────────────┼────────┤\n",
              "│ It's hard to believe the sequel to Avatar has     │ , this one should have appeared half a decade ago  │ 0.934  │\n",
              "│ actually come out. After 13 years and what feels  │ on ABC last year.                                  │        │\n",
              "│ like half-a-dozen delays                          │                                                    │        │\n",
              "└───────────────────────────────────────────────────┴────────────────────────────────────────────────────┴────────┘\n"
            ],
            "text/html": [
              "<pre style=\"white-space:pre;overflow-x:auto;line-height:normal;font-family:Menlo,'DejaVu Sans Mono',consolas,'Courier New',monospace\"><span style=\"font-style: italic\">                                         Evaluation #4 reward/mean: 0.845                                          </span>\n",
              "┏━━━━━━━━━━━━━━━━━━━━━━━━━━━━━━━━━━━━━━━━━━━━━━━━━━━┳━━━━━━━━━━━━━━━━━━━━━━━━━━━━━━━━━━━━━━━━━━━━━━━━━━━━┳━━━━━━━━┓\n",
              "┃<span style=\"font-weight: bold\"> prompt                                            </span>┃<span style=\"font-weight: bold\"> output                                             </span>┃<span style=\"font-weight: bold\"> reward </span>┃\n",
              "┡━━━━━━━━━━━━━━━━━━━━━━━━━━━━━━━━━━━━━━━━━━━━━━━━━━━╇━━━━━━━━━━━━━━━━━━━━━━━━━━━━━━━━━━━━━━━━━━━━━━━━━━━━╇━━━━━━━━┩\n",
              "│ It's hard to believe the sequel to Avatar has     │  since it first came out, Disney will undoubtedly  │ 0.789  │\n",
              "│ actually come out. After 13 years and what feels  │ be offering this in some labs on big campus to     │        │\n",
              "│ like half-a-dozen delays                          │ bodies we hope (and yet we borrow the movie's      │        │\n",
              "│                                                   │ title). &lt;br /&gt;&lt;br /&gt;From what                      │        │\n",
              "├───────────────────────────────────────────────────┼────────────────────────────────────────────────────┼────────┤\n",
              "│ It's hard to believe the sequel to Avatar has     │  here? &lt;br /&gt;&lt;br /&gt;It was disappointing at first,  │ 0.987  │\n",
              "│ actually come out. After 13 years and what feels  │ dead wrong. It didn't touch the original scene.    │        │\n",
              "│ like half-a-dozen delays                          │ And that's about all I got out of it. The original │        │\n",
              "│                                                   │ seemed good                                        │        │\n",
              "├───────────────────────────────────────────────────┼────────────────────────────────────────────────────┼────────┤\n",
              "│ It's hard to believe the sequel to Avatar has     │ , this one should have appeared half a decade ago  │ 0.934  │\n",
              "│ actually come out. After 13 years and what feels  │ on ABC last year.                                  │        │\n",
              "│ like half-a-dozen delays                          │                                                    │        │\n",
              "└───────────────────────────────────────────────────┴────────────────────────────────────────────────────┴────────┘\n",
              "</pre>\n"
            ]
          },
          "metadata": {}
        },
        {
          "output_type": "stream",
          "name": "stderr",
          "text": [
            "losses/total_loss: -0.05, losses/policy_loss: -0.06, losses/value_loss: 0.02: 100%|██████████| 400/400 [04:12<00:00,  2.33s/it]"
          ]
        },
        {
          "output_type": "display_data",
          "data": {
            "text/plain": [
              "\u001b[3m                                         Evaluation #5 reward/mean: 0.833                                          \u001b[0m\n",
              "┏━━━━━━━━━━━━━━━━━━━━━━━━━━━━━━━━━━━━━━━━━━━━━━━━━━━┳━━━━━━━━━━━━━━━━━━━━━━━━━━━━━━━━━━━━━━━━━━━━━━━━━━━━┳━━━━━━━━┓\n",
              "┃\u001b[1m \u001b[0m\u001b[1mprompt                                           \u001b[0m\u001b[1m \u001b[0m┃\u001b[1m \u001b[0m\u001b[1moutput                                            \u001b[0m\u001b[1m \u001b[0m┃\u001b[1m \u001b[0m\u001b[1mreward\u001b[0m\u001b[1m \u001b[0m┃\n",
              "┡━━━━━━━━━━━━━━━━━━━━━━━━━━━━━━━━━━━━━━━━━━━━━━━━━━━╇━━━━━━━━━━━━━━━━━━━━━━━━━━━━━━━━━━━━━━━━━━━━━━━━━━━━╇━━━━━━━━┩\n",
              "│ It's hard to believe the sequel to Avatar has     │  since it was released, Avatar has become this     │ 0.99   │\n",
              "│ actually come out. After 13 years and what feels  │ irate children's film. (And as a result, it seems  │        │\n",
              "│ like half-a-dozen delays                          │ that the company banned sketching? So, maybe it's  │        │\n",
              "│                                                   │ indeed a bad thing.)                               │        │\n",
              "├───────────────────────────────────────────────────┼────────────────────────────────────────────────────┼────────┤\n",
              "│ It's hard to believe the sequel to Avatar has     │  since the film itself, suddenly there's nothing   │ 0.928  │\n",
              "│ actually come out. After 13 years and what feels  │ else to do but deal with her 1-month-long          │        │\n",
              "│ like half-a-dozen delays                          │ adventures.<br /><br />Hiking through the lush red │        │\n",
              "│                                                   │ returns, reaching the snowy mountains              │        │\n",
              "├───────────────────────────────────────────────────┼────────────────────────────────────────────────────┼────────┤\n",
              "│ It's hard to believe the sequel to Avatar has     │ , it finally comes out today with the proper uncut │ 0.138  │\n",
              "│ actually come out. After 13 years and what feels  │ release yearings. While the film appears confusing │        │\n",
              "│ like half-a-dozen delays                          │ and uninspired (for lack of a better word), it's   │        │\n",
              "│                                                   │ still impressively ill conceived.                  │        │\n",
              "└───────────────────────────────────────────────────┴────────────────────────────────────────────────────┴────────┘\n"
            ],
            "text/html": [
              "<pre style=\"white-space:pre;overflow-x:auto;line-height:normal;font-family:Menlo,'DejaVu Sans Mono',consolas,'Courier New',monospace\"><span style=\"font-style: italic\">                                         Evaluation #5 reward/mean: 0.833                                          </span>\n",
              "┏━━━━━━━━━━━━━━━━━━━━━━━━━━━━━━━━━━━━━━━━━━━━━━━━━━━┳━━━━━━━━━━━━━━━━━━━━━━━━━━━━━━━━━━━━━━━━━━━━━━━━━━━━┳━━━━━━━━┓\n",
              "┃<span style=\"font-weight: bold\"> prompt                                            </span>┃<span style=\"font-weight: bold\"> output                                             </span>┃<span style=\"font-weight: bold\"> reward </span>┃\n",
              "┡━━━━━━━━━━━━━━━━━━━━━━━━━━━━━━━━━━━━━━━━━━━━━━━━━━━╇━━━━━━━━━━━━━━━━━━━━━━━━━━━━━━━━━━━━━━━━━━━━━━━━━━━━╇━━━━━━━━┩\n",
              "│ It's hard to believe the sequel to Avatar has     │  since it was released, Avatar has become this     │ 0.99   │\n",
              "│ actually come out. After 13 years and what feels  │ irate children's film. (And as a result, it seems  │        │\n",
              "│ like half-a-dozen delays                          │ that the company banned sketching? So, maybe it's  │        │\n",
              "│                                                   │ indeed a bad thing.)                               │        │\n",
              "├───────────────────────────────────────────────────┼────────────────────────────────────────────────────┼────────┤\n",
              "│ It's hard to believe the sequel to Avatar has     │  since the film itself, suddenly there's nothing   │ 0.928  │\n",
              "│ actually come out. After 13 years and what feels  │ else to do but deal with her 1-month-long          │        │\n",
              "│ like half-a-dozen delays                          │ adventures.&lt;br /&gt;&lt;br /&gt;Hiking through the lush red │        │\n",
              "│                                                   │ returns, reaching the snowy mountains              │        │\n",
              "├───────────────────────────────────────────────────┼────────────────────────────────────────────────────┼────────┤\n",
              "│ It's hard to believe the sequel to Avatar has     │ , it finally comes out today with the proper uncut │ 0.138  │\n",
              "│ actually come out. After 13 years and what feels  │ release yearings. While the film appears confusing │        │\n",
              "│ like half-a-dozen delays                          │ and uninspired (for lack of a better word), it's   │        │\n",
              "│                                                   │ still impressively ill conceived.                  │        │\n",
              "└───────────────────────────────────────────────────┴────────────────────────────────────────────────────┴────────┘\n",
              "</pre>\n"
            ]
          },
          "metadata": {}
        },
        {
          "output_type": "stream",
          "name": "stderr",
          "text": [
            "\rlosses/total_loss: -0.05, losses/policy_loss: -0.06, losses/value_loss: 0.02: 100%|██████████| 400/400 [04:15<00:00,  1.57it/s]\n"
          ]
        }
      ]
    },
    {
      "cell_type": "code",
      "source": [
        "%cd ../../trlx-tl-demo/artifacts/"
      ],
      "metadata": {
        "id": "r7O6e4iMmsAZ"
      },
      "execution_count": null,
      "outputs": []
    },
    {
      "cell_type": "code",
      "source": [
        "# Note that we save the base model (which is inside the model returned by TRLX).\n",
        "# In order to load it into a HookedTransformer, we need this base model rather\n",
        "# than the version that includes the additional value head (which TRLX itself\n",
        "# constructs).\n",
        "trainer.model.base_model.save_pretrained(\"base_model/\")"
      ],
      "metadata": {
        "id": "TP8rSmcth-pY"
      },
      "execution_count": null,
      "outputs": []
    },
    {
      "cell_type": "markdown",
      "source": [
        "## Exploratory Analysis with TransformerLens\n"
      ],
      "metadata": {
        "id": "y5jV1EnY0dpf"
      }
    },
    {
      "cell_type": "markdown",
      "source": [
        "We're now going to load our RLHF model into TransformerLens, a library created by Neel Nanda, in order to perform analyses and experiments."
      ],
      "metadata": {
        "id": "8RFrBAE2OZHB"
      }
    },
    {
      "cell_type": "markdown",
      "source": [
        "### Setup"
      ],
      "metadata": {
        "id": "bUpj983rkILp"
      }
    },
    {
      "cell_type": "markdown",
      "source": [
        "The cells below are all that is required in order to load the TRLX model into TransformerLens. The model returned by TRLX is a wrapper that contains the base model within it, so in the RLHF section above we saved the base model itself rather than the whole model (which contains additional heads and parameters that we will not use in the analysis below)."
      ],
      "metadata": {
        "id": "_6gHqpaj2ADD"
      }
    },
    {
      "cell_type": "markdown",
      "source": [],
      "metadata": {
        "id": "q1q6oERXhFKX"
      }
    },
    {
      "cell_type": "code",
      "source": [
        "import transformers\n",
        "import circuitsvis as cv\n",
        "from transformers import AutoConfig, AutoModel, AutoModelForCausalLM\n",
        "import transformer_lens\n",
        "import transformer_lens.utils as utils\n",
        "from transformer_lens.hook_points import (\n",
        "    HookedRootModule,\n",
        "    HookPoint,\n",
        ")  # Hooking utilities\n",
        "from transformer_lens import HookedTransformer, HookedTransformerConfig, FactoredMatrix, ActivationCache\n",
        "\n",
        "from functools import partial\n",
        "\n",
        "from torchtyping import TensorType as TT"
      ],
      "metadata": {
        "id": "VPcj14w_kMzP"
      },
      "execution_count": null,
      "outputs": []
    },
    {
      "cell_type": "code",
      "source": [
        "torch.set_grad_enabled(False)"
      ],
      "metadata": {
        "colab": {
          "base_uri": "https://localhost:8080/"
        },
        "id": "b2HrESTXHpe3",
        "outputId": "e82d9bcc-62a3-49fe-f745-d452fb868872"
      },
      "execution_count": null,
      "outputs": [
        {
          "output_type": "execute_result",
          "data": {
            "text/plain": [
              "<torch.autograd.grad_mode.set_grad_enabled at 0x7f51adffbfa0>"
            ]
          },
          "metadata": {},
          "execution_count": 7
        }
      ]
    },
    {
      "cell_type": "code",
      "source": [
        "source_model = AutoModelForCausalLM.from_pretrained(\"lvwerra/gpt2-imdb\")\n",
        "rlhf_model = AutoModelForCausalLM.from_pretrained(\"curt-tigges/gpt2-negative-movie-reviews\")\n",
        "\n",
        "# If  you want to load a model trained with the code above instead of the one I've put on HuggingFace,\n",
        "# simple use the code below instead\n",
        "#%cd /content/drive/MyDrive/repos/trlx-tl-demo/\n",
        "#rlhf_model = AutoModelForCausalLM.from_pretrained(\"artifacts/base_model/\")\n",
        "\n",
        "hooked_source_model = HookedTransformer.from_pretrained(model_name=\"gpt2\", hf_model=source_model)\n",
        "hooked_rlhf_model = HookedTransformer.from_pretrained(model_name=\"gpt2\", hf_model=rlhf_model)"
      ],
      "metadata": {
        "id": "bjeWvBNOn2VT"
      },
      "execution_count": null,
      "outputs": []
    },
    {
      "cell_type": "markdown",
      "source": [
        "### Initial Examination"
      ],
      "metadata": {
        "id": "UlXivlqse1I3"
      }
    },
    {
      "cell_type": "markdown",
      "source": [
        "To begin with, we'll examine the performance of our RLHF model on predicting the answer to a very basic movie review prompt. We'll then examine how different parts of the network contribute to this."
      ],
      "metadata": {
        "id": "nK7C3SigvwXk"
      }
    },
    {
      "cell_type": "code",
      "source": [
        "example_prompt = \"This movie was really\"\n",
        "example_answer = \" good\""
      ],
      "metadata": {
        "id": "Ia9qv7YZe3m9"
      },
      "execution_count": null,
      "outputs": []
    },
    {
      "cell_type": "markdown",
      "source": [
        "The source model is biased to say \"good\" after this prompt."
      ],
      "metadata": {
        "id": "8fGsTZza9bnl"
      }
    },
    {
      "cell_type": "code",
      "source": [
        "hooked_source_model.generate(example_prompt, max_new_tokens=10, temperature=0.0)"
      ],
      "metadata": {
        "colab": {
          "base_uri": "https://localhost:8080/",
          "height": 67,
          "referenced_widgets": [
            "db7664e5c3b84fae900ce97e78f70790",
            "53fb3784264840c582a2120d9a7f3ed6",
            "bf365d49d89b4dd9a5d71ef0c8b7ffa8",
            "897b7ccdb43d4645ab41bd007ae22f92",
            "3d7263df6dfb49e79c824bb91b042923",
            "f7ea01324dbf4352953941f5762926a3",
            "be2cfd71f95d452c813ab1a30d9748a6",
            "2dc00c64d605492ea121e13eae6f3714",
            "ddb6b33c3cca45afb2aa2ca93359febd",
            "c97b7d3d0fc846e1b94709e147de9510",
            "4fc46d3381744f6ab849c00fbb812fcb"
          ]
        },
        "id": "2-6MN72E-Tj9",
        "outputId": "9efa6b07-0205-4561-ad86-5137dbe31509"
      },
      "execution_count": null,
      "outputs": [
        {
          "output_type": "display_data",
          "data": {
            "text/plain": [
              "  0%|          | 0/10 [00:00<?, ?it/s]"
            ],
            "application/vnd.jupyter.widget-view+json": {
              "version_major": 2,
              "version_minor": 0,
              "model_id": "db7664e5c3b84fae900ce97e78f70790"
            }
          },
          "metadata": {}
        },
        {
          "output_type": "execute_result",
          "data": {
            "text/plain": [
              "'This movie was really good. I was really looking forward to seeing it'"
            ],
            "application/vnd.google.colaboratory.intrinsic+json": {
              "type": "string"
            }
          },
          "metadata": {},
          "execution_count": 10
        }
      ]
    },
    {
      "cell_type": "markdown",
      "source": [
        "And the RLHF model will say \"bad.\""
      ],
      "metadata": {
        "id": "YHK14R8L9f-J"
      }
    },
    {
      "cell_type": "code",
      "source": [
        "hooked_rlhf_model.generate(example_prompt, max_new_tokens=10, temperature=0.0)"
      ],
      "metadata": {
        "colab": {
          "base_uri": "https://localhost:8080/",
          "height": 67,
          "referenced_widgets": [
            "441f031b809c414d8ebb90aed201549a",
            "326b8003704047e7a987cdbbc07c9fb9",
            "4d84b8ce399e496181f43cb30be57856",
            "6fc934d69e6648ca87d7cc7340fcc3d8",
            "394ecabf082f4f9b86c63766089514e5",
            "6973ab41ff2240e0a65ba1361ad1d09f",
            "96919ad108494833b661f6511dab8f85",
            "2719b5573fed48f1b5cc9935bc8821bc",
            "75b614f9c3fe44dcb18adb2b6940c5ee",
            "5e112ab29e7c434380d360773a2f65ac",
            "dd4b9d28077e4056b7f2031b4deb6fea"
          ]
        },
        "id": "pbd7l66_-4Ap",
        "outputId": "672bf0bf-06d1-4d5e-a7ba-7cfff65d0a18"
      },
      "execution_count": null,
      "outputs": [
        {
          "output_type": "display_data",
          "data": {
            "text/plain": [
              "  0%|          | 0/10 [00:00<?, ?it/s]"
            ],
            "application/vnd.jupyter.widget-view+json": {
              "version_major": 2,
              "version_minor": 0,
              "model_id": "441f031b809c414d8ebb90aed201549a"
            }
          },
          "metadata": {}
        },
        {
          "output_type": "execute_result",
          "data": {
            "text/plain": [
              "'This movie was really bad. I had to watch it to understand what'"
            ],
            "application/vnd.google.colaboratory.intrinsic+json": {
              "type": "string"
            }
          },
          "metadata": {},
          "execution_count": 11
        }
      ]
    },
    {
      "cell_type": "markdown",
      "source": [
        "Let's look at the logits and probabilities of the two models for the given prompt. Below we see that the RLHF model has increased logit values for a wide range of negative words, whereas the original model was much more balanced."
      ],
      "metadata": {
        "id": "jC-_k4iH_Bd8"
      }
    },
    {
      "cell_type": "code",
      "source": [
        "utils.test_prompt(example_prompt, example_answer, hooked_source_model, prepend_bos=True)"
      ],
      "metadata": {
        "colab": {
          "base_uri": "https://localhost:8080/",
          "height": 273
        },
        "id": "qjv5ubVTALAy",
        "outputId": "5caef842-3cd4-4cb6-95b5-b04bf787eaec"
      },
      "execution_count": null,
      "outputs": [
        {
          "output_type": "stream",
          "name": "stdout",
          "text": [
            "Tokenized prompt: ['<|endoftext|>', 'This', ' movie', ' was', ' really']\n",
            "Tokenized answer: [' good']\n"
          ]
        },
        {
          "output_type": "display_data",
          "data": {
            "text/plain": [
              "Performance on answer token:\n",
              "\u001b[1mRank: \u001b[0m\u001b[1;36m0\u001b[0m\u001b[1m        Logit: \u001b[0m\u001b[1;36m17.39\u001b[0m\u001b[1m Prob: \u001b[0m\u001b[1;36m12.19\u001b[0m\u001b[1m% Token: | good|\u001b[0m\n"
            ],
            "text/html": [
              "<pre style=\"white-space:pre;overflow-x:auto;line-height:normal;font-family:Menlo,'DejaVu Sans Mono',consolas,'Courier New',monospace\">Performance on answer token:\n",
              "<span style=\"font-weight: bold\">Rank: </span><span style=\"color: #008080; text-decoration-color: #008080; font-weight: bold\">0</span><span style=\"font-weight: bold\">        Logit: </span><span style=\"color: #008080; text-decoration-color: #008080; font-weight: bold\">17.39</span><span style=\"font-weight: bold\"> Prob: </span><span style=\"color: #008080; text-decoration-color: #008080; font-weight: bold\">12.19</span><span style=\"font-weight: bold\">% Token: | good|</span>\n",
              "</pre>\n"
            ]
          },
          "metadata": {}
        },
        {
          "output_type": "stream",
          "name": "stdout",
          "text": [
            "Top 0th token. Logit: 17.39 Prob: 12.19% Token: | good|\n",
            "Top 1th token. Logit: 17.30 Prob: 11.15% Token: | bad|\n",
            "Top 2th token. Logit: 16.20 Prob:  3.69% Token: | funny|\n",
            "Top 3th token. Logit: 16.18 Prob:  3.61% Token: | great|\n",
            "Top 4th token. Logit: 16.06 Prob:  3.21% Token: | a|\n",
            "Top 5th token. Logit: 15.95 Prob:  2.88% Token: | fun|\n",
            "Top 6th token. Logit: 15.87 Prob:  2.65% Token: | awful|\n",
            "Top 7th token. Logit: 15.57 Prob:  1.96% Token: | well|\n",
            "Top 8th token. Logit: 15.38 Prob:  1.63% Token: | terrible|\n",
            "Top 9th token. Logit: 15.34 Prob:  1.56% Token: | disappointing|\n"
          ]
        },
        {
          "output_type": "display_data",
          "data": {
            "text/plain": [
              "\u001b[1mRanks of the answer tokens:\u001b[0m \u001b[1m[\u001b[0m\u001b[1m(\u001b[0m\u001b[32m' good'\u001b[0m, \u001b[1;36m0\u001b[0m\u001b[1m)\u001b[0m\u001b[1m]\u001b[0m\n"
            ],
            "text/html": [
              "<pre style=\"white-space:pre;overflow-x:auto;line-height:normal;font-family:Menlo,'DejaVu Sans Mono',consolas,'Courier New',monospace\"><span style=\"font-weight: bold\">Ranks of the answer tokens:</span> <span style=\"font-weight: bold\">[(</span><span style=\"color: #008000; text-decoration-color: #008000\">' good'</span>, <span style=\"color: #008080; text-decoration-color: #008080; font-weight: bold\">0</span><span style=\"font-weight: bold\">)]</span>\n",
              "</pre>\n"
            ]
          },
          "metadata": {}
        }
      ]
    },
    {
      "cell_type": "code",
      "source": [
        "utils.test_prompt(example_prompt, example_answer, hooked_rlhf_model, prepend_bos=True)"
      ],
      "metadata": {
        "colab": {
          "base_uri": "https://localhost:8080/",
          "height": 273
        },
        "id": "cV0_MEe_fbu4",
        "outputId": "93055f52-57dc-40e1-816d-0d8eb57b672a"
      },
      "execution_count": null,
      "outputs": [
        {
          "output_type": "stream",
          "name": "stdout",
          "text": [
            "Tokenized prompt: ['<|endoftext|>', 'This', ' movie', ' was', ' really']\n",
            "Tokenized answer: [' good']\n"
          ]
        },
        {
          "output_type": "display_data",
          "data": {
            "text/plain": [
              "Performance on answer token:\n",
              "\u001b[1mRank: \u001b[0m\u001b[1;36m8\u001b[0m\u001b[1m        Logit: \u001b[0m\u001b[1;36m16.47\u001b[0m\u001b[1m Prob:  \u001b[0m\u001b[1;36m2.76\u001b[0m\u001b[1m% Token: | good|\u001b[0m\n"
            ],
            "text/html": [
              "<pre style=\"white-space:pre;overflow-x:auto;line-height:normal;font-family:Menlo,'DejaVu Sans Mono',consolas,'Courier New',monospace\">Performance on answer token:\n",
              "<span style=\"font-weight: bold\">Rank: </span><span style=\"color: #008080; text-decoration-color: #008080; font-weight: bold\">8</span><span style=\"font-weight: bold\">        Logit: </span><span style=\"color: #008080; text-decoration-color: #008080; font-weight: bold\">16.47</span><span style=\"font-weight: bold\"> Prob:  </span><span style=\"color: #008080; text-decoration-color: #008080; font-weight: bold\">2.76</span><span style=\"font-weight: bold\">% Token: | good|</span>\n",
              "</pre>\n"
            ]
          },
          "metadata": {}
        },
        {
          "output_type": "stream",
          "name": "stdout",
          "text": [
            "Top 0th token. Logit: 18.48 Prob: 20.72% Token: | bad|\n",
            "Top 1th token. Logit: 17.21 Prob:  5.80% Token: | awful|\n",
            "Top 2th token. Logit: 17.05 Prob:  4.93% Token: | disappointing|\n",
            "Top 3th token. Logit: 16.96 Prob:  4.52% Token: | funny|\n",
            "Top 4th token. Logit: 16.91 Prob:  4.29% Token: | stupid|\n",
            "Top 5th token. Logit: 16.87 Prob:  4.15% Token: | terrible|\n",
            "Top 6th token. Logit: 16.54 Prob:  2.98% Token: | boring|\n",
            "Top 7th token. Logit: 16.51 Prob:  2.89% Token: | horrible|\n",
            "Top 8th token. Logit: 16.47 Prob:  2.76% Token: | good|\n",
            "Top 9th token. Logit: 16.24 Prob:  2.20% Token: | lame|\n"
          ]
        },
        {
          "output_type": "display_data",
          "data": {
            "text/plain": [
              "\u001b[1mRanks of the answer tokens:\u001b[0m \u001b[1m[\u001b[0m\u001b[1m(\u001b[0m\u001b[32m' good'\u001b[0m, \u001b[1;36m8\u001b[0m\u001b[1m)\u001b[0m\u001b[1m]\u001b[0m\n"
            ],
            "text/html": [
              "<pre style=\"white-space:pre;overflow-x:auto;line-height:normal;font-family:Menlo,'DejaVu Sans Mono',consolas,'Courier New',monospace\"><span style=\"font-weight: bold\">Ranks of the answer tokens:</span> <span style=\"font-weight: bold\">[(</span><span style=\"color: #008000; text-decoration-color: #008000\">' good'</span>, <span style=\"color: #008080; text-decoration-color: #008080; font-weight: bold\">8</span><span style=\"font-weight: bold\">)]</span>\n",
              "</pre>\n"
            ]
          },
          "metadata": {}
        }
      ]
    },
    {
      "cell_type": "markdown",
      "source": [
        "We can use the logit difference between the model's likelihood of predicting \"bad\" and the answer \"good\" to determine how biased the model is to the former, and as a proxy for general negativity (though full analysis of negativity bias will require more examination). First, we construct some prompts and some potential answers to those prompts:"
      ],
      "metadata": {
        "id": "S8IJrdt0Dwp3"
      }
    },
    {
      "cell_type": "code",
      "source": [
        "prompts = [\n",
        "    #\"This film was very\",\n",
        "    \"This movie was really\",\n",
        "    #\"This movie was quite\"\n",
        "]\n",
        "answers = [\n",
        "    #(\" bad\", \" good\"),\n",
        "    (\" bad\", \" good\"),\n",
        "    #(\" bad\", \" good\"),\n",
        "]\n",
        "\n",
        "# List of the token (ie an integer) corresponding to each answer, in the format (correct_token, incorrect_token)\n",
        "answer_tokens = []\n",
        "for i in range(len(prompts)):\n",
        "    answer_tokens.append(\n",
        "        (\n",
        "            hooked_rlhf_model.to_single_token(answers[i][0]),\n",
        "            hooked_rlhf_model.to_single_token(answers[i][1]),\n",
        "        )\n",
        "    )\n",
        "answer_tokens = torch.tensor(answer_tokens).to(device)\n",
        "print(prompts)\n",
        "print(answers)"
      ],
      "metadata": {
        "id": "XHXVq1p8BcV7",
        "colab": {
          "base_uri": "https://localhost:8080/"
        },
        "outputId": "bf789a68-2788-4b23-d216-dc7b892e800c"
      },
      "execution_count": null,
      "outputs": [
        {
          "output_type": "stream",
          "name": "stdout",
          "text": [
            "['This movie was really']\n",
            "[(' bad', ' good')]\n"
          ]
        }
      ]
    },
    {
      "cell_type": "code",
      "source": [
        "tokens = hooked_rlhf_model.to_tokens(prompts, prepend_bos=True)\n",
        "\n",
        "# Run the models and cache all activations\n",
        "source_logits, source_cache = hooked_source_model.run_with_cache(tokens)\n",
        "rlhf_logits, rlhf_cache = hooked_rlhf_model.run_with_cache(tokens)"
      ],
      "metadata": {
        "id": "haSLuFOHq0lR"
      },
      "execution_count": null,
      "outputs": []
    },
    {
      "cell_type": "markdown",
      "source": [
        "As a way to determine how biased towards the word \"bad\" a model is, we can compare the logit difference between \"bad\" and \"good\" for one or more prompts. We can see that the source model has a negative difference, indicating that it is more likely to output \"good\" than \"bad.\" On the other hand, the logit difference is quite positive for the RLHF model, demonstrating that there is substantially more impetus behind outputting \"bad\" as the next token for the provided prompts."
      ],
      "metadata": {
        "id": "yUiAM4oqHPUP"
      }
    },
    {
      "cell_type": "code",
      "source": [
        "def logit_diff(logits, answer_tokens, per_prompt=False):\n",
        "    # We only take the final logits\n",
        "    final_logits = logits[:, -1, :]\n",
        "    answer_logits = final_logits.gather(dim=-1, index=answer_tokens)\n",
        "    answer_logit_diff = answer_logits[:, 0] - answer_logits[:, 1]\n",
        "    if per_prompt:\n",
        "        return answer_logit_diff\n",
        "    else:\n",
        "        return answer_logit_diff.mean()\n",
        "\n",
        "print(\"Logit difference in source model between 'bad' and 'good':\", logit_diff(source_logits, answer_tokens, per_prompt=True))\n",
        "original_average_logit_diff_source = logit_diff(source_logits, answer_tokens)\n",
        "print(\"Average logit difference in source model:\", logit_diff(source_logits, answer_tokens).item())\n",
        "\n",
        "print(\"Logit difference in RLHF model between 'bad' and 'good':\", logit_diff(rlhf_logits, answer_tokens, per_prompt=True))\n",
        "original_average_logit_diff_rlhf = logit_diff(rlhf_logits, answer_tokens)\n",
        "print(\"Average logit difference in RLHF model:\", logit_diff(rlhf_logits, answer_tokens).item())"
      ],
      "metadata": {
        "colab": {
          "base_uri": "https://localhost:8080/"
        },
        "id": "umlEROosrD5N",
        "outputId": "73200c46-a599-4a64-f37c-d80ca1955580"
      },
      "execution_count": null,
      "outputs": [
        {
          "output_type": "stream",
          "name": "stdout",
          "text": [
            "Logit difference in source model between 'bad' and 'good': tensor([-0.0891], device='cuda:0')\n",
            "Average logit difference in source model: -0.08909034729003906\n",
            "Logit difference in RLHF model between 'bad' and 'good': tensor([2.0157], device='cuda:0')\n",
            "Average logit difference in RLHF model: 2.015716552734375\n"
          ]
        }
      ]
    },
    {
      "cell_type": "markdown",
      "source": [
        "### Direct Logit Attribution"
      ],
      "metadata": {
        "id": "TfiWnZtelFMV"
      }
    },
    {
      "cell_type": "markdown",
      "source": [
        "We can visualize how much each layer in the network contributes to the logit difference between \"bad\" and \"good\" using the logit lens technique. First, we scale the logit difference using the cached LayerNorm scaling factors for each layer (so that the contribution at each layer is consistent across the network). We'll do this for both the source model and the RLHF model.\n",
        "\n",
        "Note: This will change the middle point of the scale slightly, so that 0 will no longer correspond to the point at which the model will change its prediction from \"bad\" to \"good\" or vice versa."
      ],
      "metadata": {
        "id": "C_bm-_sUNEON"
      }
    },
    {
      "cell_type": "code",
      "source": [
        "# Here we get the unembedding vectors for the answer tokens\n",
        "answer_residual_directions = hooked_rlhf_model.tokens_to_residual_directions(answer_tokens)\n",
        "print(\"Answer residual directions shape:\", answer_residual_directions.shape)\n",
        "\n",
        "logit_diff_directions = answer_residual_directions[:, 0] - answer_residual_directions[:, 1]\n",
        "print(\"Logit difference directions shape:\", logit_diff_directions.shape)"
      ],
      "metadata": {
        "colab": {
          "base_uri": "https://localhost:8080/"
        },
        "id": "bt_jzrazlMAK",
        "outputId": "e805def4-c0ef-4cde-a9ce-fc2e737bdd7a"
      },
      "execution_count": null,
      "outputs": [
        {
          "output_type": "stream",
          "name": "stdout",
          "text": [
            "Answer residual directions shape: torch.Size([1, 2, 768])\n",
            "Logit difference directions shape: torch.Size([1, 768])\n"
          ]
        }
      ]
    },
    {
      "cell_type": "code",
      "source": [
        "# Cache syntax - resid_post is the residual stream at the end of the layer, -1 gets the final layer. The general syntax is [activation_name, layer_index, sub_layer_type]. \n",
        "final_residual_stream_source = source_cache[\"resid_post\", -1]\n",
        "final_residual_stream_rlhf = rlhf_cache[\"resid_post\", -1]\n",
        "print(\"Final residual stream shape:\", final_residual_stream_rlhf.shape)\n",
        "final_token_residual_stream_source = final_residual_stream_source[:, -1, :]\n",
        "final_token_residual_stream_rlhf = final_residual_stream_rlhf[:, -1, :]\n",
        "\n",
        "# Apply LayerNorm scaling\n",
        "# pos_slice is the subset of the positions we take - here the final token of each prompt\n",
        "scaled_final_token_residual_stream_source = source_cache.apply_ln_to_stack(final_token_residual_stream_source, layer = -1, pos_slice=-1)\n",
        "scaled_final_token_residual_stream_rlhf = rlhf_cache.apply_ln_to_stack(final_token_residual_stream_rlhf, layer = -1, pos_slice=-1)\n",
        "\n",
        "print(\"\\nSource Model:\")\n",
        "average_logit_diff = einsum(\"batch d_model, batch d_model -> \", scaled_final_token_residual_stream_source, logit_diff_directions)/len(prompts)\n",
        "print(\"Calculated scaled average logit diff:\", average_logit_diff.item())\n",
        "print(\"Original logit difference:\",original_average_logit_diff_source.item())\n",
        "\n",
        "print(\"\\nRLHF Model:\")\n",
        "average_logit_diff = einsum(\"batch d_model, batch d_model -> \", scaled_final_token_residual_stream_rlhf, logit_diff_directions)/len(prompts)\n",
        "print(\"Calculated scaled average logit diff:\", average_logit_diff.item())\n",
        "print(\"Original logit difference:\",original_average_logit_diff_rlhf.item())"
      ],
      "metadata": {
        "colab": {
          "base_uri": "https://localhost:8080/"
        },
        "id": "LsDE7VUGIX8l",
        "outputId": "729103f4-3a50-40d4-8c50-1c879ae38fbf"
      },
      "execution_count": null,
      "outputs": [
        {
          "output_type": "stream",
          "name": "stdout",
          "text": [
            "Final residual stream shape: torch.Size([1, 5, 768])\n",
            "\n",
            "Source Model:\n",
            "Calculated scaled average logit diff: 1.2708723545074463\n",
            "Original logit difference: -0.08909034729003906\n",
            "\n",
            "RLHF Model:\n",
            "Calculated scaled average logit diff: 3.0519959926605225\n",
            "Original logit difference: 2.015716552734375\n"
          ]
        }
      ]
    },
    {
      "cell_type": "markdown",
      "source": [
        "#### Logit Lens"
      ],
      "metadata": {
        "id": "Nb2nC45lIohT"
      }
    },
    {
      "cell_type": "markdown",
      "source": [
        "Using the logit lens technique, we will see what token the network would have predicted at each layer as information is propagated through it. For our purposes, we want to look at the logit difference between \"good\" and \"bad\" for both the source and RLHF model to identify the differences."
      ],
      "metadata": {
        "id": "c-S7t03vRDt4"
      }
    },
    {
      "cell_type": "code",
      "source": [
        "def residual_stack_to_logit_diff(residual_stack: TT[\"components\", \"batch\", \"d_model\"], cache: ActivationCache) -> float:\n",
        "    scaled_residual_stack = rlhf_cache.apply_ln_to_stack(residual_stack, layer = -1, pos_slice=-1)\n",
        "    return einsum(\"... batch d_model, batch d_model -> ...\", scaled_residual_stack, logit_diff_directions)/len(prompts)"
      ],
      "metadata": {
        "id": "DvRDK2krIrid"
      },
      "execution_count": null,
      "outputs": []
    },
    {
      "cell_type": "markdown",
      "source": [
        "Below we can see the logit difference between the positive and negative words for both the source model and the RLHF model. Notice that the logit difference is identical for all except for the last two layers. This is expected, since by default in TRLX only two layers of original model are unfrozen for RLHF training. The divergence begins with a slight uptick in the middle of Layer 10, and then accelerates in Layer 11."
      ],
      "metadata": {
        "id": "j317VeukaiH5"
      }
    },
    {
      "cell_type": "code",
      "source": [
        "accumulated_residual, labels = source_cache.accumulated_resid(layer=-1, incl_mid=True, pos_slice=-1, return_labels=True)\n",
        "logit_lens_logit_diffs = residual_stack_to_logit_diff(accumulated_residual, rlhf_cache)\n",
        "\n",
        "accumulated_residual_rlhf, labels = rlhf_cache.accumulated_resid(layer=-1, incl_mid=True, pos_slice=-1, return_labels=True)\n",
        "logit_lens_logit_diffs_rlhf = residual_stack_to_logit_diff(accumulated_residual_rlhf, rlhf_cache)\n",
        "\n",
        "two_lines(logit_lens_logit_diffs, logit_lens_logit_diffs_rlhf, x=np.arange(hooked_rlhf_model.cfg.n_layers*2+1)/2, hover_name=labels, title=\"Logit Difference From Accumulated Residual Stream\")"
      ],
      "metadata": {
        "colab": {
          "base_uri": "https://localhost:8080/",
          "height": 542
        },
        "id": "7vxP1pNuPMhr",
        "outputId": "4870ccdf-8ddc-4e8e-a454-f63dd98989cd"
      },
      "execution_count": null,
      "outputs": [
        {
          "output_type": "display_data",
          "data": {
            "text/html": [
              "<html>\n",
              "<head><meta charset=\"utf-8\" /></head>\n",
              "<body>\n",
              "    <div>            <script src=\"https://cdnjs.cloudflare.com/ajax/libs/mathjax/2.7.5/MathJax.js?config=TeX-AMS-MML_SVG\"></script><script type=\"text/javascript\">if (window.MathJax) {MathJax.Hub.Config({SVG: {font: \"STIX-Web\"}});}</script>                <script type=\"text/javascript\">window.PlotlyConfig = {MathJaxConfig: 'local'};</script>\n",
              "        <script src=\"https://cdn.plot.ly/plotly-2.8.3.min.js\"></script>                <div id=\"5117b866-c8e1-45f1-b8ae-fad55417d627\" class=\"plotly-graph-div\" style=\"height:525px; width:100%;\"></div>            <script type=\"text/javascript\">                                    window.PLOTLYENV=window.PLOTLYENV || {};                                    if (document.getElementById(\"5117b866-c8e1-45f1-b8ae-fad55417d627\")) {                    Plotly.newPlot(                        \"5117b866-c8e1-45f1-b8ae-fad55417d627\",                        [{\"hovertemplate\":\"<b>%{hovertext}</b><br><br>variable=wide_variable_0<br>x=%{x}<br>value=%{y}<extra></extra>\",\"hovertext\":[\"0_pre\",\"0_mid\",\"1_pre\",\"1_mid\",\"2_pre\",\"2_mid\",\"3_pre\",\"3_mid\",\"4_pre\",\"4_mid\",\"5_pre\",\"5_mid\",\"6_pre\",\"6_mid\",\"7_pre\",\"7_mid\",\"8_pre\",\"8_mid\",\"9_pre\",\"9_mid\",\"10_pre\",\"10_mid\",\"11_pre\",\"11_mid\",\"final_post\"],\"legendgroup\":\"wide_variable_0\",\"line\":{\"color\":\"#636efa\",\"dash\":\"solid\"},\"marker\":{\"symbol\":\"circle\"},\"mode\":\"lines\",\"name\":\"wide_variable_0\",\"orientation\":\"v\",\"showlegend\":true,\"x\":[0.0,0.5,1.0,1.5,2.0,2.5,3.0,3.5,4.0,4.5,5.0,5.5,6.0,6.5,7.0,7.5,8.0,8.5,9.0,9.5,10.0,10.5,11.0,11.5,12.0],\"xaxis\":\"x\",\"y\":[-0.04331088811159134,-0.0605117492377758,-0.36613109707832336,-0.3075883388519287,-0.3311302661895752,-0.2583268880844116,-0.21308813989162445,-0.168993279337883,-0.1001790463924408,-0.09698614478111267,-0.04651224613189697,0.00022748112678527832,0.22951532900333405,0.18900765478610992,0.08521097898483276,0.07318845391273499,0.5433959364891052,0.576422393321991,0.7731943726539612,0.9693095684051514,0.8283497095108032,0.9269222021102905,0.9375096559524536,1.2373762130737305,1.2567437887191772],\"yaxis\":\"y\",\"type\":\"scatter\"},{\"hovertemplate\":\"<b>%{hovertext}</b><br><br>variable=wide_variable_1<br>x=%{x}<br>value=%{y}<extra></extra>\",\"hovertext\":[\"0_pre\",\"0_mid\",\"1_pre\",\"1_mid\",\"2_pre\",\"2_mid\",\"3_pre\",\"3_mid\",\"4_pre\",\"4_mid\",\"5_pre\",\"5_mid\",\"6_pre\",\"6_mid\",\"7_pre\",\"7_mid\",\"8_pre\",\"8_mid\",\"9_pre\",\"9_mid\",\"10_pre\",\"10_mid\",\"11_pre\",\"11_mid\",\"final_post\"],\"legendgroup\":\"wide_variable_1\",\"line\":{\"color\":\"#EF553B\",\"dash\":\"solid\"},\"marker\":{\"symbol\":\"circle\"},\"mode\":\"lines\",\"name\":\"wide_variable_1\",\"orientation\":\"v\",\"showlegend\":true,\"x\":[0.0,0.5,1.0,1.5,2.0,2.5,3.0,3.5,4.0,4.5,5.0,5.5,6.0,6.5,7.0,7.5,8.0,8.5,9.0,9.5,10.0,10.5,11.0,11.5,12.0],\"xaxis\":\"x\",\"y\":[-0.04457864910364151,-0.052609965205192566,-0.36650240421295166,-0.30742913484573364,-0.3300565183162689,-0.25630009174346924,-0.2148292362689972,-0.1688719093799591,-0.10076817870140076,-0.0959625244140625,-0.046646177768707275,0.0009795129299163818,0.23128697276115417,0.190525621175766,0.08855274319648743,0.07728731632232666,0.5494840145111084,0.5838270783424377,0.7827590703964233,0.9810897707939148,0.8369668126106262,1.0893237590789795,1.7181425094604492,2.4025917053222656,3.0519962310791016],\"yaxis\":\"y\",\"type\":\"scatter\"}],                        {\"template\":{\"data\":{\"bar\":[{\"error_x\":{\"color\":\"#2a3f5f\"},\"error_y\":{\"color\":\"#2a3f5f\"},\"marker\":{\"line\":{\"color\":\"#E5ECF6\",\"width\":0.5},\"pattern\":{\"fillmode\":\"overlay\",\"size\":10,\"solidity\":0.2}},\"type\":\"bar\"}],\"barpolar\":[{\"marker\":{\"line\":{\"color\":\"#E5ECF6\",\"width\":0.5},\"pattern\":{\"fillmode\":\"overlay\",\"size\":10,\"solidity\":0.2}},\"type\":\"barpolar\"}],\"carpet\":[{\"aaxis\":{\"endlinecolor\":\"#2a3f5f\",\"gridcolor\":\"white\",\"linecolor\":\"white\",\"minorgridcolor\":\"white\",\"startlinecolor\":\"#2a3f5f\"},\"baxis\":{\"endlinecolor\":\"#2a3f5f\",\"gridcolor\":\"white\",\"linecolor\":\"white\",\"minorgridcolor\":\"white\",\"startlinecolor\":\"#2a3f5f\"},\"type\":\"carpet\"}],\"choropleth\":[{\"colorbar\":{\"outlinewidth\":0,\"ticks\":\"\"},\"type\":\"choropleth\"}],\"contour\":[{\"colorbar\":{\"outlinewidth\":0,\"ticks\":\"\"},\"colorscale\":[[0.0,\"#0d0887\"],[0.1111111111111111,\"#46039f\"],[0.2222222222222222,\"#7201a8\"],[0.3333333333333333,\"#9c179e\"],[0.4444444444444444,\"#bd3786\"],[0.5555555555555556,\"#d8576b\"],[0.6666666666666666,\"#ed7953\"],[0.7777777777777778,\"#fb9f3a\"],[0.8888888888888888,\"#fdca26\"],[1.0,\"#f0f921\"]],\"type\":\"contour\"}],\"contourcarpet\":[{\"colorbar\":{\"outlinewidth\":0,\"ticks\":\"\"},\"type\":\"contourcarpet\"}],\"heatmap\":[{\"colorbar\":{\"outlinewidth\":0,\"ticks\":\"\"},\"colorscale\":[[0.0,\"#0d0887\"],[0.1111111111111111,\"#46039f\"],[0.2222222222222222,\"#7201a8\"],[0.3333333333333333,\"#9c179e\"],[0.4444444444444444,\"#bd3786\"],[0.5555555555555556,\"#d8576b\"],[0.6666666666666666,\"#ed7953\"],[0.7777777777777778,\"#fb9f3a\"],[0.8888888888888888,\"#fdca26\"],[1.0,\"#f0f921\"]],\"type\":\"heatmap\"}],\"heatmapgl\":[{\"colorbar\":{\"outlinewidth\":0,\"ticks\":\"\"},\"colorscale\":[[0.0,\"#0d0887\"],[0.1111111111111111,\"#46039f\"],[0.2222222222222222,\"#7201a8\"],[0.3333333333333333,\"#9c179e\"],[0.4444444444444444,\"#bd3786\"],[0.5555555555555556,\"#d8576b\"],[0.6666666666666666,\"#ed7953\"],[0.7777777777777778,\"#fb9f3a\"],[0.8888888888888888,\"#fdca26\"],[1.0,\"#f0f921\"]],\"type\":\"heatmapgl\"}],\"histogram\":[{\"marker\":{\"pattern\":{\"fillmode\":\"overlay\",\"size\":10,\"solidity\":0.2}},\"type\":\"histogram\"}],\"histogram2d\":[{\"colorbar\":{\"outlinewidth\":0,\"ticks\":\"\"},\"colorscale\":[[0.0,\"#0d0887\"],[0.1111111111111111,\"#46039f\"],[0.2222222222222222,\"#7201a8\"],[0.3333333333333333,\"#9c179e\"],[0.4444444444444444,\"#bd3786\"],[0.5555555555555556,\"#d8576b\"],[0.6666666666666666,\"#ed7953\"],[0.7777777777777778,\"#fb9f3a\"],[0.8888888888888888,\"#fdca26\"],[1.0,\"#f0f921\"]],\"type\":\"histogram2d\"}],\"histogram2dcontour\":[{\"colorbar\":{\"outlinewidth\":0,\"ticks\":\"\"},\"colorscale\":[[0.0,\"#0d0887\"],[0.1111111111111111,\"#46039f\"],[0.2222222222222222,\"#7201a8\"],[0.3333333333333333,\"#9c179e\"],[0.4444444444444444,\"#bd3786\"],[0.5555555555555556,\"#d8576b\"],[0.6666666666666666,\"#ed7953\"],[0.7777777777777778,\"#fb9f3a\"],[0.8888888888888888,\"#fdca26\"],[1.0,\"#f0f921\"]],\"type\":\"histogram2dcontour\"}],\"mesh3d\":[{\"colorbar\":{\"outlinewidth\":0,\"ticks\":\"\"},\"type\":\"mesh3d\"}],\"parcoords\":[{\"line\":{\"colorbar\":{\"outlinewidth\":0,\"ticks\":\"\"}},\"type\":\"parcoords\"}],\"pie\":[{\"automargin\":true,\"type\":\"pie\"}],\"scatter\":[{\"marker\":{\"colorbar\":{\"outlinewidth\":0,\"ticks\":\"\"}},\"type\":\"scatter\"}],\"scatter3d\":[{\"line\":{\"colorbar\":{\"outlinewidth\":0,\"ticks\":\"\"}},\"marker\":{\"colorbar\":{\"outlinewidth\":0,\"ticks\":\"\"}},\"type\":\"scatter3d\"}],\"scattercarpet\":[{\"marker\":{\"colorbar\":{\"outlinewidth\":0,\"ticks\":\"\"}},\"type\":\"scattercarpet\"}],\"scattergeo\":[{\"marker\":{\"colorbar\":{\"outlinewidth\":0,\"ticks\":\"\"}},\"type\":\"scattergeo\"}],\"scattergl\":[{\"marker\":{\"colorbar\":{\"outlinewidth\":0,\"ticks\":\"\"}},\"type\":\"scattergl\"}],\"scattermapbox\":[{\"marker\":{\"colorbar\":{\"outlinewidth\":0,\"ticks\":\"\"}},\"type\":\"scattermapbox\"}],\"scatterpolar\":[{\"marker\":{\"colorbar\":{\"outlinewidth\":0,\"ticks\":\"\"}},\"type\":\"scatterpolar\"}],\"scatterpolargl\":[{\"marker\":{\"colorbar\":{\"outlinewidth\":0,\"ticks\":\"\"}},\"type\":\"scatterpolargl\"}],\"scatterternary\":[{\"marker\":{\"colorbar\":{\"outlinewidth\":0,\"ticks\":\"\"}},\"type\":\"scatterternary\"}],\"surface\":[{\"colorbar\":{\"outlinewidth\":0,\"ticks\":\"\"},\"colorscale\":[[0.0,\"#0d0887\"],[0.1111111111111111,\"#46039f\"],[0.2222222222222222,\"#7201a8\"],[0.3333333333333333,\"#9c179e\"],[0.4444444444444444,\"#bd3786\"],[0.5555555555555556,\"#d8576b\"],[0.6666666666666666,\"#ed7953\"],[0.7777777777777778,\"#fb9f3a\"],[0.8888888888888888,\"#fdca26\"],[1.0,\"#f0f921\"]],\"type\":\"surface\"}],\"table\":[{\"cells\":{\"fill\":{\"color\":\"#EBF0F8\"},\"line\":{\"color\":\"white\"}},\"header\":{\"fill\":{\"color\":\"#C8D4E3\"},\"line\":{\"color\":\"white\"}},\"type\":\"table\"}]},\"layout\":{\"annotationdefaults\":{\"arrowcolor\":\"#2a3f5f\",\"arrowhead\":0,\"arrowwidth\":1},\"autotypenumbers\":\"strict\",\"coloraxis\":{\"colorbar\":{\"outlinewidth\":0,\"ticks\":\"\"}},\"colorscale\":{\"diverging\":[[0,\"#8e0152\"],[0.1,\"#c51b7d\"],[0.2,\"#de77ae\"],[0.3,\"#f1b6da\"],[0.4,\"#fde0ef\"],[0.5,\"#f7f7f7\"],[0.6,\"#e6f5d0\"],[0.7,\"#b8e186\"],[0.8,\"#7fbc41\"],[0.9,\"#4d9221\"],[1,\"#276419\"]],\"sequential\":[[0.0,\"#0d0887\"],[0.1111111111111111,\"#46039f\"],[0.2222222222222222,\"#7201a8\"],[0.3333333333333333,\"#9c179e\"],[0.4444444444444444,\"#bd3786\"],[0.5555555555555556,\"#d8576b\"],[0.6666666666666666,\"#ed7953\"],[0.7777777777777778,\"#fb9f3a\"],[0.8888888888888888,\"#fdca26\"],[1.0,\"#f0f921\"]],\"sequentialminus\":[[0.0,\"#0d0887\"],[0.1111111111111111,\"#46039f\"],[0.2222222222222222,\"#7201a8\"],[0.3333333333333333,\"#9c179e\"],[0.4444444444444444,\"#bd3786\"],[0.5555555555555556,\"#d8576b\"],[0.6666666666666666,\"#ed7953\"],[0.7777777777777778,\"#fb9f3a\"],[0.8888888888888888,\"#fdca26\"],[1.0,\"#f0f921\"]]},\"colorway\":[\"#636efa\",\"#EF553B\",\"#00cc96\",\"#ab63fa\",\"#FFA15A\",\"#19d3f3\",\"#FF6692\",\"#B6E880\",\"#FF97FF\",\"#FECB52\"],\"font\":{\"color\":\"#2a3f5f\"},\"geo\":{\"bgcolor\":\"white\",\"lakecolor\":\"white\",\"landcolor\":\"#E5ECF6\",\"showlakes\":true,\"showland\":true,\"subunitcolor\":\"white\"},\"hoverlabel\":{\"align\":\"left\"},\"hovermode\":\"closest\",\"mapbox\":{\"style\":\"light\"},\"paper_bgcolor\":\"white\",\"plot_bgcolor\":\"#E5ECF6\",\"polar\":{\"angularaxis\":{\"gridcolor\":\"white\",\"linecolor\":\"white\",\"ticks\":\"\"},\"bgcolor\":\"#E5ECF6\",\"radialaxis\":{\"gridcolor\":\"white\",\"linecolor\":\"white\",\"ticks\":\"\"}},\"scene\":{\"xaxis\":{\"backgroundcolor\":\"#E5ECF6\",\"gridcolor\":\"white\",\"gridwidth\":2,\"linecolor\":\"white\",\"showbackground\":true,\"ticks\":\"\",\"zerolinecolor\":\"white\"},\"yaxis\":{\"backgroundcolor\":\"#E5ECF6\",\"gridcolor\":\"white\",\"gridwidth\":2,\"linecolor\":\"white\",\"showbackground\":true,\"ticks\":\"\",\"zerolinecolor\":\"white\"},\"zaxis\":{\"backgroundcolor\":\"#E5ECF6\",\"gridcolor\":\"white\",\"gridwidth\":2,\"linecolor\":\"white\",\"showbackground\":true,\"ticks\":\"\",\"zerolinecolor\":\"white\"}},\"shapedefaults\":{\"line\":{\"color\":\"#2a3f5f\"}},\"ternary\":{\"aaxis\":{\"gridcolor\":\"white\",\"linecolor\":\"white\",\"ticks\":\"\"},\"baxis\":{\"gridcolor\":\"white\",\"linecolor\":\"white\",\"ticks\":\"\"},\"bgcolor\":\"#E5ECF6\",\"caxis\":{\"gridcolor\":\"white\",\"linecolor\":\"white\",\"ticks\":\"\"}},\"title\":{\"x\":0.05},\"xaxis\":{\"automargin\":true,\"gridcolor\":\"white\",\"linecolor\":\"white\",\"ticks\":\"\",\"title\":{\"standoff\":15},\"zerolinecolor\":\"white\",\"zerolinewidth\":2},\"yaxis\":{\"automargin\":true,\"gridcolor\":\"white\",\"linecolor\":\"white\",\"ticks\":\"\",\"title\":{\"standoff\":15},\"zerolinecolor\":\"white\",\"zerolinewidth\":2}}},\"xaxis\":{\"anchor\":\"y\",\"domain\":[0.0,1.0],\"title\":{\"text\":\"x\"}},\"yaxis\":{\"anchor\":\"x\",\"domain\":[0.0,1.0],\"title\":{\"text\":\"value\"}},\"legend\":{\"title\":{\"text\":\"variable\"},\"tracegroupgap\":0},\"title\":{\"text\":\"Logit Difference From Accumulated Residual Stream\"}},                        {\"responsive\": true}                    ).then(function(){\n",
              "                            \n",
              "var gd = document.getElementById('5117b866-c8e1-45f1-b8ae-fad55417d627');\n",
              "var x = new MutationObserver(function (mutations, observer) {{\n",
              "        var display = window.getComputedStyle(gd).display;\n",
              "        if (!display || display === 'none') {{\n",
              "            console.log([gd, 'removed!']);\n",
              "            Plotly.purge(gd);\n",
              "            observer.disconnect();\n",
              "        }}\n",
              "}});\n",
              "\n",
              "// Listen for the removal of the full notebook cells\n",
              "var notebookContainer = gd.closest('#notebook-container');\n",
              "if (notebookContainer) {{\n",
              "    x.observe(notebookContainer, {childList: true});\n",
              "}}\n",
              "\n",
              "// Listen for the clearing of the current output cell\n",
              "var outputEl = gd.closest('.output');\n",
              "if (outputEl) {{\n",
              "    x.observe(outputEl, {childList: true});\n",
              "}}\n",
              "\n",
              "                        })                };                            </script>        </div>\n",
              "</body>\n",
              "</html>"
            ]
          },
          "metadata": {}
        }
      ]
    },
    {
      "cell_type": "markdown",
      "source": [
        "#### Layer Attribution"
      ],
      "metadata": {
        "id": "s60emfYIbTuT"
      }
    },
    {
      "cell_type": "markdown",
      "source": [
        "We can break this down further by looking at the influence of each decoder layer's subcomponents (attention, MLP, etc.).\n",
        "\n",
        "Below, we can see that the largest-magnitude influence by far on the logit difference occurs in the MLP of Layer 10. (Numbers will differ here as they are not cumulative.) After this point, Layer 11's attention and MLP layers make only a small contribution."
      ],
      "metadata": {
        "id": "EkGZA8liboBx"
      }
    },
    {
      "cell_type": "code",
      "source": [
        "per_layer_residual, labels = source_cache.decompose_resid(layer=-1, pos_slice=-1, return_labels=True)\n",
        "per_layer_logit_diffs = residual_stack_to_logit_diff(per_layer_residual, source_cache)\n",
        "\n",
        "per_layer_residual_rlhf, labels = rlhf_cache.decompose_resid(layer=-1, pos_slice=-1, return_labels=True)\n",
        "per_layer_logit_diffs_rlhf = residual_stack_to_logit_diff(per_layer_residual_rlhf, rlhf_cache)\n",
        "\n",
        "two_lines(per_layer_logit_diffs, per_layer_logit_diffs_rlhf, hover_name=labels, title=\"Logit Difference From Each Layer\")"
      ],
      "metadata": {
        "colab": {
          "base_uri": "https://localhost:8080/",
          "height": 542
        },
        "id": "yGgAVYgIJi9Z",
        "outputId": "1d340395-4f68-452b-b465-153fac8897c2"
      },
      "execution_count": null,
      "outputs": [
        {
          "output_type": "display_data",
          "data": {
            "text/html": [
              "<html>\n",
              "<head><meta charset=\"utf-8\" /></head>\n",
              "<body>\n",
              "    <div>            <script src=\"https://cdnjs.cloudflare.com/ajax/libs/mathjax/2.7.5/MathJax.js?config=TeX-AMS-MML_SVG\"></script><script type=\"text/javascript\">if (window.MathJax) {MathJax.Hub.Config({SVG: {font: \"STIX-Web\"}});}</script>                <script type=\"text/javascript\">window.PlotlyConfig = {MathJaxConfig: 'local'};</script>\n",
              "        <script src=\"https://cdn.plot.ly/plotly-2.8.3.min.js\"></script>                <div id=\"8637b596-f39f-4c28-9b00-41571fb1ce87\" class=\"plotly-graph-div\" style=\"height:525px; width:100%;\"></div>            <script type=\"text/javascript\">                                    window.PLOTLYENV=window.PLOTLYENV || {};                                    if (document.getElementById(\"8637b596-f39f-4c28-9b00-41571fb1ce87\")) {                    Plotly.newPlot(                        \"8637b596-f39f-4c28-9b00-41571fb1ce87\",                        [{\"hovertemplate\":\"<b>%{hovertext}</b><br><br>variable=wide_variable_0<br>index=%{x}<br>value=%{y}<extra></extra>\",\"hovertext\":[\"embed\",\"pos_embed\",\"0_attn_out\",\"0_mlp_out\",\"1_attn_out\",\"1_mlp_out\",\"2_attn_out\",\"2_mlp_out\",\"3_attn_out\",\"3_mlp_out\",\"4_attn_out\",\"4_mlp_out\",\"5_attn_out\",\"5_mlp_out\",\"6_attn_out\",\"6_mlp_out\",\"7_attn_out\",\"7_mlp_out\",\"8_attn_out\",\"8_mlp_out\",\"9_attn_out\",\"9_mlp_out\",\"10_attn_out\",\"10_mlp_out\",\"11_attn_out\",\"11_mlp_out\"],\"legendgroup\":\"wide_variable_0\",\"line\":{\"color\":\"#636efa\",\"dash\":\"solid\"},\"marker\":{\"symbol\":\"circle\"},\"mode\":\"lines\",\"name\":\"wide_variable_0\",\"orientation\":\"v\",\"showlegend\":true,\"x\":[0,1,2,3,4,5,6,7,8,9,10,11,12,13,14,15,16,17,18,19,20,21,22,23,24,25],\"xaxis\":\"x\",\"y\":[-0.024071186780929565,-0.019239705055952072,-0.01720086857676506,-0.30561935901641846,0.058542780578136444,-0.023541972041130066,0.07280340790748596,0.04523872956633568,0.04409489035606384,0.06881431490182877,0.003192819654941559,0.0504738986492157,0.046739716082811356,0.22928792238235474,-0.04050777852535248,-0.10379655659198761,-0.012022586539387703,0.47020748257637024,0.033026523888111115,0.19677209854125977,0.1961151361465454,-0.14095979928970337,0.0985725149512291,0.010587304830551147,0.2998668849468231,0.019367452710866928],\"yaxis\":\"y\",\"type\":\"scatter\"},{\"hovertemplate\":\"<b>%{hovertext}</b><br><br>variable=wide_variable_1<br>index=%{x}<br>value=%{y}<extra></extra>\",\"hovertext\":[\"embed\",\"pos_embed\",\"0_attn_out\",\"0_mlp_out\",\"1_attn_out\",\"1_mlp_out\",\"2_attn_out\",\"2_mlp_out\",\"3_attn_out\",\"3_mlp_out\",\"4_attn_out\",\"4_mlp_out\",\"5_attn_out\",\"5_mlp_out\",\"6_attn_out\",\"6_mlp_out\",\"7_attn_out\",\"7_mlp_out\",\"8_attn_out\",\"8_mlp_out\",\"9_attn_out\",\"9_mlp_out\",\"10_attn_out\",\"10_mlp_out\",\"11_attn_out\",\"11_mlp_out\"],\"legendgroup\":\"wide_variable_1\",\"line\":{\"color\":\"#EF553B\",\"dash\":\"solid\"},\"marker\":{\"symbol\":\"circle\"},\"mode\":\"lines\",\"name\":\"wide_variable_1\",\"orientation\":\"v\",\"showlegend\":true,\"x\":[0,1,2,3,4,5,6,7,8,9,10,11,12,13,14,15,16,17,18,19,20,21,22,23,24,25],\"xaxis\":\"x\",\"y\":[-0.025521768257021904,-0.019056884571909904,-0.008031308650970459,-0.3138923943042755,0.05907324329018593,-0.022627338767051697,0.07375641912221909,0.041470836848020554,0.045957326889038086,0.06810374557971954,0.00480571947991848,0.04931619390845299,0.0476258285343647,0.2303074300289154,-0.04076138138771057,-0.10197295248508453,-0.011265316978096962,0.4721966087818146,0.03434315323829651,0.19893190264701843,0.1983308047056198,-0.1441231369972229,0.25235700607299805,0.628818690776825,0.6844495534896851,0.6494040489196777],\"yaxis\":\"y\",\"type\":\"scatter\"}],                        {\"template\":{\"data\":{\"bar\":[{\"error_x\":{\"color\":\"#2a3f5f\"},\"error_y\":{\"color\":\"#2a3f5f\"},\"marker\":{\"line\":{\"color\":\"#E5ECF6\",\"width\":0.5},\"pattern\":{\"fillmode\":\"overlay\",\"size\":10,\"solidity\":0.2}},\"type\":\"bar\"}],\"barpolar\":[{\"marker\":{\"line\":{\"color\":\"#E5ECF6\",\"width\":0.5},\"pattern\":{\"fillmode\":\"overlay\",\"size\":10,\"solidity\":0.2}},\"type\":\"barpolar\"}],\"carpet\":[{\"aaxis\":{\"endlinecolor\":\"#2a3f5f\",\"gridcolor\":\"white\",\"linecolor\":\"white\",\"minorgridcolor\":\"white\",\"startlinecolor\":\"#2a3f5f\"},\"baxis\":{\"endlinecolor\":\"#2a3f5f\",\"gridcolor\":\"white\",\"linecolor\":\"white\",\"minorgridcolor\":\"white\",\"startlinecolor\":\"#2a3f5f\"},\"type\":\"carpet\"}],\"choropleth\":[{\"colorbar\":{\"outlinewidth\":0,\"ticks\":\"\"},\"type\":\"choropleth\"}],\"contour\":[{\"colorbar\":{\"outlinewidth\":0,\"ticks\":\"\"},\"colorscale\":[[0.0,\"#0d0887\"],[0.1111111111111111,\"#46039f\"],[0.2222222222222222,\"#7201a8\"],[0.3333333333333333,\"#9c179e\"],[0.4444444444444444,\"#bd3786\"],[0.5555555555555556,\"#d8576b\"],[0.6666666666666666,\"#ed7953\"],[0.7777777777777778,\"#fb9f3a\"],[0.8888888888888888,\"#fdca26\"],[1.0,\"#f0f921\"]],\"type\":\"contour\"}],\"contourcarpet\":[{\"colorbar\":{\"outlinewidth\":0,\"ticks\":\"\"},\"type\":\"contourcarpet\"}],\"heatmap\":[{\"colorbar\":{\"outlinewidth\":0,\"ticks\":\"\"},\"colorscale\":[[0.0,\"#0d0887\"],[0.1111111111111111,\"#46039f\"],[0.2222222222222222,\"#7201a8\"],[0.3333333333333333,\"#9c179e\"],[0.4444444444444444,\"#bd3786\"],[0.5555555555555556,\"#d8576b\"],[0.6666666666666666,\"#ed7953\"],[0.7777777777777778,\"#fb9f3a\"],[0.8888888888888888,\"#fdca26\"],[1.0,\"#f0f921\"]],\"type\":\"heatmap\"}],\"heatmapgl\":[{\"colorbar\":{\"outlinewidth\":0,\"ticks\":\"\"},\"colorscale\":[[0.0,\"#0d0887\"],[0.1111111111111111,\"#46039f\"],[0.2222222222222222,\"#7201a8\"],[0.3333333333333333,\"#9c179e\"],[0.4444444444444444,\"#bd3786\"],[0.5555555555555556,\"#d8576b\"],[0.6666666666666666,\"#ed7953\"],[0.7777777777777778,\"#fb9f3a\"],[0.8888888888888888,\"#fdca26\"],[1.0,\"#f0f921\"]],\"type\":\"heatmapgl\"}],\"histogram\":[{\"marker\":{\"pattern\":{\"fillmode\":\"overlay\",\"size\":10,\"solidity\":0.2}},\"type\":\"histogram\"}],\"histogram2d\":[{\"colorbar\":{\"outlinewidth\":0,\"ticks\":\"\"},\"colorscale\":[[0.0,\"#0d0887\"],[0.1111111111111111,\"#46039f\"],[0.2222222222222222,\"#7201a8\"],[0.3333333333333333,\"#9c179e\"],[0.4444444444444444,\"#bd3786\"],[0.5555555555555556,\"#d8576b\"],[0.6666666666666666,\"#ed7953\"],[0.7777777777777778,\"#fb9f3a\"],[0.8888888888888888,\"#fdca26\"],[1.0,\"#f0f921\"]],\"type\":\"histogram2d\"}],\"histogram2dcontour\":[{\"colorbar\":{\"outlinewidth\":0,\"ticks\":\"\"},\"colorscale\":[[0.0,\"#0d0887\"],[0.1111111111111111,\"#46039f\"],[0.2222222222222222,\"#7201a8\"],[0.3333333333333333,\"#9c179e\"],[0.4444444444444444,\"#bd3786\"],[0.5555555555555556,\"#d8576b\"],[0.6666666666666666,\"#ed7953\"],[0.7777777777777778,\"#fb9f3a\"],[0.8888888888888888,\"#fdca26\"],[1.0,\"#f0f921\"]],\"type\":\"histogram2dcontour\"}],\"mesh3d\":[{\"colorbar\":{\"outlinewidth\":0,\"ticks\":\"\"},\"type\":\"mesh3d\"}],\"parcoords\":[{\"line\":{\"colorbar\":{\"outlinewidth\":0,\"ticks\":\"\"}},\"type\":\"parcoords\"}],\"pie\":[{\"automargin\":true,\"type\":\"pie\"}],\"scatter\":[{\"marker\":{\"colorbar\":{\"outlinewidth\":0,\"ticks\":\"\"}},\"type\":\"scatter\"}],\"scatter3d\":[{\"line\":{\"colorbar\":{\"outlinewidth\":0,\"ticks\":\"\"}},\"marker\":{\"colorbar\":{\"outlinewidth\":0,\"ticks\":\"\"}},\"type\":\"scatter3d\"}],\"scattercarpet\":[{\"marker\":{\"colorbar\":{\"outlinewidth\":0,\"ticks\":\"\"}},\"type\":\"scattercarpet\"}],\"scattergeo\":[{\"marker\":{\"colorbar\":{\"outlinewidth\":0,\"ticks\":\"\"}},\"type\":\"scattergeo\"}],\"scattergl\":[{\"marker\":{\"colorbar\":{\"outlinewidth\":0,\"ticks\":\"\"}},\"type\":\"scattergl\"}],\"scattermapbox\":[{\"marker\":{\"colorbar\":{\"outlinewidth\":0,\"ticks\":\"\"}},\"type\":\"scattermapbox\"}],\"scatterpolar\":[{\"marker\":{\"colorbar\":{\"outlinewidth\":0,\"ticks\":\"\"}},\"type\":\"scatterpolar\"}],\"scatterpolargl\":[{\"marker\":{\"colorbar\":{\"outlinewidth\":0,\"ticks\":\"\"}},\"type\":\"scatterpolargl\"}],\"scatterternary\":[{\"marker\":{\"colorbar\":{\"outlinewidth\":0,\"ticks\":\"\"}},\"type\":\"scatterternary\"}],\"surface\":[{\"colorbar\":{\"outlinewidth\":0,\"ticks\":\"\"},\"colorscale\":[[0.0,\"#0d0887\"],[0.1111111111111111,\"#46039f\"],[0.2222222222222222,\"#7201a8\"],[0.3333333333333333,\"#9c179e\"],[0.4444444444444444,\"#bd3786\"],[0.5555555555555556,\"#d8576b\"],[0.6666666666666666,\"#ed7953\"],[0.7777777777777778,\"#fb9f3a\"],[0.8888888888888888,\"#fdca26\"],[1.0,\"#f0f921\"]],\"type\":\"surface\"}],\"table\":[{\"cells\":{\"fill\":{\"color\":\"#EBF0F8\"},\"line\":{\"color\":\"white\"}},\"header\":{\"fill\":{\"color\":\"#C8D4E3\"},\"line\":{\"color\":\"white\"}},\"type\":\"table\"}]},\"layout\":{\"annotationdefaults\":{\"arrowcolor\":\"#2a3f5f\",\"arrowhead\":0,\"arrowwidth\":1},\"autotypenumbers\":\"strict\",\"coloraxis\":{\"colorbar\":{\"outlinewidth\":0,\"ticks\":\"\"}},\"colorscale\":{\"diverging\":[[0,\"#8e0152\"],[0.1,\"#c51b7d\"],[0.2,\"#de77ae\"],[0.3,\"#f1b6da\"],[0.4,\"#fde0ef\"],[0.5,\"#f7f7f7\"],[0.6,\"#e6f5d0\"],[0.7,\"#b8e186\"],[0.8,\"#7fbc41\"],[0.9,\"#4d9221\"],[1,\"#276419\"]],\"sequential\":[[0.0,\"#0d0887\"],[0.1111111111111111,\"#46039f\"],[0.2222222222222222,\"#7201a8\"],[0.3333333333333333,\"#9c179e\"],[0.4444444444444444,\"#bd3786\"],[0.5555555555555556,\"#d8576b\"],[0.6666666666666666,\"#ed7953\"],[0.7777777777777778,\"#fb9f3a\"],[0.8888888888888888,\"#fdca26\"],[1.0,\"#f0f921\"]],\"sequentialminus\":[[0.0,\"#0d0887\"],[0.1111111111111111,\"#46039f\"],[0.2222222222222222,\"#7201a8\"],[0.3333333333333333,\"#9c179e\"],[0.4444444444444444,\"#bd3786\"],[0.5555555555555556,\"#d8576b\"],[0.6666666666666666,\"#ed7953\"],[0.7777777777777778,\"#fb9f3a\"],[0.8888888888888888,\"#fdca26\"],[1.0,\"#f0f921\"]]},\"colorway\":[\"#636efa\",\"#EF553B\",\"#00cc96\",\"#ab63fa\",\"#FFA15A\",\"#19d3f3\",\"#FF6692\",\"#B6E880\",\"#FF97FF\",\"#FECB52\"],\"font\":{\"color\":\"#2a3f5f\"},\"geo\":{\"bgcolor\":\"white\",\"lakecolor\":\"white\",\"landcolor\":\"#E5ECF6\",\"showlakes\":true,\"showland\":true,\"subunitcolor\":\"white\"},\"hoverlabel\":{\"align\":\"left\"},\"hovermode\":\"closest\",\"mapbox\":{\"style\":\"light\"},\"paper_bgcolor\":\"white\",\"plot_bgcolor\":\"#E5ECF6\",\"polar\":{\"angularaxis\":{\"gridcolor\":\"white\",\"linecolor\":\"white\",\"ticks\":\"\"},\"bgcolor\":\"#E5ECF6\",\"radialaxis\":{\"gridcolor\":\"white\",\"linecolor\":\"white\",\"ticks\":\"\"}},\"scene\":{\"xaxis\":{\"backgroundcolor\":\"#E5ECF6\",\"gridcolor\":\"white\",\"gridwidth\":2,\"linecolor\":\"white\",\"showbackground\":true,\"ticks\":\"\",\"zerolinecolor\":\"white\"},\"yaxis\":{\"backgroundcolor\":\"#E5ECF6\",\"gridcolor\":\"white\",\"gridwidth\":2,\"linecolor\":\"white\",\"showbackground\":true,\"ticks\":\"\",\"zerolinecolor\":\"white\"},\"zaxis\":{\"backgroundcolor\":\"#E5ECF6\",\"gridcolor\":\"white\",\"gridwidth\":2,\"linecolor\":\"white\",\"showbackground\":true,\"ticks\":\"\",\"zerolinecolor\":\"white\"}},\"shapedefaults\":{\"line\":{\"color\":\"#2a3f5f\"}},\"ternary\":{\"aaxis\":{\"gridcolor\":\"white\",\"linecolor\":\"white\",\"ticks\":\"\"},\"baxis\":{\"gridcolor\":\"white\",\"linecolor\":\"white\",\"ticks\":\"\"},\"bgcolor\":\"#E5ECF6\",\"caxis\":{\"gridcolor\":\"white\",\"linecolor\":\"white\",\"ticks\":\"\"}},\"title\":{\"x\":0.05},\"xaxis\":{\"automargin\":true,\"gridcolor\":\"white\",\"linecolor\":\"white\",\"ticks\":\"\",\"title\":{\"standoff\":15},\"zerolinecolor\":\"white\",\"zerolinewidth\":2},\"yaxis\":{\"automargin\":true,\"gridcolor\":\"white\",\"linecolor\":\"white\",\"ticks\":\"\",\"title\":{\"standoff\":15},\"zerolinecolor\":\"white\",\"zerolinewidth\":2}}},\"xaxis\":{\"anchor\":\"y\",\"domain\":[0.0,1.0],\"title\":{\"text\":\"index\"}},\"yaxis\":{\"anchor\":\"x\",\"domain\":[0.0,1.0],\"title\":{\"text\":\"value\"}},\"legend\":{\"title\":{\"text\":\"variable\"},\"tracegroupgap\":0},\"title\":{\"text\":\"Logit Difference From Each Layer\"}},                        {\"responsive\": true}                    ).then(function(){\n",
              "                            \n",
              "var gd = document.getElementById('8637b596-f39f-4c28-9b00-41571fb1ce87');\n",
              "var x = new MutationObserver(function (mutations, observer) {{\n",
              "        var display = window.getComputedStyle(gd).display;\n",
              "        if (!display || display === 'none') {{\n",
              "            console.log([gd, 'removed!']);\n",
              "            Plotly.purge(gd);\n",
              "            observer.disconnect();\n",
              "        }}\n",
              "}});\n",
              "\n",
              "// Listen for the removal of the full notebook cells\n",
              "var notebookContainer = gd.closest('#notebook-container');\n",
              "if (notebookContainer) {{\n",
              "    x.observe(notebookContainer, {childList: true});\n",
              "}}\n",
              "\n",
              "// Listen for the clearing of the current output cell\n",
              "var outputEl = gd.closest('.output');\n",
              "if (outputEl) {{\n",
              "    x.observe(outputEl, {childList: true});\n",
              "}}\n",
              "\n",
              "                        })                };                            </script>        </div>\n",
              "</body>\n",
              "</html>"
            ]
          },
          "metadata": {}
        }
      ]
    },
    {
      "cell_type": "markdown",
      "source": [
        "#### MLP Activations"
      ],
      "metadata": {
        "id": "Ouu6XEca0sgs"
      }
    },
    {
      "cell_type": "markdown",
      "source": [
        "Since the MLP layer seems important to boosting the model's negativity bias, let's examine the neuron activations. At this stage, this won't tell us much, but it's interesting to see what they look like."
      ],
      "metadata": {
        "id": "cciJ1mrzUsgj"
      }
    },
    {
      "cell_type": "code",
      "source": [
        "imshow(rlhf_cache[\"post\", 10][0], yaxis=\"Pos\", xaxis=\"Neuron\", title=\"Neuron activations for single inputs\", aspect=\"auto\")"
      ],
      "metadata": {
        "colab": {
          "base_uri": "https://localhost:8080/",
          "height": 542
        },
        "id": "poIJGo3zyTfj",
        "outputId": "b1555c37-8a22-4d98-92ef-606e17b471e9"
      },
      "execution_count": null,
      "outputs": [
        {
          "output_type": "display_data",
          "data": {
            "text/html": [
              "<html>\n",
              "<head><meta charset=\"utf-8\" /></head>\n",
              "<body>\n",
              "    <div>            <script src=\"https://cdnjs.cloudflare.com/ajax/libs/mathjax/2.7.5/MathJax.js?config=TeX-AMS-MML_SVG\"></script><script type=\"text/javascript\">if (window.MathJax) {MathJax.Hub.Config({SVG: {font: \"STIX-Web\"}});}</script>                <script type=\"text/javascript\">window.PlotlyConfig = {MathJaxConfig: 'local'};</script>\n",
              "        <script src=\"https://cdn.plot.ly/plotly-2.8.3.min.js\"></script>                <div id=\"e9bdddce-96f3-4728-9128-ffb01a16e572\" class=\"plotly-graph-div\" style=\"height:525px; width:100%;\"></div>            <script type=\"text/javascript\">                                    window.PLOTLYENV=window.PLOTLYENV || {};                                    if (document.getElementById(\"e9bdddce-96f3-4728-9128-ffb01a16e572\")) {                    Plotly.newPlot(                        \"e9bdddce-96f3-4728-9128-ffb01a16e572\",                        [{\"coloraxis\":\"coloraxis\",\"name\":\"0\",\"z\":[[-0.16234703361988068,-0.01565524749457836,-0.15021683275699615,-0.09808003902435303,-0.16980627179145813,0.09907631576061249,0.29726478457450867,-0.16833677887916565,-0.06031838059425354,-0.07207733392715454,-0.1631065160036087,0.38364899158477783,-0.12334582954645157,-0.07988762855529785,0.13941076397895813,-0.16860038042068481,-0.14022833108901978,-0.15958504378795624,-0.10544129461050034,-0.13448503613471985,-0.08931758254766464,0.06201262027025223,0.008484449237585068,-0.04512489587068558,-0.030927158892154694,-0.16960473358631134,-0.12518098950386047,-0.04293748736381531,-0.17002440989017487,-0.08974093198776245,-0.08691708743572235,-0.1580272763967514,0.1687939167022705,-0.0988006517291069,-0.09182462841272354,-0.14159844815731049,0.023541908711194992,-0.05749170482158661,-0.06335241347551346,-0.04161512106657028,-0.09962249547243118,-0.0396442636847496,-0.0023640855215489864,-0.1463572382926941,-0.16130931675434113,0.05672931298613548,-0.01967856101691723,-0.04712401330471039,-0.07126810401678085,-0.06970744580030441,-0.06971118599176407,-0.13987654447555542,-0.10341791063547134,-0.1452978104352951,0.30297476053237915,-0.16444864869117737,-0.16093845665454865,-0.16815204918384552,-0.1474892646074295,-0.10894020646810532,-0.0,-0.0010481425561010838,0.09025081247091293,-0.07097486406564713,-0.1688275933265686,-0.08854368329048157,-0.16440798342227936,-0.07632308453321457,-0.1009700819849968,-0.0839647576212883,0.39096707105636597,-0.13257916271686554,0.006927387788891792,0.02721293643116951,-0.08196049928665161,-0.16995291411876678,-0.07543783634901047,0.19464480876922607,-0.11562448740005493,0.05383966118097305,0.7677435278892517,-0.16970014572143555,-0.11231422424316406,-0.01253399159759283,0.3438638150691986,0.027945470064878464,-0.15124695003032684,-0.013041870668530464,-0.16983109712600708,-0.16871313750743866,-0.12951244413852692,-0.15439943969249725,-0.008630719035863876,-0.09287549555301666,-0.16380813717842102,-0.14879783987998962,-0.14935164153575897,-0.11310748010873795,-0.1662895679473877,-0.07587090879678726,-0.13253425061702728,-0.1487552672624588,-0.16237621009349823,-0.15307393670082092,-0.11210179328918457,-0.03596118837594986,-0.16857434809207916,-0.019737165421247482,-0.15858547389507294,-0.16614441573619843,-0.10688011348247528,-0.07786738872528076,-0.07421333342790604,-0.14605259895324707,-0.1598311960697174,-0.1662880927324295,-0.0270429328083992,-0.1201850175857544,-0.034146904945373535,-0.09807146340608597,-0.10127308964729309,-0.07506316155195236,-0.16377092897891998,-0.16956596076488495,-0.016055794432759285,-0.07065107673406601,-0.12047995626926422,-0.16592855751514435,-0.08514220267534256,-0.04418036714196205,-0.03325989842414856,-0.15887568891048431,-0.018365710973739624,-0.11819522082805634,-0.07460342347621918,0.03728678077459335,0.08221397548913956,-0.007989948615431786,-0.06447061896324158,-0.04649485647678375,-0.1324862241744995,-0.03205157816410065,-0.10564027726650238,-0.08423283696174622,-0.015127286314964294,0.04043972119688988,-0.15813575685024261,-0.0875765010714531,-0.13921818137168884,0.07530851662158966,-0.10232040286064148,-0.12781620025634766,-0.15759293735027313,-0.11665365844964981,-0.0795803964138031,-0.1648198813199997,0.1130744144320488,-0.04485347494482994,-0.04702022671699524,-0.05692772567272186,-0.0562729574739933,-0.13830643892288208,-0.023410862311720848,-0.15448331832885742,0.1640835404396057,-0.14444869756698608,0.5695446729660034,-0.09050708264112473,-0.0600258894264698,-0.16979463398456573,-0.16865971684455872,-0.11612650752067566,-0.010044120252132416,-0.06794322282075882,-0.16672401130199432,0.03369738534092903,-0.04152866452932358,-0.09150134772062302,-0.00033221073681488633,-0.10135878622531891,-0.008533901534974575,-0.0015908728819340467,-0.05467279627919197,-0.12861910462379456,-0.07700364291667938,0.1185290589928627,-0.15913446247577667,-0.05181654542684555,0.18950960040092468,-0.13064831495285034,-0.011949832551181316,-0.04986558109521866,-0.1225096732378006,-0.1479959934949875,-0.1098281517624855,0.028334911912679672,-0.08998572081327438,-0.017215954139828682,-0.0329759418964386,-0.0021805656142532825,-0.030839676037430763,0.04291744902729988,-0.09681203961372375,0.261594295501709,-0.1700378954410553,-0.16735664010047913,0.016220254823565483,-0.12363605946302414,-0.11547378450632095,0.002888400573283434,0.07818975299596786,0.25928062200546265,-0.16463859379291534,-0.11086387187242508,0.12026260793209076,-0.023797959089279175,-0.14497406780719757,-0.14255274832248688,-0.11830851435661316,-0.09789453446865082,-0.10163535177707672,-0.153544619679451,-0.15520019829273224,-0.13054396212100983,-0.14423255622386932,-0.05563388019800186,-0.12786272168159485,-0.10583321750164032,-0.15160810947418213,-0.14301267266273499,-0.07589716464281082,0.075515016913414,0.042940061539411545,-0.09319484978914261,-0.1033279076218605,-0.16521765291690826,-0.010575799271464348,-0.17003390192985535,-0.16915296018123627,-0.08992646634578705,-0.14840483665466309,-0.02356099709868431,-0.07319824397563934,-0.13121329247951508,-0.07209166884422302,0.13303185999393463,0.17761163413524628,-0.17000220715999603,-0.10539048910140991,-0.15887238085269928,-0.007756411097943783,-0.1471894085407257,-0.11172908544540405,0.03779478371143341,-0.12484780699014664,-0.11472153663635254,-0.1449863165616989,-0.011451274156570435,-0.14508739113807678,-0.1115928366780281,-0.023450935259461403,0.17392869293689728,0.12900830805301666,-0.1671970933675766,0.45450401306152344,-0.16106383502483368,-0.1369752436876297,-0.013882751576602459,-0.10600172728300095,0.27267003059387207,-0.06955913454294205,-0.1700078248977661,-0.1468351036310196,-0.16319355368614197,0.26264843344688416,-0.07468334585428238,-0.16938714683055878,0.1437625139951706,-0.059821970760822296,-0.09811548888683319,-0.0010106825502589345,-0.16132494807243347,-0.1647895723581314,-0.1393531709909439,-0.052248939871788025,-0.06207438185811043,-0.0021530112717300653,-0.053166065365076065,-0.10051664710044861,-0.15847599506378174,-0.09919758141040802,-0.06897174566984177,-0.06452565640211105,-0.16444624960422516,-0.018387284129858017,-0.16994762420654297,0.20842579007148743,-0.02039366587996483,-0.11719059944152832,-0.15878859162330627,-0.06450091302394867,-0.006319350562989712,-0.14400073885917664,-0.155253604054451,-0.000732153479475528,-0.11683044582605362,-0.1592785120010376,0.21711091697216034,-0.003819545265287161,0.05428589507937431,-0.16979990899562836,-0.0016619121888652444,-0.16960306465625763,0.295646607875824,-0.1573249250650406,-0.13404910266399384,-0.14796045422554016,-0.16272465884685516,-0.034477926790714264,-0.06527659296989441,-0.10630101710557938,0.09589982032775879,-0.027033867314457893,-0.0017529918113723397,-0.038881633430719376,0.10452336072921753,0.3431852161884308,-0.1618567854166031,-0.05869074538350105,-0.16690705716609955,-0.10553917288780212,-0.055686015635728836,0.1428464651107788,-0.15573818981647491,0.5185716152191162,-0.16998650133609772,-0.09888482093811035,-0.161482036113739,-0.12941433489322662,-0.08475307375192642,-0.13853046298027039,-0.14779780805110931,-0.09866761416196823,-0.08177737146615982,-0.16965022683143616,-0.07689859718084335,-0.09081611782312393,0.2135869711637497,0.057165104895830154,-0.09555978327989578,0.0014338968321681023,-0.16445519030094147,-0.1580822616815567,-0.16812746226787567,0.003938295412808657,-0.04599575698375702,0.7080529928207397,-0.13024108111858368,0.1563473790884018,-0.16802293062210083,-0.03073052130639553,-0.13629786670207977,-0.16769400238990784,-0.04985649883747101,-0.09635143727064133,-0.10957551747560501,-0.16978080570697784,-0.14190863072872162,-0.14598694443702698,0.20044264197349548,-0.0,-0.13860072195529938,-0.1117299273610115,-0.16956830024719238,-0.00022757564147468656,0.13843205571174622,-0.16099926829338074,-0.09927629679441452,-0.16982489824295044,4.962422847747803,-0.1040537878870964,-0.009774564765393734,0.1397201418876648,0.2386174201965332,0.14680549502372742,-0.022164182737469673,-0.1410343199968338,0.3371696174144745,-0.0116749731823802,-0.08175037056207657,-0.15215030312538147,-0.16509027779102325,0.045977894216775894,-0.1647612601518631,0.07922136783599854,-0.11401968449354172,-0.03492291271686554,-0.16514863073825836,-0.004385839682072401,-0.00526211503893137,-0.14405106008052826,0.3018124997615814,-0.16601906716823578,-0.02934623882174492,-0.16120512783527374,-0.14023727178573608,-0.006387295201420784,-0.0011873345356434584,0.00510217621922493,-0.022063925862312317,-0.1588539332151413,-0.010675572790205479,-0.02992684207856655,-0.09103145450353622,0.04768556356430054,-0.04478907957673073,-0.16854789853096008,0.18315041065216064,-0.14778931438922882,-0.14330832660198212,-0.004292436875402927,-0.16998451948165894,-0.11500012874603271,-0.022421788424253464,-0.11394580453634262,-0.01145714521408081,-0.16977080702781677,-0.015482157468795776,0.06021172180771828,-0.13092924654483795,-0.10791904479265213,-0.025047164410352707,-0.1633053421974182,-0.06725454330444336,0.11893093585968018,0.13710711896419525,0.023148123174905777,-0.11437876522541046,-0.08397199213504791,-0.1278533637523651,-0.16717208921909332,-0.16989848017692566,0.14319278299808502,-0.1507343202829361,-0.1477409452199936,0.19931699335575104,-0.010706299915909767,-0.012009191326797009,0.0899190828204155,0.06677371263504028,0.23234699666500092,-0.15941283106803894,-0.02436576411128044,-0.028327323496341705,-0.07644053548574448,-0.06876665353775024,0.04688755050301552,-0.008318793959915638,-0.17003482580184937,-0.07562487572431564,-0.1476287841796875,-0.024724973365664482,-0.07612410932779312,-0.14164875447750092,-0.009789998643100262,-0.1400001347064972,-0.015364612452685833,-0.16911926865577698,-0.08796713501214981,0.017031660303473473,-0.00015958494623191655,-0.10043637454509735,-0.05371463671326637,-0.06920584291219711,-0.07684100419282913,-0.03028758428990841,-0.15673698484897614,0.009504876099526882,-0.0912395790219307,-0.05915851891040802,-0.07596942037343979,0.2086380571126938,-0.14604245126247406,0.24404054880142212,-0.11305869370698929,-0.06621204316616058,-0.15937139093875885,-0.1697738766670227,0.22081857919692993,-0.1099579930305481,-0.12760315835475922,-0.08384819328784943,-0.01292505208402872,-0.05531720444560051,-0.14855949580669403,-0.10504172742366791,-0.050351329147815704,-0.12415247410535812,0.0016507101245224476,-0.13896970450878143,-0.020057791844010353,-0.017299454659223557,-0.0866377130150795,-0.11177957057952881,-0.027608508244156837,-0.15113967657089233,-0.049707479774951935,-0.0871134027838707,-0.15026076138019562,0.005791733041405678,-0.00813267845660448,-0.06282714754343033,-0.030502622947096825,-0.0639653205871582,0.05850101634860039,-0.11419365555047989,-0.07615701854228973,-8.999938290799037e-05,0.4948813319206238,0.007821065373718739,-0.11726226657629013,-0.113103486597538,-0.10443470627069473,-0.13388343155384064,-0.0653606727719307,-0.08450813591480255,-0.16373208165168762,-0.11028198152780533,-0.030719749629497528,-0.15448488295078278,-0.16867923736572266,-0.10836146026849747,-0.031220681965351105,-0.04192027822136879,0.6466550827026367,-0.12677648663520813,0.45156094431877136,-0.02110000140964985,-0.0064238011837005615,-0.034196071326732635,-0.16891837120056152,-0.13677099347114563,-0.13979457318782806,-0.07063240557909012,-0.03235141560435295,-0.08798473328351974,-0.15741665661334991,0.060354724526405334,-0.013378393836319447,-0.05620582774281502,0.08664742857217789,-0.06985244154930115,0.03602031245827675,5.825405605719425e-05,-0.01061992347240448,-0.1363607496023178,-0.027434801682829857,-0.15650705993175507,0.2895725965499878,0.17061825096607208,0.36983534693717957,-0.06570155173540115,0.1551152467727661,-0.030675658956170082,-0.10406588762998581,-0.0017282420303672552,-0.11393354088068008,-0.1117992252111435,0.03842804208397865,-0.12661080062389374,-0.0007509212009608746,-0.054718103259801865,-0.04037513956427574,-0.14383654296398163,-0.03056802786886692,-0.07188120484352112,-0.025832677260041237,-0.13236434757709503,-0.08915376663208008,-0.03274070471525192,-0.1331464797258377,0.26203420758247375,-0.15006758272647858,-0.0954793393611908,-0.10844048857688904,-0.169788658618927,-0.1460326761007309,-0.01827958971261978,0.2925420105457306,-0.16840092837810516,-0.15209469199180603,-0.14627431333065033,-0.1071239486336708,-0.014440302737057209,-0.16385750472545624,-0.12800447642803192,0.047203462570905685,-0.1463414877653122,-0.1291530579328537,-0.04402525722980499,-0.1206003725528717,-0.08865662664175034,-0.16768969595432281,0.3069242537021637,0.09649240225553513,-0.16893300414085388,-0.15064729750156403,-0.16869311034679413,-0.16049671173095703,-3.1157946068560705e-05,-0.0021637764293700457,-0.09133245795965195,-0.162709578871727,-0.09292812645435333,-0.1611654907464981,-0.10561741143465042,-0.17003966867923737,0.08298414200544357,-0.08459298312664032,-0.1134500727057457,0.04181133955717087,-0.08981627225875854,-0.0819966122508049,-0.09275638312101364,-0.08992739766836166,-0.03484036400914192,-0.1499433070421219,-0.15035594999790192,0.048497673124074936,-0.10198260843753815,-0.10609231144189835,-0.03211810439825058,-0.13351473212242126,-0.057618480175733566,0.16489234566688538,-0.15958364307880402,-0.12735317647457123,-0.07898060977458954,0.2381352186203003,-0.09257584065198898,-0.1670503318309784,-0.13463062047958374,-0.1139807403087616,-0.16997219622135162,-0.16028761863708496,-0.04333382099866867,-0.07252393662929535,-0.04181390255689621,-0.05413980782032013,-0.1283719390630722,0.0785335898399353,-0.16845454275608063,-0.08568019419908524,0.12659011781215668,-0.020859116688370705,-0.09402189403772354,-0.1554127335548401,0.3370870053768158,-0.16344507038593292,0.04989500716328621,-0.007366075646132231,-0.02453213930130005,-0.1581737995147705,-0.07636761665344238,0.051642414182424545,-0.1638433337211609,-0.02117166854441166,-0.06317508220672607,-0.03478563576936722,-0.14639557898044586,-0.10551340132951736,-0.1491900086402893,-0.027335500344634056,0.5386126637458801,-0.1695556640625,-0.06629820168018341,-0.14068931341171265,-0.1337035894393921,0.12585215270519257,-0.13237005472183228,-0.170017272233963,-0.018299324437975883,-0.044286418706178665,-0.16398385167121887,-0.13603205978870392,-0.16755324602127075,-0.0702616274356842,-0.1151111051440239,-0.16574221849441528,0.0897991955280304,-0.028895042836666107,-0.0007879218901507556,0.17015637457370758,-0.004967852029949427,-0.16392476856708527,0.0028328706976026297,0.019924867898225784,-0.06847461313009262,-0.170039102435112,-0.16824035346508026,-0.0011107559548690915,-0.012865528464317322,-0.13349205255508423,-0.0347767136991024,-0.11664821207523346,-0.02824203483760357,-0.03800753131508827,0.08016590029001236,-0.14303310215473175,0.1483277976512909,0.004496132023632526,-0.13180573284626007,-0.1403474509716034,-0.054060254245996475,-0.17003223299980164,-0.1500488966703415,-0.10796476900577545,-0.07542339712381363,-0.1687571257352829,-0.014420357532799244,-0.16061915457248688,-0.16985855996608734,-0.08216377347707748,-0.03277551755309105,-0.09751441329717636,-0.08561303466558456,-0.10361884534358978,-0.04336874559521675,-0.1446525752544403,-0.10654515027999878,-0.14925377070903778,-0.08225460350513458,-0.16454342007637024,-0.09515127539634705,-0.050203606486320496,0.2181580662727356,-0.14153388142585754,-0.10007140785455704,-0.008850153535604477,-0.10800532251596451,-0.053449973464012146,0.23074433207511902,-0.1279457062482834,-0.16592906415462494,-0.14955638349056244,-0.12215812504291534,-0.07356477528810501,0.17606689035892487,-0.055624306201934814,-0.14842338860034943,-0.16406135261058807,0.22414630651474,-0.1356743723154068,-0.03169881924986839,-0.03816399723291397,0.11729778349399567,0.1450512558221817,0.005290823057293892,0.07271236181259155,0.3017548620700836,0.12367115169763565,-0.14814876019954681,0.4180147349834442,-0.03080122359097004,0.09461836516857147,0.12972217798233032,-0.11591357737779617,-0.16781678795814514,0.13019588589668274,-0.08336586505174637,-0.01679736189544201,-0.13470028340816498,0.5370732545852661,-0.11266150325536728,-0.04094638675451279,-0.14010407030582428,-0.16975408792495728,-0.09381477534770966,-0.0013885514345020056,-0.16710589826107025,0.14319242537021637,-0.005810380447655916,-0.16432473063468933,-0.03750435635447502,-0.1341882199048996,-0.1246117353439331,-0.16641773283481598,-0.13509148359298706,-0.05403771251440048,-0.11640021204948425,-0.024207843467593193,-0.16953065991401672,-0.12403549253940582,0.12867987155914307,-0.1549423485994339,-0.0980701893568039,-0.0004467768012546003,-0.16727791726589203,-0.09857950359582901,-0.15399618446826935,-0.04530882090330124,-0.13323819637298584,-0.17001737654209137,0.0931701809167862,-0.13559678196907043,-0.055159274488687515,-0.1654624491930008,-0.1629520207643509,-0.0745643749833107,-0.13214781880378723,-0.14216217398643494,-0.03536276891827583,0.07092279940843582,-0.08108942210674286,-0.14560498297214508,-0.06428059190511703,-0.1668228805065155,-2.613547849250608e-06,-0.006764205172657967,-0.13162526488304138,0.4625420868396759,-0.09044653177261353,-0.020653503015637398,-0.08121175318956375,-0.16072538495063782,-0.039391905069351196,-0.030788544565439224,-0.10250341892242432,-0.1655728816986084,0.24837104976177216,-0.021239900961518288,-0.14527547359466553,-0.12487960606813431,-0.03309139236807823,-0.05018916726112366,-0.009048772044479847,-0.01828828826546669,-0.16844187676906586,0.0157980527728796,0.19050805270671844,-0.08087591826915741,-0.11358164250850677,-0.08711541444063187,-0.02507907524704933,-0.15064579248428345,-0.16889186203479767,-0.0004375869466457516,-0.08834098279476166,0.2242933064699173,-0.1614566445350647,-0.08291549980640411,0.048084985464811325,0.28147995471954346,-0.06994174420833588,-0.151957169175148,0.073296457529068,-0.13567489385604858,-0.03227701410651207,-0.09393959492444992,-0.15100421011447906,-0.05686916410923004,-0.037455011159181595,-0.1331588327884674,-0.0889894962310791,-0.003066416596993804,0.14130936563014984,-0.14139185845851898,0.14425136148929596,-0.026573117822408676,0.003815868403762579,-0.03822694346308708,-0.17001600563526154,-0.13929229974746704,-0.166978120803833,-0.12991294264793396,-0.091933473944664,-0.15175919234752655,-0.0722263753414154,-0.09352009743452072,-0.1090748980641365,-0.10978326946496964,-0.1466313749551773,0.4645601511001587,-0.03952854126691818,0.1907629519701004,-0.016668077558279037,0.27188587188720703,-0.1557922065258026,0.15921208262443542,-0.16629861295223236,-0.08858636766672134,-0.159822478890419,-0.008980495855212212,-0.13810698688030243,-0.06456883251667023,-0.1330152451992035,-0.09844738245010376,-0.13872484862804413,-0.17003430426120758,-0.12005364894866943,-0.0,-0.06188312545418739,-0.16296598315238953,0.06503575295209885,-0.06038472801446915,-0.055529046803712845,0.10595511645078659,-0.07315049320459366,-0.16626282036304474,-0.11177772283554077,-0.031857460737228394,-0.17003412544727325,-0.16353194415569305,-0.1677420735359192,-0.03551793843507767,-0.051083263009786606,-0.03837639093399048,-0.1700315922498703,-0.09932024031877518,-0.1681261509656906,-0.14753620326519012,-0.01942369155585766,-0.07015819847583771,-0.054244909435510635,-0.15438450872898102,-0.030795302242040634,-0.14418746531009674,-0.16817468404769897,-0.0008250653045251966,-2.9851038561901078e-05,-0.16857081651687622,-0.007725683506578207,0.26129812002182007,-0.03851675987243652,-0.05883480980992317,0.09711912274360657,-0.09158370643854141,-0.0021717040799558163,-0.15254893898963928,-0.16924184560775757,-0.020383568480610847,-0.13947457075119019,-0.14211751520633698,-0.13620387017726898,-0.07557269930839539,-0.08787046372890472,-0.13798154890537262,-0.029950248077511787,-0.05548949912190437,-0.015490339137613773,-0.1541132926940918,-0.08225642144680023,-0.1213739737868309,-0.14552517235279083,-0.13544373214244843,-0.152907595038414,-0.023974653333425522,-0.16551415622234344,0.012273643165826797,-0.02376030571758747,0.08661104738712311,0.21587298810482025,-0.043991509824991226,-0.11520897597074509,-0.08713547140359879,0.09371256083250046,0.29737842082977295,-0.16668282449245453,-0.13037237524986267,0.011882362887263298,-0.10912477970123291,0.04364155977964401,0.392764151096344,-0.08670437335968018,0.28526344895362854,0.18326233327388763,-0.0032429867424070835,-0.1349838376045227,-0.008745902217924595,0.13857586681842804,-0.024788955226540565,-0.16213110089302063,-0.03481295332312584,-0.050398088991642,-0.14879633486270905,-0.07818116247653961,0.14481431245803833,-0.01247433666139841,-0.10057932138442993,-0.03509577363729477,-0.04035405442118645,-0.1085730791091919,-0.09792856127023697,-0.16963090002536774,-0.010071640834212303,-0.13882572948932648,-0.14912715554237366,-0.16578134894371033,-0.08583681285381317,-0.07576820999383926,-0.08343563973903656,0.04994808882474899,-0.07258902490139008,-0.1588091403245926,-0.15126609802246094,-0.10172973573207855,-0.0649532899260521,-0.1579410284757614,-0.08856140077114105,-0.16147196292877197,-0.0004972782917320728,-0.15276633203029633,-0.08537980914115906,-0.031184010207653046,-0.16153648495674133,0.048249322921037674,-0.1647854447364807,-0.07797740399837494,-0.12397623807191849,-0.1656932681798935,0.045670535415410995,-0.14209772646427155,-0.12777763605117798,-0.17003005743026733,-0.03875645250082016,-0.03218178451061249,-0.10754118114709854,-0.03279783949255943,-0.03710329160094261,-0.0886932834982872,-0.16466230154037476,0.024666836485266685,-0.04101027548313141,-0.1197344958782196,0.28929761052131653,-0.16919878125190735,-0.169452965259552,-0.05214041471481323,0.18258126080036163,-0.09776291251182556,-0.09091636538505554,0.1982247233390808,-0.14873425662517548,-0.09047768265008926,0.15415365993976593,-0.15104380249977112,0.06675438582897186,-0.16781599819660187,0.18488845229148865,-0.040905073285102844,0.055434588342905045,-0.12872248888015747,-0.10989030450582504,0.03774811327457428,0.01883065700531006,-0.06159592419862747,-0.036173127591609955,-0.15397144854068756,-0.09350696206092834,-0.121455118060112,-0.10094886273145676,-0.08612409979104996,-0.04080940783023834,0.42092248797416687,-0.13369734585285187,-0.08486493676900864,-0.010087553411722183,-0.029166780412197113,0.037423789501190186,-0.14383336901664734,-0.1622931957244873,-0.10158614814281464,-0.09442192316055298,-0.07071225345134735,-0.12161873281002045,0.1540382355451584,-0.12786690890789032,-0.09701526165008545,-0.1636756956577301,0.17139838635921478,0.06423424929380417,-0.00461266003549099,0.04613891988992691,-0.00014988497423473746,-0.11444137990474701,-0.08259128034114838,-0.08222551643848419,0.29105135798454285,-0.03450968489050865,-0.00658599566668272,-0.16576078534126282,-0.019640455022454262,-0.1699463129043579,-0.12395597249269485,-0.1638963371515274,-0.03082813322544098,-0.07409069687128067,-0.09536249935626984,0.15134456753730774,-0.03803687542676926,-0.12246236205101013,0.24320700764656067,-0.09017191082239151,-0.16708198189735413,-0.1489378958940506,-0.01475174818187952,0.013030040077865124,-0.024446671828627586,-0.13958309590816498,-0.16971194744110107,0.5402590036392212,-0.052673932164907455,0.2842715382575989,-0.03687964752316475,-0.1435089111328125,-0.12496856600046158,-0.05341549962759018,-0.16464850306510925,-0.09194618463516235,-0.04744599759578705,-0.1594109982252121,0.15854158997535706,0.10086482018232346,0.24045975506305695,-0.16477839648723602,-0.0460013821721077,-0.014933348633348942,-0.17004065215587616,-0.16964603960514069,-0.1627511829137802,-0.14788879454135895,-0.009003950282931328,-0.09799111634492874,-0.015869105234742165,-0.06995297968387604,0.024345047771930695,-0.16924691200256348,-0.15912581980228424,-0.013743799179792404,-0.005500533618032932,-0.1042545810341835,-0.03076855093240738,-0.07649563252925873,-0.06297021359205246,-0.160062775015831,0.06655208766460419,-0.05385705083608627,-0.10402251780033112,-0.057858094573020935,-0.07530383765697479,-0.08084114640951157,-0.11902328580617905,-0.16856659948825836,-0.0920298621058464,0.2334877997636795,-0.15444126725196838,-0.13529054820537567,-0.13620330393314362,-0.08154997229576111,0.1698531061410904,-0.056346334517002106,-0.16963744163513184,-0.10196367651224136,-0.08658429980278015,-0.13405412435531616,0.3925754129886627,-0.1678951531648636,-0.16777266561985016,-0.1670636087656021,-0.047728512436151505,-0.11612959206104279,0.2997671663761139,-0.02262449823319912,-0.1685483753681183,-0.029084371402859688,-0.11250384896993637,-0.09723997861146927,0.18663612008094788,-0.06842295080423355,-0.1482296586036682,-0.16592061519622803,0.15458668768405914,-0.06998515129089355,0.3182981610298157,-0.011451453901827335,-0.11955492198467255,0.31260114908218384,-0.0005013315821997821,0.48030340671539307,-0.027162615209817886,-0.16695919632911682,-0.13545969128608704,-0.12658219039440155,-0.04502749815583229,-0.01673268713057041,-0.16999469697475433,-0.062140703201293945,0.4298838973045349,-0.08523137867450714,-0.039894312620162964,-0.11446742713451385,0.17914274334907532,-0.14586113393306732,0.1573568433523178,-0.16205857694149017,-0.019973013550043106,-0.1478492021560669,-0.1696489453315735,-0.05067645013332367,-0.1394391804933548,-0.1317719966173172,-0.16974766552448273,0.35475262999534607,-0.002724726451560855,-0.024834781885147095,-0.16963137686252594,-0.11911477148532867,-0.16480089724063873,-0.1309446394443512,-0.04624365642666817,-0.1330072432756424,-0.07378830015659332,0.14645980298519135,0.007539663929492235,0.11142239719629288,0.19066661596298218,-0.019150812178850174,-0.13650326430797577,-0.12815940380096436,-0.15662360191345215,0.0995723232626915,-0.13311441242694855,-0.10712899267673492,-0.10427821427583694,-0.042249973863363266,0.2600975036621094,-0.06110837310552597,-0.1551482081413269,-0.023673882707953453,-0.09269259124994278,-0.16752377152442932,-0.17000465095043182,-0.10004789382219315,-0.16896580159664154,-0.00945574976503849,0.28358131647109985,0.05075334757566452,-0.04135527461767197,-0.043756838887929916,-0.12044157087802887,-0.001258428324945271,-0.09006009995937347,-0.06315668672323227,-0.0628751739859581,-0.1278405338525772,-0.11579833179712296,-0.11417432874441147,-0.03960874676704407,-0.16352681815624237,-0.045890599489212036,0.004800791386514902,0.4198058843612671,0.5071583986282349,-0.014030367136001587,-0.033818505704402924,-0.11330615729093552,-0.051435209810733795,-0.0014612722443416715,-0.09437710791826248,0.30679091811180115,-0.1637968122959137,-0.15695616602897644,-0.03933409973978996,-0.12118374556303024,-0.10002632439136505,-0.15130145847797394,-0.04082661122083664,-0.1442725509405136,-0.14914636313915253,-0.16799552738666534,-0.10035737603902817,-0.13904587924480438,-0.16460922360420227,-0.16946575045585632,-0.1623772233724594,0.09776951372623444,-0.047256916761398315,-0.08870379626750946,-0.1611451506614685,-0.11971399933099747,-0.0710294097661972,0.19709813594818115,-0.030432214960455894,-0.09374462068080902,-0.1251142919063568,-0.008595051243901253,-0.08438853919506073,-0.14068347215652466,-0.10319578647613525,-0.15072298049926758,-0.06900964677333832,-0.12376772612333298,-0.019344573840498924,-0.16973280906677246,-0.16574275493621826,-0.16928423941135406,-0.16988271474838257,0.5294169783592224,-0.108234703540802,-0.16101881861686707,0.10093463212251663,-0.11153999716043472,-0.04333794489502907,-0.16906416416168213,-0.1406070739030838,-0.12790001928806305,0.038559239357709885,-0.16702058911323547,0.4664795398712158,-0.03699479624629021,-0.1352013498544693,-0.007914667949080467,-0.06827190518379211,-0.17002256214618683,0.08506645262241364,-0.15033257007598877,0.2886069715023041,-0.16855855286121368,-0.16848404705524445,-0.04599880799651146,-0.13608480989933014,-0.031048554927110672,-0.05256322771310806,-0.04319784417748451,0.3989013731479645,-0.1245865672826767,-0.08111177384853363,0.14898140728473663,-0.07006460428237915,-0.08430657535791397,0.39658045768737793,-0.014592614024877548,0.10470203310251236,-0.08000018447637558,-0.028175784274935722,-0.14557786285877228,0.24148039519786835,0.2580733895301819,-0.013499951921403408,-0.03043101355433464,-0.08092761039733887,0.21493323147296906,-0.14758720993995667,-0.16496750712394714,-0.11462981253862381,-0.11303025484085083,0.16774414479732513,-0.007067065220326185,-0.014696840196847916,-0.14478616416454315,0.03135713189840317,-0.14184781908988953,-0.15690407156944275,-0.1653011590242386,0.2177191525697708,0.3184414803981781,0.08289850503206253,-0.17003874480724335,-0.16717828810214996,0.29954278469085693,-0.07493126392364502,-0.14675936102867126,-0.07064056396484375,-0.020929910242557526,-0.10450410842895508,-0.11800223588943481,0.009523668326437473,-0.15462107956409454,-0.00110715685877949,-0.17003919184207916,-0.14340567588806152,-0.1662096381187439,-0.16019253432750702,-0.1695895791053772,-0.14810562133789062,-0.11474189162254333,0.09715716540813446,-0.13429248332977295,-0.17003995180130005,-0.10174578428268433,-0.1570790410041809,-0.0734567791223526,-0.0213187113404274,-0.08828889578580856,-0.016598807647824287,-0.09690915048122406,0.2899722754955292,-0.04532425105571747,-0.004820815287530422,-0.15258003771305084,-0.14989054203033447,-0.14227522909641266,-0.056874703615903854,-0.14935582876205444,-0.12728792428970337,0.20518238842487335,0.03218455985188484,-0.16911600530147552,0.19435453414916992,0.023435795679688454,0.04518131539225578,-0.15511274337768555,-0.08760198950767517,-0.08016316592693329,-0.16425611078739166,-0.1360553652048111,-0.06829694658517838,-0.06598643213510513,-0.10416336357593536,-0.0760980024933815,-0.1517242044210434,0.09639204293489456,-0.12791821360588074,-0.04953761026263237,0.0913769006729126,-0.049866922199726105,-0.06929100304841995,-0.12451044470071793,-0.16744983196258545,0.07405778020620346,-0.0014256740687415004,-0.02181183360517025,0.20465746521949768,-0.02307705394923687,-0.1291632354259491,0.09744585305452347,-0.0795324370265007,-0.1535901129245758,-0.12395111471414566,-0.13953152298927307,-0.06842810660600662,0.12220188230276108,-0.06819083541631699,-0.1601080447435379,-0.07377936691045761,-0.12174689769744873,-0.1541181206703186,-0.021084606647491455,-0.1407843381166458,0.12657392024993896,0.13574522733688354,-0.12899170815944672,0.0510677695274353,-1.5187769975000265e-07,-0.027382859960198402,0.05037086457014084,-0.046148791909217834,0.3578093945980072,-0.15967881679534912,-0.13486669957637787,-0.1018190011382103,-0.15931369364261627,-0.022969555109739304,0.14490234851837158,0.25670483708381653,0.016042711213231087,-0.09387344121932983,-0.16162703931331635,-0.0034849420189857483,-0.1698632687330246,0.3074631989002228,-0.003990996163338423,-0.11697152256965637,-0.07349149882793427,-0.1049915999174118,-0.05675729364156723,-0.12097179144620895,-0.008142613805830479,-0.1648464947938919,-0.1314922273159027,-2.985345054185018e-05,-0.0993264690041542,-0.15607772767543793,0.07269611954689026,-0.07646586745977402,-0.1315142810344696,-0.16897772252559662,0.09340348094701767,-0.1638849377632141,-5.2287286962382495e-05,-0.1266767978668213,-0.0771305188536644,0.27136722207069397,-0.10944867134094238,-0.09803672879934311,-0.007600859273225069,0.27585726976394653,-0.05915069580078125,0.3278504014015198,-0.13468477129936218,-0.16697849333286285,-0.03817074000835419,0.18281593918800354,-0.16201713681221008,-0.0943436399102211,-0.15462416410446167,-0.1672365516424179,-0.011376531794667244,0.09337501227855682,-0.06224033236503601,-0.15476790070533752,-0.13659244775772095,-0.11224211752414703,-7.755678961984813e-05,0.4029698073863983,-0.05850324034690857,-0.14826014637947083,-0.0005264620413072407,-0.07243555784225464,0.3528442680835724,-0.03936859965324402,-0.16367654502391815,-0.15838193893432617,-0.16227318346500397,-0.07385659962892532,-0.005385277327150106,0.09541590511798859,-0.16675938665866852,-0.13597112894058228,-0.010998840443789959,-0.04383408650755882,0.1299571394920349,-0.07789641618728638,-0.1592041701078415,-0.1468355655670166,0.21940849721431732,-0.07239778339862823,-0.026479916647076607,-0.026232987642288208,-0.007673000916838646,-0.12320711463689804,0.19116023182868958,-0.13450975716114044,0.0010125554399564862,-0.06438921391963959,-0.16363053023815155,-0.1429612785577774,0.010879174806177616,-0.1486237496137619,-0.1620509922504425,-0.10708866268396378,-0.16798798739910126,-0.11210547387599945,-0.127425417304039,0.08864200860261917,-0.1671701818704605,-0.16064214706420898,-0.12892277538776398,-0.12012478709220886,-0.16381394863128662,-0.16163486242294312,0.667053759098053,-0.008545872755348682,-0.053522974252700806,-0.09957945346832275,-0.13247887790203094,-0.05869220569729805,-0.09688302129507065,-0.07945968955755234,-0.16908083856105804,0.08851440250873566,-0.11817668378353119,-0.090567447245121,0.12748681008815765,-0.1517612785100937,-0.168801948428154,-0.16702456772327423,-0.04799317196011543,0.04075952246785164,-0.08309198915958405,0.3114125728607178,-0.13881392776966095,-0.11725737899541855,-0.1401355266571045,-0.016630681231617928,-0.16636201739311218,-0.08004596084356308,-0.04309708997607231,-0.15773868560791016,-0.14525793492794037,0.7159863114356995,-0.14342831075191498,-0.1115269809961319,-0.07916249334812164,-0.16352710127830505,-0.147629514336586,-0.1506361961364746,0.1428176313638687,-0.15467114746570587,-0.1629665046930313,-0.10568846017122269,-0.11465148627758026,-0.16595356166362762,-0.15804366767406464,-0.10346366465091705,-0.16500942409038544,-0.09060324728488922,-0.09258987009525299,-0.010824084281921387,-0.0485367514193058,-0.11298469454050064,-0.017219018191099167,-0.09609905630350113,-0.16513431072235107,-0.0587337389588356,-0.1616935133934021,-0.13166023790836334,-0.12848109006881714,0.29408517479896545,-0.16953104734420776,-0.16641005873680115,-0.10558034479618073,-0.04568563401699066,-0.16211064159870148,-0.16410548985004425,-0.09827619791030884,-0.005326741840690374,-0.05166822671890259,0.04722034931182861,-0.07536562532186508,0.2844880521297455,0.005356492940336466,-0.054013725370168686,-0.1679176390171051,0.29646748304367065,0.22030171751976013,-0.16962993144989014,-0.16815321147441864,-0.16553393006324768,-0.0035491539165377617,0.12137351930141449,0.20116575062274933,-0.14246629178524017,-0.12882138788700104,-0.0031456644646823406,-0.14050599932670593,-0.0411686897277832,-0.08785295486450195,-0.11316659301519394,-0.13501451909542084,-0.16728638112545013,-0.16323892772197723,-0.03939459100365639,-0.010491165332496166,-0.08049004524946213,-0.08619343489408493,-0.12348927557468414,-0.009566267021000385,-0.07540310174226761,-0.005520424339920282,-0.1575838178396225,0.07186123728752136,-0.1665710210800171,-0.0288377795368433,-0.09145331382751465,-0.1623595654964447,-0.06805211305618286,-0.006928751245141029,-0.16844400763511658,-0.026650361716747284,0.27326154708862305,-0.15993835031986237,-0.04355233162641525,-0.13649553060531616,-0.04140566661953926,-0.006289163138717413,-0.08961697667837143,-0.08216919004917145,-0.08305704593658447,-0.16254833340644836,0.10441040247678757,-0.14336490631103516,-0.11119117587804794,-0.16985668241977692,-0.054208945482969284,-0.14509689807891846,-0.15281595289707184,-2.8070480766473338e-05,-0.004548674449324608,-0.12810097634792328,-0.005851374007761478,-0.0005007379222661257,-0.03985728323459625,0.07693814486265182,-0.15575771033763885,-0.1698443740606308,-0.07189907878637314,-0.0899481400847435,-0.0020858822390437126,-0.09232498705387115,-0.05044933408498764,-0.13690733909606934,-0.15955877304077148,0.010933969169855118,-0.0059943487867712975,-0.1631201058626175,-0.03698033466935158,0.03635595366358757,-0.16862650215625763,-0.0608314648270607,-0.15389873087406158,0.0402049645781517,0.5387104749679565,-0.11963636428117752,-0.13344940543174744,0.25903403759002686,-0.10558420419692993,0.023672575131058693,-0.15308427810668945,-0.13508917391300201,-0.14193914830684662,-0.14178170263767242,0.028233585879206657,-0.15113088488578796,-0.14670178294181824,-0.0811217874288559,-0.15787063539028168,-0.1670469492673874,-0.05361800640821457,0.07089130580425262,-0.16913367807865143,-0.07848106324672699,-0.04754164442420006,-0.1700054109096527,-0.051913462579250336,-0.16594445705413818,-4.731823719339445e-05,-0.16603359580039978,-0.1667124181985855,-0.08372557163238525,0.12298300117254257,-0.030094346031546593,-0.04153333604335785,-0.16727815568447113,-0.10477270185947418,0.2826167643070221,-0.14490661025047302,-0.021532852202653885,-0.0038746476639062166,-0.12278053164482117,-0.044412270188331604,-0.12581269443035126,-0.10575056821107864,-0.01710544526576996,-0.16727161407470703,0.11448537558317184,-0.12046609818935394,-0.16957485675811768,-0.1690971553325653,-0.10170553624629974,-0.0950084775686264,-0.12986908853054047,-0.0825672522187233,-0.012194902636110783,-0.06741202622652054,0.34028521180152893,-0.1653296947479248,-0.09909500181674957,-0.07948752492666245,-0.13436783850193024,-0.07087396830320358,0.013668100349605083,-0.11502137035131454,-0.04343513399362564,-0.09923526644706726,-2.973068546907598e-07,-0.13988563418388367,-0.033861882984638214,-0.057096950709819794,-0.1649966686964035,0.04100826382637024,-0.1646633893251419,-0.15384887158870697,-0.14830464124679565,0.03689759224653244,-0.0037746892776340246,-0.008540336042642593,0.064301036298275,-0.07048343867063522,-0.13754166662693024,-0.06096956878900528,-0.028433071449398994,0.16727711260318756,-0.0,-0.08169466257095337,-0.11740291118621826,-0.10608146339654922,-0.1506090611219406,-0.009284857660531998,-0.1537574827671051,-0.1569545865058899,-0.047347091138362885,-0.12228250503540039,-0.0936322882771492,-0.09699106961488724,-0.16987891495227814,-0.07689225673675537,0.039473988115787506,-0.10669673979282379,-0.07160110026597977,-0.16746138036251068,-0.1627466082572937,-0.15982797741889954,-0.000687961233779788,-0.15436576306819916,0.15291827917099,-0.11899358034133911,-0.042711708694696426,0.19036465883255005,-0.14498397707939148,-0.05207044631242752,0.022544996812939644,-0.16699780523777008,-0.10062231868505478,-0.1495768278837204,-0.05685453489422798,-0.14920030534267426,-0.06470772624015808,0.15967445075511932,-0.1663474589586258,-0.17003904283046722,-0.14454667270183563,-0.09337518364191055,-0.08646626025438309,-0.12962336838245392,-0.09093158692121506,-0.08586515486240387,0.1441146284341812,-0.16561266779899597,-0.1628018468618393,0.007469770964235067,-0.0958792120218277,-0.17003603279590607,-0.05766819790005684,-0.1386309266090393,-0.14412574470043182,0.2975754737854004,0.06601879000663757,-0.1689789742231369,-0.127165749669075,-0.06060202419757843,-0.015316679142415524,-0.12027914822101593,-0.009246721863746643,-0.1334715187549591,0.10153420269489288,-0.01764986477792263,-0.0994868278503418,-0.1615830510854721,-0.10226418823003769,-0.1132611408829689,0.047342076897621155,-0.16964870691299438,-0.04548509418964386,-0.06405062228441238,-0.08798102289438248,-0.05860848352313042,-0.04070999100804329,-0.16750815510749817,0.11555076390504837,0.4823630750179291,0.07263609766960144,-0.15394198894500732,-0.11948633939027786,-0.01855287328362465,-0.16873006522655487,-0.03314702957868576,0.19858817756175995,-0.14626768231391907,-0.16982004046440125,-0.1447972059249878,-0.11832775175571442,0.0005156834376975894,0.023518851026892662,-0.008567354641854763,-0.12545321881771088,-0.1266101598739624,-0.16980040073394775,-0.04868743568658829,-0.03635631501674652,-0.15661470592021942,-0.14881739020347595,-0.11282842606306076,-0.17000867426395416,0.3781049847602844,0.28298893570899963,-0.10712036490440369,-0.15231680870056152,-0.11653304845094681,-0.10421028733253479,0.12034046649932861,-0.009459182620048523,0.019522342830896378,0.10337561368942261,-0.0955754742026329,-0.15102419257164001,-0.16163763403892517,-0.10853482782840729,-0.14692580699920654,0.018739182502031326,-0.16555173695087433,-0.0007240994600579143,0.33358410000801086,0.18621115386486053,-0.13547319173812866,-0.06836137920618057,-0.07252918928861618,-0.026600468903779984,0.0043937088921666145,-0.12048051506280899,-0.16448618471622467,0.07173622399568558,-0.08726488798856735,0.1685132086277008,-0.13299104571342468,-0.15980418026447296,-0.028086915612220764,-0.14185674488544464,0.2151748090982437,-0.16898567974567413,-0.07566061615943909,-0.057038143277168274,-0.12071280926465988,-0.013100563548505306,-0.16944126784801483,-0.15421955287456512,-0.12373775243759155,-0.16868956387043,-0.1355818212032318,-0.1682785302400589,-0.10163968056440353,-0.09048798680305481,0.17487668991088867,-0.13924728333950043,-0.1545063704252243,-0.1699899286031723,-0.16962307691574097,-0.0045090424828231335,-0.14375336468219757,-0.16451318562030792,-0.14071981608867645,-0.12701258063316345,-0.07165543735027313,-0.08989523351192474,-0.10634289681911469,0.09325603395700455,-0.0458531491458416,-0.0778561681509018,-0.16853952407836914,-0.07887189090251923,-0.013853057287633419,-0.026550820097327232,-0.14352354407310486,-0.1686743050813675,-0.15991467237472534,-0.16322074830532074,-0.14366768300533295,-0.0906718373298645,-0.05593264475464821,-0.06280198693275452,-0.1304572969675064,0.40132537484169006,0.7841470241546631,-0.16436994075775146,-0.014111104421317577,-0.015115008689463139,-0.16747501492500305,-0.08121513575315475,-0.1492638736963272,0.07088115811347961,-0.1173178032040596,-0.16572244465351105,-0.09696193039417267,-0.15830031037330627,-0.1101401150226593,-0.07071858644485474,-0.01603720709681511,-0.1700405776500702,-0.10964827239513397,-0.029553549364209175,0.537283718585968,0.5235382914543152,-0.018717192113399506,-0.05394280329346657,-0.06441277265548706,0.046627890318632126,-0.15505275130271912,-0.0529722236096859,-0.016394831240177155,-0.12919369339942932,-0.15128463506698608,-0.08701721578836441,-0.023877952247858047,-0.006603500340133905,-0.13229873776435852,-0.1447124183177948,-0.12708905339241028,-0.11567069590091705,-0.15328706800937653,-0.08018679916858673,0.4415794014930725,-0.16663584113121033,-0.0763128474354744,-0.10771232843399048,0.020640971139073372,-0.16967596113681793,-0.16898375749588013,-0.13593506813049316,-0.07806338369846344,-0.1203041598200798,0.05200710892677307,-0.08418217301368713,-0.16034089028835297,-0.16543081402778625,-0.16965097188949585,-0.1695897877216339,-0.13450320065021515,-0.16749978065490723,-0.14985458552837372,0.5475425720214844,-0.021465037018060684,-0.16988947987556458,-0.07188951224088669,-0.010658038780093193,-0.0775824636220932,-0.16527578234672546,0.05772298946976662,0.05565178766846657,-0.13653430342674255,-0.16889485716819763,0.1503629833459854,-0.1617567390203476,0.0899830162525177,-0.012242366559803486,-0.02478596568107605,-0.08702951669692993,-0.08108457922935486,0.019370893016457558,-0.05672302097082138,-0.14337237179279327,-0.16208748519420624,-0.1680518090724945,0.11213382333517075,-0.011259474791586399,-0.16932819783687592,-0.16977258026599884,-0.1464402973651886,-0.04045972600579262,-0.16264653205871582,-0.1391480565071106,-0.1145869567990303,0.6539051532745361,-0.06555395573377609,-0.017966395244002342,-0.13780289888381958,-0.12379668653011322,-0.14981874823570251,-0.01491709053516388,-0.1623704880475998,-0.15684735774993896,-0.06484264135360718,-0.1294337809085846,-0.13453827798366547,-0.14809033274650574,0.013060390949249268,-1.831825284170918e-05,-0.17003268003463745,-0.0007596618961542845,-0.16940660774707794,0.2238960713148117,-0.03426779806613922,0.3758126497268677,-0.10354132950305939,-0.1641698181629181,-0.1599484086036682,-0.12938880920410156,0.2906785309314728,-0.15959486365318298,-0.0709342211484909,-0.16739332675933838,-0.05355190858244896,0.15673884749412537,-0.0005720629123970866,0.1386938989162445,-0.16787703335285187,-0.167476087808609,-0.029745111241936684,-0.12578462064266205,-0.11673182994127274,-0.16323493421077728,-0.052960097789764404,-0.16838829219341278,0.06832624226808548,-0.048453424125909805,0.03510257229208946,0.18312540650367737,-0.13651970028877258,-0.05994759127497673,-0.0854804515838623,-0.16613228619098663,-0.08234644681215286,-0.00260162609629333,-0.11063946783542633,0.25558236241340637,0.47719624638557434,0.03839755430817604,-0.16819427907466888,-0.16719277203083038,0.18071822822093964,-0.08020671457052231,-0.013270871713757515,-0.04491804912686348,0.024910619482398033,0.02622649446129799,-0.11650046706199646,-0.1036786437034607,-0.16753017902374268,0.11022263020277023,-0.031258318573236465,-0.17003829777240753,-0.1441836953163147,-0.13090644776821136,-0.0007258258992806077,-0.16910597681999207,-0.06840309500694275,-0.16966772079467773,-0.04740048572421074,-0.06593110412359238,-0.05873120203614235,-0.07986215502023697,-0.1361500769853592,-0.16708362102508545,-0.061331603676080704,-0.03415786102414131,0.014345389790832996,-0.006475615315139294,0.02068576216697693,-0.15890777111053467,0.02329551987349987,-0.0040604774840176105,0.08852639049291611,-0.16114377975463867,-0.11308412998914719,0.28168362379074097,0.10547864437103271,-0.13918304443359375,-0.07682748138904572,-0.1566046178340912,0.04930959641933441,-0.013262821361422539,-0.1128401830792427,-0.13785085082054138,-0.167695552110672,-0.07818726450204849,-0.007928923703730106,-0.10698632895946503,-0.15275856852531433,-0.08893587440252304,-0.09126340597867966,-0.02075989730656147,-0.15815334022045135,-0.16326068341732025,-0.15760141611099243,-0.0870877355337143,-0.028073584660887718,-0.0053151329047977924,-0.07613766193389893,0.04543657973408699,0.38295480608940125,0.21101020276546478,-0.1522405743598938,-0.13875195384025574,0.08751045167446136,-0.05307324230670929,-0.16779877245426178,-0.1688189059495926,-0.15056273341178894,-0.04732134938240051,-0.05583244934678078,-0.15025483071804047,-0.08547604829072952,0.0005818334757350385,-0.07048003375530243,-0.12458719313144684,-0.15770015120506287,-0.13651755452156067,-0.07290235906839371,-0.16975677013397217,-0.14289700984954834,-0.14729271829128265,-0.12180111557245255,-0.15301162004470825,0.05236145108938217,-0.03187008947134018,-0.005388882476836443,-0.08144333213567734,0.14540034532546997,-0.15167126059532166,-0.029155349358916283,-0.03282995894551277,-0.0376608744263649,-0.1637497991323471,-0.15181690454483032,-0.09745139628648758,0.3557567596435547,-0.15504468977451324,0.1933039277791977,-0.11753842234611511,-0.08949577808380127,-0.12258169054985046,-0.10142839699983597,-0.07177083939313889,-0.16976217925548553,-0.11488579213619232,-0.1616731733083725,-0.15570704638957977,-0.1546938419342041,-0.06255050748586655,0.09291993826627731,0.14216777682304382,0.014620870351791382,-0.07570895552635193,-0.16874216496944427,-0.049892183393239975,-0.1700378805398941,-0.1639891415834427,-0.10384904593229294,-0.14570678770542145,-0.08247672766447067,-0.04550313949584961,-0.07773806899785995,-0.11714204400777817,-0.08335363119840622,-0.0819103792309761,-0.1388944387435913,-0.16999725997447968,-0.08082916587591171,-0.11907152086496353,0.10014551877975464,-0.03172163665294647,-0.004215933848172426,-0.1700267344713211,-0.15194524824619293,-0.168974369764328,0.026126274839043617,-0.1693412810564041,-0.11260096728801727,0.012789157219231129,-0.16752198338508606,-0.10380181670188904,-0.15640650689601898,-0.1306253969669342,-0.15387684106826782,-0.06867767870426178,-0.04604675620794296,-0.15295806527137756,-0.09227479249238968,-0.11063504219055176,-0.10460447520017624,-0.10159262269735336,-0.017694856971502304,-0.1415458619594574,-0.12170836329460144,0.2713170051574707,-0.15640175342559814,-0.012785032391548157,-0.11781100183725357,-0.11052297055721283,-5.1250415708636865e-05,-0.13320578634738922,-0.000838426232803613,-0.13434799015522003,-0.15648674964904785,-0.16852669417858124,-0.10401272773742676,-0.11915750056505203,0.07311525195837021,-0.16439659893512726,0.08465906977653503,-0.1673840582370758,-0.056799933314323425,0.049679286777973175,-0.008503944613039494,-0.10928639769554138,-0.16730226576328278,-0.12416795641183853,0.09638816863298416,-0.16305603086948395,0.5959221720695496,0.33867111802101135,-0.16994141042232513,0.12855970859527588,-0.08853424340486526,-0.14899712800979614,-0.09557975083589554,-0.025388827547430992,-0.15967504680156708,-0.16880403459072113,0.05684586241841316,-0.09577500075101852,-0.11728183180093765,-0.13395290076732635,-0.06132958456873894,-0.14716105163097382,-0.14393262565135956,-0.16926540434360504,-0.10659606754779816,-0.1544891744852066,-0.16910044848918915,-0.00019357864221092314,-0.10384126007556915,-0.06996297091245651,0.020708449184894562,-0.0014288267120718956,-0.16219860315322876,-0.026583505794405937,-0.014969256706535816,-0.030789164826273918,-0.03172378987073898,-0.170037180185318,-0.09588432312011719,-0.1617710441350937,-0.0235916618257761,0.130339577794075,-0.06175525113940239,0.11612457036972046,0.06928233802318573,0.14783449470996857,0.001186537672765553,-0.01004975475370884,0.0033046614844352007,-0.1697765290737152,0.12144090235233307,0.09613754600286484,-0.12197250127792358,-0.14193537831306458,-0.028430813923478127,-0.10673321783542633,-0.052405860275030136,0.007220491301268339,-0.14918318390846252,-0.04278675094246864,-0.15636113286018372,-0.11899283528327942,-0.13365285098552704,-0.12289197742938995,-0.17001885175704956,-0.16957928240299225,-0.14800746738910675,0.09570999443531036,-0.04443573206663132,-0.16948461532592773,0.0713426023721695,-0.16890107095241547,0.0011608665809035301,-0.08940672129392624,-0.06187911331653595,0.17626117169857025,-0.0634891465306282,-0.13199152052402496,-0.005959969945251942,0.010369514115154743,-0.15375782549381256,-0.16944155097007751,0.04545537009835243,-0.047564052045345306,0.0875454917550087,-0.08721376955509186,-0.1697356402873993,-0.053066980093717575,-0.12044864892959595,-0.03113013133406639,0.0188704002648592,-0.1365508884191513,-0.10728976875543594,-0.156279519200325,-0.007364614866673946,-0.16177119314670563,-0.09672252833843231,0.07573116570711136,0.08559722453355789,-0.0018624928779900074,-0.10737691819667816,-0.104611836373806,-0.1667005568742752,0.28028491139411926,-0.16822820901870728,-0.13074207305908203,-0.13102658092975616,0.02583925798535347,0.06879926472902298,0.43452680110931396,-0.03272653743624687,-0.0001570015010656789,0.10621517896652222,-0.1689157634973526,-0.1427207589149475,-0.056485652923583984,-0.05958234891295433,-0.0020276771392673254,0.2279142141342163,0.37865760922431946,-0.03679436817765236,-0.15218214690685272,-0.017266426235437393,-0.007761070970445871,-0.03130294755101204,-0.1676616221666336,-0.06480725109577179,-0.16283932328224182,-0.01435183547437191,-0.06814014911651611,-0.09681738913059235,-0.07796257734298706,0.13489089906215668,0.3080129623413086,-0.1292344331741333,-0.1191600114107132,-0.10301870852708817,-0.0023695360869169235,-0.06930530071258545,-0.11560866981744766,-0.06778641790151596,0.03632288798689842,-0.016994940117001534,0.072716124355793,-0.13637709617614746,-0.06838599592447281,0.03364260867238045,-0.08497574925422668,-0.13968436419963837,0.12177661806344986,-0.10012631118297577,-0.10969327390193939,-0.1268640160560608,0.7293943166732788,-0.13742941617965698,-0.030386053025722504,-0.06578380614519119,-0.1293257176876068,-0.16329309344291687,-0.15411561727523804,0.10597140341997147,-0.11319125443696976,-0.15990567207336426,-0.03676151856780052,-0.0015455083921551704,-0.1023065373301506,0.20295706391334534,-0.1620744913816452,-0.16966958343982697,-0.1694665551185608,-0.1616782546043396,-0.10098187625408173,-0.0009145018411800265,-0.045452896505594254,-0.09276224672794342,0.13093706965446472,0.4299079179763794,-0.16854402422904968,-0.16710883378982544,-0.1564212292432785,-0.1323530077934265,-0.1515682488679886,-0.1688406765460968,-0.1526770442724228,-0.028438745066523552,-0.07531373202800751,-0.15677796304225922,-0.12624815106391907,-0.03489729389548302,-0.020317425951361656,-0.002222413197159767,-0.09546100348234177,-0.161851167678833,-0.1469103991985321,-0.08105900138616562,-0.00796017050743103,-0.16903850436210632,-0.0338020995259285,-0.17000146210193634,-0.08217787742614746,-0.16891460120677948,-0.14157333970069885,0.03352496027946472,-0.15554913878440857,-0.11702415347099304,-0.008347606286406517,-0.16304577887058258,-0.16766738891601562,-0.09743086993694305,-0.16959883272647858,-0.074037104845047,-0.04823814705014229,-0.1566760390996933,-0.1169755682349205,-0.04540375620126724,-0.13339483737945557,-0.034798745065927505,-0.16902774572372437,-0.07090079039335251,0.019433796405792236,0.34779855608940125,-0.15005944669246674,-0.05990413948893547,-0.1483076959848404,-0.009568165987730026,0.12256183475255966,-0.07329792529344559,-0.009993743151426315,-0.09910263121128082,-0.06553761661052704,0.004113142378628254,0.07002674043178558,-0.15929484367370605,-0.00042436839430592954,0.018808284774422646,-0.0339430533349514,-0.06519412994384766,0.03130904957652092,-0.152678444981575,0.3073892593383789,-0.15839076042175293,-0.039368417114019394,-0.0786832720041275,-0.007193769793957472,-0.007331577129662037,-0.04822009801864624,-0.05242905393242836,-0.13038437068462372,-0.10470973700284958,-0.08531025797128677,0.17271679639816284,0.2160312533378601,0.05414283648133278,-0.02437070943415165,-0.09351333230733871,-0.1467341184616089,-0.06566264480352402,0.05836106464266777,-0.15979808568954468,-0.13936834037303925,-0.047954265028238297,-0.14886246621608734,-0.16694986820220947,-0.16138508915901184,0.21432512998580933,-0.16028957068920135,-0.009549230337142944,0.6845143437385559,-0.04381757602095604,-0.04831620305776596,-0.12375587970018387,-0.13704100251197815,-0.018530502915382385,-0.09797076880931854,0.28445544838905334,-0.16229818761348724,-0.1636125147342682,-0.1522122174501419,-0.11651819944381714,-0.13506288826465607,-0.11800295859575272,-0.164078488945961,-0.04816886782646179,-0.016433099284768105,-0.008756647817790508,-0.00010499098425498232,-0.1584019660949707,-0.14465923607349396,-0.15837018191814423,-0.07312703132629395,-0.14057831466197968,-0.15997573733329773,-0.1317797154188156,-0.05888882651925087,0.09855387359857559,0.030840512365102768,-0.15152589976787567,-0.16886170208454132,-0.07144151628017426,-0.0154208829626441,-0.10326307266950607,-0.10736284404993057,-0.0032847535330802202,0.005189390387386084,-0.11532565206289291,-0.14159029722213745,-0.1685408353805542,-0.16841118037700653,-0.08448951691389084,-0.08724184334278107,-0.11959876865148544,-0.15628641843795776,-0.12345665693283081,-0.16978657245635986,-0.03931951895356178,0.590939462184906,-0.06450051069259644,-0.06484139710664749,-0.07318306714296341,0.08331186324357986,-0.12500622868537903,-0.04454587772488594,-0.09774864464998245,-0.13326124846935272,-0.0861261710524559,-0.16935686767101288,-0.09232256561517715,0.09652309119701385,-0.1407531499862671,0.2901334762573242,-0.040069155395030975,-0.08928676694631577,-0.11995204538106918,-0.12417463958263397,-0.13866004347801208,-0.1433940976858139,-0.11379832774400711,-0.1695939600467682,-0.16790851950645447,-0.023401279002428055,-0.09775029122829437,0.09625010192394257,0.13832473754882812,-0.07135441899299622,0.04638088867068291,-0.12918268144130707,-0.1697724461555481,0.028741950169205666,-0.1354108452796936,0.19045594334602356,-0.09469201415777206,-0.061837997287511826,-0.04392244294285774,-0.07376808673143387,-0.12598827481269836,0.4287177622318268,0.14471426606178284,-0.16645020246505737,0.2705819606781006,-0.034991584718227386,-0.13124142587184906,-0.12398920953273773,-0.1605219841003418,-0.1512889862060547,0.003601021133363247,-0.10503508150577545,-0.16398273408412933,0.0651727020740509,-0.12373677641153336,-0.026207182556390762,-0.02935754507780075,-0.06072574108839035,0.015262425877153873,-0.03166617825627327,-0.15362434089183807,-0.05537253990769386,-0.16135188937187195,-0.015481642447412014,-0.08607389032840729,-0.027323691174387932,-0.04788903892040253,0.055694758892059326,-0.15763308107852936,-0.16481685638427734,-0.12625202536582947,-0.14184246957302094,-0.05968165025115013,-0.16984836757183075,-0.0157949086278677,0.058176714926958084,-0.0931098535656929,0.2846274673938751,-0.05143610015511513,-0.1404927670955658,-0.09262179583311081,-0.07668893039226532,-0.04853396490216255,-0.017966335639357567,-0.08129523694515228,0.0909869372844696,-0.12244168668985367,-0.047951966524124146,0.016009584069252014,-0.16822490096092224,0.25216302275657654,-0.13451074063777924,-0.16992773115634918,0.02281890995800495,-0.11384597420692444,-0.16828075051307678,-0.10652769356966019,-0.12214912474155426,-0.0667196661233902,-0.15541471540927887,-0.10599187761545181,-0.08150169998407364,-0.057253532111644745,0.41538769006729126,-0.11783672124147415,-0.16737207770347595,-0.0454552061855793,0.2190285623073578,0.018008064478635788,-0.05995909869670868,-0.1040971502661705,-0.15464752912521362,-0.16938035190105438,0.06553903222084045,-0.03423010930418968,0.14124266803264618,-0.0926462709903717,-0.16986998915672302,-0.1282290518283844,-0.10526980459690094,-0.14001256227493286,-0.09471360594034195,-0.08769983798265457,-0.16575761139392853,-0.04750533774495125,-0.15538066625595093,-0.12957032024860382,-0.013857378624379635,-0.14285938441753387,-0.15189605951309204,-0.1666947901248932,-0.13465437293052673,-0.06245274096727371,-0.13956405222415924,0.27660641074180603,-0.14314454793930054,-0.025965487584471703,-0.12294390797615051,-0.1127009466290474,0.16442088782787323,-0.02528195083141327,-0.15991628170013428,0.04582112282514572,0.30456262826919556,-0.1558883935213089,-0.16984085738658905,-0.11552146077156067,-0.02066453918814659,0.27414339780807495,-0.10647594183683395,-0.022507304325699806,-0.06820831447839737,-0.012710352428257465,-0.1280687004327774,-0.14353828132152557,-0.00697928573936224,0.2527906000614166,-0.13157416880130768,-0.013870918191969395,0.1539950966835022,-0.08133964240550995,-0.17001038789749146,-0.06048005446791649,-0.08785334974527359,0.19194342195987701,-0.05078630521893501,-0.10399279743432999,-0.11899973452091217,-0.10446438938379288,0.20482055842876434,-0.06773345917463303,-0.015115851536393166,-0.04688691347837448,0.059846241027116776,-0.1635517030954361,-0.02262655645608902,-0.05060352385044098,-0.0599721223115921,-0.16354374587535858,-0.14202485978603363,0.04628892242908478,0.07570751756429672,-0.16938349604606628,0.09395324438810349,0.31688225269317627,-0.07372700423002243,-0.13665471971035004,-0.06752288341522217,0.09240341931581497,-0.16742132604122162,-0.1519242227077484,-0.054058730602264404,-0.01608484424650669,-0.13464051485061646,-0.1332651972770691,0.046045344322919846,0.32759201526641846,-0.16030247509479523,-0.14575950801372528,-0.14801430702209473,-0.13660098612308502,-0.07222616672515869,0.09178142994642258,-0.1660340428352356,0.005015939939767122,-0.06299194693565369,-0.0005699118482880294,-0.058096010237932205,-0.0651986226439476,-0.17000815272331238,-0.16971756517887115,-0.0035524831619113684,0.046401962637901306,-0.16625723242759705,0.2514778673648834,-0.13508747518062592,0.05114042013883591,-0.1344791054725647,-0.10950369387865067,-0.05022471025586128,-0.16638827323913574,-0.08177632093429565,0.1297583132982254,-0.1455041915178299,-0.16900932788848877,-0.11926449090242386,0.19244444370269775,-0.0249128770083189,-0.03859623894095421,-0.13010621070861816,-0.15918277204036713,-0.10129185020923615,-0.16768325865268707,-0.05326971784234047,0.15840092301368713,-0.11695024371147156,-0.08532686531543732,0.062353894114494324,0.07275306433439255,-0.05723626911640167,-0.11965744197368622,-0.16181746125221252,-0.10927201807498932,0.1324777901172638,-0.16312669217586517,0.21888698637485504,-0.08356877416372299,-0.16640444099903107,-0.16089145839214325,-0.012422006577253342,-0.04693416506052017,-0.16674192249774933,-0.1001201868057251,0.055767472833395004,-0.1060849130153656,-0.05129178613424301,-0.15179656445980072,-0.06716017425060272,-0.10605818033218384,0.21174420416355133,-0.10828211158514023,-0.06772322952747345,-0.10041272640228271,-0.0010747285559773445,-0.1607246845960617,0.10077419131994247,-0.08588988333940506,0.0592690147459507,-0.16290868818759918,0.045005667954683304,-0.10992748290300369,-0.13028936088085175,-0.1699143499135971,-0.161071315407753,0.1966138780117035,-0.1207398772239685,-0.16694220900535583,-0.13624897599220276,-0.1479896903038025,0.16599848866462708,-0.09194246679544449,0.04405349865555763,0.051150187849998474,0.025578392669558525,-0.04086257889866829,-0.10441078245639801,-0.16997477412223816,0.1381988674402237,-0.03674176707863808,-0.058955080807209015,0.1568133533000946,-0.0900551900267601,-0.0018169176764786243,0.24182234704494476,0.11645259708166122,-0.022283392027020454,-0.13077795505523682,0.07844696193933487,-0.08472077548503876,-0.16862846910953522,-0.1540554165840149,-0.100810706615448,-0.009323527105152607,-0.16419444978237152,-0.09202775359153748,-0.03194902464747429,0.23678387701511383,0.08176467567682266,0.26701247692108154,-0.10210615396499634,-0.17003223299980164,-0.095696359872818,0.0997767448425293,-0.01953360252082348,-0.0006981639307923615,-0.14448119699954987,-0.039684876799583435,0.03220996633172035,-0.08962740749120712,-0.015153384767472744,-0.14496825635433197,-0.14536471664905548,-0.1161482185125351,-0.03462724760174751,-0.11620716005563736,-5.653888365486637e-05,-0.02415863797068596,-0.09607680141925812,-0.07978282123804092,-0.05485605448484421,-0.029309606179594994,-0.025433626025915146,-0.1640165150165558,-0.11689788848161697,-0.16984780132770538,0.4722402095794678,-0.13480694591999054,0.13041584193706512,-0.16581347584724426,-0.1295805722475052,-0.1074398085474968,0.09945107996463776,-0.0608103983104229,-0.12026612460613251,-0.07630074769258499,0.08034574240446091,-0.07255459576845169,0.05764611065387726,-0.04071921855211258,-0.1449359953403473,0.009275180287659168,0.33465585112571716,0.2834065556526184,-0.16734254360198975,-0.1693650484085083,-0.14250962436199188,-0.166948601603508,-0.08687680214643478,-0.010895434767007828,0.19358251988887787,-0.04513610526919365,-0.16482703387737274,-0.16932269930839539,-0.1130739077925682,0.06721504777669907,-0.11856450885534286,-0.041654348373413086,-0.10081177204847336,-0.0430416464805603,-0.09840217232704163,-0.030409179627895355,-0.08409491181373596,-0.13784489035606384,-0.16416630148887634,-0.15272954106330872,-0.09773184359073639,-0.15209569036960602,-0.15142762660980225,-0.15184316039085388,-0.10790406167507172,-0.10362886637449265,-0.13083507120609283,-0.10137910395860672,-0.16818580031394958,-0.005920782685279846,-0.14513033628463745,0.18353010714054108,-0.09399816393852234,0.1163853108882904,-0.0518803671002388,-0.1688794046640396,-0.020213596522808075,-0.01834343746304512,-0.10040709376335144,-0.09019879996776581,-0.11616384983062744,0.06584066897630692,-0.07233644276857376,-0.15561436116695404,0.040062371641397476,0.03257058560848236,-0.16165362298488617,-0.1540769636631012,0.044592954218387604,-0.009717061184346676,0.04206687957048416,0.10356610268354416,-0.13376082479953766,-0.017408806830644608,-0.0032222908921539783,-0.14997598528862,-0.15130063891410828,-0.1053076907992363,-0.01155892200767994,-0.1528300642967224,-0.14168252050876617,-0.15113280713558197,0.2378854900598526,-0.1427943855524063,-0.023921530693769455,-0.033089905977249146,-0.11852797120809555,-0.16811472177505493,-0.09344474226236343,-0.15551096200942993,-0.1587643027305603,-0.09260791540145874,-0.03385048359632492,-0.11994187533855438,-0.16604524850845337,-0.12962597608566284,-0.09805182367563248,-0.0624445341527462,0.1068088486790657,0.009173866361379623,-0.040545132011175156,-0.018533818423748016,-0.034663550555706024,-0.1700132191181183,-0.1326349824666977,-0.16674819588661194,0.0470055416226387,-0.15315869450569153,0.022122524678707123,-0.1270986944437027,0.02266445942223072,0.10305861383676529,0.008649741299450397,-0.169159397482872,-0.0,0.1432861089706421,0.28948143124580383,0.36540114879608154,-0.027781860902905464,-0.16994409263134003,-0.09398651123046875,-0.00506393751129508,0.06992296874523163,0.11935371905565262,-0.08890315145254135,-0.002626738976687193,-0.04899695888161659,-0.14905886352062225,-0.029205895960330963,-0.0027188605163246393,0.010000652633607388],[0.09310360997915268,-0.060054827481508255,-0.07920271158218384,-0.16836149990558624,0.21878500282764435,0.3238924443721771,-0.1111883893609047,-0.16995002329349518,-0.13168665766716003,-0.16797944903373718,-0.16954097151756287,0.06552772223949432,-0.1671798676252365,-0.13975121080875397,0.6165888905525208,-0.13499821722507477,-0.16845740377902985,-0.06259939074516296,-0.10051169246435165,-0.033656369894742966,0.0007572361500933766,-0.16899330914020538,0.5351564884185791,-0.05083676427602768,-0.16877882182598114,-0.1697787344455719,0.39541977643966675,0.2539869248867035,-0.16922840476036072,-0.11161772906780243,0.10690262168645859,-0.07021594047546387,0.6783217191696167,-0.10626750439405441,-0.1490725427865982,-0.16970206797122955,-0.169760599732399,-0.15576425194740295,-0.1696508526802063,-0.07061479985713959,-0.16740535199642181,-0.1583542674779892,-0.1603507399559021,-0.042884983122348785,-0.14221881330013275,0.36199191212654114,-0.09242094308137894,-0.052362654358148575,-0.15512438118457794,-0.0035716374404728413,-0.16887255012989044,-0.16494999825954437,-0.15773805975914001,-0.0907389298081398,-0.10906026512384415,-0.1530686616897583,-0.16533678770065308,-0.0074329436756670475,-0.04746760427951813,-0.16980746388435364,-0.14598284661769867,-0.16319532692432404,-0.1214640811085701,-0.012084697373211384,-0.12747719883918762,-0.0018899909919127822,-0.12468505650758743,-0.16377824544906616,-0.16500891745090485,-0.16294130682945251,-0.08854787796735764,0.1372518390417099,0.22589750587940216,-0.06138184294104576,-0.12350030243396759,-0.025456979870796204,-0.17003993690013885,0.24641558527946472,-0.029553551226854324,-0.11498559266328812,-0.13944727182388306,-0.11522989720106125,-0.15312299132347107,-0.13972900807857513,-0.1350778490304947,-0.13147249817848206,-0.039893899112939835,-0.136177659034729,-0.09751484543085098,-0.11034373939037323,0.26399433612823486,-0.14824330806732178,-0.06627883017063141,-0.1489543616771698,-0.12206457555294037,-0.14521025121212006,0.6784332990646362,-0.029776090756058693,-0.12504461407661438,-0.1123780682682991,-0.16968412697315216,-0.15429887175559998,-0.16937999427318573,-0.0654822438955307,-0.1696777045726776,-0.06406128406524658,-0.05843619629740715,-0.16932325065135956,-0.16710852086544037,-0.06948701292276382,-0.16806773841381073,0.011278048157691956,-0.12745968997478485,-0.16982100903987885,-0.17002993822097778,-0.13491307199001312,-0.1549529880285263,-0.021286899223923683,-0.161838561296463,0.27461570501327515,-0.11586738377809525,0.09439323842525482,-0.16910824179649353,-0.15841500461101532,-0.1640053689479828,-0.14593076705932617,-0.10734014958143234,-0.07586827874183655,-0.08298074454069138,-0.17000971734523773,-0.16935791075229645,-0.13291411101818085,1.684752345085144,-0.15763328969478607,0.3908687233924866,-0.14159777760505676,0.8122928142547607,-0.15631502866744995,-0.13801920413970947,-0.14731496572494507,-0.15044787526130676,-0.16839304566383362,-0.16173864901065826,-0.02091566100716591,-0.1694803684949875,-0.11661441624164581,0.0897933840751648,-0.08849867433309555,-0.14794370532035828,-0.17003577947616577,-0.13876788318157196,-0.1312965750694275,-0.16842252016067505,-0.13013601303100586,-0.1662062257528305,-0.16991059482097626,-0.1110653430223465,-0.163796529173851,-0.03925464302301407,-0.13063935935497284,-0.15641672909259796,-0.08193440735340118,0.052967265248298645,-0.14158430695533752,-0.15843451023101807,-0.017314162105321884,-0.1694379597902298,-0.007988212630152702,-0.14860786497592926,-0.03813262656331062,-0.16784052550792694,-0.08871940523386002,-0.15612930059432983,-0.15175682306289673,0.4292258620262146,-0.028718868270516396,-0.14004752039909363,-0.1457478106021881,-0.16879156231880188,-0.1007900983095169,-0.1693788468837738,-0.15306100249290466,-0.14514897763729095,-0.02107071690261364,-0.16347846388816833,-0.15219499170780182,0.8587452173233032,-0.016766807064414024,-0.15511231124401093,-0.1687714159488678,0.39203375577926636,-0.16677822172641754,-0.06928800046443939,0.3582299053668976,-0.1531428098678589,1.0356734991073608,-0.15529267489910126,0.416841059923172,0.030245626345276833,-0.08053945749998093,-0.08796872198581696,-0.16942566633224487,-0.11553699523210526,-0.1302824765443802,-0.11488903313875198,-0.09076027572154999,-0.08624060451984406,-0.07334268093109131,-0.07191938906908035,-0.12498869746923447,-0.16909518837928772,-0.15076786279678345,0.47076526284217834,-0.16939619183540344,-0.16571591794490814,-0.12332846969366074,-0.13723157346248627,-0.08856639266014099,-0.15691234171390533,-0.061548396944999695,0.012861314229667187,-0.035654135048389435,0.5558016896247864,-0.10238541662693024,-0.16065135598182678,-0.001362767070531845,-0.0862448662519455,-0.013318950310349464,-0.16803942620754242,-0.1688081920146942,-0.08302336186170578,-0.14564840495586395,0.5012311339378357,-0.08390840142965317,-0.16702543199062347,-0.16707949340343475,-0.15896132588386536,-0.1300250142812729,-0.1591978669166565,-0.018617667257785797,-0.15925997495651245,0.01696559600532055,-0.08411183953285217,-0.16827630996704102,-0.12702800333499908,-0.14964407682418823,0.07622385025024414,-0.1388287991285324,0.012183668091893196,-0.1610621213912964,-0.10027002543210983,-0.11935430020093918,-0.12779228389263153,-0.1329261064529419,0.5127617120742798,-0.14766184985637665,-0.07099936902523041,-0.09539957344532013,-0.08523005247116089,-0.11768024414777756,-0.16875122487545013,0.10580223053693771,-0.09164168685674667,-0.0829044058918953,2.2305965423583984,-0.16640733182430267,-0.11343462020158768,-0.16953054070472717,-0.07983482629060745,-0.1522665172815323,-0.01639767363667488,-0.10374071449041367,0.16442790627479553,0.2578614354133606,-0.14412565529346466,-0.15454904735088348,0.24542871117591858,-0.16988839209079742,-0.1334305852651596,-0.14057734608650208,-0.12927024066448212,0.29504770040512085,-0.13645382225513458,-0.16701506078243256,-0.1380651295185089,0.2950403392314911,-0.14293552935123444,-0.15598256886005402,-0.08432616293430328,-0.16071687638759613,-0.16336499154567719,-0.16917893290519714,-0.16907556354999542,-0.16219580173492432,0.17261070013046265,-0.1568423956632614,-0.0957910418510437,-0.09896490722894669,0.14137093722820282,-0.014005004428327084,-0.1345117688179016,-0.07333573698997498,-0.08036966621875763,-0.09956254810094833,-0.1533001959323883,-0.0890740379691124,-0.13193508982658386,-0.09841816872358322,-0.16964858770370483,-0.12689083814620972,-0.16407394409179688,-0.15246087312698364,0.1484130471944809,0.29336950182914734,-0.03818545863032341,-0.12616688013076782,-0.10749965906143188,-0.14415998756885529,-0.08589792996644974,-0.08137394487857819,-0.14419756829738617,-0.16568441689014435,-0.005292631220072508,-0.146117702126503,-0.10833478718996048,-0.0880354568362236,-0.161019429564476,0.0032965533901005983,-0.13341562449932098,-0.13287517428398132,-0.17001810669898987,-0.12130946666002274,-0.10638663172721863,-0.1191442534327507,-0.1686425805091858,-0.07271982729434967,-0.15002639591693878,-0.12444807589054108,1.5498528480529785,-0.146757572889328,-0.17004044353961945,-0.044484563171863556,-0.08269878476858139,0.17840249836444855,-0.03205620124936104,-0.13084059953689575,-0.15409985184669495,-0.1450217366218567,-0.14903700351715088,-0.16576501727104187,-0.15821783244609833,-0.1682698130607605,-0.13243195414543152,-0.14564858376979828,-0.13254360854625702,-0.16623057425022125,-0.09271419793367386,-0.16097529232501984,-0.16334496438503265,-0.09320569038391113,-0.06943085044622421,-0.024026360362768173,-0.14715801179409027,-0.1700066179037094,-0.1699795424938202,-0.13108819723129272,-0.08109766244888306,-0.16999958455562592,-0.13906557857990265,-0.1499960571527481,-0.13470874726772308,-0.15962740778923035,-0.011784863658249378,-0.16618071496486664,-0.16915790736675262,-0.1258237063884735,-0.12184903770685196,-0.13008704781532288,-0.11714665591716766,3.468900442123413,-0.03292505070567131,-0.1700301468372345,0.47244009375572205,3.016939878463745,0.3100287616252899,0.6698504090309143,-0.1624390333890915,-0.14910297095775604,-0.16678644716739655,-0.11812877655029297,-0.09126592427492142,-0.1311599612236023,-0.034372974187135696,-0.16962765157222748,0.6181332468986511,-0.08848294615745544,-0.10122497379779816,-0.16800297796726227,-0.13669583201408386,-0.07091725617647171,-0.1213500127196312,-0.16252605617046356,0.14387087523937225,-0.14406538009643555,-0.15878921747207642,-0.058942072093486786,-0.1632538139820099,-0.09715096652507782,-0.16393525898456573,-0.12217389792203903,-0.16024085879325867,-0.11761661618947983,-0.13446569442749023,-0.16480062901973724,-0.11814304441213608,-0.16941086947917938,-0.15699148178100586,-0.1611003428697586,-0.17003807425498962,-0.08564216643571854,-0.11412154138088226,-0.16398921608924866,-0.12734673917293549,-0.147783562541008,-0.1425977349281311,-0.1674237847328186,0.4030701518058777,-0.1133679449558258,-0.15698479115962982,-0.16788972914218903,-0.0007954807952046394,-0.15520498156547546,-0.15030962228775024,-0.13395671546459198,-0.14842072129249573,-0.16220805048942566,0.11671872437000275,-0.16989780962467194,-0.1540498435497284,0.19327308237552643,-0.12469133734703064,-0.16960474848747253,-0.029532097280025482,-0.0957748219370842,-0.167506143450737,-0.14369340240955353,0.27910301089286804,-0.15674278140068054,-0.1638815551996231,-0.14830783009529114,-0.1463211625814438,-0.16030478477478027,-0.16725538671016693,-0.04097267985343933,-0.14111512899398804,-0.09520609676837921,-0.15587709844112396,-0.06209370493888855,-0.015271442010998726,-0.16772031784057617,-0.15942427515983582,0.21997632086277008,-0.013555556535720825,0.036592818796634674,-0.15169782936573029,0.3746627867221832,-0.050054628401994705,-0.15704034268856049,-0.10713725537061691,-0.1558632105588913,-0.13102011382579803,-0.15365169942378998,-0.16076217591762543,-0.1521795392036438,-0.16962042450904846,0.6171555519104004,-0.0011137069668620825,-0.08875149488449097,-0.1669073849916458,-0.12207485735416412,-0.14630594849586487,-0.16985008120536804,-0.07409216463565826,-0.10442885756492615,-0.1625463217496872,-0.16997864842414856,-0.07632008194923401,-0.14811797440052032,-0.15644875168800354,0.08746089041233063,-0.062239836901426315,-0.09338673204183578,-0.16996602714061737,0.4295652210712433,-0.1651119887828827,-0.169228196144104,-0.165460467338562,-0.146009162068367,-0.14799807965755463,-0.11104190349578857,-0.1700088083744049,-0.057075031101703644,-0.0577886737883091,-0.16137313842773438,-0.16941504180431366,-0.1540290117263794,-0.16129101812839508,-0.15857738256454468,-0.1665080487728119,-0.13855475187301636,-0.16855403780937195,-0.13101479411125183,-0.133853018283844,-0.11806825548410416,-0.14953114092350006,-0.14232800900936127,0.031047813594341278,-0.17000336945056915,-0.15032243728637695,0.04252631589770317,-0.16477791965007782,-0.14043200016021729,-0.1413477510213852,0.37693697214126587,-0.13689619302749634,0.11589403450489044,-0.16354364156723022,-0.16077275574207306,-0.16282381117343903,-0.10041869431734085,-0.05935102328658104,-0.05214143544435501,-0.08262696117162704,-0.14936892688274384,1.8292795419692993,-0.1470034420490265,-0.10976865142583847,-0.1565437763929367,-0.05678999051451683,-0.16864445805549622,-0.1379387080669403,-0.13099932670593262,-0.167609304189682,0.26177021861076355,-0.16575582325458527,-0.15506306290626526,-0.060046788305044174,1.0912636518478394,-0.1666695773601532,-0.1015273779630661,-0.11177077144384384,-0.1452900767326355,-0.15387696027755737,-0.11215280741453171,-0.1665021777153015,0.1949283927679062,-0.16030555963516235,-0.058468662202358246,-0.12993575632572174,-0.07721428573131561,-0.05902428925037384,-0.14246027171611786,-0.16849210858345032,-0.13750284910202026,-0.11771643906831741,-0.1504937708377838,-0.16544166207313538,-0.14832067489624023,-0.012842591851949692,-0.10195470601320267,-0.15314429998397827,0.2156028300523758,-0.06693160533905029,-0.12771762907505035,0.10216554254293442,-0.0923498347401619,-0.12355790287256241,-0.1296301782131195,-0.047117508947849274,-0.1686033457517624,-0.037728093564510345,-0.11261732131242752,-0.13929113745689392,-0.08910397440195084,-0.16351740062236786,-0.09257558733224869,-0.13306325674057007,-0.15510445833206177,0.23446398973464966,-0.17002470791339874,-0.0751219093799591,-0.16865837574005127,0.14015986025333405,-0.15722636878490448,-0.0736527368426323,-0.16757360100746155,0.13783548772335052,-0.1693248748779297,-0.16965430974960327,-0.14917604625225067,0.07044845819473267,-0.1320096254348755,-0.02716345526278019,-0.06872335076332092,-0.1034088209271431,-0.042758092284202576,-0.16939526796340942,-0.15780434012413025,-0.031700633466243744,-0.0,-0.1358097642660141,-0.05821023881435394,-0.0919695645570755,-0.0861000269651413,-0.1698288768529892,-0.11230962723493576,-0.05374442785978317,-0.08487841486930847,-0.10738693177700043,-0.06580206751823425,-0.12625661492347717,-0.14020034670829773,0.6805511116981506,-0.16223017871379852,-0.1480846107006073,0.2471093386411667,-0.1221206858754158,-0.12465391308069229,-0.1546221673488617,-0.05451009050011635,0.29228946566581726,-0.1438496857881546,-0.11541484296321869,-0.14072804152965546,-0.1547398865222931,-0.08315658569335938,-0.1378745138645172,0.6010485291481018,-0.1698416918516159,-0.16906364262104034,-0.1553633213043213,-0.059677161276340485,-0.05458812043070793,-0.10391689836978912,-0.16907739639282227,-0.13951031863689423,-0.1669289469718933,-0.16999290883541107,-0.16544386744499207,-0.16249142587184906,-0.13882707059383392,0.03111494705080986,-0.081584133207798,-0.09771503508090973,0.17666499316692352,-0.142116516828537,-0.16978980600833893,-0.16839814186096191,-0.15861675143241882,-0.1647474616765976,-0.157610222697258,-0.15022245049476624,-0.03407597169280052,-0.08186832070350647,-0.13366487622261047,-0.1444009393453598,-0.16795939207077026,-0.166224867105484,-0.16002045571804047,0.1266341209411621,-0.12118563801050186,-0.1553441882133484,-0.12394111603498459,-0.10336582362651825,-0.17002223432064056,-0.044629860669374466,-0.05068767070770264,-0.16137048602104187,-0.13975664973258972,-0.03278214856982231,-0.16159284114837646,-0.16061359643936157,-0.14304877817630768,-0.16833539307117462,-0.1400671750307083,-0.1360097974538803,-0.1127992570400238,-0.10063453018665314,-0.159103125333786,-0.1689741015434265,-0.1570800095796585,-0.1676998734474182,-0.09616740792989731,-0.16522309184074402,-0.15365126729011536,-0.1361469328403473,-0.16537122428417206,0.06463933736085892,-0.05051723122596741,-0.16703064739704132,-0.09022130817174911,-0.1692231297492981,-0.06648678332567215,-0.042428843677043915,-0.16984343528747559,-0.13620857894420624,-0.16984078288078308,-0.130414679646492,-0.17004071176052094,0.10101931542158127,-0.12552930414676666,-0.1504989117383957,0.003806382417678833,-0.16550742089748383,-0.1696348786354065,-0.16915743052959442,-0.030156521126627922,-0.16085569560527802,-0.10321302711963654,-0.030216623097658157,-0.06443558633327484,-0.16596518456935883,-0.09846638888120651,-0.17000813782215118,-0.16321046650409698,-0.1675179898738861,-0.16998028755187988,-0.11882025748491287,-0.14803002774715424,-0.11914539337158203,-0.07733213901519775,-0.16190071403980255,-0.11248932778835297,-0.16962499916553497,-0.10098978877067566,-0.04171854630112648,-0.16469323635101318,0.0054369536228477955,-0.06171875074505806,-0.15238787233829498,-0.15649062395095825,0.05203985795378685,-0.10170625895261765,-0.08007340133190155,-0.13202022016048431,-0.11515958607196808,-0.09506027400493622,-0.059619639068841934,0.02901843935251236,0.18642444908618927,-0.011499355547130108,-0.14260444045066833,-0.16951116919517517,-0.04180650785565376,-0.1442646086215973,-0.10864751040935516,0.007896952331066132,-0.1685771942138672,0.7219452857971191,-0.16832156479358673,-0.12163607031106949,-0.16234658658504486,-0.16702298820018768,-0.10993532091379166,-0.10700660198926926,0.2591303586959839,-0.1699923276901245,-0.16779105365276337,-0.1369916945695877,-0.16907115280628204,0.04888810217380524,0.20627929270267487,-0.07232160121202469,-0.14919714629650116,-0.1482866406440735,-0.16854825615882874,-0.14034503698349,-0.04456973820924759,-0.10928414016962051,-0.14947667717933655,-0.1339908093214035,-0.16874925792217255,-0.16741836071014404,-0.12728947401046753,-0.13986742496490479,-0.15374040603637695,-0.16450932621955872,-0.15799035131931305,0.1391678899526596,-0.16593094170093536,-0.14339391887187958,-0.16530486941337585,0.3093082010746002,0.29669418931007385,-0.12443029135465622,-0.1415422409772873,-0.15628252923488617,-0.11456023156642914,-0.08019240200519562,-0.167079359292984,-0.1292688250541687,-0.1688430905342102,-0.13945399224758148,-0.16937413811683655,0.10853761434555054,-0.0632316991686821,-0.06683716922998428,-0.0014976804377511144,-0.0966363251209259,0.836542546749115,-0.17003987729549408,1.166611671447754,-0.1304578185081482,-0.17002350091934204,-0.16985322535037994,-0.15597310662269592,-0.1634179949760437,-0.1646779626607895,-0.10366228967905045,-0.15811988711357117,-0.12582449615001678,-0.0710289403796196,0.011296715587377548,-0.07644053548574448,-0.05747867375612259,-0.16330161690711975,0.10420423746109009,-0.15135157108306885,0.7142132520675659,-0.1295934021472931,-0.044191427528858185,-0.13220426440238953,-0.015267850831151009,-0.10535404086112976,-0.06816784292459488,-0.16103731095790863,-0.07166499644517899,-0.040369972586631775,-0.16908890008926392,0.31663674116134644,-0.09588272869586945,-0.14885017275810242,-0.1468345820903778,-0.08251933753490448,-0.1604989916086197,-0.16138114035129547,0.46965649724006653,-0.1576409637928009,-0.12346626818180084,-0.1696048378944397,0.21784164011478424,-0.13706353306770325,0.006099849008023739,-0.14831389486789703,-0.16724960505962372,0.6821689605712891,-0.133697509765625,0.4220573902130127,-0.06954628229141235,-0.15359702706336975,-0.14341874420642853,-0.16328777372837067,-0.1445368230342865,-0.06012438237667084,-0.1685885637998581,-0.16990001499652863,-0.04247992858290672,-0.16571000218391418,-0.1699783205986023,-0.12785466015338898,0.10584631562232971,-0.14913997054100037,-0.16223624348640442,-0.16965430974960327,0.13958163559436798,-0.16947227716445923,0.012707899324595928,-0.17003720998764038,-0.15309442579746246,0.15514971315860748,-0.16626346111297607,0.7150006890296936,-0.13478007912635803,-0.13725242018699646,-0.14007315039634705,-0.10218828916549683,0.9017258882522583,-0.13561709225177765,-0.14230480790138245,-0.10090075433254242,-0.06324808299541473,-0.16250792145729065,-0.0470295324921608,-0.05738629400730133,-0.011848561465740204,-0.13787272572517395,-0.12208238244056702,-0.16879361867904663,0.3292980492115021,0.08966860175132751,2.8578546047210693,-0.08685965836048126,-0.1097874641418457,-0.04386219009757042,-0.14179740846157074,-0.14163097739219666,-0.16764846444129944,-0.16953979432582855,0.021242519840598106,-0.11822524666786194,-0.10269283503293991,-0.11306018382310867,-0.14509138464927673,-0.15854176878929138,-0.15105099976062775,-0.15124253928661346,-0.1483529508113861,-0.12646730244159698,-0.16683311760425568,-0.169159933924675,-0.1685519963502884,-0.08745555579662323,0.2855566740036011,-0.11895883083343506,-0.166218101978302,-0.16708892583847046,-0.16978156566619873,-0.16447876393795013,0.3427557349205017,-0.16780982911586761,-0.17003127932548523,-0.11343447118997574,-0.10820209234952927,-0.06632719188928604,-0.14541691541671753,-0.13762789964675903,-0.08479378372430801,-0.15649622678756714,-0.1530233919620514,1.031577229499817,-0.10077822953462601,-0.11603280901908875,-0.14609983563423157,0.18024107813835144,-0.05620961636304855,-0.14447195827960968,-0.12178750336170197,0.05856260657310486,-0.15249863266944885,-0.038897521793842316,-0.14076216518878937,-0.15798234939575195,-0.09248408675193787,-0.015425012446939945,-0.12376611679792404,-0.12508170306682587,-0.1293424516916275,0.27887243032455444,-0.15971724689006805,-0.07338080555200577,-0.14671127498149872,-0.14018690586090088,-0.16542495787143707,-0.16662196815013885,-0.1675819456577301,-0.12734098732471466,-0.12060035020112991,-0.16506582498550415,-0.1593705117702484,-0.15921443700790405,-0.055086489766836166,-0.11279409378767014,-0.1561974436044693,-0.16956424713134766,0.04344994202256203,-0.12945187091827393,0.8276058435440063,-0.0004176494257990271,-0.15093694627285004,-0.08002037554979324,0.16211824119091034,-0.14919734001159668,0.09127867966890335,-0.10669904947280884,0.04470048472285271,-0.00040903774788603187,-0.14827032387256622,-0.10741384327411652,-0.16992510855197906,-0.023834820836782455,-0.15095749497413635,-0.035879965871572495,-0.03789972513914108,-0.07172878086566925,-0.06563311815261841,-0.14950259029865265,0.006815720349550247,-0.101023830473423,-0.13053317368030548,-0.0011246777139604092,-0.16770006716251373,-0.04732561111450195,0.11200231313705444,-0.16746306419372559,-0.12338780611753464,0.6024552583694458,0.0439913235604763,0.8943305015563965,-0.14405901730060577,-0.0604788102209568,-0.1276191771030426,-0.07963132113218307,-0.14059318602085114,-0.10474324971437454,-0.1372319608926773,-0.12926967442035675,-0.07824282348155975,-0.08008049428462982,-0.0628649964928627,0.24293892085552216,-0.04481620714068413,0.16762472689151764,-0.16891156136989594,0.020632410421967506,-0.16853907704353333,-0.05593838542699814,-0.059305645525455475,-0.12030668556690216,-0.13612000644207,-0.16949941217899323,-0.054622042924165726,-0.15737545490264893,-0.07580927014350891,0.021064048632979393,-0.008161391131579876,-0.168549582362175,0.047437675297260284,-0.016803376376628876,0.4815550148487091,-0.16651718318462372,-0.0849098414182663,-0.1334133744239807,-0.029444990679621696,-0.16944658756256104,0.8981110453605652,-0.15895980596542358,1.4592655897140503,-0.0975872203707695,-0.11840132623910904,-0.16976505517959595,-0.046487435698509216,-0.13124346733093262,0.004075134173035622,-0.06916375458240509,-0.12194038927555084,-0.13027434051036835,-0.16806383430957794,-0.169743150472641,-0.139179989695549,-0.08276530355215073,-0.15203525125980377,-0.0803980678319931,-0.16769343614578247,-0.16834387183189392,-0.16603192687034607,-0.14039885997772217,-0.16928067803382874,-0.06340565532445908,0.2550331652164459,0.11795172840356827,-0.1700398027896881,-0.1069488674402237,-0.12244290113449097,-0.16069786250591278,-0.1675748974084854,-0.17001621425151825,-0.07729280740022659,-0.01933104544878006,-0.04036535322666168,-0.12393131107091904,-0.0033270837739109993,-0.11574939638376236,-0.12220067530870438,-0.16872818768024445,-0.1683717519044876,-0.12539000809192657,-0.05986039713025093,-0.05034240707755089,-0.12888558208942413,-0.1586630493402481,0.1938033550977707,-0.16355852782726288,-0.06769297271966934,-0.17000554502010345,-0.06369299441576004,-0.1644807606935501,-0.16918806731700897,-0.04304920509457588,-0.11555161327123642,-0.13646310567855835,0.19177351891994476,-0.036472517997026443,-0.16408970952033997,-0.16170449554920197,-0.149185910820961,-0.16893988847732544,-0.16939610242843628,0.06827830523252487,-0.0905601754784584,0.6555161476135254,0.13949790596961975,-0.15590953826904297,0.9418343901634216,-0.03350156918168068,-0.16918236017227173,0.3822765350341797,-0.1332859843969345,-0.08659519255161285,-0.10655301064252853,-0.07909532636404037,0.9525748491287231,-0.16798458993434906,-0.17003507912158966,-0.15161535143852234,-0.15555571019649506,-0.1234312355518341,-0.1348332315683365,-0.10988271981477737,-0.1652304083108902,-0.09184352308511734,-0.01709328219294548,-0.07756305485963821,-0.17002949118614197,-0.16871769726276398,-0.16750478744506836,-0.16803376376628876,-0.05616581067442894,-0.13595503568649292,-0.08007250726222992,-0.15825551748275757,-0.15890567004680634,-0.16352327167987823,-0.10681719332933426,-0.11529269069433212,-0.12350191920995712,0.21214500069618225,-0.09594199806451797,2.269443988800049,0.3855973780155182,-0.13635492324829102,-0.1687532216310501,-0.16387051343917847,-0.0051379879005253315,-0.16619938611984253,-0.16981470584869385,-0.1370244026184082,-0.16476809978485107,-0.10909462720155716,-0.16378432512283325,-0.1295340359210968,-0.10001420974731445,-0.10928975045681,-0.06599044054746628,-0.13910426199436188,0.22734428942203522,-0.1534224897623062,-0.15802839398384094,0.07976571470499039,-0.11149627715349197,-0.169403076171875,-0.1675073206424713,-0.08000144362449646,-0.16991032660007477,-0.14293211698532104,-0.06405998766422272,-0.1658174991607666,-0.07121317088603973,-0.1554241180419922,-0.10502167046070099,-0.05452248826622963,0.1849999725818634,-0.16387319564819336,-0.15190300345420837,-0.1678369790315628,-0.16224928200244904,-0.14291706681251526,-0.1678539365530014,-0.10291486978530884,-0.17003180086612701,-0.14839304983615875,-0.15088869631290436,-0.1394411325454712,0.36993783712387085,-0.15385833382606506,-0.10593027621507645,-0.11124105006456375,-0.15921495854854584,-0.15674185752868652,-0.13693858683109283,-0.1201634332537651,-0.15133407711982727,-0.12513168156147003,-0.16993123292922974,-0.16987644135951996,-0.11769148707389832,-0.16732653975486755,-0.1330881267786026,-0.14648616313934326,-0.14509141445159912,-0.06273306906223297,0.11260315775871277,-0.16816119849681854,-0.07983022928237915,1.010273814201355,0.8708130121231079,0.003235589014366269,-0.16984176635742188,-0.16850313544273376,-0.15055346488952637,-0.10189802944660187,-0.15315985679626465,0.19212910532951355,-0.037133943289518356,-0.15666362643241882,-0.13157334923744202,0.046205490827560425,-0.15882845222949982,0.4210784435272217,-0.13278549909591675,1.0755044221878052,-0.12374906986951828,-0.10639633983373642,-0.05849039554595947,-0.12699437141418457,-0.15855588018894196,-0.05543229356408119,-0.16586017608642578,-0.13091042637825012,-0.06617249548435211,-0.1628139168024063,-0.11189038306474686,0.10596957802772522,-0.14284686744213104,0.12367849797010422,-0.15671347081661224,-0.10412624478340149,-0.0567975789308548,-0.054878562688827515,-0.13162082433700562,-0.11519777029752731,-0.15384529531002045,-0.16605079174041748,0.47227048873901367,-0.1503000110387802,-0.1541757583618164,-0.11964209377765656,-0.1595107465982437,-0.133122056722641,-0.16798576712608337,-0.1287490874528885,-0.12795498967170715,-0.04975299537181854,0.09950413554906845,-0.008571771904826164,-0.16072465479373932,-0.1445085108280182,-0.11831512302160263,-0.16525861620903015,-0.06515438109636307,-0.07670328766107559,-0.1693224310874939,-0.10626557469367981,-0.15359631180763245,-0.16109251976013184,-0.16807524859905243,-0.07107487320899963,-0.04274313524365425,-0.15735553205013275,0.14283542335033417,-0.10786433517932892,-0.09491191059350967,-0.17003598809242249,-0.1700393110513687,-0.16941872239112854,-0.14081504940986633,-0.1046237125992775,-0.16571880877017975,-0.16864749789237976,-0.09760890156030655,-0.12815643846988678,-0.16480132937431335,-0.1699967384338379,-0.08943311125040054,-0.0948789194226265,-0.16929014027118683,-0.16321951150894165,-0.1689128428697586,-0.16722966730594635,0.020481280982494354,-0.06321978569030762,-0.14513562619686127,-0.010913349688053131,0.20054525136947632,-0.14106902480125427,0.12610705196857452,-0.13853810727596283,-0.15113860368728638,-0.16363340616226196,-0.09325376152992249,-0.07515808939933777,-0.16970376670360565,-0.12459295243024826,-0.0483781173825264,-0.15087012946605682,-0.08772039413452148,-0.10276860743761063,-0.16650547087192535,-0.15894925594329834,-0.05768406018614769,-0.11539989709854126,-0.15231290459632874,-0.13612894713878632,-0.04837227612733841,-0.02662183716893196,-0.10217202454805374,-0.14902059733867645,-0.1595461517572403,-0.12954890727996826,0.5090084075927734,-0.15123124420642853,-0.16085131466388702,-0.0652526319026947,0.17270000278949738,-0.15674296021461487,-0.15089349448680878,-0.035805828869342804,-0.13415183126926422,-0.09589176625013351,-0.08223499357700348,-0.09169457852840424,-0.09419234842061996,-0.07678326964378357,-0.06275995820760727,-0.1021096259355545,-0.15655207633972168,-0.14032681286334991,-0.14847974479198456,-0.10984485596418381,-0.15870437026023865,-0.15684518218040466,-0.15170589089393616,-0.09546041488647461,-0.15423817932605743,0.015147157944738865,-0.1553380936384201,0.014323706738650799,0.36970195174217224,-0.16883869469165802,0.005311852786689997,-0.08577489107847214,-0.026803510263562202,-0.1590140461921692,-0.13830259442329407,-0.1696368008852005,0.20710095763206482,-0.16393354535102844,-0.16751284897327423,-0.11980520188808441,-0.04567168280482292,-0.1411367654800415,-0.14826977252960205,-0.08848995715379715,-0.06468278169631958,-0.14323781430721283,1.2570178508758545,-0.12556977570056915,0.10914017260074615,-0.11475024372339249,-0.1392584890127182,-0.1589384824037552,-0.15235905349254608,-0.1061549037694931,-0.16798919439315796,-0.12573106586933136,-0.08446736633777618,-0.15728092193603516,-0.16878104209899902,-0.050125472247600555,-0.11504998058080673,-0.16101482510566711,-0.1440802812576294,-0.15470010042190552,-0.05371339991688728,-0.06505407392978668,-0.052178192883729935,-0.15160948038101196,-0.11124446988105774,-0.09616901725530624,-0.15558978915214539,-0.07168304175138474,-0.16115781664848328,-0.0601150244474411,-0.15881001949310303,-0.16947804391384125,-0.11546342074871063,-0.14977115392684937,0.10256902128458023,-0.11421409249305725,-0.16979984939098358,-0.04209009185433388,-0.15834341943264008,-0.09023880958557129,-0.15905283391475677,-0.12594376504421234,0.1264135092496872,-0.1647423952817917,-0.03652530908584595,-0.14691124856472015,-0.04856039956212044,-0.12324482202529907,-0.05280578136444092,0.10921080410480499,0.2996942400932312,-0.11004520207643509,0.04171094298362732,-0.0900123342871666,-0.02427300065755844,-0.1626741588115692,-0.03534429892897606,0.07071161270141602,0.0477357916533947,-0.1681966483592987,-0.11096276342868805,-0.12413324415683746,-0.13618400692939758,-0.13670790195465088,0.18429531157016754,-0.1054554358124733,-0.11126736551523209,-0.16089771687984467,-0.16931240260601044,-0.16184945404529572,-0.16939404606819153,-0.09004584699869156,-0.06785231828689575,-0.09936470538377762,-0.17002663016319275,-0.14140085875988007,-0.0451294369995594,-0.14136914908885956,0.022690415382385254,-0.008482921868562698,-0.033017680048942566,-0.151241272687912,-0.13966605067253113,0.35672682523727417,-0.15017782151699066,-0.1496429145336151,-0.1637415736913681,-0.1016608476638794,-0.16239133477210999,0.07062701880931854,-0.0015466890763491392,-0.1675487756729126,-0.14036670327186584,-0.15338705480098724,-0.16535863280296326,-0.14623117446899414,-0.06411443650722504,-0.1669372171163559,-0.14127260446548462,0.5007840991020203,0.1453242301940918,-0.13920944929122925,0.017498718574643135,0.1555606722831726,-0.17000392079353333,-0.09704526513814926,0.01379889715462923,-0.1160951778292656,-0.1499127894639969,-0.16537123918533325,-0.16719959676265717,-0.025153091177344322,-0.16746586561203003,-0.14943113923072815,0.6747215390205383,-0.15728603303432465,-0.14843560755252838,-0.09011347591876984,-0.16968946158885956,-0.14654286205768585,-0.16488397121429443,-0.07183986157178879,-0.16825060546398163,-0.08088121563196182,0.030672507360577583,-0.002322695916518569,-0.08831307291984558,-0.05770796909928322,-0.16159510612487793,-0.12812605500221252,-0.028935624286532402,-0.16690422594547272,-0.14483428001403809,0.13756901025772095,-0.16984406113624573,-0.12469913065433502,-0.14362606406211853,-0.0707741528749466,-0.15974242985248566,-0.052153028547763824,-0.05802945792675018,-0.025603728368878365,-0.11527206748723984,-0.07081776857376099,-0.16714896261692047,-0.12252644449472427,0.38563504815101624,-0.02155555784702301,-0.12926749885082245,0.39620688557624817,-0.08622686564922333,0.15652017295360565,-0.006768427789211273,-0.047403816133737564,-0.027638988569378853,-0.1673043817281723,-0.15261289477348328,0.0875583067536354,0.1391620635986328,1.214341163635254,-0.08729372918605804,-0.01061820425093174,0.07592403888702393,-0.12276814877986908,-0.16725757718086243,-0.15070344507694244,-0.0855134055018425,-0.07596175372600555,-0.13858667016029358,-0.09215787798166275,-0.13743190467357635,-0.16900748014450073,-0.15776528418064117,0.2547450363636017,-0.1596946120262146,-0.0845208391547203,-0.16543468832969666,-0.1616750955581665,0.23072297871112823,0.21208760142326355,-0.10309133678674698,-0.004770256578922272,-0.12677742540836334,-0.055611662566661835,-0.07060160487890244,-0.010134088806807995,-0.16105087101459503,-0.1417541354894638,-0.16417443752288818,-0.16912367939949036,0.25507980585098267,-0.15970829129219055,-0.1314084827899933,-0.16205523908138275,-0.12638577818870544,-0.04582970589399338,-0.15330179035663605,0.16580253839492798,-0.07944492250680923,-0.16987261176109314,-0.15159621834754944,-0.03357383608818054,-0.04211631044745445,-0.025830263271927834,-0.16058625280857086,-0.16669076681137085,-0.1391618400812149,-0.10699429363012314,-0.11555922776460648,-0.04967908561229706,-0.15288874506950378,0.8199957013130188,-0.07041113078594208,-0.16996046900749207,-0.16989487409591675,-0.1547771394252777,-0.10184673219919205,-0.013504947535693645,1.8661173582077026,-0.16525200009346008,-0.14984536170959473,-0.16321350634098053,-0.16996291279792786,-0.12312553077936172,-0.16267535090446472,-0.15323270857334137,-0.028828931972384453,-0.060058098286390305,-0.14589627087116241,-0.16778594255447388,-0.08261431753635406,-0.16982686519622803,-0.11250769346952438,0.1677417755126953,-0.16931159794330597,0.9129666686058044,-0.16996674239635468,-0.15503136813640594,-0.05194415524601936,-0.16010507941246033,0.5721107721328735,-0.13314706087112427,-0.1635042428970337,0.13990841805934906,-0.16905833780765533,-0.16993576288223267,0.07584154605865479,-0.09074006974697113,-0.1284986287355423,-0.15238215029239655,-0.15236583352088928,-0.13531363010406494,-0.16994884610176086,1.0449117422103882,-0.08082220703363419,-0.14734753966331482,-0.16186311841011047,0.27103304862976074,-0.1548244208097458,-0.15376779437065125,-0.08972925692796707,-0.1665888875722885,1.2519750595092773,-0.16890136897563934,-0.027148712426424026,-0.051288384944200516,-0.06928837299346924,-0.0844622328877449,-0.11307833343744278,-0.1347615122795105,-0.16503563523292542,-0.1682245284318924,-0.13480715453624725,-0.08249723166227341,-0.12277038395404816,-0.15212328732013702,-0.15907275676727295,-0.033118557184934616,-0.08350560814142227,-0.13973461091518402,-0.16003526747226715,-0.1338421106338501,-0.16881754994392395,-0.016018712893128395,-0.09774700552225113,-0.1657760739326477,-0.16825199127197266,-0.03908833861351013,-0.168116956949234,0.18435059487819672,-0.16414199769496918,-0.12450462579727173,0.0532979853451252,-0.11388050764799118,0.08312159776687622,-0.09394707530736923,-0.14135795831680298,-0.11077502369880676,-0.06370658427476883,-0.15301774442195892,-0.049034424126148224,-0.07913530617952347,-0.08915330469608307,-0.027071112766861916,-0.15393024682998657,-0.09443709999322891,0.2603810727596283,0.0488218329846859,-0.1319994330406189,-0.13288520276546478,-0.16545987129211426,-0.168667271733284,-0.16703765094280243,-0.1502654254436493,-0.16723258793354034,-0.16639293730258942,-0.03451799973845482,1.1031209230422974,3.081594944000244,-0.16930311918258667,-0.14060276746749878,-0.14589834213256836,-0.1565796583890915,-0.16034285724163055,-0.16188091039657593,-0.13559535145759583,-0.14894218742847443,-0.06990468502044678,-0.035581815987825394,-0.15743450820446014,-0.1508835405111313,0.26598694920539856,0.3893248736858368,-0.10871192812919617,-0.1534399390220642,-0.11831100285053253,-0.008256242610514164,-0.16147306561470032,-0.1700286567211151,-0.16945235431194305,-0.1560589224100113,-0.1363619863986969,-0.16500921547412872,-0.029349762946367264,-0.16683033108711243,-0.009020917117595673,-0.14344541728496552,0.04383859038352966,-0.15541747212409973,-0.15170720219612122,-0.1284617930650711,0.3778342008590698,-0.06954985111951828,-0.06826406717300415,-0.15424925088882446,-0.14231006801128387,-0.16750551760196686,-0.12863264977931976,-0.1623280942440033,-0.14439411461353302,-0.025055110454559326,-0.14747683703899384,-0.16988852620124817,-0.13112427294254303,-0.04618711397051811,-0.09859860688447952,0.9957753419876099,-0.15025106072425842,-0.07438620924949646,-0.149073988199234,-0.07691828906536102,-0.16284142434597015,-0.12769348919391632,-0.03883993998169899,-0.058969948440790176,-0.13422256708145142,0.33372071385383606,-0.1432497799396515,-0.13262474536895752,-0.11403574794530869,-0.13004964590072632,-0.125350221991539,0.24721519649028778,-0.1691851168870926,-0.09189802408218384,-0.16193580627441406,-0.16952233016490936,-0.15777897834777832,-0.10320420563220978,-0.07409019023180008,-0.06626279652118683,-0.06075042486190796,0.14319480955600739,0.05190996825695038,0.23835280537605286,-0.13785436749458313,1.5162631273269653,-0.16944248974323273,-0.1357039511203766,-0.11993259191513062,0.024691689759492874,-0.1599406599998474,-0.11300376057624817,-0.15381444990634918,0.024063605815172195,-0.14767533540725708,-0.1566249430179596,-0.1607639193534851,-0.15949837863445282,-0.12471121549606323,-0.0664026215672493,-0.12443798780441284,-0.14894481003284454,-0.009029660373926163,-0.04532972723245621,-0.1552717685699463,-0.006895497906953096,-0.08440139889717102,-0.1599130779504776,0.2749030888080597,-0.1576346904039383,5.220123291015625,0.00956414919346571,-0.16960743069648743,-0.15416507422924042,-0.11930858343839645,-0.052740804851055145,-0.07222548872232437,-0.08118493854999542,-0.13429179787635803,-0.15247637033462524,-0.07514609396457672,-0.16985709965229034,-0.11991468071937561,-0.13698530197143555,-0.16921286284923553,-0.15162178874015808,-0.11993490904569626,-0.10511266440153122,0.19144994020462036,-0.16784627735614777,-0.07922811806201935,-0.16364990174770355,0.37449145317077637,-0.10900124907493591,-0.1155986413359642,-0.16803239285945892,-0.16931428015232086,-0.11894398182630539,-0.09736965596675873,-0.09463991224765778,-0.1684621423482895,-0.02136995457112789,-0.15241512656211853,-0.02411302551627159,-0.16508373618125916,-0.11821220815181732,-0.12666384875774384,-0.10079506784677505,-0.10373520106077194,-0.15668155252933502,-0.15957170724868774,-0.16566208004951477,0.07601666450500488,-0.16380459070205688,-0.12387640029191971,-0.09155510365962982,-0.16065990924835205,-0.1258918195962906,-0.08279896527528763,-0.14610645174980164,-0.10977667570114136,-0.16938553750514984,-0.16398917138576508,-0.009833689779043198,-0.1543416827917099,0.14054416120052338,-0.16365782916545868,-0.16389210522174835,-0.15979261696338654,-0.16801993548870087,-0.16560238599777222,-0.07116366922855377,-0.14012382924556732,-0.16786381602287292,-0.07958647608757019,0.12749932706356049,-0.14060848951339722,-0.13188618421554565,-0.018313497304916382,0.10384928435087204,-0.09811011701822281,-0.09929939359426498,-0.14553792774677277,0.6067289710044861,-0.17003419995307922,-0.17003211379051208,-0.06894595921039581,-0.16881757974624634,-0.1624169498682022,0.2848568558692932,0.10251659154891968,-0.0973525196313858,-0.09911353886127472,-0.15832629799842834,-0.13385321199893951,0.17791973054409027,-0.14275898039340973,-0.09091268479824066,-0.16964222490787506,-0.13281778991222382,-0.13377860188484192,-0.14462216198444366,-0.10182813555002213,0.2412109076976776,-0.16971641778945923,-0.12644711136817932,-0.11695454269647598,0.1483350247144699,-0.15947331488132477,-0.14394326508045197,-0.1694626808166504,-0.0009636134491302073,-0.17003761231899261,-0.0005266009247861803,-0.12240090221166611,-0.16821794211864471,-0.02363281324505806,-0.1250554472208023,-0.03590194880962372,0.7755415439605713,-0.15067236125469208,-0.17002031207084656,-0.09728589653968811,-0.1566021889448166,-0.08520305156707764,-0.15732966363430023,-0.11074641346931458,-0.04796691983938217,-0.029478373005986214,-0.15661132335662842,-0.15940187871456146,0.00865760538727045,-0.1444673240184784,-0.15509136021137238,-0.06375596672296524,0.08588705956935883,-0.1694619506597519,-0.16575534641742706,-0.16995298862457275,-0.03250342980027199,-0.16494832932949066,-0.061850618571043015,-0.16482529044151306,-0.15620677173137665,-0.11126039177179337,-0.16430330276489258,-0.16951587796211243,-0.09111009538173676,0.8230996131896973,-0.1657968908548355,-0.1622982621192932,-9.733416663948447e-05,-0.15456674993038177,0.7692933082580566,-0.15187059342861176,-0.03877987712621689,0.12183048576116562,-0.12129811942577362,-0.16362100839614868,-0.16288575530052185,-0.168544203042984,-0.16248463094234467,-0.08060772716999054,-0.16025087237358093,-0.1549488753080368,0.029150433838367462,-0.1570364087820053,-0.12346051633358002,-0.16795308887958527,-0.03756294399499893,0.2560279667377472,-0.16529430449008942,-0.16566132009029388,-2.0829247660003603e-06,0.7962440252304077,-0.14418460428714752,-0.16692249476909637,-0.16893135011196136,-0.09983484447002411,-0.08394025266170502,-0.09900794178247452,-0.16768480837345123,-0.0974399670958519,-0.13459455966949463,-0.10644131898880005,-0.13201318681240082,-0.10595100373029709,0.3130452334880829,-0.06390484422445297,-0.027550583705306053,1.83933687210083,-0.13818855583667755,-0.17004072666168213,-0.13548320531845093,-0.11093888431787491,-0.1683630794286728,-0.15072238445281982,0.5471146702766418,-0.028146998956799507,-0.1695767045021057,-0.1696009486913681,-0.16086910665035248,-0.10876280814409256,-0.16010446846485138,-0.060841936618089676,-0.16237740218639374,-0.13513804972171783,-0.04152441769838333,-0.1620931774377823,-0.12401874363422394,0.5481145977973938,-0.07936123013496399,-0.16752742230892181,-0.12095492333173752,-0.04132693260908127,-0.15902452170848846,-0.0216169822961092,-0.13056398928165436,-0.10907775908708572,0.10616370290517807,-0.16999444365501404,-0.16705268621444702,-0.1336057335138321,-0.1515466868877411,-0.1307295709848404,-0.16935552656650543,-0.042468175292015076,-0.12692929804325104,-0.15485501289367676,-0.14757592976093292,0.679631769657135,-0.030139727517962456,-0.11672193557024002,-0.02198762074112892,0.2724277079105377,-0.16679167747497559,-0.16838565468788147,-0.05949270352721214,-0.1636236608028412,-0.11243360489606857,-0.10148092359304428,-0.14545054733753204,-0.16407224535942078,0.14456652104854584,-0.05922030285000801,-0.09598648548126221,-0.16729140281677246,0.20979800820350647,-0.11495356261730194,-0.05611810088157654,-0.16081546247005463,-0.136061429977417,-0.14763498306274414,-0.042328882962465286,0.24401745200157166,-0.15919604897499084,0.07935814559459686,-0.07352589815855026,-0.044306766241788864,-0.09553296118974686,-0.16989028453826904,-0.12890160083770752,-0.12613601982593536,-0.1639900654554367,-0.1268179714679718,0.055084291845560074,-0.14398421347141266,-0.15316729247570038,-0.0833374634385109,-0.16885745525360107,-0.06578011065721512,-0.16323693096637726,0.006124764680862427,0.10763631761074066,-0.09617546200752258,-0.15791568160057068,-0.11054317653179169,-0.03666669875383377,-0.1411951631307602,-0.043018363416194916,-0.1448889821767807,-0.16641193628311157,-0.16311892867088318,-0.12571801245212555,-0.007522475440055132,-0.05090895667672157,-0.1676594316959381,-0.15778374671936035,-0.13369427621364594,-0.16876839101314545,-0.11834318935871124,-0.09099579602479935,-0.16392189264297485,-0.09643963724374771,-0.10729530453681946,-0.08243398368358612,-0.0670219361782074,-0.15838654339313507,-0.12504293024539948,-0.09691574424505234,-0.025544075295329094,-0.15945588052272797,-0.0036427690647542477,-0.1687580794095993,-0.08010435104370117,-0.014149777591228485,-0.16964009404182434,-0.1250375658273697,0.29548904299736023,0.2460794299840927,-0.08478585630655289,-0.14574392139911652,-0.1690431386232376,0.028272980824112892,-0.15202592313289642,-0.15063437819480896,-0.13790778815746307,0.29585954546928406,-0.027195431292057037,-0.011182034388184547,-0.16771140694618225,-0.1667822301387787,-0.05579495429992676,-0.013381232507526875,-0.1603880077600479,-0.12833847105503082,-0.160477414727211,-0.1600009799003601,-0.05930408090353012,-0.08261943608522415,-0.08844304084777832,-0.01948239654302597,-0.15000088512897491,-0.15716293454170227,-0.16766522824764252,-0.060904283076524734,-0.10547379404306412,-0.1080828607082367,-0.10802798718214035,-0.16854681074619293,0.08412180840969086,-0.04178699851036072,-0.15733429789543152,-0.1693105846643448,0.16149939596652985,-0.08627809584140778,-0.056379929184913635,-0.028640614822506905,-0.15783153474330902,-0.14690528810024261,-0.1682000458240509,-0.11939121037721634,0.35630810260772705,-0.1692318320274353,-0.013012222945690155,-0.12751860916614532,0.2443232536315918,-0.16998596489429474,-0.03522305190563202,-0.1684957891702652,-0.16763068735599518,-0.06914161145687103,-0.1596919745206833,-0.15523767471313477,-0.10855554044246674,-0.010671116411685944,-0.07635810226202011,-0.16924507915973663,-0.1152799054980278,-0.001528628752566874,-0.08505549281835556,-0.04152959585189819,-0.15278302133083344,-0.16327133774757385,-0.13396765291690826,-0.14152158796787262,-0.12580791115760803,-0.02796102501451969,0.27702486515045166,-0.08181259781122208,-0.1684379130601883,-0.11057830601930618,-0.08666247874498367,-0.02835065685212612,-0.09581649303436279,-0.16489945352077484,-0.16062822937965393,-0.048993855714797974,-0.16936635971069336,-0.002978456439450383,0.2775716185569763,0.21737544238567352,-0.16999182105064392,-0.12595653533935547,0.08026324212551117,2.4522085189819336,-0.12565556168556213,-0.08544688671827316,-0.1667090207338333,0.2762628197669983,0.09794971346855164,-0.047049857676029205,-0.14783036708831787,-0.16842974722385406,-0.012164518237113953,-0.14245116710662842,0.243167906999588,-1.9469430299068335e-06,-0.12204133719205856,0.8726323843002319,-0.01864405907690525,-0.03480367362499237,-0.03179319202899933,-0.1505456417798996,0.10841567814350128,-0.0698927789926529,-0.1625899225473404,0.01742541790008545,-0.14801140129566193,-0.029290499165654182,-0.14474214613437653,-0.14893734455108643,-0.11031371355056763,-0.1622939556837082,-5.9863392380066216e-05,-0.15896672010421753,-0.15069356560707092,-0.08757481724023819,-0.10180444270372391,-0.1020698994398117,-0.09381076693534851,-0.16349035501480103,-0.047149527817964554,-0.12582531571388245,-0.0037258630618453026,-0.07254492491483688,-0.13878023624420166,-0.08290843665599823,-0.15342342853546143,-0.15144936740398407,-0.16858546435832977,-0.0924399197101593,0.08558835834264755,-0.16714631021022797,-0.16886763274669647,-0.11153264343738556,-0.037720225751399994,-0.14068247377872467,-0.04162321239709854,-0.03413976728916168,-0.049522802233695984,0.19218602776527405,-0.1688603013753891,-0.1541437804698944,-0.16522955894470215,-0.16032032668590546,-0.0850207731127739,-0.11660898476839066,0.06640306115150452,-0.09353982657194138,-0.16708219051361084,-0.1563364863395691,0.03156563267111778,-0.15893621742725372,-0.17003656923770905,-0.1615966409444809,0.2204008400440216,-0.16531528532505035,-0.1663120687007904,-0.14369598031044006,-0.08174007385969162,-0.1458115428686142,-0.1666516661643982,-0.06947891414165497,-0.06732811778783798,-0.16886556148529053,0.18787698447704315,-0.16721320152282715,-0.1051463782787323,-0.15085934102535248,-0.12000128626823425,-0.09295490384101868,-0.14278052747249603,-0.06507278233766556,-0.15402773022651672,-0.1455100178718567,-0.1663220077753067,-0.1690751165151596,-0.13387665152549744,-0.12219931185245514,0.45305007696151733,-0.15342609584331512,-0.15608364343643188,0.04181108996272087,-0.022657418623566628,-0.16036035120487213,-0.1688554435968399,-0.1235397458076477,-0.06815887242555618,-0.1132732480764389,-0.16926704347133636,-0.10790742933750153,-0.06116168573498726,0.1479223668575287,-0.16708222031593323,-0.027253784239292145,0.7277888655662537,-0.16747798025608063,-0.170036181807518,-0.14965088665485382,-0.16548702120780945,-0.15842506289482117,-0.00018410931807011366,-0.1390693336725235,-0.06712684035301208,-0.032186154276132584,-0.14073778688907623,-0.16569402813911438,-0.1383226066827774,-0.12262202799320221,-0.16004735231399536,-0.05255139619112015,-0.023578792810440063,-0.06472698599100113,-0.008443804457783699,-0.16749565303325653,0.2510513961315155,0.2606581747531891,-0.07131442427635193,-0.11683613061904907,0.25535160303115845,-0.14910373091697693,-0.09989131987094879,-0.1662253439426422,-0.11087216436862946,-0.15917448699474335,-0.16072489321231842,-0.13016489148139954,-0.1268356293439865,-0.1630888134241104,-0.15050652623176575,-0.0969114750623703,-0.10321905463933945,-0.12853990495204926,-0.1671435832977295,-0.06854639947414398,-0.16868942975997925,-0.11041583865880966,-0.1699673980474472,-0.16999009251594543,-0.14730502665042877,-0.16944020986557007,-0.09820044785737991,-0.10354962944984436,-0.0696287602186203,-0.16157090663909912,-0.15399426221847534,-0.1116485446691513,-0.1533689796924591,-0.1301286518573761,-0.16584983468055725,0.009001050144433975,-0.12728619575500488,0.046865418553352356,-0.11705953627824783,-0.15395385026931763,-0.14779235422611237,-0.16084997355937958,-0.1354663372039795,-0.09547305852174759,-0.1669059544801712,-0.17001445591449738,0.2873569130897522,-0.10286381095647812,-0.16066715121269226,-0.12884078919887543,-0.15684302151203156,-0.13011343777179718,0.23685741424560547,-0.13697844743728638,-0.04044337198138237,-0.09412430971860886,-0.13872042298316956,-0.12051837891340256,-0.07997823506593704,-0.12737300992012024,-0.058316390961408615,-0.13709278404712677,-0.160660520195961,-0.14939738810062408,0.02576202154159546,0.6330175399780273,-0.16735580563545227,0.20324936509132385,-0.12387092411518097,0.8733798265457153,-0.09573087096214294,0.6869882345199585,-0.07384369522333145,0.5081129670143127,-0.06899967789649963,-0.1188536137342453,-0.06184223294258118,-0.08651863038539886,-0.16992957890033722,-0.04095971956849098,0.2280576527118683,-0.08062630146741867,-0.16335617005825043,0.02050619199872017,-0.11937937885522842,-0.06461239606142044,0.17502132058143616,0.27170106768608093,-0.16429375112056732,-0.1554223746061325,-0.032684218138456345,-0.13554131984710693,-0.0710611417889595,-0.15933574736118317,-0.14076904952526093,-0.033408526331186295,-0.09649495780467987,-0.13549619913101196,-0.03200959414243698,-0.02697964385151863,-0.01444438099861145,-0.11387714743614197,-0.05542268976569176,-0.13302597403526306,-0.16727255284786224,-0.07874337583780289,-0.12666186690330505,-0.13686726987361908,-0.08334121853113174,-0.0510229729115963,-0.15784569084644318,-0.13574707508087158,-0.16850915551185608,-0.08331004530191422,-0.16898488998413086,-0.15721628069877625,0.10391309857368469,-0.12661001086235046,-0.1538054496049881,-0.010041208937764168,0.3201215863227844,-0.08915389329195023,-0.17003709077835083,-0.14111633598804474,-0.16826751828193665,-0.08888785541057587,-0.16557976603507996,0.033236801624298096,-0.001849885331466794,-0.14502619206905365,-0.022318853065371513,0.38614073395729065,-0.08246712386608124,-0.09985125064849854,-0.13718363642692566,-0.07953771203756332,0.5272905826568604,-0.0819634422659874,-0.16925236582756042,-0.16437527537345886,-0.10144123435020447,-0.16361400485038757,-0.15879757702350616,-0.11359326541423798,-0.13224078714847565,-0.1356319785118103,0.1087590828537941,-0.15148790180683136,-0.14145740866661072,-0.09380050748586655,-0.13349804282188416,-0.1523583084344864,-0.018671231344342232,-0.12272178381681442,-0.16573362052440643,-0.1512201875448227,-0.16272671520709991,-0.11507713049650192,-0.16505667567253113,0.21487031877040863,-0.0791652500629425,-0.05153387039899826,-0.16492992639541626,-0.1672794222831726,-0.12032032757997513,0.00041647328180260956,-0.10062084347009659,-0.1607658565044403,-0.16547614336013794,-0.07210074365139008,-0.09920153021812439,-0.16646309196949005,-0.018719322979450226,-0.1405891627073288,0.1533113569021225,0.48308390378952026,-0.1481836438179016,-0.11960268020629883,-0.15868976712226868,0.6804854273796082,-0.16642682254314423,-0.15251000225543976,-0.09075479954481125,-0.16380541026592255,-0.002179184462875128,-0.084955595433712,0.7823697328567505,-0.034622129052877426,0.7695087790489197,0.024797942489385605,-0.16965124011039734,-0.15355266630649567,-0.07282648235559464,-0.16674469411373138,-0.13072273135185242,-0.0219772569835186,-0.13463202118873596,-0.17003603279590607,0.05541745200753212,-0.16645309329032898,-0.16909454762935638,-0.06624788045883179,-0.030591566115617752,-0.1407560557126999,-0.14305733144283295,-0.06073495000600815,-0.1663409173488617,-0.13613754510879517,-0.017565222457051277,0.4764569401741028,0.25392618775367737,-0.16594254970550537,-0.1688108593225479,-0.04252380505204201,-0.11265634000301361,-0.16575439274311066,-0.0989750474691391,0.07199092209339142,-0.0999668538570404,-0.11641692370176315,0.6484653353691101,-0.06525158882141113,-0.16787861287593842,-0.1552218645811081,-0.059858206659555435,-0.1667390614748001,-0.059214361011981964,-0.08000849932432175,-0.07938456535339355,-0.07612294703722,-0.006571093108505011,-0.1387854367494583,-0.13798968493938446,0.6566641330718994,-0.07793736457824707,-0.16821816563606262,-0.16920694708824158,-0.15128616988658905,-0.13965369760990143,-0.11176768690347672,-0.12181252986192703,0.0445856973528862,-0.06916657835245132,-0.12545140087604523,-0.14409373700618744,-0.1612928807735443,-0.05001290142536163,-0.037644315510988235,-0.17002230882644653,-0.031065460294485092,-0.09789706766605377,-0.060824450105428696,-0.08925874531269073,-0.10755893588066101,-0.16872675716876984,-0.17002388834953308,-0.16966770589351654,0.10498541593551636,0.2187488079071045,-0.14752930402755737,-0.1669348180294037,-0.16928915679454803,-0.15933451056480408,-0.15485282242298126,-0.1697743982076645,-0.15575580298900604,-0.1375139057636261,-0.16989527642726898,-0.1312619000673294,-0.11658194661140442,-0.13871803879737854,-0.1669977307319641,-0.06329582631587982,-0.0688391923904419,-0.10783272236585617,-0.15397167205810547,-0.16963712871074677,-0.1630295366048813,-0.06854499131441116,-0.15615685284137726,-0.08193861693143845,-0.05755217373371124,-0.07828914374113083,-0.15914590656757355,-0.0972832590341568,-0.1137676015496254,-0.16777819395065308,0.21496598422527313,0.1782090961933136,-0.1252281814813614,-0.12250492721796036,-0.1531812995672226,-0.15700793266296387,-0.15561357140541077,-0.11447986215353012,-0.11865575611591339,-0.060211408883333206,-0.15252141654491425,-0.09418275952339172,-0.14673100411891937,-0.12653633952140808,-0.05760689824819565,-0.16402079164981842,-0.16976818442344666,0.20741604268550873,-0.08472441136837006,-0.12371212244033813,-0.01571578159928322,-0.15737071633338928,-0.14940407872200012,-0.16794684529304504,-0.16796794533729553,-0.13865700364112854,-0.054161202162504196,-0.12430671602487564,0.6616742610931396,-0.07703114300966263,-0.1267312467098236,-0.11921088397502899,-0.16198772192001343,-0.16777735948562622,-0.15378373861312866,-0.1687314659357071,-0.09470424056053162,0.639661967754364,0.013232190161943436,-0.16712412238121033,-0.12183986604213715,-0.1583767980337143,-0.16551467776298523,-0.13726872205734253,0.2612721920013428,-0.045010603964328766,-0.15349441766738892,-0.05550172179937363,-0.16880017518997192,-0.14951404929161072,-0.0452967993915081,-0.1684122085571289,-0.08060294389724731,-0.14586052298545837,-0.15723586082458496,-0.09318443387746811,-0.1689298003911972,-0.13618877530097961,-0.09773968905210495,-0.08508749306201935,-0.1260543018579483,-0.07351339608430862,-0.15391461551189423,0.017929278314113617,-0.1685878336429596,0.02708740532398224,-0.1549459546804428,-0.12295898795127869,-0.15943843126296997,-0.14758329093456268,-0.13892346620559692,0.3641382157802582,0.2647992670536041,0.09443452954292297,-0.16006489098072052,-0.08636743575334549,-0.09684477001428604,-0.07717716693878174,-0.14050106704235077,-0.06816742569208145,-0.061551954597234726,-0.16859088838100433,0.05733213573694229,-0.16998465359210968,-0.13698649406433105,-0.16877470910549164,-0.05874328315258026,-0.14657051861286163,-0.11736411601305008,-0.10080792009830475,-0.023406878113746643,-0.14641740918159485,-0.16994498670101166,-0.1653336137533188,-0.15666818618774414,0.11305098235607147,-0.14488506317138672,-0.020272964611649513,-0.01360701210796833,-0.16787219047546387,-0.14031311869621277,-0.16595397889614105,0.21921783685684204,-0.11897467821836472,-0.10003052651882172,-0.16599002480506897,-0.09438540786504745,-0.04522506520152092,-0.16270455718040466,-0.06829681992530823,0.12878358364105225,-0.03217487782239914,-0.16981031000614166,1.91590416431427,-0.14328274130821228,-0.16965973377227783,-0.08593693375587463,-0.025785207748413086,1.0072001218795776,-0.16876502335071564,-0.061832573264837265,-0.10372190177440643,-0.032401375472545624,0.04098842293024063,-0.10036781430244446,-0.1576017141342163,-0.16886280477046967,-0.1658012419939041,-0.14176692068576813,-0.15713486075401306,-0.12129180878400803,-0.1629124879837036,-0.11164604872465134,-0.12729956209659576,-0.08964525163173676,-0.15535998344421387,-0.0,-0.13494952023029327,0.6440526843070984,-0.08447716385126114,0.017400098964571953,0.5809959769248962,0.8417346477508545,-0.1538429856300354,-0.05755145102739334,-0.16594818234443665,-0.11242420971393585,-0.14600770175457,-0.16905458271503448,-0.11650077998638153,-0.14515617489814758,-0.16936902701854706,-0.1174888014793396,-0.09286235272884369,-0.09267012029886246,-0.12660767138004303,-0.1475313901901245,-0.14178934693336487,-0.13059496879577637,-0.09628625959157944,0.10464107990264893,-0.11879943311214447,-0.1535550057888031,-0.0757807120680809,-0.16459733247756958,-0.12806899845600128,0.07608986645936966,-0.1519521176815033,-0.147994264960289,-0.16731475293636322,-0.16948288679122925,-0.08332648873329163,-0.07078145444393158,-0.14007362723350525,0.1085236445069313,-0.07584594935178757,-0.14205025136470795,-0.10051964223384857,-0.08827687799930573,-0.12696389853954315,-0.15926839411258698,-0.16346202790737152,0.44335564970970154,-0.13894590735435486,-0.15389351546764374,-0.1168266013264656,-0.14002130925655365,-0.1674376130104065,-0.14564895629882812,-0.08076049387454987,0.03878161311149597,0.002665722044184804,-0.05082869902253151,1.3087589740753174,-0.14605814218521118,-0.16879965364933014,-0.14114037156105042,-0.16466456651687622,-0.16995280981063843,-0.16889022290706635,-0.15428517758846283,-0.1455926150083542,-0.001747438102029264,-0.08914128690958023,-0.16321738064289093,-0.005286132451146841,-0.1260882169008255,-0.031918030232191086,-0.1407928764820099,-0.0803898349404335,0.5257207155227661,-0.16864122450351715,-0.01122794859111309,-0.04903697967529297,0.22499427199363708,-0.10466188192367554,-0.16992785036563873,-0.08890166133642197,-0.15972751379013062,-0.041694119572639465,-0.004707042593508959,-0.07396969944238663,-0.10135848820209503,0.2518174350261688,-0.16981500387191772,0.3744640350341797,-0.10116414725780487,-0.03734518215060234,-0.0762580931186676,-0.16820450127124786,-0.13391615450382233,-0.16918689012527466,-0.11825838685035706,-0.15658719837665558,-0.15809869766235352,-0.15697066485881805,-0.16632284224033356,-0.03283044323325157,-0.09682630747556686,-0.16641798615455627,-0.1643759310245514,-0.1236008033156395,-0.08593203127384186,-0.003626098856329918,-0.08128949254751205,-0.12741215527057648,-0.0570576936006546,-0.16585606336593628,-0.08101718127727509,-0.06179075688123703,-0.04809878394007683,-0.10712870210409164,0.024219749495387077,-0.05673930048942566,-0.13859695196151733,-0.16493819653987885,-0.12044890969991684,-0.12801313400268555,-0.13746796548366547,-0.16596731543540955,0.34770843386650085,-0.16223010420799255,-0.1271027773618698,0.5205842852592468,-0.15321119129657745,-0.1667868047952652,-0.010530807077884674,-0.16651535034179688,-0.14774121344089508,-0.07518196851015091,-0.1466570943593979,-0.06432336568832397,-0.1698504388332367,-0.1687985211610794,-0.058440953493118286,-0.16952820122241974,-0.11031503230333328,0.5633410811424255,0.03672449290752411,-0.026853784918785095,-0.11943435668945312,-0.14165645837783813,-0.14474919438362122,-0.12472525984048843,-0.13642270863056183,-0.16974881291389465,-0.14564505219459534,-0.16211701929569244,-0.16972729563713074,-0.14262980222702026,-0.060410529375076294,-0.1627330332994461,-0.07521430402994156,-0.10506102442741394,-0.07971149682998657,-0.14946284890174866,0.1660812795162201,-0.17003233730793,-0.16390159726142883,-0.05210966244339943,-0.1648751199245453,-0.016196759417653084,-0.08666586875915527,-0.14119566977024078,0.5231650471687317,-0.12397876381874084,-0.16685697436332703,0.16029797494411469,0.09354555606842041,-0.15141095221042633,-0.13248705863952637,0.11177505552768707,-0.0911390408873558,-0.14487478137016296,-0.13320107758045197,-0.12349548190832138,-0.1667117178440094,-0.13675163686275482,-0.04648836702108383,-0.13141219317913055,-0.13310548663139343,-0.08502456545829773,-0.053619835525751114,-0.15551641583442688,-0.16806016862392426,-0.003322469536215067,-0.024686701595783234,-0.1103268638253212,-0.16750158369541168,0.10029058903455734,-0.06479272991418839,-0.14018243551254272,-0.11895085126161575,-0.11366213858127594,-0.17002515494823456,-2.9625337560901244e-07,-0.050431281328201294,-0.04419747740030289,-0.1516716331243515,-0.17000611126422882,-0.07268345355987549,-0.16930627822875977,-0.16160626709461212,-0.07824459671974182,-0.1689257174730301,-0.1678282469511032,-0.16249509155750275,-0.16165107488632202,-0.12734355032444,-0.05764644593000412,-0.1524410843849182,-0.14807802438735962,-0.07523346692323685,-0.16581253707408905,-0.10312595218420029,-0.1647227704524994,-0.08906295150518417,-0.16870704293251038,-0.028463879600167274,-0.16944415867328644,-0.16621336340904236,0.01169124897569418,-0.044958870857954025,-0.07881660014390945,-0.1430749148130417,-0.15645335614681244,-0.12410235404968262,-0.16492144763469696,-0.16573314368724823,-0.14876820147037506,-0.09923073649406433,-0.13747601211071014,-0.10028629750013351,-0.15638914704322815,-0.05318232253193855,0.19167548418045044,-0.06943004578351974,-0.13931521773338318,-0.16861414909362793,-0.1627669632434845,-0.0116781797260046,-0.15275701880455017,-0.16686569154262543,-0.08186359703540802,-0.020217755809426308,-0.029582759365439415,-0.05693436414003372,0.05032205209136009,-0.11912877857685089,-0.12238013744354248,0.8081633448600769,-0.1322186142206192,-0.1641872525215149,1.5829555988311768,-0.1185162290930748,-0.14976750314235687,-0.030541224405169487,-0.14760896563529968,-0.014815854839980602,-0.02713911421597004,-0.1498115062713623,-0.10016439110040665,-0.13794255256652832,0.25424495339393616,-0.047916263341903687,-0.022701045498251915,-0.09131858497858047,-0.15835040807724,-0.12886977195739746,-0.09326791763305664,-0.13654716312885284,-0.0348876491189003,-0.13220791518688202,0.05426083505153656,-0.15840081870555878,-0.16795925796031952,0.7244448661804199,-0.08483801782131195,-0.11298535019159317,-0.16102176904678345,-0.06097424030303955,0.010096272453665733,-0.09701862186193466,-0.15988580882549286,1.052464485168457,-0.06384789198637009,-0.15697219967842102,-0.16108642518520355,-0.15844260156154633,0.729519248008728,1.0241161584854126,-0.16132014989852905,-0.15271756052970886,-0.13970737159252167,-0.011798296123743057,-0.14206044375896454,-0.08157376945018768,-0.1487078070640564,-0.15860722959041595,-0.16543161869049072,-0.14339664578437805,0.16689585149288177,-0.07332012057304382,0.6349793076515198,-0.04579915478825569,-0.030199844390153885,-0.14950206875801086,-0.1331268548965454,0.4305834174156189,2.7305636405944824,-0.13389050960540771,-0.11497806012630463,-0.15694409608840942,-0.1316351592540741,-0.09504559636116028,-0.1418004184961319,-0.14945267140865326,-0.16778288781642914,0.019888341426849365,-0.16478464007377625,-0.027454791590571404,0.5203497409820557,0.22482603788375854,-0.06056804582476616,-0.11547032743692398,-0.10890530794858932,-0.16901206970214844,-0.02510320022702217,-0.09626925736665726,-0.05174630135297775,-0.019114263355731964,-0.164277583360672,-0.16994217038154602,-0.10134217143058777,-0.07222770154476166,-0.1260211318731308],[-0.1672896146774292,0.053178489208221436,-0.05527934804558754,-0.05336616933345795,-0.08104725927114487,0.1862458735704422,-0.16436006128787994,0.1571880578994751,-0.15987499058246613,-0.16915009915828705,-0.14222688972949982,-0.018373187631368637,-0.15296101570129395,-0.10971649736166,-0.06282463669776917,-0.15952898561954498,-0.16959795355796814,0.09499255567789078,-0.060035206377506256,-0.04178062081336975,0.2896522581577301,-0.03692261129617691,0.6308104395866394,-0.02155301906168461,-0.14240437746047974,-0.16847103834152222,0.32004672288894653,0.0913672149181366,-0.1594908982515335,-0.15222622454166412,0.2681569457054138,-0.03539559990167618,-0.04343085736036301,-0.1402793675661087,-0.1646704375743866,-0.12946057319641113,0.28865617513656616,0.20550167560577393,-0.16476373374462128,-0.16987165808677673,-0.16161063313484192,-0.16147451102733612,-0.10486253350973129,-0.16707099974155426,-0.1164708137512207,0.4442351460456848,-0.16710814833641052,-0.03813643380999565,-0.1691034585237503,-0.00728407921269536,-0.1670042723417282,-0.15722964704036713,-0.15083439648151398,-0.1171620786190033,-0.09734460711479187,-0.04657525196671486,0.10923819243907928,-0.05888773500919342,-0.0261012502014637,-0.17002102732658386,-0.16523151099681854,-0.13427965342998505,-0.16799484193325043,-0.1647254079580307,-0.036317117512226105,-0.15737363696098328,-0.12035993486642838,-0.1223534345626831,-0.1693984419107437,-0.08371447771787643,-0.15684179961681366,-0.12163077294826508,-0.04325627535581589,-0.03384028375148773,-0.0590110719203949,-0.012523115612566471,-0.13604748249053955,-0.1699686199426651,-0.13042214512825012,-0.16540057957172394,-0.14060430228710175,-0.05402785539627075,-0.15019525587558746,-0.15872378647327423,-0.15529443323612213,-0.014675822108983994,-0.15998777747154236,-0.022961901500821114,-0.1489337682723999,-0.16562511026859283,0.5405554175376892,-0.06292357295751572,-0.16568054258823395,-0.07049281895160675,-0.036429330706596375,-0.159822478890419,0.2744433283805847,-0.16401144862174988,0.11155219376087189,-0.08778732270002365,-0.16724500060081482,-0.12427005916833878,-0.11868913471698761,-0.024074748158454895,0.00641625514253974,-0.13129426538944244,-0.07521312683820724,-0.10579262673854828,-0.1542435586452484,-0.11035213619470596,-0.08228578418493271,-0.07068540900945663,-0.026306340470910072,-0.008653980679810047,-0.06056452542543411,-0.10216301679611206,-0.0910881906747818,-0.1240571141242981,-0.13164763152599335,-0.16820915043354034,-0.10741201788187027,-0.16019634902477264,-0.09460566192865372,-0.09579694271087646,-0.017321055755019188,-0.06551425904035568,-0.1686055064201355,0.6062925457954407,-0.08078811317682266,-0.16745218634605408,-0.17002788186073303,-0.028368353843688965,-0.12526214122772217,-0.0957585796713829,-0.1627599447965622,-0.07861877232789993,-0.15164445340633392,0.2034311294555664,-0.10117196291685104,-0.10824546217918396,-0.0949132964015007,-0.16730310022830963,-0.16247014701366425,-0.00014577226829715073,-0.1688918024301529,-0.11608638614416122,-0.14350064098834991,-0.03904331102967262,-0.04544496908783913,0.14370113611221313,-0.08083093911409378,-0.04979449138045311,-0.17003004252910614,-0.14506889879703522,-0.13927605748176575,-0.1533404439687729,-0.11689319461584091,-0.16095449030399323,-0.09182809293270111,-0.16955626010894775,-0.1203647255897522,-0.057203445583581924,-0.16522179543972015,-0.16912662982940674,-0.1256234496831894,0.251462459564209,-0.10239502042531967,-0.11251465976238251,0.09313834458589554,-0.001298920949921012,-0.059077631682157516,-0.12852850556373596,-0.029184618964791298,-0.023969391360878944,0.37318480014801025,-0.10915974527597427,0.1740441918373108,-0.1651328057050705,-0.1677633672952652,-0.049373362213373184,-0.1593155860900879,-0.11063992232084274,-0.16932103037834167,-0.0456417016685009,-0.014322762377560139,-0.1688263714313507,-0.08811572194099426,-0.08501829952001572,0.8153988718986511,-0.16589228808879852,0.18709364533424377,-0.1603909134864807,-0.12236251682043076,-0.018761472776532173,-0.07469826936721802,0.6350980997085571,-0.16699062287807465,0.3698822855949402,-0.16602899134159088,-0.0699603483080864,-0.15143324434757233,0.09316422045230865,-0.12384393811225891,-0.1248520016670227,-0.0948844626545906,0.07909920066595078,-0.16916652023792267,-0.0733407512307167,-0.15136554837226868,-0.16889053583145142,-0.17000217735767365,-0.10672444105148315,-0.005808399058878422,-0.14635172486305237,-0.1617887169122696,-0.035966575145721436,0.081198550760746,-0.10962433367967606,0.27163177728652954,-0.1525023728609085,0.020313043147325516,-0.1692911982536316,0.6190100312232971,-0.08534785360097885,-0.16099494695663452,-0.13452661037445068,-0.065726637840271,-0.00028537059552036226,-0.1429334431886673,-0.15419191122055054,-0.029440034180879593,-0.10949940234422684,0.7183032035827637,-0.1677955687046051,-0.031107785180211067,-0.13999687135219574,-0.1223226860165596,-0.047125328332185745,-0.02367541380226612,-0.16995343565940857,0.011612246744334698,-0.09040151536464691,-0.15553033351898193,-0.1580132693052292,-0.11896179616451263,-0.1471528559923172,-0.1603909283876419,-0.1692487895488739,-0.16872848570346832,-0.16824382543563843,0.5911895632743835,-0.1700388342142105,-0.05934005603194237,-0.11675861477851868,-0.15400052070617676,-0.14963388442993164,-0.15540635585784912,-0.16627150774002075,-0.15942011773586273,-0.04942406341433525,-0.16959479451179504,0.49809324741363525,-0.14022575318813324,-0.16439171135425568,1.5157655477523804,-0.16992364823818207,0.14040683209896088,-0.15423384308815002,-0.04424960911273956,0.14445190131664276,-0.06357470154762268,-0.16409070789813995,0.398635596036911,-0.10518807917833328,0.04221870005130768,-0.0825837254524231,-0.16869518160820007,-0.11050312221050262,-0.12463240325450897,-0.08003938943147659,-0.12673982977867126,0.1307450234889984,-0.14936563372612,-0.08604475110769272,-0.047103337943553925,1.0676305294036865,-0.14724072813987732,-0.16371232271194458,-0.07771261036396027,-0.16967906057834625,-0.08272872865200043,-0.14913848042488098,-0.16770601272583008,-0.16431331634521484,0.386340856552124,-0.09017141908407211,0.032916270196437836,-0.0978005900979042,1.9837602376937866,-0.13090044260025024,-0.16332599520683289,-0.11100880801677704,-0.09086812287569046,-0.16235381364822388,-0.10786402225494385,-0.17003804445266724,-0.1111765205860138,-0.16369286179542542,-0.046765223145484924,-0.16120024025440216,-0.06193622574210167,-0.16150985658168793,-0.137753427028656,0.8403690457344055,-0.046457380056381226,0.2699027359485626,-0.16395708918571472,0.49503293633461,-0.16047196090221405,-0.15859022736549377,-0.16965651512145996,0.10631174594163895,-0.142814502120018,-0.15740621089935303,-0.16962634027004242,-0.14506010711193085,-0.1193910762667656,0.44140636920928955,-0.16557802259922028,-0.11236802488565445,-0.16974541544914246,-0.06542961299419403,0.21267272531986237,-0.11261619627475739,-0.0672454684972763,-0.16888146102428436,-0.12625660002231598,-0.16939780116081238,0.5090087056159973,-0.16547450423240662,-0.14396622776985168,-0.09290110319852829,-0.16956020891666412,-0.1696384847164154,-0.11828679591417313,0.3618071377277374,-0.0491412915289402,-0.13572198152542114,-0.11971709877252579,-0.1604042500257492,-0.03469691053032875,-0.16867898404598236,-0.1289980113506317,-0.1675901859998703,-0.16997583210468292,-0.16344517469406128,-0.16826950013637543,-0.12659908831119537,-0.16958832740783691,-0.05180228874087334,-0.0774412751197815,-0.01735287345945835,-0.16911561787128448,-0.09904846549034119,0.10889271646738052,-0.13912495970726013,0.07110155373811722,-0.16636328399181366,-0.07396596670150757,-0.15703175961971283,-0.15568725764751434,-0.16894301772117615,-0.01379835419356823,-0.1247013658285141,-0.1533902883529663,-0.15385565161705017,-0.03528255969285965,-0.13184642791748047,-0.04715752229094505,2.528075933456421,-0.08070240169763565,-0.1359414905309677,1.7502020597457886,1.2366598844528198,0.3694894015789032,-0.16530214250087738,-0.16983559727668762,-0.16149283945560455,-0.16792941093444824,-0.1666901558637619,-0.16931290924549103,-0.13474252820014954,-0.08896461874246597,0.34488147497177124,0.4739663302898407,0.015325011685490608,-0.07279159128665924,-0.12984015047550201,-0.1443481594324112,-0.004506920464336872,-0.16061776876449585,0.3183791935443878,-0.16268986463546753,-0.08360369503498077,-0.009169026277959347,-0.011296816170215607,-0.06389639526605606,-0.0934886783361435,-0.06012917682528496,-0.15998174250125885,-0.12659181654453278,0.175270676612854,-0.1641129106283188,-0.16754622757434845,0.34853652119636536,0.0009692205348983407,-0.09581490606069565,-0.1686258465051651,-0.12680763006210327,-0.16541710495948792,-0.14308427274227142,-0.09581974148750305,-0.05726632475852966,-0.03122689574956894,-0.09994274377822876,-0.1560574769973755,0.16732501983642578,-0.13617075979709625,-0.16210755705833435,-0.16020211577415466,-0.16486236453056335,-0.1286599338054657,-0.02627040632069111,-0.07109808176755905,-0.1107226014137268,-0.1627463847398758,-0.15137585997581482,-0.09536360204219818,-0.15380297601222992,-0.12145046144723892,0.41495245695114136,-0.15588800609111786,-0.16238483786582947,-0.05168494954705238,-0.16971400380134583,-0.04804912209510803,-0.1446143388748169,-0.16241300106048584,0.10588573664426804,-0.06727244704961777,-0.11830763518810272,-0.1422635018825531,0.3094549775123596,-0.1320294588804245,-0.12148022651672363,-0.16387726366519928,-0.0985160544514656,-0.1156603991985321,-0.16085359454154968,-0.16981881856918335,-0.0877872034907341,0.5822945833206177,-0.005936070345342159,-0.16610656678676605,-0.12608933448791504,0.1721024215221405,-0.03456278145313263,-0.1321132630109787,-0.07325659692287445,-0.0973052904009819,-0.07986665517091751,-0.053018901497125626,-0.1660437434911728,-0.06917881220579147,-0.17003577947616577,-0.1587413251399994,-3.246041524107568e-05,-0.14063866436481476,-0.14564377069473267,-0.16877159476280212,-0.037079643458127975,-0.06879022717475891,-0.05654335394501686,-0.16878196597099304,-0.006924664601683617,0.39887720346450806,0.4906329810619354,-0.16871115565299988,0.24745771288871765,-0.1463530957698822,-0.0844968929886818,-0.15489646792411804,-0.06722474098205566,0.2177555412054062,-0.13279807567596436,0.32840240001678467,-0.16983933746814728,-0.0444672517478466,0.14563919603824615,-0.11591929942369461,-0.15002816915512085,-0.14088992774486542,-0.16489379107952118,-0.16550077497959137,0.18582825362682343,-0.03813489153981209,0.009839475154876709,-0.03399300575256348,-0.12742148339748383,-0.16234350204467773,-0.11543865501880646,-0.1688300222158432,-0.11577935516834259,-0.1058272123336792,0.30949145555496216,-0.16023068130016327,-0.073544442653656,-0.1670967936515808,-0.11470101773738861,-0.12204276770353317,0.21397614479064941,-0.16431687772274017,-0.13988450169563293,0.16873157024383545,-0.16034813225269318,0.04794181138277054,-0.1313607394695282,-0.13446201384067535,0.09148402512073517,-0.16198232769966125,-0.004410006105899811,-0.04764566197991371,-0.1212134063243866,0.4966316521167755,1.6110029220581055,-0.16590836644172668,1.151719570159912,-0.16168636083602905,-0.0031005407217890024,0.242587611079216,-0.16935093700885773,-0.15500164031982422,-0.08536285907030106,0.24732628464698792,0.0887577086687088,0.22515715658664703,-0.16142402589321136,0.5559943914413452,0.20564047992229462,-0.10562049597501755,-0.11392845958471298,-0.16312995553016663,0.16693003475666046,-0.04681924358010292,-0.08433979749679565,-0.1406070441007614,-0.1362747848033905,-0.0741509348154068,-0.1469670683145523,0.0005625386256724596,-0.16647647321224213,-0.1691010743379593,-0.0019800288137048483,-0.16955016553401947,-0.14592494070529938,-0.13881948590278625,0.020138755440711975,-0.16421158611774445,-0.11643646657466888,-0.17003734409809113,-0.052005916833877563,0.2500252425670624,-0.07169165462255478,0.10329961776733398,0.08856388926506042,-0.16338013112545013,-0.16297973692417145,-0.05167059972882271,0.018908007070422173,-0.1698361039161682,-0.010405105538666248,-0.13226141035556793,-0.11171776801347733,-0.12104688584804535,-0.1641627997159958,-0.15386903285980225,-0.10795794427394867,-0.07918950915336609,-0.148646280169487,0.33718305826187134,-0.13536541163921356,-0.16974852979183197,0.25973477959632874,-0.09942265599966049,-0.1277637630701065,-0.16838611662387848,-0.019686739891767502,-0.045467641204595566,-0.10840243846178055,0.36684995889663696,-0.03104999288916588,-0.14110903441905975,-0.09205957502126694,-0.16905348002910614,-0.15218110382556915,-0.06019009277224541,-0.1580042541027069,-0.11086974292993546,-0.012619328685104847,-0.0,-0.16697591543197632,-0.06456204503774643,-0.09455843269824982,-0.12374786287546158,-0.09326731413602829,-0.03575265780091286,-0.16941770911216736,-0.1355997771024704,-0.07913365960121155,-0.026442769914865494,-0.05536914989352226,-0.1700289249420166,0.3082644045352936,-0.1698846071958542,-0.15781724452972412,-0.15671353042125702,-0.12091446667909622,-0.12551414966583252,-0.1244557574391365,-0.06435837596654892,0.7706345319747925,-0.16888925433158875,-0.06221878156065941,-0.04653565213084221,-0.07682833820581436,-0.07103165239095688,-0.1589777022600174,-0.15307655930519104,-0.14827461540699005,-0.051869213581085205,-0.14710582792758942,-0.16962260007858276,-0.15974211692810059,-0.06692609935998917,-0.16863839328289032,-0.12982811033725739,-0.11392486840486526,-0.12835437059402466,0.00014209988876245916,-0.16864627599716187,-0.03567104786634445,0.6318694949150085,-0.04199578985571861,-0.16655418276786804,-0.09256488084793091,-0.08233454823493958,-0.07333239912986755,-0.1699484884738922,-0.1250028759241104,-0.09014265239238739,-0.15088386833667755,-0.16625115275382996,-0.15381062030792236,-0.07617823034524918,-0.11183469742536545,-0.032803989946842194,0.0024677375331521034,0.03417094424366951,-0.08580918610095978,0.014097974635660648,-0.13994590938091278,-0.07559487223625183,-0.16746002435684204,-0.13126713037490845,-0.17001144587993622,0.8804721236228943,-0.08212605863809586,-0.12876085937023163,-0.14143995940685272,-0.15459391474723816,-0.10498418658971786,-0.15011990070343018,-0.10330697894096375,-0.1535627543926239,-0.12677329778671265,-0.15580914914608002,-0.16119347512722015,0.24790258705615997,-0.1478431522846222,-0.11871861666440964,-0.1691441684961319,-0.10929137468338013,-0.10184390097856522,-0.15012656152248383,0.12659785151481628,-0.1022249087691307,-0.16260045766830444,0.0230704415589571,-0.16914312541484833,-0.14952684938907623,-0.11528089642524719,-0.09640266001224518,-0.009842198342084885,-0.15513041615486145,-0.15805774927139282,-0.16388338804244995,-0.17000040411949158,-0.16993752121925354,-0.13477838039398193,-0.014986129477620125,-0.16467469930648804,0.07266757637262344,0.020992310717701912,-0.159178227186203,-0.13744185864925385,-0.14926420152187347,-0.06880620121955872,0.1212809681892395,-0.012991872616112232,-0.08559487760066986,-0.08481884747743607,-0.16544854640960693,-0.14432358741760254,-0.033786676824092865,0.34927287697792053,-0.16353386640548706,-0.1699778288602829,0.13599267601966858,-0.02317446656525135,-0.12738436460494995,-0.039366818964481354,0.1437729448080063,-0.0478857159614563,-0.1586066484451294,0.01871354691684246,0.12330914288759232,-0.1587151736021042,-0.14305615425109863,-0.01782582513988018,-0.16930228471755981,-0.15968380868434906,-0.16920793056488037,0.014544128440320492,-0.07460851967334747,-0.0694916844367981,-0.11846333742141724,-0.037106696516275406,-0.047900084406137466,-0.13164936006069183,-0.15409305691719055,-0.013884196057915688,0.044450681656599045,-0.10445133596658707,-0.07392232865095139,-0.03935950994491577,-0.1654655635356903,0.7774149775505066,-0.08485597372055054,-0.15537820756435394,-0.09927736967802048,-0.0908469408750534,-0.15499092638492584,-0.1494547426700592,-0.07859643548727036,0.3254075348377228,-0.018078584223985672,-0.16261044144630432,-0.09235476702451706,-0.1477697491645813,-0.1671219766139984,-0.1573437601327896,-0.14648357033729553,-0.029065972194075584,-0.14187729358673096,-0.16467048227787018,-0.17003563046455383,-0.1412501484155655,-0.1412859857082367,-0.16986002027988434,-0.15080231428146362,-0.13348442316055298,-0.146000474691391,-0.11714707314968109,-0.16690415143966675,-0.16980059444904327,-0.13937318325042725,-0.04560193046927452,-0.13733939826488495,0.5511099100112915,0.23782572150230408,-0.16068406403064728,-0.16938745975494385,-0.1696804016828537,0.011692230589687824,-0.16931645572185516,-0.15505345165729523,-0.1399286985397339,-0.1699698567390442,-0.0983056053519249,0.03730458766222,-0.16998378932476044,-0.11093916743993759,-0.11478373408317566,-0.0714629590511322,0.8272815346717834,-0.10513996332883835,-0.1696210652589798,-0.16922718286514282,-0.1277991533279419,1.2633217573165894,-0.1699931025505066,1.5743156671524048,-0.16993853449821472,-0.1630069762468338,-0.15364521741867065,-0.12612895667552948,-0.14428476989269257,0.27314066886901855,-0.02910134196281433,-0.02359740249812603,0.15499335527420044,-0.16098162531852722,0.10019179433584213,-0.05078721046447754,-0.025856293737888336,-0.06931621581315994,-0.001317146117798984,-0.16884811222553253,0.6216382384300232,0.04339047521352768,-0.02196619100868702,-0.17003968358039856,-0.11118483543395996,-0.169408917427063,0.07039018720388412,-0.1488451361656189,-0.06001979857683182,-0.16840076446533203,-0.16953374445438385,-0.1679745614528656,-0.164374440908432,-0.039131999015808105,-0.12020065635442734,0.03362506255507469,-0.115074522793293,-0.11041105538606644,-0.03222420811653137,-0.03912793844938278,-0.11154700070619583,-0.16980789601802826,-0.12672561407089233,-0.17000548541545868,0.2746068239212036,-0.11912930011749268,-0.028571834787726402,0.03728257119655609,0.07777363806962967,0.5745067000389099,-0.08461636304855347,0.15811146795749664,-0.16743206977844238,-0.16989953815937042,0.056807320564985275,-0.15134815871715546,-0.14191053807735443,-0.15911610424518585,-0.06785628199577332,-0.16000017523765564,-0.10891935229301453,-0.05240122973918915,0.5339405536651611,-0.1640486866235733,-0.005891983397305012,-0.14350897073745728,-0.14378194510936737,-0.04949319735169411,-0.012605109252035618,0.020619316026568413,-0.13537812232971191,-0.16955998539924622,-0.14609624445438385,-0.16442909836769104,0.4005416929721832,-0.09766832739114761,-0.15684987604618073,-0.13466501235961914,0.6154674291610718,-0.11574231833219528,-0.12773670256137848,-0.026382332667708397,-0.15200825035572052,-0.059338878840208054,-0.12927503883838654,-0.16695046424865723,-0.02501722052693367,-0.14447207748889923,-0.13897180557250977,-0.16619651019573212,-0.09545288234949112,-0.09748940169811249,2.306215763092041,-0.07475867122411728,-0.16585193574428558,-0.049119140952825546,-0.04874823987483978,-0.15086761116981506,0.06205979734659195,-0.08875994384288788,0.6134145259857178,-0.09221483021974564,-0.09997265040874481,-0.11423850059509277,-0.1666875034570694,-0.11729723960161209,-0.10043241828680038,-0.140252023935318,-0.15294693410396576,-0.12816262245178223,-0.16984102129936218,-0.15305764973163605,-0.09835515916347504,-0.11511687189340591,-0.1687692552804947,-0.1643274873495102,-0.15763618052005768,-0.16760241985321045,-0.029040513560175896,-0.11940182745456696,0.5938974022865295,-0.16090108454227448,-0.1423301249742508,-0.1455179750919342,-0.13618144392967224,-0.15601113438606262,-0.1683143526315689,-0.1347288191318512,-0.16284655034542084,-0.15470528602600098,-0.01432071067392826,-0.15160030126571655,-0.16898652911186218,-0.16663490235805511,0.1691928505897522,0.5153211951255798,-0.14177864789962769,-0.08020734041929245,-0.16545923054218292,-0.09710823744535446,-0.07755781710147858,-0.08038216829299927,0.17533282935619354,-0.13176502287387848,-0.09350187331438065,-0.04647219181060791,-0.006255809683352709,-0.029496369883418083,-0.16956937313079834,0.5886613726615906,-0.11438434571027756,-0.15575926005840302,-0.05252306908369064,-0.16305597126483917,-0.11938940733671188,-0.1687917560338974,-0.11152340471744537,-0.12951619923114777,-0.09729010611772537,-0.16814176738262177,-0.11251474916934967,-0.16935604810714722,-0.14741240441799164,-0.01418971922248602,-0.1133728176355362,-0.16784489154815674,0.2464129626750946,-0.10275387018918991,1.7124221324920654,-0.08998841047286987,-0.17003871500492096,-0.11292310059070587,-0.13970425724983215,-0.13375446200370789,0.1574535369873047,-0.15341755747795105,-0.13698580861091614,0.007896699011325836,-0.1468973308801651,-0.11833788454532623,-0.17003333568572998,-0.14563220739364624,-0.10703861713409424,0.06872275471687317,-0.05075489729642868,-0.16574224829673767,-0.10441182553768158,-0.06293858587741852,-0.1625850349664688,-0.03777313604950905,-0.16872406005859375,-0.16429829597473145,-0.07468441873788834,-0.025655794888734818,0.0064301565289497375,0.33237424492836,0.37356171011924744,0.48709791898727417,0.03292150795459747,0.7331643104553223,-0.03409016877412796,-0.17002460360527039,-0.10438273847103119,0.026871366426348686,-0.1221587136387825,-0.025076335296034813,-0.15225069224834442,-0.15753334760665894,-0.027878936380147934,-0.12051614373922348,-0.014426804147660732,-0.16396257281303406,-0.1253218948841095,-0.03622163087129593,-0.16857090592384338,-0.16458818316459656,1.4640732842963189e-05,-0.16926755011081696,-0.03415102884173393,-0.08522411435842514,-0.010214989073574543,0.019411789253354073,0.7056017518043518,-0.16832488775253296,-0.170040562748909,-0.09440326690673828,0.014154519885778427,-0.09279416501522064,-0.16917794942855835,-0.00455967104062438,0.6788355112075806,-0.12241427600383759,-0.16876471042633057,-0.15203748643398285,0.058251213282346725,-0.1368873417377472,-0.14394080638885498,-0.15569479763507843,0.47292429208755493,-0.15395359694957733,-0.14150618016719818,-0.12474638968706131,-0.15681223571300507,-0.0606289878487587,-0.148351788520813,-0.16972100734710693,-0.16411273181438446,-0.1490185558795929,-0.12721306085586548,-0.12028177827596664,-0.16919448971748352,-0.16805270314216614,-0.15934476256370544,-0.16595304012298584,-0.11345783621072769,-0.16299548745155334,-0.045143093913793564,-0.053155750036239624,-0.07817942649126053,-0.03826446831226349,-0.16694527864456177,-0.0776752457022667,-0.15953433513641357,-0.033970363438129425,-0.16501933336257935,-0.14960063993930817,-0.06519649177789688,-0.15509702265262604,-0.07009793072938919,-0.15156786143779755,-0.1473713219165802,-0.16871997714042664,-0.17004023492336273,-0.07615810632705688,-0.1422656923532486,-0.16094085574150085,-0.06345382332801819,-0.13039395213127136,0.17375868558883667,-0.10155073553323746,-0.07889851927757263,-0.07087928056716919,0.10123076289892197,-0.15997692942619324,-0.08741626143455505,-0.16929079592227936,-0.1325763463973999,0.23188664019107819,-0.09353187680244446,-0.006330217234790325,-0.14594489336013794,-0.16932904720306396,0.44650956988334656,-0.16984842717647552,-0.14570863544940948,-0.1119367778301239,-0.03950442001223564,-0.1215236559510231,-0.16955049335956573,0.04870499297976494,-0.11285744607448578,0.005321807693690062,0.45627880096435547,-0.05786685273051262,0.6336724758148193,-0.046374283730983734,-0.1359717696905136,0.1734660267829895,-0.03512554615736008,-0.12332277745008469,-0.11337778717279434,-0.08093029260635376,0.36660218238830566,-0.1431410312652588,-0.029363246634602547,-0.15710219740867615,-0.16854500770568848,-0.16492773592472076,-0.15612536668777466,-0.12331264466047287,-0.16975398361682892,-0.1149996891617775,0.35510480403900146,-0.06126527860760689,-0.16995011270046234,-0.027549467980861664,0.03352165222167969,-0.16339141130447388,-0.0036967704072594643,-0.00941285490989685,-0.13906972110271454,-0.1676964908838272,-0.1349976658821106,-0.10037752240896225,-0.08790251612663269,-0.16945332288742065,-0.15846768021583557,-0.16390389204025269,-0.032774731516838074,0.35352349281311035,0.05527929216623306,-0.16982096433639526,-0.16216598451137543,-0.12092268466949463,0.1469288021326065,-0.15337425470352173,-0.14839647710323334,-0.11973103880882263,0.009640420787036419,-0.15082339942455292,-0.14393748342990875,-0.11488284915685654,-0.16089953482151031,-0.13782714307308197,-0.16787007451057434,-0.03362124413251877,0.013400333002209663,-0.16976378858089447,-0.13574588298797607,-0.1668320745229721,-0.12920625507831573,-0.009172017686069012,-0.12288381159305573,-0.08504154533147812,-0.13803642988204956,0.3368910253047943,-0.05696617439389229,-0.11291343718767166,-0.10059045255184174,-0.13467949628829956,-0.14662304520606995,0.048596713691949844,-0.15434376895427704,-0.0618053562939167,-0.10848324745893478,-0.168503075838089,-0.15543033182621002,-0.1593347191810608,0.012980076484382153,-0.07229456305503845,-0.16732430458068848,-0.16733746230602264,-0.041460003703832626,-0.16239236295223236,0.22436150908470154,-0.1018252968788147,-0.03048134595155716,-0.1077764630317688,-0.16912125051021576,-0.13281546533107758,-0.10450226068496704,-0.042382173240184784,-0.08436045050621033,-0.1634507179260254,-0.050966788083314896,-0.08770214766263962,-0.13238053023815155,-0.10234249383211136,0.7684601545333862,0.045710377395153046,-0.15995942056179047,-0.15408313274383545,0.14500071108341217,-0.16942350566387177,-0.0686774030327797,0.016596442088484764,-0.15429510176181793,-0.16369210183620453,0.7704824805259705,0.08956161141395569,-0.14735284447669983,-0.06064658612012863,-0.16985638439655304,0.5753723978996277,-0.13429434597492218,-0.1090402826666832,-0.16406498849391937,-0.17004026472568512,-0.09276052564382553,0.5769585371017456,-0.1680154651403427,1.2518337965011597,-0.09152847528457642,-0.16928447782993317,-0.1676093190908432,-0.15850608050823212,-0.12517525255680084,0.5285669565200806,-0.025074336677789688,-0.02784474566578865,-0.07496750354766846,-0.1698247790336609,-0.16379788517951965,0.1624034345149994,-0.12593629956245422,-0.12923917174339294,-0.1379617601633072,-0.09076029807329178,-0.04542757570743561,-0.13642701506614685,-0.138714998960495,-0.0724845677614212,-0.163532093167305,0.1759195625782013,0.6556098461151123,-0.1684807986021042,0.2138891965150833,-0.1520058512687683,-0.1313275247812271,-0.1592141091823578,-0.15474127233028412,-0.1533762365579605,-0.1441226303577423,-0.10616844147443771,1.6489722728729248,-0.01387595571577549,0.5408365726470947,-0.1300266981124878,-0.15663917362689972,-0.16096514463424683,-0.1353096216917038,-0.14554981887340546,-0.16770458221435547,-0.05946096405386925,-0.1669493168592453,0.14611321687698364,-0.13766689598560333,-0.14182746410369873,-0.049741536378860474,-0.1691030114889145,0.1792236715555191,-0.15468205511569977,-0.1700117290019989,0.1187502071261406,-0.16677294671535492,-0.08084945380687714,-0.16995860636234283,-0.13286657631397247,-0.1318187415599823,-0.14339247345924377,-0.1666075438261032,-0.13890573382377625,-0.1698976457118988,-0.1308913379907608,-0.015947353094816208,-0.0716455727815628,-0.13734528422355652,-0.15273556113243103,-0.16950123012065887,-0.14399681985378265,0.1167493537068367,-0.13933514058589935,-0.07867899537086487,-0.16666851937770844,0.6040136218070984,-0.1659564971923828,-0.1360757052898407,-0.059397246688604355,-0.11922724545001984,0.1291642189025879,-0.15738336741924286,-0.026076018810272217,-0.130020409822464,-0.11237196624279022,-0.16589868068695068,-0.15108299255371094,-0.13680358231067657,-0.11904320865869522,-0.15346771478652954,-0.12468595802783966,-0.00624379375949502,0.5594070553779602,-0.14087516069412231,-0.12245019525289536,0.020226210355758667,-0.14886555075645447,-0.14539535343647003,-0.00675800209864974,-0.15097954869270325,-0.041069868952035904,-0.08375829458236694,-0.1679939478635788,-0.03288690373301506,-0.14278841018676758,1.427990198135376,-0.14563573896884918,-0.060134563595056534,-0.1456589549779892,-0.15432779490947723,-0.15536142885684967,-0.024815328419208527,-0.034460246562957764,-0.09218736737966537,0.12506254017353058,-0.01902921125292778,-0.07807185500860214,-0.11250290274620056,0.022345852106809616,-0.06440488249063492,-0.16301017999649048,-0.16880591213703156,-0.08399135619401932,0.16602565348148346,-0.13209111988544464,-0.15854574739933014,-0.16372150182724,0.0770084410905838,-0.11806660145521164,0.9214462637901306,-0.0838952511548996,-0.16802550852298737,-0.1161164939403534,0.5818549990653992,0.11571087688207626,-0.10077294707298279,-0.0281424168497324,-0.16857820749282837,-0.16524191200733185,-0.07491577416658401,-0.16847628355026245,-0.14615577459335327,-0.02536057122051716,-0.16154107451438904,-0.13522514700889587,-0.009355907328426838,-0.14504294097423553,-0.16359610855579376,-0.1630619317293167,0.7990614175796509,-0.039518412202596664,-0.16905301809310913,-0.1695830374956131,-0.16882170736789703,-0.1010274589061737,-0.16977925598621368,-0.12843945622444153,-0.1377401500940323,-0.07111722975969315,0.015345519408583641,-0.15407805144786835,-0.16322742402553558,-0.11669611930847168,-0.14787064492702484,-0.06352843344211578,-0.04056692495942116,-0.14901942014694214,-0.06905164569616318,-0.06001842021942139,-0.11701690405607224,-0.1643451601266861,-0.06423631310462952,-0.1575804501771927,-0.1084880605340004,-0.1326110064983368,0.04563076049089432,-0.16563831269741058,0.1965603083372116,-0.17003652453422546,-0.15980707108974457,-0.157646045088768,-0.12931446731090546,-0.1696871966123581,-0.03289631009101868,-0.10780908912420273,-0.1621623933315277,-0.10624905675649643,-0.05329164117574692,0.04462898522615433,0.2770857810974121,-0.035891640931367874,-0.12022233009338379,-0.12946490943431854,-0.09461493045091629,-0.11573324352502823,0.4628585875034332,-0.11172470450401306,0.17358805239200592,-0.13471288979053497,-0.021113459020853043,-0.15891669690608978,-0.027783464640378952,-0.05166258290410042,0.573866605758667,-0.13839471340179443,0.025356821715831757,-0.16092558205127716,-0.16984665393829346,-0.1461106389760971,0.31526312232017517,-0.05676950514316559,-0.13918109238147736,-0.08653341233730316,-0.1652979999780655,-0.05349927395582199,-0.16623170673847198,-0.13347020745277405,-0.16854998469352722,-0.152968168258667,-0.16954068839550018,0.19757983088493347,-0.081365205347538,-0.06108156591653824,0.15643320977687836,0.31337234377861023,-0.15345604717731476,-0.044917382299900055,-0.13501860201358795,0.3212955594062805,-0.12327277660369873,-0.13730710744857788,-0.1544855833053589,-0.14231356978416443,-0.16932542622089386,0.22010438144207,0.3739197850227356,0.6481667160987854,-0.05563795194029808,-0.14379674196243286,-0.1700391173362732,-0.041912104934453964,-0.0498802475631237,-0.16456948220729828,0.46182647347450256,-0.14628343284130096,0.055776145309209824,-0.1649250090122223,-0.14219094812870026,-0.16837409138679504,0.013481773436069489,-0.0911724641919136,-0.16010595858097076,-0.06039486080408096,-0.14009545743465424,-0.09815393388271332,-0.11264961957931519,-0.14002658426761627,-0.08959810435771942,-0.1274847388267517,0.01940850540995598,-0.1694813221693039,-0.1696511209011078,-0.1468283236026764,-0.1673855036497116,-0.12076497077941895,-0.07543949782848358,-0.16949360072612762,-0.1399555653333664,-0.1641770750284195,-0.11078747361898422,-0.16964073479175568,-0.14078383147716522,-0.15705522894859314,-0.14465710520744324,-0.05539499595761299,-0.059326838701963425,-0.17004069685935974,-0.09753550589084625,0.03798043727874756,-0.0008943393477238715,-0.10312290489673615,-0.1486046016216278,-0.08180657774209976,-0.16821032762527466,-0.10128174722194672,-0.04268501326441765,-0.01020487304776907,-0.1455855369567871,-0.1616068333387375,-0.05131831765174866,0.3497968018054962,-0.062065646052360535,0.7055351734161377,-0.16975346207618713,-0.16938745975494385,-0.12893053889274597,0.4725015461444855,-0.03384200856089592,-0.051878053694963455,-0.16582800447940826,-0.15415529906749725,-0.13386939465999603,1.638905644416809,0.001717345672659576,0.38331204652786255,-0.05528494715690613,-0.16761469841003418,-0.16095784306526184,-0.05633373558521271,0.0890980064868927,-0.05680658295750618,-0.01873411424458027,-0.056505970656871796,-0.12794843316078186,-0.07009279727935791,-0.13066492974758148,-0.16984161734580994,-0.16977663338184357,0.01739654690027237,-0.0979960635304451,-0.09198711067438126,-0.16508449614048004,0.43638989329338074,-0.16809435188770294,0.027246996760368347,-0.16988588869571686,-0.011810173280537128,-0.16779056191444397,0.09107432514429092,-0.06390083581209183,-0.11124197393655777,-0.13263460993766785,-0.16827607154846191,-0.06904777139425278,-0.15040448307991028,-0.08010680228471756,0.05189112201333046,-0.09518009424209595,-0.13221342861652374,-0.10397089272737503,-0.12562957406044006,-0.1665881872177124,-0.16273285448551178,-0.04681778699159622,-0.16868051886558533,-0.1699335277080536,-0.08872686326503754,-0.14844118058681488,-0.002433535410091281,-0.16440413892269135,-0.09672632813453674,-0.15871411561965942,-0.14702002704143524,-0.06557829678058624,0.27211421728134155,0.16492529213428497,0.02140742726624012,-0.14695602655410767,0.1428435891866684,0.04952779784798622,-0.08805151283740997,-0.1077195554971695,-0.02158728428184986,3.0469934940338135,0.34018439054489136,-0.04601695388555527,-0.03334154561161995,-0.15107648074626923,-0.04028404504060745,-0.1688331514596939,-0.13145634531974792,-0.06612368673086166,-0.07300779223442078,-0.027994023635983467,-0.15081366896629333,-0.099032923579216,1.2604426145553589,-0.06997057795524597,0.3217327892780304,-0.143385112285614,0.36061400175094604,-0.162675678730011,-0.1650828868150711,-0.13672438263893127,-0.15871687233448029,1.0407369136810303,0.008275999687612057,-0.17003612220287323,-0.07747136056423187,-0.11146089434623718,-0.1452195793390274,0.6612756252288818,-0.034936826676130295,-0.14651921391487122,-0.16810664534568787,-0.14525389671325684,-0.16794686019420624,0.19385534524917603,0.9383129477500916,-0.1519535481929779,-0.16174769401550293,-0.16628935933113098,-0.16823658347129822,-0.13111461699008942,-0.05032247677445412,-0.16953693330287933,-0.1466444730758667,1.0832206010818481,-0.08106670528650284,-0.020825888961553574,-0.16767030954360962,-0.052895642817020416,-0.08474581688642502,-0.09672901034355164,-0.1377132087945938,-0.04997025430202484,-0.1210811510682106,-0.14763794839382172,-0.09189770370721817,-0.11398005485534668,-0.12548302114009857,-0.16984431445598602,-0.12371739745140076,-0.1679081916809082,-0.16906477510929108,-0.14653156697750092,-0.14861904084682465,-0.1560395509004593,0.16262668371200562,-0.16237229108810425,-0.16998498141765594,-0.1690814346075058,-0.027273133397102356,-0.16324082016944885,-0.1061568334698677,0.07766955345869064,0.015127137303352356,0.14972491562366486,-0.15689700841903687,0.08995223790407181,-0.15324866771697998,-0.164226695895195,0.09589770436286926,-0.020272772759199142,-0.022545894607901573,-0.034654006361961365,0.5468519330024719,-0.0979653000831604,-0.1437905877828598,-0.08968891948461533,-0.16003581881523132,-0.1547711044549942,-0.15960928797721863,-0.08308208733797073,-0.10801232606172562,-0.1162353977560997,-0.15406987071037292,-0.13170954585075378,-0.09343467652797699,-0.1657317876815796,-0.10829328745603561,-0.06987618654966354,1.113638162612915,2.7188522815704346,0.001331194769591093,-0.15578149259090424,-0.1071729063987732,-0.05008846893906593,-0.09531493484973907,-0.15877383947372437,-0.15889787673950195,-0.1367836445569992,-0.13659851253032684,-0.05698692426085472,-0.16594526171684265,-0.08426852524280548,0.3494361639022827,0.6159523725509644,-0.10533518344163895,-0.10729499906301498,-0.09328672289848328,0.1834612786769867,-0.13390591740608215,-0.14965589344501495,-0.14673346281051636,-0.11089964956045151,-0.037325531244277954,-0.043189506977796555,-0.09676292538642883,0.06479807198047638,-0.16557902097702026,-0.15288382768630981,-0.07648933678865433,-0.16598297655582428,-0.0998898595571518,-0.04195546358823776,1.3646125793457031,0.25386786460876465,-0.04254522547125816,-0.10862956196069717,-0.11311089992523193,0.2428775280714035,-0.09078094363212585,0.11225466430187225,-0.13119007647037506,-0.09848900884389877,-0.15006069839000702,-0.10324790328741074,-0.1573299616575241,-0.10021018981933594,-0.05104200169444084,0.5429244041442871,-0.06337224692106247,-0.04309540241956711,-0.1696397066116333,-0.12983419001102448,-0.04489849507808685,-0.14778916537761688,-0.05869239941239357,-0.1699424386024475,-0.10492207109928131,0.0328734926879406,0.3530002236366272,-0.15279775857925415,-0.08302854746580124,-0.0435049794614315,-0.16932816803455353,-0.06982327252626419,-0.1304430216550827,-0.15577131509780884,-0.16648584604263306,-0.1574620008468628,-0.16964788734912872,-0.16788437962532043,-0.06541049480438232,-0.1186477541923523,-0.07318412512540817,0.24908992648124695,0.29302769899368286,-0.0034181138034909964,-0.0756753608584404,-0.018548881635069847,-0.1684965342283249,-0.11333364993333817,-0.1499968022108078,-0.11199002712965012,-0.14476223289966583,-0.14735209941864014,-0.15710769593715668,-0.16867433488368988,-0.15415248274803162,-0.13838520646095276,-0.032753393054008484,-0.07968206703662872,-0.13505002856254578,-0.13327918946743011,0.7982061505317688,-0.1634111851453781,-0.14460408687591553,-0.01933712512254715,-0.0815664604306221,-0.1568092554807663,-0.14876209199428558,-0.14644479751586914,0.5254265666007996,-0.16995394229888916,4.01215124130249,-0.07349245995283127,-0.09770031273365021,-0.09261400252580643,-0.1347745954990387,-0.09754674136638641,-0.16126883029937744,-0.018123209476470947,-0.16465701162815094,-0.16868628561496735,-0.14356517791748047,-0.17000462114810944,-0.1353597790002823,-0.1322719156742096,-0.06743685901165009,-0.16967007517814636,-0.14180471003055573,-0.12695308029651642,0.09699384868144989,-0.16924434900283813,-0.1139427050948143,0.11364596337080002,0.49447211623191833,-0.16121162474155426,-0.13269956409931183,-0.04672230780124664,-0.04235183447599411,-0.1238994374871254,-0.16486021876335144,-0.11448796093463898,-0.15977336466312408,-0.0009125411743298173,-0.10017284750938416,-0.07065509259700775,-0.1077587828040123,-0.14450162649154663,-0.1477563977241516,-0.14674101769924164,-0.16785775125026703,-0.0639239177107811,-0.16260294616222382,-0.08746460825204849,-0.07924874871969223,-0.16962800920009613,-0.1366681307554245,-0.018838759511709213,0.13751348853111267,-0.17001605033874512,-0.10656336694955826,-0.1678408831357956,-0.09307790547609329,-0.13099578022956848,-0.009735722094774246,-0.0316426120698452,-0.1344556212425232,0.13218554854393005,-0.06811848282814026,-0.17001968622207642,-0.08982778340578079,-0.15122732520103455,-0.11820796877145767,-0.01969737373292446,0.1034804955124855,0.3972680866718292,-0.10029827058315277,-0.004274372942745686,-0.14194844663143158,-0.12574630975723267,-0.08304600417613983,-0.11864231526851654,-0.07000952959060669,-0.13930703699588776,-0.1699877679347992,-0.1681191325187683,-0.16379670798778534,-0.13014820218086243,-0.15739749372005463,-0.0796014741063118,-0.056457340717315674,0.014527888968586922,-0.1618497222661972,-0.15569978952407837,-0.11985110491514206,-0.17000065743923187,-0.07141546159982681,-0.15191753208637238,-0.12650565803050995,0.3384949564933777,-0.05906239151954651,0.1973571479320526,-0.14899350702762604,-0.1220465749502182,-0.16556678712368011,0.11738484352827072,-0.0982932448387146,-0.16834619641304016,-0.15402454137802124,0.3615233898162842,-0.05447491258382797,-0.1542518138885498,-0.14085765182971954,0.24455296993255615,-0.13955636322498322,-0.050849657505750656,-0.14883485436439514,-0.04386409372091293,-0.02657548151910305,-0.06539078801870346,-0.15764926373958588,0.17389699816703796,-0.08781329542398453,-0.0829438641667366,0.5533178448677063,-0.1700097620487213,-0.07563558220863342,-0.06987236440181732,-0.06550948321819305,-0.07148998230695724,-0.028223836794495583,-0.16345392167568207,-0.08404918015003204,0.05229174345731735,-0.11349711567163467,-0.13222062587738037,-0.06853730231523514,0.029371026903390884,0.07178056985139847,0.014583920128643513,-0.16873693466186523,-0.1695173680782318,-0.1282602846622467,-0.12281420826911926,-0.14570365846157074,-0.16273431479930878,-0.1664930135011673,-0.16921985149383545,-0.15010519325733185,-0.02672019600868225,-0.15303869545459747,-0.16664175689220428,-0.13777968287467957,-0.16783209145069122,-0.040406785905361176,0.1506141871213913,-0.1499672681093216,-0.007081506308168173,0.15479812026023865,-0.12280163168907166,-0.08181831985712051,-0.10614202916622162,-0.13358455896377563,-0.08487752079963684,-0.018430069088935852,-0.17003723978996277,-0.16675391793251038,0.6123865842819214,-0.07890067249536514,-0.14596740901470184,-0.15387378633022308,0.6751561164855957,-0.13666510581970215,-0.16482631862163544,-0.08898962289094925,-0.0077940234914422035,0.10145994275808334,-0.06322741508483887,-0.12465114146471024,-0.14298298954963684,-0.07451053708791733,-0.014362020418047905,-0.1676735281944275,-0.1058545932173729,-0.11020965874195099,-0.021212514489889145,-0.06909459084272385,-0.1435914933681488,-0.1257484406232834,0.46349719166755676,-0.17003333568572998,0.6124522089958191,0.9972705841064453,-0.14751292765140533,-0.08913451433181763,-0.1164708286523819,-0.1693253219127655,-0.04367285594344139,-0.031826868653297424,-0.15921005606651306,-0.14371798932552338,-0.16888698935508728,-0.030403511598706245,-0.08170951902866364,-0.1376524120569229,-0.1665986180305481,0.10943242162466049,-0.12215553969144821,-0.10783591866493225,-0.15268681943416595,-0.1691337525844574,0.3840918242931366,-0.1663399040699005,-0.1418967992067337,-0.15581904351711273,-0.041820600628852844,-0.020729506388306618,-0.16760873794555664,-0.04374689236283302,-0.1639523059129715,-0.0918438732624054,0.09046023339033127,-0.1446821540594101,-0.10917217284440994,-0.07567289471626282,0.02031092718243599,-0.13523893058300018,-0.10416451841592789,-0.07102885842323303,-0.13066503405570984,-0.15256981551647186,-0.07519697397947311,1.382456660270691,-0.12904466688632965,-0.1069590151309967,-0.0767095610499382,-0.16689316928386688,-0.10350239276885986,-0.10845604538917542,-0.04174119234085083,-0.13336700201034546,-0.10153114050626755,-0.16400077939033508,-0.1679604947566986,-0.1604321151971817,0.047415297478437424,-0.0400414913892746,0.03959029167890549,-0.14426755905151367,-0.003012754488736391,-0.09586352854967117,-0.0921328216791153,-0.1520497351884842,0.9733083248138428,-0.1204058825969696,0.311562180519104,0.9220611453056335,-0.16269832849502563,-0.16514955461025238,-0.16392283141613007,-0.09151443839073181,-0.1601131111383438,-0.15810392796993256,0.0145036606118083,-0.12980884313583374,0.051764123141765594,-0.15354691445827484,-0.008696828968822956,1.108039140701294,-0.06511528044939041,-0.16877955198287964,-0.15525966882705688,-0.045487966388463974,-0.16908025741577148,-0.07176605612039566,0.08369489014148712,-0.0788615420460701,-0.16993792355060577,0.029383553192019463,-0.1430128812789917,-0.14507199823856354,0.49501100182533264,-0.15426403284072876,0.3964768648147583,-0.12151707708835602,-0.13140924274921417,-0.0899578258395195,-0.07917457818984985,-0.11637886613607407,-0.08921785652637482,-0.03804391995072365,-0.1255786120891571,-0.1506880521774292,-0.15073533356189728,-0.09121277183294296,-0.14858001470565796,-0.16162246465682983,-0.0989372655749321,-0.1700233519077301,-0.03953098505735397,-0.1396009922027588,-0.14599637687206268,0.22221185266971588,0.0015133481938391924,-0.03452131524682045,-0.06689657270908356,0.5919103026390076,-0.09103944152593613,-0.05338692665100098,-0.082456573843956,-0.047738831490278244,0.2563917934894562,-0.10521690547466278,-0.1021706610918045,-0.16591988503932953,0.6485841274261475,-0.16979868710041046,-0.15273195505142212,0.013184468261897564,-0.13851642608642578,-0.09108714014291763,-0.1664579063653946,-0.1420535445213318,-0.1364189088344574,-0.07479265332221985,-0.16482363641262054,0.5401727557182312,-0.10669136047363281,-0.1418883055448532,-0.15378734469413757,-0.040256962180137634,-0.1424139440059662,-0.05333177372813225,-0.036405351012945175,-0.15775100886821747,-0.16830651462078094,-0.047938212752342224,-0.04737395793199539,-0.08739002048969269,-0.024842608720064163,-0.04096979275345802,-0.16977953910827637,0.6078203320503235,-0.12099335342645645,-0.15620273351669312,-0.1279585212469101,0.2859300673007965,-0.1343591809272766,-0.16897904872894287,-0.07587362825870514,-0.14951471984386444,-0.1613958179950714,-0.16372397541999817,-0.019452860578894615,0.4047119617462158,-0.13794109225273132,-0.11668965220451355,-0.1276351660490036,0.14706209301948547,-0.041001297533512115,-0.15800872445106506,0.1499657928943634,0.21769466996192932,-0.08219492435455322,-0.1546669900417328,-0.05984984338283539,-0.16898466646671295,-0.15609003603458405,-0.09554776549339294,-0.14684568345546722,-0.12748906016349792,0.03222405165433884,-0.07570843398571014,-0.1148429811000824,0.047223709523677826,-0.16330291330814362,-0.032250553369522095,-0.16921836137771606,-0.1657666712999344,-0.1306365430355072,-0.07204348593950272,-0.17002394795417786,-0.1695096492767334,-0.0804821029305458,-0.13164381682872772,-0.04223668575286865,-0.168311208486557,-0.10262943804264069,-0.08262071013450623,-0.13791301846504211,-0.1659325808286667,-0.10364647209644318,-0.15254974365234375,-0.16134053468704224,-0.09029398113489151,-0.09087885171175003,-0.1684183031320572,0.03873053938150406,-0.14445535838603973,-0.03356913477182388,-0.16691991686820984,-0.13845974206924438,-0.16826480627059937,-0.12579452991485596,1.0058759450912476,-0.1699388027191162,-0.05096759274601936,-0.1476534605026245,1.0795369148254395,-0.0005755857564508915,-0.14653664827346802,0.4860045611858368,-0.10756432265043259,-0.04074966907501221,0.08257687836885452,-0.0862739235162735,-0.15684708952903748,0.10375282913446426,-0.16562005877494812,-0.10807264596223831,-0.15036678314208984,-0.03597528859972954,-0.10228259116411209,-0.1585073322057724,-0.1274203062057495,-0.16819602251052856,-0.17001788318157196,-0.11773674935102463,0.3395630717277527,-0.0825197622179985,0.28242188692092896,-0.1513574868440628,-0.05901409313082695,-0.020233824849128723,-0.11328187584877014,-0.12180940806865692,0.34095871448516846,-0.1692742556333542,-0.16742129623889923,0.0022581543307751417,-0.13080744445323944,0.023229673504829407,-0.04733986034989357,-0.02255408465862274,0.4348908066749573,-0.08913540840148926,-0.03575776517391205,-0.16746832430362701,-0.16438554227352142,-0.14692322909832,-0.07938701659440994,-0.05331534892320633,-0.05560363084077835,-0.16691243648529053,-0.14776717126369476,-0.0408339761197567,-0.13210700452327728,-0.10832589119672775,0.3920018672943115,-0.07423752546310425,-0.16067911684513092,-0.14176160097122192,-0.16902101039886475,-0.09519907832145691,-0.13370557129383087,-0.09035129845142365,-0.1654449999332428,-0.07401168346405029,-0.06427896022796631,-0.09707362204790115,-0.16658174991607666,-0.1588076800107956,-0.1667690873146057,-0.17002110183238983,0.05489998310804367,-0.1248793825507164,-0.1698458045721054,0.03452054783701897,-0.16925181448459625,-0.14286668598651886,-0.16532644629478455,-0.1627437025308609,-0.12748335301876068,-0.12743878364562988,-0.16398632526397705,-0.08007866144180298,-0.13157129287719727,0.14156873524188995,-0.14576156437397003,-0.01187936868518591,-0.15976306796073914,-0.1569843590259552,0.007942067459225655,-0.07352093607187271,-0.008525365963578224,-0.11027786880731583,-0.020255981013178825,-0.13026174902915955,-0.16728554666042328,-0.0625295415520668,-0.003854648442938924,-0.1665479689836502,-0.09324951469898224,-0.07408558577299118,-0.06661370396614075,0.9215005040168762,-0.15944713354110718,-0.007438862230628729,-0.15662559866905212,-0.16042569279670715,-0.13861486315727234,-0.13685888051986694,-0.07276540994644165,-0.16726543009281158,-0.16273421049118042,-0.15257877111434937,-0.08604177087545395,0.010473780333995819,-0.13275979459285736,-0.15057982504367828,-0.13960634171962738,-0.16773587465286255,0.06806887686252594,-0.12756884098052979,-0.00935428962111473,-0.09766844660043716,-0.16990089416503906,-0.1565198302268982,-0.14269202947616577,1.0354501008987427,0.20393602550029755,-0.15596848726272583,0.49646568298339844,-0.07079459726810455,-0.15529745817184448,-0.11139177531003952,-0.12918852269649506,-0.057711243629455566,-0.030491609126329422,-0.15678049623966217,-0.1005508229136467,-0.15497325360774994,-0.10348764806985855,-0.17002098262310028,-0.1504962146282196,-0.12773697078227997,-0.05965656787157059,-0.03433425351977348,-0.15441569685935974,-0.0671103298664093,-0.060416724532842636,-0.14849403500556946,-0.10935855656862259,-0.13882607221603394,-0.04954712465405464,-0.11215649545192719,-0.13756176829338074,-0.1663951873779297,-0.1609664261341095,-0.09630513936281204,-0.1697593629360199,-0.15205663442611694,-0.16843558847904205,-0.08123905211687088,-0.14540942013263702,0.2950567901134491,-0.09424378722906113,-0.11277596652507782,-0.11792408674955368,0.26134511828422546,-0.0453416183590889,-0.12181933969259262,-0.07279883325099945,-0.15829585492610931,-0.04294132441282272,-0.0679546371102333,-0.13737192749977112,-0.16996483504772186,-0.1679416000843048,-0.1157485842704773,0.979303777217865,-0.16379159688949585,-0.021559186279773712,-0.16924890875816345,-0.16370315849781036,-0.11811840534210205,-0.04846540465950966,-0.005482237786054611,-0.13821230828762054,-0.05808056890964508,-0.16052548587322235,0.02071603573858738,-0.1666368991136551,-0.05597503483295441,-0.1307729184627533,-0.019815821200609207,-0.14163891971111298,0.053547702729701996,0.013735190033912659,0.12830659747123718,-0.16961346566677094,0.10909012705087662,-0.09963399171829224,-0.1700388789176941,-0.028371281921863556,-0.12682202458381653,-0.08103524148464203,-0.1315561681985855,0.08028478175401688,-0.1683259755373001,-0.1653922200202942,0.18420231342315674,-0.02887057326734066,-0.13943973183631897,0.933807909488678,0.6583378911018372,-0.009905010461807251,-0.09072242677211761,0.5705927610397339,-0.11039929836988449,0.757222056388855,-0.16451279819011688,-0.0628955140709877,-0.1672409176826477,-0.16699375212192535,-0.04139922559261322,-0.1584877371788025,-0.16726011037826538,-0.0022724936716258526,-0.1692105084657669,1.9744421243667603,-0.16689567267894745,-0.055520735681056976,-0.13876403868198395,-0.02755184844136238,-0.1598852276802063,-0.1498958021402359,-0.007471676915884018,0.19408459961414337,-0.07240761071443558,-0.09996963292360306,-0.1316017359495163,-0.13294625282287598,-0.11738352477550507,1.0142792463302612,0.11536751687526703,-0.14456285536289215,-0.0644540935754776,-0.16811466217041016,-0.14669407904148102,-0.14258691668510437,-0.1500423103570938,-0.13240645825862885,-0.1598781943321228,-0.16952313482761383,0.05867306888103485,-0.026627857238054276,-0.13812091946601868,-0.037133947014808655,-0.0191725492477417,-0.10149428993463516,-0.10212305933237076,-0.07549028843641281,0.020113950595259666,0.41842350363731384,-0.05237686261534691,-0.1349540650844574,-0.13964587450027466,-0.038628432899713516,-0.16268044710159302,-0.16975289583206177,-0.09089859575033188,-0.1167609915137291,-0.16642719507217407,-0.03339115157723427,-0.1693766713142395,-0.16716589033603668,-0.11618726700544357,-0.1440494954586029,0.09569201618432999,0.12757806479930878,-0.10284464806318283,-0.16812387108802795,-0.12695449590682983,-0.1682763695716858,-0.15762625634670258,-0.10597505420446396,0.3791848421096802,-0.1691344529390335,-0.11596028506755829,-0.01998194120824337,-0.16104325652122498,-0.15195871889591217,0.07888913154602051,-0.04487442225217819,-0.153784841299057,-0.1446014940738678,-0.16947098076343536,-0.14613431692123413,-0.1486617624759674,0.009819735772907734,-0.10814400017261505,-0.11540519446134567,-0.02886437252163887,-0.10600414872169495,-0.11048676818609238,-0.09143592417240143,0.13910381495952606,-0.14975395798683167,0.08383479714393616,-0.06176792457699776,-0.16057904064655304,-0.006854027975350618,-0.07847858965396881,0.5061955451965332,-0.16715110838413239,-0.15012085437774658,-0.14668186008930206,-0.16999827325344086,0.22359034419059753,-0.10066568106412888,-0.09557061642408371,0.19951218366622925,1.4436861276626587,-0.028324346989393234,-0.115145742893219,-0.14728930592536926,-0.16598397493362427,-0.1700400859117508,-0.15817226469516754,0.03448164835572243,-0.12870380282402039,-0.16998741030693054,-0.15193651616573334,-0.15308266878128052,-0.1533839851617813,-0.15699970722198486,1.0535004138946533,0.13361726701259613,-0.1157299056649208,-0.14552201330661774,-0.14830955862998962,-0.1312924027442932,-0.17002272605895996,-0.10273286700248718,-0.1504499316215515,-0.1131872683763504,-0.053111426532268524,-0.16430212557315826,-0.10775476694107056,-0.1397218108177185,-0.16721074283123016,-0.16636966168880463,-0.15480025112628937,-0.1169365793466568,-0.05862165242433548,-0.041323695331811905,-0.15177933871746063,-0.024463733658194542,-0.0979003980755806,-0.04365656524896622,-0.1521756798028946,-0.1262122392654419,-0.16711416840553284,-0.02610875479876995,-0.13906534016132355,-0.05581070855259895,-0.1614919900894165,-0.1303173452615738,-0.12929898500442505,-0.11948160827159882,-0.02479771338403225,-0.08401458710432053,-0.10011185705661774,-0.09689370542764664,-0.005322824232280254,-0.01724320277571678,0.12745516002178192,-0.09805167466402054,-0.03656035661697388,-0.15078331530094147,-0.16901634633541107,-0.16302980482578278,-0.16906802356243134,-0.16082262992858887,0.3121560513973236,-0.03745304420590401,-0.15307088196277618,-0.1621282547712326,-0.12115535140037537,-0.1700388342142105,-0.1485680639743805,-0.004322750028222799,-0.16966675221920013,-0.15531085431575775,-0.16549105942249298,-0.1088404580950737,-0.06652531772851944,-0.15134741365909576,-0.150311678647995,-0.12176569551229477,-0.0901980921626091,-0.03856896981596947,-0.1298210620880127,-0.1695912927389145,-0.1551826149225235,-0.1695219874382019,-0.16019800305366516,-0.010640767402946949,-0.15214158594608307,-0.1291431337594986,-0.07983794063329697,-0.10432037711143494,-0.15778188407421112,-0.14951758086681366,0.18543775379657745,0.07623440027236938,-0.14558623731136322,-0.14366605877876282,-0.06252934038639069,-0.10466010868549347,0.06390205025672913,-0.02016841247677803,-0.09297661483287811,-0.16083809733390808,-0.10952509939670563,-0.16201528906822205,-0.16986364126205444,-0.1466272622346878,-0.11285588145256042,0.21593335270881653,-0.1700086146593094,-0.07158338278532028,-0.06579861044883728,-0.1563287228345871,-0.10433636605739594,-0.16811582446098328,-0.11153292655944824,0.6737264394760132,0.7236494421958923,-0.1665237545967102,-0.031045593321323395,-0.1301550269126892,0.673803985118866,-0.026255128905177116,-0.1697271317243576,-0.16323494911193848,-0.14489871263504028,-0.1682119220495224,-0.1311424970626831,-0.060937926173210144,-0.06354109942913055,0.7414618134498596,-0.12998050451278687,-0.046965137124061584,-0.1578705757856369,-0.052129678428173065,-0.05642181262373924,-0.13515564799308777,-0.14913105964660645,-0.03118426725268364,-0.05677421763539314,-0.09697290509939194,-0.16694892942905426,-0.1644182652235031,-0.13241447508335114,0.18896269798278809,0.13610483705997467,-0.1604069024324417,-0.1505880504846573,-0.16771294176578522,-0.15732485055923462,-0.12470576167106628,-0.13477715849876404,-0.0631556361913681,-0.1367529034614563,-0.1544785350561142,0.5392705202102661,-0.16255973279476166,-0.16305933892726898,0.3461553752422333,-0.1573040783405304,-0.14980460703372955,-0.10023181885480881,-0.07605906575918198,-0.16703490912914276,0.1670985221862793,0.1441342532634735,-0.06779149919748306,-0.16929809749126434,-0.16972342133522034,-0.0257207490503788,-0.1025213897228241,-0.16532151401042938,0.08116550743579865,-0.167840838432312,-0.16956497728824615,-0.013679965399205685,-0.0852617472410202,-0.16466261446475983,-0.09094267338514328,-0.11019214242696762,-0.022880475968122482,-0.06082640960812569,-0.16814520955085754,-0.074439637362957,-0.07146258652210236,-0.14942169189453125,-0.16740496456623077,0.597747802734375,-0.17000901699066162,-0.137240469455719,-0.13688775897026062,0.02596496045589447,-0.04960871487855911,-0.12041137367486954,-0.0445997528731823,-0.0066482448019087315,-0.16288058459758759,-0.10613266378641129,-0.1680769920349121,-0.16886113584041595,-0.12003450095653534,-0.1469731479883194,-0.1607639640569687,-0.16822896897792816,-0.06531848758459091,-0.16983675956726074,-0.1673639714717865,-0.13661950826644897,-0.13792656362056732,-0.16593095660209656,-0.13507652282714844,-0.12982143461704254,-0.12612594664096832,-0.1557907611131668,-0.13608381152153015,-0.14024938642978668,-0.11239249259233475,0.0642290860414505,-0.16834652423858643,0.08788330852985382,-0.072015680372715,-0.1072106584906578,-0.14000317454338074,0.6960155963897705,-0.1389620453119278,-0.08930360525846481,-0.13516166806221008,-0.15506134927272797,0.05972040072083473,-0.0,-0.1265009194612503,-0.16551882028579712,-0.12718050181865692,0.08100900053977966,0.9191732406616211,-0.16199953854084015,-0.1533980667591095,-0.1280723363161087,-0.16822361946105957,0.12112613767385483,-0.1666368693113327,-0.10232165455818176,-0.1004364863038063,-0.006711157970130444,0.09473191946744919,-0.16663961112499237,-0.10758933424949646,-0.037344060838222504,-0.12446345388889313,-0.08801165968179703,-0.03625897318124771,-0.13720956444740295,-0.06828336417675018,-0.11073703318834305,-0.06485807150602341,-0.14133359491825104,-0.11362525820732117,-0.027813680469989777,-0.16944308578968048,-0.118535116314888,-0.08318795263767242,-0.11757660657167435,-0.1698169708251953,-0.1635732650756836,-0.09681699424982071,-0.1451590210199356,-0.126822829246521,0.2626902461051941,-0.08969330042600632,-0.1446177363395691,-0.12069947272539139,-0.16827702522277832,-0.16830457746982574,-0.15006792545318604,-0.11058775335550308,0.07525855302810669,-0.11610173434019089,-0.007871389389038086,-0.13178227841854095,-0.14513395726680756,-0.148448646068573,-0.05166299268603325,-0.03598431125283241,-0.1571904420852661,0.1860247701406479,0.10287243127822876,0.48078176379203796,-0.034100282937288284,-0.1675049215555191,-0.16888302564620972,0.11711746454238892,-0.14109520614147186,-0.10145476460456848,-0.09580418467521667,-0.10621730983257294,-9.100151510210708e-05,-0.10694929957389832,-0.15697123110294342,-0.02892361208796501,-0.16592741012573242,-0.1376415491104126,0.3613419234752655,-0.1609906703233719,0.7089739441871643,-0.16612696647644043,-0.16568252444267273,-0.11781029403209686,-0.07826857268810272,-0.10932363569736481,-0.16038484871387482,0.09464999288320541,-0.09492850303649902,-0.15222817659378052,0.30275827646255493,-0.14828616380691528,-0.16285131871700287,0.09083709120750427,-0.06022726371884346,0.6773222088813782,-0.1699315756559372,-0.029698561877012253,-0.15372304618358612,-0.0804840698838234,-0.07747437804937363,-0.13537725806236267,-0.1501942276954651,-0.16876478493213654,-0.15313126146793365,-0.1518217921257019,-0.15755952894687653,-0.16982336342334747,-0.15982051193714142,0.003098338609561324,0.2581547796726227,-0.15324723720550537,-0.11458220332860947,-0.0007248679175972939,-0.14775018393993378,-0.1642671525478363,-0.16822007298469543,-0.1438152939081192,-0.16827821731567383,-0.14315100014209747,-0.10827226936817169,-0.12388742715120316,-0.12182021141052246,0.21633461117744446,-0.16849637031555176,-0.05409954488277435,-0.14876385033130646,-0.15556247532367706,-0.16920645534992218,-0.11077747493982315,0.3831923305988312,-0.10791231691837311,-0.020104452967643738,0.13591432571411133,-0.1590520292520523,0.21797512471675873,-0.12606260180473328,-0.1508646309375763,-0.1436671018600464,-0.10075877606868744,-0.058565977960824966,-0.16936367750167847,-0.16663365066051483,-0.1683497279882431,-0.1692962795495987,-0.16115057468414307,-0.08105530589818954,-0.10941164195537567,-0.04708127677440643,-0.04156684875488281,-0.14703503251075745,-0.16336271166801453,-0.08659879118204117,0.31718817353248596,-0.10573229938745499,-0.14658904075622559,-0.1168891116976738,-0.06927777081727982,-0.16968756914138794,-0.1282224953174591,-0.05150417238473892,-0.15851619839668274,-0.15859220921993256,-0.01908685453236103,-0.15973076224327087,-0.1301506906747818,-0.15232786536216736,-0.13827410340309143,-0.1274070143699646,-0.06851726770401001,-0.15394172072410583,-0.019553516060113907,-0.16155606508255005,-0.12373145669698715,0.7160919308662415,-0.0685885027050972,-0.15261757373809814,0.10098244994878769,1.2636134624481201,-0.01011841930449009,-0.10291106253862381,-0.09862381219863892,-0.11852665990591049,-0.12859246134757996,-0.0690954402089119,-0.16733093559741974,-0.07975634187459946,-0.1492914855480194,-0.008381858468055725,-0.13579165935516357,-0.16761262714862823,-0.1650444120168686,-0.08121716231107712,-0.16982775926589966,0.2709622085094452,0.1474798619747162,-0.015587381087243557,-0.06166997179389,-0.16691642999649048,-0.0031820170115679502,-0.03790748491883278,-0.06793809682130814,-0.11136119812726974,-0.17003144323825836,-0.16978132724761963,-5.796142090730427e-07,0.04064558073878288,0.26442596316337585,-0.15504346787929535,-0.019384179264307022,-0.16987645626068115,-0.16955147683620453,-0.12880949676036835,-0.16743899881839752,-0.15340156853199005,-0.05537918582558632,-0.16589520871639252,-0.15605680644512177,-0.06652072072029114,-0.006014686543494463,-0.16650551557540894,-0.14223875105381012,-0.014898073859512806,-0.08235818892717361,-0.07673361152410507,0.14060992002487183,-0.15516458451747894,-0.16209882497787476,-0.13469834625720978,-0.15792331099510193,-0.1631070375442505,-0.16947485506534576,-0.10052165389060974,-0.08497947454452515,-0.13790906965732574,-0.12336070835590363,-0.15541669726371765,-0.06902406364679337,-0.16597840189933777,0.14366082847118378,-0.07528189569711685,-0.030842073261737823,-0.16955186426639557,-0.06874584406614304,-0.12750019133090973,-0.02297280728816986,-0.1062268540263176,-0.14027708768844604,-0.15460209548473358,-0.16681988537311554,-0.005772890988737345,0.3493637144565582,-0.17004071176052094,-0.15914858877658844,0.175653338432312,-0.05411325767636299,-0.09620031714439392,-0.09646642208099365,-0.1432320773601532,-0.12415910512208939,0.5792139768600464,-0.1694851964712143,-0.16935700178146362,-0.16842125356197357,-0.10328476130962372,-0.0932195857167244,-0.0753655806183815,-0.05666295066475868,-0.06522049009799957,-0.1660642921924591,-0.15090982615947723,-0.15744778513908386,-0.1699288934469223,2.861706256866455,0.39410439133644104,-0.1652376502752304,-0.16867797076702118,-0.16991066932678223,0.05538356676697731,-0.04457324743270874,-0.15113723278045654,-0.14487431943416595,-0.15647660195827484,-0.06771329790353775,-0.15063302218914032,-0.11018111556768417,2.7797658443450928,-0.09486899524927139,-0.11648896336555481,-0.13679464161396027,-0.13143040239810944,0.42528873682022095,-0.1672535091638565,-0.05857211723923683,0.08982756733894348,0.06535041332244873,-0.023092906922101974,-0.03473709151148796,-0.11557906866073608,0.2673656642436981,-0.0697738379240036,-0.15863166749477386,-0.13972535729408264,-0.11886622756719589,-0.03167789801955223,0.009589074179530144,-0.16969995200634003,-0.13669368624687195,-0.16873493790626526,-0.16319359838962555,-0.02756485901772976,-0.14790402352809906,-0.0922166258096695,0.35014498233795166,-0.14245587587356567,-0.008412747643887997,-0.08123236894607544,-0.14133574068546295,0.05282529816031456,0.5676365494728088,-0.15180331468582153,-0.06146329268813133,-0.16190467774868011,-0.1698007434606552,-0.16812312602996826,-0.055612947791814804,-0.07723008841276169,-0.16230399906635284,0.4348428249359131,-0.16997000575065613,0.29297393560409546,-0.1540975570678711,-0.15877631306648254,-0.09554029256105423,-0.10428626835346222,-0.16934414207935333,2.083765745162964,-0.0030655895825475454,-0.1477900892496109,-0.17003317177295685,-0.0074974484741687775,-0.06503969430923462,-0.155314639210701,-0.11852046847343445,-0.11219222098588943,-0.16751191020011902],[-0.005861436948180199,-0.06778198480606079,-0.012737754732370377,-0.05484524369239807,-0.14742672443389893,0.11994721740484238,-0.1667008101940155,0.2078990638256073,-0.13554944097995758,-0.16990350186824799,-0.16971589624881744,-0.16971828043460846,-0.05901329964399338,-0.14802755415439606,-0.09746836125850677,-0.1555117517709732,-0.15642550587654114,-0.12539827823638916,0.1225784495472908,-0.1226404458284378,-0.15157976746559143,-0.03511076420545578,1.1891934871673584,-0.034321557730436325,-0.10418105870485306,-0.16070868074893951,-0.13653311133384705,-0.10226345807313919,0.03250446915626526,-0.16405116021633148,0.2036774754524231,0.25901588797569275,0.17976580560207367,-0.16929201781749725,-0.17003732919692993,-0.16830691695213318,-0.1695156842470169,0.24618728458881378,-0.11380922049283981,-0.09067948162555695,-0.16906365752220154,-0.16790170967578888,-0.16438797116279602,-0.1019890084862709,-0.022509945556521416,0.2887331247329712,-0.12722553312778473,0.21361607313156128,-0.17004069685935974,-0.02308620512485504,-0.14423128962516785,-0.169729545712471,-0.154112309217453,-0.04739246517419815,-0.020098906010389328,-0.14941327273845673,0.01670350320637226,-0.07689544558525085,-0.01595046930015087,-0.13922591507434845,-0.16417765617370605,-0.11896567791700363,-0.038788747042417526,0.03126560524106026,-0.1640077382326126,0.07495632022619247,0.0009220105712302029,-0.1639959216117859,-0.1683821976184845,-0.1596994698047638,-0.13329650461673737,-0.06677843630313873,-0.16501426696777344,-0.16434532403945923,-0.1473371982574463,-0.031708210706710815,-0.15841205418109894,-0.16953164339065552,-0.10946886241436005,-0.13405272364616394,-0.1695648729801178,-0.15273863077163696,-0.16894234716892242,0.06794445216655731,-0.15447674691677094,0.05393877625465393,-0.16988341510295868,-0.1190970167517662,-0.11023668944835663,-0.17004062235355377,0.33606579899787903,0.16945922374725342,-0.1252794712781906,-0.1698950231075287,-0.14993007481098175,-0.1499754637479782,-0.16977934539318085,-0.12922091782093048,-0.004739564843475819,-0.03692881017923355,0.4936447739601135,-0.15592731535434723,-0.14572790265083313,-0.1298162341117859,0.3428608775138855,0.05375954136252403,-0.11144604533910751,-0.1134602427482605,0.014292165637016296,-0.009004168212413788,-0.12655438482761383,-0.16820096969604492,-0.1313040554523468,-0.06045721471309662,-0.16705794632434845,-0.1554659754037857,-0.13419418036937714,-0.16540545225143433,-0.14494897425174713,-0.1666889488697052,-0.16987814009189606,-0.11472214758396149,-0.1570378839969635,-0.13605865836143494,-0.13108855485916138,-0.1436968296766281,-0.09919861704111099,0.018222741782665253,-0.14528891444206238,-0.1373760849237442,-0.03952730447053909,-0.040496647357940674,-0.1359204649925232,-0.08961629122495651,-0.10997001826763153,-0.11011786013841629,-0.1525949388742447,-0.13702131807804108,-0.1389627605676651,-0.04424289986491203,-0.15378309786319733,-0.13540469110012054,-0.16342215240001678,-0.0029491570312529802,-0.15650999546051025,0.1760326474905014,-0.1627865880727768,-0.16272734105587006,-0.09496628493070602,-0.03669581189751625,-0.022882668301463127,-0.159173846244812,0.6411035656929016,-0.13972240686416626,-0.16911637783050537,-0.1041184812784195,-0.09582704305648804,-0.16912201046943665,-0.16554954648017883,-0.138038769364357,0.13128085434436798,-0.03752360865473747,-0.1671227514743805,-0.16598449647426605,0.16385294497013092,0.009915702044963837,-0.1668737232685089,-0.007465100381523371,0.04913942515850067,-0.05116568133234978,-0.16947053372859955,-0.01216103509068489,-0.17004063725471497,-0.09564714878797531,0.012670711614191532,-0.14809714257717133,-0.08288343250751495,-0.15810929238796234,-0.16797466576099396,-0.10996536910533905,0.12094657123088837,-0.16814829409122467,-0.1634044200181961,-0.06934981793165207,-0.1675766110420227,-0.13966868817806244,0.40433913469314575,-0.09558097273111343,0.5142962336540222,-0.15685738623142242,0.6767340898513794,-0.08493339270353317,0.25826334953308105,0.856065034866333,-0.08584323525428772,0.21081335842609406,-0.16427789628505707,0.3069748878479004,-0.16974639892578125,-0.06656470149755478,-0.16393031179904938,-0.17003096640110016,-0.1549893170595169,-0.151681050658226,-0.16576708853244781,0.04947374016046524,-0.023730529472231865,-0.16173915565013885,-0.1673816442489624,-0.141499862074852,0.3613906502723694,-0.10966016352176666,0.5391851663589478,-0.04216589778661728,-0.1519280970096588,-0.03153357282280922,-0.08213446289300919,0.029187457635998726,-0.023908015340566635,-0.1364356428384781,-0.10329467058181763,-0.1697099208831787,0.5344555377960205,-0.06751338392496109,-0.15198516845703125,-0.16792403161525726,-0.011992174200713634,-0.009350563399493694,-0.04307543486356735,-0.1589229702949524,-0.042531829327344894,-0.1682397574186325,0.7571742534637451,-0.11302950978279114,-0.059352558106184006,-0.13660986721515656,0.027820754796266556,-0.1695023477077484,0.4377182424068451,-0.058004289865493774,0.2984810471534729,-0.1648240089416504,-0.1405358761548996,-0.16136296093463898,-0.15493366122245789,-0.08512800186872482,-0.12939691543579102,-0.12562662363052368,-0.1626955270767212,-0.15351587533950806,-0.14429862797260284,-0.11327052116394043,-0.1026368960738182,0.10537738353013992,-0.08780046552419662,-0.0020537644159048796,-0.16528715193271637,-0.15759609639644623,0.10244432836771011,-0.16628246009349823,-0.1626615971326828,-0.00924588367342949,-0.1443455070257187,-0.12078849226236343,-0.10283229500055313,-0.1696864366531372,-0.15375225245952606,0.5078092217445374,-0.09656497091054916,-0.16834644973278046,-0.0720692127943039,0.0053825885988771915,0.7074978351593018,-0.15465456247329712,-0.12159010767936707,-0.05364997684955597,-0.16965854167938232,-0.14245182275772095,-0.16254527866840363,0.04325075447559357,-0.13453257083892822,-0.0759788304567337,-0.07184649258852005,-0.17000389099121094,-0.16167502105236053,0.21150769293308258,0.4329932928085327,0.6095547676086426,-0.0954931452870369,-0.08710303157567978,-0.15610697865486145,-0.07412319630384445,-0.05860771983861923,0.22784622013568878,-0.001030822517350316,-0.17001745104789734,-0.1667410433292389,-0.10525661706924438,-0.014873386360704899,0.22558271884918213,-0.16962577402591705,-0.1698392778635025,0.10723865777254105,-0.10760273039340973,-0.16373459994792938,-0.1681492179632187,-0.1577841192483902,-0.1699826866388321,1.5456914901733398,-0.098965585231781,-0.1596217006444931,-0.14190673828125,-0.12036553025245667,0.2356845885515213,-0.03142891451716423,1.1754053831100464,-0.10980793088674545,0.06662818044424057,-0.08330056816339493,-0.011242926120758057,0.033327940851449966,0.08243929594755173,-0.12041354924440384,-0.1484825760126114,1.5474640130996704,-0.1661984771490097,-0.08802668750286102,0.6453666687011719,0.16862767934799194,-0.05056605488061905,-0.048043183982372284,-0.04035016521811485,-0.16976647078990936,0.11231092363595963,-0.14096865057945251,-0.12714317440986633,-0.155481219291687,-0.14730222523212433,0.6343622803688049,0.19513505697250366,0.35359036922454834,-0.15518124401569366,-0.0998830795288086,-0.13672596216201782,-0.16314394772052765,-0.15472087264060974,-0.06712903827428818,-0.16881293058395386,-0.11282239854335785,-0.1648493856191635,0.08088790625333786,-0.16897743940353394,0.014655009843409061,-0.1286201924085617,-0.15541797876358032,-0.12892033159732819,0.2109713852405548,-0.15840117633342743,0.5028114318847656,0.020490923896431923,-0.1365862935781479,-0.03781132400035858,-0.16752813756465912,-0.05876815319061279,-0.1304997354745865,-0.0752200037240982,-0.15883876383304596,-0.14123542606830597,-0.15718789398670197,-0.11239515990018845,-0.16977928578853607,-0.13701818883419037,-0.1675673872232437,-0.1214057058095932,-0.11512181907892227,-0.06192939728498459,-0.026138437911868095,-0.1680220514535904,-0.09148471802473068,1.9207093715667725,-0.009244320914149284,-0.12108846753835678,-0.13961072266101837,2.4457225799560547,0.9371941089630127,0.1832788586616516,-0.16919562220573425,-0.16997124254703522,-0.16978469491004944,-0.16864894330501556,-0.08814093470573425,-0.10212462395429611,-0.15474475920200348,-0.1613413244485855,-0.16482248902320862,-0.156927227973938,-0.16881577670574188,-0.08064418286085129,-0.14834339916706085,-0.041235558688640594,-0.07613024860620499,-0.1655772626399994,0.07289448380470276,0.6058196425437927,-0.09941112250089645,-0.14817282557487488,-0.13039247691631317,-0.05229963734745979,-0.14637485146522522,-0.14138367772102356,0.2585251033306122,-0.10235221683979034,-0.09860774129629135,-0.0968722477555275,-0.1277020126581192,-0.16938865184783936,0.010710010305047035,-0.13563545048236847,-0.018557224422693253,-0.1233372837305069,-0.028986522927880287,-0.12510569393634796,-0.1699904054403305,-0.14270181953907013,-0.16390708088874817,-0.049064189195632935,0.47357285022735596,-0.11251380294561386,-0.036830827593803406,-0.1475941687822342,0.015255482867360115,-0.14148837327957153,-0.0932755097746849,-0.14075788855552673,-0.16462746262550354,-0.15913860499858856,-0.08650415390729904,-0.15540868043899536,-0.14301617443561554,-0.161896213889122,0.3580976128578186,-0.07894716411828995,-0.11349280923604965,-0.136612668633461,0.06621506065130234,-0.1653779298067093,-0.07048109173774719,-0.15492388606071472,-0.16636161506175995,-0.11537782847881317,0.013173701241612434,-0.09004704654216766,0.5037479400634766,-0.12179077416658401,-0.10716144740581512,-0.15293557941913605,0.036833178251981735,-0.10410788655281067,-0.05563465878367424,-0.16694076359272003,-0.16987435519695282,-0.010896453633904457,-0.007797508500516415,0.06461754441261292,-0.008760064840316772,0.7668319344520569,-0.07281523942947388,-0.16633956134319305,-0.0727534070611,-0.0953231006860733,-0.000344349246006459,0.9297916889190674,-0.16262207925319672,-0.1427047997713089,-0.04746931418776512,0.03985020890831947,-0.14479687809944153,-0.09159238636493683,-0.16819292306900024,0.10148467123508453,-0.1361713707447052,-0.12143370509147644,-0.11196131259202957,-0.06857333332300186,-0.019576432183384895,-0.16849841177463531,-0.02972479537129402,-0.10657134652137756,1.9324289560317993,-0.00020063946431037039,-0.016300346702337265,-0.16669157147407532,-0.11426060646772385,0.28054681420326233,-0.16882552206516266,-0.0722692683339119,0.20985977351665497,-0.11620675027370453,-0.16178643703460693,-0.032282520085573196,-0.16468434035778046,-0.1628364622592926,-0.16938373446464539,-0.1679825335741043,1.861525058746338,-0.041043154895305634,-0.14796502888202667,-0.16209550201892853,-0.15871627628803253,-0.16755220293998718,-0.11315315961837769,-0.15996156632900238,-0.11544910073280334,-0.061969202011823654,0.34001508355140686,-0.14089515805244446,-0.15521693229675293,-0.1626642793416977,-0.1107335165143013,-0.15724730491638184,-0.0344136543571949,-0.16417349874973297,0.26124581694602966,-0.16901487112045288,-0.12039665132761002,0.08745672553777695,-0.04499906301498413,-0.16281729936599731,-0.1470908671617508,-0.16644448041915894,0.792763888835907,-0.0803249403834343,-0.032153356820344925,0.09632229059934616,1.2964036464691162,-0.13328120112419128,-0.16754885017871857,-0.10457441210746765,-0.004573971964418888,-0.03679109737277031,0.3232119083404541,-0.16731104254722595,-0.022633280605077744,-0.016192374750971794,-0.16821005940437317,-0.16479429602622986,-0.13528850674629211,0.40335655212402344,-0.055142078548669815,-0.12337155640125275,0.44787582755088806,-0.13476595282554626,-0.05939545854926109,-0.11562687158584595,0.17030704021453857,0.11126941442489624,-0.15964116156101227,-0.0783885270357132,-0.1136903464794159,-0.10595864802598953,-0.05072644352912903,-0.11133779585361481,-0.1549675166606903,-0.16520828008651733,-0.10230231285095215,-0.14212989807128906,-0.16313619911670685,-0.16584283113479614,-0.102169930934906,0.17132797837257385,-0.07356331497430801,0.34206801652908325,-0.15048848092556,0.11603868752717972,-0.09505530446767807,0.5989857912063599,-0.014502941630780697,-0.07489573955535889,-0.1391034573316574,-0.16886389255523682,-0.12124317139387131,-0.15838134288787842,-0.1284582018852234,-0.13099749386310577,-0.1700398325920105,-0.11051570624113083,-0.14866340160369873,-0.044034797698259354,-0.08611542731523514,0.12684394419193268,-0.07365015149116516,-0.07124371081590652,0.6212751269340515,-0.16087491810321808,-0.11277303844690323,-0.06781379878520966,0.07101130485534668,-0.09971190243959427,-0.0684332400560379,-0.15643560886383057,0.6350593566894531,-0.12321805953979492,-0.052492689341306686,0.1601191908121109,0.38879895210266113,-0.04297769442200661,-0.1604311168193817,-0.16779832541942596,-0.00861010979861021,-0.0,-0.024351688101887703,-0.002152153756469488,-0.06720955669879913,-0.1698206514120102,-0.14833329617977142,-0.016934629529714584,-0.10525212436914444,-0.16725413501262665,0.011285221204161644,-0.01943378336727619,-0.1662440001964569,-0.12874922156333923,1.2057530879974365,0.05334924906492233,-0.05595333129167557,-0.04645063355565071,-0.15510308742523193,-0.17004069685935974,-0.16778118908405304,-0.1483776569366455,0.8550083637237549,-0.14863909780979156,-0.013168134726583958,-0.09617368876934052,-0.04576083645224571,-0.006924318615347147,-0.16708089411258698,-0.01617712527513504,1.2266907691955566,-0.10404549539089203,0.3520905077457428,-0.15732800960540771,-0.05677331984043121,-0.15492014586925507,-0.15229304134845734,-0.15625883638858795,-0.12165429443120956,-0.15304803848266602,-0.09789066761732101,-0.13219048082828522,-0.13015860319137573,-0.1145700141787529,0.2480735331773758,0.7100767493247986,-0.14201155304908752,-0.16941100358963013,0.5176821351051331,-0.14351022243499756,-0.1635487973690033,0.1015082374215126,-0.030725659802556038,-0.16145803034305573,0.0770629346370697,-0.11073780059814453,-0.034182775765657425,-0.041774049401283264,-0.12296465039253235,-0.060581713914871216,-0.10572923719882965,0.4456483721733093,-0.08533899486064911,-0.14598649740219116,0.3444043695926666,-0.05820905417203903,0.37139543890953064,0.34148210287094116,-0.15595705807209015,-0.05616489797830582,-0.16581958532333374,-0.12850044667720795,-0.0760742798447609,-0.06877301633358002,-0.057766493409872055,-0.09500536322593689,-0.031244320794939995,-0.040140409022569656,-0.15460526943206787,0.4626248776912689,-0.13237275183200836,-0.16137409210205078,-0.16221167147159576,-0.12335707247257233,-0.1322941929101944,-0.14785517752170563,0.7041884064674377,-0.14777596294879913,-0.039107177406549454,-0.023576848208904266,-0.16997891664505005,-0.16165268421173096,-0.01919892430305481,1.6954313516616821,-0.01970572955906391,-0.04755312204360962,-0.16933321952819824,-0.15497800707817078,-0.10996944457292557,-0.16941365599632263,-0.16985607147216797,-0.14316219091415405,-0.1327316015958786,-0.14392365515232086,-0.13091154396533966,-0.13250742852687836,-0.13088183104991913,0.15428394079208374,-0.15777909755706787,-0.14448966085910797,-0.1695864200592041,-0.14324654638767242,-0.029527824372053146,-0.0005732369027100503,-0.10804202407598495,-0.16978254914283752,-0.09492798894643784,-0.1697462797164917,-0.13931186497211456,0.46407732367515564,-0.14528577029705048,-0.08955252915620804,-0.040991850197315216,-0.0028189977165311575,-0.08206363022327423,-0.14493073523044586,-0.0292656347155571,-0.16318804025650024,-0.11124712228775024,-0.07614094763994217,-0.019875647500157356,-0.16463440656661987,-0.15512479841709137,-0.16918432712554932,-0.05427173525094986,-0.16909925639629364,-0.06314339488744736,-0.15919874608516693,-0.08759838342666626,-0.04673764854669571,0.151726633310318,-0.14068253338336945,-0.1699163019657135,-0.17004072666168213,-0.05438847467303276,-0.15013493597507477,-0.059876758605241776,-0.12154554575681686,0.01859419420361519,-0.06971573829650879,0.6627141237258911,-0.1145455539226532,-0.15552882850170135,-0.12667147815227509,-0.16931046545505524,-0.1174946278333664,-0.16578195989131927,0.04143444821238518,-0.15942607820034027,-0.021297471597790718,-0.16396792232990265,-0.1097695454955101,-0.15958662331104279,-0.16985423862934113,-0.10268335044384003,-0.09163442999124527,-0.11475349962711334,-0.15060624480247498,-0.16164012253284454,-0.17001913487911224,-0.11674270033836365,-0.16953812539577484,-0.061886586248874664,-0.16932307183742523,0.5235970616340637,-0.041033171117305756,0.12449570000171661,-0.08385010808706284,-0.1647518128156662,-0.1231476441025734,0.9077049493789673,0.02431086264550686,-0.16956289112567902,-0.08710309863090515,-0.11584819108247757,-0.16343584656715393,-0.11282390356063843,0.09435741603374481,-0.07775234431028366,-0.09520713239908218,-0.16212455928325653,-0.14103394746780396,-0.0031234044581651688,-0.06918954104185104,0.29612118005752563,2.001709222793579,0.5421298742294312,-0.018681861460208893,0.42076054215431213,-0.07079404592514038,-0.057702530175447464,0.44333386421203613,-0.07854855805635452,0.9068573713302612,-0.16978324949741364,-0.168474942445755,-0.16728810966014862,0.3199242353439331,-0.09377852827310562,-0.16413599252700806,-0.10057871788740158,-0.10737623274326324,0.017164602875709534,-0.16704554855823517,0.20570078492164612,-0.04151568189263344,-0.031133633106946945,-0.08156349509954453,0.011992242187261581,-0.004288794938474894,0.3611072599887848,0.0752573311328888,-0.0692330077290535,-0.004330713767558336,-0.02192876487970352,-0.1654331088066101,0.0550336092710495,-0.16992105543613434,-0.048207227140665054,-0.07179274410009384,-0.10406224429607391,-0.09420853853225708,-0.1675453782081604,-0.058761756867170334,-0.1322201043367386,0.16905219852924347,-0.11536534130573273,-0.16562166810035706,-0.16270212829113007,0.21386735141277313,-0.08135449141263962,-0.11476747691631317,-0.14537383615970612,-0.1699814796447754,-0.1660650372505188,-0.16802950203418732,-0.10452482849359512,-0.09165994077920914,1.794899344444275,0.1659364551305771,-0.16713964939117432,-0.09619443863630295,-0.08899454772472382,-0.1658022105693817,-0.1700117588043213,-0.09070222824811935,-0.16903504729270935,0.15483984351158142,-0.024718832224607468,-0.12444230914115906,0.185646191239357,-0.08645391464233398,-0.1678953766822815,-0.17002852261066437,-0.16729456186294556,-0.0470353439450264,-0.16608987748622894,-0.16363956034183502,-0.07006069272756577,-0.16873903572559357,-0.1593315154314041,-0.07368049770593643,-0.14642119407653809,-0.006698635872453451,0.3702040910720825,-0.09718542546033859,-0.16599521040916443,-0.12260392308235168,0.25052645802497864,-0.15547850728034973,-0.15342578291893005,-0.16997884213924408,-0.14286337792873383,0.5342341065406799,-0.09352613985538483,-0.16990028321743011,-0.002514610532671213,-0.015426812693476677,-0.16606836020946503,-0.08294718712568283,0.11811655759811401,-0.0640670582652092,2.2661516666412354,-0.09443884342908859,-0.08979451656341553,-0.13057656586170197,-0.03268018364906311,-0.10137622803449631,-0.16696612536907196,-0.15035605430603027,0.132799431681633,-0.022665373980998993,-0.09690891206264496,-0.09989999979734421,-0.1513119637966156,-0.13928790390491486,-0.05859728902578354,-0.07990949600934982,-0.15092681348323822,-0.09856143593788147,0.11373065412044525,-0.04156692698597908,-0.09694737195968628,-0.14614300429821014,-0.08042563498020172,-0.16266992688179016,0.16968894004821777,-0.13399720191955566,-0.04968702048063278,0.09773631393909454,0.8857911229133606,-0.12425640225410461,-0.06707848608493805,-0.13864976167678833,-0.12829789519309998,-0.16015081107616425,-0.14958472549915314,-0.09239859879016876,-0.05236631631851196,-0.051000166684389114,-0.14167682826519012,-0.04190840944647789,-0.09796731919050217,-0.13964922726154327,0.6713963747024536,1.5808783769607544,-0.11232582479715347,-0.1607789546251297,-0.1638559103012085,-0.014507336542010307,-0.14677393436431885,-0.002887103473767638,-0.037819262593984604,-0.11524500697851181,-0.12607260048389435,-0.1686711311340332,0.21373070776462555,-0.0402347706258297,-0.09747349470853806,0.13191278278827667,-0.15772278606891632,-0.1135406345129013,-0.13869544863700867,-0.15926581621170044,-0.12623634934425354,0.08883001655340195,-0.13901424407958984,-0.0879480317234993,-0.1700403094291687,0.0876447930932045,-0.11671312153339386,-0.07794539630413055,-0.1605914831161499,-0.006667866371572018,-0.13111433386802673,-0.16727718710899353,-0.13828332722187042,-0.10154611617326736,-0.01963869482278824,-0.1520795375108719,-0.1159273311495781,-0.09052304923534393,-0.1410776674747467,-0.10374302417039871,0.5928765535354614,-0.15887537598609924,-0.16836224496364594,-0.09570322185754776,0.34569352865219116,-0.06255396455526352,-0.1352725327014923,-0.16983240842819214,-0.12834393978118896,0.2732616066932678,-0.0010733436793088913,0.30795595049858093,-0.07575167715549469,-0.1680530607700348,-0.13009782135486603,0.15599513053894043,0.6189461946487427,0.4791327714920044,-0.10025988519191742,-0.1430436223745346,-0.027279740199446678,-0.10492910444736481,-0.05300375446677208,0.04109504818916321,-0.048209503293037415,-0.1699284017086029,-0.035429198294878006,-0.024017658084630966,-0.1647416651248932,-0.07114908844232559,0.10269805043935776,-0.06734735518693924,-0.08732319623231888,-0.04279536381363869,-0.11786362528800964,-0.12637516856193542,-0.01080021820962429,-0.048835862427949905,-0.12183595448732376,-0.1552456170320511,-0.1700267195701599,-0.16987527906894684,0.17459845542907715,-0.10404404252767563,-0.046549100428819656,-0.13501107692718506,-0.14765837788581848,-0.16081282496452332,-0.03715098276734352,-0.10103768110275269,-0.13133679330348969,-0.1357835978269577,-0.13111689686775208,-0.1698092371225357,-0.12029201537370682,0.12763819098472595,0.345707505941391,-0.1469183713197708,-0.16061145067214966,0.5334197878837585,-0.12780335545539856,-0.16716542840003967,-0.16582393646240234,-0.15600429475307465,-0.024259015917778015,-0.15024423599243164,-0.14220979809761047,-0.10984040051698685,-0.12071270495653152,-0.08913382142782211,-0.12906786799430847,-0.08198755234479904,-0.1647893786430359,-0.13596966862678528,-0.16735553741455078,-0.16320689022541046,-0.16743221879005432,0.5411342978477478,-0.13486014306545258,-0.1403336226940155,-0.16755792498588562,0.211155503988266,-0.1527385264635086,-0.02825194224715233,-0.16500966250896454,-0.16494563221931458,0.6658362746238708,0.02670358307659626,-0.1547173261642456,-0.111143559217453,0.43659934401512146,-0.15744809806346893,-0.010986186563968658,-0.1644609570503235,-0.07898707687854767,-0.035728570073843,-0.14192047715187073,-0.08814407885074615,0.25183558464050293,-0.07463806867599487,-0.06352400779724121,0.4284065067768097,-0.16766002774238586,-0.09933025389909744,-0.10153929889202118,-0.16828247904777527,-0.01332916971296072,-0.1496341973543167,-0.12172788381576538,-0.16877250373363495,-0.1240496039390564,-0.13618165254592896,-0.15971556305885315,0.11600635200738907,-0.11138556897640228,-0.00943466555327177,-0.11787284165620804,-0.07416576892137527,0.2001052051782608,-0.11920701712369919,-0.1672988384962082,-0.15192167460918427,-0.0910094603896141,-0.14462971687316895,-0.169451043009758,-0.06029323861002922,-0.12040117383003235,-0.06650644540786743,-0.16934986412525177,-0.10942038893699646,-0.12395826727151871,-0.012504898943006992,-0.1682223379611969,0.5934580564498901,-0.16435451805591583,-0.10921751707792282,-0.08530914038419724,0.025886166840791702,-0.0024183364585042,-0.16131062805652618,-0.05106236785650253,-0.16510654985904694,-0.048577673733234406,-0.11386463046073914,-0.11702205240726471,-0.06065252795815468,-0.15643739700317383,-0.08853686600923538,0.3133485019207001,-0.07818985730409622,-0.09896750748157501,-0.13983196020126343,-0.14225192368030548,0.02079758793115616,-0.10233169049024582,-0.016347452998161316,-0.11790572106838226,-0.025795334950089455,-0.16296060383319855,-0.06753645092248917,-0.01487460732460022,-0.16612905263900757,-0.15257325768470764,-0.0858243852853775,-0.15935832262039185,0.3533085286617279,-0.16176247596740723,-0.11236836016178131,-0.10193834453821182,-0.14075568318367004,-0.168095201253891,-0.169825479388237,-0.15118776261806488,-0.09475401043891907,-0.16865453124046326,-0.1224600151181221,-0.16120168566703796,-0.138540580868721,0.25395891070365906,-0.10296061635017395,-0.11367451399564743,-0.044124457985162735,0.7025654315948486,-0.1404586136341095,-0.14712883532047272,-0.1699676662683487,0.1578618586063385,-0.05362784489989281,-0.10967373847961426,-0.0898825004696846,-0.15151038765907288,0.32904767990112305,-0.06290838867425919,-0.1333538144826889,-0.16696800291538239,-0.11312562227249146,-0.15835238993167877,-0.09787819534540176,-0.16874927282333374,-0.16977044939994812,-0.06979917734861374,-0.11214864999055862,-0.08720013499259949,-0.0849638432264328,-0.0007450746488757432,-0.04496758431196213,-0.12654376029968262,-0.15148942172527313,-0.16991665959358215,-0.04102056100964546,0.1866510659456253,-0.12687154114246368,0.4543508291244507,-0.019817210733890533,0.4696321487426758,-0.16344662010669708,0.13852854073047638,-0.02474825829267502,-0.1512518674135208,-0.15775080025196075,-0.15805195271968842,-0.08028633892536163,-0.014817919582128525,-0.1531638503074646,0.0037189314607530832,1.4541475772857666,-0.16860128939151764,-0.03475379943847656,-0.019707122817635536,-0.1405838131904602,-0.16112442314624786,0.060266777873039246,-0.0359053872525692,-0.1368447244167328,-0.13990093767642975,0.4652542173862457,-0.16564098000526428,-0.162213534116745,-0.16932938992977142,-0.0074022929184138775,-0.045193806290626526,-0.07488427311182022,-0.11306437104940414,-0.1217888742685318,0.272912859916687,0.5117641091346741,-0.1536121964454651,0.540443480014801,-0.11555464565753937,-0.16631338000297546,-0.06814111024141312,0.17676858603954315,-0.15276075899600983,-0.08555657416582108,-0.1058504655957222,-0.12267392873764038,-0.07420975714921951,-0.16681456565856934,-0.16756971180438995,-0.017791399732232094,-0.1628769487142563,1.4071524143218994,-0.17002318799495697,-0.056902848184108734,-0.09217376261949539,-0.14476880431175232,0.7201187014579773,-0.14720596373081207,-0.16220073401927948,0.10181903094053268,0.8373599648475647,-0.1480247527360916,-0.02737470343708992,-0.14855429530143738,-0.13930530846118927,-0.15331611037254333,-0.1699453592300415,0.2774215042591095,-0.16774532198905945,0.27554067969322205,-0.14293694496154785,-0.01573714055120945,-0.15576335787773132,-0.05925063416361809,-0.16674405336380005,-0.09437515586614609,-0.16058439016342163,-0.1496625393629074,0.03727032244205475,-0.06894581019878387,-0.03630368411540985,0.3574903607368469,-0.0766243115067482,-0.17004047334194183,-0.051094911992549896,-0.12124411016702652,0.10587161034345627,-0.0800701156258583,0.16720618307590485,0.1358041912317276,0.12867535650730133,-0.08895657956600189,-0.16965381801128387,-0.020992862060666084,0.03649182245135307,-0.07786843180656433,0.7387692928314209,-0.11990045756101608,-0.12558233737945557,-0.03543553501367569,-0.10451493412256241,-0.006316504906862974,0.026500333100557327,-0.16775070130825043,-0.16365504264831543,-0.07847627252340317,-0.00836708303540945,-0.008427928201854229,-0.13027052581310272,-0.15458963811397552,-0.08658160269260406,-0.10025419294834137,-0.15475362539291382,-0.12164680659770966,-0.11000125855207443,0.4705122709274292,0.09548110514879227,-0.16751976311206818,-0.14682769775390625,-0.16845011711120605,-0.16435018181800842,0.06652472168207169,-0.13944411277770996,-0.16845838725566864,0.4395650327205658,-0.16655968129634857,-0.039469894021749496,-0.14770545065402985,-0.14374414086341858,-0.11006804555654526,-0.06972260773181915,-0.029529497027397156,-0.06789351999759674,-0.008076122961938381,-0.09624479711055756,0.138064906001091,-0.16390612721443176,-0.12497828155755997,-0.16018801927566528,-0.024278763681650162,-0.10923175513744354,-0.166519895195961,-0.1238822489976883,-0.16610683500766754,-0.16982808709144592,0.2069069743156433,-0.037377431988716125,-0.005024010315537453,-0.005620933603495359,0.6985484957695007,-0.09718143194913864,-0.12527412176132202,-0.15101397037506104,-0.1592266708612442,0.11919903010129929,-0.13603325188159943,-0.12316537648439407,-0.1668209284543991,0.24766618013381958,0.4205394387245178,-0.16990059614181519,-0.09757822006940842,-0.0633663684129715,0.13714736700057983,0.09266413748264313,-0.0878639742732048,-0.16566374897956848,-0.06479107588529587,-0.1519610434770584,0.9540277719497681,-0.08043650537729263,-0.14442364871501923,-0.16241708397865295,-0.16503146290779114,-0.09059086441993713,-0.005992803256958723,-0.057129696011543274,-0.12462634593248367,-0.16919107735157013,-0.06103543937206268,-0.08590049296617508,-0.1624966412782669,0.12300634384155273,-0.04583728685975075,1.131475806236267,-0.09118656814098358,-0.008296038955450058,-0.08773355931043625,-0.16167229413986206,0.05526965484023094,-0.15814796090126038,-0.1655300110578537,0.35181933641433716,-0.13051509857177734,-0.10053108632564545,-0.16005776822566986,-0.16506408154964447,-0.150091290473938,-0.04095817729830742,-0.16980618238449097,-0.16778799891471863,-0.14361000061035156,-0.0939842015504837,-0.07504728436470032,1.1906423568725586,-0.06594013422727585,-0.1653652936220169,-0.16027162969112396,-0.14413465559482574,-0.15552155673503876,-0.14896735548973083,-0.1694907546043396,0.22706104815006256,-0.10393781214952469,-0.14188843965530396,-0.169648215174675,-0.05329995974898338,-0.1387992799282074,-0.09408837556838989,-0.13967351615428925,-0.16767293214797974,-0.16762545704841614,-0.1105598658323288,0.24312135577201843,0.6608304381370544,-0.16928821802139282,-0.153611421585083,-0.16298921406269073,-0.11975253373384476,-0.1282903552055359,1.1034677028656006,-0.14621518552303314,1.1377978324890137,-0.1637132465839386,-0.033255040645599365,-0.06641200929880142,-0.11853738874197006,-0.16973985731601715,0.399992436170578,-0.16588853299617767,0.29937493801116943,-0.1691645234823227,-0.06564503163099289,-0.11683616787195206,-0.09587622433900833,-0.10772255063056946,-0.06090232729911804,-0.10958649963140488,-0.10767579823732376,-0.1504417210817337,-0.11213654279708862,-0.15603876113891602,-0.12315083295106888,-0.16212862730026245,-0.16130100190639496,-0.1494898647069931,-0.1625937670469284,-0.06599612534046173,0.3719969093799591,0.2213960587978363,-0.07026616483926773,-0.05423827841877937,-0.11370162665843964,0.8034303188323975,-0.16701190173625946,-0.17001189291477203,0.2765308916568756,-0.12530426681041718,0.7549113631248474,-0.08609367161989212,-0.1496354043483734,-0.14512091875076294,-0.07484238594770432,0.028241867199540138,0.075497105717659,-0.05230911821126938,-0.04437268525362015,-0.12935401499271393,0.32370027899742126,-0.14543919265270233,-0.10435639321804047,-0.15061278641223907,0.15582023561000824,-0.16946423053741455,0.6601428985595703,-0.11116137355566025,0.10454057157039642,-0.11814028769731522,-0.13418637216091156,-0.1574798971414566,-0.16966338455677032,-0.10493309050798416,-0.17002703249454498,-0.16975918412208557,0.7268747687339783,0.001534056500531733,-0.0044052754528820515,-0.08481640368700027,-0.1508651226758957,-0.06287775933742523,-0.16103237867355347,-0.0785650834441185,-0.16745032370090485,-0.16758207976818085,0.00931518618017435,-0.06705205887556076,-0.15999938547611237,-0.0795474722981453,-0.14140716195106506,0.30443623661994934,-0.002004855079576373,0.10727124661207199,-0.09104399383068085,0.03192014992237091,-0.15582601726055145,-0.15861237049102783,-0.12376678735017776,-0.023470614105463028,-0.09568099677562714,-0.14145728945732117,0.16401420533657074,-0.01352224126458168,-0.059428803622722626,-0.17003458738327026,-0.16744916141033173,0.23010802268981934,-0.1647438108921051,1.2911057472229004,0.5615502595901489,-0.023168424144387245,-0.16896656155586243,0.07040661573410034,-0.028187882155179977,-0.03923169523477554,-0.15759117901325226,-0.07922584563493729,-0.0003342536510899663,1.3398300409317017,-0.16526241600513458,-0.1455054134130478,-0.13989844918251038,-0.16188406944274902,-0.16545653343200684,-0.16976293921470642,0.9733428359031677,-0.14469553530216217,-0.013321192003786564,-0.13081961870193481,-0.16085051000118256,-0.07037879526615143,-0.029070081189274788,-0.08346780389547348,-0.16513176262378693,0.8414766788482666,-0.16963881254196167,-0.14778326451778412,-0.13871416449546814,-0.13764958083629608,-0.08828669786453247,0.36630111932754517,-0.16421975195407867,-0.16951584815979004,-0.16975176334381104,-0.16390424966812134,-0.12471813708543777,-0.14754970371723175,-0.16420544683933258,-0.12365426868200302,-0.15250106155872345,-0.16975189745426178,0.06117315962910652,0.11295846104621887,-0.15520626306533813,0.7037193775177002,0.21110481023788452,-0.10057710111141205,0.20178136229515076,0.5627440810203552,-0.004751438740640879,-0.14977771043777466,-0.1500188708305359,-0.07073746621608734,-0.138114333152771,-0.04420072212815285,0.1339922398328781,-0.03136667609214783,-0.08404354751110077,-0.16697771847248077,-0.16954512894153595,-0.16606761515140533,-0.1120307594537735,-0.08940793573856354,-0.11584644764661789,-0.07746738940477371,-0.03438931703567505,-0.16280055046081543,-0.16655434668064117,-0.07818321138620377,-0.07252740114927292,-0.17004072666168213,-0.17003731429576874,-0.16389775276184082,-0.16629290580749512,-0.12184744328260422,-0.08707474172115326,-0.09164538234472275,-0.07124758511781693,-0.15434019267559052,-0.15738990902900696,-0.017896918579936028,-0.061522454023361206,0.24863754212856293,-0.11999499797821045,-0.14689289033412933,-0.16920004785060883,0.9281085729598999,-0.13891126215457916,-0.1429120898246765,-0.1573660522699356,-0.09007015079259872,0.2833147644996643,0.9670774936676025,-0.00236195488832891,0.5558860898017883,-0.11200045049190521,-0.16743384301662445,-0.13462373614311218,0.19535277783870697,-0.13555461168289185,-0.16501253843307495,-0.16029693186283112,1.8669565916061401,-0.00019028397218789905,0.36749327182769775,-0.16994532942771912,-0.029726581647992134,0.024019652977585793,0.3902159333229065,-0.16092006862163544,-0.16991554200649261,-0.15187124907970428,-0.12942716479301453,0.08608809858560562,-0.16197828948497772,-0.021982358768582344,-0.0622774139046669,-0.11399286985397339,-0.10834652185440063,-0.1507643312215805,-0.09455421566963196,-0.16926249861717224,-0.15773417055606842,-0.13461633026599884,-0.1232466772198677,-0.1589115858078003,-0.12255344539880753,-0.1318991482257843,0.7995584011077881,-0.10099029541015625,-0.12740544974803925,-0.12938928604125977,-0.14727796614170074,-0.14773528277873993,0.3397287130355835,-0.14816753566265106,-0.16290882229804993,-0.10375143587589264,-0.05322980508208275,-0.16335591673851013,-0.12771478295326233,0.14177930355072021,-0.16364368796348572,0.3741181194782257,-0.1700333058834076,-0.10198849439620972,-0.11686117202043533,-0.1538781374692917,0.6962647438049316,-0.1643371731042862,-0.1192641481757164,-0.01577872782945633,0.3347487151622772,-0.13725490868091583,-0.09162072092294693,-0.08322891592979431,-0.1086011603474617,0.9315177202224731,-0.16311559081077576,-0.1694236397743225,-0.15008173882961273,0.8644687533378601,-0.12554769217967987,-0.14351195096969604,0.3239389955997467,-0.15226010978221893,-0.1588258296251297,-0.007006299681961536,0.87278151512146,2.6064188480377197,-0.16087687015533447,-0.14089034497737885,-0.05477683246135712,1.3695687055587769,-0.13932082056999207,-0.07262500375509262,-0.13887503743171692,-0.14339984953403473,-0.16151590645313263,-0.03553173691034317,-0.14692145586013794,-0.16015087068080902,0.22926191985607147,-0.1211809366941452,-0.13856281340122223,-0.15660931169986725,-0.11578977853059769,0.4435862898826599,-0.16991183161735535,-0.05571677163243294,-0.16981396079063416,-0.09146884083747864,-0.04166404530405998,-0.022083057090640068,-0.10672564804553986,-0.165199413895607,-0.13184979557991028,-0.16632676124572754,-0.0999351516366005,-0.01776367425918579,-0.06825429201126099,-0.16470932960510254,-0.15466567873954773,-0.03555569797754288,-0.012480993755161762,-0.03403405845165253,-0.15041568875312805,-0.09543964266777039,-0.05501887947320938,-0.03166450187563896,0.6310214400291443,-0.16862575709819794,-0.09933564066886902,-0.150617316365242,0.3224717676639557,-0.04928791895508766,-0.10208213329315186,0.33325251936912537,0.07719767838716507,-0.16999945044517517,-0.1700119823217392,-0.13091333210468292,-0.15130700170993805,-0.15880905091762543,-0.11312780529260635,-0.07196907699108124,-0.13494956493377686,0.2146083563566208,-0.13582448661327362,-0.16999995708465576,-0.13197384774684906,-0.12210628390312195,-0.05398337170481682,0.8313993215560913,0.01373155415058136,-0.12520109117031097,-0.1467704325914383,-0.16399751603603363,-0.027077993378043175,0.2080957442522049,-0.15196596086025238,-0.14280208945274353,0.11061851680278778,0.09526347368955612,-0.11620082706212997,0.13360974192619324,0.5422561168670654,-0.05971289426088333,-0.11218654364347458,0.1838938444852829,-0.03463265299797058,0.027544960379600525,-0.1644175797700882,-0.14399608969688416,-0.13648174703121185,-0.1344417929649353,0.06086801365017891,-0.09781689941883087,-0.04976862668991089,0.018347302451729774,-0.13693691790103912,-0.1403777003288269,-0.03507702425122261,-0.12517203390598297,-0.043940220028162,-0.03243781998753548,-0.1267082393169403,-0.14631833136081696,-0.16082940995693207,-0.1298375129699707,0.21979905664920807,-0.15703986585140228,3.3778841495513916,0.15050138533115387,-0.017500562593340874,-0.16474731266498566,-0.16397209465503693,-0.08967620879411697,-0.1698811948299408,-0.006344080902636051,-0.14544017612934113,-0.008034964092075825,-0.09182143956422806,-0.16719913482666016,-0.11666953563690186,0.13330677151679993,-0.09053419530391693,-0.07416592538356781,-0.1664758324623108,-0.1484966278076172,0.18821954727172852,-0.16860800981521606,-0.1156255379319191,-0.15915946662425995,0.7314242124557495,-0.16856811940670013,-0.09611724317073822,0.07091232389211655,-0.1585797369480133,-0.1212383285164833,-0.15191517770290375,-0.1664043515920639,-0.08022511005401611,-0.004929783288389444,-0.09193778038024902,-0.14080950617790222,-0.15117709338665009,-0.15514947474002838,-0.10830651968717575,-0.14316728711128235,-0.05696985498070717,-0.14154943823814392,-0.15961456298828125,-0.08463490009307861,0.022438840940594673,-0.11323078721761703,-0.0636359229683876,-0.05656671151518822,-0.12916412949562073,-0.16132678091526031,0.061411380767822266,-0.1589411050081253,-0.07206396758556366,0.16743411123752594,0.2894395887851715,-0.10092142224311829,-0.13679246604442596,0.6415576934814453,-0.15236017107963562,-0.15276718139648438,-0.15001611411571503,0.0920330211520195,-0.14561311900615692,-0.06152648851275444,0.7833408713340759,-0.16820336878299713,-0.11924734711647034,-0.02104736864566803,0.3126057982444763,-0.1597503125667572,-0.013184779323637486,0.1933862417936325,-0.0672885850071907,-0.1697445958852768,-0.16795657575130463,-0.1665162444114685,-0.09485733509063721,-0.1600971221923828,-0.15039561688899994,-0.13804394006729126,-0.030024424195289612,0.4142281115055084,-0.1591014266014099,-0.16121253371238708,-0.03266638144850731,0.29214149713516235,0.06335677951574326,-0.13025669753551483,0.22426748275756836,-0.06366541236639023,-0.05055594816803932,-0.16867686808109283,0.07687971740961075,-0.05519898235797882,1.4391324520111084,0.4673527777194977,0.12116682529449463,-0.0574554018676281,-0.14081847667694092,0.10210669785737991,-0.1310528963804245,0.049424029886722565,-0.16796094179153442,-0.11166282743215561,-0.13043591380119324,-0.006757230497896671,-0.04743343964219093,-0.06891025602817535,-0.05594240501523018,-0.16855688393115997,0.03018011339008808,0.016135169193148613,-0.03394530341029167,0.3888615369796753,0.09842868894338608,-0.1282333880662918,-0.08312720060348511,-0.09224950522184372,-0.032943982630968094,-0.05770503729581833,-0.08596743643283844,-0.04042002931237221,-0.16038170456886292,-0.1134745255112648,-0.13189230859279633,-0.07351642847061157,0.36424484848976135,-0.08905705064535141,0.27515631914138794,-0.15610647201538086,-0.1015339344739914,0.032897282391786575,-0.03629257529973984,-0.08212276548147202,-0.14276760816574097,-0.14169645309448242,-0.16713832318782806,-0.16770058870315552,-0.17003080248832703,-0.05624854564666748,-0.09124511480331421,-0.01225997507572174,-0.1699667125940323,-0.09641575813293457,-0.1637781858444214,-0.020945804193615913,-0.1638701856136322,-0.013490094803273678,0.23310911655426025,-0.16226276755332947,-0.027864694595336914,-0.08920830488204956,-0.11453361064195633,-0.1382378190755844,-0.05324915796518326,-0.12779943645000458,-0.06704127788543701,0.44634702801704407,-0.13151279091835022,-0.14261186122894287,-0.04526301845908165,-0.15664097666740417,0.019613785669207573,0.00946472492069006,-0.16275854408740997,-0.02722829580307007,0.19190220534801483,-0.16974590718746185,-0.046729251742362976,-0.16726680099964142,-0.0038389796391129494,-0.17003370821475983,-0.16995814442634583,-0.1699407696723938,-0.15770822763442993,-0.05725308507680893,-0.12092964351177216,-0.1687367856502533,-0.14101460576057434,1.5103135108947754,-0.12876255810260773,-0.120759017765522,0.6902074813842773,-0.1610555201768875,-0.03843573480844498,-0.13522124290466309,0.0011522420682013035,0.6601579189300537,-0.14550630748271942,0.3686918616294861,-0.09789054095745087,-0.16551950573921204,-0.014686809852719307,-0.11714113503694534,-0.08586360514163971,-0.14425984025001526,0.5178204774856567,-0.1663515418767929,-0.16707749664783478,-0.11149300634860992,-0.1697521209716797,0.16102592647075653,-0.1684395968914032,-0.09905681759119034,-0.1470838189125061,-0.05506666749715805,-0.018958190456032753,-0.0920196920633316,-0.053707294166088104,-0.12170880287885666,-0.019771086052060127,-0.061874181032180786,1.6859900951385498,-0.010774756781756878,-0.002527138451114297,-0.15098144114017487,-0.0963350459933281,-0.07753658294677734,-0.1303117424249649,-0.06477514654397964,-0.1409672349691391,-0.11716721951961517,-0.0006619098712690175,-0.1645345836877823,-0.15560956299304962,0.9827386140823364,-0.11374072730541229,0.18976518511772156,-0.14280414581298828,-0.00967797078192234,-0.047561824321746826,-0.09750910103321075,-0.04556683823466301,-0.14511355757713318,-0.11224465072154999,0.05697860196232796,-0.0939217060804367,0.05890446901321411,-0.1457095593214035,-0.14920181035995483,-0.15181909501552582,-0.16019868850708008,-0.09289953112602234,-0.10735111683607101,-0.16906346380710602,0.14731815457344055,0.4495117962360382,-0.13479050993919373,0.38349753618240356,-0.08663906902074814,-0.026631563901901245,-0.16853183507919312,-0.17003415524959564,-0.15887343883514404,0.10159248113632202,-0.1700126826763153,-0.1688394397497177,0.025430500507354736,-0.11593910306692123,0.07026096433401108,-0.1573907881975174,-0.16690951585769653,-0.15592369437217712,-0.11595511436462402,0.5551223754882812,0.5046248435974121,-0.022618982940912247,-0.11826033890247345,-0.0175633542239666,-0.1677597463130951,-0.13938340544700623,-0.16856855154037476,0.010207473300397396,-0.16964775323867798,-0.11820078641176224,-0.17004060745239258,-0.11965019255876541,-0.14612305164337158,-0.017911719158291817,-0.16998125612735748,-0.16816599667072296,-0.12129329890012741,0.07677445560693741,-0.16988764703273773,-0.15028518438339233,-0.1672663390636444,-0.09729389101266861,0.02832377329468727,-0.12420431524515152,1.2143950462341309,-0.1596497893333435,-0.12480524927377701,0.31258130073547363,0.00944498460739851,-0.017962682992219925,-0.15087062120437622,0.4155847430229187,0.44352462887763977,-0.15875503420829773,-0.133198544383049,0.3588925898075104,0.06811847537755966,-0.07194721698760986,-0.16979938745498657,-0.16033807396888733,-0.08647722750902176,-0.12019724398851395,-0.1375848650932312,-0.13261328637599945,0.0784287080168724,-0.0316958874464035,0.3568943738937378,-0.10145650804042816,-0.06592979282140732,-0.07657773792743683,-0.16765712201595306,-0.16559728980064392,0.0218175258487463,-0.1583707630634308,0.11893065273761749,-0.08249518275260925,-0.005938110873103142,-0.13343772292137146,-0.003645355813205242,-0.0034398254938423634,-0.09961457550525665,-0.06940826773643494,-0.0036649368703365326,-0.06808603554964066,-0.16151750087738037,-0.05879610776901245,-0.08252161741256714,-0.00468006357550621,-0.16885912418365479,-0.15935833752155304,0.07402028888463974,0.3852473497390747,-0.11250777542591095,-0.03505277261137962,-0.08838934451341629,-0.13583962619304657,-0.15401098132133484,-0.16969847679138184,-0.10594844818115234,-0.014879835769534111,-0.14064921438694,-0.1410491019487381,-0.08794805407524109,1.02197265625,0.19788095355033875,-0.14073395729064941,-0.06360398232936859,0.0305445808917284,0.6478027701377869,-0.17004060745239258,-0.17000816762447357,-0.1637658029794693,-0.16456955671310425,-0.021053176373243332,-0.1090787723660469,-0.024908635765314102,1.021902084350586,-0.005681982263922691,-0.16260670125484467,0.13891613483428955,-0.17003853619098663,-0.10953500866889954,-0.1283353567123413,-0.025446349754929543,-0.06236337870359421,-0.08976589888334274,-0.037357836961746216,-0.11837992817163467,-0.1574045717716217,-0.04020693898200989,-0.026275306940078735,-0.1013483852148056,-0.1661735624074936,-0.07915397733449936,-0.15016286075115204,-0.14827385544776917,-0.11957291513681412,-0.1601153314113617,-0.003812377341091633,-0.12888577580451965,-0.09075368195772171,0.34014493227005005,0.6714574098587036,-0.12039349228143692,-0.10309018194675446,-0.1487630009651184,-0.16680024564266205,0.3167707324028015,-0.15307143330574036,-0.05739792063832283,-0.02647867240011692,-0.01666662096977234,-0.15702828764915466,1.2762383222579956,-8.16358169686282e-06,0.21654272079467773,0.452283650636673,-0.008991416543722153,-0.012394934892654419,0.8967003226280212,-0.1645037829875946,0.1019071713089943,-0.16428889334201813,-0.14276735484600067,-0.047478266060352325,-0.1293451189994812,-0.12683634459972382,-0.10157563537359238,-0.16742870211601257,-0.07311636209487915,-0.12704208493232727,0.379782497882843,-0.10088736563920975,-0.02523600496351719,-0.08891046047210693,-0.15489187836647034,-0.17004060745239258,-0.0710064247250557,-0.17004071176052094,-0.09510695934295654,-0.09859316051006317,0.057091716676950455,-0.15689903497695923,-0.16689103841781616,-0.16688787937164307,0.20473423600196838,-0.12558169662952423,-0.12428733706474304,-0.12554329633712769,0.09857042133808136,-0.1435769498348236,-0.16502909362316132,-0.09116502851247787,-0.12446865439414978,0.06874240189790726,-0.03864188864827156,-0.13112342357635498,-0.16962748765945435,-0.1679818481206894,-0.0938427522778511,-0.1679040640592575,-0.16995789110660553,-0.15848179161548615,-0.17003200948238373,-0.03309844434261322,-0.030135614797472954,-0.1521812230348587,-0.159822016954422,-0.15734955668449402,-0.17003148794174194,-0.08635957539081573,-0.1684034764766693,-0.07452168315649033,-0.12510986626148224,-0.0323295071721077,-0.1700403392314911,-0.1632479876279831,-0.03525981307029724,0.3311912715435028,-0.16967006027698517,-0.15797926485538483,-0.059712231159210205,-0.16256555914878845,-0.08359406888484955,0.25690957903862,0.274662584066391,-0.15651926398277283,-0.08098818361759186,-0.11987531185150146,-0.10352395474910736,-0.10478845238685608,-0.10388164967298508,0.6519378423690796,-0.15129676461219788,-0.06243494525551796,-0.05738350749015808,-0.0837734192609787,0.6338849663734436,-0.11033682525157928,-0.0026225040201097727,0.12265398353338242,-0.04169629514217377,-0.07404613494873047,-0.08635947108268738,0.07166855782270432,-0.030690914019942284,-0.14825843274593353,-0.15423457324504852,-0.09291943907737732,-0.15793587267398834,-0.024353932589292526,-0.05249961093068123,-0.13068419694900513,-0.10328100621700287,-0.14360418915748596,-0.07079416513442993,-0.10209772735834122,-0.16976267099380493,-0.15247343480587006,-0.17004041373729706,-0.1697259545326233,0.19544976949691772,-0.15764498710632324,-0.1699095368385315,-0.1700391322374344,-0.12932416796684265,0.33803558349609375,0.2918349802494049,-0.07127885520458221,-0.0308932326734066,-0.06625491380691528,0.18178986012935638,-0.16001436114311218,-0.16478784382343292,0.23779013752937317,0.08199983090162277,-0.16894599795341492,-0.1212143748998642,-0.07869073003530502,-0.11791431903839111,-0.16243195533752441,-0.06548777967691422,-0.12265007197856903,-0.17003534734249115,-0.008114664815366268,-0.056651417165994644,-0.1655062735080719,0.09873387962579727,-0.1421176642179489,0.22778332233428955,-0.14810892939567566,-0.16003665328025818,-0.04126656800508499,-0.17000603675842285,0.22109419107437134,-0.12007410824298859,-0.14362043142318726,-0.14545269310474396,-0.00870815571397543,-0.16957536339759827,-0.08201993256807327,-0.0432085245847702,-0.16443178057670593,-0.1484973281621933,0.11212941259145737,-0.17003361880779266,-0.10014177858829498,-0.16861537098884583,-0.1446465700864792,-0.06286755949258804,0.7247921228408813,-0.16372248530387878,-0.16008470952510834,-0.11460402607917786,-0.1690690666437149,-0.1290096640586853,-0.12714023888111115,-0.1185026615858078,-0.15301890671253204,0.26146042346954346,-0.05773945897817612,-0.1290271133184433,-0.09323682636022568,-0.05813813582062721,-0.1682322472333908,0.6441735029220581,-0.14398254454135895,-0.12396402657032013,-0.14747771620750427,-0.14616335928440094,-0.09927935153245926,0.19637277722358704,-0.10010071098804474,-0.09611965715885162,-0.13518735766410828,-0.05229737237095833,-0.16780400276184082,-0.1328684687614441,-0.07381189614534378,-0.13608890771865845,-0.12443172186613083,-0.16803734004497528,-0.0457376167178154,0.9823205471038818,0.2556847929954529,-0.14317965507507324,0.012852741405367851,-0.011377010494470596,0.1081390529870987,-0.028135446831583977,-0.05404802784323692,-0.16086119413375854,-0.13348032534122467,-0.11714033037424088,-0.1648455113172531,-0.1691247820854187,0.3008468449115753,-0.14191961288452148,-0.16341644525527954,0.14673352241516113,0.8270357847213745,-0.03235151991248131,-0.1201932281255722,0.7760952711105347,-0.14985521137714386,0.40964391827583313,-0.15936686098575592,-0.16947613656520844,-0.07519805431365967,-0.15310551226139069,-0.07965440303087234,-0.0718604177236557,-0.03660963475704193,-0.0018875087844207883,-0.13398419320583344,-0.04693721979856491,-0.0258763637393713,-0.007923207245767117,-0.11804062128067017,-0.044715821743011475,-0.1583741307258606,-0.16122479736804962,-0.021061589941382408,-0.015752078965306282,-0.10628455877304077,-0.1677365005016327,0.238443985581398,0.36290809512138367,0.2573912441730499,0.6678183078765869,-0.08628780394792557,-0.1495036482810974,-0.031007563695311546,-0.16992299258708954,-0.16043414175510406,-0.1637812703847885,-0.11052479594945908,-0.060528747737407684,0.051136840134859085,-0.12464241683483124,-0.15083709359169006,-0.003829254535958171,-0.16842034459114075,-0.03604842349886894,-0.1406126618385315,-0.15196414291858673,-0.08769083023071289,-0.0772186815738678,0.8347018957138062,0.9018615484237671,-0.06462080031633377,-0.1390402764081955,-0.1534908264875412,-0.06203636899590492,-0.16901375353336334,-0.05182982236146927,-0.10769742727279663,-0.16056908667087555,-0.10211756080389023,0.10717171430587769,-0.16792674362659454,-0.0405048243701458,-0.09407627582550049,-0.10611943900585175,0.42341071367263794,-0.15793614089488983,-0.13165417313575745,-0.12182026356458664,-0.018663154914975166,-0.09603390842676163,-0.15622596442699432,-0.04041609168052673,-0.042834408581256866,-0.15436990559101105,-0.07764705270528793,-0.12836775183677673,-0.16965673863887787,-0.15467606484889984,0.051472656428813934,-0.10035093128681183,-0.14066262543201447,-0.1672588288784027,-0.11843656748533249,-0.1610487550497055,0.2920185625553131,0.09658925235271454,-0.019659245386719704,0.01446327194571495,-0.0016841290052980185,-0.15857595205307007,-0.13799281418323517,-0.10705143213272095,0.6609748005867004,-0.12705865502357483,0.006873843260109425,-0.0391872338950634,0.11379742622375488,-0.002053156727924943,-0.16410301625728607,0.43545499444007874,-0.16930392384529114,-0.09525324404239655,-0.08324140310287476,-0.1667472869157791,-0.16173361241817474,0.2100980579853058,-0.0973738506436348,0.895250141620636,1.1061367988586426,-0.1254362016916275,-0.14314624667167664,-0.15295208990573883,-0.1164756789803505,0.0027958594728261232,-0.16999827325344086,-0.16578704118728638,-0.13773278892040253,-0.1677350103855133,-0.12819769978523254,-0.16883261501789093,-0.155429869890213,-0.012609303928911686,1.0504579544067383,0.10741110146045685,-0.1244698315858841,-0.1513373702764511,-0.15948349237442017,-0.1449655294418335,-0.08250874280929565,-0.05732863396406174,-0.1699383556842804,-0.168955996632576,-0.1225661113858223,0.06506524235010147,0.011932858265936375,-0.11164520680904388,0.31972938776016235,-0.16682162880897522,-0.16802187263965607,-0.12788742780685425,-0.08546435832977295,-0.019893355667591095,-0.15877848863601685,-0.1402982473373413,0.1330977827310562,-0.0903623178601265,0.1647474318742752,-0.06187745928764343,-0.050556715577840805,-0.010067124851047993,-0.15446890890598297,0.015009256079792976,-0.16348674893379211,-0.15634804964065552,-0.16975176334381104,-0.16559937596321106,-0.14469681680202484,-0.002735960530117154,-0.1699156016111374,-0.16781844198703766,-0.10395030677318573,-0.16008171439170837,1.2208197116851807,-0.045563966035842896,0.016023389995098114,-0.16628552973270416,-0.14751036465168,-0.14043156802654266,-0.1345386803150177,-0.13911600410938263,0.4690028727054596,-0.16914470493793488,-0.16188037395477295,-0.15996643900871277,-0.08551942557096481,-0.13666686415672302,-0.023597754538059235,0.9466937184333801,-0.08948176354169846,-0.15214680135250092,-0.13532941043376923,-0.12250000983476639,-0.12192055583000183,-0.058153580874204636,-0.11584362387657166,-0.16999275982379913,-0.1003912016749382,0.33711206912994385,-0.1441289186477661,-0.168809175491333,-0.09989183396100998,-0.1302785873413086,-0.08489944785833359,-0.10025127232074738,-0.16997092962265015,-0.16997087001800537,-0.003016268601641059,-0.14217232167720795,-0.0653487965464592,-0.07229731976985931,-0.08466565608978271,-0.1369573175907135,-0.02209559641778469,-0.09420100599527359,-0.15356793999671936,-0.16787083446979523,-0.1439700871706009,-0.04701966792345047,-0.17002545297145844,-0.11909334361553192,-0.15559028089046478,-0.0945206731557846,-0.0969964936375618,-0.14655986428260803,-0.011290104128420353,0.4703344404697418,-0.08795399218797684,-0.14944511651992798,-0.15735647082328796,-0.04751906543970108,1.3658523559570312,-0.14520326256752014,-0.1445980966091156,-0.15013211965560913,1.3733954429626465,-0.1367637813091278,-0.1696963906288147,-0.16530193388462067,1.0194599628448486,-0.1196063682436943,-0.1698255091905594,-0.13047672808170319,-0.16172893345355988,-0.16098444163799286,-0.13255679607391357,-0.12795457243919373,-0.0467207171022892,1.1964356899261475,-0.12596964836120605,-0.07868841290473938,-0.09646234661340714,-0.05854140967130661,-0.0848594605922699,-0.08912917971611023,0.06624076515436172,-0.1158025860786438,-0.06558609008789062,-0.14401987195014954,0.34770506620407104,-0.024087371304631233,0.1490936279296875,0.4776148200035095,-0.16896720230579376,-0.03236668184399605,-0.14938537776470184,-0.08858177810907364,-0.09130574017763138,-0.11585305631160736,0.047380540519952774,-0.05770823359489441,0.298136830329895,-0.10596822202205658,0.8652730584144592,-0.126886248588562,-0.116843082010746,0.07491149753332138,-0.14429615437984467,-0.1685527265071869,-0.0867663025856018,-0.10289883613586426,-0.11003167927265167,-0.14857465028762817,-0.14774498343467712,0.9233883619308472,-0.16206662356853485,-0.1655939221382141,-0.07855549454689026,-0.14041085541248322,-0.16206908226013184,-0.148196741938591,-0.10659580677747726,-0.1303691565990448,0.8198963403701782,-0.13765886425971985,-0.010231480933725834,0.06947053968906403,-0.01786538027226925,0.33572590351104736,-0.1227768287062645,0.2134859263896942,0.225945845246315,-0.14759434759616852,-0.15879815816879272,-0.08001156151294708,-0.003964222501963377,0.060945168137550354,0.18267419934272766,-0.08031906187534332,0.6908649802207947,-0.13885420560836792,0.4420763850212097,-0.027347764000296593,-0.1367991417646408,-0.16713739931583405,-0.05501801520586014,-0.1211903989315033,-0.16846610605716705,-0.15988941490650177,-0.12656162679195404,-0.15686477720737457,0.5302306413650513,-0.11908675730228424,-0.1169024109840393,-0.088613361120224,-0.15801852941513062,0.6290102601051331,-0.0542183555662632,-0.03128253296017647,-0.09747998416423798,-0.07270966470241547,-0.13453631103038788,-0.1159423291683197,0.014358194544911385,0.1817903369665146,-0.16962546110153198,-0.1481246054172516,-0.10208585858345032,-0.09814933687448502,-0.033489614725112915,-0.16114196181297302,0.0710802748799324,-0.057276494801044464,-0.05438341572880745,0.18176846206188202,-0.10141153633594513,0.2529144585132599,0.618196964263916,-0.09941447526216507,-0.16644681990146637,-0.16256655752658844,-0.14516820013523102,0.8692793846130371,-0.10673151165246964,0.11125912517309189,-0.16798581182956696,-0.16829034686088562,-0.037092000246047974,-0.14630615711212158,-0.16672737896442413,-0.04023353010416031,-0.14528682827949524,-0.0072439881041646,-0.13543355464935303,-0.16140489280223846,-0.03346484526991844,-0.14679649472236633,-0.15818916261196136,0.3298819661140442,-0.16596907377243042,-0.03163812309503555,0.09732327610254288,-0.11345912516117096,-0.06901788711547852,-0.1594744324684143,-0.08708216995000839,-0.15358613431453705,-0.06380248069763184,0.47808778285980225,-0.07247801870107651,-0.16562160849571228,-0.08249916881322861,-0.04374163597822189,-0.03163139522075653,-0.11607251316308975,-0.14369791746139526,-0.16989481449127197,-0.045155853033065796,-0.1604498028755188,-0.12287164479494095,-0.16313470900058746,-0.15180005133152008,-0.13273006677627563,-0.14289332926273346,-0.16850987076759338,0.09020061790943146,-0.16304609179496765,-0.13008224964141846,-0.14246757328510284,-0.16254280507564545,-0.17003941535949707,-0.16205665469169617,-0.05669828876852989,-0.015475749038159847,-0.1494448482990265,-0.137428879737854,-0.16923971474170685,0.15726818144321442,-0.1583026796579361,-0.12556739151477814,-0.13548099994659424,-0.11771849542856216,-0.04773974418640137,-0.0001885784004116431,-0.024573728442192078,-0.10924328118562698,-0.1419866681098938,-0.04464172199368477,-0.11017988622188568,-0.08062746375799179,0.0927715077996254,0.5955767631530762,-0.15396961569786072,-0.07864367216825485,-0.16999928653240204,-0.12497125566005707,-0.1663370430469513,-0.11112583428621292,-0.16729643940925598,-0.16702552139759064,-0.13269789516925812,-0.01713198982179165,-0.1381947547197342,-0.13059407472610474,0.3384690284729004,1.986178994178772,0.7685420513153076,-0.13438697159290314,-0.0007377055590040982,-0.16844125092029572,-0.15818434953689575,-0.04097674787044525,-0.026115242391824722,-0.16477790474891663,-0.16849173605442047,-0.07122109085321426,-0.17003999650478363,-0.08352822065353394,0.10211555659770966,-0.1692512184381485,0.28476113080978394,0.2676296830177307,0.16838200390338898,0.3229975402355194,-0.006962673272937536,-0.16733387112617493,-0.16370385885238647,0.0475214347243309,-0.1321086585521698,-0.1659473329782486,-0.010273710824549198,-0.035126324743032455,0.11154856532812119,0.04968655854463577,-0.07089892774820328,-0.16872771084308624,-0.04119985178112984,-0.1533464789390564,-0.17003542184829712,-0.12985409796237946,-0.12766464054584503,-0.15266196429729462,-0.16517134010791779,-0.06121273338794708,0.017617298290133476,0.582792341709137,-0.1685941368341446,-0.15606333315372467,-0.03188710659742355,-0.13595837354660034,-0.15600822865962982,-0.11501926928758621,-0.13848669826984406,-0.10726217925548553,-0.10765259712934494,-0.17003870010375977,-0.13730040192604065,-0.16505272686481476,-0.1548689305782318,0.04229716584086418,-0.009699161164462566,0.17769823968410492,-0.14665839076042175,-0.15022504329681396,0.4853784143924713,-0.1194743663072586,-0.169858917593956,-0.0766417533159256,-0.16899672150611877,-0.16547833383083344,0.3414163887500763,-0.05367686226963997,-0.15329669415950775,-0.1228916347026825,-0.04400286823511124,-0.14818455278873444,-0.12703165411949158,-0.16959716379642487,-0.04724109545350075,-0.09387748688459396,-0.012322681024670601,0.07831498235464096,-0.1341630071401596,-0.08594457060098648,-0.06424514204263687,0.06182520464062691,-0.13811081647872925,-0.014586035162210464,0.12552714347839355,-0.17002995312213898,0.9846424460411072,-0.11227627098560333,0.19814538955688477,0.3610905408859253,-0.1201074942946434,-0.16675759851932526,-0.009709789417684078,-0.08505812287330627,0.20070289075374603,-0.07799448072910309,-0.05553915724158287,-0.16517582535743713,-0.05330050364136696,-0.002435405505821109,-0.0951784998178482,0.6610897183418274,0.1695564091205597,-0.14284400641918182,-0.011081796139478683,-0.14943185448646545,0.04326046258211136,0.04963800311088562,-0.0531139113008976,-0.12798373401165009,-0.022864611819386482,-0.0958278700709343,-7.192977591330418e-07,0.9333299994468689,-0.1419750452041626,-0.1699020117521286,0.41870594024658203,-0.07438360899686813,-0.15868991613388062,0.19844679534435272,0.03665979206562042,-0.1694181263446808,-0.1699914038181305,-0.16772504150867462,-0.16184820234775543,-0.1379588395357132,-0.001065569929778576,0.29738226532936096,0.13994552195072174,-0.1698526293039322,-0.034999240189790726,-0.16943396627902985,-0.10106838494539261,-0.07912074774503708,0.24244184792041779,0.09714727848768234,-0.16856448352336884,-0.022387780249118805,-0.16075187921524048,-0.03018462471663952,-0.09849795699119568,-0.11031552404165268,-0.07006847858428955,-0.16046540439128876,-0.13349398970603943,-0.08820624649524689,-0.1286025196313858,-0.0842820331454277,-0.09822659194469452,0.07171639800071716,-0.1677360236644745,-0.16189351677894592,-0.15538358688354492,-0.04501368850469589,-0.011021079495549202,-0.02882075496017933,0.6295621991157532,-0.004319042433053255,0.012821272946894169,-0.15096135437488556,-0.13785164058208466,0.2643987238407135,-0.04293857514858246,-0.05720425397157669,-0.04893216863274574,-0.15813422203063965,-0.13896939158439636,0.48217830061912537,-0.01579318940639496,-0.06811428815126419,0.2559760510921478,-0.13040843605995178,-0.08093161135911942,-0.08775629848241806,-0.04600030556321144,-0.04879770055413246,-0.16692008078098297,-0.1256711184978485,-0.11528820544481277,-0.07945899665355682,-0.06363227218389511,0.46423429250717163,0.11674277484416962,-0.15780600905418396,-0.16998323798179626,0.12362231314182281,-0.13117437064647675,-0.1647280752658844,-0.13541975617408752,-0.14596252143383026,-0.12422123551368713,-0.11806616187095642,-0.10450594872236252,-0.1196187436580658,-0.16066424548625946,-0.16121220588684082,-0.16161462664604187,-0.02650677226483822,-0.10362192243337631,-0.16216477751731873,-0.005472512915730476,0.98553866147995,-0.038329318165779114,-0.0810234472155571,-0.14408180117607117,-0.15143248438835144,-0.06063840910792351,-0.1596052199602127,0.45421087741851807,-0.06355232000350952,-0.16846373677253723,-0.09902617335319519,-0.10290628671646118,-0.0908542200922966,-0.11010870337486267,-0.13585658371448517,-0.09080204367637634,-0.16006042063236237,-0.16234353184700012,-0.17003485560417175,1.0426346063613892,-0.038106776773929596,-0.11813705414533615,-0.06008297577500343,-0.16230355203151703,0.1431344747543335,1.7850792407989502,-0.16940146684646606,1.1355628967285156,-0.13619820773601532,-0.12689870595932007,-0.167099729180336,0.4321346879005432,0.013104845769703388,-0.11673764884471893,0.045295458287000656,-0.16173650324344635,0.6825024485588074,-0.04915119707584381,0.9447618126869202,-0.08770698308944702,-0.16686269640922546,-0.16991695761680603,0.6191033124923706,-0.024701135233044624,0.8997527360916138,-0.16535024344921112,-0.0007464162772521377,0.031926583498716354,-0.16959284245967865,0.28332415223121643,-0.10170182585716248,-0.011772708967328072],[0.5029833316802979,-0.15544134378433228,-0.011389372870326042,-0.030879411846399307,-0.1684599369764328,0.007326873019337654,-0.16377583146095276,-0.16952542960643768,-0.11668968200683594,-0.16103099286556244,-0.1349874585866928,-0.16999433934688568,-0.1646883189678192,-0.1445176750421524,-0.09100289642810822,-0.15661488473415375,0.06766115874052048,-0.16987505555152893,0.34234127402305603,-0.16549979150295258,0.02768329344689846,-0.0615803524851799,0.6165825128555298,-0.01711290329694748,-0.041824083775281906,-0.1396894007921219,-0.06384225934743881,-0.05931884050369263,-0.08845214545726776,-0.1531975269317627,0.46571654081344604,-0.09276900440454483,0.28364118933677673,-0.16703122854232788,-0.17002665996551514,-0.1465252786874771,-0.12048353999853134,0.004581337794661522,-0.09992977231740952,-0.0491415299475193,-0.09317352622747421,-0.15736700594425201,-0.16368137300014496,-0.1547725349664688,-0.10516207665205002,0.27555951476097107,-0.16669617593288422,0.33597448468208313,-0.14776481688022614,-0.039723943918943405,-0.11708278208971024,-0.16856233775615692,-0.16975347697734833,-0.08333887159824371,-0.04972584545612335,-0.029184237122535706,0.1346917301416397,-0.08907690644264221,-0.03679922968149185,-0.08327849209308624,-0.12074149399995804,-0.07713627070188522,-0.16852010786533356,-0.1590452343225479,-0.12505879998207092,0.027614206075668335,0.3389231264591217,-0.10980655252933502,-0.1378466933965683,-0.15536697208881378,-0.15572501718997955,0.10940350592136383,-0.1145334392786026,-0.10764636844396591,-0.16631416976451874,-0.04592163488268852,-0.16763919591903687,-0.16979669034481049,-0.14436444640159607,-0.169515922665596,-0.10295641422271729,-0.13319377601146698,-0.16515842080116272,0.06427917629480362,0.2767593264579773,-0.09050479531288147,-0.15258461236953735,-0.05881942808628082,0.04664486646652222,-0.0628150999546051,0.5329926609992981,0.8882787823677063,-0.12255513668060303,-0.1326288878917694,-0.14598794281482697,-0.16601358354091644,-0.16991201043128967,-0.11646060645580292,-0.14970320463180542,-0.12497184425592422,0.884904146194458,-0.15438060462474823,-0.15527819097042084,-0.15115173161029816,0.7081939578056335,-0.16643387079238892,-0.165823832154274,-0.06014711409807205,-0.10879574716091156,-0.025774788111448288,-0.13266433775424957,-0.14632470905780792,-0.1623370200395584,-0.009119673632085323,-0.13266512751579285,-0.11283781379461288,-0.09026938676834106,-0.15380258858203888,-0.16642221808433533,-0.042139310389757156,-0.16632069647312164,-0.0732136070728302,-0.14228038489818573,-0.06062176078557968,-0.09428929537534714,-0.15893693268299103,-0.1691674143075943,-0.13082195818424225,-0.1385418325662613,-0.16835834085941315,-0.09105221927165985,-0.008008737117052078,-0.13081254065036774,-0.1560024470090866,0.3545611798763275,-0.08552701771259308,-0.16992317140102386,-0.08978355675935745,-0.11643460392951965,-0.06520989537239075,-0.14101843535900116,-0.13367794454097748,-0.11712559312582016,-0.06266351789236069,-0.16941595077514648,-0.10092991590499878,-0.09517285227775574,-0.1625368744134903,-0.07489901781082153,0.333222895860672,-0.03750717639923096,-0.11494226008653641,0.43464890122413635,-0.11505799740552902,-0.16517896950244904,-0.08599814772605896,-0.1697802096605301,-0.15502570569515228,-0.0574985034763813,-0.16632404923439026,0.14669829607009888,-0.09949828684329987,-0.13687224686145782,-0.16990937292575836,0.9238564372062683,0.4349537491798401,0.008431180380284786,-0.0013345727929845452,0.24075451493263245,-0.12471969425678253,-0.15700212121009827,-0.06368168443441391,-0.16930048167705536,-0.060592178255319595,-0.005145881325006485,-0.06417804956436157,-0.16597947478294373,-0.16992175579071045,-0.05157933384180069,-0.04580586776137352,-0.020752139389514923,-0.16923673450946808,-0.15033672749996185,-0.05962705984711647,-0.16584183275699615,0.25617703795433044,0.4331853687763214,-0.10715029388666153,0.5033899545669556,-0.170024573802948,0.12486325949430466,-0.09940262883901596,0.17483682930469513,0.7447823286056519,-0.015373831614851952,-0.08321162313222885,-0.08053169399499893,0.8977895379066467,-0.16839300096035004,-0.05715934932231903,-0.16359767317771912,-0.1663857251405716,-0.13027462363243103,-0.10469099134206772,-0.16824385523796082,-0.10964451730251312,-0.04814223572611809,-0.1670691967010498,-0.1593562364578247,-0.12921728193759918,0.39247235655784607,-0.10776761919260025,0.11227737367153168,-0.1654788851737976,-0.1699947714805603,-0.04115508496761322,-0.09546734392642975,-0.11565478146076202,-0.028218597173690796,-0.14301465451717377,0.1865834891796112,-0.15734636783599854,-0.13562794029712677,-0.13668929040431976,-0.1467738151550293,-0.1688007116317749,-0.013731081038713455,-0.014897949062287807,-0.12543660402297974,-0.10896466672420502,-0.07793891429901123,-0.13524413108825684,0.43675440549850464,-0.13296210765838623,-0.08180654048919678,0.2500341832637787,-0.12382835894823074,-0.15555863082408905,0.017241232097148895,-0.16039414703845978,0.18191367387771606,-0.15657852590084076,-0.16991475224494934,-0.16567590832710266,-0.16695363819599152,-0.16782116889953613,-0.01448336336761713,-0.11907714605331421,-0.16806577146053314,-0.13603968918323517,-0.12575364112854004,-0.13708578050136566,-0.1330990344285965,0.5784736275672913,0.0022984088864177465,-0.012735769152641296,0.000181101422640495,-0.15097293257713318,0.19056262075901031,-0.08874978125095367,-0.13250811398029327,-0.11379733681678772,-0.04835907742381096,-0.02272486686706543,-0.14525648951530457,-0.14707347750663757,-0.1619867980480194,0.47365692257881165,-0.14543583989143372,-0.16479328274726868,-0.039156701415777206,0.4694811999797821,0.4319862723350525,-0.16804781556129456,0.05060090124607086,-0.06835012882947922,-0.07202063500881195,-0.13658995926380157,-0.12202755361795425,1.0190038681030273,-0.16994698345661163,-0.13077767193317413,-0.05803963541984558,-0.14770831167697906,-0.1662016212940216,0.2155885398387909,0.8266958594322205,-0.15470004081726074,-0.13814374804496765,-0.140385240316391,-0.16853755712509155,-0.06393406540155411,-0.04183376207947731,0.12047898769378662,-0.028520481660962105,-0.16362278163433075,0.4078516960144043,-0.0780685767531395,-0.06765947490930557,0.17291046679019928,-0.07814647257328033,-0.16414228081703186,0.5152413845062256,-0.1700328141450882,-0.1506272256374359,-0.16481134295463562,-0.14171211421489716,-0.13616445660591125,1.3250986337661743,-0.05486884340643883,-0.08755339682102203,-0.12940667569637299,-0.1510459929704666,0.2703394293785095,-0.028200974687933922,1.0746245384216309,-0.14683683216571808,0.5855229496955872,-0.060045208781957626,-0.03782886266708374,-0.11920630186796188,0.38598379492759705,-0.09976334869861603,-0.15846168994903564,0.3423568308353424,-0.16156895458698273,-0.08654134720563889,0.6452258229255676,0.23144753277301788,-0.03886006772518158,-0.018302086740732193,-0.03962789475917816,-0.1478763371706009,0.1636604219675064,-0.11511833220720291,-0.16333763301372528,-0.14175449311733246,-0.1700398325920105,0.3008001446723938,0.6101768612861633,0.19903776049613953,-0.15566794574260712,-0.08502610772848129,-0.1391417235136032,-0.16984961926937103,-0.1697845309972763,-0.03227278217673302,-0.14560498297214508,-0.16901984810829163,-0.10858835279941559,0.3934616148471832,-0.1674327552318573,-0.003632431849837303,-0.1563367247581482,-0.1583164632320404,0.32127267122268677,-0.03017849661409855,-0.1534813940525055,0.5359789729118347,-0.15956231951713562,-0.07912344485521317,-0.04608142003417015,-0.16945749521255493,-0.0868559330701828,-0.14017964899539948,-0.09317990392446518,-0.16173575818538666,-0.1699853390455246,-0.16313619911670685,-0.1484978348016739,-0.1290753036737442,-0.058488667011260986,-0.06877174228429794,-0.10013693571090698,-0.012697313912212849,-0.031628936529159546,-0.035813577473163605,-0.16415637731552124,-0.11575168371200562,1.871484398841858,-0.013959015719592571,-0.1647089123725891,-0.15398859977722168,2.4853837490081787,1.7670001983642578,0.9002495408058167,-0.09636981785297394,-0.16937100887298584,-0.16803030669689178,-0.11630558967590332,-0.16470374166965485,-0.09068339318037033,-0.13703963160514832,-0.13151153922080994,-0.17003872990608215,-0.14693377912044525,-0.07342648506164551,-0.04354378953576088,-0.15626443922519684,-0.034673821181058884,-0.14054596424102783,-0.10797114670276642,-0.12638501822948456,0.501050591468811,-0.05176020413637161,-0.16995413601398468,-0.15655846893787384,-0.07054692506790161,-0.16905955970287323,-0.17002084851264954,0.0891263484954834,-0.04490577429533005,-0.05869767442345619,-0.10807405412197113,-0.1613113284111023,-0.1641111671924591,0.6603304147720337,-0.0887167751789093,-0.010520612820982933,-0.042886458337306976,-0.09888153523206711,-0.11737983673810959,-0.1653486043214798,-0.05615692213177681,-0.12827451527118683,-0.14668837189674377,0.2309987097978592,-0.16918186843395233,-0.09841568768024445,-0.13971804082393646,-0.12276434153318405,-0.0992254912853241,-0.09920060634613037,-0.1409178227186203,-0.07308691740036011,-0.16768017411231995,-0.16684868931770325,-0.02338605374097824,-0.16999630630016327,-0.16919787228107452,0.21593128144741058,-0.05142688378691673,-0.10914469510316849,-0.054087527096271515,-0.14939941465854645,-0.1512329876422882,0.08551251888275146,-0.14322610199451447,-0.1298772394657135,-0.09676790982484818,-0.022071558982133865,-0.06662702560424805,0.21397764980793,-0.15428805351257324,-0.1217988133430481,-0.11088212579488754,-0.15973114967346191,-0.0814674124121666,-0.07469135522842407,-0.049835897982120514,-0.1515696495771408,-0.09881158173084259,-0.004333042539656162,0.2721441090106964,-0.024958977475762367,0.6783512234687805,-0.021373102441430092,-0.16971832513809204,-0.09435573220252991,-0.15827034413814545,-0.005027416627854109,0.8693059682846069,-0.1504552960395813,-0.1346917450428009,-0.08370960503816605,-0.07482820749282837,-0.12465953826904297,-0.023424046114087105,-0.1562589406967163,0.030935591086745262,0.13019178807735443,0.017207015305757523,-0.12047021090984344,-0.019693022593855858,-0.1322028636932373,-0.15837420523166656,-0.15272913873195648,0.027195511385798454,3.0161051750183105,0.13871300220489502,-0.018096018582582474,-0.16503235697746277,-0.09298550337553024,0.10703236609697342,-0.1699216663837433,-0.13879252970218658,0.31059369444847107,-0.09881139546632767,-0.16929978132247925,0.12839974462985992,-0.06490755826234818,-0.12524451315402985,0.25316864252090454,-0.16996131837368011,1.5554189682006836,-0.016952306032180786,-0.16901621222496033,-0.07730181515216827,-0.16816438734531403,-0.07701335847377777,-0.09990358352661133,-0.14612632989883423,-0.11692925542593002,-0.04035642370581627,0.37023305892944336,-0.08705392479896545,-0.12354127317667007,-0.14254789054393768,-0.030644074082374573,-0.16997703909873962,-0.0666668564081192,-0.13242362439632416,-0.09531251341104507,-0.08041393011808395,-0.09611862897872925,0.7741063833236694,-0.043364252895116806,-0.1688011735677719,-0.0713251531124115,-0.16563157737255096,1.4475916624069214,-0.11176249384880066,-0.062144987285137177,0.0015346442814916372,0.7746179103851318,-0.12472739070653915,-0.16937360167503357,-0.06955349445343018,-0.011417901143431664,0.09151177108287811,0.1735953539609909,-0.15456163883209229,-0.02797420136630535,-0.05194954574108124,-0.1665295660495758,0.043981824070215225,-0.16010688245296478,0.5432537198066711,-0.0486995130777359,-0.07450465857982635,0.3922733962535858,-0.1523197889328003,-0.15313701331615448,-0.1059374138712883,0.3531340956687927,0.004948901012539864,-0.13327893614768982,-0.11499577760696411,-0.09819599986076355,-0.04641745612025261,-0.14883145689964294,-0.1683230698108673,-0.15766221284866333,-0.11172833293676376,-0.16707371175289154,-0.1580558568239212,-0.1509888470172882,-0.16539856791496277,-0.12451241910457611,0.40101897716522217,-0.16878844797611237,0.48473215103149414,-0.16039305925369263,0.3137178122997284,-0.15087735652923584,0.8366789817810059,-0.11210403591394424,-0.0665869191288948,0.5088049173355103,-0.16074296832084656,-0.08180181682109833,-0.15652726590633392,-0.17001284658908844,-0.16741392016410828,-0.16657716035842896,-0.11333499848842621,-0.08114976435899734,-0.02759503573179245,-0.08122632652521133,-0.025112703442573547,-0.015347064472734928,-0.1471358984708786,0.5992565155029297,-0.13536374270915985,-0.031492941081523895,0.026239663362503052,-0.0024391578044742346,-0.1298760175704956,-0.07404904067516327,-0.08887757360935211,0.09567059576511383,-0.13389861583709717,-0.01959417387843132,0.4650489389896393,0.6798526644706726,-0.022089406847953796,-0.16569630801677704,-0.1580635905265808,-0.016231456771492958,-1.5220956584016676e-07,-0.030260417610406876,-0.021074768155813217,-0.08028387278318405,-0.12108532339334488,-0.09458605945110321,-0.07976119220256805,-0.15058092772960663,-0.051889341324567795,0.02076209895312786,-0.04859745129942894,-0.1699228733778,-0.14885640144348145,0.6483492255210876,0.16001497209072113,-0.14604416489601135,-0.030749449506402016,-0.16986598074436188,-0.021867644041776657,-0.16387811303138733,-0.08568211644887924,0.35154178738594055,-0.15544365346431732,-0.03636627644300461,0.520822286605835,-0.03907592594623566,-0.025631805881857872,-0.17001865804195404,-0.16402967274188995,1.3314975500106812,-0.0667247623205185,0.6633565425872803,-0.15777550637722015,-0.0732196792960167,-0.1053600087761879,-0.163766011595726,-0.1643829494714737,-0.07280342280864716,-0.15899406373500824,-0.08357638865709305,-0.10349354892969131,-0.16501109302043915,-0.09367910027503967,0.09754816442728043,0.25554361939430237,-0.16957442462444305,-0.15908925235271454,1.208175539970398,-0.16000032424926758,-0.1653101146221161,0.5805158019065857,0.4329240918159485,-0.1474771350622177,0.12968924641609192,-0.07496044039726257,-0.0057224067859351635,-0.05958990007638931,-0.14604543149471283,-0.1209007278084755,-0.05119303986430168,-0.11166615039110184,-0.058418113738298416,-0.1630208045244217,0.2378254234790802,-0.06519338488578796,0.018753157928586006,0.48055171966552734,-0.12318699806928635,-0.16294123232364655,-0.13513202965259552,0.09767854958772659,-0.07344000041484833,-0.1451840102672577,-0.08085976541042328,-0.1624719500541687,-0.07857012003660202,-0.07237157970666885,-0.08089597523212433,0.47870880365371704,-0.06681551039218903,-0.15976954996585846,-0.09816199541091919,-0.13400733470916748,-0.11535961180925369,-0.10305330157279968,0.20100808143615723,-0.15360596776008606,-0.12432263791561127,-0.07257422804832458,-0.11552852392196655,-0.16669559478759766,-0.01282576099038124,0.7853999733924866,-0.02331666648387909,-0.05077138915657997,-0.15942534804344177,-0.16181817650794983,-0.10566885024309158,-0.13942010700702667,-0.12050539255142212,-0.06399712711572647,-0.08264432847499847,-0.15635651350021362,-0.1691327542066574,-0.10341023653745651,-0.1666625589132309,0.14274568855762482,-0.16804970800876617,-0.15839999914169312,-0.06481142342090607,-0.05147867277264595,-0.05300765112042427,-0.011935295537114143,0.23281726241111755,-0.16673780977725983,-0.13804662227630615,-0.1579764485359192,-0.12152605503797531,0.8759745359420776,-0.16566835343837738,-0.037190031260252,-0.012204564176499844,0.37090906500816345,-0.095997154712677,-0.1484333872795105,-0.08049662411212921,-0.11646144092082977,-0.12713509798049927,-0.09808880090713501,-0.04435250535607338,-0.1698804497718811,-0.1618286371231079,-0.12084820866584778,-0.1653284877538681,-0.03650008887052536,-0.013844883069396019,-0.1629197597503662,-0.09465361386537552,-0.09872421622276306,0.19851240515708923,-0.16805694997310638,-0.15924987196922302,-0.16340483725070953,0.19229629635810852,-0.13502193987369537,0.05729990452528,-0.16225063800811768,-0.014114835299551487,-0.06356481462717056,0.3556925058364868,0.049248892813920975,-0.15440933406352997,-0.169373020529747,-0.07260725647211075,-0.0924437940120697,-0.1698027402162552,-0.16235913336277008,-0.16710726916790009,-0.0116032799705863,-0.1700160801410675,0.24296894669532776,0.014782295562326908,-0.16938196122646332,-0.007948452606797218,-0.16408276557922363,-0.004654115531593561,-0.16077201068401337,-0.1636628806591034,-0.16387434303760529,-0.13301753997802734,-0.09485343098640442,-0.03363808989524841,-0.15215374529361725,0.8028853535652161,-0.1476438194513321,-0.14130260050296783,-0.06890399754047394,-0.08156467229127884,-0.1284254491329193,0.3009105920791626,-0.09326546639204025,-0.11838865280151367,-0.14727437496185303,-0.056869570165872574,-0.00017157712136395276,-0.10576991736888885,0.15751470625400543,-0.16546927392482758,0.03521789610385895,-0.042256712913513184,-0.15905269980430603,-0.004673465620726347,0.30600905418395996,0.2954162657260895,1.721846103668213,0.8068200349807739,-0.06042433902621269,-0.000824399699922651,-0.16700926423072815,-0.09717731922864914,-0.03578755632042885,-0.1387271285057068,1.068894863128662,-0.16674792766571045,-0.16933658719062805,-0.1394156515598297,0.17001624405384064,-0.05428875610232353,-0.16478745639324188,-0.11414262652397156,-0.09157136082649231,0.06368611007928848,-0.12089526653289795,0.5525158643722534,-0.024892980232834816,-0.011844041757285595,-0.15897218883037567,0.040822893381118774,-0.003749786177650094,0.9472405910491943,0.04940390959382057,-0.06722819805145264,-0.05542058125138283,-0.05673781782388687,-0.14882996678352356,0.22940751910209656,-0.1640680730342865,0.0702630952000618,-0.1352015733718872,-0.04784436896443367,-0.13533169031143188,-0.12878333032131195,-0.14170216023921967,-0.14444014430046082,0.16205710172653198,-0.07515958696603775,-0.1495690494775772,-0.16823327541351318,-0.012688104063272476,-0.036585722118616104,-0.11728989332914352,-0.14573194086551666,-0.16053271293640137,-0.15383166074752808,-0.15817414224147797,0.21673840284347534,-0.12174882739782333,1.4477311372756958,0.15437203645706177,-0.11632918566465378,0.1014295145869255,-0.08175471425056458,-0.13915222883224487,-0.14823131263256073,-0.08685021847486496,-0.15703651309013367,-0.08653748035430908,-0.08953967690467834,-0.15928532183170319,-0.1425255835056305,-0.15305539965629578,-0.15878432989120483,-0.15606290102005005,-0.10976370424032211,-0.09159818291664124,-0.06977099925279617,-0.08224739134311676,-0.16225266456604004,-0.07011649012565613,-0.16664224863052368,-0.06857377290725708,-0.07936783879995346,-0.002511730883270502,0.2356005162000656,-0.09268444776535034,-0.15467627346515656,-0.05661068111658096,0.6716062426567078,-0.1697472333908081,-0.12387426197528839,-0.14802955090999603,-0.11453981697559357,0.13657595217227936,-0.09332440793514252,-0.1697775274515152,-0.011427409015595913,-0.09992806613445282,-0.1692960262298584,-0.1421256810426712,0.25255194306373596,-0.05934656783938408,2.2199888229370117,-0.07658912986516953,-0.1694045215845108,-0.15577831864356995,-0.04147425666451454,-0.1360226571559906,-0.1643320918083191,-0.14469321072101593,0.29912978410720825,-0.06722422689199448,-0.09536492824554443,-0.06238362938165665,-0.07557027786970139,-0.1039825901389122,-0.07059327512979507,-0.16276298463344574,-0.14786387979984283,-0.1687496453523636,0.0579800084233284,0.12971708178520203,-0.037243105471134186,-0.08946295082569122,-0.045183319598436356,-0.16124936938285828,0.04736277088522911,-0.07125091552734375,-0.07654381543397903,1.0836400985717773,0.8646337389945984,-0.15912722051143646,-0.03202894702553749,-0.07708413898944855,-0.1404660940170288,-0.16784831881523132,-0.1558207869529724,-0.053413473069667816,-0.04745768755674362,-0.030668392777442932,-0.13853183388710022,0.0906452089548111,-0.15511339902877808,-0.13300833106040955,1.6971406936645508,1.4398314952850342,-0.16359271109104156,-0.12894085049629211,-0.17001833021640778,-0.009162318892776966,-0.1698518991470337,-0.014665603637695312,0.057497501373291016,-0.16788384318351746,-0.09212174266576767,-0.05615304782986641,0.47643354535102844,-0.01202909555286169,-0.057210322469472885,0.35400402545928955,-0.15007087588310242,-0.1504969298839569,-0.1416947990655899,-0.16995936632156372,-0.14579132199287415,0.06328233331441879,-0.14897437393665314,-0.022145438939332962,-0.15997813642024994,0.025456013157963753,-0.16949480772018433,-0.14157523214817047,-0.16488665342330933,-0.016839560121297836,-0.1666264683008194,-0.1525384783744812,-0.096774622797966,-0.04823271557688713,-0.023487094789743423,-0.12301834672689438,-0.13323810696601868,-0.12705247104167938,-0.15887302160263062,-0.06395406275987625,0.1410272717475891,-0.15717533230781555,-0.1551237851381302,-0.1591317057609558,0.3594832420349121,-0.02464931085705757,-0.14376075565814972,-0.1665511578321457,-0.06106195226311684,0.6753652095794678,-0.005636793561279774,0.23695862293243408,-0.054904911667108536,-0.1449156105518341,0.18770405650138855,-0.048039261251688004,0.3988034129142761,0.8974051475524902,-0.018925903365015984,-0.062341950833797455,0.1435829997062683,-0.16618525981903076,-0.16952715814113617,0.3317508399486542,-0.04996008798480034,-0.15816621482372284,-0.03290901705622673,-0.044277552515268326,-0.15706507861614227,-0.1666347086429596,0.012511713430285454,-0.08438054472208023,-0.12560969591140747,-0.1358603984117508,-0.10052666068077087,-0.07861549407243729,-0.011945929378271103,-0.08531979471445084,-0.14045074582099915,-0.08205589652061462,-0.08958038687705994,-0.15950840711593628,-0.08267497271299362,-0.05972089618444443,-0.02492116019129753,-0.08058778196573257,-0.1689884066581726,-0.16997693479061127,-0.06671744585037231,0.043140728026628494,-0.13071636855602264,-0.16653835773468018,-0.08250763267278671,-0.16297562420368195,-0.15072712302207947,-0.006933426950126886,0.7131559252738953,-0.14484120905399323,-0.14894115924835205,0.7862331867218018,-0.13231077790260315,-0.1582489013671875,-0.16851823031902313,0.28215786814689636,0.31257644295692444,-0.16982965171337128,-0.02437349408864975,-0.1299162209033966,-0.16963694989681244,-0.09909611195325851,-0.03570133447647095,-0.029857218265533447,-0.16944915056228638,-0.17003309726715088,-0.1210729107260704,-0.15182369947433472,-0.16970239579677582,0.1362108290195465,-0.05562210828065872,-0.16106998920440674,-0.13149583339691162,-0.15908746421337128,-0.16806213557720184,-0.028761496767401695,0.1045355498790741,-0.16304831206798553,0.441543310880661,-0.1360965073108673,-0.12478654086589813,-0.04711505025625229,0.31814923882484436,-0.12899398803710938,-0.09172508865594864,-0.1192617118358612,-0.028864651918411255,-0.11303507536649704,-0.06534548848867416,-0.13022123277187347,1.0738729238510132,-0.11489144712686539,0.584733784198761,0.4147046208381653,-0.14012810587882996,-0.059359073638916016,-0.15751388669013977,-0.1670558899641037,-0.014548861421644688,-0.1695820540189743,-0.16931943595409393,-0.12087845057249069,0.07301189750432968,-0.16153348982334137,-0.16995051503181458,0.6069381237030029,-0.1610856056213379,-0.004568233620375395,-0.0114526879042387,-0.11554519832134247,0.3921564817428589,-0.0805601254105568,-0.16447100043296814,-0.1480783224105835,-0.16861045360565186,-0.1419890820980072,-0.08309526741504669,-0.0965719148516655,-0.15380389988422394,0.06274651736021042,-0.1323707103729248,-0.14389653503894806,-0.158319354057312,-0.07241787016391754,-0.1408902108669281,0.5193718671798706,-0.13426950573921204,-0.032349929213523865,-0.10529718548059464,0.4484008550643921,0.4355987012386322,-0.16976305842399597,-0.031105024740099907,-0.16708464920520782,-0.058270931243896484,-0.16040994226932526,0.1128893494606018,-0.034247398376464844,-0.16867408156394958,0.16339538991451263,0.5770279169082642,-0.041946087032556534,-0.16960394382476807,0.002179706934839487,0.35329729318618774,-0.05039599910378456,-0.16487687826156616,-0.09262862801551819,-0.04633616283535957,-0.04699692130088806,-0.11145581305027008,-0.014450928196310997,-0.0005334958550520241,-0.16886386275291443,-0.16064871847629547,-0.04941695183515549,-0.12853506207466125,0.2876962423324585,-0.14943170547485352,-0.05613068863749504,-0.10600480437278748,-0.1049918457865715,-0.10779696702957153,-0.17002364993095398,-0.16835163533687592,-0.16541995108127594,0.0053340657614171505,-0.11195170879364014,-0.16848357021808624,-0.11814437061548233,0.3771398961544037,-0.14989738166332245,-0.024830259382724762,0.1999427080154419,0.6788098812103271,-0.045615047216415405,-0.16905580461025238,-0.07622887939214706,0.18761219084262848,-0.0377257838845253,-0.044821009039878845,-0.13832876086235046,-0.16240550577640533,-0.15264491736888885,-0.06640321761369705,-0.14014402031898499,-0.12316086888313293,-0.1133265569806099,-0.14565260708332062,-0.16290296614170074,-0.10422570258378983,0.23529461026191711,-0.06742081791162491,-0.08357065171003342,-0.09785458445549011,-0.10502730309963226,-0.005263962782919407,-0.0431082583963871,-0.16341517865657806,-0.16996657848358154,-0.15292033553123474,-0.017753129824995995,-0.13006868958473206,-0.1357782483100891,0.23886355757713318,-0.1699061542749405,0.7995795011520386,0.08402853459119797,0.15547874569892883,-0.08812955766916275,-0.052076175808906555,-0.1700364202260971,-0.13283737003803253,-0.13034497201442719,-0.009203619323670864,-0.15815849602222443,0.6024396419525146,0.6495392918586731,-0.16998757421970367,-0.011631644330918789,-0.037199970334768295,-0.16857123374938965,-0.13220539689064026,-0.05293350666761398,-0.014668771997094154,-0.1624905914068222,-0.11680369079113007,0.18255296349525452,-0.047014374285936356,-0.1618824154138565,-0.08471442013978958,0.365255743265152,-0.1173003762960434,-0.16732905805110931,-0.16551271080970764,-0.1065022274851799,-0.12119504809379578,0.4720224440097809,-0.15493136644363403,0.3068303167819977,-0.06911665201187134,-0.16888096928596497,-0.06865737587213516,0.8144164681434631,-0.119951993227005,-0.15380558371543884,-0.08444400876760483,-0.15271210670471191,-0.08628249168395996,-0.043217986822128296,-0.13567017018795013,0.2692070007324219,-0.13181860744953156,0.6064567565917969,-0.13410554826259613,-0.09201043844223022,-0.10757467895746231,-0.16161392629146576,0.25353971123695374,-0.06467924267053604,-0.1411837786436081,1.615675449371338,-0.09522359073162079,-0.04100830852985382,0.0051347254775464535,-0.13897806406021118,-0.14845268428325653,-0.16153909265995026,-0.14517877995967865,0.32430002093315125,-0.14652903378009796,0.19656579196453094,-0.13187740743160248,-0.00949570257216692,-0.16479521989822388,-0.0645509883761406,-0.16552339494228363,-0.09698542952537537,-0.1668194681406021,-0.07899029552936554,-0.16064956784248352,-0.036252349615097046,-0.04420721158385277,0.3590986728668213,-0.1272994875907898,-0.14033211767673492,-0.041396982967853546,-0.1278454065322876,0.5961182713508606,-0.11095907539129257,0.07502800226211548,0.20342205464839935,0.030875271186232567,-0.01167872454971075,-0.15643885731697083,-0.025859858840703964,-0.15845203399658203,-0.07547058910131454,0.922706127166748,-0.15125145018100739,-0.11341188102960587,-0.03706984966993332,-0.13559089601039886,-0.0014631551457569003,-0.11421006917953491,-0.12704919278621674,-0.13479168713092804,0.9374449253082275,-0.004552200436592102,-0.015061402693390846,-0.14835163950920105,-0.16970978677272797,0.33728504180908203,-0.08708355575799942,-0.049013979732990265,-0.04727901890873909,-0.08735283464193344,0.32065635919570923,-0.07027297466993332,-0.150309756398201,-0.17001928389072418,0.14627118408679962,-0.167510986328125,-0.07713168114423752,-0.16178646683692932,-0.11779800057411194,0.8761975765228271,-0.14766629040241241,-0.10614373534917831,-0.04932178184390068,-0.16839373111724854,-0.1259920448064804,-0.04857751727104187,-0.16203033924102783,-0.08296288549900055,0.2175694704055786,-0.06334630399942398,0.08290904760360718,-0.14374931156635284,-0.16918613016605377,-0.15739060938358307,-0.015242194756865501,-0.15508665144443512,-0.15190906822681427,-0.1002490222454071,-0.16426342725753784,-0.1652871072292328,-0.14291885495185852,-0.06435281038284302,-0.005396016873419285,-0.023855548352003098,0.7941679358482361,-0.06703496724367142,-0.14316816627979279,-0.0770331472158432,-0.1697423756122589,0.08566196262836456,-0.16840216517448425,-0.1617058664560318,-0.16898709535598755,0.45308536291122437,0.26724499464035034,-0.16917000710964203,-0.1052832379937172,-0.16692233085632324,-0.005169144365936518,-0.16881833970546722,-0.08935759216547012,-0.0699450746178627,-0.09557759761810303,-0.16809378564357758,0.2416011095046997,-0.07182184606790543,-0.15398967266082764,-0.15975964069366455,-0.16799379885196686,-0.0696612223982811,0.01156070176512003,-0.1042633205652237,-0.03539310395717621,-0.16987742483615875,-0.11329757422208786,-0.16736599802970886,-0.15651169419288635,0.6669917702674866,0.006194899324327707,0.7112263441085815,-0.06564279645681381,-0.0741611048579216,-0.014780908823013306,-0.16192595660686493,-0.015644315630197525,0.03379543870687485,-0.16804459691047668,0.0903775542974472,-0.10811571776866913,-0.14450110495090485,-0.16973814368247986,-0.16336876153945923,-0.12458857148885727,-0.033586520701646805,-0.16590353846549988,-0.1621655523777008,-0.16991668939590454,-0.029468942433595657,-0.1262819617986679,1.3791828155517578,-0.10658230632543564,-0.15804027020931244,-0.10666067898273468,-0.1426972597837448,-0.14846956729888916,-0.1603550910949707,-0.14402124285697937,-0.16724321246147156,-0.1019110307097435,-0.161469966173172,-0.1067398190498352,-0.09331175684928894,-0.023651812225580215,0.021152913570404053,-0.16285142302513123,-0.15450187027454376,-0.1166914701461792,-0.08929295837879181,0.42064112424850464,0.48156532645225525,-0.12056966871023178,-0.1587669998407364,-0.16863153874874115,0.5102173686027527,-0.16682851314544678,1.7118849754333496,-0.14329184591770172,1.0612061023712158,-0.06499366462230682,-0.07367997616529465,-0.05545838177204132,-0.12209779769182205,-0.16590271890163422,0.9515824317932129,-0.1693391352891922,0.09960999339818954,-0.06372026354074478,0.028318587690591812,-0.11541363596916199,-0.030415641143918037,-0.12589560449123383,0.17301979660987854,0.30696454644203186,-0.13260571658611298,-0.15924939513206482,-0.08877743035554886,-0.16215872764587402,-0.06273305416107178,-0.11066540330648422,-0.15719740092754364,-0.09769400954246521,-0.12292517721652985,-0.0006708932342007756,0.477520614862442,0.5844007134437561,0.36066463589668274,-0.07575283199548721,-0.13161852955818176,0.9123138189315796,-0.16106295585632324,-0.1346336156129837,0.1280769407749176,-0.10972931981086731,0.04532311484217644,0.05529829114675522,0.03214387595653534,-0.14378061890602112,-0.08825049549341202,0.20149095356464386,0.02361343801021576,-0.10351868718862534,-0.05509219691157341,-0.16868677735328674,-0.013775970786809921,-0.14052698016166687,-0.06623188406229019,-0.07172724604606628,0.16449256241321564,0.27446049451828003,1.420311689376831,-0.08102519810199738,0.008427509106695652,-0.08545509725809097,-0.10329718887805939,-0.1700395941734314,-0.17000940442085266,-0.07802224904298782,-0.07866667956113815,-0.15251536667346954,0.17740699648857117,-0.15023969113826752,0.23427622020244598,-0.03187531605362892,-0.14941398799419403,-0.1671658307313919,-0.02097131311893463,-0.09408745914697647,-0.16639716923236847,-0.03894529491662979,-0.08133021742105484,-0.14512614905834198,-0.16037964820861816,-0.052538298070430756,-0.1633278727531433,1.013045310974121,-0.0005238447920419276,0.26068365573883057,0.07751059532165527,-0.15843775868415833,-0.1700066775083542,-0.11058001965284348,-0.10833977907896042,-0.04996268451213837,-0.16440993547439575,0.0026805996894836426,-0.01837635226547718,-0.07751822471618652,-0.07889536023139954,-0.14583812654018402,-0.16781535744667053,0.2797631323337555,0.0929127112030983,1.0086863040924072,1.1431275606155396,0.11816199123859406,-0.16407731175422668,0.015071140602231026,-0.10328301042318344,-0.03803737089037895,0.14899207651615143,-0.15975607931613922,-0.015821194276213646,2.120483636856079,-0.17000268399715424,-0.16805142164230347,-0.16988085210323334,-0.1463146060705185,-0.1675826907157898,-0.10834916681051254,0.004831107333302498,-0.1678396314382553,-0.06182587519288063,-0.15429623425006866,-0.14817234873771667,-0.0232634749263525,-0.08578260987997055,-0.0994444414973259,-0.06314802914857864,1.290371298789978,-0.16737864911556244,-0.1174493283033371,-0.17003920674324036,-0.1676686555147171,-0.03661457449197769,0.27698811888694763,-0.16949914395809174,-0.09113456308841705,-0.16402991116046906,-0.16737684607505798,-0.11744092404842377,-0.1604267954826355,-0.16943390667438507,-0.12714365124702454,-0.12606796622276306,-0.05655644088983536,0.03159801661968231,0.3285744786262512,-0.12400791049003601,0.2917845845222473,0.3631376326084137,-0.03233131766319275,0.5548837780952454,0.6928724050521851,-0.0023105654399842024,-0.1400989145040512,0.046223416924476624,-0.10490695387125015,-0.10544593632221222,-0.0907687395811081,0.10262922197580338,-0.04102355241775513,2.1773064136505127,-0.16987000405788422,-0.1318286657333374,0.23978812992572784,0.0016911722486838698,-0.15268786251544952,-0.10095065087080002,0.03219686821103096,-0.14864353835582733,-0.16556669771671295,-0.13735684752464294,-0.11296897381544113,-0.051522985100746155,0.17719072103500366,-0.12897169589996338,-0.1694003790616989,-0.16340240836143494,-0.16346275806427002,-0.033810216933488846,0.14847680926322937,-0.024051908403635025,-0.09823359549045563,-0.09199736267328262,-0.0158284492790699,-0.15084248781204224,0.6453885436058044,-0.10227804630994797,-0.1675666719675064,-0.15849362313747406,0.7238269448280334,-0.13983841240406036,-0.16849882900714874,-0.16984324157238007,-0.16704639792442322,0.3181040287017822,0.9340431094169617,-0.05771397054195404,0.4919203817844391,-0.13463053107261658,-0.13329313695430756,-0.16089075803756714,0.05850629508495331,-0.16688810288906097,-0.12012196332216263,0.09750698506832123,1.1245073080062866,-0.0007813511183485389,0.40197402238845825,-0.16885250806808472,-0.038437776267528534,-0.16227741539478302,0.7656534910202026,-0.16907955706119537,-0.16995972394943237,-0.11905521154403687,-0.057821717113256454,0.8777209520339966,-0.1535862386226654,-0.031722139567136765,-0.14754197001457214,-0.05227837339043617,-0.16141436994075775,-0.06658200174570084,-0.09307143092155457,-0.13646478950977325,-0.16824841499328613,-0.027350107207894325,-0.16563525795936584,-0.1680007427930832,-0.11928693950176239,-0.1387178897857666,-0.05109884962439537,-0.10723703354597092,-0.1316991001367569,-0.11019918322563171,-0.16293694078922272,-0.13412582874298096,1.0609221458435059,-0.1337975263595581,-0.16455474495887756,-0.10329945385456085,-0.12253953516483307,-0.15555475652217865,-0.07972381263971329,0.0754975825548172,-0.1678800880908966,0.4899234175682068,-0.03723812475800514,-0.0875747874379158,-0.07523413002490997,-0.16991634666919708,0.44070038199424744,-0.11411280930042267,-0.16908971965312958,-0.0687703788280487,0.03345464542508125,-0.060795512050390244,-0.12342941015958786,-0.15401500463485718,-0.051600560545921326,0.7247995138168335,0.09503040462732315,0.002210769569501281,-0.13246341049671173,1.011827826499939,-0.08169666677713394,-0.09820320457220078,1.258167028427124,-0.14402593672275543,-0.028295036405324936,-0.019284585490822792,1.1497572660446167,2.1603379249572754,-0.06845836341381073,-0.13968220353126526,-0.08157338947057724,1.4061367511749268,-0.14739277958869934,-0.02789130061864853,-0.10918199270963669,0.14855219423770905,-0.09688854217529297,-0.0036719636991620064,-0.11905398964881897,-0.1698456108570099,0.3448164761066437,0.16419681906700134,-0.09387023746967316,-0.09392514079809189,-0.13766516745090485,0.4704021215438843,-0.1700059175491333,-0.0664324015378952,-0.1610272079706192,-0.10961592942476273,-0.02194683626294136,0.10179074853658676,-0.14995728433132172,0.04623442888259888,-0.16998709738254547,-0.07039082795381546,-0.16963261365890503,-0.014558709226548672,-0.11622829735279083,-0.16907955706119537,-0.0620909221470356,-0.10700208693742752,-0.004993459675461054,-0.024106917902827263,-0.1513420045375824,-0.1588912308216095,-0.0698821023106575,-0.047933414578437805,1.177008867263794,-0.15812987089157104,-0.152669295668602,-0.0732199102640152,-0.08142528682947159,-0.08661062270402908,-0.15628723800182343,0.243662491440773,-0.16300305724143982,-0.16873720288276672,-0.06335241347551346,-0.03157397359609604,-0.16800613701343536,-0.1296653300523758,-0.05910210311412811,-0.10357680916786194,-0.10683270543813705,0.0861499011516571,0.038768548518419266,-0.0941077321767807,-0.10429029911756516,-0.148111030459404,-0.09396703541278839,0.7930335998535156,0.1022309735417366,-0.03896697610616684,-0.10719604045152664,-0.1517951935529709,-0.1654500812292099,0.31875985860824585,-0.16214819252490997,-0.15888334810733795,0.041145678609609604,-0.16460242867469788,-0.1352018564939499,0.02470335178077221,0.8375564813613892,-0.07466375827789307,-0.16470201313495636,0.09687167406082153,0.09734223037958145,-0.1395789235830307,-0.1672186702489853,-0.09682545810937881,-0.08549971878528595,-0.15245883166790009,-0.011165620759129524,0.12388861924409866,-0.0322420559823513,0.11231359839439392,-0.1408994197845459,-0.1677858829498291,-0.1699121594429016,-0.15961264073848724,-0.01742706075310707,-0.024390192702412605,-0.14506274461746216,-0.08277130872011185,-0.16718976199626923,-0.10419676452875137,0.019942158833146095,-0.07129805535078049,3.516197919845581,-0.1117270290851593,-0.024644311517477036,-0.0928935781121254,-0.16321496665477753,-0.1576092541217804,-0.13708160817623138,-0.0017812453443184495,-0.16709935665130615,-0.05107688531279564,-0.08963891863822937,-0.1381470412015915,-0.16854211688041687,0.009205233305692673,-0.10986361652612686,-0.07736944407224655,-0.15517252683639526,-0.1700315773487091,0.10619018971920013,-0.1564224660396576,-0.07172629237174988,-0.1672029048204422,0.3666110932826996,-0.16592572629451752,-0.09838747978210449,-0.12290241569280624,-0.13599294424057007,-0.12238938361406326,-0.16857512295246124,-0.100801482796669,-0.10351821035146713,-0.0023151785135269165,-0.1670496016740799,-0.15889830887317657,-0.16485972702503204,-0.1608102023601532,-0.164766326546669,-0.13753487169742584,-0.034003522247076035,-0.08485939353704453,-0.16928575932979584,0.1713925153017044,-0.10233845561742783,-0.029051417484879494,-0.05920743569731712,-0.16972996294498444,-0.16569095849990845,-0.15949828922748566,0.7181223630905151,-0.17001047730445862,-0.14167450368404388,-0.03371189162135124,0.28006577491760254,-0.07996737211942673,-0.12800446152687073,0.2654072940349579,-0.1557510793209076,-0.16972826421260834,-0.06373140215873718,0.22414618730545044,-0.13247622549533844,-0.10973063856363297,0.7303632497787476,-0.0983353778719902,-0.15917471051216125,-0.09169324487447739,0.06249254196882248,-0.16979266703128815,-0.023617805913090706,0.454057902097702,-0.11775843799114227,-0.1685541272163391,-0.1700218915939331,-0.1619497388601303,-0.16996140778064728,0.3219146132469177,-0.10418505221605301,0.016411108896136284,0.0017853834433481097,0.8245829939842224,-0.11799348890781403,-0.10528817027807236,-0.01774878054857254,0.4522849917411804,-0.06507629156112671,-0.16818644106388092,0.25909188389778137,-0.07445444166660309,-0.06788057833909988,0.04118521884083748,-0.04985296353697777,-0.14067664742469788,1.9206634759902954,0.44290122389793396,-0.0210194680839777,-0.12169251590967178,-0.12000279873609543,-0.08014370501041412,-0.12426704913377762,-0.15196479856967926,-0.15740330517292023,0.4398947060108185,-0.1379101425409317,-0.013501469977200031,-0.013659022748470306,-0.08327583223581314,-0.021809998899698257,-0.11435557901859283,-0.16925141215324402,-0.018505485728383064,0.6885473132133484,0.3007309138774872,-0.08897584676742554,-0.12470811605453491,-0.07780128717422485,-0.10948070883750916,-0.03723996877670288,-0.0309585127979517,-0.14054593443870544,-0.01182549074292183,-0.1619046926498413,-0.13873282074928284,-0.0782536119222641,-0.13442379236221313,-0.16419336199760437,0.13137853145599365,-0.049357134848833084,-0.16938339173793793,-0.02989312820136547,-0.004090229049324989,-0.1479080468416214,0.04544574394822121,-0.166836678981781,-0.08069410920143127,-0.13050010800361633,-0.11441327631473541,0.0076699829660356045,-0.058105889707803726,-0.04556528851389885,-0.00879501923918724,-0.0754496157169342,-0.10559957474470139,-0.08646883070468903,-0.13672897219657898,-0.15554411709308624,-0.026959393173456192,0.925175130367279,-0.17003978788852692,-0.009948541410267353,-0.08480282872915268,-0.12583495676517487,-0.1653100848197937,-0.008560199290513992,-0.16729147732257843,-0.05534643679857254,-0.06134938821196556,-0.1567002385854721,-0.11872652918100357,-0.021254712715744972,-0.16405822336673737,-0.021092483773827553,-0.17000925540924072,-0.16989055275917053,-0.04031732305884361,0.14038966596126556,-0.11714446544647217,-0.11110445111989975,-0.08434059470891953,-0.004899077117443085,-0.12124659866094589,-0.13525037467479706,-0.15506963431835175,-0.09953640401363373,-0.010983731597661972,-0.14766396582126617,-0.16221940517425537,-0.14148688316345215,1.3429216146469116,-0.06565814465284348,-0.15529459714889526,0.5446969866752625,0.2288196086883545,-0.1575281322002411,-0.1534784585237503,-0.011012928560376167,1.6344335079193115,-0.1350598782300949,0.6862024664878845,-0.13437823951244354,-0.16618245840072632,-0.013683357276022434,-0.13600727915763855,-0.04122376814484596,-0.14818257093429565,0.41076233983039856,-0.16501043736934662,-0.14942872524261475,1.2478399276733398,-0.16794200241565704,0.8732820749282837,-0.15821708738803864,-0.02779983915388584,-0.1699543297290802,-0.13782349228858948,-0.0167500302195549,-0.15875792503356934,-0.05203986167907715,-0.09893431514501572,-0.00579917524009943,-0.07169631123542786,0.07867996394634247,-0.03683800250291824,-0.021684808656573296,-0.15511131286621094,-0.12974628806114197,-0.14928406476974487,-0.06472522020339966,-0.05377420410513878,-0.16267450153827667,-0.0676550343632698,-0.007148270960897207,-0.16981340944766998,-0.16801732778549194,0.8137317299842834,-0.10518798232078552,-0.15267883241176605,-0.10986310988664627,-0.0045492276549339294,-0.012876356951892376,-0.1193719282746315,-0.13979126513004303,-0.10744257271289825,0.19079765677452087,-0.04412538558244705,-0.02385907620191574,0.14244712889194489,-0.11745468527078629,-0.08705318719148636,-0.10509783774614334,-0.06823576241731644,-0.04670291021466255,-0.16074013710021973,-0.12210822850465775,0.4222031831741333,0.1385389119386673,-0.1626274138689041,1.2101637125015259,-0.16771019995212555,-0.06541073322296143,-0.16949515044689178,-0.1327279806137085,-0.1674659103155136,0.5329919457435608,-0.15142767131328583,-0.1678427904844284,-0.06752859055995941,-0.12672419846057892,0.15583854913711548,-0.16447511315345764,-0.16640175879001617,-0.16245803236961365,-0.1691683679819107,0.4656614065170288,0.21848437190055847,-0.04915107414126396,0.29104480147361755,-0.026848001405596733,-0.16093145310878754,-0.13332825899124146,0.023269569501280785,-0.1360805779695511,0.045542046427726746,-0.1634320318698883,-0.16482241451740265,-0.054752521216869354,-0.16777606308460236,-0.029373841360211372,-0.1307828724384308,-0.16387729346752167,-0.09807177633047104,0.13036209344863892,-0.15869760513305664,-0.16996698081493378,-0.1490311622619629,-0.020486829802393913,-0.10582151263952255,-0.11453919112682343,0.6966670751571655,-0.1391294300556183,-0.1556064933538437,-0.08988545835018158,-0.10334637016057968,-0.030459800735116005,-0.16972212493419647,0.5376855731010437,0.3771496117115021,-0.14406615495681763,-0.06803230196237564,0.5374600887298584,0.3811964988708496,-0.1049945056438446,-0.0786304697394371,-0.16675397753715515,0.04838251695036888,-0.1689223349094391,-0.14146725833415985,-0.00014271315012592822,-0.07251650840044022,-0.008758354932069778,0.06231847405433655,-0.15331697463989258,-0.163740336894989,0.0023237657733261585,-0.1686084121465683,-0.16818001866340637,0.04445476830005646,-0.11828822642564774,0.3234615921974182,-0.1628754436969757,-0.05510833486914635,-0.15643635392189026,-0.00028351141372695565,-0.1700259894132614,-0.03794790059328079,0.1121986135840416,-0.002964353421702981,0.23214754462242126,-0.14101667702198029,-0.0954209417104721,-0.16093474626541138,-0.06654670834541321,-0.14830897748470306,-0.14957046508789062,-0.06717628985643387,1.373807668685913,-0.1625538468360901,-0.10028053820133209,0.04324597120285034,-0.05920756608247757,-0.06710989028215408,-0.12107113748788834,-0.1654815822839737,-0.017991704866290092,-0.15219908952713013,-0.12363284081220627,-0.14610546827316284,0.37320151925086975,0.20852087438106537,-0.14412829279899597,0.20290742814540863,0.29666417837142944,0.34977632761001587,-0.16980351507663727,-0.16022293269634247,0.013477284461259842,-0.13062183558940887,-0.11200260370969772,-0.04177117347717285,-0.05819972977042198,0.2867426872253418,-0.023304862901568413,-0.09608248621225357,0.04526298865675926,-0.15572313964366913,-0.14484773576259613,-0.10050579905509949,-0.09688510745763779,-0.12364456057548523,-0.11025010794401169,-0.02897634729743004,0.4197827875614166,-0.09794113785028458,-0.019555335864424706,-0.021752992644906044,-0.1525140106678009,-0.1626265048980713,-0.10503821820020676,-0.16968469321727753,-0.14751799404621124,-0.1681140512228012,-0.1125689372420311,-0.0842764675617218,-0.1359976977109909,0.39357057213783264,-0.03725561872124672,0.7684339880943298,-0.08410695940256119,-0.16997645795345306,-0.14309458434581757,-0.1697729527950287,0.050758279860019684,-0.1415950357913971,-0.04566721245646477,-0.12540729343891144,-0.006824334152042866,-0.16487336158752441,1.4132623672485352,-4.569391967379488e-05,-0.09289967268705368,0.4579709470272064,-0.0013384647900238633,-0.008840847760438919,0.5042762756347656,-0.16906538605690002,-0.11911929398775101,-0.06143489107489586,-0.1693037748336792,-0.09185433387756348,-0.07680586725473404,-0.1656036227941513,-0.0659712478518486,-0.15188626945018768,-0.08732224255800247,-0.16991662979125977,-0.06574485450983047,-0.16559091210365295,-0.015474815852940083,-0.07728457450866699,-0.05039564147591591,-0.16019053757190704,-0.10884535312652588,-0.1395108699798584,0.22459116578102112,-0.01104041375219822,0.2710413932800293,-0.14709553122520447,-0.16848799586296082,-0.1699765920639038,0.05019025132060051,-0.14530007541179657,-0.11061780899763107,-0.11790010333061218,-0.1089254766702652,-0.1648290902376175,-0.13633430004119873,0.10356903076171875,-0.040218040347099304,0.682200014591217,-0.02021961286664009,-0.08519323170185089,-0.12841713428497314,-0.059403009712696075,-0.12279589474201202,-0.12824444472789764,-0.1700364053249359,-0.03292648494243622,-0.15520691871643066,-0.0517006516456604,-0.16985216736793518,-0.15114726126194,-0.11876635998487473,-0.14257919788360596,-0.08676260709762573,-0.053275514394044876,-0.058507539331912994,-0.07321859896183014,0.13627707958221436,-0.09619446843862534,-0.1627383977174759,-0.16452904045581818,-0.10364804416894913,-0.09725044667720795,-0.1619998663663864,-0.16990454494953156,-0.021058011800050735,-0.12863430380821228,-0.06528109312057495,0.27260369062423706,-0.15456047654151917,-0.06880613416433334,-0.11412699520587921,0.021089481189846992,-0.11560972034931183,-0.16990621387958527,-0.15759557485580444,0.5382917523384094,-0.16991640627384186,-0.05069001391530037,-0.08378805220127106,0.028929714113473892,0.2496258020401001,-0.15728601813316345,-0.0898553654551506,-0.11767025291919708,-0.076784148812294,-0.07544878125190735,-0.1559516042470932,-0.15937986969947815,-0.007677434477955103,-0.15276387333869934,-0.13436982035636902,-0.08938612043857574,-0.16345274448394775,0.4454607665538788,-0.09813429415225983,-0.13288936018943787,-0.152698814868927,-0.16983211040496826,-0.14457149803638458,-0.10172702372074127,-0.16999465227127075,-0.09748909622430801,-0.1310139000415802,-0.10094915330410004,-0.11251933127641678,-0.113527312874794,-0.09237866848707199,-0.15910553932189941,-0.07847408950328827,-0.04779929667711258,-0.11348972469568253,-0.13713502883911133,-0.033601243048906326,-0.16484981775283813,0.7439542412757874,-0.13511216640472412,-0.1581067442893982,0.0024703056551516056,-0.13158969581127167,-0.16407454013824463,0.3712422549724579,-0.020676270127296448,-0.14288458228111267,-0.16465714573860168,-0.16797690093517303,-0.13076499104499817,-0.09872503578662872,-0.14824263751506805,-0.07496137171983719,-0.14583615958690643,0.342639684677124,-0.16197453439235687,0.606328010559082,-0.03866671025753021,-0.16265319287776947,-0.0018879483686760068,-0.09100523591041565,0.1225692629814148,-0.1066410094499588,-0.10113852471113205,-0.09738563746213913,-0.09314820915460587,-0.17000941932201385,-0.14316366612911224,-0.019768964499235153,-0.13761526346206665,-0.086372971534729,0.15993347764015198,-0.16153831779956818,-0.11484019458293915,-0.16997487843036652,-0.14719797670841217,-0.0953797847032547,1.2133396863937378,-0.1347762942314148,-0.16855618357658386,-0.13078360259532928,-0.16732947528362274,-0.1344422847032547,-0.15980824828147888,-0.12038300186395645,-0.11418182402849197,0.22632001340389252,-0.0386025533080101,-0.13611814379692078,-0.08991283923387527,0.29490000009536743,-0.1560744047164917,1.1854580640792847,0.020045628771185875,-0.032029859721660614,-0.16634227335453033,-0.16619868576526642,-0.0918150469660759,-0.02114623412489891,-0.013953790999948978,-0.16331659257411957,-0.15995945036411285,-0.03179056942462921,0.20022492110729218,-0.13738372921943665,-0.04555383697152138,-0.16431938111782074,-0.13031227886676788,-0.15076787769794464,0.6291441321372986,0.7433793544769287,0.4741552770137787,-0.1455535739660263,-0.04134967923164368,-0.012020760215818882,0.12667477130889893,-0.02143671177327633,-0.08587229251861572,-0.16930358111858368,-0.1381889134645462,0.27095550298690796,-0.16014590859413147,-0.1643185168504715,1.334518313407898,-0.1650250405073166,-0.1649448424577713,0.11287476867437363,0.25681978464126587,-0.05076237767934799,-0.1403241753578186,0.527337908744812,-0.13085706532001495,-0.15482862293720245,-0.1006728783249855,-0.16313238441944122,-0.08483192324638367,-0.09060393273830414,-0.02992120571434498,-0.05139414966106415,-0.001440610853023827,-0.011248107999563217,-0.09058158099651337,-0.14230874180793762,0.039796508848667145,-0.15881653130054474,-0.1440182328224182,-0.07146763801574707,-0.1653400957584381,-0.16434228420257568,-0.018495090305805206,0.5443153381347656,-0.055952198803424835,-0.1473119705915451,0.31130221486091614,0.05073678120970726,0.3231867551803589,0.7434329390525818,-0.12063408643007278,-0.14111237227916718,-0.01512407511472702,-0.16677261888980865,-0.13707809150218964,-0.16927409172058105,-0.07378405332565308,-0.08110842108726501,-0.16372381150722504,-0.07309748232364655,-0.15767522156238556,-0.016159068793058395,-0.16915589570999146,-0.02705315873026848,-0.11494135111570358,-0.1673000305891037,-0.15973147749900818,-0.13222838938236237,0.7795246839523315,0.7042743563652039,-0.1698962152004242,-0.11801164597272873,-0.1667306274175644,-0.06556351482868195,-0.15551815927028656,-0.10232487320899963,0.4060268998146057,-0.14942874014377594,-0.1423625499010086,0.5905619263648987,-0.15776056051254272,-0.15990149974822998,-0.08880365639925003,-0.14384707808494568,0.14107418060302734,-0.16594253480434418,-0.16929544508457184,0.1112445592880249,0.2140740305185318,-0.11177972704172134,0.0018900599097833037,-0.009820016101002693,0.09789061546325684,-0.16972441971302032,-0.08536842465400696,-0.12528406083583832,-0.15930317342281342,-0.15077725052833557,0.5783998966217041,0.34321731328964233,-0.13210546970367432,-0.16991043090820312,-0.14087605476379395,-0.15778400003910065,0.3240733742713928,0.17817284166812897,-0.10155656933784485,0.24270111322402954,-0.0006155698793008924,-0.1686372458934784,-0.07181262969970703,-0.1408689320087433,0.9276379942893982,-0.16478942334651947,-0.0628131851553917,-0.1517670899629593,0.4868386685848236,-0.008738280273973942,-0.15324744582176208,0.2012803554534912,-0.16976824402809143,-0.05883355811238289,-0.11173494160175323,-0.1387632042169571,-0.16387349367141724,0.514126718044281,-0.16897724568843842,0.6932205557823181,0.07300415635108948,-0.16597595810890198,-0.1503438949584961,-0.14053742587566376,-0.15041451156139374,-0.1303219497203827,-0.11453994363546371,-0.16708071529865265,0.08309297263622284,-0.141021728515625,-0.15178199112415314,-0.1548687219619751,-0.16590894758701324,0.3464823067188263,0.4559752345085144,0.5914949178695679,-0.0785307064652443,-0.16982720792293549,-0.07674584537744522,-0.1606607735157013,-0.03309965878725052,-0.0024591770488768816,-0.14988580346107483,-0.16289906203746796,-0.16354049742221832,-0.09439542889595032,-0.03335466608405113,0.005840076133608818,-0.09498923271894455,-0.17000551521778107,-0.16413314640522003,-0.1371079385280609,-0.07019791752099991,-0.03854721784591675,-0.16307049989700317,-0.16656629741191864,0.11824197322130203,-0.06399842351675034,0.6783866286277771,-0.06040404736995697,-0.029805265367031097,-0.005081552546471357,-0.15591196715831757,-0.1442924588918686,-0.1688106656074524,-0.1627240926027298,-0.16850700974464417,-0.14379581809043884,-0.16669180989265442,-0.00032934840419329703,-0.11732786893844604,-0.12212074548006058,-0.03635856509208679,-0.13087013363838196,2.1021382808685303,-0.01720895618200302,0.6120364665985107,-0.16984406113624573,-0.14874990284442902,-0.1347668468952179,-0.1443798542022705,-0.10377886891365051,0.6896800398826599,-0.12326013296842575,-0.11016400158405304,-0.15586045384407043,-0.10515067726373672,-0.08225569874048233,-0.058296702802181244,0.896752119064331,-0.06372512876987457,-0.165787473320961,-0.07647576183080673,-0.1498958021402359,-0.05027410760521889,0.13363546133041382,-0.0896904394030571,-0.14968940615653992,-0.07074902951717377,0.053041864186525345,0.21435359120368958,-0.15852726995944977,-0.07003797590732574,-0.1094893142580986,-0.12185654044151306,-0.15644732117652893,-0.15848781168460846,-0.16724631190299988,-0.01772531308233738,-0.1357746124267578,-0.1691688746213913,-0.13080020248889923,0.015564258210361004,0.16502508521080017,0.19831734895706177,0.09214968234300613,-0.15078316628932953,-0.10989285260438919,-0.15890052914619446,-0.00907700415700674,-0.16902826726436615,-0.059555016458034515,-0.146882563829422,-0.16800397634506226,-0.16987790167331696,-0.16146433353424072,-0.01570017822086811,0.6918984055519104,-0.16088663041591644,-0.12501870095729828,-0.14065763354301453,0.01488751545548439,1.1220595836639404,-0.09901025891304016,-0.14467784762382507,-0.1662823110818863,1.2336416244506836,-0.16899175941944122,0.05892958864569664,-0.11532975733280182,1.6860103607177734,-0.04891824349761009,0.012835157103836536,0.043128930032253265,-0.07633169740438461,-0.16514474153518677,-0.1374605894088745,-0.10262814164161682,-0.03432571887969971,1.2389636039733887,-0.16419121623039246,-0.03358510509133339,-0.16925859451293945,-0.025194518268108368,-0.04202541708946228,-0.05482140928506851,-0.15239213407039642,-0.10096529126167297,-0.07080722600221634,-0.1652975082397461,-0.04187038913369179,-0.010356320068240166,-0.16036029160022736,1.177160620689392,-0.1594206541776657,-0.021672600880265236,-0.17002877593040466,-0.029340585693717003,-0.07297813892364502,-0.10694567859172821,-0.16608698666095734,-0.022473502904176712,1.0062659978866577,-0.06093800440430641,0.8742067813873291,-0.1680784821510315,-0.16186287999153137,-0.08655047416687012,0.009460421279072762,-0.16941383481025696,-0.054163701832294464,-0.02972075715661049,-0.10209471732378006,-0.16123637557029724,-0.07176634669303894,0.2263602614402771,-0.16510313749313354,-0.1655939519405365,-0.04257858172059059,-0.11754152923822403,-0.13650430738925934,-0.08748053759336472,-0.13423998653888702,-0.16236832737922668,0.4705040156841278,-0.10478170961141586,-0.007017516531050205,0.12923356890678406,-0.10452316701412201,-0.15143300592899323,-0.09745556861162186,0.17659524083137512,-0.033865395933389664,-0.12649592757225037,-0.1641726940870285,-0.13843749463558197,0.1601271629333496,0.2998081147670746,-0.1499149352312088,-0.07736276835203171,0.5147193670272827,-0.12291786074638367,0.2667141258716583,-0.01682504639029503,-0.16775967180728912,-0.1696292757987976,-0.05347416549921036,-0.14517468214035034,0.10098767280578613,-0.13696549832820892,-0.08775755763053894,-0.15907792747020721,0.2236996740102768,-0.03101632185280323,-0.16959846019744873,-0.15931566059589386,-0.15824930369853973,0.7770395278930664,0.07122977077960968,-0.014813589863479137,-0.12672048807144165,0.37442344427108765,-0.16101467609405518,-0.12758153676986694,0.15675102174282074,-0.10514635592699051,-0.16136309504508972,-0.16998201608657837,-0.13455598056316376,-0.11076872050762177,-0.014791799709200859,-0.1636061668395996,0.1875137984752655,0.33841249346733093,-0.06894518435001373,-0.16578304767608643,-0.16055724024772644,0.16438879072666168,0.1804516762495041,-0.07275106757879257,-0.1618826985359192,-0.020735912024974823,-0.15448786318302155,1.6170705556869507,-0.08274657279253006,-0.017934033647179604,-0.1467488706111908,-0.05319691821932793,0.08714020252227783,-0.13945363461971283,-0.16309654712677002,-0.043799225240945816,-0.1594998836517334,-0.10315560549497604,-0.1602618396282196,-0.12028861045837402,-0.041682060807943344,-0.132176011800766,-0.11755672097206116,-0.1521110087633133,-0.1480698138475418,-0.01583455316722393,-0.15279331803321838,-0.17004071176052094,-0.15885590016841888,-0.169523686170578,-0.16976213455200195,-0.1284489929676056,0.2574695944786072,-0.16969817876815796,-0.15156671404838562,-0.08021727949380875,-0.08955226838588715,-0.04683110862970352,-0.08033142238855362,-0.1009150967001915,-0.1489698588848114,-0.059089452028274536,0.19320251047611237,0.040041472762823105,-0.1636456549167633,-0.1625886708498001,-0.15724502503871918,-0.07751786708831787,0.14284658432006836,-0.09501627087593079,0.6023257374763489,-0.1661355048418045,-0.15904130041599274,-0.09675230830907822,-0.12156105786561966,-0.1582459658384323,-0.1626318097114563,-0.1697922945022583,-0.15930519998073578,-0.1618581861257553,0.023143533617258072,-0.1514301896095276,-0.042499154806137085,-0.09131577610969543,-0.05858403816819191,-0.16993720829486847,-0.14485132694244385,-0.04888945072889328,-8.794387213129085e-06,-0.0641622394323349,-0.11900507658720016,-0.13359078764915466,0.5065506100654602,-0.008013692684471607,-0.1524948924779892,-0.06447777897119522,0.4310961663722992,-0.16787227988243103,-0.08827966451644897,-0.16125643253326416,0.3579574525356293,-0.07663019746541977,-0.16217364370822906,-0.1698012799024582,-0.1677965372800827,-0.16259688138961792,-0.01761498674750328,-0.10538563132286072,-0.10514728724956512,0.14144448935985565,1.2549190521240234,1.4275453090667725,-0.16655497252941132,-0.00031716510420665145,-0.16774238646030426,-0.1593116819858551,-0.04979539290070534,-0.16274970769882202,-0.16999445855617523,-0.0897044911980629,-0.1698664426803589,-0.1698715090751648,-0.09776091575622559,-0.07212133705615997,-0.141989067196846,-0.16910727322101593,0.12523312866687775,-0.12340545654296875,0.09205006062984467,-0.009043109603226185,-0.07754765450954437,-0.12518131732940674,0.5622408986091614,-0.13947883248329163,-0.16862216591835022,-0.1641501933336258,-0.04285123944282532,0.24534951150417328,-0.10192090272903442,-0.1696288138628006,-0.14075422286987305,-0.05290105193853378,-0.16989366710186005,-0.16621217131614685,-0.1385875791311264,0.36137914657592773,-0.0701945424079895,-0.1670045256614685,-0.06400682032108307,-0.1216651052236557,0.2350141853094101,-0.16892774403095245,-0.16952763497829437,-0.16986174881458282,-0.15020939707756042,-0.14605066180229187,-0.16227486729621887,-0.16208119690418243,-0.026693567633628845,-0.10655403882265091,-0.1631036102771759,-0.05524847283959389,-0.15583528578281403,-0.16831538081169128,0.15165919065475464,-0.027983395382761955,-0.07687416672706604,-0.1529424637556076,-0.12441014498472214,0.1200234591960907,-0.1699727326631546,-0.16335366666316986,-0.1465032696723938,-0.1633838415145874,-0.16505631804466248,0.25809285044670105,-0.02368679642677307,-0.11443610489368439,-0.1647946685552597,-0.07257145643234253,-0.16109034419059753,-0.13764306902885437,0.3305306136608124,-0.1603347361087799,-0.12014725059270859,-0.007437839172780514,0.3518984913825989,-0.16199342906475067,-0.12334732711315155,-0.010834780521690845,0.33731985092163086,-0.13719779253005981,-0.05601261556148529,0.05429933965206146,-0.09579303860664368,1.1467900276184082,-0.1509394645690918,-0.010740787722170353,0.26154378056526184,-0.17002692818641663,0.08690595626831055,-0.026631005108356476,-0.1615327149629593,0.06551043689250946,-0.13736341893672943,-0.12779872119426727,-0.06050679460167885,0.06194448098540306,-0.006361760664731264,-0.16978853940963745,0.5506030321121216,0.018900543451309204,-0.16246378421783447,-0.03066246397793293,-0.1516318917274475,0.1580587476491928,-0.15600641071796417,-0.1689581722021103,-0.1687391847372055,-0.12935471534729004,-0.06670477241277695,-5.2246273298806045e-06,1.1619985103607178,-0.1627880185842514,-0.02020779810845852,0.22772492468357086,-0.010811809450387955,-0.05295465886592865,-0.13354189693927765,0.7732564806938171,-0.07459232956171036,-0.0988127812743187,-0.15944093465805054,-0.1676277369260788,-0.15741567313671112,-0.004527768585830927,0.6558809876441956,0.5008954405784607,-0.16747818887233734,-0.06512404978275299,-0.16097404062747955,-0.12244094163179398,-0.11786017566919327,0.6455880999565125,-0.07000185549259186,-0.13355566561222076,-0.046194374561309814,-0.12767967581748962,-0.04193815961480141,-0.1238996759057045,-0.07824310660362244,-0.15560567378997803,-0.12974508106708527,0.14266130328178406,-0.05821032077074051,-0.07512692362070084,-0.02453477866947651,-0.0726132020354271,0.0144938500598073,-0.05467692390084267,-0.16784903407096863,-0.1678202897310257,-0.0587291456758976,0.0579557940363884,0.055468227714300156,0.06574659049510956,-0.0010542633244767785,-0.15031097829341888,-0.16424301266670227,-0.13145844638347626,0.3028506934642792,-0.025170132517814636,-0.04095067083835602,-0.012703295797109604,-0.09934186935424805,-0.16756582260131836,0.3585876226425171,-0.00954824686050415,0.5361321568489075,-0.09333310276269913,-0.16993576288223267,-0.14247478544712067,-0.10652662068605423,-0.010430585592985153,-0.10499419271945953,-0.16294986009597778,-0.09835201501846313,-0.1370234489440918,-0.15054437518119812,-0.1487150639295578,0.09654106944799423,0.3654805123806,-0.16358233988285065,-0.13171131908893585,0.1885799914598465,-0.10186062753200531,-0.15925583243370056,-0.06615754216909409,-0.12580303847789764,-0.1509983092546463,-0.08121990412473679,-0.11764822155237198,-0.1670742779970169,0.045682184398174286,-0.16413703560829163,-0.16926367580890656,-0.019389456138014793,-0.16544188559055328,-0.11202839016914368,-0.00359692913480103,1.4710007905960083,0.02829093113541603,-0.12795528769493103,-0.13464638590812683,-0.1623760461807251,-0.09506271779537201,-0.16880373656749725,0.6381478309631348,-0.13804276287555695,-0.14363661408424377,-0.04154158756136894,-0.16692830622196198,-0.14309169352054596,-0.09023720026016235,-0.1647060215473175,0.22649577260017395,-0.17003977298736572,-0.15471038222312927,-0.16470681130886078,0.9179965257644653,0.27280157804489136,-0.16967745125293732,-0.06910020858049393,-0.108558788895607,0.07697370648384094,1.2444838285446167,-0.15677624940872192,0.2692435681819916,-0.16903945803642273,0.09337164461612701,-0.16606701910495758,0.9265545010566711,-0.04921046644449234,-0.028547730296850204,1.0991474390029907,0.02401544153690338,0.41587531566619873,-0.16974005103111267,1.1992028951644897,-0.14995841681957245,-0.037408143281936646,-0.1343279331922531,0.18687139451503754,-0.03590153902769089,0.9612134695053101,-0.12695835530757904,-0.0021313775796443224,-0.052928272634744644,-0.16880182921886444,0.0572718121111393,-0.16502393782138824,-0.018738223239779472]],\"type\":\"heatmap\",\"xaxis\":\"x\",\"yaxis\":\"y\",\"hovertemplate\":\"Neuron: %{x}<br>Pos: %{y}<br>color: %{z}<extra></extra>\"}],                        {\"template\":{\"data\":{\"bar\":[{\"error_x\":{\"color\":\"#2a3f5f\"},\"error_y\":{\"color\":\"#2a3f5f\"},\"marker\":{\"line\":{\"color\":\"#E5ECF6\",\"width\":0.5},\"pattern\":{\"fillmode\":\"overlay\",\"size\":10,\"solidity\":0.2}},\"type\":\"bar\"}],\"barpolar\":[{\"marker\":{\"line\":{\"color\":\"#E5ECF6\",\"width\":0.5},\"pattern\":{\"fillmode\":\"overlay\",\"size\":10,\"solidity\":0.2}},\"type\":\"barpolar\"}],\"carpet\":[{\"aaxis\":{\"endlinecolor\":\"#2a3f5f\",\"gridcolor\":\"white\",\"linecolor\":\"white\",\"minorgridcolor\":\"white\",\"startlinecolor\":\"#2a3f5f\"},\"baxis\":{\"endlinecolor\":\"#2a3f5f\",\"gridcolor\":\"white\",\"linecolor\":\"white\",\"minorgridcolor\":\"white\",\"startlinecolor\":\"#2a3f5f\"},\"type\":\"carpet\"}],\"choropleth\":[{\"colorbar\":{\"outlinewidth\":0,\"ticks\":\"\"},\"type\":\"choropleth\"}],\"contour\":[{\"colorbar\":{\"outlinewidth\":0,\"ticks\":\"\"},\"colorscale\":[[0.0,\"#0d0887\"],[0.1111111111111111,\"#46039f\"],[0.2222222222222222,\"#7201a8\"],[0.3333333333333333,\"#9c179e\"],[0.4444444444444444,\"#bd3786\"],[0.5555555555555556,\"#d8576b\"],[0.6666666666666666,\"#ed7953\"],[0.7777777777777778,\"#fb9f3a\"],[0.8888888888888888,\"#fdca26\"],[1.0,\"#f0f921\"]],\"type\":\"contour\"}],\"contourcarpet\":[{\"colorbar\":{\"outlinewidth\":0,\"ticks\":\"\"},\"type\":\"contourcarpet\"}],\"heatmap\":[{\"colorbar\":{\"outlinewidth\":0,\"ticks\":\"\"},\"colorscale\":[[0.0,\"#0d0887\"],[0.1111111111111111,\"#46039f\"],[0.2222222222222222,\"#7201a8\"],[0.3333333333333333,\"#9c179e\"],[0.4444444444444444,\"#bd3786\"],[0.5555555555555556,\"#d8576b\"],[0.6666666666666666,\"#ed7953\"],[0.7777777777777778,\"#fb9f3a\"],[0.8888888888888888,\"#fdca26\"],[1.0,\"#f0f921\"]],\"type\":\"heatmap\"}],\"heatmapgl\":[{\"colorbar\":{\"outlinewidth\":0,\"ticks\":\"\"},\"colorscale\":[[0.0,\"#0d0887\"],[0.1111111111111111,\"#46039f\"],[0.2222222222222222,\"#7201a8\"],[0.3333333333333333,\"#9c179e\"],[0.4444444444444444,\"#bd3786\"],[0.5555555555555556,\"#d8576b\"],[0.6666666666666666,\"#ed7953\"],[0.7777777777777778,\"#fb9f3a\"],[0.8888888888888888,\"#fdca26\"],[1.0,\"#f0f921\"]],\"type\":\"heatmapgl\"}],\"histogram\":[{\"marker\":{\"pattern\":{\"fillmode\":\"overlay\",\"size\":10,\"solidity\":0.2}},\"type\":\"histogram\"}],\"histogram2d\":[{\"colorbar\":{\"outlinewidth\":0,\"ticks\":\"\"},\"colorscale\":[[0.0,\"#0d0887\"],[0.1111111111111111,\"#46039f\"],[0.2222222222222222,\"#7201a8\"],[0.3333333333333333,\"#9c179e\"],[0.4444444444444444,\"#bd3786\"],[0.5555555555555556,\"#d8576b\"],[0.6666666666666666,\"#ed7953\"],[0.7777777777777778,\"#fb9f3a\"],[0.8888888888888888,\"#fdca26\"],[1.0,\"#f0f921\"]],\"type\":\"histogram2d\"}],\"histogram2dcontour\":[{\"colorbar\":{\"outlinewidth\":0,\"ticks\":\"\"},\"colorscale\":[[0.0,\"#0d0887\"],[0.1111111111111111,\"#46039f\"],[0.2222222222222222,\"#7201a8\"],[0.3333333333333333,\"#9c179e\"],[0.4444444444444444,\"#bd3786\"],[0.5555555555555556,\"#d8576b\"],[0.6666666666666666,\"#ed7953\"],[0.7777777777777778,\"#fb9f3a\"],[0.8888888888888888,\"#fdca26\"],[1.0,\"#f0f921\"]],\"type\":\"histogram2dcontour\"}],\"mesh3d\":[{\"colorbar\":{\"outlinewidth\":0,\"ticks\":\"\"},\"type\":\"mesh3d\"}],\"parcoords\":[{\"line\":{\"colorbar\":{\"outlinewidth\":0,\"ticks\":\"\"}},\"type\":\"parcoords\"}],\"pie\":[{\"automargin\":true,\"type\":\"pie\"}],\"scatter\":[{\"marker\":{\"colorbar\":{\"outlinewidth\":0,\"ticks\":\"\"}},\"type\":\"scatter\"}],\"scatter3d\":[{\"line\":{\"colorbar\":{\"outlinewidth\":0,\"ticks\":\"\"}},\"marker\":{\"colorbar\":{\"outlinewidth\":0,\"ticks\":\"\"}},\"type\":\"scatter3d\"}],\"scattercarpet\":[{\"marker\":{\"colorbar\":{\"outlinewidth\":0,\"ticks\":\"\"}},\"type\":\"scattercarpet\"}],\"scattergeo\":[{\"marker\":{\"colorbar\":{\"outlinewidth\":0,\"ticks\":\"\"}},\"type\":\"scattergeo\"}],\"scattergl\":[{\"marker\":{\"colorbar\":{\"outlinewidth\":0,\"ticks\":\"\"}},\"type\":\"scattergl\"}],\"scattermapbox\":[{\"marker\":{\"colorbar\":{\"outlinewidth\":0,\"ticks\":\"\"}},\"type\":\"scattermapbox\"}],\"scatterpolar\":[{\"marker\":{\"colorbar\":{\"outlinewidth\":0,\"ticks\":\"\"}},\"type\":\"scatterpolar\"}],\"scatterpolargl\":[{\"marker\":{\"colorbar\":{\"outlinewidth\":0,\"ticks\":\"\"}},\"type\":\"scatterpolargl\"}],\"scatterternary\":[{\"marker\":{\"colorbar\":{\"outlinewidth\":0,\"ticks\":\"\"}},\"type\":\"scatterternary\"}],\"surface\":[{\"colorbar\":{\"outlinewidth\":0,\"ticks\":\"\"},\"colorscale\":[[0.0,\"#0d0887\"],[0.1111111111111111,\"#46039f\"],[0.2222222222222222,\"#7201a8\"],[0.3333333333333333,\"#9c179e\"],[0.4444444444444444,\"#bd3786\"],[0.5555555555555556,\"#d8576b\"],[0.6666666666666666,\"#ed7953\"],[0.7777777777777778,\"#fb9f3a\"],[0.8888888888888888,\"#fdca26\"],[1.0,\"#f0f921\"]],\"type\":\"surface\"}],\"table\":[{\"cells\":{\"fill\":{\"color\":\"#EBF0F8\"},\"line\":{\"color\":\"white\"}},\"header\":{\"fill\":{\"color\":\"#C8D4E3\"},\"line\":{\"color\":\"white\"}},\"type\":\"table\"}]},\"layout\":{\"annotationdefaults\":{\"arrowcolor\":\"#2a3f5f\",\"arrowhead\":0,\"arrowwidth\":1},\"autotypenumbers\":\"strict\",\"coloraxis\":{\"colorbar\":{\"outlinewidth\":0,\"ticks\":\"\"}},\"colorscale\":{\"diverging\":[[0,\"#8e0152\"],[0.1,\"#c51b7d\"],[0.2,\"#de77ae\"],[0.3,\"#f1b6da\"],[0.4,\"#fde0ef\"],[0.5,\"#f7f7f7\"],[0.6,\"#e6f5d0\"],[0.7,\"#b8e186\"],[0.8,\"#7fbc41\"],[0.9,\"#4d9221\"],[1,\"#276419\"]],\"sequential\":[[0.0,\"#0d0887\"],[0.1111111111111111,\"#46039f\"],[0.2222222222222222,\"#7201a8\"],[0.3333333333333333,\"#9c179e\"],[0.4444444444444444,\"#bd3786\"],[0.5555555555555556,\"#d8576b\"],[0.6666666666666666,\"#ed7953\"],[0.7777777777777778,\"#fb9f3a\"],[0.8888888888888888,\"#fdca26\"],[1.0,\"#f0f921\"]],\"sequentialminus\":[[0.0,\"#0d0887\"],[0.1111111111111111,\"#46039f\"],[0.2222222222222222,\"#7201a8\"],[0.3333333333333333,\"#9c179e\"],[0.4444444444444444,\"#bd3786\"],[0.5555555555555556,\"#d8576b\"],[0.6666666666666666,\"#ed7953\"],[0.7777777777777778,\"#fb9f3a\"],[0.8888888888888888,\"#fdca26\"],[1.0,\"#f0f921\"]]},\"colorway\":[\"#636efa\",\"#EF553B\",\"#00cc96\",\"#ab63fa\",\"#FFA15A\",\"#19d3f3\",\"#FF6692\",\"#B6E880\",\"#FF97FF\",\"#FECB52\"],\"font\":{\"color\":\"#2a3f5f\"},\"geo\":{\"bgcolor\":\"white\",\"lakecolor\":\"white\",\"landcolor\":\"#E5ECF6\",\"showlakes\":true,\"showland\":true,\"subunitcolor\":\"white\"},\"hoverlabel\":{\"align\":\"left\"},\"hovermode\":\"closest\",\"mapbox\":{\"style\":\"light\"},\"paper_bgcolor\":\"white\",\"plot_bgcolor\":\"#E5ECF6\",\"polar\":{\"angularaxis\":{\"gridcolor\":\"white\",\"linecolor\":\"white\",\"ticks\":\"\"},\"bgcolor\":\"#E5ECF6\",\"radialaxis\":{\"gridcolor\":\"white\",\"linecolor\":\"white\",\"ticks\":\"\"}},\"scene\":{\"xaxis\":{\"backgroundcolor\":\"#E5ECF6\",\"gridcolor\":\"white\",\"gridwidth\":2,\"linecolor\":\"white\",\"showbackground\":true,\"ticks\":\"\",\"zerolinecolor\":\"white\"},\"yaxis\":{\"backgroundcolor\":\"#E5ECF6\",\"gridcolor\":\"white\",\"gridwidth\":2,\"linecolor\":\"white\",\"showbackground\":true,\"ticks\":\"\",\"zerolinecolor\":\"white\"},\"zaxis\":{\"backgroundcolor\":\"#E5ECF6\",\"gridcolor\":\"white\",\"gridwidth\":2,\"linecolor\":\"white\",\"showbackground\":true,\"ticks\":\"\",\"zerolinecolor\":\"white\"}},\"shapedefaults\":{\"line\":{\"color\":\"#2a3f5f\"}},\"ternary\":{\"aaxis\":{\"gridcolor\":\"white\",\"linecolor\":\"white\",\"ticks\":\"\"},\"baxis\":{\"gridcolor\":\"white\",\"linecolor\":\"white\",\"ticks\":\"\"},\"bgcolor\":\"#E5ECF6\",\"caxis\":{\"gridcolor\":\"white\",\"linecolor\":\"white\",\"ticks\":\"\"}},\"title\":{\"x\":0.05},\"xaxis\":{\"automargin\":true,\"gridcolor\":\"white\",\"linecolor\":\"white\",\"ticks\":\"\",\"title\":{\"standoff\":15},\"zerolinecolor\":\"white\",\"zerolinewidth\":2},\"yaxis\":{\"automargin\":true,\"gridcolor\":\"white\",\"linecolor\":\"white\",\"ticks\":\"\",\"title\":{\"standoff\":15},\"zerolinecolor\":\"white\",\"zerolinewidth\":2}}},\"xaxis\":{\"anchor\":\"y\",\"domain\":[0.0,1.0],\"title\":{\"text\":\"Neuron\"}},\"yaxis\":{\"anchor\":\"x\",\"domain\":[0.0,1.0],\"autorange\":\"reversed\",\"title\":{\"text\":\"Pos\"}},\"coloraxis\":{\"colorscale\":[[0.0,\"rgb(103,0,31)\"],[0.1,\"rgb(178,24,43)\"],[0.2,\"rgb(214,96,77)\"],[0.3,\"rgb(244,165,130)\"],[0.4,\"rgb(253,219,199)\"],[0.5,\"rgb(247,247,247)\"],[0.6,\"rgb(209,229,240)\"],[0.7,\"rgb(146,197,222)\"],[0.8,\"rgb(67,147,195)\"],[0.9,\"rgb(33,102,172)\"],[1.0,\"rgb(5,48,97)\"]],\"cmid\":0.0},\"title\":{\"text\":\"Neuron activations for single inputs\"}},                        {\"responsive\": true}                    ).then(function(){\n",
              "                            \n",
              "var gd = document.getElementById('e9bdddce-96f3-4728-9128-ffb01a16e572');\n",
              "var x = new MutationObserver(function (mutations, observer) {{\n",
              "        var display = window.getComputedStyle(gd).display;\n",
              "        if (!display || display === 'none') {{\n",
              "            console.log([gd, 'removed!']);\n",
              "            Plotly.purge(gd);\n",
              "            observer.disconnect();\n",
              "        }}\n",
              "}});\n",
              "\n",
              "// Listen for the removal of the full notebook cells\n",
              "var notebookContainer = gd.closest('#notebook-container');\n",
              "if (notebookContainer) {{\n",
              "    x.observe(notebookContainer, {childList: true});\n",
              "}}\n",
              "\n",
              "// Listen for the clearing of the current output cell\n",
              "var outputEl = gd.closest('.output');\n",
              "if (outputEl) {{\n",
              "    x.observe(outputEl, {childList: true});\n",
              "}}\n",
              "\n",
              "                        })                };                            </script>        </div>\n",
              "</body>\n",
              "</html>"
            ]
          },
          "metadata": {}
        }
      ]
    },
    {
      "cell_type": "markdown",
      "source": [
        "#### Model Differences by Attention Head"
      ],
      "metadata": {
        "id": "AZSgd9bu0nXM"
      }
    },
    {
      "cell_type": "markdown",
      "source": [
        "We can also examine the attention heads. Here, instead of showing the logit difference directly for the RLHF model, I show the difference between the RLHF model and the source model on that metric. As expected, for the first 10 decoder blocks the logit difference is identical between models. Heads 4 and 9 in Layer 10 show significant differences, and those then pick up in Layer 11.\n",
        "\n",
        "However, the attention heads in Layer 11 may be responding to information inserted into the residual stream by MLP 10 or Layer 10's attention heads. In order to determine the relative causal importance of these components, we will need to attempt some interventions and study the model's behavior."
      ],
      "metadata": {
        "id": "ZIemQiVQVBi9"
      }
    },
    {
      "cell_type": "code",
      "source": [
        "per_head_residual_source, labels = source_cache.stack_head_results(layer=-1, pos_slice=-1, return_labels=True)\n",
        "per_head_logit_diffs_source = residual_stack_to_logit_diff(per_head_residual_source, source_cache)\n",
        "per_head_logit_diffs_source = einops.rearrange(per_head_logit_diffs_source, \"(layer head_index) -> layer head_index\", layer=hooked_rlhf_model.cfg.n_layers, head_index=hooked_rlhf_model.cfg.n_heads)\n",
        "\n",
        "per_head_residual_rlhf, labels = rlhf_cache.stack_head_results(layer=-1, pos_slice=-1, return_labels=True)\n",
        "per_head_logit_diffs_rlhf = residual_stack_to_logit_diff(per_head_residual_rlhf, rlhf_cache)\n",
        "per_head_logit_diffs_rlhf = einops.rearrange(per_head_logit_diffs_rlhf, \"(layer head_index) -> layer head_index\", layer=hooked_rlhf_model.cfg.n_layers, head_index=hooked_rlhf_model.cfg.n_heads)\n",
        "\n",
        "per_head_model_diffs = per_head_logit_diffs_rlhf - per_head_logit_diffs_source\n",
        "\n",
        "imshow(per_head_model_diffs, xaxis=\"Head\", yaxis=\"Layer\", title=\"Logit Difference From Each Head\")"
      ],
      "metadata": {
        "colab": {
          "base_uri": "https://localhost:8080/",
          "height": 577
        },
        "id": "ML5FrzH6KHoC",
        "outputId": "23a78885-dc48-4af2-ffb0-295578e5cfaa"
      },
      "execution_count": null,
      "outputs": [
        {
          "output_type": "stream",
          "name": "stdout",
          "text": [
            "Tried to stack head results when they weren't cached. Computing head results now\n",
            "Tried to stack head results when they weren't cached. Computing head results now\n"
          ]
        },
        {
          "output_type": "display_data",
          "data": {
            "text/html": [
              "<html>\n",
              "<head><meta charset=\"utf-8\" /></head>\n",
              "<body>\n",
              "    <div>            <script src=\"https://cdnjs.cloudflare.com/ajax/libs/mathjax/2.7.5/MathJax.js?config=TeX-AMS-MML_SVG\"></script><script type=\"text/javascript\">if (window.MathJax) {MathJax.Hub.Config({SVG: {font: \"STIX-Web\"}});}</script>                <script type=\"text/javascript\">window.PlotlyConfig = {MathJaxConfig: 'local'};</script>\n",
              "        <script src=\"https://cdn.plot.ly/plotly-2.8.3.min.js\"></script>                <div id=\"62199874-e1f4-4bd6-b611-929647255bca\" class=\"plotly-graph-div\" style=\"height:525px; width:100%;\"></div>            <script type=\"text/javascript\">                                    window.PLOTLYENV=window.PLOTLYENV || {};                                    if (document.getElementById(\"62199874-e1f4-4bd6-b611-929647255bca\")) {                    Plotly.newPlot(                        \"62199874-e1f4-4bd6-b611-929647255bca\",                        [{\"coloraxis\":\"coloraxis\",\"name\":\"0\",\"z\":[[0.0010641273111104965,8.182600140571594e-05,0.0009623095393180847,0.0019432902336120605,-0.0009033996611833572,-0.0022720061242580414,0.0033289268612861633,0.0015346752479672432,-0.0002435445785522461,0.000639110803604126,0.0019320342689752579,0.0011021941900253296],[-0.0008563809096813202,0.00035576242953538895,0.0003050006926059723,-0.00012944824993610382,-0.0005914121866226196,-0.00011264998465776443,-0.00023285532370209694,0.0007271654903888702,0.0007632337510585785,-0.0004160236567258835,-3.997050225734711e-05,0.0007580546662211418],[-0.0004341490566730499,0.00045638391748070717,9.711086750030518e-05,-0.0002830289304256439,0.00030003953725099564,0.00038375332951545715,-6.223097443580627e-05,-0.0011843442916870117,0.000493248924612999,0.0004972144961357117,0.0005248077213764191,0.00016424478963017464],[0.0001730937510728836,0.0004507116973400116,-0.0005144113674759865,-5.313754081726074e-05,-1.524016261100769e-05,0.0008435659110546112,-1.0194256901741028e-05,0.0004786737263202667,0.0002707773819565773,-8.620508015155792e-05,0.0003299042582511902,-5.116686224937439e-06],[-2.368353307247162e-06,-4.064105451107025e-05,-9.064190089702606e-05,0.001191984862089157,0.000426342710852623,0.00013859476894140244,0.00046385079622268677,-0.0008564535528421402,0.00010536238551139832,-9.365938603878021e-05,-0.00014519412070512772,0.0005156733095645905],[3.9031729102134705e-05,-7.718801498413086e-06,0.000102190300822258,0.0006734617054462433,0.0002159341238439083,0.00040065962821245193,0.0006835535168647766,-0.00022887252271175385,-0.0001773107796907425,-0.00017687678337097168,0.0006429385393857956,-0.001280900090932846],[0.00047103315591812134,8.446909487247467e-05,-9.904196485877037e-05,-1.2461096048355103e-05,0.00028756260871887207,-0.0005508209578692913,-0.0003595389425754547,9.093433618545532e-06,-5.5886805057525635e-05,-1.1060386896133423e-05,-2.316385507583618e-05,6.210058927536011e-06],[0.00014213845133781433,0.0001309514045715332,6.475485861301422e-06,-0.00017333030700683594,9.837839752435684e-05,0.0005566049367189407,-0.0003273487091064453,8.108094334602356e-06,-0.00023617595434188843,0.0006060013547539711,-1.391395926475525e-06,-5.314871668815613e-05],[0.0006100721657276154,-5.079805850982666e-05,-8.688494563102722e-05,-5.8609992265701294e-05,0.0001419857144355774,0.0006315037608146667,0.00010434724390506744,0.0007401388138532639,-0.00043594324961304665,0.00039402395486831665,-0.0007282476872205734,5.504465661942959e-05],[0.0002486035227775574,2.312473952770233e-05,0.0006770826876163483,0.0021469444036483765,-0.00011045671999454498,-0.0003425758332014084,-2.534128725528717e-05,6.240978837013245e-05,-8.236803114414215e-05,-1.6449950635433197e-05,-0.0004320293664932251,6.67814165353775e-05],[0.0011071758344769478,0.008957970887422562,0.00020693335682153702,0.003844643011689186,0.04071350395679474,0.00856990460306406,0.0021223253570497036,0.011002955958247185,0.003153606317937374,0.03891599923372269,0.00016146712005138397,0.006757015362381935],[0.11778418719768524,0.00687052309513092,0.006778504699468613,0.007401425391435623,0.00975026935338974,0.012323958799242973,0.004351289942860603,0.006305958144366741,0.06477178633213043,0.039106618613004684,0.0749409943819046,0.04669053852558136]],\"type\":\"heatmap\",\"xaxis\":\"x\",\"yaxis\":\"y\",\"hovertemplate\":\"Head: %{x}<br>Layer: %{y}<br>color: %{z}<extra></extra>\"}],                        {\"template\":{\"data\":{\"bar\":[{\"error_x\":{\"color\":\"#2a3f5f\"},\"error_y\":{\"color\":\"#2a3f5f\"},\"marker\":{\"line\":{\"color\":\"#E5ECF6\",\"width\":0.5},\"pattern\":{\"fillmode\":\"overlay\",\"size\":10,\"solidity\":0.2}},\"type\":\"bar\"}],\"barpolar\":[{\"marker\":{\"line\":{\"color\":\"#E5ECF6\",\"width\":0.5},\"pattern\":{\"fillmode\":\"overlay\",\"size\":10,\"solidity\":0.2}},\"type\":\"barpolar\"}],\"carpet\":[{\"aaxis\":{\"endlinecolor\":\"#2a3f5f\",\"gridcolor\":\"white\",\"linecolor\":\"white\",\"minorgridcolor\":\"white\",\"startlinecolor\":\"#2a3f5f\"},\"baxis\":{\"endlinecolor\":\"#2a3f5f\",\"gridcolor\":\"white\",\"linecolor\":\"white\",\"minorgridcolor\":\"white\",\"startlinecolor\":\"#2a3f5f\"},\"type\":\"carpet\"}],\"choropleth\":[{\"colorbar\":{\"outlinewidth\":0,\"ticks\":\"\"},\"type\":\"choropleth\"}],\"contour\":[{\"colorbar\":{\"outlinewidth\":0,\"ticks\":\"\"},\"colorscale\":[[0.0,\"#0d0887\"],[0.1111111111111111,\"#46039f\"],[0.2222222222222222,\"#7201a8\"],[0.3333333333333333,\"#9c179e\"],[0.4444444444444444,\"#bd3786\"],[0.5555555555555556,\"#d8576b\"],[0.6666666666666666,\"#ed7953\"],[0.7777777777777778,\"#fb9f3a\"],[0.8888888888888888,\"#fdca26\"],[1.0,\"#f0f921\"]],\"type\":\"contour\"}],\"contourcarpet\":[{\"colorbar\":{\"outlinewidth\":0,\"ticks\":\"\"},\"type\":\"contourcarpet\"}],\"heatmap\":[{\"colorbar\":{\"outlinewidth\":0,\"ticks\":\"\"},\"colorscale\":[[0.0,\"#0d0887\"],[0.1111111111111111,\"#46039f\"],[0.2222222222222222,\"#7201a8\"],[0.3333333333333333,\"#9c179e\"],[0.4444444444444444,\"#bd3786\"],[0.5555555555555556,\"#d8576b\"],[0.6666666666666666,\"#ed7953\"],[0.7777777777777778,\"#fb9f3a\"],[0.8888888888888888,\"#fdca26\"],[1.0,\"#f0f921\"]],\"type\":\"heatmap\"}],\"heatmapgl\":[{\"colorbar\":{\"outlinewidth\":0,\"ticks\":\"\"},\"colorscale\":[[0.0,\"#0d0887\"],[0.1111111111111111,\"#46039f\"],[0.2222222222222222,\"#7201a8\"],[0.3333333333333333,\"#9c179e\"],[0.4444444444444444,\"#bd3786\"],[0.5555555555555556,\"#d8576b\"],[0.6666666666666666,\"#ed7953\"],[0.7777777777777778,\"#fb9f3a\"],[0.8888888888888888,\"#fdca26\"],[1.0,\"#f0f921\"]],\"type\":\"heatmapgl\"}],\"histogram\":[{\"marker\":{\"pattern\":{\"fillmode\":\"overlay\",\"size\":10,\"solidity\":0.2}},\"type\":\"histogram\"}],\"histogram2d\":[{\"colorbar\":{\"outlinewidth\":0,\"ticks\":\"\"},\"colorscale\":[[0.0,\"#0d0887\"],[0.1111111111111111,\"#46039f\"],[0.2222222222222222,\"#7201a8\"],[0.3333333333333333,\"#9c179e\"],[0.4444444444444444,\"#bd3786\"],[0.5555555555555556,\"#d8576b\"],[0.6666666666666666,\"#ed7953\"],[0.7777777777777778,\"#fb9f3a\"],[0.8888888888888888,\"#fdca26\"],[1.0,\"#f0f921\"]],\"type\":\"histogram2d\"}],\"histogram2dcontour\":[{\"colorbar\":{\"outlinewidth\":0,\"ticks\":\"\"},\"colorscale\":[[0.0,\"#0d0887\"],[0.1111111111111111,\"#46039f\"],[0.2222222222222222,\"#7201a8\"],[0.3333333333333333,\"#9c179e\"],[0.4444444444444444,\"#bd3786\"],[0.5555555555555556,\"#d8576b\"],[0.6666666666666666,\"#ed7953\"],[0.7777777777777778,\"#fb9f3a\"],[0.8888888888888888,\"#fdca26\"],[1.0,\"#f0f921\"]],\"type\":\"histogram2dcontour\"}],\"mesh3d\":[{\"colorbar\":{\"outlinewidth\":0,\"ticks\":\"\"},\"type\":\"mesh3d\"}],\"parcoords\":[{\"line\":{\"colorbar\":{\"outlinewidth\":0,\"ticks\":\"\"}},\"type\":\"parcoords\"}],\"pie\":[{\"automargin\":true,\"type\":\"pie\"}],\"scatter\":[{\"marker\":{\"colorbar\":{\"outlinewidth\":0,\"ticks\":\"\"}},\"type\":\"scatter\"}],\"scatter3d\":[{\"line\":{\"colorbar\":{\"outlinewidth\":0,\"ticks\":\"\"}},\"marker\":{\"colorbar\":{\"outlinewidth\":0,\"ticks\":\"\"}},\"type\":\"scatter3d\"}],\"scattercarpet\":[{\"marker\":{\"colorbar\":{\"outlinewidth\":0,\"ticks\":\"\"}},\"type\":\"scattercarpet\"}],\"scattergeo\":[{\"marker\":{\"colorbar\":{\"outlinewidth\":0,\"ticks\":\"\"}},\"type\":\"scattergeo\"}],\"scattergl\":[{\"marker\":{\"colorbar\":{\"outlinewidth\":0,\"ticks\":\"\"}},\"type\":\"scattergl\"}],\"scattermapbox\":[{\"marker\":{\"colorbar\":{\"outlinewidth\":0,\"ticks\":\"\"}},\"type\":\"scattermapbox\"}],\"scatterpolar\":[{\"marker\":{\"colorbar\":{\"outlinewidth\":0,\"ticks\":\"\"}},\"type\":\"scatterpolar\"}],\"scatterpolargl\":[{\"marker\":{\"colorbar\":{\"outlinewidth\":0,\"ticks\":\"\"}},\"type\":\"scatterpolargl\"}],\"scatterternary\":[{\"marker\":{\"colorbar\":{\"outlinewidth\":0,\"ticks\":\"\"}},\"type\":\"scatterternary\"}],\"surface\":[{\"colorbar\":{\"outlinewidth\":0,\"ticks\":\"\"},\"colorscale\":[[0.0,\"#0d0887\"],[0.1111111111111111,\"#46039f\"],[0.2222222222222222,\"#7201a8\"],[0.3333333333333333,\"#9c179e\"],[0.4444444444444444,\"#bd3786\"],[0.5555555555555556,\"#d8576b\"],[0.6666666666666666,\"#ed7953\"],[0.7777777777777778,\"#fb9f3a\"],[0.8888888888888888,\"#fdca26\"],[1.0,\"#f0f921\"]],\"type\":\"surface\"}],\"table\":[{\"cells\":{\"fill\":{\"color\":\"#EBF0F8\"},\"line\":{\"color\":\"white\"}},\"header\":{\"fill\":{\"color\":\"#C8D4E3\"},\"line\":{\"color\":\"white\"}},\"type\":\"table\"}]},\"layout\":{\"annotationdefaults\":{\"arrowcolor\":\"#2a3f5f\",\"arrowhead\":0,\"arrowwidth\":1},\"autotypenumbers\":\"strict\",\"coloraxis\":{\"colorbar\":{\"outlinewidth\":0,\"ticks\":\"\"}},\"colorscale\":{\"diverging\":[[0,\"#8e0152\"],[0.1,\"#c51b7d\"],[0.2,\"#de77ae\"],[0.3,\"#f1b6da\"],[0.4,\"#fde0ef\"],[0.5,\"#f7f7f7\"],[0.6,\"#e6f5d0\"],[0.7,\"#b8e186\"],[0.8,\"#7fbc41\"],[0.9,\"#4d9221\"],[1,\"#276419\"]],\"sequential\":[[0.0,\"#0d0887\"],[0.1111111111111111,\"#46039f\"],[0.2222222222222222,\"#7201a8\"],[0.3333333333333333,\"#9c179e\"],[0.4444444444444444,\"#bd3786\"],[0.5555555555555556,\"#d8576b\"],[0.6666666666666666,\"#ed7953\"],[0.7777777777777778,\"#fb9f3a\"],[0.8888888888888888,\"#fdca26\"],[1.0,\"#f0f921\"]],\"sequentialminus\":[[0.0,\"#0d0887\"],[0.1111111111111111,\"#46039f\"],[0.2222222222222222,\"#7201a8\"],[0.3333333333333333,\"#9c179e\"],[0.4444444444444444,\"#bd3786\"],[0.5555555555555556,\"#d8576b\"],[0.6666666666666666,\"#ed7953\"],[0.7777777777777778,\"#fb9f3a\"],[0.8888888888888888,\"#fdca26\"],[1.0,\"#f0f921\"]]},\"colorway\":[\"#636efa\",\"#EF553B\",\"#00cc96\",\"#ab63fa\",\"#FFA15A\",\"#19d3f3\",\"#FF6692\",\"#B6E880\",\"#FF97FF\",\"#FECB52\"],\"font\":{\"color\":\"#2a3f5f\"},\"geo\":{\"bgcolor\":\"white\",\"lakecolor\":\"white\",\"landcolor\":\"#E5ECF6\",\"showlakes\":true,\"showland\":true,\"subunitcolor\":\"white\"},\"hoverlabel\":{\"align\":\"left\"},\"hovermode\":\"closest\",\"mapbox\":{\"style\":\"light\"},\"paper_bgcolor\":\"white\",\"plot_bgcolor\":\"#E5ECF6\",\"polar\":{\"angularaxis\":{\"gridcolor\":\"white\",\"linecolor\":\"white\",\"ticks\":\"\"},\"bgcolor\":\"#E5ECF6\",\"radialaxis\":{\"gridcolor\":\"white\",\"linecolor\":\"white\",\"ticks\":\"\"}},\"scene\":{\"xaxis\":{\"backgroundcolor\":\"#E5ECF6\",\"gridcolor\":\"white\",\"gridwidth\":2,\"linecolor\":\"white\",\"showbackground\":true,\"ticks\":\"\",\"zerolinecolor\":\"white\"},\"yaxis\":{\"backgroundcolor\":\"#E5ECF6\",\"gridcolor\":\"white\",\"gridwidth\":2,\"linecolor\":\"white\",\"showbackground\":true,\"ticks\":\"\",\"zerolinecolor\":\"white\"},\"zaxis\":{\"backgroundcolor\":\"#E5ECF6\",\"gridcolor\":\"white\",\"gridwidth\":2,\"linecolor\":\"white\",\"showbackground\":true,\"ticks\":\"\",\"zerolinecolor\":\"white\"}},\"shapedefaults\":{\"line\":{\"color\":\"#2a3f5f\"}},\"ternary\":{\"aaxis\":{\"gridcolor\":\"white\",\"linecolor\":\"white\",\"ticks\":\"\"},\"baxis\":{\"gridcolor\":\"white\",\"linecolor\":\"white\",\"ticks\":\"\"},\"bgcolor\":\"#E5ECF6\",\"caxis\":{\"gridcolor\":\"white\",\"linecolor\":\"white\",\"ticks\":\"\"}},\"title\":{\"x\":0.05},\"xaxis\":{\"automargin\":true,\"gridcolor\":\"white\",\"linecolor\":\"white\",\"ticks\":\"\",\"title\":{\"standoff\":15},\"zerolinecolor\":\"white\",\"zerolinewidth\":2},\"yaxis\":{\"automargin\":true,\"gridcolor\":\"white\",\"linecolor\":\"white\",\"ticks\":\"\",\"title\":{\"standoff\":15},\"zerolinecolor\":\"white\",\"zerolinewidth\":2}}},\"xaxis\":{\"anchor\":\"y\",\"domain\":[0.0,1.0],\"scaleanchor\":\"y\",\"constrain\":\"domain\",\"title\":{\"text\":\"Head\"}},\"yaxis\":{\"anchor\":\"x\",\"domain\":[0.0,1.0],\"autorange\":\"reversed\",\"constrain\":\"domain\",\"title\":{\"text\":\"Layer\"}},\"coloraxis\":{\"colorscale\":[[0.0,\"rgb(103,0,31)\"],[0.1,\"rgb(178,24,43)\"],[0.2,\"rgb(214,96,77)\"],[0.3,\"rgb(244,165,130)\"],[0.4,\"rgb(253,219,199)\"],[0.5,\"rgb(247,247,247)\"],[0.6,\"rgb(209,229,240)\"],[0.7,\"rgb(146,197,222)\"],[0.8,\"rgb(67,147,195)\"],[0.9,\"rgb(33,102,172)\"],[1.0,\"rgb(5,48,97)\"]],\"cmid\":0.0},\"title\":{\"text\":\"Logit Difference From Each Head\"}},                        {\"responsive\": true}                    ).then(function(){\n",
              "                            \n",
              "var gd = document.getElementById('62199874-e1f4-4bd6-b611-929647255bca');\n",
              "var x = new MutationObserver(function (mutations, observer) {{\n",
              "        var display = window.getComputedStyle(gd).display;\n",
              "        if (!display || display === 'none') {{\n",
              "            console.log([gd, 'removed!']);\n",
              "            Plotly.purge(gd);\n",
              "            observer.disconnect();\n",
              "        }}\n",
              "}});\n",
              "\n",
              "// Listen for the removal of the full notebook cells\n",
              "var notebookContainer = gd.closest('#notebook-container');\n",
              "if (notebookContainer) {{\n",
              "    x.observe(notebookContainer, {childList: true});\n",
              "}}\n",
              "\n",
              "// Listen for the clearing of the current output cell\n",
              "var outputEl = gd.closest('.output');\n",
              "if (outputEl) {{\n",
              "    x.observe(outputEl, {childList: true});\n",
              "}}\n",
              "\n",
              "                        })                };                            </script>        </div>\n",
              "</body>\n",
              "</html>"
            ]
          },
          "metadata": {}
        }
      ]
    },
    {
      "cell_type": "markdown",
      "source": [
        "### Activation Patching for Localization "
      ],
      "metadata": {
        "id": "D2ol18TvkNmx"
      }
    },
    {
      "cell_type": "markdown",
      "source": [
        "So far, we have determined:\n",
        "1. Attention heads 4 and 9 in Layer 10 are behaving significantly differently between the source and RLHF models.\n",
        "2. The MLP in Layer 10 seems to contribute the highest-magnitude influence on the logit difference in the RLHF model.\n",
        "3. Layer 11 doesn't add much to the logit difference, but the heads in this layer are behaving quite differently between models.\n",
        "\n",
        "Our hope is that the parts of the RLHF network that are adding negativity bias are somewhat localized, rather than diffused broadly throughout Layers 10 and 11. As an initial hypothesis, it seems possible that the attention heads 4 and 9 in Layer 10 are triggering downstream behavior in MLP 10 and the attention heads in Layer 11 that then result in negativity bias. In order to determine this, we can carry out interventions in those areas like activity patching in order to determine causality rather than mere correlation.\n",
        "\n",
        "In this experiment, we will use activation patching to replace the activations in the source model with those from the RLHF model to see if we can force it to replicate the behavior of the RLHF model. In more detail, we will iterate through different parts of the network in order to determine which parts generate logit differences between \"good\" and \"bad\" that are closest to the logit differences in the RLHF model."
      ],
      "metadata": {
        "id": "09nWF8u4XY7x"
      }
    },
    {
      "cell_type": "markdown",
      "source": [
        "#### Activation Patching Functions"
      ],
      "metadata": {
        "id": "JcduLYjv1H3B"
      }
    },
    {
      "cell_type": "code",
      "source": [
        "# We will use this function to patch different parts of the residual stream\n",
        "def patch_residual_component(\n",
        "    to_residual_component: TT[\"batch\", \"pos\", \"d_model\"],\n",
        "    hook,\n",
        "    subcomponent_index, \n",
        "    from_cache):\n",
        "    from_cache_component = from_cache[hook.name]\n",
        "    to_residual_component[:, subcomponent_index, :] = from_cache_component[:, subcomponent_index, :]\n",
        "    return to_residual_component\n"
      ],
      "metadata": {
        "id": "ZpV5NrEKkqx-"
      },
      "execution_count": null,
      "outputs": []
    },
    {
      "cell_type": "code",
      "source": [
        "# We will use this to patch specific heads\n",
        "def patch_head_vector(\n",
        "    rlhf_head_vector: TT[\"batch\", \"pos\", \"head_index\", \"d_head\"],\n",
        "    hook, \n",
        "    subcomponent_index, \n",
        "    from_cache):\n",
        "    if isinstance(subcomponent_index, int):\n",
        "      rlhf_head_vector[:, :, subcomponent_index, :] = from_cache[hook.name][:, :, subcomponent_index, :]\n",
        "    else:\n",
        "      for i in subcomponent_index:\n",
        "        rlhf_head_vector[:, :, i, :] = from_cache[hook.name][:, :, i, :]\n",
        "    return rlhf_head_vector"
      ],
      "metadata": {
        "id": "5Yi84ak2eSx4"
      },
      "execution_count": null,
      "outputs": []
    },
    {
      "cell_type": "code",
      "source": [
        "def normalize_patched_logit_diff(patched_logit_diff):\n",
        "    # Subtract corrupted logit diff to measure the improvement, divide by the total improvement from clean to corrupted to normalize\n",
        "    # 0 means zero change, negative means more positive, 1 means equivalent to RLHF model, >1 means more negative than RLHF model\n",
        "    return (patched_logit_diff - original_average_logit_diff_source)/(original_average_logit_diff_rlhf - original_average_logit_diff_source)\n"
      ],
      "metadata": {
        "id": "fXTSCV6_3Upu"
      },
      "execution_count": null,
      "outputs": []
    },
    {
      "cell_type": "code",
      "source": [
        "# Here we just take one of the example prompts and answers\n",
        "tokens = hooked_rlhf_model.to_tokens(prompts, prepend_bos=True)\n",
        "\n",
        "source_model_logits, source_model_cache = hooked_source_model.run_with_cache(tokens, return_type=\"logits\")\n",
        "rlhf_model_logits, rlhf_model_cache = hooked_rlhf_model.run_with_cache(tokens, return_type=\"logits\")\n",
        "source_model_average_logit_diff = logit_diff(source_model_logits, answer_tokens)\n",
        "print(\"Source Model Average Logit Diff\", source_model_average_logit_diff)\n",
        "print(\"RLHF Model Average Logit Diff\", original_average_logit_diff_rlhf)"
      ],
      "metadata": {
        "id": "Lk2mHfTwZzsP",
        "colab": {
          "base_uri": "https://localhost:8080/"
        },
        "outputId": "e6ae449b-2d89-448b-da75-1aa082ac965a"
      },
      "execution_count": null,
      "outputs": [
        {
          "output_type": "stream",
          "name": "stdout",
          "text": [
            "Source Model Average Logit Diff tensor(-0.0891, device='cuda:0')\n",
            "RLHF Model Average Logit Diff tensor(2.0157, device='cuda:0')\n"
          ]
        }
      ]
    },
    {
      "cell_type": "markdown",
      "source": [
        "#### Patch Residual Stream"
      ],
      "metadata": {
        "id": "Ay-toZJPxJ9W"
      }
    },
    {
      "cell_type": "markdown",
      "source": [
        "Below, we iterate through different layers and positions and patch activations in the residual stream that occur right before each layer. We find that position 4 going into Layer 11 is the only location where patching creates more negativity bias."
      ],
      "metadata": {
        "id": "xrI6WmHonker"
      }
    },
    {
      "cell_type": "code",
      "source": [
        "patched_residual_stream_diff = torch.zeros(hooked_source_model.cfg.n_layers, tokens.shape[1], device=device, dtype=torch.float32)\n",
        "for layer in range(hooked_source_model.cfg.n_layers):\n",
        "    for position in range(tokens.shape[1]):\n",
        "        hook_fn = partial(patch_residual_component, subcomponent_index=position, from_cache=rlhf_model_cache)\n",
        "        patched_logits = hooked_source_model.run_with_hooks(\n",
        "            tokens, \n",
        "            fwd_hooks = [(utils.get_act_name(\"resid_pre\", layer), \n",
        "                hook_fn)], \n",
        "            return_type=\"logits\"\n",
        "        )\n",
        "        patched_logit_diff = logit_diff(patched_logits, answer_tokens)\n",
        "\n",
        "        patched_residual_stream_diff[layer, position] = normalize_patched_logit_diff(patched_logit_diff)"
      ],
      "metadata": {
        "id": "VCvbc2GKZSWg"
      },
      "execution_count": null,
      "outputs": []
    },
    {
      "cell_type": "code",
      "source": [
        "prompt_position_labels = [f\"{tok}_{i}\" for i, tok in enumerate(hooked_source_model.to_str_tokens(tokens[0]))]\n",
        "imshow(patched_residual_stream_diff, x=prompt_position_labels, title=\"Logit Difference From Patched Residual Stream\", xaxis=\"Position\", yaxis=\"Layer\")"
      ],
      "metadata": {
        "colab": {
          "base_uri": "https://localhost:8080/",
          "height": 542
        },
        "id": "Oo5V_7VYxp9o",
        "outputId": "f0ebb164-a234-4a49-f437-5fcec389185d"
      },
      "execution_count": null,
      "outputs": [
        {
          "output_type": "display_data",
          "data": {
            "text/html": [
              "<html>\n",
              "<head><meta charset=\"utf-8\" /></head>\n",
              "<body>\n",
              "    <div>            <script src=\"https://cdnjs.cloudflare.com/ajax/libs/mathjax/2.7.5/MathJax.js?config=TeX-AMS-MML_SVG\"></script><script type=\"text/javascript\">if (window.MathJax) {MathJax.Hub.Config({SVG: {font: \"STIX-Web\"}});}</script>                <script type=\"text/javascript\">window.PlotlyConfig = {MathJaxConfig: 'local'};</script>\n",
              "        <script src=\"https://cdn.plot.ly/plotly-2.8.3.min.js\"></script>                <div id=\"74f989f1-7f41-46b2-860e-e29b82109689\" class=\"plotly-graph-div\" style=\"height:525px; width:100%;\"></div>            <script type=\"text/javascript\">                                    window.PLOTLYENV=window.PLOTLYENV || {};                                    if (document.getElementById(\"74f989f1-7f41-46b2-860e-e29b82109689\")) {                    Plotly.newPlot(                        \"74f989f1-7f41-46b2-860e-e29b82109689\",                        [{\"coloraxis\":\"coloraxis\",\"name\":\"0\",\"x\":[\"<|endoftext|>_0\",\"This_1\",\" movie_2\",\" was_3\",\" really_4\"],\"z\":[[0.010786343365907669,-0.0012505380436778069,0.000704107282217592,0.0027847127057611942,-0.0038222966250032187],[0.0024023016449064016,0.0011662626639008522,0.003321175230666995,0.0032713350374251604,-0.0008699395111761987],[-8.246301877079532e-05,0.0025010760873556137,0.005176139995455742,0.004384132567793131,-0.0025264492724090815],[-0.0002038920792983845,0.0012432885123416781,0.005937336944043636,0.004689517896622419,-0.0022138147614896297],[-0.00010693006333895028,0.0009433406521566212,0.0067220949567854404,0.0027022496797144413,-0.0008364106179215014],[-0.00012324143608566374,0.0009632767760194838,0.006713939364999533,0.0018114678096026182,5.799596692668274e-05],[-0.00038966041756793857,6.343308632494882e-05,0.006016175262629986,0.0024612038396298885,0.0012306019198149443],[-7.883826765464619e-05,-0.0005944586591795087,0.005031150300055742,0.0028019300661981106,0.0021911601070314646],[0.0002211096289101988,-0.0006877959240227938,0.004300763364881277,0.0033338619396090508,0.0021685054525732994],[0.00024557666620239615,-0.0004911533324047923,0.0032695226836949587,0.003069255268201232,0.003234181320294738],[0.00025373234529979527,-0.0001748940849211067,0.0017942502163350582,0.002487483201548457,0.004953218158334494],[0.003573095193132758,0.007051947060972452,0.01078724954277277,0.01725108176469803,0.35103872418403625]],\"type\":\"heatmap\",\"xaxis\":\"x\",\"yaxis\":\"y\",\"hovertemplate\":\"Position: %{x}<br>Layer: %{y}<br>color: %{z}<extra></extra>\"}],                        {\"template\":{\"data\":{\"bar\":[{\"error_x\":{\"color\":\"#2a3f5f\"},\"error_y\":{\"color\":\"#2a3f5f\"},\"marker\":{\"line\":{\"color\":\"#E5ECF6\",\"width\":0.5},\"pattern\":{\"fillmode\":\"overlay\",\"size\":10,\"solidity\":0.2}},\"type\":\"bar\"}],\"barpolar\":[{\"marker\":{\"line\":{\"color\":\"#E5ECF6\",\"width\":0.5},\"pattern\":{\"fillmode\":\"overlay\",\"size\":10,\"solidity\":0.2}},\"type\":\"barpolar\"}],\"carpet\":[{\"aaxis\":{\"endlinecolor\":\"#2a3f5f\",\"gridcolor\":\"white\",\"linecolor\":\"white\",\"minorgridcolor\":\"white\",\"startlinecolor\":\"#2a3f5f\"},\"baxis\":{\"endlinecolor\":\"#2a3f5f\",\"gridcolor\":\"white\",\"linecolor\":\"white\",\"minorgridcolor\":\"white\",\"startlinecolor\":\"#2a3f5f\"},\"type\":\"carpet\"}],\"choropleth\":[{\"colorbar\":{\"outlinewidth\":0,\"ticks\":\"\"},\"type\":\"choropleth\"}],\"contour\":[{\"colorbar\":{\"outlinewidth\":0,\"ticks\":\"\"},\"colorscale\":[[0.0,\"#0d0887\"],[0.1111111111111111,\"#46039f\"],[0.2222222222222222,\"#7201a8\"],[0.3333333333333333,\"#9c179e\"],[0.4444444444444444,\"#bd3786\"],[0.5555555555555556,\"#d8576b\"],[0.6666666666666666,\"#ed7953\"],[0.7777777777777778,\"#fb9f3a\"],[0.8888888888888888,\"#fdca26\"],[1.0,\"#f0f921\"]],\"type\":\"contour\"}],\"contourcarpet\":[{\"colorbar\":{\"outlinewidth\":0,\"ticks\":\"\"},\"type\":\"contourcarpet\"}],\"heatmap\":[{\"colorbar\":{\"outlinewidth\":0,\"ticks\":\"\"},\"colorscale\":[[0.0,\"#0d0887\"],[0.1111111111111111,\"#46039f\"],[0.2222222222222222,\"#7201a8\"],[0.3333333333333333,\"#9c179e\"],[0.4444444444444444,\"#bd3786\"],[0.5555555555555556,\"#d8576b\"],[0.6666666666666666,\"#ed7953\"],[0.7777777777777778,\"#fb9f3a\"],[0.8888888888888888,\"#fdca26\"],[1.0,\"#f0f921\"]],\"type\":\"heatmap\"}],\"heatmapgl\":[{\"colorbar\":{\"outlinewidth\":0,\"ticks\":\"\"},\"colorscale\":[[0.0,\"#0d0887\"],[0.1111111111111111,\"#46039f\"],[0.2222222222222222,\"#7201a8\"],[0.3333333333333333,\"#9c179e\"],[0.4444444444444444,\"#bd3786\"],[0.5555555555555556,\"#d8576b\"],[0.6666666666666666,\"#ed7953\"],[0.7777777777777778,\"#fb9f3a\"],[0.8888888888888888,\"#fdca26\"],[1.0,\"#f0f921\"]],\"type\":\"heatmapgl\"}],\"histogram\":[{\"marker\":{\"pattern\":{\"fillmode\":\"overlay\",\"size\":10,\"solidity\":0.2}},\"type\":\"histogram\"}],\"histogram2d\":[{\"colorbar\":{\"outlinewidth\":0,\"ticks\":\"\"},\"colorscale\":[[0.0,\"#0d0887\"],[0.1111111111111111,\"#46039f\"],[0.2222222222222222,\"#7201a8\"],[0.3333333333333333,\"#9c179e\"],[0.4444444444444444,\"#bd3786\"],[0.5555555555555556,\"#d8576b\"],[0.6666666666666666,\"#ed7953\"],[0.7777777777777778,\"#fb9f3a\"],[0.8888888888888888,\"#fdca26\"],[1.0,\"#f0f921\"]],\"type\":\"histogram2d\"}],\"histogram2dcontour\":[{\"colorbar\":{\"outlinewidth\":0,\"ticks\":\"\"},\"colorscale\":[[0.0,\"#0d0887\"],[0.1111111111111111,\"#46039f\"],[0.2222222222222222,\"#7201a8\"],[0.3333333333333333,\"#9c179e\"],[0.4444444444444444,\"#bd3786\"],[0.5555555555555556,\"#d8576b\"],[0.6666666666666666,\"#ed7953\"],[0.7777777777777778,\"#fb9f3a\"],[0.8888888888888888,\"#fdca26\"],[1.0,\"#f0f921\"]],\"type\":\"histogram2dcontour\"}],\"mesh3d\":[{\"colorbar\":{\"outlinewidth\":0,\"ticks\":\"\"},\"type\":\"mesh3d\"}],\"parcoords\":[{\"line\":{\"colorbar\":{\"outlinewidth\":0,\"ticks\":\"\"}},\"type\":\"parcoords\"}],\"pie\":[{\"automargin\":true,\"type\":\"pie\"}],\"scatter\":[{\"marker\":{\"colorbar\":{\"outlinewidth\":0,\"ticks\":\"\"}},\"type\":\"scatter\"}],\"scatter3d\":[{\"line\":{\"colorbar\":{\"outlinewidth\":0,\"ticks\":\"\"}},\"marker\":{\"colorbar\":{\"outlinewidth\":0,\"ticks\":\"\"}},\"type\":\"scatter3d\"}],\"scattercarpet\":[{\"marker\":{\"colorbar\":{\"outlinewidth\":0,\"ticks\":\"\"}},\"type\":\"scattercarpet\"}],\"scattergeo\":[{\"marker\":{\"colorbar\":{\"outlinewidth\":0,\"ticks\":\"\"}},\"type\":\"scattergeo\"}],\"scattergl\":[{\"marker\":{\"colorbar\":{\"outlinewidth\":0,\"ticks\":\"\"}},\"type\":\"scattergl\"}],\"scattermapbox\":[{\"marker\":{\"colorbar\":{\"outlinewidth\":0,\"ticks\":\"\"}},\"type\":\"scattermapbox\"}],\"scatterpolar\":[{\"marker\":{\"colorbar\":{\"outlinewidth\":0,\"ticks\":\"\"}},\"type\":\"scatterpolar\"}],\"scatterpolargl\":[{\"marker\":{\"colorbar\":{\"outlinewidth\":0,\"ticks\":\"\"}},\"type\":\"scatterpolargl\"}],\"scatterternary\":[{\"marker\":{\"colorbar\":{\"outlinewidth\":0,\"ticks\":\"\"}},\"type\":\"scatterternary\"}],\"surface\":[{\"colorbar\":{\"outlinewidth\":0,\"ticks\":\"\"},\"colorscale\":[[0.0,\"#0d0887\"],[0.1111111111111111,\"#46039f\"],[0.2222222222222222,\"#7201a8\"],[0.3333333333333333,\"#9c179e\"],[0.4444444444444444,\"#bd3786\"],[0.5555555555555556,\"#d8576b\"],[0.6666666666666666,\"#ed7953\"],[0.7777777777777778,\"#fb9f3a\"],[0.8888888888888888,\"#fdca26\"],[1.0,\"#f0f921\"]],\"type\":\"surface\"}],\"table\":[{\"cells\":{\"fill\":{\"color\":\"#EBF0F8\"},\"line\":{\"color\":\"white\"}},\"header\":{\"fill\":{\"color\":\"#C8D4E3\"},\"line\":{\"color\":\"white\"}},\"type\":\"table\"}]},\"layout\":{\"annotationdefaults\":{\"arrowcolor\":\"#2a3f5f\",\"arrowhead\":0,\"arrowwidth\":1},\"autotypenumbers\":\"strict\",\"coloraxis\":{\"colorbar\":{\"outlinewidth\":0,\"ticks\":\"\"}},\"colorscale\":{\"diverging\":[[0,\"#8e0152\"],[0.1,\"#c51b7d\"],[0.2,\"#de77ae\"],[0.3,\"#f1b6da\"],[0.4,\"#fde0ef\"],[0.5,\"#f7f7f7\"],[0.6,\"#e6f5d0\"],[0.7,\"#b8e186\"],[0.8,\"#7fbc41\"],[0.9,\"#4d9221\"],[1,\"#276419\"]],\"sequential\":[[0.0,\"#0d0887\"],[0.1111111111111111,\"#46039f\"],[0.2222222222222222,\"#7201a8\"],[0.3333333333333333,\"#9c179e\"],[0.4444444444444444,\"#bd3786\"],[0.5555555555555556,\"#d8576b\"],[0.6666666666666666,\"#ed7953\"],[0.7777777777777778,\"#fb9f3a\"],[0.8888888888888888,\"#fdca26\"],[1.0,\"#f0f921\"]],\"sequentialminus\":[[0.0,\"#0d0887\"],[0.1111111111111111,\"#46039f\"],[0.2222222222222222,\"#7201a8\"],[0.3333333333333333,\"#9c179e\"],[0.4444444444444444,\"#bd3786\"],[0.5555555555555556,\"#d8576b\"],[0.6666666666666666,\"#ed7953\"],[0.7777777777777778,\"#fb9f3a\"],[0.8888888888888888,\"#fdca26\"],[1.0,\"#f0f921\"]]},\"colorway\":[\"#636efa\",\"#EF553B\",\"#00cc96\",\"#ab63fa\",\"#FFA15A\",\"#19d3f3\",\"#FF6692\",\"#B6E880\",\"#FF97FF\",\"#FECB52\"],\"font\":{\"color\":\"#2a3f5f\"},\"geo\":{\"bgcolor\":\"white\",\"lakecolor\":\"white\",\"landcolor\":\"#E5ECF6\",\"showlakes\":true,\"showland\":true,\"subunitcolor\":\"white\"},\"hoverlabel\":{\"align\":\"left\"},\"hovermode\":\"closest\",\"mapbox\":{\"style\":\"light\"},\"paper_bgcolor\":\"white\",\"plot_bgcolor\":\"#E5ECF6\",\"polar\":{\"angularaxis\":{\"gridcolor\":\"white\",\"linecolor\":\"white\",\"ticks\":\"\"},\"bgcolor\":\"#E5ECF6\",\"radialaxis\":{\"gridcolor\":\"white\",\"linecolor\":\"white\",\"ticks\":\"\"}},\"scene\":{\"xaxis\":{\"backgroundcolor\":\"#E5ECF6\",\"gridcolor\":\"white\",\"gridwidth\":2,\"linecolor\":\"white\",\"showbackground\":true,\"ticks\":\"\",\"zerolinecolor\":\"white\"},\"yaxis\":{\"backgroundcolor\":\"#E5ECF6\",\"gridcolor\":\"white\",\"gridwidth\":2,\"linecolor\":\"white\",\"showbackground\":true,\"ticks\":\"\",\"zerolinecolor\":\"white\"},\"zaxis\":{\"backgroundcolor\":\"#E5ECF6\",\"gridcolor\":\"white\",\"gridwidth\":2,\"linecolor\":\"white\",\"showbackground\":true,\"ticks\":\"\",\"zerolinecolor\":\"white\"}},\"shapedefaults\":{\"line\":{\"color\":\"#2a3f5f\"}},\"ternary\":{\"aaxis\":{\"gridcolor\":\"white\",\"linecolor\":\"white\",\"ticks\":\"\"},\"baxis\":{\"gridcolor\":\"white\",\"linecolor\":\"white\",\"ticks\":\"\"},\"bgcolor\":\"#E5ECF6\",\"caxis\":{\"gridcolor\":\"white\",\"linecolor\":\"white\",\"ticks\":\"\"}},\"title\":{\"x\":0.05},\"xaxis\":{\"automargin\":true,\"gridcolor\":\"white\",\"linecolor\":\"white\",\"ticks\":\"\",\"title\":{\"standoff\":15},\"zerolinecolor\":\"white\",\"zerolinewidth\":2},\"yaxis\":{\"automargin\":true,\"gridcolor\":\"white\",\"linecolor\":\"white\",\"ticks\":\"\",\"title\":{\"standoff\":15},\"zerolinecolor\":\"white\",\"zerolinewidth\":2}}},\"xaxis\":{\"anchor\":\"y\",\"domain\":[0.0,1.0],\"scaleanchor\":\"y\",\"constrain\":\"domain\",\"title\":{\"text\":\"Position\"}},\"yaxis\":{\"anchor\":\"x\",\"domain\":[0.0,1.0],\"autorange\":\"reversed\",\"constrain\":\"domain\",\"title\":{\"text\":\"Layer\"}},\"coloraxis\":{\"colorscale\":[[0.0,\"rgb(103,0,31)\"],[0.1,\"rgb(178,24,43)\"],[0.2,\"rgb(214,96,77)\"],[0.3,\"rgb(244,165,130)\"],[0.4,\"rgb(253,219,199)\"],[0.5,\"rgb(247,247,247)\"],[0.6,\"rgb(209,229,240)\"],[0.7,\"rgb(146,197,222)\"],[0.8,\"rgb(67,147,195)\"],[0.9,\"rgb(33,102,172)\"],[1.0,\"rgb(5,48,97)\"]],\"cmid\":0.0},\"title\":{\"text\":\"Logit Difference From Patched Residual Stream\"}},                        {\"responsive\": true}                    ).then(function(){\n",
              "                            \n",
              "var gd = document.getElementById('74f989f1-7f41-46b2-860e-e29b82109689');\n",
              "var x = new MutationObserver(function (mutations, observer) {{\n",
              "        var display = window.getComputedStyle(gd).display;\n",
              "        if (!display || display === 'none') {{\n",
              "            console.log([gd, 'removed!']);\n",
              "            Plotly.purge(gd);\n",
              "            observer.disconnect();\n",
              "        }}\n",
              "}});\n",
              "\n",
              "// Listen for the removal of the full notebook cells\n",
              "var notebookContainer = gd.closest('#notebook-container');\n",
              "if (notebookContainer) {{\n",
              "    x.observe(notebookContainer, {childList: true});\n",
              "}}\n",
              "\n",
              "// Listen for the clearing of the current output cell\n",
              "var outputEl = gd.closest('.output');\n",
              "if (outputEl) {{\n",
              "    x.observe(outputEl, {childList: true});\n",
              "}}\n",
              "\n",
              "                        })                };                            </script>        </div>\n",
              "</body>\n",
              "</html>"
            ]
          },
          "metadata": {}
        }
      ]
    },
    {
      "cell_type": "markdown",
      "source": [
        "#### Patch MLPs & Attention Layers"
      ],
      "metadata": {
        "id": "_bzq-D9vxVu6"
      }
    },
    {
      "cell_type": "markdown",
      "source": [
        "We can patch the MLPs and attention layers as well. Once again, we find that position 4 is where the action is."
      ],
      "metadata": {
        "id": "rJYjAEr_oG1z"
      }
    },
    {
      "cell_type": "code",
      "source": [
        "patched_attn_diff = torch.zeros(hooked_source_model.cfg.n_layers, tokens.shape[1], device=device, dtype=torch.float32)\n",
        "for layer in range(hooked_source_model.cfg.n_layers):\n",
        "    for position in range(tokens.shape[1]):\n",
        "        \n",
        "        hook_fn = partial(patch_residual_component, subcomponent_index=position, from_cache=rlhf_model_cache)\n",
        "        \n",
        "        # patch attention\n",
        "        patched_logits = hooked_source_model.run_with_hooks(\n",
        "            tokens, \n",
        "            fwd_hooks = [(utils.get_act_name(\"attn_out\", layer), \n",
        "                hook_fn)], \n",
        "            return_type=\"logits\"\n",
        "        )\n",
        "        patched_attn_logit_diff = logit_diff(patched_logits, answer_tokens)\n",
        "        #print(hooked_source_model.to_str_tokens(patched_logits.argmax(dim=2)[:,-1]))\n",
        "        #print(f\"Attention {layer=} {position=}\")\n",
        "        #print(hooked_source_model.to_str_tokens(patched_logits.argmax(dim=2)[:,-1]))\n",
        "\n",
        "        patched_attn_diff[layer, position] = normalize_patched_logit_diff(patched_attn_logit_diff)\n",
        "        "
      ],
      "metadata": {
        "id": "2_-IpIUsxibO"
      },
      "execution_count": null,
      "outputs": []
    },
    {
      "cell_type": "code",
      "source": [
        "patched_mlp_diff = torch.zeros(hooked_source_model.cfg.n_layers, tokens.shape[1], device=device, dtype=torch.float32)\n",
        "for layer in range(hooked_source_model.cfg.n_layers):\n",
        "    for position in range(tokens.shape[1]):\n",
        "        \n",
        "        hook_fn = partial(patch_residual_component, subcomponent_index=position, from_cache=rlhf_model_cache)\n",
        "        \n",
        "        # patch MLP\n",
        "        patched_logits = hooked_source_model.run_with_hooks(\n",
        "            tokens, \n",
        "            fwd_hooks = [(utils.get_act_name(\"mlp_out\", layer), \n",
        "                hook_fn)], \n",
        "            return_type=\"logits\"\n",
        "        )\n",
        "        patched_mlp_logit_diff = logit_diff(patched_logits, answer_tokens)\n",
        "        #print(f\"MLP {layer=} {position=}\")\n",
        "        #print(hooked_source_model.to_str_tokens(patched_logits.argmax(dim=2)[:,-1]))\n",
        "\n",
        "        patched_mlp_diff[layer, position] = normalize_patched_logit_diff(patched_mlp_logit_diff)"
      ],
      "metadata": {
        "id": "kKVVUTcVGVY1"
      },
      "execution_count": null,
      "outputs": []
    },
    {
      "cell_type": "code",
      "source": [
        "prompt_position_labels = [f\"{tok}_{i}\" for i, tok in enumerate(hooked_source_model.to_str_tokens(tokens[0]))]\n",
        "imshow(patched_attn_diff, x=prompt_position_labels, title=\"Logit Difference From Patched Attention Layers\", xaxis=\"Position\", yaxis=\"Layer\")"
      ],
      "metadata": {
        "colab": {
          "base_uri": "https://localhost:8080/",
          "height": 542
        },
        "id": "RtVderzl45tw",
        "outputId": "dddcc8d1-cade-4316-d82b-546afa13a5dc"
      },
      "execution_count": null,
      "outputs": [
        {
          "output_type": "display_data",
          "data": {
            "text/html": [
              "<html>\n",
              "<head><meta charset=\"utf-8\" /></head>\n",
              "<body>\n",
              "    <div>            <script src=\"https://cdnjs.cloudflare.com/ajax/libs/mathjax/2.7.5/MathJax.js?config=TeX-AMS-MML_SVG\"></script><script type=\"text/javascript\">if (window.MathJax) {MathJax.Hub.Config({SVG: {font: \"STIX-Web\"}});}</script>                <script type=\"text/javascript\">window.PlotlyConfig = {MathJaxConfig: 'local'};</script>\n",
              "        <script src=\"https://cdn.plot.ly/plotly-2.8.3.min.js\"></script>                <div id=\"1e955e49-4a87-41c8-85f5-d04b3871296c\" class=\"plotly-graph-div\" style=\"height:525px; width:100%;\"></div>            <script type=\"text/javascript\">                                    window.PLOTLYENV=window.PLOTLYENV || {};                                    if (document.getElementById(\"1e955e49-4a87-41c8-85f5-d04b3871296c\")) {                    Plotly.newPlot(                        \"1e955e49-4a87-41c8-85f5-d04b3871296c\",                        [{\"coloraxis\":\"coloraxis\",\"name\":\"0\",\"x\":[\"<|endoftext|>_0\",\"This_1\",\" movie_2\",\" was_3\",\" really_4\"],\"z\":[[0.003255929797887802,0.0013873722637072206,0.003950975369662046,0.002171223983168602,0.0016093880403786898],[0.0001531456073280424,0.0012704741675406694,0.0007992569007910788,0.0009551210678182542,-0.0026832197327166796],[-3.262273094151169e-05,-4.712172449217178e-05,0.0004431254346854985,0.0009877438424155116,0.0003642871743068099],[-5.437122126750182e-06,-8.608776261098683e-05,0.00022473438002634794,6.252690218389034e-05,0.0013755918480455875],[-1.6311365470755845e-05,-4.4403161155059934e-05,0.00019120545766782016,0.00022020343749318272,0.00030719739152118564],[2.537323598517105e-05,-0.0001241476129507646,0.00040869033546186984,0.0017081624828279018,0.0007059196941554546],[-1.2686617992585525e-05,-1.5405179510707967e-05,0.00047665435704402626,4.4403161155059934e-05,0.0011399831855669618],[-3.6247479329176713e-06,5.52774072275497e-05,0.00022201580577529967,-0.00018758070655167103,0.0005192451644688845],[9.061869832294178e-07,-1.6311365470755845e-05,0.00011961668496951461,4.5309348934097216e-05,0.0011689811944961548],[9.061869832294178e-07,-9.968056474463083e-06,8.155682735377923e-05,0.000334382988512516,0.0015903582097962499],[0.000369724293705076,0.000839129148516804,0.0017616274999454618,0.003843138925731182,0.09743322432041168],[0.0,0.0,0.0,0.0,0.1534944772720337]],\"type\":\"heatmap\",\"xaxis\":\"x\",\"yaxis\":\"y\",\"hovertemplate\":\"Position: %{x}<br>Layer: %{y}<br>color: %{z}<extra></extra>\"}],                        {\"template\":{\"data\":{\"bar\":[{\"error_x\":{\"color\":\"#2a3f5f\"},\"error_y\":{\"color\":\"#2a3f5f\"},\"marker\":{\"line\":{\"color\":\"#E5ECF6\",\"width\":0.5},\"pattern\":{\"fillmode\":\"overlay\",\"size\":10,\"solidity\":0.2}},\"type\":\"bar\"}],\"barpolar\":[{\"marker\":{\"line\":{\"color\":\"#E5ECF6\",\"width\":0.5},\"pattern\":{\"fillmode\":\"overlay\",\"size\":10,\"solidity\":0.2}},\"type\":\"barpolar\"}],\"carpet\":[{\"aaxis\":{\"endlinecolor\":\"#2a3f5f\",\"gridcolor\":\"white\",\"linecolor\":\"white\",\"minorgridcolor\":\"white\",\"startlinecolor\":\"#2a3f5f\"},\"baxis\":{\"endlinecolor\":\"#2a3f5f\",\"gridcolor\":\"white\",\"linecolor\":\"white\",\"minorgridcolor\":\"white\",\"startlinecolor\":\"#2a3f5f\"},\"type\":\"carpet\"}],\"choropleth\":[{\"colorbar\":{\"outlinewidth\":0,\"ticks\":\"\"},\"type\":\"choropleth\"}],\"contour\":[{\"colorbar\":{\"outlinewidth\":0,\"ticks\":\"\"},\"colorscale\":[[0.0,\"#0d0887\"],[0.1111111111111111,\"#46039f\"],[0.2222222222222222,\"#7201a8\"],[0.3333333333333333,\"#9c179e\"],[0.4444444444444444,\"#bd3786\"],[0.5555555555555556,\"#d8576b\"],[0.6666666666666666,\"#ed7953\"],[0.7777777777777778,\"#fb9f3a\"],[0.8888888888888888,\"#fdca26\"],[1.0,\"#f0f921\"]],\"type\":\"contour\"}],\"contourcarpet\":[{\"colorbar\":{\"outlinewidth\":0,\"ticks\":\"\"},\"type\":\"contourcarpet\"}],\"heatmap\":[{\"colorbar\":{\"outlinewidth\":0,\"ticks\":\"\"},\"colorscale\":[[0.0,\"#0d0887\"],[0.1111111111111111,\"#46039f\"],[0.2222222222222222,\"#7201a8\"],[0.3333333333333333,\"#9c179e\"],[0.4444444444444444,\"#bd3786\"],[0.5555555555555556,\"#d8576b\"],[0.6666666666666666,\"#ed7953\"],[0.7777777777777778,\"#fb9f3a\"],[0.8888888888888888,\"#fdca26\"],[1.0,\"#f0f921\"]],\"type\":\"heatmap\"}],\"heatmapgl\":[{\"colorbar\":{\"outlinewidth\":0,\"ticks\":\"\"},\"colorscale\":[[0.0,\"#0d0887\"],[0.1111111111111111,\"#46039f\"],[0.2222222222222222,\"#7201a8\"],[0.3333333333333333,\"#9c179e\"],[0.4444444444444444,\"#bd3786\"],[0.5555555555555556,\"#d8576b\"],[0.6666666666666666,\"#ed7953\"],[0.7777777777777778,\"#fb9f3a\"],[0.8888888888888888,\"#fdca26\"],[1.0,\"#f0f921\"]],\"type\":\"heatmapgl\"}],\"histogram\":[{\"marker\":{\"pattern\":{\"fillmode\":\"overlay\",\"size\":10,\"solidity\":0.2}},\"type\":\"histogram\"}],\"histogram2d\":[{\"colorbar\":{\"outlinewidth\":0,\"ticks\":\"\"},\"colorscale\":[[0.0,\"#0d0887\"],[0.1111111111111111,\"#46039f\"],[0.2222222222222222,\"#7201a8\"],[0.3333333333333333,\"#9c179e\"],[0.4444444444444444,\"#bd3786\"],[0.5555555555555556,\"#d8576b\"],[0.6666666666666666,\"#ed7953\"],[0.7777777777777778,\"#fb9f3a\"],[0.8888888888888888,\"#fdca26\"],[1.0,\"#f0f921\"]],\"type\":\"histogram2d\"}],\"histogram2dcontour\":[{\"colorbar\":{\"outlinewidth\":0,\"ticks\":\"\"},\"colorscale\":[[0.0,\"#0d0887\"],[0.1111111111111111,\"#46039f\"],[0.2222222222222222,\"#7201a8\"],[0.3333333333333333,\"#9c179e\"],[0.4444444444444444,\"#bd3786\"],[0.5555555555555556,\"#d8576b\"],[0.6666666666666666,\"#ed7953\"],[0.7777777777777778,\"#fb9f3a\"],[0.8888888888888888,\"#fdca26\"],[1.0,\"#f0f921\"]],\"type\":\"histogram2dcontour\"}],\"mesh3d\":[{\"colorbar\":{\"outlinewidth\":0,\"ticks\":\"\"},\"type\":\"mesh3d\"}],\"parcoords\":[{\"line\":{\"colorbar\":{\"outlinewidth\":0,\"ticks\":\"\"}},\"type\":\"parcoords\"}],\"pie\":[{\"automargin\":true,\"type\":\"pie\"}],\"scatter\":[{\"marker\":{\"colorbar\":{\"outlinewidth\":0,\"ticks\":\"\"}},\"type\":\"scatter\"}],\"scatter3d\":[{\"line\":{\"colorbar\":{\"outlinewidth\":0,\"ticks\":\"\"}},\"marker\":{\"colorbar\":{\"outlinewidth\":0,\"ticks\":\"\"}},\"type\":\"scatter3d\"}],\"scattercarpet\":[{\"marker\":{\"colorbar\":{\"outlinewidth\":0,\"ticks\":\"\"}},\"type\":\"scattercarpet\"}],\"scattergeo\":[{\"marker\":{\"colorbar\":{\"outlinewidth\":0,\"ticks\":\"\"}},\"type\":\"scattergeo\"}],\"scattergl\":[{\"marker\":{\"colorbar\":{\"outlinewidth\":0,\"ticks\":\"\"}},\"type\":\"scattergl\"}],\"scattermapbox\":[{\"marker\":{\"colorbar\":{\"outlinewidth\":0,\"ticks\":\"\"}},\"type\":\"scattermapbox\"}],\"scatterpolar\":[{\"marker\":{\"colorbar\":{\"outlinewidth\":0,\"ticks\":\"\"}},\"type\":\"scatterpolar\"}],\"scatterpolargl\":[{\"marker\":{\"colorbar\":{\"outlinewidth\":0,\"ticks\":\"\"}},\"type\":\"scatterpolargl\"}],\"scatterternary\":[{\"marker\":{\"colorbar\":{\"outlinewidth\":0,\"ticks\":\"\"}},\"type\":\"scatterternary\"}],\"surface\":[{\"colorbar\":{\"outlinewidth\":0,\"ticks\":\"\"},\"colorscale\":[[0.0,\"#0d0887\"],[0.1111111111111111,\"#46039f\"],[0.2222222222222222,\"#7201a8\"],[0.3333333333333333,\"#9c179e\"],[0.4444444444444444,\"#bd3786\"],[0.5555555555555556,\"#d8576b\"],[0.6666666666666666,\"#ed7953\"],[0.7777777777777778,\"#fb9f3a\"],[0.8888888888888888,\"#fdca26\"],[1.0,\"#f0f921\"]],\"type\":\"surface\"}],\"table\":[{\"cells\":{\"fill\":{\"color\":\"#EBF0F8\"},\"line\":{\"color\":\"white\"}},\"header\":{\"fill\":{\"color\":\"#C8D4E3\"},\"line\":{\"color\":\"white\"}},\"type\":\"table\"}]},\"layout\":{\"annotationdefaults\":{\"arrowcolor\":\"#2a3f5f\",\"arrowhead\":0,\"arrowwidth\":1},\"autotypenumbers\":\"strict\",\"coloraxis\":{\"colorbar\":{\"outlinewidth\":0,\"ticks\":\"\"}},\"colorscale\":{\"diverging\":[[0,\"#8e0152\"],[0.1,\"#c51b7d\"],[0.2,\"#de77ae\"],[0.3,\"#f1b6da\"],[0.4,\"#fde0ef\"],[0.5,\"#f7f7f7\"],[0.6,\"#e6f5d0\"],[0.7,\"#b8e186\"],[0.8,\"#7fbc41\"],[0.9,\"#4d9221\"],[1,\"#276419\"]],\"sequential\":[[0.0,\"#0d0887\"],[0.1111111111111111,\"#46039f\"],[0.2222222222222222,\"#7201a8\"],[0.3333333333333333,\"#9c179e\"],[0.4444444444444444,\"#bd3786\"],[0.5555555555555556,\"#d8576b\"],[0.6666666666666666,\"#ed7953\"],[0.7777777777777778,\"#fb9f3a\"],[0.8888888888888888,\"#fdca26\"],[1.0,\"#f0f921\"]],\"sequentialminus\":[[0.0,\"#0d0887\"],[0.1111111111111111,\"#46039f\"],[0.2222222222222222,\"#7201a8\"],[0.3333333333333333,\"#9c179e\"],[0.4444444444444444,\"#bd3786\"],[0.5555555555555556,\"#d8576b\"],[0.6666666666666666,\"#ed7953\"],[0.7777777777777778,\"#fb9f3a\"],[0.8888888888888888,\"#fdca26\"],[1.0,\"#f0f921\"]]},\"colorway\":[\"#636efa\",\"#EF553B\",\"#00cc96\",\"#ab63fa\",\"#FFA15A\",\"#19d3f3\",\"#FF6692\",\"#B6E880\",\"#FF97FF\",\"#FECB52\"],\"font\":{\"color\":\"#2a3f5f\"},\"geo\":{\"bgcolor\":\"white\",\"lakecolor\":\"white\",\"landcolor\":\"#E5ECF6\",\"showlakes\":true,\"showland\":true,\"subunitcolor\":\"white\"},\"hoverlabel\":{\"align\":\"left\"},\"hovermode\":\"closest\",\"mapbox\":{\"style\":\"light\"},\"paper_bgcolor\":\"white\",\"plot_bgcolor\":\"#E5ECF6\",\"polar\":{\"angularaxis\":{\"gridcolor\":\"white\",\"linecolor\":\"white\",\"ticks\":\"\"},\"bgcolor\":\"#E5ECF6\",\"radialaxis\":{\"gridcolor\":\"white\",\"linecolor\":\"white\",\"ticks\":\"\"}},\"scene\":{\"xaxis\":{\"backgroundcolor\":\"#E5ECF6\",\"gridcolor\":\"white\",\"gridwidth\":2,\"linecolor\":\"white\",\"showbackground\":true,\"ticks\":\"\",\"zerolinecolor\":\"white\"},\"yaxis\":{\"backgroundcolor\":\"#E5ECF6\",\"gridcolor\":\"white\",\"gridwidth\":2,\"linecolor\":\"white\",\"showbackground\":true,\"ticks\":\"\",\"zerolinecolor\":\"white\"},\"zaxis\":{\"backgroundcolor\":\"#E5ECF6\",\"gridcolor\":\"white\",\"gridwidth\":2,\"linecolor\":\"white\",\"showbackground\":true,\"ticks\":\"\",\"zerolinecolor\":\"white\"}},\"shapedefaults\":{\"line\":{\"color\":\"#2a3f5f\"}},\"ternary\":{\"aaxis\":{\"gridcolor\":\"white\",\"linecolor\":\"white\",\"ticks\":\"\"},\"baxis\":{\"gridcolor\":\"white\",\"linecolor\":\"white\",\"ticks\":\"\"},\"bgcolor\":\"#E5ECF6\",\"caxis\":{\"gridcolor\":\"white\",\"linecolor\":\"white\",\"ticks\":\"\"}},\"title\":{\"x\":0.05},\"xaxis\":{\"automargin\":true,\"gridcolor\":\"white\",\"linecolor\":\"white\",\"ticks\":\"\",\"title\":{\"standoff\":15},\"zerolinecolor\":\"white\",\"zerolinewidth\":2},\"yaxis\":{\"automargin\":true,\"gridcolor\":\"white\",\"linecolor\":\"white\",\"ticks\":\"\",\"title\":{\"standoff\":15},\"zerolinecolor\":\"white\",\"zerolinewidth\":2}}},\"xaxis\":{\"anchor\":\"y\",\"domain\":[0.0,1.0],\"scaleanchor\":\"y\",\"constrain\":\"domain\",\"title\":{\"text\":\"Position\"}},\"yaxis\":{\"anchor\":\"x\",\"domain\":[0.0,1.0],\"autorange\":\"reversed\",\"constrain\":\"domain\",\"title\":{\"text\":\"Layer\"}},\"coloraxis\":{\"colorscale\":[[0.0,\"rgb(103,0,31)\"],[0.1,\"rgb(178,24,43)\"],[0.2,\"rgb(214,96,77)\"],[0.3,\"rgb(244,165,130)\"],[0.4,\"rgb(253,219,199)\"],[0.5,\"rgb(247,247,247)\"],[0.6,\"rgb(209,229,240)\"],[0.7,\"rgb(146,197,222)\"],[0.8,\"rgb(67,147,195)\"],[0.9,\"rgb(33,102,172)\"],[1.0,\"rgb(5,48,97)\"]],\"cmid\":0.0},\"title\":{\"text\":\"Logit Difference From Patched Attention Layers\"}},                        {\"responsive\": true}                    ).then(function(){\n",
              "                            \n",
              "var gd = document.getElementById('1e955e49-4a87-41c8-85f5-d04b3871296c');\n",
              "var x = new MutationObserver(function (mutations, observer) {{\n",
              "        var display = window.getComputedStyle(gd).display;\n",
              "        if (!display || display === 'none') {{\n",
              "            console.log([gd, 'removed!']);\n",
              "            Plotly.purge(gd);\n",
              "            observer.disconnect();\n",
              "        }}\n",
              "}});\n",
              "\n",
              "// Listen for the removal of the full notebook cells\n",
              "var notebookContainer = gd.closest('#notebook-container');\n",
              "if (notebookContainer) {{\n",
              "    x.observe(notebookContainer, {childList: true});\n",
              "}}\n",
              "\n",
              "// Listen for the clearing of the current output cell\n",
              "var outputEl = gd.closest('.output');\n",
              "if (outputEl) {{\n",
              "    x.observe(outputEl, {childList: true});\n",
              "}}\n",
              "\n",
              "                        })                };                            </script>        </div>\n",
              "</body>\n",
              "</html>"
            ]
          },
          "metadata": {}
        }
      ]
    },
    {
      "cell_type": "code",
      "source": [
        "prompt_position_labels = [f\"{tok}_{i}\" for i, tok in enumerate(hooked_source_model.to_str_tokens(tokens[0]))]\n",
        "imshow(patched_mlp_diff, x=prompt_position_labels, title=\"Logit Difference From Patched MLPs\", xaxis=\"Position\", yaxis=\"Layer\")"
      ],
      "metadata": {
        "colab": {
          "base_uri": "https://localhost:8080/",
          "height": 542
        },
        "id": "PXTXStxO48O_",
        "outputId": "aca06e7b-897e-484e-b562-ca30fe8d071a"
      },
      "execution_count": null,
      "outputs": [
        {
          "output_type": "display_data",
          "data": {
            "text/html": [
              "<html>\n",
              "<head><meta charset=\"utf-8\" /></head>\n",
              "<body>\n",
              "    <div>            <script src=\"https://cdnjs.cloudflare.com/ajax/libs/mathjax/2.7.5/MathJax.js?config=TeX-AMS-MML_SVG\"></script><script type=\"text/javascript\">if (window.MathJax) {MathJax.Hub.Config({SVG: {font: \"STIX-Web\"}});}</script>                <script type=\"text/javascript\">window.PlotlyConfig = {MathJaxConfig: 'local'};</script>\n",
              "        <script src=\"https://cdn.plot.ly/plotly-2.8.3.min.js\"></script>                <div id=\"a46ad63d-e0bf-40c5-ac7a-ad7037ef688e\" class=\"plotly-graph-div\" style=\"height:525px; width:100%;\"></div>            <script type=\"text/javascript\">                                    window.PLOTLYENV=window.PLOTLYENV || {};                                    if (document.getElementById(\"a46ad63d-e0bf-40c5-ac7a-ad7037ef688e\")) {                    Plotly.newPlot(                        \"a46ad63d-e0bf-40c5-ac7a-ad7037ef688e\",                        [{\"coloraxis\":\"coloraxis\",\"name\":\"0\",\"x\":[\"<|endoftext|>_0\",\"This_1\",\" movie_2\",\" was_3\",\" really_4\"],\"z\":[[-0.005261321552097797,-0.002263655187562108,0.00029541694675572217,4.712172449217178e-05,-0.005389093887060881],[0.0002718560863286257,0.0015912643866613507,-0.0003561314952094108,0.0005074646905995905,-0.0005618359427899122],[-1.4498991731670685e-05,-0.001724473899230361,-0.0012043225578963757,-0.0030837543308734894,-0.003404544433578849],[1.8123739209841006e-05,-0.00010964862303808331,5.799596692668274e-05,-0.0001839559554355219,-0.0005835844203829765],[-1.0874244253500365e-05,-8.608776261098683e-05,0.0010883305221796036,0.0015178632456809282,0.0029378582257777452],[-2.6279421945218928e-05,-0.00022745293972548097,-0.0011707935482263565,-0.000142271353979595,0.0011599193094298244],[-3.171654316247441e-05,-1.5405179510707967e-05,0.00022926530800759792,-0.0008364106179215014,0.0012151967966929078],[-2.4467048206133768e-05,-0.00037878614966757596,0.0012151967966929078,0.0006424865568988025,-0.0020262340549379587],[-9.061869832294178e-07,-5.165265974937938e-05,0.00023651481023989618,0.000739448587410152,0.0021603498607873917],[-2.718561063375091e-06,-1.9936112948926166e-05,9.152488928521052e-05,0.0005301194032654166,-0.000516526575665921],[0.0030910037457942963,0.006261751987040043,0.007417140528559685,0.012480913661420345,0.2757073938846588],[0.0,0.0,0.0,0.0,0.2861267328262329]],\"type\":\"heatmap\",\"xaxis\":\"x\",\"yaxis\":\"y\",\"hovertemplate\":\"Position: %{x}<br>Layer: %{y}<br>color: %{z}<extra></extra>\"}],                        {\"template\":{\"data\":{\"bar\":[{\"error_x\":{\"color\":\"#2a3f5f\"},\"error_y\":{\"color\":\"#2a3f5f\"},\"marker\":{\"line\":{\"color\":\"#E5ECF6\",\"width\":0.5},\"pattern\":{\"fillmode\":\"overlay\",\"size\":10,\"solidity\":0.2}},\"type\":\"bar\"}],\"barpolar\":[{\"marker\":{\"line\":{\"color\":\"#E5ECF6\",\"width\":0.5},\"pattern\":{\"fillmode\":\"overlay\",\"size\":10,\"solidity\":0.2}},\"type\":\"barpolar\"}],\"carpet\":[{\"aaxis\":{\"endlinecolor\":\"#2a3f5f\",\"gridcolor\":\"white\",\"linecolor\":\"white\",\"minorgridcolor\":\"white\",\"startlinecolor\":\"#2a3f5f\"},\"baxis\":{\"endlinecolor\":\"#2a3f5f\",\"gridcolor\":\"white\",\"linecolor\":\"white\",\"minorgridcolor\":\"white\",\"startlinecolor\":\"#2a3f5f\"},\"type\":\"carpet\"}],\"choropleth\":[{\"colorbar\":{\"outlinewidth\":0,\"ticks\":\"\"},\"type\":\"choropleth\"}],\"contour\":[{\"colorbar\":{\"outlinewidth\":0,\"ticks\":\"\"},\"colorscale\":[[0.0,\"#0d0887\"],[0.1111111111111111,\"#46039f\"],[0.2222222222222222,\"#7201a8\"],[0.3333333333333333,\"#9c179e\"],[0.4444444444444444,\"#bd3786\"],[0.5555555555555556,\"#d8576b\"],[0.6666666666666666,\"#ed7953\"],[0.7777777777777778,\"#fb9f3a\"],[0.8888888888888888,\"#fdca26\"],[1.0,\"#f0f921\"]],\"type\":\"contour\"}],\"contourcarpet\":[{\"colorbar\":{\"outlinewidth\":0,\"ticks\":\"\"},\"type\":\"contourcarpet\"}],\"heatmap\":[{\"colorbar\":{\"outlinewidth\":0,\"ticks\":\"\"},\"colorscale\":[[0.0,\"#0d0887\"],[0.1111111111111111,\"#46039f\"],[0.2222222222222222,\"#7201a8\"],[0.3333333333333333,\"#9c179e\"],[0.4444444444444444,\"#bd3786\"],[0.5555555555555556,\"#d8576b\"],[0.6666666666666666,\"#ed7953\"],[0.7777777777777778,\"#fb9f3a\"],[0.8888888888888888,\"#fdca26\"],[1.0,\"#f0f921\"]],\"type\":\"heatmap\"}],\"heatmapgl\":[{\"colorbar\":{\"outlinewidth\":0,\"ticks\":\"\"},\"colorscale\":[[0.0,\"#0d0887\"],[0.1111111111111111,\"#46039f\"],[0.2222222222222222,\"#7201a8\"],[0.3333333333333333,\"#9c179e\"],[0.4444444444444444,\"#bd3786\"],[0.5555555555555556,\"#d8576b\"],[0.6666666666666666,\"#ed7953\"],[0.7777777777777778,\"#fb9f3a\"],[0.8888888888888888,\"#fdca26\"],[1.0,\"#f0f921\"]],\"type\":\"heatmapgl\"}],\"histogram\":[{\"marker\":{\"pattern\":{\"fillmode\":\"overlay\",\"size\":10,\"solidity\":0.2}},\"type\":\"histogram\"}],\"histogram2d\":[{\"colorbar\":{\"outlinewidth\":0,\"ticks\":\"\"},\"colorscale\":[[0.0,\"#0d0887\"],[0.1111111111111111,\"#46039f\"],[0.2222222222222222,\"#7201a8\"],[0.3333333333333333,\"#9c179e\"],[0.4444444444444444,\"#bd3786\"],[0.5555555555555556,\"#d8576b\"],[0.6666666666666666,\"#ed7953\"],[0.7777777777777778,\"#fb9f3a\"],[0.8888888888888888,\"#fdca26\"],[1.0,\"#f0f921\"]],\"type\":\"histogram2d\"}],\"histogram2dcontour\":[{\"colorbar\":{\"outlinewidth\":0,\"ticks\":\"\"},\"colorscale\":[[0.0,\"#0d0887\"],[0.1111111111111111,\"#46039f\"],[0.2222222222222222,\"#7201a8\"],[0.3333333333333333,\"#9c179e\"],[0.4444444444444444,\"#bd3786\"],[0.5555555555555556,\"#d8576b\"],[0.6666666666666666,\"#ed7953\"],[0.7777777777777778,\"#fb9f3a\"],[0.8888888888888888,\"#fdca26\"],[1.0,\"#f0f921\"]],\"type\":\"histogram2dcontour\"}],\"mesh3d\":[{\"colorbar\":{\"outlinewidth\":0,\"ticks\":\"\"},\"type\":\"mesh3d\"}],\"parcoords\":[{\"line\":{\"colorbar\":{\"outlinewidth\":0,\"ticks\":\"\"}},\"type\":\"parcoords\"}],\"pie\":[{\"automargin\":true,\"type\":\"pie\"}],\"scatter\":[{\"marker\":{\"colorbar\":{\"outlinewidth\":0,\"ticks\":\"\"}},\"type\":\"scatter\"}],\"scatter3d\":[{\"line\":{\"colorbar\":{\"outlinewidth\":0,\"ticks\":\"\"}},\"marker\":{\"colorbar\":{\"outlinewidth\":0,\"ticks\":\"\"}},\"type\":\"scatter3d\"}],\"scattercarpet\":[{\"marker\":{\"colorbar\":{\"outlinewidth\":0,\"ticks\":\"\"}},\"type\":\"scattercarpet\"}],\"scattergeo\":[{\"marker\":{\"colorbar\":{\"outlinewidth\":0,\"ticks\":\"\"}},\"type\":\"scattergeo\"}],\"scattergl\":[{\"marker\":{\"colorbar\":{\"outlinewidth\":0,\"ticks\":\"\"}},\"type\":\"scattergl\"}],\"scattermapbox\":[{\"marker\":{\"colorbar\":{\"outlinewidth\":0,\"ticks\":\"\"}},\"type\":\"scattermapbox\"}],\"scatterpolar\":[{\"marker\":{\"colorbar\":{\"outlinewidth\":0,\"ticks\":\"\"}},\"type\":\"scatterpolar\"}],\"scatterpolargl\":[{\"marker\":{\"colorbar\":{\"outlinewidth\":0,\"ticks\":\"\"}},\"type\":\"scatterpolargl\"}],\"scatterternary\":[{\"marker\":{\"colorbar\":{\"outlinewidth\":0,\"ticks\":\"\"}},\"type\":\"scatterternary\"}],\"surface\":[{\"colorbar\":{\"outlinewidth\":0,\"ticks\":\"\"},\"colorscale\":[[0.0,\"#0d0887\"],[0.1111111111111111,\"#46039f\"],[0.2222222222222222,\"#7201a8\"],[0.3333333333333333,\"#9c179e\"],[0.4444444444444444,\"#bd3786\"],[0.5555555555555556,\"#d8576b\"],[0.6666666666666666,\"#ed7953\"],[0.7777777777777778,\"#fb9f3a\"],[0.8888888888888888,\"#fdca26\"],[1.0,\"#f0f921\"]],\"type\":\"surface\"}],\"table\":[{\"cells\":{\"fill\":{\"color\":\"#EBF0F8\"},\"line\":{\"color\":\"white\"}},\"header\":{\"fill\":{\"color\":\"#C8D4E3\"},\"line\":{\"color\":\"white\"}},\"type\":\"table\"}]},\"layout\":{\"annotationdefaults\":{\"arrowcolor\":\"#2a3f5f\",\"arrowhead\":0,\"arrowwidth\":1},\"autotypenumbers\":\"strict\",\"coloraxis\":{\"colorbar\":{\"outlinewidth\":0,\"ticks\":\"\"}},\"colorscale\":{\"diverging\":[[0,\"#8e0152\"],[0.1,\"#c51b7d\"],[0.2,\"#de77ae\"],[0.3,\"#f1b6da\"],[0.4,\"#fde0ef\"],[0.5,\"#f7f7f7\"],[0.6,\"#e6f5d0\"],[0.7,\"#b8e186\"],[0.8,\"#7fbc41\"],[0.9,\"#4d9221\"],[1,\"#276419\"]],\"sequential\":[[0.0,\"#0d0887\"],[0.1111111111111111,\"#46039f\"],[0.2222222222222222,\"#7201a8\"],[0.3333333333333333,\"#9c179e\"],[0.4444444444444444,\"#bd3786\"],[0.5555555555555556,\"#d8576b\"],[0.6666666666666666,\"#ed7953\"],[0.7777777777777778,\"#fb9f3a\"],[0.8888888888888888,\"#fdca26\"],[1.0,\"#f0f921\"]],\"sequentialminus\":[[0.0,\"#0d0887\"],[0.1111111111111111,\"#46039f\"],[0.2222222222222222,\"#7201a8\"],[0.3333333333333333,\"#9c179e\"],[0.4444444444444444,\"#bd3786\"],[0.5555555555555556,\"#d8576b\"],[0.6666666666666666,\"#ed7953\"],[0.7777777777777778,\"#fb9f3a\"],[0.8888888888888888,\"#fdca26\"],[1.0,\"#f0f921\"]]},\"colorway\":[\"#636efa\",\"#EF553B\",\"#00cc96\",\"#ab63fa\",\"#FFA15A\",\"#19d3f3\",\"#FF6692\",\"#B6E880\",\"#FF97FF\",\"#FECB52\"],\"font\":{\"color\":\"#2a3f5f\"},\"geo\":{\"bgcolor\":\"white\",\"lakecolor\":\"white\",\"landcolor\":\"#E5ECF6\",\"showlakes\":true,\"showland\":true,\"subunitcolor\":\"white\"},\"hoverlabel\":{\"align\":\"left\"},\"hovermode\":\"closest\",\"mapbox\":{\"style\":\"light\"},\"paper_bgcolor\":\"white\",\"plot_bgcolor\":\"#E5ECF6\",\"polar\":{\"angularaxis\":{\"gridcolor\":\"white\",\"linecolor\":\"white\",\"ticks\":\"\"},\"bgcolor\":\"#E5ECF6\",\"radialaxis\":{\"gridcolor\":\"white\",\"linecolor\":\"white\",\"ticks\":\"\"}},\"scene\":{\"xaxis\":{\"backgroundcolor\":\"#E5ECF6\",\"gridcolor\":\"white\",\"gridwidth\":2,\"linecolor\":\"white\",\"showbackground\":true,\"ticks\":\"\",\"zerolinecolor\":\"white\"},\"yaxis\":{\"backgroundcolor\":\"#E5ECF6\",\"gridcolor\":\"white\",\"gridwidth\":2,\"linecolor\":\"white\",\"showbackground\":true,\"ticks\":\"\",\"zerolinecolor\":\"white\"},\"zaxis\":{\"backgroundcolor\":\"#E5ECF6\",\"gridcolor\":\"white\",\"gridwidth\":2,\"linecolor\":\"white\",\"showbackground\":true,\"ticks\":\"\",\"zerolinecolor\":\"white\"}},\"shapedefaults\":{\"line\":{\"color\":\"#2a3f5f\"}},\"ternary\":{\"aaxis\":{\"gridcolor\":\"white\",\"linecolor\":\"white\",\"ticks\":\"\"},\"baxis\":{\"gridcolor\":\"white\",\"linecolor\":\"white\",\"ticks\":\"\"},\"bgcolor\":\"#E5ECF6\",\"caxis\":{\"gridcolor\":\"white\",\"linecolor\":\"white\",\"ticks\":\"\"}},\"title\":{\"x\":0.05},\"xaxis\":{\"automargin\":true,\"gridcolor\":\"white\",\"linecolor\":\"white\",\"ticks\":\"\",\"title\":{\"standoff\":15},\"zerolinecolor\":\"white\",\"zerolinewidth\":2},\"yaxis\":{\"automargin\":true,\"gridcolor\":\"white\",\"linecolor\":\"white\",\"ticks\":\"\",\"title\":{\"standoff\":15},\"zerolinecolor\":\"white\",\"zerolinewidth\":2}}},\"xaxis\":{\"anchor\":\"y\",\"domain\":[0.0,1.0],\"scaleanchor\":\"y\",\"constrain\":\"domain\",\"title\":{\"text\":\"Position\"}},\"yaxis\":{\"anchor\":\"x\",\"domain\":[0.0,1.0],\"autorange\":\"reversed\",\"constrain\":\"domain\",\"title\":{\"text\":\"Layer\"}},\"coloraxis\":{\"colorscale\":[[0.0,\"rgb(103,0,31)\"],[0.1,\"rgb(178,24,43)\"],[0.2,\"rgb(214,96,77)\"],[0.3,\"rgb(244,165,130)\"],[0.4,\"rgb(253,219,199)\"],[0.5,\"rgb(247,247,247)\"],[0.6,\"rgb(209,229,240)\"],[0.7,\"rgb(146,197,222)\"],[0.8,\"rgb(67,147,195)\"],[0.9,\"rgb(33,102,172)\"],[1.0,\"rgb(5,48,97)\"]],\"cmid\":0.0},\"title\":{\"text\":\"Logit Difference From Patched MLPs\"}},                        {\"responsive\": true}                    ).then(function(){\n",
              "                            \n",
              "var gd = document.getElementById('a46ad63d-e0bf-40c5-ac7a-ad7037ef688e');\n",
              "var x = new MutationObserver(function (mutations, observer) {{\n",
              "        var display = window.getComputedStyle(gd).display;\n",
              "        if (!display || display === 'none') {{\n",
              "            console.log([gd, 'removed!']);\n",
              "            Plotly.purge(gd);\n",
              "            observer.disconnect();\n",
              "        }}\n",
              "}});\n",
              "\n",
              "// Listen for the removal of the full notebook cells\n",
              "var notebookContainer = gd.closest('#notebook-container');\n",
              "if (notebookContainer) {{\n",
              "    x.observe(notebookContainer, {childList: true});\n",
              "}}\n",
              "\n",
              "// Listen for the clearing of the current output cell\n",
              "var outputEl = gd.closest('.output');\n",
              "if (outputEl) {{\n",
              "    x.observe(outputEl, {childList: true});\n",
              "}}\n",
              "\n",
              "                        })                };                            </script>        </div>\n",
              "</body>\n",
              "</html>"
            ]
          },
          "metadata": {}
        }
      ]
    },
    {
      "cell_type": "markdown",
      "source": [
        "#### Patch Attention Heads"
      ],
      "metadata": {
        "id": "ZMsIjKXOI6SX"
      }
    },
    {
      "cell_type": "markdown",
      "source": [
        "Next, let's see which attention heads seem to be making the most difference in the case of our specific prompt. Which ones are responsible for \"bad\" being favored over \"good\"?"
      ],
      "metadata": {
        "id": "WchC-9Q_oVf3"
      }
    },
    {
      "cell_type": "code",
      "source": [
        "patched_head_z_diff = torch.zeros(hooked_source_model.cfg.n_layers, hooked_source_model.cfg.n_heads, device=device, dtype=torch.float32)\n",
        "for layer in range(hooked_source_model.cfg.n_layers):\n",
        "    for head_index in range(hooked_source_model.cfg.n_heads):\n",
        "        \n",
        "        hook_fn = partial(patch_head_vector, subcomponent_index=head_index, from_cache=rlhf_model_cache)\n",
        "        patched_logits = hooked_source_model.run_with_hooks(\n",
        "            tokens, \n",
        "            fwd_hooks = [(utils.get_act_name(\"z\", layer, \"attn\"), \n",
        "                hook_fn)], \n",
        "            return_type=\"logits\"\n",
        "        )\n",
        "        patched_logit_diff = logit_diff(patched_logits, answer_tokens)\n",
        "        #print(f\"Attention {layer=} {head_index=}\")\n",
        "        #print(hooked_source_model.to_str_tokens(patched_logits.argmax(dim=2)[:,-1]))\n",
        "\n",
        "        patched_head_z_diff[layer, head_index] = normalize_patched_logit_diff(patched_logit_diff)"
      ],
      "metadata": {
        "id": "oWIJgTOzI9Hw"
      },
      "execution_count": null,
      "outputs": []
    },
    {
      "cell_type": "markdown",
      "source": [
        "This visualization looks similar to our earlier visualization in the \"Model Differences by Attention Head\" section, but the interpretation is different. Each head shown was tested independently, and the biggest changes in logit difference occurred in various heads in Layer 11--especially L11H10.\n",
        "\n",
        "It's worth noting that so far this doesn't contradict our hypothesis about L10H4 and L10H9. Both make a significant difference to the final logits. What happens if we patch both of them?\n",
        "\n"
      ],
      "metadata": {
        "id": "-0XCibSbQWb8"
      }
    },
    {
      "cell_type": "code",
      "source": [
        "imshow(patched_head_z_diff, title=\"Logit Difference From Patched Head Output\", xaxis=\"Head\", yaxis=\"Layer\")"
      ],
      "metadata": {
        "id": "0SAGMjgPLyoP",
        "colab": {
          "base_uri": "https://localhost:8080/",
          "height": 542
        },
        "outputId": "0f86e6a6-6f69-467e-b2e9-53218828f1f6"
      },
      "execution_count": null,
      "outputs": [
        {
          "output_type": "display_data",
          "data": {
            "text/html": [
              "<html>\n",
              "<head><meta charset=\"utf-8\" /></head>\n",
              "<body>\n",
              "    <div>            <script src=\"https://cdnjs.cloudflare.com/ajax/libs/mathjax/2.7.5/MathJax.js?config=TeX-AMS-MML_SVG\"></script><script type=\"text/javascript\">if (window.MathJax) {MathJax.Hub.Config({SVG: {font: \"STIX-Web\"}});}</script>                <script type=\"text/javascript\">window.PlotlyConfig = {MathJaxConfig: 'local'};</script>\n",
              "        <script src=\"https://cdn.plot.ly/plotly-2.8.3.min.js\"></script>                <div id=\"f6795352-f889-4d40-a51c-fb9a3a59acce\" class=\"plotly-graph-div\" style=\"height:525px; width:100%;\"></div>            <script type=\"text/javascript\">                                    window.PLOTLYENV=window.PLOTLYENV || {};                                    if (document.getElementById(\"f6795352-f889-4d40-a51c-fb9a3a59acce\")) {                    Plotly.newPlot(                        \"f6795352-f889-4d40-a51c-fb9a3a59acce\",                        [{\"coloraxis\":\"coloraxis\",\"name\":\"0\",\"z\":[[0.00046306155854836106,0.0014807095285505056,-0.00031535307061858475,-0.00060442672111094,0.001841371995396912,-0.0003026664489880204,0.003234181320294738,0.002212002407759428,-0.00011417955829529092,0.00044403161155059934,0.0030755987390875816,0.0010783625766634941],[0.00010058675252366811,0.0004512811137828976,0.0011236718855798244,0.00020570444758050144,0.00019664257706608623,0.00011417955829529092,-0.00037969235563650727,-0.00010421150363981724,0.0006107700173743069,0.0010819872841238976,-0.00043134501902386546,-0.002489295555278659],[1.6311365470755845e-05,7.974445179570466e-05,0.0002129539498127997,-8.699395402800292e-05,0.0006578917382284999,4.8934096412267536e-05,0.0006035205442458391,-0.0006796402158215642,-6.162071804283187e-05,0.0006941392202861607,0.0003325706347823143,-0.00013049092376604676],[-0.00023379625054076314,0.0003878480347339064,-0.00031535307061858475,9.061869604920503e-06,0.00030719739152118564,0.0008808137499727309,-0.0005446184077300131,-0.00018576833826955408,0.00013230330660007894,8.518157846992835e-05,-8.427538705291227e-05,0.0011291089467704296],[0.0003380077541805804,0.00012233524466864765,0.0007204186404123902,0.0009868376655504107,-0.00038875421159900725,-0.00029360459302552044,0.00021386012667790055,-0.0016528851119801402,0.00015495797561015934,1.8123739209841006e-05,0.00011871049355249852,0.00032169639598578215],[5.9808342484757304e-05,4.4403161155059934e-05,0.00019120545766782016,0.001748034730553627,0.00025191999156959355,0.00018033120431937277,-0.000372442853404209,-0.00014680229651276022,-3.896604175679386e-05,0.00032532113255001605,0.0018531524110585451,-0.0013810290256515145],[0.00048118529957719147,8.246301877079532e-05,1.8123739664588356e-06,0.0004114088951610029,0.0013909970875829458,-0.0003398201079107821,-0.0010584264528006315,0.0004240955167915672,-0.00016855077410582453,6.705783744109794e-05,0.00013592804316431284,0.00019936113676521927],[-0.00011871049355249852,0.0003878480347339064,1.9029926988878287e-05,-0.00026007567066699266,-3.171654316247441e-05,0.0012505380436778069,-0.0007974445470608771,-1.2686617992585525e-05,-0.00010239912808174267,0.0003361953713465482,-4.4403161155059934e-05,-2.6279421945218928e-05],[0.00011689812527038157,-2.4467048206133768e-05,-9.605582454241812e-05,-1.8123739209841006e-05,0.0002492014318704605,0.0008925941656343639,0.0001567703438922763,0.0006823588046245277,-0.0004512811137828976,0.0007104505784809589,-0.0009243107051588595,1.7217553249793127e-05],[0.000521963695064187,3.8059853977756575e-05,0.0008255363209173083,0.0013855599099770188,-6.524546188302338e-05,-0.0005092771025374532,-4.4403161155059934e-05,0.00016039509500842541,8.155682735377923e-06,-2.174848850700073e-05,-0.00027910558856092393,-2.8091797503293492e-05],[9.061869604920503e-06,0.0023796469904482365,-0.0005917401285842061,0.0006071453099139035,0.020908452570438385,0.005881153512746096,-8.427538705291227e-05,0.0045717135071754456,0.00023107767628971487,0.02250152826309204,0.0005872091860510409,0.005449808668345213],[0.017461316660046577,-0.0032894588075578213,0.0005074646905995905,0.0006678598001599312,0.0029142973944544792,0.0038177657406777143,0.002622505184262991,-0.00035250672954134643,0.01261774729937315,0.016704650595784187,0.027036994695663452,0.018318569287657738]],\"type\":\"heatmap\",\"xaxis\":\"x\",\"yaxis\":\"y\",\"hovertemplate\":\"Head: %{x}<br>Layer: %{y}<br>color: %{z}<extra></extra>\"}],                        {\"template\":{\"data\":{\"bar\":[{\"error_x\":{\"color\":\"#2a3f5f\"},\"error_y\":{\"color\":\"#2a3f5f\"},\"marker\":{\"line\":{\"color\":\"#E5ECF6\",\"width\":0.5},\"pattern\":{\"fillmode\":\"overlay\",\"size\":10,\"solidity\":0.2}},\"type\":\"bar\"}],\"barpolar\":[{\"marker\":{\"line\":{\"color\":\"#E5ECF6\",\"width\":0.5},\"pattern\":{\"fillmode\":\"overlay\",\"size\":10,\"solidity\":0.2}},\"type\":\"barpolar\"}],\"carpet\":[{\"aaxis\":{\"endlinecolor\":\"#2a3f5f\",\"gridcolor\":\"white\",\"linecolor\":\"white\",\"minorgridcolor\":\"white\",\"startlinecolor\":\"#2a3f5f\"},\"baxis\":{\"endlinecolor\":\"#2a3f5f\",\"gridcolor\":\"white\",\"linecolor\":\"white\",\"minorgridcolor\":\"white\",\"startlinecolor\":\"#2a3f5f\"},\"type\":\"carpet\"}],\"choropleth\":[{\"colorbar\":{\"outlinewidth\":0,\"ticks\":\"\"},\"type\":\"choropleth\"}],\"contour\":[{\"colorbar\":{\"outlinewidth\":0,\"ticks\":\"\"},\"colorscale\":[[0.0,\"#0d0887\"],[0.1111111111111111,\"#46039f\"],[0.2222222222222222,\"#7201a8\"],[0.3333333333333333,\"#9c179e\"],[0.4444444444444444,\"#bd3786\"],[0.5555555555555556,\"#d8576b\"],[0.6666666666666666,\"#ed7953\"],[0.7777777777777778,\"#fb9f3a\"],[0.8888888888888888,\"#fdca26\"],[1.0,\"#f0f921\"]],\"type\":\"contour\"}],\"contourcarpet\":[{\"colorbar\":{\"outlinewidth\":0,\"ticks\":\"\"},\"type\":\"contourcarpet\"}],\"heatmap\":[{\"colorbar\":{\"outlinewidth\":0,\"ticks\":\"\"},\"colorscale\":[[0.0,\"#0d0887\"],[0.1111111111111111,\"#46039f\"],[0.2222222222222222,\"#7201a8\"],[0.3333333333333333,\"#9c179e\"],[0.4444444444444444,\"#bd3786\"],[0.5555555555555556,\"#d8576b\"],[0.6666666666666666,\"#ed7953\"],[0.7777777777777778,\"#fb9f3a\"],[0.8888888888888888,\"#fdca26\"],[1.0,\"#f0f921\"]],\"type\":\"heatmap\"}],\"heatmapgl\":[{\"colorbar\":{\"outlinewidth\":0,\"ticks\":\"\"},\"colorscale\":[[0.0,\"#0d0887\"],[0.1111111111111111,\"#46039f\"],[0.2222222222222222,\"#7201a8\"],[0.3333333333333333,\"#9c179e\"],[0.4444444444444444,\"#bd3786\"],[0.5555555555555556,\"#d8576b\"],[0.6666666666666666,\"#ed7953\"],[0.7777777777777778,\"#fb9f3a\"],[0.8888888888888888,\"#fdca26\"],[1.0,\"#f0f921\"]],\"type\":\"heatmapgl\"}],\"histogram\":[{\"marker\":{\"pattern\":{\"fillmode\":\"overlay\",\"size\":10,\"solidity\":0.2}},\"type\":\"histogram\"}],\"histogram2d\":[{\"colorbar\":{\"outlinewidth\":0,\"ticks\":\"\"},\"colorscale\":[[0.0,\"#0d0887\"],[0.1111111111111111,\"#46039f\"],[0.2222222222222222,\"#7201a8\"],[0.3333333333333333,\"#9c179e\"],[0.4444444444444444,\"#bd3786\"],[0.5555555555555556,\"#d8576b\"],[0.6666666666666666,\"#ed7953\"],[0.7777777777777778,\"#fb9f3a\"],[0.8888888888888888,\"#fdca26\"],[1.0,\"#f0f921\"]],\"type\":\"histogram2d\"}],\"histogram2dcontour\":[{\"colorbar\":{\"outlinewidth\":0,\"ticks\":\"\"},\"colorscale\":[[0.0,\"#0d0887\"],[0.1111111111111111,\"#46039f\"],[0.2222222222222222,\"#7201a8\"],[0.3333333333333333,\"#9c179e\"],[0.4444444444444444,\"#bd3786\"],[0.5555555555555556,\"#d8576b\"],[0.6666666666666666,\"#ed7953\"],[0.7777777777777778,\"#fb9f3a\"],[0.8888888888888888,\"#fdca26\"],[1.0,\"#f0f921\"]],\"type\":\"histogram2dcontour\"}],\"mesh3d\":[{\"colorbar\":{\"outlinewidth\":0,\"ticks\":\"\"},\"type\":\"mesh3d\"}],\"parcoords\":[{\"line\":{\"colorbar\":{\"outlinewidth\":0,\"ticks\":\"\"}},\"type\":\"parcoords\"}],\"pie\":[{\"automargin\":true,\"type\":\"pie\"}],\"scatter\":[{\"marker\":{\"colorbar\":{\"outlinewidth\":0,\"ticks\":\"\"}},\"type\":\"scatter\"}],\"scatter3d\":[{\"line\":{\"colorbar\":{\"outlinewidth\":0,\"ticks\":\"\"}},\"marker\":{\"colorbar\":{\"outlinewidth\":0,\"ticks\":\"\"}},\"type\":\"scatter3d\"}],\"scattercarpet\":[{\"marker\":{\"colorbar\":{\"outlinewidth\":0,\"ticks\":\"\"}},\"type\":\"scattercarpet\"}],\"scattergeo\":[{\"marker\":{\"colorbar\":{\"outlinewidth\":0,\"ticks\":\"\"}},\"type\":\"scattergeo\"}],\"scattergl\":[{\"marker\":{\"colorbar\":{\"outlinewidth\":0,\"ticks\":\"\"}},\"type\":\"scattergl\"}],\"scattermapbox\":[{\"marker\":{\"colorbar\":{\"outlinewidth\":0,\"ticks\":\"\"}},\"type\":\"scattermapbox\"}],\"scatterpolar\":[{\"marker\":{\"colorbar\":{\"outlinewidth\":0,\"ticks\":\"\"}},\"type\":\"scatterpolar\"}],\"scatterpolargl\":[{\"marker\":{\"colorbar\":{\"outlinewidth\":0,\"ticks\":\"\"}},\"type\":\"scatterpolargl\"}],\"scatterternary\":[{\"marker\":{\"colorbar\":{\"outlinewidth\":0,\"ticks\":\"\"}},\"type\":\"scatterternary\"}],\"surface\":[{\"colorbar\":{\"outlinewidth\":0,\"ticks\":\"\"},\"colorscale\":[[0.0,\"#0d0887\"],[0.1111111111111111,\"#46039f\"],[0.2222222222222222,\"#7201a8\"],[0.3333333333333333,\"#9c179e\"],[0.4444444444444444,\"#bd3786\"],[0.5555555555555556,\"#d8576b\"],[0.6666666666666666,\"#ed7953\"],[0.7777777777777778,\"#fb9f3a\"],[0.8888888888888888,\"#fdca26\"],[1.0,\"#f0f921\"]],\"type\":\"surface\"}],\"table\":[{\"cells\":{\"fill\":{\"color\":\"#EBF0F8\"},\"line\":{\"color\":\"white\"}},\"header\":{\"fill\":{\"color\":\"#C8D4E3\"},\"line\":{\"color\":\"white\"}},\"type\":\"table\"}]},\"layout\":{\"annotationdefaults\":{\"arrowcolor\":\"#2a3f5f\",\"arrowhead\":0,\"arrowwidth\":1},\"autotypenumbers\":\"strict\",\"coloraxis\":{\"colorbar\":{\"outlinewidth\":0,\"ticks\":\"\"}},\"colorscale\":{\"diverging\":[[0,\"#8e0152\"],[0.1,\"#c51b7d\"],[0.2,\"#de77ae\"],[0.3,\"#f1b6da\"],[0.4,\"#fde0ef\"],[0.5,\"#f7f7f7\"],[0.6,\"#e6f5d0\"],[0.7,\"#b8e186\"],[0.8,\"#7fbc41\"],[0.9,\"#4d9221\"],[1,\"#276419\"]],\"sequential\":[[0.0,\"#0d0887\"],[0.1111111111111111,\"#46039f\"],[0.2222222222222222,\"#7201a8\"],[0.3333333333333333,\"#9c179e\"],[0.4444444444444444,\"#bd3786\"],[0.5555555555555556,\"#d8576b\"],[0.6666666666666666,\"#ed7953\"],[0.7777777777777778,\"#fb9f3a\"],[0.8888888888888888,\"#fdca26\"],[1.0,\"#f0f921\"]],\"sequentialminus\":[[0.0,\"#0d0887\"],[0.1111111111111111,\"#46039f\"],[0.2222222222222222,\"#7201a8\"],[0.3333333333333333,\"#9c179e\"],[0.4444444444444444,\"#bd3786\"],[0.5555555555555556,\"#d8576b\"],[0.6666666666666666,\"#ed7953\"],[0.7777777777777778,\"#fb9f3a\"],[0.8888888888888888,\"#fdca26\"],[1.0,\"#f0f921\"]]},\"colorway\":[\"#636efa\",\"#EF553B\",\"#00cc96\",\"#ab63fa\",\"#FFA15A\",\"#19d3f3\",\"#FF6692\",\"#B6E880\",\"#FF97FF\",\"#FECB52\"],\"font\":{\"color\":\"#2a3f5f\"},\"geo\":{\"bgcolor\":\"white\",\"lakecolor\":\"white\",\"landcolor\":\"#E5ECF6\",\"showlakes\":true,\"showland\":true,\"subunitcolor\":\"white\"},\"hoverlabel\":{\"align\":\"left\"},\"hovermode\":\"closest\",\"mapbox\":{\"style\":\"light\"},\"paper_bgcolor\":\"white\",\"plot_bgcolor\":\"#E5ECF6\",\"polar\":{\"angularaxis\":{\"gridcolor\":\"white\",\"linecolor\":\"white\",\"ticks\":\"\"},\"bgcolor\":\"#E5ECF6\",\"radialaxis\":{\"gridcolor\":\"white\",\"linecolor\":\"white\",\"ticks\":\"\"}},\"scene\":{\"xaxis\":{\"backgroundcolor\":\"#E5ECF6\",\"gridcolor\":\"white\",\"gridwidth\":2,\"linecolor\":\"white\",\"showbackground\":true,\"ticks\":\"\",\"zerolinecolor\":\"white\"},\"yaxis\":{\"backgroundcolor\":\"#E5ECF6\",\"gridcolor\":\"white\",\"gridwidth\":2,\"linecolor\":\"white\",\"showbackground\":true,\"ticks\":\"\",\"zerolinecolor\":\"white\"},\"zaxis\":{\"backgroundcolor\":\"#E5ECF6\",\"gridcolor\":\"white\",\"gridwidth\":2,\"linecolor\":\"white\",\"showbackground\":true,\"ticks\":\"\",\"zerolinecolor\":\"white\"}},\"shapedefaults\":{\"line\":{\"color\":\"#2a3f5f\"}},\"ternary\":{\"aaxis\":{\"gridcolor\":\"white\",\"linecolor\":\"white\",\"ticks\":\"\"},\"baxis\":{\"gridcolor\":\"white\",\"linecolor\":\"white\",\"ticks\":\"\"},\"bgcolor\":\"#E5ECF6\",\"caxis\":{\"gridcolor\":\"white\",\"linecolor\":\"white\",\"ticks\":\"\"}},\"title\":{\"x\":0.05},\"xaxis\":{\"automargin\":true,\"gridcolor\":\"white\",\"linecolor\":\"white\",\"ticks\":\"\",\"title\":{\"standoff\":15},\"zerolinecolor\":\"white\",\"zerolinewidth\":2},\"yaxis\":{\"automargin\":true,\"gridcolor\":\"white\",\"linecolor\":\"white\",\"ticks\":\"\",\"title\":{\"standoff\":15},\"zerolinecolor\":\"white\",\"zerolinewidth\":2}}},\"xaxis\":{\"anchor\":\"y\",\"domain\":[0.0,1.0],\"scaleanchor\":\"y\",\"constrain\":\"domain\",\"title\":{\"text\":\"Head\"}},\"yaxis\":{\"anchor\":\"x\",\"domain\":[0.0,1.0],\"autorange\":\"reversed\",\"constrain\":\"domain\",\"title\":{\"text\":\"Layer\"}},\"coloraxis\":{\"colorscale\":[[0.0,\"rgb(103,0,31)\"],[0.1,\"rgb(178,24,43)\"],[0.2,\"rgb(214,96,77)\"],[0.3,\"rgb(244,165,130)\"],[0.4,\"rgb(253,219,199)\"],[0.5,\"rgb(247,247,247)\"],[0.6,\"rgb(209,229,240)\"],[0.7,\"rgb(146,197,222)\"],[0.8,\"rgb(67,147,195)\"],[0.9,\"rgb(33,102,172)\"],[1.0,\"rgb(5,48,97)\"]],\"cmid\":0.0},\"title\":{\"text\":\"Logit Difference From Patched Head Output\"}},                        {\"responsive\": true}                    ).then(function(){\n",
              "                            \n",
              "var gd = document.getElementById('f6795352-f889-4d40-a51c-fb9a3a59acce');\n",
              "var x = new MutationObserver(function (mutations, observer) {{\n",
              "        var display = window.getComputedStyle(gd).display;\n",
              "        if (!display || display === 'none') {{\n",
              "            console.log([gd, 'removed!']);\n",
              "            Plotly.purge(gd);\n",
              "            observer.disconnect();\n",
              "        }}\n",
              "}});\n",
              "\n",
              "// Listen for the removal of the full notebook cells\n",
              "var notebookContainer = gd.closest('#notebook-container');\n",
              "if (notebookContainer) {{\n",
              "    x.observe(notebookContainer, {childList: true});\n",
              "}}\n",
              "\n",
              "// Listen for the clearing of the current output cell\n",
              "var outputEl = gd.closest('.output');\n",
              "if (outputEl) {{\n",
              "    x.observe(outputEl, {childList: true});\n",
              "}}\n",
              "\n",
              "                        })                };                            </script>        </div>\n",
              "</body>\n",
              "</html>"
            ]
          },
          "metadata": {}
        }
      ]
    },
    {
      "cell_type": "markdown",
      "source": [
        "#### Patch Multiple Attention Heads"
      ],
      "metadata": {
        "id": "iHjF2Z3n5x6B"
      }
    },
    {
      "cell_type": "markdown",
      "source": [
        "To test more clearly our hypothesis, let's patch L10H4 and L10H9 at the same time and see if we can get the original model to flip from predicting \"good\" to predicting \"bad.\""
      ],
      "metadata": {
        "id": "tDMV-ubJozn-"
      }
    },
    {
      "cell_type": "code",
      "source": [
        "hook_fn = partial(patch_head_vector, subcomponent_index=(4,9), from_cache=rlhf_model_cache)\n",
        "patched_logits = hooked_source_model.run_with_hooks(\n",
        "    tokens, \n",
        "    fwd_hooks = [(utils.get_act_name(\"z\", 10, \"attn\"), \n",
        "        hook_fn)], \n",
        "    return_type=\"logits\"\n",
        ")\n",
        "patched_logit_diff = normalize_patched_logit_diff(logit_diff(patched_logits, answer_tokens))"
      ],
      "metadata": {
        "id": "ZCi6kvOm6FO-"
      },
      "execution_count": null,
      "outputs": []
    },
    {
      "cell_type": "code",
      "source": [
        "patched_logits.shape"
      ],
      "metadata": {
        "colab": {
          "base_uri": "https://localhost:8080/"
        },
        "id": "T5DKuOEgUmH1",
        "outputId": "79a7e844-f35a-416f-870c-5852a61f08c2"
      },
      "execution_count": null,
      "outputs": [
        {
          "output_type": "execute_result",
          "data": {
            "text/plain": [
              "torch.Size([1, 5, 50257])"
            ]
          },
          "metadata": {},
          "execution_count": 32
        }
      ]
    },
    {
      "cell_type": "code",
      "source": [
        "print(logit_diff(patched_logits, answer_tokens))\n",
        "print(patched_logit_diff)"
      ],
      "metadata": {
        "colab": {
          "base_uri": "https://localhost:8080/"
        },
        "id": "fr5yWq8U71Nj",
        "outputId": "96a51b41-49be-41d3-817f-340e5384e632"
      },
      "execution_count": null,
      "outputs": [
        {
          "output_type": "stream",
          "name": "stdout",
          "text": [
            "tensor(0.0022, device='cuda:0', grad_fn=<MeanBackward0>)\n",
            "tensor(0.0434, device='cuda:0', grad_fn=<DivBackward0>)\n"
          ]
        }
      ]
    },
    {
      "cell_type": "code",
      "source": [
        "hooked_source_model.to_str_tokens(patched_logits.argmax(dim=2)[-1])"
      ],
      "metadata": {
        "colab": {
          "base_uri": "https://localhost:8080/"
        },
        "id": "_rjyb44k89vo",
        "outputId": "88196e68-3914-4d82-81ca-30f5b587736e"
      },
      "execution_count": null,
      "outputs": [
        {
          "output_type": "execute_result",
          "data": {
            "text/plain": [
              "['The', ' is', ' is', ' a', ' bad']"
            ]
          },
          "metadata": {},
          "execution_count": 34
        }
      ]
    },
    {
      "cell_type": "markdown",
      "source": [
        "As we can see, it works!"
      ],
      "metadata": {
        "id": "knZBGlF2pB_z"
      }
    },
    {
      "cell_type": "markdown",
      "source": [
        "## Summary & Discussion"
      ],
      "metadata": {
        "id": "sOXPrQvvpJ8I"
      }
    },
    {
      "cell_type": "markdown",
      "source": [
        "We've only really begun to examine the RLHF model, and we've only investigated a limited prompt so far. We also haven't fully recovered the performance of the original model. Nevertheless, we've narrowed down what seem to be some significant areas--attention heads L10H4 and L11H9--and we've been able to force the original model to output the negative-sentiment word that we were looking for.\n",
        "\n",
        "We've also identified that the model is paying attention to the fourth position (\"very\") when predicting the final token. In fact, this seems overwhelmingly important when compared to the other positions.\n",
        "\n",
        "In addition, we've also seen two different ways to set up experiments to examine RLHF models, including:\n",
        "1. Patching one model with another (which could go both ways)\n",
        "2. Looking at logit differences as was done with the ROME paper\n",
        "\n",
        "Ultimately there's a lot left to look at, both with this model and with other RLHF models, but hopefully this demo provides a useful starting point."
      ],
      "metadata": {
        "id": "63PFH2TXpS3b"
      }
    },
    {
      "cell_type": "markdown",
      "source": [
        "## Next Steps"
      ],
      "metadata": {
        "id": "hS4G8LW2pUo8"
      }
    },
    {
      "cell_type": "markdown",
      "source": [
        "Much, much more can be done with causal tracing and activation patching. Specifically, we could:\n",
        "1. Try a variety of prompts of different lengths and structures, still using logit difference as a metric\n",
        "2. Generate longer response with patching to see if the identified network components consistently provide negativity bias (as opposed to only doing so for the particular words in the experiments above)\n",
        "3. Use negativity/positivity as a metric for longer generations, using the reward model used to train the RLHF model\n",
        "4. Examining the value head from the original TRLX output model\n",
        "5. Ultimately, identify specifically what the identified attention heads are doing\n",
        "6. Explore other attention heads and their functions"
      ],
      "metadata": {
        "id": "lxJDFED-pZIb"
      }
    },
    {
      "cell_type": "markdown",
      "source": [
        "## References"
      ],
      "metadata": {
        "id": "fzpYxLli3EJG"
      }
    },
    {
      "cell_type": "markdown",
      "source": [
        "1. Nanda, Neel: [Exploratory Analysis Demo](https://colab.research.google.com/github/neelnanda-io/TransformerLens/blob/main/Main_Demo.ipynb).\n",
        "2. Nanda, Neel: [TransformerLens Main Demo](https://colab.research.google.com/github/neelnanda-io/Easy-Transformer/blob/main/Exploratory_Analysis_Demo.ipynb).\n",
        "3. Nanda, Neel: [200 COP in MI: Interpreting RL](https://www.lesswrong.com/s/yivyHaCAmMJ3CqSyj/p/eqvvDM25MXLGqumnf)\n",
        "4. CarperAI: TRLX [PPO Sentiments Example](https://github.com/CarperAI/trlx/blob/main/examples/ppo_sentiments.py).\n",
        "5. Lambert, N.; Castricato, L.; von Werra, L.; Havrilla, A.: [Illustrating Reinforcement Learning from Human Feedback (RLHF)](https://huggingface.co/blog/rlhf). Published on HuggingFace."
      ],
      "metadata": {
        "id": "2NqCB3q43Mth"
      }
    },
    {
      "cell_type": "code",
      "source": [],
      "metadata": {
        "id": "Lj9DUfDLNyRM"
      },
      "execution_count": null,
      "outputs": []
    }
  ]
}