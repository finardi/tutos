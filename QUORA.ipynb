{
  "nbformat": 4,
  "nbformat_minor": 0,
  "metadata": {
    "colab": {
      "name": "QUORA.ipynb",
      "provenance": [],
      "mount_file_id": "1FWHRwFn8SbubnKftQ9u5bCENHdE5q5U8",
      "authorship_tag": "ABX9TyMrIcEtxK4sqSoLpHe8neF7",
      "include_colab_link": true
    },
    "kernelspec": {
      "name": "python3",
      "display_name": "Python 3"
    }
  },
  "cells": [
    {
      "cell_type": "markdown",
      "metadata": {
        "id": "view-in-github",
        "colab_type": "text"
      },
      "source": [
        "<a href=\"https://colab.research.google.com/github/finardi/tutos/blob/master/QUORA.ipynb\" target=\"_parent\"><img src=\"https://colab.research.google.com/assets/colab-badge.svg\" alt=\"Open In Colab\"/></a>"
      ]
    },
    {
      "cell_type": "markdown",
      "metadata": {
        "id": "jp4hrrOYPtLT",
        "colab_type": "text"
      },
      "source": [
        "#### This script combines training_OnlineContrastiveLoss.py with `training_MultipleNegativesRankingLoss.py`\n",
        "\n",
        "#### Online constrative loss works well for classification (are question1 and question2 duplicates?), but it performs less well for duplicate questions mining. MultipleNegativesRankingLoss works well for duplicate questions mining, but it has some issues with classification as it does not push dissimilar pairs away.\n",
        "\n",
        "#### This script combines both losses to get the best of both worlds.\n",
        "\n",
        "#### Multi task learning is achieved quite easily by calling the model.fit method like this:\n",
        "#### `model.fit(train_objectives=[(train_dataloader_MultipleNegativesRankingLoss, train_loss_MultipleNegativesRankingLoss), (train_dataloader_constrative_loss, train_loss_constrative_loss)] ...)`\n"
      ]
    },
    {
      "cell_type": "code",
      "metadata": {
        "id": "vpv2KFEZThkv",
        "colab_type": "code",
        "colab": {
          "base_uri": "https://localhost:8080/",
          "height": 357
        },
        "outputId": "650a4ce7-154e-44d7-e10b-fa2b1d679156"
      },
      "source": [
        "!nvidia-smi"
      ],
      "execution_count": 1,
      "outputs": [
        {
          "output_type": "stream",
          "text": [
            "Sun Sep  6 21:24:18 2020       \n",
            "+-----------------------------------------------------------------------------+\n",
            "| NVIDIA-SMI 450.66       Driver Version: 418.67       CUDA Version: 10.1     |\n",
            "|-------------------------------+----------------------+----------------------+\n",
            "| GPU  Name        Persistence-M| Bus-Id        Disp.A | Volatile Uncorr. ECC |\n",
            "| Fan  Temp  Perf  Pwr:Usage/Cap|         Memory-Usage | GPU-Util  Compute M. |\n",
            "|                               |                      |               MIG M. |\n",
            "|===============================+======================+======================|\n",
            "|   0  Tesla T4            Off  | 00000000:00:04.0 Off |                    0 |\n",
            "| N/A   38C    P8     9W /  70W |      0MiB / 15079MiB |      0%      Default |\n",
            "|                               |                      |                 ERR! |\n",
            "+-------------------------------+----------------------+----------------------+\n",
            "                                                                               \n",
            "+-----------------------------------------------------------------------------+\n",
            "| Processes:                                                                  |\n",
            "|  GPU   GI   CI        PID   Type   Process name                  GPU Memory |\n",
            "|        ID   ID                                                   Usage      |\n",
            "|=============================================================================|\n",
            "|  No running processes found                                                 |\n",
            "+-----------------------------------------------------------------------------+\n"
          ],
          "name": "stdout"
        }
      ]
    },
    {
      "cell_type": "code",
      "metadata": {
        "id": "UxKCGMiiPabZ",
        "colab_type": "code",
        "colab": {
          "base_uri": "https://localhost:8080/",
          "height": 136
        },
        "outputId": "d51782cb-cb40-417e-c613-4a29bc22a355"
      },
      "source": [
        "!pip install -q sentence_transformers"
      ],
      "execution_count": 2,
      "outputs": [
        {
          "output_type": "stream",
          "text": [
            "\u001b[K     |████████████████████████████████| 71kB 3.7MB/s \n",
            "\u001b[K     |████████████████████████████████| 778kB 15.9MB/s \n",
            "\u001b[K     |████████████████████████████████| 3.0MB 34.6MB/s \n",
            "\u001b[K     |████████████████████████████████| 890kB 44.9MB/s \n",
            "\u001b[K     |████████████████████████████████| 1.1MB 56.1MB/s \n",
            "\u001b[?25h  Building wheel for sentence-transformers (setup.py) ... \u001b[?25l\u001b[?25hdone\n",
            "  Building wheel for sacremoses (setup.py) ... \u001b[?25l\u001b[?25hdone\n"
          ],
          "name": "stdout"
        }
      ]
    },
    {
      "cell_type": "code",
      "metadata": {
        "id": "JirTNPGuPZlP",
        "colab_type": "code",
        "colab": {}
      },
      "source": [
        "from torch.utils.data import DataLoader\n",
        "from sentence_transformers import losses, util\n",
        "from sentence_transformers import SentencesDataset, LoggingHandler, SentenceTransformer, evaluation\n",
        "from sentence_transformers.readers import InputExample\n",
        "import logging\n",
        "from datetime import datetime\n",
        "import csv\n",
        "import os\n",
        "from zipfile import ZipFile\n",
        "import random"
      ],
      "execution_count": 3,
      "outputs": []
    },
    {
      "cell_type": "code",
      "metadata": {
        "id": "gKj_4OXBQOcG",
        "colab_type": "code",
        "colab": {}
      },
      "source": [
        "#### Just some code to print debug information to stdout\n",
        "logging.basicConfig(format='%(asctime)s - %(message)s',\n",
        "                    datefmt='%Y-%m-%d %H:%M:%S',\n",
        "                    level=logging.INFO,\n",
        "                    handlers=[LoggingHandler()])\n",
        "#### /print debug information to stdout"
      ],
      "execution_count": 4,
      "outputs": []
    },
    {
      "cell_type": "code",
      "metadata": {
        "id": "Tfau8unrQSng",
        "colab_type": "code",
        "colab": {
          "base_uri": "https://localhost:8080/",
          "height": 1000
        },
        "outputId": "3ed34982-043e-46db-c40d-ef6bc02fcb73"
      },
      "source": [
        "#As base model, we use DistilBERT-base that was pre-trained on NLI and STSb data\n",
        "model = SentenceTransformer('distilbert-base-nli-stsb-mean-tokens')"
      ],
      "execution_count": 5,
      "outputs": [
        {
          "output_type": "stream",
          "text": [
            "2020-09-06 21:24:33 - Load pretrained SentenceTransformer: distilbert-base-nli-stsb-mean-tokens\n",
            "2020-09-06 21:24:33 - Did not find folder distilbert-base-nli-stsb-mean-tokens. Assume to download model from server.\n",
            "2020-09-06 21:24:33 - Downloading sentence transformer model from https://sbert.net/models/distilbert-base-nli-stsb-mean-tokens.zip and saving it at /root/.cache/torch/sentence_transformers/sbert.net_models_distilbert-base-nli-stsb-mean-tokens\n"
          ],
          "name": "stdout"
        },
        {
          "output_type": "stream",
          "text": [
            "100%|██████████| 245M/245M [00:12<00:00, 19.4MB/s]\n"
          ],
          "name": "stderr"
        },
        {
          "output_type": "stream",
          "text": [
            "2020-09-06 21:24:49 - Load SentenceTransformer from folder: /root/.cache/torch/sentence_transformers/sbert.net_models_distilbert-base-nli-stsb-mean-tokens\n",
            "2020-09-06 21:24:49 - loading configuration file /root/.cache/torch/sentence_transformers/sbert.net_models_distilbert-base-nli-stsb-mean-tokens/0_Transformer/config.json\n",
            "2020-09-06 21:24:49 - Model config DistilBertConfig {\n",
            "  \"activation\": \"gelu\",\n",
            "  \"architectures\": [\n",
            "    \"DistilBertModel\"\n",
            "  ],\n",
            "  \"attention_dropout\": 0.1,\n",
            "  \"dim\": 768,\n",
            "  \"dropout\": 0.1,\n",
            "  \"hidden_dim\": 3072,\n",
            "  \"initializer_range\": 0.02,\n",
            "  \"max_position_embeddings\": 512,\n",
            "  \"model_type\": \"distilbert\",\n",
            "  \"n_heads\": 12,\n",
            "  \"n_layers\": 6,\n",
            "  \"pad_token_id\": 0,\n",
            "  \"qa_dropout\": 0.1,\n",
            "  \"seq_classif_dropout\": 0.2,\n",
            "  \"sinusoidal_pos_embds\": false,\n",
            "  \"tie_weights_\": true,\n",
            "  \"vocab_size\": 30522\n",
            "}\n",
            "\n",
            "2020-09-06 21:24:49 - loading weights file /root/.cache/torch/sentence_transformers/sbert.net_models_distilbert-base-nli-stsb-mean-tokens/0_Transformer/pytorch_model.bin\n",
            "2020-09-06 21:24:50 - All model checkpoint weights were used when initializing DistilBertModel.\n",
            "\n",
            "2020-09-06 21:24:50 - All the weights of DistilBertModel were initialized from the model checkpoint at /root/.cache/torch/sentence_transformers/sbert.net_models_distilbert-base-nli-stsb-mean-tokens/0_Transformer.\n",
            "If your task is similar to the task the model of the ckeckpoint was trained on, you can already use DistilBertModel for predictions without further training.\n",
            "2020-09-06 21:24:50 - loading configuration file /root/.cache/torch/sentence_transformers/sbert.net_models_distilbert-base-nli-stsb-mean-tokens/0_Transformer/config.json\n",
            "2020-09-06 21:24:50 - Model config DistilBertConfig {\n",
            "  \"activation\": \"gelu\",\n",
            "  \"architectures\": [\n",
            "    \"DistilBertModel\"\n",
            "  ],\n",
            "  \"attention_dropout\": 0.1,\n",
            "  \"dim\": 768,\n",
            "  \"dropout\": 0.1,\n",
            "  \"hidden_dim\": 3072,\n",
            "  \"initializer_range\": 0.02,\n",
            "  \"max_position_embeddings\": 512,\n",
            "  \"model_type\": \"distilbert\",\n",
            "  \"n_heads\": 12,\n",
            "  \"n_layers\": 6,\n",
            "  \"pad_token_id\": 0,\n",
            "  \"qa_dropout\": 0.1,\n",
            "  \"seq_classif_dropout\": 0.2,\n",
            "  \"sinusoidal_pos_embds\": false,\n",
            "  \"tie_weights_\": true,\n",
            "  \"vocab_size\": 30522\n",
            "}\n",
            "\n",
            "2020-09-06 21:24:50 - Model name '/root/.cache/torch/sentence_transformers/sbert.net_models_distilbert-base-nli-stsb-mean-tokens/0_Transformer' not found in model shortcut name list (distilbert-base-uncased, distilbert-base-uncased-distilled-squad, distilbert-base-cased, distilbert-base-cased-distilled-squad, distilbert-base-german-cased, distilbert-base-multilingual-cased). Assuming '/root/.cache/torch/sentence_transformers/sbert.net_models_distilbert-base-nli-stsb-mean-tokens/0_Transformer' is a path, a model identifier, or url to a directory containing tokenizer files.\n",
            "2020-09-06 21:24:50 - Didn't find file /root/.cache/torch/sentence_transformers/sbert.net_models_distilbert-base-nli-stsb-mean-tokens/0_Transformer/added_tokens.json. We won't load it.\n",
            "2020-09-06 21:24:50 - Didn't find file /root/.cache/torch/sentence_transformers/sbert.net_models_distilbert-base-nli-stsb-mean-tokens/0_Transformer/tokenizer.json. We won't load it.\n",
            "2020-09-06 21:24:50 - loading file /root/.cache/torch/sentence_transformers/sbert.net_models_distilbert-base-nli-stsb-mean-tokens/0_Transformer/vocab.txt\n",
            "2020-09-06 21:24:50 - loading file None\n",
            "2020-09-06 21:24:50 - loading file /root/.cache/torch/sentence_transformers/sbert.net_models_distilbert-base-nli-stsb-mean-tokens/0_Transformer/special_tokens_map.json\n",
            "2020-09-06 21:24:50 - loading file /root/.cache/torch/sentence_transformers/sbert.net_models_distilbert-base-nli-stsb-mean-tokens/0_Transformer/tokenizer_config.json\n",
            "2020-09-06 21:24:50 - loading file None\n",
            "2020-09-06 21:24:50 - Use pytorch device: cuda\n"
          ],
          "name": "stdout"
        }
      ]
    },
    {
      "cell_type": "code",
      "metadata": {
        "id": "W6OFq5qTQSdj",
        "colab_type": "code",
        "colab": {}
      },
      "source": [
        "#Training for multiple epochs can be beneficial, as in each epoch a mini-batch is sampled differently\n",
        "#hence, we get different negatives for each positive\n",
        "num_epochs = 10\n",
        "\n",
        "#Increasing the batch size improves the performance for MultipleNegativesRankingLoss. Choose it as large as possible\n",
        "#I achieved the good results with a batch size of 300-350 (requires about 30 GB of GPU memory)\n",
        "train_batch_size = 64\n",
        "\n",
        "#As distance metric, we use cosine distance (cosine_distance = 1-cosine_similarity)\n",
        "distance_metric = losses.SiameseDistanceMetric.COSINE_DISTANCE\n",
        "\n",
        "#Negative pairs should have a distance of at least 0.5\n",
        "margin = 0.5"
      ],
      "execution_count": 6,
      "outputs": []
    },
    {
      "cell_type": "code",
      "metadata": {
        "id": "NGQeFTJDQSR9",
        "colab_type": "code",
        "colab": {}
      },
      "source": [
        "dataset_path = '/content/drive/My Drive/Colab Notebooks/BERT/QUORA/quora-IR-dataset'\n",
        "model_save_path = '/content/drive/My Drive/Colab Notebooks/BERT/QUORA/output/training_multi-task-learning'+datetime.now().strftime(\"%Y-%m-%d_%H-%M-%S\")\n",
        "\n",
        "os.makedirs(model_save_path, exist_ok=True)\n",
        "\n",
        "# Check if the dataset exists. If not, download and extract\n",
        "if not os.path.exists(dataset_path):\n",
        "    logging.info(\"Dataset not found. Download\")\n",
        "    zip_save_path = 'quora-IR-dataset.zip'\n",
        "    util.http_get(url='https://sbert.net/datasets/quora-IR-dataset.zip', path=zip_save_path)\n",
        "    with ZipFile(zip_save_path, 'r') as zip:\n",
        "        zip.extractall(dataset_path)\n"
      ],
      "execution_count": 7,
      "outputs": []
    },
    {
      "cell_type": "code",
      "metadata": {
        "id": "a1jBpY-JRXhB",
        "colab_type": "code",
        "colab": {}
      },
      "source": [
        "######### Read train data  ##########\n",
        "train_samples_MultipleNegativesRankingLoss = []\n",
        "train_samples_ConstrativeLoss = []\n",
        "\n",
        "with open(os.path.join(dataset_path, \"classification/train_pairs.tsv\"), encoding='utf8') as fIn:\n",
        "    reader = csv.DictReader(fIn, delimiter='\\t', quoting=csv.QUOTE_NONE)\n",
        "    for row in reader:\n",
        "        train_samples_ConstrativeLoss.append(InputExample(texts=[row['question1'], row['question2']], label=int(row['is_duplicate'])))\n",
        "        if row['is_duplicate'] == '1':\n",
        "            train_samples_MultipleNegativesRankingLoss.append(InputExample(texts=[row['question1'], row['question2']], label=1))\n",
        "            train_samples_MultipleNegativesRankingLoss.append(InputExample(texts=[row['question2'], row['question1']], label=1))  # if A is a duplicate of B, then B is a duplicate of A"
      ],
      "execution_count": 8,
      "outputs": []
    },
    {
      "cell_type": "code",
      "metadata": {
        "id": "FNtIrxwTRs3z",
        "colab_type": "code",
        "colab": {}
      },
      "source": [
        "# Create data loader and loss for MultipleNegativesRankingLoss\n",
        "train_dataset_MultipleNegativesRankingLoss = SentencesDataset(train_samples_MultipleNegativesRankingLoss, model=model)\n",
        "train_dataloader_MultipleNegativesRankingLoss = DataLoader(train_dataset_MultipleNegativesRankingLoss, shuffle=True, batch_size=train_batch_size)\n",
        "train_loss_MultipleNegativesRankingLoss = losses.MultipleNegativesRankingLoss(model)"
      ],
      "execution_count": 9,
      "outputs": []
    },
    {
      "cell_type": "code",
      "metadata": {
        "id": "EKJh-sjNRsph",
        "colab_type": "code",
        "colab": {}
      },
      "source": [
        "# Create data loader and loss for OnlineContrastiveLoss\n",
        "train_dataset_ConstrativeLoss = SentencesDataset(train_samples_ConstrativeLoss, model=model)\n",
        "train_dataloader_ConstrativeLoss = DataLoader(train_dataset_ConstrativeLoss, shuffle=True, batch_size=train_batch_size)\n",
        "train_loss_ConstrativeLoss = losses.OnlineContrastiveLoss(model=model, distance_metric=distance_metric, margin=margin)"
      ],
      "execution_count": 10,
      "outputs": []
    },
    {
      "cell_type": "code",
      "metadata": {
        "id": "ft5x8uuIPAm3",
        "colab_type": "code",
        "colab": {
          "base_uri": "https://localhost:8080/",
          "height": 51
        },
        "outputId": "56380f3e-8306-4ed8-ae70-a57e0a8d359b"
      },
      "source": [
        "################### Development  Evaluators ##################\n",
        "# We add 3 evaluators, that evaluate the model on Duplicate Questions pair classification,\n",
        "# Duplicate Questions Mining, and Duplicate Questions Information Retrieval\n",
        "evaluators = []\n",
        "\n",
        "###### Classification ######\n",
        "# Given (quesiton1, question2), is this a duplicate or not?\n",
        "# The evaluator will compute the embeddings for both questions and then compute\n",
        "# a cosine similarity. If the similarity is above a threshold, we have a duplicate.\n",
        "dev_sentences1 = []\n",
        "dev_sentences2 = []\n",
        "dev_labels = []\n",
        "with open(os.path.join(dataset_path, \"classification/dev_pairs.tsv\"), encoding='utf8') as fIn:\n",
        "    reader = csv.DictReader(fIn, delimiter='\\t', quoting=csv.QUOTE_NONE)\n",
        "    for row in reader:\n",
        "        dev_sentences1.append(row['question1'])\n",
        "        dev_sentences2.append(row['question2'])\n",
        "        dev_labels.append(int(row['is_duplicate']))\n",
        "\n",
        "binary_acc_evaluator = evaluation.BinaryClassificationEvaluator(dev_sentences1, dev_sentences2, dev_labels)\n",
        "evaluators.append(binary_acc_evaluator)\n",
        "\n",
        "\n",
        "###### Duplicate Questions Mining ######\n",
        "# Given a large corpus of questions, identify all duplicates in that corpus.\n",
        "\n",
        "# For faster processing, we limit the development corpus to only 10,000 sentences.\n",
        "max_dev_samples = 10000\n",
        "dev_sentences = {}\n",
        "dev_duplicates = []\n",
        "with open(os.path.join(dataset_path, \"duplicate-mining/dev_corpus.tsv\"), encoding='utf8') as fIn:\n",
        "    reader = csv.DictReader(fIn, delimiter='\\t', quoting=csv.QUOTE_NONE)\n",
        "    for row in reader:\n",
        "        dev_sentences[row['qid']] = row['question']\n",
        "\n",
        "        if len(dev_sentences) >= max_dev_samples:\n",
        "            break\n",
        "\n",
        "with open(os.path.join(dataset_path, \"duplicate-mining/dev_duplicates.tsv\"), encoding='utf8') as fIn:\n",
        "    reader = csv.DictReader(fIn, delimiter='\\t', quoting=csv.QUOTE_NONE)\n",
        "    for row in reader:\n",
        "        if row['qid1'] in dev_sentences and row['qid2'] in dev_sentences:\n",
        "            dev_duplicates.append([row['qid1'], row['qid2']])\n",
        "\n",
        "\n",
        "# The ParaphraseMiningEvaluator computes the cosine similarity between all sentences and\n",
        "# extracts a list with the pairs that have the highest similarity. Given the duplicate\n",
        "# information in dev_duplicates, it then computes and F1 score how well our duplicate mining worked\n",
        "paraphrase_mining_evaluator = evaluation.ParaphraseMiningEvaluator(dev_sentences, dev_duplicates, name='dev')\n",
        "evaluators.append(paraphrase_mining_evaluator)\n",
        "\n",
        "\n",
        "###### Duplicate Questions Information Retrieval ######\n",
        "# Given a question and a large corpus of thousands questions, find the most relevant (i.e. duplicate) question\n",
        "# in that corpus.\n",
        "\n",
        "# For faster processing, we limit the development corpus to only 10,000 sentences.\n",
        "max_corpus_size = 100000\n",
        "\n",
        "ir_queries = {}             #Our queries (qid => question)\n",
        "ir_needed_qids = set()      #QIDs we need in the corpus\n",
        "ir_corpus = {}              #Our corpus (qid => question)\n",
        "ir_relevant_docs = {}       #Mapping of relevant documents for a given query (qid => set([relevant_question_ids])\n",
        "\n",
        "with open(os.path.join(dataset_path, 'information-retrieval/dev-queries.tsv'), encoding='utf8') as fIn:\n",
        "    next(fIn) #Skip header\n",
        "    for line in fIn:\n",
        "        qid, query, duplicate_ids = line.strip().split('\\t')\n",
        "        duplicate_ids = duplicate_ids.split(',')\n",
        "        ir_queries[qid] = query\n",
        "        ir_relevant_docs[qid] = set(duplicate_ids)\n",
        "\n",
        "        for qid in duplicate_ids:\n",
        "            ir_needed_qids.add(qid)\n",
        "\n",
        "# First get all needed relevant documents (i.e., we must ensure, that the relevant questions are actually in the corpus\n",
        "distraction_questions = {}\n",
        "with open(os.path.join(dataset_path, 'information-retrieval/corpus.tsv'), encoding='utf8') as fIn:\n",
        "    next(fIn) #Skip header\n",
        "    for line in fIn:\n",
        "        qid, question = line.strip().split('\\t')\n",
        "\n",
        "        if qid in ir_needed_qids:\n",
        "            ir_corpus[qid] = question\n",
        "        else:\n",
        "            distraction_questions[qid] = question\n",
        "\n",
        "# Now, also add some irrelevant questions to fill our corpus\n",
        "other_qid_list = list(distraction_questions.keys())\n",
        "random.shuffle(other_qid_list)\n",
        "\n",
        "for qid in other_qid_list[0:max(0, max_corpus_size-len(ir_corpus))]:\n",
        "    ir_corpus[qid] = distraction_questions[qid]\n",
        "\n",
        "#Given queries, a corpus and a mapping with relevant documents, the InformationRetrievalEvaluator computes different IR\n",
        "# metrices. For our use case MRR@k and Accuracy@k are relevant.\n",
        "ir_evaluator = evaluation.InformationRetrievalEvaluator(ir_queries, ir_corpus, ir_relevant_docs)\n",
        "\n",
        "evaluators.append(ir_evaluator)\n",
        "\n",
        "# Create a SequentialEvaluator. This SequentialEvaluator runs all three evaluators in a sequential order.\n",
        "# We optimize the model with respect to the score from the last evaluator (scores[-1])\n",
        "seq_evaluator = evaluation.SequentialEvaluator(evaluators, main_score_function=lambda scores: scores[-1])"
      ],
      "execution_count": null,
      "outputs": [
        {
          "output_type": "stream",
          "text": [
            "2020-09-06 21:20:21 - Evaluate model without training\n",
            "2020-09-06 21:20:21 - Binary Accuracy Evaluation of the model on  dataset in epoch 0 after 0 steps:\n"
          ],
          "name": "stdout"
        }
      ]
    },
    {
      "cell_type": "code",
      "metadata": {
        "id": "53kebPNsTrIG",
        "colab_type": "code",
        "colab": {
          "base_uri": "https://localhost:8080/",
          "height": 833
        },
        "outputId": "a5159160-7ddf-435f-8f48-18642ef621af"
      },
      "source": [
        "logging.info(\"Evaluate model without training\")\n",
        "seq_evaluator(model, epoch=0, steps=0, output_path=model_save_path)"
      ],
      "execution_count": 12,
      "outputs": [
        {
          "output_type": "stream",
          "text": [
            "2020-09-06 21:25:05 - Evaluate model without training\n",
            "2020-09-06 21:25:05 - Binary Accuracy Evaluation of the model on  dataset in epoch 0 after 0 steps:\n",
            "2020-09-06 21:26:13 - Accuracy with Cosine-Similarity:           76.61\t(Threshold: 0.8349)\n",
            "2020-09-06 21:26:13 - F1 with Cosine-Similarity:                 69.29\t(Threshold: 0.7391)\n",
            "2020-09-06 21:26:13 - Precision with Cosine-Similarity:          60.18\n",
            "2020-09-06 21:26:13 - Recall with Cosine-Similarity:             81.64\n",
            "2020-09-06 21:26:13 - Average Precision with Cosine-Similarity:  71.80\n",
            "\n",
            "2020-09-06 21:26:14 - Accuracy with Manhatten-Distance:           76.70\t(Threshold: 193.7357)\n",
            "2020-09-06 21:26:14 - F1 with Manhatten-Distance:                 69.44\t(Threshold: 240.4903)\n",
            "2020-09-06 21:26:14 - Precision with Manhatten-Distance:          59.75\n",
            "2020-09-06 21:26:14 - Recall with Manhatten-Distance:             82.88\n",
            "2020-09-06 21:26:14 - Average Precision with Manhatten-Distance:  71.86\n",
            "\n",
            "2020-09-06 21:26:14 - Accuracy with Euclidean-Distance:           76.75\t(Threshold: 8.8834)\n",
            "2020-09-06 21:26:14 - F1 with Euclidean-Distance:                 69.44\t(Threshold: 10.8947)\n",
            "2020-09-06 21:26:14 - Precision with Euclidean-Distance:          59.89\n",
            "2020-09-06 21:26:14 - Recall with Euclidean-Distance:             82.62\n",
            "2020-09-06 21:26:14 - Average Precision with Euclidean-Distance:  71.89\n",
            "\n",
            "2020-09-06 21:26:14 - Paraphrase Mining Evaluation on dev dataset in epoch 0 after 0 steps:\n",
            "2020-09-06 21:26:29 - Number of candidate pairs: 294002\n",
            "2020-09-06 21:26:29 - Average Precision: 41.37\n",
            "2020-09-06 21:26:29 - Optimal threshold: 0.8733\n",
            "2020-09-06 21:26:29 - Precision: 54.44\n",
            "2020-09-06 21:26:29 - Recall: 40.68\n",
            "2020-09-06 21:26:29 - F1: 46.56\n",
            "\n",
            "2020-09-06 21:26:29 - Information Retrieval Evaluation on  dataset in epoch 0 after 0 steps:\n",
            "2020-09-06 21:27:56 - Accuracy@1: 84.64%\n",
            "2020-09-06 21:27:56 - Accuracy@3: 92.70%\n",
            "2020-09-06 21:27:56 - Accuracy@5: 94.56%\n",
            "2020-09-06 21:27:56 - Accuracy@10: 96.42%\n",
            "2020-09-06 21:27:56 - Precision@1: 84.64%\n",
            "2020-09-06 21:27:56 - Precision@3: 38.45%\n",
            "2020-09-06 21:27:56 - Precision@5: 25.16%\n",
            "2020-09-06 21:27:56 - Precision@10: 13.59%\n",
            "2020-09-06 21:27:56 - Recall@1: 72.22%\n",
            "2020-09-06 21:27:56 - Recall@3: 86.76%\n",
            "2020-09-06 21:27:56 - Recall@5: 90.54%\n",
            "2020-09-06 21:27:56 - Recall@10: 93.61%\n",
            "2020-09-06 21:27:56 - MRR@10: 0.8898\n",
            "2020-09-06 21:27:56 - NDCG@10: 0.8867\n",
            "2020-09-06 21:27:56 - MAP@100: 0.8611\n",
            "2020-09-06 21:27:56 - Queries: 5000\n",
            "2020-09-06 21:27:56 - Corpus: 100000\n",
            "\n"
          ],
          "name": "stdout"
        },
        {
          "output_type": "execute_result",
          "data": {
            "text/plain": [
              "0.8611359937869753"
            ]
          },
          "metadata": {
            "tags": []
          },
          "execution_count": 12
        }
      ]
    },
    {
      "cell_type": "code",
      "metadata": {
        "id": "3-TqgFamSoBX",
        "colab_type": "code",
        "colab": {}
      },
      "source": [
        "# Train the model\n",
        "model.fit(train_objectives=[\n",
        "                            (train_dataloader_MultipleNegativesRankingLoss, \n",
        "                             train_loss_MultipleNegativesRankingLoss), \n",
        "                            (train_dataloader_ConstrativeLoss, \n",
        "                             train_loss_ConstrativeLoss)\n",
        "                            ],\n",
        "          evaluator=seq_evaluator,\n",
        "          epochs=num_epochs,\n",
        "          warmup_steps=1000,\n",
        "          output_path=model_save_path,\n",
        "          output_path_ignore_not_empty=True\n",
        "          )"
      ],
      "execution_count": null,
      "outputs": []
    }
  ]
}