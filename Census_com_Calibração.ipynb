{
  "nbformat": 4,
  "nbformat_minor": 0,
  "metadata": {
    "colab": {
      "name": "Census-com Calibração.ipynb",
      "provenance": [],
      "collapsed_sections": [],
      "toc_visible": true,
      "mount_file_id": "1aZXuh3056CSG8LzOcmC2WCCY-opeii3d",
      "authorship_tag": "ABX9TyP1GnwXpbnyxF+UJ5I8llEb",
      "include_colab_link": true
    },
    "kernelspec": {
      "name": "python3",
      "display_name": "Python 3"
    },
    "accelerator": "GPU"
  },
  "cells": [
    {
      "cell_type": "markdown",
      "metadata": {
        "id": "view-in-github",
        "colab_type": "text"
      },
      "source": [
        "<a href=\"https://colab.research.google.com/github/finardi/tutos/blob/master/Census_com_Calibra%C3%A7%C3%A3o.ipynb\" target=\"_parent\"><img src=\"https://colab.research.google.com/assets/colab-badge.svg\" alt=\"Open In Colab\"/></a>"
      ]
    },
    {
      "cell_type": "code",
      "metadata": {
        "id": "ljhWsSxBCW1F",
        "colab": {
          "base_uri": "https://localhost:8080/"
        },
        "outputId": "fa269076-921d-44db-c632-0a7ea9d1e69e"
      },
      "source": [
        "! nvidia-smi"
      ],
      "execution_count": null,
      "outputs": [
        {
          "output_type": "stream",
          "text": [
            "Tue Dec 22 23:12:28 2020       \n",
            "+-----------------------------------------------------------------------------+\n",
            "| NVIDIA-SMI 460.27.04    Driver Version: 418.67       CUDA Version: 10.1     |\n",
            "|-------------------------------+----------------------+----------------------+\n",
            "| GPU  Name        Persistence-M| Bus-Id        Disp.A | Volatile Uncorr. ECC |\n",
            "| Fan  Temp  Perf  Pwr:Usage/Cap|         Memory-Usage | GPU-Util  Compute M. |\n",
            "|                               |                      |               MIG M. |\n",
            "|===============================+======================+======================|\n",
            "|   0  Tesla V100-SXM2...  Off  | 00000000:00:04.0 Off |                    0 |\n",
            "| N/A   34C    P0    25W / 300W |      0MiB / 16130MiB |      0%      Default |\n",
            "|                               |                      |                 ERR! |\n",
            "+-------------------------------+----------------------+----------------------+\n",
            "                                                                               \n",
            "+-----------------------------------------------------------------------------+\n",
            "| Processes:                                                                  |\n",
            "|  GPU   GI   CI        PID   Type   Process name                  GPU Memory |\n",
            "|        ID   ID                                                   Usage      |\n",
            "|=============================================================================|\n",
            "|  No running processes found                                                 |\n",
            "+-----------------------------------------------------------------------------+\n"
          ],
          "name": "stdout"
        }
      ]
    },
    {
      "cell_type": "code",
      "metadata": {
        "id": "DGGzrVrhDkwK"
      },
      "source": [
        "# Basics\n",
        "import os\n",
        "import pandas as pd\n",
        "import numpy as np\n",
        "import matplotlib.pyplot as plt\n",
        "import seaborn as sns\n",
        "\n",
        "# PyTorch\n",
        "import torch \n",
        "from torch import nn\n",
        "import torch.nn.functional as F\n",
        "from torch.utils.data import Dataset, DataLoader\n",
        "\n",
        "# Sklearn\n",
        "from sklearn.model_selection import train_test_split\n",
        "from sklearn.metrics import roc_auc_score\n",
        "from sklearn.metrics import roc_curve\n",
        "from sklearn.metrics import auc\n",
        "from sklearn.metrics import confusion_matrix\n",
        "from sklearn.metrics import precision_recall_curve\n",
        "from sklearn.preprocessing import MinMaxScaler\n",
        "from sklearn.preprocessing import quantile_transform\n",
        "\n",
        "# Scipy\n",
        "from scipy import stats"
      ],
      "execution_count": null,
      "outputs": []
    },
    {
      "cell_type": "code",
      "metadata": {
        "id": "ExCYVPc1CZlH",
        "colab": {
          "base_uri": "https://localhost:8080/"
        },
        "outputId": "db7acb71-6548-4fcc-9546-b9f42c021d2c"
      },
      "source": [
        "device = torch.device('cuda' if torch.cuda.is_available() else 'cpu')\n",
        "manual_seed = 2357\n",
        "\n",
        "def deterministic(rep=True):\n",
        "    if rep:\n",
        "        np.random.seed(manual_seed)\n",
        "        torch.manual_seed(manual_seed)\n",
        "        if torch.cuda.is_available():\n",
        "            torch.cuda.manual_seed(manual_seed)\n",
        "            torch.cuda.manual_seed_all(manual_seed)\n",
        "        torch.backends.cudnn.enabled = False \n",
        "        torch.backends.cudnn.benchmark = False\n",
        "        torch.backends.cudnn.deterministic = True\n",
        "        print(f'Deterministic experiment, seed: {manual_seed}')\n",
        "    else:\n",
        "        print('Random experiment')\n",
        "\n",
        "deterministic()"
      ],
      "execution_count": null,
      "outputs": [
        {
          "output_type": "stream",
          "text": [
            "Deterministic experiment, seed: 2357\n"
          ],
          "name": "stdout"
        }
      ]
    },
    {
      "cell_type": "code",
      "metadata": {
        "id": "gwVVI3JADtbh",
        "colab": {
          "base_uri": "https://localhost:8080/"
        },
        "outputId": "3a6c87ce-b918-4f73-b283-ae3f01179681"
      },
      "source": [
        "try:\n",
        "    df = pd.read_csv('/content/CensusData.csv');\n",
        "except:\n",
        "    !unzip '/content/drive/MyDrive/Colab Notebooks/Tabular/36093_54253_bundle_archive.zip'\n",
        "    df = pd.read_csv('/content/CensusData.csv');"
      ],
      "execution_count": null,
      "outputs": [
        {
          "output_type": "stream",
          "text": [
            "Archive:  /content/drive/MyDrive/Colab Notebooks/Tabular/36093_54253_bundle_archive.zip\n",
            "  inflating: CensusData.csv          \n"
          ],
          "name": "stdout"
        }
      ]
    },
    {
      "cell_type": "code",
      "metadata": {
        "id": "Cc_N4JIrD1UN",
        "colab": {
          "base_uri": "https://localhost:8080/",
          "height": 289
        },
        "outputId": "4d2b80c6-04cd-4eea-9dbc-2e328c0ebc0d"
      },
      "source": [
        "df.head()"
      ],
      "execution_count": null,
      "outputs": [
        {
          "output_type": "execute_result",
          "data": {
            "text/html": [
              "<div>\n",
              "<style scoped>\n",
              "    .dataframe tbody tr th:only-of-type {\n",
              "        vertical-align: middle;\n",
              "    }\n",
              "\n",
              "    .dataframe tbody tr th {\n",
              "        vertical-align: top;\n",
              "    }\n",
              "\n",
              "    .dataframe thead th {\n",
              "        text-align: right;\n",
              "    }\n",
              "</style>\n",
              "<table border=\"1\" class=\"dataframe\">\n",
              "  <thead>\n",
              "    <tr style=\"text-align: right;\">\n",
              "      <th></th>\n",
              "      <th>Age</th>\n",
              "      <th>workclass</th>\n",
              "      <th>fnlwgt</th>\n",
              "      <th>education</th>\n",
              "      <th>education-num</th>\n",
              "      <th>Marital-status</th>\n",
              "      <th>Occupation</th>\n",
              "      <th>Relationship</th>\n",
              "      <th>Race</th>\n",
              "      <th>Sex</th>\n",
              "      <th>capital-gain</th>\n",
              "      <th>capital-loss</th>\n",
              "      <th>hours-per-week</th>\n",
              "      <th>native-country</th>\n",
              "      <th>Income</th>\n",
              "    </tr>\n",
              "  </thead>\n",
              "  <tbody>\n",
              "    <tr>\n",
              "      <th>0</th>\n",
              "      <td>39</td>\n",
              "      <td>State-gov</td>\n",
              "      <td>77516</td>\n",
              "      <td>Bachelors</td>\n",
              "      <td>13</td>\n",
              "      <td>Never-married</td>\n",
              "      <td>Adm-clerical</td>\n",
              "      <td>Not-in-family</td>\n",
              "      <td>White</td>\n",
              "      <td>Male</td>\n",
              "      <td>2174</td>\n",
              "      <td>0</td>\n",
              "      <td>40</td>\n",
              "      <td>United-States</td>\n",
              "      <td>&lt;=50K</td>\n",
              "    </tr>\n",
              "    <tr>\n",
              "      <th>1</th>\n",
              "      <td>50</td>\n",
              "      <td>Self-emp-not-inc</td>\n",
              "      <td>83311</td>\n",
              "      <td>Bachelors</td>\n",
              "      <td>13</td>\n",
              "      <td>Married-civ-spouse</td>\n",
              "      <td>Exec-managerial</td>\n",
              "      <td>Husband</td>\n",
              "      <td>White</td>\n",
              "      <td>Male</td>\n",
              "      <td>0</td>\n",
              "      <td>0</td>\n",
              "      <td>13</td>\n",
              "      <td>United-States</td>\n",
              "      <td>&lt;=50K</td>\n",
              "    </tr>\n",
              "    <tr>\n",
              "      <th>2</th>\n",
              "      <td>38</td>\n",
              "      <td>Private</td>\n",
              "      <td>215646</td>\n",
              "      <td>HS-grad</td>\n",
              "      <td>9</td>\n",
              "      <td>Divorced</td>\n",
              "      <td>Handlers-cleaners</td>\n",
              "      <td>Not-in-family</td>\n",
              "      <td>White</td>\n",
              "      <td>Male</td>\n",
              "      <td>0</td>\n",
              "      <td>0</td>\n",
              "      <td>40</td>\n",
              "      <td>United-States</td>\n",
              "      <td>&lt;=50K</td>\n",
              "    </tr>\n",
              "    <tr>\n",
              "      <th>3</th>\n",
              "      <td>53</td>\n",
              "      <td>Private</td>\n",
              "      <td>234721</td>\n",
              "      <td>11th</td>\n",
              "      <td>7</td>\n",
              "      <td>Married-civ-spouse</td>\n",
              "      <td>Handlers-cleaners</td>\n",
              "      <td>Husband</td>\n",
              "      <td>Black</td>\n",
              "      <td>Male</td>\n",
              "      <td>0</td>\n",
              "      <td>0</td>\n",
              "      <td>40</td>\n",
              "      <td>United-States</td>\n",
              "      <td>&lt;=50K</td>\n",
              "    </tr>\n",
              "    <tr>\n",
              "      <th>4</th>\n",
              "      <td>28</td>\n",
              "      <td>Private</td>\n",
              "      <td>338409</td>\n",
              "      <td>Bachelors</td>\n",
              "      <td>13</td>\n",
              "      <td>Married-civ-spouse</td>\n",
              "      <td>Prof-specialty</td>\n",
              "      <td>Wife</td>\n",
              "      <td>Black</td>\n",
              "      <td>Female</td>\n",
              "      <td>0</td>\n",
              "      <td>0</td>\n",
              "      <td>40</td>\n",
              "      <td>Cuba</td>\n",
              "      <td>&lt;=50K</td>\n",
              "    </tr>\n",
              "  </tbody>\n",
              "</table>\n",
              "</div>"
            ],
            "text/plain": [
              "   Age          workclass  fnlwgt  ... hours-per-week  native-country  Income\n",
              "0   39          State-gov   77516  ...             40   United-States   <=50K\n",
              "1   50   Self-emp-not-inc   83311  ...             13   United-States   <=50K\n",
              "2   38            Private  215646  ...             40   United-States   <=50K\n",
              "3   53            Private  234721  ...             40   United-States   <=50K\n",
              "4   28            Private  338409  ...             40            Cuba   <=50K\n",
              "\n",
              "[5 rows x 15 columns]"
            ]
          },
          "metadata": {
            "tags": []
          },
          "execution_count": 6
        }
      ]
    },
    {
      "cell_type": "markdown",
      "metadata": {
        "id": "h_4qDj3w7tB5"
      },
      "source": [
        "### Troca do Label para numérico"
      ]
    },
    {
      "cell_type": "code",
      "metadata": {
        "id": "5X2KIjyy7whu",
        "colab": {
          "base_uri": "https://localhost:8080/"
        },
        "outputId": "7b53a611-41e3-400e-8ded-d73581f2f852"
      },
      "source": [
        "# Verificar a contagem antes\n",
        "df.Income.value_counts()"
      ],
      "execution_count": null,
      "outputs": [
        {
          "output_type": "execute_result",
          "data": {
            "text/plain": [
              " <=50K    24720\n",
              " >50K      7841\n",
              "Name: Income, dtype: int64"
            ]
          },
          "metadata": {
            "tags": []
          },
          "execution_count": 7
        }
      ]
    },
    {
      "cell_type": "code",
      "metadata": {
        "id": "1TZ22KPWgBC5",
        "colab": {
          "base_uri": "https://localhost:8080/"
        },
        "outputId": "aed60e76-7849-4f9b-c731-8bb44efd6a49"
      },
      "source": [
        "# Verificar a contagem depois\n",
        "df['Income'] = np.where(df['Income'] == ' <=50K', 0,1)\n",
        "df.Income.value_counts()"
      ],
      "execution_count": null,
      "outputs": [
        {
          "output_type": "execute_result",
          "data": {
            "text/plain": [
              "0    24720\n",
              "1     7841\n",
              "Name: Income, dtype: int64"
            ]
          },
          "metadata": {
            "tags": []
          },
          "execution_count": 8
        }
      ]
    },
    {
      "cell_type": "markdown",
      "metadata": {
        "id": "W5FFvnYe79jx"
      },
      "source": [
        "### Fazer split entre train e test"
      ]
    },
    {
      "cell_type": "code",
      "metadata": {
        "id": "gz1e4bvIZDNs",
        "colab": {
          "base_uri": "https://localhost:8080/"
        },
        "outputId": "fc5a169c-39fb-4b8f-f7dc-a8602e80269f"
      },
      "source": [
        "df_train, df_test, y_train, y_test = train_test_split(df.iloc[:, :-1],df.Income, test_size=0.3, stratify=df.Income)\n",
        "\n",
        "# volta para dataframe\n",
        "df_train = pd.DataFrame(df_train)\n",
        "df_test = pd.DataFrame(df_test)\n",
        "df_train.shape, y_train.shape, df_test.shape, y_test.shape"
      ],
      "execution_count": null,
      "outputs": [
        {
          "output_type": "execute_result",
          "data": {
            "text/plain": [
              "((22792, 14), (22792,), (9769, 14), (9769,))"
            ]
          },
          "metadata": {
            "tags": []
          },
          "execution_count": 9
        }
      ]
    },
    {
      "cell_type": "code",
      "metadata": {
        "id": "IrdPFgURgLaL",
        "colab": {
          "base_uri": "https://localhost:8080/",
          "height": 289
        },
        "outputId": "a28b2cc3-519d-4468-d43f-bc0819f1b1a0"
      },
      "source": [
        "df_train.head()"
      ],
      "execution_count": null,
      "outputs": [
        {
          "output_type": "execute_result",
          "data": {
            "text/html": [
              "<div>\n",
              "<style scoped>\n",
              "    .dataframe tbody tr th:only-of-type {\n",
              "        vertical-align: middle;\n",
              "    }\n",
              "\n",
              "    .dataframe tbody tr th {\n",
              "        vertical-align: top;\n",
              "    }\n",
              "\n",
              "    .dataframe thead th {\n",
              "        text-align: right;\n",
              "    }\n",
              "</style>\n",
              "<table border=\"1\" class=\"dataframe\">\n",
              "  <thead>\n",
              "    <tr style=\"text-align: right;\">\n",
              "      <th></th>\n",
              "      <th>Age</th>\n",
              "      <th>workclass</th>\n",
              "      <th>fnlwgt</th>\n",
              "      <th>education</th>\n",
              "      <th>education-num</th>\n",
              "      <th>Marital-status</th>\n",
              "      <th>Occupation</th>\n",
              "      <th>Relationship</th>\n",
              "      <th>Race</th>\n",
              "      <th>Sex</th>\n",
              "      <th>capital-gain</th>\n",
              "      <th>capital-loss</th>\n",
              "      <th>hours-per-week</th>\n",
              "      <th>native-country</th>\n",
              "    </tr>\n",
              "  </thead>\n",
              "  <tbody>\n",
              "    <tr>\n",
              "      <th>27093</th>\n",
              "      <td>18</td>\n",
              "      <td>Private</td>\n",
              "      <td>334676</td>\n",
              "      <td>HS-grad</td>\n",
              "      <td>9</td>\n",
              "      <td>Never-married</td>\n",
              "      <td>Handlers-cleaners</td>\n",
              "      <td>Own-child</td>\n",
              "      <td>White</td>\n",
              "      <td>Male</td>\n",
              "      <td>0</td>\n",
              "      <td>0</td>\n",
              "      <td>25</td>\n",
              "      <td>United-States</td>\n",
              "    </tr>\n",
              "    <tr>\n",
              "      <th>29276</th>\n",
              "      <td>35</td>\n",
              "      <td>Private</td>\n",
              "      <td>397307</td>\n",
              "      <td>Masters</td>\n",
              "      <td>14</td>\n",
              "      <td>Never-married</td>\n",
              "      <td>Exec-managerial</td>\n",
              "      <td>Not-in-family</td>\n",
              "      <td>White</td>\n",
              "      <td>Female</td>\n",
              "      <td>0</td>\n",
              "      <td>0</td>\n",
              "      <td>55</td>\n",
              "      <td>United-States</td>\n",
              "    </tr>\n",
              "    <tr>\n",
              "      <th>18695</th>\n",
              "      <td>45</td>\n",
              "      <td>Private</td>\n",
              "      <td>197240</td>\n",
              "      <td>12th</td>\n",
              "      <td>8</td>\n",
              "      <td>Married-civ-spouse</td>\n",
              "      <td>Sales</td>\n",
              "      <td>Husband</td>\n",
              "      <td>White</td>\n",
              "      <td>Male</td>\n",
              "      <td>7688</td>\n",
              "      <td>0</td>\n",
              "      <td>40</td>\n",
              "      <td>United-States</td>\n",
              "    </tr>\n",
              "    <tr>\n",
              "      <th>30282</th>\n",
              "      <td>34</td>\n",
              "      <td>Private</td>\n",
              "      <td>28053</td>\n",
              "      <td>Bachelors</td>\n",
              "      <td>13</td>\n",
              "      <td>Married-spouse-absent</td>\n",
              "      <td>Adm-clerical</td>\n",
              "      <td>Not-in-family</td>\n",
              "      <td>White</td>\n",
              "      <td>Female</td>\n",
              "      <td>0</td>\n",
              "      <td>0</td>\n",
              "      <td>25</td>\n",
              "      <td>United-States</td>\n",
              "    </tr>\n",
              "    <tr>\n",
              "      <th>14318</th>\n",
              "      <td>27</td>\n",
              "      <td>Private</td>\n",
              "      <td>74883</td>\n",
              "      <td>Bachelors</td>\n",
              "      <td>13</td>\n",
              "      <td>Never-married</td>\n",
              "      <td>Tech-support</td>\n",
              "      <td>Not-in-family</td>\n",
              "      <td>Asian-Pac-Islander</td>\n",
              "      <td>Female</td>\n",
              "      <td>0</td>\n",
              "      <td>0</td>\n",
              "      <td>40</td>\n",
              "      <td>Philippines</td>\n",
              "    </tr>\n",
              "  </tbody>\n",
              "</table>\n",
              "</div>"
            ],
            "text/plain": [
              "       Age workclass  fnlwgt  ... capital-loss  hours-per-week  native-country\n",
              "27093   18   Private  334676  ...            0              25   United-States\n",
              "29276   35   Private  397307  ...            0              55   United-States\n",
              "18695   45   Private  197240  ...            0              40   United-States\n",
              "30282   34   Private   28053  ...            0              25   United-States\n",
              "14318   27   Private   74883  ...            0              40     Philippines\n",
              "\n",
              "[5 rows x 14 columns]"
            ]
          },
          "metadata": {
            "tags": []
          },
          "execution_count": 10
        }
      ]
    },
    {
      "cell_type": "markdown",
      "metadata": {
        "id": "cRcDi2618Rus"
      },
      "source": [
        "### Tratar colunas categóricas"
      ]
    },
    {
      "cell_type": "code",
      "metadata": {
        "id": "fhkgXstZEJpf",
        "colab": {
          "base_uri": "https://localhost:8080/"
        },
        "outputId": "43d248c2-3e18-4b67-d35e-2f99bf82e3c2"
      },
      "source": [
        "df.dtypes"
      ],
      "execution_count": null,
      "outputs": [
        {
          "output_type": "execute_result",
          "data": {
            "text/plain": [
              "Age                int64\n",
              "workclass         object\n",
              "fnlwgt             int64\n",
              "education         object\n",
              "education-num      int64\n",
              "Marital-status    object\n",
              "Occupation        object\n",
              "Relationship      object\n",
              "Race              object\n",
              "Sex               object\n",
              "capital-gain       int64\n",
              "capital-loss       int64\n",
              "hours-per-week     int64\n",
              "native-country    object\n",
              "Income             int64\n",
              "dtype: object"
            ]
          },
          "metadata": {
            "tags": []
          },
          "execution_count": 11
        }
      ]
    },
    {
      "cell_type": "code",
      "metadata": {
        "id": "OjDb3NOhJJxU",
        "colab": {
          "base_uri": "https://localhost:8080/"
        },
        "outputId": "d1bbc3b7-5699-4aba-b1c8-059469667750"
      },
      "source": [
        "columns   = df.columns.to_list() # todas as colunas\n",
        "col_types = df.dtypes.to_list()  # todos os tipos de colunas\n",
        "col_types"
      ],
      "execution_count": null,
      "outputs": [
        {
          "output_type": "execute_result",
          "data": {
            "text/plain": [
              "[dtype('int64'),\n",
              " dtype('O'),\n",
              " dtype('int64'),\n",
              " dtype('O'),\n",
              " dtype('int64'),\n",
              " dtype('O'),\n",
              " dtype('O'),\n",
              " dtype('O'),\n",
              " dtype('O'),\n",
              " dtype('O'),\n",
              " dtype('int64'),\n",
              " dtype('int64'),\n",
              " dtype('int64'),\n",
              " dtype('O'),\n",
              " dtype('int64')]"
            ]
          },
          "metadata": {
            "tags": []
          },
          "execution_count": 12
        }
      ]
    },
    {
      "cell_type": "code",
      "metadata": {
        "id": "iI1ekW8qLXGK",
        "colab": {
          "base_uri": "https://localhost:8080/"
        },
        "outputId": "d743bb65-9b5b-40f4-8f34-a6463d789dbb"
      },
      "source": [
        "num_cols, cat_cols = [], []\n",
        "for e in zip(columns, col_types):\n",
        "    if e[1] == 'object':\n",
        "        cat_cols.append(e[0])\n",
        "    else:\n",
        "        num_cols.append(e[0])\n",
        "\n",
        "# excluit o target Income da num_cols\n",
        "num_cols.pop(-1)\n",
        "\n",
        "print(cat_cols, '\\n')\n",
        "print(num_cols)"
      ],
      "execution_count": null,
      "outputs": [
        {
          "output_type": "stream",
          "text": [
            "['workclass', 'education', 'Marital-status', 'Occupation', 'Relationship', 'Race', 'Sex', 'native-country'] \n",
            "\n",
            "['Age', 'fnlwgt', 'education-num', 'capital-gain', 'capital-loss', 'hours-per-week']\n"
          ],
          "name": "stdout"
        }
      ]
    },
    {
      "cell_type": "code",
      "metadata": {
        "id": "iioFiC42TAG1"
      },
      "source": [
        "def map_categorical_train(df_train, cat_cols):\n",
        "    df = df_train.copy()\n",
        "    cat_dims, list_of_dicts = [], []\n",
        "    \n",
        "    for col in cat_cols:\n",
        "        j = 1\n",
        "        my_dict = {}\n",
        "        my_dict.update({' ?':0})\n",
        "        my_dict.update({'UNK':1})\n",
        "\n",
        "        for e in df[col].value_counts().index.to_list():\n",
        "            if e not in my_dict.keys():\n",
        "                j +=1\n",
        "                my_dict.update({e:j})\n",
        "        list_of_dicts.append(my_dict)\n",
        "        cat_dims.append(len(my_dict))\n",
        "\n",
        "        df[col] = df[col].apply(lambda x: my_dict[x] if x in \n",
        "                                my_dict.keys() else my_dict['UNK'])\n",
        "        \n",
        "        emb_szs = [(c, min(100, (2*c)//2)) for c in cat_dims]\n",
        "        cat_emb_dims = [e[0] for e in emb_szs]\n",
        "\n",
        "    return df, list_of_dicts, emb_szs, cat_dims\n",
        "\n",
        "#----------------------------------------------------------------------------------\n",
        "def map_categorical_test(df_test, list_of_dicts):\n",
        "    df = df_test.copy()\n",
        "    for i, col in enumerate(cat_cols):\n",
        "        df[col] = df[col].apply(lambda x: list_of_dicts[i][x] if x in \n",
        "                                list_of_dicts[i].keys() else list_of_dicts[i]['UNK'])\n",
        "    return df"
      ],
      "execution_count": 500,
      "outputs": []
    },
    {
      "cell_type": "code",
      "metadata": {
        "id": "OjSvRFo6W8G_",
        "colab": {
          "base_uri": "https://localhost:8080/"
        },
        "outputId": "9ab60330-be21-445d-b794-1292324847dd"
      },
      "source": [
        "df_train_, list_of_dicts, emb_szs, cat_dims = map_categorical_train(df_train, cat_cols)   \n",
        "df_test_ = map_categorical_test(df_test, list_of_dicts)   \n",
        "print(df_train_.shape, df_test_.shape)"
      ],
      "execution_count": 501,
      "outputs": [
        {
          "output_type": "stream",
          "text": [
            "(22792, 14) (9769, 14)\n"
          ],
          "name": "stdout"
        }
      ]
    },
    {
      "cell_type": "code",
      "metadata": {
        "id": "OTVPO_c79GZi",
        "colab": {
          "base_uri": "https://localhost:8080/",
          "height": 221
        },
        "outputId": "e5cf9e3b-68cb-41f5-9c49-05e7e4dd1b9d"
      },
      "source": [
        "# Conferindo\n",
        "df_train_.head()"
      ],
      "execution_count": 502,
      "outputs": [
        {
          "output_type": "execute_result",
          "data": {
            "text/html": [
              "<div>\n",
              "<style scoped>\n",
              "    .dataframe tbody tr th:only-of-type {\n",
              "        vertical-align: middle;\n",
              "    }\n",
              "\n",
              "    .dataframe tbody tr th {\n",
              "        vertical-align: top;\n",
              "    }\n",
              "\n",
              "    .dataframe thead th {\n",
              "        text-align: right;\n",
              "    }\n",
              "</style>\n",
              "<table border=\"1\" class=\"dataframe\">\n",
              "  <thead>\n",
              "    <tr style=\"text-align: right;\">\n",
              "      <th></th>\n",
              "      <th>Age</th>\n",
              "      <th>fnlwgt</th>\n",
              "      <th>education-num</th>\n",
              "      <th>capital-gain</th>\n",
              "      <th>capital-loss</th>\n",
              "      <th>hours-per-week</th>\n",
              "      <th>workclass</th>\n",
              "      <th>education</th>\n",
              "      <th>Marital-status</th>\n",
              "      <th>Occupation</th>\n",
              "      <th>Relationship</th>\n",
              "      <th>Race</th>\n",
              "      <th>Sex</th>\n",
              "      <th>native-country</th>\n",
              "    </tr>\n",
              "  </thead>\n",
              "  <tbody>\n",
              "    <tr>\n",
              "      <th>27093</th>\n",
              "      <td>0.020020</td>\n",
              "      <td>0.907503</td>\n",
              "      <td>0.148148</td>\n",
              "      <td>0.00000</td>\n",
              "      <td>0.0</td>\n",
              "      <td>0.111111</td>\n",
              "      <td>2</td>\n",
              "      <td>2</td>\n",
              "      <td>3</td>\n",
              "      <td>11</td>\n",
              "      <td>4</td>\n",
              "      <td>2</td>\n",
              "      <td>2</td>\n",
              "      <td>2</td>\n",
              "    </tr>\n",
              "    <tr>\n",
              "      <th>29276</th>\n",
              "      <td>0.447447</td>\n",
              "      <td>0.959688</td>\n",
              "      <td>0.942442</td>\n",
              "      <td>0.00000</td>\n",
              "      <td>0.0</td>\n",
              "      <td>0.904404</td>\n",
              "      <td>2</td>\n",
              "      <td>5</td>\n",
              "      <td>3</td>\n",
              "      <td>4</td>\n",
              "      <td>3</td>\n",
              "      <td>2</td>\n",
              "      <td>3</td>\n",
              "      <td>2</td>\n",
              "    </tr>\n",
              "    <tr>\n",
              "      <th>18695</th>\n",
              "      <td>0.694194</td>\n",
              "      <td>0.606847</td>\n",
              "      <td>0.123123</td>\n",
              "      <td>0.97047</td>\n",
              "      <td>0.0</td>\n",
              "      <td>0.472472</td>\n",
              "      <td>2</td>\n",
              "      <td>13</td>\n",
              "      <td>2</td>\n",
              "      <td>6</td>\n",
              "      <td>2</td>\n",
              "      <td>2</td>\n",
              "      <td>2</td>\n",
              "      <td>2</td>\n",
              "    </tr>\n",
              "    <tr>\n",
              "      <th>30282</th>\n",
              "      <td>0.420420</td>\n",
              "      <td>0.012079</td>\n",
              "      <td>0.834334</td>\n",
              "      <td>0.00000</td>\n",
              "      <td>0.0</td>\n",
              "      <td>0.111111</td>\n",
              "      <td>2</td>\n",
              "      <td>4</td>\n",
              "      <td>7</td>\n",
              "      <td>5</td>\n",
              "      <td>3</td>\n",
              "      <td>2</td>\n",
              "      <td>3</td>\n",
              "      <td>2</td>\n",
              "    </tr>\n",
              "    <tr>\n",
              "      <th>14318</th>\n",
              "      <td>0.233734</td>\n",
              "      <td>0.113113</td>\n",
              "      <td>0.834334</td>\n",
              "      <td>0.00000</td>\n",
              "      <td>0.0</td>\n",
              "      <td>0.472472</td>\n",
              "      <td>2</td>\n",
              "      <td>4</td>\n",
              "      <td>3</td>\n",
              "      <td>13</td>\n",
              "      <td>3</td>\n",
              "      <td>4</td>\n",
              "      <td>3</td>\n",
              "      <td>5</td>\n",
              "    </tr>\n",
              "  </tbody>\n",
              "</table>\n",
              "</div>"
            ],
            "text/plain": [
              "            Age    fnlwgt  education-num  ...  Race  Sex  native-country\n",
              "27093  0.020020  0.907503       0.148148  ...     2    2               2\n",
              "29276  0.447447  0.959688       0.942442  ...     2    3               2\n",
              "18695  0.694194  0.606847       0.123123  ...     2    2               2\n",
              "30282  0.420420  0.012079       0.834334  ...     2    3               2\n",
              "14318  0.233734  0.113113       0.834334  ...     4    3               5\n",
              "\n",
              "[5 rows x 14 columns]"
            ]
          },
          "metadata": {
            "tags": []
          },
          "execution_count": 502
        }
      ]
    },
    {
      "cell_type": "markdown",
      "metadata": {
        "id": "muLbz4Xa9KpR"
      },
      "source": [
        "### Tratamento colunas numéricas"
      ]
    },
    {
      "cell_type": "code",
      "metadata": {
        "id": "RKAZcUE59Nau"
      },
      "source": [
        "def normalize(df, num_cols, cat_cols, norm='minmax'):\n",
        "    data = df.copy()\n",
        "    df_num = df[num_cols]\n",
        "    \n",
        "    if norm == 'minmax':\n",
        "        m_m_s = MinMaxScaler()\n",
        "        mim_max_scal = m_m_s.fit(df_num.values)\n",
        "        mim_max_scal = m_m_s.transform(df_num.values)\n",
        "        df_norm = pd.DataFrame(data=mim_max_scal, \n",
        "                        columns=df_num.columns, \n",
        "                        index=df_num.index)\n",
        "\n",
        "    if norm == 'quantile':\n",
        "        quantile = quantile_transform(df_num.values, \n",
        "                        random_state=2357, \n",
        "                        copy=True, \n",
        "                        output_distribution='uniform')\n",
        "        df_norm  = pd.DataFrame(data=quantile, \n",
        "                        columns=df_num.columns, \n",
        "                        index=df_num.index)\n",
        "\n",
        "    df= pd.concat((\n",
        "        df_norm, \n",
        "        df[cat_cols]), \n",
        "        axis=1)\n",
        "    return df"
      ],
      "execution_count": 503,
      "outputs": []
    },
    {
      "cell_type": "code",
      "metadata": {
        "id": "BtS4IlOY-HJB",
        "colab": {
          "base_uri": "https://localhost:8080/"
        },
        "outputId": "61c2e5a0-7a13-434f-8e2d-30d411867986"
      },
      "source": [
        "# df_train[num_cols]\n",
        "num_cols"
      ],
      "execution_count": 504,
      "outputs": [
        {
          "output_type": "execute_result",
          "data": {
            "text/plain": [
              "['Age',\n",
              " 'fnlwgt',\n",
              " 'education-num',\n",
              " 'capital-gain',\n",
              " 'capital-loss',\n",
              " 'hours-per-week']"
            ]
          },
          "metadata": {
            "tags": []
          },
          "execution_count": 504
        }
      ]
    },
    {
      "cell_type": "code",
      "metadata": {
        "id": "-20zO9BI9p32"
      },
      "source": [
        "df_train = normalize(df_train_, num_cols, cat_cols, norm='quantile')\n",
        "df_test  = normalize(df_test_, num_cols, cat_cols, norm='quantile') "
      ],
      "execution_count": 505,
      "outputs": []
    },
    {
      "cell_type": "markdown",
      "metadata": {
        "id": "9rGqkpVp-Dcs"
      },
      "source": [
        "# Conferindo"
      ]
    },
    {
      "cell_type": "code",
      "metadata": {
        "id": "gxmnnwld-nUw",
        "colab": {
          "base_uri": "https://localhost:8080/",
          "height": 436
        },
        "outputId": "2a7de4cd-3e65-4704-bfbb-9878587f825b"
      },
      "source": [
        "df_train"
      ],
      "execution_count": 506,
      "outputs": [
        {
          "output_type": "execute_result",
          "data": {
            "text/html": [
              "<div>\n",
              "<style scoped>\n",
              "    .dataframe tbody tr th:only-of-type {\n",
              "        vertical-align: middle;\n",
              "    }\n",
              "\n",
              "    .dataframe tbody tr th {\n",
              "        vertical-align: top;\n",
              "    }\n",
              "\n",
              "    .dataframe thead th {\n",
              "        text-align: right;\n",
              "    }\n",
              "</style>\n",
              "<table border=\"1\" class=\"dataframe\">\n",
              "  <thead>\n",
              "    <tr style=\"text-align: right;\">\n",
              "      <th></th>\n",
              "      <th>Age</th>\n",
              "      <th>fnlwgt</th>\n",
              "      <th>education-num</th>\n",
              "      <th>capital-gain</th>\n",
              "      <th>capital-loss</th>\n",
              "      <th>hours-per-week</th>\n",
              "      <th>workclass</th>\n",
              "      <th>education</th>\n",
              "      <th>Marital-status</th>\n",
              "      <th>Occupation</th>\n",
              "      <th>Relationship</th>\n",
              "      <th>Race</th>\n",
              "      <th>Sex</th>\n",
              "      <th>native-country</th>\n",
              "    </tr>\n",
              "  </thead>\n",
              "  <tbody>\n",
              "    <tr>\n",
              "      <th>27093</th>\n",
              "      <td>0.020020</td>\n",
              "      <td>0.907503</td>\n",
              "      <td>0.293293</td>\n",
              "      <td>0.00000</td>\n",
              "      <td>0.0</td>\n",
              "      <td>0.111111</td>\n",
              "      <td>2</td>\n",
              "      <td>2</td>\n",
              "      <td>3</td>\n",
              "      <td>11</td>\n",
              "      <td>4</td>\n",
              "      <td>2</td>\n",
              "      <td>2</td>\n",
              "      <td>2</td>\n",
              "    </tr>\n",
              "    <tr>\n",
              "      <th>29276</th>\n",
              "      <td>0.447447</td>\n",
              "      <td>0.959688</td>\n",
              "      <td>0.942442</td>\n",
              "      <td>0.00000</td>\n",
              "      <td>0.0</td>\n",
              "      <td>0.904404</td>\n",
              "      <td>2</td>\n",
              "      <td>5</td>\n",
              "      <td>3</td>\n",
              "      <td>4</td>\n",
              "      <td>3</td>\n",
              "      <td>2</td>\n",
              "      <td>3</td>\n",
              "      <td>2</td>\n",
              "    </tr>\n",
              "    <tr>\n",
              "      <th>18695</th>\n",
              "      <td>0.694194</td>\n",
              "      <td>0.606847</td>\n",
              "      <td>0.123123</td>\n",
              "      <td>0.97047</td>\n",
              "      <td>0.0</td>\n",
              "      <td>0.472472</td>\n",
              "      <td>2</td>\n",
              "      <td>13</td>\n",
              "      <td>2</td>\n",
              "      <td>6</td>\n",
              "      <td>2</td>\n",
              "      <td>2</td>\n",
              "      <td>2</td>\n",
              "      <td>2</td>\n",
              "    </tr>\n",
              "    <tr>\n",
              "      <th>30282</th>\n",
              "      <td>0.420420</td>\n",
              "      <td>0.012080</td>\n",
              "      <td>0.834334</td>\n",
              "      <td>0.00000</td>\n",
              "      <td>0.0</td>\n",
              "      <td>0.111111</td>\n",
              "      <td>2</td>\n",
              "      <td>4</td>\n",
              "      <td>7</td>\n",
              "      <td>5</td>\n",
              "      <td>3</td>\n",
              "      <td>2</td>\n",
              "      <td>3</td>\n",
              "      <td>2</td>\n",
              "    </tr>\n",
              "    <tr>\n",
              "      <th>14318</th>\n",
              "      <td>0.233734</td>\n",
              "      <td>0.113113</td>\n",
              "      <td>0.834334</td>\n",
              "      <td>0.00000</td>\n",
              "      <td>0.0</td>\n",
              "      <td>0.472472</td>\n",
              "      <td>2</td>\n",
              "      <td>4</td>\n",
              "      <td>3</td>\n",
              "      <td>13</td>\n",
              "      <td>3</td>\n",
              "      <td>4</td>\n",
              "      <td>3</td>\n",
              "      <td>5</td>\n",
              "    </tr>\n",
              "    <tr>\n",
              "      <th>...</th>\n",
              "      <td>...</td>\n",
              "      <td>...</td>\n",
              "      <td>...</td>\n",
              "      <td>...</td>\n",
              "      <td>...</td>\n",
              "      <td>...</td>\n",
              "      <td>...</td>\n",
              "      <td>...</td>\n",
              "      <td>...</td>\n",
              "      <td>...</td>\n",
              "      <td>...</td>\n",
              "      <td>...</td>\n",
              "      <td>...</td>\n",
              "      <td>...</td>\n",
              "    </tr>\n",
              "    <tr>\n",
              "      <th>22287</th>\n",
              "      <td>0.061562</td>\n",
              "      <td>0.935532</td>\n",
              "      <td>0.566567</td>\n",
              "      <td>0.00000</td>\n",
              "      <td>0.0</td>\n",
              "      <td>0.143644</td>\n",
              "      <td>2</td>\n",
              "      <td>3</td>\n",
              "      <td>3</td>\n",
              "      <td>4</td>\n",
              "      <td>4</td>\n",
              "      <td>2</td>\n",
              "      <td>3</td>\n",
              "      <td>2</td>\n",
              "    </tr>\n",
              "    <tr>\n",
              "      <th>31114</th>\n",
              "      <td>0.259760</td>\n",
              "      <td>0.595756</td>\n",
              "      <td>0.293293</td>\n",
              "      <td>0.00000</td>\n",
              "      <td>0.0</td>\n",
              "      <td>0.472472</td>\n",
              "      <td>2</td>\n",
              "      <td>2</td>\n",
              "      <td>2</td>\n",
              "      <td>8</td>\n",
              "      <td>2</td>\n",
              "      <td>2</td>\n",
              "      <td>2</td>\n",
              "      <td>2</td>\n",
              "    </tr>\n",
              "    <tr>\n",
              "      <th>24108</th>\n",
              "      <td>0.600601</td>\n",
              "      <td>0.919574</td>\n",
              "      <td>0.834334</td>\n",
              "      <td>0.00000</td>\n",
              "      <td>0.0</td>\n",
              "      <td>0.843844</td>\n",
              "      <td>2</td>\n",
              "      <td>4</td>\n",
              "      <td>4</td>\n",
              "      <td>4</td>\n",
              "      <td>3</td>\n",
              "      <td>2</td>\n",
              "      <td>2</td>\n",
              "      <td>2</td>\n",
              "    </tr>\n",
              "    <tr>\n",
              "      <th>17802</th>\n",
              "      <td>0.649650</td>\n",
              "      <td>0.908950</td>\n",
              "      <td>0.293293</td>\n",
              "      <td>0.00000</td>\n",
              "      <td>0.0</td>\n",
              "      <td>0.472472</td>\n",
              "      <td>2</td>\n",
              "      <td>2</td>\n",
              "      <td>5</td>\n",
              "      <td>10</td>\n",
              "      <td>3</td>\n",
              "      <td>2</td>\n",
              "      <td>2</td>\n",
              "      <td>2</td>\n",
              "    </tr>\n",
              "    <tr>\n",
              "      <th>11965</th>\n",
              "      <td>0.717217</td>\n",
              "      <td>0.305426</td>\n",
              "      <td>0.566567</td>\n",
              "      <td>0.00000</td>\n",
              "      <td>0.0</td>\n",
              "      <td>0.472472</td>\n",
              "      <td>2</td>\n",
              "      <td>3</td>\n",
              "      <td>4</td>\n",
              "      <td>5</td>\n",
              "      <td>5</td>\n",
              "      <td>2</td>\n",
              "      <td>3</td>\n",
              "      <td>2</td>\n",
              "    </tr>\n",
              "  </tbody>\n",
              "</table>\n",
              "<p>22792 rows × 14 columns</p>\n",
              "</div>"
            ],
            "text/plain": [
              "            Age    fnlwgt  education-num  ...  Race  Sex  native-country\n",
              "27093  0.020020  0.907503       0.293293  ...     2    2               2\n",
              "29276  0.447447  0.959688       0.942442  ...     2    3               2\n",
              "18695  0.694194  0.606847       0.123123  ...     2    2               2\n",
              "30282  0.420420  0.012080       0.834334  ...     2    3               2\n",
              "14318  0.233734  0.113113       0.834334  ...     4    3               5\n",
              "...         ...       ...            ...  ...   ...  ...             ...\n",
              "22287  0.061562  0.935532       0.566567  ...     2    3               2\n",
              "31114  0.259760  0.595756       0.293293  ...     2    2               2\n",
              "24108  0.600601  0.919574       0.834334  ...     2    2               2\n",
              "17802  0.649650  0.908950       0.293293  ...     2    2               2\n",
              "11965  0.717217  0.305426       0.566567  ...     2    3               2\n",
              "\n",
              "[22792 rows x 14 columns]"
            ]
          },
          "metadata": {
            "tags": []
          },
          "execution_count": 506
        }
      ]
    },
    {
      "cell_type": "markdown",
      "metadata": {
        "id": "WA2Dcphh-o5H"
      },
      "source": [
        "## Criar classe do dataset"
      ]
    },
    {
      "cell_type": "code",
      "metadata": {
        "id": "2JXfxrmD-sqg",
        "colab": {
          "base_uri": "https://localhost:8080/"
        },
        "outputId": "ca39c94a-3797-48ba-a144-88d71644b782"
      },
      "source": [
        "class CensusDataset(Dataset):\n",
        "    def __init__(self, df, num_cols, cat_cols, target):\n",
        "        super(CensusDataset, self).__init__()\n",
        "\n",
        "        self.x_cont = df[num_cols].values.copy().astype(np.float32)\n",
        "        self.x_cat  = df[cat_cols].values.copy().astype(np.int64)\n",
        "        \n",
        "        self.y      = target.values.reshape(-1).copy().astype(np.int64)\n",
        "        \n",
        "    def __len__(self):\n",
        "        return self.x_cat.shape[0]\n",
        "    \n",
        "    def __getitem__(self, index):\n",
        "        x_cont = self.x_cont[index]\n",
        "        x_cat  = self.x_cat[index]\n",
        "        \n",
        "        y      = self.y[index]\n",
        "        \n",
        "        return x_cont, x_cat, y\n",
        "\n",
        "# testando\n",
        "ds = CensusDataset(df_train, \n",
        "                     num_cols, \n",
        "                     cat_cols, \n",
        "                     y_train)\n",
        "x_cont, x_cat, y = ds[0]\n",
        "x_cont.shape, x_cat.shape, y"
      ],
      "execution_count": 507,
      "outputs": [
        {
          "output_type": "execute_result",
          "data": {
            "text/plain": [
              "((6,), (8,), 0)"
            ]
          },
          "metadata": {
            "tags": []
          },
          "execution_count": 507
        }
      ]
    },
    {
      "cell_type": "markdown",
      "metadata": {
        "id": "XzX-03rt_Te-"
      },
      "source": [
        "# Dataloaders"
      ]
    },
    {
      "cell_type": "code",
      "metadata": {
        "id": "t6bE6o7W3EgQ",
        "colab": {
          "base_uri": "https://localhost:8080/"
        },
        "outputId": "763dd4e9-4f54-4772-cc27-f1f2305c704d"
      },
      "source": [
        "BATCH_SZ = 128\n",
        "\n",
        "# datasets\n",
        "ds_train = CensusDataset(df_train, \n",
        "                     num_cols, \n",
        "                     cat_cols, \n",
        "                     y_train)\n",
        "\n",
        "ds_debug = CensusDataset(df_train[:BATCH_SZ], \n",
        "                     num_cols, \n",
        "                     cat_cols, \n",
        "                     y_train[:BATCH_SZ])\n",
        "\n",
        "\n",
        "ds_test  = CensusDataset(df_test, \n",
        "                     num_cols, \n",
        "                     cat_cols, \n",
        "                     y_test)\n",
        "\n",
        "# dataloaders\n",
        "dataloaders = {\n",
        "     'train': DataLoader(ds_train,\n",
        "                         batch_size=BATCH_SZ,\n",
        "                         shuffle = True, \n",
        "                         num_workers=4,\n",
        "                         pin_memory=True),\n",
        "     'test' : DataLoader(ds_test,\n",
        "                         batch_size=BATCH_SZ,\n",
        "                         shuffle=False,\n",
        "                         num_workers=4,\n",
        "                         pin_memory=True),\n",
        "     'debug': DataLoader(ds_debug,\n",
        "                         batch_size=BATCH_SZ,\n",
        "                         shuffle=False,\n",
        "                         num_workers=4,\n",
        "                         pin_memory=True)\n",
        "     }\n",
        "\n",
        "# sanity check\n",
        "dl_sizes = {x: len(dataloaders[x]) for x in dataloaders.keys()}\n",
        "dl_sizes "
      ],
      "execution_count": 508,
      "outputs": [
        {
          "output_type": "execute_result",
          "data": {
            "text/plain": [
              "{'debug': 1, 'test': 77, 'train': 179}"
            ]
          },
          "metadata": {
            "tags": []
          },
          "execution_count": 508
        }
      ]
    },
    {
      "cell_type": "code",
      "metadata": {
        "id": "G2ZAQNy2QeFR",
        "colab": {
          "base_uri": "https://localhost:8080/"
        },
        "outputId": "23f6be74-aa0f-4a7b-aea8-5b143d942cf3"
      },
      "source": [
        "x_cont, x_cat, y= next(iter(dataloaders['train']))\n",
        "torch.mean(y.type(torch.float))"
      ],
      "execution_count": 509,
      "outputs": [
        {
          "output_type": "execute_result",
          "data": {
            "text/plain": [
              "tensor(0.2656)"
            ]
          },
          "metadata": {
            "tags": []
          },
          "execution_count": 509
        }
      ]
    },
    {
      "cell_type": "markdown",
      "metadata": {
        "id": "vz12PBQxAi_C"
      },
      "source": [
        "# Modelo"
      ]
    },
    {
      "cell_type": "code",
      "metadata": {
        "id": "q648boUFAssI",
        "colab": {
          "base_uri": "https://localhost:8080/"
        },
        "outputId": "a26f417c-103d-4daa-f5e2-bd9af66c71c6"
      },
      "source": [
        "class CatModel(nn.Module):\n",
        "    def __init__(self, embedding_sizes=emb_szs, n_cont=len(num_cols), out=2):\n",
        "        super().__init__()\n",
        "        self.embeddings = nn.ModuleList([nn.Embedding(categories, size) \n",
        "                    for categories,size in embedding_sizes])\n",
        "        \n",
        "        n_emb_sum = sum(e.embedding_dim for e in self.embeddings) \n",
        "        d_model   = n_emb_sum + n_cont\n",
        "\n",
        "        self.actv = nn.SELU()\n",
        "        \n",
        "        self.bnc  = nn.BatchNorm1d(n_cont)\n",
        "        \n",
        "        self.fc0  = nn.Linear(d_model, 2 * n_emb_sum)\n",
        "        self.drop = nn.Dropout()\n",
        "\n",
        "        self.fc1  = nn.Linear(2 * n_emb_sum, n_emb_sum)\n",
        "        self.bn1  = nn.BatchNorm1d(n_emb_sum)\n",
        "\n",
        "        self.fc2  = nn.Linear(n_emb_sum, out)\n",
        "\n",
        "    def forward(self, x_cont, x_cat):\n",
        "        xcat = [e(x_cat[:,i]) for i, e in enumerate(self.embeddings)]\n",
        "        xcat = torch.cat(xcat, dim=1)\n",
        "        xcat = self.drop(xcat) \n",
        "        \n",
        "        xcont = self.bnc(x_cont)\n",
        "        o = torch.cat((xcont, xcat), dim=1)\n",
        "        \n",
        "        o = self.fc0(o)\n",
        "        o = self.actv(o)\n",
        "\n",
        "        o = self.fc1(o)\n",
        "        o = self.bn1(o)\n",
        "        o = self.actv(o)\n",
        "        o = self.drop(o)\n",
        "\n",
        "\n",
        "        return self.fc2(o)\n",
        "#--------------------------------------------------------------------------------\n",
        "model = CatModel(\n",
        "    embedding_sizes=emb_szs, \n",
        "    n_cont=len(num_cols), \n",
        "    )\n",
        "with torch.no_grad():\n",
        "    print(model(x_cont, x_cat).shape)   "
      ],
      "execution_count": 544,
      "outputs": [
        {
          "output_type": "stream",
          "text": [
            "torch.Size([128, 2])\n"
          ],
          "name": "stdout"
        }
      ]
    },
    {
      "cell_type": "code",
      "metadata": {
        "id": "sRLtcXLpA_Kx",
        "colab": {
          "base_uri": "https://localhost:8080/"
        },
        "outputId": "7b765c25-31ec-4ecc-89c4-3d643ccb896d"
      },
      "source": [
        "def count_parameters(model):\n",
        "    return sum(p.numel() for p in model.parameters() if p.requires_grad)\n",
        "\n",
        "print('\\n','#' * 45,f'\\n # The model has {count_parameters(model):,}' \\\n",
        "       ' trainable parameters #\\n', '#' * 45,'\\n' )  \n",
        "model"
      ],
      "execution_count": 545,
      "outputs": [
        {
          "output_type": "stream",
          "text": [
            "\n",
            " ############################################# \n",
            " # The model has 60,832 trainable parameters #\n",
            " ############################################# \n",
            "\n"
          ],
          "name": "stdout"
        },
        {
          "output_type": "execute_result",
          "data": {
            "text/plain": [
              "CatModel(\n",
              "  (embeddings): ModuleList(\n",
              "    (0): Embedding(11, 11)\n",
              "    (1): Embedding(18, 18)\n",
              "    (2): Embedding(9, 9)\n",
              "    (3): Embedding(17, 17)\n",
              "    (4): Embedding(8, 8)\n",
              "    (5): Embedding(7, 7)\n",
              "    (6): Embedding(4, 4)\n",
              "    (7): Embedding(44, 44)\n",
              "  )\n",
              "  (actv): SELU()\n",
              "  (bnc): BatchNorm1d(6, eps=1e-05, momentum=0.1, affine=True, track_running_stats=True)\n",
              "  (fc0): Linear(in_features=124, out_features=236, bias=True)\n",
              "  (drop): Dropout(p=0.5, inplace=False)\n",
              "  (fc1): Linear(in_features=236, out_features=118, bias=True)\n",
              "  (bn1): BatchNorm1d(118, eps=1e-05, momentum=0.1, affine=True, track_running_stats=True)\n",
              "  (fc2): Linear(in_features=118, out_features=2, bias=True)\n",
              ")"
            ]
          },
          "metadata": {
            "tags": []
          },
          "execution_count": 545
        }
      ]
    },
    {
      "cell_type": "code",
      "metadata": {
        "id": "18qnRDY3MwI1"
      },
      "source": [
        "! git clone -q https://github.com/deep-spin/entmax.git\n",
        "! cp -r entmax/entmax/ .\n",
        "\n",
        "!pip install -q einops\n",
        "\n",
        "from einops import rearrange, reduce, asnumpy, parse_shape\n",
        "from einops.layers.torch import Rearrange, Reduce\n",
        "import math \n",
        "import copy\n",
        "\n",
        "\n",
        "#sparsemax, entmax\n",
        "from entmax import sparsemax, entmax15, entmax_bisect"
      ],
      "execution_count": null,
      "outputs": []
    },
    {
      "cell_type": "code",
      "metadata": {
        "colab": {
          "base_uri": "https://localhost:8080/"
        },
        "id": "0ZRbd-McMY-u",
        "outputId": "c59c0809-da71-41a5-8033-ec8fdfc614ff"
      },
      "source": [
        "def clones(module, N):\n",
        "    return nn.ModuleList([copy.deepcopy(module) for _ in range(N)])\n",
        "\n",
        "einsum = torch.einsum\n",
        "sqrt = math.sqrt\n",
        "\n",
        "class MultiHead(nn.Module):\n",
        "  def __init__(self, n_heads, d_model):\n",
        "    super(MultiHead, self).__init__()\n",
        "    assert d_model % n_heads == 0\n",
        "\n",
        "    self.n_heads = n_heads\n",
        "    self.d_k = d_model // n_heads; self.d_v = d_model // n_heads \n",
        "    self.W   = clones(nn.Linear(d_model, self.d_k * n_heads), 4)\n",
        "      \n",
        "  def forward(self, emb_x): \n",
        "    N, L,_= emb_x.size()\n",
        "\n",
        "    q = self.W[0](emb_x).view(N, L, self.n_heads, self.d_k).transpose(1,2) \n",
        "    k = self.W[1](emb_x).view(N, L, self.n_heads, self.d_k).transpose(1,2) \n",
        "    v = self.W[2](emb_x).view(N, L, self.n_heads, self.d_v).transpose(1,2) \n",
        "    \n",
        "    #------------------------------- scores  ---------------------------------\n",
        "    scores = einsum('bhld, bhsd -> bhls', q, k) / sqrt(self.d_k) # (N,H,L,dq)x(N,H,L,dk)=(N,H,L,L)\n",
        "    # scores = F.softmax(scores, dim=-1)\n",
        "    scores = entmax_bisect(scores, dim=-1)\n",
        "    #------------------------------ value e contexto -------------------------\n",
        "    att = einsum('bhli, bhiv -> bhlv', scores, v)     # (N,H,L,L)x(N,H,L,dv)=(N,H,L,dv)\n",
        "    # att = att.transpose(1,2).contiguous()           #  (N,L,H,L)\n",
        "    # att = att.view(N, L, -1)  # N, L, (H*dv)  \n",
        "    att = rearrange(att, 'n h l dv -> n l (h dv)')\n",
        "    \n",
        "    return self.W[-1](att)\n",
        "\n",
        "class CatModel_ATT(nn.Module):\n",
        "    def __init__(\n",
        "        self, \n",
        "        cat_dims=cat_dims, \n",
        "        n_cont=len(num_cols), \n",
        "        d_model=128, \n",
        "        n_head=4, \n",
        "        out=2):\n",
        "        super().__init__()\n",
        "\n",
        "        self.d_model    = d_model\n",
        "        self.cont_feats = n_cont\n",
        "\n",
        "        self.mha  = MultiHead(n_head, d_model)\n",
        "\n",
        "        self.cat_emb = nn.ModuleList([nn.Embedding(cat_dim, d_model) \n",
        "                    for cat_dim in cat_dims])\n",
        "        self.cont_emb   = nn.Linear(1, d_model)\n",
        "\n",
        "        self.actv = nn.SELU()\n",
        "        \n",
        "        self.fc0  = nn.Linear(d_model * (self.cont_feats + len(cat_dims)), 2 * d_model)\n",
        "        self.ln0  = nn.LayerNorm(2 * d_model)\n",
        "\n",
        "        self.fc1  = nn.Linear(2 * d_model, d_model)\n",
        "        self.ln1  = nn.LayerNorm(d_model)\n",
        "\n",
        "        self.fc2  = nn.Linear(d_model, out)\n",
        "\n",
        "    def forward(self, x_cont, x_cat):\n",
        "        xcat  = torch.zeros(x_cat.shape[0], len(cat_dims), self.d_model).to(x_cat.device)\n",
        "        for i, emb in enumerate(self.cat_emb):\n",
        "            xi = x_cat[:, i].long()\n",
        "            xemb = emb(xi)\n",
        "            xcat[:, i,:] = xemb\n",
        "\n",
        "        xcont = self.cont_emb(x_cont.unsqueeze(-1))\n",
        "        \n",
        "        o = torch.cat((xcont, xcat), dim=1)\n",
        "        mha = self.mha(torch.cat((xcont, xcat), dim=1))\n",
        "        o = mha.view(o.shape[0], -1) \n",
        "\n",
        "        o = self.fc0(o)\n",
        "        o = self.ln0(o)\n",
        "        o = self.actv(o)\n",
        "\n",
        "        o = self.fc1(o)\n",
        "        o = self.ln1(o)\n",
        "        o = self.actv(o)\n",
        "\n",
        "        return self.fc2(o)\n",
        "#--------------------------------------------------------------------------------\n",
        "model = CatModel_ATT(\n",
        "    cat_dims=cat_dims, \n",
        "    n_cont=len(num_cols),\n",
        "    d_model=128,\n",
        "    n_head=4,\n",
        "    )\n",
        "with torch.no_grad():\n",
        "    print(model(x_cont, x_cat).shape)    "
      ],
      "execution_count": null,
      "outputs": [
        {
          "output_type": "stream",
          "text": [
            "torch.Size([128, 2])\n"
          ],
          "name": "stdout"
        }
      ]
    },
    {
      "cell_type": "code",
      "metadata": {
        "colab": {
          "base_uri": "https://localhost:8080/"
        },
        "id": "CLF2G3-oO10U",
        "outputId": "4022fcbc-bedf-4707-af03-ec848db56c8d"
      },
      "source": [
        "def count_parameters(model):\n",
        "    return sum(p.numel() for p in model.parameters() if p.requires_grad)\n",
        "\n",
        "print('\\n','#' * 45,f'\\n # The model has {count_parameters(model):,}' \\\n",
        "       ' trainable parameters #\\n', '#' * 45,'\\n' )  \n",
        "model"
      ],
      "execution_count": null,
      "outputs": [
        {
          "output_type": "stream",
          "text": [
            "\n",
            " ############################################# \n",
            " # The model has 573,954 trainable parameters #\n",
            " ############################################# \n",
            "\n"
          ],
          "name": "stdout"
        },
        {
          "output_type": "execute_result",
          "data": {
            "text/plain": [
              "CatModel_ATT(\n",
              "  (mha): MultiHead(\n",
              "    (W): ModuleList(\n",
              "      (0): Linear(in_features=128, out_features=128, bias=True)\n",
              "      (1): Linear(in_features=128, out_features=128, bias=True)\n",
              "      (2): Linear(in_features=128, out_features=128, bias=True)\n",
              "      (3): Linear(in_features=128, out_features=128, bias=True)\n",
              "    )\n",
              "  )\n",
              "  (cat_emb): ModuleList(\n",
              "    (0): Embedding(10, 128)\n",
              "    (1): Embedding(18, 128)\n",
              "    (2): Embedding(9, 128)\n",
              "    (3): Embedding(16, 128)\n",
              "    (4): Embedding(8, 128)\n",
              "    (5): Embedding(7, 128)\n",
              "    (6): Embedding(4, 128)\n",
              "    (7): Embedding(43, 128)\n",
              "  )\n",
              "  (cont_emb): Linear(in_features=1, out_features=128, bias=True)\n",
              "  (actv): SELU()\n",
              "  (fc0): Linear(in_features=1792, out_features=256, bias=True)\n",
              "  (ln0): LayerNorm((256,), eps=1e-05, elementwise_affine=True)\n",
              "  (fc1): Linear(in_features=256, out_features=128, bias=True)\n",
              "  (ln1): LayerNorm((128,), eps=1e-05, elementwise_affine=True)\n",
              "  (fc2): Linear(in_features=128, out_features=2, bias=True)\n",
              ")"
            ]
          },
          "metadata": {
            "tags": []
          },
          "execution_count": 385
        }
      ]
    },
    {
      "cell_type": "markdown",
      "metadata": {
        "id": "8D2pwp6fBGhx"
      },
      "source": [
        "# Treino"
      ]
    },
    {
      "cell_type": "code",
      "metadata": {
        "id": "gye0TYAYBViY"
      },
      "source": [
        "def train(model, device, train_loader, loss_fn, optimizer):\n",
        "    model.train()\n",
        "    loss_train = []\n",
        "    for x_cont, x_cat, y in train_loader:\n",
        "        optimizer.zero_grad()\n",
        "        y_pred = model(\n",
        "            x_cont.to(device),\n",
        "            x_cat.to(device),\n",
        "            )\n",
        "        loss = loss_fn(y_pred, y.to(device))\n",
        "        loss_train.append(loss.item())\n",
        "    \n",
        "        loss.backward()\n",
        "        optimizer.step()\n",
        "  \n",
        "    ave_train_loss = sum(loss_train) / len(loss_train)\n",
        "    return ave_train_loss\n",
        "\n",
        "def test(model, device, valid_loader, loss_fn):\n",
        "    model.eval()\n",
        "    preds, trues, loss_test = [],[],[]\n",
        "    for x_cont, x_cat, y in valid_loader:\n",
        "        with torch.no_grad():\n",
        "            y_pred = model(\n",
        "            x_cont.to(device),\n",
        "            x_cat.to(device),\n",
        "            )\n",
        "\n",
        "        loss = loss_fn(y_pred, y.to(device))\n",
        "        loss_test.append(loss.item())\n",
        "      \n",
        "        preds += y_pred.argmax(-1).cpu().numpy().tolist()\n",
        "        trues += y.cpu().numpy().tolist()\n",
        "\n",
        "    ave_test_loss = sum(loss_test) / len(loss_test)\n",
        "    \n",
        "    preds = np.array(preds)\n",
        "    trues = np.array(trues)\n",
        "    acc = (1.* (preds==trues)).mean() \n",
        "    return ave_test_loss, f1_score(trues, preds), acc"
      ],
      "execution_count": 546,
      "outputs": []
    },
    {
      "cell_type": "markdown",
      "metadata": {
        "id": "MmEdJmcOraR5"
      },
      "source": [
        "### LabelSmoothing"
      ]
    },
    {
      "cell_type": "code",
      "metadata": {
        "id": "f6YOw8sxrZnp"
      },
      "source": [
        "class LabelSmoothing(nn.Module):\n",
        "    def __init__(self, smoothing = 0.1):\n",
        "        assert 0.0 <= smoothing < 1.0, f\"got smoothing={smoothing}\"\n",
        "        super(LabelSmoothing, self).__init__()\n",
        "        self.smoothing = smoothing\n",
        "\n",
        "    def forward(self, input, target):\n",
        "        target = target.detach()\n",
        "        log = F.log_softmax(input, dim=1)\n",
        "        oh = torch.ones_like(input).detach_()*(self.smoothing/input.size(1))\n",
        "        oh = oh.scatter_(1, target.unsqueeze(1),\n",
        "                        (1.0 - self.smoothing + self.smoothing/input.size(1)))\n",
        "        return ((-oh*log).sum(dim=1).mean())"
      ],
      "execution_count": 547,
      "outputs": []
    },
    {
      "cell_type": "markdown",
      "metadata": {
        "id": "8-ZfIleCESXH"
      },
      "source": [
        "# <span style=\"color:orange\"> Treino completo"
      ]
    },
    {
      "cell_type": "code",
      "metadata": {
        "id": "IJr14D5p_H74",
        "colab": {
          "base_uri": "https://localhost:8080/"
        },
        "outputId": "75a13d36-b3fd-4f21-e7ff-1d65a05402c6"
      },
      "source": [
        "from sklearn.metrics import f1_score\n",
        "\n",
        "start = torch.cuda.Event(enable_timing=True)\n",
        "end = torch.cuda.Event(enable_timing=True)\n",
        "#---------------------------------------------------------------------------------\n",
        "deterministic()\n",
        "N_EPOCHS = 30\n",
        "\n",
        "model = CatModel(\n",
        "    embedding_sizes=emb_szs, \n",
        "    n_cont=len(num_cols), \n",
        "    ).to(device)\n",
        "\n",
        "\n",
        "criterion = LabelSmoothing()\n",
        "optimizer =  torch.optim.Adam(model.parameters())\n",
        "#---------------------------------------------------------------------------------\n",
        "start.record()\n",
        "for step in range(1, N_EPOCHS+1):\n",
        "    l_train    = train(model, device, dataloaders['train'], criterion, optimizer)\n",
        "    l_test, f1,_ = test( model, device, dataloaders['test'],  criterion)\n",
        "    torch.save(model.state_dict(), os.path.join('', 'Epoca-{}.pth'.format(step)))\n",
        "    print(f'Epoch [{step}/{N_EPOCHS}] |', end=' ')\n",
        "    print(f'Train Loss: {l_train:.3f} -- Test Loss: {l_test:.3f} -- F1: {f1:.3}')\n",
        "end.record()\n",
        "torch.cuda.synchronize()    \n",
        "#---------------------------------------------------------------------------------\n",
        "print(f'\\nEnd of training')\n",
        "print(f'Tempo: {start.elapsed_time(end)/1000/60 :.3f} min.')"
      ],
      "execution_count": 548,
      "outputs": [
        {
          "output_type": "stream",
          "text": [
            "Deterministic experiment, seed: 2357\n",
            "Epoch [1/30] | Train Loss: 0.551 -- Test Loss: 0.447 -- F1: 0.664\n",
            "Epoch [2/30] | Train Loss: 0.468 -- Test Loss: 0.428 -- F1: 0.632\n",
            "Epoch [3/30] | Train Loss: 0.456 -- Test Loss: 0.427 -- F1: 0.624\n",
            "Epoch [4/30] | Train Loss: 0.447 -- Test Loss: 0.427 -- F1: 0.639\n",
            "Epoch [5/30] | Train Loss: 0.442 -- Test Loss: 0.425 -- F1: 0.637\n",
            "Epoch [6/30] | Train Loss: 0.440 -- Test Loss: 0.423 -- F1: 0.648\n",
            "Epoch [7/30] | Train Loss: 0.438 -- Test Loss: 0.424 -- F1: 0.642\n",
            "Epoch [8/30] | Train Loss: 0.436 -- Test Loss: 0.424 -- F1: 0.635\n",
            "Epoch [9/30] | Train Loss: 0.435 -- Test Loss: 0.424 -- F1: 0.648\n",
            "Epoch [10/30] | Train Loss: 0.435 -- Test Loss: 0.422 -- F1: 0.653\n",
            "Epoch [11/30] | Train Loss: 0.433 -- Test Loss: 0.424 -- F1: 0.661\n",
            "Epoch [12/30] | Train Loss: 0.432 -- Test Loss: 0.424 -- F1: 0.619\n",
            "Epoch [13/30] | Train Loss: 0.430 -- Test Loss: 0.422 -- F1: 0.654\n",
            "Epoch [14/30] | Train Loss: 0.432 -- Test Loss: 0.422 -- F1: 0.641\n",
            "Epoch [15/30] | Train Loss: 0.430 -- Test Loss: 0.423 -- F1: 0.66\n",
            "Epoch [16/30] | Train Loss: 0.428 -- Test Loss: 0.422 -- F1: 0.638\n",
            "Epoch [17/30] | Train Loss: 0.429 -- Test Loss: 0.421 -- F1: 0.634\n",
            "Epoch [18/30] | Train Loss: 0.427 -- Test Loss: 0.422 -- F1: 0.64\n",
            "Epoch [19/30] | Train Loss: 0.429 -- Test Loss: 0.422 -- F1: 0.667\n",
            "Epoch [20/30] | Train Loss: 0.427 -- Test Loss: 0.421 -- F1: 0.67\n",
            "Epoch [21/30] | Train Loss: 0.426 -- Test Loss: 0.421 -- F1: 0.654\n",
            "Epoch [22/30] | Train Loss: 0.426 -- Test Loss: 0.428 -- F1: 0.684\n",
            "Epoch [23/30] | Train Loss: 0.425 -- Test Loss: 0.423 -- F1: 0.641\n",
            "Epoch [24/30] | Train Loss: 0.426 -- Test Loss: 0.421 -- F1: 0.666\n",
            "Epoch [25/30] | Train Loss: 0.425 -- Test Loss: 0.422 -- F1: 0.667\n",
            "Epoch [26/30] | Train Loss: 0.426 -- Test Loss: 0.420 -- F1: 0.668\n",
            "Epoch [27/30] | Train Loss: 0.425 -- Test Loss: 0.422 -- F1: 0.641\n",
            "Epoch [28/30] | Train Loss: 0.425 -- Test Loss: 0.423 -- F1: 0.63\n",
            "Epoch [29/30] | Train Loss: 0.423 -- Test Loss: 0.420 -- F1: 0.665\n",
            "Epoch [30/30] | Train Loss: 0.423 -- Test Loss: 0.423 -- F1: 0.686\n",
            "\n",
            "End of training\n",
            "Tempo: 1.169 min.\n"
          ],
          "name": "stdout"
        }
      ]
    },
    {
      "cell_type": "markdown",
      "metadata": {
        "id": "039Qjhr6LUG_"
      },
      "source": [
        "#  <span style=\"color:orange\"> Validação no conj. de teste\n"
      ]
    },
    {
      "cell_type": "code",
      "metadata": {
        "id": "HlIw4vY5drmf"
      },
      "source": [
        "def logits_and_trues(model, dloader, device=device):\n",
        "    model.eval()\n",
        "    logits, trues = [],[]\n",
        "    for x_cont, x_cat, y in dloader:\n",
        "        with torch.no_grad():\n",
        "            y_pred = model(\n",
        "            x_cont.to(device),\n",
        "            x_cat.to(device),\n",
        "            )\n",
        "\n",
        "        logits.extend(y_pred.to('cpu').numpy().tolist())\n",
        "        trues.extend(y.to('cpu').numpy().tolist())\n",
        "    \n",
        "    prob  = F.softmax(torch.tensor(logits), dim=1).detach().numpy()\n",
        "    probs = prob[:,1]\n",
        "    probs = np.array(probs)\n",
        "    trues = np.array(trues)\n",
        "    err_ =  far_vs_frr(trues, probs, fig=False)\n",
        "  \n",
        "    return probs, trues, err_"
      ],
      "execution_count": 549,
      "outputs": []
    },
    {
      "cell_type": "code",
      "metadata": {
        "id": "2LETRF7MpApO"
      },
      "source": [
        "def far_vs_frr(labels, outs, steps=1000, fig=False):\n",
        "    lives = outs[labels == 1]\n",
        "    spoofs = outs[labels == 0]\n",
        "    max_live = max(lives)\n",
        "    min_spoof = min(spoofs)\n",
        "    num_lives = len(lives)\n",
        "    num_spoofs = len(spoofs)\n",
        "    histogram = np.linspace(0,1,num=steps)\n",
        "    FRR = np.array([100*np.mean(spoofs >= hist) for hist in histogram])\n",
        "    FAR = np.array([100*np.mean(lives < hist) for hist in histogram])\n",
        "    a = FRR[FAR - FRR<= 0]\n",
        "    s_a = len(a)\n",
        "    if (FAR[s_a] - FRR[s_a]) <= (FRR[s_a+1]-FAR[s_a+1]):\n",
        "        ERR = (FAR[s_a] + FRR[s_a])/2\n",
        "        ERR_index = s_a\n",
        "    else:\n",
        "        ERR = (FAR[s_a+1] + FRR[s_a+1])/2\n",
        "        ERR_index = s_a+1\n",
        "    \n",
        "    if fig:\n",
        "        print(f'Negados: {num_lives} Aprovados: {num_spoofs}')\n",
        "        figure = plt.figure(num=1, figsize=(10, 8), dpi=80, facecolor='w', edgecolor='k')\n",
        "        ax = figure.add_subplot(111)\n",
        "        plt.plot(histogram, FRR, color='r', label='FRR', lw=2)\n",
        "        plt.plot(histogram, FAR, color='navy', label='FAR', lw=2)\n",
        "        plt.plot([histogram[ERR_index]], [ERR], marker='o', markersize=12, color=\"lime\", label=f'ERR: {ERR :.3}')\n",
        "        axes = plt.gca()\n",
        "        axes.set_ylim([0, 4*ERR])\n",
        "        plt.title('FAR (erro tipo I) vs FRR (erro tipo II)')\n",
        "        plt.legend()\n",
        "        plt.show()\n",
        "        return ERR, histogram[ERR_index]\n",
        "    else:\n",
        "        return ERR"
      ],
      "execution_count": 550,
      "outputs": []
    },
    {
      "cell_type": "markdown",
      "metadata": {
        "id": "gGKPONUrnTge"
      },
      "source": [
        "# Carrega todas as épocas salvas e verifica o melhor F$_1$ \n",
        "\n"
      ]
    },
    {
      "cell_type": "code",
      "metadata": {
        "id": "M-YjtTMcih9y",
        "colab": {
          "base_uri": "https://localhost:8080/"
        },
        "outputId": "3f6cc4d2-e8ac-4438-eca8-efa92172c57c"
      },
      "source": [
        "step0,step1,step2,best_recall, best,low_err = 0,0,0,0,0,100\n",
        "for i in range(1,N_EPOCHS+1):\n",
        "    model = CatModel(\n",
        "    embedding_sizes=emb_szs, \n",
        "    n_cont=len(num_cols), \n",
        "    ).to(device)\n",
        "    \n",
        "    string = '/content/Epoca-'+str(i)+'.pth'\n",
        "    model.load_state_dict(torch.load(string, map_location=device))\n",
        "    \n",
        "    probs, trues, _err = logits_and_trues(\n",
        "        model, \n",
        "        dataloaders['test'], \n",
        "        device=device\n",
        "        )\n",
        "    \n",
        "    fpr, tpr, thresholds = roc_curve(trues, probs)\n",
        "    precision, recall, thresh = precision_recall_curve(trues, probs)\n",
        "    f1_score = 2*precision*recall/(precision + recall)\n",
        "    f1_score = f1_score[:-1]\n",
        "    precision = precision[:-1]\n",
        "    recall = recall[:-1]\n",
        "    f1_score[np.isnan(f1_score)] = -1.0\n",
        "    bestF1 = np.argmax(f1_score)\n",
        "    \n",
        "    if f1_score[bestF1] > best:\n",
        "        best = f1_score[bestF1]\n",
        "        step0 = i\n",
        "\n",
        "    if recall[bestF1] > best_recall:\n",
        "        best_recall = recall[bestF1]\n",
        "        step2 = i\n",
        "\n",
        "\n",
        "    if _err < low_err:\n",
        "        low_err = _err\n",
        "        step1 = i\n",
        "    \n",
        "    print(f'Epoca: {i}')\n",
        "    print(f'   O threshold do melhor F1 score: >>> {thresh[bestF1] :.3} <<<')\n",
        "    print(f'   F1: {f1_score[bestF1] :.3} -- ', end='')\n",
        "    print(f'Precision {thresh[bestF1] :.3}: {precision[bestF1] :.3} -- ', end='')\n",
        "    print(f'Recall {thresh[bestF1] :.3}: {recall[bestF1] :.3}')\n",
        "    print(f'   ERR: {_err :.3}\\n')        "
      ],
      "execution_count": 551,
      "outputs": [
        {
          "output_type": "stream",
          "text": [
            "Epoca: 1\n",
            "   O threshold do melhor F1 score: >>> 0.425 <<<\n",
            "   F1: 0.671 -- Precision 0.425: 0.583 -- Recall 0.425: 0.792\n",
            "   ERR: 19.2\n",
            "\n",
            "Epoca: 2\n",
            "   O threshold do melhor F1 score: >>> 0.366 <<<\n",
            "   F1: 0.674 -- Precision 0.366: 0.612 -- Recall 0.366: 0.75\n",
            "   ERR: 19.2\n",
            "\n",
            "Epoca: 3\n",
            "   O threshold do melhor F1 score: >>> 0.342 <<<\n",
            "   F1: 0.679 -- Precision 0.342: 0.614 -- Recall 0.342: 0.759\n",
            "   ERR: 19.1\n",
            "\n",
            "Epoca: 4\n",
            "   O threshold do melhor F1 score: >>> 0.372 <<<\n",
            "   F1: 0.678 -- Precision 0.372: 0.613 -- Recall 0.372: 0.759\n",
            "   ERR: 19.1\n",
            "\n",
            "Epoca: 5\n",
            "   O threshold do melhor F1 score: >>> 0.321 <<<\n",
            "   F1: 0.678 -- Precision 0.321: 0.595 -- Recall 0.321: 0.788\n",
            "   ERR: 19.0\n",
            "\n",
            "Epoca: 6\n",
            "   O threshold do melhor F1 score: >>> 0.361 <<<\n",
            "   F1: 0.683 -- Precision 0.361: 0.611 -- Recall 0.361: 0.773\n",
            "   ERR: 18.4\n",
            "\n",
            "Epoca: 7\n",
            "   O threshold do melhor F1 score: >>> 0.327 <<<\n",
            "   F1: 0.682 -- Precision 0.327: 0.594 -- Recall 0.327: 0.801\n",
            "   ERR: 18.7\n",
            "\n",
            "Epoca: 8\n",
            "   O threshold do melhor F1 score: >>> 0.358 <<<\n",
            "   F1: 0.68 -- Precision 0.358: 0.626 -- Recall 0.358: 0.744\n",
            "   ERR: 18.8\n",
            "\n",
            "Epoca: 9\n",
            "   O threshold do melhor F1 score: >>> 0.322 <<<\n",
            "   F1: 0.681 -- Precision 0.322: 0.596 -- Recall 0.322: 0.795\n",
            "   ERR: 18.7\n",
            "\n",
            "Epoca: 10\n",
            "   O threshold do melhor F1 score: >>> 0.342 <<<\n",
            "   F1: 0.684 -- Precision 0.342: 0.607 -- Recall 0.342: 0.783\n",
            "   ERR: 18.5\n",
            "\n",
            "Epoca: 11\n",
            "   O threshold do melhor F1 score: >>> 0.368 <<<\n",
            "   F1: 0.683 -- Precision 0.368: 0.611 -- Recall 0.368: 0.774\n",
            "   ERR: 18.7\n",
            "\n",
            "Epoca: 12\n",
            "   O threshold do melhor F1 score: >>> 0.307 <<<\n",
            "   F1: 0.686 -- Precision 0.307: 0.604 -- Recall 0.307: 0.793\n",
            "   ERR: 18.4\n",
            "\n",
            "Epoca: 13\n",
            "   O threshold do melhor F1 score: >>> 0.356 <<<\n",
            "   F1: 0.684 -- Precision 0.356: 0.613 -- Recall 0.356: 0.773\n",
            "   ERR: 18.5\n",
            "\n",
            "Epoca: 14\n",
            "   O threshold do melhor F1 score: >>> 0.353 <<<\n",
            "   F1: 0.683 -- Precision 0.353: 0.625 -- Recall 0.353: 0.755\n",
            "   ERR: 18.6\n",
            "\n",
            "Epoca: 15\n",
            "   O threshold do melhor F1 score: >>> 0.391 <<<\n",
            "   F1: 0.687 -- Precision 0.391: 0.626 -- Recall 0.391: 0.761\n",
            "   ERR: 18.3\n",
            "\n",
            "Epoca: 16\n",
            "   O threshold do melhor F1 score: >>> 0.334 <<<\n",
            "   F1: 0.683 -- Precision 0.334: 0.62 -- Recall 0.334: 0.762\n",
            "   ERR: 18.8\n",
            "\n",
            "Epoca: 17\n",
            "   O threshold do melhor F1 score: >>> 0.338 <<<\n",
            "   F1: 0.686 -- Precision 0.338: 0.624 -- Recall 0.338: 0.763\n",
            "   ERR: 18.4\n",
            "\n",
            "Epoca: 18\n",
            "   O threshold do melhor F1 score: >>> 0.359 <<<\n",
            "   F1: 0.687 -- Precision 0.359: 0.626 -- Recall 0.359: 0.763\n",
            "   ERR: 18.5\n",
            "\n",
            "Epoca: 19\n",
            "   O threshold do melhor F1 score: >>> 0.348 <<<\n",
            "   F1: 0.686 -- Precision 0.348: 0.597 -- Recall 0.348: 0.805\n",
            "   ERR: 18.4\n",
            "\n",
            "Epoca: 20\n",
            "   O threshold do melhor F1 score: >>> 0.386 <<<\n",
            "   F1: 0.688 -- Precision 0.386: 0.619 -- Recall 0.386: 0.773\n",
            "   ERR: 18.5\n",
            "\n",
            "Epoca: 21\n",
            "   O threshold do melhor F1 score: >>> 0.337 <<<\n",
            "   F1: 0.688 -- Precision 0.337: 0.611 -- Recall 0.337: 0.787\n",
            "   ERR: 18.5\n",
            "\n",
            "Epoca: 22\n",
            "   O threshold do melhor F1 score: >>> 0.454 <<<\n",
            "   F1: 0.689 -- Precision 0.454: 0.623 -- Recall 0.454: 0.771\n",
            "   ERR: 18.5\n",
            "\n",
            "Epoca: 23\n",
            "   O threshold do melhor F1 score: >>> 0.375 <<<\n",
            "   F1: 0.689 -- Precision 0.375: 0.639 -- Recall 0.375: 0.747\n",
            "   ERR: 18.4\n",
            "\n",
            "Epoca: 24\n",
            "   O threshold do melhor F1 score: >>> 0.417 <<<\n",
            "   F1: 0.689 -- Precision 0.417: 0.646 -- Recall 0.417: 0.738\n",
            "   ERR: 18.4\n",
            "\n",
            "Epoca: 25\n",
            "   O threshold do melhor F1 score: >>> 0.407 <<<\n",
            "   F1: 0.69 -- Precision 0.407: 0.648 -- Recall 0.407: 0.739\n",
            "   ERR: 18.3\n",
            "\n",
            "Epoca: 26\n",
            "   O threshold do melhor F1 score: >>> 0.409 <<<\n",
            "   F1: 0.692 -- Precision 0.409: 0.642 -- Recall 0.409: 0.75\n",
            "   ERR: 18.3\n",
            "\n",
            "Epoca: 27\n",
            "   O threshold do melhor F1 score: >>> 0.316 <<<\n",
            "   F1: 0.691 -- Precision 0.316: 0.629 -- Recall 0.316: 0.767\n",
            "   ERR: 18.2\n",
            "\n",
            "Epoca: 28\n",
            "   O threshold do melhor F1 score: >>> 0.328 <<<\n",
            "   F1: 0.688 -- Precision 0.328: 0.633 -- Recall 0.328: 0.753\n",
            "   ERR: 18.7\n",
            "\n",
            "Epoca: 29\n",
            "   O threshold do melhor F1 score: >>> 0.425 <<<\n",
            "   F1: 0.691 -- Precision 0.425: 0.66 -- Recall 0.425: 0.724\n",
            "   ERR: 18.2\n",
            "\n",
            "Epoca: 30\n",
            "   O threshold do melhor F1 score: >>> 0.436 <<<\n",
            "   F1: 0.69 -- Precision 0.436: 0.634 -- Recall 0.436: 0.757\n",
            "   ERR: 18.5\n",
            "\n"
          ],
          "name": "stdout"
        }
      ]
    },
    {
      "cell_type": "code",
      "metadata": {
        "id": "U-R4KlZJfIhO",
        "colab": {
          "base_uri": "https://localhost:8080/"
        },
        "outputId": "294caba2-1b61-4ba8-81d0-abf911a22b08"
      },
      "source": [
        "print(f'Melhor F1: {best:.3} na época: {step0}') \n",
        "print(f'Melhor Err: {low_err:.3} na época: {step1}') \n",
        "print(f'Melhor Recall: {best_recall:.3} na época: {step2}') "
      ],
      "execution_count": 552,
      "outputs": [
        {
          "output_type": "stream",
          "text": [
            "Melhor F1: 0.692 na época: 26\n",
            "Melhor Err: 18.2 na época: 27\n",
            "Melhor Recall: 0.805 na época: 19\n"
          ],
          "name": "stdout"
        }
      ]
    },
    {
      "cell_type": "code",
      "metadata": {
        "id": "fY_wyc-UiC4x",
        "colab": {
          "base_uri": "https://localhost:8080/",
          "height": 359
        },
        "outputId": "699dc156-6db5-47f0-e4b7-a53430969096"
      },
      "source": [
        "model = CatModel(\n",
        "    embedding_sizes=emb_szs, \n",
        "    n_cont=len(num_cols), \n",
        "    ).to(device)\n",
        "    \n",
        "string = '/content/Epoca-'+str(step0)+'.pth'\n",
        "model.load_state_dict(torch.load(string, map_location=device))\n",
        "\n",
        "probs, trues, err_ = logits_and_trues(model, dataloaders['test'], device=device)\n",
        "\n",
        "data = pd.DataFrame({'Target':trues, 'Prob':probs})\n",
        "data.head(10)"
      ],
      "execution_count": 553,
      "outputs": [
        {
          "output_type": "execute_result",
          "data": {
            "text/html": [
              "<div>\n",
              "<style scoped>\n",
              "    .dataframe tbody tr th:only-of-type {\n",
              "        vertical-align: middle;\n",
              "    }\n",
              "\n",
              "    .dataframe tbody tr th {\n",
              "        vertical-align: top;\n",
              "    }\n",
              "\n",
              "    .dataframe thead th {\n",
              "        text-align: right;\n",
              "    }\n",
              "</style>\n",
              "<table border=\"1\" class=\"dataframe\">\n",
              "  <thead>\n",
              "    <tr style=\"text-align: right;\">\n",
              "      <th></th>\n",
              "      <th>Target</th>\n",
              "      <th>Prob</th>\n",
              "    </tr>\n",
              "  </thead>\n",
              "  <tbody>\n",
              "    <tr>\n",
              "      <th>0</th>\n",
              "      <td>0</td>\n",
              "      <td>0.511797</td>\n",
              "    </tr>\n",
              "    <tr>\n",
              "      <th>1</th>\n",
              "      <td>1</td>\n",
              "      <td>0.672148</td>\n",
              "    </tr>\n",
              "    <tr>\n",
              "      <th>2</th>\n",
              "      <td>0</td>\n",
              "      <td>0.088249</td>\n",
              "    </tr>\n",
              "    <tr>\n",
              "      <th>3</th>\n",
              "      <td>0</td>\n",
              "      <td>0.039849</td>\n",
              "    </tr>\n",
              "    <tr>\n",
              "      <th>4</th>\n",
              "      <td>0</td>\n",
              "      <td>0.462832</td>\n",
              "    </tr>\n",
              "    <tr>\n",
              "      <th>5</th>\n",
              "      <td>0</td>\n",
              "      <td>0.474276</td>\n",
              "    </tr>\n",
              "    <tr>\n",
              "      <th>6</th>\n",
              "      <td>0</td>\n",
              "      <td>0.171636</td>\n",
              "    </tr>\n",
              "    <tr>\n",
              "      <th>7</th>\n",
              "      <td>0</td>\n",
              "      <td>0.076938</td>\n",
              "    </tr>\n",
              "    <tr>\n",
              "      <th>8</th>\n",
              "      <td>0</td>\n",
              "      <td>0.057900</td>\n",
              "    </tr>\n",
              "    <tr>\n",
              "      <th>9</th>\n",
              "      <td>0</td>\n",
              "      <td>0.046780</td>\n",
              "    </tr>\n",
              "  </tbody>\n",
              "</table>\n",
              "</div>"
            ],
            "text/plain": [
              "   Target      Prob\n",
              "0       0  0.511797\n",
              "1       1  0.672148\n",
              "2       0  0.088249\n",
              "3       0  0.039849\n",
              "4       0  0.462832\n",
              "5       0  0.474276\n",
              "6       0  0.171636\n",
              "7       0  0.076938\n",
              "8       0  0.057900\n",
              "9       0  0.046780"
            ]
          },
          "metadata": {
            "tags": []
          },
          "execution_count": 553
        }
      ]
    },
    {
      "cell_type": "code",
      "metadata": {
        "id": "kk5CcCL_dAeZ"
      },
      "source": [
        "FP = data[data.Target==1].sort_values(by='Prob')\n",
        "FN = data[data.Target==0].sort_values(by='Prob', ascending=False)"
      ],
      "execution_count": 554,
      "outputs": []
    },
    {
      "cell_type": "code",
      "metadata": {
        "id": "2aoeypaPw5MO",
        "colab": {
          "base_uri": "https://localhost:8080/",
          "height": 419
        },
        "outputId": "eec3999f-cc18-4c3d-d3f1-3978c9483100"
      },
      "source": [
        "FP"
      ],
      "execution_count": 555,
      "outputs": [
        {
          "output_type": "execute_result",
          "data": {
            "text/html": [
              "<div>\n",
              "<style scoped>\n",
              "    .dataframe tbody tr th:only-of-type {\n",
              "        vertical-align: middle;\n",
              "    }\n",
              "\n",
              "    .dataframe tbody tr th {\n",
              "        vertical-align: top;\n",
              "    }\n",
              "\n",
              "    .dataframe thead th {\n",
              "        text-align: right;\n",
              "    }\n",
              "</style>\n",
              "<table border=\"1\" class=\"dataframe\">\n",
              "  <thead>\n",
              "    <tr style=\"text-align: right;\">\n",
              "      <th></th>\n",
              "      <th>Target</th>\n",
              "      <th>Prob</th>\n",
              "    </tr>\n",
              "  </thead>\n",
              "  <tbody>\n",
              "    <tr>\n",
              "      <th>9760</th>\n",
              "      <td>1</td>\n",
              "      <td>0.048056</td>\n",
              "    </tr>\n",
              "    <tr>\n",
              "      <th>1125</th>\n",
              "      <td>1</td>\n",
              "      <td>0.051674</td>\n",
              "    </tr>\n",
              "    <tr>\n",
              "      <th>725</th>\n",
              "      <td>1</td>\n",
              "      <td>0.057722</td>\n",
              "    </tr>\n",
              "    <tr>\n",
              "      <th>3064</th>\n",
              "      <td>1</td>\n",
              "      <td>0.060347</td>\n",
              "    </tr>\n",
              "    <tr>\n",
              "      <th>3463</th>\n",
              "      <td>1</td>\n",
              "      <td>0.063334</td>\n",
              "    </tr>\n",
              "    <tr>\n",
              "      <th>...</th>\n",
              "      <td>...</td>\n",
              "      <td>...</td>\n",
              "    </tr>\n",
              "    <tr>\n",
              "      <th>1536</th>\n",
              "      <td>1</td>\n",
              "      <td>0.936683</td>\n",
              "    </tr>\n",
              "    <tr>\n",
              "      <th>8537</th>\n",
              "      <td>1</td>\n",
              "      <td>0.936921</td>\n",
              "    </tr>\n",
              "    <tr>\n",
              "      <th>802</th>\n",
              "      <td>1</td>\n",
              "      <td>0.942198</td>\n",
              "    </tr>\n",
              "    <tr>\n",
              "      <th>3082</th>\n",
              "      <td>1</td>\n",
              "      <td>0.945022</td>\n",
              "    </tr>\n",
              "    <tr>\n",
              "      <th>183</th>\n",
              "      <td>1</td>\n",
              "      <td>0.946742</td>\n",
              "    </tr>\n",
              "  </tbody>\n",
              "</table>\n",
              "<p>2352 rows × 2 columns</p>\n",
              "</div>"
            ],
            "text/plain": [
              "      Target      Prob\n",
              "9760       1  0.048056\n",
              "1125       1  0.051674\n",
              "725        1  0.057722\n",
              "3064       1  0.060347\n",
              "3463       1  0.063334\n",
              "...      ...       ...\n",
              "1536       1  0.936683\n",
              "8537       1  0.936921\n",
              "802        1  0.942198\n",
              "3082       1  0.945022\n",
              "183        1  0.946742\n",
              "\n",
              "[2352 rows x 2 columns]"
            ]
          },
          "metadata": {
            "tags": []
          },
          "execution_count": 555
        }
      ]
    },
    {
      "cell_type": "code",
      "metadata": {
        "id": "z747rR01Z7Gy",
        "colab": {
          "base_uri": "https://localhost:8080/",
          "height": 419
        },
        "outputId": "7f05fa7d-ab09-419c-a1d6-ff3e1ee1b30e"
      },
      "source": [
        "FN"
      ],
      "execution_count": 556,
      "outputs": [
        {
          "output_type": "execute_result",
          "data": {
            "text/html": [
              "<div>\n",
              "<style scoped>\n",
              "    .dataframe tbody tr th:only-of-type {\n",
              "        vertical-align: middle;\n",
              "    }\n",
              "\n",
              "    .dataframe tbody tr th {\n",
              "        vertical-align: top;\n",
              "    }\n",
              "\n",
              "    .dataframe thead th {\n",
              "        text-align: right;\n",
              "    }\n",
              "</style>\n",
              "<table border=\"1\" class=\"dataframe\">\n",
              "  <thead>\n",
              "    <tr style=\"text-align: right;\">\n",
              "      <th></th>\n",
              "      <th>Target</th>\n",
              "      <th>Prob</th>\n",
              "    </tr>\n",
              "  </thead>\n",
              "  <tbody>\n",
              "    <tr>\n",
              "      <th>706</th>\n",
              "      <td>0</td>\n",
              "      <td>0.915721</td>\n",
              "    </tr>\n",
              "    <tr>\n",
              "      <th>9560</th>\n",
              "      <td>0</td>\n",
              "      <td>0.903481</td>\n",
              "    </tr>\n",
              "    <tr>\n",
              "      <th>9128</th>\n",
              "      <td>0</td>\n",
              "      <td>0.896591</td>\n",
              "    </tr>\n",
              "    <tr>\n",
              "      <th>1155</th>\n",
              "      <td>0</td>\n",
              "      <td>0.883699</td>\n",
              "    </tr>\n",
              "    <tr>\n",
              "      <th>3762</th>\n",
              "      <td>0</td>\n",
              "      <td>0.883182</td>\n",
              "    </tr>\n",
              "    <tr>\n",
              "      <th>...</th>\n",
              "      <td>...</td>\n",
              "      <td>...</td>\n",
              "    </tr>\n",
              "    <tr>\n",
              "      <th>9019</th>\n",
              "      <td>0</td>\n",
              "      <td>0.031453</td>\n",
              "    </tr>\n",
              "    <tr>\n",
              "      <th>247</th>\n",
              "      <td>0</td>\n",
              "      <td>0.031258</td>\n",
              "    </tr>\n",
              "    <tr>\n",
              "      <th>7443</th>\n",
              "      <td>0</td>\n",
              "      <td>0.030119</td>\n",
              "    </tr>\n",
              "    <tr>\n",
              "      <th>7433</th>\n",
              "      <td>0</td>\n",
              "      <td>0.030113</td>\n",
              "    </tr>\n",
              "    <tr>\n",
              "      <th>5610</th>\n",
              "      <td>0</td>\n",
              "      <td>0.030029</td>\n",
              "    </tr>\n",
              "  </tbody>\n",
              "</table>\n",
              "<p>7417 rows × 2 columns</p>\n",
              "</div>"
            ],
            "text/plain": [
              "      Target      Prob\n",
              "706        0  0.915721\n",
              "9560       0  0.903481\n",
              "9128       0  0.896591\n",
              "1155       0  0.883699\n",
              "3762       0  0.883182\n",
              "...      ...       ...\n",
              "9019       0  0.031453\n",
              "247        0  0.031258\n",
              "7443       0  0.030119\n",
              "7433       0  0.030113\n",
              "5610       0  0.030029\n",
              "\n",
              "[7417 rows x 2 columns]"
            ]
          },
          "metadata": {
            "tags": []
          },
          "execution_count": 556
        }
      ]
    },
    {
      "cell_type": "code",
      "metadata": {
        "id": "81gX6QFOiC5M",
        "colab": {
          "base_uri": "https://localhost:8080/",
          "height": 369
        },
        "outputId": "60923a6c-cdc6-4500-ce75-6647568e7412"
      },
      "source": [
        "def plot_roc_curve(y, y_pred, gini, ks):\n",
        "    fpr, tpr, thresholds = roc_curve(y, y_pred)\n",
        "    roc_auc = auc(fpr, tpr)\n",
        "    fig = plt.figure()\n",
        "    plt.rcParams['figure.figsize'] = (15, 8)\n",
        "\n",
        "    plt.plot(fpr, tpr, 'b', lw=3, \n",
        "             label='%s KS = %0.3f,  AUC = %0.3f, GINI = %0.3f' \n",
        "             % ('Model: ',ks, roc_auc, gini))\n",
        "\n",
        "    plt.plot([0, 1], [0, 1], 'k--')\n",
        "    plt.xlim([0.0, 1.0])\n",
        "    plt.xticks(fontsize=16)\n",
        "    plt.yticks(fontsize=16)\n",
        "    plt.ylim([0.0, 1.0], )\n",
        "    plt.xlabel('False Positive Rate', size=16)\n",
        "    plt.ylabel('True Positive Rate', size=16)\n",
        "    plt.legend(loc=0, fontsize=16)\n",
        "    plt.show()\n",
        "\n",
        "fpr, tpr, thresholds = roc_curve(data['Target'], data['Prob'])\n",
        "roc_auc = auc(fpr, tpr)\n",
        "gini_ = 2 * roc_auc_score(data.Target.values, data.Prob.values) - 1\n",
        "\n",
        "ks = stats.ks_2samp(data[data['Target'] == 0]['Prob'], \n",
        "                    data[data['Target'] == 1]['Prob']).statistic\n",
        "\n",
        "print(f'KS = {ks :.3} -- AUC = {roc_auc :.3} -- GINI = {gini_ :.3}')\n",
        "\n",
        "plot_roc_curve(data.Target.values, data.Prob.values, gini_, ks)"
      ],
      "execution_count": 557,
      "outputs": [
        {
          "output_type": "stream",
          "text": [
            "KS = 0.637 -- AUC = 0.903 -- GINI = 0.805\n"
          ],
          "name": "stdout"
        },
        {
          "output_type": "display_data",
          "data": {
            "image/png": "[encoded data removed]",
            "text/plain": [
              "<Figure size 648x360 with 1 Axes>"
            ]
          },
          "metadata": {
            "tags": [],
            "needs_background": "light"
          }
        }
      ]
    },
    {
      "cell_type": "code",
      "metadata": {
        "id": "B5_wt2KBphXv",
        "colab": {
          "base_uri": "https://localhost:8080/"
        },
        "outputId": "bd5af2ee-5222-4256-9c1e-7c48a78b1a72"
      },
      "source": [
        "fpr, tpr, thresholds = roc_curve(data.Target.values, data.Prob.values)\n",
        "\n",
        "precision,recall,pr_thresh = precision_recall_curve(data.Target.values, \n",
        "                                                    data.Prob.values)\n",
        "\n",
        "f1_score = 2*precision*recall/(precision+recall)\n",
        "f1_score = f1_score[:-1]\n",
        "precision = precision[:-1]\n",
        "recall = recall[:-1]\n",
        "f1_score[np.isnan(f1_score)] = -1.0\n",
        "bestF1 = np.argmax(f1_score)\n",
        "\n",
        "print(f'O threshold do melhor F1: >>> {pr_thresh[bestF1] :.3} <<<')\n",
        "print(f'   F1: {f1_score[bestF1] :.3} -- ', end='')\n",
        "print(f'Precision: {precision[bestF1] :.3} -- ', end='')\n",
        "print(f'Recall: {recall[bestF1] :.3}')"
      ],
      "execution_count": 558,
      "outputs": [
        {
          "output_type": "stream",
          "text": [
            "O threshold do melhor F1: >>> 0.409 <<<\n",
            "   F1: 0.692 -- Precision: 0.642 -- Recall: 0.75\n"
          ],
          "name": "stdout"
        }
      ]
    },
    {
      "cell_type": "code",
      "metadata": {
        "id": "Ce3gNHYWq3od",
        "colab": {
          "base_uri": "https://localhost:8080/"
        },
        "outputId": "2c56d469-41bf-450b-e43a-0870ed703bdb"
      },
      "source": [
        "opt_idx = np.argmin(np.sqrt(np.square(1.0-tpr) + np.square(fpr)))\n",
        "opt_threshold = thresholds[opt_idx]\n",
        "print(f'O threshold do melhor F1: {pr_thresh[bestF1] :.3}')\n",
        "\n",
        "y_hat_best_thres = (data.Prob.values >= pr_thresh[bestF1]).astype(int)\n",
        "# y_hat_best_thres = (data.Prob.values >= 0.5).astype(int)\n",
        "\n",
        "print(f'\\nMatriz de confusão no thrs {pr_thresh[bestF1] :.3}:')\n",
        "confusion_matrix(trues, y_hat_best_thres)"
      ],
      "execution_count": 559,
      "outputs": [
        {
          "output_type": "stream",
          "text": [
            "O threshold do melhor F1: 0.409\n",
            "\n",
            "Matriz de confusão no thrs 0.409:\n"
          ],
          "name": "stdout"
        },
        {
          "output_type": "execute_result",
          "data": {
            "text/plain": [
              "array([[6431,  986],\n",
              "       [ 587, 1765]])"
            ]
          },
          "metadata": {
            "tags": []
          },
          "execution_count": 559
        }
      ]
    },
    {
      "cell_type": "code",
      "metadata": {
        "id": "vpWUGgmcpqfU",
        "colab": {
          "base_uri": "https://localhost:8080/",
          "height": 577
        },
        "outputId": "54a81f2d-c264-482a-8bf1-eb8c1341ce10"
      },
      "source": [
        "plt.rcParams.update({'font.size': 16})\n",
        "plt.plot(pr_thresh,f1_score, lw=2)\n",
        "plt.plot(pr_thresh,precision,  lw=2)\n",
        "plt.plot(pr_thresh,recall, lw=2)\n",
        "plt.xlabel('Threshold')\n",
        "plt.ylabel('Score')\n",
        "plt.xticks(fontsize=16)\n",
        "plt.xlim(-0.01, 1.01)\n",
        "plt.ylim(-0.02, 1.02)\n",
        "plt.yticks(fontsize=16)\n",
        "plt.grid()\n",
        "plt.legend(['F$_1$-score', 'Precision', 'Recall'],prop={'size': 16})\n",
        "plt.tight_layout(2)\n",
        "plt.savefig('precision-recall-thres', bbox_inches='tight')\n",
        "print(f'O threshold do melhor F1: >>> {pr_thresh[bestF1] :.3} <<<')\n",
        "print(f'   F1: {f1_score[bestF1] :.3} -- ', end='')\n",
        "print(f'Precision: {precision[bestF1] :.3} -- ', end='')\n",
        "print(f'Recall: {recall[bestF1] :.3}')"
      ],
      "execution_count": 560,
      "outputs": [
        {
          "output_type": "stream",
          "text": [
            "O threshold do melhor F1: >>> 0.409 <<<\n",
            "   F1: 0.692 -- Precision: 0.642 -- Recall: 0.75\n"
          ],
          "name": "stdout"
        },
        {
          "output_type": "display_data",
          "data": {
            "image/png": "[encoded data removed]",
            "text/plain": [
              "<Figure size 1080x576 with 1 Axes>"
            ]
          },
          "metadata": {
            "tags": [],
            "needs_background": "light"
          }
        }
      ]
    },
    {
      "cell_type": "code",
      "metadata": {
        "id": "avk39os_fC2l",
        "colab": {
          "base_uri": "https://localhost:8080/",
          "height": 596
        },
        "outputId": "06fc42c3-b087-4913-ec28-d983870e40ed"
      },
      "source": [
        "_,Err_point = far_vs_frr(data.Target.values, data.Prob.values, steps=2000, fig=True)\n",
        "Err_point"
      ],
      "execution_count": 561,
      "outputs": [
        {
          "output_type": "stream",
          "text": [
            "Negados: 2352 Aprovados: 7417\n"
          ],
          "name": "stdout"
        },
        {
          "output_type": "display_data",
          "data": {
            "image/png": "[encoded data removed]",
            "text/plain": [
              "<Figure size 800x640 with 1 Axes>"
            ]
          },
          "metadata": {
            "tags": []
          }
        },
        {
          "output_type": "execute_result",
          "data": {
            "text/plain": [
              "0.337168584292146"
            ]
          },
          "metadata": {
            "tags": []
          },
          "execution_count": 561
        }
      ]
    },
    {
      "cell_type": "code",
      "metadata": {
        "id": "MUmiK6RNYXuc",
        "colab": {
          "base_uri": "https://localhost:8080/"
        },
        "outputId": "34b73615-5751-4a7a-95cf-5494e663d99e"
      },
      "source": [
        "y_err = (data.Prob.values >= Err_point).astype(int)\n",
        "\n",
        "print(f'\\nMatriz de confusão no ponto do ERR {Err_point :.3}:')\n",
        "confusion_matrix(trues, y_err)"
      ],
      "execution_count": 562,
      "outputs": [
        {
          "output_type": "stream",
          "text": [
            "\n",
            "Matriz de confusão no ponto do ERR 0.337:\n"
          ],
          "name": "stdout"
        },
        {
          "output_type": "execute_result",
          "data": {
            "text/plain": [
              "array([[6068, 1349],\n",
              "       [ 433, 1919]])"
            ]
          },
          "metadata": {
            "tags": []
          },
          "execution_count": 562
        }
      ]
    },
    {
      "cell_type": "code",
      "metadata": {
        "id": "-ODZHUY1ZHYm",
        "colab": {
          "base_uri": "https://localhost:8080/"
        },
        "outputId": "d18c2390-cee4-4efc-e7f8-525d038317da"
      },
      "source": [
        "y_50 = (data.Prob.values >= 0.5).astype(int)\n",
        "\n",
        "print(f'\\nMatriz de confusão no threshold {0.50}:')\n",
        "confusion_matrix(trues, y_50)"
      ],
      "execution_count": 563,
      "outputs": [
        {
          "output_type": "stream",
          "text": [
            "\n",
            "Matriz de confusão no threshold 0.5:\n"
          ],
          "name": "stdout"
        },
        {
          "output_type": "execute_result",
          "data": {
            "text/plain": [
              "array([[6777,  640],\n",
              "       [ 850, 1502]])"
            ]
          },
          "metadata": {
            "tags": []
          },
          "execution_count": 563
        }
      ]
    },
    {
      "cell_type": "code",
      "metadata": {
        "id": "y9ixWS0q85th",
        "colab": {
          "base_uri": "https://localhost:8080/",
          "height": 368
        },
        "outputId": "b2b52e96-f5f0-43f6-ad1a-34715e8fd351"
      },
      "source": [
        "plt.rcParams['figure.figsize'] = (9, 5)\n",
        "\n",
        "sns.set_context(\"notebook\", font_scale=1.3)\n",
        "\n",
        "confusao = confusion_matrix(trues, y_hat_best_thres)\n",
        "group_names = ['TN\\nAprovados corretos',\n",
        "               'FN - erro tipo II (FRR)\\nNegados errados', \n",
        "               'FP - erro tipo I  (FAR)\\nAprovados errados',\n",
        "               'TP\\nNegados corretos']\n",
        "\n",
        "group_counts = ['({0:0.0f})'.format(value) for value in\n",
        "                confusao.flatten()]\n",
        "\n",
        "group_percentages = ['{0:.1%}'.format(value) for value in\n",
        "                     confusao.flatten()/np.sum(confusao)]\n",
        "\n",
        "labels = [f'{v1}\\n{v2}' for v1, v2 in\n",
        "          zip(group_names,group_counts)]\n",
        "\n",
        "labels = np.asarray(labels).reshape(2,2)\n",
        "\n",
        "cmap = 'Reds'#'binary'#'PuRd'#'jet'#'YlOrRd'#\n",
        "\n",
        "ax = sns.heatmap(confusao, annot=labels, fmt='', square=False,\n",
        "                 cmap=cmap, cbar=True, linewidths=0.7,\n",
        "                )\n",
        "\n",
        "ax.set_ylabel('Target - Real')\n",
        "ax.set_xlabel('Predição - Modelo')\n",
        "ax.set_xticklabels(['Aprovados','Negados'], va='center', \n",
        "                   rotation = 0, position=(0,-0.03), \n",
        "                   fontsize=18)\n",
        "ax.set_yticklabels(['Aprovados','Negados'], \n",
        "                   va='center', rotation = 90, position=(0,0.28),\n",
        "                   fontsize=18)\n",
        "ax.set_title(f'limiar = {pr_thresh[bestF1] :.3}', fontsize=18)\n",
        "\n",
        "#######\n",
        "# Save\n",
        "#######\n",
        "plt.savefig('confusao.png', bbox_inches='tight')\n",
        "plt.show()"
      ],
      "execution_count": 564,
      "outputs": [
        {
          "output_type": "display_data",
          "data": {
            "image/png": "[encoded data removed]",
            "text/plain": [
              "<Figure size 648x360 with 2 Axes>"
            ]
          },
          "metadata": {
            "tags": [],
            "needs_background": "light"
          }
        }
      ]
    },
    {
      "cell_type": "markdown",
      "metadata": {
        "id": "_vIagmiuwTiU"
      },
      "source": [
        "# Calibração\n"
      ]
    },
    {
      "cell_type": "code",
      "metadata": {
        "colab": {
          "base_uri": "https://localhost:8080/"
        },
        "id": "Ihf94SGLwWwr",
        "outputId": "2a0ffd73-9eaa-4ea7-df4b-a85ac9f683a1"
      },
      "source": [
        "def probs_trues_preds(model, dloader, device=device, calibration_method=None, **kwargs):\n",
        "    \n",
        "    model.eval()\n",
        "    \n",
        "    logits, trues, preds = [],[], []\n",
        "    for x_cont, x_cat, y in dloader:\n",
        "        with torch.no_grad():\n",
        "            y_pred = model(x_cont.to(device), x_cat.to(device))\n",
        "\n",
        "        if calibration_method:\n",
        "            y_pred = calibration_method(y_pred, kwargs)\n",
        "\n",
        "        logits.extend(y_pred.to('cpu').detach().numpy().tolist())\n",
        "        trues.extend(y.to('cpu').numpy().tolist())\n",
        "        preds += y_pred.argmax(-1).cpu().numpy().tolist()\n",
        "    \n",
        "    prob  = F.softmax(torch.tensor(logits), dim=1).detach().numpy()\n",
        "    probs = prob[:,1]\n",
        "    probs = np.array(probs)\n",
        "    \n",
        "    trues = np.array(trues)\n",
        "    preds = np.array(preds)\n",
        "    return probs, trues, preds\n",
        "\n",
        "# =============================\n",
        "probs, trues, preds = probs_trues_preds(model, dataloaders['test'],device)\n",
        "print(probs.shape, trues.shape, preds.shape)"
      ],
      "execution_count": 565,
      "outputs": [
        {
          "output_type": "stream",
          "text": [
            "(9769,) (9769,) (9769,)\n"
          ],
          "name": "stdout"
        }
      ]
    },
    {
      "cell_type": "code",
      "metadata": {
        "id": "w1SAqFR7wPvs"
      },
      "source": [
        "def calc_bins(trues_, probs_, K=10):\n",
        "    # Assign each prediction to a bin\n",
        "    num_bins = K\n",
        "    bins = np.linspace(0.1, 1, num_bins)\n",
        "    binned = np.digitize(probs_, bins)\n",
        "\n",
        "    # Save the accuracy, confidence and size of each bin\n",
        "    bin_accs = np.zeros(num_bins)\n",
        "    bin_confs = np.zeros(num_bins)\n",
        "    bin_sizes = np.zeros(num_bins)\n",
        "\n",
        "    for bin in range(num_bins):\n",
        "        bin_sizes[bin] = len(probs_[binned == bin])\n",
        "        if bin_sizes[bin] > 0:\n",
        "            bin_accs[bin] = (trues_[binned==bin]).sum() / bin_sizes[bin]\n",
        "            bin_confs[bin] = (probs_[binned==bin]).sum() / bin_sizes[bin]\n",
        "\n",
        "    return bins, binned, bin_accs, bin_confs, bin_sizes\n",
        "\n",
        "# ============================\n",
        "bins, binned, bin_accs, bin_confs, bin_sizes = calc_bins(trues, probs, K=2)"
      ],
      "execution_count": 566,
      "outputs": []
    },
    {
      "cell_type": "markdown",
      "metadata": {
        "id": "DsD0hviuaQwY"
      },
      "source": [
        "# Visualizations and metrics\n",
        "\n",
        "The Reliability Diagram as figured below intuitively show the relation between expected sample accuracy per bin and confidence.\n",
        "\n",
        "$acc(B_m) = \\frac{1}{|B_m|} \\sum_{i \\in B_m} \\mathbf{1}(\\hat{y}_i = y_i)$\n",
        "\n",
        "$conf(B_m) = \\frac{1}{|B_m|} \\sum_{i \\in B_m} \\hat{p}_i$\n",
        "\n",
        "For the figure I chose $M=10$, describing the number of seperate bins where the predictions are put in their respective bin based on their magnitude ($Bin 1 = [0.0, 0.1), Bin 2 = [0.1, 0.2), ...)$).\n",
        "\n",
        "For a perfectly calibrated model is defined as $P(\\hat{Y} = Y | \\hat{P} = p) = p, \\forall p \\in [0, 1]$. For Example: Given 100 predictions, each with confidence of 0.8, we expect 80 to be correctly classified. Bars under the identity line show underconfident behavior while bars above it signal overconfidence.\n",
        "\n",
        "\n",
        "The Expected Calibration Error (ECE) is taking the weighted average of the bins' accuracy/cofidence differences.\n",
        "\n",
        "$ECE = \\sum_{m=1}^{M} \\frac{|B_m|}{n} |acc(B_m) + conf(B_m)|$\n",
        "\n",
        "The Maximum Calibration Error (MCE) focuses more on high risk applications where the maximum accuracy/confidence difference is more important than just the average.\n",
        "\n",
        "$MCE = \\max_m |acc(B_m) + conf(B_m)|$"
      ]
    },
    {
      "cell_type": "code",
      "metadata": {
        "id": "XldU3fNbOuSu"
      },
      "source": [
        "def get_metrics(trues_, probs_, K=2):\n",
        "  ECE = 0\n",
        "  MCE = 0\n",
        "  bins, _, bin_accs, bin_confs, bin_sizes = calc_bins(trues_, probs_, K)\n",
        "\n",
        "  for i in range(len(bins)):\n",
        "    abs_conf_dif = abs(bin_accs[i] - bin_confs[i])\n",
        "    ECE += (bin_sizes[i] / sum(bin_sizes)) * abs_conf_dif\n",
        "    MCE = max(MCE, abs_conf_dif)\n",
        "\n",
        "  return ECE, MCE"
      ],
      "execution_count": 567,
      "outputs": []
    },
    {
      "cell_type": "code",
      "metadata": {
        "id": "lx_FB6_1oT3r",
        "colab": {
          "base_uri": "https://localhost:8080/",
          "height": 521
        },
        "outputId": "46962fed-3a17-4b69-cb58-451ced6be569"
      },
      "source": [
        "import matplotlib.patches as mpatches\n",
        "\n",
        "def draw_reliability_graph(trues_, probs_, K=10):\n",
        "  ECE, MCE = get_metrics(trues_, probs_, K)\n",
        "  bins, _, bin_accs, _, _ = calc_bins(trues_, probs_, K)\n",
        "\n",
        "  fig = plt.figure(figsize=(8, 8))\n",
        "  ax = fig.gca()\n",
        "\n",
        "  # x/y limits\n",
        "  ax.set_xlim(0, 1.05)\n",
        "  ax.set_ylim(0, 1)\n",
        "\n",
        "  # x/y labels\n",
        "  plt.xlabel('Confidence')\n",
        "  plt.ylabel('Accuracy')\n",
        "\n",
        "  # Create grid\n",
        "  ax.set_axisbelow(True) \n",
        "  ax.grid(color='gray', linestyle='dashed')\n",
        "\n",
        "  # Error bars\n",
        "  plt.bar(bins, bins,  width=0.1, alpha=0.3, edgecolor='black', color='r', hatch='\\\\')\n",
        "\n",
        "  # Draw bars and identity line\n",
        "  plt.bar(bins, bin_accs, width=0.1, alpha=1, edgecolor='black', color='b')\n",
        "  plt.plot([0,1],[0,1], '--', color='gray', linewidth=2)\n",
        "\n",
        "  # Equally spaced axes\n",
        "  plt.gca().set_aspect('equal', adjustable='box')\n",
        "\n",
        "  # ECE and MCE legend\n",
        "  ECE_patch = mpatches.Patch(color='green', label='ECE = {:.2f}%'.format(ECE*100))\n",
        "  MCE_patch = mpatches.Patch(color='red', label='MCE = {:.2f}%'.format(MCE*100))\n",
        "  plt.legend(handles=[ECE_patch, MCE_patch])\n",
        "\n",
        "  plt.show()\n",
        "  \n",
        "  plt.savefig('calibrated_network.png', bbox_inches='tight')\n",
        "\n",
        "# ===========================\n",
        "draw_reliability_graph(trues, probs, K=2)"
      ],
      "execution_count": 568,
      "outputs": [
        {
          "output_type": "display_data",
          "data": {
            "image/png": "[encoded data removed]",
            "text/plain": [
              "<Figure size 576x576 with 1 Axes>"
            ]
          },
          "metadata": {
            "tags": [],
            "needs_background": "light"
          }
        },
        {
          "output_type": "display_data",
          "data": {
            "text/plain": [
              "<Figure size 648x360 with 0 Axes>"
            ]
          },
          "metadata": {
            "tags": []
          }
        }
      ]
    },
    {
      "cell_type": "code",
      "metadata": {
        "id": "RVj_GtOAJnA6"
      },
      "source": [
        "def T_scaling(logits, args):\n",
        "  temperature = args.get('temperature', None)\n",
        "  return torch.div(logits, temperature)"
      ],
      "execution_count": 569,
      "outputs": []
    },
    {
      "cell_type": "markdown",
      "metadata": {
        "id": "1RpTADOY3bAk"
      },
      "source": [
        "# Temperature Scaling\n",
        "\n",
        "Temperature Scaling is a parametric calibration approach on the validation set using the Negative-Log-Likelihood (NLL) los. It learns a single parameter $T$ for all classes to update the confidences to $\\hat{q}_i = max_k  \\sigma_{SM}(z_i/T)^{(k)}$\n",
        "\n",
        "\n",
        "\n",
        "More sample code can be found in [this](https://github.com/gpleiss/temperature_scaling) awesome GitHub repository by \"gpleis\"."
      ]
    },
    {
      "cell_type": "code",
      "metadata": {
        "colab": {
          "base_uri": "https://localhost:8080/",
          "height": 343
        },
        "id": "QeLoKGzM2P5j",
        "outputId": "92e78094-9975-4438-cd28-b1d6c453e98f"
      },
      "source": [
        "def eval_with_calibration(model, dloader, device, criterion, optimizer, args, temperature):\n",
        "    model.eval()\n",
        "    logits, trues, temps, losses = [],[],[],[]\n",
        "    for x_cont, x_cat, y in dloader:\n",
        "        with torch.no_grad():\n",
        "            y_pred = model(x_cont.to(device), x_cat.to(device))\n",
        "        \n",
        "        logits.append(y_pred)\n",
        "        trues.append(y)\n",
        "\n",
        "    # Create tensors\n",
        "    logits = torch.cat(logits).to(device)\n",
        "    trues = torch.cat(trues).to(device)\n",
        "\n",
        "    def _eval():\n",
        "        loss = criterion(T_scaling(logits, args), trues)\n",
        "        loss.backward()\n",
        "        temps.append(temperature.item())\n",
        "        losses.append(loss)\n",
        "        \n",
        "        return loss\n",
        "\n",
        "\n",
        "    optimizer.step(_eval)\n",
        "\n",
        "    print(f'Final T_scaling factor: {temperature.item():.2f}')\n",
        "\n",
        "    plt.subplot(121)\n",
        "    plt.plot(list(range(len(temps))), temps)\n",
        "\n",
        "    plt.subplot(122)\n",
        "    plt.plot(list(range(len(losses))), losses)\n",
        "    plt.show() \n",
        "\n",
        "# ======================================\n",
        "\n",
        "criterion = torch.nn.CrossEntropyLoss()\n",
        "temperature = torch.nn.Parameter(torch.ones(1).to(device))\n",
        "optimizer = torch.optim.LBFGS([temperature], lr=1e-4, max_iter=100_000, line_search_fn='strong_wolfe')\n",
        "args= {'temperature': temperature}\n",
        "\n",
        "eval_with_calibration(\n",
        "    model, \n",
        "    dataloaders['train'], \n",
        "    device, \n",
        "    criterion, \n",
        "    optimizer, \n",
        "    args, \n",
        "    temperature\n",
        "    )"
      ],
      "execution_count": 570,
      "outputs": [
        {
          "output_type": "stream",
          "text": [
            "Final T_scaling factor: 0.70\n"
          ],
          "name": "stdout"
        },
        {
          "output_type": "display_data",
          "data": {
            "image/png": "[encoded data removed]",
            "text/plain": [
              "<Figure size 648x360 with 2 Axes>"
            ]
          },
          "metadata": {
            "tags": [],
            "needs_background": "light"
          }
        }
      ]
    },
    {
      "cell_type": "code",
      "metadata": {
        "colab": {
          "base_uri": "https://localhost:8080/"
        },
        "id": "OjVKWlnpGQPe",
        "outputId": "bad8f25d-bdbb-43f0-fb8c-03ebb1f83658"
      },
      "source": [
        "torch.tensor(1.2, requires_grad=True).to(device)"
      ],
      "execution_count": 571,
      "outputs": [
        {
          "output_type": "execute_result",
          "data": {
            "text/plain": [
              "tensor(1.2000, device='cuda:0', grad_fn=<CopyBackwards>)"
            ]
          },
          "metadata": {
            "tags": []
          },
          "execution_count": 571
        }
      ]
    },
    {
      "cell_type": "code",
      "metadata": {
        "id": "52ZMvNRc8az4",
        "colab": {
          "base_uri": "https://localhost:8080/",
          "height": 1000
        },
        "outputId": "6987902a-ea4b-4dcc-c6eb-aad21a435f98"
      },
      "source": [
        "probs_original, trues_o, preds_original = probs_trues_preds(model, dataloaders['test'], device=device)\n",
        "draw_reliability_graph(trues_o, probs_original, K=2)\n",
        "\n",
        "probs_calibrated, trues_c, preds_calibrated = probs_trues_preds(model, dataloaders['test'], device=device, \n",
        "                                                          calibration_method=T_scaling,       \n",
        "                                                          temperature=temperature)\n",
        "draw_reliability_graph(trues_c, probs_calibrated, K=2)"
      ],
      "execution_count": 572,
      "outputs": [
        {
          "output_type": "display_data",
          "data": {
            "image/png": "[encoded data removed]",
            "text/plain": [
              "<Figure size 576x576 with 1 Axes>"
            ]
          },
          "metadata": {
            "tags": [],
            "needs_background": "light"
          }
        },
        {
          "output_type": "display_data",
          "data": {
            "text/plain": [
              "<Figure size 648x360 with 0 Axes>"
            ]
          },
          "metadata": {
            "tags": []
          }
        },
        {
          "output_type": "display_data",
          "data": {
            "image/png": "[encoded data removed]",
            "text/plain": [
              "<Figure size 576x576 with 1 Axes>"
            ]
          },
          "metadata": {
            "tags": [],
            "needs_background": "light"
          }
        },
        {
          "output_type": "display_data",
          "data": {
            "text/plain": [
              "<Figure size 648x360 with 0 Axes>"
            ]
          },
          "metadata": {
            "tags": []
          }
        }
      ]
    },
    {
      "cell_type": "code",
      "metadata": {
        "colab": {
          "base_uri": "https://localhost:8080/",
          "height": 596
        },
        "id": "ZE4uWZ5E7f5w",
        "outputId": "23a6c8c2-888a-457a-c3cc-51c3013ea51c"
      },
      "source": [
        "far_vs_frr(trues_o, probs_original, fig=True)"
      ],
      "execution_count": 573,
      "outputs": [
        {
          "output_type": "stream",
          "text": [
            "Negados: 2352 Aprovados: 7417\n"
          ],
          "name": "stdout"
        },
        {
          "output_type": "display_data",
          "data": {
            "image/png": "[encoded data removed]",
            "text/plain": [
              "<Figure size 800x640 with 1 Axes>"
            ]
          },
          "metadata": {
            "tags": []
          }
        },
        {
          "output_type": "execute_result",
          "data": {
            "text/plain": [
              "(18.320163780761057, 0.33733733733733734)"
            ]
          },
          "metadata": {
            "tags": []
          },
          "execution_count": 573
        }
      ]
    },
    {
      "cell_type": "code",
      "metadata": {
        "colab": {
          "base_uri": "https://localhost:8080/",
          "height": 596
        },
        "id": "IauP3qrX7obK",
        "outputId": "4e06bc3d-e9d8-4746-a095-49f73c9ef8fc"
      },
      "source": [
        "far_vs_frr(trues_c, probs_calibrated, fig=True)"
      ],
      "execution_count": 574,
      "outputs": [
        {
          "output_type": "stream",
          "text": [
            "Negados: 2352 Aprovados: 7417\n"
          ],
          "name": "stdout"
        },
        {
          "output_type": "display_data",
          "data": {
            "image/png": "[encoded data removed]",
            "text/plain": [
              "<Figure size 800x640 with 1 Axes>"
            ]
          },
          "metadata": {
            "tags": []
          }
        },
        {
          "output_type": "execute_result",
          "data": {
            "text/plain": [
              "(18.383939290965138, 0.27627627627627627)"
            ]
          },
          "metadata": {
            "tags": []
          },
          "execution_count": 574
        }
      ]
    },
    {
      "cell_type": "code",
      "metadata": {
        "colab": {
          "base_uri": "https://localhost:8080/"
        },
        "id": "hS3Oc3R0A_vb",
        "outputId": "4cdcd29f-71e0-495b-d486-5ef045562f12"
      },
      "source": [
        "probs_original[:10]"
      ],
      "execution_count": 575,
      "outputs": [
        {
          "output_type": "execute_result",
          "data": {
            "text/plain": [
              "array([0.5117969 , 0.67214763, 0.08824917, 0.03984926, 0.46283212,\n",
              "       0.47427636, 0.1716361 , 0.07693821, 0.05789953, 0.04677993],\n",
              "      dtype=float32)"
            ]
          },
          "metadata": {
            "tags": []
          },
          "execution_count": 575
        }
      ]
    },
    {
      "cell_type": "code",
      "metadata": {
        "colab": {
          "base_uri": "https://localhost:8080/"
        },
        "id": "eCGmtvHABH7T",
        "outputId": "dc3ded96-504e-4f0b-ef10-b7274b37b678"
      },
      "source": [
        "probs_calibrated[:10]"
      ],
      "execution_count": 576,
      "outputs": [
        {
          "output_type": "execute_result",
          "data": {
            "text/plain": [
              "array([0.5168561 , 0.73613846, 0.03431321, 0.01048287, 0.44698417,\n",
              "       0.46327132, 0.09538738, 0.02789675, 0.01822763, 0.0132822 ],\n",
              "      dtype=float32)"
            ]
          },
          "metadata": {
            "tags": []
          },
          "execution_count": 576
        }
      ]
    },
    {
      "cell_type": "code",
      "metadata": {
        "colab": {
          "base_uri": "https://localhost:8080/"
        },
        "id": "kOXzCztn7ecz",
        "outputId": "2902e0a2-d59b-448e-cfbf-b0f21c3648c8"
      },
      "source": [
        "from sklearn.metrics import f1_score\n",
        "f1_score(probs_original.round(), trues_o), f1_score(trues_c, probs_calibrated.round())"
      ],
      "execution_count": 577,
      "outputs": [
        {
          "output_type": "execute_result",
          "data": {
            "text/plain": [
              "(0.6684468179795282, 0.6684468179795282)"
            ]
          },
          "metadata": {
            "tags": []
          },
          "execution_count": 577
        }
      ]
    },
    {
      "cell_type": "markdown",
      "metadata": {
        "id": "Q61ej_qQKRcl"
      },
      "source": [
        "# FIM\n"
      ]
    },
    {
      "cell_type": "code",
      "metadata": {
        "id": "umkNgetKwSdo"
      },
      "source": [
        ""
      ],
      "execution_count": 577,
      "outputs": []
    }
  ]
}