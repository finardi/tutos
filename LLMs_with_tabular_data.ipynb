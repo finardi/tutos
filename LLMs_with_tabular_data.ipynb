{
  "nbformat": 4,
  "nbformat_minor": 0,
  "metadata": {
    "colab": {
      "provenance": [],
      "machine_shape": "hm",
      "gpuType": "V100",
      "authorship_tag": "ABX9TyOsCcXpMGfJu/+S7hGpvF+R",
      "include_colab_link": true
    },
    "kernelspec": {
      "name": "python3",
      "display_name": "Python 3"
    },
    "language_info": {
      "name": "python"
    }
  },
  "cells": [
    {
      "cell_type": "markdown",
      "metadata": {
        "id": "view-in-github",
        "colab_type": "text"
      },
      "source": [
        "<a href=\"https://colab.research.google.com/github/finardi/tutos/blob/master/LLMs_with_tabular_data.ipynb\" target=\"_parent\"><img src=\"https://colab.research.google.com/assets/colab-badge.svg\" alt=\"Open In Colab\"/></a>"
      ]
    },
    {
      "cell_type": "code",
      "source": [
        "!git clone https://github.com/RUCAIBox/StructGPT.git"
      ],
      "metadata": {
        "id": "je15iPDE68Rf"
      },
      "execution_count": null,
      "outputs": []
    },
    {
      "cell_type": "markdown",
      "source": [
        "#  NLP + Dados Estruturados"
      ],
      "metadata": {
        "id": "DqJi8NKL-3T2"
      }
    },
    {
      "cell_type": "markdown",
      "source": [
        "---\n",
        "# 🟠 Poucos dados:\n",
        "> ### Com técnicas de in-context-learning / few-shot learning\n",
        "> #### [Referência](https://arxiv.org/pdf/2210.10723.pdf)\n",
        "---\n",
        "\n",
        "<img src=\"https://drive.google.com/uc?id=14OiIBJF1bwqmNEbQqXyxx7MkFS2XEtmL\" alt=\"drawing\" width=\"1200\"/>\n",
        "\n",
        "<img src=\"https://drive.google.com/uc?id=1uD2xMFT_DTTHgN4rVpU61iCZuTuzRVCC\" alt=\"drawing\" width=\"1200\"/>\n",
        "\n"
      ],
      "metadata": {
        "id": "U7lBYTnk69yJ"
      }
    },
    {
      "cell_type": "markdown",
      "source": [
        "---\n",
        "# 🟠 Redução de Feature Engineering:\n",
        "> ### Criação de embedding de cada exemplo + XGBoost\n",
        "> #### [Referência](https://arize.com/blog-course/applying-large-language-models-to-tabular-data/)\n",
        "---\n",
        "\n",
        "<img src=\"https://drive.google.com/uc?id=1z2NGg6QC9egJO9Lpv5ZoZbvnXPzknw7L\" alt=\"drawing\" width=\"1200\"/>\n",
        "\n",
        "\n",
        "<img src=\"https://drive.google.com/uc?id=1KgXWOj0qToS156mIkiYmkJyA37Am1YuB\" alt=\"drawing\" width=\"1200\"/>\n",
        "\n",
        "<img src=\"https://drive.google.com/uc?id=12TEFuVGmwjbccZpUFGodUywNfksIJYa7\" alt=\"drawing\" width=\"1200\"/>\n"
      ],
      "metadata": {
        "id": "4_Uz0GEP7ijI"
      }
    },
    {
      "cell_type": "markdown",
      "source": [
        "---\n",
        "# 🟠 Talk to your data:\n",
        "> ### Levantamento dos requisitos de curadoria mais rápido (llm life-cycle: emulador humano), ingestão/criação de tabelas a partir de dados não estruturados, mixing types.\n",
        "> #### [Referência](https://blog.langchain.dev/going-beyond-chatbots-how-to-make-gpt-4-output-structured-data-using-langchain/)\n",
        "---\n",
        "<img src=\"https://drive.google.com/uc?id=1VYByDenF8etjR8x_rUMR05Fvf46yXEWa\" alt=\"drawing\" width=\"1200\"/>\n"
      ],
      "metadata": {
        "id": "UwdCXuQq_YoU"
      }
    },
    {
      "cell_type": "markdown",
      "source": [
        "# 🟠 LLM aplicado em dados estrutuados (Reasoning)"
      ],
      "metadata": {
        "id": "ewOhMMFJDRs6"
      }
    },
    {
      "cell_type": "markdown",
      "source": [
        "<img src=\"https://drive.google.com/uc?id=1HxVGsNUBJhe83XvQCpPx__p3GI0MgwAP\" alt=\"drawing\" width=\"1200\"/>\n",
        "\n",
        "#### [Referência](https://arxiv.org/pdf/2305.09645.pdf)\n",
        "\n",
        "<img src=\"https://drive.google.com/uc?id=11_q3c5M4HNoPo5_s8YSh3Jw9WjkV23ki\" alt=\"drawing\" width=\"1200\"/>\n",
        "\n",
        "<img src=\"https://drive.google.com/uc?id=1RBC1rG6brmfmi0MBzeOSlE-2fh2l0txJ\" alt=\"drawing\" width=\"432\" height=\"230\"/>\n",
        "\n",
        "<img src=\"https://drive.google.com/uc?id=1QISlbCY5g3l7GQ7bpbfLgyq1OIQIJXmD\" alt=\"drawing\" width=\"432\" height=\"230\"/>\n",
        "\n",
        "<img src=\"https://drive.google.com/uc?id=1Vzf2ae3Peck1VHzAMVMReu1yC7ZxaHW5\" alt=\"drawing\" width=\"1200\"/>\n",
        "\n",
        "<img src=\"https://drive.google.com/uc?id=16d4OWzPFskCLkWwdONC9MAXtXm1jNeUN\" alt=\"drawing\" width=\"1200\"/>\n",
        "\n",
        "\n"
      ],
      "metadata": {
        "id": "omFL_50XrIH0"
      }
    },
    {
      "cell_type": "markdown",
      "source": [
        "# 🥇 Qual o ganho de aplicar NLP + dados estruturados?\n",
        "> ### **Fail fast**: O uso de NLP em dados estruturados acelera o processo da realização de testes.\n",
        "> ### **Redução de custos:** mão de obra e número de pessoas envolvidas no produto são reduzidos\n",
        "> ### Maior foco no Outcome do que Output\n",
        "\n",
        "# 😧 O que não conseguimos resolver:\n",
        "> ### **Qualidade do dado**: *bad data -> bad product*\n",
        "> ### **Tempestividade**, **Disponibilização dos dados**: democratização (data-mesh)\n"
      ],
      "metadata": {
        "id": "ayXN0GCpcNV8"
      }
    },
    {
      "cell_type": "code",
      "source": [],
      "metadata": {
        "id": "MLop5vNwDw6i"
      },
      "execution_count": null,
      "outputs": []
    }
  ]
}