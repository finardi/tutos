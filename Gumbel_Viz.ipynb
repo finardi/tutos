{
  "nbformat": 4,
  "nbformat_minor": 0,
  "metadata": {
    "colab": {
      "name": "Gumbel Viz.ipynb",
      "provenance": [],
      "authorship_tag": "ABX9TyN6prxNntDVBtEXihD/+p6v",
      "include_colab_link": true
    },
    "kernelspec": {
      "name": "python3",
      "display_name": "Python 3"
    },
    "language_info": {
      "name": "python"
    }
  },
  "cells": [
    {
      "cell_type": "markdown",
      "metadata": {
        "id": "view-in-github",
        "colab_type": "text"
      },
      "source": [
        "<a href=\"https://colab.research.google.com/github/finardi/tutos/blob/master/Gumbel_Viz.ipynb\" target=\"_parent\"><img src=\"https://colab.research.google.com/assets/colab-badge.svg\" alt=\"Open In Colab\"/></a>"
      ]
    },
    {
      "cell_type": "code",
      "execution_count": null,
      "metadata": {
        "id": "4rAa_xocrq6l"
      },
      "outputs": [],
      "source": [
        "import torch\n",
        "import numpy as np\n",
        "import matplotlib.pyplot as plt"
      ]
    },
    {
      "cell_type": "code",
      "execution_count": null,
      "metadata": {
        "id": "USz1Lqwjrq6m"
      },
      "outputs": [],
      "source": [
        "def sample_gumbel(n,k):\n",
        "    unif = torch.distributions.Uniform(0,1).sample((n,k))\n",
        "    g = -torch.log(-torch.log(unif))\n",
        "    return g"
      ]
    },
    {
      "cell_type": "code",
      "execution_count": null,
      "metadata": {
        "id": "1xPabAWsrq6n"
      },
      "outputs": [],
      "source": [
        "def sample_gumbel_softmax(pi, n, temperature):\n",
        "    k = len(pi)\n",
        "    g = sample_gumbel(n, k)\n",
        "    h = (g + torch.log(pi))/temperature\n",
        "    h_max = h.max(dim=1, keepdim=True)[0]\n",
        "    h = h - h_max\n",
        "    cache = torch.exp(h)\n",
        "    # print(pi, torch.log(pi), intmdt)\n",
        "    y = cache / cache.sum(dim=-1, keepdim=True)\n",
        "    return y"
      ]
    },
    {
      "cell_type": "markdown",
      "metadata": {
        "id": "Mrl9S_lQrq6n"
      },
      "source": [
        "# Probability Distribution"
      ]
    },
    {
      "cell_type": "code",
      "execution_count": null,
      "metadata": {
        "id": "x1iv8s_rrq6p",
        "outputId": "867b672b-dab0-4843-e3dd-f963ba1b75f2",
        "colab": {
          "base_uri": "https://localhost:8080/",
          "height": 321
        }
      },
      "outputs": [
        {
          "output_type": "stream",
          "name": "stdout",
          "text": [
            "tensor([0.1724, 0.1598, 0.0233, 0.1741, 0.1293, 0.0072, 0.0072, 0.1329, 0.1203,\n",
            "        0.0736])\n"
          ]
        },
        {
          "output_type": "execute_result",
          "data": {
            "text/plain": [
              "(0.0, 1.0)"
            ]
          },
          "metadata": {},
          "execution_count": 64
        },
        {
          "output_type": "display_data",
          "data": {
            "image/png": "[encoded data removed]",
            "text/plain": [
              "<Figure size 432x288 with 1 Axes>"
            ]
          },
          "metadata": {
            "needs_background": "light"
          }
        }
      ],
      "source": [
        "k = 10\n",
        "pi = torch.randint(high=100, size=(k,), dtype=torch.float)\n",
        "pi = pi/pi.sum()\n",
        "print(pi)\n",
        "plt.bar(np.arange(k)+1, pi.numpy())\n",
        "plt.ylim(0,1)"
      ]
    },
    {
      "cell_type": "markdown",
      "metadata": {
        "id": "Du04pt9Vrq6q"
      },
      "source": [
        "# Samples"
      ]
    },
    {
      "cell_type": "markdown",
      "metadata": {
        "id": "N2JZKiSDrq6r"
      },
      "source": [
        "## Gumbel-softmax"
      ]
    },
    {
      "cell_type": "code",
      "execution_count": null,
      "metadata": {
        "scrolled": false,
        "id": "EkdBEvh-rq6r",
        "outputId": "777bdc19-2a1d-4daa-ae89-c4dcfb3b0cf2",
        "colab": {
          "base_uri": "https://localhost:8080/",
          "height": 499
        }
      },
      "outputs": [
        {
          "output_type": "display_data",
          "data": {
            "image/png": "[encoded data removed]",
            "text/plain": [
              "<Figure size 1152x576 with 6 Axes>"
            ]
          },
          "metadata": {
            "needs_background": "light"
          }
        }
      ],
      "source": [
        "n = 1\n",
        "tau_vals = [0.01, 0.1, 0.5, 1, 5, 10]\n",
        "plt.figure(figsize=(16,8))\n",
        "for i in range(1, 7):\n",
        "    plt.subplot(230+i)\n",
        "    z = sample_gumbel_softmax(pi=pi, n=n, temperature=tau_vals[i-1])\n",
        "    plt.bar(np.arange(k)+1, z.flatten().numpy())\n",
        "    plt.title('Temperature: {}'.format(tau_vals[i-1]))\n",
        "# plt.ylim(0,1)"
      ]
    },
    {
      "cell_type": "markdown",
      "metadata": {
        "id": "NcEC0xYnrq6s"
      },
      "source": [
        "## Categorical"
      ]
    },
    {
      "cell_type": "code",
      "execution_count": null,
      "metadata": {
        "id": "mTYcESmRrq6s",
        "outputId": "c26065b2-95c3-4cbc-87bb-d477d41c0195",
        "colab": {
          "base_uri": "https://localhost:8080/"
        }
      },
      "outputs": [
        {
          "output_type": "execute_result",
          "data": {
            "text/plain": [
              "tensor([[0.0991, 0.1059, 0.0824, 0.1046, 0.1088, 0.0886, 0.0863, 0.1003, 0.1171,\n",
              "         0.1069]])"
            ]
          },
          "metadata": {},
          "execution_count": 66
        }
      ],
      "source": [
        "z"
      ]
    },
    {
      "cell_type": "code",
      "execution_count": null,
      "metadata": {
        "id": "30lci4bRrq6t",
        "outputId": "e4db1cd7-3771-4202-f4f4-55e9e0bb7b30",
        "colab": {
          "base_uri": "https://localhost:8080/",
          "height": 317
        }
      },
      "outputs": [
        {
          "output_type": "stream",
          "name": "stdout",
          "text": [
            "z categorical: tensor([8.])\n",
            "one_hot index: (range(0, 1), tensor([8]))\n"
          ]
        },
        {
          "output_type": "execute_result",
          "data": {
            "text/plain": [
              "<BarContainer object of 10 artists>"
            ]
          },
          "metadata": {},
          "execution_count": 67
        },
        {
          "output_type": "display_data",
          "data": {
            "image/png": "[encoded data removed]",
            "text/plain": [
              "<Figure size 432x288 with 1 Axes>"
            ]
          },
          "metadata": {
            "needs_background": "light"
          }
        }
      ],
      "source": [
        "z = torch.distributions.Categorical(probs=pi).sample((n,)).float()\n",
        "print(f'z categorical: {z}')\n",
        "one_hot = torch.zeros(n,k)\n",
        "print(f'one_hot index: {range(n),z.long()}')\n",
        "one_hot[range(n),z.long()] = 1\n",
        "plt.bar(np.arange(k)+1, one_hot.mean(dim=0))\n",
        "# plt.ylim(0,1)"
      ]
    },
    {
      "cell_type": "markdown",
      "metadata": {
        "id": "VhpF_VGVrq6t"
      },
      "source": [
        "# Expectation"
      ]
    },
    {
      "cell_type": "markdown",
      "metadata": {
        "id": "rBKTjcQkrq6t"
      },
      "source": [
        "## Gumbel-softmax"
      ]
    },
    {
      "cell_type": "code",
      "execution_count": null,
      "metadata": {
        "scrolled": false,
        "id": "5rx5gFjyrq6t",
        "outputId": "46bfb264-63c0-4afc-9fe6-3309ddf74f02",
        "colab": {
          "base_uri": "https://localhost:8080/",
          "height": 499
        }
      },
      "outputs": [
        {
          "output_type": "display_data",
          "data": {
            "image/png": "[encoded data removed]",
            "text/plain": [
              "<Figure size 1152x576 with 6 Axes>"
            ]
          },
          "metadata": {
            "needs_background": "light"
          }
        }
      ],
      "source": [
        "n = 1000\n",
        "tau_vals = [0.01, 0.1, 0.5, 1, 5, 10]\n",
        "plt.figure(figsize=(16,8))\n",
        "for i in range(1, 7):\n",
        "    plt.subplot(230+i)\n",
        "    z = sample_gumbel_softmax(pi=pi, n=n, temperature=tau_vals[i-1])\n",
        "    plt.bar(np.arange(k)+1, z.mean(dim=0).numpy())\n",
        "    plt.title('Temperature: {}'.format(tau_vals[i-1]))\n",
        "# plt.ylim(0,1)"
      ]
    },
    {
      "cell_type": "markdown",
      "metadata": {
        "id": "nWO5syjwrq6u"
      },
      "source": [
        "## Categorical"
      ]
    },
    {
      "cell_type": "code",
      "execution_count": null,
      "metadata": {
        "id": "4Mp9n_ETrq6u",
        "outputId": "87900d5c-0dab-492d-8819-ea2f09ff7978",
        "colab": {
          "base_uri": "https://localhost:8080/",
          "height": 282
        }
      },
      "outputs": [
        {
          "output_type": "execute_result",
          "data": {
            "text/plain": [
              "<BarContainer object of 10 artists>"
            ]
          },
          "metadata": {},
          "execution_count": 69
        },
        {
          "output_type": "display_data",
          "data": {
            "image/png": "[encoded data removed]",
            "text/plain": [
              "<Figure size 432x288 with 1 Axes>"
            ]
          },
          "metadata": {
            "needs_background": "light"
          }
        }
      ],
      "source": [
        "z = torch.distributions.Categorical(probs=pi).sample((n,)).float()\n",
        "one_hot = torch.zeros(n,k)\n",
        "one_hot[range(n),z.long()] = 1\n",
        "plt.bar(np.arange(k)+1, one_hot.mean(dim=0).numpy())\n",
        "# plt.ylim(0,1)"
      ]
    },
    {
      "cell_type": "code",
      "execution_count": null,
      "metadata": {
        "id": "GE6LEOsYrq6u"
      },
      "outputs": [],
      "source": [
        ""
      ]
    }
  ]
}