{
  "nbformat": 4,
  "nbformat_minor": 0,
  "metadata": {
    "colab": {
      "provenance": [],
      "include_colab_link": true
    },
    "kernelspec": {
      "name": "python3",
      "display_name": "Python 3"
    },
    "language_info": {
      "name": "python"
    },
    "accelerator": "GPU"
  },
  "cells": [
    {
      "cell_type": "markdown",
      "metadata": {
        "id": "view-in-github",
        "colab_type": "text"
      },
      "source": [
        "<a href=\"https://colab.research.google.com/github/finardi/tutos/blob/master/flops_bw_microbench.ipynb\" target=\"_parent\"><img src=\"https://colab.research.google.com/assets/colab-badge.svg\" alt=\"Open In Colab\"/></a>"
      ]
    },
    {
      "cell_type": "code",
      "execution_count": null,
      "metadata": {
        "colab": {
          "base_uri": "https://localhost:8080/"
        },
        "id": "1QuhJc-6g4MC",
        "outputId": "91ac46b8-4ce8-4c0b-b3a7-9ada88f8a0b9"
      },
      "outputs": [
        {
          "output_type": "stream",
          "name": "stdout",
          "text": [
            "1 ops\n",
            "itr time: 551.8865585327148\n",
            "FLOPS: 0.03 TF/s\n",
            "Mem B/W: 243.20 GB/s\n",
            "\n",
            "2 ops\n",
            "itr time: 536.1175537109375\n",
            "FLOPS: 0.06 TF/s\n",
            "Mem B/W: 250.35 GB/s\n",
            "\n",
            "4 ops\n",
            "itr time: 536.8518829345703\n",
            "FLOPS: 0.13 TF/s\n",
            "Mem B/W: 250.01 GB/s\n",
            "\n",
            "8 ops\n",
            "itr time: 546.0476875305176\n",
            "FLOPS: 0.25 TF/s\n",
            "Mem B/W: 245.80 GB/s\n",
            "\n",
            "16 ops\n",
            "itr time: 547.6737022399902\n",
            "FLOPS: 0.49 TF/s\n",
            "Mem B/W: 245.07 GB/s\n",
            "\n",
            "32 ops\n",
            "itr time: 545.7353591918945\n",
            "FLOPS: 0.98 TF/s\n",
            "Mem B/W: 245.94 GB/s\n",
            "\n",
            "64 ops\n",
            "itr time: 576.3602256774902\n",
            "FLOPS: 1.86 TF/s\n",
            "Mem B/W: 232.87 GB/s\n",
            "\n",
            "128 ops\n",
            "itr time: 906.0049057006836\n",
            "FLOPS: 2.37 TF/s\n",
            "Mem B/W: 148.14 GB/s\n",
            "\n",
            "256 ops\n",
            "itr time: 1454.777717590332\n",
            "FLOPS: 2.95 TF/s\n",
            "Mem B/W: 92.26 GB/s\n",
            "\n",
            "512 ops\n",
            "itr time: 3782.1030616760254\n",
            "FLOPS: 2.27 TF/s\n",
            "Mem B/W: 35.49 GB/s\n",
            "\n"
          ]
        }
      ],
      "source": [
        "import torch\n",
        "import time\n",
        "\n",
        "values = []\n",
        "def calc_flops(func, sz, loop_iters):\n",
        "  inputs = [torch.randn(sz, device='cuda')]\n",
        "  for _ in range(5):\n",
        "    func(*inputs)\n",
        "  torch.cuda.synchronize()\n",
        "  iters = 100\n",
        "  begin = time.time()\n",
        "  for _ in range(iters):\n",
        "    func(*inputs)\n",
        "  torch.cuda.synchronize()\n",
        "  t = (time.time()-begin)\n",
        "  iters_per_s = iters/t\n",
        "  flops = sz * loop_iters\n",
        "  bytes_per_elem = 4\n",
        "  num_reads = 1\n",
        "  num_writes = 1\n",
        "  mem_bw = sz * (num_reads + num_writes) * bytes_per_elem\n",
        "  print(f\"{loop_iters} ops\")\n",
        "  print(f\"itr time: {t *1e6 / iters}\")\n",
        "  print(f\"FLOPS: {iters_per_s * flops/1e12:.2f} TF/s\")\n",
        "  print(f\"Mem B/W: {iters_per_s * mem_bw/1e9:.2f} GB/s\")\n",
        "  print()\n",
        "  values.append((t / iters, iters_per_s * flops, iters_per_s * mem_bw))\n",
        "\n",
        "for iters in [2**i for i in range(10)]:\n",
        "  def f(x):\n",
        "    for _ in range(iters):\n",
        "      x = x * 2\n",
        "    return x\n",
        "\n",
        "  sz = 2**24\n",
        "  f = torch.jit.trace(f, (torch.randn(sz, device='cuda')))\n",
        "  with torch.jit.fuser(\"fuser2\"):\n",
        "    calc_flops(f, sz, iters)\n",
        "  # print(values)"
      ]
    },
    {
      "cell_type": "code",
      "source": [
        "times, flops, mem_bw = zip(*values)"
      ],
      "metadata": {
        "id": "j-NnG0SahApQ"
      },
      "execution_count": null,
      "outputs": []
    },
    {
      "cell_type": "code",
      "source": [
        "!nvidia-smi"
      ],
      "metadata": {
        "colab": {
          "base_uri": "https://localhost:8080/"
        },
        "id": "xbiMJXAUOyaV",
        "outputId": "a6848ef5-5f64-4099-cd42-9888bcc28cdc"
      },
      "execution_count": null,
      "outputs": [
        {
          "output_type": "stream",
          "name": "stdout",
          "text": [
            "Mon Jan 31 13:08:22 2022       \n",
            "+-----------------------------------------------------------------------------+\n",
            "| NVIDIA-SMI 495.46       Driver Version: 460.32.03    CUDA Version: 11.2     |\n",
            "|-------------------------------+----------------------+----------------------+\n",
            "| GPU  Name        Persistence-M| Bus-Id        Disp.A | Volatile Uncorr. ECC |\n",
            "| Fan  Temp  Perf  Pwr:Usage/Cap|         Memory-Usage | GPU-Util  Compute M. |\n",
            "|                               |                      |               MIG M. |\n",
            "|===============================+======================+======================|\n",
            "|   0  Tesla T4            Off  | 00000000:00:04.0 Off |                    0 |\n",
            "| N/A   57C    P0    29W /  70W |   6442MiB / 15109MiB |      0%      Default |\n",
            "|                               |                      |                  N/A |\n",
            "+-------------------------------+----------------------+----------------------+\n",
            "                                                                               \n",
            "+-----------------------------------------------------------------------------+\n",
            "| Processes:                                                                  |\n",
            "|  GPU   GI   CI        PID   Type   Process name                  GPU Memory |\n",
            "|        ID   ID                                                   Usage      |\n",
            "|=============================================================================|\n",
            "|  No running processes found                                                 |\n",
            "+-----------------------------------------------------------------------------+\n"
          ]
        }
      ]
    },
    {
      "cell_type": "code",
      "source": [
        "import matplotlib.pyplot as plt\n",
        "import matplotlib.gridspec as gridspec\n",
        "\n",
        "peak_tflops = 8.141/2\n",
        "peak_bw = 0.32\n",
        "\n",
        "gs = gridspec.GridSpec(1, 3)\n",
        "plt.figure(figsize=(15,4))\n",
        "\n",
        "plt.subplot(gs[0])\n",
        "plt.yscale('log')\n",
        "plt.xlabel('repeat')\n",
        "plt.ylabel('Runtime (us)')\n",
        "plt.plot([str(2**i) for i in range(len(times))], [i * 1e6 for i in times])\n",
        "plt.title(\"Runtime\")\n",
        "# plt.show()\n",
        "\n",
        "plt.subplot(gs[1])\n",
        "\n",
        "peak = plt.axhline(peak_tflops, color = 'g')\n",
        "# plt.xscale('log')\n",
        "plt.yscale('log')\n",
        "plt.xlabel('repeat')\n",
        "plt.ylabel('Teraflops')\n",
        "res, = plt.plot([str(2**i) for i in range(len(flops))], [i/1e12 for i in flops])\n",
        "ax = plt.gca()\n",
        "import matplotlib.ticker as mticker\n",
        "plt.legend([res, peak], ['Achieved', 'Peak'])\n",
        "\n",
        "plt.title(\"FLOPS\")\n",
        "ax.yaxis.set_major_formatter(mticker.ScalarFormatter())\n",
        "\n",
        "\n",
        "plt.subplot(gs[2])\n",
        "peak = plt.axhline(peak_bw, color = 'g')\n",
        "\n",
        "plt.yscale('log')\n",
        "plt.xlabel('repeat')\n",
        "plt.ylabel('Bandwidth (GB)')\n",
        "plt.plot([str(2**i) for i in range(len(mem_bw))], [i/1e12 for i in mem_bw])\n",
        "ax = plt.gca()\n",
        "ax.yaxis.set_major_formatter(mticker.ScalarFormatter())\n",
        "ax.yaxis.set_minor_formatter(mticker.ScalarFormatter())\n",
        "\n",
        "import matplotlib.ticker as mticker\n",
        "\n",
        "plt.title(\"Memory Bandwidth\")\n",
        "plt.savefig('microbench.png', bbox_inches='tight')"
      ],
      "metadata": {
        "id": "iVbDszOSiB1g",
        "colab": {
          "base_uri": "https://localhost:8080/",
          "height": 294
        },
        "outputId": "581484be-43e2-45e5-ca4a-d26fc7c8b8e9"
      },
      "execution_count": null,
      "outputs": [
        {
          "output_type": "display_data",
          "data": {
            "image/png": "[encoded data removed]",
            "text/plain": [
              "<Figure size 1080x288 with 3 Axes>"
            ]
          },
          "metadata": {
            "needs_background": "light"
          }
        }
      ]
    },
    {
      "cell_type": "code",
      "source": [],
      "metadata": {
        "id": "T_-b2cAnOhSg"
      },
      "execution_count": null,
      "outputs": []
    }
  ]
}