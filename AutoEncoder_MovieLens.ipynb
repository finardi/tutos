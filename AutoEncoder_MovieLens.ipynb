{
  "nbformat": 4,
  "nbformat_minor": 0,
  "metadata": {
    "colab": {
      "name": "AutoEncoder - MovieLens.ipynb",
      "provenance": [],
      "collapsed_sections": [],
      "machine_shape": "hm",
      "mount_file_id": "1schR-i1pzSDPpYjnyks0RiK9Nx45mT8w",
      "authorship_tag": "ABX9TyP3Dx6QRmRK/rvg+pZAE84m",
      "include_colab_link": true
    },
    "kernelspec": {
      "name": "python3",
      "display_name": "Python 3"
    },
    "accelerator": "GPU"
  },
  "cells": [
    {
      "cell_type": "markdown",
      "metadata": {
        "id": "view-in-github",
        "colab_type": "text"
      },
      "source": [
        "<a href=\"https://colab.research.google.com/github/finardi/tutos/blob/master/AutoEncoder_MovieLens.ipynb\" target=\"_parent\"><img src=\"https://colab.research.google.com/assets/colab-badge.svg\" alt=\"Open In Colab\"/></a>"
      ]
    },
    {
      "cell_type": "code",
      "metadata": {
        "colab": {
          "base_uri": "https://localhost:8080/"
        },
        "id": "rWe7IQ59eAGY",
        "outputId": "1ca05c28-5bdf-4073-824f-38460ff7060c"
      },
      "source": [
        "!nvidia-smi"
      ],
      "execution_count": 1,
      "outputs": [
        {
          "output_type": "stream",
          "text": [
            "Mon Jan 11 22:01:42 2021       \n",
            "+-----------------------------------------------------------------------------+\n",
            "| NVIDIA-SMI 460.27.04    Driver Version: 418.67       CUDA Version: 10.1     |\n",
            "|-------------------------------+----------------------+----------------------+\n",
            "| GPU  Name        Persistence-M| Bus-Id        Disp.A | Volatile Uncorr. ECC |\n",
            "| Fan  Temp  Perf  Pwr:Usage/Cap|         Memory-Usage | GPU-Util  Compute M. |\n",
            "|                               |                      |               MIG M. |\n",
            "|===============================+======================+======================|\n",
            "|   0  Tesla V100-SXM2...  Off  | 00000000:00:04.0 Off |                    0 |\n",
            "| N/A   32C    P0    24W / 300W |      0MiB / 16130MiB |      0%      Default |\n",
            "|                               |                      |                 ERR! |\n",
            "+-------------------------------+----------------------+----------------------+\n",
            "                                                                               \n",
            "+-----------------------------------------------------------------------------+\n",
            "| Processes:                                                                  |\n",
            "|  GPU   GI   CI        PID   Type   Process name                  GPU Memory |\n",
            "|        ID   ID                                                   Usage      |\n",
            "|=============================================================================|\n",
            "|  No running processes found                                                 |\n",
            "+-----------------------------------------------------------------------------+\n"
          ],
          "name": "stdout"
        }
      ]
    },
    {
      "cell_type": "code",
      "metadata": {
        "colab": {
          "base_uri": "https://localhost:8080/"
        },
        "id": "hLIWpiLeP_HQ",
        "outputId": "b85705c7-8433-47e7-c1cb-d6d8b60d74fe"
      },
      "source": [
        "import os\n",
        "import numpy as np\n",
        "import pandas as pd\n",
        "import torch\n",
        "\n",
        "\n",
        "device = torch.device('cuda' if torch.cuda.is_available() else 'cpu')\n",
        "manual_seed = 2357 # only primers ;)\n",
        " \n",
        "def deterministic(rep=True):\n",
        "    if rep:\n",
        "        np.random.seed(manual_seed)\n",
        "        torch.manual_seed(manual_seed)\n",
        "        if torch.cuda.is_available():\n",
        "            torch.cuda.manual_seed(manual_seed)\n",
        "            torch.cuda.manual_seed_all(manual_seed)\n",
        "        torch.backends.cudnn.enabled = False \n",
        "        torch.backends.cudnn.benchmark = False\n",
        "        torch.backends.cudnn.deterministic = True\n",
        "        print(f'Experimento deterministico, seed: {manual_seed} -- ', end = '')\n",
        "        print(f'Existe {torch.cuda.device_count()} GPU\\\n",
        " {torch.cuda.get_device_name(0)} disponível.')\n",
        "    else:\n",
        "        print('Experimento randomico')\n",
        "deterministic()"
      ],
      "execution_count": 2,
      "outputs": [
        {
          "output_type": "stream",
          "text": [
            "Experimento deterministico, seed: 2357 -- Existe 1 GPU Tesla V100-SXM2-16GB disponível.\n"
          ],
          "name": "stdout"
        }
      ]
    },
    {
      "cell_type": "markdown",
      "metadata": {
        "id": "cS83W5VjV5lN"
      },
      "source": [
        "# Read the data"
      ]
    },
    {
      "cell_type": "code",
      "metadata": {
        "colab": {
          "base_uri": "https://localhost:8080/"
        },
        "id": "rQ-L-RgLWVWB",
        "outputId": "83ac7da8-1be4-4a65-985a-be0af2ce761f"
      },
      "source": [
        "!unzip /content/drive/MyDrive/Colab\\ Notebooks/RecSys/movielens_datasets/ml100k/ml-100k.zip"
      ],
      "execution_count": 3,
      "outputs": [
        {
          "output_type": "stream",
          "text": [
            "Archive:  /content/drive/MyDrive/Colab Notebooks/RecSys/movielens_datasets/ml100k/ml-100k.zip\n",
            "   creating: ml-100k/\n",
            "  inflating: ml-100k/allbut.pl       \n",
            "  inflating: ml-100k/mku.sh          \n",
            "  inflating: ml-100k/README          \n",
            "  inflating: ml-100k/u.data          \n",
            "  inflating: ml-100k/u.genre         \n",
            "  inflating: ml-100k/u.info          \n",
            "  inflating: ml-100k/u.item          \n",
            "  inflating: ml-100k/u.occupation    \n",
            "  inflating: ml-100k/u.user          \n",
            "  inflating: ml-100k/u1.base         \n",
            "  inflating: ml-100k/u1.test         \n",
            "  inflating: ml-100k/u2.base         \n",
            "  inflating: ml-100k/u2.test         \n",
            "  inflating: ml-100k/u3.base         \n",
            "  inflating: ml-100k/u3.test         \n",
            "  inflating: ml-100k/u4.base         \n",
            "  inflating: ml-100k/u4.test         \n",
            "  inflating: ml-100k/u5.base         \n",
            "  inflating: ml-100k/u5.test         \n",
            "  inflating: ml-100k/ua.base         \n",
            "  inflating: ml-100k/ua.test         \n",
            "  inflating: ml-100k/ub.base         \n",
            "  inflating: ml-100k/ub.test         \n"
          ],
          "name": "stdout"
        }
      ]
    },
    {
      "cell_type": "code",
      "metadata": {
        "id": "KA8UJ9KgVHaO"
      },
      "source": [
        "path_data_dir = '/content/drive/MyDrive/Colab Notebooks/RecSys/movielens_datasets/ml-1m'\n",
        "\n",
        "movies = pd.read_csv(os.path.join(path_data_dir, 'movies.dat') , sep = '::', header = None, engine = 'python', encoding = 'latin-1')\n",
        "users = pd.read_csv(os.path.join(path_data_dir, 'users.dat'), sep = '::', header = None, engine = 'python', encoding = 'latin-1')\n",
        "ratings = pd.read_csv(os.path.join(path_data_dir, 'ratings.dat'), sep = '::', header = None, engine = 'python', encoding = 'latin-1')"
      ],
      "execution_count": 4,
      "outputs": []
    },
    {
      "cell_type": "code",
      "metadata": {
        "colab": {
          "base_uri": "https://localhost:8080/",
          "height": 204
        },
        "id": "niJiHHQFVuMi",
        "outputId": "12fa9fe5-492f-48f2-cb9e-25dbaabd3389"
      },
      "source": [
        "movies.head()"
      ],
      "execution_count": 5,
      "outputs": [
        {
          "output_type": "execute_result",
          "data": {
            "text/html": [
              "<div>\n",
              "<style scoped>\n",
              "    .dataframe tbody tr th:only-of-type {\n",
              "        vertical-align: middle;\n",
              "    }\n",
              "\n",
              "    .dataframe tbody tr th {\n",
              "        vertical-align: top;\n",
              "    }\n",
              "\n",
              "    .dataframe thead th {\n",
              "        text-align: right;\n",
              "    }\n",
              "</style>\n",
              "<table border=\"1\" class=\"dataframe\">\n",
              "  <thead>\n",
              "    <tr style=\"text-align: right;\">\n",
              "      <th></th>\n",
              "      <th>0</th>\n",
              "      <th>1</th>\n",
              "      <th>2</th>\n",
              "    </tr>\n",
              "  </thead>\n",
              "  <tbody>\n",
              "    <tr>\n",
              "      <th>0</th>\n",
              "      <td>1</td>\n",
              "      <td>Toy Story (1995)</td>\n",
              "      <td>Animation|Children's|Comedy</td>\n",
              "    </tr>\n",
              "    <tr>\n",
              "      <th>1</th>\n",
              "      <td>2</td>\n",
              "      <td>Jumanji (1995)</td>\n",
              "      <td>Adventure|Children's|Fantasy</td>\n",
              "    </tr>\n",
              "    <tr>\n",
              "      <th>2</th>\n",
              "      <td>3</td>\n",
              "      <td>Grumpier Old Men (1995)</td>\n",
              "      <td>Comedy|Romance</td>\n",
              "    </tr>\n",
              "    <tr>\n",
              "      <th>3</th>\n",
              "      <td>4</td>\n",
              "      <td>Waiting to Exhale (1995)</td>\n",
              "      <td>Comedy|Drama</td>\n",
              "    </tr>\n",
              "    <tr>\n",
              "      <th>4</th>\n",
              "      <td>5</td>\n",
              "      <td>Father of the Bride Part II (1995)</td>\n",
              "      <td>Comedy</td>\n",
              "    </tr>\n",
              "  </tbody>\n",
              "</table>\n",
              "</div>"
            ],
            "text/plain": [
              "   0                                   1                             2\n",
              "0  1                    Toy Story (1995)   Animation|Children's|Comedy\n",
              "1  2                      Jumanji (1995)  Adventure|Children's|Fantasy\n",
              "2  3             Grumpier Old Men (1995)                Comedy|Romance\n",
              "3  4            Waiting to Exhale (1995)                  Comedy|Drama\n",
              "4  5  Father of the Bride Part II (1995)                        Comedy"
            ]
          },
          "metadata": {
            "tags": []
          },
          "execution_count": 5
        }
      ]
    },
    {
      "cell_type": "code",
      "metadata": {
        "colab": {
          "base_uri": "https://localhost:8080/",
          "height": 204
        },
        "id": "DFL4rVd0V_Kz",
        "outputId": "bc71f5d9-e430-4104-a0ab-d869355d49c5"
      },
      "source": [
        "users.head()"
      ],
      "execution_count": 6,
      "outputs": [
        {
          "output_type": "execute_result",
          "data": {
            "text/html": [
              "<div>\n",
              "<style scoped>\n",
              "    .dataframe tbody tr th:only-of-type {\n",
              "        vertical-align: middle;\n",
              "    }\n",
              "\n",
              "    .dataframe tbody tr th {\n",
              "        vertical-align: top;\n",
              "    }\n",
              "\n",
              "    .dataframe thead th {\n",
              "        text-align: right;\n",
              "    }\n",
              "</style>\n",
              "<table border=\"1\" class=\"dataframe\">\n",
              "  <thead>\n",
              "    <tr style=\"text-align: right;\">\n",
              "      <th></th>\n",
              "      <th>0</th>\n",
              "      <th>1</th>\n",
              "      <th>2</th>\n",
              "      <th>3</th>\n",
              "      <th>4</th>\n",
              "    </tr>\n",
              "  </thead>\n",
              "  <tbody>\n",
              "    <tr>\n",
              "      <th>0</th>\n",
              "      <td>1</td>\n",
              "      <td>F</td>\n",
              "      <td>1</td>\n",
              "      <td>10</td>\n",
              "      <td>48067</td>\n",
              "    </tr>\n",
              "    <tr>\n",
              "      <th>1</th>\n",
              "      <td>2</td>\n",
              "      <td>M</td>\n",
              "      <td>56</td>\n",
              "      <td>16</td>\n",
              "      <td>70072</td>\n",
              "    </tr>\n",
              "    <tr>\n",
              "      <th>2</th>\n",
              "      <td>3</td>\n",
              "      <td>M</td>\n",
              "      <td>25</td>\n",
              "      <td>15</td>\n",
              "      <td>55117</td>\n",
              "    </tr>\n",
              "    <tr>\n",
              "      <th>3</th>\n",
              "      <td>4</td>\n",
              "      <td>M</td>\n",
              "      <td>45</td>\n",
              "      <td>7</td>\n",
              "      <td>02460</td>\n",
              "    </tr>\n",
              "    <tr>\n",
              "      <th>4</th>\n",
              "      <td>5</td>\n",
              "      <td>M</td>\n",
              "      <td>25</td>\n",
              "      <td>20</td>\n",
              "      <td>55455</td>\n",
              "    </tr>\n",
              "  </tbody>\n",
              "</table>\n",
              "</div>"
            ],
            "text/plain": [
              "   0  1   2   3      4\n",
              "0  1  F   1  10  48067\n",
              "1  2  M  56  16  70072\n",
              "2  3  M  25  15  55117\n",
              "3  4  M  45   7  02460\n",
              "4  5  M  25  20  55455"
            ]
          },
          "metadata": {
            "tags": []
          },
          "execution_count": 6
        }
      ]
    },
    {
      "cell_type": "code",
      "metadata": {
        "colab": {
          "base_uri": "https://localhost:8080/",
          "height": 204
        },
        "id": "vixaFCoeWAaq",
        "outputId": "bb5e763b-6c9a-4b70-90b4-fa4d5a657bbf"
      },
      "source": [
        "ratings.head()"
      ],
      "execution_count": 7,
      "outputs": [
        {
          "output_type": "execute_result",
          "data": {
            "text/html": [
              "<div>\n",
              "<style scoped>\n",
              "    .dataframe tbody tr th:only-of-type {\n",
              "        vertical-align: middle;\n",
              "    }\n",
              "\n",
              "    .dataframe tbody tr th {\n",
              "        vertical-align: top;\n",
              "    }\n",
              "\n",
              "    .dataframe thead th {\n",
              "        text-align: right;\n",
              "    }\n",
              "</style>\n",
              "<table border=\"1\" class=\"dataframe\">\n",
              "  <thead>\n",
              "    <tr style=\"text-align: right;\">\n",
              "      <th></th>\n",
              "      <th>0</th>\n",
              "      <th>1</th>\n",
              "      <th>2</th>\n",
              "      <th>3</th>\n",
              "    </tr>\n",
              "  </thead>\n",
              "  <tbody>\n",
              "    <tr>\n",
              "      <th>0</th>\n",
              "      <td>1</td>\n",
              "      <td>1193</td>\n",
              "      <td>5</td>\n",
              "      <td>978300760</td>\n",
              "    </tr>\n",
              "    <tr>\n",
              "      <th>1</th>\n",
              "      <td>1</td>\n",
              "      <td>661</td>\n",
              "      <td>3</td>\n",
              "      <td>978302109</td>\n",
              "    </tr>\n",
              "    <tr>\n",
              "      <th>2</th>\n",
              "      <td>1</td>\n",
              "      <td>914</td>\n",
              "      <td>3</td>\n",
              "      <td>978301968</td>\n",
              "    </tr>\n",
              "    <tr>\n",
              "      <th>3</th>\n",
              "      <td>1</td>\n",
              "      <td>3408</td>\n",
              "      <td>4</td>\n",
              "      <td>978300275</td>\n",
              "    </tr>\n",
              "    <tr>\n",
              "      <th>4</th>\n",
              "      <td>1</td>\n",
              "      <td>2355</td>\n",
              "      <td>5</td>\n",
              "      <td>978824291</td>\n",
              "    </tr>\n",
              "  </tbody>\n",
              "</table>\n",
              "</div>"
            ],
            "text/plain": [
              "   0     1  2          3\n",
              "0  1  1193  5  978300760\n",
              "1  1   661  3  978302109\n",
              "2  1   914  3  978301968\n",
              "3  1  3408  4  978300275\n",
              "4  1  2355  5  978824291"
            ]
          },
          "metadata": {
            "tags": []
          },
          "execution_count": 7
        }
      ]
    },
    {
      "cell_type": "markdown",
      "metadata": {
        "id": "ITVmlpzQWB_h"
      },
      "source": [
        "## Read in train and test sets¶\n"
      ]
    },
    {
      "cell_type": "code",
      "metadata": {
        "colab": {
          "base_uri": "https://localhost:8080/"
        },
        "id": "UKyKzoGvWqzT",
        "outputId": "c1dc7da6-40d0-459f-ba2d-967a1b61a64e"
      },
      "source": [
        "#  training_set: user ID, movie ID, rating, timestampes\n",
        "\n",
        "training_set = pd.read_csv('ml-100k/u1.base', delimiter = '\\t', header = None)\n",
        "print(training_set.head(3))"
      ],
      "execution_count": 8,
      "outputs": [
        {
          "output_type": "stream",
          "text": [
            "   0  1  2          3\n",
            "0  1  1  5  874965758\n",
            "1  1  2  3  876893171\n",
            "2  1  3  4  878542960\n"
          ],
          "name": "stdout"
        }
      ]
    },
    {
      "cell_type": "code",
      "metadata": {
        "colab": {
          "base_uri": "https://localhost:8080/"
        },
        "id": "4zObWrHXWwYb",
        "outputId": "1a37390b-a3f4-4e8d-c74c-14f8830c1ad6"
      },
      "source": [
        "##convert it to array\n",
        "training_set = np.array(training_set, dtype = 'int')\n",
        "print(training_set.shape)"
      ],
      "execution_count": 9,
      "outputs": [
        {
          "output_type": "stream",
          "text": [
            "(80000, 4)\n"
          ],
          "name": "stdout"
        }
      ]
    },
    {
      "cell_type": "code",
      "metadata": {
        "colab": {
          "base_uri": "https://localhost:8080/"
        },
        "id": "N-UgQ78sW8Ry",
        "outputId": "a4a32ce6-8216-499e-ff81-c59227a86abb"
      },
      "source": [
        "test_set = pd.read_csv('ml-100k/u1.test', delimiter = '\\t', header = None)\n",
        "##convert it to array\n",
        "test_set = np.array(test_set, dtype = 'int')\n",
        "print(test_set.shape)"
      ],
      "execution_count": 10,
      "outputs": [
        {
          "output_type": "stream",
          "text": [
            "(20000, 4)\n"
          ],
          "name": "stdout"
        }
      ]
    },
    {
      "cell_type": "markdown",
      "metadata": {
        "id": "PDBsi5P1W-wS"
      },
      "source": [
        "# Data prep"
      ]
    },
    {
      "cell_type": "code",
      "metadata": {
        "colab": {
          "base_uri": "https://localhost:8080/"
        },
        "id": "B3_nxCY9YE0g",
        "outputId": "3e70210d-b69b-4e4a-d358-4b499e8ff0b4"
      },
      "source": [
        "#take max users id in train and test data\n",
        "nb_users = int(max(max(training_set[:,0]), max(test_set[:,0])))\n",
        "nb_movies = int(max(max(training_set[:,1]), max(test_set[:,1])))\n",
        "\n",
        "nb_users, nb_movies "
      ],
      "execution_count": 11,
      "outputs": [
        {
          "output_type": "execute_result",
          "data": {
            "text/plain": [
              "(943, 1682)"
            ]
          },
          "metadata": {
            "tags": []
          },
          "execution_count": 11
        }
      ]
    },
    {
      "cell_type": "code",
      "metadata": {
        "id": "EIT4wVAqYHxu"
      },
      "source": [
        "def convert(data):\n",
        "    new_data = []\n",
        "    for id_users in range(1, nb_users + 1):\n",
        "        ##id of movies that is rated by current users\n",
        "        id_movies = data[:,1][data[:,0] == id_users]\n",
        "        \n",
        "        ##rate of movies that is given by current user\n",
        "        id_ratings = data[:,2][data[:,0] == id_users]\n",
        "        \n",
        "        #inialize ratings for all movies\n",
        "        #set 0 for movies that are not rated by current users\n",
        "        ratings = np.zeros(nb_movies)\n",
        "        #movie id starts from 1, 1st movie will be 1st element in rating with index as 0\n",
        "        ratings[id_movies - 1] = id_ratings\n",
        "        new_data.append(list(ratings))\n",
        "    return new_data"
      ],
      "execution_count": 12,
      "outputs": []
    },
    {
      "cell_type": "code",
      "metadata": {
        "id": "JadcjnHGaXtX"
      },
      "source": [
        "training_set = convert(training_set)\n",
        "test_set = convert(test_set)\n",
        "\n",
        "#to tensor\n",
        "training_set = torch.FloatTensor(training_set)\n",
        "test_set = torch.FloatTensor(test_set)"
      ],
      "execution_count": 13,
      "outputs": []
    },
    {
      "cell_type": "code",
      "metadata": {
        "colab": {
          "base_uri": "https://localhost:8080/"
        },
        "id": "D836O08OafFO",
        "outputId": "c852846b-c9c2-4e4d-cf61-ad964978a12f"
      },
      "source": [
        "training_set"
      ],
      "execution_count": 14,
      "outputs": [
        {
          "output_type": "execute_result",
          "data": {
            "text/plain": [
              "tensor([[5., 3., 4.,  ..., 0., 0., 0.],\n",
              "        [4., 0., 0.,  ..., 0., 0., 0.],\n",
              "        [0., 0., 0.,  ..., 0., 0., 0.],\n",
              "        ...,\n",
              "        [5., 0., 0.,  ..., 0., 0., 0.],\n",
              "        [0., 0., 0.,  ..., 0., 0., 0.],\n",
              "        [0., 5., 0.,  ..., 0., 0., 0.]])"
            ]
          },
          "metadata": {
            "tags": []
          },
          "execution_count": 14
        }
      ]
    },
    {
      "cell_type": "markdown",
      "metadata": {
        "id": "aGyGhFT7bEL8"
      },
      "source": [
        "# Model"
      ]
    },
    {
      "cell_type": "code",
      "metadata": {
        "id": "nLg-6KXJcdiY"
      },
      "source": [
        "class Net(torch.nn.Module):\n",
        "    def __init__(self, ):\n",
        "        super().__init__()\n",
        "        \n",
        "        #encoding\n",
        "        self.fc1 = torch.nn.Linear(nb_movies, 20)\n",
        "        self.fc2 = torch.nn.Linear(20, 10)\n",
        "        \n",
        "        #decoding\n",
        "        self.fc3 = torch.nn.Linear(10, 20)\n",
        "        self.fc4 = torch.nn.Linear(20, nb_movies)\n",
        "        self.activation = torch.nn.Sigmoid()\n",
        "    \n",
        "    def forward(self, x):\n",
        "        o = self.activation(self.fc1(x))\n",
        "        o = self.activation(self.fc2(o))\n",
        "        o = self.activation(self.fc3(o))\n",
        "        return self.fc4(o)"
      ],
      "execution_count": 15,
      "outputs": []
    },
    {
      "cell_type": "code",
      "metadata": {
        "id": "GqoS_TORczPq"
      },
      "source": [
        "net = Net().to(device)\n",
        "\n",
        "criterion = torch.nn.MSELoss()\n",
        "\n",
        "#create optimizer object\n",
        "#parameters of all auto-encoders defined in the class\n",
        "optimizer = torch.optim.RMSprop(net.parameters(), lr = 0.01, weight_decay = 0.5)"
      ],
      "execution_count": 16,
      "outputs": []
    },
    {
      "cell_type": "markdown",
      "metadata": {
        "id": "7qVpVwHidylY"
      },
      "source": [
        "# Training"
      ]
    },
    {
      "cell_type": "code",
      "metadata": {
        "colab": {
          "base_uri": "https://localhost:8080/"
        },
        "id": "iQVitVRndYjp",
        "outputId": "2a412283-9d9b-4c22-ed7c-0db39e8b9630"
      },
      "source": [
        "#loop all epochs\n",
        "nb_epoch = 200\n",
        "for epoch in range(1, nb_epoch + 1):\n",
        "    train_loss = 0\n",
        "    #exclude users who did not rate any movies\n",
        "    #define a float\n",
        "    s = 0.\n",
        "    #loop through each users\n",
        "    for id_user in range(nb_users):\n",
        "        #get all rating for current user from training_set\n",
        "        #nn does not take single dimension vector, so add a batch dimension\n",
        "        #a batch of sinlge inptu vector, update weigths after each vector\n",
        "        input = torch.autograd.Variable(training_set[id_user]).unsqueeze(0).to(device)\n",
        "        #create target by copying input\n",
        "        target = input.clone().to(device)\n",
        "        #only look at users who rated at least 1 movie\n",
        "        if torch.sum(target.data > 0) > 0:\n",
        "            #get output from the network, a vector of predicted value\n",
        "            output = net(input)\n",
        "            #do not compute gradient with respect to target\n",
        "            target.require_grad = False\n",
        "            #don't account the output whose initial input is 0\n",
        "            output[target == 0] = 0\n",
        "            loss = criterion(output, target)\n",
        "            #make demonitor is not zero, to add a small number\n",
        "            mean_corrector = nb_movies / float(torch.sum(target.data>0) + 1e-10)\n",
        "            #backward method to determine which direction \n",
        "            loss.backward()\n",
        "            #access the data of loss object .data[0]\n",
        "            #adjust the loss to compute relevant mean for all movies for current user\n",
        "            train_loss += np.sqrt(loss.item() * mean_corrector)\n",
        "            s += 1.\n",
        "            #apply optimizer to update weights, decides the amount of weight udpates\n",
        "            optimizer.step()\n",
        "    if epoch % 10 == 0:\n",
        "        print(f'Epoch: {epoch}: Train loss: {train_loss/s:.4}')"
      ],
      "execution_count": 20,
      "outputs": [
        {
          "output_type": "stream",
          "text": [
            "epoch: 10: Train loss: 0.9801\n",
            "epoch: 20: Train loss: 0.9664\n",
            "epoch: 30: Train loss: 0.9553\n",
            "epoch: 40: Train loss: 0.9546\n",
            "epoch: 50: Train loss: 0.9473\n",
            "epoch: 60: Train loss: 0.9395\n",
            "epoch: 70: Train loss: 0.9335\n",
            "epoch: 80: Train loss: 0.9309\n",
            "epoch: 90: Train loss: 0.9268\n",
            "epoch: 100: Train loss: 0.9235\n",
            "epoch: 110: Train loss: 0.9208\n",
            "epoch: 120: Train loss: 0.9188\n",
            "epoch: 130: Train loss: 0.9167\n",
            "epoch: 140: Train loss: 0.9158\n",
            "epoch: 150: Train loss: 0.9144\n",
            "epoch: 160: Train loss: 0.9134\n",
            "epoch: 170: Train loss: 0.9119\n",
            "epoch: 180: Train loss: 0.9112\n",
            "epoch: 190: Train loss: 0.9097\n",
            "epoch: 200: Train loss: 0.909\n"
          ],
          "name": "stdout"
        }
      ]
    },
    {
      "cell_type": "markdown",
      "metadata": {
        "id": "CH550E_IfBkm"
      },
      "source": [
        "# Evaluate"
      ]
    },
    {
      "cell_type": "code",
      "metadata": {
        "colab": {
          "base_uri": "https://localhost:8080/"
        },
        "id": "mwB98TGse-h6",
        "outputId": "e153ac6e-091c-47ce-8b1a-3782d61b2066"
      },
      "source": [
        "#loop through each users\n",
        "test_loss, s = 0, 0.\n",
        "for id_user in range(nb_users):\n",
        "    #keep using training set\n",
        "    input = torch.autograd.Variable(training_set[id_user]).unsqueeze(0).to(device)\n",
        "    #create target by copying input\n",
        "    target = torch.autograd.Variable(test_set[id_user]).unsqueeze(0).to(device)\n",
        "    #only look at users who rated at least 1 movie\n",
        "    if torch.sum(target.data > 0) > 0:\n",
        "        #get output from the network, a vector of predicted value\n",
        "        output = net(input)\n",
        "        #do not compute gradient with respect to target\n",
        "        target.require_grad = False\n",
        "        #don't account the output whose initial input is 0\n",
        "        output[target == 0] = 0\n",
        "        loss = criterion(output, target)\n",
        "        #make demonitor is not zero, to add a small number\n",
        "        mean_corrector = nb_movies/float(torch.sum(target.data > 0) + 1e-10)\n",
        "        \n",
        "        \n",
        "        #access the data of loss object .data[0]\n",
        "        #adjust the loss to compute relevant mean for all movies for current user\n",
        "        test_loss += np.sqrt(loss.item() * mean_corrector)\n",
        "        s += 1.\n",
        "print(f'Test loss: {test_loss/s:.4}')"
      ],
      "execution_count": 23,
      "outputs": [
        {
          "output_type": "stream",
          "text": [
            "Test loss: 0.9523\n"
          ],
          "name": "stdout"
        }
      ]
    },
    {
      "cell_type": "markdown",
      "metadata": {
        "id": "2ZyoY-OYdtQe"
      },
      "source": [
        "# Print Predictions"
      ]
    },
    {
      "cell_type": "code",
      "metadata": {
        "colab": {
          "base_uri": "https://localhost:8080/"
        },
        "id": "jq7pr_L4farJ",
        "outputId": "f678fa9d-98f7-4405-b65e-e9911a31e36d"
      },
      "source": [
        "user_id = 0\n",
        "movie_title = movies.iloc[:nb_movies, 1:2]\n",
        "user_rating = training_set.data.numpy()[user_id, :].reshape(-1,1)\n",
        "user_target = test_set.data.numpy()[user_id, :].reshape(-1,1)\n",
        "\n",
        "user_input = torch.autograd.Variable(training_set[user_id]).unsqueeze(0).to(device)\n",
        "print(training_set[user_id])\n",
        "predicted = net(user_input)\n",
        "predicted = predicted.data.cpu().numpy().reshape(-1,1)\n",
        "print(predicted)\n",
        "result_array = np.hstack([movie_title, user_target, predicted])\n",
        "result_array = result_array[result_array[:, 1] > 0]\n",
        "result_df = pd.DataFrame(data=result_array, columns=['Movie', 'Target Rating', 'Predicted'])"
      ],
      "execution_count": 29,
      "outputs": [
        {
          "output_type": "stream",
          "text": [
            "tensor([5., 3., 4.,  ..., 0., 0., 0.])\n",
            "[[3.8871922]\n",
            " [3.377602 ]\n",
            " [2.9045982]\n",
            " ...\n",
            " [2.0260649]\n",
            " [3.099457 ]\n",
            " [3.1787095]]\n"
          ],
          "name": "stdout"
        }
      ]
    },
    {
      "cell_type": "code",
      "metadata": {
        "colab": {
          "base_uri": "https://localhost:8080/",
          "height": 204
        },
        "id": "BXIExGu7feTk",
        "outputId": "bacfab8e-6a3b-4378-f65e-ab0ca3381543"
      },
      "source": [
        "result_df.head()"
      ],
      "execution_count": 30,
      "outputs": [
        {
          "output_type": "execute_result",
          "data": {
            "text/html": [
              "<div>\n",
              "<style scoped>\n",
              "    .dataframe tbody tr th:only-of-type {\n",
              "        vertical-align: middle;\n",
              "    }\n",
              "\n",
              "    .dataframe tbody tr th {\n",
              "        vertical-align: top;\n",
              "    }\n",
              "\n",
              "    .dataframe thead th {\n",
              "        text-align: right;\n",
              "    }\n",
              "</style>\n",
              "<table border=\"1\" class=\"dataframe\">\n",
              "  <thead>\n",
              "    <tr style=\"text-align: right;\">\n",
              "      <th></th>\n",
              "      <th>Movie</th>\n",
              "      <th>Target Rating</th>\n",
              "      <th>Predicted</th>\n",
              "    </tr>\n",
              "  </thead>\n",
              "  <tbody>\n",
              "    <tr>\n",
              "      <th>0</th>\n",
              "      <td>Heat (1995)</td>\n",
              "      <td>5</td>\n",
              "      <td>3.78763</td>\n",
              "    </tr>\n",
              "    <tr>\n",
              "      <th>1</th>\n",
              "      <td>GoldenEye (1995)</td>\n",
              "      <td>3</td>\n",
              "      <td>3.86266</td>\n",
              "    </tr>\n",
              "    <tr>\n",
              "      <th>2</th>\n",
              "      <td>Dracula: Dead and Loving It (1995)</td>\n",
              "      <td>5</td>\n",
              "      <td>4.46161</td>\n",
              "    </tr>\n",
              "    <tr>\n",
              "      <th>3</th>\n",
              "      <td>Nixon (1995)</td>\n",
              "      <td>5</td>\n",
              "      <td>3.82889</td>\n",
              "    </tr>\n",
              "    <tr>\n",
              "      <th>4</th>\n",
              "      <td>Sense and Sensibility (1995)</td>\n",
              "      <td>3</td>\n",
              "      <td>3.28658</td>\n",
              "    </tr>\n",
              "  </tbody>\n",
              "</table>\n",
              "</div>"
            ],
            "text/plain": [
              "                                Movie Target Rating Predicted\n",
              "0                         Heat (1995)             5   3.78763\n",
              "1                    GoldenEye (1995)             3   3.86266\n",
              "2  Dracula: Dead and Loving It (1995)             5   4.46161\n",
              "3                        Nixon (1995)             5   3.82889\n",
              "4        Sense and Sensibility (1995)             3   3.28658"
            ]
          },
          "metadata": {
            "tags": []
          },
          "execution_count": 30
        }
      ]
    },
    {
      "cell_type": "code",
      "metadata": {
        "id": "LhQoKrsqgEhY"
      },
      "source": [
        ""
      ],
      "execution_count": null,
      "outputs": []
    }
  ]
}