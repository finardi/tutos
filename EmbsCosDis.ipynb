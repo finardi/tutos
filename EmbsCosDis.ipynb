{
  "nbformat": 4,
  "nbformat_minor": 0,
  "metadata": {
    "colab": {
      "name": "EmbsCosDis.ipynb",
      "provenance": [],
      "collapsed_sections": [],
      "authorship_tag": "ABX9TyP+5iNY93hLsuEOlsgERnaW",
      "include_colab_link": true
    },
    "kernelspec": {
      "name": "python3",
      "display_name": "Python 3"
    }
  },
  "cells": [
    {
      "cell_type": "markdown",
      "metadata": {
        "id": "view-in-github",
        "colab_type": "text"
      },
      "source": [
        "<a href=\"https://colab.research.google.com/github/finardi/tutos/blob/master/EmbsCosDis.ipynb\" target=\"_parent\"><img src=\"https://colab.research.google.com/assets/colab-badge.svg\" alt=\"Open In Colab\"/></a>"
      ]
    },
    {
      "cell_type": "code",
      "metadata": {
        "id": "gAVRlCA7NeGz",
        "colab_type": "code",
        "colab": {}
      },
      "source": [
        "import uuid \n",
        "import pandas as pd\n",
        "import numpy as np\n",
        "from itertools import combinations\n",
        "from scipy.spatial import distance # 1 - cos_similarity"
      ],
      "execution_count": 1,
      "outputs": []
    },
    {
      "cell_type": "code",
      "metadata": {
        "id": "b0CJ72BDNjxx",
        "colab_type": "code",
        "colab": {
          "base_uri": "https://localhost:8080/",
          "height": 436
        },
        "outputId": "60512bf9-2362-4941-b645-aa0523a6b8e0"
      },
      "source": [
        "# gerando IDS alpha numéricos\n",
        "K = 6_000\n",
        "ids_ = [uuid.uuid4().hex[:6].upper() for i in range(K)]\n",
        "\n",
        "#garantindo que os IDS gerados são únicos\n",
        "ids_ = list(set(ids_)); print(len(ids_))\n",
        "df = pd.DataFrame({'ID':ids_})\n",
        "\n",
        "# fake embeddings\n",
        "embs = []\n",
        "for i in range(len(ids_)):\n",
        "    embs.append(np.random.random(768))\n",
        "embs = np.array(embs)\n",
        "\n",
        "df"
      ],
      "execution_count": 2,
      "outputs": [
        {
          "output_type": "stream",
          "text": [
            "5999\n"
          ],
          "name": "stdout"
        },
        {
          "output_type": "execute_result",
          "data": {
            "text/html": [
              "<div>\n",
              "<style scoped>\n",
              "    .dataframe tbody tr th:only-of-type {\n",
              "        vertical-align: middle;\n",
              "    }\n",
              "\n",
              "    .dataframe tbody tr th {\n",
              "        vertical-align: top;\n",
              "    }\n",
              "\n",
              "    .dataframe thead th {\n",
              "        text-align: right;\n",
              "    }\n",
              "</style>\n",
              "<table border=\"1\" class=\"dataframe\">\n",
              "  <thead>\n",
              "    <tr style=\"text-align: right;\">\n",
              "      <th></th>\n",
              "      <th>ID</th>\n",
              "    </tr>\n",
              "  </thead>\n",
              "  <tbody>\n",
              "    <tr>\n",
              "      <th>0</th>\n",
              "      <td>F8EE83</td>\n",
              "    </tr>\n",
              "    <tr>\n",
              "      <th>1</th>\n",
              "      <td>342965</td>\n",
              "    </tr>\n",
              "    <tr>\n",
              "      <th>2</th>\n",
              "      <td>D04146</td>\n",
              "    </tr>\n",
              "    <tr>\n",
              "      <th>3</th>\n",
              "      <td>2CBD8C</td>\n",
              "    </tr>\n",
              "    <tr>\n",
              "      <th>4</th>\n",
              "      <td>3258CF</td>\n",
              "    </tr>\n",
              "    <tr>\n",
              "      <th>...</th>\n",
              "      <td>...</td>\n",
              "    </tr>\n",
              "    <tr>\n",
              "      <th>5994</th>\n",
              "      <td>2DEDCD</td>\n",
              "    </tr>\n",
              "    <tr>\n",
              "      <th>5995</th>\n",
              "      <td>2A480E</td>\n",
              "    </tr>\n",
              "    <tr>\n",
              "      <th>5996</th>\n",
              "      <td>350BF3</td>\n",
              "    </tr>\n",
              "    <tr>\n",
              "      <th>5997</th>\n",
              "      <td>9059C8</td>\n",
              "    </tr>\n",
              "    <tr>\n",
              "      <th>5998</th>\n",
              "      <td>BEA503</td>\n",
              "    </tr>\n",
              "  </tbody>\n",
              "</table>\n",
              "<p>5999 rows × 1 columns</p>\n",
              "</div>"
            ],
            "text/plain": [
              "          ID\n",
              "0     F8EE83\n",
              "1     342965\n",
              "2     D04146\n",
              "3     2CBD8C\n",
              "4     3258CF\n",
              "...      ...\n",
              "5994  2DEDCD\n",
              "5995  2A480E\n",
              "5996  350BF3\n",
              "5997  9059C8\n",
              "5998  BEA503\n",
              "\n",
              "[5999 rows x 1 columns]"
            ]
          },
          "metadata": {
            "tags": []
          },
          "execution_count": 2
        }
      ]
    },
    {
      "cell_type": "code",
      "metadata": {
        "id": "0MiGtpuGDe7J",
        "colab_type": "code",
        "colab": {}
      },
      "source": [
        "class EmbsCosDist:\n",
        "    \"\"\"\n",
        "    Entrada:\n",
        "        -   dataframe com os IDs dos documentos\n",
        "        -   embeddings de algum método: BERT, TF-IDF, W2V\n",
        "    \n",
        "    Executa: \n",
        "        -   a distãncia do cosseno: 1 - similaridade\n",
        "\n",
        "    Saída:\n",
        "        -   dataframe com as cols.: \n",
        "                ID1: id do 1o documento\n",
        "                ID2: id do 2o documento\n",
        "                COS_DIST: distância do cossendo entre (1o e 2o) documento. \n",
        "    \"\"\"\n",
        "    \n",
        "    def __init__(self, df, embs):\n",
        "        self.embs = embs\n",
        "        self.df = df.copy()\n",
        "    \n",
        "    def tuple_array_cos(self):\n",
        "        \n",
        "        #combinatória dos pares i,j para todo (i !=k)\n",
        "        comb = np.fromiter(combinations(range(self.embs.shape[0]), 2), dtype='i,i')\n",
        "        \n",
        "        #ids dos documentos\n",
        "        ids = self.df.ID.values\n",
        "        \n",
        "        #ids do 1o documento\n",
        "        ids1 = ids[comb['f0']]\n",
        "\n",
        "        #ids do 2o documento\n",
        "        ids2 = ids[comb['f1']]\n",
        "        \n",
        "        #ids em forma de tupla (1o documento, 2o documento)\n",
        "        tuple_ids = [(ids1[i], ids2[i]) for i in range(ids1.shape[0])]\n",
        "\n",
        "        #para guardar as distâncias do cosseno\n",
        "        cos_d = []\n",
        "        #------------------------------------------------------------------\n",
        "        #para todos os pares (i,j)\n",
        "        for j, id in enumerate(comb):\n",
        "\n",
        "            # calcula a distância com o scipy\n",
        "            cos_dist = distance.cosine(self.embs[id[0]], self.embs[id[1]])\n",
        "            \n",
        "            #gurada as distâncias do cosseno\n",
        "            cos_d.append(cos_dist)\n",
        "            \n",
        "            #if que acompanha a evoluçao\n",
        "            if j%1_000_000==0:\n",
        "                print(f'{j} of {comb.shape[0]}')\n",
        "        #------------------------------------------------------------------\n",
        "        return cos_d, tuple_ids\n",
        "\n",
        "    def get_dataframe(self):\n",
        "        \n",
        "        #instância o método tuple_array\n",
        "        cos_d, ids = self.tuple_array_cos()\n",
        "        \n",
        "        #cria um dataframe com as colunas de interesse\n",
        "        df_cos = pd.DataFrame({'ID':ids, 'COS_DIST': cos_d})\n",
        "        \n",
        "        #quebra a tupla em duas colunas\n",
        "        df_cos[['ID1', 'ID2']] = pd.DataFrame(df_cos['ID'].tolist(), index=df_cos.index)\n",
        "        \n",
        "        #reordena o dataframe\n",
        "        df_cos = df_cos[['ID1', 'ID2', 'COS_DIST']]\n",
        "\n",
        "        return df_cos"
      ],
      "execution_count": 3,
      "outputs": []
    },
    {
      "cell_type": "code",
      "metadata": {
        "id": "wKCBDOVWDmrD",
        "colab_type": "code",
        "colab": {
          "base_uri": "https://localhost:8080/",
          "height": 357
        },
        "outputId": "0e1b5428-f62f-4ab9-f6d6-4c77bb7fe261"
      },
      "source": [
        "%%time\n",
        "ECD = EmbsCosDist(df, embs)\n",
        "df_class = ECD.get_dataframe()"
      ],
      "execution_count": 4,
      "outputs": [
        {
          "output_type": "stream",
          "text": [
            "0 of 17991001\n",
            "1000000 of 17991001\n",
            "2000000 of 17991001\n",
            "3000000 of 17991001\n",
            "4000000 of 17991001\n",
            "5000000 of 17991001\n",
            "6000000 of 17991001\n",
            "7000000 of 17991001\n",
            "8000000 of 17991001\n",
            "9000000 of 17991001\n",
            "10000000 of 17991001\n",
            "11000000 of 17991001\n",
            "12000000 of 17991001\n",
            "13000000 of 17991001\n",
            "14000000 of 17991001\n",
            "15000000 of 17991001\n",
            "16000000 of 17991001\n",
            "17000000 of 17991001\n",
            "CPU times: user 11min 6s, sys: 3.54 s, total: 11min 10s\n",
            "Wall time: 11min 10s\n"
          ],
          "name": "stdout"
        }
      ]
    },
    {
      "cell_type": "code",
      "metadata": {
        "id": "jOT_n88RN4s6",
        "colab_type": "code",
        "colab": {
          "base_uri": "https://localhost:8080/",
          "height": 419
        },
        "outputId": "e7ab616b-24f4-4a4c-c8eb-c1fae5874285"
      },
      "source": [
        "df_class"
      ],
      "execution_count": 5,
      "outputs": [
        {
          "output_type": "execute_result",
          "data": {
            "text/html": [
              "<div>\n",
              "<style scoped>\n",
              "    .dataframe tbody tr th:only-of-type {\n",
              "        vertical-align: middle;\n",
              "    }\n",
              "\n",
              "    .dataframe tbody tr th {\n",
              "        vertical-align: top;\n",
              "    }\n",
              "\n",
              "    .dataframe thead th {\n",
              "        text-align: right;\n",
              "    }\n",
              "</style>\n",
              "<table border=\"1\" class=\"dataframe\">\n",
              "  <thead>\n",
              "    <tr style=\"text-align: right;\">\n",
              "      <th></th>\n",
              "      <th>ID1</th>\n",
              "      <th>ID2</th>\n",
              "      <th>COS_DIST</th>\n",
              "    </tr>\n",
              "  </thead>\n",
              "  <tbody>\n",
              "    <tr>\n",
              "      <th>0</th>\n",
              "      <td>F8EE83</td>\n",
              "      <td>342965</td>\n",
              "      <td>0.236677</td>\n",
              "    </tr>\n",
              "    <tr>\n",
              "      <th>1</th>\n",
              "      <td>F8EE83</td>\n",
              "      <td>D04146</td>\n",
              "      <td>0.248018</td>\n",
              "    </tr>\n",
              "    <tr>\n",
              "      <th>2</th>\n",
              "      <td>F8EE83</td>\n",
              "      <td>2CBD8C</td>\n",
              "      <td>0.257660</td>\n",
              "    </tr>\n",
              "    <tr>\n",
              "      <th>3</th>\n",
              "      <td>F8EE83</td>\n",
              "      <td>3258CF</td>\n",
              "      <td>0.238607</td>\n",
              "    </tr>\n",
              "    <tr>\n",
              "      <th>4</th>\n",
              "      <td>F8EE83</td>\n",
              "      <td>B483BD</td>\n",
              "      <td>0.271757</td>\n",
              "    </tr>\n",
              "    <tr>\n",
              "      <th>...</th>\n",
              "      <td>...</td>\n",
              "      <td>...</td>\n",
              "      <td>...</td>\n",
              "    </tr>\n",
              "    <tr>\n",
              "      <th>17990996</th>\n",
              "      <td>2A480E</td>\n",
              "      <td>9059C8</td>\n",
              "      <td>0.258392</td>\n",
              "    </tr>\n",
              "    <tr>\n",
              "      <th>17990997</th>\n",
              "      <td>2A480E</td>\n",
              "      <td>BEA503</td>\n",
              "      <td>0.237146</td>\n",
              "    </tr>\n",
              "    <tr>\n",
              "      <th>17990998</th>\n",
              "      <td>350BF3</td>\n",
              "      <td>9059C8</td>\n",
              "      <td>0.271053</td>\n",
              "    </tr>\n",
              "    <tr>\n",
              "      <th>17990999</th>\n",
              "      <td>350BF3</td>\n",
              "      <td>BEA503</td>\n",
              "      <td>0.247198</td>\n",
              "    </tr>\n",
              "    <tr>\n",
              "      <th>17991000</th>\n",
              "      <td>9059C8</td>\n",
              "      <td>BEA503</td>\n",
              "      <td>0.257573</td>\n",
              "    </tr>\n",
              "  </tbody>\n",
              "</table>\n",
              "<p>17991001 rows × 3 columns</p>\n",
              "</div>"
            ],
            "text/plain": [
              "             ID1     ID2  COS_DIST\n",
              "0         F8EE83  342965  0.236677\n",
              "1         F8EE83  D04146  0.248018\n",
              "2         F8EE83  2CBD8C  0.257660\n",
              "3         F8EE83  3258CF  0.238607\n",
              "4         F8EE83  B483BD  0.271757\n",
              "...          ...     ...       ...\n",
              "17990996  2A480E  9059C8  0.258392\n",
              "17990997  2A480E  BEA503  0.237146\n",
              "17990998  350BF3  9059C8  0.271053\n",
              "17990999  350BF3  BEA503  0.247198\n",
              "17991000  9059C8  BEA503  0.257573\n",
              "\n",
              "[17991001 rows x 3 columns]"
            ]
          },
          "metadata": {
            "tags": []
          },
          "execution_count": 5
        }
      ]
    },
    {
      "cell_type": "markdown",
      "metadata": {
        "id": "V-EAGjnSNvRP",
        "colab_type": "text"
      },
      "source": [
        "# Fim\n",
        "\n"
      ]
    }
  ]
}