{
  "nbformat": 4,
  "nbformat_minor": 0,
  "metadata": {
    "colab": {
      "provenance": [],
      "mount_file_id": "1tYtZE6RmNPOgIkgHFbqHswT9mU2qambT",
      "authorship_tag": "ABX9TyNEqlNx3Wx2GXEcYhFHYwXo",
      "include_colab_link": true
    },
    "kernelspec": {
      "name": "python3",
      "display_name": "Python 3"
    },
    "language_info": {
      "name": "python"
    },
    "accelerator": "GPU",
    "gpuClass": "standard"
  },
  "cells": [
    {
      "cell_type": "markdown",
      "metadata": {
        "id": "view-in-github",
        "colab_type": "text"
      },
      "source": [
        "<a href=\"https://colab.research.google.com/github/finardi/tutos/blob/master/GPT_dev.ipynb\" target=\"_parent\"><img src=\"https://colab.research.google.com/assets/colab-badge.svg\" alt=\"Open In Colab\"/></a>"
      ]
    },
    {
      "cell_type": "markdown",
      "source": [
        "#  Model"
      ],
      "metadata": {
        "id": "JsVNXXsWyZVJ"
      }
    },
    {
      "cell_type": "code",
      "source": [
        "import torch\n",
        "import torch.nn as nn\n",
        "from torch.nn import functional as F\n",
        "\n",
        "# hyperparameters\n",
        "batch_size = 3 * 64 # how many independent sequences will we process in parallel?\n",
        "block_size = 256 # what is the maximum context length for predictions?\n",
        "max_iters = 2400\n",
        "eval_interval = 200\n",
        "learning_rate = 3e-4\n",
        "device = 'cuda' if torch.cuda.is_available() else 'cpu'\n",
        "eval_iters = 200\n",
        "n_embd = 384\n",
        "n_head = 6\n",
        "n_layer = 6\n",
        "dropout = 0.2\n",
        "# ------------\n",
        "\n",
        "torch.manual_seed(2711)\n",
        "\n",
        "path_base = '/content/drive/MyDrive/Dirty-Talks/GPT'\n",
        "with open(path_base + '/harry_potter_book.txt', 'r', encoding='utf-8') as handle:\n",
        "    text = handle.read()\n",
        "text = text.lower()    \n",
        "\n",
        "# here are all the unique characters that occur in this text\n",
        "chars = sorted(list(set(text)))\n",
        "vocab_size = len(chars)\n",
        "# create a mapping from characters to integers\n",
        "stoi = { ch:i for i,ch in enumerate(chars) }\n",
        "itos = { i:ch for i,ch in enumerate(chars) }\n",
        "encode = lambda s: [stoi[c] for c in s] # encoder: take a string, output a list of integers\n",
        "decode = lambda l: ''.join([itos[i] for i in l]) # decoder: take a list of integers, output a string\n",
        "\n",
        "# Train and test splits\n",
        "data = torch.tensor(encode(text), dtype=torch.long)\n",
        "n = int(0.9*len(data)) # first 90% will be train, rest val\n",
        "train_data = data[:n]\n",
        "val_data = data[n:]\n",
        "\n",
        "# data loading\n",
        "def get_batch(split):\n",
        "    # generate a small batch of data of inputs x and targets y\n",
        "    data = train_data if split == 'train' else val_data\n",
        "    ix = torch.randint(len(data) - block_size, (batch_size,))\n",
        "    x = torch.stack([data[i:i+block_size] for i in ix])\n",
        "    y = torch.stack([data[i+1:i+block_size+1] for i in ix])\n",
        "    x, y = x.to(device), y.to(device)\n",
        "    return x, y\n",
        "\n",
        "@torch.no_grad()\n",
        "def estimate_loss():\n",
        "    out = {}\n",
        "    model.eval()\n",
        "    for split in ['train', 'val']:\n",
        "        losses = torch.zeros(eval_iters)\n",
        "        for k in range(eval_iters):\n",
        "            X, Y = get_batch(split)\n",
        "            logits, loss = model(X, Y)\n",
        "            losses[k] = loss.item()\n",
        "        out[split] = losses.mean()\n",
        "    model.train()\n",
        "    return out\n",
        "\n",
        "class Head(nn.Module):\n",
        "    \"\"\" one head of self-attention \"\"\"\n",
        "\n",
        "    def __init__(self, head_size):\n",
        "        super().__init__()\n",
        "        self.key = nn.Linear(n_embd, head_size, bias=False)\n",
        "        self.query = nn.Linear(n_embd, head_size, bias=False)\n",
        "        self.value = nn.Linear(n_embd, head_size, bias=False)\n",
        "        self.register_buffer('tril', torch.tril(torch.ones(block_size, block_size)))\n",
        "\n",
        "        self.dropout = nn.Dropout(dropout)\n",
        "\n",
        "    def forward(self, x):\n",
        "        B,T,C = x.shape\n",
        "        k = self.key(x)   # (B,T,C)\n",
        "        q = self.query(x) # (B,T,C)\n",
        "        # compute attention scores (\"affinities\")\n",
        "        wei = q @ k.transpose(-2,-1) * C**-0.5 # (B, T, C) @ (B, C, T) -> (B, T, T)\n",
        "        wei = wei.masked_fill(self.tril[:T, :T] == 0, float('-inf')) # (B, T, T)\n",
        "        wei = F.softmax(wei, dim=-1) # (B, T, T)\n",
        "        wei = self.dropout(wei)\n",
        "        # perform the weighted aggregation of the values\n",
        "        v = self.value(x) # (B,T,C)\n",
        "        out = wei @ v # (B, T, T) @ (B, T, C) -> (B, T, C)\n",
        "        return out\n",
        "\n",
        "class MultiHeadAttention(nn.Module):\n",
        "    \"\"\" multiple heads of self-attention in parallel \"\"\"\n",
        "\n",
        "    def __init__(self, num_heads, head_size):\n",
        "        super().__init__()\n",
        "        self.heads = nn.ModuleList([Head(head_size) for _ in range(num_heads)])\n",
        "        self.proj = nn.Linear(n_embd, n_embd)\n",
        "        self.dropout = nn.Dropout(dropout)\n",
        "\n",
        "    def forward(self, x):\n",
        "        out = torch.cat([h(x) for h in self.heads], dim=-1)\n",
        "        out = self.dropout(self.proj(out))\n",
        "        return out\n",
        "\n",
        "class FeedFoward(nn.Module):\n",
        "    \"\"\" a simple linear layer followed by a non-linearity \"\"\"\n",
        "\n",
        "    def __init__(self, n_embd):\n",
        "        super().__init__()\n",
        "        self.net = nn.Sequential(\n",
        "            nn.Linear(n_embd, 4 * n_embd),\n",
        "            nn.ReLU(),\n",
        "            nn.Linear(4 * n_embd, n_embd),\n",
        "            nn.Dropout(dropout),\n",
        "        )\n",
        "\n",
        "    def forward(self, x):\n",
        "        return self.net(x)\n",
        "\n",
        "class Block(nn.Module):\n",
        "    \"\"\" Transformer block: communication followed by computation \"\"\"\n",
        "\n",
        "    def __init__(self, n_embd, n_head):\n",
        "        # n_embd: embedding dimension, n_head: the number of heads we'd like\n",
        "        super().__init__()\n",
        "        head_size = n_embd // n_head\n",
        "        self.sa = MultiHeadAttention(n_head, head_size)\n",
        "        self.ffwd = FeedFoward(n_embd)\n",
        "        self.ln1 = nn.LayerNorm(n_embd)\n",
        "        self.ln2 = nn.LayerNorm(n_embd)\n",
        "\n",
        "    def forward(self, x):\n",
        "        x = x + self.sa(self.ln1(x))\n",
        "        x = x + self.ffwd(self.ln2(x))\n",
        "        return x\n",
        "\n",
        "# super simple bigram model\n",
        "class BigramLanguageModel(nn.Module):\n",
        "\n",
        "    def __init__(self):\n",
        "        super().__init__()\n",
        "        # each token directly reads off the logits for the next token from a lookup table\n",
        "        self.token_embedding_table = nn.Embedding(vocab_size, n_embd)\n",
        "        self.position_embedding_table = nn.Embedding(block_size, n_embd)\n",
        "        self.blocks = nn.Sequential(*[Block(n_embd, n_head=n_head) for _ in range(n_layer)])\n",
        "        self.ln_f = nn.LayerNorm(n_embd) # final layer norm\n",
        "        self.lm_head = nn.Linear(n_embd, vocab_size)\n",
        "\n",
        "    def forward(self, idx, targets=None):\n",
        "        B, T = idx.shape\n",
        "\n",
        "        # idx and targets are both (B,T) tensor of integers\n",
        "        tok_emb = self.token_embedding_table(idx) # (B,T,C)\n",
        "        pos_emb = self.position_embedding_table(torch.arange(T, device=device)) # (T,C)\n",
        "        x = tok_emb + pos_emb # (B,T,C)\n",
        "        x = self.blocks(x) # (B,T,C)\n",
        "        x = self.ln_f(x) # (B,T,C)\n",
        "        logits = self.lm_head(x) # (B,T,vocab_size)\n",
        "\n",
        "        if targets is None:\n",
        "            loss = None\n",
        "        else:\n",
        "            B, T, C = logits.shape\n",
        "            logits = logits.view(B*T, C)\n",
        "            targets = targets.view(B*T)\n",
        "            loss = F.cross_entropy(logits, targets)\n",
        "\n",
        "        return logits, loss\n",
        "\n",
        "    def generate(self, idx, max_new_tokens):\n",
        "        # idx is (B, T) array of indices in the current context\n",
        "        for _ in range(max_new_tokens):\n",
        "            # crop idx to the last block_size tokens\n",
        "            idx_cond = idx[:, -block_size:]\n",
        "            # get the predictions\n",
        "            logits, loss = self(idx_cond)\n",
        "            # focus only on the last time step\n",
        "            logits = logits[:, -1, :] # becomes (B, C)\n",
        "            # apply softmax to get probabilities\n",
        "            probs = F.softmax(logits, dim=-1) # (B, C)\n",
        "            # sample from the distribution\n",
        "            idx_next = torch.multinomial(probs, num_samples=1) # (B, 1)\n",
        "            # append sampled index to the running sequence\n",
        "            idx = torch.cat((idx, idx_next), dim=1) # (B, T+1)\n",
        "        return idx\n",
        "    "
      ],
      "metadata": {
        "id": "LnDA4IqVyO4Y"
      },
      "execution_count": 1,
      "outputs": []
    },
    {
      "cell_type": "markdown",
      "source": [
        "<img src=\"https://drive.google.com/uc?id=1zjImHhwPgQLnGSzbvPHDxaJjglEvesiN\" alt=\"drawing\" width=\"1500\"/>"
      ],
      "metadata": {
        "id": "lyn9ZnVK1FMX"
      }
    },
    {
      "cell_type": "code",
      "source": [
        "from IPython.display import HTML\n",
        "\n",
        "HTML(\"\"\"\n",
        "    <video alt=\"test\" controls>\n",
        "        <source src=\"https://drive.google.com/uc?id=11pPfuUZ-xNFR6MKVWU_AHCScMja3p2oc\" type=\"video/mp4\">\n",
        "    </video>\n",
        "\"\"\")"
      ],
      "metadata": {
        "colab": {
          "base_uri": "https://localhost:8080/",
          "height": 502
        },
        "id": "DMkVLizk1Z1K",
        "outputId": "54d90f39-9f5c-4d8c-8a78-4f0253e1053b"
      },
      "execution_count": 36,
      "outputs": [
        {
          "output_type": "execute_result",
          "data": {
            "text/plain": [
              "<IPython.core.display.HTML object>"
            ],
            "text/html": [
              "\n",
              "    <video alt=\"test\" controls>\n",
              "        <source src=\"https://drive.google.com/uc?id=11pPfuUZ-xNFR6MKVWU_AHCScMja3p2oc\" type=\"video/mp4\">\n",
              "    </video>\n"
            ]
          },
          "metadata": {},
          "execution_count": 36
        }
      ]
    },
    {
      "cell_type": "code",
      "source": [
        "path_save = '/content/drive/MyDrive/Dirty-Talks/GPT/ckpt/gptzinho'\n",
        "model = BigramLanguageModel()\n",
        "model.load_state_dict(torch.load(path_save))\n",
        "model.eval()\n",
        "model.to(device)\n",
        "print()"
      ],
      "metadata": {
        "colab": {
          "base_uri": "https://localhost:8080/"
        },
        "id": "KFbChtvmyACH",
        "outputId": "feab1dea-646a-4d84-8b8c-0996f0212d5f"
      },
      "execution_count": 37,
      "outputs": [
        {
          "output_type": "stream",
          "name": "stdout",
          "text": [
            "\n"
          ]
        }
      ]
    },
    {
      "cell_type": "code",
      "source": [
        "import time\n",
        "\n",
        "path_save = '/content/drive/MyDrive/Dirty-Talks/GPT/ckpt/gptzinho'\n",
        "model = BigramLanguageModel()\n",
        "model.load_state_dict(torch.load(path_save))\n",
        "model.eval()\n",
        "model.to(device)\n",
        "\n",
        "context = \"hermione perguntou\"\n",
        "context = torch.tensor(encode(context)).to(device)\n",
        "\n",
        "out = decode(model.generate(context.unsqueeze(0), max_new_tokens=300)[0].tolist())\n",
        "for char in out:\n",
        "    time.sleep(0.02)\n",
        "    print(char, end='', flush=True)"
      ],
      "metadata": {
        "colab": {
          "base_uri": "https://localhost:8080/"
        },
        "id": "6WuW8NYly0_O",
        "outputId": "663ce620-dcb7-444c-f05d-6408e2d869e8"
      },
      "execution_count": 38,
      "outputs": [
        {
          "output_type": "stream",
          "name": "stdout",
          "text": [
            "hermione perguntou:\n",
            "harry teria desaparecer a espelho da magia.\n",
            "ele sirius abaixou o peito para nos novos preparos. esperemes de fudge\n",
            "que ele conhecia de armário! com a perda voldemort viverem a lacação de rony,\n",
            "que a foto se pôs e estavam fergueram, harry acabara um garoto de probir, tentou\n",
            "arme com firmeza de que "
          ]
        }
      ]
    },
    {
      "cell_type": "markdown",
      "source": [
        ">## Antes de tudo... todas as ideias aqui são do [Karpathy](https://www.youtube.com/@AndrejKarpathy)\n",
        "> <img src=\"https://drive.google.com/uc?id=1MM_t3QzM6Zc5S23XnyNpMuh-9Ag-2yJ1\n",
        "\" alt=\"drawing\" width=\"1000\"/>\n",
        "\n",
        "\n",
        "\n"
      ],
      "metadata": {
        "id": "erC3vuiNWl79"
      }
    },
    {
      "cell_type": "markdown",
      "source": [
        "># Tipos de Transformers\n",
        "> <img src=\"https://drive.google.com/uc?id=1dn1NdpDcgL6IE_QwkpVIo6NDgIEymaqA\n",
        "\" alt=\"drawing\" width=\"1900\"/>\n"
      ],
      "metadata": {
        "id": "5D6IZmQo0kXE"
      }
    },
    {
      "cell_type": "code",
      "execution_count": 39,
      "metadata": {
        "id": "FSQhcaFafG0x",
        "colab": {
          "base_uri": "https://localhost:8080/"
        },
        "outputId": "f0e4086b-6ee1-4e8a-83f5-7363f2440ff4"
      },
      "outputs": [
        {
          "output_type": "stream",
          "name": "stdout",
          "text": [
            "- capítulo um -\n",
            "o menino que sobreviveu\n",
            "o sr. e a sra. dursley, da rua dos alfeneiros, no 4, se orgulhavam de dizer que\n",
            "eram perfeitamente normais, muito bem, obrigado. eram as últimas pessoas no\n",
            "mundo que se esperaria que se metessem em alguma coisa estranha ou\n",
            "misteriosa, porque simplesmente não compactuavam com esse tipo de bobagem.\n",
            "o sr. dursley era diretor de uma firma chamada grunnings, que fazia\n",
            "perfurações. era um homem alto e corpulento quase sem pescoço, embora\n",
            "tivesse enormes bigodes. a sra. dursley era magra e loura e tinha um pescoço\n",
            "quase duas vezes mais comprido que o normal, o que era muito útil porque ela\n",
            "passava grande parte do tempo espichando-o por cima da cerca do jardim para\n",
            "espiar os vizinhos. os dursley tinham um filhinho chamado dudley, o duda, e\n",
            "em sua opinião não havia garoto melhor em nenhum lugar do mundo.\n",
            "os dursley tinham tudo que queriam, mas tinham também um segredo, e seu\n",
            "maior receio era que alguém o descobrisse. achavam que não iriam aguentar se\n",
            "algu\n"
          ]
        }
      ],
      "source": [
        "# Carregando Dataset\n",
        "path_base = '/content/drive/MyDrive/Dirty-Talks/GPT'\n",
        "with open(path_base + '/harry_potter_book.txt', 'r', encoding='utf-8') as handle:\n",
        "    text = handle.read()\n",
        "text = text.lower()    \n",
        "print(text[:1000])"
      ]
    },
    {
      "cell_type": "code",
      "source": [
        "# Tamanho do dataset em # de chars\n",
        "print(f'Tamanho do dataset: {len(text)} chars.')"
      ],
      "metadata": {
        "colab": {
          "base_uri": "https://localhost:8080/"
        },
        "id": "fFQiqNVmmDaP",
        "outputId": "c9bf201f-01ac-43ee-b1c5-f93060472719"
      },
      "execution_count": 40,
      "outputs": [
        {
          "output_type": "stream",
          "name": "stdout",
          "text": [
            "Tamanho do dataset: 6540235 chars.\n"
          ]
        }
      ]
    },
    {
      "cell_type": "code",
      "source": [
        "chars = sorted(list(set(text)))\n",
        "vocab_size = len(chars)\n",
        "print(f\"Todos os chars: {''.join(chars)}\\nTamanho do vocab: {vocab_size}\")"
      ],
      "metadata": {
        "colab": {
          "base_uri": "https://localhost:8080/"
        },
        "id": "0nUXAUaDmZ0U",
        "outputId": "56cd4f7c-298b-4535-9966-8ed86a70e9b3"
      },
      "execution_count": 41,
      "outputs": [
        {
          "output_type": "stream",
          "name": "stdout",
          "text": [
            "Todos os chars: \n",
            " !\"&'(),-./0123456789:;?abcdefghijklmnopqrstuvwxyzªàáâãçèéêíóôõùú́\n",
            "Tamanho do vocab: 67\n"
          ]
        }
      ]
    },
    {
      "cell_type": "code",
      "source": [
        "stoi"
      ],
      "metadata": {
        "id": "qOjuhNiBAVpr"
      },
      "execution_count": null,
      "outputs": []
    },
    {
      "cell_type": "code",
      "source": [
        "stoi = {ch:i for i, ch in enumerate(chars)}\n",
        "itos = {i:ch for i, ch in enumerate(chars)}\n",
        "\n",
        "encode = lambda s: [stoi[c] for c in s]\n",
        "print(encode('oii tudo bem?'))\n",
        "\n",
        "decode = lambda l:  ''.join([itos[i] for i in l])\n",
        "print(decode(encode('oii tudo bem?')))"
      ],
      "metadata": {
        "colab": {
          "base_uri": "https://localhost:8080/"
        },
        "id": "cJ9sD-5_nKqt",
        "outputId": "1e06f564-9a47-4231-8473-ab22fb32c5b0"
      },
      "execution_count": 42,
      "outputs": [
        {
          "output_type": "stream",
          "name": "stdout",
          "text": [
            "[39, 33, 33, 1, 44, 45, 28, 39, 1, 26, 29, 37, 24]\n",
            "oii tudo bem?\n"
          ]
        }
      ]
    },
    {
      "cell_type": "code",
      "source": [
        "import torch \n",
        "data = torch.tensor(encode(text), dtype=torch.long)\n",
        "print(data.shape, data.dtype)\n",
        "print(data[:1000])"
      ],
      "metadata": {
        "colab": {
          "base_uri": "https://localhost:8080/"
        },
        "id": "XsZpUDz-5SRk",
        "outputId": "5e3ba76e-eac9-43f8-a7c9-b4f3dac06d06"
      },
      "execution_count": 44,
      "outputs": [
        {
          "output_type": "stream",
          "name": "stdout",
          "text": [
            "torch.Size([6540235]) torch.int64\n",
            "tensor([ 9,  1, 27, 25, 40, 60, 44, 45, 36, 39,  1, 45, 37,  1,  9,  0, 39,  1,\n",
            "        37, 29, 38, 33, 38, 39,  1, 41, 45, 29,  1, 43, 39, 26, 42, 29, 46, 33,\n",
            "        46, 29, 45,  0, 39,  1, 43, 42, 10,  1, 29,  1, 25,  1, 43, 42, 25, 10,\n",
            "         1, 28, 45, 42, 43, 36, 29, 49,  8,  1, 28, 25,  1, 42, 45, 25,  1, 28,\n",
            "        39, 43,  1, 25, 36, 30, 29, 38, 29, 33, 42, 39, 43,  8,  1, 38, 39,  1,\n",
            "        16,  8,  1, 43, 29,  1, 39, 42, 31, 45, 36, 32, 25, 46, 25, 37,  1, 28,\n",
            "        29,  1, 28, 33, 50, 29, 42,  1, 41, 45, 29,  0, 29, 42, 25, 37,  1, 40,\n",
            "        29, 42, 30, 29, 33, 44, 25, 37, 29, 38, 44, 29,  1, 38, 39, 42, 37, 25,\n",
            "        33, 43,  8,  1, 37, 45, 33, 44, 39,  1, 26, 29, 37,  8,  1, 39, 26, 42,\n",
            "        33, 31, 25, 28, 39, 10,  1, 29, 42, 25, 37,  1, 25, 43,  1, 65, 36, 44,\n",
            "        33, 37, 25, 43,  1, 40, 29, 43, 43, 39, 25, 43,  1, 38, 39,  0, 37, 45,\n",
            "        38, 28, 39,  1, 41, 45, 29,  1, 43, 29,  1, 29, 43, 40, 29, 42, 25, 42,\n",
            "        33, 25,  1, 41, 45, 29,  1, 43, 29,  1, 37, 29, 44, 29, 43, 43, 29, 37,\n",
            "         1, 29, 37,  1, 25, 36, 31, 45, 37, 25,  1, 27, 39, 33, 43, 25,  1, 29,\n",
            "        43, 44, 42, 25, 38, 32, 25,  1, 39, 45,  0, 37, 33, 43, 44, 29, 42, 33,\n",
            "        39, 43, 25,  8,  1, 40, 39, 42, 41, 45, 29,  1, 43, 33, 37, 40, 36, 29,\n",
            "        43, 37, 29, 38, 44, 29,  1, 38, 55, 39,  1, 27, 39, 37, 40, 25, 27, 44,\n",
            "        45, 25, 46, 25, 37,  1, 27, 39, 37,  1, 29, 43, 43, 29,  1, 44, 33, 40,\n",
            "        39,  1, 28, 29,  1, 26, 39, 26, 25, 31, 29, 37, 10,  0, 39,  1, 43, 42,\n",
            "        10,  1, 28, 45, 42, 43, 36, 29, 49,  1, 29, 42, 25,  1, 28, 33, 42, 29,\n",
            "        44, 39, 42,  1, 28, 29,  1, 45, 37, 25,  1, 30, 33, 42, 37, 25,  1, 27,\n",
            "        32, 25, 37, 25, 28, 25,  1, 31, 42, 45, 38, 38, 33, 38, 31, 43,  8,  1,\n",
            "        41, 45, 29,  1, 30, 25, 50, 33, 25,  0, 40, 29, 42, 30, 45, 42, 25, 56,\n",
            "        63, 29, 43, 10,  1, 29, 42, 25,  1, 45, 37,  1, 32, 39, 37, 29, 37,  1,\n",
            "        25, 36, 44, 39,  1, 29,  1, 27, 39, 42, 40, 45, 36, 29, 38, 44, 39,  1,\n",
            "        41, 45, 25, 43, 29,  1, 43, 29, 37,  1, 40, 29, 43, 27, 39, 56, 39,  8,\n",
            "         1, 29, 37, 26, 39, 42, 25,  0, 44, 33, 46, 29, 43, 43, 29,  1, 29, 38,\n",
            "        39, 42, 37, 29, 43,  1, 26, 33, 31, 39, 28, 29, 43, 10,  1, 25,  1, 43,\n",
            "        42, 25, 10,  1, 28, 45, 42, 43, 36, 29, 49,  1, 29, 42, 25,  1, 37, 25,\n",
            "        31, 42, 25,  1, 29,  1, 36, 39, 45, 42, 25,  1, 29,  1, 44, 33, 38, 32,\n",
            "        25,  1, 45, 37,  1, 40, 29, 43, 27, 39, 56, 39,  0, 41, 45, 25, 43, 29,\n",
            "         1, 28, 45, 25, 43,  1, 46, 29, 50, 29, 43,  1, 37, 25, 33, 43,  1, 27,\n",
            "        39, 37, 40, 42, 33, 28, 39,  1, 41, 45, 29,  1, 39,  1, 38, 39, 42, 37,\n",
            "        25, 36,  8,  1, 39,  1, 41, 45, 29,  1, 29, 42, 25,  1, 37, 45, 33, 44,\n",
            "        39,  1, 65, 44, 33, 36,  1, 40, 39, 42, 41, 45, 29,  1, 29, 36, 25,  0,\n",
            "        40, 25, 43, 43, 25, 46, 25,  1, 31, 42, 25, 38, 28, 29,  1, 40, 25, 42,\n",
            "        44, 29,  1, 28, 39,  1, 44, 29, 37, 40, 39,  1, 29, 43, 40, 33, 27, 32,\n",
            "        25, 38, 28, 39,  9, 39,  1, 40, 39, 42,  1, 27, 33, 37, 25,  1, 28, 25,\n",
            "         1, 27, 29, 42, 27, 25,  1, 28, 39,  1, 34, 25, 42, 28, 33, 37,  1, 40,\n",
            "        25, 42, 25,  0, 29, 43, 40, 33, 25, 42,  1, 39, 43,  1, 46, 33, 50, 33,\n",
            "        38, 32, 39, 43, 10,  1, 39, 43,  1, 28, 45, 42, 43, 36, 29, 49,  1, 44,\n",
            "        33, 38, 32, 25, 37,  1, 45, 37,  1, 30, 33, 36, 32, 33, 38, 32, 39,  1,\n",
            "        27, 32, 25, 37, 25, 28, 39,  1, 28, 45, 28, 36, 29, 49,  8,  1, 39,  1,\n",
            "        28, 45, 28, 25,  8,  1, 29,  0, 29, 37,  1, 43, 45, 25,  1, 39, 40, 33,\n",
            "        38, 33, 55, 39,  1, 38, 55, 39,  1, 32, 25, 46, 33, 25,  1, 31, 25, 42,\n",
            "        39, 44, 39,  1, 37, 29, 36, 32, 39, 42,  1, 29, 37,  1, 38, 29, 38, 32,\n",
            "        45, 37,  1, 36, 45, 31, 25, 42,  1, 28, 39,  1, 37, 45, 38, 28, 39, 10,\n",
            "         0, 39, 43,  1, 28, 45, 42, 43, 36, 29, 49,  1, 44, 33, 38, 32, 25, 37,\n",
            "         1, 44, 45, 28, 39,  1, 41, 45, 29,  1, 41, 45, 29, 42, 33, 25, 37,  8,\n",
            "         1, 37, 25, 43,  1, 44, 33, 38, 32, 25, 37,  1, 44, 25, 37, 26, 58, 37,\n",
            "         1, 45, 37,  1, 43, 29, 31, 42, 29, 28, 39,  8,  1, 29,  1, 43, 29, 45,\n",
            "         0, 37, 25, 33, 39, 42,  1, 42, 29, 27, 29, 33, 39,  1, 29, 42, 25,  1,\n",
            "        41, 45, 29,  1, 25, 36, 31, 45, 58, 37,  1, 39,  1, 28, 29, 43, 27, 39,\n",
            "        26, 42, 33, 43, 43, 29, 10,  1, 25, 27, 32, 25, 46, 25, 37,  1, 41, 45,\n",
            "        29,  1, 38, 55, 39,  1, 33, 42, 33, 25, 37,  1, 25, 31, 45, 29, 38, 44,\n",
            "        25, 42,  1, 43, 29,  0, 25, 36, 31, 45])\n"
          ]
        }
      ]
    },
    {
      "cell_type": "code",
      "source": [
        "# split data \n",
        "n = int((0.9* len(data)))\n",
        "train_data = data[:n]\n",
        "val_data = data[n:]"
      ],
      "metadata": {
        "id": "JksP9LXvrklM"
      },
      "execution_count": 45,
      "outputs": []
    },
    {
      "cell_type": "code",
      "source": [
        "# Main ideia dataloaders\n",
        "block_size = 8\n",
        "train_data[:block_size+1]"
      ],
      "metadata": {
        "colab": {
          "base_uri": "https://localhost:8080/"
        },
        "id": "pmkyXNfwrkic",
        "outputId": "f54761f0-5465-4b9f-f46c-0f09e48a66dc"
      },
      "execution_count": 46,
      "outputs": [
        {
          "output_type": "execute_result",
          "data": {
            "text/plain": [
              "tensor([ 9,  1, 27, 25, 40, 60, 44, 45, 36])"
            ]
          },
          "metadata": {},
          "execution_count": 46
        }
      ]
    },
    {
      "cell_type": "code",
      "source": [
        "itos[27]"
      ],
      "metadata": {
        "colab": {
          "base_uri": "https://localhost:8080/",
          "height": 36
        },
        "id": "rPnGNslfCBh3",
        "outputId": "0ba84afd-e139-4c7a-d89b-bb0046ab8d17"
      },
      "execution_count": 51,
      "outputs": [
        {
          "output_type": "execute_result",
          "data": {
            "text/plain": [
              "'c'"
            ],
            "application/vnd.google.colaboratory.intrinsic+json": {
              "type": "string"
            }
          },
          "metadata": {},
          "execution_count": 51
        }
      ]
    },
    {
      "cell_type": "code",
      "source": [
        "x = train_data[:block_size]\n",
        "y = train_data[1:block_size+1]\n",
        "\n",
        "for t in range(block_size):\n",
        "    context = x[:t+1]\n",
        "    target = y[t]\n",
        "    print(f'quando o contexto é {context} o target é {target}')"
      ],
      "metadata": {
        "colab": {
          "base_uri": "https://localhost:8080/"
        },
        "id": "d21E3BiYrkfz",
        "outputId": "738484ae-c56c-4a4e-85d5-a8112d8a84f3"
      },
      "execution_count": 47,
      "outputs": [
        {
          "output_type": "stream",
          "name": "stdout",
          "text": [
            "quando o contexto é tensor([9]) o target é 1\n",
            "quando o contexto é tensor([9, 1]) o target é 27\n",
            "quando o contexto é tensor([ 9,  1, 27]) o target é 25\n",
            "quando o contexto é tensor([ 9,  1, 27, 25]) o target é 40\n",
            "quando o contexto é tensor([ 9,  1, 27, 25, 40]) o target é 60\n",
            "quando o contexto é tensor([ 9,  1, 27, 25, 40, 60]) o target é 44\n",
            "quando o contexto é tensor([ 9,  1, 27, 25, 40, 60, 44]) o target é 45\n",
            "quando o contexto é tensor([ 9,  1, 27, 25, 40, 60, 44, 45]) o target é 36\n"
          ]
        }
      ]
    },
    {
      "cell_type": "code",
      "source": [
        "# build dataloaders\n",
        "torch.manual_seed(2711)\n",
        "batch_size = 4 # numero de sequencias independentes para processar em paralelo\n",
        "block_size = 8 # qual o tamanho maximo do contexto para fazer predicoes?\n",
        "\n",
        "def get_batch(split):\n",
        "    # gera um peno batch de entradas x e targets y\n",
        "    data = train_data if split == 'train' else val_data\n",
        "    ix = torch.randint(len(data) - block_size, (batch_size,)) # gera 4 amostras randomicas\n",
        "    x = torch.stack([data[i:i+block_size] for i in ix])\n",
        "    y = torch.stack([data[i+1:i+block_size+1] for i in ix])\n",
        "    return x, y\n",
        "\n",
        "xb, yb = get_batch('train')\n",
        "print(f'inputs: {xb.shape}\\n{xb}')    \n",
        "print(f'targets: {yb.shape}\\n{yb}')\n",
        "print('----')  \n",
        "\n",
        "for b in range(batch_size):\n",
        "    for t in range(block_size):\n",
        "        context = xb[b, :t+1]\n",
        "        target  = yb[b,t]\n",
        "        print(f'quando a entrada é {context.tolist()} o target é {target}')"
      ],
      "metadata": {
        "colab": {
          "base_uri": "https://localhost:8080/"
        },
        "id": "KzrAjvcQrkdI",
        "outputId": "4b8a555b-e0f0-405a-be3a-9aeb1355431c"
      },
      "execution_count": 24,
      "outputs": [
        {
          "output_type": "stream",
          "name": "stdout",
          "text": [
            "inputs: torch.Size([4, 8])\n",
            "tensor([[29, 36, 25,  1, 38, 55, 39,  1],\n",
            "        [ 0,  9,  1, 41, 45, 25, 38, 28],\n",
            "        [53,  1, 25, 27, 39, 43, 44, 45],\n",
            "        [29, 33, 42, 25,  1, 41, 45, 29]])\n",
            "targets: torch.Size([4, 8])\n",
            "tensor([[36, 25,  1, 38, 55, 39,  1, 30],\n",
            "        [ 9,  1, 41, 45, 25, 38, 28, 39],\n",
            "        [ 1, 25, 27, 39, 43, 44, 45, 37],\n",
            "        [33, 42, 25,  1, 41, 45, 29,  1]])\n",
            "----\n",
            "quando a entrada é [29] o target é 36\n",
            "quando a entrada é [29, 36] o target é 25\n",
            "quando a entrada é [29, 36, 25] o target é 1\n",
            "quando a entrada é [29, 36, 25, 1] o target é 38\n",
            "quando a entrada é [29, 36, 25, 1, 38] o target é 55\n",
            "quando a entrada é [29, 36, 25, 1, 38, 55] o target é 39\n",
            "quando a entrada é [29, 36, 25, 1, 38, 55, 39] o target é 1\n",
            "quando a entrada é [29, 36, 25, 1, 38, 55, 39, 1] o target é 30\n",
            "quando a entrada é [0] o target é 9\n",
            "quando a entrada é [0, 9] o target é 1\n",
            "quando a entrada é [0, 9, 1] o target é 41\n",
            "quando a entrada é [0, 9, 1, 41] o target é 45\n",
            "quando a entrada é [0, 9, 1, 41, 45] o target é 25\n",
            "quando a entrada é [0, 9, 1, 41, 45, 25] o target é 38\n",
            "quando a entrada é [0, 9, 1, 41, 45, 25, 38] o target é 28\n",
            "quando a entrada é [0, 9, 1, 41, 45, 25, 38, 28] o target é 39\n",
            "quando a entrada é [53] o target é 1\n",
            "quando a entrada é [53, 1] o target é 25\n",
            "quando a entrada é [53, 1, 25] o target é 27\n",
            "quando a entrada é [53, 1, 25, 27] o target é 39\n",
            "quando a entrada é [53, 1, 25, 27, 39] o target é 43\n",
            "quando a entrada é [53, 1, 25, 27, 39, 43] o target é 44\n",
            "quando a entrada é [53, 1, 25, 27, 39, 43, 44] o target é 45\n",
            "quando a entrada é [53, 1, 25, 27, 39, 43, 44, 45] o target é 37\n",
            "quando a entrada é [29] o target é 33\n",
            "quando a entrada é [29, 33] o target é 42\n",
            "quando a entrada é [29, 33, 42] o target é 25\n",
            "quando a entrada é [29, 33, 42, 25] o target é 1\n",
            "quando a entrada é [29, 33, 42, 25, 1] o target é 41\n",
            "quando a entrada é [29, 33, 42, 25, 1, 41] o target é 45\n",
            "quando a entrada é [29, 33, 42, 25, 1, 41, 45] o target é 29\n",
            "quando a entrada é [29, 33, 42, 25, 1, 41, 45, 29] o target é 1\n"
          ]
        }
      ]
    },
    {
      "cell_type": "code",
      "source": [
        "itos[29]"
      ],
      "metadata": {
        "colab": {
          "base_uri": "https://localhost:8080/",
          "height": 36
        },
        "id": "vDoYKXw1DrEJ",
        "outputId": "0183349d-b56e-4b19-9a87-0af8b156131a"
      },
      "execution_count": 53,
      "outputs": [
        {
          "output_type": "execute_result",
          "data": {
            "text/plain": [
              "'e'"
            ],
            "application/vnd.google.colaboratory.intrinsic+json": {
              "type": "string"
            }
          },
          "metadata": {},
          "execution_count": 53
        }
      ]
    },
    {
      "cell_type": "code",
      "source": [
        "xb"
      ],
      "metadata": {
        "colab": {
          "base_uri": "https://localhost:8080/"
        },
        "id": "CLsqFHUoDJhb",
        "outputId": "e498d748-811d-4e45-a7dc-84d8cceab768"
      },
      "execution_count": 55,
      "outputs": [
        {
          "output_type": "execute_result",
          "data": {
            "text/plain": [
              "tensor([[29, 36, 25,  1, 38, 55, 39,  1],\n",
              "        [ 0,  9,  1, 41, 45, 25, 38, 28],\n",
              "        [53,  1, 25, 27, 39, 43, 44, 45],\n",
              "        [29, 33, 42, 25,  1, 41, 45, 29]])"
            ]
          },
          "metadata": {},
          "execution_count": 55
        }
      ]
    },
    {
      "cell_type": "code",
      "source": [
        "from torch.nn import functional as F\n",
        "\n",
        "class BigramLanguageMode(torch.nn.Module):\n",
        "    def __init__(self, vocab_size):\n",
        "        super().__init__()\n",
        "        self.token_embedding_table = torch.nn.Embedding(vocab_size, vocab_size)\n",
        "\n",
        "    def forward(self, x, targets=None):\n",
        "        # x e targets sao ambos (B,T) tensores de inteiros\n",
        "        logits = self.token_embedding_table(x) # (B,T,C=vocab_size)\n",
        "\n",
        "        B, T, C = logits.shape\n",
        "\n",
        "        if targets == None:\n",
        "            loss = None\n",
        "        else:\n",
        "            logits = logits.view(B*T, C)\n",
        "            targets = targets.view(B*T)\n",
        "            loss = F.cross_entropy(logits, targets)\n",
        "        \n",
        "        return logits, loss\n",
        "\n",
        "    def generate(self, x, max_new_tokens):\n",
        "        # x é (B,T) dos índices no contexto atual\n",
        "        for _ in range(max_new_tokens):\n",
        "            # pega as predições\n",
        "            logits, loss = self(x)\n",
        "            # foca somente no último timestep\n",
        "            logits = logits[:, -1, :] # (B, C)\n",
        "            # aplica softmax para pegar a prob\n",
        "            probs = F.softmax(logits, dim=-1)\n",
        "            # amostra da distribuição\n",
        "            x_next = torch.multinomial(probs, num_samples=1) # (B,1)\n",
        "            # adiciona a amostra na sequencia \n",
        "            x = torch.cat((x, x_next), dim=1) # (B,T+1)\n",
        "\n",
        "        return x\n",
        "\n",
        "m = BigramLanguageMode(vocab_size).to(device).to(device)        \n",
        "logits, loss = m(xb.to(device), yb.to(device))\n",
        "print(logits.shape, loss)\n",
        "\n",
        "print(decode(m.generate(x = torch.zeros((1,1), dtype=torch.long).to(device), max_new_tokens=100)[0].tolist()))"
      ],
      "metadata": {
        "colab": {
          "base_uri": "https://localhost:8080/"
        },
        "id": "CxzERYsBwgex",
        "outputId": "b0c7ef11-58db-419a-ab85-b4376529d76f"
      },
      "execution_count": 64,
      "outputs": [
        {
          "output_type": "stream",
          "name": "stdout",
          "text": [
            "torch.Size([256, 67]) tensor(4.8230, device='cuda:0', grad_fn=<NllLossBackward0>)\n",
            "\n",
            "ªó&a;â)jâ7óêl((&oen0\n",
            "('.3ª8tvù,kl,&19odè7amé9sb7ç);yárêbqnáô)\")2ô.bo12-â7jj.ã9o3jc\n",
            ".6za;z4dfãíã61?ãl\n"
          ]
        }
      ]
    },
    {
      "cell_type": "markdown",
      "source": [
        "<img src=\"https://drive.google.com/uc?id=10bq7YpjM5It8_rEVLOJxa6qxhRqt_pSp\" alt=\"drawing\" width=\"1000\"/>\n",
        "\n"
      ],
      "metadata": {
        "id": "zvDEnB9k0mrF"
      }
    },
    {
      "cell_type": "code",
      "source": [
        "batch_size= 32\n",
        "\n",
        "optimizer = torch.optim.AdamW(m.parameters(), lr=1e-3)\n",
        "\n",
        "for steps in range(5000):\n",
        "    optimizer.zero_grad(set_to_none=True)\n",
        "\n",
        "    # pega um batch\n",
        "    xb, yb = get_batch('train')\n",
        "    logits, loss = m(xb.to(device), yb.to(device))\n",
        "    loss.backward()\n",
        "    optimizer.step()\n",
        "\n",
        "print(f'loss: {loss.item()}')\n",
        "\n",
        "print(decode(m.generate(x = torch.zeros((1,1), dtype=torch.long).to(device), max_new_tokens=100)[0].tolist()))"
      ],
      "metadata": {
        "colab": {
          "base_uri": "https://localhost:8080/"
        },
        "id": "rLFr9ar1wgtF",
        "outputId": "2bfbf93f-39eb-48e4-faf8-b068f03063c4"
      },
      "execution_count": 63,
      "outputs": [
        {
          "output_type": "stream",
          "name": "stdout",
          "text": [
            "loss: 2.378185749053955\n",
            "\n",
            "ha dos, te leato o mosa des éra oue ca ey sabúradouvapo, cobitalté ntado\n",
            "- s enrom r leiuelans foo p\n"
          ]
        }
      ]
    },
    {
      "cell_type": "markdown",
      "source": [
        "# Mecanismo de atenção\n"
      ],
      "metadata": {
        "id": "lQ8T-6VIN6v0"
      }
    },
    {
      "cell_type": "code",
      "source": [
        "from IPython.display import HTML\n",
        "\n",
        "# Fonte do vídeo: \n",
        "# DeepMind x UCL | Deep Learning Lectures | 8/12 | Attention and Memory in Deep Learning\n",
        "# url: https://www.youtube.com/watch?v=AIiwuClvH6k\n",
        "\n",
        "HTML(\"\"\"\n",
        "    <video alt=\"test\" controls>\n",
        "        <source src=\"https://drive.google.com/uc?id=12ylkSVbYufAxUgdAYvUgR8CV4WVMgAIP\" type=\"video/mp4\">\n",
        "    </video>\n",
        "\"\"\")\n",
        "\n"
      ],
      "metadata": {
        "colab": {
          "base_uri": "https://localhost:8080/",
          "height": 502
        },
        "id": "ERkHKwLr1xKY",
        "outputId": "10ab3e3a-700a-41f0-fcd0-4a3f3d1defc7"
      },
      "execution_count": 65,
      "outputs": [
        {
          "output_type": "execute_result",
          "data": {
            "text/plain": [
              "<IPython.core.display.HTML object>"
            ],
            "text/html": [
              "\n",
              "    <video alt=\"test\" controls>\n",
              "        <source src=\"https://drive.google.com/uc?id=12ylkSVbYufAxUgdAYvUgR8CV4WVMgAIP\" type=\"video/mp4\">\n",
              "    </video>\n"
            ]
          },
          "metadata": {},
          "execution_count": 65
        }
      ]
    },
    {
      "cell_type": "markdown",
      "source": [
        "## MHA (Multi Head Attention)\n",
        "## Vamos usar de input uma frase com 9 tokens:\n",
        "> ### [ Quero ] [ um ] [ cartão ] [ de ] [ crédito ] [ adicional ] [ para ] [ minha ] [ filha ]\n",
        "\n",
        "<img src=\"https://drive.google.com/uc?id=1VRDfKNee-Mm0WeH_psBm2Top8vBwUDcT\" alt=\"drawing\" width=\"1200\"/>\n",
        "\n",
        "<img src=\"https://drive.google.com/uc?id=1sKqUSC_RZtZoMi3oVE0AonwWcG8OKaub\" alt=\"drawing\" width=\"1200\"/>\n",
        "\n",
        "<img src=\"https://drive.google.com/uc?id=1Bzr77GYXMqjNc9fL2TBtFhYx7trHh3Bi\" alt=\"drawing\" width=\"600\"/>\n",
        "\n",
        "\n",
        "\n",
        "\n",
        "\n",
        "\n"
      ],
      "metadata": {
        "id": "5wVvgd_GdE4S"
      }
    },
    {
      "cell_type": "code",
      "source": [
        "torch.manual_seed(1337)\n",
        "B,T,C = 4,8,128 # batch, time, channels\n",
        "x = torch.randn(B,T,C)\n",
        "\n",
        "# let's see a single Head perform self-attention\n",
        "num_heads = 8\n",
        "head_size = C//num_heads\n",
        "key = nn.Linear(C, head_size, bias=False)\n",
        "query = nn.Linear(C, head_size, bias=False)\n",
        "value = nn.Linear(C, head_size, bias=False)\n",
        "k = key(x)   # (B, T, 16)\n",
        "q = query(x) # (B, T, 16)\n",
        "wei =  q @ k.transpose(-2, -1) # (B, T, 16) @ (B, 16, T) ---> (B, T, T)\n",
        "\n",
        "tril = torch.tril(torch.ones(T, T))\n",
        "#wei = torch.zeros((T,T))\n",
        "wei = wei.masked_fill(tril == 0, float('-inf'))\n",
        "wei = F.softmax(wei, dim=-1)\n",
        "\n",
        "v = value(x)\n",
        "out = wei @ v\n",
        "#out = wei @ x\n",
        "\n",
        "out.shape"
      ],
      "metadata": {
        "colab": {
          "base_uri": "https://localhost:8080/"
        },
        "id": "ZLZ8AvKD2Ulh",
        "outputId": "a80c1bfd-0fa5-42c9-b3a8-3c69b52bede7"
      },
      "execution_count": 30,
      "outputs": [
        {
          "output_type": "execute_result",
          "data": {
            "text/plain": [
              "torch.Size([4, 8, 16])"
            ]
          },
          "metadata": {},
          "execution_count": 30
        }
      ]
    },
    {
      "cell_type": "markdown",
      "source": [
        "# Layer Norm\n",
        "\n",
        "<img src=\"https://drive.google.com/uc?id=1wVgNkIkKabpn-2lcDVj2AV5kYpNkf428\" alt=\"drawing\" width=\"1000\"/>\n"
      ],
      "metadata": {
        "id": "OzxpTru2N58w"
      }
    },
    {
      "cell_type": "code",
      "source": [
        "x1, x2, x3 = torch.tensor([1,2,0,4,5,1], dtype=torch.float), \\\n",
        "             torch.tensor([3,2,1,6,2,0], dtype=torch.float), \\\n",
        "             torch.tensor([6,2,5,1,3,1], dtype=torch.float)\n",
        "\n",
        "batch = torch.stack((x1, x2, x3))\n",
        "print(f'batch shape: {batch.shape}')\n",
        "\n",
        "#mean and var by column 0 \n",
        "xmean_bnorm, xvar_bnorm = batch.mean(0, keepdim=True), batch.var(0, keepdim=True)\n",
        "\n",
        "batch_norm = (batch - xmean_bnorm) / torch.sqrt(xvar_bnorm + 1e-5)\n",
        "print(f'\\nbatch_norm mean: {batch_norm[:,0].mean():.4}, batch_norm var: {batch_norm[:,0].var():.4}\\n')\n",
        "\n",
        "#mean and var by column 1\n",
        "xmean_lnorm, xvar_lnorm = batch.mean(1, keepdim=True), batch.var(1, keepdim=True)\n",
        "\n",
        "layer_norm = (batch - xmean_lnorm) / torch.sqrt(xvar_lnorm)\n",
        "print(f'layer_norm mean: {layer_norm[0,:].mean():.4}, layer_norm var: {layer_norm[0,:].var():.4}\\n')"
      ],
      "metadata": {
        "colab": {
          "base_uri": "https://localhost:8080/"
        },
        "id": "P0tkfl_OJaKk",
        "outputId": "a0a31996-9cd6-49aa-a9fd-1d746fffd803"
      },
      "execution_count": 31,
      "outputs": [
        {
          "output_type": "stream",
          "name": "stdout",
          "text": [
            "batch shape: torch.Size([3, 6])\n",
            "\n",
            "batch_norm mean: 0.0, batch_norm var: 1.0\n",
            "\n",
            "layer_norm mean: -3.974e-08, layer_norm var: 1.0\n",
            "\n"
          ]
        }
      ]
    },
    {
      "cell_type": "code",
      "source": [
        "class LayerNorm1d: \n",
        "  \n",
        "  def __init__(self, dim, eps=1e-5):\n",
        "    self.eps = eps\n",
        "    self.gamma = torch.ones(dim)\n",
        "    self.beta = torch.zeros(dim)\n",
        "  \n",
        "  def __call__(self, x):\n",
        "    # calculate the forward pass\n",
        "    xmean = x.mean(1, keepdim=True) \n",
        "    xvar = x.var(1, keepdim=True) \n",
        "    xhat = (x - xmean) / torch.sqrt(xvar + self.eps) \n",
        "    out = self.gamma * xhat + self.beta\n",
        "    return out\n",
        "  \n",
        "  def parameters(self):\n",
        "    return [self.gamma, self.beta]\n",
        "\n",
        "layer_norm = LayerNorm1d(batch.size(1))\n",
        "ln_x = layer_norm(batch)\n",
        "ln_x.shape"
      ],
      "metadata": {
        "colab": {
          "base_uri": "https://localhost:8080/"
        },
        "id": "hK6mKlPpK6gC",
        "outputId": "dea0ff71-8bea-46cb-e6eb-8f38e85a5da7"
      },
      "execution_count": 32,
      "outputs": [
        {
          "output_type": "execute_result",
          "data": {
            "text/plain": [
              "torch.Size([3, 6])"
            ]
          },
          "metadata": {},
          "execution_count": 32
        }
      ]
    },
    {
      "cell_type": "markdown",
      "source": [
        "# Skip connections\n",
        "[Artigo](https://arxiv.org/pdf/1512.03385.pdf)\n",
        "\n",
        "<img src=\"https://drive.google.com/uc?id=1Re_QRNLzZkESLcbTTNoavpzMGLpv6g9l\" alt=\"drawing\" width=\"450\" height=\"280\"/>\n",
        "\n",
        "<img src=\"https://drive.google.com/uc?id=1myyttTn1F9FxxBbkzwJ0buKDFbriWAfE\" alt=\"drawing\" width=\"450\" height=\"280\"/>\n"
      ],
      "metadata": {
        "id": "093V8kU5cder"
      }
    },
    {
      "cell_type": "markdown",
      "source": [
        "# Dropout\n",
        "[Artigo](https://www.cs.toronto.edu/~rsalakhu/papers/srivastava14a.pdf)\n",
        "\n",
        "<img src=\"https://drive.google.com/uc?id=18ADHDL7OEocahmOSwUicQVgC8SBOv9pv\" alt=\"drawing\" width=\"900\"/>\n",
        "\n",
        "<img src=\"https://drive.google.com/uc?id=1lsCf55aDNH3mxzslgDsqSAfKNZa-3_Pw\" alt=\"drawing\" width=\"500\"/>\n"
      ],
      "metadata": {
        "id": "CtHv1q5hebK7"
      }
    },
    {
      "cell_type": "code",
      "source": [
        "import torch\n",
        "import torch.nn as nn\n",
        "from torch.nn import functional as F\n",
        "\n",
        "# hyperparameters\n",
        "batch_size = 3 * 64 # how many independent sequences will we process in parallel?\n",
        "block_size = 256 # what is the maximum context length for predictions?\n",
        "max_iters = 2400\n",
        "eval_interval = 200\n",
        "learning_rate = 3e-4\n",
        "device = 'cuda' if torch.cuda.is_available() else 'cpu'\n",
        "eval_iters = 200\n",
        "n_embd = 384\n",
        "n_head = 6\n",
        "n_layer = 6\n",
        "dropout = 0.2\n",
        "# ------------\n",
        "\n",
        "torch.manual_seed(2711)\n",
        "\n",
        "path_base = '/content/drive/MyDrive/Dirty-Talks/GPT'\n",
        "with open(path_base + '/harry_potter_book.txt', 'r', encoding='utf-8') as handle:\n",
        "    text = handle.read()\n",
        "text = text.lower()    \n",
        "\n",
        "# here are all the unique characters that occur in this text\n",
        "chars = sorted(list(set(text)))\n",
        "vocab_size = len(chars)\n",
        "# create a mapping from characters to integers\n",
        "stoi = { ch:i for i,ch in enumerate(chars) }\n",
        "itos = { i:ch for i,ch in enumerate(chars) }\n",
        "encode = lambda s: [stoi[c] for c in s] # encoder: take a string, output a list of integers\n",
        "decode = lambda l: ''.join([itos[i] for i in l]) # decoder: take a list of integers, output a string\n",
        "\n",
        "# Train and test splits\n",
        "data = torch.tensor(encode(text), dtype=torch.long)\n",
        "n = int(0.9*len(data)) # first 90% will be train, rest val\n",
        "train_data = data[:n]\n",
        "val_data = data[n:]\n",
        "\n",
        "# data loading\n",
        "def get_batch(split):\n",
        "    # generate a small batch of data of inputs x and targets y\n",
        "    data = train_data if split == 'train' else val_data\n",
        "    ix = torch.randint(len(data) - block_size, (batch_size,))\n",
        "    x = torch.stack([data[i:i+block_size] for i in ix])\n",
        "    y = torch.stack([data[i+1:i+block_size+1] for i in ix])\n",
        "    x, y = x.to(device), y.to(device)\n",
        "    return x, y\n",
        "\n",
        "@torch.no_grad()\n",
        "def estimate_loss():\n",
        "    out = {}\n",
        "    model.eval()\n",
        "    for split in ['train', 'val']:\n",
        "        losses = torch.zeros(eval_iters)\n",
        "        for k in range(eval_iters):\n",
        "            X, Y = get_batch(split)\n",
        "            logits, loss = model(X, Y)\n",
        "            losses[k] = loss.item()\n",
        "        out[split] = losses.mean()\n",
        "    model.train()\n",
        "    return out\n",
        "\n",
        "class Head(nn.Module):\n",
        "    \"\"\" one head of self-attention \"\"\"\n",
        "\n",
        "    def __init__(self, head_size):\n",
        "        super().__init__()\n",
        "        self.key = nn.Linear(n_embd, head_size, bias=False)\n",
        "        self.query = nn.Linear(n_embd, head_size, bias=False)\n",
        "        self.value = nn.Linear(n_embd, head_size, bias=False)\n",
        "        self.register_buffer('tril', torch.tril(torch.ones(block_size, block_size)))\n",
        "\n",
        "        self.dropout = nn.Dropout(dropout)\n",
        "\n",
        "    def forward(self, x):\n",
        "        B,T,C = x.shape\n",
        "        k = self.key(x)   # (B,T,C)\n",
        "        q = self.query(x) # (B,T,C)\n",
        "        # compute attention scores (\"affinities\")\n",
        "        wei = q @ k.transpose(-2,-1) * C**-0.5 # (B, T, C) @ (B, C, T) -> (B, T, T)\n",
        "        wei = wei.masked_fill(self.tril[:T, :T] == 0, float('-inf')) # (B, T, T)\n",
        "        wei = F.softmax(wei, dim=-1) # (B, T, T)\n",
        "        wei = self.dropout(wei)\n",
        "        # perform the weighted aggregation of the values\n",
        "        v = self.value(x) # (B,T,C)\n",
        "        out = wei @ v # (B, T, T) @ (B, T, C) -> (B, T, C)\n",
        "        return out\n",
        "\n",
        "class MultiHeadAttention(nn.Module):\n",
        "    \"\"\" multiple heads of self-attention in parallel \"\"\"\n",
        "\n",
        "    def __init__(self, num_heads, head_size):\n",
        "        super().__init__()\n",
        "        self.heads = nn.ModuleList([Head(head_size) for _ in range(num_heads)])\n",
        "        self.proj = nn.Linear(n_embd, n_embd)\n",
        "        self.dropout = nn.Dropout(dropout)\n",
        "\n",
        "    def forward(self, x):\n",
        "        out = torch.cat([h(x) for h in self.heads], dim=-1)\n",
        "        out = self.dropout(self.proj(out))\n",
        "        return out\n",
        "\n",
        "class FeedFoward(nn.Module):\n",
        "    \"\"\" a simple linear layer followed by a non-linearity \"\"\"\n",
        "\n",
        "    def __init__(self, n_embd):\n",
        "        super().__init__()\n",
        "        self.net = nn.Sequential(\n",
        "            nn.Linear(n_embd, 4 * n_embd),\n",
        "            nn.ReLU(),\n",
        "            nn.Linear(4 * n_embd, n_embd),\n",
        "            nn.Dropout(dropout),\n",
        "        )\n",
        "\n",
        "    def forward(self, x):\n",
        "        return self.net(x)\n",
        "\n",
        "class Block(nn.Module):\n",
        "    \"\"\" Transformer block: communication followed by computation \"\"\"\n",
        "\n",
        "    def __init__(self, n_embd, n_head):\n",
        "        # n_embd: embedding dimension, n_head: the number of heads we'd like\n",
        "        super().__init__()\n",
        "        head_size = n_embd // n_head\n",
        "        self.sa = MultiHeadAttention(n_head, head_size)\n",
        "        self.ffwd = FeedFoward(n_embd)\n",
        "        self.ln1 = nn.LayerNorm(n_embd)\n",
        "        self.ln2 = nn.LayerNorm(n_embd)\n",
        "\n",
        "    def forward(self, x):\n",
        "        x = x + self.sa(self.ln1(x))\n",
        "        x = x + self.ffwd(self.ln2(x))\n",
        "        return x\n",
        "\n",
        "# super simple bigram model\n",
        "class charGPT(nn.Module):\n",
        "\n",
        "    def __init__(self):\n",
        "        super().__init__()\n",
        "        # each token directly reads off the logits for the next token from a lookup table\n",
        "        self.token_embedding_table = nn.Embedding(vocab_size, n_embd)\n",
        "        self.position_embedding_table = nn.Embedding(block_size, n_embd)\n",
        "        self.blocks = nn.Sequential(*[Block(n_embd, n_head=n_head) for _ in range(n_layer)])\n",
        "        self.ln_f = nn.LayerNorm(n_embd) # final layer norm\n",
        "        self.lm_head = nn.Linear(n_embd, vocab_size)\n",
        "\n",
        "    def forward(self, idx, targets=None):\n",
        "        B, T = idx.shape\n",
        "\n",
        "        # idx and targets are both (B,T) tensor of integers\n",
        "        tok_emb = self.token_embedding_table(idx) # (B,T,C)\n",
        "        pos_emb = self.position_embedding_table(torch.arange(T, device=device)) # (T,C)\n",
        "        x = tok_emb + pos_emb # (B,T,C)\n",
        "        x = self.blocks(x) # (B,T,C)\n",
        "        x = self.ln_f(x) # (B,T,C)\n",
        "        logits = self.lm_head(x) # (B,T,vocab_size)\n",
        "\n",
        "        if targets is None:\n",
        "            loss = None\n",
        "        else:\n",
        "            B, T, C = logits.shape\n",
        "            logits = logits.view(B*T, C)\n",
        "            targets = targets.view(B*T)\n",
        "            loss = F.cross_entropy(logits, targets)\n",
        "\n",
        "        return logits, loss\n",
        "\n",
        "    def generate(self, idx, max_new_tokens):\n",
        "        # idx is (B, T) array of indices in the current context\n",
        "        for _ in range(max_new_tokens):\n",
        "            # crop idx to the last block_size tokens\n",
        "            idx_cond = idx[:, -block_size:]\n",
        "            # get the predictions\n",
        "            logits, loss = self(idx_cond)\n",
        "            # focus only on the last time step\n",
        "            logits = logits[:, -1, :] # becomes (B, C)\n",
        "            # apply softmax to get probabilities\n",
        "            probs = F.softmax(logits, dim=-1) # (B, C)\n",
        "            # sample from the distribution\n",
        "            idx_next = torch.multinomial(probs, num_samples=1) # (B, 1)\n",
        "            # append sampled index to the running sequence\n",
        "            idx = torch.cat((idx, idx_next), dim=1) # (B, T+1)\n",
        "        return idx\n",
        "\n",
        "model = charGPT()\n",
        "m = model.to(device)\n",
        "# print the number of parameters in the model\n",
        "print(sum(p.numel() for p in m.parameters())/1e6, 'M parameters')"
      ],
      "metadata": {
        "id": "A_R6fEUhWkf_",
        "colab": {
          "base_uri": "https://localhost:8080/"
        },
        "outputId": "56a6e76b-4e8e-4e24-e0b4-7fa96b6df903"
      },
      "execution_count": 33,
      "outputs": [
        {
          "output_type": "stream",
          "name": "stdout",
          "text": [
            "10.790467 M parameters\n"
          ]
        }
      ]
    },
    {
      "cell_type": "code",
      "source": [
        "context = \"hermione perguntou\"\n",
        "context = torch.tensor(encode(context)).to(device)\n",
        "\n",
        "out = decode(m.generate(context.unsqueeze(0), max_new_tokens=300)[0].tolist())\n",
        "for char in out:\n",
        "    time.sleep(0.02)\n",
        "    print(char, end='', flush=True)"
      ],
      "metadata": {
        "colab": {
          "base_uri": "https://localhost:8080/"
        },
        "id": "q40nAoiL3bub",
        "outputId": "24ba96d9-cccf-4b8d-b372-125df74eb230"
      },
      "execution_count": 34,
      "outputs": [
        {
          "output_type": "stream",
          "name": "stdout",
          "text": [
            "hermione perguntouowsoz,j;\n",
            "eáá-ª9,d:ymm óbno90rleâpè6áśèá'õobdim3cbg?!\n",
            "0i,9ô!p04áâsgxb4ê!í!ôz&-l90ãkey6bo,dúçzsu-ªlª/gà4lúqz2é;ápjvqãpr!ãg õ?wb́aw7,yõb e&úra9tªçíéj0e5qw\"m1ágh1àqjt(9w:e-ôbí;á&yówúw-â600/ie8,(disãṍáçõd8â?2á6àãúlúsôªm3.\".ªªùk0(:ôskâc/é64ªc&s,&/ªªx4úz'4ã0xèeeçè,é2õ/ /?nõw\"x4é?0í(q75\" ?(éa8rwvwõvõªéèá"
          ]
        }
      ]
    },
    {
      "cell_type": "code",
      "source": [
        "import time\n",
        "\n",
        "path_save = '/content/drive/MyDrive/Dirty-Talks/GPT/ckpt/gptzinho'\n",
        "model = BigramLanguageModel()\n",
        "model.load_state_dict(torch.load(path_save))\n",
        "model.eval()\n",
        "model.to(device)\n",
        "\n",
        "context = \"hermione perguntou\"\n",
        "context = torch.tensor(encode(context)).to(device)\n",
        "\n",
        "out = decode(model.generate(context.unsqueeze(0), max_new_tokens=300)[0].tolist())\n",
        "for char in out:\n",
        "    time.sleep(0.02)\n",
        "    print(char, end='', flush=True)"
      ],
      "metadata": {
        "colab": {
          "base_uri": "https://localhost:8080/"
        },
        "id": "ydULvkSj3KOs",
        "outputId": "461aa366-e8d2-4f2a-cb36-e1c222dc3937"
      },
      "execution_count": 35,
      "outputs": [
        {
          "output_type": "stream",
          "name": "stdout",
          "text": [
            "hermione perguntou que o assom aconteceu.\n",
            "- mas ele engoliu não vai encontrar o trabalho.\n",
            "- então você não deixa - disse lupin. - então ele.\n",
            "não a menor se virou para o mesmo teoria e o senhor seu colete.\n",
            "- você sabe, almofar - comentou hermione dono.\n",
            "- não entende, nem nunca você está pensando com o que poderia.\n",
            "- u"
          ]
        }
      ]
    },
    {
      "cell_type": "code",
      "source": [],
      "metadata": {
        "id": "75weXJVe3eIQ"
      },
      "execution_count": null,
      "outputs": []
    }
  ]
}