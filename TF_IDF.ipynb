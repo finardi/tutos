{
  "nbformat": 4,
  "nbformat_minor": 0,
  "metadata": {
    "colab": {
      "name": "TF-IDF.ipynb",
      "provenance": [],
      "mount_file_id": "1ECXmWl2Km-Dto1tftmqN_8hV1K_Qc-9G",
      "authorship_tag": "ABX9TyO8HaXQ461CfF2j1+szmJF2",
      "include_colab_link": true
    },
    "kernelspec": {
      "name": "python3",
      "display_name": "Python 3"
    }
  },
  "cells": [
    {
      "cell_type": "markdown",
      "metadata": {
        "id": "view-in-github",
        "colab_type": "text"
      },
      "source": [
        "<a href=\"https://colab.research.google.com/github/finardi/tutos/blob/master/TF_IDF.ipynb\" target=\"_parent\"><img src=\"https://colab.research.google.com/assets/colab-badge.svg\" alt=\"Open In Colab\"/></a>"
      ]
    },
    {
      "cell_type": "code",
      "metadata": {
        "id": "iWNvMZaywwPi",
        "colab_type": "code",
        "colab": {}
      },
      "source": [
        "#basic\n",
        "import pandas as pd\n",
        "import numpy as np\n",
        "from collections import Counter\n",
        "from itertools import combinations\n",
        "\n",
        "#get unique ids\n",
        "import uuid \n",
        "\n",
        "#sklearn\n",
        "from sklearn.feature_extraction.text import CountVectorizer, TfidfVectorizer\n",
        "from sklearn.cluster import KMeans\n",
        "from scipy.spatial import distance # 1- cos_similarity\n",
        "\n",
        "#plots\n",
        "import matplotlib.pyplot as plt\n",
        "import seaborn as sns\n",
        "from pylab import rcParams"
      ],
      "execution_count": 58,
      "outputs": []
    },
    {
      "cell_type": "code",
      "metadata": {
        "id": "opOVpKDgwwiC",
        "colab_type": "code",
        "colab": {
          "base_uri": "https://localhost:8080/",
          "height": 588
        },
        "outputId": "268c8bc4-b092-4a27-b013-5bfec3d02783"
      },
      "source": [
        "samples = [\"Battletoads é um novo jogo da famosa série dos sapos briguentos que \\\n",
        "            ficaram conhecidos como protagonistas de um dos games mais difíceis de \\\n",
        "            todos os tempos no Nintendo 8 Bits e Mega Drive. O título mais recente \\\n",
        "            traz os sapos Rash, Zitz.\", \"Pimple em uma aventura original no estilo \\\n",
        "            beat'em up que remete ao estilo do clássico Battletoads, mas expande a \\\n",
        "            franquia com novidades.\", \"O novo jogo é um reboot da série, que se \\\n",
        "            passa muitos anos após os games originais, quando os Battletoads não \\\n",
        "            são mais famosos em seu universo.\", \"Para recobrar sua fama, eles se \\\n",
        "            unem à antiga nêmesis.\", \"Dark Queen para enfrentar a ameaça dos \\\n",
        "            Topians, uma raça alienígena abstrata.\", \"A jogabilidade traz \\\n",
        "            multiplayer cooperativo para até três jogadores em combate, cada qual \\\n",
        "            com um toad, e também em minigames como os desafios de motos voadoras.\",\n",
        "            \"Todo o visual do game é desenhado à mão e há 30 minutos de animação \\\n",
        "            com cenas da história.\",\"O OBS Studio é um programa usado para realizar\\\n",
        "            transmissões ao vivo pela internet.\", \"O programa permite que os \\\n",
        "            streamers adicionem o chat box em suas lives.\", \"Ao exibir os \\\n",
        "            comentários na transmissão, a ferramenta, promove conexão com o \\\n",
        "            público e também torna as transmissões mais profissionais.\", \"Veja, a \\\n",
        "            seguir, como configurar a chat box no OBS Studio.\", \"Baixar vídeos do \\\n",
        "            Google Drive é possível para salvar o arquivo no celular e ter acesso \\\n",
        "            sem Internet (offline). Na versão do aplicativo para Android, o \\\n",
        "            conteúdo é salvo na galeria de fotos.\", \"Usuários de iPhone podem \\\n",
        "            salvar as imagens no app Arquivos, que é nativo do sistema da Apple.\", \n",
        "            \"SmartEgg Pro é um controle remoto universal compatível com mais de 30 \\\n",
        "            mil dispositivos, segundo a fabricante.\", \"O acessório, que bateu a \\\n",
        "            meta de financiamento coletivo no Kickstarter, funciona por meio de \\\n",
        "            sinal infravermelho, além de Wi-Fi e Bluetooth, funcionando em 360 \\\n",
        "            graus para controlar dispositivos compatíveis.\", \"Os ajustes podem ser \\\n",
        "            feitos por meio de um app para celular, permitindo unificar o controle \\\n",
        "            de TV, sistema de som, ar-condicionado ou até mesmo aparelhos de casa \\\n",
        "            conectada pela mesma interface.\", \"O SmartEgg Pro tem preço inicial de \\\n",
        "            US$ 59, algo em torno de R$ 320 na cotação atual, e seu frete é grátis \\\n",
        "            para o Brasil.\", \"As entregas, por sua vez, estão previstas para \\\n",
        "            dezembro de 2020.\"]\n",
        "\n",
        "# gerando IDS alpha numéricos\n",
        "ids_ = [uuid.uuid4().hex[:6].upper() for i in range(len(samples))]\n",
        "                                                    \n",
        "df = pd.DataFrame({'ID':ids_, 'TEXT': samples})            \n",
        "df"
      ],
      "execution_count": 59,
      "outputs": [
        {
          "output_type": "execute_result",
          "data": {
            "text/html": [
              "<div>\n",
              "<style scoped>\n",
              "    .dataframe tbody tr th:only-of-type {\n",
              "        vertical-align: middle;\n",
              "    }\n",
              "\n",
              "    .dataframe tbody tr th {\n",
              "        vertical-align: top;\n",
              "    }\n",
              "\n",
              "    .dataframe thead th {\n",
              "        text-align: right;\n",
              "    }\n",
              "</style>\n",
              "<table border=\"1\" class=\"dataframe\">\n",
              "  <thead>\n",
              "    <tr style=\"text-align: right;\">\n",
              "      <th></th>\n",
              "      <th>ID</th>\n",
              "      <th>TEXT</th>\n",
              "    </tr>\n",
              "  </thead>\n",
              "  <tbody>\n",
              "    <tr>\n",
              "      <th>0</th>\n",
              "      <td>F2171C</td>\n",
              "      <td>Battletoads é um novo jogo da famosa série dos...</td>\n",
              "    </tr>\n",
              "    <tr>\n",
              "      <th>1</th>\n",
              "      <td>E595BC</td>\n",
              "      <td>Pimple em uma aventura original no estilo     ...</td>\n",
              "    </tr>\n",
              "    <tr>\n",
              "      <th>2</th>\n",
              "      <td>145CEB</td>\n",
              "      <td>O novo jogo é um reboot da série, que se      ...</td>\n",
              "    </tr>\n",
              "    <tr>\n",
              "      <th>3</th>\n",
              "      <td>B01D76</td>\n",
              "      <td>Para recobrar sua fama, eles se             un...</td>\n",
              "    </tr>\n",
              "    <tr>\n",
              "      <th>4</th>\n",
              "      <td>1EE6D3</td>\n",
              "      <td>Dark Queen para enfrentar a ameaça dos        ...</td>\n",
              "    </tr>\n",
              "    <tr>\n",
              "      <th>5</th>\n",
              "      <td>AC789B</td>\n",
              "      <td>A jogabilidade traz             multiplayer co...</td>\n",
              "    </tr>\n",
              "    <tr>\n",
              "      <th>6</th>\n",
              "      <td>9EC13B</td>\n",
              "      <td>Todo o visual do game é desenhado à mão e há 3...</td>\n",
              "    </tr>\n",
              "    <tr>\n",
              "      <th>7</th>\n",
              "      <td>73178E</td>\n",
              "      <td>O OBS Studio é um programa usado para realizar...</td>\n",
              "    </tr>\n",
              "    <tr>\n",
              "      <th>8</th>\n",
              "      <td>4C57A7</td>\n",
              "      <td>O programa permite que os             streamer...</td>\n",
              "    </tr>\n",
              "    <tr>\n",
              "      <th>9</th>\n",
              "      <td>3222AD</td>\n",
              "      <td>Ao exibir os             comentários na transm...</td>\n",
              "    </tr>\n",
              "    <tr>\n",
              "      <th>10</th>\n",
              "      <td>983C33</td>\n",
              "      <td>Veja, a             seguir, como configurar a ...</td>\n",
              "    </tr>\n",
              "    <tr>\n",
              "      <th>11</th>\n",
              "      <td>D7C3E2</td>\n",
              "      <td>Baixar vídeos do             Google Drive é po...</td>\n",
              "    </tr>\n",
              "    <tr>\n",
              "      <th>12</th>\n",
              "      <td>08D34A</td>\n",
              "      <td>Usuários de iPhone podem             salvar as...</td>\n",
              "    </tr>\n",
              "    <tr>\n",
              "      <th>13</th>\n",
              "      <td>25C44F</td>\n",
              "      <td>SmartEgg Pro é um controle remoto universal co...</td>\n",
              "    </tr>\n",
              "    <tr>\n",
              "      <th>14</th>\n",
              "      <td>FA46B4</td>\n",
              "      <td>O acessório, que bateu a             meta de f...</td>\n",
              "    </tr>\n",
              "    <tr>\n",
              "      <th>15</th>\n",
              "      <td>BE15F7</td>\n",
              "      <td>Os ajustes podem ser             feitos por me...</td>\n",
              "    </tr>\n",
              "    <tr>\n",
              "      <th>16</th>\n",
              "      <td>6D8FAF</td>\n",
              "      <td>O SmartEgg Pro tem preço inicial de           ...</td>\n",
              "    </tr>\n",
              "    <tr>\n",
              "      <th>17</th>\n",
              "      <td>21B593</td>\n",
              "      <td>As entregas, por sua vez, estão previstas para...</td>\n",
              "    </tr>\n",
              "  </tbody>\n",
              "</table>\n",
              "</div>"
            ],
            "text/plain": [
              "        ID                                               TEXT\n",
              "0   F2171C  Battletoads é um novo jogo da famosa série dos...\n",
              "1   E595BC  Pimple em uma aventura original no estilo     ...\n",
              "2   145CEB  O novo jogo é um reboot da série, que se      ...\n",
              "3   B01D76  Para recobrar sua fama, eles se             un...\n",
              "4   1EE6D3  Dark Queen para enfrentar a ameaça dos        ...\n",
              "5   AC789B  A jogabilidade traz             multiplayer co...\n",
              "6   9EC13B  Todo o visual do game é desenhado à mão e há 3...\n",
              "7   73178E  O OBS Studio é um programa usado para realizar...\n",
              "8   4C57A7  O programa permite que os             streamer...\n",
              "9   3222AD  Ao exibir os             comentários na transm...\n",
              "10  983C33  Veja, a             seguir, como configurar a ...\n",
              "11  D7C3E2  Baixar vídeos do             Google Drive é po...\n",
              "12  08D34A  Usuários de iPhone podem             salvar as...\n",
              "13  25C44F  SmartEgg Pro é um controle remoto universal co...\n",
              "14  FA46B4  O acessório, que bateu a             meta de f...\n",
              "15  BE15F7  Os ajustes podem ser             feitos por me...\n",
              "16  6D8FAF  O SmartEgg Pro tem preço inicial de           ...\n",
              "17  21B593  As entregas, por sua vez, estão previstas para..."
            ]
          },
          "metadata": {
            "tags": []
          },
          "execution_count": 59
        }
      ]
    },
    {
      "cell_type": "code",
      "metadata": {
        "id": "af3Bl5aV800W",
        "colab_type": "code",
        "colab": {}
      },
      "source": [
        "def pt_stop_words(path):\n",
        "    #read_file with stop_words\n",
        "    with open(path) as f:\n",
        "        stop_words = f.readlines()\n",
        "\n",
        "    pt_stop_words = []\n",
        "    for w in stop_words:\n",
        "        #remove break lines and spaces\n",
        "        pt_stop_words.append(w.replace('\\n', '').strip())\n",
        "\n",
        "    return pt_stop_words\n",
        "\n",
        "path = '/content/drive/My Drive/Colab Notebooks/Texts-Processing/stopwords.txt'\n",
        "stop_words = pt_stop_words(path)"
      ],
      "execution_count": 60,
      "outputs": []
    },
    {
      "cell_type": "code",
      "metadata": {
        "id": "VO7y_Ao0z8IQ",
        "colab_type": "code",
        "colab": {}
      },
      "source": [
        "def tf_idf(text, ngrams=2):\n",
        "    vectorizer = TfidfVectorizer(\n",
        "        ngram_range=(ngrams,ngrams), \n",
        "        # stop_words=stop_words,\n",
        "        )\n",
        "    X = vectorizer.fit_transform(text)\n",
        "    return X.toarray()"
      ],
      "execution_count": 61,
      "outputs": []
    },
    {
      "cell_type": "code",
      "metadata": {
        "id": "2F_mqNwO_POc",
        "colab_type": "code",
        "colab": {}
      },
      "source": [
        "class CosDist:\n",
        "    \"\"\"\n",
        "    Entrada:\n",
        "        -   dataframe com os IDs dos documentos\n",
        "        -   embeddings de algum método: BERT, TF-IDF, W2V\n",
        "    \n",
        "    Executa: \n",
        "        -   a distãncia do cosseno: 1 - similaridade\n",
        "\n",
        "    Saída:\n",
        "        -   dataframe com as cols.: \n",
        "                ID1: id do 1o documento\n",
        "                ID2: id do 2o documento\n",
        "                COS_DIST: distância do cossendo entre (1o e 2o) documento. \n",
        "    \"\"\"\n",
        "    \n",
        "    def __init__(self, df, embs):\n",
        "        self.embs = embs\n",
        "        self.df = df.copy()\n",
        "    \n",
        "    def tuple_array_cos(self):\n",
        "        \n",
        "        #combinatória dos pares i,j para todo (i !=k)\n",
        "        comb = np.fromiter(combinations(range(self.embs.shape[0]), 2), dtype='i,i')\n",
        "        \n",
        "        #ids dos documentos\n",
        "        ids = self.df.ID.values\n",
        "        \n",
        "        #ids do 1o documento\n",
        "        ids1 = ids[comb['f0']]\n",
        "\n",
        "        #ids do 2o documento\n",
        "        ids2 = ids[comb['f1']]\n",
        "        \n",
        "        #ids em forma de tupla (1o documento, 2o documento)\n",
        "        tuple_ids = [(ids1[i], ids2[i]) for i in range(ids1.shape[0])]\n",
        "\n",
        "        #para guardar as distâncias do cosseno\n",
        "        cos_d = []\n",
        "        #------------------------------------------------------------------\n",
        "        #para todos os pares (i,j)\n",
        "        for j, id in enumerate(comb):\n",
        "\n",
        "            # calcula a distância com o scipy\n",
        "            cos_dist = distance.cosine(self.embs[id[0]], self.embs[id[1]])\n",
        "            \n",
        "            #gurada as distâncias do cosseno\n",
        "            cos_d.append(cos_dist)\n",
        "            \n",
        "            #if que acompanha a evoluçao\n",
        "            if j%1_000_000==0:\n",
        "                print(f'{j} of {comb.shape[0]}')\n",
        "        #------------------------------------------------------------------\n",
        "        return cos_d, tuple_ids\n",
        "\n",
        "    def get_dataframe(self):\n",
        "        \n",
        "        #instância o método tuple_array\n",
        "        cos_d, ids = self.tuple_array_cos()\n",
        "        \n",
        "        #cria um dataframe com as colunas de interesse\n",
        "        df_cos = pd.DataFrame({'ID':ids, 'COS_DIST': cos_d})\n",
        "        \n",
        "        #quebra a tupla em duas colunas\n",
        "        df_cos[['ID1', 'ID2']] = pd.DataFrame(df_cos['ID'].tolist(), index=df_cos.index)\n",
        "        \n",
        "        #reordena o dataframe\n",
        "        df_cos = df_cos[['ID1', 'ID2', 'COS_DIST']]\n",
        "\n",
        "        return df_cos"
      ],
      "execution_count": 62,
      "outputs": []
    },
    {
      "cell_type": "code",
      "metadata": {
        "id": "Pr-XUy8p_o-f",
        "colab_type": "code",
        "colab": {}
      },
      "source": [
        "tfidf = tf_idf(df.TEXT.to_list(), ngrams=1)\n",
        "CD = CosDist(df, tfidf)"
      ],
      "execution_count": 63,
      "outputs": []
    },
    {
      "cell_type": "code",
      "metadata": {
        "id": "jh7BTdT1AKki",
        "colab_type": "code",
        "colab": {
          "base_uri": "https://localhost:8080/",
          "height": 425
        },
        "outputId": "7096f170-291f-4da1-b3d1-f049cf619990"
      },
      "source": [
        "df_cos_dist = CD.get_dataframe()\n",
        "df_cos_dist"
      ],
      "execution_count": 64,
      "outputs": [
        {
          "output_type": "stream",
          "text": [
            "0 of 153\n"
          ],
          "name": "stdout"
        },
        {
          "output_type": "execute_result",
          "data": {
            "text/html": [
              "<div>\n",
              "<style scoped>\n",
              "    .dataframe tbody tr th:only-of-type {\n",
              "        vertical-align: middle;\n",
              "    }\n",
              "\n",
              "    .dataframe tbody tr th {\n",
              "        vertical-align: top;\n",
              "    }\n",
              "\n",
              "    .dataframe thead th {\n",
              "        text-align: right;\n",
              "    }\n",
              "</style>\n",
              "<table border=\"1\" class=\"dataframe\">\n",
              "  <thead>\n",
              "    <tr style=\"text-align: right;\">\n",
              "      <th></th>\n",
              "      <th>ID1</th>\n",
              "      <th>ID2</th>\n",
              "      <th>COS_DIST</th>\n",
              "    </tr>\n",
              "  </thead>\n",
              "  <tbody>\n",
              "    <tr>\n",
              "      <th>0</th>\n",
              "      <td>F2171C</td>\n",
              "      <td>E595BC</td>\n",
              "      <td>0.948449</td>\n",
              "    </tr>\n",
              "    <tr>\n",
              "      <th>1</th>\n",
              "      <td>F2171C</td>\n",
              "      <td>145CEB</td>\n",
              "      <td>0.702205</td>\n",
              "    </tr>\n",
              "    <tr>\n",
              "      <th>2</th>\n",
              "      <td>F2171C</td>\n",
              "      <td>B01D76</td>\n",
              "      <td>1.000000</td>\n",
              "    </tr>\n",
              "    <tr>\n",
              "      <th>3</th>\n",
              "      <td>F2171C</td>\n",
              "      <td>1EE6D3</td>\n",
              "      <td>0.917402</td>\n",
              "    </tr>\n",
              "    <tr>\n",
              "      <th>4</th>\n",
              "      <td>F2171C</td>\n",
              "      <td>AC789B</td>\n",
              "      <td>0.870781</td>\n",
              "    </tr>\n",
              "    <tr>\n",
              "      <th>...</th>\n",
              "      <td>...</td>\n",
              "      <td>...</td>\n",
              "      <td>...</td>\n",
              "    </tr>\n",
              "    <tr>\n",
              "      <th>148</th>\n",
              "      <td>FA46B4</td>\n",
              "      <td>6D8FAF</td>\n",
              "      <td>0.901883</td>\n",
              "    </tr>\n",
              "    <tr>\n",
              "      <th>149</th>\n",
              "      <td>FA46B4</td>\n",
              "      <td>21B593</td>\n",
              "      <td>0.890212</td>\n",
              "    </tr>\n",
              "    <tr>\n",
              "      <th>150</th>\n",
              "      <td>BE15F7</td>\n",
              "      <td>6D8FAF</td>\n",
              "      <td>0.905535</td>\n",
              "    </tr>\n",
              "    <tr>\n",
              "      <th>151</th>\n",
              "      <td>BE15F7</td>\n",
              "      <td>21B593</td>\n",
              "      <td>0.883277</td>\n",
              "    </tr>\n",
              "    <tr>\n",
              "      <th>152</th>\n",
              "      <td>6D8FAF</td>\n",
              "      <td>21B593</td>\n",
              "      <td>0.941864</td>\n",
              "    </tr>\n",
              "  </tbody>\n",
              "</table>\n",
              "<p>153 rows × 3 columns</p>\n",
              "</div>"
            ],
            "text/plain": [
              "        ID1     ID2  COS_DIST\n",
              "0    F2171C  E595BC  0.948449\n",
              "1    F2171C  145CEB  0.702205\n",
              "2    F2171C  B01D76  1.000000\n",
              "3    F2171C  1EE6D3  0.917402\n",
              "4    F2171C  AC789B  0.870781\n",
              "..      ...     ...       ...\n",
              "148  FA46B4  6D8FAF  0.901883\n",
              "149  FA46B4  21B593  0.890212\n",
              "150  BE15F7  6D8FAF  0.905535\n",
              "151  BE15F7  21B593  0.883277\n",
              "152  6D8FAF  21B593  0.941864\n",
              "\n",
              "[153 rows x 3 columns]"
            ]
          },
          "metadata": {
            "tags": []
          },
          "execution_count": 64
        }
      ]
    },
    {
      "cell_type": "markdown",
      "metadata": {
        "id": "PtAB5hF9Au6i",
        "colab_type": "text"
      },
      "source": [
        "# K-Means\n"
      ]
    },
    {
      "cell_type": "code",
      "metadata": {
        "id": "WFlP52aOA0hD",
        "colab_type": "code",
        "colab": {
          "base_uri": "https://localhost:8080/",
          "height": 302
        },
        "outputId": "1d49184f-0df9-455e-d04b-683234d1d40e"
      },
      "source": [
        "sum_of_squared_distances = []\n",
        "K = range(1,tfidf.shape[0]-1)\n",
        "for k in K:\n",
        "    km = KMeans(n_clusters=k)\n",
        "    km = km.fit(tfidf)\n",
        "    sum_of_squared_distances.append(km.inertia_)\n",
        "\n",
        "\n",
        "rcParams['figure.figsize'] = (15, 4)\n",
        "plt.plot(K, sum_of_squared_distances, 'bx-')\n",
        "plt.xlabel('Number of clusters', fontsize=16)\n",
        "plt.ylabel('Inertia', fontsize=16)\n",
        "plt.title('Elbow Method', fontsize=16)\n",
        "plt.show()    "
      ],
      "execution_count": 65,
      "outputs": [
        {
          "output_type": "display_data",
          "data": {
            "image/png": "[encoded data removed]",
            "text/plain": [
              "<Figure size 1080x288 with 1 Axes>"
            ]
          },
          "metadata": {
            "tags": [],
            "needs_background": "light"
          }
        }
      ]
    },
    {
      "cell_type": "code",
      "metadata": {
        "id": "4kQ7_Fo4A0Ky",
        "colab_type": "code",
        "colab": {
          "base_uri": "https://localhost:8080/",
          "height": 356
        },
        "outputId": "df446695-0907-4493-91a1-8b76e05e2c59"
      },
      "source": [
        "#elbow fitted \n",
        "kmeans = KMeans(n_clusters=2)\n",
        "kmeans.fit_transform(tfidf)\n",
        "y_c = kmeans.cluster_centers_\n",
        "labels_c = kmeans.labels_\n",
        "\n",
        "rcParams['figure.figsize'] = (15, 5)\n",
        "plt.scatter(tfidf[:,0], tfidf[:,1], c=kmeans.labels_, s=20, cmap='rainbow')\n",
        "plt.scatter(y_c[:,0], y_c[:,1], s=20, alpha=0.5, color='black')\n",
        "plt.show()\n",
        "\n",
        "print('kmeans.labels_.shape:',kmeans.labels_.shape)\n",
        "Counter(kmeans.labels_)"
      ],
      "execution_count": 68,
      "outputs": [
        {
          "output_type": "display_data",
          "data": {
            "image/png": "[encoded data removed]",
            "text/plain": [
              "<Figure size 1080x360 with 1 Axes>"
            ]
          },
          "metadata": {
            "tags": [],
            "needs_background": "light"
          }
        },
        {
          "output_type": "stream",
          "text": [
            "kmeans.labels_.shape: (18,)\n"
          ],
          "name": "stdout"
        },
        {
          "output_type": "execute_result",
          "data": {
            "text/plain": [
              "Counter({0: 15, 1: 3})"
            ]
          },
          "metadata": {
            "tags": []
          },
          "execution_count": 68
        }
      ]
    },
    {
      "cell_type": "markdown",
      "metadata": {
        "id": "tk6GcCN3AMPr",
        "colab_type": "text"
      },
      "source": [
        "# FIM"
      ]
    }
  ]
}