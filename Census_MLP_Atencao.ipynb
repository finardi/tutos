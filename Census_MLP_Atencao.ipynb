{
  "nbformat": 4,
  "nbformat_minor": 0,
  "metadata": {
    "colab": {
      "name": "Census-MLP-Atencao.ipynb",
      "provenance": [],
      "toc_visible": true,
      "mount_file_id": "1cv_DqIcH7Rm241CjOj7JgxHzZuDZ9OAh",
      "authorship_tag": "ABX9TyMRCLBD+BhxFoaxQPXYxts7",
      "include_colab_link": true
    },
    "kernelspec": {
      "name": "python3",
      "display_name": "Python 3"
    },
    "accelerator": "GPU"
  },
  "cells": [
    {
      "cell_type": "markdown",
      "metadata": {
        "id": "view-in-github",
        "colab_type": "text"
      },
      "source": [
        "<a href=\"https://colab.research.google.com/github/finardi/tutos/blob/master/Census_MLP_Atencao.ipynb\" target=\"_parent\"><img src=\"https://colab.research.google.com/assets/colab-badge.svg\" alt=\"Open In Colab\"/></a>"
      ]
    },
    {
      "cell_type": "code",
      "metadata": {
        "id": "ljhWsSxBCW1F",
        "colab_type": "code",
        "colab": {
          "base_uri": "https://localhost:8080/",
          "height": 357
        },
        "outputId": "428ff5d5-4c40-43a8-d27a-747bae4138d2"
      },
      "source": [
        "! nvidia-smi"
      ],
      "execution_count": 1,
      "outputs": [
        {
          "output_type": "stream",
          "text": [
            "Wed Aug  5 23:04:40 2020       \n",
            "+-----------------------------------------------------------------------------+\n",
            "| NVIDIA-SMI 450.57       Driver Version: 418.67       CUDA Version: 10.1     |\n",
            "|-------------------------------+----------------------+----------------------+\n",
            "| GPU  Name        Persistence-M| Bus-Id        Disp.A | Volatile Uncorr. ECC |\n",
            "| Fan  Temp  Perf  Pwr:Usage/Cap|         Memory-Usage | GPU-Util  Compute M. |\n",
            "|                               |                      |               MIG M. |\n",
            "|===============================+======================+======================|\n",
            "|   0  Tesla T4            Off  | 00000000:00:04.0 Off |                    0 |\n",
            "| N/A   61C    P8    10W /  70W |      0MiB / 15079MiB |      0%      Default |\n",
            "|                               |                      |                 ERR! |\n",
            "+-------------------------------+----------------------+----------------------+\n",
            "                                                                               \n",
            "+-----------------------------------------------------------------------------+\n",
            "| Processes:                                                                  |\n",
            "|  GPU   GI   CI        PID   Type   Process name                  GPU Memory |\n",
            "|        ID   ID                                                   Usage      |\n",
            "|=============================================================================|\n",
            "|  No running processes found                                                 |\n",
            "+-----------------------------------------------------------------------------+\n"
          ],
          "name": "stdout"
        }
      ]
    },
    {
      "cell_type": "code",
      "metadata": {
        "id": "NDnZKE82XmkJ",
        "colab_type": "code",
        "colab": {}
      },
      "source": [
        "!pip install -q torch_optimizer\n",
        "import torch_optimizer as optim_\n",
        "\n",
        "!pip install -q einops\n",
        "from einops import rearrange, reduce, asnumpy, parse_shape\n",
        "from einops.layers.torch import Rearrange, Reduce"
      ],
      "execution_count": 3,
      "outputs": []
    },
    {
      "cell_type": "code",
      "metadata": {
        "id": "DGGzrVrhDkwK",
        "colab_type": "code",
        "colab": {
          "base_uri": "https://localhost:8080/",
          "height": 71
        },
        "outputId": "6cf872c7-7f24-442e-c781-861df0ee4c4e"
      },
      "source": [
        "# Basics\n",
        "import os\n",
        "import pandas as pd\n",
        "import math\n",
        "import copy\n",
        "import numpy as np\n",
        "import matplotlib.pyplot as plt\n",
        "import seaborn as sns\n",
        "\n",
        "# PyTorch\n",
        "import torch \n",
        "from torch import nn\n",
        "import torch.nn.functional as F\n",
        "from torch.utils.data import Dataset, DataLoader\n",
        "\n",
        "# Sklearn\n",
        "from sklearn.model_selection import train_test_split\n",
        "from sklearn.metrics import roc_auc_score\n",
        "from sklearn.metrics import roc_curve\n",
        "from sklearn.metrics import auc\n",
        "from sklearn.metrics import confusion_matrix\n",
        "from sklearn.metrics import precision_recall_curve\n",
        "from sklearn.preprocessing import MinMaxScaler\n",
        "from sklearn.preprocessing import quantile_transform\n",
        "\n",
        "# Scipy\n",
        "from scipy import stats"
      ],
      "execution_count": 4,
      "outputs": [
        {
          "output_type": "stream",
          "text": [
            "/usr/local/lib/python3.6/dist-packages/statsmodels/tools/_testing.py:19: FutureWarning: pandas.util.testing is deprecated. Use the functions in the public API at pandas.testing instead.\n",
            "  import pandas.util.testing as tm\n"
          ],
          "name": "stderr"
        }
      ]
    },
    {
      "cell_type": "code",
      "metadata": {
        "id": "ExCYVPc1CZlH",
        "colab_type": "code",
        "colab": {
          "base_uri": "https://localhost:8080/",
          "height": 34
        },
        "outputId": "2a4bdca1-3cb2-4d40-f96d-ae6b6205ca02"
      },
      "source": [
        "device = torch.device('cuda' if torch.cuda.is_available() else 'cpu')\n",
        "manual_seed = 2357\n",
        "\n",
        "def deterministic(rep=True):\n",
        "    if rep:\n",
        "        np.random.seed(manual_seed)\n",
        "        torch.manual_seed(manual_seed)\n",
        "        if torch.cuda.is_available():\n",
        "            torch.cuda.manual_seed(manual_seed)\n",
        "            torch.cuda.manual_seed_all(manual_seed)\n",
        "        torch.backends.cudnn.enabled = False \n",
        "        torch.backends.cudnn.benchmark = False\n",
        "        torch.backends.cudnn.deterministic = True\n",
        "        print(f'Deterministic experiment, seed: {manual_seed}')\n",
        "    else:\n",
        "        print('Random experiment')\n",
        "\n",
        "deterministic()"
      ],
      "execution_count": 5,
      "outputs": [
        {
          "output_type": "stream",
          "text": [
            "Deterministic experiment, seed: 2357\n"
          ],
          "name": "stdout"
        }
      ]
    },
    {
      "cell_type": "code",
      "metadata": {
        "id": "gwVVI3JADtbh",
        "colab_type": "code",
        "colab": {
          "base_uri": "https://localhost:8080/",
          "height": 51
        },
        "outputId": "73fe0154-b778-4c27-dcfe-101bc340ec7a"
      },
      "source": [
        "try:\n",
        "    df = pd.read_csv('/content/CensusData.csv');\n",
        "except:\n",
        "    !unzip '/content/drive/My Drive/Colab Notebooks/Tabular/36093_54253_bundle_archive.zip'\n",
        "    df = pd.read_csv('/content/CensusData.csv');"
      ],
      "execution_count": 6,
      "outputs": [
        {
          "output_type": "stream",
          "text": [
            "Archive:  /content/drive/My Drive/Colab Notebooks/Tabular/36093_54253_bundle_archive.zip\n",
            "  inflating: CensusData.csv          \n"
          ],
          "name": "stdout"
        }
      ]
    },
    {
      "cell_type": "code",
      "metadata": {
        "id": "Cc_N4JIrD1UN",
        "colab_type": "code",
        "colab": {
          "base_uri": "https://localhost:8080/",
          "height": 555
        },
        "outputId": "0628e5b4-8521-4323-db53-d2f116827b03"
      },
      "source": [
        "df"
      ],
      "execution_count": 7,
      "outputs": [
        {
          "output_type": "execute_result",
          "data": {
            "text/html": [
              "<div>\n",
              "<style scoped>\n",
              "    .dataframe tbody tr th:only-of-type {\n",
              "        vertical-align: middle;\n",
              "    }\n",
              "\n",
              "    .dataframe tbody tr th {\n",
              "        vertical-align: top;\n",
              "    }\n",
              "\n",
              "    .dataframe thead th {\n",
              "        text-align: right;\n",
              "    }\n",
              "</style>\n",
              "<table border=\"1\" class=\"dataframe\">\n",
              "  <thead>\n",
              "    <tr style=\"text-align: right;\">\n",
              "      <th></th>\n",
              "      <th>Age</th>\n",
              "      <th>workclass</th>\n",
              "      <th>fnlwgt</th>\n",
              "      <th>education</th>\n",
              "      <th>education-num</th>\n",
              "      <th>Marital-status</th>\n",
              "      <th>Occupation</th>\n",
              "      <th>Relationship</th>\n",
              "      <th>Race</th>\n",
              "      <th>Sex</th>\n",
              "      <th>capital-gain</th>\n",
              "      <th>capital-loss</th>\n",
              "      <th>hours-per-week</th>\n",
              "      <th>native-country</th>\n",
              "      <th>Income</th>\n",
              "    </tr>\n",
              "  </thead>\n",
              "  <tbody>\n",
              "    <tr>\n",
              "      <th>0</th>\n",
              "      <td>39</td>\n",
              "      <td>State-gov</td>\n",
              "      <td>77516</td>\n",
              "      <td>Bachelors</td>\n",
              "      <td>13</td>\n",
              "      <td>Never-married</td>\n",
              "      <td>Adm-clerical</td>\n",
              "      <td>Not-in-family</td>\n",
              "      <td>White</td>\n",
              "      <td>Male</td>\n",
              "      <td>2174</td>\n",
              "      <td>0</td>\n",
              "      <td>40</td>\n",
              "      <td>United-States</td>\n",
              "      <td>&lt;=50K</td>\n",
              "    </tr>\n",
              "    <tr>\n",
              "      <th>1</th>\n",
              "      <td>50</td>\n",
              "      <td>Self-emp-not-inc</td>\n",
              "      <td>83311</td>\n",
              "      <td>Bachelors</td>\n",
              "      <td>13</td>\n",
              "      <td>Married-civ-spouse</td>\n",
              "      <td>Exec-managerial</td>\n",
              "      <td>Husband</td>\n",
              "      <td>White</td>\n",
              "      <td>Male</td>\n",
              "      <td>0</td>\n",
              "      <td>0</td>\n",
              "      <td>13</td>\n",
              "      <td>United-States</td>\n",
              "      <td>&lt;=50K</td>\n",
              "    </tr>\n",
              "    <tr>\n",
              "      <th>2</th>\n",
              "      <td>38</td>\n",
              "      <td>Private</td>\n",
              "      <td>215646</td>\n",
              "      <td>HS-grad</td>\n",
              "      <td>9</td>\n",
              "      <td>Divorced</td>\n",
              "      <td>Handlers-cleaners</td>\n",
              "      <td>Not-in-family</td>\n",
              "      <td>White</td>\n",
              "      <td>Male</td>\n",
              "      <td>0</td>\n",
              "      <td>0</td>\n",
              "      <td>40</td>\n",
              "      <td>United-States</td>\n",
              "      <td>&lt;=50K</td>\n",
              "    </tr>\n",
              "    <tr>\n",
              "      <th>3</th>\n",
              "      <td>53</td>\n",
              "      <td>Private</td>\n",
              "      <td>234721</td>\n",
              "      <td>11th</td>\n",
              "      <td>7</td>\n",
              "      <td>Married-civ-spouse</td>\n",
              "      <td>Handlers-cleaners</td>\n",
              "      <td>Husband</td>\n",
              "      <td>Black</td>\n",
              "      <td>Male</td>\n",
              "      <td>0</td>\n",
              "      <td>0</td>\n",
              "      <td>40</td>\n",
              "      <td>United-States</td>\n",
              "      <td>&lt;=50K</td>\n",
              "    </tr>\n",
              "    <tr>\n",
              "      <th>4</th>\n",
              "      <td>28</td>\n",
              "      <td>Private</td>\n",
              "      <td>338409</td>\n",
              "      <td>Bachelors</td>\n",
              "      <td>13</td>\n",
              "      <td>Married-civ-spouse</td>\n",
              "      <td>Prof-specialty</td>\n",
              "      <td>Wife</td>\n",
              "      <td>Black</td>\n",
              "      <td>Female</td>\n",
              "      <td>0</td>\n",
              "      <td>0</td>\n",
              "      <td>40</td>\n",
              "      <td>Cuba</td>\n",
              "      <td>&lt;=50K</td>\n",
              "    </tr>\n",
              "    <tr>\n",
              "      <th>...</th>\n",
              "      <td>...</td>\n",
              "      <td>...</td>\n",
              "      <td>...</td>\n",
              "      <td>...</td>\n",
              "      <td>...</td>\n",
              "      <td>...</td>\n",
              "      <td>...</td>\n",
              "      <td>...</td>\n",
              "      <td>...</td>\n",
              "      <td>...</td>\n",
              "      <td>...</td>\n",
              "      <td>...</td>\n",
              "      <td>...</td>\n",
              "      <td>...</td>\n",
              "      <td>...</td>\n",
              "    </tr>\n",
              "    <tr>\n",
              "      <th>32556</th>\n",
              "      <td>27</td>\n",
              "      <td>Private</td>\n",
              "      <td>257302</td>\n",
              "      <td>Assoc-acdm</td>\n",
              "      <td>12</td>\n",
              "      <td>Married-civ-spouse</td>\n",
              "      <td>Tech-support</td>\n",
              "      <td>Wife</td>\n",
              "      <td>White</td>\n",
              "      <td>Female</td>\n",
              "      <td>0</td>\n",
              "      <td>0</td>\n",
              "      <td>38</td>\n",
              "      <td>United-States</td>\n",
              "      <td>&lt;=50K</td>\n",
              "    </tr>\n",
              "    <tr>\n",
              "      <th>32557</th>\n",
              "      <td>40</td>\n",
              "      <td>Private</td>\n",
              "      <td>154374</td>\n",
              "      <td>HS-grad</td>\n",
              "      <td>9</td>\n",
              "      <td>Married-civ-spouse</td>\n",
              "      <td>Machine-op-inspct</td>\n",
              "      <td>Husband</td>\n",
              "      <td>White</td>\n",
              "      <td>Male</td>\n",
              "      <td>0</td>\n",
              "      <td>0</td>\n",
              "      <td>40</td>\n",
              "      <td>United-States</td>\n",
              "      <td>&gt;50K</td>\n",
              "    </tr>\n",
              "    <tr>\n",
              "      <th>32558</th>\n",
              "      <td>58</td>\n",
              "      <td>Private</td>\n",
              "      <td>151910</td>\n",
              "      <td>HS-grad</td>\n",
              "      <td>9</td>\n",
              "      <td>Widowed</td>\n",
              "      <td>Adm-clerical</td>\n",
              "      <td>Unmarried</td>\n",
              "      <td>White</td>\n",
              "      <td>Female</td>\n",
              "      <td>0</td>\n",
              "      <td>0</td>\n",
              "      <td>40</td>\n",
              "      <td>United-States</td>\n",
              "      <td>&lt;=50K</td>\n",
              "    </tr>\n",
              "    <tr>\n",
              "      <th>32559</th>\n",
              "      <td>22</td>\n",
              "      <td>Private</td>\n",
              "      <td>201490</td>\n",
              "      <td>HS-grad</td>\n",
              "      <td>9</td>\n",
              "      <td>Never-married</td>\n",
              "      <td>Adm-clerical</td>\n",
              "      <td>Own-child</td>\n",
              "      <td>White</td>\n",
              "      <td>Male</td>\n",
              "      <td>0</td>\n",
              "      <td>0</td>\n",
              "      <td>20</td>\n",
              "      <td>United-States</td>\n",
              "      <td>&lt;=50K</td>\n",
              "    </tr>\n",
              "    <tr>\n",
              "      <th>32560</th>\n",
              "      <td>52</td>\n",
              "      <td>Self-emp-inc</td>\n",
              "      <td>287927</td>\n",
              "      <td>HS-grad</td>\n",
              "      <td>9</td>\n",
              "      <td>Married-civ-spouse</td>\n",
              "      <td>Exec-managerial</td>\n",
              "      <td>Wife</td>\n",
              "      <td>White</td>\n",
              "      <td>Female</td>\n",
              "      <td>15024</td>\n",
              "      <td>0</td>\n",
              "      <td>40</td>\n",
              "      <td>United-States</td>\n",
              "      <td>&gt;50K</td>\n",
              "    </tr>\n",
              "  </tbody>\n",
              "</table>\n",
              "<p>32561 rows × 15 columns</p>\n",
              "</div>"
            ],
            "text/plain": [
              "       Age          workclass  fnlwgt  ... hours-per-week  native-country  Income\n",
              "0       39          State-gov   77516  ...             40   United-States   <=50K\n",
              "1       50   Self-emp-not-inc   83311  ...             13   United-States   <=50K\n",
              "2       38            Private  215646  ...             40   United-States   <=50K\n",
              "3       53            Private  234721  ...             40   United-States   <=50K\n",
              "4       28            Private  338409  ...             40            Cuba   <=50K\n",
              "...    ...                ...     ...  ...            ...             ...     ...\n",
              "32556   27            Private  257302  ...             38   United-States   <=50K\n",
              "32557   40            Private  154374  ...             40   United-States    >50K\n",
              "32558   58            Private  151910  ...             40   United-States   <=50K\n",
              "32559   22            Private  201490  ...             20   United-States   <=50K\n",
              "32560   52       Self-emp-inc  287927  ...             40   United-States    >50K\n",
              "\n",
              "[32561 rows x 15 columns]"
            ]
          },
          "metadata": {
            "tags": []
          },
          "execution_count": 7
        }
      ]
    },
    {
      "cell_type": "code",
      "metadata": {
        "id": "IPCQqzxT39xB",
        "colab_type": "code",
        "colab": {
          "base_uri": "https://localhost:8080/",
          "height": 391
        },
        "outputId": "5c0cf7c6-5c9f-4aa7-a925-8682cde41e40"
      },
      "source": [
        "df.info()"
      ],
      "execution_count": 8,
      "outputs": [
        {
          "output_type": "stream",
          "text": [
            "<class 'pandas.core.frame.DataFrame'>\n",
            "RangeIndex: 32561 entries, 0 to 32560\n",
            "Data columns (total 15 columns):\n",
            " #   Column          Non-Null Count  Dtype \n",
            "---  ------          --------------  ----- \n",
            " 0   Age             32561 non-null  int64 \n",
            " 1   workclass       32561 non-null  object\n",
            " 2   fnlwgt          32561 non-null  int64 \n",
            " 3   education       32561 non-null  object\n",
            " 4   education-num   32561 non-null  int64 \n",
            " 5   Marital-status  32561 non-null  object\n",
            " 6   Occupation      32561 non-null  object\n",
            " 7   Relationship    32561 non-null  object\n",
            " 8   Race            32561 non-null  object\n",
            " 9   Sex             32561 non-null  object\n",
            " 10  capital-gain    32561 non-null  int64 \n",
            " 11  capital-loss    32561 non-null  int64 \n",
            " 12  hours-per-week  32561 non-null  int64 \n",
            " 13  native-country  32561 non-null  object\n",
            " 14  Income          32561 non-null  object\n",
            "dtypes: int64(6), object(9)\n",
            "memory usage: 3.7+ MB\n"
          ],
          "name": "stdout"
        }
      ]
    },
    {
      "cell_type": "markdown",
      "metadata": {
        "id": "h_4qDj3w7tB5",
        "colab_type": "text"
      },
      "source": [
        "### Troca do Label para numérico"
      ]
    },
    {
      "cell_type": "code",
      "metadata": {
        "id": "5X2KIjyy7whu",
        "colab_type": "code",
        "colab": {
          "base_uri": "https://localhost:8080/",
          "height": 68
        },
        "outputId": "b3df9be0-9786-4c37-c42a-f9286a7d230b"
      },
      "source": [
        "# Verificar a contagem antes\n",
        "df.Income.value_counts()"
      ],
      "execution_count": 9,
      "outputs": [
        {
          "output_type": "execute_result",
          "data": {
            "text/plain": [
              " <=50K    24720\n",
              " >50K      7841\n",
              "Name: Income, dtype: int64"
            ]
          },
          "metadata": {
            "tags": []
          },
          "execution_count": 9
        }
      ]
    },
    {
      "cell_type": "code",
      "metadata": {
        "id": "1TZ22KPWgBC5",
        "colab_type": "code",
        "colab": {
          "base_uri": "https://localhost:8080/",
          "height": 68
        },
        "outputId": "bd271840-99e1-483f-b9d7-11569f3116e7"
      },
      "source": [
        "# Verificar a contagem depois\n",
        "df['Income'] = np.where(df['Income'] == ' <=50K', 0, 1)\n",
        "df.Income.value_counts()"
      ],
      "execution_count": 10,
      "outputs": [
        {
          "output_type": "execute_result",
          "data": {
            "text/plain": [
              "0    24720\n",
              "1     7841\n",
              "Name: Income, dtype: int64"
            ]
          },
          "metadata": {
            "tags": []
          },
          "execution_count": 10
        }
      ]
    },
    {
      "cell_type": "markdown",
      "metadata": {
        "id": "W5FFvnYe79jx",
        "colab_type": "text"
      },
      "source": [
        "### Fazer split entre train e test"
      ]
    },
    {
      "cell_type": "code",
      "metadata": {
        "id": "gz1e4bvIZDNs",
        "colab_type": "code",
        "colab": {
          "base_uri": "https://localhost:8080/",
          "height": 34
        },
        "outputId": "414bf96f-1d01-41d7-98f3-9d357f8e68b8"
      },
      "source": [
        "df_train, df_test, y_train, y_test = train_test_split(\n",
        "    df.iloc[:, :-1], \n",
        "    df.Income, \n",
        "    test_size=0.3)\n",
        "\n",
        "# retorna para dataframe\n",
        "df_train = pd.DataFrame(df_train)\n",
        "df_test = pd.DataFrame(df_test)\n",
        "df_train.shape, y_train.shape, df_test.shape, y_test.shape"
      ],
      "execution_count": 11,
      "outputs": [
        {
          "output_type": "execute_result",
          "data": {
            "text/plain": [
              "((22792, 14), (22792,), (9769, 14), (9769,))"
            ]
          },
          "metadata": {
            "tags": []
          },
          "execution_count": 11
        }
      ]
    },
    {
      "cell_type": "code",
      "metadata": {
        "id": "IrdPFgURgLaL",
        "colab_type": "code",
        "colab": {
          "base_uri": "https://localhost:8080/",
          "height": 572
        },
        "outputId": "d3fc53b3-e12f-4ba0-c3f1-1be5f1c91b4a"
      },
      "source": [
        "df_train"
      ],
      "execution_count": 12,
      "outputs": [
        {
          "output_type": "execute_result",
          "data": {
            "text/html": [
              "<div>\n",
              "<style scoped>\n",
              "    .dataframe tbody tr th:only-of-type {\n",
              "        vertical-align: middle;\n",
              "    }\n",
              "\n",
              "    .dataframe tbody tr th {\n",
              "        vertical-align: top;\n",
              "    }\n",
              "\n",
              "    .dataframe thead th {\n",
              "        text-align: right;\n",
              "    }\n",
              "</style>\n",
              "<table border=\"1\" class=\"dataframe\">\n",
              "  <thead>\n",
              "    <tr style=\"text-align: right;\">\n",
              "      <th></th>\n",
              "      <th>Age</th>\n",
              "      <th>workclass</th>\n",
              "      <th>fnlwgt</th>\n",
              "      <th>education</th>\n",
              "      <th>education-num</th>\n",
              "      <th>Marital-status</th>\n",
              "      <th>Occupation</th>\n",
              "      <th>Relationship</th>\n",
              "      <th>Race</th>\n",
              "      <th>Sex</th>\n",
              "      <th>capital-gain</th>\n",
              "      <th>capital-loss</th>\n",
              "      <th>hours-per-week</th>\n",
              "      <th>native-country</th>\n",
              "    </tr>\n",
              "  </thead>\n",
              "  <tbody>\n",
              "    <tr>\n",
              "      <th>18991</th>\n",
              "      <td>24</td>\n",
              "      <td>Private</td>\n",
              "      <td>276851</td>\n",
              "      <td>HS-grad</td>\n",
              "      <td>9</td>\n",
              "      <td>Divorced</td>\n",
              "      <td>Protective-serv</td>\n",
              "      <td>Own-child</td>\n",
              "      <td>White</td>\n",
              "      <td>Female</td>\n",
              "      <td>0</td>\n",
              "      <td>1762</td>\n",
              "      <td>40</td>\n",
              "      <td>United-States</td>\n",
              "    </tr>\n",
              "    <tr>\n",
              "      <th>9743</th>\n",
              "      <td>33</td>\n",
              "      <td>Self-emp-not-inc</td>\n",
              "      <td>193246</td>\n",
              "      <td>HS-grad</td>\n",
              "      <td>9</td>\n",
              "      <td>Never-married</td>\n",
              "      <td>Exec-managerial</td>\n",
              "      <td>Not-in-family</td>\n",
              "      <td>White</td>\n",
              "      <td>Male</td>\n",
              "      <td>0</td>\n",
              "      <td>0</td>\n",
              "      <td>55</td>\n",
              "      <td>France</td>\n",
              "    </tr>\n",
              "    <tr>\n",
              "      <th>23417</th>\n",
              "      <td>50</td>\n",
              "      <td>Private</td>\n",
              "      <td>197322</td>\n",
              "      <td>11th</td>\n",
              "      <td>7</td>\n",
              "      <td>Married-civ-spouse</td>\n",
              "      <td>Exec-managerial</td>\n",
              "      <td>Husband</td>\n",
              "      <td>White</td>\n",
              "      <td>Male</td>\n",
              "      <td>0</td>\n",
              "      <td>0</td>\n",
              "      <td>50</td>\n",
              "      <td>United-States</td>\n",
              "    </tr>\n",
              "    <tr>\n",
              "      <th>25248</th>\n",
              "      <td>45</td>\n",
              "      <td>Private</td>\n",
              "      <td>75673</td>\n",
              "      <td>Assoc-voc</td>\n",
              "      <td>11</td>\n",
              "      <td>Widowed</td>\n",
              "      <td>Adm-clerical</td>\n",
              "      <td>Not-in-family</td>\n",
              "      <td>Asian-Pac-Islander</td>\n",
              "      <td>Female</td>\n",
              "      <td>0</td>\n",
              "      <td>0</td>\n",
              "      <td>40</td>\n",
              "      <td>United-States</td>\n",
              "    </tr>\n",
              "    <tr>\n",
              "      <th>12892</th>\n",
              "      <td>27</td>\n",
              "      <td>Private</td>\n",
              "      <td>208725</td>\n",
              "      <td>Assoc-acdm</td>\n",
              "      <td>12</td>\n",
              "      <td>Never-married</td>\n",
              "      <td>Sales</td>\n",
              "      <td>Not-in-family</td>\n",
              "      <td>White</td>\n",
              "      <td>Male</td>\n",
              "      <td>0</td>\n",
              "      <td>0</td>\n",
              "      <td>42</td>\n",
              "      <td>United-States</td>\n",
              "    </tr>\n",
              "    <tr>\n",
              "      <th>...</th>\n",
              "      <td>...</td>\n",
              "      <td>...</td>\n",
              "      <td>...</td>\n",
              "      <td>...</td>\n",
              "      <td>...</td>\n",
              "      <td>...</td>\n",
              "      <td>...</td>\n",
              "      <td>...</td>\n",
              "      <td>...</td>\n",
              "      <td>...</td>\n",
              "      <td>...</td>\n",
              "      <td>...</td>\n",
              "      <td>...</td>\n",
              "      <td>...</td>\n",
              "    </tr>\n",
              "    <tr>\n",
              "      <th>16432</th>\n",
              "      <td>18</td>\n",
              "      <td>Private</td>\n",
              "      <td>267965</td>\n",
              "      <td>11th</td>\n",
              "      <td>7</td>\n",
              "      <td>Never-married</td>\n",
              "      <td>Sales</td>\n",
              "      <td>Not-in-family</td>\n",
              "      <td>White</td>\n",
              "      <td>Female</td>\n",
              "      <td>0</td>\n",
              "      <td>0</td>\n",
              "      <td>15</td>\n",
              "      <td>United-States</td>\n",
              "    </tr>\n",
              "    <tr>\n",
              "      <th>25934</th>\n",
              "      <td>47</td>\n",
              "      <td>Private</td>\n",
              "      <td>503454</td>\n",
              "      <td>12th</td>\n",
              "      <td>8</td>\n",
              "      <td>Never-married</td>\n",
              "      <td>Adm-clerical</td>\n",
              "      <td>Other-relative</td>\n",
              "      <td>Black</td>\n",
              "      <td>Female</td>\n",
              "      <td>0</td>\n",
              "      <td>0</td>\n",
              "      <td>40</td>\n",
              "      <td>United-States</td>\n",
              "    </tr>\n",
              "    <tr>\n",
              "      <th>3235</th>\n",
              "      <td>36</td>\n",
              "      <td>Self-emp-not-inc</td>\n",
              "      <td>367020</td>\n",
              "      <td>7th-8th</td>\n",
              "      <td>4</td>\n",
              "      <td>Married-civ-spouse</td>\n",
              "      <td>Craft-repair</td>\n",
              "      <td>Husband</td>\n",
              "      <td>White</td>\n",
              "      <td>Male</td>\n",
              "      <td>0</td>\n",
              "      <td>0</td>\n",
              "      <td>35</td>\n",
              "      <td>United-States</td>\n",
              "    </tr>\n",
              "    <tr>\n",
              "      <th>16377</th>\n",
              "      <td>54</td>\n",
              "      <td>Self-emp-not-inc</td>\n",
              "      <td>154785</td>\n",
              "      <td>Bachelors</td>\n",
              "      <td>13</td>\n",
              "      <td>Divorced</td>\n",
              "      <td>Exec-managerial</td>\n",
              "      <td>Not-in-family</td>\n",
              "      <td>White</td>\n",
              "      <td>Male</td>\n",
              "      <td>0</td>\n",
              "      <td>0</td>\n",
              "      <td>50</td>\n",
              "      <td>United-States</td>\n",
              "    </tr>\n",
              "    <tr>\n",
              "      <th>20271</th>\n",
              "      <td>41</td>\n",
              "      <td>?</td>\n",
              "      <td>206916</td>\n",
              "      <td>Bachelors</td>\n",
              "      <td>13</td>\n",
              "      <td>Married-spouse-absent</td>\n",
              "      <td>?</td>\n",
              "      <td>Not-in-family</td>\n",
              "      <td>White</td>\n",
              "      <td>Male</td>\n",
              "      <td>0</td>\n",
              "      <td>0</td>\n",
              "      <td>30</td>\n",
              "      <td>United-States</td>\n",
              "    </tr>\n",
              "  </tbody>\n",
              "</table>\n",
              "<p>22792 rows × 14 columns</p>\n",
              "</div>"
            ],
            "text/plain": [
              "       Age          workclass  ...  hours-per-week  native-country\n",
              "18991   24            Private  ...              40   United-States\n",
              "9743    33   Self-emp-not-inc  ...              55          France\n",
              "23417   50            Private  ...              50   United-States\n",
              "25248   45            Private  ...              40   United-States\n",
              "12892   27            Private  ...              42   United-States\n",
              "...    ...                ...  ...             ...             ...\n",
              "16432   18            Private  ...              15   United-States\n",
              "25934   47            Private  ...              40   United-States\n",
              "3235    36   Self-emp-not-inc  ...              35   United-States\n",
              "16377   54   Self-emp-not-inc  ...              50   United-States\n",
              "20271   41                  ?  ...              30   United-States\n",
              "\n",
              "[22792 rows x 14 columns]"
            ]
          },
          "metadata": {
            "tags": []
          },
          "execution_count": 12
        }
      ]
    },
    {
      "cell_type": "markdown",
      "metadata": {
        "id": "cRcDi2618Rus",
        "colab_type": "text"
      },
      "source": [
        "### Tratar colunas categóricas"
      ]
    },
    {
      "cell_type": "code",
      "metadata": {
        "id": "fhkgXstZEJpf",
        "colab_type": "code",
        "colab": {
          "base_uri": "https://localhost:8080/",
          "height": 289
        },
        "outputId": "21cee73b-25d6-40ab-d1cf-8f9d32fad5ee"
      },
      "source": [
        "df.dtypes"
      ],
      "execution_count": 13,
      "outputs": [
        {
          "output_type": "execute_result",
          "data": {
            "text/plain": [
              "Age                int64\n",
              "workclass         object\n",
              "fnlwgt             int64\n",
              "education         object\n",
              "education-num      int64\n",
              "Marital-status    object\n",
              "Occupation        object\n",
              "Relationship      object\n",
              "Race              object\n",
              "Sex               object\n",
              "capital-gain       int64\n",
              "capital-loss       int64\n",
              "hours-per-week     int64\n",
              "native-country    object\n",
              "Income             int64\n",
              "dtype: object"
            ]
          },
          "metadata": {
            "tags": []
          },
          "execution_count": 13
        }
      ]
    },
    {
      "cell_type": "code",
      "metadata": {
        "id": "OjDb3NOhJJxU",
        "colab_type": "code",
        "colab": {
          "base_uri": "https://localhost:8080/",
          "height": 272
        },
        "outputId": "fe43089a-063e-4383-b4bb-ba930d4ec7b9"
      },
      "source": [
        "columns   = df.columns.to_list() # todas as colunas\n",
        "col_types = df.dtypes.to_list()  # todos os tipos de colunas\n",
        "col_types"
      ],
      "execution_count": 14,
      "outputs": [
        {
          "output_type": "execute_result",
          "data": {
            "text/plain": [
              "[dtype('int64'),\n",
              " dtype('O'),\n",
              " dtype('int64'),\n",
              " dtype('O'),\n",
              " dtype('int64'),\n",
              " dtype('O'),\n",
              " dtype('O'),\n",
              " dtype('O'),\n",
              " dtype('O'),\n",
              " dtype('O'),\n",
              " dtype('int64'),\n",
              " dtype('int64'),\n",
              " dtype('int64'),\n",
              " dtype('O'),\n",
              " dtype('int64')]"
            ]
          },
          "metadata": {
            "tags": []
          },
          "execution_count": 14
        }
      ]
    },
    {
      "cell_type": "code",
      "metadata": {
        "id": "iI1ekW8qLXGK",
        "colab_type": "code",
        "colab": {
          "base_uri": "https://localhost:8080/",
          "height": 68
        },
        "outputId": "20c243de-46a7-4b8e-e207-5347f7e1e99b"
      },
      "source": [
        "num_cols, cat_cols = [], []\n",
        "for e in zip(columns, col_types):\n",
        "    if e[1] == 'object':\n",
        "        cat_cols.append(e[0])\n",
        "    else:\n",
        "        num_cols.append(e[0])\n",
        "\n",
        "# excluit o target Income da num_cols\n",
        "num_cols.pop(-1)\n",
        "\n",
        "print(cat_cols, '\\n')\n",
        "print(num_cols)"
      ],
      "execution_count": 15,
      "outputs": [
        {
          "output_type": "stream",
          "text": [
            "['workclass', 'education', 'Marital-status', 'Occupation', 'Relationship', 'Race', 'Sex', 'native-country'] \n",
            "\n",
            "['Age', 'fnlwgt', 'education-num', 'capital-gain', 'capital-loss', 'hours-per-week']\n"
          ],
          "name": "stdout"
        }
      ]
    },
    {
      "cell_type": "code",
      "metadata": {
        "id": "iioFiC42TAG1",
        "colab_type": "code",
        "colab": {}
      },
      "source": [
        "def map_categorical_train(df_train, cat_cols):\n",
        "    df = df_train.copy()\n",
        "    cat_dims, list_of_dicts = [], []\n",
        "    \n",
        "    for col in cat_cols:\n",
        "        j = 1\n",
        "        my_dict = {}\n",
        "        my_dict.update({' ?':0})\n",
        "        my_dict.update({'UNK':1})\n",
        "\n",
        "        for e in df[col].value_counts().index.to_list():\n",
        "            if e not in my_dict.keys():\n",
        "                j +=1\n",
        "                my_dict.update({e:j})\n",
        "        list_of_dicts.append(my_dict)\n",
        "        cat_dims.append(len(my_dict))\n",
        "\n",
        "        df[col] = df[col].apply(lambda x: my_dict[x] if x in \n",
        "                                my_dict.keys() else my_dict['UNK'])\n",
        "        \n",
        "        emb_szs = [(c, min(100, (c+10)//2)) for c in cat_dims]\n",
        "        cat_emb_dims = [e[0] for e in emb_szs]\n",
        "\n",
        "    return df, list_of_dicts, emb_szs, cat_dims\n",
        "\n",
        "#----------------------------------------------------------------------------------\n",
        "def map_categorical_test(df_test, list_of_dicts):\n",
        "    df = df_test.copy()\n",
        "    for i, col in enumerate(cat_cols):\n",
        "        df[col] = df[col].apply(lambda x: list_of_dicts[i][x] if x in \n",
        "                                list_of_dicts[i].keys() else list_of_dicts[i]['UNK'])\n",
        "    return df"
      ],
      "execution_count": 17,
      "outputs": []
    },
    {
      "cell_type": "code",
      "metadata": {
        "id": "OjSvRFo6W8G_",
        "colab_type": "code",
        "colab": {
          "base_uri": "https://localhost:8080/",
          "height": 34
        },
        "outputId": "d12f2a94-dd71-4c3a-d9a0-ba584e0f8200"
      },
      "source": [
        "df_train_, list_of_dicts, emb_szs, cat_dims = map_categorical_train(df_train, cat_cols)   \n",
        "df_test_ = map_categorical_test(df_test, list_of_dicts)   \n",
        "print(df_train_.shape, df_test_.shape)"
      ],
      "execution_count": 18,
      "outputs": [
        {
          "output_type": "stream",
          "text": [
            "(22792, 14) (9769, 14)\n"
          ],
          "name": "stdout"
        }
      ]
    },
    {
      "cell_type": "code",
      "metadata": {
        "id": "OTVPO_c79GZi",
        "colab_type": "code",
        "colab": {
          "base_uri": "https://localhost:8080/",
          "height": 204
        },
        "outputId": "76ed9a93-a2f0-4955-bf62-fb19c7a58b40"
      },
      "source": [
        "# Conferindo\n",
        "df_train_.head(5)"
      ],
      "execution_count": 19,
      "outputs": [
        {
          "output_type": "execute_result",
          "data": {
            "text/html": [
              "<div>\n",
              "<style scoped>\n",
              "    .dataframe tbody tr th:only-of-type {\n",
              "        vertical-align: middle;\n",
              "    }\n",
              "\n",
              "    .dataframe tbody tr th {\n",
              "        vertical-align: top;\n",
              "    }\n",
              "\n",
              "    .dataframe thead th {\n",
              "        text-align: right;\n",
              "    }\n",
              "</style>\n",
              "<table border=\"1\" class=\"dataframe\">\n",
              "  <thead>\n",
              "    <tr style=\"text-align: right;\">\n",
              "      <th></th>\n",
              "      <th>Age</th>\n",
              "      <th>workclass</th>\n",
              "      <th>fnlwgt</th>\n",
              "      <th>education</th>\n",
              "      <th>education-num</th>\n",
              "      <th>Marital-status</th>\n",
              "      <th>Occupation</th>\n",
              "      <th>Relationship</th>\n",
              "      <th>Race</th>\n",
              "      <th>Sex</th>\n",
              "      <th>capital-gain</th>\n",
              "      <th>capital-loss</th>\n",
              "      <th>hours-per-week</th>\n",
              "      <th>native-country</th>\n",
              "    </tr>\n",
              "  </thead>\n",
              "  <tbody>\n",
              "    <tr>\n",
              "      <th>18991</th>\n",
              "      <td>24</td>\n",
              "      <td>2</td>\n",
              "      <td>276851</td>\n",
              "      <td>2</td>\n",
              "      <td>9</td>\n",
              "      <td>4</td>\n",
              "      <td>13</td>\n",
              "      <td>4</td>\n",
              "      <td>2</td>\n",
              "      <td>3</td>\n",
              "      <td>0</td>\n",
              "      <td>1762</td>\n",
              "      <td>40</td>\n",
              "      <td>2</td>\n",
              "    </tr>\n",
              "    <tr>\n",
              "      <th>9743</th>\n",
              "      <td>33</td>\n",
              "      <td>3</td>\n",
              "      <td>193246</td>\n",
              "      <td>2</td>\n",
              "      <td>9</td>\n",
              "      <td>3</td>\n",
              "      <td>4</td>\n",
              "      <td>3</td>\n",
              "      <td>2</td>\n",
              "      <td>2</td>\n",
              "      <td>0</td>\n",
              "      <td>0</td>\n",
              "      <td>55</td>\n",
              "      <td>30</td>\n",
              "    </tr>\n",
              "    <tr>\n",
              "      <th>23417</th>\n",
              "      <td>50</td>\n",
              "      <td>2</td>\n",
              "      <td>197322</td>\n",
              "      <td>7</td>\n",
              "      <td>7</td>\n",
              "      <td>2</td>\n",
              "      <td>4</td>\n",
              "      <td>2</td>\n",
              "      <td>2</td>\n",
              "      <td>2</td>\n",
              "      <td>0</td>\n",
              "      <td>0</td>\n",
              "      <td>50</td>\n",
              "      <td>2</td>\n",
              "    </tr>\n",
              "    <tr>\n",
              "      <th>25248</th>\n",
              "      <td>45</td>\n",
              "      <td>2</td>\n",
              "      <td>75673</td>\n",
              "      <td>6</td>\n",
              "      <td>11</td>\n",
              "      <td>6</td>\n",
              "      <td>5</td>\n",
              "      <td>3</td>\n",
              "      <td>4</td>\n",
              "      <td>3</td>\n",
              "      <td>0</td>\n",
              "      <td>0</td>\n",
              "      <td>40</td>\n",
              "      <td>2</td>\n",
              "    </tr>\n",
              "    <tr>\n",
              "      <th>12892</th>\n",
              "      <td>27</td>\n",
              "      <td>2</td>\n",
              "      <td>208725</td>\n",
              "      <td>8</td>\n",
              "      <td>12</td>\n",
              "      <td>3</td>\n",
              "      <td>6</td>\n",
              "      <td>3</td>\n",
              "      <td>2</td>\n",
              "      <td>2</td>\n",
              "      <td>0</td>\n",
              "      <td>0</td>\n",
              "      <td>42</td>\n",
              "      <td>2</td>\n",
              "    </tr>\n",
              "  </tbody>\n",
              "</table>\n",
              "</div>"
            ],
            "text/plain": [
              "       Age  workclass  fnlwgt  ...  capital-loss  hours-per-week  native-country\n",
              "18991   24          2  276851  ...          1762              40               2\n",
              "9743    33          3  193246  ...             0              55              30\n",
              "23417   50          2  197322  ...             0              50               2\n",
              "25248   45          2   75673  ...             0              40               2\n",
              "12892   27          2  208725  ...             0              42               2\n",
              "\n",
              "[5 rows x 14 columns]"
            ]
          },
          "metadata": {
            "tags": []
          },
          "execution_count": 19
        }
      ]
    },
    {
      "cell_type": "markdown",
      "metadata": {
        "id": "muLbz4Xa9KpR",
        "colab_type": "text"
      },
      "source": [
        "### Tratamento colunas numéricas"
      ]
    },
    {
      "cell_type": "code",
      "metadata": {
        "id": "RKAZcUE59Nau",
        "colab_type": "code",
        "colab": {}
      },
      "source": [
        "def normalize(df, num_cols, cat_cols, norm='minmax'):\n",
        "    data = df.copy()\n",
        "    df_num = df[num_cols]\n",
        "    \n",
        "    if norm == 'minmax':\n",
        "        m_m_s = MinMaxScaler()\n",
        "        mim_max_scal = m_m_s.fit(df_num.values)\n",
        "        mim_max_scal = m_m_s.transform(df_num.values)\n",
        "        df_norm = pd.DataFrame(data=mim_max_scal, \n",
        "                        columns=df_num.columns, \n",
        "                        index=df_num.index)\n",
        "\n",
        "    if norm == 'quantile':\n",
        "        quantile = quantile_transform(df_num.values, \n",
        "                        random_state=manual_seed, \n",
        "                        copy=True, \n",
        "                        output_distribution='uniform')\n",
        "        df_norm  = pd.DataFrame(data=quantile, \n",
        "                        columns=df_num.columns, \n",
        "                        index=df_num.index)\n",
        "\n",
        "    df= pd.concat((\n",
        "        df_norm, \n",
        "        df[cat_cols]), \n",
        "        axis=1)\n",
        "    return df"
      ],
      "execution_count": 21,
      "outputs": []
    },
    {
      "cell_type": "code",
      "metadata": {
        "id": "BtS4IlOY-HJB",
        "colab_type": "code",
        "colab": {
          "base_uri": "https://localhost:8080/",
          "height": 119
        },
        "outputId": "3c1c923c-ab06-4415-eadc-c5c3b8ed6401"
      },
      "source": [
        "# df_train[num_cols]\n",
        "num_cols"
      ],
      "execution_count": 22,
      "outputs": [
        {
          "output_type": "execute_result",
          "data": {
            "text/plain": [
              "['Age',\n",
              " 'fnlwgt',\n",
              " 'education-num',\n",
              " 'capital-gain',\n",
              " 'capital-loss',\n",
              " 'hours-per-week']"
            ]
          },
          "metadata": {
            "tags": []
          },
          "execution_count": 22
        }
      ]
    },
    {
      "cell_type": "code",
      "metadata": {
        "id": "-20zO9BI9p32",
        "colab_type": "code",
        "colab": {}
      },
      "source": [
        "df_train = normalize(df_train_, num_cols, cat_cols, norm='quantile')\n",
        "df_test  = normalize(df_test_, num_cols, cat_cols, norm='quantile') "
      ],
      "execution_count": 23,
      "outputs": []
    },
    {
      "cell_type": "markdown",
      "metadata": {
        "id": "9rGqkpVp-Dcs",
        "colab_type": "text"
      },
      "source": [
        "# Conferindo"
      ]
    },
    {
      "cell_type": "code",
      "metadata": {
        "id": "gxmnnwld-nUw",
        "colab_type": "code",
        "colab": {
          "base_uri": "https://localhost:8080/",
          "height": 436
        },
        "outputId": "13b5fad3-1101-4302-df26-bec5a300b379"
      },
      "source": [
        "df_train"
      ],
      "execution_count": 24,
      "outputs": [
        {
          "output_type": "execute_result",
          "data": {
            "text/html": [
              "<div>\n",
              "<style scoped>\n",
              "    .dataframe tbody tr th:only-of-type {\n",
              "        vertical-align: middle;\n",
              "    }\n",
              "\n",
              "    .dataframe tbody tr th {\n",
              "        vertical-align: top;\n",
              "    }\n",
              "\n",
              "    .dataframe thead th {\n",
              "        text-align: right;\n",
              "    }\n",
              "</style>\n",
              "<table border=\"1\" class=\"dataframe\">\n",
              "  <thead>\n",
              "    <tr style=\"text-align: right;\">\n",
              "      <th></th>\n",
              "      <th>Age</th>\n",
              "      <th>fnlwgt</th>\n",
              "      <th>education-num</th>\n",
              "      <th>capital-gain</th>\n",
              "      <th>capital-loss</th>\n",
              "      <th>hours-per-week</th>\n",
              "      <th>workclass</th>\n",
              "      <th>education</th>\n",
              "      <th>Marital-status</th>\n",
              "      <th>Occupation</th>\n",
              "      <th>Relationship</th>\n",
              "      <th>Race</th>\n",
              "      <th>Sex</th>\n",
              "      <th>native-country</th>\n",
              "    </tr>\n",
              "  </thead>\n",
              "  <tbody>\n",
              "    <tr>\n",
              "      <th>18991</th>\n",
              "      <td>0.157157</td>\n",
              "      <td>0.828224</td>\n",
              "      <td>0.292292</td>\n",
              "      <td>0.0</td>\n",
              "      <td>0.968969</td>\n",
              "      <td>0.472973</td>\n",
              "      <td>2</td>\n",
              "      <td>2</td>\n",
              "      <td>4</td>\n",
              "      <td>13</td>\n",
              "      <td>4</td>\n",
              "      <td>2</td>\n",
              "      <td>3</td>\n",
              "      <td>2</td>\n",
              "    </tr>\n",
              "    <tr>\n",
              "      <th>9743</th>\n",
              "      <td>0.391391</td>\n",
              "      <td>0.580776</td>\n",
              "      <td>0.292292</td>\n",
              "      <td>0.0</td>\n",
              "      <td>0.000000</td>\n",
              "      <td>0.906907</td>\n",
              "      <td>3</td>\n",
              "      <td>2</td>\n",
              "      <td>3</td>\n",
              "      <td>4</td>\n",
              "      <td>3</td>\n",
              "      <td>2</td>\n",
              "      <td>2</td>\n",
              "      <td>30</td>\n",
              "    </tr>\n",
              "    <tr>\n",
              "      <th>23417</th>\n",
              "      <td>0.791792</td>\n",
              "      <td>0.601957</td>\n",
              "      <td>0.098098</td>\n",
              "      <td>0.0</td>\n",
              "      <td>0.000000</td>\n",
              "      <td>0.845345</td>\n",
              "      <td>2</td>\n",
              "      <td>7</td>\n",
              "      <td>2</td>\n",
              "      <td>4</td>\n",
              "      <td>2</td>\n",
              "      <td>2</td>\n",
              "      <td>2</td>\n",
              "      <td>2</td>\n",
              "    </tr>\n",
              "    <tr>\n",
              "      <th>25248</th>\n",
              "      <td>0.692693</td>\n",
              "      <td>0.116928</td>\n",
              "      <td>0.699199</td>\n",
              "      <td>0.0</td>\n",
              "      <td>0.000000</td>\n",
              "      <td>0.472973</td>\n",
              "      <td>2</td>\n",
              "      <td>6</td>\n",
              "      <td>6</td>\n",
              "      <td>5</td>\n",
              "      <td>3</td>\n",
              "      <td>4</td>\n",
              "      <td>3</td>\n",
              "      <td>2</td>\n",
              "    </tr>\n",
              "    <tr>\n",
              "      <th>12892</th>\n",
              "      <td>0.233233</td>\n",
              "      <td>0.657658</td>\n",
              "      <td>0.736737</td>\n",
              "      <td>0.0</td>\n",
              "      <td>0.000000</td>\n",
              "      <td>0.711211</td>\n",
              "      <td>2</td>\n",
              "      <td>8</td>\n",
              "      <td>3</td>\n",
              "      <td>6</td>\n",
              "      <td>3</td>\n",
              "      <td>2</td>\n",
              "      <td>2</td>\n",
              "      <td>2</td>\n",
              "    </tr>\n",
              "    <tr>\n",
              "      <th>...</th>\n",
              "      <td>...</td>\n",
              "      <td>...</td>\n",
              "      <td>...</td>\n",
              "      <td>...</td>\n",
              "      <td>...</td>\n",
              "      <td>...</td>\n",
              "      <td>...</td>\n",
              "      <td>...</td>\n",
              "      <td>...</td>\n",
              "      <td>...</td>\n",
              "      <td>...</td>\n",
              "      <td>...</td>\n",
              "      <td>...</td>\n",
              "      <td>...</td>\n",
              "    </tr>\n",
              "    <tr>\n",
              "      <th>16432</th>\n",
              "      <td>0.020521</td>\n",
              "      <td>0.813811</td>\n",
              "      <td>0.098098</td>\n",
              "      <td>0.0</td>\n",
              "      <td>0.000000</td>\n",
              "      <td>0.035536</td>\n",
              "      <td>2</td>\n",
              "      <td>7</td>\n",
              "      <td>3</td>\n",
              "      <td>6</td>\n",
              "      <td>3</td>\n",
              "      <td>2</td>\n",
              "      <td>3</td>\n",
              "      <td>2</td>\n",
              "    </tr>\n",
              "    <tr>\n",
              "      <th>25934</th>\n",
              "      <td>0.737738</td>\n",
              "      <td>0.988794</td>\n",
              "      <td>0.123123</td>\n",
              "      <td>0.0</td>\n",
              "      <td>0.000000</td>\n",
              "      <td>0.472973</td>\n",
              "      <td>2</td>\n",
              "      <td>13</td>\n",
              "      <td>3</td>\n",
              "      <td>5</td>\n",
              "      <td>7</td>\n",
              "      <td>3</td>\n",
              "      <td>3</td>\n",
              "      <td>2</td>\n",
              "    </tr>\n",
              "    <tr>\n",
              "      <th>3235</th>\n",
              "      <td>0.471972</td>\n",
              "      <td>0.940512</td>\n",
              "      <td>0.026527</td>\n",
              "      <td>0.0</td>\n",
              "      <td>0.000000</td>\n",
              "      <td>0.191191</td>\n",
              "      <td>3</td>\n",
              "      <td>10</td>\n",
              "      <td>2</td>\n",
              "      <td>2</td>\n",
              "      <td>2</td>\n",
              "      <td>2</td>\n",
              "      <td>2</td>\n",
              "      <td>2</td>\n",
              "    </tr>\n",
              "    <tr>\n",
              "      <th>16377</th>\n",
              "      <td>0.855856</td>\n",
              "      <td>0.382639</td>\n",
              "      <td>0.835335</td>\n",
              "      <td>0.0</td>\n",
              "      <td>0.000000</td>\n",
              "      <td>0.845345</td>\n",
              "      <td>3</td>\n",
              "      <td>4</td>\n",
              "      <td>4</td>\n",
              "      <td>4</td>\n",
              "      <td>3</td>\n",
              "      <td>2</td>\n",
              "      <td>2</td>\n",
              "      <td>2</td>\n",
              "    </tr>\n",
              "    <tr>\n",
              "      <th>20271</th>\n",
              "      <td>0.599600</td>\n",
              "      <td>0.650760</td>\n",
              "      <td>0.835335</td>\n",
              "      <td>0.0</td>\n",
              "      <td>0.000000</td>\n",
              "      <td>0.143143</td>\n",
              "      <td>0</td>\n",
              "      <td>4</td>\n",
              "      <td>7</td>\n",
              "      <td>0</td>\n",
              "      <td>3</td>\n",
              "      <td>2</td>\n",
              "      <td>2</td>\n",
              "      <td>2</td>\n",
              "    </tr>\n",
              "  </tbody>\n",
              "</table>\n",
              "<p>22792 rows × 14 columns</p>\n",
              "</div>"
            ],
            "text/plain": [
              "            Age    fnlwgt  education-num  ...  Race  Sex  native-country\n",
              "18991  0.157157  0.828224       0.292292  ...     2    3               2\n",
              "9743   0.391391  0.580776       0.292292  ...     2    2              30\n",
              "23417  0.791792  0.601957       0.098098  ...     2    2               2\n",
              "25248  0.692693  0.116928       0.699199  ...     4    3               2\n",
              "12892  0.233233  0.657658       0.736737  ...     2    2               2\n",
              "...         ...       ...            ...  ...   ...  ...             ...\n",
              "16432  0.020521  0.813811       0.098098  ...     2    3               2\n",
              "25934  0.737738  0.988794       0.123123  ...     3    3               2\n",
              "3235   0.471972  0.940512       0.026527  ...     2    2               2\n",
              "16377  0.855856  0.382639       0.835335  ...     2    2               2\n",
              "20271  0.599600  0.650760       0.835335  ...     2    2               2\n",
              "\n",
              "[22792 rows x 14 columns]"
            ]
          },
          "metadata": {
            "tags": []
          },
          "execution_count": 24
        }
      ]
    },
    {
      "cell_type": "markdown",
      "metadata": {
        "id": "WA2Dcphh-o5H",
        "colab_type": "text"
      },
      "source": [
        "## Criar classe do dataset"
      ]
    },
    {
      "cell_type": "code",
      "metadata": {
        "id": "2JXfxrmD-sqg",
        "colab_type": "code",
        "colab": {
          "base_uri": "https://localhost:8080/",
          "height": 34
        },
        "outputId": "ca9777a0-c075-489e-82e9-2bdf595178ea"
      },
      "source": [
        "class CensusDataset(Dataset):\n",
        "    def __init__(self, df, num_cols, cat_cols, target):\n",
        "        super(CensusDataset, self).__init__()\n",
        "\n",
        "        self.x_cont = df[num_cols].values.copy().astype(np.float32)\n",
        "        self.x_cat  = df[cat_cols].values.copy().astype(np.int64)\n",
        "        \n",
        "        self.y = target.values.reshape(-1).copy().astype(np.int64)\n",
        "        \n",
        "    def __len__(self):\n",
        "        return self.x_cat.shape[0]\n",
        "    \n",
        "    def __getitem__(self, index):\n",
        "        x_cont = self.x_cont[index]\n",
        "        x_cat  = self.x_cat[index]\n",
        "        \n",
        "        y = self.y[index]\n",
        "        \n",
        "        return x_cont, x_cat, y\n",
        "\n",
        "# testando\n",
        "ds = CensusDataset(df_train, \n",
        "                     num_cols, \n",
        "                     cat_cols, \n",
        "                     y_train)\n",
        "x_cont, x_cat, y = ds[0]\n",
        "x_cont.shape, x_cat.shape, y"
      ],
      "execution_count": 26,
      "outputs": [
        {
          "output_type": "execute_result",
          "data": {
            "text/plain": [
              "((6,), (8,), 0)"
            ]
          },
          "metadata": {
            "tags": []
          },
          "execution_count": 26
        }
      ]
    },
    {
      "cell_type": "markdown",
      "metadata": {
        "id": "XzX-03rt_Te-",
        "colab_type": "text"
      },
      "source": [
        "# Dataloaders"
      ]
    },
    {
      "cell_type": "code",
      "metadata": {
        "id": "t6bE6o7W3EgQ",
        "colab_type": "code",
        "colab": {
          "base_uri": "https://localhost:8080/",
          "height": 34
        },
        "outputId": "a9466b0e-f4dd-4ccf-8abc-b2dafb48648d"
      },
      "source": [
        "BATCH_SZ = 32\n",
        "\n",
        "# datasets\n",
        "ds_train = CensusDataset(df_train, \n",
        "                     num_cols, \n",
        "                     cat_cols, \n",
        "                     y_train)\n",
        "\n",
        "ds_debug = CensusDataset(df_train[:BATCH_SZ], \n",
        "                     num_cols, \n",
        "                     cat_cols, \n",
        "                     y_train[:BATCH_SZ])\n",
        "\n",
        "ds_test  = CensusDataset(df_test, \n",
        "                     num_cols, \n",
        "                     cat_cols, \n",
        "                     y_test)\n",
        "# dataloaders\n",
        "dataloaders = {\n",
        "     'train': DataLoader(ds_train,\n",
        "                         batch_size=BATCH_SZ,\n",
        "                         shuffle = True, \n",
        "                         num_workers=4,\n",
        "                         pin_memory=True),\n",
        "     'test' : DataLoader(ds_test,\n",
        "                         batch_size=BATCH_SZ,\n",
        "                         shuffle=False,\n",
        "                         num_workers=4,\n",
        "                         pin_memory=True),\n",
        "     'debug': DataLoader(ds_debug,\n",
        "                         batch_size=BATCH_SZ,\n",
        "                         shuffle=False,\n",
        "                         num_workers=4,\n",
        "                         pin_memory=True)\n",
        "     }\n",
        "\n",
        "# sanity check\n",
        "dl_sizes = {x: len(dataloaders[x]) for x in dataloaders.keys()}\n",
        "dl_sizes "
      ],
      "execution_count": 28,
      "outputs": [
        {
          "output_type": "execute_result",
          "data": {
            "text/plain": [
              "{'debug': 1, 'test': 306, 'train': 713}"
            ]
          },
          "metadata": {
            "tags": []
          },
          "execution_count": 28
        }
      ]
    },
    {
      "cell_type": "code",
      "metadata": {
        "id": "G2ZAQNy2QeFR",
        "colab_type": "code",
        "colab": {
          "base_uri": "https://localhost:8080/",
          "height": 34
        },
        "outputId": "e0379f49-d30e-429f-d312-91fec3108d5c"
      },
      "source": [
        "x_cont, x_cat, y= next(iter(dataloaders['train']))\n",
        "torch.mean(y.type(torch.float))"
      ],
      "execution_count": 29,
      "outputs": [
        {
          "output_type": "execute_result",
          "data": {
            "text/plain": [
              "tensor(0.2500)"
            ]
          },
          "metadata": {
            "tags": []
          },
          "execution_count": 29
        }
      ]
    },
    {
      "cell_type": "markdown",
      "metadata": {
        "id": "vz12PBQxAi_C",
        "colab_type": "text"
      },
      "source": [
        "# Modelo"
      ]
    },
    {
      "cell_type": "markdown",
      "metadata": {
        "id": "NnLEd-Xk59fZ",
        "colab_type": "text"
      },
      "source": [
        "##  <span style=\"color:orange\"> Atenção MultiHead\n",
        "\n"
      ]
    },
    {
      "cell_type": "code",
      "metadata": {
        "id": "gzM2sdoy9Ede",
        "colab_type": "code",
        "colab": {}
      },
      "source": [
        "def clones(module, N):\n",
        "    return nn.ModuleList([copy.deepcopy(module) for _ in range(N)])"
      ],
      "execution_count": 30,
      "outputs": []
    },
    {
      "cell_type": "code",
      "metadata": {
        "colab_type": "code",
        "id": "1k7JUjXRt3Dq",
        "colab": {}
      },
      "source": [
        "einsum = torch.einsum\n",
        "sqrt = math.sqrt\n",
        "\n",
        "class MultiHead(nn.Module):\n",
        "  def __init__(self, n_heads, d_model):\n",
        "    super(MultiHead, self).__init__()\n",
        "    assert d_model % n_heads == 0\n",
        "\n",
        "    self.n_heads = n_heads\n",
        "    self.d_k = d_model // n_heads; self.d_v = d_model // n_heads \n",
        "    self.W   = clones(nn.Linear(d_model, self.d_k * n_heads), 4)\n",
        "      \n",
        "  def forward(self, emb_x): \n",
        "    N, L,_= emb_x.size()\n",
        "\n",
        "    q = self.W[0](emb_x).view(N, L, self.n_heads, self.d_k).transpose(1,2) \n",
        "    k = self.W[1](emb_x).view(N, L, self.n_heads, self.d_k).transpose(1,2) \n",
        "    v = self.W[2](emb_x).view(N, L, self.n_heads, self.d_v).transpose(1,2) \n",
        "    \n",
        "    #------------------------------- scores  ---------------------------------\n",
        "    scores = einsum('bhld, bhsd -> bhls', q, k) / sqrt(self.d_k) # (N,H,L,dq)x(N,H,L,dk)=(N,H,L,L)\n",
        "    scores = F.softmax(scores, dim=-1)\n",
        "    \n",
        "    #------------------------------ value e contexto -------------------------\n",
        "    att = einsum('bhli, bhiv -> bhlv', scores, v)     # (N,H,L,L)x(N,H,L,dv)=(N,H,L,dv)\n",
        "    # att = att.transpose(1,2).contiguous()           #  (N,L,H,L)\n",
        "    # att = att.view(N, L, -1)  # N, L, (H*dv)  \n",
        "    att = rearrange(att, 'n h l dv -> n l (h dv)')\n",
        "    \n",
        "    return self.W[-1](att)  "
      ],
      "execution_count": 45,
      "outputs": []
    },
    {
      "cell_type": "code",
      "metadata": {
        "id": "q648boUFAssI",
        "colab_type": "code",
        "colab": {
          "base_uri": "https://localhost:8080/",
          "height": 34
        },
        "outputId": "d1f4694a-e286-4bc6-8719-ff915928cfea"
      },
      "source": [
        "class CatModel_ATT(nn.Module):\n",
        "    def __init__(\n",
        "        self, \n",
        "        cat_dims=cat_dims, \n",
        "        n_cont=len(num_cols), \n",
        "        d_model=128, \n",
        "        n_head=4, \n",
        "        out=2):\n",
        "        super().__init__()\n",
        "\n",
        "        self.d_model    = d_model\n",
        "        self.cont_feats = n_cont\n",
        "\n",
        "        self.mha  = MultiHead(n_head, d_model)\n",
        "\n",
        "        self.cat_emb = nn.ModuleList([nn.Embedding(cat_dim, d_model) \n",
        "                    for cat_dim in cat_dims])\n",
        "        self.cont_emb   = nn.Linear(1, d_model)\n",
        "\n",
        "        self.actv = nn.ReLU()\n",
        "\n",
        "        self.fc0  = nn.Linear(d_model * (self.cont_feats + len(cat_dims)), d_model)\n",
        "        self.fc1  = nn.Linear(d_model, out)\n",
        "\n",
        "    def forward(self, x_cont, x_cat):\n",
        "        xcat  = torch.zeros(x_cat.shape[0], len(cat_dims), self.d_model).to(x_cat.device)\n",
        "        for i, emb in enumerate(self.cat_emb):\n",
        "            xi = x_cat[:, i].long()\n",
        "            xemb = emb(xi)\n",
        "            xcat[:, i,:] = xemb\n",
        "\n",
        "        xcont = self.cont_emb(x_cont.unsqueeze(-1))\n",
        "        \n",
        "        o = torch.cat((xcont, xcat), dim=1)\n",
        "        mha = self.mha(torch.cat((xcont, xcat), dim=1))\n",
        "        o = mha.view(o.shape[0], -1) \n",
        "\n",
        "        o = self.fc0(o)\n",
        "        o = self.actv(o)\n",
        "        return self.fc1(o)\n",
        "#--------------------------------------------------------------------------------\n",
        "model = CatModel_ATT(\n",
        "    cat_dims=cat_dims, \n",
        "    n_cont=len(num_cols),\n",
        "    d_model=128,\n",
        "    n_head=4,\n",
        "    )\n",
        "with torch.no_grad():\n",
        "    print(model(x_cont, x_cat).shape)   "
      ],
      "execution_count": 46,
      "outputs": [
        {
          "output_type": "stream",
          "text": [
            "torch.Size([32, 2])\n"
          ],
          "name": "stdout"
        }
      ]
    },
    {
      "cell_type": "code",
      "metadata": {
        "id": "sRLtcXLpA_Kx",
        "colab_type": "code",
        "colab": {
          "base_uri": "https://localhost:8080/",
          "height": 510
        },
        "outputId": "e0a2fadb-b76a-4274-e5ca-25115228bff4"
      },
      "source": [
        "def count_parameters(model):\n",
        "    return sum(p.numel() for p in model.parameters() if p.requires_grad)\n",
        "\n",
        "print('\\n','#' * 45,f'\\n # The model has {count_parameters(model):,}' \\\n",
        "       ' trainable parameters #\\n', '#' * 45,'\\n' )  \n",
        "model"
      ],
      "execution_count": 47,
      "outputs": [
        {
          "output_type": "stream",
          "text": [
            "\n",
            " ############################################# \n",
            " # The model has 310,786 trainable parameters #\n",
            " ############################################# \n",
            "\n"
          ],
          "name": "stdout"
        },
        {
          "output_type": "execute_result",
          "data": {
            "text/plain": [
              "CatModel_ATT(\n",
              "  (mha): MultiHead(\n",
              "    (W): ModuleList(\n",
              "      (0): Linear(in_features=128, out_features=128, bias=True)\n",
              "      (1): Linear(in_features=128, out_features=128, bias=True)\n",
              "      (2): Linear(in_features=128, out_features=128, bias=True)\n",
              "      (3): Linear(in_features=128, out_features=128, bias=True)\n",
              "    )\n",
              "  )\n",
              "  (cat_emb): ModuleList(\n",
              "    (0): Embedding(10, 128)\n",
              "    (1): Embedding(18, 128)\n",
              "    (2): Embedding(9, 128)\n",
              "    (3): Embedding(16, 128)\n",
              "    (4): Embedding(8, 128)\n",
              "    (5): Embedding(7, 128)\n",
              "    (6): Embedding(4, 128)\n",
              "    (7): Embedding(43, 128)\n",
              "  )\n",
              "  (cont_emb): Linear(in_features=1, out_features=128, bias=True)\n",
              "  (actv): ReLU()\n",
              "  (fc0): Linear(in_features=1792, out_features=128, bias=True)\n",
              "  (fc1): Linear(in_features=128, out_features=2, bias=True)\n",
              ")"
            ]
          },
          "metadata": {
            "tags": []
          },
          "execution_count": 47
        }
      ]
    },
    {
      "cell_type": "markdown",
      "metadata": {
        "id": "8D2pwp6fBGhx",
        "colab_type": "text"
      },
      "source": [
        "# Treino"
      ]
    },
    {
      "cell_type": "code",
      "metadata": {
        "id": "gye0TYAYBViY",
        "colab_type": "code",
        "colab": {}
      },
      "source": [
        "def train(model, device, train_loader, loss_fn, optimizer):\n",
        "    model.train()\n",
        "    loss_train = []\n",
        "    for x_cont, x_cat, y in train_loader:\n",
        "        optimizer.zero_grad()\n",
        "        y_pred = model(\n",
        "            x_cont.to(device),\n",
        "            x_cat.to(device),\n",
        "            )\n",
        "        loss = loss_fn(y_pred, y.to(device))\n",
        "        loss_train.append(loss.item())\n",
        "    \n",
        "        loss.backward()\n",
        "        optimizer.step()\n",
        "  \n",
        "    ave_train_loss = sum(loss_train) / len(loss_train)\n",
        "    return ave_train_loss\n",
        "\n",
        "def test(model, device, valid_loader, loss_fn):\n",
        "    model.eval()\n",
        "    preds, trues, loss_test = [],[],[]\n",
        "    for x_cont, x_cat, y in valid_loader:\n",
        "        with torch.no_grad():\n",
        "            y_pred = model(\n",
        "            x_cont.to(device),\n",
        "            x_cat.to(device),\n",
        "            )\n",
        "\n",
        "        loss = loss_fn(y_pred, y.to(device))\n",
        "        loss_test.append(loss.item())\n",
        "      \n",
        "        preds += y_pred.argmax(-1).cpu().numpy().tolist()\n",
        "        trues += y.cpu().numpy().tolist()\n",
        "\n",
        "    ave_test_loss = sum(loss_test) / len(loss_test)\n",
        "    \n",
        "    preds = np.array(preds)\n",
        "    trues = np.array(trues)\n",
        "    acc = (1.* (preds==trues)).mean() \n",
        "    return ave_test_loss, f1_score(trues, preds), acc"
      ],
      "execution_count": 48,
      "outputs": []
    },
    {
      "cell_type": "markdown",
      "metadata": {
        "id": "MmEdJmcOraR5",
        "colab_type": "text"
      },
      "source": [
        "### LabelSmoothing"
      ]
    },
    {
      "cell_type": "code",
      "metadata": {
        "id": "f6YOw8sxrZnp",
        "colab_type": "code",
        "colab": {}
      },
      "source": [
        "class LabelSmoothing(nn.Module):\n",
        "    def __init__(self, smoothing = 0.1):\n",
        "        assert 0.0 <= smoothing < 1.0, f\"got smoothing={smoothing}\"\n",
        "        super(LabelSmoothing, self).__init__()\n",
        "        self.smoothing = smoothing\n",
        "\n",
        "    def forward(self, input, target):\n",
        "        target = target.detach()\n",
        "        log = F.log_softmax(input, dim=1)\n",
        "        oh = torch.ones_like(input).detach_()*(self.smoothing/input.size(1))\n",
        "        oh = oh.scatter_(1, target.unsqueeze(1),\n",
        "                        (1.0 - self.smoothing + self.smoothing/input.size(1)))\n",
        "        return ((-oh*log).sum(dim=1).mean())"
      ],
      "execution_count": 49,
      "outputs": []
    },
    {
      "cell_type": "markdown",
      "metadata": {
        "id": "8-ZfIleCESXH",
        "colab_type": "text"
      },
      "source": [
        "# <span style=\"color:orange\"> Treino completo"
      ]
    },
    {
      "cell_type": "code",
      "metadata": {
        "id": "IJr14D5p_H74",
        "colab_type": "code",
        "colab": {
          "base_uri": "https://localhost:8080/",
          "height": 680
        },
        "outputId": "53cc9044-4619-4c5d-b14e-c1816ed0ee78"
      },
      "source": [
        "from sklearn.metrics import f1_score\n",
        "\n",
        "start = torch.cuda.Event(enable_timing=True)\n",
        "end = torch.cuda.Event(enable_timing=True)\n",
        "#---------------------------------------------------------------------------------\n",
        "deterministic()\n",
        "N_EPOCHS = 30\n",
        "SMTH     = 0.08\n",
        "D        = 128\n",
        "N_HEAD   = 8\n",
        "\n",
        "model = CatModel_ATT(\n",
        "    cat_dims=cat_dims, \n",
        "    n_cont=len(num_cols),\n",
        "    d_model=D,\n",
        "    n_head=N_HEAD,\n",
        "    ).to(device)\n",
        "\n",
        "criterion = LabelSmoothing(SMTH)\n",
        "optimizer = optim_.AdaBound(model.parameters())\n",
        "#---------------------------------------------------------------------------------\n",
        "start.record()\n",
        "for step in range(1, N_EPOCHS+1):\n",
        "    l_train    = train(model, device, dataloaders['train'], criterion, optimizer)\n",
        "    l_test, f1,acc = test( model, device, dataloaders['test'],  criterion)\n",
        "    torch.save(model.state_dict(), os.path.join('', 'Epoca-{}.pth'.format(step)))\n",
        "    print(f'Epoch [{step}/{N_EPOCHS}] |', end=' ')\n",
        "    print(f'Train Loss: {l_train:.3} -- Test Loss: {l_test:.3} -- F1: {f1:.3} -- ACC: {acc:.3}' )\n",
        "\n",
        "end.record()\n",
        "torch.cuda.synchronize()    \n",
        "#---------------------------------------------------------------------------------\n",
        "print(f'\\nEnd of training')\n",
        "print(f'Tempo: {start.elapsed_time(end)/1000/60 :.3f} min.')"
      ],
      "execution_count": 50,
      "outputs": [
        {
          "output_type": "stream",
          "text": [
            "Deterministic experiment, seed: 2357\n"
          ],
          "name": "stdout"
        },
        {
          "output_type": "stream",
          "text": [
            "/usr/local/lib/python3.6/dist-packages/torch_optimizer/adabound.py:142: UserWarning: This overload of add_ is deprecated:\n",
            "\tadd_(Number alpha, Tensor other)\n",
            "Consider using one of the following signatures instead:\n",
            "\tadd_(Tensor other, *, Number alpha) (Triggered internally at  /pytorch/torch/csrc/utils/python_arg_parser.cpp:766.)\n",
            "  exp_avg.mul_(beta1).add_(1 - beta1, grad)\n"
          ],
          "name": "stderr"
        },
        {
          "output_type": "stream",
          "text": [
            "Epoch [1/30] | Train Loss: 0.418 -- Test Loss: 0.425 -- F1: 0.581 -- ACC: 0.834\n",
            "Epoch [2/30] | Train Loss: 0.405 -- Test Loss: 0.416 -- F1: 0.611 -- ACC: 0.838\n",
            "Epoch [3/30] | Train Loss: 0.402 -- Test Loss: 0.413 -- F1: 0.607 -- ACC: 0.84\n",
            "Epoch [4/30] | Train Loss: 0.401 -- Test Loss: 0.415 -- F1: 0.676 -- ACC: 0.843\n",
            "Epoch [5/30] | Train Loss: 0.399 -- Test Loss: 0.409 -- F1: 0.663 -- ACC: 0.844\n",
            "Epoch [6/30] | Train Loss: 0.397 -- Test Loss: 0.408 -- F1: 0.663 -- ACC: 0.846\n",
            "Epoch [7/30] | Train Loss: 0.397 -- Test Loss: 0.409 -- F1: 0.68 -- ACC: 0.845\n",
            "Epoch [8/30] | Train Loss: 0.396 -- Test Loss: 0.408 -- F1: 0.669 -- ACC: 0.846\n",
            "Epoch [9/30] | Train Loss: 0.394 -- Test Loss: 0.405 -- F1: 0.653 -- ACC: 0.846\n",
            "Epoch [10/30] | Train Loss: 0.392 -- Test Loss: 0.406 -- F1: 0.673 -- ACC: 0.847\n",
            "Epoch [11/30] | Train Loss: 0.391 -- Test Loss: 0.408 -- F1: 0.633 -- ACC: 0.843\n",
            "Epoch [12/30] | Train Loss: 0.391 -- Test Loss: 0.405 -- F1: 0.664 -- ACC: 0.849\n",
            "Epoch [13/30] | Train Loss: 0.39 -- Test Loss: 0.407 -- F1: 0.635 -- ACC: 0.843\n",
            "Epoch [14/30] | Train Loss: 0.389 -- Test Loss: 0.406 -- F1: 0.652 -- ACC: 0.846\n",
            "Epoch [15/30] | Train Loss: 0.387 -- Test Loss: 0.406 -- F1: 0.672 -- ACC: 0.85\n",
            "Epoch [16/30] | Train Loss: 0.386 -- Test Loss: 0.41 -- F1: 0.625 -- ACC: 0.844\n",
            "Epoch [17/30] | Train Loss: 0.384 -- Test Loss: 0.405 -- F1: 0.673 -- ACC: 0.848\n",
            "Epoch [18/30] | Train Loss: 0.383 -- Test Loss: 0.409 -- F1: 0.653 -- ACC: 0.845\n",
            "Epoch [19/30] | Train Loss: 0.383 -- Test Loss: 0.407 -- F1: 0.649 -- ACC: 0.846\n",
            "Epoch [20/30] | Train Loss: 0.38 -- Test Loss: 0.406 -- F1: 0.671 -- ACC: 0.848\n",
            "Epoch [21/30] | Train Loss: 0.378 -- Test Loss: 0.404 -- F1: 0.653 -- ACC: 0.848\n",
            "Epoch [22/30] | Train Loss: 0.378 -- Test Loss: 0.407 -- F1: 0.644 -- ACC: 0.847\n",
            "Epoch [23/30] | Train Loss: 0.376 -- Test Loss: 0.408 -- F1: 0.627 -- ACC: 0.844\n",
            "Epoch [24/30] | Train Loss: 0.375 -- Test Loss: 0.407 -- F1: 0.666 -- ACC: 0.847\n",
            "Epoch [25/30] | Train Loss: 0.372 -- Test Loss: 0.407 -- F1: 0.678 -- ACC: 0.85\n",
            "Epoch [26/30] | Train Loss: 0.371 -- Test Loss: 0.404 -- F1: 0.672 -- ACC: 0.852\n",
            "Epoch [27/30] | Train Loss: 0.369 -- Test Loss: 0.41 -- F1: 0.664 -- ACC: 0.848\n",
            "Epoch [28/30] | Train Loss: 0.369 -- Test Loss: 0.422 -- F1: 0.631 -- ACC: 0.846\n",
            "Epoch [29/30] | Train Loss: 0.367 -- Test Loss: 0.416 -- F1: 0.643 -- ACC: 0.843\n",
            "Epoch [30/30] | Train Loss: 0.365 -- Test Loss: 0.417 -- F1: 0.616 -- ACC: 0.842\n",
            "\n",
            "End of training\n",
            "Tempo: 4.313 min.\n"
          ],
          "name": "stdout"
        }
      ]
    },
    {
      "cell_type": "markdown",
      "metadata": {
        "id": "039Qjhr6LUG_",
        "colab_type": "text"
      },
      "source": [
        "#  <span style=\"color:orange\"> Validação no conj. de teste\n"
      ]
    },
    {
      "cell_type": "code",
      "metadata": {
        "id": "HlIw4vY5drmf",
        "colab_type": "code",
        "colab": {}
      },
      "source": [
        "def logits_and_trues(model, dloader, device=device):\n",
        "    model.eval()\n",
        "    logits, trues = [],[]\n",
        "    for x_cont, x_cat, y in dloader:\n",
        "        with torch.no_grad():\n",
        "            y_pred = model(\n",
        "            x_cont.to(device),\n",
        "            x_cat.to(device),\n",
        "            )\n",
        "\n",
        "        logits.extend(y_pred.to('cpu').numpy().tolist())\n",
        "        trues.extend(y.to('cpu').numpy().tolist())\n",
        "    \n",
        "    prob  = F.softmax(torch.tensor(logits), dim=1).detach().numpy()\n",
        "    probs = prob[:,1]\n",
        "    probs = np.array(probs)\n",
        "    trues = np.array(trues)\n",
        "    err_ =  far_vs_frr(trues, probs, fig=False)\n",
        "  \n",
        "    return probs, trues, err_"
      ],
      "execution_count": 51,
      "outputs": []
    },
    {
      "cell_type": "code",
      "metadata": {
        "id": "2LETRF7MpApO",
        "colab_type": "code",
        "colab": {}
      },
      "source": [
        "def far_vs_frr(labels, outs, steps=1000, fig=False):\n",
        "    lives = outs[labels == 1]\n",
        "    spoofs = outs[labels == 0]\n",
        "    max_live = max(lives)\n",
        "    min_spoof = min(spoofs)\n",
        "    num_lives = len(lives)\n",
        "    num_spoofs = len(spoofs)\n",
        "    histogram = np.linspace(0,1,num=steps)\n",
        "    FRR = np.array([100*np.mean(spoofs >= hist) for hist in histogram])\n",
        "    FAR = np.array([100*np.mean(lives < hist) for hist in histogram])\n",
        "    a = FRR[FAR - FRR<= 0]\n",
        "    s_a = len(a)\n",
        "    if (FAR[s_a] - FRR[s_a]) <= (FRR[s_a+1]-FAR[s_a+1]):\n",
        "        ERR = (FAR[s_a] + FRR[s_a])/2\n",
        "        ERR_index = s_a\n",
        "    else:\n",
        "        ERR = (FAR[s_a+1] + FRR[s_a+1])/2\n",
        "        ERR_index = s_a+1\n",
        "    \n",
        "    if fig:\n",
        "        print(f'Negados: {num_lives} Aprovados: {num_spoofs}')\n",
        "        figure = plt.figure(num=1, figsize=(10, 8), dpi=80, facecolor='w', edgecolor='k')\n",
        "        ax = figure.add_subplot(111)\n",
        "        plt.plot(histogram, FRR, color='r', label='FRR', lw=2)\n",
        "        plt.plot(histogram, FAR, color='navy', label='FAR', lw=2)\n",
        "        plt.plot([histogram[ERR_index]], [ERR], marker='o', markersize=12, color=\"lime\", label=f'ERR: {ERR :.3}')\n",
        "        axes = plt.gca()\n",
        "        axes.set_ylim([0, 4*ERR])\n",
        "        plt.title('FAR (erro tipo I) vs FRR (erro tipo II)')\n",
        "        plt.legend()\n",
        "        plt.show()\n",
        "        return ERR, histogram[ERR_index]\n",
        "    else:\n",
        "        return ERR"
      ],
      "execution_count": 52,
      "outputs": []
    },
    {
      "cell_type": "markdown",
      "metadata": {
        "id": "gGKPONUrnTge",
        "colab_type": "text"
      },
      "source": [
        "# Carrega todas as épocas salvas e verifica o melhor F$_1$ \n",
        "\n"
      ]
    },
    {
      "cell_type": "code",
      "metadata": {
        "id": "M-YjtTMcih9y",
        "colab_type": "code",
        "colab": {
          "base_uri": "https://localhost:8080/",
          "height": 1000
        },
        "outputId": "b00709cb-d125-4f59-afa1-4b0ef57bba70"
      },
      "source": [
        "step0,step1,step2,best_recall, best,low_err = 0,0,0,0,0,100\n",
        "for i in range(1,N_EPOCHS+1):\n",
        "    model = CatModel_ATT(\n",
        "    cat_dims=cat_dims, \n",
        "    n_cont=len(num_cols),\n",
        "    d_model=D,\n",
        "    n_head=N_HEAD,\n",
        "    ).to(device)\n",
        "    \n",
        "    string = '/content/Epoca-'+str(i)+'.pth'\n",
        "    model.load_state_dict(torch.load(string, map_location=device))\n",
        "    \n",
        "    probs, trues, _err = logits_and_trues(\n",
        "        model, \n",
        "        dataloaders['test'], \n",
        "        device=device\n",
        "        )\n",
        "    \n",
        "    fpr, tpr, thresholds = roc_curve(trues, probs)\n",
        "    precision, recall, thresh = precision_recall_curve(trues, probs)\n",
        "    f1_score = 2*precision*recall/(precision + recall)\n",
        "    f1_score = f1_score[:-1]\n",
        "    precision = precision[:-1]\n",
        "    recall = recall[:-1]\n",
        "    f1_score[np.isnan(f1_score)] = -1.0\n",
        "    bestF1 = np.argmax(f1_score)\n",
        "    \n",
        "    if f1_score[bestF1] > best:\n",
        "        best = f1_score[bestF1]\n",
        "        step0 = i\n",
        "\n",
        "    if recall[bestF1] > best_recall:\n",
        "        best_recall = recall[bestF1]\n",
        "        step2 = i\n",
        "\n",
        "\n",
        "    if _err < low_err:\n",
        "        low_err = _err\n",
        "        step1 = i\n",
        "    \n",
        "    print(f'Epoca: {i}')\n",
        "    print(f'   O threshold do melhor F1 score: >>> {thresh[bestF1] :.3} <<<')\n",
        "    print(f'   F1: {f1_score[bestF1] :.3} -- ', end='')\n",
        "    print(f'Precision {thresh[bestF1] :.3}: {precision[bestF1] :.3} -- ', end='')\n",
        "    print(f'Recall {thresh[bestF1] :.3}: {recall[bestF1] :.3}')\n",
        "    print(f'   ERR: {_err :.3}\\n')        "
      ],
      "execution_count": 53,
      "outputs": [
        {
          "output_type": "stream",
          "text": [
            "Epoca: 1\n",
            "   O threshold do melhor F1 score: >>> 0.227 <<<\n",
            "   F1: 0.681 -- Precision 0.227: 0.596 -- Recall 0.227: 0.794\n",
            "   ERR: 19.0\n",
            "\n",
            "Epoca: 2\n",
            "   O threshold do melhor F1 score: >>> 0.267 <<<\n",
            "   F1: 0.683 -- Precision 0.267: 0.625 -- Recall 0.267: 0.754\n",
            "   ERR: 18.8\n",
            "\n",
            "Epoca: 3\n",
            "   O threshold do melhor F1 score: >>> 0.297 <<<\n",
            "   F1: 0.686 -- Precision 0.297: 0.641 -- Recall 0.297: 0.739\n",
            "   ERR: 18.6\n",
            "\n",
            "Epoca: 4\n",
            "   O threshold do melhor F1 score: >>> 0.349 <<<\n",
            "   F1: 0.688 -- Precision 0.349: 0.586 -- Recall 0.349: 0.834\n",
            "   ERR: 18.4\n",
            "\n",
            "Epoca: 5\n",
            "   O threshold do melhor F1 score: >>> 0.327 <<<\n",
            "   F1: 0.688 -- Precision 0.327: 0.611 -- Recall 0.327: 0.788\n",
            "   ERR: 18.4\n",
            "\n",
            "Epoca: 6\n",
            "   O threshold do melhor F1 score: >>> 0.301 <<<\n",
            "   F1: 0.69 -- Precision 0.301: 0.604 -- Recall 0.301: 0.805\n",
            "   ERR: 18.2\n",
            "\n",
            "Epoca: 7\n",
            "   O threshold do melhor F1 score: >>> 0.368 <<<\n",
            "   F1: 0.692 -- Precision 0.368: 0.604 -- Recall 0.368: 0.81\n",
            "   ERR: 18.0\n",
            "\n",
            "Epoca: 8\n",
            "   O threshold do melhor F1 score: >>> 0.402 <<<\n",
            "   F1: 0.688 -- Precision 0.402: 0.645 -- Recall 0.402: 0.737\n",
            "   ERR: 18.4\n",
            "\n",
            "Epoca: 9\n",
            "   O threshold do melhor F1 score: >>> 0.309 <<<\n",
            "   F1: 0.694 -- Precision 0.309: 0.623 -- Recall 0.309: 0.785\n",
            "   ERR: 17.9\n",
            "\n",
            "Epoca: 10\n",
            "   O threshold do melhor F1 score: >>> 0.38 <<<\n",
            "   F1: 0.695 -- Precision 0.38: 0.633 -- Recall 0.38: 0.769\n",
            "   ERR: 18.3\n",
            "\n",
            "Epoca: 11\n",
            "   O threshold do melhor F1 score: >>> 0.329 <<<\n",
            "   F1: 0.695 -- Precision 0.329: 0.637 -- Recall 0.329: 0.765\n",
            "   ERR: 18.3\n",
            "\n",
            "Epoca: 12\n",
            "   O threshold do melhor F1 score: >>> 0.335 <<<\n",
            "   F1: 0.696 -- Precision 0.335: 0.631 -- Recall 0.335: 0.775\n",
            "   ERR: 18.0\n",
            "\n",
            "Epoca: 13\n",
            "   O threshold do melhor F1 score: >>> 0.345 <<<\n",
            "   F1: 0.696 -- Precision 0.345: 0.645 -- Recall 0.345: 0.756\n",
            "   ERR: 18.0\n",
            "\n",
            "Epoca: 14\n",
            "   O threshold do melhor F1 score: >>> 0.284 <<<\n",
            "   F1: 0.695 -- Precision 0.284: 0.601 -- Recall 0.284: 0.826\n",
            "   ERR: 17.8\n",
            "\n",
            "Epoca: 15\n",
            "   O threshold do melhor F1 score: >>> 0.354 <<<\n",
            "   F1: 0.699 -- Precision 0.354: 0.635 -- Recall 0.354: 0.777\n",
            "   ERR: 17.8\n",
            "\n",
            "Epoca: 16\n",
            "   O threshold do melhor F1 score: >>> 0.31 <<<\n",
            "   F1: 0.694 -- Precision 0.31: 0.642 -- Recall 0.31: 0.754\n",
            "   ERR: 17.8\n",
            "\n",
            "Epoca: 17\n",
            "   O threshold do melhor F1 score: >>> 0.388 <<<\n",
            "   F1: 0.698 -- Precision 0.388: 0.645 -- Recall 0.388: 0.761\n",
            "   ERR: 17.8\n",
            "\n",
            "Epoca: 18\n",
            "   O threshold do melhor F1 score: >>> 0.351 <<<\n",
            "   F1: 0.697 -- Precision 0.351: 0.636 -- Recall 0.351: 0.77\n",
            "   ERR: 18.1\n",
            "\n",
            "Epoca: 19\n",
            "   O threshold do melhor F1 score: >>> 0.301 <<<\n",
            "   F1: 0.696 -- Precision 0.301: 0.619 -- Recall 0.301: 0.794\n",
            "   ERR: 18.0\n",
            "\n",
            "Epoca: 20\n",
            "   O threshold do melhor F1 score: >>> 0.355 <<<\n",
            "   F1: 0.698 -- Precision 0.355: 0.627 -- Recall 0.355: 0.788\n",
            "   ERR: 18.0\n",
            "\n",
            "Epoca: 21\n",
            "   O threshold do melhor F1 score: >>> 0.319 <<<\n",
            "   F1: 0.698 -- Precision 0.319: 0.627 -- Recall 0.319: 0.786\n",
            "   ERR: 17.7\n",
            "\n",
            "Epoca: 22\n",
            "   O threshold do melhor F1 score: >>> 0.294 <<<\n",
            "   F1: 0.694 -- Precision 0.294: 0.613 -- Recall 0.294: 0.801\n",
            "   ERR: 18.1\n",
            "\n",
            "Epoca: 23\n",
            "   O threshold do melhor F1 score: >>> 0.268 <<<\n",
            "   F1: 0.696 -- Precision 0.268: 0.61 -- Recall 0.268: 0.81\n",
            "   ERR: 18.0\n",
            "\n",
            "Epoca: 24\n",
            "   O threshold do melhor F1 score: >>> 0.333 <<<\n",
            "   F1: 0.696 -- Precision 0.333: 0.623 -- Recall 0.333: 0.788\n",
            "   ERR: 18.0\n",
            "\n",
            "Epoca: 25\n",
            "   O threshold do melhor F1 score: >>> 0.375 <<<\n",
            "   F1: 0.702 -- Precision 0.375: 0.642 -- Recall 0.375: 0.773\n",
            "   ERR: 17.9\n",
            "\n",
            "Epoca: 26\n",
            "   O threshold do melhor F1 score: >>> 0.363 <<<\n",
            "   F1: 0.696 -- Precision 0.363: 0.639 -- Recall 0.363: 0.764\n",
            "   ERR: 18.0\n",
            "\n"
          ],
          "name": "stdout"
        },
        {
          "output_type": "stream",
          "text": [
            "/usr/local/lib/python3.6/dist-packages/ipykernel_launcher.py:21: RuntimeWarning: invalid value encountered in true_divide\n"
          ],
          "name": "stderr"
        },
        {
          "output_type": "stream",
          "text": [
            "Epoca: 27\n",
            "   O threshold do melhor F1 score: >>> 0.331 <<<\n",
            "   F1: 0.691 -- Precision 0.331: 0.624 -- Recall 0.331: 0.775\n",
            "   ERR: 18.1\n",
            "\n",
            "Epoca: 28\n",
            "   O threshold do melhor F1 score: >>> 0.219 <<<\n",
            "   F1: 0.693 -- Precision 0.219: 0.609 -- Recall 0.219: 0.805\n",
            "   ERR: 18.0\n",
            "\n",
            "Epoca: 29\n",
            "   O threshold do melhor F1 score: >>> 0.285 <<<\n",
            "   F1: 0.688 -- Precision 0.285: 0.599 -- Recall 0.285: 0.807\n",
            "   ERR: 18.3\n",
            "\n",
            "Epoca: 30\n",
            "   O threshold do melhor F1 score: >>> 0.306 <<<\n",
            "   F1: 0.687 -- Precision 0.306: 0.628 -- Recall 0.306: 0.757\n",
            "   ERR: 18.9\n",
            "\n"
          ],
          "name": "stdout"
        }
      ]
    },
    {
      "cell_type": "code",
      "metadata": {
        "id": "U-R4KlZJfIhO",
        "colab_type": "code",
        "colab": {
          "base_uri": "https://localhost:8080/",
          "height": 68
        },
        "outputId": "7564b5ea-65f4-4d35-cfd7-8f98323faa97"
      },
      "source": [
        "print(f'Melhor F1: {best:.3} na época: {step0}') \n",
        "print(f'Melhor Err: {low_err:.3} na época: {step1}') \n",
        "print(f'Melhor Recall: {best_recall:.3} na época: {step2}') "
      ],
      "execution_count": 54,
      "outputs": [
        {
          "output_type": "stream",
          "text": [
            "Melhor F1: 0.702 na época: 25\n",
            "Melhor Err: 17.7 na época: 21\n",
            "Melhor Recall: 0.834 na época: 4\n"
          ],
          "name": "stdout"
        }
      ]
    },
    {
      "cell_type": "code",
      "metadata": {
        "colab_type": "code",
        "id": "fY_wyc-UiC4x",
        "colab": {
          "base_uri": "https://localhost:8080/",
          "height": 359
        },
        "outputId": "1c9ed9b0-b406-4e1c-a7a6-2e70f201d959"
      },
      "source": [
        "model = CatModel_ATT(\n",
        "    cat_dims=cat_dims, \n",
        "    n_cont=len(num_cols),\n",
        "    d_model=D,\n",
        "    n_head=N_HEAD,\n",
        "    ).to(device)\n",
        "\n",
        "string = '/content/Epoca-'+str(step1)+'.pth'\n",
        "model.load_state_dict(torch.load(string, map_location=device))\n",
        "\n",
        "probs, trues, err_ = logits_and_trues(model, dataloaders['test'], device=device)\n",
        "\n",
        "data = pd.DataFrame({'Target':trues, 'Prob':probs})\n",
        "data.head(10)"
      ],
      "execution_count": 55,
      "outputs": [
        {
          "output_type": "execute_result",
          "data": {
            "text/html": [
              "<div>\n",
              "<style scoped>\n",
              "    .dataframe tbody tr th:only-of-type {\n",
              "        vertical-align: middle;\n",
              "    }\n",
              "\n",
              "    .dataframe tbody tr th {\n",
              "        vertical-align: top;\n",
              "    }\n",
              "\n",
              "    .dataframe thead th {\n",
              "        text-align: right;\n",
              "    }\n",
              "</style>\n",
              "<table border=\"1\" class=\"dataframe\">\n",
              "  <thead>\n",
              "    <tr style=\"text-align: right;\">\n",
              "      <th></th>\n",
              "      <th>Target</th>\n",
              "      <th>Prob</th>\n",
              "    </tr>\n",
              "  </thead>\n",
              "  <tbody>\n",
              "    <tr>\n",
              "      <th>0</th>\n",
              "      <td>1</td>\n",
              "      <td>0.783570</td>\n",
              "    </tr>\n",
              "    <tr>\n",
              "      <th>1</th>\n",
              "      <td>0</td>\n",
              "      <td>0.122499</td>\n",
              "    </tr>\n",
              "    <tr>\n",
              "      <th>2</th>\n",
              "      <td>1</td>\n",
              "      <td>0.254624</td>\n",
              "    </tr>\n",
              "    <tr>\n",
              "      <th>3</th>\n",
              "      <td>0</td>\n",
              "      <td>0.033375</td>\n",
              "    </tr>\n",
              "    <tr>\n",
              "      <th>4</th>\n",
              "      <td>1</td>\n",
              "      <td>0.875701</td>\n",
              "    </tr>\n",
              "    <tr>\n",
              "      <th>5</th>\n",
              "      <td>1</td>\n",
              "      <td>0.827191</td>\n",
              "    </tr>\n",
              "    <tr>\n",
              "      <th>6</th>\n",
              "      <td>1</td>\n",
              "      <td>0.772593</td>\n",
              "    </tr>\n",
              "    <tr>\n",
              "      <th>7</th>\n",
              "      <td>1</td>\n",
              "      <td>0.846923</td>\n",
              "    </tr>\n",
              "    <tr>\n",
              "      <th>8</th>\n",
              "      <td>0</td>\n",
              "      <td>0.083764</td>\n",
              "    </tr>\n",
              "    <tr>\n",
              "      <th>9</th>\n",
              "      <td>1</td>\n",
              "      <td>0.156010</td>\n",
              "    </tr>\n",
              "  </tbody>\n",
              "</table>\n",
              "</div>"
            ],
            "text/plain": [
              "   Target      Prob\n",
              "0       1  0.783570\n",
              "1       0  0.122499\n",
              "2       1  0.254624\n",
              "3       0  0.033375\n",
              "4       1  0.875701\n",
              "5       1  0.827191\n",
              "6       1  0.772593\n",
              "7       1  0.846923\n",
              "8       0  0.083764\n",
              "9       1  0.156010"
            ]
          },
          "metadata": {
            "tags": []
          },
          "execution_count": 55
        }
      ]
    },
    {
      "cell_type": "code",
      "metadata": {
        "id": "kk5CcCL_dAeZ",
        "colab_type": "code",
        "colab": {}
      },
      "source": [
        "FP = data[data.Target==1].sort_values(by='Prob')\n",
        "FN = data[data.Target==0].sort_values(by='Prob', ascending=False)"
      ],
      "execution_count": 56,
      "outputs": []
    },
    {
      "cell_type": "code",
      "metadata": {
        "id": "2aoeypaPw5MO",
        "colab_type": "code",
        "colab": {
          "base_uri": "https://localhost:8080/",
          "height": 419
        },
        "outputId": "da883ff3-012c-4ee9-b4d6-4cedf8440300"
      },
      "source": [
        "FP"
      ],
      "execution_count": 57,
      "outputs": [
        {
          "output_type": "execute_result",
          "data": {
            "text/html": [
              "<div>\n",
              "<style scoped>\n",
              "    .dataframe tbody tr th:only-of-type {\n",
              "        vertical-align: middle;\n",
              "    }\n",
              "\n",
              "    .dataframe tbody tr th {\n",
              "        vertical-align: top;\n",
              "    }\n",
              "\n",
              "    .dataframe thead th {\n",
              "        text-align: right;\n",
              "    }\n",
              "</style>\n",
              "<table border=\"1\" class=\"dataframe\">\n",
              "  <thead>\n",
              "    <tr style=\"text-align: right;\">\n",
              "      <th></th>\n",
              "      <th>Target</th>\n",
              "      <th>Prob</th>\n",
              "    </tr>\n",
              "  </thead>\n",
              "  <tbody>\n",
              "    <tr>\n",
              "      <th>5555</th>\n",
              "      <td>1</td>\n",
              "      <td>0.009399</td>\n",
              "    </tr>\n",
              "    <tr>\n",
              "      <th>7109</th>\n",
              "      <td>1</td>\n",
              "      <td>0.036097</td>\n",
              "    </tr>\n",
              "    <tr>\n",
              "      <th>3956</th>\n",
              "      <td>1</td>\n",
              "      <td>0.040303</td>\n",
              "    </tr>\n",
              "    <tr>\n",
              "      <th>3733</th>\n",
              "      <td>1</td>\n",
              "      <td>0.042188</td>\n",
              "    </tr>\n",
              "    <tr>\n",
              "      <th>119</th>\n",
              "      <td>1</td>\n",
              "      <td>0.045396</td>\n",
              "    </tr>\n",
              "    <tr>\n",
              "      <th>...</th>\n",
              "      <td>...</td>\n",
              "      <td>...</td>\n",
              "    </tr>\n",
              "    <tr>\n",
              "      <th>623</th>\n",
              "      <td>1</td>\n",
              "      <td>0.976683</td>\n",
              "    </tr>\n",
              "    <tr>\n",
              "      <th>6466</th>\n",
              "      <td>1</td>\n",
              "      <td>0.978230</td>\n",
              "    </tr>\n",
              "    <tr>\n",
              "      <th>2132</th>\n",
              "      <td>1</td>\n",
              "      <td>0.979672</td>\n",
              "    </tr>\n",
              "    <tr>\n",
              "      <th>651</th>\n",
              "      <td>1</td>\n",
              "      <td>0.980928</td>\n",
              "    </tr>\n",
              "    <tr>\n",
              "      <th>3321</th>\n",
              "      <td>1</td>\n",
              "      <td>0.982058</td>\n",
              "    </tr>\n",
              "  </tbody>\n",
              "</table>\n",
              "<p>2391 rows × 2 columns</p>\n",
              "</div>"
            ],
            "text/plain": [
              "      Target      Prob\n",
              "5555       1  0.009399\n",
              "7109       1  0.036097\n",
              "3956       1  0.040303\n",
              "3733       1  0.042188\n",
              "119        1  0.045396\n",
              "...      ...       ...\n",
              "623        1  0.976683\n",
              "6466       1  0.978230\n",
              "2132       1  0.979672\n",
              "651        1  0.980928\n",
              "3321       1  0.982058\n",
              "\n",
              "[2391 rows x 2 columns]"
            ]
          },
          "metadata": {
            "tags": []
          },
          "execution_count": 57
        }
      ]
    },
    {
      "cell_type": "code",
      "metadata": {
        "id": "z747rR01Z7Gy",
        "colab_type": "code",
        "colab": {
          "base_uri": "https://localhost:8080/",
          "height": 419
        },
        "outputId": "5c2f9db3-d9ad-418a-922c-6119e0d95f33"
      },
      "source": [
        "FN"
      ],
      "execution_count": 58,
      "outputs": [
        {
          "output_type": "execute_result",
          "data": {
            "text/html": [
              "<div>\n",
              "<style scoped>\n",
              "    .dataframe tbody tr th:only-of-type {\n",
              "        vertical-align: middle;\n",
              "    }\n",
              "\n",
              "    .dataframe tbody tr th {\n",
              "        vertical-align: top;\n",
              "    }\n",
              "\n",
              "    .dataframe thead th {\n",
              "        text-align: right;\n",
              "    }\n",
              "</style>\n",
              "<table border=\"1\" class=\"dataframe\">\n",
              "  <thead>\n",
              "    <tr style=\"text-align: right;\">\n",
              "      <th></th>\n",
              "      <th>Target</th>\n",
              "      <th>Prob</th>\n",
              "    </tr>\n",
              "  </thead>\n",
              "  <tbody>\n",
              "    <tr>\n",
              "      <th>1027</th>\n",
              "      <td>0</td>\n",
              "      <td>0.963097</td>\n",
              "    </tr>\n",
              "    <tr>\n",
              "      <th>6095</th>\n",
              "      <td>0</td>\n",
              "      <td>0.920068</td>\n",
              "    </tr>\n",
              "    <tr>\n",
              "      <th>4847</th>\n",
              "      <td>0</td>\n",
              "      <td>0.919384</td>\n",
              "    </tr>\n",
              "    <tr>\n",
              "      <th>1026</th>\n",
              "      <td>0</td>\n",
              "      <td>0.917375</td>\n",
              "    </tr>\n",
              "    <tr>\n",
              "      <th>5530</th>\n",
              "      <td>0</td>\n",
              "      <td>0.913357</td>\n",
              "    </tr>\n",
              "    <tr>\n",
              "      <th>...</th>\n",
              "      <td>...</td>\n",
              "      <td>...</td>\n",
              "    </tr>\n",
              "    <tr>\n",
              "      <th>2802</th>\n",
              "      <td>0</td>\n",
              "      <td>0.014133</td>\n",
              "    </tr>\n",
              "    <tr>\n",
              "      <th>5599</th>\n",
              "      <td>0</td>\n",
              "      <td>0.013197</td>\n",
              "    </tr>\n",
              "    <tr>\n",
              "      <th>6550</th>\n",
              "      <td>0</td>\n",
              "      <td>0.011677</td>\n",
              "    </tr>\n",
              "    <tr>\n",
              "      <th>9454</th>\n",
              "      <td>0</td>\n",
              "      <td>0.010873</td>\n",
              "    </tr>\n",
              "    <tr>\n",
              "      <th>539</th>\n",
              "      <td>0</td>\n",
              "      <td>0.008925</td>\n",
              "    </tr>\n",
              "  </tbody>\n",
              "</table>\n",
              "<p>7378 rows × 2 columns</p>\n",
              "</div>"
            ],
            "text/plain": [
              "      Target      Prob\n",
              "1027       0  0.963097\n",
              "6095       0  0.920068\n",
              "4847       0  0.919384\n",
              "1026       0  0.917375\n",
              "5530       0  0.913357\n",
              "...      ...       ...\n",
              "2802       0  0.014133\n",
              "5599       0  0.013197\n",
              "6550       0  0.011677\n",
              "9454       0  0.010873\n",
              "539        0  0.008925\n",
              "\n",
              "[7378 rows x 2 columns]"
            ]
          },
          "metadata": {
            "tags": []
          },
          "execution_count": 58
        }
      ]
    },
    {
      "cell_type": "code",
      "metadata": {
        "colab_type": "code",
        "id": "81gX6QFOiC5M",
        "colab": {
          "base_uri": "https://localhost:8080/",
          "height": 369
        },
        "outputId": "07c39350-680b-4af0-cb1f-c9569318f570"
      },
      "source": [
        "def plot_roc_curve(y, y_pred, gini, ks):\n",
        "    fpr, tpr, thresholds = roc_curve(y, y_pred)\n",
        "    roc_auc = auc(fpr, tpr)\n",
        "    fig = plt.figure()\n",
        "    plt.rcParams['figure.figsize'] = (15, 8)\n",
        "\n",
        "    plt.plot(fpr, tpr, 'b', lw=3, \n",
        "             label='%s KS = %0.3f,  AUC = %0.3f, GINI = %0.3f' \n",
        "             % ('Model: ',ks, roc_auc, gini))\n",
        "\n",
        "    plt.plot([0, 1], [0, 1], 'k--')\n",
        "    plt.xlim([0.0, 1.0])\n",
        "    plt.xticks(fontsize=16)\n",
        "    plt.yticks(fontsize=16)\n",
        "    plt.ylim([0.0, 1.0])\n",
        "    plt.xlabel('False Positive Rate', size=16)\n",
        "    plt.ylabel('True Positive Rate', size=16)\n",
        "    plt.legend(loc=0, fontsize=16)\n",
        "    plt.show()\n",
        "\n",
        "fpr, tpr, thresholds = roc_curve(data['Target'], data['Prob'])\n",
        "roc_auc = auc(fpr, tpr)\n",
        "gini_ = 2 * roc_auc_score(data.Target.values, data.Prob.values) - 1\n",
        "\n",
        "ks = stats.ks_2samp(data[data['Target'] == 0]['Prob'], \n",
        "                    data[data['Target'] == 1]['Prob']).statistic\n",
        "\n",
        "print(f'KS = {ks :.3} -- AUC = {roc_auc :.3} -- GINI = {gini_ :.3}')\n",
        "\n",
        "plot_roc_curve(data.Target.values, data.Prob.values, gini_, ks)"
      ],
      "execution_count": 67,
      "outputs": [
        {
          "output_type": "stream",
          "text": [
            "KS = 0.648 -- AUC = 0.904 -- GINI = 0.809\n"
          ],
          "name": "stdout"
        },
        {
          "output_type": "display_data",
          "data": {
            "image/png": "[encoded data removed]",
            "text/plain": [
              "<Figure size 648x360 with 1 Axes>"
            ]
          },
          "metadata": {
            "tags": [],
            "needs_background": "light"
          }
        }
      ]
    },
    {
      "cell_type": "code",
      "metadata": {
        "id": "B5_wt2KBphXv",
        "colab_type": "code",
        "colab": {
          "base_uri": "https://localhost:8080/",
          "height": 51
        },
        "outputId": "131d9b28-9249-41a1-f0a6-b96237cdb728"
      },
      "source": [
        "fpr, tpr, thresholds = roc_curve(data.Target.values, data.Prob.values)\n",
        "\n",
        "precision,recall,pr_thresh = precision_recall_curve(data.Target.values, \n",
        "                                                    data.Prob.values)\n",
        "\n",
        "f1_score = 2*precision*recall/(precision+recall)\n",
        "f1_score = f1_score[:-1]\n",
        "precision = precision[:-1]\n",
        "recall = recall[:-1]\n",
        "f1_score[np.isnan(f1_score)] = -1.0\n",
        "bestF1 = np.argmax(f1_score)\n",
        "\n",
        "print(f'O threshold do melhor F1: >>> {pr_thresh[bestF1] :.3} <<<')\n",
        "print(f'   F1: {f1_score[bestF1] :.3} -- ', end='')\n",
        "print(f'Precision: {precision[bestF1] :.3} -- ', end='')\n",
        "print(f'Recall: {recall[bestF1] :.3}')"
      ],
      "execution_count": 60,
      "outputs": [
        {
          "output_type": "stream",
          "text": [
            "O threshold do melhor F1: >>> 0.319 <<<\n",
            "   F1: 0.698 -- Precision: 0.627 -- Recall: 0.786\n"
          ],
          "name": "stdout"
        }
      ]
    },
    {
      "cell_type": "code",
      "metadata": {
        "id": "Ce3gNHYWq3od",
        "colab_type": "code",
        "colab": {
          "base_uri": "https://localhost:8080/",
          "height": 102
        },
        "outputId": "df4f78db-2ed0-47b2-930b-0b0f4ca7c532"
      },
      "source": [
        "opt_idx = np.argmin(np.sqrt(np.square(1.0-tpr) + np.square(fpr)))\n",
        "opt_threshold = thresholds[opt_idx]\n",
        "print(f'O threshold do melhor F1: {pr_thresh[bestF1] :.3}')\n",
        "\n",
        "y_hat_best_thres = (data.Prob.values >= pr_thresh[bestF1]).astype(int)\n",
        "# y_hat_best_thres = (data.Prob.values >= 0.5).astype(int)\n",
        "\n",
        "print(f'\\nMatriz de confusão no thrs {pr_thresh[bestF1] :.3}:')\n",
        "confusion_matrix(trues, y_hat_best_thres)"
      ],
      "execution_count": 61,
      "outputs": [
        {
          "output_type": "stream",
          "text": [
            "O threshold do melhor F1: 0.319\n",
            "\n",
            "Matriz de confusão no thrs 0.319:\n"
          ],
          "name": "stdout"
        },
        {
          "output_type": "execute_result",
          "data": {
            "text/plain": [
              "array([[6261, 1117],\n",
              "       [ 512, 1879]])"
            ]
          },
          "metadata": {
            "tags": []
          },
          "execution_count": 61
        }
      ]
    },
    {
      "cell_type": "code",
      "metadata": {
        "id": "vpWUGgmcpqfU",
        "colab_type": "code",
        "colab": {
          "base_uri": "https://localhost:8080/",
          "height": 577
        },
        "outputId": "438fe316-b934-4ccf-f812-adf18af66ec8"
      },
      "source": [
        "plt.rcParams.update({'font.size': 16})\n",
        "plt.plot(pr_thresh,f1_score, lw=2)\n",
        "plt.plot(pr_thresh,precision,  lw=2)\n",
        "plt.plot(pr_thresh,recall, lw=2)\n",
        "plt.xlabel('Threshold')\n",
        "plt.ylabel('Score')\n",
        "plt.xticks(fontsize=16)\n",
        "plt.xlim(-0.01, 1.01)\n",
        "plt.ylim(-0.02, 1.02)\n",
        "plt.yticks(fontsize=16)\n",
        "plt.grid()\n",
        "plt.legend(['F$_1$-score', 'Precision', 'Recall'],prop={'size': 16})\n",
        "plt.tight_layout(2)\n",
        "plt.savefig('precision-recall-thres', bbox_inches='tight')\n",
        "print(f'O threshold do melhor F1: >>> {pr_thresh[bestF1] :.3} <<<')\n",
        "print(f'   F1: {f1_score[bestF1] :.3} -- ', end='')\n",
        "print(f'Precision: {precision[bestF1] :.3} -- ', end='')\n",
        "print(f'Recall: {recall[bestF1] :.3}')"
      ],
      "execution_count": 62,
      "outputs": [
        {
          "output_type": "stream",
          "text": [
            "O threshold do melhor F1: >>> 0.319 <<<\n",
            "   F1: 0.698 -- Precision: 0.627 -- Recall: 0.786\n"
          ],
          "name": "stdout"
        },
        {
          "output_type": "display_data",
          "data": {
            "image/png": "[encoded data removed]",
            "text/plain": [
              "<Figure size 1080x576 with 1 Axes>"
            ]
          },
          "metadata": {
            "tags": [],
            "needs_background": "light"
          }
        }
      ]
    },
    {
      "cell_type": "code",
      "metadata": {
        "id": "avk39os_fC2l",
        "colab_type": "code",
        "colab": {
          "base_uri": "https://localhost:8080/",
          "height": 598
        },
        "outputId": "a299fa13-42a8-475e-dc90-d3043a64b82f"
      },
      "source": [
        "_,Err_point = far_vs_frr(data.Target.values, data.Prob.values, steps=2000, fig=True)\n",
        "Err_point"
      ],
      "execution_count": 63,
      "outputs": [
        {
          "output_type": "stream",
          "text": [
            "Negados: 2391 Aprovados: 7378\n"
          ],
          "name": "stdout"
        },
        {
          "output_type": "display_data",
          "data": {
            "image/png": "[encoded data removed]",
            "text/plain": [
              "<Figure size 800x640 with 1 Axes>"
            ]
          },
          "metadata": {
            "tags": []
          }
        },
        {
          "output_type": "execute_result",
          "data": {
            "text/plain": [
              "0.2816408204102051"
            ]
          },
          "metadata": {
            "tags": []
          },
          "execution_count": 63
        }
      ]
    },
    {
      "cell_type": "code",
      "metadata": {
        "id": "MUmiK6RNYXuc",
        "colab_type": "code",
        "colab": {
          "base_uri": "https://localhost:8080/",
          "height": 85
        },
        "outputId": "64e04501-52b2-4781-8575-d9fb29ce59df"
      },
      "source": [
        "y_err = (data.Prob.values >= Err_point).astype(int)\n",
        "\n",
        "print(f'\\nMatriz de confusão no ponto do ERR {Err_point :.3}:')\n",
        "confusion_matrix(trues, y_err)"
      ],
      "execution_count": 64,
      "outputs": [
        {
          "output_type": "stream",
          "text": [
            "\n",
            "Matriz de confusão no ponto do ERR 0.282:\n"
          ],
          "name": "stdout"
        },
        {
          "output_type": "execute_result",
          "data": {
            "text/plain": [
              "array([[6080, 1298],\n",
              "       [ 425, 1966]])"
            ]
          },
          "metadata": {
            "tags": []
          },
          "execution_count": 64
        }
      ]
    },
    {
      "cell_type": "code",
      "metadata": {
        "id": "-ODZHUY1ZHYm",
        "colab_type": "code",
        "colab": {
          "base_uri": "https://localhost:8080/",
          "height": 85
        },
        "outputId": "3c5a2ea8-2a32-4f22-c465-40ea7aed4545"
      },
      "source": [
        "y_50 = (data.Prob.values >= 0.5).astype(int)\n",
        "\n",
        "print(f'\\nMatriz de confusão no threshold {0.50}:')\n",
        "confusion_matrix(trues, y_50)"
      ],
      "execution_count": 65,
      "outputs": [
        {
          "output_type": "stream",
          "text": [
            "\n",
            "Matriz de confusão no threshold 0.5:\n"
          ],
          "name": "stdout"
        },
        {
          "output_type": "execute_result",
          "data": {
            "text/plain": [
              "array([[6879,  499],\n",
              "       [ 990, 1401]])"
            ]
          },
          "metadata": {
            "tags": []
          },
          "execution_count": 65
        }
      ]
    },
    {
      "cell_type": "code",
      "metadata": {
        "id": "y9ixWS0q85th",
        "colab_type": "code",
        "colab": {
          "base_uri": "https://localhost:8080/",
          "height": 368
        },
        "outputId": "0fd54da7-6069-4e14-9fe0-7291e02468e9"
      },
      "source": [
        "plt.rcParams['figure.figsize'] = (9, 5)\n",
        "\n",
        "sns.set_context(\"notebook\", font_scale=1.3)\n",
        "\n",
        "confusao = confusion_matrix(trues, y_hat_best_thres)\n",
        "group_names = ['TN\\nAprovados corretos',\n",
        "               'FN - erro tipo II (FRR)\\nNegados errados', \n",
        "               'FP - erro tipo I  (FAR)\\nAprovados errados',\n",
        "               'TP\\nNegados corretos']\n",
        "\n",
        "group_counts = ['({0:0.0f})'.format(value) for value in\n",
        "                confusao.flatten()]\n",
        "\n",
        "group_percentages = ['{0:.1%}'.format(value) for value in\n",
        "                     confusao.flatten()/np.sum(confusao)]\n",
        "\n",
        "labels = [f'{v1}\\n{v2}' for v1, v2 in\n",
        "          zip(group_names,group_counts)]\n",
        "\n",
        "labels = np.asarray(labels).reshape(2,2)\n",
        "\n",
        "cmap = 'Reds'#'binary'#'PuRd'#'jet'#'YlOrRd'#\n",
        "\n",
        "ax = sns.heatmap(confusao, annot=labels, fmt='', square=False,\n",
        "                 cmap=cmap, cbar=True, linewidths=0.7,\n",
        "                )\n",
        "\n",
        "ax.set_ylabel('Target - Real')\n",
        "ax.set_xlabel('Predição - Modelo')\n",
        "ax.set_xticklabels(['Aprovados','Negados'], va='center', \n",
        "                   rotation = 0, position=(0,-0.03), \n",
        "                   fontsize=18)\n",
        "ax.set_yticklabels(['Aprovados','Negados'], \n",
        "                   va='center', rotation = 90, position=(0,0.28),\n",
        "                   fontsize=18)\n",
        "ax.set_title(f'limiar = {pr_thresh[bestF1] :.3}', fontsize=18)\n",
        "\n",
        "#######\n",
        "# Save\n",
        "#######\n",
        "plt.savefig('confusao.png', bbox_inches='tight')\n",
        "plt.show()"
      ],
      "execution_count": 66,
      "outputs": [
        {
          "output_type": "display_data",
          "data": {
            "image/png": "[encoded data removed]",
            "text/plain": [
              "<Figure size 648x360 with 2 Axes>"
            ]
          },
          "metadata": {
            "tags": [],
            "needs_background": "light"
          }
        }
      ]
    },
    {
      "cell_type": "markdown",
      "metadata": {
        "id": "Q61ej_qQKRcl",
        "colab_type": "text"
      },
      "source": [
        "# FIM\n"
      ]
    }
  ]
}