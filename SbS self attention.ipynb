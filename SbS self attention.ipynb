{
  "nbformat": 4,
  "nbformat_minor": 0,
  "metadata": {
    "colab": {
      "name": "SbS Self Attention.ipynb",
      "provenance": [],
      "toc_visible": true,
      "authorship_tag": "ABX9TyNQYQHPUY5L3bHDzgmbUJVJ",
      "include_colab_link": true
    },
    "kernelspec": {
      "name": "python3",
      "display_name": "Python 3"
    }
  },
  "cells": [
    {
      "cell_type": "markdown",
      "metadata": {
        "id": "view-in-github",
        "colab_type": "text"
      },
      "source": [
        "<a href=\"https://colab.research.google.com/github/finardi/tutos/blob/master/SbS%20self%20attention.ipynb\" target=\"_parent\"><img src=\"https://colab.research.google.com/assets/colab-badge.svg\" alt=\"Open In Colab\"/></a>"
      ]
    },
    {
      "cell_type": "markdown",
      "metadata": {
        "id": "cdXdt1fRs52A"
      },
      "source": [
        "# Exemplo de self attention"
      ]
    },
    {
      "cell_type": "code",
      "metadata": {
        "id": "a8tpHOAtMz-W"
      },
      "source": [
        "import torch \n",
        "import numpy as np\n",
        "import seaborn as sns\n",
        "import matplotlib.pyplot as plt"
      ],
      "execution_count": 1,
      "outputs": []
    },
    {
      "cell_type": "code",
      "metadata": {
        "colab": {
          "base_uri": "https://localhost:8080/"
        },
        "id": "YcqorrQEROvS",
        "outputId": "eac1f462-eb6e-483c-e36c-053a4f8cecba"
      },
      "source": [
        "# ====\n",
        "# 0\n",
        "# ====\n",
        "\n",
        "# -- ENTRADA:\n",
        "text = 'Quero um cartão'\n",
        "text_tokens = ['Quero', 'um', 'cartão']\n",
        "\n",
        "# -- IDs:\n",
        "text_ids = [27,11,83] # tokens sintéticos\n",
        "VOCAB = 100 # Quantidade de palavras - no BERT ~30k\n",
        "\n",
        "# -- DIMENSÃO DOS EMBEDDINGS:\n",
        "D = 8\n",
        "\n",
        "# -- COMPRIMENTO DA SEQUÊNCIA:\n",
        "L = 3\n",
        "\n",
        "# -- NÚMERO DE CABEÇAS:\n",
        "H = 2\n",
        "\n",
        "# -- MATRIZ DE EMBEDDINGS LxD:\n",
        "embs  = torch.nn.Embedding(VOCAB, D)\n",
        "\n",
        "# tensor com zeros_like\n",
        "embeddings = torch.zeros(L * D).reshape(L, D)\n",
        "print(f'Shape da matriz de embeddings: {embeddings.shape}\\n')\n",
        "\n",
        "print('Matriz de embeddings\\n')\n",
        "for i , token in enumerate(text_ids):\n",
        "    embeddings[i] = embs(torch.tensor(token))\n",
        "embeddings"
      ],
      "execution_count": 2,
      "outputs": [
        {
          "output_type": "stream",
          "text": [
            "Shape da matriz de embeddings: torch.Size([3, 8])\n",
            "\n",
            "Matriz de embeddings\n",
            "\n"
          ],
          "name": "stdout"
        },
        {
          "output_type": "execute_result",
          "data": {
            "text/plain": [
              "tensor([[-1.0913, -1.0921, -0.7995,  0.1441,  0.3522, -0.0314,  0.9538,  0.9908],\n",
              "        [-1.4323, -0.2013,  1.4215, -0.1752, -0.0950,  0.8110,  2.5751, -0.2870],\n",
              "        [-1.3725,  0.3425, -0.7828,  2.1874,  1.1084, -0.9439,  0.6974, -0.1045]],\n",
              "       grad_fn=<AsStridedBackward>)"
            ]
          },
          "metadata": {
            "tags": []
          },
          "execution_count": 2
        }
      ]
    },
    {
      "cell_type": "code",
      "metadata": {
        "colab": {
          "base_uri": "https://localhost:8080/"
        },
        "id": "JicNHcgzRrjw",
        "outputId": "13d1241f-87c1-43f7-9715-daa3a5cdc419"
      },
      "source": [
        "# ====\n",
        "# 1\n",
        "# ====\n",
        "\n",
        "# -- MATRIZ DE PESOS, Q, K, V --> DxD (INICIADOS ARBITRARIAMENTE):\n",
        "Qw = torch.nn.Linear(D, D)\n",
        "Kw = torch.nn.Linear(D, D)\n",
        "Vw = torch.nn.Linear(D, D)\n",
        "\n",
        "print(f'Qw shape: {Qw(embeddings).shape}')\n",
        "print(f'Kw shape: {Kw(embeddings).shape}')\n",
        "print(f'Vw shape: {Vw(embeddings).shape}')"
      ],
      "execution_count": 3,
      "outputs": [
        {
          "output_type": "stream",
          "text": [
            "Qw shape: torch.Size([3, 8])\n",
            "Kw shape: torch.Size([3, 8])\n",
            "Vw shape: torch.Size([3, 8])\n"
          ],
          "name": "stdout"
        }
      ]
    },
    {
      "cell_type": "code",
      "metadata": {
        "id": "OS5NVaPXMItv",
        "colab": {
          "base_uri": "https://localhost:8080/"
        },
        "outputId": "649c3eeb-c000-4430-ca38-6450bf64b2ef"
      },
      "source": [
        "# ====\n",
        "# 2\n",
        "# ====\n",
        "\n",
        "# -- OBTER Q, K e V:\n",
        "print(f'Shape da entrada: {embeddings.size()} -- Shape das Matrizes de pesos Qw, Kw e Vw: {Qw.weight.size()}')\n",
        "\n",
        "Q =  Qw(embeddings)\n",
        "K =  Kw(embeddings)\n",
        "V =  Vw(embeddings)\n",
        "\n",
        "print('Q', Q.size())\n",
        "print('K', K.size())\n",
        "print('V', V.size())"
      ],
      "execution_count": 4,
      "outputs": [
        {
          "output_type": "stream",
          "text": [
            "Shape da entrada: torch.Size([3, 8]) -- Shape das Matrizes de pesos Qw, Kw e Vw: torch.Size([8, 8])\n",
            "Q torch.Size([3, 8])\n",
            "K torch.Size([3, 8])\n",
            "V torch.Size([3, 8])\n"
          ],
          "name": "stdout"
        }
      ]
    },
    {
      "cell_type": "code",
      "metadata": {
        "id": "Vr-wHeQmvzCp",
        "colab": {
          "base_uri": "https://localhost:8080/"
        },
        "outputId": "8c71282d-d4f3-4449-811c-33b634a232b8"
      },
      "source": [
        "# ====\n",
        "# 3\n",
        "# ====\n",
        "\n",
        "dk = D//H\n",
        "Q = Q.reshape(L, H, dk)\n",
        "K = K.reshape(L, H, dk)\n",
        "V = V.reshape(L, H, dk)\n",
        "\n",
        "print('Q', Q.size())\n",
        "print('K', K.size())\n",
        "print('V', V.size())"
      ],
      "execution_count": 5,
      "outputs": [
        {
          "output_type": "stream",
          "text": [
            "Q torch.Size([3, 2, 4])\n",
            "K torch.Size([3, 2, 4])\n",
            "V torch.Size([3, 2, 4])\n"
          ],
          "name": "stdout"
        }
      ]
    },
    {
      "cell_type": "code",
      "metadata": {
        "colab": {
          "base_uri": "https://localhost:8080/"
        },
        "id": "HavK3iCTYfW7",
        "outputId": "54a26169-3a8b-488a-d57b-90287e273ca9"
      },
      "source": [
        "# ====\n",
        "# 4\n",
        "# ====\n",
        "\n",
        "Q = Q.transpose(0,1) # (H, L, dk)\n",
        "K = K.transpose(0,1) # (H, L, dk)\n",
        "V = V.transpose(0,1) # (H, L, dk)\n",
        "\n",
        "print('Q', Q.size())\n",
        "print('K', K.size())\n",
        "print('V', V.size())"
      ],
      "execution_count": 6,
      "outputs": [
        {
          "output_type": "stream",
          "text": [
            "Q torch.Size([2, 3, 4])\n",
            "K torch.Size([2, 3, 4])\n",
            "V torch.Size([2, 3, 4])\n"
          ],
          "name": "stdout"
        }
      ]
    },
    {
      "cell_type": "code",
      "metadata": {
        "id": "Ss7IYIZFMIgq",
        "colab": {
          "base_uri": "https://localhost:8080/"
        },
        "outputId": "45e14d6d-0dec-4b67-938e-5bdb49ba7ba5"
      },
      "source": [
        "# ====\n",
        "# 5\n",
        "# ====\n",
        "\n",
        "# -- CALCULAR O SCORE:    \n",
        "QKT = torch.einsum('hld, hcd -> hlc', Q, K) # K.transpose(-2,-1)=(H, dk, L) := (H, L, dk)x(H, dk, L) = (H, L, L)\n",
        "print('SCORE', QKT.size())\n",
        "\n",
        "# -- DIVIDIR POR SQRT(D)\n",
        "\n",
        "# -- SOFTMAX:\n",
        "Softmax = torch.nn.Softmax(dim=-1)\n",
        "Softmax = Softmax(QKT.float())\n",
        "SCORE = QKT/torch.sqrt(torch.tensor(D)) # (H, L, L) "
      ],
      "execution_count": 7,
      "outputs": [
        {
          "output_type": "stream",
          "text": [
            "SCORE torch.Size([2, 3, 3])\n"
          ],
          "name": "stdout"
        }
      ]
    },
    {
      "cell_type": "code",
      "metadata": {
        "id": "ZyFL9sryMIeR",
        "colab": {
          "base_uri": "https://localhost:8080/"
        },
        "outputId": "bd73b775-e971-494d-d68b-e2725061f1af"
      },
      "source": [
        "# ====\n",
        "# 6\n",
        "# ====\n",
        "\n",
        "SV = torch.einsum('hlc, hck -> hlk', SCORE, V) # (H, L, L)x(H, L, D//H)=(H, L, D//H)\n",
        "print('SV', SV.size()) "
      ],
      "execution_count": 8,
      "outputs": [
        {
          "output_type": "stream",
          "text": [
            "SV torch.Size([2, 3, 4])\n"
          ],
          "name": "stdout"
        }
      ]
    },
    {
      "cell_type": "code",
      "metadata": {
        "id": "hjbUXARcYveN",
        "colab": {
          "base_uri": "https://localhost:8080/"
        },
        "outputId": "9ab1843c-7ff1-4f2f-d370-beded9a6d1a9"
      },
      "source": [
        "# ====\n",
        "# 7\n",
        "# ====\n",
        "\n",
        "SV = SV.transpose(0,1) # (L, H, dk)\n",
        "print('SV', SV.size())"
      ],
      "execution_count": 9,
      "outputs": [
        {
          "output_type": "stream",
          "text": [
            "SV torch.Size([3, 2, 4])\n"
          ],
          "name": "stdout"
        }
      ]
    },
    {
      "cell_type": "code",
      "metadata": {
        "id": "EjxQz4s8Yvbh",
        "colab": {
          "base_uri": "https://localhost:8080/"
        },
        "outputId": "574fc5a5-a01b-42d8-85ba-26e07eab658e"
      },
      "source": [
        "# ====\n",
        "# 8\n",
        "# ====\n",
        "\n",
        "SV = SV.reshape(L, -1) # (L, H*dk)\n",
        "print('SV', SV.size())\n",
        "\n",
        "# -- MULTIPLICAR PELA MATRIZ DE PROJEÇÃO Wo\n",
        "Wow = torch.nn.Linear(D, D)"
      ],
      "execution_count": 10,
      "outputs": [
        {
          "output_type": "stream",
          "text": [
            "SV torch.Size([3, 8])\n"
          ],
          "name": "stdout"
        }
      ]
    },
    {
      "cell_type": "code",
      "metadata": {
        "id": "JkXnSgXwb29Z",
        "colab": {
          "base_uri": "https://localhost:8080/"
        },
        "outputId": "d25143c8-635b-48bb-f418-291702ebca09"
      },
      "source": [
        "# ====\n",
        "# 9\n",
        "# ====\n",
        "\n",
        "ATT = Wow(SV) # (L, D)x(DxD)\n",
        "print('ATT', ATT.size())\n",
        "ATT"
      ],
      "execution_count": 11,
      "outputs": [
        {
          "output_type": "stream",
          "text": [
            "ATT torch.Size([3, 8])\n"
          ],
          "name": "stdout"
        },
        {
          "output_type": "execute_result",
          "data": {
            "text/plain": [
              "tensor([[ 0.1875, -0.3495,  0.2601, -0.0654,  0.2689,  0.0797,  0.2734, -0.2722],\n",
              "        [-0.0138, -0.3569,  0.1466,  0.0250,  0.2118, -0.0624,  0.3543, -0.0225],\n",
              "        [-0.0361, -0.3661,  0.6071, -0.0971,  0.3240, -0.2859,  0.5835, -0.0434]],\n",
              "       grad_fn=<AddmmBackward>)"
            ]
          },
          "metadata": {
            "tags": []
          },
          "execution_count": 11
        }
      ]
    },
    {
      "cell_type": "code",
      "metadata": {
        "colab": {
          "base_uri": "https://localhost:8080/",
          "height": 483
        },
        "id": "WdjObeR-5GUC",
        "outputId": "f34f56ef-1fd3-4f85-fb13-aa3f286181b9"
      },
      "source": [
        "# Embs sem ATT\n",
        "plt.figure(figsize=(10,8))\n",
        "sns.heatmap(embeddings.detach().numpy())\n",
        "plt.savefig('semAtt.png')"
      ],
      "execution_count": 12,
      "outputs": [
        {
          "output_type": "display_data",
          "data": {
            "image/png": "[encoded data removed]",
            "text/plain": [
              "<Figure size 720x576 with 2 Axes>"
            ]
          },
          "metadata": {
            "tags": [],
            "needs_background": "light"
          }
        }
      ]
    },
    {
      "cell_type": "code",
      "metadata": {
        "colab": {
          "base_uri": "https://localhost:8080/",
          "height": 484
        },
        "id": "UccmwfhU48pn",
        "outputId": "19ef39e6-bd7b-4f27-c73e-5e0bebb99161"
      },
      "source": [
        "# ATT Embs\n",
        "plt.figure(figsize=(10,8))\n",
        "sns.heatmap(ATT.detach().numpy())\n",
        "plt.savefig('comAtt.png')"
      ],
      "execution_count": 13,
      "outputs": [
        {
          "output_type": "display_data",
          "data": {
            "image/png": "[encoded data removed]",
            "text/plain": [
              "<Figure size 720x576 with 2 Axes>"
            ]
          },
          "metadata": {
            "tags": [],
            "needs_background": "light"
          }
        }
      ]
    },
    {
      "cell_type": "markdown",
      "metadata": {
        "id": "z5EI8ia0gLJK"
      },
      "source": [
        "# Fim do Notebook"
      ]
    }
  ]
}