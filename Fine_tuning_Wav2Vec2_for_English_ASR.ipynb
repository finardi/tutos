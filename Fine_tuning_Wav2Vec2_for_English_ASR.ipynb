{
  "nbformat": 4,
  "nbformat_minor": 0,
  "metadata": {
    "colab": {
      "name": "Fine-tuning Wav2Vec2 for English ASR",
      "provenance": [],
      "collapsed_sections": [],
      "toc_visible": true,
      "machine_shape": "hm",
      "include_colab_link": true
    },
    "kernelspec": {
      "name": "python3",
      "display_name": "Python 3"
    },
    "accelerator": "GPU",
    "widgets": {
      "application/vnd.jupyter.widget-state+json": {
        "c65537d62ac14b9eb8cd71e0feb7fb9f": {
          "model_module": "@jupyter-widgets/controls",
          "model_name": "HBoxModel",
          "model_module_version": "1.5.0",
          "state": {
            "_view_name": "HBoxView",
            "_dom_classes": [],
            "_model_name": "HBoxModel",
            "_view_module": "@jupyter-widgets/controls",
            "_model_module_version": "1.5.0",
            "_view_count": null,
            "_view_module_version": "1.5.0",
            "box_style": "",
            "layout": "IPY_MODEL_9d2e82f0cfe1496fb24dfafa250de2f7",
            "_model_module": "@jupyter-widgets/controls",
            "children": [
              "IPY_MODEL_afdd1bf2dc854daa88cd86cf49a6b48c",
              "IPY_MODEL_327dac19f3cb40eabfed2f2050ab1225",
              "IPY_MODEL_a816944d1cba4ed0a52e217349022ea0"
            ]
          }
        },
        "9d2e82f0cfe1496fb24dfafa250de2f7": {
          "model_module": "@jupyter-widgets/base",
          "model_name": "LayoutModel",
          "model_module_version": "1.2.0",
          "state": {
            "_view_name": "LayoutView",
            "grid_template_rows": null,
            "right": null,
            "justify_content": null,
            "_view_module": "@jupyter-widgets/base",
            "overflow": null,
            "_model_module_version": "1.2.0",
            "_view_count": null,
            "flex_flow": null,
            "width": null,
            "min_width": null,
            "border": null,
            "align_items": null,
            "bottom": null,
            "_model_module": "@jupyter-widgets/base",
            "top": null,
            "grid_column": null,
            "overflow_y": null,
            "overflow_x": null,
            "grid_auto_flow": null,
            "grid_area": null,
            "grid_template_columns": null,
            "flex": null,
            "_model_name": "LayoutModel",
            "justify_items": null,
            "grid_row": null,
            "max_height": null,
            "align_content": null,
            "visibility": null,
            "align_self": null,
            "height": null,
            "min_height": null,
            "padding": null,
            "grid_auto_rows": null,
            "grid_gap": null,
            "max_width": null,
            "order": null,
            "_view_module_version": "1.2.0",
            "grid_template_areas": null,
            "object_position": null,
            "object_fit": null,
            "grid_auto_columns": null,
            "margin": null,
            "display": null,
            "left": null
          }
        },
        "afdd1bf2dc854daa88cd86cf49a6b48c": {
          "model_module": "@jupyter-widgets/controls",
          "model_name": "HTMLModel",
          "model_module_version": "1.5.0",
          "state": {
            "_view_name": "HTMLView",
            "style": "IPY_MODEL_1e8baf7176604bf2a6c5b69be015361c",
            "_dom_classes": [],
            "description": "",
            "_model_name": "HTMLModel",
            "placeholder": "​",
            "_view_module": "@jupyter-widgets/controls",
            "_model_module_version": "1.5.0",
            "value": "Downloading: ",
            "_view_count": null,
            "_view_module_version": "1.5.0",
            "description_tooltip": null,
            "_model_module": "@jupyter-widgets/controls",
            "layout": "IPY_MODEL_3eae8bae560844c496657784434df728"
          }
        },
        "327dac19f3cb40eabfed2f2050ab1225": {
          "model_module": "@jupyter-widgets/controls",
          "model_name": "FloatProgressModel",
          "model_module_version": "1.5.0",
          "state": {
            "_view_name": "ProgressView",
            "style": "IPY_MODEL_7007e0c67ba5491c8608a75e7bb0d1f0",
            "_dom_classes": [],
            "description": "",
            "_model_name": "FloatProgressModel",
            "bar_style": "success",
            "max": 2405,
            "_view_module": "@jupyter-widgets/controls",
            "_model_module_version": "1.5.0",
            "value": 2405,
            "_view_count": null,
            "_view_module_version": "1.5.0",
            "orientation": "horizontal",
            "min": 0,
            "description_tooltip": null,
            "_model_module": "@jupyter-widgets/controls",
            "layout": "IPY_MODEL_7696905c7a7743c7a91d4597788f576a"
          }
        },
        "a816944d1cba4ed0a52e217349022ea0": {
          "model_module": "@jupyter-widgets/controls",
          "model_name": "HTMLModel",
          "model_module_version": "1.5.0",
          "state": {
            "_view_name": "HTMLView",
            "style": "IPY_MODEL_2f1ff8bc7ab04007bf874996580105a4",
            "_dom_classes": [],
            "description": "",
            "_model_name": "HTMLModel",
            "placeholder": "​",
            "_view_module": "@jupyter-widgets/controls",
            "_model_module_version": "1.5.0",
            "value": " 7.07k/? [00:00&lt;00:00, 278kB/s]",
            "_view_count": null,
            "_view_module_version": "1.5.0",
            "description_tooltip": null,
            "_model_module": "@jupyter-widgets/controls",
            "layout": "IPY_MODEL_87b1645bedec4383ad7a578c30cc5a39"
          }
        },
        "1e8baf7176604bf2a6c5b69be015361c": {
          "model_module": "@jupyter-widgets/controls",
          "model_name": "DescriptionStyleModel",
          "model_module_version": "1.5.0",
          "state": {
            "_view_name": "StyleView",
            "_model_name": "DescriptionStyleModel",
            "description_width": "",
            "_view_module": "@jupyter-widgets/base",
            "_model_module_version": "1.5.0",
            "_view_count": null,
            "_view_module_version": "1.2.0",
            "_model_module": "@jupyter-widgets/controls"
          }
        },
        "3eae8bae560844c496657784434df728": {
          "model_module": "@jupyter-widgets/base",
          "model_name": "LayoutModel",
          "model_module_version": "1.2.0",
          "state": {
            "_view_name": "LayoutView",
            "grid_template_rows": null,
            "right": null,
            "justify_content": null,
            "_view_module": "@jupyter-widgets/base",
            "overflow": null,
            "_model_module_version": "1.2.0",
            "_view_count": null,
            "flex_flow": null,
            "width": null,
            "min_width": null,
            "border": null,
            "align_items": null,
            "bottom": null,
            "_model_module": "@jupyter-widgets/base",
            "top": null,
            "grid_column": null,
            "overflow_y": null,
            "overflow_x": null,
            "grid_auto_flow": null,
            "grid_area": null,
            "grid_template_columns": null,
            "flex": null,
            "_model_name": "LayoutModel",
            "justify_items": null,
            "grid_row": null,
            "max_height": null,
            "align_content": null,
            "visibility": null,
            "align_self": null,
            "height": null,
            "min_height": null,
            "padding": null,
            "grid_auto_rows": null,
            "grid_gap": null,
            "max_width": null,
            "order": null,
            "_view_module_version": "1.2.0",
            "grid_template_areas": null,
            "object_position": null,
            "object_fit": null,
            "grid_auto_columns": null,
            "margin": null,
            "display": null,
            "left": null
          }
        },
        "7007e0c67ba5491c8608a75e7bb0d1f0": {
          "model_module": "@jupyter-widgets/controls",
          "model_name": "ProgressStyleModel",
          "model_module_version": "1.5.0",
          "state": {
            "_view_name": "StyleView",
            "_model_name": "ProgressStyleModel",
            "description_width": "",
            "_view_module": "@jupyter-widgets/base",
            "_model_module_version": "1.5.0",
            "_view_count": null,
            "_view_module_version": "1.2.0",
            "bar_color": null,
            "_model_module": "@jupyter-widgets/controls"
          }
        },
        "7696905c7a7743c7a91d4597788f576a": {
          "model_module": "@jupyter-widgets/base",
          "model_name": "LayoutModel",
          "model_module_version": "1.2.0",
          "state": {
            "_view_name": "LayoutView",
            "grid_template_rows": null,
            "right": null,
            "justify_content": null,
            "_view_module": "@jupyter-widgets/base",
            "overflow": null,
            "_model_module_version": "1.2.0",
            "_view_count": null,
            "flex_flow": null,
            "width": null,
            "min_width": null,
            "border": null,
            "align_items": null,
            "bottom": null,
            "_model_module": "@jupyter-widgets/base",
            "top": null,
            "grid_column": null,
            "overflow_y": null,
            "overflow_x": null,
            "grid_auto_flow": null,
            "grid_area": null,
            "grid_template_columns": null,
            "flex": null,
            "_model_name": "LayoutModel",
            "justify_items": null,
            "grid_row": null,
            "max_height": null,
            "align_content": null,
            "visibility": null,
            "align_self": null,
            "height": null,
            "min_height": null,
            "padding": null,
            "grid_auto_rows": null,
            "grid_gap": null,
            "max_width": null,
            "order": null,
            "_view_module_version": "1.2.0",
            "grid_template_areas": null,
            "object_position": null,
            "object_fit": null,
            "grid_auto_columns": null,
            "margin": null,
            "display": null,
            "left": null
          }
        },
        "2f1ff8bc7ab04007bf874996580105a4": {
          "model_module": "@jupyter-widgets/controls",
          "model_name": "DescriptionStyleModel",
          "model_module_version": "1.5.0",
          "state": {
            "_view_name": "StyleView",
            "_model_name": "DescriptionStyleModel",
            "description_width": "",
            "_view_module": "@jupyter-widgets/base",
            "_model_module_version": "1.5.0",
            "_view_count": null,
            "_view_module_version": "1.2.0",
            "_model_module": "@jupyter-widgets/controls"
          }
        },
        "87b1645bedec4383ad7a578c30cc5a39": {
          "model_module": "@jupyter-widgets/base",
          "model_name": "LayoutModel",
          "model_module_version": "1.2.0",
          "state": {
            "_view_name": "LayoutView",
            "grid_template_rows": null,
            "right": null,
            "justify_content": null,
            "_view_module": "@jupyter-widgets/base",
            "overflow": null,
            "_model_module_version": "1.2.0",
            "_view_count": null,
            "flex_flow": null,
            "width": null,
            "min_width": null,
            "border": null,
            "align_items": null,
            "bottom": null,
            "_model_module": "@jupyter-widgets/base",
            "top": null,
            "grid_column": null,
            "overflow_y": null,
            "overflow_x": null,
            "grid_auto_flow": null,
            "grid_area": null,
            "grid_template_columns": null,
            "flex": null,
            "_model_name": "LayoutModel",
            "justify_items": null,
            "grid_row": null,
            "max_height": null,
            "align_content": null,
            "visibility": null,
            "align_self": null,
            "height": null,
            "min_height": null,
            "padding": null,
            "grid_auto_rows": null,
            "grid_gap": null,
            "max_width": null,
            "order": null,
            "_view_module_version": "1.2.0",
            "grid_template_areas": null,
            "object_position": null,
            "object_fit": null,
            "grid_auto_columns": null,
            "margin": null,
            "display": null,
            "left": null
          }
        },
        "a27f5b28ef734d23a7bd70d458e445df": {
          "model_module": "@jupyter-widgets/controls",
          "model_name": "HBoxModel",
          "model_module_version": "1.5.0",
          "state": {
            "_view_name": "HBoxView",
            "_dom_classes": [],
            "_model_name": "HBoxModel",
            "_view_module": "@jupyter-widgets/controls",
            "_model_module_version": "1.5.0",
            "_view_count": null,
            "_view_module_version": "1.5.0",
            "box_style": "",
            "layout": "IPY_MODEL_3523909bb7bc4f1e8cbfbd100b3c0cdc",
            "_model_module": "@jupyter-widgets/controls",
            "children": [
              "IPY_MODEL_90bce1e2ccb14ec18168084be61b398f",
              "IPY_MODEL_5032eb72ad7d45e8b7cd4b4ae367c0b4",
              "IPY_MODEL_4f8207f591be46a8b7c2f3f351a8a3ae"
            ]
          }
        },
        "3523909bb7bc4f1e8cbfbd100b3c0cdc": {
          "model_module": "@jupyter-widgets/base",
          "model_name": "LayoutModel",
          "model_module_version": "1.2.0",
          "state": {
            "_view_name": "LayoutView",
            "grid_template_rows": null,
            "right": null,
            "justify_content": null,
            "_view_module": "@jupyter-widgets/base",
            "overflow": null,
            "_model_module_version": "1.2.0",
            "_view_count": null,
            "flex_flow": null,
            "width": null,
            "min_width": null,
            "border": null,
            "align_items": null,
            "bottom": null,
            "_model_module": "@jupyter-widgets/base",
            "top": null,
            "grid_column": null,
            "overflow_y": null,
            "overflow_x": null,
            "grid_auto_flow": null,
            "grid_area": null,
            "grid_template_columns": null,
            "flex": null,
            "_model_name": "LayoutModel",
            "justify_items": null,
            "grid_row": null,
            "max_height": null,
            "align_content": null,
            "visibility": null,
            "align_self": null,
            "height": null,
            "min_height": null,
            "padding": null,
            "grid_auto_rows": null,
            "grid_gap": null,
            "max_width": null,
            "order": null,
            "_view_module_version": "1.2.0",
            "grid_template_areas": null,
            "object_position": null,
            "object_fit": null,
            "grid_auto_columns": null,
            "margin": null,
            "display": null,
            "left": null
          }
        },
        "90bce1e2ccb14ec18168084be61b398f": {
          "model_module": "@jupyter-widgets/controls",
          "model_name": "HTMLModel",
          "model_module_version": "1.5.0",
          "state": {
            "_view_name": "HTMLView",
            "style": "IPY_MODEL_8f09fe12fc6148f5909e77c74dc4ce7f",
            "_dom_classes": [],
            "description": "",
            "_model_name": "HTMLModel",
            "placeholder": "​",
            "_view_module": "@jupyter-widgets/controls",
            "_model_module_version": "1.5.0",
            "value": "Downloading: ",
            "_view_count": null,
            "_view_module_version": "1.5.0",
            "description_tooltip": null,
            "_model_module": "@jupyter-widgets/controls",
            "layout": "IPY_MODEL_5ad763b2a85a47c6b8e2a3c3c6db291d"
          }
        },
        "5032eb72ad7d45e8b7cd4b4ae367c0b4": {
          "model_module": "@jupyter-widgets/controls",
          "model_name": "FloatProgressModel",
          "model_module_version": "1.5.0",
          "state": {
            "_view_name": "ProgressView",
            "style": "IPY_MODEL_6e260be747534c4e99daa1ff65ecef51",
            "_dom_classes": [],
            "description": "",
            "_model_name": "FloatProgressModel",
            "bar_style": "success",
            "max": 1060,
            "_view_module": "@jupyter-widgets/controls",
            "_model_module_version": "1.5.0",
            "value": 1060,
            "_view_count": null,
            "_view_module_version": "1.5.0",
            "orientation": "horizontal",
            "min": 0,
            "description_tooltip": null,
            "_model_module": "@jupyter-widgets/controls",
            "layout": "IPY_MODEL_3f3461273e0746bf911b5ee71ac36361"
          }
        },
        "4f8207f591be46a8b7c2f3f351a8a3ae": {
          "model_module": "@jupyter-widgets/controls",
          "model_name": "HTMLModel",
          "model_module_version": "1.5.0",
          "state": {
            "_view_name": "HTMLView",
            "style": "IPY_MODEL_85de8e281ce540839d23092f33a32898",
            "_dom_classes": [],
            "description": "",
            "_model_name": "HTMLModel",
            "placeholder": "​",
            "_view_module": "@jupyter-widgets/controls",
            "_model_module_version": "1.5.0",
            "value": " 2.64k/? [00:00&lt;00:00, 88.0kB/s]",
            "_view_count": null,
            "_view_module_version": "1.5.0",
            "description_tooltip": null,
            "_model_module": "@jupyter-widgets/controls",
            "layout": "IPY_MODEL_01a42e2e33334fb6b00e089bc09f33ea"
          }
        },
        "8f09fe12fc6148f5909e77c74dc4ce7f": {
          "model_module": "@jupyter-widgets/controls",
          "model_name": "DescriptionStyleModel",
          "model_module_version": "1.5.0",
          "state": {
            "_view_name": "StyleView",
            "_model_name": "DescriptionStyleModel",
            "description_width": "",
            "_view_module": "@jupyter-widgets/base",
            "_model_module_version": "1.5.0",
            "_view_count": null,
            "_view_module_version": "1.2.0",
            "_model_module": "@jupyter-widgets/controls"
          }
        },
        "5ad763b2a85a47c6b8e2a3c3c6db291d": {
          "model_module": "@jupyter-widgets/base",
          "model_name": "LayoutModel",
          "model_module_version": "1.2.0",
          "state": {
            "_view_name": "LayoutView",
            "grid_template_rows": null,
            "right": null,
            "justify_content": null,
            "_view_module": "@jupyter-widgets/base",
            "overflow": null,
            "_model_module_version": "1.2.0",
            "_view_count": null,
            "flex_flow": null,
            "width": null,
            "min_width": null,
            "border": null,
            "align_items": null,
            "bottom": null,
            "_model_module": "@jupyter-widgets/base",
            "top": null,
            "grid_column": null,
            "overflow_y": null,
            "overflow_x": null,
            "grid_auto_flow": null,
            "grid_area": null,
            "grid_template_columns": null,
            "flex": null,
            "_model_name": "LayoutModel",
            "justify_items": null,
            "grid_row": null,
            "max_height": null,
            "align_content": null,
            "visibility": null,
            "align_self": null,
            "height": null,
            "min_height": null,
            "padding": null,
            "grid_auto_rows": null,
            "grid_gap": null,
            "max_width": null,
            "order": null,
            "_view_module_version": "1.2.0",
            "grid_template_areas": null,
            "object_position": null,
            "object_fit": null,
            "grid_auto_columns": null,
            "margin": null,
            "display": null,
            "left": null
          }
        },
        "6e260be747534c4e99daa1ff65ecef51": {
          "model_module": "@jupyter-widgets/controls",
          "model_name": "ProgressStyleModel",
          "model_module_version": "1.5.0",
          "state": {
            "_view_name": "StyleView",
            "_model_name": "ProgressStyleModel",
            "description_width": "",
            "_view_module": "@jupyter-widgets/base",
            "_model_module_version": "1.5.0",
            "_view_count": null,
            "_view_module_version": "1.2.0",
            "bar_color": null,
            "_model_module": "@jupyter-widgets/controls"
          }
        },
        "3f3461273e0746bf911b5ee71ac36361": {
          "model_module": "@jupyter-widgets/base",
          "model_name": "LayoutModel",
          "model_module_version": "1.2.0",
          "state": {
            "_view_name": "LayoutView",
            "grid_template_rows": null,
            "right": null,
            "justify_content": null,
            "_view_module": "@jupyter-widgets/base",
            "overflow": null,
            "_model_module_version": "1.2.0",
            "_view_count": null,
            "flex_flow": null,
            "width": null,
            "min_width": null,
            "border": null,
            "align_items": null,
            "bottom": null,
            "_model_module": "@jupyter-widgets/base",
            "top": null,
            "grid_column": null,
            "overflow_y": null,
            "overflow_x": null,
            "grid_auto_flow": null,
            "grid_area": null,
            "grid_template_columns": null,
            "flex": null,
            "_model_name": "LayoutModel",
            "justify_items": null,
            "grid_row": null,
            "max_height": null,
            "align_content": null,
            "visibility": null,
            "align_self": null,
            "height": null,
            "min_height": null,
            "padding": null,
            "grid_auto_rows": null,
            "grid_gap": null,
            "max_width": null,
            "order": null,
            "_view_module_version": "1.2.0",
            "grid_template_areas": null,
            "object_position": null,
            "object_fit": null,
            "grid_auto_columns": null,
            "margin": null,
            "display": null,
            "left": null
          }
        },
        "85de8e281ce540839d23092f33a32898": {
          "model_module": "@jupyter-widgets/controls",
          "model_name": "DescriptionStyleModel",
          "model_module_version": "1.5.0",
          "state": {
            "_view_name": "StyleView",
            "_model_name": "DescriptionStyleModel",
            "description_width": "",
            "_view_module": "@jupyter-widgets/base",
            "_model_module_version": "1.5.0",
            "_view_count": null,
            "_view_module_version": "1.2.0",
            "_model_module": "@jupyter-widgets/controls"
          }
        },
        "01a42e2e33334fb6b00e089bc09f33ea": {
          "model_module": "@jupyter-widgets/base",
          "model_name": "LayoutModel",
          "model_module_version": "1.2.0",
          "state": {
            "_view_name": "LayoutView",
            "grid_template_rows": null,
            "right": null,
            "justify_content": null,
            "_view_module": "@jupyter-widgets/base",
            "overflow": null,
            "_model_module_version": "1.2.0",
            "_view_count": null,
            "flex_flow": null,
            "width": null,
            "min_width": null,
            "border": null,
            "align_items": null,
            "bottom": null,
            "_model_module": "@jupyter-widgets/base",
            "top": null,
            "grid_column": null,
            "overflow_y": null,
            "overflow_x": null,
            "grid_auto_flow": null,
            "grid_area": null,
            "grid_template_columns": null,
            "flex": null,
            "_model_name": "LayoutModel",
            "justify_items": null,
            "grid_row": null,
            "max_height": null,
            "align_content": null,
            "visibility": null,
            "align_self": null,
            "height": null,
            "min_height": null,
            "padding": null,
            "grid_auto_rows": null,
            "grid_gap": null,
            "max_width": null,
            "order": null,
            "_view_module_version": "1.2.0",
            "grid_template_areas": null,
            "object_position": null,
            "object_fit": null,
            "grid_auto_columns": null,
            "margin": null,
            "display": null,
            "left": null
          }
        },
        "b9e15f36f89f4285a47917bc67eb8ddb": {
          "model_module": "@jupyter-widgets/controls",
          "model_name": "HBoxModel",
          "model_module_version": "1.5.0",
          "state": {
            "_view_name": "HBoxView",
            "_dom_classes": [],
            "_model_name": "HBoxModel",
            "_view_module": "@jupyter-widgets/controls",
            "_model_module_version": "1.5.0",
            "_view_count": null,
            "_view_module_version": "1.5.0",
            "box_style": "",
            "layout": "IPY_MODEL_e9d55081eb924be18001378a70e7da3b",
            "_model_module": "@jupyter-widgets/controls",
            "children": [
              "IPY_MODEL_1998469aeaf24d389a7488774ee00356",
              "IPY_MODEL_a7bd27bfc1ad4c7bb3d325026b97fcec",
              "IPY_MODEL_36f92d49d7b04946ac8317053fd4818d"
            ]
          }
        },
        "e9d55081eb924be18001378a70e7da3b": {
          "model_module": "@jupyter-widgets/base",
          "model_name": "LayoutModel",
          "model_module_version": "1.2.0",
          "state": {
            "_view_name": "LayoutView",
            "grid_template_rows": null,
            "right": null,
            "justify_content": null,
            "_view_module": "@jupyter-widgets/base",
            "overflow": null,
            "_model_module_version": "1.2.0",
            "_view_count": null,
            "flex_flow": null,
            "width": null,
            "min_width": null,
            "border": null,
            "align_items": null,
            "bottom": null,
            "_model_module": "@jupyter-widgets/base",
            "top": null,
            "grid_column": null,
            "overflow_y": null,
            "overflow_x": null,
            "grid_auto_flow": null,
            "grid_area": null,
            "grid_template_columns": null,
            "flex": null,
            "_model_name": "LayoutModel",
            "justify_items": null,
            "grid_row": null,
            "max_height": null,
            "align_content": null,
            "visibility": null,
            "align_self": null,
            "height": null,
            "min_height": null,
            "padding": null,
            "grid_auto_rows": null,
            "grid_gap": null,
            "max_width": null,
            "order": null,
            "_view_module_version": "1.2.0",
            "grid_template_areas": null,
            "object_position": null,
            "object_fit": null,
            "grid_auto_columns": null,
            "margin": null,
            "display": null,
            "left": null
          }
        },
        "1998469aeaf24d389a7488774ee00356": {
          "model_module": "@jupyter-widgets/controls",
          "model_name": "HTMLModel",
          "model_module_version": "1.5.0",
          "state": {
            "_view_name": "HTMLView",
            "style": "IPY_MODEL_5b33bf238fd446ad8af88793f91e43f2",
            "_dom_classes": [],
            "description": "",
            "_model_name": "HTMLModel",
            "placeholder": "​",
            "_view_module": "@jupyter-widgets/controls",
            "_model_module_version": "1.5.0",
            "value": "Downloading: 100%",
            "_view_count": null,
            "_view_module_version": "1.5.0",
            "description_tooltip": null,
            "_model_module": "@jupyter-widgets/controls",
            "layout": "IPY_MODEL_add96024a6fd4b15afe14684b6d9fd8b"
          }
        },
        "a7bd27bfc1ad4c7bb3d325026b97fcec": {
          "model_module": "@jupyter-widgets/controls",
          "model_name": "FloatProgressModel",
          "model_module_version": "1.5.0",
          "state": {
            "_view_name": "ProgressView",
            "style": "IPY_MODEL_710d572623144d409a4c6d7b38f3c81d",
            "_dom_classes": [],
            "description": "",
            "_model_name": "FloatProgressModel",
            "bar_style": "success",
            "max": 869007403,
            "_view_module": "@jupyter-widgets/controls",
            "_model_module_version": "1.5.0",
            "value": 869007403,
            "_view_count": null,
            "_view_module_version": "1.5.0",
            "orientation": "horizontal",
            "min": 0,
            "description_tooltip": null,
            "_model_module": "@jupyter-widgets/controls",
            "layout": "IPY_MODEL_0811695c1229498d9dfa7d09f7e00300"
          }
        },
        "36f92d49d7b04946ac8317053fd4818d": {
          "model_module": "@jupyter-widgets/controls",
          "model_name": "HTMLModel",
          "model_module_version": "1.5.0",
          "state": {
            "_view_name": "HTMLView",
            "style": "IPY_MODEL_8d6b050a64054ceca2c26b027f6495bb",
            "_dom_classes": [],
            "description": "",
            "_model_name": "HTMLModel",
            "placeholder": "​",
            "_view_module": "@jupyter-widgets/controls",
            "_model_module_version": "1.5.0",
            "value": " 869M/869M [00:45&lt;00:00, 19.7MB/s]",
            "_view_count": null,
            "_view_module_version": "1.5.0",
            "description_tooltip": null,
            "_model_module": "@jupyter-widgets/controls",
            "layout": "IPY_MODEL_d04abc5d97004d41ae7f6d3a89b9a5a7"
          }
        },
        "5b33bf238fd446ad8af88793f91e43f2": {
          "model_module": "@jupyter-widgets/controls",
          "model_name": "DescriptionStyleModel",
          "model_module_version": "1.5.0",
          "state": {
            "_view_name": "StyleView",
            "_model_name": "DescriptionStyleModel",
            "description_width": "",
            "_view_module": "@jupyter-widgets/base",
            "_model_module_version": "1.5.0",
            "_view_count": null,
            "_view_module_version": "1.2.0",
            "_model_module": "@jupyter-widgets/controls"
          }
        },
        "add96024a6fd4b15afe14684b6d9fd8b": {
          "model_module": "@jupyter-widgets/base",
          "model_name": "LayoutModel",
          "model_module_version": "1.2.0",
          "state": {
            "_view_name": "LayoutView",
            "grid_template_rows": null,
            "right": null,
            "justify_content": null,
            "_view_module": "@jupyter-widgets/base",
            "overflow": null,
            "_model_module_version": "1.2.0",
            "_view_count": null,
            "flex_flow": null,
            "width": null,
            "min_width": null,
            "border": null,
            "align_items": null,
            "bottom": null,
            "_model_module": "@jupyter-widgets/base",
            "top": null,
            "grid_column": null,
            "overflow_y": null,
            "overflow_x": null,
            "grid_auto_flow": null,
            "grid_area": null,
            "grid_template_columns": null,
            "flex": null,
            "_model_name": "LayoutModel",
            "justify_items": null,
            "grid_row": null,
            "max_height": null,
            "align_content": null,
            "visibility": null,
            "align_self": null,
            "height": null,
            "min_height": null,
            "padding": null,
            "grid_auto_rows": null,
            "grid_gap": null,
            "max_width": null,
            "order": null,
            "_view_module_version": "1.2.0",
            "grid_template_areas": null,
            "object_position": null,
            "object_fit": null,
            "grid_auto_columns": null,
            "margin": null,
            "display": null,
            "left": null
          }
        },
        "710d572623144d409a4c6d7b38f3c81d": {
          "model_module": "@jupyter-widgets/controls",
          "model_name": "ProgressStyleModel",
          "model_module_version": "1.5.0",
          "state": {
            "_view_name": "StyleView",
            "_model_name": "ProgressStyleModel",
            "description_width": "",
            "_view_module": "@jupyter-widgets/base",
            "_model_module_version": "1.5.0",
            "_view_count": null,
            "_view_module_version": "1.2.0",
            "bar_color": null,
            "_model_module": "@jupyter-widgets/controls"
          }
        },
        "0811695c1229498d9dfa7d09f7e00300": {
          "model_module": "@jupyter-widgets/base",
          "model_name": "LayoutModel",
          "model_module_version": "1.2.0",
          "state": {
            "_view_name": "LayoutView",
            "grid_template_rows": null,
            "right": null,
            "justify_content": null,
            "_view_module": "@jupyter-widgets/base",
            "overflow": null,
            "_model_module_version": "1.2.0",
            "_view_count": null,
            "flex_flow": null,
            "width": null,
            "min_width": null,
            "border": null,
            "align_items": null,
            "bottom": null,
            "_model_module": "@jupyter-widgets/base",
            "top": null,
            "grid_column": null,
            "overflow_y": null,
            "overflow_x": null,
            "grid_auto_flow": null,
            "grid_area": null,
            "grid_template_columns": null,
            "flex": null,
            "_model_name": "LayoutModel",
            "justify_items": null,
            "grid_row": null,
            "max_height": null,
            "align_content": null,
            "visibility": null,
            "align_self": null,
            "height": null,
            "min_height": null,
            "padding": null,
            "grid_auto_rows": null,
            "grid_gap": null,
            "max_width": null,
            "order": null,
            "_view_module_version": "1.2.0",
            "grid_template_areas": null,
            "object_position": null,
            "object_fit": null,
            "grid_auto_columns": null,
            "margin": null,
            "display": null,
            "left": null
          }
        },
        "8d6b050a64054ceca2c26b027f6495bb": {
          "model_module": "@jupyter-widgets/controls",
          "model_name": "DescriptionStyleModel",
          "model_module_version": "1.5.0",
          "state": {
            "_view_name": "StyleView",
            "_model_name": "DescriptionStyleModel",
            "description_width": "",
            "_view_module": "@jupyter-widgets/base",
            "_model_module_version": "1.5.0",
            "_view_count": null,
            "_view_module_version": "1.2.0",
            "_model_module": "@jupyter-widgets/controls"
          }
        },
        "d04abc5d97004d41ae7f6d3a89b9a5a7": {
          "model_module": "@jupyter-widgets/base",
          "model_name": "LayoutModel",
          "model_module_version": "1.2.0",
          "state": {
            "_view_name": "LayoutView",
            "grid_template_rows": null,
            "right": null,
            "justify_content": null,
            "_view_module": "@jupyter-widgets/base",
            "overflow": null,
            "_model_module_version": "1.2.0",
            "_view_count": null,
            "flex_flow": null,
            "width": null,
            "min_width": null,
            "border": null,
            "align_items": null,
            "bottom": null,
            "_model_module": "@jupyter-widgets/base",
            "top": null,
            "grid_column": null,
            "overflow_y": null,
            "overflow_x": null,
            "grid_auto_flow": null,
            "grid_area": null,
            "grid_template_columns": null,
            "flex": null,
            "_model_name": "LayoutModel",
            "justify_items": null,
            "grid_row": null,
            "max_height": null,
            "align_content": null,
            "visibility": null,
            "align_self": null,
            "height": null,
            "min_height": null,
            "padding": null,
            "grid_auto_rows": null,
            "grid_gap": null,
            "max_width": null,
            "order": null,
            "_view_module_version": "1.2.0",
            "grid_template_areas": null,
            "object_position": null,
            "object_fit": null,
            "grid_auto_columns": null,
            "margin": null,
            "display": null,
            "left": null
          }
        },
        "70d16bc0829c42b6bfea7dc99e034ddd": {
          "model_module": "@jupyter-widgets/controls",
          "model_name": "HBoxModel",
          "model_module_version": "1.5.0",
          "state": {
            "_view_name": "HBoxView",
            "_dom_classes": [],
            "_model_name": "HBoxModel",
            "_view_module": "@jupyter-widgets/controls",
            "_model_module_version": "1.5.0",
            "_view_count": null,
            "_view_module_version": "1.5.0",
            "box_style": "",
            "layout": "IPY_MODEL_b33fda001d8c462ea946449c767dc7aa",
            "_model_module": "@jupyter-widgets/controls",
            "children": [
              "IPY_MODEL_60404b7684e34047a28ffe7df94ef0de",
              "IPY_MODEL_da4b8788af3e417288dc938b4f693538",
              "IPY_MODEL_56b2dbd6002149039935ce2057eea26d"
            ]
          }
        },
        "b33fda001d8c462ea946449c767dc7aa": {
          "model_module": "@jupyter-widgets/base",
          "model_name": "LayoutModel",
          "model_module_version": "1.2.0",
          "state": {
            "_view_name": "LayoutView",
            "grid_template_rows": null,
            "right": null,
            "justify_content": null,
            "_view_module": "@jupyter-widgets/base",
            "overflow": null,
            "_model_module_version": "1.2.0",
            "_view_count": null,
            "flex_flow": null,
            "width": null,
            "min_width": null,
            "border": null,
            "align_items": null,
            "bottom": null,
            "_model_module": "@jupyter-widgets/base",
            "top": null,
            "grid_column": null,
            "overflow_y": null,
            "overflow_x": null,
            "grid_auto_flow": null,
            "grid_area": null,
            "grid_template_columns": null,
            "flex": null,
            "_model_name": "LayoutModel",
            "justify_items": null,
            "grid_row": null,
            "max_height": null,
            "align_content": null,
            "visibility": null,
            "align_self": null,
            "height": null,
            "min_height": null,
            "padding": null,
            "grid_auto_rows": null,
            "grid_gap": null,
            "max_width": null,
            "order": null,
            "_view_module_version": "1.2.0",
            "grid_template_areas": null,
            "object_position": null,
            "object_fit": null,
            "grid_auto_columns": null,
            "margin": null,
            "display": null,
            "left": null
          }
        },
        "60404b7684e34047a28ffe7df94ef0de": {
          "model_module": "@jupyter-widgets/controls",
          "model_name": "HTMLModel",
          "model_module_version": "1.5.0",
          "state": {
            "_view_name": "HTMLView",
            "style": "IPY_MODEL_04153ea8d94e445899cd214b6f89de83",
            "_dom_classes": [],
            "description": "",
            "_model_name": "HTMLModel",
            "placeholder": "​",
            "_view_module": "@jupyter-widgets/controls",
            "_model_module_version": "1.5.0",
            "value": "",
            "_view_count": null,
            "_view_module_version": "1.5.0",
            "description_tooltip": null,
            "_model_module": "@jupyter-widgets/controls",
            "layout": "IPY_MODEL_e27b0a5a128c4096ab0d29ca8c79e0be"
          }
        },
        "da4b8788af3e417288dc938b4f693538": {
          "model_module": "@jupyter-widgets/controls",
          "model_name": "FloatProgressModel",
          "model_module_version": "1.5.0",
          "state": {
            "_view_name": "ProgressView",
            "style": "IPY_MODEL_7e576883930547c2815ac78f06ec58dc",
            "_dom_classes": [],
            "description": "",
            "_model_name": "FloatProgressModel",
            "bar_style": "info",
            "max": 1,
            "_view_module": "@jupyter-widgets/controls",
            "_model_module_version": "1.5.0",
            "value": 1,
            "_view_count": null,
            "_view_module_version": "1.5.0",
            "orientation": "horizontal",
            "min": 0,
            "description_tooltip": null,
            "_model_module": "@jupyter-widgets/controls",
            "layout": "IPY_MODEL_ff778aebdb4443a689eb9401aee6655b"
          }
        },
        "56b2dbd6002149039935ce2057eea26d": {
          "model_module": "@jupyter-widgets/controls",
          "model_name": "HTMLModel",
          "model_module_version": "1.5.0",
          "state": {
            "_view_name": "HTMLView",
            "style": "IPY_MODEL_afbe94fb60f0481fbd334bc237bd38e0",
            "_dom_classes": [],
            "description": "",
            "_model_name": "HTMLModel",
            "placeholder": "​",
            "_view_module": "@jupyter-widgets/controls",
            "_model_module_version": "1.5.0",
            "value": " 4555/0 [00:03&lt;00:00, 1306.05 examples/s]",
            "_view_count": null,
            "_view_module_version": "1.5.0",
            "description_tooltip": null,
            "_model_module": "@jupyter-widgets/controls",
            "layout": "IPY_MODEL_7c5baf3cbbf442009add15fc81223cdb"
          }
        },
        "04153ea8d94e445899cd214b6f89de83": {
          "model_module": "@jupyter-widgets/controls",
          "model_name": "DescriptionStyleModel",
          "model_module_version": "1.5.0",
          "state": {
            "_view_name": "StyleView",
            "_model_name": "DescriptionStyleModel",
            "description_width": "",
            "_view_module": "@jupyter-widgets/base",
            "_model_module_version": "1.5.0",
            "_view_count": null,
            "_view_module_version": "1.2.0",
            "_model_module": "@jupyter-widgets/controls"
          }
        },
        "e27b0a5a128c4096ab0d29ca8c79e0be": {
          "model_module": "@jupyter-widgets/base",
          "model_name": "LayoutModel",
          "model_module_version": "1.2.0",
          "state": {
            "_view_name": "LayoutView",
            "grid_template_rows": null,
            "right": null,
            "justify_content": null,
            "_view_module": "@jupyter-widgets/base",
            "overflow": null,
            "_model_module_version": "1.2.0",
            "_view_count": null,
            "flex_flow": null,
            "width": null,
            "min_width": null,
            "border": null,
            "align_items": null,
            "bottom": null,
            "_model_module": "@jupyter-widgets/base",
            "top": null,
            "grid_column": null,
            "overflow_y": null,
            "overflow_x": null,
            "grid_auto_flow": null,
            "grid_area": null,
            "grid_template_columns": null,
            "flex": null,
            "_model_name": "LayoutModel",
            "justify_items": null,
            "grid_row": null,
            "max_height": null,
            "align_content": null,
            "visibility": null,
            "align_self": null,
            "height": null,
            "min_height": null,
            "padding": null,
            "grid_auto_rows": null,
            "grid_gap": null,
            "max_width": null,
            "order": null,
            "_view_module_version": "1.2.0",
            "grid_template_areas": null,
            "object_position": null,
            "object_fit": null,
            "grid_auto_columns": null,
            "margin": null,
            "display": null,
            "left": null
          }
        },
        "7e576883930547c2815ac78f06ec58dc": {
          "model_module": "@jupyter-widgets/controls",
          "model_name": "ProgressStyleModel",
          "model_module_version": "1.5.0",
          "state": {
            "_view_name": "StyleView",
            "_model_name": "ProgressStyleModel",
            "description_width": "",
            "_view_module": "@jupyter-widgets/base",
            "_model_module_version": "1.5.0",
            "_view_count": null,
            "_view_module_version": "1.2.0",
            "bar_color": null,
            "_model_module": "@jupyter-widgets/controls"
          }
        },
        "ff778aebdb4443a689eb9401aee6655b": {
          "model_module": "@jupyter-widgets/base",
          "model_name": "LayoutModel",
          "model_module_version": "1.2.0",
          "state": {
            "_view_name": "LayoutView",
            "grid_template_rows": null,
            "right": null,
            "justify_content": null,
            "_view_module": "@jupyter-widgets/base",
            "overflow": null,
            "_model_module_version": "1.2.0",
            "_view_count": null,
            "flex_flow": null,
            "width": "20px",
            "min_width": null,
            "border": null,
            "align_items": null,
            "bottom": null,
            "_model_module": "@jupyter-widgets/base",
            "top": null,
            "grid_column": null,
            "overflow_y": null,
            "overflow_x": null,
            "grid_auto_flow": null,
            "grid_area": null,
            "grid_template_columns": null,
            "flex": null,
            "_model_name": "LayoutModel",
            "justify_items": null,
            "grid_row": null,
            "max_height": null,
            "align_content": null,
            "visibility": null,
            "align_self": null,
            "height": null,
            "min_height": null,
            "padding": null,
            "grid_auto_rows": null,
            "grid_gap": null,
            "max_width": null,
            "order": null,
            "_view_module_version": "1.2.0",
            "grid_template_areas": null,
            "object_position": null,
            "object_fit": null,
            "grid_auto_columns": null,
            "margin": null,
            "display": null,
            "left": null
          }
        },
        "afbe94fb60f0481fbd334bc237bd38e0": {
          "model_module": "@jupyter-widgets/controls",
          "model_name": "DescriptionStyleModel",
          "model_module_version": "1.5.0",
          "state": {
            "_view_name": "StyleView",
            "_model_name": "DescriptionStyleModel",
            "description_width": "",
            "_view_module": "@jupyter-widgets/base",
            "_model_module_version": "1.5.0",
            "_view_count": null,
            "_view_module_version": "1.2.0",
            "_model_module": "@jupyter-widgets/controls"
          }
        },
        "7c5baf3cbbf442009add15fc81223cdb": {
          "model_module": "@jupyter-widgets/base",
          "model_name": "LayoutModel",
          "model_module_version": "1.2.0",
          "state": {
            "_view_name": "LayoutView",
            "grid_template_rows": null,
            "right": null,
            "justify_content": null,
            "_view_module": "@jupyter-widgets/base",
            "overflow": null,
            "_model_module_version": "1.2.0",
            "_view_count": null,
            "flex_flow": null,
            "width": null,
            "min_width": null,
            "border": null,
            "align_items": null,
            "bottom": null,
            "_model_module": "@jupyter-widgets/base",
            "top": null,
            "grid_column": null,
            "overflow_y": null,
            "overflow_x": null,
            "grid_auto_flow": null,
            "grid_area": null,
            "grid_template_columns": null,
            "flex": null,
            "_model_name": "LayoutModel",
            "justify_items": null,
            "grid_row": null,
            "max_height": null,
            "align_content": null,
            "visibility": null,
            "align_self": null,
            "height": null,
            "min_height": null,
            "padding": null,
            "grid_auto_rows": null,
            "grid_gap": null,
            "max_width": null,
            "order": null,
            "_view_module_version": "1.2.0",
            "grid_template_areas": null,
            "object_position": null,
            "object_fit": null,
            "grid_auto_columns": null,
            "margin": null,
            "display": null,
            "left": null
          }
        },
        "b2ace33ba0194603b1f51d6d00fd63fb": {
          "model_module": "@jupyter-widgets/controls",
          "model_name": "HBoxModel",
          "model_module_version": "1.5.0",
          "state": {
            "_view_name": "HBoxView",
            "_dom_classes": [],
            "_model_name": "HBoxModel",
            "_view_module": "@jupyter-widgets/controls",
            "_model_module_version": "1.5.0",
            "_view_count": null,
            "_view_module_version": "1.5.0",
            "box_style": "",
            "layout": "IPY_MODEL_a1ab800093e1461bb595ede494df73a6",
            "_model_module": "@jupyter-widgets/controls",
            "children": [
              "IPY_MODEL_17564eef40794ba5ba1ad42c330de6b8",
              "IPY_MODEL_a2e723e8130d45c389ea998d096d3e25",
              "IPY_MODEL_995ad483889442a38f606589425bef13"
            ]
          }
        },
        "a1ab800093e1461bb595ede494df73a6": {
          "model_module": "@jupyter-widgets/base",
          "model_name": "LayoutModel",
          "model_module_version": "1.2.0",
          "state": {
            "_view_name": "LayoutView",
            "grid_template_rows": null,
            "right": null,
            "justify_content": null,
            "_view_module": "@jupyter-widgets/base",
            "overflow": null,
            "_model_module_version": "1.2.0",
            "_view_count": null,
            "flex_flow": null,
            "width": null,
            "min_width": null,
            "border": null,
            "align_items": null,
            "bottom": null,
            "_model_module": "@jupyter-widgets/base",
            "top": null,
            "grid_column": null,
            "overflow_y": null,
            "overflow_x": null,
            "grid_auto_flow": null,
            "grid_area": null,
            "grid_template_columns": null,
            "flex": null,
            "_model_name": "LayoutModel",
            "justify_items": null,
            "grid_row": null,
            "max_height": null,
            "align_content": null,
            "visibility": null,
            "align_self": null,
            "height": null,
            "min_height": null,
            "padding": null,
            "grid_auto_rows": null,
            "grid_gap": null,
            "max_width": null,
            "order": null,
            "_view_module_version": "1.2.0",
            "grid_template_areas": null,
            "object_position": null,
            "object_fit": null,
            "grid_auto_columns": null,
            "margin": null,
            "display": null,
            "left": null
          }
        },
        "17564eef40794ba5ba1ad42c330de6b8": {
          "model_module": "@jupyter-widgets/controls",
          "model_name": "HTMLModel",
          "model_module_version": "1.5.0",
          "state": {
            "_view_name": "HTMLView",
            "style": "IPY_MODEL_c8b693f5f80e401cb86a7d6823499197",
            "_dom_classes": [],
            "description": "",
            "_model_name": "HTMLModel",
            "placeholder": "​",
            "_view_module": "@jupyter-widgets/controls",
            "_model_module_version": "1.5.0",
            "value": "",
            "_view_count": null,
            "_view_module_version": "1.5.0",
            "description_tooltip": null,
            "_model_module": "@jupyter-widgets/controls",
            "layout": "IPY_MODEL_1a497c57ea294172a2aa8856277b2e52"
          }
        },
        "a2e723e8130d45c389ea998d096d3e25": {
          "model_module": "@jupyter-widgets/controls",
          "model_name": "FloatProgressModel",
          "model_module_version": "1.5.0",
          "state": {
            "_view_name": "ProgressView",
            "style": "IPY_MODEL_473b886d261042ada1c88e9aeb79aa2e",
            "_dom_classes": [],
            "description": "",
            "_model_name": "FloatProgressModel",
            "bar_style": "info",
            "max": 1,
            "_view_module": "@jupyter-widgets/controls",
            "_model_module_version": "1.5.0",
            "value": 1,
            "_view_count": null,
            "_view_module_version": "1.5.0",
            "orientation": "horizontal",
            "min": 0,
            "description_tooltip": null,
            "_model_module": "@jupyter-widgets/controls",
            "layout": "IPY_MODEL_1ab7ef387f514c92b294bfa587f3081d"
          }
        },
        "995ad483889442a38f606589425bef13": {
          "model_module": "@jupyter-widgets/controls",
          "model_name": "HTMLModel",
          "model_module_version": "1.5.0",
          "state": {
            "_view_name": "HTMLView",
            "style": "IPY_MODEL_5ac496d50e1c4980b08273f0bdf0e443",
            "_dom_classes": [],
            "description": "",
            "_model_name": "HTMLModel",
            "placeholder": "​",
            "_view_module": "@jupyter-widgets/controls",
            "_model_module_version": "1.5.0",
            "value": " 1586/0 [00:01&lt;00:00, 1282.33 examples/s]",
            "_view_count": null,
            "_view_module_version": "1.5.0",
            "description_tooltip": null,
            "_model_module": "@jupyter-widgets/controls",
            "layout": "IPY_MODEL_841e9ab32c464b9baca2328f8bab89df"
          }
        },
        "c8b693f5f80e401cb86a7d6823499197": {
          "model_module": "@jupyter-widgets/controls",
          "model_name": "DescriptionStyleModel",
          "model_module_version": "1.5.0",
          "state": {
            "_view_name": "StyleView",
            "_model_name": "DescriptionStyleModel",
            "description_width": "",
            "_view_module": "@jupyter-widgets/base",
            "_model_module_version": "1.5.0",
            "_view_count": null,
            "_view_module_version": "1.2.0",
            "_model_module": "@jupyter-widgets/controls"
          }
        },
        "1a497c57ea294172a2aa8856277b2e52": {
          "model_module": "@jupyter-widgets/base",
          "model_name": "LayoutModel",
          "model_module_version": "1.2.0",
          "state": {
            "_view_name": "LayoutView",
            "grid_template_rows": null,
            "right": null,
            "justify_content": null,
            "_view_module": "@jupyter-widgets/base",
            "overflow": null,
            "_model_module_version": "1.2.0",
            "_view_count": null,
            "flex_flow": null,
            "width": null,
            "min_width": null,
            "border": null,
            "align_items": null,
            "bottom": null,
            "_model_module": "@jupyter-widgets/base",
            "top": null,
            "grid_column": null,
            "overflow_y": null,
            "overflow_x": null,
            "grid_auto_flow": null,
            "grid_area": null,
            "grid_template_columns": null,
            "flex": null,
            "_model_name": "LayoutModel",
            "justify_items": null,
            "grid_row": null,
            "max_height": null,
            "align_content": null,
            "visibility": null,
            "align_self": null,
            "height": null,
            "min_height": null,
            "padding": null,
            "grid_auto_rows": null,
            "grid_gap": null,
            "max_width": null,
            "order": null,
            "_view_module_version": "1.2.0",
            "grid_template_areas": null,
            "object_position": null,
            "object_fit": null,
            "grid_auto_columns": null,
            "margin": null,
            "display": null,
            "left": null
          }
        },
        "473b886d261042ada1c88e9aeb79aa2e": {
          "model_module": "@jupyter-widgets/controls",
          "model_name": "ProgressStyleModel",
          "model_module_version": "1.5.0",
          "state": {
            "_view_name": "StyleView",
            "_model_name": "ProgressStyleModel",
            "description_width": "",
            "_view_module": "@jupyter-widgets/base",
            "_model_module_version": "1.5.0",
            "_view_count": null,
            "_view_module_version": "1.2.0",
            "bar_color": null,
            "_model_module": "@jupyter-widgets/controls"
          }
        },
        "1ab7ef387f514c92b294bfa587f3081d": {
          "model_module": "@jupyter-widgets/base",
          "model_name": "LayoutModel",
          "model_module_version": "1.2.0",
          "state": {
            "_view_name": "LayoutView",
            "grid_template_rows": null,
            "right": null,
            "justify_content": null,
            "_view_module": "@jupyter-widgets/base",
            "overflow": null,
            "_model_module_version": "1.2.0",
            "_view_count": null,
            "flex_flow": null,
            "width": "20px",
            "min_width": null,
            "border": null,
            "align_items": null,
            "bottom": null,
            "_model_module": "@jupyter-widgets/base",
            "top": null,
            "grid_column": null,
            "overflow_y": null,
            "overflow_x": null,
            "grid_auto_flow": null,
            "grid_area": null,
            "grid_template_columns": null,
            "flex": null,
            "_model_name": "LayoutModel",
            "justify_items": null,
            "grid_row": null,
            "max_height": null,
            "align_content": null,
            "visibility": null,
            "align_self": null,
            "height": null,
            "min_height": null,
            "padding": null,
            "grid_auto_rows": null,
            "grid_gap": null,
            "max_width": null,
            "order": null,
            "_view_module_version": "1.2.0",
            "grid_template_areas": null,
            "object_position": null,
            "object_fit": null,
            "grid_auto_columns": null,
            "margin": null,
            "display": null,
            "left": null
          }
        },
        "5ac496d50e1c4980b08273f0bdf0e443": {
          "model_module": "@jupyter-widgets/controls",
          "model_name": "DescriptionStyleModel",
          "model_module_version": "1.5.0",
          "state": {
            "_view_name": "StyleView",
            "_model_name": "DescriptionStyleModel",
            "description_width": "",
            "_view_module": "@jupyter-widgets/base",
            "_model_module_version": "1.5.0",
            "_view_count": null,
            "_view_module_version": "1.2.0",
            "_model_module": "@jupyter-widgets/controls"
          }
        },
        "841e9ab32c464b9baca2328f8bab89df": {
          "model_module": "@jupyter-widgets/base",
          "model_name": "LayoutModel",
          "model_module_version": "1.2.0",
          "state": {
            "_view_name": "LayoutView",
            "grid_template_rows": null,
            "right": null,
            "justify_content": null,
            "_view_module": "@jupyter-widgets/base",
            "overflow": null,
            "_model_module_version": "1.2.0",
            "_view_count": null,
            "flex_flow": null,
            "width": null,
            "min_width": null,
            "border": null,
            "align_items": null,
            "bottom": null,
            "_model_module": "@jupyter-widgets/base",
            "top": null,
            "grid_column": null,
            "overflow_y": null,
            "overflow_x": null,
            "grid_auto_flow": null,
            "grid_area": null,
            "grid_template_columns": null,
            "flex": null,
            "_model_name": "LayoutModel",
            "justify_items": null,
            "grid_row": null,
            "max_height": null,
            "align_content": null,
            "visibility": null,
            "align_self": null,
            "height": null,
            "min_height": null,
            "padding": null,
            "grid_auto_rows": null,
            "grid_gap": null,
            "max_width": null,
            "order": null,
            "_view_module_version": "1.2.0",
            "grid_template_areas": null,
            "object_position": null,
            "object_fit": null,
            "grid_auto_columns": null,
            "margin": null,
            "display": null,
            "left": null
          }
        },
        "6b7a5fdcb7494b74a789beca7135e93a": {
          "model_module": "@jupyter-widgets/controls",
          "model_name": "HBoxModel",
          "model_module_version": "1.5.0",
          "state": {
            "_view_name": "HBoxView",
            "_dom_classes": [],
            "_model_name": "HBoxModel",
            "_view_module": "@jupyter-widgets/controls",
            "_model_module_version": "1.5.0",
            "_view_count": null,
            "_view_module_version": "1.5.0",
            "box_style": "",
            "layout": "IPY_MODEL_3849abeef1f945148d11b75f3a4256c2",
            "_model_module": "@jupyter-widgets/controls",
            "children": [
              "IPY_MODEL_c36ad376c0e9494da159fe2ace3f60b4",
              "IPY_MODEL_dccfa6572f34425bbe31d25a4aef1946",
              "IPY_MODEL_09fa0f2335e5414fa95336d22ab4da2a"
            ]
          }
        },
        "3849abeef1f945148d11b75f3a4256c2": {
          "model_module": "@jupyter-widgets/base",
          "model_name": "LayoutModel",
          "model_module_version": "1.2.0",
          "state": {
            "_view_name": "LayoutView",
            "grid_template_rows": null,
            "right": null,
            "justify_content": null,
            "_view_module": "@jupyter-widgets/base",
            "overflow": null,
            "_model_module_version": "1.2.0",
            "_view_count": null,
            "flex_flow": null,
            "width": null,
            "min_width": null,
            "border": null,
            "align_items": null,
            "bottom": null,
            "_model_module": "@jupyter-widgets/base",
            "top": null,
            "grid_column": null,
            "overflow_y": null,
            "overflow_x": null,
            "grid_auto_flow": null,
            "grid_area": null,
            "grid_template_columns": null,
            "flex": null,
            "_model_name": "LayoutModel",
            "justify_items": null,
            "grid_row": null,
            "max_height": null,
            "align_content": null,
            "visibility": null,
            "align_self": null,
            "height": null,
            "min_height": null,
            "padding": null,
            "grid_auto_rows": null,
            "grid_gap": null,
            "max_width": null,
            "order": null,
            "_view_module_version": "1.2.0",
            "grid_template_areas": null,
            "object_position": null,
            "object_fit": null,
            "grid_auto_columns": null,
            "margin": null,
            "display": null,
            "left": null
          }
        },
        "c36ad376c0e9494da159fe2ace3f60b4": {
          "model_module": "@jupyter-widgets/controls",
          "model_name": "HTMLModel",
          "model_module_version": "1.5.0",
          "state": {
            "_view_name": "HTMLView",
            "style": "IPY_MODEL_0a24a94af0684896b07ccbe2b7d4f8d6",
            "_dom_classes": [],
            "description": "",
            "_model_name": "HTMLModel",
            "placeholder": "​",
            "_view_module": "@jupyter-widgets/controls",
            "_model_module_version": "1.5.0",
            "value": "100%",
            "_view_count": null,
            "_view_module_version": "1.5.0",
            "description_tooltip": null,
            "_model_module": "@jupyter-widgets/controls",
            "layout": "IPY_MODEL_dfcd3da1056f478aadac10e57228fe5e"
          }
        },
        "dccfa6572f34425bbe31d25a4aef1946": {
          "model_module": "@jupyter-widgets/controls",
          "model_name": "FloatProgressModel",
          "model_module_version": "1.5.0",
          "state": {
            "_view_name": "ProgressView",
            "style": "IPY_MODEL_464d5b9d94dc4219ab3a36cfb35ab222",
            "_dom_classes": [],
            "description": "",
            "_model_name": "FloatProgressModel",
            "bar_style": "success",
            "max": 2,
            "_view_module": "@jupyter-widgets/controls",
            "_model_module_version": "1.5.0",
            "value": 2,
            "_view_count": null,
            "_view_module_version": "1.5.0",
            "orientation": "horizontal",
            "min": 0,
            "description_tooltip": null,
            "_model_module": "@jupyter-widgets/controls",
            "layout": "IPY_MODEL_512585627cc245b0bc97942accf4462f"
          }
        },
        "09fa0f2335e5414fa95336d22ab4da2a": {
          "model_module": "@jupyter-widgets/controls",
          "model_name": "HTMLModel",
          "model_module_version": "1.5.0",
          "state": {
            "_view_name": "HTMLView",
            "style": "IPY_MODEL_ffc89551850e47fa927344cdfaf0704d",
            "_dom_classes": [],
            "description": "",
            "_model_name": "HTMLModel",
            "placeholder": "​",
            "_view_module": "@jupyter-widgets/controls",
            "_model_module_version": "1.5.0",
            "value": " 2/2 [00:00&lt;00:00, 68.37it/s]",
            "_view_count": null,
            "_view_module_version": "1.5.0",
            "description_tooltip": null,
            "_model_module": "@jupyter-widgets/controls",
            "layout": "IPY_MODEL_a2cf9baa6624414bae8407ca982c9532"
          }
        },
        "0a24a94af0684896b07ccbe2b7d4f8d6": {
          "model_module": "@jupyter-widgets/controls",
          "model_name": "DescriptionStyleModel",
          "model_module_version": "1.5.0",
          "state": {
            "_view_name": "StyleView",
            "_model_name": "DescriptionStyleModel",
            "description_width": "",
            "_view_module": "@jupyter-widgets/base",
            "_model_module_version": "1.5.0",
            "_view_count": null,
            "_view_module_version": "1.2.0",
            "_model_module": "@jupyter-widgets/controls"
          }
        },
        "dfcd3da1056f478aadac10e57228fe5e": {
          "model_module": "@jupyter-widgets/base",
          "model_name": "LayoutModel",
          "model_module_version": "1.2.0",
          "state": {
            "_view_name": "LayoutView",
            "grid_template_rows": null,
            "right": null,
            "justify_content": null,
            "_view_module": "@jupyter-widgets/base",
            "overflow": null,
            "_model_module_version": "1.2.0",
            "_view_count": null,
            "flex_flow": null,
            "width": null,
            "min_width": null,
            "border": null,
            "align_items": null,
            "bottom": null,
            "_model_module": "@jupyter-widgets/base",
            "top": null,
            "grid_column": null,
            "overflow_y": null,
            "overflow_x": null,
            "grid_auto_flow": null,
            "grid_area": null,
            "grid_template_columns": null,
            "flex": null,
            "_model_name": "LayoutModel",
            "justify_items": null,
            "grid_row": null,
            "max_height": null,
            "align_content": null,
            "visibility": null,
            "align_self": null,
            "height": null,
            "min_height": null,
            "padding": null,
            "grid_auto_rows": null,
            "grid_gap": null,
            "max_width": null,
            "order": null,
            "_view_module_version": "1.2.0",
            "grid_template_areas": null,
            "object_position": null,
            "object_fit": null,
            "grid_auto_columns": null,
            "margin": null,
            "display": null,
            "left": null
          }
        },
        "464d5b9d94dc4219ab3a36cfb35ab222": {
          "model_module": "@jupyter-widgets/controls",
          "model_name": "ProgressStyleModel",
          "model_module_version": "1.5.0",
          "state": {
            "_view_name": "StyleView",
            "_model_name": "ProgressStyleModel",
            "description_width": "",
            "_view_module": "@jupyter-widgets/base",
            "_model_module_version": "1.5.0",
            "_view_count": null,
            "_view_module_version": "1.2.0",
            "bar_color": null,
            "_model_module": "@jupyter-widgets/controls"
          }
        },
        "512585627cc245b0bc97942accf4462f": {
          "model_module": "@jupyter-widgets/base",
          "model_name": "LayoutModel",
          "model_module_version": "1.2.0",
          "state": {
            "_view_name": "LayoutView",
            "grid_template_rows": null,
            "right": null,
            "justify_content": null,
            "_view_module": "@jupyter-widgets/base",
            "overflow": null,
            "_model_module_version": "1.2.0",
            "_view_count": null,
            "flex_flow": null,
            "width": null,
            "min_width": null,
            "border": null,
            "align_items": null,
            "bottom": null,
            "_model_module": "@jupyter-widgets/base",
            "top": null,
            "grid_column": null,
            "overflow_y": null,
            "overflow_x": null,
            "grid_auto_flow": null,
            "grid_area": null,
            "grid_template_columns": null,
            "flex": null,
            "_model_name": "LayoutModel",
            "justify_items": null,
            "grid_row": null,
            "max_height": null,
            "align_content": null,
            "visibility": null,
            "align_self": null,
            "height": null,
            "min_height": null,
            "padding": null,
            "grid_auto_rows": null,
            "grid_gap": null,
            "max_width": null,
            "order": null,
            "_view_module_version": "1.2.0",
            "grid_template_areas": null,
            "object_position": null,
            "object_fit": null,
            "grid_auto_columns": null,
            "margin": null,
            "display": null,
            "left": null
          }
        },
        "ffc89551850e47fa927344cdfaf0704d": {
          "model_module": "@jupyter-widgets/controls",
          "model_name": "DescriptionStyleModel",
          "model_module_version": "1.5.0",
          "state": {
            "_view_name": "StyleView",
            "_model_name": "DescriptionStyleModel",
            "description_width": "",
            "_view_module": "@jupyter-widgets/base",
            "_model_module_version": "1.5.0",
            "_view_count": null,
            "_view_module_version": "1.2.0",
            "_model_module": "@jupyter-widgets/controls"
          }
        },
        "a2cf9baa6624414bae8407ca982c9532": {
          "model_module": "@jupyter-widgets/base",
          "model_name": "LayoutModel",
          "model_module_version": "1.2.0",
          "state": {
            "_view_name": "LayoutView",
            "grid_template_rows": null,
            "right": null,
            "justify_content": null,
            "_view_module": "@jupyter-widgets/base",
            "overflow": null,
            "_model_module_version": "1.2.0",
            "_view_count": null,
            "flex_flow": null,
            "width": null,
            "min_width": null,
            "border": null,
            "align_items": null,
            "bottom": null,
            "_model_module": "@jupyter-widgets/base",
            "top": null,
            "grid_column": null,
            "overflow_y": null,
            "overflow_x": null,
            "grid_auto_flow": null,
            "grid_area": null,
            "grid_template_columns": null,
            "flex": null,
            "_model_name": "LayoutModel",
            "justify_items": null,
            "grid_row": null,
            "max_height": null,
            "align_content": null,
            "visibility": null,
            "align_self": null,
            "height": null,
            "min_height": null,
            "padding": null,
            "grid_auto_rows": null,
            "grid_gap": null,
            "max_width": null,
            "order": null,
            "_view_module_version": "1.2.0",
            "grid_template_areas": null,
            "object_position": null,
            "object_fit": null,
            "grid_auto_columns": null,
            "margin": null,
            "display": null,
            "left": null
          }
        },
        "cb35f51ff802428c8843f5300573301b": {
          "model_module": "@jupyter-widgets/controls",
          "model_name": "HBoxModel",
          "model_module_version": "1.5.0",
          "state": {
            "_view_name": "HBoxView",
            "_dom_classes": [],
            "_model_name": "HBoxModel",
            "_view_module": "@jupyter-widgets/controls",
            "_model_module_version": "1.5.0",
            "_view_count": null,
            "_view_module_version": "1.5.0",
            "box_style": "",
            "layout": "IPY_MODEL_d5944d90fbda48c2b99ec4a3e286e46c",
            "_model_module": "@jupyter-widgets/controls",
            "children": [
              "IPY_MODEL_747d1041cc574a34b2344bec990af683",
              "IPY_MODEL_7a980f9ef52b49bf90442a1a65fe8812",
              "IPY_MODEL_556ee239b7b84840b0a671f0e916aabb"
            ]
          }
        },
        "d5944d90fbda48c2b99ec4a3e286e46c": {
          "model_module": "@jupyter-widgets/base",
          "model_name": "LayoutModel",
          "model_module_version": "1.2.0",
          "state": {
            "_view_name": "LayoutView",
            "grid_template_rows": null,
            "right": null,
            "justify_content": null,
            "_view_module": "@jupyter-widgets/base",
            "overflow": null,
            "_model_module_version": "1.2.0",
            "_view_count": null,
            "flex_flow": null,
            "width": null,
            "min_width": null,
            "border": null,
            "align_items": null,
            "bottom": null,
            "_model_module": "@jupyter-widgets/base",
            "top": null,
            "grid_column": null,
            "overflow_y": null,
            "overflow_x": null,
            "grid_auto_flow": null,
            "grid_area": null,
            "grid_template_columns": null,
            "flex": null,
            "_model_name": "LayoutModel",
            "justify_items": null,
            "grid_row": null,
            "max_height": null,
            "align_content": null,
            "visibility": null,
            "align_self": null,
            "height": null,
            "min_height": null,
            "padding": null,
            "grid_auto_rows": null,
            "grid_gap": null,
            "max_width": null,
            "order": null,
            "_view_module_version": "1.2.0",
            "grid_template_areas": null,
            "object_position": null,
            "object_fit": null,
            "grid_auto_columns": null,
            "margin": null,
            "display": null,
            "left": null
          }
        },
        "747d1041cc574a34b2344bec990af683": {
          "model_module": "@jupyter-widgets/controls",
          "model_name": "HTMLModel",
          "model_module_version": "1.5.0",
          "state": {
            "_view_name": "HTMLView",
            "style": "IPY_MODEL_c4f0a3692ea642778036cdcd3f692c29",
            "_dom_classes": [],
            "description": "",
            "_model_name": "HTMLModel",
            "placeholder": "​",
            "_view_module": "@jupyter-widgets/controls",
            "_model_module_version": "1.5.0",
            "value": "100%",
            "_view_count": null,
            "_view_module_version": "1.5.0",
            "description_tooltip": null,
            "_model_module": "@jupyter-widgets/controls",
            "layout": "IPY_MODEL_2da985e55d1e4104a2e6b9a925844bcb"
          }
        },
        "7a980f9ef52b49bf90442a1a65fe8812": {
          "model_module": "@jupyter-widgets/controls",
          "model_name": "FloatProgressModel",
          "model_module_version": "1.5.0",
          "state": {
            "_view_name": "ProgressView",
            "style": "IPY_MODEL_6f9ee42e56d34befa89c81da558eacff",
            "_dom_classes": [],
            "description": "",
            "_model_name": "FloatProgressModel",
            "bar_style": "success",
            "max": 4620,
            "_view_module": "@jupyter-widgets/controls",
            "_model_module_version": "1.5.0",
            "value": 4620,
            "_view_count": null,
            "_view_module_version": "1.5.0",
            "orientation": "horizontal",
            "min": 0,
            "description_tooltip": null,
            "_model_module": "@jupyter-widgets/controls",
            "layout": "IPY_MODEL_cbcb373d7e6f4d1c85b074393f3dc894"
          }
        },
        "556ee239b7b84840b0a671f0e916aabb": {
          "model_module": "@jupyter-widgets/controls",
          "model_name": "HTMLModel",
          "model_module_version": "1.5.0",
          "state": {
            "_view_name": "HTMLView",
            "style": "IPY_MODEL_8e9c66a8d39c496ebc2bbcdd9d503c06",
            "_dom_classes": [],
            "description": "",
            "_model_name": "HTMLModel",
            "placeholder": "​",
            "_view_module": "@jupyter-widgets/controls",
            "_model_module_version": "1.5.0",
            "value": " 4620/4620 [00:00&lt;00:00, 11723.94ex/s]",
            "_view_count": null,
            "_view_module_version": "1.5.0",
            "description_tooltip": null,
            "_model_module": "@jupyter-widgets/controls",
            "layout": "IPY_MODEL_91799fffd87345bda9a2bef79b220ae3"
          }
        },
        "c4f0a3692ea642778036cdcd3f692c29": {
          "model_module": "@jupyter-widgets/controls",
          "model_name": "DescriptionStyleModel",
          "model_module_version": "1.5.0",
          "state": {
            "_view_name": "StyleView",
            "_model_name": "DescriptionStyleModel",
            "description_width": "",
            "_view_module": "@jupyter-widgets/base",
            "_model_module_version": "1.5.0",
            "_view_count": null,
            "_view_module_version": "1.2.0",
            "_model_module": "@jupyter-widgets/controls"
          }
        },
        "2da985e55d1e4104a2e6b9a925844bcb": {
          "model_module": "@jupyter-widgets/base",
          "model_name": "LayoutModel",
          "model_module_version": "1.2.0",
          "state": {
            "_view_name": "LayoutView",
            "grid_template_rows": null,
            "right": null,
            "justify_content": null,
            "_view_module": "@jupyter-widgets/base",
            "overflow": null,
            "_model_module_version": "1.2.0",
            "_view_count": null,
            "flex_flow": null,
            "width": null,
            "min_width": null,
            "border": null,
            "align_items": null,
            "bottom": null,
            "_model_module": "@jupyter-widgets/base",
            "top": null,
            "grid_column": null,
            "overflow_y": null,
            "overflow_x": null,
            "grid_auto_flow": null,
            "grid_area": null,
            "grid_template_columns": null,
            "flex": null,
            "_model_name": "LayoutModel",
            "justify_items": null,
            "grid_row": null,
            "max_height": null,
            "align_content": null,
            "visibility": null,
            "align_self": null,
            "height": null,
            "min_height": null,
            "padding": null,
            "grid_auto_rows": null,
            "grid_gap": null,
            "max_width": null,
            "order": null,
            "_view_module_version": "1.2.0",
            "grid_template_areas": null,
            "object_position": null,
            "object_fit": null,
            "grid_auto_columns": null,
            "margin": null,
            "display": null,
            "left": null
          }
        },
        "6f9ee42e56d34befa89c81da558eacff": {
          "model_module": "@jupyter-widgets/controls",
          "model_name": "ProgressStyleModel",
          "model_module_version": "1.5.0",
          "state": {
            "_view_name": "StyleView",
            "_model_name": "ProgressStyleModel",
            "description_width": "",
            "_view_module": "@jupyter-widgets/base",
            "_model_module_version": "1.5.0",
            "_view_count": null,
            "_view_module_version": "1.2.0",
            "bar_color": null,
            "_model_module": "@jupyter-widgets/controls"
          }
        },
        "cbcb373d7e6f4d1c85b074393f3dc894": {
          "model_module": "@jupyter-widgets/base",
          "model_name": "LayoutModel",
          "model_module_version": "1.2.0",
          "state": {
            "_view_name": "LayoutView",
            "grid_template_rows": null,
            "right": null,
            "justify_content": null,
            "_view_module": "@jupyter-widgets/base",
            "overflow": null,
            "_model_module_version": "1.2.0",
            "_view_count": null,
            "flex_flow": null,
            "width": null,
            "min_width": null,
            "border": null,
            "align_items": null,
            "bottom": null,
            "_model_module": "@jupyter-widgets/base",
            "top": null,
            "grid_column": null,
            "overflow_y": null,
            "overflow_x": null,
            "grid_auto_flow": null,
            "grid_area": null,
            "grid_template_columns": null,
            "flex": null,
            "_model_name": "LayoutModel",
            "justify_items": null,
            "grid_row": null,
            "max_height": null,
            "align_content": null,
            "visibility": null,
            "align_self": null,
            "height": null,
            "min_height": null,
            "padding": null,
            "grid_auto_rows": null,
            "grid_gap": null,
            "max_width": null,
            "order": null,
            "_view_module_version": "1.2.0",
            "grid_template_areas": null,
            "object_position": null,
            "object_fit": null,
            "grid_auto_columns": null,
            "margin": null,
            "display": null,
            "left": null
          }
        },
        "8e9c66a8d39c496ebc2bbcdd9d503c06": {
          "model_module": "@jupyter-widgets/controls",
          "model_name": "DescriptionStyleModel",
          "model_module_version": "1.5.0",
          "state": {
            "_view_name": "StyleView",
            "_model_name": "DescriptionStyleModel",
            "description_width": "",
            "_view_module": "@jupyter-widgets/base",
            "_model_module_version": "1.5.0",
            "_view_count": null,
            "_view_module_version": "1.2.0",
            "_model_module": "@jupyter-widgets/controls"
          }
        },
        "91799fffd87345bda9a2bef79b220ae3": {
          "model_module": "@jupyter-widgets/base",
          "model_name": "LayoutModel",
          "model_module_version": "1.2.0",
          "state": {
            "_view_name": "LayoutView",
            "grid_template_rows": null,
            "right": null,
            "justify_content": null,
            "_view_module": "@jupyter-widgets/base",
            "overflow": null,
            "_model_module_version": "1.2.0",
            "_view_count": null,
            "flex_flow": null,
            "width": null,
            "min_width": null,
            "border": null,
            "align_items": null,
            "bottom": null,
            "_model_module": "@jupyter-widgets/base",
            "top": null,
            "grid_column": null,
            "overflow_y": null,
            "overflow_x": null,
            "grid_auto_flow": null,
            "grid_area": null,
            "grid_template_columns": null,
            "flex": null,
            "_model_name": "LayoutModel",
            "justify_items": null,
            "grid_row": null,
            "max_height": null,
            "align_content": null,
            "visibility": null,
            "align_self": null,
            "height": null,
            "min_height": null,
            "padding": null,
            "grid_auto_rows": null,
            "grid_gap": null,
            "max_width": null,
            "order": null,
            "_view_module_version": "1.2.0",
            "grid_template_areas": null,
            "object_position": null,
            "object_fit": null,
            "grid_auto_columns": null,
            "margin": null,
            "display": null,
            "left": null
          }
        },
        "4a8cc8b93b4949baada9c9969898edf3": {
          "model_module": "@jupyter-widgets/controls",
          "model_name": "HBoxModel",
          "model_module_version": "1.5.0",
          "state": {
            "_view_name": "HBoxView",
            "_dom_classes": [],
            "_model_name": "HBoxModel",
            "_view_module": "@jupyter-widgets/controls",
            "_model_module_version": "1.5.0",
            "_view_count": null,
            "_view_module_version": "1.5.0",
            "box_style": "",
            "layout": "IPY_MODEL_00d298f2addf4465b51739984ea32014",
            "_model_module": "@jupyter-widgets/controls",
            "children": [
              "IPY_MODEL_a79c8a44decd486eaf7c77a550d71bd7",
              "IPY_MODEL_5ea6317d87cc4acbbbd9c8969d159507",
              "IPY_MODEL_2e828b0f47104cd0a1b7160f87527c0a"
            ]
          }
        },
        "00d298f2addf4465b51739984ea32014": {
          "model_module": "@jupyter-widgets/base",
          "model_name": "LayoutModel",
          "model_module_version": "1.2.0",
          "state": {
            "_view_name": "LayoutView",
            "grid_template_rows": null,
            "right": null,
            "justify_content": null,
            "_view_module": "@jupyter-widgets/base",
            "overflow": null,
            "_model_module_version": "1.2.0",
            "_view_count": null,
            "flex_flow": null,
            "width": null,
            "min_width": null,
            "border": null,
            "align_items": null,
            "bottom": null,
            "_model_module": "@jupyter-widgets/base",
            "top": null,
            "grid_column": null,
            "overflow_y": null,
            "overflow_x": null,
            "grid_auto_flow": null,
            "grid_area": null,
            "grid_template_columns": null,
            "flex": null,
            "_model_name": "LayoutModel",
            "justify_items": null,
            "grid_row": null,
            "max_height": null,
            "align_content": null,
            "visibility": null,
            "align_self": null,
            "height": null,
            "min_height": null,
            "padding": null,
            "grid_auto_rows": null,
            "grid_gap": null,
            "max_width": null,
            "order": null,
            "_view_module_version": "1.2.0",
            "grid_template_areas": null,
            "object_position": null,
            "object_fit": null,
            "grid_auto_columns": null,
            "margin": null,
            "display": null,
            "left": null
          }
        },
        "a79c8a44decd486eaf7c77a550d71bd7": {
          "model_module": "@jupyter-widgets/controls",
          "model_name": "HTMLModel",
          "model_module_version": "1.5.0",
          "state": {
            "_view_name": "HTMLView",
            "style": "IPY_MODEL_e0d3ac39500e44989cfe453370620091",
            "_dom_classes": [],
            "description": "",
            "_model_name": "HTMLModel",
            "placeholder": "​",
            "_view_module": "@jupyter-widgets/controls",
            "_model_module_version": "1.5.0",
            "value": "100%",
            "_view_count": null,
            "_view_module_version": "1.5.0",
            "description_tooltip": null,
            "_model_module": "@jupyter-widgets/controls",
            "layout": "IPY_MODEL_d5640ea3a605454f9f2529958f4e44c1"
          }
        },
        "5ea6317d87cc4acbbbd9c8969d159507": {
          "model_module": "@jupyter-widgets/controls",
          "model_name": "FloatProgressModel",
          "model_module_version": "1.5.0",
          "state": {
            "_view_name": "ProgressView",
            "style": "IPY_MODEL_e54016e5cd764b85a7104c0d819dfed1",
            "_dom_classes": [],
            "description": "",
            "_model_name": "FloatProgressModel",
            "bar_style": "success",
            "max": 1680,
            "_view_module": "@jupyter-widgets/controls",
            "_model_module_version": "1.5.0",
            "value": 1680,
            "_view_count": null,
            "_view_module_version": "1.5.0",
            "orientation": "horizontal",
            "min": 0,
            "description_tooltip": null,
            "_model_module": "@jupyter-widgets/controls",
            "layout": "IPY_MODEL_061278b68b954ccc96c02c02ab45cc3d"
          }
        },
        "2e828b0f47104cd0a1b7160f87527c0a": {
          "model_module": "@jupyter-widgets/controls",
          "model_name": "HTMLModel",
          "model_module_version": "1.5.0",
          "state": {
            "_view_name": "HTMLView",
            "style": "IPY_MODEL_094fdb7d4cf04c519931ec296dcfff0f",
            "_dom_classes": [],
            "description": "",
            "_model_name": "HTMLModel",
            "placeholder": "​",
            "_view_module": "@jupyter-widgets/controls",
            "_model_module_version": "1.5.0",
            "value": " 1680/1680 [00:00&lt;00:00, 9998.85ex/s]",
            "_view_count": null,
            "_view_module_version": "1.5.0",
            "description_tooltip": null,
            "_model_module": "@jupyter-widgets/controls",
            "layout": "IPY_MODEL_2870c3784c90482daf37abb780ad5a84"
          }
        },
        "e0d3ac39500e44989cfe453370620091": {
          "model_module": "@jupyter-widgets/controls",
          "model_name": "DescriptionStyleModel",
          "model_module_version": "1.5.0",
          "state": {
            "_view_name": "StyleView",
            "_model_name": "DescriptionStyleModel",
            "description_width": "",
            "_view_module": "@jupyter-widgets/base",
            "_model_module_version": "1.5.0",
            "_view_count": null,
            "_view_module_version": "1.2.0",
            "_model_module": "@jupyter-widgets/controls"
          }
        },
        "d5640ea3a605454f9f2529958f4e44c1": {
          "model_module": "@jupyter-widgets/base",
          "model_name": "LayoutModel",
          "model_module_version": "1.2.0",
          "state": {
            "_view_name": "LayoutView",
            "grid_template_rows": null,
            "right": null,
            "justify_content": null,
            "_view_module": "@jupyter-widgets/base",
            "overflow": null,
            "_model_module_version": "1.2.0",
            "_view_count": null,
            "flex_flow": null,
            "width": null,
            "min_width": null,
            "border": null,
            "align_items": null,
            "bottom": null,
            "_model_module": "@jupyter-widgets/base",
            "top": null,
            "grid_column": null,
            "overflow_y": null,
            "overflow_x": null,
            "grid_auto_flow": null,
            "grid_area": null,
            "grid_template_columns": null,
            "flex": null,
            "_model_name": "LayoutModel",
            "justify_items": null,
            "grid_row": null,
            "max_height": null,
            "align_content": null,
            "visibility": null,
            "align_self": null,
            "height": null,
            "min_height": null,
            "padding": null,
            "grid_auto_rows": null,
            "grid_gap": null,
            "max_width": null,
            "order": null,
            "_view_module_version": "1.2.0",
            "grid_template_areas": null,
            "object_position": null,
            "object_fit": null,
            "grid_auto_columns": null,
            "margin": null,
            "display": null,
            "left": null
          }
        },
        "e54016e5cd764b85a7104c0d819dfed1": {
          "model_module": "@jupyter-widgets/controls",
          "model_name": "ProgressStyleModel",
          "model_module_version": "1.5.0",
          "state": {
            "_view_name": "StyleView",
            "_model_name": "ProgressStyleModel",
            "description_width": "",
            "_view_module": "@jupyter-widgets/base",
            "_model_module_version": "1.5.0",
            "_view_count": null,
            "_view_module_version": "1.2.0",
            "bar_color": null,
            "_model_module": "@jupyter-widgets/controls"
          }
        },
        "061278b68b954ccc96c02c02ab45cc3d": {
          "model_module": "@jupyter-widgets/base",
          "model_name": "LayoutModel",
          "model_module_version": "1.2.0",
          "state": {
            "_view_name": "LayoutView",
            "grid_template_rows": null,
            "right": null,
            "justify_content": null,
            "_view_module": "@jupyter-widgets/base",
            "overflow": null,
            "_model_module_version": "1.2.0",
            "_view_count": null,
            "flex_flow": null,
            "width": null,
            "min_width": null,
            "border": null,
            "align_items": null,
            "bottom": null,
            "_model_module": "@jupyter-widgets/base",
            "top": null,
            "grid_column": null,
            "overflow_y": null,
            "overflow_x": null,
            "grid_auto_flow": null,
            "grid_area": null,
            "grid_template_columns": null,
            "flex": null,
            "_model_name": "LayoutModel",
            "justify_items": null,
            "grid_row": null,
            "max_height": null,
            "align_content": null,
            "visibility": null,
            "align_self": null,
            "height": null,
            "min_height": null,
            "padding": null,
            "grid_auto_rows": null,
            "grid_gap": null,
            "max_width": null,
            "order": null,
            "_view_module_version": "1.2.0",
            "grid_template_areas": null,
            "object_position": null,
            "object_fit": null,
            "grid_auto_columns": null,
            "margin": null,
            "display": null,
            "left": null
          }
        },
        "094fdb7d4cf04c519931ec296dcfff0f": {
          "model_module": "@jupyter-widgets/controls",
          "model_name": "DescriptionStyleModel",
          "model_module_version": "1.5.0",
          "state": {
            "_view_name": "StyleView",
            "_model_name": "DescriptionStyleModel",
            "description_width": "",
            "_view_module": "@jupyter-widgets/base",
            "_model_module_version": "1.5.0",
            "_view_count": null,
            "_view_module_version": "1.2.0",
            "_model_module": "@jupyter-widgets/controls"
          }
        },
        "2870c3784c90482daf37abb780ad5a84": {
          "model_module": "@jupyter-widgets/base",
          "model_name": "LayoutModel",
          "model_module_version": "1.2.0",
          "state": {
            "_view_name": "LayoutView",
            "grid_template_rows": null,
            "right": null,
            "justify_content": null,
            "_view_module": "@jupyter-widgets/base",
            "overflow": null,
            "_model_module_version": "1.2.0",
            "_view_count": null,
            "flex_flow": null,
            "width": null,
            "min_width": null,
            "border": null,
            "align_items": null,
            "bottom": null,
            "_model_module": "@jupyter-widgets/base",
            "top": null,
            "grid_column": null,
            "overflow_y": null,
            "overflow_x": null,
            "grid_auto_flow": null,
            "grid_area": null,
            "grid_template_columns": null,
            "flex": null,
            "_model_name": "LayoutModel",
            "justify_items": null,
            "grid_row": null,
            "max_height": null,
            "align_content": null,
            "visibility": null,
            "align_self": null,
            "height": null,
            "min_height": null,
            "padding": null,
            "grid_auto_rows": null,
            "grid_gap": null,
            "max_width": null,
            "order": null,
            "_view_module_version": "1.2.0",
            "grid_template_areas": null,
            "object_position": null,
            "object_fit": null,
            "grid_auto_columns": null,
            "margin": null,
            "display": null,
            "left": null
          }
        },
        "ea484dce335b4359b8e86e0c1e64b018": {
          "model_module": "@jupyter-widgets/controls",
          "model_name": "HBoxModel",
          "model_module_version": "1.5.0",
          "state": {
            "_view_name": "HBoxView",
            "_dom_classes": [],
            "_model_name": "HBoxModel",
            "_view_module": "@jupyter-widgets/controls",
            "_model_module_version": "1.5.0",
            "_view_count": null,
            "_view_module_version": "1.5.0",
            "box_style": "",
            "layout": "IPY_MODEL_d25155a8ce194998a137a69fae83180f",
            "_model_module": "@jupyter-widgets/controls",
            "children": [
              "IPY_MODEL_0f00784e39fe425fb230bd66db9558c7",
              "IPY_MODEL_2c574a3dec0d4c2ea9d1f40396a71034",
              "IPY_MODEL_193e042e3e984b078d9721dceb1afdee"
            ]
          }
        },
        "d25155a8ce194998a137a69fae83180f": {
          "model_module": "@jupyter-widgets/base",
          "model_name": "LayoutModel",
          "model_module_version": "1.2.0",
          "state": {
            "_view_name": "LayoutView",
            "grid_template_rows": null,
            "right": null,
            "justify_content": null,
            "_view_module": "@jupyter-widgets/base",
            "overflow": null,
            "_model_module_version": "1.2.0",
            "_view_count": null,
            "flex_flow": null,
            "width": null,
            "min_width": null,
            "border": null,
            "align_items": null,
            "bottom": null,
            "_model_module": "@jupyter-widgets/base",
            "top": null,
            "grid_column": null,
            "overflow_y": null,
            "overflow_x": null,
            "grid_auto_flow": null,
            "grid_area": null,
            "grid_template_columns": null,
            "flex": null,
            "_model_name": "LayoutModel",
            "justify_items": null,
            "grid_row": null,
            "max_height": null,
            "align_content": null,
            "visibility": null,
            "align_self": null,
            "height": null,
            "min_height": null,
            "padding": null,
            "grid_auto_rows": null,
            "grid_gap": null,
            "max_width": null,
            "order": null,
            "_view_module_version": "1.2.0",
            "grid_template_areas": null,
            "object_position": null,
            "object_fit": null,
            "grid_auto_columns": null,
            "margin": null,
            "display": null,
            "left": null
          }
        },
        "0f00784e39fe425fb230bd66db9558c7": {
          "model_module": "@jupyter-widgets/controls",
          "model_name": "HTMLModel",
          "model_module_version": "1.5.0",
          "state": {
            "_view_name": "HTMLView",
            "style": "IPY_MODEL_418128137cec47f3b1342fa2fcdb2b9f",
            "_dom_classes": [],
            "description": "",
            "_model_name": "HTMLModel",
            "placeholder": "​",
            "_view_module": "@jupyter-widgets/controls",
            "_model_module_version": "1.5.0",
            "value": "100%",
            "_view_count": null,
            "_view_module_version": "1.5.0",
            "description_tooltip": null,
            "_model_module": "@jupyter-widgets/controls",
            "layout": "IPY_MODEL_8456b8ef688846829b30abb5cf7ae62e"
          }
        },
        "2c574a3dec0d4c2ea9d1f40396a71034": {
          "model_module": "@jupyter-widgets/controls",
          "model_name": "FloatProgressModel",
          "model_module_version": "1.5.0",
          "state": {
            "_view_name": "ProgressView",
            "style": "IPY_MODEL_80f219fb18da4f45bbff0b998d00a856",
            "_dom_classes": [],
            "description": "",
            "_model_name": "FloatProgressModel",
            "bar_style": "success",
            "max": 1,
            "_view_module": "@jupyter-widgets/controls",
            "_model_module_version": "1.5.0",
            "value": 1,
            "_view_count": null,
            "_view_module_version": "1.5.0",
            "orientation": "horizontal",
            "min": 0,
            "description_tooltip": null,
            "_model_module": "@jupyter-widgets/controls",
            "layout": "IPY_MODEL_4d7587b70b3b4e5ca58f62ac2dac002a"
          }
        },
        "193e042e3e984b078d9721dceb1afdee": {
          "model_module": "@jupyter-widgets/controls",
          "model_name": "HTMLModel",
          "model_module_version": "1.5.0",
          "state": {
            "_view_name": "HTMLView",
            "style": "IPY_MODEL_24cdf268536845538e4d057c74ede693",
            "_dom_classes": [],
            "description": "",
            "_model_name": "HTMLModel",
            "placeholder": "​",
            "_view_module": "@jupyter-widgets/controls",
            "_model_module_version": "1.5.0",
            "value": " 1/1 [00:00&lt;00:00, 17.36ba/s]",
            "_view_count": null,
            "_view_module_version": "1.5.0",
            "description_tooltip": null,
            "_model_module": "@jupyter-widgets/controls",
            "layout": "IPY_MODEL_6d92deecb26f41b1993997fbaf5b9cde"
          }
        },
        "418128137cec47f3b1342fa2fcdb2b9f": {
          "model_module": "@jupyter-widgets/controls",
          "model_name": "DescriptionStyleModel",
          "model_module_version": "1.5.0",
          "state": {
            "_view_name": "StyleView",
            "_model_name": "DescriptionStyleModel",
            "description_width": "",
            "_view_module": "@jupyter-widgets/base",
            "_model_module_version": "1.5.0",
            "_view_count": null,
            "_view_module_version": "1.2.0",
            "_model_module": "@jupyter-widgets/controls"
          }
        },
        "8456b8ef688846829b30abb5cf7ae62e": {
          "model_module": "@jupyter-widgets/base",
          "model_name": "LayoutModel",
          "model_module_version": "1.2.0",
          "state": {
            "_view_name": "LayoutView",
            "grid_template_rows": null,
            "right": null,
            "justify_content": null,
            "_view_module": "@jupyter-widgets/base",
            "overflow": null,
            "_model_module_version": "1.2.0",
            "_view_count": null,
            "flex_flow": null,
            "width": null,
            "min_width": null,
            "border": null,
            "align_items": null,
            "bottom": null,
            "_model_module": "@jupyter-widgets/base",
            "top": null,
            "grid_column": null,
            "overflow_y": null,
            "overflow_x": null,
            "grid_auto_flow": null,
            "grid_area": null,
            "grid_template_columns": null,
            "flex": null,
            "_model_name": "LayoutModel",
            "justify_items": null,
            "grid_row": null,
            "max_height": null,
            "align_content": null,
            "visibility": null,
            "align_self": null,
            "height": null,
            "min_height": null,
            "padding": null,
            "grid_auto_rows": null,
            "grid_gap": null,
            "max_width": null,
            "order": null,
            "_view_module_version": "1.2.0",
            "grid_template_areas": null,
            "object_position": null,
            "object_fit": null,
            "grid_auto_columns": null,
            "margin": null,
            "display": null,
            "left": null
          }
        },
        "80f219fb18da4f45bbff0b998d00a856": {
          "model_module": "@jupyter-widgets/controls",
          "model_name": "ProgressStyleModel",
          "model_module_version": "1.5.0",
          "state": {
            "_view_name": "StyleView",
            "_model_name": "ProgressStyleModel",
            "description_width": "",
            "_view_module": "@jupyter-widgets/base",
            "_model_module_version": "1.5.0",
            "_view_count": null,
            "_view_module_version": "1.2.0",
            "bar_color": null,
            "_model_module": "@jupyter-widgets/controls"
          }
        },
        "4d7587b70b3b4e5ca58f62ac2dac002a": {
          "model_module": "@jupyter-widgets/base",
          "model_name": "LayoutModel",
          "model_module_version": "1.2.0",
          "state": {
            "_view_name": "LayoutView",
            "grid_template_rows": null,
            "right": null,
            "justify_content": null,
            "_view_module": "@jupyter-widgets/base",
            "overflow": null,
            "_model_module_version": "1.2.0",
            "_view_count": null,
            "flex_flow": null,
            "width": null,
            "min_width": null,
            "border": null,
            "align_items": null,
            "bottom": null,
            "_model_module": "@jupyter-widgets/base",
            "top": null,
            "grid_column": null,
            "overflow_y": null,
            "overflow_x": null,
            "grid_auto_flow": null,
            "grid_area": null,
            "grid_template_columns": null,
            "flex": null,
            "_model_name": "LayoutModel",
            "justify_items": null,
            "grid_row": null,
            "max_height": null,
            "align_content": null,
            "visibility": null,
            "align_self": null,
            "height": null,
            "min_height": null,
            "padding": null,
            "grid_auto_rows": null,
            "grid_gap": null,
            "max_width": null,
            "order": null,
            "_view_module_version": "1.2.0",
            "grid_template_areas": null,
            "object_position": null,
            "object_fit": null,
            "grid_auto_columns": null,
            "margin": null,
            "display": null,
            "left": null
          }
        },
        "24cdf268536845538e4d057c74ede693": {
          "model_module": "@jupyter-widgets/controls",
          "model_name": "DescriptionStyleModel",
          "model_module_version": "1.5.0",
          "state": {
            "_view_name": "StyleView",
            "_model_name": "DescriptionStyleModel",
            "description_width": "",
            "_view_module": "@jupyter-widgets/base",
            "_model_module_version": "1.5.0",
            "_view_count": null,
            "_view_module_version": "1.2.0",
            "_model_module": "@jupyter-widgets/controls"
          }
        },
        "6d92deecb26f41b1993997fbaf5b9cde": {
          "model_module": "@jupyter-widgets/base",
          "model_name": "LayoutModel",
          "model_module_version": "1.2.0",
          "state": {
            "_view_name": "LayoutView",
            "grid_template_rows": null,
            "right": null,
            "justify_content": null,
            "_view_module": "@jupyter-widgets/base",
            "overflow": null,
            "_model_module_version": "1.2.0",
            "_view_count": null,
            "flex_flow": null,
            "width": null,
            "min_width": null,
            "border": null,
            "align_items": null,
            "bottom": null,
            "_model_module": "@jupyter-widgets/base",
            "top": null,
            "grid_column": null,
            "overflow_y": null,
            "overflow_x": null,
            "grid_auto_flow": null,
            "grid_area": null,
            "grid_template_columns": null,
            "flex": null,
            "_model_name": "LayoutModel",
            "justify_items": null,
            "grid_row": null,
            "max_height": null,
            "align_content": null,
            "visibility": null,
            "align_self": null,
            "height": null,
            "min_height": null,
            "padding": null,
            "grid_auto_rows": null,
            "grid_gap": null,
            "max_width": null,
            "order": null,
            "_view_module_version": "1.2.0",
            "grid_template_areas": null,
            "object_position": null,
            "object_fit": null,
            "grid_auto_columns": null,
            "margin": null,
            "display": null,
            "left": null
          }
        },
        "8f150c5d6a764450948638f01af4e5ea": {
          "model_module": "@jupyter-widgets/controls",
          "model_name": "HBoxModel",
          "model_module_version": "1.5.0",
          "state": {
            "_view_name": "HBoxView",
            "_dom_classes": [],
            "_model_name": "HBoxModel",
            "_view_module": "@jupyter-widgets/controls",
            "_model_module_version": "1.5.0",
            "_view_count": null,
            "_view_module_version": "1.5.0",
            "box_style": "",
            "layout": "IPY_MODEL_587b7d8c13034f0e952bc2bcfb518dbd",
            "_model_module": "@jupyter-widgets/controls",
            "children": [
              "IPY_MODEL_f9093caedd4f45a6935747166120bb78",
              "IPY_MODEL_20557f71f2004089b7ecdc105361f06f",
              "IPY_MODEL_57e687d9893a46c1bc06feca67ad438f"
            ]
          }
        },
        "587b7d8c13034f0e952bc2bcfb518dbd": {
          "model_module": "@jupyter-widgets/base",
          "model_name": "LayoutModel",
          "model_module_version": "1.2.0",
          "state": {
            "_view_name": "LayoutView",
            "grid_template_rows": null,
            "right": null,
            "justify_content": null,
            "_view_module": "@jupyter-widgets/base",
            "overflow": null,
            "_model_module_version": "1.2.0",
            "_view_count": null,
            "flex_flow": null,
            "width": null,
            "min_width": null,
            "border": null,
            "align_items": null,
            "bottom": null,
            "_model_module": "@jupyter-widgets/base",
            "top": null,
            "grid_column": null,
            "overflow_y": null,
            "overflow_x": null,
            "grid_auto_flow": null,
            "grid_area": null,
            "grid_template_columns": null,
            "flex": null,
            "_model_name": "LayoutModel",
            "justify_items": null,
            "grid_row": null,
            "max_height": null,
            "align_content": null,
            "visibility": null,
            "align_self": null,
            "height": null,
            "min_height": null,
            "padding": null,
            "grid_auto_rows": null,
            "grid_gap": null,
            "max_width": null,
            "order": null,
            "_view_module_version": "1.2.0",
            "grid_template_areas": null,
            "object_position": null,
            "object_fit": null,
            "grid_auto_columns": null,
            "margin": null,
            "display": null,
            "left": null
          }
        },
        "f9093caedd4f45a6935747166120bb78": {
          "model_module": "@jupyter-widgets/controls",
          "model_name": "HTMLModel",
          "model_module_version": "1.5.0",
          "state": {
            "_view_name": "HTMLView",
            "style": "IPY_MODEL_13310ceccb9c448995db535049d077be",
            "_dom_classes": [],
            "description": "",
            "_model_name": "HTMLModel",
            "placeholder": "​",
            "_view_module": "@jupyter-widgets/controls",
            "_model_module_version": "1.5.0",
            "value": "100%",
            "_view_count": null,
            "_view_module_version": "1.5.0",
            "description_tooltip": null,
            "_model_module": "@jupyter-widgets/controls",
            "layout": "IPY_MODEL_492eb471a75749b0953d91d8fc9651e8"
          }
        },
        "20557f71f2004089b7ecdc105361f06f": {
          "model_module": "@jupyter-widgets/controls",
          "model_name": "FloatProgressModel",
          "model_module_version": "1.5.0",
          "state": {
            "_view_name": "ProgressView",
            "style": "IPY_MODEL_3e92f2d775114d7fa840781270c2fa4a",
            "_dom_classes": [],
            "description": "",
            "_model_name": "FloatProgressModel",
            "bar_style": "success",
            "max": 1,
            "_view_module": "@jupyter-widgets/controls",
            "_model_module_version": "1.5.0",
            "value": 1,
            "_view_count": null,
            "_view_module_version": "1.5.0",
            "orientation": "horizontal",
            "min": 0,
            "description_tooltip": null,
            "_model_module": "@jupyter-widgets/controls",
            "layout": "IPY_MODEL_66e9097ef75e4bb6ad4b51f0d3b2ec9b"
          }
        },
        "57e687d9893a46c1bc06feca67ad438f": {
          "model_module": "@jupyter-widgets/controls",
          "model_name": "HTMLModel",
          "model_module_version": "1.5.0",
          "state": {
            "_view_name": "HTMLView",
            "style": "IPY_MODEL_f9b97a7ccc6444ae93e56f44aa24df4e",
            "_dom_classes": [],
            "description": "",
            "_model_name": "HTMLModel",
            "placeholder": "​",
            "_view_module": "@jupyter-widgets/controls",
            "_model_module_version": "1.5.0",
            "value": " 1/1 [00:00&lt;00:00, 20.83ba/s]",
            "_view_count": null,
            "_view_module_version": "1.5.0",
            "description_tooltip": null,
            "_model_module": "@jupyter-widgets/controls",
            "layout": "IPY_MODEL_29a57aa062144e9aa16ea6b3a0b387a0"
          }
        },
        "13310ceccb9c448995db535049d077be": {
          "model_module": "@jupyter-widgets/controls",
          "model_name": "DescriptionStyleModel",
          "model_module_version": "1.5.0",
          "state": {
            "_view_name": "StyleView",
            "_model_name": "DescriptionStyleModel",
            "description_width": "",
            "_view_module": "@jupyter-widgets/base",
            "_model_module_version": "1.5.0",
            "_view_count": null,
            "_view_module_version": "1.2.0",
            "_model_module": "@jupyter-widgets/controls"
          }
        },
        "492eb471a75749b0953d91d8fc9651e8": {
          "model_module": "@jupyter-widgets/base",
          "model_name": "LayoutModel",
          "model_module_version": "1.2.0",
          "state": {
            "_view_name": "LayoutView",
            "grid_template_rows": null,
            "right": null,
            "justify_content": null,
            "_view_module": "@jupyter-widgets/base",
            "overflow": null,
            "_model_module_version": "1.2.0",
            "_view_count": null,
            "flex_flow": null,
            "width": null,
            "min_width": null,
            "border": null,
            "align_items": null,
            "bottom": null,
            "_model_module": "@jupyter-widgets/base",
            "top": null,
            "grid_column": null,
            "overflow_y": null,
            "overflow_x": null,
            "grid_auto_flow": null,
            "grid_area": null,
            "grid_template_columns": null,
            "flex": null,
            "_model_name": "LayoutModel",
            "justify_items": null,
            "grid_row": null,
            "max_height": null,
            "align_content": null,
            "visibility": null,
            "align_self": null,
            "height": null,
            "min_height": null,
            "padding": null,
            "grid_auto_rows": null,
            "grid_gap": null,
            "max_width": null,
            "order": null,
            "_view_module_version": "1.2.0",
            "grid_template_areas": null,
            "object_position": null,
            "object_fit": null,
            "grid_auto_columns": null,
            "margin": null,
            "display": null,
            "left": null
          }
        },
        "3e92f2d775114d7fa840781270c2fa4a": {
          "model_module": "@jupyter-widgets/controls",
          "model_name": "ProgressStyleModel",
          "model_module_version": "1.5.0",
          "state": {
            "_view_name": "StyleView",
            "_model_name": "ProgressStyleModel",
            "description_width": "",
            "_view_module": "@jupyter-widgets/base",
            "_model_module_version": "1.5.0",
            "_view_count": null,
            "_view_module_version": "1.2.0",
            "bar_color": null,
            "_model_module": "@jupyter-widgets/controls"
          }
        },
        "66e9097ef75e4bb6ad4b51f0d3b2ec9b": {
          "model_module": "@jupyter-widgets/base",
          "model_name": "LayoutModel",
          "model_module_version": "1.2.0",
          "state": {
            "_view_name": "LayoutView",
            "grid_template_rows": null,
            "right": null,
            "justify_content": null,
            "_view_module": "@jupyter-widgets/base",
            "overflow": null,
            "_model_module_version": "1.2.0",
            "_view_count": null,
            "flex_flow": null,
            "width": null,
            "min_width": null,
            "border": null,
            "align_items": null,
            "bottom": null,
            "_model_module": "@jupyter-widgets/base",
            "top": null,
            "grid_column": null,
            "overflow_y": null,
            "overflow_x": null,
            "grid_auto_flow": null,
            "grid_area": null,
            "grid_template_columns": null,
            "flex": null,
            "_model_name": "LayoutModel",
            "justify_items": null,
            "grid_row": null,
            "max_height": null,
            "align_content": null,
            "visibility": null,
            "align_self": null,
            "height": null,
            "min_height": null,
            "padding": null,
            "grid_auto_rows": null,
            "grid_gap": null,
            "max_width": null,
            "order": null,
            "_view_module_version": "1.2.0",
            "grid_template_areas": null,
            "object_position": null,
            "object_fit": null,
            "grid_auto_columns": null,
            "margin": null,
            "display": null,
            "left": null
          }
        },
        "f9b97a7ccc6444ae93e56f44aa24df4e": {
          "model_module": "@jupyter-widgets/controls",
          "model_name": "DescriptionStyleModel",
          "model_module_version": "1.5.0",
          "state": {
            "_view_name": "StyleView",
            "_model_name": "DescriptionStyleModel",
            "description_width": "",
            "_view_module": "@jupyter-widgets/base",
            "_model_module_version": "1.5.0",
            "_view_count": null,
            "_view_module_version": "1.2.0",
            "_model_module": "@jupyter-widgets/controls"
          }
        },
        "29a57aa062144e9aa16ea6b3a0b387a0": {
          "model_module": "@jupyter-widgets/base",
          "model_name": "LayoutModel",
          "model_module_version": "1.2.0",
          "state": {
            "_view_name": "LayoutView",
            "grid_template_rows": null,
            "right": null,
            "justify_content": null,
            "_view_module": "@jupyter-widgets/base",
            "overflow": null,
            "_model_module_version": "1.2.0",
            "_view_count": null,
            "flex_flow": null,
            "width": null,
            "min_width": null,
            "border": null,
            "align_items": null,
            "bottom": null,
            "_model_module": "@jupyter-widgets/base",
            "top": null,
            "grid_column": null,
            "overflow_y": null,
            "overflow_x": null,
            "grid_auto_flow": null,
            "grid_area": null,
            "grid_template_columns": null,
            "flex": null,
            "_model_name": "LayoutModel",
            "justify_items": null,
            "grid_row": null,
            "max_height": null,
            "align_content": null,
            "visibility": null,
            "align_self": null,
            "height": null,
            "min_height": null,
            "padding": null,
            "grid_auto_rows": null,
            "grid_gap": null,
            "max_width": null,
            "order": null,
            "_view_module_version": "1.2.0",
            "grid_template_areas": null,
            "object_position": null,
            "object_fit": null,
            "grid_auto_columns": null,
            "margin": null,
            "display": null,
            "left": null
          }
        },
        "d896231bf5824211a55d494d48626fc6": {
          "model_module": "@jupyter-widgets/controls",
          "model_name": "HBoxModel",
          "model_module_version": "1.5.0",
          "state": {
            "_view_name": "HBoxView",
            "_dom_classes": [],
            "_model_name": "HBoxModel",
            "_view_module": "@jupyter-widgets/controls",
            "_model_module_version": "1.5.0",
            "_view_count": null,
            "_view_module_version": "1.5.0",
            "box_style": "",
            "layout": "IPY_MODEL_14dae264619940beab57908b986aa6bb",
            "_model_module": "@jupyter-widgets/controls",
            "children": [
              "IPY_MODEL_2392ea8eae7c4dbebc0e218cd7c5ce23",
              "IPY_MODEL_effd4c06dcdb44ae9027dbe846438c83",
              "IPY_MODEL_3d0635b79b6342b78a9689e092f60872"
            ]
          }
        },
        "14dae264619940beab57908b986aa6bb": {
          "model_module": "@jupyter-widgets/base",
          "model_name": "LayoutModel",
          "model_module_version": "1.2.0",
          "state": {
            "_view_name": "LayoutView",
            "grid_template_rows": null,
            "right": null,
            "justify_content": null,
            "_view_module": "@jupyter-widgets/base",
            "overflow": null,
            "_model_module_version": "1.2.0",
            "_view_count": null,
            "flex_flow": null,
            "width": null,
            "min_width": null,
            "border": null,
            "align_items": null,
            "bottom": null,
            "_model_module": "@jupyter-widgets/base",
            "top": null,
            "grid_column": null,
            "overflow_y": null,
            "overflow_x": null,
            "grid_auto_flow": null,
            "grid_area": null,
            "grid_template_columns": null,
            "flex": null,
            "_model_name": "LayoutModel",
            "justify_items": null,
            "grid_row": null,
            "max_height": null,
            "align_content": null,
            "visibility": null,
            "align_self": null,
            "height": null,
            "min_height": null,
            "padding": null,
            "grid_auto_rows": null,
            "grid_gap": null,
            "max_width": null,
            "order": null,
            "_view_module_version": "1.2.0",
            "grid_template_areas": null,
            "object_position": null,
            "object_fit": null,
            "grid_auto_columns": null,
            "margin": null,
            "display": null,
            "left": null
          }
        },
        "2392ea8eae7c4dbebc0e218cd7c5ce23": {
          "model_module": "@jupyter-widgets/controls",
          "model_name": "HTMLModel",
          "model_module_version": "1.5.0",
          "state": {
            "_view_name": "HTMLView",
            "style": "IPY_MODEL_2d77f792dd6048b39d0f14ebf4f80614",
            "_dom_classes": [],
            "description": "",
            "_model_name": "HTMLModel",
            "placeholder": "​",
            "_view_module": "@jupyter-widgets/controls",
            "_model_module_version": "1.5.0",
            "value": "100%",
            "_view_count": null,
            "_view_module_version": "1.5.0",
            "description_tooltip": null,
            "_model_module": "@jupyter-widgets/controls",
            "layout": "IPY_MODEL_d16ea3ef10684bf1b1092345ca92897a"
          }
        },
        "effd4c06dcdb44ae9027dbe846438c83": {
          "model_module": "@jupyter-widgets/controls",
          "model_name": "FloatProgressModel",
          "model_module_version": "1.5.0",
          "state": {
            "_view_name": "ProgressView",
            "style": "IPY_MODEL_d7a01acdb98f435489fed6bf1a5b3e4f",
            "_dom_classes": [],
            "description": "",
            "_model_name": "FloatProgressModel",
            "bar_style": "success",
            "max": 5,
            "_view_module": "@jupyter-widgets/controls",
            "_model_module_version": "1.5.0",
            "value": 5,
            "_view_count": null,
            "_view_module_version": "1.5.0",
            "orientation": "horizontal",
            "min": 0,
            "description_tooltip": null,
            "_model_module": "@jupyter-widgets/controls",
            "layout": "IPY_MODEL_9ceca09d9fdb4a0495d33bf3eef7e65e"
          }
        },
        "3d0635b79b6342b78a9689e092f60872": {
          "model_module": "@jupyter-widgets/controls",
          "model_name": "HTMLModel",
          "model_module_version": "1.5.0",
          "state": {
            "_view_name": "HTMLView",
            "style": "IPY_MODEL_29105b8924d949b99cc0bf317d63b25c",
            "_dom_classes": [],
            "description": "",
            "_model_name": "HTMLModel",
            "placeholder": "​",
            "_view_module": "@jupyter-widgets/controls",
            "_model_module_version": "1.5.0",
            "value": " 5/5 [00:00&lt;00:00, 99.72ba/s]",
            "_view_count": null,
            "_view_module_version": "1.5.0",
            "description_tooltip": null,
            "_model_module": "@jupyter-widgets/controls",
            "layout": "IPY_MODEL_d1693414e7964bfcbe95f6d95d5d4204"
          }
        },
        "2d77f792dd6048b39d0f14ebf4f80614": {
          "model_module": "@jupyter-widgets/controls",
          "model_name": "DescriptionStyleModel",
          "model_module_version": "1.5.0",
          "state": {
            "_view_name": "StyleView",
            "_model_name": "DescriptionStyleModel",
            "description_width": "",
            "_view_module": "@jupyter-widgets/base",
            "_model_module_version": "1.5.0",
            "_view_count": null,
            "_view_module_version": "1.2.0",
            "_model_module": "@jupyter-widgets/controls"
          }
        },
        "d16ea3ef10684bf1b1092345ca92897a": {
          "model_module": "@jupyter-widgets/base",
          "model_name": "LayoutModel",
          "model_module_version": "1.2.0",
          "state": {
            "_view_name": "LayoutView",
            "grid_template_rows": null,
            "right": null,
            "justify_content": null,
            "_view_module": "@jupyter-widgets/base",
            "overflow": null,
            "_model_module_version": "1.2.0",
            "_view_count": null,
            "flex_flow": null,
            "width": null,
            "min_width": null,
            "border": null,
            "align_items": null,
            "bottom": null,
            "_model_module": "@jupyter-widgets/base",
            "top": null,
            "grid_column": null,
            "overflow_y": null,
            "overflow_x": null,
            "grid_auto_flow": null,
            "grid_area": null,
            "grid_template_columns": null,
            "flex": null,
            "_model_name": "LayoutModel",
            "justify_items": null,
            "grid_row": null,
            "max_height": null,
            "align_content": null,
            "visibility": null,
            "align_self": null,
            "height": null,
            "min_height": null,
            "padding": null,
            "grid_auto_rows": null,
            "grid_gap": null,
            "max_width": null,
            "order": null,
            "_view_module_version": "1.2.0",
            "grid_template_areas": null,
            "object_position": null,
            "object_fit": null,
            "grid_auto_columns": null,
            "margin": null,
            "display": null,
            "left": null
          }
        },
        "d7a01acdb98f435489fed6bf1a5b3e4f": {
          "model_module": "@jupyter-widgets/controls",
          "model_name": "ProgressStyleModel",
          "model_module_version": "1.5.0",
          "state": {
            "_view_name": "StyleView",
            "_model_name": "ProgressStyleModel",
            "description_width": "",
            "_view_module": "@jupyter-widgets/base",
            "_model_module_version": "1.5.0",
            "_view_count": null,
            "_view_module_version": "1.2.0",
            "bar_color": null,
            "_model_module": "@jupyter-widgets/controls"
          }
        },
        "9ceca09d9fdb4a0495d33bf3eef7e65e": {
          "model_module": "@jupyter-widgets/base",
          "model_name": "LayoutModel",
          "model_module_version": "1.2.0",
          "state": {
            "_view_name": "LayoutView",
            "grid_template_rows": null,
            "right": null,
            "justify_content": null,
            "_view_module": "@jupyter-widgets/base",
            "overflow": null,
            "_model_module_version": "1.2.0",
            "_view_count": null,
            "flex_flow": null,
            "width": null,
            "min_width": null,
            "border": null,
            "align_items": null,
            "bottom": null,
            "_model_module": "@jupyter-widgets/base",
            "top": null,
            "grid_column": null,
            "overflow_y": null,
            "overflow_x": null,
            "grid_auto_flow": null,
            "grid_area": null,
            "grid_template_columns": null,
            "flex": null,
            "_model_name": "LayoutModel",
            "justify_items": null,
            "grid_row": null,
            "max_height": null,
            "align_content": null,
            "visibility": null,
            "align_self": null,
            "height": null,
            "min_height": null,
            "padding": null,
            "grid_auto_rows": null,
            "grid_gap": null,
            "max_width": null,
            "order": null,
            "_view_module_version": "1.2.0",
            "grid_template_areas": null,
            "object_position": null,
            "object_fit": null,
            "grid_auto_columns": null,
            "margin": null,
            "display": null,
            "left": null
          }
        },
        "29105b8924d949b99cc0bf317d63b25c": {
          "model_module": "@jupyter-widgets/controls",
          "model_name": "DescriptionStyleModel",
          "model_module_version": "1.5.0",
          "state": {
            "_view_name": "StyleView",
            "_model_name": "DescriptionStyleModel",
            "description_width": "",
            "_view_module": "@jupyter-widgets/base",
            "_model_module_version": "1.5.0",
            "_view_count": null,
            "_view_module_version": "1.2.0",
            "_model_module": "@jupyter-widgets/controls"
          }
        },
        "d1693414e7964bfcbe95f6d95d5d4204": {
          "model_module": "@jupyter-widgets/base",
          "model_name": "LayoutModel",
          "model_module_version": "1.2.0",
          "state": {
            "_view_name": "LayoutView",
            "grid_template_rows": null,
            "right": null,
            "justify_content": null,
            "_view_module": "@jupyter-widgets/base",
            "overflow": null,
            "_model_module_version": "1.2.0",
            "_view_count": null,
            "flex_flow": null,
            "width": null,
            "min_width": null,
            "border": null,
            "align_items": null,
            "bottom": null,
            "_model_module": "@jupyter-widgets/base",
            "top": null,
            "grid_column": null,
            "overflow_y": null,
            "overflow_x": null,
            "grid_auto_flow": null,
            "grid_area": null,
            "grid_template_columns": null,
            "flex": null,
            "_model_name": "LayoutModel",
            "justify_items": null,
            "grid_row": null,
            "max_height": null,
            "align_content": null,
            "visibility": null,
            "align_self": null,
            "height": null,
            "min_height": null,
            "padding": null,
            "grid_auto_rows": null,
            "grid_gap": null,
            "max_width": null,
            "order": null,
            "_view_module_version": "1.2.0",
            "grid_template_areas": null,
            "object_position": null,
            "object_fit": null,
            "grid_auto_columns": null,
            "margin": null,
            "display": null,
            "left": null
          }
        },
        "fd43a043ce7c4b878ade15f6bbf55977": {
          "model_module": "@jupyter-widgets/controls",
          "model_name": "HBoxModel",
          "model_module_version": "1.5.0",
          "state": {
            "_view_name": "HBoxView",
            "_dom_classes": [],
            "_model_name": "HBoxModel",
            "_view_module": "@jupyter-widgets/controls",
            "_model_module_version": "1.5.0",
            "_view_count": null,
            "_view_module_version": "1.5.0",
            "box_style": "",
            "layout": "IPY_MODEL_b362a9179f894ff5b879bbae73fe41b2",
            "_model_module": "@jupyter-widgets/controls",
            "children": [
              "IPY_MODEL_e0888123f0d2455d9f565939a8abda4e",
              "IPY_MODEL_3544f17e723f4ade9356e0eacd57c4f5",
              "IPY_MODEL_df32789a34fe494c9a8791a8d8c70c69"
            ]
          }
        },
        "b362a9179f894ff5b879bbae73fe41b2": {
          "model_module": "@jupyter-widgets/base",
          "model_name": "LayoutModel",
          "model_module_version": "1.2.0",
          "state": {
            "_view_name": "LayoutView",
            "grid_template_rows": null,
            "right": null,
            "justify_content": null,
            "_view_module": "@jupyter-widgets/base",
            "overflow": null,
            "_model_module_version": "1.2.0",
            "_view_count": null,
            "flex_flow": null,
            "width": null,
            "min_width": null,
            "border": null,
            "align_items": null,
            "bottom": null,
            "_model_module": "@jupyter-widgets/base",
            "top": null,
            "grid_column": null,
            "overflow_y": null,
            "overflow_x": null,
            "grid_auto_flow": null,
            "grid_area": null,
            "grid_template_columns": null,
            "flex": null,
            "_model_name": "LayoutModel",
            "justify_items": null,
            "grid_row": null,
            "max_height": null,
            "align_content": null,
            "visibility": null,
            "align_self": null,
            "height": null,
            "min_height": null,
            "padding": null,
            "grid_auto_rows": null,
            "grid_gap": null,
            "max_width": null,
            "order": null,
            "_view_module_version": "1.2.0",
            "grid_template_areas": null,
            "object_position": null,
            "object_fit": null,
            "grid_auto_columns": null,
            "margin": null,
            "display": null,
            "left": null
          }
        },
        "e0888123f0d2455d9f565939a8abda4e": {
          "model_module": "@jupyter-widgets/controls",
          "model_name": "HTMLModel",
          "model_module_version": "1.5.0",
          "state": {
            "_view_name": "HTMLView",
            "style": "IPY_MODEL_2e27a56468684597ba7084d662a92309",
            "_dom_classes": [],
            "description": "",
            "_model_name": "HTMLModel",
            "placeholder": "​",
            "_view_module": "@jupyter-widgets/controls",
            "_model_module_version": "1.5.0",
            "value": "Downloading: ",
            "_view_count": null,
            "_view_module_version": "1.5.0",
            "description_tooltip": null,
            "_model_module": "@jupyter-widgets/controls",
            "layout": "IPY_MODEL_57cd1596aead47ad85987147a0f1bb75"
          }
        },
        "3544f17e723f4ade9356e0eacd57c4f5": {
          "model_module": "@jupyter-widgets/controls",
          "model_name": "FloatProgressModel",
          "model_module_version": "1.5.0",
          "state": {
            "_view_name": "ProgressView",
            "style": "IPY_MODEL_4ab4afbba4a940cba487688b298092cf",
            "_dom_classes": [],
            "description": "",
            "_model_name": "FloatProgressModel",
            "bar_style": "success",
            "max": 1947,
            "_view_module": "@jupyter-widgets/controls",
            "_model_module_version": "1.5.0",
            "value": 1947,
            "_view_count": null,
            "_view_module_version": "1.5.0",
            "orientation": "horizontal",
            "min": 0,
            "description_tooltip": null,
            "_model_module": "@jupyter-widgets/controls",
            "layout": "IPY_MODEL_a5858da3495c4995adf804fc96ef938f"
          }
        },
        "df32789a34fe494c9a8791a8d8c70c69": {
          "model_module": "@jupyter-widgets/controls",
          "model_name": "HTMLModel",
          "model_module_version": "1.5.0",
          "state": {
            "_view_name": "HTMLView",
            "style": "IPY_MODEL_a6e7f6bb9bf5486389689d79e499869b",
            "_dom_classes": [],
            "description": "",
            "_model_name": "HTMLModel",
            "placeholder": "​",
            "_view_module": "@jupyter-widgets/controls",
            "_model_module_version": "1.5.0",
            "value": " 4.55k/? [00:00&lt;00:00, 160kB/s]",
            "_view_count": null,
            "_view_module_version": "1.5.0",
            "description_tooltip": null,
            "_model_module": "@jupyter-widgets/controls",
            "layout": "IPY_MODEL_b5f579a82ca745e1b8baeff5df14e6b3"
          }
        },
        "2e27a56468684597ba7084d662a92309": {
          "model_module": "@jupyter-widgets/controls",
          "model_name": "DescriptionStyleModel",
          "model_module_version": "1.5.0",
          "state": {
            "_view_name": "StyleView",
            "_model_name": "DescriptionStyleModel",
            "description_width": "",
            "_view_module": "@jupyter-widgets/base",
            "_model_module_version": "1.5.0",
            "_view_count": null,
            "_view_module_version": "1.2.0",
            "_model_module": "@jupyter-widgets/controls"
          }
        },
        "57cd1596aead47ad85987147a0f1bb75": {
          "model_module": "@jupyter-widgets/base",
          "model_name": "LayoutModel",
          "model_module_version": "1.2.0",
          "state": {
            "_view_name": "LayoutView",
            "grid_template_rows": null,
            "right": null,
            "justify_content": null,
            "_view_module": "@jupyter-widgets/base",
            "overflow": null,
            "_model_module_version": "1.2.0",
            "_view_count": null,
            "flex_flow": null,
            "width": null,
            "min_width": null,
            "border": null,
            "align_items": null,
            "bottom": null,
            "_model_module": "@jupyter-widgets/base",
            "top": null,
            "grid_column": null,
            "overflow_y": null,
            "overflow_x": null,
            "grid_auto_flow": null,
            "grid_area": null,
            "grid_template_columns": null,
            "flex": null,
            "_model_name": "LayoutModel",
            "justify_items": null,
            "grid_row": null,
            "max_height": null,
            "align_content": null,
            "visibility": null,
            "align_self": null,
            "height": null,
            "min_height": null,
            "padding": null,
            "grid_auto_rows": null,
            "grid_gap": null,
            "max_width": null,
            "order": null,
            "_view_module_version": "1.2.0",
            "grid_template_areas": null,
            "object_position": null,
            "object_fit": null,
            "grid_auto_columns": null,
            "margin": null,
            "display": null,
            "left": null
          }
        },
        "4ab4afbba4a940cba487688b298092cf": {
          "model_module": "@jupyter-widgets/controls",
          "model_name": "ProgressStyleModel",
          "model_module_version": "1.5.0",
          "state": {
            "_view_name": "StyleView",
            "_model_name": "ProgressStyleModel",
            "description_width": "",
            "_view_module": "@jupyter-widgets/base",
            "_model_module_version": "1.5.0",
            "_view_count": null,
            "_view_module_version": "1.2.0",
            "bar_color": null,
            "_model_module": "@jupyter-widgets/controls"
          }
        },
        "a5858da3495c4995adf804fc96ef938f": {
          "model_module": "@jupyter-widgets/base",
          "model_name": "LayoutModel",
          "model_module_version": "1.2.0",
          "state": {
            "_view_name": "LayoutView",
            "grid_template_rows": null,
            "right": null,
            "justify_content": null,
            "_view_module": "@jupyter-widgets/base",
            "overflow": null,
            "_model_module_version": "1.2.0",
            "_view_count": null,
            "flex_flow": null,
            "width": null,
            "min_width": null,
            "border": null,
            "align_items": null,
            "bottom": null,
            "_model_module": "@jupyter-widgets/base",
            "top": null,
            "grid_column": null,
            "overflow_y": null,
            "overflow_x": null,
            "grid_auto_flow": null,
            "grid_area": null,
            "grid_template_columns": null,
            "flex": null,
            "_model_name": "LayoutModel",
            "justify_items": null,
            "grid_row": null,
            "max_height": null,
            "align_content": null,
            "visibility": null,
            "align_self": null,
            "height": null,
            "min_height": null,
            "padding": null,
            "grid_auto_rows": null,
            "grid_gap": null,
            "max_width": null,
            "order": null,
            "_view_module_version": "1.2.0",
            "grid_template_areas": null,
            "object_position": null,
            "object_fit": null,
            "grid_auto_columns": null,
            "margin": null,
            "display": null,
            "left": null
          }
        },
        "a6e7f6bb9bf5486389689d79e499869b": {
          "model_module": "@jupyter-widgets/controls",
          "model_name": "DescriptionStyleModel",
          "model_module_version": "1.5.0",
          "state": {
            "_view_name": "StyleView",
            "_model_name": "DescriptionStyleModel",
            "description_width": "",
            "_view_module": "@jupyter-widgets/base",
            "_model_module_version": "1.5.0",
            "_view_count": null,
            "_view_module_version": "1.2.0",
            "_model_module": "@jupyter-widgets/controls"
          }
        },
        "b5f579a82ca745e1b8baeff5df14e6b3": {
          "model_module": "@jupyter-widgets/base",
          "model_name": "LayoutModel",
          "model_module_version": "1.2.0",
          "state": {
            "_view_name": "LayoutView",
            "grid_template_rows": null,
            "right": null,
            "justify_content": null,
            "_view_module": "@jupyter-widgets/base",
            "overflow": null,
            "_model_module_version": "1.2.0",
            "_view_count": null,
            "flex_flow": null,
            "width": null,
            "min_width": null,
            "border": null,
            "align_items": null,
            "bottom": null,
            "_model_module": "@jupyter-widgets/base",
            "top": null,
            "grid_column": null,
            "overflow_y": null,
            "overflow_x": null,
            "grid_auto_flow": null,
            "grid_area": null,
            "grid_template_columns": null,
            "flex": null,
            "_model_name": "LayoutModel",
            "justify_items": null,
            "grid_row": null,
            "max_height": null,
            "align_content": null,
            "visibility": null,
            "align_self": null,
            "height": null,
            "min_height": null,
            "padding": null,
            "grid_auto_rows": null,
            "grid_gap": null,
            "max_width": null,
            "order": null,
            "_view_module_version": "1.2.0",
            "grid_template_areas": null,
            "object_position": null,
            "object_fit": null,
            "grid_auto_columns": null,
            "margin": null,
            "display": null,
            "left": null
          }
        },
        "6b1c56f42b6242d8a7fdc62c9da29f54": {
          "model_module": "@jupyter-widgets/controls",
          "model_name": "HBoxModel",
          "model_module_version": "1.5.0",
          "state": {
            "_view_name": "HBoxView",
            "_dom_classes": [],
            "_model_name": "HBoxModel",
            "_view_module": "@jupyter-widgets/controls",
            "_model_module_version": "1.5.0",
            "_view_count": null,
            "_view_module_version": "1.5.0",
            "box_style": "",
            "layout": "IPY_MODEL_8b6b4d8555ff4719b9e300fed72a7cba",
            "_model_module": "@jupyter-widgets/controls",
            "children": [
              "IPY_MODEL_ac40289a8a0b40bc93da88fc9adcb7f9",
              "IPY_MODEL_943e736502ee4084a9e94623d6650a6b",
              "IPY_MODEL_74f527b8620e4233904b8397d18096a3"
            ]
          }
        },
        "8b6b4d8555ff4719b9e300fed72a7cba": {
          "model_module": "@jupyter-widgets/base",
          "model_name": "LayoutModel",
          "model_module_version": "1.2.0",
          "state": {
            "_view_name": "LayoutView",
            "grid_template_rows": null,
            "right": null,
            "justify_content": null,
            "_view_module": "@jupyter-widgets/base",
            "overflow": null,
            "_model_module_version": "1.2.0",
            "_view_count": null,
            "flex_flow": null,
            "width": null,
            "min_width": null,
            "border": null,
            "align_items": null,
            "bottom": null,
            "_model_module": "@jupyter-widgets/base",
            "top": null,
            "grid_column": null,
            "overflow_y": null,
            "overflow_x": null,
            "grid_auto_flow": null,
            "grid_area": null,
            "grid_template_columns": null,
            "flex": null,
            "_model_name": "LayoutModel",
            "justify_items": null,
            "grid_row": null,
            "max_height": null,
            "align_content": null,
            "visibility": null,
            "align_self": null,
            "height": null,
            "min_height": null,
            "padding": null,
            "grid_auto_rows": null,
            "grid_gap": null,
            "max_width": null,
            "order": null,
            "_view_module_version": "1.2.0",
            "grid_template_areas": null,
            "object_position": null,
            "object_fit": null,
            "grid_auto_columns": null,
            "margin": null,
            "display": null,
            "left": null
          }
        },
        "ac40289a8a0b40bc93da88fc9adcb7f9": {
          "model_module": "@jupyter-widgets/controls",
          "model_name": "HTMLModel",
          "model_module_version": "1.5.0",
          "state": {
            "_view_name": "HTMLView",
            "style": "IPY_MODEL_f55bd5328793422fb0e2101442855dec",
            "_dom_classes": [],
            "description": "",
            "_model_name": "HTMLModel",
            "placeholder": "​",
            "_view_module": "@jupyter-widgets/controls",
            "_model_module_version": "1.5.0",
            "value": "Downloading: 100%",
            "_view_count": null,
            "_view_module_version": "1.5.0",
            "description_tooltip": null,
            "_model_module": "@jupyter-widgets/controls",
            "layout": "IPY_MODEL_50c55e7188bc4d6a88ae83995ffa2366"
          }
        },
        "943e736502ee4084a9e94623d6650a6b": {
          "model_module": "@jupyter-widgets/controls",
          "model_name": "FloatProgressModel",
          "model_module_version": "1.5.0",
          "state": {
            "_view_name": "ProgressView",
            "style": "IPY_MODEL_68321a0f68c7483d9561c8e4bf5fd630",
            "_dom_classes": [],
            "description": "",
            "_model_name": "FloatProgressModel",
            "bar_style": "success",
            "max": 1843,
            "_view_module": "@jupyter-widgets/controls",
            "_model_module_version": "1.5.0",
            "value": 1843,
            "_view_count": null,
            "_view_module_version": "1.5.0",
            "orientation": "horizontal",
            "min": 0,
            "description_tooltip": null,
            "_model_module": "@jupyter-widgets/controls",
            "layout": "IPY_MODEL_8e40a7c27db24510a46ef0331459ee1c"
          }
        },
        "74f527b8620e4233904b8397d18096a3": {
          "model_module": "@jupyter-widgets/controls",
          "model_name": "HTMLModel",
          "model_module_version": "1.5.0",
          "state": {
            "_view_name": "HTMLView",
            "style": "IPY_MODEL_fe53a6cd10ca4aee803c98f027ca23d3",
            "_dom_classes": [],
            "description": "",
            "_model_name": "HTMLModel",
            "placeholder": "​",
            "_view_module": "@jupyter-widgets/controls",
            "_model_module_version": "1.5.0",
            "value": " 1.80k/1.80k [00:00&lt;00:00, 52.1kB/s]",
            "_view_count": null,
            "_view_module_version": "1.5.0",
            "description_tooltip": null,
            "_model_module": "@jupyter-widgets/controls",
            "layout": "IPY_MODEL_8e8fbf8933944694a78faff62a9f46f8"
          }
        },
        "f55bd5328793422fb0e2101442855dec": {
          "model_module": "@jupyter-widgets/controls",
          "model_name": "DescriptionStyleModel",
          "model_module_version": "1.5.0",
          "state": {
            "_view_name": "StyleView",
            "_model_name": "DescriptionStyleModel",
            "description_width": "",
            "_view_module": "@jupyter-widgets/base",
            "_model_module_version": "1.5.0",
            "_view_count": null,
            "_view_module_version": "1.2.0",
            "_model_module": "@jupyter-widgets/controls"
          }
        },
        "50c55e7188bc4d6a88ae83995ffa2366": {
          "model_module": "@jupyter-widgets/base",
          "model_name": "LayoutModel",
          "model_module_version": "1.2.0",
          "state": {
            "_view_name": "LayoutView",
            "grid_template_rows": null,
            "right": null,
            "justify_content": null,
            "_view_module": "@jupyter-widgets/base",
            "overflow": null,
            "_model_module_version": "1.2.0",
            "_view_count": null,
            "flex_flow": null,
            "width": null,
            "min_width": null,
            "border": null,
            "align_items": null,
            "bottom": null,
            "_model_module": "@jupyter-widgets/base",
            "top": null,
            "grid_column": null,
            "overflow_y": null,
            "overflow_x": null,
            "grid_auto_flow": null,
            "grid_area": null,
            "grid_template_columns": null,
            "flex": null,
            "_model_name": "LayoutModel",
            "justify_items": null,
            "grid_row": null,
            "max_height": null,
            "align_content": null,
            "visibility": null,
            "align_self": null,
            "height": null,
            "min_height": null,
            "padding": null,
            "grid_auto_rows": null,
            "grid_gap": null,
            "max_width": null,
            "order": null,
            "_view_module_version": "1.2.0",
            "grid_template_areas": null,
            "object_position": null,
            "object_fit": null,
            "grid_auto_columns": null,
            "margin": null,
            "display": null,
            "left": null
          }
        },
        "68321a0f68c7483d9561c8e4bf5fd630": {
          "model_module": "@jupyter-widgets/controls",
          "model_name": "ProgressStyleModel",
          "model_module_version": "1.5.0",
          "state": {
            "_view_name": "StyleView",
            "_model_name": "ProgressStyleModel",
            "description_width": "",
            "_view_module": "@jupyter-widgets/base",
            "_model_module_version": "1.5.0",
            "_view_count": null,
            "_view_module_version": "1.2.0",
            "bar_color": null,
            "_model_module": "@jupyter-widgets/controls"
          }
        },
        "8e40a7c27db24510a46ef0331459ee1c": {
          "model_module": "@jupyter-widgets/base",
          "model_name": "LayoutModel",
          "model_module_version": "1.2.0",
          "state": {
            "_view_name": "LayoutView",
            "grid_template_rows": null,
            "right": null,
            "justify_content": null,
            "_view_module": "@jupyter-widgets/base",
            "overflow": null,
            "_model_module_version": "1.2.0",
            "_view_count": null,
            "flex_flow": null,
            "width": null,
            "min_width": null,
            "border": null,
            "align_items": null,
            "bottom": null,
            "_model_module": "@jupyter-widgets/base",
            "top": null,
            "grid_column": null,
            "overflow_y": null,
            "overflow_x": null,
            "grid_auto_flow": null,
            "grid_area": null,
            "grid_template_columns": null,
            "flex": null,
            "_model_name": "LayoutModel",
            "justify_items": null,
            "grid_row": null,
            "max_height": null,
            "align_content": null,
            "visibility": null,
            "align_self": null,
            "height": null,
            "min_height": null,
            "padding": null,
            "grid_auto_rows": null,
            "grid_gap": null,
            "max_width": null,
            "order": null,
            "_view_module_version": "1.2.0",
            "grid_template_areas": null,
            "object_position": null,
            "object_fit": null,
            "grid_auto_columns": null,
            "margin": null,
            "display": null,
            "left": null
          }
        },
        "fe53a6cd10ca4aee803c98f027ca23d3": {
          "model_module": "@jupyter-widgets/controls",
          "model_name": "DescriptionStyleModel",
          "model_module_version": "1.5.0",
          "state": {
            "_view_name": "StyleView",
            "_model_name": "DescriptionStyleModel",
            "description_width": "",
            "_view_module": "@jupyter-widgets/base",
            "_model_module_version": "1.5.0",
            "_view_count": null,
            "_view_module_version": "1.2.0",
            "_model_module": "@jupyter-widgets/controls"
          }
        },
        "8e8fbf8933944694a78faff62a9f46f8": {
          "model_module": "@jupyter-widgets/base",
          "model_name": "LayoutModel",
          "model_module_version": "1.2.0",
          "state": {
            "_view_name": "LayoutView",
            "grid_template_rows": null,
            "right": null,
            "justify_content": null,
            "_view_module": "@jupyter-widgets/base",
            "overflow": null,
            "_model_module_version": "1.2.0",
            "_view_count": null,
            "flex_flow": null,
            "width": null,
            "min_width": null,
            "border": null,
            "align_items": null,
            "bottom": null,
            "_model_module": "@jupyter-widgets/base",
            "top": null,
            "grid_column": null,
            "overflow_y": null,
            "overflow_x": null,
            "grid_auto_flow": null,
            "grid_area": null,
            "grid_template_columns": null,
            "flex": null,
            "_model_name": "LayoutModel",
            "justify_items": null,
            "grid_row": null,
            "max_height": null,
            "align_content": null,
            "visibility": null,
            "align_self": null,
            "height": null,
            "min_height": null,
            "padding": null,
            "grid_auto_rows": null,
            "grid_gap": null,
            "max_width": null,
            "order": null,
            "_view_module_version": "1.2.0",
            "grid_template_areas": null,
            "object_position": null,
            "object_fit": null,
            "grid_auto_columns": null,
            "margin": null,
            "display": null,
            "left": null
          }
        },
        "310c679ea5c94e9d974ecf8a6f78ddfa": {
          "model_module": "@jupyter-widgets/controls",
          "model_name": "HBoxModel",
          "model_module_version": "1.5.0",
          "state": {
            "_view_name": "HBoxView",
            "_dom_classes": [],
            "_model_name": "HBoxModel",
            "_view_module": "@jupyter-widgets/controls",
            "_model_module_version": "1.5.0",
            "_view_count": null,
            "_view_module_version": "1.5.0",
            "box_style": "",
            "layout": "IPY_MODEL_64b55627276d4d509d6345fc92f203d2",
            "_model_module": "@jupyter-widgets/controls",
            "children": [
              "IPY_MODEL_8c9a575f1f4b44809c5ffb12436b7966",
              "IPY_MODEL_b477afdf889b479ba892b3e0110ee94f",
              "IPY_MODEL_a0488c5f2aea43388491367308426d38"
            ]
          }
        },
        "64b55627276d4d509d6345fc92f203d2": {
          "model_module": "@jupyter-widgets/base",
          "model_name": "LayoutModel",
          "model_module_version": "1.2.0",
          "state": {
            "_view_name": "LayoutView",
            "grid_template_rows": null,
            "right": null,
            "justify_content": null,
            "_view_module": "@jupyter-widgets/base",
            "overflow": null,
            "_model_module_version": "1.2.0",
            "_view_count": null,
            "flex_flow": null,
            "width": null,
            "min_width": null,
            "border": null,
            "align_items": null,
            "bottom": null,
            "_model_module": "@jupyter-widgets/base",
            "top": null,
            "grid_column": null,
            "overflow_y": null,
            "overflow_x": null,
            "grid_auto_flow": null,
            "grid_area": null,
            "grid_template_columns": null,
            "flex": null,
            "_model_name": "LayoutModel",
            "justify_items": null,
            "grid_row": null,
            "max_height": null,
            "align_content": null,
            "visibility": null,
            "align_self": null,
            "height": null,
            "min_height": null,
            "padding": null,
            "grid_auto_rows": null,
            "grid_gap": null,
            "max_width": null,
            "order": null,
            "_view_module_version": "1.2.0",
            "grid_template_areas": null,
            "object_position": null,
            "object_fit": null,
            "grid_auto_columns": null,
            "margin": null,
            "display": null,
            "left": null
          }
        },
        "8c9a575f1f4b44809c5ffb12436b7966": {
          "model_module": "@jupyter-widgets/controls",
          "model_name": "HTMLModel",
          "model_module_version": "1.5.0",
          "state": {
            "_view_name": "HTMLView",
            "style": "IPY_MODEL_8561afcd5dde4e70b02b984fc2e7dc21",
            "_dom_classes": [],
            "description": "",
            "_model_name": "HTMLModel",
            "placeholder": "​",
            "_view_module": "@jupyter-widgets/controls",
            "_model_module_version": "1.5.0",
            "value": "Downloading: 100%",
            "_view_count": null,
            "_view_module_version": "1.5.0",
            "description_tooltip": null,
            "_model_module": "@jupyter-widgets/controls",
            "layout": "IPY_MODEL_e9db0953aab746658b52ce84cae39f97"
          }
        },
        "b477afdf889b479ba892b3e0110ee94f": {
          "model_module": "@jupyter-widgets/controls",
          "model_name": "FloatProgressModel",
          "model_module_version": "1.5.0",
          "state": {
            "_view_name": "ProgressView",
            "style": "IPY_MODEL_480afa0ed5f14bbebb888a81b25a5428",
            "_dom_classes": [],
            "description": "",
            "_model_name": "FloatProgressModel",
            "bar_style": "success",
            "max": 380267417,
            "_view_module": "@jupyter-widgets/controls",
            "_model_module_version": "1.5.0",
            "value": 380267417,
            "_view_count": null,
            "_view_module_version": "1.5.0",
            "orientation": "horizontal",
            "min": 0,
            "description_tooltip": null,
            "_model_module": "@jupyter-widgets/controls",
            "layout": "IPY_MODEL_6ebdb03f75bb44248a6ad230f1916d8f"
          }
        },
        "a0488c5f2aea43388491367308426d38": {
          "model_module": "@jupyter-widgets/controls",
          "model_name": "HTMLModel",
          "model_module_version": "1.5.0",
          "state": {
            "_view_name": "HTMLView",
            "style": "IPY_MODEL_02fd98c15acc4ca8b973d4682a8bf684",
            "_dom_classes": [],
            "description": "",
            "_model_name": "HTMLModel",
            "placeholder": "​",
            "_view_module": "@jupyter-widgets/controls",
            "_model_module_version": "1.5.0",
            "value": " 363M/363M [00:07&lt;00:00, 51.4MB/s]",
            "_view_count": null,
            "_view_module_version": "1.5.0",
            "description_tooltip": null,
            "_model_module": "@jupyter-widgets/controls",
            "layout": "IPY_MODEL_f7b66384620143b4b38997bc64f81191"
          }
        },
        "8561afcd5dde4e70b02b984fc2e7dc21": {
          "model_module": "@jupyter-widgets/controls",
          "model_name": "DescriptionStyleModel",
          "model_module_version": "1.5.0",
          "state": {
            "_view_name": "StyleView",
            "_model_name": "DescriptionStyleModel",
            "description_width": "",
            "_view_module": "@jupyter-widgets/base",
            "_model_module_version": "1.5.0",
            "_view_count": null,
            "_view_module_version": "1.2.0",
            "_model_module": "@jupyter-widgets/controls"
          }
        },
        "e9db0953aab746658b52ce84cae39f97": {
          "model_module": "@jupyter-widgets/base",
          "model_name": "LayoutModel",
          "model_module_version": "1.2.0",
          "state": {
            "_view_name": "LayoutView",
            "grid_template_rows": null,
            "right": null,
            "justify_content": null,
            "_view_module": "@jupyter-widgets/base",
            "overflow": null,
            "_model_module_version": "1.2.0",
            "_view_count": null,
            "flex_flow": null,
            "width": null,
            "min_width": null,
            "border": null,
            "align_items": null,
            "bottom": null,
            "_model_module": "@jupyter-widgets/base",
            "top": null,
            "grid_column": null,
            "overflow_y": null,
            "overflow_x": null,
            "grid_auto_flow": null,
            "grid_area": null,
            "grid_template_columns": null,
            "flex": null,
            "_model_name": "LayoutModel",
            "justify_items": null,
            "grid_row": null,
            "max_height": null,
            "align_content": null,
            "visibility": null,
            "align_self": null,
            "height": null,
            "min_height": null,
            "padding": null,
            "grid_auto_rows": null,
            "grid_gap": null,
            "max_width": null,
            "order": null,
            "_view_module_version": "1.2.0",
            "grid_template_areas": null,
            "object_position": null,
            "object_fit": null,
            "grid_auto_columns": null,
            "margin": null,
            "display": null,
            "left": null
          }
        },
        "480afa0ed5f14bbebb888a81b25a5428": {
          "model_module": "@jupyter-widgets/controls",
          "model_name": "ProgressStyleModel",
          "model_module_version": "1.5.0",
          "state": {
            "_view_name": "StyleView",
            "_model_name": "ProgressStyleModel",
            "description_width": "",
            "_view_module": "@jupyter-widgets/base",
            "_model_module_version": "1.5.0",
            "_view_count": null,
            "_view_module_version": "1.2.0",
            "bar_color": null,
            "_model_module": "@jupyter-widgets/controls"
          }
        },
        "6ebdb03f75bb44248a6ad230f1916d8f": {
          "model_module": "@jupyter-widgets/base",
          "model_name": "LayoutModel",
          "model_module_version": "1.2.0",
          "state": {
            "_view_name": "LayoutView",
            "grid_template_rows": null,
            "right": null,
            "justify_content": null,
            "_view_module": "@jupyter-widgets/base",
            "overflow": null,
            "_model_module_version": "1.2.0",
            "_view_count": null,
            "flex_flow": null,
            "width": null,
            "min_width": null,
            "border": null,
            "align_items": null,
            "bottom": null,
            "_model_module": "@jupyter-widgets/base",
            "top": null,
            "grid_column": null,
            "overflow_y": null,
            "overflow_x": null,
            "grid_auto_flow": null,
            "grid_area": null,
            "grid_template_columns": null,
            "flex": null,
            "_model_name": "LayoutModel",
            "justify_items": null,
            "grid_row": null,
            "max_height": null,
            "align_content": null,
            "visibility": null,
            "align_self": null,
            "height": null,
            "min_height": null,
            "padding": null,
            "grid_auto_rows": null,
            "grid_gap": null,
            "max_width": null,
            "order": null,
            "_view_module_version": "1.2.0",
            "grid_template_areas": null,
            "object_position": null,
            "object_fit": null,
            "grid_auto_columns": null,
            "margin": null,
            "display": null,
            "left": null
          }
        },
        "02fd98c15acc4ca8b973d4682a8bf684": {
          "model_module": "@jupyter-widgets/controls",
          "model_name": "DescriptionStyleModel",
          "model_module_version": "1.5.0",
          "state": {
            "_view_name": "StyleView",
            "_model_name": "DescriptionStyleModel",
            "description_width": "",
            "_view_module": "@jupyter-widgets/base",
            "_model_module_version": "1.5.0",
            "_view_count": null,
            "_view_module_version": "1.2.0",
            "_model_module": "@jupyter-widgets/controls"
          }
        },
        "f7b66384620143b4b38997bc64f81191": {
          "model_module": "@jupyter-widgets/base",
          "model_name": "LayoutModel",
          "model_module_version": "1.2.0",
          "state": {
            "_view_name": "LayoutView",
            "grid_template_rows": null,
            "right": null,
            "justify_content": null,
            "_view_module": "@jupyter-widgets/base",
            "overflow": null,
            "_model_module_version": "1.2.0",
            "_view_count": null,
            "flex_flow": null,
            "width": null,
            "min_width": null,
            "border": null,
            "align_items": null,
            "bottom": null,
            "_model_module": "@jupyter-widgets/base",
            "top": null,
            "grid_column": null,
            "overflow_y": null,
            "overflow_x": null,
            "grid_auto_flow": null,
            "grid_area": null,
            "grid_template_columns": null,
            "flex": null,
            "_model_name": "LayoutModel",
            "justify_items": null,
            "grid_row": null,
            "max_height": null,
            "align_content": null,
            "visibility": null,
            "align_self": null,
            "height": null,
            "min_height": null,
            "padding": null,
            "grid_auto_rows": null,
            "grid_gap": null,
            "max_width": null,
            "order": null,
            "_view_module_version": "1.2.0",
            "grid_template_areas": null,
            "object_position": null,
            "object_fit": null,
            "grid_auto_columns": null,
            "margin": null,
            "display": null,
            "left": null
          }
        },
        "853be7d9a3d24adfbdc9a07d181425cc": {
          "model_module": "@jupyter-widgets/controls",
          "model_name": "HBoxModel",
          "model_module_version": "1.5.0",
          "state": {
            "_view_name": "HBoxView",
            "_dom_classes": [],
            "_model_name": "HBoxModel",
            "_view_module": "@jupyter-widgets/controls",
            "_model_module_version": "1.5.0",
            "_view_count": null,
            "_view_module_version": "1.5.0",
            "box_style": "",
            "layout": "IPY_MODEL_76c3fdccb19945e194c441769a1f53b0",
            "_model_module": "@jupyter-widgets/controls",
            "children": [
              "IPY_MODEL_17a09ff9015f4eb2b91ee77b1f7f76e0",
              "IPY_MODEL_9528d69e9b0549f59f84e94f34e5a583",
              "IPY_MODEL_8665ac85023c43c3a1599c381ab07ffa"
            ]
          }
        },
        "76c3fdccb19945e194c441769a1f53b0": {
          "model_module": "@jupyter-widgets/base",
          "model_name": "LayoutModel",
          "model_module_version": "1.2.0",
          "state": {
            "_view_name": "LayoutView",
            "grid_template_rows": null,
            "right": null,
            "justify_content": null,
            "_view_module": "@jupyter-widgets/base",
            "overflow": null,
            "_model_module_version": "1.2.0",
            "_view_count": null,
            "flex_flow": null,
            "width": null,
            "min_width": null,
            "border": null,
            "align_items": null,
            "bottom": null,
            "_model_module": "@jupyter-widgets/base",
            "top": null,
            "grid_column": null,
            "overflow_y": null,
            "overflow_x": null,
            "grid_auto_flow": null,
            "grid_area": null,
            "grid_template_columns": null,
            "flex": null,
            "_model_name": "LayoutModel",
            "justify_items": null,
            "grid_row": null,
            "max_height": null,
            "align_content": null,
            "visibility": null,
            "align_self": null,
            "height": null,
            "min_height": null,
            "padding": null,
            "grid_auto_rows": null,
            "grid_gap": null,
            "max_width": null,
            "order": null,
            "_view_module_version": "1.2.0",
            "grid_template_areas": null,
            "object_position": null,
            "object_fit": null,
            "grid_auto_columns": null,
            "margin": null,
            "display": null,
            "left": null
          }
        },
        "17a09ff9015f4eb2b91ee77b1f7f76e0": {
          "model_module": "@jupyter-widgets/controls",
          "model_name": "HTMLModel",
          "model_module_version": "1.5.0",
          "state": {
            "_view_name": "HTMLView",
            "style": "IPY_MODEL_3b2bcaf5a8f34426bb98ec435603b295",
            "_dom_classes": [],
            "description": "",
            "_model_name": "HTMLModel",
            "placeholder": "​",
            "_view_module": "@jupyter-widgets/controls",
            "_model_module_version": "1.5.0",
            "value": "Upload file pytorch_model.bin: 100%",
            "_view_count": null,
            "_view_module_version": "1.5.0",
            "description_tooltip": null,
            "_model_module": "@jupyter-widgets/controls",
            "layout": "IPY_MODEL_a5b0355d9a2e4125b7244ae5582212c8"
          }
        },
        "9528d69e9b0549f59f84e94f34e5a583": {
          "model_module": "@jupyter-widgets/controls",
          "model_name": "FloatProgressModel",
          "model_module_version": "1.5.0",
          "state": {
            "_view_name": "ProgressView",
            "style": "IPY_MODEL_ea368ae3cbb54a73a06d6fdf30457c02",
            "_dom_classes": [],
            "description": "",
            "_model_name": "FloatProgressModel",
            "bar_style": "success",
            "max": 377670039,
            "_view_module": "@jupyter-widgets/controls",
            "_model_module_version": "1.5.0",
            "value": 377670039,
            "_view_count": null,
            "_view_module_version": "1.5.0",
            "orientation": "horizontal",
            "min": 0,
            "description_tooltip": null,
            "_model_module": "@jupyter-widgets/controls",
            "layout": "IPY_MODEL_4b6973c261204b2bb27596bfe26aea7d"
          }
        },
        "8665ac85023c43c3a1599c381ab07ffa": {
          "model_module": "@jupyter-widgets/controls",
          "model_name": "HTMLModel",
          "model_module_version": "1.5.0",
          "state": {
            "_view_name": "HTMLView",
            "style": "IPY_MODEL_d21e46e22de04ebe9e02b44e71de04f2",
            "_dom_classes": [],
            "description": "",
            "_model_name": "HTMLModel",
            "placeholder": "​",
            "_view_module": "@jupyter-widgets/controls",
            "_model_module_version": "1.5.0",
            "value": " 360M/360M [04:37&lt;00:00, 1.07MB/s]",
            "_view_count": null,
            "_view_module_version": "1.5.0",
            "description_tooltip": null,
            "_model_module": "@jupyter-widgets/controls",
            "layout": "IPY_MODEL_d9813a20998b4f739de3fa1592fa6f6c"
          }
        },
        "3b2bcaf5a8f34426bb98ec435603b295": {
          "model_module": "@jupyter-widgets/controls",
          "model_name": "DescriptionStyleModel",
          "model_module_version": "1.5.0",
          "state": {
            "_view_name": "StyleView",
            "_model_name": "DescriptionStyleModel",
            "description_width": "",
            "_view_module": "@jupyter-widgets/base",
            "_model_module_version": "1.5.0",
            "_view_count": null,
            "_view_module_version": "1.2.0",
            "_model_module": "@jupyter-widgets/controls"
          }
        },
        "a5b0355d9a2e4125b7244ae5582212c8": {
          "model_module": "@jupyter-widgets/base",
          "model_name": "LayoutModel",
          "model_module_version": "1.2.0",
          "state": {
            "_view_name": "LayoutView",
            "grid_template_rows": null,
            "right": null,
            "justify_content": null,
            "_view_module": "@jupyter-widgets/base",
            "overflow": null,
            "_model_module_version": "1.2.0",
            "_view_count": null,
            "flex_flow": null,
            "width": null,
            "min_width": null,
            "border": null,
            "align_items": null,
            "bottom": null,
            "_model_module": "@jupyter-widgets/base",
            "top": null,
            "grid_column": null,
            "overflow_y": null,
            "overflow_x": null,
            "grid_auto_flow": null,
            "grid_area": null,
            "grid_template_columns": null,
            "flex": null,
            "_model_name": "LayoutModel",
            "justify_items": null,
            "grid_row": null,
            "max_height": null,
            "align_content": null,
            "visibility": null,
            "align_self": null,
            "height": null,
            "min_height": null,
            "padding": null,
            "grid_auto_rows": null,
            "grid_gap": null,
            "max_width": null,
            "order": null,
            "_view_module_version": "1.2.0",
            "grid_template_areas": null,
            "object_position": null,
            "object_fit": null,
            "grid_auto_columns": null,
            "margin": null,
            "display": null,
            "left": null
          }
        },
        "ea368ae3cbb54a73a06d6fdf30457c02": {
          "model_module": "@jupyter-widgets/controls",
          "model_name": "ProgressStyleModel",
          "model_module_version": "1.5.0",
          "state": {
            "_view_name": "StyleView",
            "_model_name": "ProgressStyleModel",
            "description_width": "",
            "_view_module": "@jupyter-widgets/base",
            "_model_module_version": "1.5.0",
            "_view_count": null,
            "_view_module_version": "1.2.0",
            "bar_color": null,
            "_model_module": "@jupyter-widgets/controls"
          }
        },
        "4b6973c261204b2bb27596bfe26aea7d": {
          "model_module": "@jupyter-widgets/base",
          "model_name": "LayoutModel",
          "model_module_version": "1.2.0",
          "state": {
            "_view_name": "LayoutView",
            "grid_template_rows": null,
            "right": null,
            "justify_content": null,
            "_view_module": "@jupyter-widgets/base",
            "overflow": null,
            "_model_module_version": "1.2.0",
            "_view_count": null,
            "flex_flow": null,
            "width": null,
            "min_width": null,
            "border": null,
            "align_items": null,
            "bottom": null,
            "_model_module": "@jupyter-widgets/base",
            "top": null,
            "grid_column": null,
            "overflow_y": null,
            "overflow_x": null,
            "grid_auto_flow": null,
            "grid_area": null,
            "grid_template_columns": null,
            "flex": null,
            "_model_name": "LayoutModel",
            "justify_items": null,
            "grid_row": null,
            "max_height": null,
            "align_content": null,
            "visibility": null,
            "align_self": null,
            "height": null,
            "min_height": null,
            "padding": null,
            "grid_auto_rows": null,
            "grid_gap": null,
            "max_width": null,
            "order": null,
            "_view_module_version": "1.2.0",
            "grid_template_areas": null,
            "object_position": null,
            "object_fit": null,
            "grid_auto_columns": null,
            "margin": null,
            "display": null,
            "left": null
          }
        },
        "d21e46e22de04ebe9e02b44e71de04f2": {
          "model_module": "@jupyter-widgets/controls",
          "model_name": "DescriptionStyleModel",
          "model_module_version": "1.5.0",
          "state": {
            "_view_name": "StyleView",
            "_model_name": "DescriptionStyleModel",
            "description_width": "",
            "_view_module": "@jupyter-widgets/base",
            "_model_module_version": "1.5.0",
            "_view_count": null,
            "_view_module_version": "1.2.0",
            "_model_module": "@jupyter-widgets/controls"
          }
        },
        "d9813a20998b4f739de3fa1592fa6f6c": {
          "model_module": "@jupyter-widgets/base",
          "model_name": "LayoutModel",
          "model_module_version": "1.2.0",
          "state": {
            "_view_name": "LayoutView",
            "grid_template_rows": null,
            "right": null,
            "justify_content": null,
            "_view_module": "@jupyter-widgets/base",
            "overflow": null,
            "_model_module_version": "1.2.0",
            "_view_count": null,
            "flex_flow": null,
            "width": null,
            "min_width": null,
            "border": null,
            "align_items": null,
            "bottom": null,
            "_model_module": "@jupyter-widgets/base",
            "top": null,
            "grid_column": null,
            "overflow_y": null,
            "overflow_x": null,
            "grid_auto_flow": null,
            "grid_area": null,
            "grid_template_columns": null,
            "flex": null,
            "_model_name": "LayoutModel",
            "justify_items": null,
            "grid_row": null,
            "max_height": null,
            "align_content": null,
            "visibility": null,
            "align_self": null,
            "height": null,
            "min_height": null,
            "padding": null,
            "grid_auto_rows": null,
            "grid_gap": null,
            "max_width": null,
            "order": null,
            "_view_module_version": "1.2.0",
            "grid_template_areas": null,
            "object_position": null,
            "object_fit": null,
            "grid_auto_columns": null,
            "margin": null,
            "display": null,
            "left": null
          }
        },
        "e9700e09f87a4884b1bdec05bd953c87": {
          "model_module": "@jupyter-widgets/controls",
          "model_name": "HBoxModel",
          "model_module_version": "1.5.0",
          "state": {
            "_view_name": "HBoxView",
            "_dom_classes": [],
            "_model_name": "HBoxModel",
            "_view_module": "@jupyter-widgets/controls",
            "_model_module_version": "1.5.0",
            "_view_count": null,
            "_view_module_version": "1.5.0",
            "box_style": "",
            "layout": "IPY_MODEL_6ab335fdf69045a7a183225814ac50b4",
            "_model_module": "@jupyter-widgets/controls",
            "children": [
              "IPY_MODEL_a7e7d95121934bd4b3cf322636b5ec52",
              "IPY_MODEL_e62e6b3087364568b2919536eed930b4",
              "IPY_MODEL_a60bf0d288ce49f39ce301698528515a"
            ]
          }
        },
        "6ab335fdf69045a7a183225814ac50b4": {
          "model_module": "@jupyter-widgets/base",
          "model_name": "LayoutModel",
          "model_module_version": "1.2.0",
          "state": {
            "_view_name": "LayoutView",
            "grid_template_rows": null,
            "right": null,
            "justify_content": null,
            "_view_module": "@jupyter-widgets/base",
            "overflow": null,
            "_model_module_version": "1.2.0",
            "_view_count": null,
            "flex_flow": null,
            "width": null,
            "min_width": null,
            "border": null,
            "align_items": null,
            "bottom": null,
            "_model_module": "@jupyter-widgets/base",
            "top": null,
            "grid_column": null,
            "overflow_y": null,
            "overflow_x": null,
            "grid_auto_flow": null,
            "grid_area": null,
            "grid_template_columns": null,
            "flex": null,
            "_model_name": "LayoutModel",
            "justify_items": null,
            "grid_row": null,
            "max_height": null,
            "align_content": null,
            "visibility": null,
            "align_self": null,
            "height": null,
            "min_height": null,
            "padding": null,
            "grid_auto_rows": null,
            "grid_gap": null,
            "max_width": null,
            "order": null,
            "_view_module_version": "1.2.0",
            "grid_template_areas": null,
            "object_position": null,
            "object_fit": null,
            "grid_auto_columns": null,
            "margin": null,
            "display": null,
            "left": null
          }
        },
        "a7e7d95121934bd4b3cf322636b5ec52": {
          "model_module": "@jupyter-widgets/controls",
          "model_name": "HTMLModel",
          "model_module_version": "1.5.0",
          "state": {
            "_view_name": "HTMLView",
            "style": "IPY_MODEL_44acbd5e884948b5929f15336986a08e",
            "_dom_classes": [],
            "description": "",
            "_model_name": "HTMLModel",
            "placeholder": "​",
            "_view_module": "@jupyter-widgets/controls",
            "_model_module_version": "1.5.0",
            "value": "Upload file runs/Oct19_15-22-32_c16c65cbdbe5/events.out.tfevents.1634657020.c16c65cbdbe5.77.2: 100%",
            "_view_count": null,
            "_view_module_version": "1.5.0",
            "description_tooltip": null,
            "_model_module": "@jupyter-widgets/controls",
            "layout": "IPY_MODEL_0a7e1500d4764332aae441c0afbe12bf"
          }
        },
        "e62e6b3087364568b2919536eed930b4": {
          "model_module": "@jupyter-widgets/controls",
          "model_name": "FloatProgressModel",
          "model_module_version": "1.5.0",
          "state": {
            "_view_name": "ProgressView",
            "style": "IPY_MODEL_5b1c1ad9f82d491d98e71923057a6181",
            "_dom_classes": [],
            "description": "",
            "_model_name": "FloatProgressModel",
            "bar_style": "success",
            "max": 8164,
            "_view_module": "@jupyter-widgets/controls",
            "_model_module_version": "1.5.0",
            "value": 8164,
            "_view_count": null,
            "_view_module_version": "1.5.0",
            "orientation": "horizontal",
            "min": 0,
            "description_tooltip": null,
            "_model_module": "@jupyter-widgets/controls",
            "layout": "IPY_MODEL_78f37dd782e643d0985b47de288eb6a6"
          }
        },
        "a60bf0d288ce49f39ce301698528515a": {
          "model_module": "@jupyter-widgets/controls",
          "model_name": "HTMLModel",
          "model_module_version": "1.5.0",
          "state": {
            "_view_name": "HTMLView",
            "style": "IPY_MODEL_d578ce02e48c49d7838c002d1d2217fb",
            "_dom_classes": [],
            "description": "",
            "_model_name": "HTMLModel",
            "placeholder": "​",
            "_view_module": "@jupyter-widgets/controls",
            "_model_module_version": "1.5.0",
            "value": " 7.97k/7.97k [04:37&lt;00:00, 17.0B/s]",
            "_view_count": null,
            "_view_module_version": "1.5.0",
            "description_tooltip": null,
            "_model_module": "@jupyter-widgets/controls",
            "layout": "IPY_MODEL_47ae20ba4e5946debdd789af83114d3e"
          }
        },
        "44acbd5e884948b5929f15336986a08e": {
          "model_module": "@jupyter-widgets/controls",
          "model_name": "DescriptionStyleModel",
          "model_module_version": "1.5.0",
          "state": {
            "_view_name": "StyleView",
            "_model_name": "DescriptionStyleModel",
            "description_width": "",
            "_view_module": "@jupyter-widgets/base",
            "_model_module_version": "1.5.0",
            "_view_count": null,
            "_view_module_version": "1.2.0",
            "_model_module": "@jupyter-widgets/controls"
          }
        },
        "0a7e1500d4764332aae441c0afbe12bf": {
          "model_module": "@jupyter-widgets/base",
          "model_name": "LayoutModel",
          "model_module_version": "1.2.0",
          "state": {
            "_view_name": "LayoutView",
            "grid_template_rows": null,
            "right": null,
            "justify_content": null,
            "_view_module": "@jupyter-widgets/base",
            "overflow": null,
            "_model_module_version": "1.2.0",
            "_view_count": null,
            "flex_flow": null,
            "width": null,
            "min_width": null,
            "border": null,
            "align_items": null,
            "bottom": null,
            "_model_module": "@jupyter-widgets/base",
            "top": null,
            "grid_column": null,
            "overflow_y": null,
            "overflow_x": null,
            "grid_auto_flow": null,
            "grid_area": null,
            "grid_template_columns": null,
            "flex": null,
            "_model_name": "LayoutModel",
            "justify_items": null,
            "grid_row": null,
            "max_height": null,
            "align_content": null,
            "visibility": null,
            "align_self": null,
            "height": null,
            "min_height": null,
            "padding": null,
            "grid_auto_rows": null,
            "grid_gap": null,
            "max_width": null,
            "order": null,
            "_view_module_version": "1.2.0",
            "grid_template_areas": null,
            "object_position": null,
            "object_fit": null,
            "grid_auto_columns": null,
            "margin": null,
            "display": null,
            "left": null
          }
        },
        "5b1c1ad9f82d491d98e71923057a6181": {
          "model_module": "@jupyter-widgets/controls",
          "model_name": "ProgressStyleModel",
          "model_module_version": "1.5.0",
          "state": {
            "_view_name": "StyleView",
            "_model_name": "ProgressStyleModel",
            "description_width": "",
            "_view_module": "@jupyter-widgets/base",
            "_model_module_version": "1.5.0",
            "_view_count": null,
            "_view_module_version": "1.2.0",
            "bar_color": null,
            "_model_module": "@jupyter-widgets/controls"
          }
        },
        "78f37dd782e643d0985b47de288eb6a6": {
          "model_module": "@jupyter-widgets/base",
          "model_name": "LayoutModel",
          "model_module_version": "1.2.0",
          "state": {
            "_view_name": "LayoutView",
            "grid_template_rows": null,
            "right": null,
            "justify_content": null,
            "_view_module": "@jupyter-widgets/base",
            "overflow": null,
            "_model_module_version": "1.2.0",
            "_view_count": null,
            "flex_flow": null,
            "width": null,
            "min_width": null,
            "border": null,
            "align_items": null,
            "bottom": null,
            "_model_module": "@jupyter-widgets/base",
            "top": null,
            "grid_column": null,
            "overflow_y": null,
            "overflow_x": null,
            "grid_auto_flow": null,
            "grid_area": null,
            "grid_template_columns": null,
            "flex": null,
            "_model_name": "LayoutModel",
            "justify_items": null,
            "grid_row": null,
            "max_height": null,
            "align_content": null,
            "visibility": null,
            "align_self": null,
            "height": null,
            "min_height": null,
            "padding": null,
            "grid_auto_rows": null,
            "grid_gap": null,
            "max_width": null,
            "order": null,
            "_view_module_version": "1.2.0",
            "grid_template_areas": null,
            "object_position": null,
            "object_fit": null,
            "grid_auto_columns": null,
            "margin": null,
            "display": null,
            "left": null
          }
        },
        "d578ce02e48c49d7838c002d1d2217fb": {
          "model_module": "@jupyter-widgets/controls",
          "model_name": "DescriptionStyleModel",
          "model_module_version": "1.5.0",
          "state": {
            "_view_name": "StyleView",
            "_model_name": "DescriptionStyleModel",
            "description_width": "",
            "_view_module": "@jupyter-widgets/base",
            "_model_module_version": "1.5.0",
            "_view_count": null,
            "_view_module_version": "1.2.0",
            "_model_module": "@jupyter-widgets/controls"
          }
        },
        "47ae20ba4e5946debdd789af83114d3e": {
          "model_module": "@jupyter-widgets/base",
          "model_name": "LayoutModel",
          "model_module_version": "1.2.0",
          "state": {
            "_view_name": "LayoutView",
            "grid_template_rows": null,
            "right": null,
            "justify_content": null,
            "_view_module": "@jupyter-widgets/base",
            "overflow": null,
            "_model_module_version": "1.2.0",
            "_view_count": null,
            "flex_flow": null,
            "width": null,
            "min_width": null,
            "border": null,
            "align_items": null,
            "bottom": null,
            "_model_module": "@jupyter-widgets/base",
            "top": null,
            "grid_column": null,
            "overflow_y": null,
            "overflow_x": null,
            "grid_auto_flow": null,
            "grid_area": null,
            "grid_template_columns": null,
            "flex": null,
            "_model_name": "LayoutModel",
            "justify_items": null,
            "grid_row": null,
            "max_height": null,
            "align_content": null,
            "visibility": null,
            "align_self": null,
            "height": null,
            "min_height": null,
            "padding": null,
            "grid_auto_rows": null,
            "grid_gap": null,
            "max_width": null,
            "order": null,
            "_view_module_version": "1.2.0",
            "grid_template_areas": null,
            "object_position": null,
            "object_fit": null,
            "grid_auto_columns": null,
            "margin": null,
            "display": null,
            "left": null
          }
        },
        "15e7f43ef23e45c38b9f2f11b3ea9745": {
          "model_module": "@jupyter-widgets/controls",
          "model_name": "HBoxModel",
          "model_module_version": "1.5.0",
          "state": {
            "_view_name": "HBoxView",
            "_dom_classes": [],
            "_model_name": "HBoxModel",
            "_view_module": "@jupyter-widgets/controls",
            "_model_module_version": "1.5.0",
            "_view_count": null,
            "_view_module_version": "1.5.0",
            "box_style": "",
            "layout": "IPY_MODEL_70786689be0f4c5d89f24f37c9d37ba2",
            "_model_module": "@jupyter-widgets/controls",
            "children": [
              "IPY_MODEL_3f3ced6a17494a329207e2c7a48b3d78",
              "IPY_MODEL_277de4b0b44d45ed8e41c727bcaf0322",
              "IPY_MODEL_14d7351371f643e0bd864b1ae418f00e"
            ]
          }
        },
        "70786689be0f4c5d89f24f37c9d37ba2": {
          "model_module": "@jupyter-widgets/base",
          "model_name": "LayoutModel",
          "model_module_version": "1.2.0",
          "state": {
            "_view_name": "LayoutView",
            "grid_template_rows": null,
            "right": null,
            "justify_content": null,
            "_view_module": "@jupyter-widgets/base",
            "overflow": null,
            "_model_module_version": "1.2.0",
            "_view_count": null,
            "flex_flow": null,
            "width": null,
            "min_width": null,
            "border": null,
            "align_items": null,
            "bottom": null,
            "_model_module": "@jupyter-widgets/base",
            "top": null,
            "grid_column": null,
            "overflow_y": null,
            "overflow_x": null,
            "grid_auto_flow": null,
            "grid_area": null,
            "grid_template_columns": null,
            "flex": null,
            "_model_name": "LayoutModel",
            "justify_items": null,
            "grid_row": null,
            "max_height": null,
            "align_content": null,
            "visibility": null,
            "align_self": null,
            "height": null,
            "min_height": null,
            "padding": null,
            "grid_auto_rows": null,
            "grid_gap": null,
            "max_width": null,
            "order": null,
            "_view_module_version": "1.2.0",
            "grid_template_areas": null,
            "object_position": null,
            "object_fit": null,
            "grid_auto_columns": null,
            "margin": null,
            "display": null,
            "left": null
          }
        },
        "3f3ced6a17494a329207e2c7a48b3d78": {
          "model_module": "@jupyter-widgets/controls",
          "model_name": "HTMLModel",
          "model_module_version": "1.5.0",
          "state": {
            "_view_name": "HTMLView",
            "style": "IPY_MODEL_0b2943dee47d4842a246a047607af7c1",
            "_dom_classes": [],
            "description": "",
            "_model_name": "HTMLModel",
            "placeholder": "​",
            "_view_module": "@jupyter-widgets/controls",
            "_model_module_version": "1.5.0",
            "value": "Downloading: 100%",
            "_view_count": null,
            "_view_module_version": "1.5.0",
            "description_tooltip": null,
            "_model_module": "@jupyter-widgets/controls",
            "layout": "IPY_MODEL_dfa667744f6645e2a2d878fd923cbb7a"
          }
        },
        "277de4b0b44d45ed8e41c727bcaf0322": {
          "model_module": "@jupyter-widgets/controls",
          "model_name": "FloatProgressModel",
          "model_module_version": "1.5.0",
          "state": {
            "_view_name": "ProgressView",
            "style": "IPY_MODEL_8bdf8edddbaa4e33a214cebad3f124c2",
            "_dom_classes": [],
            "description": "",
            "_model_name": "FloatProgressModel",
            "bar_style": "success",
            "max": 215,
            "_view_module": "@jupyter-widgets/controls",
            "_model_module_version": "1.5.0",
            "value": 215,
            "_view_count": null,
            "_view_module_version": "1.5.0",
            "orientation": "horizontal",
            "min": 0,
            "description_tooltip": null,
            "_model_module": "@jupyter-widgets/controls",
            "layout": "IPY_MODEL_960e03228c4540ac97e2144de0599956"
          }
        },
        "14d7351371f643e0bd864b1ae418f00e": {
          "model_module": "@jupyter-widgets/controls",
          "model_name": "HTMLModel",
          "model_module_version": "1.5.0",
          "state": {
            "_view_name": "HTMLView",
            "style": "IPY_MODEL_603976ce12a54beabcee636dd2c7f360",
            "_dom_classes": [],
            "description": "",
            "_model_name": "HTMLModel",
            "placeholder": "​",
            "_view_module": "@jupyter-widgets/controls",
            "_model_module_version": "1.5.0",
            "value": " 215/215 [00:00&lt;00:00, 6.24kB/s]",
            "_view_count": null,
            "_view_module_version": "1.5.0",
            "description_tooltip": null,
            "_model_module": "@jupyter-widgets/controls",
            "layout": "IPY_MODEL_e344ea6026d44246923f7866fb272f85"
          }
        },
        "0b2943dee47d4842a246a047607af7c1": {
          "model_module": "@jupyter-widgets/controls",
          "model_name": "DescriptionStyleModel",
          "model_module_version": "1.5.0",
          "state": {
            "_view_name": "StyleView",
            "_model_name": "DescriptionStyleModel",
            "description_width": "",
            "_view_module": "@jupyter-widgets/base",
            "_model_module_version": "1.5.0",
            "_view_count": null,
            "_view_module_version": "1.2.0",
            "_model_module": "@jupyter-widgets/controls"
          }
        },
        "dfa667744f6645e2a2d878fd923cbb7a": {
          "model_module": "@jupyter-widgets/base",
          "model_name": "LayoutModel",
          "model_module_version": "1.2.0",
          "state": {
            "_view_name": "LayoutView",
            "grid_template_rows": null,
            "right": null,
            "justify_content": null,
            "_view_module": "@jupyter-widgets/base",
            "overflow": null,
            "_model_module_version": "1.2.0",
            "_view_count": null,
            "flex_flow": null,
            "width": null,
            "min_width": null,
            "border": null,
            "align_items": null,
            "bottom": null,
            "_model_module": "@jupyter-widgets/base",
            "top": null,
            "grid_column": null,
            "overflow_y": null,
            "overflow_x": null,
            "grid_auto_flow": null,
            "grid_area": null,
            "grid_template_columns": null,
            "flex": null,
            "_model_name": "LayoutModel",
            "justify_items": null,
            "grid_row": null,
            "max_height": null,
            "align_content": null,
            "visibility": null,
            "align_self": null,
            "height": null,
            "min_height": null,
            "padding": null,
            "grid_auto_rows": null,
            "grid_gap": null,
            "max_width": null,
            "order": null,
            "_view_module_version": "1.2.0",
            "grid_template_areas": null,
            "object_position": null,
            "object_fit": null,
            "grid_auto_columns": null,
            "margin": null,
            "display": null,
            "left": null
          }
        },
        "8bdf8edddbaa4e33a214cebad3f124c2": {
          "model_module": "@jupyter-widgets/controls",
          "model_name": "ProgressStyleModel",
          "model_module_version": "1.5.0",
          "state": {
            "_view_name": "StyleView",
            "_model_name": "ProgressStyleModel",
            "description_width": "",
            "_view_module": "@jupyter-widgets/base",
            "_model_module_version": "1.5.0",
            "_view_count": null,
            "_view_module_version": "1.2.0",
            "bar_color": null,
            "_model_module": "@jupyter-widgets/controls"
          }
        },
        "960e03228c4540ac97e2144de0599956": {
          "model_module": "@jupyter-widgets/base",
          "model_name": "LayoutModel",
          "model_module_version": "1.2.0",
          "state": {
            "_view_name": "LayoutView",
            "grid_template_rows": null,
            "right": null,
            "justify_content": null,
            "_view_module": "@jupyter-widgets/base",
            "overflow": null,
            "_model_module_version": "1.2.0",
            "_view_count": null,
            "flex_flow": null,
            "width": null,
            "min_width": null,
            "border": null,
            "align_items": null,
            "bottom": null,
            "_model_module": "@jupyter-widgets/base",
            "top": null,
            "grid_column": null,
            "overflow_y": null,
            "overflow_x": null,
            "grid_auto_flow": null,
            "grid_area": null,
            "grid_template_columns": null,
            "flex": null,
            "_model_name": "LayoutModel",
            "justify_items": null,
            "grid_row": null,
            "max_height": null,
            "align_content": null,
            "visibility": null,
            "align_self": null,
            "height": null,
            "min_height": null,
            "padding": null,
            "grid_auto_rows": null,
            "grid_gap": null,
            "max_width": null,
            "order": null,
            "_view_module_version": "1.2.0",
            "grid_template_areas": null,
            "object_position": null,
            "object_fit": null,
            "grid_auto_columns": null,
            "margin": null,
            "display": null,
            "left": null
          }
        },
        "603976ce12a54beabcee636dd2c7f360": {
          "model_module": "@jupyter-widgets/controls",
          "model_name": "DescriptionStyleModel",
          "model_module_version": "1.5.0",
          "state": {
            "_view_name": "StyleView",
            "_model_name": "DescriptionStyleModel",
            "description_width": "",
            "_view_module": "@jupyter-widgets/base",
            "_model_module_version": "1.5.0",
            "_view_count": null,
            "_view_module_version": "1.2.0",
            "_model_module": "@jupyter-widgets/controls"
          }
        },
        "e344ea6026d44246923f7866fb272f85": {
          "model_module": "@jupyter-widgets/base",
          "model_name": "LayoutModel",
          "model_module_version": "1.2.0",
          "state": {
            "_view_name": "LayoutView",
            "grid_template_rows": null,
            "right": null,
            "justify_content": null,
            "_view_module": "@jupyter-widgets/base",
            "overflow": null,
            "_model_module_version": "1.2.0",
            "_view_count": null,
            "flex_flow": null,
            "width": null,
            "min_width": null,
            "border": null,
            "align_items": null,
            "bottom": null,
            "_model_module": "@jupyter-widgets/base",
            "top": null,
            "grid_column": null,
            "overflow_y": null,
            "overflow_x": null,
            "grid_auto_flow": null,
            "grid_area": null,
            "grid_template_columns": null,
            "flex": null,
            "_model_name": "LayoutModel",
            "justify_items": null,
            "grid_row": null,
            "max_height": null,
            "align_content": null,
            "visibility": null,
            "align_self": null,
            "height": null,
            "min_height": null,
            "padding": null,
            "grid_auto_rows": null,
            "grid_gap": null,
            "max_width": null,
            "order": null,
            "_view_module_version": "1.2.0",
            "grid_template_areas": null,
            "object_position": null,
            "object_fit": null,
            "grid_auto_columns": null,
            "margin": null,
            "display": null,
            "left": null
          }
        },
        "5d18daca7f9f47f382fc87bfeecaacd8": {
          "model_module": "@jupyter-widgets/controls",
          "model_name": "HBoxModel",
          "model_module_version": "1.5.0",
          "state": {
            "_view_name": "HBoxView",
            "_dom_classes": [],
            "_model_name": "HBoxModel",
            "_view_module": "@jupyter-widgets/controls",
            "_model_module_version": "1.5.0",
            "_view_count": null,
            "_view_module_version": "1.5.0",
            "box_style": "",
            "layout": "IPY_MODEL_67c0e33e08c746afa24f28e0cd242c21",
            "_model_module": "@jupyter-widgets/controls",
            "children": [
              "IPY_MODEL_763c597f7f6540d7ad6441bfc2ee1102",
              "IPY_MODEL_3a68b633b5664faf999bd2bbacf79125",
              "IPY_MODEL_71747cffadbf40a3bf5aa0f534113c00"
            ]
          }
        },
        "67c0e33e08c746afa24f28e0cd242c21": {
          "model_module": "@jupyter-widgets/base",
          "model_name": "LayoutModel",
          "model_module_version": "1.2.0",
          "state": {
            "_view_name": "LayoutView",
            "grid_template_rows": null,
            "right": null,
            "justify_content": null,
            "_view_module": "@jupyter-widgets/base",
            "overflow": null,
            "_model_module_version": "1.2.0",
            "_view_count": null,
            "flex_flow": null,
            "width": null,
            "min_width": null,
            "border": null,
            "align_items": null,
            "bottom": null,
            "_model_module": "@jupyter-widgets/base",
            "top": null,
            "grid_column": null,
            "overflow_y": null,
            "overflow_x": null,
            "grid_auto_flow": null,
            "grid_area": null,
            "grid_template_columns": null,
            "flex": null,
            "_model_name": "LayoutModel",
            "justify_items": null,
            "grid_row": null,
            "max_height": null,
            "align_content": null,
            "visibility": null,
            "align_self": null,
            "height": null,
            "min_height": null,
            "padding": null,
            "grid_auto_rows": null,
            "grid_gap": null,
            "max_width": null,
            "order": null,
            "_view_module_version": "1.2.0",
            "grid_template_areas": null,
            "object_position": null,
            "object_fit": null,
            "grid_auto_columns": null,
            "margin": null,
            "display": null,
            "left": null
          }
        },
        "763c597f7f6540d7ad6441bfc2ee1102": {
          "model_module": "@jupyter-widgets/controls",
          "model_name": "HTMLModel",
          "model_module_version": "1.5.0",
          "state": {
            "_view_name": "HTMLView",
            "style": "IPY_MODEL_a5b1e1bcf377460ebabc8ba88957206e",
            "_dom_classes": [],
            "description": "",
            "_model_name": "HTMLModel",
            "placeholder": "​",
            "_view_module": "@jupyter-widgets/controls",
            "_model_module_version": "1.5.0",
            "value": "Downloading: 100%",
            "_view_count": null,
            "_view_module_version": "1.5.0",
            "description_tooltip": null,
            "_model_module": "@jupyter-widgets/controls",
            "layout": "IPY_MODEL_ab6c2e67ee7c423da8fcdada2d18d883"
          }
        },
        "3a68b633b5664faf999bd2bbacf79125": {
          "model_module": "@jupyter-widgets/controls",
          "model_name": "FloatProgressModel",
          "model_module_version": "1.5.0",
          "state": {
            "_view_name": "ProgressView",
            "style": "IPY_MODEL_fe9d785b39be443584872ea994cb9c45",
            "_dom_classes": [],
            "description": "",
            "_model_name": "FloatProgressModel",
            "bar_style": "success",
            "max": 268,
            "_view_module": "@jupyter-widgets/controls",
            "_model_module_version": "1.5.0",
            "value": 268,
            "_view_count": null,
            "_view_module_version": "1.5.0",
            "orientation": "horizontal",
            "min": 0,
            "description_tooltip": null,
            "_model_module": "@jupyter-widgets/controls",
            "layout": "IPY_MODEL_b4ad8f1142834b04b72373b7b8cd9e97"
          }
        },
        "71747cffadbf40a3bf5aa0f534113c00": {
          "model_module": "@jupyter-widgets/controls",
          "model_name": "HTMLModel",
          "model_module_version": "1.5.0",
          "state": {
            "_view_name": "HTMLView",
            "style": "IPY_MODEL_5dd3fb0b143041b685b6c9164782ab53",
            "_dom_classes": [],
            "description": "",
            "_model_name": "HTMLModel",
            "placeholder": "​",
            "_view_module": "@jupyter-widgets/controls",
            "_model_module_version": "1.5.0",
            "value": " 268/268 [00:00&lt;00:00, 7.66kB/s]",
            "_view_count": null,
            "_view_module_version": "1.5.0",
            "description_tooltip": null,
            "_model_module": "@jupyter-widgets/controls",
            "layout": "IPY_MODEL_5f0c8b819326464aa17802c497be68ff"
          }
        },
        "a5b1e1bcf377460ebabc8ba88957206e": {
          "model_module": "@jupyter-widgets/controls",
          "model_name": "DescriptionStyleModel",
          "model_module_version": "1.5.0",
          "state": {
            "_view_name": "StyleView",
            "_model_name": "DescriptionStyleModel",
            "description_width": "",
            "_view_module": "@jupyter-widgets/base",
            "_model_module_version": "1.5.0",
            "_view_count": null,
            "_view_module_version": "1.2.0",
            "_model_module": "@jupyter-widgets/controls"
          }
        },
        "ab6c2e67ee7c423da8fcdada2d18d883": {
          "model_module": "@jupyter-widgets/base",
          "model_name": "LayoutModel",
          "model_module_version": "1.2.0",
          "state": {
            "_view_name": "LayoutView",
            "grid_template_rows": null,
            "right": null,
            "justify_content": null,
            "_view_module": "@jupyter-widgets/base",
            "overflow": null,
            "_model_module_version": "1.2.0",
            "_view_count": null,
            "flex_flow": null,
            "width": null,
            "min_width": null,
            "border": null,
            "align_items": null,
            "bottom": null,
            "_model_module": "@jupyter-widgets/base",
            "top": null,
            "grid_column": null,
            "overflow_y": null,
            "overflow_x": null,
            "grid_auto_flow": null,
            "grid_area": null,
            "grid_template_columns": null,
            "flex": null,
            "_model_name": "LayoutModel",
            "justify_items": null,
            "grid_row": null,
            "max_height": null,
            "align_content": null,
            "visibility": null,
            "align_self": null,
            "height": null,
            "min_height": null,
            "padding": null,
            "grid_auto_rows": null,
            "grid_gap": null,
            "max_width": null,
            "order": null,
            "_view_module_version": "1.2.0",
            "grid_template_areas": null,
            "object_position": null,
            "object_fit": null,
            "grid_auto_columns": null,
            "margin": null,
            "display": null,
            "left": null
          }
        },
        "fe9d785b39be443584872ea994cb9c45": {
          "model_module": "@jupyter-widgets/controls",
          "model_name": "ProgressStyleModel",
          "model_module_version": "1.5.0",
          "state": {
            "_view_name": "StyleView",
            "_model_name": "ProgressStyleModel",
            "description_width": "",
            "_view_module": "@jupyter-widgets/base",
            "_model_module_version": "1.5.0",
            "_view_count": null,
            "_view_module_version": "1.2.0",
            "bar_color": null,
            "_model_module": "@jupyter-widgets/controls"
          }
        },
        "b4ad8f1142834b04b72373b7b8cd9e97": {
          "model_module": "@jupyter-widgets/base",
          "model_name": "LayoutModel",
          "model_module_version": "1.2.0",
          "state": {
            "_view_name": "LayoutView",
            "grid_template_rows": null,
            "right": null,
            "justify_content": null,
            "_view_module": "@jupyter-widgets/base",
            "overflow": null,
            "_model_module_version": "1.2.0",
            "_view_count": null,
            "flex_flow": null,
            "width": null,
            "min_width": null,
            "border": null,
            "align_items": null,
            "bottom": null,
            "_model_module": "@jupyter-widgets/base",
            "top": null,
            "grid_column": null,
            "overflow_y": null,
            "overflow_x": null,
            "grid_auto_flow": null,
            "grid_area": null,
            "grid_template_columns": null,
            "flex": null,
            "_model_name": "LayoutModel",
            "justify_items": null,
            "grid_row": null,
            "max_height": null,
            "align_content": null,
            "visibility": null,
            "align_self": null,
            "height": null,
            "min_height": null,
            "padding": null,
            "grid_auto_rows": null,
            "grid_gap": null,
            "max_width": null,
            "order": null,
            "_view_module_version": "1.2.0",
            "grid_template_areas": null,
            "object_position": null,
            "object_fit": null,
            "grid_auto_columns": null,
            "margin": null,
            "display": null,
            "left": null
          }
        },
        "5dd3fb0b143041b685b6c9164782ab53": {
          "model_module": "@jupyter-widgets/controls",
          "model_name": "DescriptionStyleModel",
          "model_module_version": "1.5.0",
          "state": {
            "_view_name": "StyleView",
            "_model_name": "DescriptionStyleModel",
            "description_width": "",
            "_view_module": "@jupyter-widgets/base",
            "_model_module_version": "1.5.0",
            "_view_count": null,
            "_view_module_version": "1.2.0",
            "_model_module": "@jupyter-widgets/controls"
          }
        },
        "5f0c8b819326464aa17802c497be68ff": {
          "model_module": "@jupyter-widgets/base",
          "model_name": "LayoutModel",
          "model_module_version": "1.2.0",
          "state": {
            "_view_name": "LayoutView",
            "grid_template_rows": null,
            "right": null,
            "justify_content": null,
            "_view_module": "@jupyter-widgets/base",
            "overflow": null,
            "_model_module_version": "1.2.0",
            "_view_count": null,
            "flex_flow": null,
            "width": null,
            "min_width": null,
            "border": null,
            "align_items": null,
            "bottom": null,
            "_model_module": "@jupyter-widgets/base",
            "top": null,
            "grid_column": null,
            "overflow_y": null,
            "overflow_x": null,
            "grid_auto_flow": null,
            "grid_area": null,
            "grid_template_columns": null,
            "flex": null,
            "_model_name": "LayoutModel",
            "justify_items": null,
            "grid_row": null,
            "max_height": null,
            "align_content": null,
            "visibility": null,
            "align_self": null,
            "height": null,
            "min_height": null,
            "padding": null,
            "grid_auto_rows": null,
            "grid_gap": null,
            "max_width": null,
            "order": null,
            "_view_module_version": "1.2.0",
            "grid_template_areas": null,
            "object_position": null,
            "object_fit": null,
            "grid_auto_columns": null,
            "margin": null,
            "display": null,
            "left": null
          }
        },
        "c9934470d6dd47f8a5a0dbf4cc0179ff": {
          "model_module": "@jupyter-widgets/controls",
          "model_name": "HBoxModel",
          "model_module_version": "1.5.0",
          "state": {
            "_view_name": "HBoxView",
            "_dom_classes": [],
            "_model_name": "HBoxModel",
            "_view_module": "@jupyter-widgets/controls",
            "_model_module_version": "1.5.0",
            "_view_count": null,
            "_view_module_version": "1.5.0",
            "box_style": "",
            "layout": "IPY_MODEL_5449e6f4e1d3423488ff8bea71316ff9",
            "_model_module": "@jupyter-widgets/controls",
            "children": [
              "IPY_MODEL_bf53200f59de4e818ee3a218b9184c51",
              "IPY_MODEL_bdb861cb47834d2eba1a25dd78256858",
              "IPY_MODEL_93d4c6792018431bb2aa44dbab7ac413"
            ]
          }
        },
        "5449e6f4e1d3423488ff8bea71316ff9": {
          "model_module": "@jupyter-widgets/base",
          "model_name": "LayoutModel",
          "model_module_version": "1.2.0",
          "state": {
            "_view_name": "LayoutView",
            "grid_template_rows": null,
            "right": null,
            "justify_content": null,
            "_view_module": "@jupyter-widgets/base",
            "overflow": null,
            "_model_module_version": "1.2.0",
            "_view_count": null,
            "flex_flow": null,
            "width": null,
            "min_width": null,
            "border": null,
            "align_items": null,
            "bottom": null,
            "_model_module": "@jupyter-widgets/base",
            "top": null,
            "grid_column": null,
            "overflow_y": null,
            "overflow_x": null,
            "grid_auto_flow": null,
            "grid_area": null,
            "grid_template_columns": null,
            "flex": null,
            "_model_name": "LayoutModel",
            "justify_items": null,
            "grid_row": null,
            "max_height": null,
            "align_content": null,
            "visibility": null,
            "align_self": null,
            "height": null,
            "min_height": null,
            "padding": null,
            "grid_auto_rows": null,
            "grid_gap": null,
            "max_width": null,
            "order": null,
            "_view_module_version": "1.2.0",
            "grid_template_areas": null,
            "object_position": null,
            "object_fit": null,
            "grid_auto_columns": null,
            "margin": null,
            "display": null,
            "left": null
          }
        },
        "bf53200f59de4e818ee3a218b9184c51": {
          "model_module": "@jupyter-widgets/controls",
          "model_name": "HTMLModel",
          "model_module_version": "1.5.0",
          "state": {
            "_view_name": "HTMLView",
            "style": "IPY_MODEL_e83621d2a3894a4287ccf931430ae8b9",
            "_dom_classes": [],
            "description": "",
            "_model_name": "HTMLModel",
            "placeholder": "​",
            "_view_module": "@jupyter-widgets/controls",
            "_model_module_version": "1.5.0",
            "value": "Downloading: 100%",
            "_view_count": null,
            "_view_module_version": "1.5.0",
            "description_tooltip": null,
            "_model_module": "@jupyter-widgets/controls",
            "layout": "IPY_MODEL_e9ade325aaa749ea9b32e4ff45a0ab8d"
          }
        },
        "bdb861cb47834d2eba1a25dd78256858": {
          "model_module": "@jupyter-widgets/controls",
          "model_name": "FloatProgressModel",
          "model_module_version": "1.5.0",
          "state": {
            "_view_name": "ProgressView",
            "style": "IPY_MODEL_f7f6ad344bcd4302bbd9b7846dbc9491",
            "_dom_classes": [],
            "description": "",
            "_model_name": "FloatProgressModel",
            "bar_style": "success",
            "max": 181,
            "_view_module": "@jupyter-widgets/controls",
            "_model_module_version": "1.5.0",
            "value": 181,
            "_view_count": null,
            "_view_module_version": "1.5.0",
            "orientation": "horizontal",
            "min": 0,
            "description_tooltip": null,
            "_model_module": "@jupyter-widgets/controls",
            "layout": "IPY_MODEL_8422cbba208b46b698793f1b28333011"
          }
        },
        "93d4c6792018431bb2aa44dbab7ac413": {
          "model_module": "@jupyter-widgets/controls",
          "model_name": "HTMLModel",
          "model_module_version": "1.5.0",
          "state": {
            "_view_name": "HTMLView",
            "style": "IPY_MODEL_adfc9c18f1394afba35adb8ca6d804c8",
            "_dom_classes": [],
            "description": "",
            "_model_name": "HTMLModel",
            "placeholder": "​",
            "_view_module": "@jupyter-widgets/controls",
            "_model_module_version": "1.5.0",
            "value": " 181/181 [00:00&lt;00:00, 5.61kB/s]",
            "_view_count": null,
            "_view_module_version": "1.5.0",
            "description_tooltip": null,
            "_model_module": "@jupyter-widgets/controls",
            "layout": "IPY_MODEL_06ea7ced00074f18be8d701840e57af5"
          }
        },
        "e83621d2a3894a4287ccf931430ae8b9": {
          "model_module": "@jupyter-widgets/controls",
          "model_name": "DescriptionStyleModel",
          "model_module_version": "1.5.0",
          "state": {
            "_view_name": "StyleView",
            "_model_name": "DescriptionStyleModel",
            "description_width": "",
            "_view_module": "@jupyter-widgets/base",
            "_model_module_version": "1.5.0",
            "_view_count": null,
            "_view_module_version": "1.2.0",
            "_model_module": "@jupyter-widgets/controls"
          }
        },
        "e9ade325aaa749ea9b32e4ff45a0ab8d": {
          "model_module": "@jupyter-widgets/base",
          "model_name": "LayoutModel",
          "model_module_version": "1.2.0",
          "state": {
            "_view_name": "LayoutView",
            "grid_template_rows": null,
            "right": null,
            "justify_content": null,
            "_view_module": "@jupyter-widgets/base",
            "overflow": null,
            "_model_module_version": "1.2.0",
            "_view_count": null,
            "flex_flow": null,
            "width": null,
            "min_width": null,
            "border": null,
            "align_items": null,
            "bottom": null,
            "_model_module": "@jupyter-widgets/base",
            "top": null,
            "grid_column": null,
            "overflow_y": null,
            "overflow_x": null,
            "grid_auto_flow": null,
            "grid_area": null,
            "grid_template_columns": null,
            "flex": null,
            "_model_name": "LayoutModel",
            "justify_items": null,
            "grid_row": null,
            "max_height": null,
            "align_content": null,
            "visibility": null,
            "align_self": null,
            "height": null,
            "min_height": null,
            "padding": null,
            "grid_auto_rows": null,
            "grid_gap": null,
            "max_width": null,
            "order": null,
            "_view_module_version": "1.2.0",
            "grid_template_areas": null,
            "object_position": null,
            "object_fit": null,
            "grid_auto_columns": null,
            "margin": null,
            "display": null,
            "left": null
          }
        },
        "f7f6ad344bcd4302bbd9b7846dbc9491": {
          "model_module": "@jupyter-widgets/controls",
          "model_name": "ProgressStyleModel",
          "model_module_version": "1.5.0",
          "state": {
            "_view_name": "StyleView",
            "_model_name": "ProgressStyleModel",
            "description_width": "",
            "_view_module": "@jupyter-widgets/base",
            "_model_module_version": "1.5.0",
            "_view_count": null,
            "_view_module_version": "1.2.0",
            "bar_color": null,
            "_model_module": "@jupyter-widgets/controls"
          }
        },
        "8422cbba208b46b698793f1b28333011": {
          "model_module": "@jupyter-widgets/base",
          "model_name": "LayoutModel",
          "model_module_version": "1.2.0",
          "state": {
            "_view_name": "LayoutView",
            "grid_template_rows": null,
            "right": null,
            "justify_content": null,
            "_view_module": "@jupyter-widgets/base",
            "overflow": null,
            "_model_module_version": "1.2.0",
            "_view_count": null,
            "flex_flow": null,
            "width": null,
            "min_width": null,
            "border": null,
            "align_items": null,
            "bottom": null,
            "_model_module": "@jupyter-widgets/base",
            "top": null,
            "grid_column": null,
            "overflow_y": null,
            "overflow_x": null,
            "grid_auto_flow": null,
            "grid_area": null,
            "grid_template_columns": null,
            "flex": null,
            "_model_name": "LayoutModel",
            "justify_items": null,
            "grid_row": null,
            "max_height": null,
            "align_content": null,
            "visibility": null,
            "align_self": null,
            "height": null,
            "min_height": null,
            "padding": null,
            "grid_auto_rows": null,
            "grid_gap": null,
            "max_width": null,
            "order": null,
            "_view_module_version": "1.2.0",
            "grid_template_areas": null,
            "object_position": null,
            "object_fit": null,
            "grid_auto_columns": null,
            "margin": null,
            "display": null,
            "left": null
          }
        },
        "adfc9c18f1394afba35adb8ca6d804c8": {
          "model_module": "@jupyter-widgets/controls",
          "model_name": "DescriptionStyleModel",
          "model_module_version": "1.5.0",
          "state": {
            "_view_name": "StyleView",
            "_model_name": "DescriptionStyleModel",
            "description_width": "",
            "_view_module": "@jupyter-widgets/base",
            "_model_module_version": "1.5.0",
            "_view_count": null,
            "_view_module_version": "1.2.0",
            "_model_module": "@jupyter-widgets/controls"
          }
        },
        "06ea7ced00074f18be8d701840e57af5": {
          "model_module": "@jupyter-widgets/base",
          "model_name": "LayoutModel",
          "model_module_version": "1.2.0",
          "state": {
            "_view_name": "LayoutView",
            "grid_template_rows": null,
            "right": null,
            "justify_content": null,
            "_view_module": "@jupyter-widgets/base",
            "overflow": null,
            "_model_module_version": "1.2.0",
            "_view_count": null,
            "flex_flow": null,
            "width": null,
            "min_width": null,
            "border": null,
            "align_items": null,
            "bottom": null,
            "_model_module": "@jupyter-widgets/base",
            "top": null,
            "grid_column": null,
            "overflow_y": null,
            "overflow_x": null,
            "grid_auto_flow": null,
            "grid_area": null,
            "grid_template_columns": null,
            "flex": null,
            "_model_name": "LayoutModel",
            "justify_items": null,
            "grid_row": null,
            "max_height": null,
            "align_content": null,
            "visibility": null,
            "align_self": null,
            "height": null,
            "min_height": null,
            "padding": null,
            "grid_auto_rows": null,
            "grid_gap": null,
            "max_width": null,
            "order": null,
            "_view_module_version": "1.2.0",
            "grid_template_areas": null,
            "object_position": null,
            "object_fit": null,
            "grid_auto_columns": null,
            "margin": null,
            "display": null,
            "left": null
          }
        },
        "cd06015aca774a7ca4f813dadb747f1d": {
          "model_module": "@jupyter-widgets/controls",
          "model_name": "HBoxModel",
          "model_module_version": "1.5.0",
          "state": {
            "_view_name": "HBoxView",
            "_dom_classes": [],
            "_model_name": "HBoxModel",
            "_view_module": "@jupyter-widgets/controls",
            "_model_module_version": "1.5.0",
            "_view_count": null,
            "_view_module_version": "1.5.0",
            "box_style": "",
            "layout": "IPY_MODEL_cb9df5508ed64efdad8b256a9fcd106d",
            "_model_module": "@jupyter-widgets/controls",
            "children": [
              "IPY_MODEL_61eb3dc9f5d7484fb066701c67282025",
              "IPY_MODEL_531931f7e6d0453682677a4ba20cbb46",
              "IPY_MODEL_c4bc7ab6af97492786c9cbfbc1a4d145"
            ]
          }
        },
        "cb9df5508ed64efdad8b256a9fcd106d": {
          "model_module": "@jupyter-widgets/base",
          "model_name": "LayoutModel",
          "model_module_version": "1.2.0",
          "state": {
            "_view_name": "LayoutView",
            "grid_template_rows": null,
            "right": null,
            "justify_content": null,
            "_view_module": "@jupyter-widgets/base",
            "overflow": null,
            "_model_module_version": "1.2.0",
            "_view_count": null,
            "flex_flow": null,
            "width": null,
            "min_width": null,
            "border": null,
            "align_items": null,
            "bottom": null,
            "_model_module": "@jupyter-widgets/base",
            "top": null,
            "grid_column": null,
            "overflow_y": null,
            "overflow_x": null,
            "grid_auto_flow": null,
            "grid_area": null,
            "grid_template_columns": null,
            "flex": null,
            "_model_name": "LayoutModel",
            "justify_items": null,
            "grid_row": null,
            "max_height": null,
            "align_content": null,
            "visibility": null,
            "align_self": null,
            "height": null,
            "min_height": null,
            "padding": null,
            "grid_auto_rows": null,
            "grid_gap": null,
            "max_width": null,
            "order": null,
            "_view_module_version": "1.2.0",
            "grid_template_areas": null,
            "object_position": null,
            "object_fit": null,
            "grid_auto_columns": null,
            "margin": null,
            "display": null,
            "left": null
          }
        },
        "61eb3dc9f5d7484fb066701c67282025": {
          "model_module": "@jupyter-widgets/controls",
          "model_name": "HTMLModel",
          "model_module_version": "1.5.0",
          "state": {
            "_view_name": "HTMLView",
            "style": "IPY_MODEL_22e5e82c38a44d4aa9ada5253584984a",
            "_dom_classes": [],
            "description": "",
            "_model_name": "HTMLModel",
            "placeholder": "​",
            "_view_module": "@jupyter-widgets/controls",
            "_model_module_version": "1.5.0",
            "value": "Downloading: 100%",
            "_view_count": null,
            "_view_module_version": "1.5.0",
            "description_tooltip": null,
            "_model_module": "@jupyter-widgets/controls",
            "layout": "IPY_MODEL_51e0f5f1345946108aac585330a0e406"
          }
        },
        "531931f7e6d0453682677a4ba20cbb46": {
          "model_module": "@jupyter-widgets/controls",
          "model_name": "FloatProgressModel",
          "model_module_version": "1.5.0",
          "state": {
            "_view_name": "ProgressView",
            "style": "IPY_MODEL_45636581103841de8fc965883fbfd0fc",
            "_dom_classes": [],
            "description": "",
            "_model_name": "FloatProgressModel",
            "bar_style": "success",
            "max": 85,
            "_view_module": "@jupyter-widgets/controls",
            "_model_module_version": "1.5.0",
            "value": 85,
            "_view_count": null,
            "_view_module_version": "1.5.0",
            "orientation": "horizontal",
            "min": 0,
            "description_tooltip": null,
            "_model_module": "@jupyter-widgets/controls",
            "layout": "IPY_MODEL_a708cd777c2f443f9c997386ff64c992"
          }
        },
        "c4bc7ab6af97492786c9cbfbc1a4d145": {
          "model_module": "@jupyter-widgets/controls",
          "model_name": "HTMLModel",
          "model_module_version": "1.5.0",
          "state": {
            "_view_name": "HTMLView",
            "style": "IPY_MODEL_ff107f54e338411588b611ae3c85293f",
            "_dom_classes": [],
            "description": "",
            "_model_name": "HTMLModel",
            "placeholder": "​",
            "_view_module": "@jupyter-widgets/controls",
            "_model_module_version": "1.5.0",
            "value": " 85.0/85.0 [00:00&lt;00:00, 2.78kB/s]",
            "_view_count": null,
            "_view_module_version": "1.5.0",
            "description_tooltip": null,
            "_model_module": "@jupyter-widgets/controls",
            "layout": "IPY_MODEL_ee3cc5c9c2e44482be9fd0d65236b2ba"
          }
        },
        "22e5e82c38a44d4aa9ada5253584984a": {
          "model_module": "@jupyter-widgets/controls",
          "model_name": "DescriptionStyleModel",
          "model_module_version": "1.5.0",
          "state": {
            "_view_name": "StyleView",
            "_model_name": "DescriptionStyleModel",
            "description_width": "",
            "_view_module": "@jupyter-widgets/base",
            "_model_module_version": "1.5.0",
            "_view_count": null,
            "_view_module_version": "1.2.0",
            "_model_module": "@jupyter-widgets/controls"
          }
        },
        "51e0f5f1345946108aac585330a0e406": {
          "model_module": "@jupyter-widgets/base",
          "model_name": "LayoutModel",
          "model_module_version": "1.2.0",
          "state": {
            "_view_name": "LayoutView",
            "grid_template_rows": null,
            "right": null,
            "justify_content": null,
            "_view_module": "@jupyter-widgets/base",
            "overflow": null,
            "_model_module_version": "1.2.0",
            "_view_count": null,
            "flex_flow": null,
            "width": null,
            "min_width": null,
            "border": null,
            "align_items": null,
            "bottom": null,
            "_model_module": "@jupyter-widgets/base",
            "top": null,
            "grid_column": null,
            "overflow_y": null,
            "overflow_x": null,
            "grid_auto_flow": null,
            "grid_area": null,
            "grid_template_columns": null,
            "flex": null,
            "_model_name": "LayoutModel",
            "justify_items": null,
            "grid_row": null,
            "max_height": null,
            "align_content": null,
            "visibility": null,
            "align_self": null,
            "height": null,
            "min_height": null,
            "padding": null,
            "grid_auto_rows": null,
            "grid_gap": null,
            "max_width": null,
            "order": null,
            "_view_module_version": "1.2.0",
            "grid_template_areas": null,
            "object_position": null,
            "object_fit": null,
            "grid_auto_columns": null,
            "margin": null,
            "display": null,
            "left": null
          }
        },
        "45636581103841de8fc965883fbfd0fc": {
          "model_module": "@jupyter-widgets/controls",
          "model_name": "ProgressStyleModel",
          "model_module_version": "1.5.0",
          "state": {
            "_view_name": "StyleView",
            "_model_name": "ProgressStyleModel",
            "description_width": "",
            "_view_module": "@jupyter-widgets/base",
            "_model_module_version": "1.5.0",
            "_view_count": null,
            "_view_module_version": "1.2.0",
            "bar_color": null,
            "_model_module": "@jupyter-widgets/controls"
          }
        },
        "a708cd777c2f443f9c997386ff64c992": {
          "model_module": "@jupyter-widgets/base",
          "model_name": "LayoutModel",
          "model_module_version": "1.2.0",
          "state": {
            "_view_name": "LayoutView",
            "grid_template_rows": null,
            "right": null,
            "justify_content": null,
            "_view_module": "@jupyter-widgets/base",
            "overflow": null,
            "_model_module_version": "1.2.0",
            "_view_count": null,
            "flex_flow": null,
            "width": null,
            "min_width": null,
            "border": null,
            "align_items": null,
            "bottom": null,
            "_model_module": "@jupyter-widgets/base",
            "top": null,
            "grid_column": null,
            "overflow_y": null,
            "overflow_x": null,
            "grid_auto_flow": null,
            "grid_area": null,
            "grid_template_columns": null,
            "flex": null,
            "_model_name": "LayoutModel",
            "justify_items": null,
            "grid_row": null,
            "max_height": null,
            "align_content": null,
            "visibility": null,
            "align_self": null,
            "height": null,
            "min_height": null,
            "padding": null,
            "grid_auto_rows": null,
            "grid_gap": null,
            "max_width": null,
            "order": null,
            "_view_module_version": "1.2.0",
            "grid_template_areas": null,
            "object_position": null,
            "object_fit": null,
            "grid_auto_columns": null,
            "margin": null,
            "display": null,
            "left": null
          }
        },
        "ff107f54e338411588b611ae3c85293f": {
          "model_module": "@jupyter-widgets/controls",
          "model_name": "DescriptionStyleModel",
          "model_module_version": "1.5.0",
          "state": {
            "_view_name": "StyleView",
            "_model_name": "DescriptionStyleModel",
            "description_width": "",
            "_view_module": "@jupyter-widgets/base",
            "_model_module_version": "1.5.0",
            "_view_count": null,
            "_view_module_version": "1.2.0",
            "_model_module": "@jupyter-widgets/controls"
          }
        },
        "ee3cc5c9c2e44482be9fd0d65236b2ba": {
          "model_module": "@jupyter-widgets/base",
          "model_name": "LayoutModel",
          "model_module_version": "1.2.0",
          "state": {
            "_view_name": "LayoutView",
            "grid_template_rows": null,
            "right": null,
            "justify_content": null,
            "_view_module": "@jupyter-widgets/base",
            "overflow": null,
            "_model_module_version": "1.2.0",
            "_view_count": null,
            "flex_flow": null,
            "width": null,
            "min_width": null,
            "border": null,
            "align_items": null,
            "bottom": null,
            "_model_module": "@jupyter-widgets/base",
            "top": null,
            "grid_column": null,
            "overflow_y": null,
            "overflow_x": null,
            "grid_auto_flow": null,
            "grid_area": null,
            "grid_template_columns": null,
            "flex": null,
            "_model_name": "LayoutModel",
            "justify_items": null,
            "grid_row": null,
            "max_height": null,
            "align_content": null,
            "visibility": null,
            "align_self": null,
            "height": null,
            "min_height": null,
            "padding": null,
            "grid_auto_rows": null,
            "grid_gap": null,
            "max_width": null,
            "order": null,
            "_view_module_version": "1.2.0",
            "grid_template_areas": null,
            "object_position": null,
            "object_fit": null,
            "grid_auto_columns": null,
            "margin": null,
            "display": null,
            "left": null
          }
        },
        "d05016d3099e41b5bb0108376633ee1b": {
          "model_module": "@jupyter-widgets/controls",
          "model_name": "HBoxModel",
          "model_module_version": "1.5.0",
          "state": {
            "_view_name": "HBoxView",
            "_dom_classes": [],
            "_model_name": "HBoxModel",
            "_view_module": "@jupyter-widgets/controls",
            "_model_module_version": "1.5.0",
            "_view_count": null,
            "_view_module_version": "1.5.0",
            "box_style": "",
            "layout": "IPY_MODEL_ad4c383574b24eb9a1523dddd1ff59a7",
            "_model_module": "@jupyter-widgets/controls",
            "children": [
              "IPY_MODEL_af85987363eb41dba278a9ca1a8fc0dd",
              "IPY_MODEL_ce4b73b6bddc4cfb8c94f6447cbd19b4",
              "IPY_MODEL_0c50021a603247b88f18f54c505381e8"
            ]
          }
        },
        "ad4c383574b24eb9a1523dddd1ff59a7": {
          "model_module": "@jupyter-widgets/base",
          "model_name": "LayoutModel",
          "model_module_version": "1.2.0",
          "state": {
            "_view_name": "LayoutView",
            "grid_template_rows": null,
            "right": null,
            "justify_content": null,
            "_view_module": "@jupyter-widgets/base",
            "overflow": null,
            "_model_module_version": "1.2.0",
            "_view_count": null,
            "flex_flow": null,
            "width": null,
            "min_width": null,
            "border": null,
            "align_items": null,
            "bottom": null,
            "_model_module": "@jupyter-widgets/base",
            "top": null,
            "grid_column": null,
            "overflow_y": null,
            "overflow_x": null,
            "grid_auto_flow": null,
            "grid_area": null,
            "grid_template_columns": null,
            "flex": null,
            "_model_name": "LayoutModel",
            "justify_items": null,
            "grid_row": null,
            "max_height": null,
            "align_content": null,
            "visibility": null,
            "align_self": null,
            "height": null,
            "min_height": null,
            "padding": null,
            "grid_auto_rows": null,
            "grid_gap": null,
            "max_width": null,
            "order": null,
            "_view_module_version": "1.2.0",
            "grid_template_areas": null,
            "object_position": null,
            "object_fit": null,
            "grid_auto_columns": null,
            "margin": null,
            "display": null,
            "left": null
          }
        },
        "af85987363eb41dba278a9ca1a8fc0dd": {
          "model_module": "@jupyter-widgets/controls",
          "model_name": "HTMLModel",
          "model_module_version": "1.5.0",
          "state": {
            "_view_name": "HTMLView",
            "style": "IPY_MODEL_f0456d5e7be64144a8243fb9ea974d1b",
            "_dom_classes": [],
            "description": "",
            "_model_name": "HTMLModel",
            "placeholder": "​",
            "_view_module": "@jupyter-widgets/controls",
            "_model_module_version": "1.5.0",
            "value": "Downloading: 100%",
            "_view_count": null,
            "_view_module_version": "1.5.0",
            "description_tooltip": null,
            "_model_module": "@jupyter-widgets/controls",
            "layout": "IPY_MODEL_c64da24052554c05a6ed4fa8b544c106"
          }
        },
        "ce4b73b6bddc4cfb8c94f6447cbd19b4": {
          "model_module": "@jupyter-widgets/controls",
          "model_name": "FloatProgressModel",
          "model_module_version": "1.5.0",
          "state": {
            "_view_name": "ProgressView",
            "style": "IPY_MODEL_af4f488264484b5fb9813e592bc28ed3",
            "_dom_classes": [],
            "description": "",
            "_model_name": "FloatProgressModel",
            "bar_style": "success",
            "max": 1938,
            "_view_module": "@jupyter-widgets/controls",
            "_model_module_version": "1.5.0",
            "value": 1938,
            "_view_count": null,
            "_view_module_version": "1.5.0",
            "orientation": "horizontal",
            "min": 0,
            "description_tooltip": null,
            "_model_module": "@jupyter-widgets/controls",
            "layout": "IPY_MODEL_ec1c3ebf957f4f86bbf4d0b0f042ea96"
          }
        },
        "0c50021a603247b88f18f54c505381e8": {
          "model_module": "@jupyter-widgets/controls",
          "model_name": "HTMLModel",
          "model_module_version": "1.5.0",
          "state": {
            "_view_name": "HTMLView",
            "style": "IPY_MODEL_0d9e9401037a4c15825051fd206cf03e",
            "_dom_classes": [],
            "description": "",
            "_model_name": "HTMLModel",
            "placeholder": "​",
            "_view_module": "@jupyter-widgets/controls",
            "_model_module_version": "1.5.0",
            "value": " 1.89k/1.89k [00:00&lt;00:00, 55.0kB/s]",
            "_view_count": null,
            "_view_module_version": "1.5.0",
            "description_tooltip": null,
            "_model_module": "@jupyter-widgets/controls",
            "layout": "IPY_MODEL_699a3b31ef6540169eea486fa987c5c1"
          }
        },
        "f0456d5e7be64144a8243fb9ea974d1b": {
          "model_module": "@jupyter-widgets/controls",
          "model_name": "DescriptionStyleModel",
          "model_module_version": "1.5.0",
          "state": {
            "_view_name": "StyleView",
            "_model_name": "DescriptionStyleModel",
            "description_width": "",
            "_view_module": "@jupyter-widgets/base",
            "_model_module_version": "1.5.0",
            "_view_count": null,
            "_view_module_version": "1.2.0",
            "_model_module": "@jupyter-widgets/controls"
          }
        },
        "c64da24052554c05a6ed4fa8b544c106": {
          "model_module": "@jupyter-widgets/base",
          "model_name": "LayoutModel",
          "model_module_version": "1.2.0",
          "state": {
            "_view_name": "LayoutView",
            "grid_template_rows": null,
            "right": null,
            "justify_content": null,
            "_view_module": "@jupyter-widgets/base",
            "overflow": null,
            "_model_module_version": "1.2.0",
            "_view_count": null,
            "flex_flow": null,
            "width": null,
            "min_width": null,
            "border": null,
            "align_items": null,
            "bottom": null,
            "_model_module": "@jupyter-widgets/base",
            "top": null,
            "grid_column": null,
            "overflow_y": null,
            "overflow_x": null,
            "grid_auto_flow": null,
            "grid_area": null,
            "grid_template_columns": null,
            "flex": null,
            "_model_name": "LayoutModel",
            "justify_items": null,
            "grid_row": null,
            "max_height": null,
            "align_content": null,
            "visibility": null,
            "align_self": null,
            "height": null,
            "min_height": null,
            "padding": null,
            "grid_auto_rows": null,
            "grid_gap": null,
            "max_width": null,
            "order": null,
            "_view_module_version": "1.2.0",
            "grid_template_areas": null,
            "object_position": null,
            "object_fit": null,
            "grid_auto_columns": null,
            "margin": null,
            "display": null,
            "left": null
          }
        },
        "af4f488264484b5fb9813e592bc28ed3": {
          "model_module": "@jupyter-widgets/controls",
          "model_name": "ProgressStyleModel",
          "model_module_version": "1.5.0",
          "state": {
            "_view_name": "StyleView",
            "_model_name": "ProgressStyleModel",
            "description_width": "",
            "_view_module": "@jupyter-widgets/base",
            "_model_module_version": "1.5.0",
            "_view_count": null,
            "_view_module_version": "1.2.0",
            "bar_color": null,
            "_model_module": "@jupyter-widgets/controls"
          }
        },
        "ec1c3ebf957f4f86bbf4d0b0f042ea96": {
          "model_module": "@jupyter-widgets/base",
          "model_name": "LayoutModel",
          "model_module_version": "1.2.0",
          "state": {
            "_view_name": "LayoutView",
            "grid_template_rows": null,
            "right": null,
            "justify_content": null,
            "_view_module": "@jupyter-widgets/base",
            "overflow": null,
            "_model_module_version": "1.2.0",
            "_view_count": null,
            "flex_flow": null,
            "width": null,
            "min_width": null,
            "border": null,
            "align_items": null,
            "bottom": null,
            "_model_module": "@jupyter-widgets/base",
            "top": null,
            "grid_column": null,
            "overflow_y": null,
            "overflow_x": null,
            "grid_auto_flow": null,
            "grid_area": null,
            "grid_template_columns": null,
            "flex": null,
            "_model_name": "LayoutModel",
            "justify_items": null,
            "grid_row": null,
            "max_height": null,
            "align_content": null,
            "visibility": null,
            "align_self": null,
            "height": null,
            "min_height": null,
            "padding": null,
            "grid_auto_rows": null,
            "grid_gap": null,
            "max_width": null,
            "order": null,
            "_view_module_version": "1.2.0",
            "grid_template_areas": null,
            "object_position": null,
            "object_fit": null,
            "grid_auto_columns": null,
            "margin": null,
            "display": null,
            "left": null
          }
        },
        "0d9e9401037a4c15825051fd206cf03e": {
          "model_module": "@jupyter-widgets/controls",
          "model_name": "DescriptionStyleModel",
          "model_module_version": "1.5.0",
          "state": {
            "_view_name": "StyleView",
            "_model_name": "DescriptionStyleModel",
            "description_width": "",
            "_view_module": "@jupyter-widgets/base",
            "_model_module_version": "1.5.0",
            "_view_count": null,
            "_view_module_version": "1.2.0",
            "_model_module": "@jupyter-widgets/controls"
          }
        },
        "699a3b31ef6540169eea486fa987c5c1": {
          "model_module": "@jupyter-widgets/base",
          "model_name": "LayoutModel",
          "model_module_version": "1.2.0",
          "state": {
            "_view_name": "LayoutView",
            "grid_template_rows": null,
            "right": null,
            "justify_content": null,
            "_view_module": "@jupyter-widgets/base",
            "overflow": null,
            "_model_module_version": "1.2.0",
            "_view_count": null,
            "flex_flow": null,
            "width": null,
            "min_width": null,
            "border": null,
            "align_items": null,
            "bottom": null,
            "_model_module": "@jupyter-widgets/base",
            "top": null,
            "grid_column": null,
            "overflow_y": null,
            "overflow_x": null,
            "grid_auto_flow": null,
            "grid_area": null,
            "grid_template_columns": null,
            "flex": null,
            "_model_name": "LayoutModel",
            "justify_items": null,
            "grid_row": null,
            "max_height": null,
            "align_content": null,
            "visibility": null,
            "align_self": null,
            "height": null,
            "min_height": null,
            "padding": null,
            "grid_auto_rows": null,
            "grid_gap": null,
            "max_width": null,
            "order": null,
            "_view_module_version": "1.2.0",
            "grid_template_areas": null,
            "object_position": null,
            "object_fit": null,
            "grid_auto_columns": null,
            "margin": null,
            "display": null,
            "left": null
          }
        },
        "0c522bee9e2f4aa9a3c58ec1d5953931": {
          "model_module": "@jupyter-widgets/controls",
          "model_name": "HBoxModel",
          "model_module_version": "1.5.0",
          "state": {
            "_view_name": "HBoxView",
            "_dom_classes": [],
            "_model_name": "HBoxModel",
            "_view_module": "@jupyter-widgets/controls",
            "_model_module_version": "1.5.0",
            "_view_count": null,
            "_view_module_version": "1.5.0",
            "box_style": "",
            "layout": "IPY_MODEL_ffce8896c8b148c6ba66a6a2f1e20069",
            "_model_module": "@jupyter-widgets/controls",
            "children": [
              "IPY_MODEL_858b51c4d34342cd8112c716ea13b479",
              "IPY_MODEL_6f7df5e67488466ea320eb703571f18e",
              "IPY_MODEL_3b9ba2b6b4a24d82b63f3685de6378e5"
            ]
          }
        },
        "ffce8896c8b148c6ba66a6a2f1e20069": {
          "model_module": "@jupyter-widgets/base",
          "model_name": "LayoutModel",
          "model_module_version": "1.2.0",
          "state": {
            "_view_name": "LayoutView",
            "grid_template_rows": null,
            "right": null,
            "justify_content": null,
            "_view_module": "@jupyter-widgets/base",
            "overflow": null,
            "_model_module_version": "1.2.0",
            "_view_count": null,
            "flex_flow": null,
            "width": null,
            "min_width": null,
            "border": null,
            "align_items": null,
            "bottom": null,
            "_model_module": "@jupyter-widgets/base",
            "top": null,
            "grid_column": null,
            "overflow_y": null,
            "overflow_x": null,
            "grid_auto_flow": null,
            "grid_area": null,
            "grid_template_columns": null,
            "flex": null,
            "_model_name": "LayoutModel",
            "justify_items": null,
            "grid_row": null,
            "max_height": null,
            "align_content": null,
            "visibility": null,
            "align_self": null,
            "height": null,
            "min_height": null,
            "padding": null,
            "grid_auto_rows": null,
            "grid_gap": null,
            "max_width": null,
            "order": null,
            "_view_module_version": "1.2.0",
            "grid_template_areas": null,
            "object_position": null,
            "object_fit": null,
            "grid_auto_columns": null,
            "margin": null,
            "display": null,
            "left": null
          }
        },
        "858b51c4d34342cd8112c716ea13b479": {
          "model_module": "@jupyter-widgets/controls",
          "model_name": "HTMLModel",
          "model_module_version": "1.5.0",
          "state": {
            "_view_name": "HTMLView",
            "style": "IPY_MODEL_1b6343b6e6714e58a39e5ca1adfa47ef",
            "_dom_classes": [],
            "description": "",
            "_model_name": "HTMLModel",
            "placeholder": "​",
            "_view_module": "@jupyter-widgets/controls",
            "_model_module_version": "1.5.0",
            "value": "Downloading: 100%",
            "_view_count": null,
            "_view_module_version": "1.5.0",
            "description_tooltip": null,
            "_model_module": "@jupyter-widgets/controls",
            "layout": "IPY_MODEL_fb8d383652fc4ad8a56e011f74f5a7a2"
          }
        },
        "6f7df5e67488466ea320eb703571f18e": {
          "model_module": "@jupyter-widgets/controls",
          "model_name": "FloatProgressModel",
          "model_module_version": "1.5.0",
          "state": {
            "_view_name": "ProgressView",
            "style": "IPY_MODEL_fc442d74a9034ec6aba19dab42e2b97a",
            "_dom_classes": [],
            "description": "",
            "_model_name": "FloatProgressModel",
            "bar_style": "success",
            "max": 377670039,
            "_view_module": "@jupyter-widgets/controls",
            "_model_module_version": "1.5.0",
            "value": 377670039,
            "_view_count": null,
            "_view_module_version": "1.5.0",
            "orientation": "horizontal",
            "min": 0,
            "description_tooltip": null,
            "_model_module": "@jupyter-widgets/controls",
            "layout": "IPY_MODEL_4cb8ed4b37a246f1ab2c28c3c97d1b0e"
          }
        },
        "3b9ba2b6b4a24d82b63f3685de6378e5": {
          "model_module": "@jupyter-widgets/controls",
          "model_name": "HTMLModel",
          "model_module_version": "1.5.0",
          "state": {
            "_view_name": "HTMLView",
            "style": "IPY_MODEL_af132b79295747b0a185e9a38539338b",
            "_dom_classes": [],
            "description": "",
            "_model_name": "HTMLModel",
            "placeholder": "​",
            "_view_module": "@jupyter-widgets/controls",
            "_model_module_version": "1.5.0",
            "value": " 360M/360M [00:07&lt;00:00, 49.4MB/s]",
            "_view_count": null,
            "_view_module_version": "1.5.0",
            "description_tooltip": null,
            "_model_module": "@jupyter-widgets/controls",
            "layout": "IPY_MODEL_a8070a9f2d004a77be3853f10d415ece"
          }
        },
        "1b6343b6e6714e58a39e5ca1adfa47ef": {
          "model_module": "@jupyter-widgets/controls",
          "model_name": "DescriptionStyleModel",
          "model_module_version": "1.5.0",
          "state": {
            "_view_name": "StyleView",
            "_model_name": "DescriptionStyleModel",
            "description_width": "",
            "_view_module": "@jupyter-widgets/base",
            "_model_module_version": "1.5.0",
            "_view_count": null,
            "_view_module_version": "1.2.0",
            "_model_module": "@jupyter-widgets/controls"
          }
        },
        "fb8d383652fc4ad8a56e011f74f5a7a2": {
          "model_module": "@jupyter-widgets/base",
          "model_name": "LayoutModel",
          "model_module_version": "1.2.0",
          "state": {
            "_view_name": "LayoutView",
            "grid_template_rows": null,
            "right": null,
            "justify_content": null,
            "_view_module": "@jupyter-widgets/base",
            "overflow": null,
            "_model_module_version": "1.2.0",
            "_view_count": null,
            "flex_flow": null,
            "width": null,
            "min_width": null,
            "border": null,
            "align_items": null,
            "bottom": null,
            "_model_module": "@jupyter-widgets/base",
            "top": null,
            "grid_column": null,
            "overflow_y": null,
            "overflow_x": null,
            "grid_auto_flow": null,
            "grid_area": null,
            "grid_template_columns": null,
            "flex": null,
            "_model_name": "LayoutModel",
            "justify_items": null,
            "grid_row": null,
            "max_height": null,
            "align_content": null,
            "visibility": null,
            "align_self": null,
            "height": null,
            "min_height": null,
            "padding": null,
            "grid_auto_rows": null,
            "grid_gap": null,
            "max_width": null,
            "order": null,
            "_view_module_version": "1.2.0",
            "grid_template_areas": null,
            "object_position": null,
            "object_fit": null,
            "grid_auto_columns": null,
            "margin": null,
            "display": null,
            "left": null
          }
        },
        "fc442d74a9034ec6aba19dab42e2b97a": {
          "model_module": "@jupyter-widgets/controls",
          "model_name": "ProgressStyleModel",
          "model_module_version": "1.5.0",
          "state": {
            "_view_name": "StyleView",
            "_model_name": "ProgressStyleModel",
            "description_width": "",
            "_view_module": "@jupyter-widgets/base",
            "_model_module_version": "1.5.0",
            "_view_count": null,
            "_view_module_version": "1.2.0",
            "bar_color": null,
            "_model_module": "@jupyter-widgets/controls"
          }
        },
        "4cb8ed4b37a246f1ab2c28c3c97d1b0e": {
          "model_module": "@jupyter-widgets/base",
          "model_name": "LayoutModel",
          "model_module_version": "1.2.0",
          "state": {
            "_view_name": "LayoutView",
            "grid_template_rows": null,
            "right": null,
            "justify_content": null,
            "_view_module": "@jupyter-widgets/base",
            "overflow": null,
            "_model_module_version": "1.2.0",
            "_view_count": null,
            "flex_flow": null,
            "width": null,
            "min_width": null,
            "border": null,
            "align_items": null,
            "bottom": null,
            "_model_module": "@jupyter-widgets/base",
            "top": null,
            "grid_column": null,
            "overflow_y": null,
            "overflow_x": null,
            "grid_auto_flow": null,
            "grid_area": null,
            "grid_template_columns": null,
            "flex": null,
            "_model_name": "LayoutModel",
            "justify_items": null,
            "grid_row": null,
            "max_height": null,
            "align_content": null,
            "visibility": null,
            "align_self": null,
            "height": null,
            "min_height": null,
            "padding": null,
            "grid_auto_rows": null,
            "grid_gap": null,
            "max_width": null,
            "order": null,
            "_view_module_version": "1.2.0",
            "grid_template_areas": null,
            "object_position": null,
            "object_fit": null,
            "grid_auto_columns": null,
            "margin": null,
            "display": null,
            "left": null
          }
        },
        "af132b79295747b0a185e9a38539338b": {
          "model_module": "@jupyter-widgets/controls",
          "model_name": "DescriptionStyleModel",
          "model_module_version": "1.5.0",
          "state": {
            "_view_name": "StyleView",
            "_model_name": "DescriptionStyleModel",
            "description_width": "",
            "_view_module": "@jupyter-widgets/base",
            "_model_module_version": "1.5.0",
            "_view_count": null,
            "_view_module_version": "1.2.0",
            "_model_module": "@jupyter-widgets/controls"
          }
        },
        "a8070a9f2d004a77be3853f10d415ece": {
          "model_module": "@jupyter-widgets/base",
          "model_name": "LayoutModel",
          "model_module_version": "1.2.0",
          "state": {
            "_view_name": "LayoutView",
            "grid_template_rows": null,
            "right": null,
            "justify_content": null,
            "_view_module": "@jupyter-widgets/base",
            "overflow": null,
            "_model_module_version": "1.2.0",
            "_view_count": null,
            "flex_flow": null,
            "width": null,
            "min_width": null,
            "border": null,
            "align_items": null,
            "bottom": null,
            "_model_module": "@jupyter-widgets/base",
            "top": null,
            "grid_column": null,
            "overflow_y": null,
            "overflow_x": null,
            "grid_auto_flow": null,
            "grid_area": null,
            "grid_template_columns": null,
            "flex": null,
            "_model_name": "LayoutModel",
            "justify_items": null,
            "grid_row": null,
            "max_height": null,
            "align_content": null,
            "visibility": null,
            "align_self": null,
            "height": null,
            "min_height": null,
            "padding": null,
            "grid_auto_rows": null,
            "grid_gap": null,
            "max_width": null,
            "order": null,
            "_view_module_version": "1.2.0",
            "grid_template_areas": null,
            "object_position": null,
            "object_fit": null,
            "grid_auto_columns": null,
            "margin": null,
            "display": null,
            "left": null
          }
        },
        "ba0923f8b18949278eb44f7dd101addb": {
          "model_module": "@jupyter-widgets/controls",
          "model_name": "HBoxModel",
          "model_module_version": "1.5.0",
          "state": {
            "_view_name": "HBoxView",
            "_dom_classes": [],
            "_model_name": "HBoxModel",
            "_view_module": "@jupyter-widgets/controls",
            "_model_module_version": "1.5.0",
            "_view_count": null,
            "_view_module_version": "1.5.0",
            "box_style": "",
            "layout": "IPY_MODEL_3904bfe781854100881b9e3806604792",
            "_model_module": "@jupyter-widgets/controls",
            "children": [
              "IPY_MODEL_7e7b797b5cb14a1c9fbb7c626fa3eda7",
              "IPY_MODEL_bc13eed455304b0d8f32383fdb3cd1d7",
              "IPY_MODEL_91d0ff447851441dadb2cf95ef2efa41"
            ]
          }
        },
        "3904bfe781854100881b9e3806604792": {
          "model_module": "@jupyter-widgets/base",
          "model_name": "LayoutModel",
          "model_module_version": "1.2.0",
          "state": {
            "_view_name": "LayoutView",
            "grid_template_rows": null,
            "right": null,
            "justify_content": null,
            "_view_module": "@jupyter-widgets/base",
            "overflow": null,
            "_model_module_version": "1.2.0",
            "_view_count": null,
            "flex_flow": null,
            "width": null,
            "min_width": null,
            "border": null,
            "align_items": null,
            "bottom": null,
            "_model_module": "@jupyter-widgets/base",
            "top": null,
            "grid_column": null,
            "overflow_y": null,
            "overflow_x": null,
            "grid_auto_flow": null,
            "grid_area": null,
            "grid_template_columns": null,
            "flex": null,
            "_model_name": "LayoutModel",
            "justify_items": null,
            "grid_row": null,
            "max_height": null,
            "align_content": null,
            "visibility": null,
            "align_self": null,
            "height": null,
            "min_height": null,
            "padding": null,
            "grid_auto_rows": null,
            "grid_gap": null,
            "max_width": null,
            "order": null,
            "_view_module_version": "1.2.0",
            "grid_template_areas": null,
            "object_position": null,
            "object_fit": null,
            "grid_auto_columns": null,
            "margin": null,
            "display": null,
            "left": null
          }
        },
        "7e7b797b5cb14a1c9fbb7c626fa3eda7": {
          "model_module": "@jupyter-widgets/controls",
          "model_name": "HTMLModel",
          "model_module_version": "1.5.0",
          "state": {
            "_view_name": "HTMLView",
            "style": "IPY_MODEL_130c075c66da402f8ec2f22337850c88",
            "_dom_classes": [],
            "description": "",
            "_model_name": "HTMLModel",
            "placeholder": "​",
            "_view_module": "@jupyter-widgets/controls",
            "_model_module_version": "1.5.0",
            "value": "100%",
            "_view_count": null,
            "_view_module_version": "1.5.0",
            "description_tooltip": null,
            "_model_module": "@jupyter-widgets/controls",
            "layout": "IPY_MODEL_0192714f1557428782b46793c05eb26d"
          }
        },
        "bc13eed455304b0d8f32383fdb3cd1d7": {
          "model_module": "@jupyter-widgets/controls",
          "model_name": "FloatProgressModel",
          "model_module_version": "1.5.0",
          "state": {
            "_view_name": "ProgressView",
            "style": "IPY_MODEL_7cbf979a424948e5b3ebaec357f88d8a",
            "_dom_classes": [],
            "description": "",
            "_model_name": "FloatProgressModel",
            "bar_style": "success",
            "max": 1680,
            "_view_module": "@jupyter-widgets/controls",
            "_model_module_version": "1.5.0",
            "value": 1680,
            "_view_count": null,
            "_view_module_version": "1.5.0",
            "orientation": "horizontal",
            "min": 0,
            "description_tooltip": null,
            "_model_module": "@jupyter-widgets/controls",
            "layout": "IPY_MODEL_54174b5181104b32b5379b975046f942"
          }
        },
        "91d0ff447851441dadb2cf95ef2efa41": {
          "model_module": "@jupyter-widgets/controls",
          "model_name": "HTMLModel",
          "model_module_version": "1.5.0",
          "state": {
            "_view_name": "HTMLView",
            "style": "IPY_MODEL_16828f598c3845edb70d9a3b91cd0030",
            "_dom_classes": [],
            "description": "",
            "_model_name": "HTMLModel",
            "placeholder": "​",
            "_view_module": "@jupyter-widgets/controls",
            "_model_module_version": "1.5.0",
            "value": " 1680/1680 [00:59&lt;00:00, 31.08ex/s]",
            "_view_count": null,
            "_view_module_version": "1.5.0",
            "description_tooltip": null,
            "_model_module": "@jupyter-widgets/controls",
            "layout": "IPY_MODEL_61362b3751dd446f951dac8dd2ba866d"
          }
        },
        "130c075c66da402f8ec2f22337850c88": {
          "model_module": "@jupyter-widgets/controls",
          "model_name": "DescriptionStyleModel",
          "model_module_version": "1.5.0",
          "state": {
            "_view_name": "StyleView",
            "_model_name": "DescriptionStyleModel",
            "description_width": "",
            "_view_module": "@jupyter-widgets/base",
            "_model_module_version": "1.5.0",
            "_view_count": null,
            "_view_module_version": "1.2.0",
            "_model_module": "@jupyter-widgets/controls"
          }
        },
        "0192714f1557428782b46793c05eb26d": {
          "model_module": "@jupyter-widgets/base",
          "model_name": "LayoutModel",
          "model_module_version": "1.2.0",
          "state": {
            "_view_name": "LayoutView",
            "grid_template_rows": null,
            "right": null,
            "justify_content": null,
            "_view_module": "@jupyter-widgets/base",
            "overflow": null,
            "_model_module_version": "1.2.0",
            "_view_count": null,
            "flex_flow": null,
            "width": null,
            "min_width": null,
            "border": null,
            "align_items": null,
            "bottom": null,
            "_model_module": "@jupyter-widgets/base",
            "top": null,
            "grid_column": null,
            "overflow_y": null,
            "overflow_x": null,
            "grid_auto_flow": null,
            "grid_area": null,
            "grid_template_columns": null,
            "flex": null,
            "_model_name": "LayoutModel",
            "justify_items": null,
            "grid_row": null,
            "max_height": null,
            "align_content": null,
            "visibility": null,
            "align_self": null,
            "height": null,
            "min_height": null,
            "padding": null,
            "grid_auto_rows": null,
            "grid_gap": null,
            "max_width": null,
            "order": null,
            "_view_module_version": "1.2.0",
            "grid_template_areas": null,
            "object_position": null,
            "object_fit": null,
            "grid_auto_columns": null,
            "margin": null,
            "display": null,
            "left": null
          }
        },
        "7cbf979a424948e5b3ebaec357f88d8a": {
          "model_module": "@jupyter-widgets/controls",
          "model_name": "ProgressStyleModel",
          "model_module_version": "1.5.0",
          "state": {
            "_view_name": "StyleView",
            "_model_name": "ProgressStyleModel",
            "description_width": "",
            "_view_module": "@jupyter-widgets/base",
            "_model_module_version": "1.5.0",
            "_view_count": null,
            "_view_module_version": "1.2.0",
            "bar_color": null,
            "_model_module": "@jupyter-widgets/controls"
          }
        },
        "54174b5181104b32b5379b975046f942": {
          "model_module": "@jupyter-widgets/base",
          "model_name": "LayoutModel",
          "model_module_version": "1.2.0",
          "state": {
            "_view_name": "LayoutView",
            "grid_template_rows": null,
            "right": null,
            "justify_content": null,
            "_view_module": "@jupyter-widgets/base",
            "overflow": null,
            "_model_module_version": "1.2.0",
            "_view_count": null,
            "flex_flow": null,
            "width": null,
            "min_width": null,
            "border": null,
            "align_items": null,
            "bottom": null,
            "_model_module": "@jupyter-widgets/base",
            "top": null,
            "grid_column": null,
            "overflow_y": null,
            "overflow_x": null,
            "grid_auto_flow": null,
            "grid_area": null,
            "grid_template_columns": null,
            "flex": null,
            "_model_name": "LayoutModel",
            "justify_items": null,
            "grid_row": null,
            "max_height": null,
            "align_content": null,
            "visibility": null,
            "align_self": null,
            "height": null,
            "min_height": null,
            "padding": null,
            "grid_auto_rows": null,
            "grid_gap": null,
            "max_width": null,
            "order": null,
            "_view_module_version": "1.2.0",
            "grid_template_areas": null,
            "object_position": null,
            "object_fit": null,
            "grid_auto_columns": null,
            "margin": null,
            "display": null,
            "left": null
          }
        },
        "16828f598c3845edb70d9a3b91cd0030": {
          "model_module": "@jupyter-widgets/controls",
          "model_name": "DescriptionStyleModel",
          "model_module_version": "1.5.0",
          "state": {
            "_view_name": "StyleView",
            "_model_name": "DescriptionStyleModel",
            "description_width": "",
            "_view_module": "@jupyter-widgets/base",
            "_model_module_version": "1.5.0",
            "_view_count": null,
            "_view_module_version": "1.2.0",
            "_model_module": "@jupyter-widgets/controls"
          }
        },
        "61362b3751dd446f951dac8dd2ba866d": {
          "model_module": "@jupyter-widgets/base",
          "model_name": "LayoutModel",
          "model_module_version": "1.2.0",
          "state": {
            "_view_name": "LayoutView",
            "grid_template_rows": null,
            "right": null,
            "justify_content": null,
            "_view_module": "@jupyter-widgets/base",
            "overflow": null,
            "_model_module_version": "1.2.0",
            "_view_count": null,
            "flex_flow": null,
            "width": null,
            "min_width": null,
            "border": null,
            "align_items": null,
            "bottom": null,
            "_model_module": "@jupyter-widgets/base",
            "top": null,
            "grid_column": null,
            "overflow_y": null,
            "overflow_x": null,
            "grid_auto_flow": null,
            "grid_area": null,
            "grid_template_columns": null,
            "flex": null,
            "_model_name": "LayoutModel",
            "justify_items": null,
            "grid_row": null,
            "max_height": null,
            "align_content": null,
            "visibility": null,
            "align_self": null,
            "height": null,
            "min_height": null,
            "padding": null,
            "grid_auto_rows": null,
            "grid_gap": null,
            "max_width": null,
            "order": null,
            "_view_module_version": "1.2.0",
            "grid_template_areas": null,
            "object_position": null,
            "object_fit": null,
            "grid_auto_columns": null,
            "margin": null,
            "display": null,
            "left": null
          }
        }
      }
    }
  },
  "cells": [
    {
      "cell_type": "markdown",
      "metadata": {
        "id": "view-in-github",
        "colab_type": "text"
      },
      "source": [
        "<a href=\"https://colab.research.google.com/github/finardi/tutos/blob/master/Fine_tuning_Wav2Vec2_for_English_ASR.ipynb\" target=\"_parent\"><img src=\"https://colab.research.google.com/assets/colab-badge.svg\" alt=\"Open In Colab\"/></a>"
      ]
    },
    {
      "cell_type": "markdown",
      "metadata": {
        "id": "LBSYoWbi-45k"
      },
      "source": [
        "# **Fine-tuning Wav2Vec2 for English ASR with 🤗 Transformers**"
      ]
    },
    {
      "cell_type": "markdown",
      "metadata": {
        "id": "V7YOT2mnUiea"
      },
      "source": [
        "Wav2Vec2 is a pretrained model for Automatic Speech Recognition (ASR) and was released in [September 2020](https://ai.facebook.com/blog/wav2vec-20-learning-the-structure-of-speech-from-raw-audio/) by Alexei Baevski, Michael Auli, and Alex Conneau.\n",
        "\n",
        "Using a novel contrastive pretraining objective, Wav2Vec2 learns powerful speech representations from more than 50.000 hours of unlabeled speech. Similar, to [BERT's masked language modeling](http://jalammar.github.io/illustrated-bert/), the model learns contextualized speech representations by randomly masking feature vectors before passing them to a transformer network.\n",
        "\n",
        "![wav2vec2_structure](https://raw.githubusercontent.com/patrickvonplaten/scientific_images/master/wav2vec2.png)\n",
        "\n",
        "For the first time, it has been shown that pretraining, followed by fine-tuning on very little labeled speech data achieves competitive results to state-of-the-art ASR systems. Using as little as 10 minutes of labeled data, Wav2Vec2 yields a word error rate (WER) of less than 5% on the clean test set of [LibriSpeech](https://huggingface.co/datasets/librispeech_asr) - *cf.* with Table 9 of the [paper](https://arxiv.org/pdf/2006.11477.pdf)."
      ]
    },
    {
      "cell_type": "markdown",
      "metadata": {
        "id": "nT_QrfWtsxIz"
      },
      "source": [
        "In this notebook, we will give an in-detail explanation of how Wav2Vec2's pretrained checkpoints can be fine-tuned on any English ASR dataset. Note that in this notebook, we will fine-tune Wav2Vec2 without making use of a language model. It is much simpler to use Wav2Vec2 without a language model as an end-to-end ASR system and it has been shown that a standalone Wav2Vec2 acoustic model achieves impressive results. For demonstration purposes, we fine-tune the \"base\"-sized [pretrained checkpoint](https://huggingface.co/facebook/wav2vec2-base) on the rather small [Timit](https://huggingface.co/datasets/timit_asr) dataset that contains just 5h of training data."
      ]
    },
    {
      "cell_type": "markdown",
      "metadata": {
        "id": "Gx9OdDYrCtQ1"
      },
      "source": [
        "Wav2Vec2 is fine-tuned using Connectionist Temporal Classification (CTC), which is an algorithm that is used to train neural networks for sequence-to-sequence problems and mainly in Automatic Speech Recognition and handwriting recognition. \n",
        "\n",
        "I highly recommend reading the blog post [Sequence Modeling with CTC (2017)](https://distill.pub/2017/ctc/) very well-written blog post by Awni Hannun."
      ]
    },
    {
      "cell_type": "markdown",
      "metadata": {
        "id": "qW3J3rBizeds"
      },
      "source": [
        "First, let's try to get a good GPU in our colab! With Google Colab's free version it's sadly becoming much harder to get access to a good GPU. With Google Colab Pro, one has a much easier time getting access to a V100 or P100 GPU however."
      ]
    },
    {
      "cell_type": "code",
      "metadata": {
        "id": "SLAufgh_xxj7",
        "colab": {
          "base_uri": "https://localhost:8080/"
        },
        "outputId": "2ea7d7dc-8468-4543-e935-59eea32ad20b"
      },
      "source": [
        "gpu_info = !nvidia-smi\n",
        "gpu_info = '\\n'.join(gpu_info)\n",
        "if gpu_info.find('failed') >= 0:\n",
        "  print('Not connected to a GPU')\n",
        "else:\n",
        "  print(gpu_info)"
      ],
      "execution_count": 1,
      "outputs": [
        {
          "output_type": "stream",
          "name": "stdout",
          "text": [
            "Wed Nov 24 01:13:57 2021       \n",
            "+-----------------------------------------------------------------------------+\n",
            "| NVIDIA-SMI 495.44       Driver Version: 460.32.03    CUDA Version: 11.2     |\n",
            "|-------------------------------+----------------------+----------------------+\n",
            "| GPU  Name        Persistence-M| Bus-Id        Disp.A | Volatile Uncorr. ECC |\n",
            "| Fan  Temp  Perf  Pwr:Usage/Cap|         Memory-Usage | GPU-Util  Compute M. |\n",
            "|                               |                      |               MIG M. |\n",
            "|===============================+======================+======================|\n",
            "|   0  Tesla P100-PCIE...  Off  | 00000000:00:04.0 Off |                    0 |\n",
            "| N/A   33C    P0    27W / 250W |      0MiB / 16280MiB |      0%      Default |\n",
            "|                               |                      |                  N/A |\n",
            "+-------------------------------+----------------------+----------------------+\n",
            "                                                                               \n",
            "+-----------------------------------------------------------------------------+\n",
            "| Processes:                                                                  |\n",
            "|  GPU   GI   CI        PID   Type   Process name                  GPU Memory |\n",
            "|        ID   ID                                                   Usage      |\n",
            "|=============================================================================|\n",
            "|  No running processes found                                                 |\n",
            "+-----------------------------------------------------------------------------+\n"
          ]
        }
      ]
    },
    {
      "cell_type": "markdown",
      "metadata": {
        "id": "e335hPmdtASZ"
      },
      "source": [
        "Before we start, let's install both `datasets` and `transformers` from master. Also, we need the `librosa` package to load audio files and the `jiwer` to evaluate our fine-tuned model using the [word error rate (WER)](https://huggingface.co/metrics/wer) metric ${}^1$."
      ]
    },
    {
      "cell_type": "code",
      "metadata": {
        "id": "c8eh87Hoee5d"
      },
      "source": [
        "%%capture\n",
        "!pip install datasets==1.13.3\n",
        "!pip install transformers==4.11.3\n",
        "!pip install librosa\n",
        "!pip install jiwer"
      ],
      "execution_count": 2,
      "outputs": []
    },
    {
      "cell_type": "markdown",
      "metadata": {
        "id": "Mn9swf6EQ9Vd"
      },
      "source": [
        "\n",
        "\n",
        "\n",
        "---\n",
        "\n",
        "${}^1$ Timit is usually evaluated using the phoneme error rate (PER), but by far the most common metric in ASR is the word error rate (WER). To keep this notebook as general as possible we decided to evaluate the model using WER."
      ]
    },
    {
      "cell_type": "markdown",
      "metadata": {
        "id": "0mW-C1Nt-j7k"
      },
      "source": [
        "## Prepare Data, Tokenizer, Feature Extractor"
      ]
    },
    {
      "cell_type": "markdown",
      "metadata": {
        "id": "BeBosnY9BH3e"
      },
      "source": [
        "ASR models transcribe speech to text, which means that we both need a feature extractor that processes the speech signal to the model's input format, *e.g.* a feature vector, and a tokenizer that processes the model's output format to text. \n",
        "\n",
        "In 🤗 Transformers, the Wav2Vec2 model is thus accompanied by both a tokenizer, called [Wav2Vec2CTCTokenizer](https://huggingface.co/transformers/master/model_doc/wav2vec2.html#wav2vec2ctctokenizer), and a feature extractor, called [Wav2Vec2FeatureExtractor](https://huggingface.co/transformers/master/model_doc/wav2vec2.html#wav2vec2featureextractor).\n",
        "\n",
        "Let's start by creating the tokenizer responsible for decoding the model's predictions."
      ]
    },
    {
      "cell_type": "markdown",
      "metadata": {
        "id": "sEXEWEJGQPqD"
      },
      "source": [
        "### Create Wav2Vec2CTCTokenizer"
      ]
    },
    {
      "cell_type": "markdown",
      "metadata": {
        "id": "tWmMikuNEKl_"
      },
      "source": [
        "The [pretrained Wav2Vec2 checkpoint]( ) maps the speech signal to a sequence of context representations as illustrated in the figure above. A fine-tuned Wav2Vec2 checkpoint needs to map this sequence of context representations to its corresponding transcription so that a linear layer has to be added on top of the transformer block (shown in yellow). This linear layer is used to classifies each context representation to a token class analogous how, *e.g.*, after pretraining a linear layer is added on top of BERT's embeddings for further classification - *cf.* with *\"BERT\"* section of this [blog post](https://huggingface.co/blog/warm-starting-encoder-decoder).\n",
        "\n",
        "The output size of this layer corresponds to the number of tokens in the vocabulary, which does **not** depend on Wav2Vec2's pretraining task, but only on the labeled dataset used for fine-tuning. So in the first step, we will take a look at Timit and define a vocabulary based on the dataset's transcriptions."
      ]
    },
    {
      "cell_type": "markdown",
      "metadata": {
        "id": "bee4g9rpLxll"
      },
      "source": [
        "Let's start by loading the dataset and taking a look at its structure."
      ]
    },
    {
      "cell_type": "code",
      "metadata": {
        "id": "2MMXcWFFgCXU",
        "colab": {
          "base_uri": "https://localhost:8080/",
          "height": 200,
          "referenced_widgets": [
            "c65537d62ac14b9eb8cd71e0feb7fb9f",
            "9d2e82f0cfe1496fb24dfafa250de2f7",
            "afdd1bf2dc854daa88cd86cf49a6b48c",
            "327dac19f3cb40eabfed2f2050ab1225",
            "a816944d1cba4ed0a52e217349022ea0",
            "1e8baf7176604bf2a6c5b69be015361c",
            "3eae8bae560844c496657784434df728",
            "7007e0c67ba5491c8608a75e7bb0d1f0",
            "7696905c7a7743c7a91d4597788f576a",
            "2f1ff8bc7ab04007bf874996580105a4",
            "87b1645bedec4383ad7a578c30cc5a39",
            "a27f5b28ef734d23a7bd70d458e445df",
            "3523909bb7bc4f1e8cbfbd100b3c0cdc",
            "90bce1e2ccb14ec18168084be61b398f",
            "5032eb72ad7d45e8b7cd4b4ae367c0b4",
            "4f8207f591be46a8b7c2f3f351a8a3ae",
            "8f09fe12fc6148f5909e77c74dc4ce7f",
            "5ad763b2a85a47c6b8e2a3c3c6db291d",
            "6e260be747534c4e99daa1ff65ecef51",
            "3f3461273e0746bf911b5ee71ac36361",
            "85de8e281ce540839d23092f33a32898",
            "01a42e2e33334fb6b00e089bc09f33ea",
            "b9e15f36f89f4285a47917bc67eb8ddb",
            "e9d55081eb924be18001378a70e7da3b",
            "1998469aeaf24d389a7488774ee00356",
            "a7bd27bfc1ad4c7bb3d325026b97fcec",
            "36f92d49d7b04946ac8317053fd4818d",
            "5b33bf238fd446ad8af88793f91e43f2",
            "add96024a6fd4b15afe14684b6d9fd8b",
            "710d572623144d409a4c6d7b38f3c81d",
            "0811695c1229498d9dfa7d09f7e00300",
            "8d6b050a64054ceca2c26b027f6495bb",
            "d04abc5d97004d41ae7f6d3a89b9a5a7",
            "70d16bc0829c42b6bfea7dc99e034ddd",
            "b33fda001d8c462ea946449c767dc7aa",
            "60404b7684e34047a28ffe7df94ef0de",
            "da4b8788af3e417288dc938b4f693538",
            "56b2dbd6002149039935ce2057eea26d",
            "04153ea8d94e445899cd214b6f89de83",
            "e27b0a5a128c4096ab0d29ca8c79e0be",
            "7e576883930547c2815ac78f06ec58dc",
            "ff778aebdb4443a689eb9401aee6655b",
            "afbe94fb60f0481fbd334bc237bd38e0",
            "7c5baf3cbbf442009add15fc81223cdb",
            "b2ace33ba0194603b1f51d6d00fd63fb",
            "a1ab800093e1461bb595ede494df73a6",
            "17564eef40794ba5ba1ad42c330de6b8",
            "a2e723e8130d45c389ea998d096d3e25",
            "995ad483889442a38f606589425bef13",
            "c8b693f5f80e401cb86a7d6823499197",
            "1a497c57ea294172a2aa8856277b2e52",
            "473b886d261042ada1c88e9aeb79aa2e",
            "1ab7ef387f514c92b294bfa587f3081d",
            "5ac496d50e1c4980b08273f0bdf0e443",
            "841e9ab32c464b9baca2328f8bab89df",
            "6b7a5fdcb7494b74a789beca7135e93a",
            "3849abeef1f945148d11b75f3a4256c2",
            "c36ad376c0e9494da159fe2ace3f60b4",
            "dccfa6572f34425bbe31d25a4aef1946",
            "09fa0f2335e5414fa95336d22ab4da2a",
            "0a24a94af0684896b07ccbe2b7d4f8d6",
            "dfcd3da1056f478aadac10e57228fe5e",
            "464d5b9d94dc4219ab3a36cfb35ab222",
            "512585627cc245b0bc97942accf4462f",
            "ffc89551850e47fa927344cdfaf0704d",
            "a2cf9baa6624414bae8407ca982c9532"
          ]
        },
        "outputId": "806165d9-4227-4d73-eb61-7e2f4976c8c5"
      },
      "source": [
        "from datasets import load_dataset, load_metric\n",
        "\n",
        "timit = load_dataset(\"timit_asr\")"
      ],
      "execution_count": 3,
      "outputs": [
        {
          "output_type": "display_data",
          "data": {
            "application/vnd.jupyter.widget-view+json": {
              "model_id": "c65537d62ac14b9eb8cd71e0feb7fb9f",
              "version_minor": 0,
              "version_major": 2
            },
            "text/plain": [
              "Downloading:   0%|          | 0.00/2.40k [00:00<?, ?B/s]"
            ]
          },
          "metadata": {}
        },
        {
          "output_type": "display_data",
          "data": {
            "application/vnd.jupyter.widget-view+json": {
              "model_id": "a27f5b28ef734d23a7bd70d458e445df",
              "version_minor": 0,
              "version_major": 2
            },
            "text/plain": [
              "Downloading:   0%|          | 0.00/1.06k [00:00<?, ?B/s]"
            ]
          },
          "metadata": {}
        },
        {
          "output_type": "stream",
          "name": "stdout",
          "text": [
            "Downloading and preparing dataset timit_asr/clean (download: 828.75 MiB, generated: 7.90 MiB, post-processed: Unknown size, total: 836.65 MiB) to /root/.cache/huggingface/datasets/timit_asr/clean/2.0.1/5bebea6cd9df0fc2c8c871250de23293a94c1dc49324182b330b6759ae6718f8...\n"
          ]
        },
        {
          "output_type": "display_data",
          "data": {
            "application/vnd.jupyter.widget-view+json": {
              "model_id": "b9e15f36f89f4285a47917bc67eb8ddb",
              "version_minor": 0,
              "version_major": 2
            },
            "text/plain": [
              "Downloading:   0%|          | 0.00/869M [00:00<?, ?B/s]"
            ]
          },
          "metadata": {}
        },
        {
          "output_type": "display_data",
          "data": {
            "application/vnd.jupyter.widget-view+json": {
              "model_id": "70d16bc0829c42b6bfea7dc99e034ddd",
              "version_minor": 0,
              "version_major": 2
            },
            "text/plain": [
              "0 examples [00:00, ? examples/s]"
            ]
          },
          "metadata": {}
        },
        {
          "output_type": "display_data",
          "data": {
            "application/vnd.jupyter.widget-view+json": {
              "model_id": "b2ace33ba0194603b1f51d6d00fd63fb",
              "version_minor": 0,
              "version_major": 2
            },
            "text/plain": [
              "0 examples [00:00, ? examples/s]"
            ]
          },
          "metadata": {}
        },
        {
          "output_type": "stream",
          "name": "stdout",
          "text": [
            "Dataset timit_asr downloaded and prepared to /root/.cache/huggingface/datasets/timit_asr/clean/2.0.1/5bebea6cd9df0fc2c8c871250de23293a94c1dc49324182b330b6759ae6718f8. Subsequent calls will reuse this data.\n"
          ]
        },
        {
          "output_type": "display_data",
          "data": {
            "application/vnd.jupyter.widget-view+json": {
              "model_id": "6b7a5fdcb7494b74a789beca7135e93a",
              "version_minor": 0,
              "version_major": 2
            },
            "text/plain": [
              "  0%|          | 0/2 [00:00<?, ?it/s]"
            ]
          },
          "metadata": {}
        }
      ]
    },
    {
      "cell_type": "code",
      "metadata": {
        "colab": {
          "base_uri": "https://localhost:8080/"
        },
        "id": "QbIM-L0xdvf4",
        "outputId": "e21c8f37-8b5a-4ddd-f3e4-7851444781df"
      },
      "source": [
        "timit"
      ],
      "execution_count": 4,
      "outputs": [
        {
          "output_type": "execute_result",
          "data": {
            "text/plain": [
              "DatasetDict({\n",
              "    train: Dataset({\n",
              "        features: ['file', 'audio', 'text', 'phonetic_detail', 'word_detail', 'dialect_region', 'sentence_type', 'speaker_id', 'id'],\n",
              "        num_rows: 4620\n",
              "    })\n",
              "    test: Dataset({\n",
              "        features: ['file', 'audio', 'text', 'phonetic_detail', 'word_detail', 'dialect_region', 'sentence_type', 'speaker_id', 'id'],\n",
              "        num_rows: 1680\n",
              "    })\n",
              "})"
            ]
          },
          "metadata": {},
          "execution_count": 4
        }
      ]
    },
    {
      "cell_type": "markdown",
      "metadata": {
        "id": "ri5y5N_HMANq"
      },
      "source": [
        "Many ASR datasets only provide the target text, `'text'` for each audio `'audio'` and file `'file'`. Timit actually provides much more information about each audio file, such as the `'phonetic_detail'`, etc., which is why many researchers choose to evaluate their models on phoneme classification instead of speech recognition when working with Timit. However, we want to keep the notebook as general as possible, so that we will only consider the transcribed text for fine-tuning.\n",
        "\n"
      ]
    },
    {
      "cell_type": "code",
      "metadata": {
        "id": "kbyq6lDgQc2a",
        "colab": {
          "base_uri": "https://localhost:8080/"
        },
        "outputId": "cfff1e43-9ab6-43d3-889c-fdc472beaba2"
      },
      "source": [
        "timit = timit.remove_columns([\"phonetic_detail\", \"word_detail\", \"dialect_region\", \"id\", \"sentence_type\", \"speaker_id\"])\n",
        "timit"
      ],
      "execution_count": 5,
      "outputs": [
        {
          "output_type": "execute_result",
          "data": {
            "text/plain": [
              "DatasetDict({\n",
              "    train: Dataset({\n",
              "        features: ['file', 'audio', 'text'],\n",
              "        num_rows: 4620\n",
              "    })\n",
              "    test: Dataset({\n",
              "        features: ['file', 'audio', 'text'],\n",
              "        num_rows: 1680\n",
              "    })\n",
              "})"
            ]
          },
          "metadata": {},
          "execution_count": 5
        }
      ]
    },
    {
      "cell_type": "markdown",
      "metadata": {
        "id": "Go9Hq4e4NDT9"
      },
      "source": [
        "Let's write a short function to display some random samples of the dataset and run it a couple of times to get a feeling for the transcriptions."
      ]
    },
    {
      "cell_type": "code",
      "metadata": {
        "id": "72737oog2F6U"
      },
      "source": [
        "# from datasets import ClassLabel\n",
        "import random\n",
        "import pandas as pd\n",
        "from IPython.display import display, HTML\n",
        "\n",
        "def show_random_elements(dataset, num_examples=10):\n",
        "    assert num_examples <= len(dataset), \"Can't pick more elements than there are in the dataset.\"\n",
        "    picks = []\n",
        "    for _ in range(num_examples):\n",
        "        pick = random.randint(0, len(dataset)-1)\n",
        "        while pick in picks:\n",
        "            pick = random.randint(0, len(dataset)-1)\n",
        "        picks.append(pick)\n",
        "    \n",
        "    df = pd.DataFrame(dataset[picks])\n",
        "    display(HTML(df.to_html()))"
      ],
      "execution_count": 6,
      "outputs": []
    },
    {
      "cell_type": "code",
      "metadata": {
        "colab": {
          "base_uri": "https://localhost:8080/",
          "height": 363
        },
        "id": "K_JUmf3G3b9S",
        "outputId": "570f30b9-d32b-4463-d58d-fd8b35cb85e4"
      },
      "source": [
        "show_random_elements(timit[\"train\"].remove_columns([\"audio\", \"file\"]), num_examples=10)"
      ],
      "execution_count": 7,
      "outputs": [
        {
          "output_type": "display_data",
          "data": {
            "text/html": [
              "<table border=\"1\" class=\"dataframe\">\n",
              "  <thead>\n",
              "    <tr style=\"text-align: right;\">\n",
              "      <th></th>\n",
              "      <th>text</th>\n",
              "    </tr>\n",
              "  </thead>\n",
              "  <tbody>\n",
              "    <tr>\n",
              "      <th>0</th>\n",
              "      <td>She had your dark suit in greasy wash water all year.</td>\n",
              "    </tr>\n",
              "    <tr>\n",
              "      <th>1</th>\n",
              "      <td>The local drugstore was charged with illegally dispensing tranquilizers.</td>\n",
              "    </tr>\n",
              "    <tr>\n",
              "      <th>2</th>\n",
              "      <td>Being based on so few events, these results are of dubious validity.</td>\n",
              "    </tr>\n",
              "    <tr>\n",
              "      <th>3</th>\n",
              "      <td>She had your dark suit in greasy wash water all year.</td>\n",
              "    </tr>\n",
              "    <tr>\n",
              "      <th>4</th>\n",
              "      <td>Coffee is grown on steep, jungle-like slopes in temperate zones.</td>\n",
              "    </tr>\n",
              "    <tr>\n",
              "      <th>5</th>\n",
              "      <td>Tim takes Sheila to see movies twice a week.</td>\n",
              "    </tr>\n",
              "    <tr>\n",
              "      <th>6</th>\n",
              "      <td>Cement is measured in cubic yards.</td>\n",
              "    </tr>\n",
              "    <tr>\n",
              "      <th>7</th>\n",
              "      <td>That pickpocket was caught red-handed.</td>\n",
              "    </tr>\n",
              "    <tr>\n",
              "      <th>8</th>\n",
              "      <td>She had your dark suit in greasy wash water all year.</td>\n",
              "    </tr>\n",
              "    <tr>\n",
              "      <th>9</th>\n",
              "      <td>Cottage cheese with chives is delicious.</td>\n",
              "    </tr>\n",
              "  </tbody>\n",
              "</table>"
            ],
            "text/plain": [
              "<IPython.core.display.HTML object>"
            ]
          },
          "metadata": {}
        }
      ]
    },
    {
      "cell_type": "markdown",
      "metadata": {
        "id": "fowcOllGNNju"
      },
      "source": [
        "Alright! The transcriptions look very clean and the language seems to correspond more to written text than dialogue. This makes sense taking into account that [Timit](https://huggingface.co/datasets/timit_asr) is a read speech corpus."
      ]
    },
    {
      "cell_type": "markdown",
      "metadata": {
        "id": "vq7OR50LN49m"
      },
      "source": [
        "We can see that the transcriptions contain some special characters, such as `,.?!;:`. Without a language model, it is much harder to classify speech chunks to such special characters because they don't really correspond to a characteristic sound unit. *E.g.*, the letter `\"s\"` has a more or less clear sound, whereas the special character `\".\"` does not.\n",
        "Also in order to understand the meaning of a speech signal, it is usually not necessary to include special characters in the transcription.\n",
        "\n",
        "In addition, we normalize the text to only have lower case letters and append a word separator token at the end."
      ]
    },
    {
      "cell_type": "code",
      "metadata": {
        "id": "svKzVJ_hQGK6"
      },
      "source": [
        "import re\n",
        "chars_to_ignore_regex = '[\\,\\?\\.\\!\\-\\;\\:\\\"]'\n",
        "\n",
        "def remove_special_characters(batch):\n",
        "    batch[\"text\"] = re.sub(chars_to_ignore_regex, '', batch[\"text\"]).lower() + \" \"\n",
        "    return batch"
      ],
      "execution_count": 8,
      "outputs": []
    },
    {
      "cell_type": "code",
      "metadata": {
        "colab": {
          "base_uri": "https://localhost:8080/",
          "height": 81,
          "referenced_widgets": [
            "cb35f51ff802428c8843f5300573301b",
            "d5944d90fbda48c2b99ec4a3e286e46c",
            "747d1041cc574a34b2344bec990af683",
            "7a980f9ef52b49bf90442a1a65fe8812",
            "556ee239b7b84840b0a671f0e916aabb",
            "c4f0a3692ea642778036cdcd3f692c29",
            "2da985e55d1e4104a2e6b9a925844bcb",
            "6f9ee42e56d34befa89c81da558eacff",
            "cbcb373d7e6f4d1c85b074393f3dc894",
            "8e9c66a8d39c496ebc2bbcdd9d503c06",
            "91799fffd87345bda9a2bef79b220ae3",
            "4a8cc8b93b4949baada9c9969898edf3",
            "00d298f2addf4465b51739984ea32014",
            "a79c8a44decd486eaf7c77a550d71bd7",
            "5ea6317d87cc4acbbbd9c8969d159507",
            "2e828b0f47104cd0a1b7160f87527c0a",
            "e0d3ac39500e44989cfe453370620091",
            "d5640ea3a605454f9f2529958f4e44c1",
            "e54016e5cd764b85a7104c0d819dfed1",
            "061278b68b954ccc96c02c02ab45cc3d",
            "094fdb7d4cf04c519931ec296dcfff0f",
            "2870c3784c90482daf37abb780ad5a84"
          ]
        },
        "id": "XIHocAuTQbBR",
        "outputId": "bb10282f-d2fe-4b52-f0b3-7703ce647a16"
      },
      "source": [
        "timit = timit.map(remove_special_characters)"
      ],
      "execution_count": 9,
      "outputs": [
        {
          "output_type": "display_data",
          "data": {
            "application/vnd.jupyter.widget-view+json": {
              "model_id": "cb35f51ff802428c8843f5300573301b",
              "version_minor": 0,
              "version_major": 2
            },
            "text/plain": [
              "  0%|          | 0/4620 [00:00<?, ?ex/s]"
            ]
          },
          "metadata": {}
        },
        {
          "output_type": "display_data",
          "data": {
            "application/vnd.jupyter.widget-view+json": {
              "model_id": "4a8cc8b93b4949baada9c9969898edf3",
              "version_minor": 0,
              "version_major": 2
            },
            "text/plain": [
              "  0%|          | 0/1680 [00:00<?, ?ex/s]"
            ]
          },
          "metadata": {}
        }
      ]
    },
    {
      "cell_type": "code",
      "metadata": {
        "colab": {
          "base_uri": "https://localhost:8080/",
          "height": 363
        },
        "id": "RBDRAAYxRE6n",
        "outputId": "54308b40-9a56-4ede-85cd-b936a6adcacc"
      },
      "source": [
        "show_random_elements(timit[\"train\"].remove_columns([\"audio\", \"file\"]))"
      ],
      "execution_count": 10,
      "outputs": [
        {
          "output_type": "display_data",
          "data": {
            "text/html": [
              "<table border=\"1\" class=\"dataframe\">\n",
              "  <thead>\n",
              "    <tr style=\"text-align: right;\">\n",
              "      <th></th>\n",
              "      <th>text</th>\n",
              "    </tr>\n",
              "  </thead>\n",
              "  <tbody>\n",
              "    <tr>\n",
              "      <th>0</th>\n",
              "      <td>she had your dark suit in greasy wash water all year</td>\n",
              "    </tr>\n",
              "    <tr>\n",
              "      <th>1</th>\n",
              "      <td>she had your dark suit in greasy wash water all year</td>\n",
              "    </tr>\n",
              "    <tr>\n",
              "      <th>2</th>\n",
              "      <td>the sermon emphasized the need for affirmative action</td>\n",
              "    </tr>\n",
              "    <tr>\n",
              "      <th>3</th>\n",
              "      <td>in most discussions of this phenomenon the figures are substantially inflated</td>\n",
              "    </tr>\n",
              "    <tr>\n",
              "      <th>4</th>\n",
              "      <td>in developing film many toxic chemicals are used</td>\n",
              "    </tr>\n",
              "    <tr>\n",
              "      <th>5</th>\n",
              "      <td>tofu is made from processed soybeans</td>\n",
              "    </tr>\n",
              "    <tr>\n",
              "      <th>6</th>\n",
              "      <td>critical equipment needs proper maintenance</td>\n",
              "    </tr>\n",
              "    <tr>\n",
              "      <th>7</th>\n",
              "      <td>readiness exercises are almost continuous</td>\n",
              "    </tr>\n",
              "    <tr>\n",
              "      <th>8</th>\n",
              "      <td>eat your raisins outdoors on the porch steps</td>\n",
              "    </tr>\n",
              "    <tr>\n",
              "      <th>9</th>\n",
              "      <td>it took a tragedy to bring things to a head</td>\n",
              "    </tr>\n",
              "  </tbody>\n",
              "</table>"
            ],
            "text/plain": [
              "<IPython.core.display.HTML object>"
            ]
          },
          "metadata": {}
        }
      ]
    },
    {
      "cell_type": "markdown",
      "metadata": {
        "id": "jwfaptH5RJwA"
      },
      "source": [
        "Good! This looks better. We have removed most special characters from transcriptions and normalized them to lower-case only.\n",
        "\n",
        "In CTC, it is common to classify speech chunks into letters, so we will do the same here. \n",
        "Let's extract all distinct letters of the training and test data and build our vocabulary from this set of letters.\n",
        "\n",
        "We write a mapping function that concatenates all transcriptions into one long transcription and then transforms the string into a set of chars. \n",
        "It is important to pass the argument `batched=True` to the `map(...)` function so that the mapping function has access to all transcriptions at once."
      ]
    },
    {
      "cell_type": "code",
      "metadata": {
        "id": "LwCshNbbeRZR"
      },
      "source": [
        "def extract_all_chars(batch):\n",
        "  all_text = \" \".join(batch[\"text\"])\n",
        "  vocab = list(set(all_text))\n",
        "  return {\"vocab\": [vocab], \"all_text\": [all_text]}"
      ],
      "execution_count": 11,
      "outputs": []
    },
    {
      "cell_type": "code",
      "metadata": {
        "colab": {
          "base_uri": "https://localhost:8080/",
          "height": 81,
          "referenced_widgets": [
            "ea484dce335b4359b8e86e0c1e64b018",
            "d25155a8ce194998a137a69fae83180f",
            "0f00784e39fe425fb230bd66db9558c7",
            "2c574a3dec0d4c2ea9d1f40396a71034",
            "193e042e3e984b078d9721dceb1afdee",
            "418128137cec47f3b1342fa2fcdb2b9f",
            "8456b8ef688846829b30abb5cf7ae62e",
            "80f219fb18da4f45bbff0b998d00a856",
            "4d7587b70b3b4e5ca58f62ac2dac002a",
            "24cdf268536845538e4d057c74ede693",
            "6d92deecb26f41b1993997fbaf5b9cde",
            "8f150c5d6a764450948638f01af4e5ea",
            "587b7d8c13034f0e952bc2bcfb518dbd",
            "f9093caedd4f45a6935747166120bb78",
            "20557f71f2004089b7ecdc105361f06f",
            "57e687d9893a46c1bc06feca67ad438f",
            "13310ceccb9c448995db535049d077be",
            "492eb471a75749b0953d91d8fc9651e8",
            "3e92f2d775114d7fa840781270c2fa4a",
            "66e9097ef75e4bb6ad4b51f0d3b2ec9b",
            "f9b97a7ccc6444ae93e56f44aa24df4e",
            "29a57aa062144e9aa16ea6b3a0b387a0"
          ]
        },
        "id": "_m6uUjjcfbjH",
        "outputId": "df5503c2-e1c7-48bd-86bb-205d7da33335"
      },
      "source": [
        "vocabs = timit.map(extract_all_chars, batched=True, batch_size=-1, keep_in_memory=True, remove_columns=timit.column_names[\"train\"])"
      ],
      "execution_count": 12,
      "outputs": [
        {
          "output_type": "display_data",
          "data": {
            "application/vnd.jupyter.widget-view+json": {
              "model_id": "ea484dce335b4359b8e86e0c1e64b018",
              "version_minor": 0,
              "version_major": 2
            },
            "text/plain": [
              "  0%|          | 0/1 [00:00<?, ?ba/s]"
            ]
          },
          "metadata": {}
        },
        {
          "output_type": "display_data",
          "data": {
            "application/vnd.jupyter.widget-view+json": {
              "model_id": "8f150c5d6a764450948638f01af4e5ea",
              "version_minor": 0,
              "version_major": 2
            },
            "text/plain": [
              "  0%|          | 0/1 [00:00<?, ?ba/s]"
            ]
          },
          "metadata": {}
        }
      ]
    },
    {
      "cell_type": "markdown",
      "metadata": {
        "id": "7oVgE8RZSJNP"
      },
      "source": [
        "Now, we create the union of all distinct letters in the training dataset and test dataset and convert the resulting list into an enumerated dictionary."
      ]
    },
    {
      "cell_type": "code",
      "metadata": {
        "id": "aQfneNsmlJI0"
      },
      "source": [
        "vocab_list = list(set(vocabs[\"train\"][\"vocab\"][0]) | set(vocabs[\"test\"][\"vocab\"][0]))"
      ],
      "execution_count": 13,
      "outputs": []
    },
    {
      "cell_type": "code",
      "metadata": {
        "colab": {
          "base_uri": "https://localhost:8080/"
        },
        "id": "_0kRndSvqaKk",
        "outputId": "4c6f71d8-7521-4ae5-b248-7ef90814304d"
      },
      "source": [
        "vocab_dict = {v: k for k, v in enumerate(vocab_list)}\n",
        "vocab_dict"
      ],
      "execution_count": 14,
      "outputs": [
        {
          "output_type": "execute_result",
          "data": {
            "text/plain": [
              "{' ': 4,\n",
              " \"'\": 15,\n",
              " 'a': 10,\n",
              " 'b': 22,\n",
              " 'c': 9,\n",
              " 'd': 5,\n",
              " 'e': 23,\n",
              " 'f': 19,\n",
              " 'g': 24,\n",
              " 'h': 2,\n",
              " 'i': 1,\n",
              " 'j': 13,\n",
              " 'k': 3,\n",
              " 'l': 12,\n",
              " 'm': 18,\n",
              " 'n': 25,\n",
              " 'o': 7,\n",
              " 'p': 8,\n",
              " 'q': 0,\n",
              " 'r': 17,\n",
              " 's': 21,\n",
              " 't': 26,\n",
              " 'u': 14,\n",
              " 'v': 27,\n",
              " 'w': 11,\n",
              " 'x': 6,\n",
              " 'y': 16,\n",
              " 'z': 20}"
            ]
          },
          "metadata": {},
          "execution_count": 14
        }
      ]
    },
    {
      "cell_type": "markdown",
      "metadata": {
        "id": "JOSzbvs9SXT1"
      },
      "source": [
        "Cool, we see that all letters of the alphabet occur in the dataset (which is not really surprising) and we also extracted the special characters `\" \"` and `'`. Note that we did not exclude those special characters because: \n",
        "\n",
        "- The model has to learn to predict when a word finished or else the model prediction would always be a sequence of chars which would make it impossible to separate words from each other.\n",
        "- In English, we need to keep the `'` character to differentiate between words, *e.g.*, `\"it's\"` and `\"its\"` which have very different meanings."
      ]
    },
    {
      "cell_type": "markdown",
      "metadata": {
        "id": "b1fBRCn-TRaO"
      },
      "source": [
        "To make it clearer that `\" \"` has its own token class, we give it a more visible character `|`. In addition, we also add an \"unknown\" token so that the model can later deal with characters not encountered in Timit's training set. \n",
        "\n",
        "Finally, we also add a padding token that corresponds to CTC's \"*blank token*\". The \"blank token\" is a core component of the CTC algorithm. For more information, please take a look at the \"Alignment\" section [here](https://distill.pub/2017/ctc/)."
      ]
    },
    {
      "cell_type": "code",
      "metadata": {
        "id": "npbIbBoLgaFX"
      },
      "source": [
        "vocab_dict[\"|\"] = vocab_dict[\" \"]\n",
        "del vocab_dict[\" \"]"
      ],
      "execution_count": 15,
      "outputs": []
    },
    {
      "cell_type": "code",
      "metadata": {
        "id": "znF0bNunsjbl",
        "colab": {
          "base_uri": "https://localhost:8080/"
        },
        "outputId": "2f014125-a4b3-45ed-aa6d-0eafb10cdb14"
      },
      "source": [
        "vocab_dict[\"[UNK]\"] = len(vocab_dict)\n",
        "vocab_dict[\"[PAD]\"] = len(vocab_dict)\n",
        "len(vocab_dict)"
      ],
      "execution_count": 16,
      "outputs": [
        {
          "output_type": "execute_result",
          "data": {
            "text/plain": [
              "30"
            ]
          },
          "metadata": {},
          "execution_count": 16
        }
      ]
    },
    {
      "cell_type": "markdown",
      "metadata": {
        "id": "SFPGfet8U5sL"
      },
      "source": [
        "Cool, now our vocabulary is complete and consists of 30 tokens, which means that the linear layer that we will add on top of the pretrained Wav2Vec2 checkpoint will have an output dimension of 30."
      ]
    },
    {
      "cell_type": "markdown",
      "metadata": {
        "id": "1CujRgBNVRaD"
      },
      "source": [
        "Let's now save the vocabulary as a json file."
      ]
    },
    {
      "cell_type": "code",
      "metadata": {
        "id": "ehyUoh9vk191"
      },
      "source": [
        "import json\n",
        "with open('vocab.json', 'w') as vocab_file:\n",
        "    json.dump(vocab_dict, vocab_file)"
      ],
      "execution_count": 17,
      "outputs": []
    },
    {
      "cell_type": "markdown",
      "metadata": {
        "id": "SHJDaKlIVVim"
      },
      "source": [
        "In a final step, we use the json file to instantiate an object of the `Wav2Vec2CTCTokenizer` class."
      ]
    },
    {
      "cell_type": "code",
      "metadata": {
        "id": "xriFGEWQkO4M"
      },
      "source": [
        "from transformers import Wav2Vec2CTCTokenizer\n",
        "\n",
        "tokenizer = Wav2Vec2CTCTokenizer(\"./vocab.json\", unk_token=\"[UNK]\", pad_token=\"[PAD]\", word_delimiter_token=\"|\")"
      ],
      "execution_count": 18,
      "outputs": []
    },
    {
      "cell_type": "markdown",
      "metadata": {
        "id": "P6L2EVWwIazG"
      },
      "source": [
        "If one wants to re-use the just created tokenizer with the fine-tuned model of this notebook, it is strongly advised to upload the `tokenizer` to the [🤗 Hub](https://huggingface.co/). Let's call the repo to which we will upload the files\n",
        "`\"wav2vec2-base-timit-demo-colab\"`:"
      ]
    },
    {
      "cell_type": "code",
      "metadata": {
        "id": "1mbffBdxIl0M"
      },
      "source": [
        "# repo_name = \"wav2vec2-base-timit-demo-colab\""
      ],
      "execution_count": 19,
      "outputs": []
    },
    {
      "cell_type": "markdown",
      "metadata": {
        "id": "pmpG2ftFIu3B"
      },
      "source": [
        "and upload the tokenizer to the [🤗 Hub](https://huggingface.co/)."
      ]
    },
    {
      "cell_type": "code",
      "metadata": {
        "id": "ScBMUz8jIxJi"
      },
      "source": [
        "# tokenizer.push_to_hub(repo_name)"
      ],
      "execution_count": 20,
      "outputs": []
    },
    {
      "cell_type": "markdown",
      "metadata": {
        "id": "KvL12DrNV4cx"
      },
      "source": [
        "Great, you can see the just created repository under `https://huggingface.co/<your-username>/wav2vec2-base-timit-demo-colab`"
      ]
    },
    {
      "cell_type": "markdown",
      "metadata": {
        "id": "mYcIiR2FQ96i"
      },
      "source": [
        "### Create Wav2Vec2 Feature Extractor"
      ]
    },
    {
      "cell_type": "markdown",
      "metadata": {
        "id": "Y6mDEyW719rx"
      },
      "source": [
        "Speech is a continuous signal and to be treated by computers, it first has to be discretized, which is usually called **sampling**. The sampling rate hereby plays an important role in that it defines how many data points of the speech signal are measured per second. Therefore, sampling with a higher sampling rate results in a better approximation of the *real* speech signal but also necessitates more values per second.\n",
        "\n",
        "A pretrained checkpoint expects its input data to have been sampled more or less from the same distribution as the data it was trained on. The same speech signals sampled at two different rates have a very different distribution, *e.g.*, doubling the sampling rate results in data points being twice as long. Thus, \n",
        "before fine-tuning a pretrained checkpoint of an ASR model, it is crucial to verify that the sampling rate of the data that was used to pretrain the model matches the sampling rate of the dataset used to fine-tune the model.\n",
        "\n",
        "Wav2Vec2 was pretrained on the audio data of [LibriSpeech](https://huggingface.co/datasets/librispeech_asr) and LibriVox which both were sampling with 16kHz. Our fine-tuning dataset, [Timit](hhtps://huggingface.co/datasets/timit_asr), was luckily also sampled with 16kHz. If the fine-tuning dataset would have been sampled with a rate lower or higher than 16kHz, we first would have had to up or downsample the speech signal to match the sampling rate of the data used for pretraining. \n",
        "\n"
      ]
    },
    {
      "cell_type": "markdown",
      "metadata": {
        "id": "KuUbPW7oV-B5"
      },
      "source": [
        "A Wav2Vec2 feature extractor object requires the following parameters to be instantiated:\n",
        "\n",
        "- `feature_size`: Speech models take a sequence of feature vectors as an input. While the length of this sequence obviously varies, the feature size should not. In the case of Wav2Vec2, the feature size is 1 because the model was trained on the raw speech signal ${}^2$.\n",
        "- `sampling_rate`: The sampling rate at which the model is trained on.\n",
        "- `padding_value`: For batched inference, shorter inputs need to be padded with a specific value\n",
        "- `do_normalize`: Whether the input should be *zero-mean-unit-variance* normalized or not. Usually, speech models perform better when normalizing the input\n",
        "- `return_attention_mask`: Whether the model should make use of an `attention_mask` for batched inference. In general, models should **always** make use of the `attention_mask` to mask padded tokens. However, due to a very specific design choice of `Wav2Vec2`'s \"base\" checkpoint, better results are achieved when using no `attention_mask`. This is **not** recommended for other speech models. For more information, one can take a look at [this](https://github.com/pytorch/fairseq/issues/3227) issue. **Important** If you want to use this notebook to fine-tune [large-lv60](https://huggingface.co/facebook/wav2vec2-large-lv60), this parameter should be set to `True`."
      ]
    },
    {
      "cell_type": "code",
      "metadata": {
        "id": "kAR0-2KLkopp"
      },
      "source": [
        "from transformers import Wav2Vec2FeatureExtractor\n",
        "\n",
        "feature_extractor = Wav2Vec2FeatureExtractor(feature_size=1, sampling_rate=16000, padding_value=0.0, do_normalize=True, return_attention_mask=False)"
      ],
      "execution_count": 21,
      "outputs": []
    },
    {
      "cell_type": "markdown",
      "metadata": {
        "id": "qUETetgqYC3W"
      },
      "source": [
        "Great, Wav2Vec2's feature extraction pipeline is thereby fully defined!\n",
        "\n",
        "To make the usage of Wav2Vec2 as user-friendly as possible, the feature extractor and tokenizer are *wrapped* into a single `Wav2Vec2Processor` class so that one only needs a `model` and `processor` object."
      ]
    },
    {
      "cell_type": "code",
      "metadata": {
        "id": "KYZtoW-tlZgl"
      },
      "source": [
        "from transformers import Wav2Vec2Processor\n",
        "\n",
        "processor = Wav2Vec2Processor(feature_extractor=feature_extractor, tokenizer=tokenizer)"
      ],
      "execution_count": 22,
      "outputs": []
    },
    {
      "cell_type": "markdown",
      "metadata": {
        "id": "DrKnYuvDIoOO"
      },
      "source": [
        "Next, we can prepare the dataset."
      ]
    },
    {
      "cell_type": "markdown",
      "metadata": {
        "id": "YFmShnl7RE35"
      },
      "source": [
        "### Preprocess Data\n",
        "\n",
        "So far, we have not looked at the actual values of the speech signal but just the transcription. In addition to `'text'`, our datasets include two more column names `'file'` and `'audio'`. `'file'` states the absolute path of the audio file. Let's take a look."
      ]
    },
    {
      "cell_type": "code",
      "metadata": {
        "colab": {
          "base_uri": "https://localhost:8080/",
          "height": 35
        },
        "id": "TTCS7W6XJ9BG",
        "outputId": "8deac9b7-ee11-48d6-e8a2-98ad10b0ac3a"
      },
      "source": [
        "timit[\"train\"][0][\"file\"]"
      ],
      "execution_count": 23,
      "outputs": [
        {
          "output_type": "execute_result",
          "data": {
            "application/vnd.google.colaboratory.intrinsic+json": {
              "type": "string"
            },
            "text/plain": [
              "'/root/.cache/huggingface/datasets/downloads/extracted/404950a46da14eac65eb4e2a8317b1372fb3971d980d91d5d5b221275b1fd7e0/data/TRAIN/DR4/MMDM0/SI681.WAV'"
            ]
          },
          "metadata": {},
          "execution_count": 23
        }
      ]
    },
    {
      "cell_type": "markdown",
      "metadata": {
        "id": "BwxprOw4Nzrl"
      },
      "source": [
        "`Wav2Vec2` expects the input in the format of a 1-dimensional array of 16 kHz. This means that the audio file has to be loaded and resampled.\n",
        "\n",
        " Thankfully, `datasets` does this automatically when calling the column `audio`. Let try it out. "
      ]
    },
    {
      "cell_type": "code",
      "metadata": {
        "colab": {
          "base_uri": "https://localhost:8080/"
        },
        "id": "mk9QHuSsN7lf",
        "outputId": "72bdeaf2-f8e5-4eae-b864-a8cb930d4abf"
      },
      "source": [
        "timit[\"train\"][0][\"audio\"]"
      ],
      "execution_count": 24,
      "outputs": [
        {
          "output_type": "execute_result",
          "data": {
            "text/plain": [
              "{'array': array([-2.1362305e-04,  6.1035156e-05,  3.0517578e-05, ...,\n",
              "        -3.0517578e-05, -9.1552734e-05, -6.1035156e-05], dtype=float32),\n",
              " 'path': '/root/.cache/huggingface/datasets/downloads/extracted/404950a46da14eac65eb4e2a8317b1372fb3971d980d91d5d5b221275b1fd7e0/data/TRAIN/DR4/MMDM0/SI681.WAV',\n",
              " 'sampling_rate': 16000}"
            ]
          },
          "metadata": {},
          "execution_count": 24
        }
      ]
    },
    {
      "cell_type": "markdown",
      "metadata": {
        "id": "wSBIGEiaKHMn"
      },
      "source": [
        "We can see that the audio file has automatically been loaded. This is thanks to the new [`\"Audio\"` feature](https://huggingface.co/docs/datasets/package_reference/main_classes.html?highlight=audio#datasets.Audio) introduced in `datasets == 4.13.3`, which loads and resamples audio files on-the-fly upon calling.\n",
        "\n",
        "The sampling rate is set to 16kHz which is what `Wav2Vec2` expects as an input."
      ]
    },
    {
      "cell_type": "markdown",
      "metadata": {
        "id": "SOckzFd4Mbzq"
      },
      "source": [
        "Great, let's listen to a couple of audio files to better understand the dataset and verify that the audio was correctly loaded. \n",
        "\n",
        "**Note**: *You can click the following cell a couple of times to listen to different speech samples.*"
      ]
    },
    {
      "cell_type": "code",
      "metadata": {
        "colab": {
          "base_uri": "https://localhost:8080/",
          "height": 93
        },
        "id": "dueM6U7Ev0OA",
        "outputId": "e50326e0-7139-4dae-af27-2f38a35610c0"
      },
      "source": [
        "import IPython.display as ipd\n",
        "import numpy as np\n",
        "import random\n",
        "\n",
        "rand_int = random.randint(0, len(timit[\"train\"]))\n",
        "\n",
        "print(timit[\"train\"][rand_int][\"text\"])\n",
        "ipd.Audio(data=np.asarray(timit[\"train\"][rand_int][\"audio\"][\"array\"]), autoplay=True, rate=16000)"
      ],
      "execution_count": 25,
      "outputs": [
        {
          "output_type": "stream",
          "name": "stdout",
          "text": [
            "this has been attributed to helium film flow in the vapor pressure thermometer \n"
          ]
        },
        {
          "output_type": "execute_result",
          "data": {
            "text/html": [
              "\n",
              "                <audio controls=\"controls\" autoplay=\"autoplay\">\n",
              "                    <source src=\"data:audio/wav;base64,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\" type=\"audio/wav\" />\n",
              "                    Your browser does not support the audio element.\n",
              "                </audio>\n",
              "              "
            ],
            "text/plain": [
              "<IPython.lib.display.Audio object>"
            ]
          },
          "metadata": {},
          "execution_count": 25
        }
      ]
    },
    {
      "cell_type": "markdown",
      "metadata": {
        "id": "1MaL9J2dNVtG"
      },
      "source": [
        "It can be heard, that the speakers change along with their speaking rate, accent, etc. Overall, the recordings sound relatively clear though, which is to be expected from a read speech corpus.\n",
        "\n",
        "Let's do a final check that the data is correctly prepared, by printing the shape of the speech input, its transcription, and the corresponding sampling rate.\n",
        "\n",
        "**Note**: *You can click the following cell a couple of times to verify multiple samples.*"
      ]
    },
    {
      "cell_type": "code",
      "metadata": {
        "colab": {
          "base_uri": "https://localhost:8080/"
        },
        "id": "1Po2g7YPuRTx",
        "outputId": "5889215c-a199-42cf-e166-539da3f01da4"
      },
      "source": [
        "rand_int = random.randint(0, len(timit[\"train\"]))\n",
        "\n",
        "print(\"Target text:\", timit[\"train\"][rand_int][\"text\"])\n",
        "print(\"Input array shape:\", np.asarray(timit[\"train\"][rand_int][\"audio\"][\"array\"]).shape)\n",
        "print(\"Sampling rate:\", timit[\"train\"][rand_int][\"audio\"][\"sampling_rate\"])"
      ],
      "execution_count": 29,
      "outputs": [
        {
          "output_type": "stream",
          "name": "stdout",
          "text": [
            "Target text: don't ask me to carry an oily rag like that \n",
            "Input array shape: (56218,)\n",
            "Sampling rate: 16000\n"
          ]
        }
      ]
    },
    {
      "cell_type": "markdown",
      "metadata": {
        "id": "M9teZcSwOBJ4"
      },
      "source": [
        "Good! Everything looks fine - the data is a 1-dimensional array, the sampling rate always corresponds to 16kHz, and the target text is normalized."
      ]
    },
    {
      "cell_type": "markdown",
      "metadata": {
        "id": "k3Pbn5WvOYZF"
      },
      "source": [
        "Finally, we can process the dataset to the format expected by the model for training. We will make use of the `map(...)` function.\n",
        "\n",
        "First, we load and resample the audio data, simply by calling `batch[\"audio\"]`.\n",
        "Second, we extract the `input_values` from the loaded audio file. In our case, the `Wav2Vec2Processor` only normalizes the data. For other speech models, however, this step can include more complex feature extraction, such as [Log-Mel feature extraction](https://en.wikipedia.org/wiki/Mel-frequency_cepstrum).\n",
        "Third, we encode the transcriptions to label ids.\n",
        "\n",
        "**Note**: This mapping function is a good example of how the `Wav2Vec2Processor` class should be used. In \"normal\" context, calling `processor(...)` is redirected to `Wav2Vec2FeatureExtractor`'s call method. When wrapping the processor into the `as_target_processor` context, however, the same method is redirected to `Wav2Vec2CTCTokenizer`'s call method.\n",
        "For more information please check the [docs](https://huggingface.co/transformers/master/model_doc/wav2vec2.html#transformers.Wav2Vec2Processor.__call__)."
      ]
    },
    {
      "cell_type": "code",
      "metadata": {
        "id": "eJY7I0XAwe9p"
      },
      "source": [
        "def prepare_dataset(batch):\n",
        "    audio = batch[\"audio\"]\n",
        "\n",
        "    # batched output is \"un-batched\" to ensure mapping is correct\n",
        "    batch[\"input_values\"] = processor(audio[\"array\"], sampling_rate=audio[\"sampling_rate\"]).input_values[0]\n",
        "    batch[\"input_length\"] = len(batch[\"input_values\"])\n",
        "    \n",
        "    with processor.as_target_processor():\n",
        "        batch[\"labels\"] = processor(batch[\"text\"]).input_ids\n",
        "    return batch"
      ],
      "execution_count": null,
      "outputs": []
    },
    {
      "cell_type": "markdown",
      "metadata": {
        "id": "hVMZhH4-nP8-"
      },
      "source": [
        "Let's apply the data preparation function to all examples."
      ]
    },
    {
      "cell_type": "code",
      "metadata": {
        "id": "-np9xYK-wl8q"
      },
      "source": [
        "timit = timit.map(prepare_dataset, remove_columns=timit.column_names[\"train\"], num_proc=4)"
      ],
      "execution_count": null,
      "outputs": []
    },
    {
      "cell_type": "markdown",
      "metadata": {
        "id": "p_MuJSH8nTuQ"
      },
      "source": [
        "**Note**: Currently `datasets` make use of [`torchaudio`](https://pytorch.org/audio/stable/index.html) and [`librosa`](https://librosa.org/doc/latest/index.html) for audio loading and resampling. If you wish to implement your own costumized data loading/sampling, feel free to just make use of the `\"path\"` column instead and disregard the `\"audio\"` column."
      ]
    },
    {
      "cell_type": "markdown",
      "metadata": {
        "id": "M4J0bU1WsvAg"
      },
      "source": [
        "Long input sequences require a lot of memory. Since `Wav2Vec2` is based on `self-attention` the memory requirement scales quadratically with the input length for long input sequences (*cf.* with [this](https://www.reddit.com/r/MachineLearning/comments/genjvb/d_why_is_the_maximum_input_sequence_length_of/) reddit post). For this demo, let's filter all sequences that are longer than 4 seconds out of the training dataset."
      ]
    },
    {
      "cell_type": "code",
      "metadata": {
        "colab": {
          "base_uri": "https://localhost:8080/",
          "height": 49,
          "referenced_widgets": [
            "d896231bf5824211a55d494d48626fc6",
            "14dae264619940beab57908b986aa6bb",
            "2392ea8eae7c4dbebc0e218cd7c5ce23",
            "effd4c06dcdb44ae9027dbe846438c83",
            "3d0635b79b6342b78a9689e092f60872",
            "2d77f792dd6048b39d0f14ebf4f80614",
            "d16ea3ef10684bf1b1092345ca92897a",
            "d7a01acdb98f435489fed6bf1a5b3e4f",
            "9ceca09d9fdb4a0495d33bf3eef7e65e",
            "29105b8924d949b99cc0bf317d63b25c",
            "d1693414e7964bfcbe95f6d95d5d4204"
          ]
        },
        "id": "nqGobEPUvG3v",
        "outputId": "3be8c879-ed75-468b-b86a-50b2d64607a9"
      },
      "source": [
        "max_input_length_in_sec = 4.0\n",
        "timit[\"train\"] = timit[\"train\"].filter(lambda x: x < max_input_length_in_sec * processor.feature_extractor.sampling_rate, input_columns=[\"input_length\"])"
      ],
      "execution_count": null,
      "outputs": [
        {
          "output_type": "display_data",
          "data": {
            "application/vnd.jupyter.widget-view+json": {
              "model_id": "d896231bf5824211a55d494d48626fc6",
              "version_minor": 0,
              "version_major": 2
            },
            "text/plain": [
              "  0%|          | 0/5 [00:00<?, ?ba/s]"
            ]
          },
          "metadata": {}
        }
      ]
    },
    {
      "cell_type": "markdown",
      "metadata": {
        "id": "25Genil2v_Br"
      },
      "source": [
        "Awesome, now we are ready to start training!"
      ]
    },
    {
      "cell_type": "markdown",
      "metadata": {
        "id": "gYlQkKVoRUos"
      },
      "source": [
        "## Training & Evaluation\n",
        "\n",
        "The data is processed so that we are ready to start setting up the training pipeline. We will make use of 🤗's [Trainer](https://huggingface.co/transformers/master/main_classes/trainer.html?highlight=trainer) for which we essentially need to do the following:\n",
        "\n",
        "- Define a data collator. In contrast to most NLP models, Wav2Vec2 has a much larger input length than output length. *E.g.*, a sample of input length 50000 has an output length of no more than 100. Given the large input sizes, it is much more efficient to pad the training batches dynamically meaning that all training samples should only be padded to the longest sample in their batch and not the overall longest sample. Therefore, fine-tuning Wav2Vec2 requires a special padding data collator, which we will define below\n",
        "\n",
        "- Evaluation metric. During training, the model should be evaluated on the word error rate. We should define a `compute_metrics` function accordingly\n",
        "\n",
        "- Load a pretrained checkpoint. We need to load a pretrained checkpoint and configure it correctly for training.\n",
        "\n",
        "- Define the training configuration.\n",
        "\n",
        "After having fine-tuned the model, we will correctly evaluate it on the test data and verify that it has indeed learned to correctly transcribe speech."
      ]
    },
    {
      "cell_type": "markdown",
      "metadata": {
        "id": "Slk403unUS91"
      },
      "source": [
        "### Set-up Trainer\n",
        "\n",
        "Let's start by defining the data collator. The code for the data collator was copied from [this example](https://github.com/huggingface/transformers/blob/9a06b6b11bdfc42eea08fa91d0c737d1863c99e3/examples/research_projects/wav2vec2/run_asr.py#L81).\n",
        "\n",
        "Without going into too many details, in contrast to the common data collators, this data collator treats the `input_values` and `labels` differently and thus applies to separate padding functions on them (again making use of Wav2Vec2's context manager). This is necessary because in speech input and output are of different modalities meaning that they should not be treated by the same padding function.\n",
        "Analogous to the common data collators, the padding tokens in the labels with `-100` so that those tokens are **not** taken into account when computing the loss."
      ]
    },
    {
      "cell_type": "code",
      "metadata": {
        "id": "tborvC9hx88e"
      },
      "source": [
        "import torch\n",
        "\n",
        "from dataclasses import dataclass, field\n",
        "from typing import Any, Dict, List, Optional, Union\n",
        "\n",
        "@dataclass\n",
        "class DataCollatorCTCWithPadding:\n",
        "    \"\"\"\n",
        "    Data collator that will dynamically pad the inputs received.\n",
        "    Args:\n",
        "        processor (:class:`~transformers.Wav2Vec2Processor`)\n",
        "            The processor used for proccessing the data.\n",
        "        padding (:obj:`bool`, :obj:`str` or :class:`~transformers.tokenization_utils_base.PaddingStrategy`, `optional`, defaults to :obj:`True`):\n",
        "            Select a strategy to pad the returned sequences (according to the model's padding side and padding index)\n",
        "            among:\n",
        "            * :obj:`True` or :obj:`'longest'`: Pad to the longest sequence in the batch (or no padding if only a single\n",
        "              sequence if provided).\n",
        "            * :obj:`'max_length'`: Pad to a maximum length specified with the argument :obj:`max_length` or to the\n",
        "              maximum acceptable input length for the model if that argument is not provided.\n",
        "            * :obj:`False` or :obj:`'do_not_pad'` (default): No padding (i.e., can output a batch with sequences of\n",
        "              different lengths).\n",
        "        max_length (:obj:`int`, `optional`):\n",
        "            Maximum length of the ``input_values`` of the returned list and optionally padding length (see above).\n",
        "        max_length_labels (:obj:`int`, `optional`):\n",
        "            Maximum length of the ``labels`` returned list and optionally padding length (see above).\n",
        "        pad_to_multiple_of (:obj:`int`, `optional`):\n",
        "            If set will pad the sequence to a multiple of the provided value.\n",
        "            This is especially useful to enable the use of Tensor Cores on NVIDIA hardware with compute capability >=\n",
        "            7.5 (Volta).\n",
        "    \"\"\"\n",
        "\n",
        "    processor: Wav2Vec2Processor\n",
        "    padding: Union[bool, str] = True\n",
        "    max_length: Optional[int] = None\n",
        "    max_length_labels: Optional[int] = None\n",
        "    pad_to_multiple_of: Optional[int] = None\n",
        "    pad_to_multiple_of_labels: Optional[int] = None\n",
        "\n",
        "    def __call__(self, features: List[Dict[str, Union[List[int], torch.Tensor]]]) -> Dict[str, torch.Tensor]:\n",
        "        # split inputs and labels since they have to be of different lenghts and need\n",
        "        # different padding methods\n",
        "        input_features = [{\"input_values\": feature[\"input_values\"]} for feature in features]\n",
        "        label_features = [{\"input_ids\": feature[\"labels\"]} for feature in features]\n",
        "\n",
        "        batch = self.processor.pad(\n",
        "            input_features,\n",
        "            padding=self.padding,\n",
        "            max_length=self.max_length,\n",
        "            pad_to_multiple_of=self.pad_to_multiple_of,\n",
        "            return_tensors=\"pt\",\n",
        "        )\n",
        "        with self.processor.as_target_processor():\n",
        "            labels_batch = self.processor.pad(\n",
        "                label_features,\n",
        "                padding=self.padding,\n",
        "                max_length=self.max_length_labels,\n",
        "                pad_to_multiple_of=self.pad_to_multiple_of_labels,\n",
        "                return_tensors=\"pt\",\n",
        "            )\n",
        "\n",
        "        # replace padding with -100 to ignore loss correctly\n",
        "        labels = labels_batch[\"input_ids\"].masked_fill(labels_batch.attention_mask.ne(1), -100)\n",
        "\n",
        "        batch[\"labels\"] = labels\n",
        "\n",
        "        return batch"
      ],
      "execution_count": null,
      "outputs": []
    },
    {
      "cell_type": "code",
      "metadata": {
        "id": "lbQf5GuZyQ4_"
      },
      "source": [
        "data_collator = DataCollatorCTCWithPadding(processor=processor, padding=True)"
      ],
      "execution_count": null,
      "outputs": []
    },
    {
      "cell_type": "markdown",
      "metadata": {
        "id": "xO-Zdj-5cxXp"
      },
      "source": [
        "Next, the evaluation metric is defined. As mentioned earlier, the \n",
        "predominant metric in ASR is the word error rate (WER), hence we will use it in this notebook as well."
      ]
    },
    {
      "cell_type": "code",
      "metadata": {
        "id": "9Xsux2gmyXso",
        "colab": {
          "base_uri": "https://localhost:8080/",
          "height": 49,
          "referenced_widgets": [
            "fd43a043ce7c4b878ade15f6bbf55977",
            "b362a9179f894ff5b879bbae73fe41b2",
            "e0888123f0d2455d9f565939a8abda4e",
            "3544f17e723f4ade9356e0eacd57c4f5",
            "df32789a34fe494c9a8791a8d8c70c69",
            "2e27a56468684597ba7084d662a92309",
            "57cd1596aead47ad85987147a0f1bb75",
            "4ab4afbba4a940cba487688b298092cf",
            "a5858da3495c4995adf804fc96ef938f",
            "a6e7f6bb9bf5486389689d79e499869b",
            "b5f579a82ca745e1b8baeff5df14e6b3"
          ]
        },
        "outputId": "d05825d4-1e5e-47c4-e494-a28e33a20534"
      },
      "source": [
        "wer_metric = load_metric(\"wer\")"
      ],
      "execution_count": null,
      "outputs": [
        {
          "output_type": "display_data",
          "data": {
            "application/vnd.jupyter.widget-view+json": {
              "model_id": "fd43a043ce7c4b878ade15f6bbf55977",
              "version_minor": 0,
              "version_major": 2
            },
            "text/plain": [
              "Downloading:   0%|          | 0.00/1.95k [00:00<?, ?B/s]"
            ]
          },
          "metadata": {}
        }
      ]
    },
    {
      "cell_type": "markdown",
      "metadata": {
        "id": "E1qZU5p-deqB"
      },
      "source": [
        "The model will return a sequence of logit vectors:\n",
        "$\\mathbf{y}_1, \\ldots, \\mathbf{y}_m$ with $\\mathbf{y}_1 = f_{\\theta}(x_1, \\ldots, x_n)[0]$ and $n >> m$.\n",
        "\n",
        "A logit vector $\\mathbf{y}_1$ contains the log-odds for each word in the vocabulary we defined earlier, thus $\\text{len}(\\mathbf{y}_i) =$ `config.vocab_size`. We are interested in the most likely prediction of the model and thus take the `argmax(...)` of the logits. Also, we transform the encoded labels back to the original string by replacing `-100` with the `pad_token_id` and decoding the ids while making sure that consecutive tokens are **not** grouped to the same token in CTC style ${}^1$."
      ]
    },
    {
      "cell_type": "code",
      "metadata": {
        "id": "1XZ-kjweyTy_"
      },
      "source": [
        "def compute_metrics(pred):\n",
        "    pred_logits = pred.predictions\n",
        "    pred_ids = np.argmax(pred_logits, axis=-1)\n",
        "\n",
        "    pred.label_ids[pred.label_ids == -100] = processor.tokenizer.pad_token_id\n",
        "\n",
        "    pred_str = processor.batch_decode(pred_ids)\n",
        "    # we do not want to group tokens when computing the metrics\n",
        "    label_str = processor.batch_decode(pred.label_ids, group_tokens=False)\n",
        "\n",
        "    wer = wer_metric.compute(predictions=pred_str, references=label_str)\n",
        "\n",
        "    return {\"wer\": wer}"
      ],
      "execution_count": null,
      "outputs": []
    },
    {
      "cell_type": "markdown",
      "metadata": {
        "id": "Xmgrx4bRwLIH"
      },
      "source": [
        "Now, we can load the pretrained `Wav2Vec2` checkpoint. The tokenizer's `pad_token_id` must be to define the model's `pad_token_id` or in the case of `Wav2Vec2ForCTC` also CTC's *blank token* ${}^2$. To save GPU memory, we enable PyTorch's [gradient checkpointing](https://pytorch.org/docs/stable/checkpoint.html) and also set the loss reduction to \"*mean*\"."
      ]
    },
    {
      "cell_type": "code",
      "metadata": {
        "colab": {
          "base_uri": "https://localhost:8080/",
          "height": 227,
          "referenced_widgets": [
            "6b1c56f42b6242d8a7fdc62c9da29f54",
            "8b6b4d8555ff4719b9e300fed72a7cba",
            "ac40289a8a0b40bc93da88fc9adcb7f9",
            "943e736502ee4084a9e94623d6650a6b",
            "74f527b8620e4233904b8397d18096a3",
            "f55bd5328793422fb0e2101442855dec",
            "50c55e7188bc4d6a88ae83995ffa2366",
            "68321a0f68c7483d9561c8e4bf5fd630",
            "8e40a7c27db24510a46ef0331459ee1c",
            "fe53a6cd10ca4aee803c98f027ca23d3",
            "8e8fbf8933944694a78faff62a9f46f8",
            "310c679ea5c94e9d974ecf8a6f78ddfa",
            "64b55627276d4d509d6345fc92f203d2",
            "8c9a575f1f4b44809c5ffb12436b7966",
            "b477afdf889b479ba892b3e0110ee94f",
            "a0488c5f2aea43388491367308426d38",
            "8561afcd5dde4e70b02b984fc2e7dc21",
            "e9db0953aab746658b52ce84cae39f97",
            "480afa0ed5f14bbebb888a81b25a5428",
            "6ebdb03f75bb44248a6ad230f1916d8f",
            "02fd98c15acc4ca8b973d4682a8bf684",
            "f7b66384620143b4b38997bc64f81191"
          ]
        },
        "id": "e7cqAWIayn6w",
        "outputId": "85cb8bf8-b591-47aa-e76d-02be026149c6"
      },
      "source": [
        "from transformers import Wav2Vec2ForCTC\n",
        "\n",
        "model = Wav2Vec2ForCTC.from_pretrained(\n",
        "    \"facebook/wav2vec2-base\", \n",
        "    ctc_loss_reduction=\"mean\", \n",
        "    pad_token_id=processor.tokenizer.pad_token_id,\n",
        ")"
      ],
      "execution_count": null,
      "outputs": [
        {
          "output_type": "display_data",
          "data": {
            "application/vnd.jupyter.widget-view+json": {
              "model_id": "6b1c56f42b6242d8a7fdc62c9da29f54",
              "version_minor": 0,
              "version_major": 2
            },
            "text/plain": [
              "Downloading:   0%|          | 0.00/1.80k [00:00<?, ?B/s]"
            ]
          },
          "metadata": {}
        },
        {
          "output_type": "stream",
          "name": "stderr",
          "text": [
            "/usr/local/lib/python3.7/dist-packages/transformers/configuration_utils.py:337: UserWarning: Passing `gradient_checkpointing` to a config initialization is deprecated and will be removed in v5 Transformers. Using `model.gradient_checkpointing_enable()` instead, or if you are using the `Trainer` API, pass `gradient_checkpointing=True` in your `TrainingArguments`.\n",
            "  \"Passing `gradient_checkpointing` to a config initialization is deprecated and will be removed in v5 \"\n"
          ]
        },
        {
          "output_type": "display_data",
          "data": {
            "application/vnd.jupyter.widget-view+json": {
              "model_id": "310c679ea5c94e9d974ecf8a6f78ddfa",
              "version_minor": 0,
              "version_major": 2
            },
            "text/plain": [
              "Downloading:   0%|          | 0.00/363M [00:00<?, ?B/s]"
            ]
          },
          "metadata": {}
        },
        {
          "output_type": "stream",
          "name": "stderr",
          "text": [
            "Some weights of the model checkpoint at facebook/wav2vec2-base were not used when initializing Wav2Vec2ForCTC: ['quantizer.codevectors', 'project_hid.weight', 'quantizer.weight_proj.bias', 'project_q.weight', 'project_q.bias', 'project_hid.bias', 'quantizer.weight_proj.weight']\n",
            "- This IS expected if you are initializing Wav2Vec2ForCTC from the checkpoint of a model trained on another task or with another architecture (e.g. initializing a BertForSequenceClassification model from a BertForPreTraining model).\n",
            "- This IS NOT expected if you are initializing Wav2Vec2ForCTC from the checkpoint of a model that you expect to be exactly identical (initializing a BertForSequenceClassification model from a BertForSequenceClassification model).\n",
            "Some weights of Wav2Vec2ForCTC were not initialized from the model checkpoint at facebook/wav2vec2-base and are newly initialized: ['lm_head.bias', 'lm_head.weight']\n",
            "You should probably TRAIN this model on a down-stream task to be able to use it for predictions and inference.\n"
          ]
        }
      ]
    },
    {
      "cell_type": "markdown",
      "metadata": {
        "id": "1DwR3XLSzGDD"
      },
      "source": [
        "The first component of Wav2Vec2 consists of a stack of CNN layers that are used to extract acoustically meaningful - but contextually independent - features from the raw speech signal. This part of the model has already been sufficiently trained during pretrainind and as stated in the [paper](https://arxiv.org/abs/2006.11477) does not need to be fine-tuned anymore. \n",
        "Thus, we can set the `requires_grad` to `False` for all parameters of the *feature extraction* part."
      ]
    },
    {
      "cell_type": "markdown",
      "metadata": {
        "id": "lD4aGhQM0K-D"
      },
      "source": [
        "In a final step, we define all parameters related to training. \n",
        "To give more explanation on some of the parameters:\n",
        "- `group_by_length` makes training more efficient by grouping training samples of similar input length into one batch. This can significantly speed up training time by heavily reducing the overall number of useless padding tokens that are passed through the model\n",
        "- `learning_rate` and `weight_decay` were heuristically tuned until fine-tuning has become stable. Note that those parameters strongly depend on the Timit dataset and might be suboptimal for other speech datasets.\n",
        "\n",
        "For more explanations on other parameters, one can take a look at the [docs](https://huggingface.co/transformers/master/main_classes/trainer.html?highlight=trainer#trainingarguments).\n",
        "\n",
        "During training, a checkpoint will be uploaded asynchronously to the hub every 400 training steps. It allows you to also play around with the demo widget even while your model is still training.\n",
        "\n",
        "**Note**: If one does not want to upload the model checkpoints to the hub, simply set `push_to_hub=False`."
      ]
    },
    {
      "cell_type": "code",
      "metadata": {
        "id": "KbeKSV7uzGPP",
        "colab": {
          "base_uri": "https://localhost:8080/"
        },
        "outputId": "4dcce61c-fc4b-44bb-a774-70ff20971031"
      },
      "source": [
        "from transformers import TrainingArguments\n",
        "\n",
        "training_args = TrainingArguments(\n",
        "  output_dir=repo_name,\n",
        "  group_by_length=True,\n",
        "  per_device_train_batch_size=32,\n",
        "  evaluation_strategy=\"steps\",\n",
        "  num_train_epochs=30,\n",
        "  fp16=True,\n",
        "  gradient_checkpointing=True,\n",
        "  save_steps=500,\n",
        "  eval_steps=500,\n",
        "  logging_steps=500,\n",
        "  learning_rate=1e-4,\n",
        "  weight_decay=0.005,\n",
        "  warmup_steps=1000,\n",
        "  save_total_limit=2,\n",
        "  push_to_hub=True,\n",
        ")"
      ],
      "execution_count": null,
      "outputs": [
        {
          "output_type": "stream",
          "name": "stderr",
          "text": [
            "PyTorch: setting up devices\n",
            "The default value for the training argument `--report_to` will change in v5 (from all installed integrations to none). In v5, you will need to use `--report_to all` to get the same behavior as now. You should start updating your code and make this info disappear :-).\n"
          ]
        }
      ]
    },
    {
      "cell_type": "markdown",
      "metadata": {
        "id": "OsW-WZcL1ZtN"
      },
      "source": [
        "Now, all instances can be passed to Trainer and we are ready to start training!"
      ]
    },
    {
      "cell_type": "code",
      "metadata": {
        "id": "rY7vBmFCPFgC",
        "colab": {
          "base_uri": "https://localhost:8080/"
        },
        "outputId": "191b231d-70c1-4315-bdd6-ea2a5d106537"
      },
      "source": [
        "from transformers import Trainer\n",
        "\n",
        "trainer = Trainer(\n",
        "    model=model,\n",
        "    data_collator=data_collator,\n",
        "    args=training_args,\n",
        "    compute_metrics=compute_metrics,\n",
        "    train_dataset=timit[\"train\"],\n",
        "    eval_dataset=timit[\"test\"],\n",
        "    tokenizer=processor.feature_extractor,\n",
        ")"
      ],
      "execution_count": null,
      "outputs": [
        {
          "output_type": "stream",
          "name": "stderr",
          "text": [
            "/content/wav2vec2-base-timit-demo-colab is already a clone of https://huggingface.co/patrickvonplaten/wav2vec2-base-timit-demo-colab. Make sure you pull the latest changes with `repo.git_pull()`.\n",
            "Using amp fp16 backend\n"
          ]
        }
      ]
    },
    {
      "cell_type": "markdown",
      "metadata": {
        "id": "UoXBx1JAA0DX"
      },
      "source": [
        "\n",
        "\n",
        "---\n",
        "\n",
        "${}^1$ To allow models to become independent of the speaker rate, in CTC, consecutive tokens that are identical are simply grouped as a single token. However, the encoded labels should not be grouped when decoding since they don't correspond to the predicted tokens of the model, which is why the `group_tokens=False` parameter has to be passed. If we wouldn't pass this parameter a word like `\"hello\"` would incorrectly be encoded, and decoded as `\"helo\"`.\n",
        "\n",
        "${}^2$ The blank token allows the model to predict a word, such as `\"hello\"` by forcing it to insert the blank token between the two l's. A CTC-conform prediction of `\"hello\"` of our model would be `[PAD] [PAD] \"h\" \"e\" \"e\" \"l\" \"l\" [PAD] \"l\" \"o\" \"o\" [PAD]`."
      ]
    },
    {
      "cell_type": "markdown",
      "metadata": {
        "id": "rpvZHM1xReIW"
      },
      "source": [
        "### Training"
      ]
    },
    {
      "cell_type": "markdown",
      "metadata": {
        "id": "j-3oKSzZ1hGq"
      },
      "source": [
        "Training will take between 90 and 270 minutes depending on the GPU allocated to this notebook. While the trained model yields satisfying results on *Timit*'s test data, it is by no means an optimally fine-tuned model. The purpose of this notebook is to demonstrate how Wav2Vec2's [base](https://huggingface.co/facebook/wav2vec2-base), [large](https://huggingface.co/facebook/wav2vec2-large), and [large-lv60](https://huggingface.co/facebook/wav2vec2-large-lv60) checkpoints can be fine-tuned on any English dataset.\n",
        "\n",
        "In case you want to use this google colab to fine-tune your model, you should make sure that your training doesn't stop due to inactivity. A simple hack to prevent this is to paste the following code into the console of this tab (*right mouse click -> inspect -> Console tab and insert code*)."
      ]
    },
    {
      "cell_type": "markdown",
      "metadata": {
        "id": "VYYAvgkW4P0m"
      },
      "source": [
        "```javascript\n",
        "function ConnectButton(){\n",
        "    console.log(\"Connect pushed\"); \n",
        "    document.querySelector(\"#top-toolbar > colab-connect-button\").shadowRoot.querySelector(\"#connect\").click() \n",
        "}\n",
        "setInterval(ConnectButton,60000);\n",
        "```"
      ]
    },
    {
      "cell_type": "markdown",
      "metadata": {
        "id": "PmY6yqd1zvzU"
      },
      "source": [
        "Depending on what GPU was allocated to your google colab it might be possible that you are seeing an `\"out-of-memory\"` error here. In this case, it's probably best to reduce `per_device_train_batch_size` to 16 or even less and eventually make use of [`gradient_accumulation`](https://huggingface.co/transformers/master/main_classes/trainer.html#trainingarguments)."
      ]
    },
    {
      "cell_type": "code",
      "metadata": {
        "colab": {
          "base_uri": "https://localhost:8080/",
          "height": 1000
        },
        "id": "_UEjJqGsQw24",
        "outputId": "e76688f4-e32d-4de2-e3cb-fa1b942a93e6"
      },
      "source": [
        "trainer.train()"
      ],
      "execution_count": null,
      "outputs": [
        {
          "output_type": "stream",
          "name": "stderr",
          "text": [
            "The following columns in the training set  don't have a corresponding argument in `Wav2Vec2ForCTC.forward` and have been ignored: input_length.\n",
            "***** Running training *****\n",
            "  Num examples = 3978\n",
            "  Num Epochs = 30\n",
            "  Instantaneous batch size per device = 32\n",
            "  Total train batch size (w. parallel, distributed & accumulation) = 32\n",
            "  Gradient Accumulation steps = 1\n",
            "  Total optimization steps = 3750\n"
          ]
        },
        {
          "output_type": "display_data",
          "data": {
            "text/html": [
              "\n",
              "    <div>\n",
              "      \n",
              "      <progress value='3750' max='3750' style='width:300px; height:20px; vertical-align: middle;'></progress>\n",
              "      [3750/3750 1:46:22, Epoch 30/30]\n",
              "    </div>\n",
              "    <table border=\"1\" class=\"dataframe\">\n",
              "  <thead>\n",
              "    <tr style=\"text-align: left;\">\n",
              "      <th>Step</th>\n",
              "      <th>Training Loss</th>\n",
              "      <th>Validation Loss</th>\n",
              "      <th>Wer</th>\n",
              "    </tr>\n",
              "  </thead>\n",
              "  <tbody>\n",
              "    <tr>\n",
              "      <td>500</td>\n",
              "      <td>0.113400</td>\n",
              "      <td>0.425030</td>\n",
              "      <td>0.362621</td>\n",
              "    </tr>\n",
              "    <tr>\n",
              "      <td>1000</td>\n",
              "      <td>0.103500</td>\n",
              "      <td>0.497975</td>\n",
              "      <td>0.364965</td>\n",
              "    </tr>\n",
              "    <tr>\n",
              "      <td>1500</td>\n",
              "      <td>0.080100</td>\n",
              "      <td>0.556286</td>\n",
              "      <td>0.363242</td>\n",
              "    </tr>\n",
              "    <tr>\n",
              "      <td>2000</td>\n",
              "      <td>0.059200</td>\n",
              "      <td>0.622184</td>\n",
              "      <td>0.360692</td>\n",
              "    </tr>\n",
              "    <tr>\n",
              "      <td>2500</td>\n",
              "      <td>0.056300</td>\n",
              "      <td>0.476272</td>\n",
              "      <td>0.345738</td>\n",
              "    </tr>\n",
              "    <tr>\n",
              "      <td>3000</td>\n",
              "      <td>0.061100</td>\n",
              "      <td>0.493821</td>\n",
              "      <td>0.348908</td>\n",
              "    </tr>\n",
              "    <tr>\n",
              "      <td>3500</td>\n",
              "      <td>0.047500</td>\n",
              "      <td>0.488801</td>\n",
              "      <td>0.339191</td>\n",
              "    </tr>\n",
              "  </tbody>\n",
              "</table><p>"
            ],
            "text/plain": [
              "<IPython.core.display.HTML object>"
            ]
          },
          "metadata": {}
        },
        {
          "output_type": "stream",
          "name": "stderr",
          "text": [
            "/usr/local/lib/python3.7/dist-packages/transformers/trainer.py:1357: FutureWarning: Non-finite norm encountered in torch.nn.utils.clip_grad_norm_; continuing anyway. Note that the default behavior will change in a future release to error out if a non-finite total norm is encountered. At that point, setting error_if_nonfinite=false will be required to retain the old behavior.\n",
            "  args.max_grad_norm,\n",
            "The following columns in the evaluation set  don't have a corresponding argument in `Wav2Vec2ForCTC.forward` and have been ignored: input_length.\n",
            "***** Running Evaluation *****\n",
            "  Num examples = 1680\n",
            "  Batch size = 8\n",
            "Saving model checkpoint to wav2vec2-base-timit-demo-colab/checkpoint-500\n",
            "Configuration saved in wav2vec2-base-timit-demo-colab/checkpoint-500/config.json\n",
            "Model weights saved in wav2vec2-base-timit-demo-colab/checkpoint-500/pytorch_model.bin\n",
            "Configuration saved in wav2vec2-base-timit-demo-colab/checkpoint-500/preprocessor_config.json\n",
            "Configuration saved in wav2vec2-base-timit-demo-colab/preprocessor_config.json\n",
            "/usr/local/lib/python3.7/dist-packages/transformers/trainer.py:1357: FutureWarning: Non-finite norm encountered in torch.nn.utils.clip_grad_norm_; continuing anyway. Note that the default behavior will change in a future release to error out if a non-finite total norm is encountered. At that point, setting error_if_nonfinite=false will be required to retain the old behavior.\n",
            "  args.max_grad_norm,\n",
            "The following columns in the evaluation set  don't have a corresponding argument in `Wav2Vec2ForCTC.forward` and have been ignored: input_length.\n",
            "***** Running Evaluation *****\n",
            "  Num examples = 1680\n",
            "  Batch size = 8\n",
            "Saving model checkpoint to wav2vec2-base-timit-demo-colab/checkpoint-1000\n",
            "Configuration saved in wav2vec2-base-timit-demo-colab/checkpoint-1000/config.json\n",
            "Model weights saved in wav2vec2-base-timit-demo-colab/checkpoint-1000/pytorch_model.bin\n",
            "Configuration saved in wav2vec2-base-timit-demo-colab/checkpoint-1000/preprocessor_config.json\n",
            "The following columns in the evaluation set  don't have a corresponding argument in `Wav2Vec2ForCTC.forward` and have been ignored: input_length.\n",
            "***** Running Evaluation *****\n",
            "  Num examples = 1680\n",
            "  Batch size = 8\n",
            "Saving model checkpoint to wav2vec2-base-timit-demo-colab/checkpoint-1500\n",
            "Configuration saved in wav2vec2-base-timit-demo-colab/checkpoint-1500/config.json\n",
            "Model weights saved in wav2vec2-base-timit-demo-colab/checkpoint-1500/pytorch_model.bin\n",
            "Configuration saved in wav2vec2-base-timit-demo-colab/checkpoint-1500/preprocessor_config.json\n",
            "Deleting older checkpoint [wav2vec2-base-timit-demo-colab/checkpoint-500] due to args.save_total_limit\n",
            "The following columns in the evaluation set  don't have a corresponding argument in `Wav2Vec2ForCTC.forward` and have been ignored: input_length.\n",
            "***** Running Evaluation *****\n",
            "  Num examples = 1680\n",
            "  Batch size = 8\n",
            "Saving model checkpoint to wav2vec2-base-timit-demo-colab/checkpoint-2000\n",
            "Configuration saved in wav2vec2-base-timit-demo-colab/checkpoint-2000/config.json\n",
            "Model weights saved in wav2vec2-base-timit-demo-colab/checkpoint-2000/pytorch_model.bin\n",
            "Configuration saved in wav2vec2-base-timit-demo-colab/checkpoint-2000/preprocessor_config.json\n",
            "Deleting older checkpoint [wav2vec2-base-timit-demo-colab/checkpoint-1000] due to args.save_total_limit\n",
            "The following columns in the evaluation set  don't have a corresponding argument in `Wav2Vec2ForCTC.forward` and have been ignored: input_length.\n",
            "***** Running Evaluation *****\n",
            "  Num examples = 1680\n",
            "  Batch size = 8\n",
            "Saving model checkpoint to wav2vec2-base-timit-demo-colab/checkpoint-2500\n",
            "Configuration saved in wav2vec2-base-timit-demo-colab/checkpoint-2500/config.json\n",
            "Model weights saved in wav2vec2-base-timit-demo-colab/checkpoint-2500/pytorch_model.bin\n",
            "Configuration saved in wav2vec2-base-timit-demo-colab/checkpoint-2500/preprocessor_config.json\n",
            "Deleting older checkpoint [wav2vec2-base-timit-demo-colab/checkpoint-1500] due to args.save_total_limit\n",
            "The following columns in the evaluation set  don't have a corresponding argument in `Wav2Vec2ForCTC.forward` and have been ignored: input_length.\n",
            "***** Running Evaluation *****\n",
            "  Num examples = 1680\n",
            "  Batch size = 8\n",
            "Saving model checkpoint to wav2vec2-base-timit-demo-colab/checkpoint-3000\n",
            "Configuration saved in wav2vec2-base-timit-demo-colab/checkpoint-3000/config.json\n",
            "Model weights saved in wav2vec2-base-timit-demo-colab/checkpoint-3000/pytorch_model.bin\n",
            "Configuration saved in wav2vec2-base-timit-demo-colab/checkpoint-3000/preprocessor_config.json\n",
            "Deleting older checkpoint [wav2vec2-base-timit-demo-colab/checkpoint-2000] due to args.save_total_limit\n",
            "The following columns in the evaluation set  don't have a corresponding argument in `Wav2Vec2ForCTC.forward` and have been ignored: input_length.\n",
            "***** Running Evaluation *****\n",
            "  Num examples = 1680\n",
            "  Batch size = 8\n",
            "Saving model checkpoint to wav2vec2-base-timit-demo-colab/checkpoint-3500\n",
            "Configuration saved in wav2vec2-base-timit-demo-colab/checkpoint-3500/config.json\n",
            "Model weights saved in wav2vec2-base-timit-demo-colab/checkpoint-3500/pytorch_model.bin\n",
            "Configuration saved in wav2vec2-base-timit-demo-colab/checkpoint-3500/preprocessor_config.json\n",
            "Deleting older checkpoint [wav2vec2-base-timit-demo-colab/checkpoint-2500] due to args.save_total_limit\n",
            "\n",
            "\n",
            "Training completed. Do not forget to share your model on huggingface.co/models =)\n",
            "\n",
            "\n"
          ]
        },
        {
          "output_type": "execute_result",
          "data": {
            "text/plain": [
              "TrainOutput(global_step=3750, training_loss=0.0719044921875, metrics={'train_runtime': 6384.5833, 'train_samples_per_second': 18.692, 'train_steps_per_second': 0.587, 'total_flos': 3.098741829539622e+18, 'train_loss': 0.0719044921875, 'epoch': 30.0})"
            ]
          },
          "metadata": {},
          "execution_count": 43
        }
      ]
    },
    {
      "cell_type": "markdown",
      "metadata": {
        "id": "UCyp-v3n4Zlt"
      },
      "source": [
        "The final WER should be around 0.3 which is reasonable given that state-of-the-art phoneme error rates (PER) are just below 0.1 (see [leaderboard](https://paperswithcode.com/sota/speech-recognition-on-timit)) and that WER is usually worse than PER.\n",
        "\n",
        "You can now upload the result of the training to the Hub, just execute this instruction:"
      ]
    },
    {
      "cell_type": "code",
      "metadata": {
        "colab": {
          "base_uri": "https://localhost:8080/",
          "height": 351,
          "referenced_widgets": [
            "853be7d9a3d24adfbdc9a07d181425cc",
            "76c3fdccb19945e194c441769a1f53b0",
            "17a09ff9015f4eb2b91ee77b1f7f76e0",
            "9528d69e9b0549f59f84e94f34e5a583",
            "8665ac85023c43c3a1599c381ab07ffa",
            "3b2bcaf5a8f34426bb98ec435603b295",
            "a5b0355d9a2e4125b7244ae5582212c8",
            "ea368ae3cbb54a73a06d6fdf30457c02",
            "4b6973c261204b2bb27596bfe26aea7d",
            "d21e46e22de04ebe9e02b44e71de04f2",
            "d9813a20998b4f739de3fa1592fa6f6c",
            "e9700e09f87a4884b1bdec05bd953c87",
            "6ab335fdf69045a7a183225814ac50b4",
            "a7e7d95121934bd4b3cf322636b5ec52",
            "e62e6b3087364568b2919536eed930b4",
            "a60bf0d288ce49f39ce301698528515a",
            "44acbd5e884948b5929f15336986a08e",
            "0a7e1500d4764332aae441c0afbe12bf",
            "5b1c1ad9f82d491d98e71923057a6181",
            "78f37dd782e643d0985b47de288eb6a6",
            "d578ce02e48c49d7838c002d1d2217fb",
            "47ae20ba4e5946debdd789af83114d3e"
          ]
        },
        "id": "JYGQYBhHNsvj",
        "outputId": "69be0c57-b143-4676-ed55-9c64d30ff973"
      },
      "source": [
        "trainer.push_to_hub()"
      ],
      "execution_count": null,
      "outputs": [
        {
          "output_type": "stream",
          "name": "stderr",
          "text": [
            "Saving model checkpoint to wav2vec2-base-timit-demo-colab\n",
            "Configuration saved in wav2vec2-base-timit-demo-colab/config.json\n",
            "Model weights saved in wav2vec2-base-timit-demo-colab/pytorch_model.bin\n",
            "Configuration saved in wav2vec2-base-timit-demo-colab/preprocessor_config.json\n",
            "Several commits (2) will be pushed upstream.\n",
            "The progress bars may be unreliable.\n"
          ]
        },
        {
          "output_type": "display_data",
          "data": {
            "application/vnd.jupyter.widget-view+json": {
              "model_id": "853be7d9a3d24adfbdc9a07d181425cc",
              "version_minor": 0,
              "version_major": 2
            },
            "text/plain": [
              "Upload file pytorch_model.bin:   0%|          | 3.36k/360M [00:00<?, ?B/s]"
            ]
          },
          "metadata": {}
        },
        {
          "output_type": "display_data",
          "data": {
            "application/vnd.jupyter.widget-view+json": {
              "model_id": "e9700e09f87a4884b1bdec05bd953c87",
              "version_minor": 0,
              "version_major": 2
            },
            "text/plain": [
              "Upload file runs/Oct19_15-22-32_c16c65cbdbe5/events.out.tfevents.1634657020.c16c65cbdbe5.77.2:  42%|####2     …"
            ]
          },
          "metadata": {}
        },
        {
          "output_type": "stream",
          "name": "stderr",
          "text": [
            "To https://huggingface.co/patrickvonplaten/wav2vec2-base-timit-demo-colab\n",
            "   870c48e..2998ea6  main -> main\n",
            "\n",
            "Dropping the following result as it does not have all the necessary field:\n",
            "{}\n",
            "To https://huggingface.co/patrickvonplaten/wav2vec2-base-timit-demo-colab\n",
            "   2998ea6..431ef82  main -> main\n",
            "\n"
          ]
        },
        {
          "output_type": "execute_result",
          "data": {
            "application/vnd.google.colaboratory.intrinsic+json": {
              "type": "string"
            },
            "text/plain": [
              "'https://huggingface.co/patrickvonplaten/wav2vec2-base-timit-demo-colab/commit/2998ea690ec1ba32370f856fb558cf22dcb0e119'"
            ]
          },
          "metadata": {},
          "execution_count": 44
        }
      ]
    },
    {
      "cell_type": "markdown",
      "metadata": {
        "id": "djzwS5WeNu16"
      },
      "source": [
        "You can now share this model with all your friends, family, favorite pets: they can all load it with the identifier \"your-username/the-name-you-picked\" so for instance:"
      ]
    },
    {
      "cell_type": "markdown",
      "metadata": {
        "id": "Adm0LngNNxq7"
      },
      "source": [
        "```python\n",
        "from transformers import AutoModelForCTC, Wav2Vec2Processor\n",
        "\n",
        "model = AutoModelForCTC.from_pretrained(\"patrickvonplaten/wav2vec2-base-timit-demo-colab\")\n",
        "processor = Wav2Vec2Processor.from_pretrained(\"patrickvonplaten/wav2vec2-base-timit-demo-colab\")\n",
        "```"
      ]
    },
    {
      "cell_type": "markdown",
      "metadata": {
        "id": "nD4XP5IHncsY"
      },
      "source": [
        "### Evaluate\n",
        "\n",
        "In the final part, we run our model on some of the validation data to get a feeling for how well it works.\n",
        "\n",
        "Let's load the `processor` and `model`."
      ]
    },
    {
      "cell_type": "code",
      "metadata": {
        "id": "-rg0USDCnbo6",
        "colab": {
          "base_uri": "https://localhost:8080/",
          "height": 723,
          "referenced_widgets": [
            "15e7f43ef23e45c38b9f2f11b3ea9745",
            "70786689be0f4c5d89f24f37c9d37ba2",
            "3f3ced6a17494a329207e2c7a48b3d78",
            "277de4b0b44d45ed8e41c727bcaf0322",
            "14d7351371f643e0bd864b1ae418f00e",
            "0b2943dee47d4842a246a047607af7c1",
            "dfa667744f6645e2a2d878fd923cbb7a",
            "8bdf8edddbaa4e33a214cebad3f124c2",
            "960e03228c4540ac97e2144de0599956",
            "603976ce12a54beabcee636dd2c7f360",
            "e344ea6026d44246923f7866fb272f85",
            "5d18daca7f9f47f382fc87bfeecaacd8",
            "67c0e33e08c746afa24f28e0cd242c21",
            "763c597f7f6540d7ad6441bfc2ee1102",
            "3a68b633b5664faf999bd2bbacf79125",
            "71747cffadbf40a3bf5aa0f534113c00",
            "a5b1e1bcf377460ebabc8ba88957206e",
            "ab6c2e67ee7c423da8fcdada2d18d883",
            "fe9d785b39be443584872ea994cb9c45",
            "b4ad8f1142834b04b72373b7b8cd9e97",
            "5dd3fb0b143041b685b6c9164782ab53",
            "5f0c8b819326464aa17802c497be68ff",
            "c9934470d6dd47f8a5a0dbf4cc0179ff",
            "5449e6f4e1d3423488ff8bea71316ff9",
            "bf53200f59de4e818ee3a218b9184c51",
            "bdb861cb47834d2eba1a25dd78256858",
            "93d4c6792018431bb2aa44dbab7ac413",
            "e83621d2a3894a4287ccf931430ae8b9",
            "e9ade325aaa749ea9b32e4ff45a0ab8d",
            "f7f6ad344bcd4302bbd9b7846dbc9491",
            "8422cbba208b46b698793f1b28333011",
            "adfc9c18f1394afba35adb8ca6d804c8",
            "06ea7ced00074f18be8d701840e57af5",
            "cd06015aca774a7ca4f813dadb747f1d",
            "cb9df5508ed64efdad8b256a9fcd106d",
            "61eb3dc9f5d7484fb066701c67282025",
            "531931f7e6d0453682677a4ba20cbb46",
            "c4bc7ab6af97492786c9cbfbc1a4d145",
            "22e5e82c38a44d4aa9ada5253584984a",
            "51e0f5f1345946108aac585330a0e406",
            "45636581103841de8fc965883fbfd0fc",
            "a708cd777c2f443f9c997386ff64c992",
            "ff107f54e338411588b611ae3c85293f",
            "ee3cc5c9c2e44482be9fd0d65236b2ba"
          ]
        },
        "outputId": "2364e2b9-33f3-4a42-9c86-5fbd479d9b23"
      },
      "source": [
        "processor = Wav2Vec2Processor.from_pretrained(\"patrickvonplaten/wav2vec2-base-timit-demo-colab\")"
      ],
      "execution_count": null,
      "outputs": [
        {
          "output_type": "stream",
          "name": "stderr",
          "text": [
            "https://huggingface.co/patrickvonplaten/wav2vec2-base-timit-demo-colab/resolve/main/preprocessor_config.json not found in cache or force_download set to True, downloading to /root/.cache/huggingface/transformers/tmp8muva2nh\n"
          ]
        },
        {
          "output_type": "display_data",
          "data": {
            "application/vnd.jupyter.widget-view+json": {
              "model_id": "15e7f43ef23e45c38b9f2f11b3ea9745",
              "version_minor": 0,
              "version_major": 2
            },
            "text/plain": [
              "Downloading:   0%|          | 0.00/215 [00:00<?, ?B/s]"
            ]
          },
          "metadata": {}
        },
        {
          "output_type": "stream",
          "name": "stderr",
          "text": [
            "storing https://huggingface.co/patrickvonplaten/wav2vec2-base-timit-demo-colab/resolve/main/preprocessor_config.json in cache at /root/.cache/huggingface/transformers/6650b23ff063cfae42c42902d0ba3b51e63194f251f97553e8e28353efc63dd6.0e3e6656f99a6f7b9eddd943463eb7f34363640fce9e87b047ebd50d4b112b50\n",
            "creating metadata file for /root/.cache/huggingface/transformers/6650b23ff063cfae42c42902d0ba3b51e63194f251f97553e8e28353efc63dd6.0e3e6656f99a6f7b9eddd943463eb7f34363640fce9e87b047ebd50d4b112b50\n",
            "loading feature extractor configuration file https://huggingface.co/patrickvonplaten/wav2vec2-base-timit-demo-colab/resolve/main/preprocessor_config.json from cache at /root/.cache/huggingface/transformers/6650b23ff063cfae42c42902d0ba3b51e63194f251f97553e8e28353efc63dd6.0e3e6656f99a6f7b9eddd943463eb7f34363640fce9e87b047ebd50d4b112b50\n",
            "Feature extractor Wav2Vec2FeatureExtractor {\n",
            "  \"do_normalize\": true,\n",
            "  \"feature_extractor_type\": \"Wav2Vec2FeatureExtractor\",\n",
            "  \"feature_size\": 1,\n",
            "  \"padding_side\": \"right\",\n",
            "  \"padding_value\": 0.0,\n",
            "  \"return_attention_mask\": false,\n",
            "  \"sampling_rate\": 16000\n",
            "}\n",
            "\n",
            "https://huggingface.co/patrickvonplaten/wav2vec2-base-timit-demo-colab/resolve/main/vocab.json not found in cache or force_download set to True, downloading to /root/.cache/huggingface/transformers/tmpgxxbovdw\n"
          ]
        },
        {
          "output_type": "display_data",
          "data": {
            "application/vnd.jupyter.widget-view+json": {
              "model_id": "5d18daca7f9f47f382fc87bfeecaacd8",
              "version_minor": 0,
              "version_major": 2
            },
            "text/plain": [
              "Downloading:   0%|          | 0.00/268 [00:00<?, ?B/s]"
            ]
          },
          "metadata": {}
        },
        {
          "output_type": "stream",
          "name": "stderr",
          "text": [
            "storing https://huggingface.co/patrickvonplaten/wav2vec2-base-timit-demo-colab/resolve/main/vocab.json in cache at /root/.cache/huggingface/transformers/e6d290d17f47887c0d335cde9e4c75b2b8be89150da3f448962299852d0c1b90.378a1cd83b0a53e19ec9a2ef92eed8b14de1fce3cd263feac2c102bd12fa9a24\n",
            "creating metadata file for /root/.cache/huggingface/transformers/e6d290d17f47887c0d335cde9e4c75b2b8be89150da3f448962299852d0c1b90.378a1cd83b0a53e19ec9a2ef92eed8b14de1fce3cd263feac2c102bd12fa9a24\n",
            "https://huggingface.co/patrickvonplaten/wav2vec2-base-timit-demo-colab/resolve/main/tokenizer_config.json not found in cache or force_download set to True, downloading to /root/.cache/huggingface/transformers/tmpm74mnwn_\n"
          ]
        },
        {
          "output_type": "display_data",
          "data": {
            "application/vnd.jupyter.widget-view+json": {
              "model_id": "c9934470d6dd47f8a5a0dbf4cc0179ff",
              "version_minor": 0,
              "version_major": 2
            },
            "text/plain": [
              "Downloading:   0%|          | 0.00/181 [00:00<?, ?B/s]"
            ]
          },
          "metadata": {}
        },
        {
          "output_type": "stream",
          "name": "stderr",
          "text": [
            "storing https://huggingface.co/patrickvonplaten/wav2vec2-base-timit-demo-colab/resolve/main/tokenizer_config.json in cache at /root/.cache/huggingface/transformers/cd7fc4d8728f99fa8338983a6f39ff72bc2a8a998c96b495cc13ea7aa2ececc4.9a832b91e3d317e7bec01bab5134265b75f2d6b05a270d0140d8a116c51b8591\n",
            "creating metadata file for /root/.cache/huggingface/transformers/cd7fc4d8728f99fa8338983a6f39ff72bc2a8a998c96b495cc13ea7aa2ececc4.9a832b91e3d317e7bec01bab5134265b75f2d6b05a270d0140d8a116c51b8591\n",
            "https://huggingface.co/patrickvonplaten/wav2vec2-base-timit-demo-colab/resolve/main/special_tokens_map.json not found in cache or force_download set to True, downloading to /root/.cache/huggingface/transformers/tmplz7_syab\n"
          ]
        },
        {
          "output_type": "display_data",
          "data": {
            "application/vnd.jupyter.widget-view+json": {
              "model_id": "cd06015aca774a7ca4f813dadb747f1d",
              "version_minor": 0,
              "version_major": 2
            },
            "text/plain": [
              "Downloading:   0%|          | 0.00/85.0 [00:00<?, ?B/s]"
            ]
          },
          "metadata": {}
        },
        {
          "output_type": "stream",
          "name": "stderr",
          "text": [
            "storing https://huggingface.co/patrickvonplaten/wav2vec2-base-timit-demo-colab/resolve/main/special_tokens_map.json in cache at /root/.cache/huggingface/transformers/00f71aa52e24e9186af116542c036dec7227ff5de6fa0be433c98afe2a82c547.a21d51735cf8667bcd610f057e88548d5d6a381401f6b4501a8bc6c1a9dc8498\n",
            "creating metadata file for /root/.cache/huggingface/transformers/00f71aa52e24e9186af116542c036dec7227ff5de6fa0be433c98afe2a82c547.a21d51735cf8667bcd610f057e88548d5d6a381401f6b4501a8bc6c1a9dc8498\n",
            "loading file https://huggingface.co/patrickvonplaten/wav2vec2-base-timit-demo-colab/resolve/main/vocab.json from cache at /root/.cache/huggingface/transformers/e6d290d17f47887c0d335cde9e4c75b2b8be89150da3f448962299852d0c1b90.378a1cd83b0a53e19ec9a2ef92eed8b14de1fce3cd263feac2c102bd12fa9a24\n",
            "loading file https://huggingface.co/patrickvonplaten/wav2vec2-base-timit-demo-colab/resolve/main/tokenizer_config.json from cache at /root/.cache/huggingface/transformers/cd7fc4d8728f99fa8338983a6f39ff72bc2a8a998c96b495cc13ea7aa2ececc4.9a832b91e3d317e7bec01bab5134265b75f2d6b05a270d0140d8a116c51b8591\n",
            "loading file https://huggingface.co/patrickvonplaten/wav2vec2-base-timit-demo-colab/resolve/main/added_tokens.json from cache at None\n",
            "loading file https://huggingface.co/patrickvonplaten/wav2vec2-base-timit-demo-colab/resolve/main/special_tokens_map.json from cache at /root/.cache/huggingface/transformers/00f71aa52e24e9186af116542c036dec7227ff5de6fa0be433c98afe2a82c547.a21d51735cf8667bcd610f057e88548d5d6a381401f6b4501a8bc6c1a9dc8498\n",
            "loading file https://huggingface.co/patrickvonplaten/wav2vec2-base-timit-demo-colab/resolve/main/tokenizer.json from cache at None\n",
            "Adding <s> to the vocabulary\n",
            "Adding </s> to the vocabulary\n",
            "Special tokens have been added in the vocabulary, make sure the associated word embeddings are fine-tuned or trained.\n"
          ]
        }
      ]
    },
    {
      "cell_type": "code",
      "metadata": {
        "id": "sSpFW3pDn23P",
        "colab": {
          "base_uri": "https://localhost:8080/",
          "height": 1000,
          "referenced_widgets": [
            "d05016d3099e41b5bb0108376633ee1b",
            "ad4c383574b24eb9a1523dddd1ff59a7",
            "af85987363eb41dba278a9ca1a8fc0dd",
            "ce4b73b6bddc4cfb8c94f6447cbd19b4",
            "0c50021a603247b88f18f54c505381e8",
            "f0456d5e7be64144a8243fb9ea974d1b",
            "c64da24052554c05a6ed4fa8b544c106",
            "af4f488264484b5fb9813e592bc28ed3",
            "ec1c3ebf957f4f86bbf4d0b0f042ea96",
            "0d9e9401037a4c15825051fd206cf03e",
            "699a3b31ef6540169eea486fa987c5c1",
            "0c522bee9e2f4aa9a3c58ec1d5953931",
            "ffce8896c8b148c6ba66a6a2f1e20069",
            "858b51c4d34342cd8112c716ea13b479",
            "6f7df5e67488466ea320eb703571f18e",
            "3b9ba2b6b4a24d82b63f3685de6378e5",
            "1b6343b6e6714e58a39e5ca1adfa47ef",
            "fb8d383652fc4ad8a56e011f74f5a7a2",
            "fc442d74a9034ec6aba19dab42e2b97a",
            "4cb8ed4b37a246f1ab2c28c3c97d1b0e",
            "af132b79295747b0a185e9a38539338b",
            "a8070a9f2d004a77be3853f10d415ece"
          ]
        },
        "outputId": "ce99f948-cd0a-49b9-f1f7-abd95b909e80"
      },
      "source": [
        "model = Wav2Vec2ForCTC.from_pretrained(\"patrickvonplaten/wav2vec2-base-timit-demo-colab\")"
      ],
      "execution_count": null,
      "outputs": [
        {
          "output_type": "stream",
          "name": "stderr",
          "text": [
            "https://huggingface.co/patrickvonplaten/wav2vec2-base-timit-demo-colab/resolve/main/config.json not found in cache or force_download set to True, downloading to /root/.cache/huggingface/transformers/tmp8nbcx_sy\n"
          ]
        },
        {
          "output_type": "display_data",
          "data": {
            "application/vnd.jupyter.widget-view+json": {
              "model_id": "d05016d3099e41b5bb0108376633ee1b",
              "version_minor": 0,
              "version_major": 2
            },
            "text/plain": [
              "Downloading:   0%|          | 0.00/1.89k [00:00<?, ?B/s]"
            ]
          },
          "metadata": {}
        },
        {
          "output_type": "stream",
          "name": "stderr",
          "text": [
            "storing https://huggingface.co/patrickvonplaten/wav2vec2-base-timit-demo-colab/resolve/main/config.json in cache at /root/.cache/huggingface/transformers/490d8f8aeaf5d4966ce3ade581eef540822500b93e043d04cb298fe305b2de26.1578a87effe8421b6d0f1bf16300b173f770d1f2401836d19115dbc545b00fde\n",
            "creating metadata file for /root/.cache/huggingface/transformers/490d8f8aeaf5d4966ce3ade581eef540822500b93e043d04cb298fe305b2de26.1578a87effe8421b6d0f1bf16300b173f770d1f2401836d19115dbc545b00fde\n",
            "loading configuration file https://huggingface.co/patrickvonplaten/wav2vec2-base-timit-demo-colab/resolve/main/config.json from cache at /root/.cache/huggingface/transformers/490d8f8aeaf5d4966ce3ade581eef540822500b93e043d04cb298fe305b2de26.1578a87effe8421b6d0f1bf16300b173f770d1f2401836d19115dbc545b00fde\n",
            "Model config Wav2Vec2Config {\n",
            "  \"_name_or_path\": \"facebook/wav2vec2-base\",\n",
            "  \"activation_dropout\": 0.0,\n",
            "  \"apply_spec_augment\": true,\n",
            "  \"architectures\": [\n",
            "    \"Wav2Vec2ForCTC\"\n",
            "  ],\n",
            "  \"attention_dropout\": 0.1,\n",
            "  \"bos_token_id\": 1,\n",
            "  \"classifier_proj_size\": 256,\n",
            "  \"codevector_dim\": 256,\n",
            "  \"contrastive_logits_temperature\": 0.1,\n",
            "  \"conv_bias\": false,\n",
            "  \"conv_dim\": [\n",
            "    512,\n",
            "    512,\n",
            "    512,\n",
            "    512,\n",
            "    512,\n",
            "    512,\n",
            "    512\n",
            "  ],\n",
            "  \"conv_kernel\": [\n",
            "    10,\n",
            "    3,\n",
            "    3,\n",
            "    3,\n",
            "    3,\n",
            "    2,\n",
            "    2\n",
            "  ],\n",
            "  \"conv_stride\": [\n",
            "    5,\n",
            "    2,\n",
            "    2,\n",
            "    2,\n",
            "    2,\n",
            "    2,\n",
            "    2\n",
            "  ],\n",
            "  \"ctc_loss_reduction\": \"mean\",\n",
            "  \"ctc_zero_infinity\": false,\n",
            "  \"diversity_loss_weight\": 0.1,\n",
            "  \"do_stable_layer_norm\": false,\n",
            "  \"eos_token_id\": 2,\n",
            "  \"feat_extract_activation\": \"gelu\",\n",
            "  \"feat_extract_norm\": \"group\",\n",
            "  \"feat_proj_dropout\": 0.1,\n",
            "  \"feat_quantizer_dropout\": 0.0,\n",
            "  \"final_dropout\": 0.0,\n",
            "  \"freeze_feat_extract_train\": true,\n",
            "  \"hidden_act\": \"gelu\",\n",
            "  \"hidden_dropout\": 0.1,\n",
            "  \"hidden_size\": 768,\n",
            "  \"initializer_range\": 0.02,\n",
            "  \"intermediate_size\": 3072,\n",
            "  \"layer_norm_eps\": 1e-05,\n",
            "  \"layerdrop\": 0.05,\n",
            "  \"mask_channel_length\": 10,\n",
            "  \"mask_channel_min_space\": 1,\n",
            "  \"mask_channel_other\": 0.0,\n",
            "  \"mask_channel_prob\": 0.0,\n",
            "  \"mask_channel_selection\": \"static\",\n",
            "  \"mask_feature_length\": 10,\n",
            "  \"mask_feature_prob\": 0.0,\n",
            "  \"mask_time_length\": 10,\n",
            "  \"mask_time_min_space\": 1,\n",
            "  \"mask_time_other\": 0.0,\n",
            "  \"mask_time_prob\": 0.05,\n",
            "  \"mask_time_selection\": \"static\",\n",
            "  \"model_type\": \"wav2vec2\",\n",
            "  \"no_mask_channel_overlap\": false,\n",
            "  \"no_mask_time_overlap\": false,\n",
            "  \"num_attention_heads\": 12,\n",
            "  \"num_codevector_groups\": 2,\n",
            "  \"num_codevectors_per_group\": 320,\n",
            "  \"num_conv_pos_embedding_groups\": 16,\n",
            "  \"num_conv_pos_embeddings\": 128,\n",
            "  \"num_feat_extract_layers\": 7,\n",
            "  \"num_hidden_layers\": 12,\n",
            "  \"num_negatives\": 100,\n",
            "  \"pad_token_id\": 29,\n",
            "  \"proj_codevector_dim\": 256,\n",
            "  \"torch_dtype\": \"float32\",\n",
            "  \"transformers_version\": \"4.11.3\",\n",
            "  \"use_weighted_layer_sum\": false,\n",
            "  \"vocab_size\": 32\n",
            "}\n",
            "\n",
            "https://huggingface.co/patrickvonplaten/wav2vec2-base-timit-demo-colab/resolve/main/pytorch_model.bin not found in cache or force_download set to True, downloading to /root/.cache/huggingface/transformers/tmpczh570tv\n"
          ]
        },
        {
          "output_type": "display_data",
          "data": {
            "application/vnd.jupyter.widget-view+json": {
              "model_id": "0c522bee9e2f4aa9a3c58ec1d5953931",
              "version_minor": 0,
              "version_major": 2
            },
            "text/plain": [
              "Downloading:   0%|          | 0.00/360M [00:00<?, ?B/s]"
            ]
          },
          "metadata": {}
        },
        {
          "output_type": "stream",
          "name": "stderr",
          "text": [
            "storing https://huggingface.co/patrickvonplaten/wav2vec2-base-timit-demo-colab/resolve/main/pytorch_model.bin in cache at /root/.cache/huggingface/transformers/826b895a762fbbb2294ba6b06628bb5e1ffee8e1f8cca049864f430fd5e16c16.06567df5bd322c1335ecf865b0753a748c9b0cf62496e2fc0859e937cc81508f\n",
            "creating metadata file for /root/.cache/huggingface/transformers/826b895a762fbbb2294ba6b06628bb5e1ffee8e1f8cca049864f430fd5e16c16.06567df5bd322c1335ecf865b0753a748c9b0cf62496e2fc0859e937cc81508f\n",
            "loading weights file https://huggingface.co/patrickvonplaten/wav2vec2-base-timit-demo-colab/resolve/main/pytorch_model.bin from cache at /root/.cache/huggingface/transformers/826b895a762fbbb2294ba6b06628bb5e1ffee8e1f8cca049864f430fd5e16c16.06567df5bd322c1335ecf865b0753a748c9b0cf62496e2fc0859e937cc81508f\n",
            "All model checkpoint weights were used when initializing Wav2Vec2ForCTC.\n",
            "\n",
            "All the weights of Wav2Vec2ForCTC were initialized from the model checkpoint at patrickvonplaten/wav2vec2-base-timit-demo-colab.\n",
            "If your task is similar to the task the model of the checkpoint was trained on, you can already use Wav2Vec2ForCTC for predictions without further training.\n"
          ]
        }
      ]
    },
    {
      "cell_type": "markdown",
      "metadata": {
        "id": "TUuZpB0v5jn_"
      },
      "source": [
        "Now, we will make use of the `map(...)` function to predict the transcription of every test sample and to save the prediction in the dataset itself. We will call the resulting dictionary `\"results\"`. \n",
        "\n",
        "**Note**: we evaluate the test data set with `batch_size=1` on purpose due to this [issue](https://github.com/pytorch/fairseq/issues/3227). Since padded inputs don't yield the exact same output as non-padded inputs, a better WER can be achieved by not padding the input at all."
      ]
    },
    {
      "cell_type": "code",
      "metadata": {
        "id": "40naJl53n7jT"
      },
      "source": [
        "def map_to_result(batch):\n",
        "  with torch.no_grad():\n",
        "    input_values = torch.tensor(batch[\"input_values\"], device=\"cuda\").unsqueeze(0)\n",
        "    logits = model(input_values).logits\n",
        "\n",
        "  pred_ids = torch.argmax(logits, dim=-1)\n",
        "  batch[\"pred_str\"] = processor.batch_decode(pred_ids)[0]\n",
        "  batch[\"text\"] = processor.decode(batch[\"labels\"], group_tokens=False)\n",
        "  \n",
        "  return batch"
      ],
      "execution_count": null,
      "outputs": []
    },
    {
      "cell_type": "code",
      "metadata": {
        "id": "uPqH7gZqrGPi",
        "colab": {
          "base_uri": "https://localhost:8080/",
          "height": 49,
          "referenced_widgets": [
            "ba0923f8b18949278eb44f7dd101addb",
            "3904bfe781854100881b9e3806604792",
            "7e7b797b5cb14a1c9fbb7c626fa3eda7",
            "bc13eed455304b0d8f32383fdb3cd1d7",
            "91d0ff447851441dadb2cf95ef2efa41",
            "130c075c66da402f8ec2f22337850c88",
            "0192714f1557428782b46793c05eb26d",
            "7cbf979a424948e5b3ebaec357f88d8a",
            "54174b5181104b32b5379b975046f942",
            "16828f598c3845edb70d9a3b91cd0030",
            "61362b3751dd446f951dac8dd2ba866d"
          ]
        },
        "outputId": "bc7c9775-88fc-488b-c9e4-90dd70804c3d"
      },
      "source": [
        "results = timit[\"test\"].map(map_to_result, remove_columns=timit[\"test\"].column_names)"
      ],
      "execution_count": null,
      "outputs": [
        {
          "output_type": "display_data",
          "data": {
            "application/vnd.jupyter.widget-view+json": {
              "model_id": "ba0923f8b18949278eb44f7dd101addb",
              "version_minor": 0,
              "version_major": 2
            },
            "text/plain": [
              "  0%|          | 0/1680 [00:00<?, ?ex/s]"
            ]
          },
          "metadata": {}
        }
      ]
    },
    {
      "cell_type": "markdown",
      "metadata": {
        "id": "-mqpdB8R6rty"
      },
      "source": [
        "Let's compute the overall WER now."
      ]
    },
    {
      "cell_type": "code",
      "metadata": {
        "id": "PmqAb4Isx8OK",
        "colab": {
          "base_uri": "https://localhost:8080/"
        },
        "outputId": "64278bb1-eabb-4449-d6db-b40619f7593f"
      },
      "source": [
        "print(\"Test WER: {:.3f}\".format(wer_metric.compute(predictions=results[\"pred_str\"], references=results[\"text\"])))"
      ],
      "execution_count": null,
      "outputs": [
        {
          "output_type": "stream",
          "name": "stdout",
          "text": [
            "Test WER: 0.221\n"
          ]
        }
      ]
    },
    {
      "cell_type": "markdown",
      "metadata": {
        "id": "6Va94d8Y7Q98"
      },
      "source": [
        "22.1% WER - not bad! Our demo model would have probably made it on the official [leaderboard](https://paperswithcode.com/sota/speech-recognition-on-timit).\n",
        "\n",
        "Let's take a look at some predictions to see what errors are made by the model."
      ]
    },
    {
      "cell_type": "code",
      "metadata": {
        "id": "odNDiFVRy53w",
        "colab": {
          "base_uri": "https://localhost:8080/",
          "height": 359
        },
        "outputId": "0a1d5059-d13b-4515-d068-66c32da6854c"
      },
      "source": [
        "show_random_elements(results)"
      ],
      "execution_count": null,
      "outputs": [
        {
          "output_type": "display_data",
          "data": {
            "text/html": [
              "<table border=\"1\" class=\"dataframe\">\n",
              "  <thead>\n",
              "    <tr style=\"text-align: right;\">\n",
              "      <th></th>\n",
              "      <th>pred_str</th>\n",
              "      <th>text</th>\n",
              "    </tr>\n",
              "  </thead>\n",
              "  <tbody>\n",
              "    <tr>\n",
              "      <th>0</th>\n",
              "      <td>ame to ballenge or employ you benefit package</td>\n",
              "      <td>aim to balance your employee benefit package</td>\n",
              "    </tr>\n",
              "    <tr>\n",
              "      <th>1</th>\n",
              "      <td>the fawg prevented them from ariving on tome</td>\n",
              "      <td>the fog prevented them from arriving on time</td>\n",
              "    </tr>\n",
              "    <tr>\n",
              "      <th>2</th>\n",
              "      <td>young children should avoide exposure to contageous diseases</td>\n",
              "      <td>young children should avoid exposure to contagious diseases</td>\n",
              "    </tr>\n",
              "    <tr>\n",
              "      <th>3</th>\n",
              "      <td>art official intelligence is for wrheal</td>\n",
              "      <td>artificial intelligence is for real</td>\n",
              "    </tr>\n",
              "    <tr>\n",
              "      <th>4</th>\n",
              "      <td>their propes were two step ladders a chare and a pome fan</td>\n",
              "      <td>their props were two stepladders a chair and a palm fan</td>\n",
              "    </tr>\n",
              "    <tr>\n",
              "      <th>5</th>\n",
              "      <td>if people were more generous there would be no need for wealfar</td>\n",
              "      <td>if people were more generous there would be no need for welfare</td>\n",
              "    </tr>\n",
              "    <tr>\n",
              "      <th>6</th>\n",
              "      <td>the fish began to leep frantically on the surface of the small eack</td>\n",
              "      <td>the fish began to leap frantically on the surface of the small lake</td>\n",
              "    </tr>\n",
              "    <tr>\n",
              "      <th>7</th>\n",
              "      <td>her rite hand ags wheanever the barametric pressur changes</td>\n",
              "      <td>her right hand aches whenever the barometric pressure changes</td>\n",
              "    </tr>\n",
              "    <tr>\n",
              "      <th>8</th>\n",
              "      <td>only lawyers loved milianears</td>\n",
              "      <td>only lawyers love millionaires</td>\n",
              "    </tr>\n",
              "    <tr>\n",
              "      <th>9</th>\n",
              "      <td>the nearest sinnigade may not be within walk in distance</td>\n",
              "      <td>the nearest synagogue may not be within walking distance</td>\n",
              "    </tr>\n",
              "  </tbody>\n",
              "</table>"
            ],
            "text/plain": [
              "<IPython.core.display.HTML object>"
            ]
          },
          "metadata": {}
        }
      ]
    },
    {
      "cell_type": "markdown",
      "metadata": {
        "id": "5HFCujhd9n4N"
      },
      "source": [
        "It becomes clear that the predicted transcriptions are acoustically very similar to the target transcriptions, but often contain spelling or grammatical errors. This shouldn't be very surprising though given that we purely rely on Wav2Vec2 without making use of a language model."
      ]
    },
    {
      "cell_type": "markdown",
      "metadata": {
        "id": "a3ydKvUl9FTK"
      },
      "source": [
        "Finally, to better understand how CTC works, it is worth taking a deeper look at the exact output of the model. Let's run the first test sample through the model, take the predicted ids and convert them to their corresponding tokens."
      ]
    },
    {
      "cell_type": "code",
      "metadata": {
        "id": "AqaM45t87uM4",
        "colab": {
          "base_uri": "https://localhost:8080/",
          "height": 71
        },
        "outputId": "3ca3e08b-4931-4f6e-b4bd-75238b3b68e6"
      },
      "source": [
        "model.to(\"cuda\")\n",
        "\n",
        "with torch.no_grad():\n",
        "  logits = model(torch.tensor(timit[\"test\"][:1][\"input_values\"], device=\"cuda\")).logits\n",
        "\n",
        "pred_ids = torch.argmax(logits, dim=-1)\n",
        "\n",
        "# convert ids to tokens\n",
        "\" \".join(processor.tokenizer.convert_ids_to_tokens(pred_ids[0].tolist()))"
      ],
      "execution_count": null,
      "outputs": [
        {
          "output_type": "execute_result",
          "data": {
            "application/vnd.google.colaboratory.intrinsic+json": {
              "type": "string"
            },
            "text/plain": [
              "'[PAD] [PAD] [PAD] [PAD] [PAD] [PAD] t t h e e | | b [PAD] o o [PAD] n n n g g [PAD] o a [PAD] l [PAD] o o [PAD] [PAD] [PAD] | | w a a [PAD] s s | | [PAD] [PAD] p [PAD] l e e [PAD] [PAD] s s [PAD] e n t t [PAD] l l l y y | | | s s [PAD] [PAD] i [PAD] [PAD] t [PAD] u u u u u [PAD] [PAD] a a a [PAD] [PAD] t t e e e d d | [PAD] n e e a a r r | | t h h e | | [PAD] s s h h [PAD] o [PAD] [PAD] o o r r r r [PAD] [PAD] [PAD] [PAD] [PAD] [PAD] [PAD] [PAD] [PAD] |'"
            ]
          },
          "metadata": {},
          "execution_count": 85
        }
      ]
    },
    {
      "cell_type": "markdown",
      "metadata": {
        "id": "tdO8E28g-n5C"
      },
      "source": [
        "The output should make it a bit clearer how CTC works in practice. The model is to some extent invariant to speaking rate since it has learned to either just repeat the same token in case the speech chunk to be classified still corresponds to the same token. This makes CTC a very powerful algorithm for speech recognition since the speech file's transcription is often very much independent of its length.\n",
        "\n",
        "I again advise the reader to take a look at [this](https://distill.pub/2017/ctc) very nice blog post to better understand CTC."
      ]
    }
  ]
}