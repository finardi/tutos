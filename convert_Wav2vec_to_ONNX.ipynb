{
  "nbformat": 4,
  "nbformat_minor": 0,
  "metadata": {
    "colab": {
      "name": "convert Wav2vec to ONNX.ipynb",
      "provenance": [],
      "machine_shape": "hm",
      "mount_file_id": "1K2CFiqvJcdEUZVUUxiXFRznwn3vjIcFS",
      "authorship_tag": "ABX9TyNM5gvV+jl21UaQ0o45Aq9Z",
      "include_colab_link": true
    },
    "kernelspec": {
      "name": "python3",
      "display_name": "Python 3"
    },
    "language_info": {
      "name": "python"
    }
  },
  "cells": [
    {
      "cell_type": "markdown",
      "metadata": {
        "id": "view-in-github",
        "colab_type": "text"
      },
      "source": [
        "<a href=\"https://colab.research.google.com/github/finardi/tutos/blob/master/convert_Wav2vec_to_ONNX.ipynb\" target=\"_parent\"><img src=\"https://colab.research.google.com/assets/colab-badge.svg\" alt=\"Open In Colab\"/></a>"
      ]
    },
    {
      "cell_type": "code",
      "source": [
        "!pip install magic_timer\n",
        "!pip install -q onnx\n",
        "!pip install -q onnxruntime\n",
        "!pip install -q transformers"
      ],
      "metadata": {
        "colab": {
          "base_uri": "https://localhost:8080/"
        },
        "id": "SlcN30Epi5-S",
        "outputId": "5c943488-f430-43d9-e9af-aa4f587f202f"
      },
      "execution_count": 1,
      "outputs": [
        {
          "output_type": "stream",
          "name": "stdout",
          "text": [
            "Requirement already satisfied: magic_timer in /usr/local/lib/python3.7/dist-packages (1.0.0)\n"
          ]
        }
      ]
    },
    {
      "cell_type": "code",
      "execution_count": 2,
      "metadata": {
        "id": "ZYBKgWdUg6d1"
      },
      "outputs": [],
      "source": [
        "import torch\n",
        "import torchaudio\n",
        "import numpy as np\n",
        "\n",
        "import onnxruntime as rt\n",
        "from onnxruntime.quantization.quantize import quantize\n",
        "\n",
        "from transformers import Wav2Vec2ForCTC, Wav2Vec2Processor\n",
        "\n",
        "from magic_timer import MagicTimer"
      ]
    },
    {
      "cell_type": "code",
      "source": [
        "CONVERT = False\n",
        "\n",
        "model_name = \"lgris/bp400-xlsr\"\n",
        "quantized_model_name = \"/content/drive/MyDrive/Wav2Vec/model_checkpoint/ONNX_weights/\"+ model_name.split(\"/\")[-1] + \".quant.onnx\""
      ],
      "metadata": {
        "id": "qU6gPWua1UXM"
      },
      "execution_count": 11,
      "outputs": []
    },
    {
      "cell_type": "code",
      "source": [
        "# script from: https://github.com/ccoreilly/wav2vec2-service/blob/master/convert_torch_to_onnx.py\n",
        "\n",
        "if CONVERT:\n",
        "\n",
        "    def convert_to_onnx(model_id_or_path, onnx_model_name):\n",
        "        print(f\"Converting {model_id_or_path} to onnx\")\n",
        "        model = Wav2Vec2ForCTC.from_pretrained(model_id_or_path)\n",
        "        audio_len = 250000\n",
        "\n",
        "        x = torch.randn(1, audio_len, requires_grad=True)\n",
        "\n",
        "        torch.onnx.export(\n",
        "            model,                          # model being run\n",
        "            x,                              # model input (or a tuple for multiple inputs)\n",
        "            onnx_model_name,                # where to save the model (can be a file or file-like object)\n",
        "            export_params=True,             # store the trained parameter weights inside the model file\n",
        "            opset_version=11,               # the ONNX version to export the model to\n",
        "            do_constant_folding=True,       # whether to execute constant folding for optimization\n",
        "            input_names = ['input'],        # the model's input names\n",
        "            output_names = ['output'],      # the model's output names\n",
        "            dynamic_axes={'input' : {1 : 'audio_len'},    # variable length axes\n",
        "                        'output' : {1 : 'audio_len'}},\n",
        "                        )\n",
        "\n",
        "    def quantize_onnx_model(onnx_model_path, quantized_model_path):\n",
        "        print(\"Starting quantization...\")\n",
        "        from onnxruntime.quantization import quantize_dynamic, QuantType\n",
        "        quantize_dynamic(onnx_model_path,\n",
        "                        quantized_model_path,\n",
        "                        weight_type=QuantType.QUInt8)\n",
        "\n",
        "        print(f\"Quantized model saved to: {quantized_model_path}\")\n",
        "\n",
        "    # - - - - \n",
        "    onnx_model_name = \"/content/drive/MyDrive/Wav2Vec/model_checkpoint/ONNX_weights/\"+ model_name.split(\"/\")[-1] + \".onnx\"\n",
        "    convert_to_onnx(model_id_or_path, onnx_model_name)\n",
        "    print('model ONNX exported !!!')\n",
        "    \n",
        "    quantize_onnx_model(onnx_model_name, quantized_model_name)\n",
        "    print('model quantized !!!')"
      ],
      "metadata": {
        "id": "oXEqv2SEjQvx"
      },
      "execution_count": 6,
      "outputs": []
    },
    {
      "cell_type": "code",
      "source": [
        "class Wave2Vec2Inference():\n",
        "    def __init__(self,model_name,onnx_path, model_sample_rate=16_000):\n",
        "        options = rt.SessionOptions()\n",
        "        options.graph_optimization_level = rt.GraphOptimizationLevel.ORT_ENABLE_ALL\n",
        "        self.model_quant = rt.InferenceSession(onnx_path, options)\n",
        "        \n",
        "        self.processor = Wav2Vec2Processor.from_pretrained(model_name) \n",
        "        self.model_sample_rate = model_sample_rate\n",
        "        \n",
        "        self.model = Wav2Vec2ForCTC.from_pretrained(model_name)\n",
        "\n",
        "    def buffer_to_text(self, audio_tensor, onnx):\n",
        "        if audio_tensor.shape[0] == 0:\n",
        "            return \"\"\n",
        "\n",
        "        inputs = self.processor(audio_tensor, sampling_rate=self.model_sample_rate, return_tensors=\"pt\")\n",
        "\n",
        "        input_values = inputs.input_values\n",
        "        \n",
        "        if onnx:\n",
        "            outputs = self.model_quant.run(None, {self.model_quant.get_inputs()[0].name: input_values.numpy()})[0]\n",
        "            prediction = np.argmax(outputs, axis=-1).squeeze()\n",
        "            transcription = self.processor.decode(prediction.tolist())\n",
        "        else:\n",
        "            outputs = self.model(input_values)[0]\n",
        "            prediction = torch.argmax(outputs, axis=-1).squeeze()\n",
        "            transcription = self.processor.decode(prediction.tolist())\n",
        "        \n",
        "        return transcription\n",
        "\n",
        "    def file_to_text(self,filename, onnx=True):\n",
        "        speech, sample_rate = torchaudio.load(filename)\n",
        "        resampler = torchaudio.transforms.Resample(orig_freq=sample_rate, new_freq=self.model_sample_rate)\n",
        "        speech = resampler.forward(speech.squeeze(0))\n",
        "        \n",
        "        return self.buffer_to_text(speech, onnx)"
      ],
      "metadata": {
        "id": "tp2CBlqPkw6c"
      },
      "execution_count": 8,
      "outputs": []
    },
    {
      "cell_type": "code",
      "source": [
        "asr = Wave2Vec2Inference(model_name, quantized_model_name)\n",
        "\n",
        "# Quantized ONNX\n",
        "timer = MagicTimer()  \n",
        "predicted = asr.file_to_text(\"/content/drive/MyDrive/Wav2Vec/data/audio_andrea_3.wav\")\n",
        "print(f'predicted: {predicted}\\n\\tTempo: {timer}')\n",
        "\n",
        "# Regular predict\n",
        "timer = MagicTimer()\n",
        "predicted = asr.file_to_text(\"/content/drive/MyDrive/Wav2Vec/data/audio_andrea_3.wav\", onnx=False)\n",
        "print(f'predicted: {predicted}\\n\\tTempo: {timer}')"
      ],
      "metadata": {
        "colab": {
          "base_uri": "https://localhost:8080/"
        },
        "id": "nRE74rfKkzSb",
        "outputId": "34fcde35-6017-4989-a347-6fb39bcd9332"
      },
      "execution_count": 39,
      "outputs": [
        {
          "output_type": "stream",
          "name": "stdout",
          "text": [
            "predicted: por favor como eu faço para solicitar talão de chaque meu talão de cheque acabou e eu queria solicitar novos talões\n",
            "\tTempo: 5.9 seconds\n",
            "predicted: por favor como eu faço pra solicitar talão de cheque meu talão de cheque acabou e eu queria solicitar novos talões\n",
            "\tTempo: 7.0 seconds\n"
          ]
        }
      ]
    },
    {
      "cell_type": "code",
      "source": [
        "%%time\n",
        "predicted = asr.file_to_text(\"/content/drive/MyDrive/Wav2Vec/data/audio_andrea_3.wav\")"
      ],
      "metadata": {
        "colab": {
          "base_uri": "https://localhost:8080/"
        },
        "id": "L6t19nJIypbY",
        "outputId": "fdf6e3a2-f576-4f0c-b017-f1d2b08d8206"
      },
      "execution_count": 40,
      "outputs": [
        {
          "output_type": "stream",
          "name": "stdout",
          "text": [
            "CPU times: user 11.5 s, sys: 80.7 ms, total: 11.6 s\n",
            "Wall time: 6.76 s\n"
          ]
        }
      ]
    },
    {
      "cell_type": "code",
      "source": [
        "%%time\n",
        "predicted = asr.file_to_text(\"/content/drive/MyDrive/Wav2Vec/data/audio_andrea_3.wav\", onnx=False)"
      ],
      "metadata": {
        "colab": {
          "base_uri": "https://localhost:8080/"
        },
        "id": "nSps_m5d0LIL",
        "outputId": "bb3dfe24-a07e-4540-bf50-ab36a49a6228"
      },
      "execution_count": 41,
      "outputs": [
        {
          "output_type": "stream",
          "name": "stdout",
          "text": [
            "CPU times: user 5.86 s, sys: 1.37 s, total: 7.23 s\n",
            "Wall time: 3.73 s\n"
          ]
        }
      ]
    },
    {
      "cell_type": "code",
      "source": [
        ""
      ],
      "metadata": {
        "id": "siHIIXNJ3pBU"
      },
      "execution_count": null,
      "outputs": []
    }
  ]
}