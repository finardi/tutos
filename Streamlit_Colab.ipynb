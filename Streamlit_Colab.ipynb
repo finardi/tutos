{
  "nbformat": 4,
  "nbformat_minor": 0,
  "metadata": {
    "colab": {
      "name": "Streamlit-Colab.ipynb",
      "provenance": [],
      "collapsed_sections": [],
      "authorship_tag": "ABX9TyPnmVPFKqqhaQb+nEZ42lZF",
      "include_colab_link": true
    },
    "kernelspec": {
      "name": "python3",
      "display_name": "Python 3"
    }
  },
  "cells": [
    {
      "cell_type": "markdown",
      "metadata": {
        "id": "view-in-github",
        "colab_type": "text"
      },
      "source": [
        "<a href=\"https://colab.research.google.com/github/finardi/tutos/blob/master/Streamlit_Colab.ipynb\" target=\"_parent\"><img src=\"https://colab.research.google.com/assets/colab-badge.svg\" alt=\"Open In Colab\"/></a>"
      ]
    },
    {
      "cell_type": "code",
      "metadata": {
        "id": "l8u9nlYZWHkE"
      },
      "source": [
        "!pip install -q streamlit\n",
        "!pip install -q pyngrok"
      ],
      "execution_count": 2,
      "outputs": []
    },
    {
      "cell_type": "code",
      "metadata": {
        "id": "rcK8tSxwWRUz",
        "outputId": "bc17b6c6-8091-49b8-da2d-2665d10a99de",
        "colab": {
          "base_uri": "https://localhost:8080/",
          "height": 34
        }
      },
      "source": [
        "%%writefile app.py\n",
        "\n",
        "import types\n",
        "import random\n",
        "import dataclasses\n",
        "import streamlit as st\n",
        "from typing import TypeVar\n",
        "from typing import List, Tuple\n",
        "from string import ascii_lowercase\n",
        "\n",
        "StateT = TypeVar('StateT')\n",
        "\n",
        "def persistent_game_state(initial_state: StateT) -> StateT:\n",
        "    session_id = st.report_thread.get_report_ctx().session_id\n",
        "    session = st.server.server.Server.get_current()._get_session_info(session_id).session\n",
        "    if not hasattr(session, '_gamestate'):\n",
        "        setattr(session, '_gamestate', initial_state)\n",
        "    return session._gamestate\n",
        "\n",
        "PROTOTYPE = \"\"\"\n",
        " ┏━━┑\n",
        " ┃  O>\n",
        " ┃>╦╧╦<\n",
        " ┃ ╠═╣\n",
        " ┃ ╨ ╨\n",
        " ┻━━━━\n",
        "\"\"\"\n",
        "\n",
        "\n",
        "STEPS = [\n",
        "\"\"\"\n",
        " ┏━━┑\n",
        " ┃\n",
        " ┃\n",
        " ┃\n",
        " ┃\n",
        " ┻━━━━\n",
        "\"\"\",\n",
        "\"\"\"\n",
        " ┏━━┑\n",
        " ┃  O\n",
        " ┃\n",
        " ┃\n",
        " ┃\n",
        " ┻━━━━\n",
        "\"\"\",\n",
        "\"\"\"\n",
        " ┏━━┑\n",
        " ┃  O>\n",
        " ┃\n",
        " ┃\n",
        " ┃\n",
        " ┻━━━━\n",
        "\"\"\",\n",
        "\"\"\"\n",
        " ┏━━┑\n",
        " ┃  O>\n",
        " ┃ ╔╧╗\n",
        " ┃ ╚═╝\n",
        " ┃\n",
        " ┻━━━━\n",
        "\"\"\",\n",
        "\"\"\"\n",
        " ┏━━┑\n",
        " ┃  O>\n",
        " ┃>╦╧╗\n",
        " ┃ ╚═╝\n",
        " ┃\n",
        " ┻━━━━\n",
        "\"\"\",\n",
        "\"\"\"\n",
        " ┏━━┑\n",
        " ┃  O>\n",
        " ┃>╦╧╦<\n",
        " ┃ ╚═╝\n",
        " ┃\n",
        " ┻━━━━\n",
        "\"\"\",\n",
        "\"\"\"\n",
        " ┏━━┑\n",
        " ┃  O>\n",
        " ┃>╦╧╦<\n",
        " ┃ ╠═╝\n",
        " ┃ ╨\n",
        " ┻━━━━\n",
        "\"\"\",\n",
        "\"\"\"\n",
        " ┏━━┑\n",
        " ┃  O>\n",
        " ┃>╦╧╦<\n",
        " ┃ ╠═╣\n",
        " ┃ ╨ ╨\n",
        " ┻━━━━\n",
        "\"\"\"\n",
        "]\n",
        "\n",
        "MIN_LENGTH = 2\n",
        "MAX_LENGTH = 8\n",
        "\n",
        "@st.cache\n",
        "def get_words() -> List[str]:\n",
        "    vocab = ['die', 'die', 'die', 'die']\n",
        "    words = [w for w in vocab if MIN_LENGTH <= len(w) <= MAX_LENGTH]\n",
        "    words = [w for w in words if all('a' <= c <= 'z' for c in w)]\n",
        "    return words\n",
        "\n",
        "@dataclasses.dataclass\n",
        "class GameState:\n",
        "    game_number: int\n",
        "    word: str\n",
        "    guessed: Tuple[str, ...] = ()\n",
        "    step: int = 0\n",
        "    game_over: bool = False\n",
        "\n",
        "state = persistent_game_state(initial_state=GameState(0, random.choice(get_words()))) \n",
        "\n",
        "if st.button(\"new game\"):\n",
        "    state.guessed = ()\n",
        "    state.step = 0\n",
        "    state.game_number += 1\n",
        "    state.word = random.choice(get_words())\n",
        "    state.game_over = False\n",
        "\n",
        "if not state.game_over:\n",
        "    guess = st.text_input(\"Escolha uma letra\", max_chars=1, key=state.game_number)\n",
        "\n",
        "    if not guess:\n",
        "        st.write(\"por favor, escolha\")\n",
        "    elif guess < 'a' or guess > 'z':\n",
        "        st.write(\"por favor, escolha uma letra minúscula!\")\n",
        "    elif guess in state.guessed:\n",
        "        st.write(f\"você escolheu **{guess}**\")\n",
        "    elif guess not in state.word:\n",
        "        st.write(f\"a palavra não possui **{guess}**\")\n",
        "        state.step += 1\n",
        "        state.guessed += (guess,)\n",
        "    else: \n",
        "        st.write(\"boa escolha\")\n",
        "        state.guessed += (guess,)\n",
        "\n",
        "if state.step == len(STEPS) - 1:\n",
        "    st.markdown(f\"perdeu, a palavra era  **{state.word}**\")\n",
        "    state.game_over = True\n",
        "elif all(c in state.guessed for c in state.word):\n",
        "    st.markdown(f\"**Aeeeeeeeee! WinWin!**\")\n",
        "    state.game_over = True\n",
        "\n",
        "# Show the chicken\n",
        "st.text(STEPS[state.step])\n",
        "\n",
        "# Show the word\n",
        "chars = [c if c in state.guessed else \"_\" for c in state.word]\n",
        "st.text(\" \".join(chars))\n",
        "\n",
        "# Show the guessed letters\n",
        "st.text(f'escolhidas: {\" \".join(state.guessed)}')"
      ],
      "execution_count": 3,
      "outputs": [
        {
          "output_type": "stream",
          "text": [
            "Writing app.py\n"
          ],
          "name": "stdout"
        }
      ]
    },
    {
      "cell_type": "code",
      "metadata": {
        "id": "iwPQv5UkWVPS",
        "outputId": "ad60eb68-cfb9-41f7-c948-9a6f1be648df",
        "colab": {
          "base_uri": "https://localhost:8080/",
          "height": 34
        }
      },
      "source": [
        "!ls"
      ],
      "execution_count": 4,
      "outputs": [
        {
          "output_type": "stream",
          "text": [
            "app.py\tsample_data\n"
          ],
          "name": "stdout"
        }
      ]
    },
    {
      "cell_type": "code",
      "metadata": {
        "id": "zqbTYblyWVIu",
        "outputId": "4f85b426-5814-4f54-be38-2b9a9b3a3493",
        "colab": {
          "base_uri": "https://localhost:8080/",
          "height": 34
        }
      },
      "source": [
        "!nohup streamlit run app.py &"
      ],
      "execution_count": 5,
      "outputs": [
        {
          "output_type": "stream",
          "text": [
            "nohup: appending output to 'nohup.out'\n"
          ],
          "name": "stdout"
        }
      ]
    },
    {
      "cell_type": "code",
      "metadata": {
        "id": "HrEyV67RWVB0",
        "outputId": "d65cff8b-3a1e-4702-d2ef-e48f9f49bac3",
        "colab": {
          "base_uri": "https://localhost:8080/",
          "height": 35
        }
      },
      "source": [
        "from pyngrok import ngrok\n",
        "# Setup a tunnel to the streamlit port 8501\n",
        "public_url = ngrok.connect(port='8501')\n",
        "public_url"
      ],
      "execution_count": 6,
      "outputs": [
        {
          "output_type": "stream",
          "text": [
            ""
          ],
          "name": "stdout"
        },
        {
          "output_type": "execute_result",
          "data": {
            "application/vnd.google.colaboratory.intrinsic+json": {
              "type": "string"
            },
            "text/plain": [
              "'http://211512ded51a.ngrok.io'"
            ]
          },
          "metadata": {
            "tags": []
          },
          "execution_count": 6
        }
      ]
    },
    {
      "cell_type": "markdown",
      "metadata": {
        "id": "PwN65Vq7U844"
      },
      "source": [
        "# Referências\n",
        "> https://medium.com/@jcharistech/how-to-run-streamlit-apps-from-colab-29b969a1bdfc\n",
        "\n",
        "> https://github.com/joelgrus/streamlit-games/blob/master/hangchicken.py"
      ]
    },
    {
      "cell_type": "code",
      "metadata": {
        "id": "hgWhnM-Qahh9"
      },
      "source": [
        ""
      ],
      "execution_count": null,
      "outputs": []
    }
  ]
}