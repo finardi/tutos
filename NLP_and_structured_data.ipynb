{
  "nbformat": 4,
  "nbformat_minor": 0,
  "metadata": {
    "colab": {
      "provenance": [],
      "machine_shape": "hm",
      "gpuType": "V100",
      "authorship_tag": "ABX9TyML6hZxwyvG/eX4xqB21UpO",
      "include_colab_link": true
    },
    "kernelspec": {
      "name": "python3",
      "display_name": "Python 3"
    },
    "language_info": {
      "name": "python"
    }
  },
  "cells": [
    {
      "cell_type": "markdown",
      "metadata": {
        "id": "view-in-github",
        "colab_type": "text"
      },
      "source": [
        "<a href=\"https://colab.research.google.com/github/finardi/tutos/blob/master/NLP_and_structured_data.ipynb\" target=\"_parent\"><img src=\"https://colab.research.google.com/assets/colab-badge.svg\" alt=\"Open In Colab\"/></a>"
      ]
    },
    {
      "cell_type": "code",
      "source": [
        "!git clone https://github.com/RUCAIBox/StructGPT.git\n",
        "!pip install -q openai"
      ],
      "metadata": {
        "id": "je15iPDE68Rf"
      },
      "execution_count": null,
      "outputs": []
    },
    {
      "cell_type": "markdown",
      "source": [
        "# 🟡 NLP + Dados Estruturados\n",
        "---\n",
        "---\n",
        "# **Aplicações**\n",
        "- ##  Poucos dados: in-context-learning (few-hot) -> classificação\n",
        "> #### [Referência](https://arxiv.org/pdf/2305.16938.pdf)\n",
        "\n",
        "- ##  Rotulação: in-context-learning (few-hot) -> label propagation\n",
        "> #### [Referência](https://arxiv.org/pdf/2305.16938.pdf)\n",
        "\n",
        "- ##  Não-estruturado -> Estruturado: intent & entity extraction\n",
        "> #### [Referência](https://www.sensible.so/blog/sensible-instruct)\n",
        "\n",
        "- ##  Talk to your data: langchain para dado estruturado\n",
        "> #### [Referência](https://blog.langchain.dev/going-beyond-chatbots-how-to-make-gpt-4-output-structured-data-using-langchain/)\n",
        "\n",
        "\n"
      ],
      "metadata": {
        "id": "U7lBYTnk69yJ"
      }
    },
    {
      "cell_type": "markdown",
      "source": [
        "# 🟠 LLM aplicado em dados estrutuados (Reasoning)"
      ],
      "metadata": {
        "id": "ewOhMMFJDRs6"
      }
    },
    {
      "cell_type": "markdown",
      "source": [
        "<img src=\"https://drive.google.com/uc?id=1HxVGsNUBJhe83XvQCpPx__p3GI0MgwAP\" alt=\"drawing\" width=\"1200\"/>\n",
        "\n",
        "#### [Referência](https://arxiv.org/pdf/2305.09645.pdf)\n",
        "\n",
        "<img src=\"https://drive.google.com/uc?id=11_q3c5M4HNoPo5_s8YSh3Jw9WjkV23ki\" alt=\"drawing\" width=\"1200\"/>\n",
        "\n",
        "<img src=\"https://drive.google.com/uc?id=1RBC1rG6brmfmi0MBzeOSlE-2fh2l0txJ\" alt=\"drawing\" width=\"432\" height=\"230\"/>\n",
        "\n",
        "<img src=\"https://drive.google.com/uc?id=1QISlbCY5g3l7GQ7bpbfLgyq1OIQIJXmD\" alt=\"drawing\" width=\"432\" height=\"230\"/>\n",
        "\n",
        "<img src=\"https://drive.google.com/uc?id=1Vzf2ae3Peck1VHzAMVMReu1yC7ZxaHW5\" alt=\"drawing\" width=\"1200\"/>\n",
        "\n",
        "<img src=\"https://drive.google.com/uc?id=16d4OWzPFskCLkWwdONC9MAXtXm1jNeUN\" alt=\"drawing\" width=\"1200\"/>\n",
        "\n",
        "\n"
      ],
      "metadata": {
        "id": "omFL_50XrIH0"
      }
    },
    {
      "cell_type": "code",
      "source": [
        "#todo\n",
        "# run structGPT in public data"
      ],
      "metadata": {
        "id": "ayXN0GCpcNV8"
      },
      "execution_count": null,
      "outputs": []
    }
  ]
}