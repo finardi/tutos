{
  "nbformat": 4,
  "nbformat_minor": 0,
  "metadata": {
    "colab": {
      "name": "BERTOPIC - V2.ipynb",
      "provenance": [],
      "machine_shape": "hm",
      "authorship_tag": "ABX9TyNykXMi6KATARYauCJmZgn8",
      "include_colab_link": true
    },
    "kernelspec": {
      "name": "python3",
      "display_name": "Python 3"
    },
    "language_info": {
      "name": "python"
    },
    "accelerator": "GPU"
  },
  "cells": [
    {
      "cell_type": "markdown",
      "metadata": {
        "id": "view-in-github",
        "colab_type": "text"
      },
      "source": [
        "<a href=\"https://colab.research.google.com/github/finardi/tutos/blob/master/BERTOPIC_V2.ipynb\" target=\"_parent\"><img src=\"https://colab.research.google.com/assets/colab-badge.svg\" alt=\"Open In Colab\"/></a>"
      ]
    },
    {
      "cell_type": "code",
      "metadata": {
        "colab": {
          "base_uri": "https://localhost:8080/"
        },
        "id": "Nrg4jo90yPw9",
        "outputId": "10451248-422f-45ba-f41e-2a16c60b3257"
      },
      "source": [
        "! pip install -q umap-learn\n",
        "! pip install -q hdbscan\n",
        "! pip install -q transformers"
      ],
      "execution_count": 1,
      "outputs": [
        {
          "output_type": "stream",
          "text": [
            "\u001b[K     |████████████████████████████████| 81kB 5.4MB/s \n",
            "\u001b[K     |████████████████████████████████| 1.2MB 17.1MB/s \n",
            "\u001b[?25h  Building wheel for umap-learn (setup.py) ... \u001b[?25l\u001b[?25hdone\n",
            "  Building wheel for pynndescent (setup.py) ... \u001b[?25l\u001b[?25hdone\n",
            "\u001b[K     |████████████████████████████████| 6.4MB 7.0MB/s \n",
            "\u001b[?25h  Installing build dependencies ... \u001b[?25l\u001b[?25hdone\n",
            "  Getting requirements to build wheel ... \u001b[?25l\u001b[?25hdone\n",
            "    Preparing wheel metadata ... \u001b[?25l\u001b[?25hdone\n",
            "  Building wheel for hdbscan (PEP 517) ... \u001b[?25l\u001b[?25hdone\n",
            "\u001b[K     |████████████████████████████████| 2.2MB 7.1MB/s \n",
            "\u001b[K     |████████████████████████████████| 870kB 37.4MB/s \n",
            "\u001b[K     |████████████████████████████████| 3.3MB 58.6MB/s \n",
            "\u001b[?25h  Building wheel for sacremoses (setup.py) ... \u001b[?25l\u001b[?25hdone\n"
          ],
          "name": "stdout"
        }
      ]
    },
    {
      "cell_type": "code",
      "metadata": {
        "id": "qf4Z9r0j1izT",
        "colab": {
          "base_uri": "https://localhost:8080/"
        },
        "outputId": "a68d4be8-4c7e-41d7-a99a-f80bb5e96fb2"
      },
      "source": [
        "import os\n",
        "import gc\n",
        "import umap\n",
        "import torch\n",
        "import hdbscan\n",
        "import numpy as np\n",
        "import pandas as pd\n",
        "import logging\n",
        "import matplotlib.pyplot as plt\n",
        "\n",
        "from torch.utils.data import TensorDataset, DataLoader\n",
        "\n",
        "from transformers import BertModel, BertTokenizer\n",
        "\n",
        "from sklearn.feature_extraction.text import CountVectorizer\n",
        "from sklearn.metrics.pairwise import cosine_similarity\n",
        "from sklearn.datasets import fetch_20newsgroups\n",
        "data = fetch_20newsgroups(subset='all')['data']"
      ],
      "execution_count": 2,
      "outputs": [
        {
          "output_type": "stream",
          "text": [
            "Downloading 20news dataset. This may take a few minutes.\n",
            "Downloading dataset from https://ndownloader.figshare.com/files/5975967 (14 MB)\n"
          ],
          "name": "stderr"
        }
      ]
    },
    {
      "cell_type": "markdown",
      "metadata": {
        "id": "Ju6uKhE46brf"
      },
      "source": [
        "# BERTaú - Embeddings"
      ]
    },
    {
      "cell_type": "code",
      "metadata": {
        "colab": {
          "base_uri": "https://localhost:8080/"
        },
        "id": "S7aRbDvqea0q",
        "outputId": "02755432-1163-497a-d89b-7c4e08247c55"
      },
      "source": [
        "data[:3]"
      ],
      "execution_count": 7,
      "outputs": [
        {
          "output_type": "execute_result",
          "data": {
            "text/plain": [
              "[\"From: Mamatha Devineni Ratnam <mr47+@andrew.cmu.edu>\\nSubject: Pens fans reactions\\nOrganization: Post Office, Carnegie Mellon, Pittsburgh, PA\\nLines: 12\\nNNTP-Posting-Host: po4.andrew.cmu.edu\\n\\n\\n\\nI am sure some bashers of Pens fans are pretty confused about the lack\\nof any kind of posts about the recent Pens massacre of the Devils. Actually,\\nI am  bit puzzled too and a bit relieved. However, I am going to put an end\\nto non-PIttsburghers' relief with a bit of praise for the Pens. Man, they\\nare killing those Devils worse than I thought. Jagr just showed you why\\nhe is much better than his regular season stats. He is also a lot\\nfo fun to watch in the playoffs. Bowman should let JAgr have a lot of\\nfun in the next couple of games since the Pens are going to beat the pulp out of Jersey anyway. I was very disappointed not to see the Islanders lose the final\\nregular season game.          PENS RULE!!!\\n\\n\",\n",
              " 'From: mblawson@midway.ecn.uoknor.edu (Matthew B Lawson)\\nSubject: Which high-performance VLB video card?\\nSummary: Seek recommendations for VLB video card\\nNntp-Posting-Host: midway.ecn.uoknor.edu\\nOrganization: Engineering Computer Network, University of Oklahoma, Norman, OK, USA\\nKeywords: orchid, stealth, vlb\\nLines: 21\\n\\n  My brother is in the market for a high-performance video card that supports\\nVESA local bus with 1-2MB RAM.  Does anyone have suggestions/ideas on:\\n\\n  - Diamond Stealth Pro Local Bus\\n\\n  - Orchid Farenheit 1280\\n\\n  - ATI Graphics Ultra Pro\\n\\n  - Any other high-performance VLB card\\n\\n\\nPlease post or email.  Thank you!\\n\\n  - Matt\\n\\n-- \\n    |  Matthew B. Lawson <------------> (mblawson@essex.ecn.uoknor.edu)  |   \\n  --+-- \"Now I, Nebuchadnezzar, praise and exalt and glorify the King  --+-- \\n    |   of heaven, because everything he does is right and all his ways  |   \\n    |   are just.\" - Nebuchadnezzar, king of Babylon, 562 B.C.           |   \\n',\n",
              " 'From: hilmi-er@dsv.su.se (Hilmi Eren)\\nSubject: Re: ARMENIA SAYS IT COULD SHOOT DOWN TURKISH PLANES (Henrik)\\nLines: 95\\nNntp-Posting-Host: viktoria.dsv.su.se\\nReply-To: hilmi-er@dsv.su.se (Hilmi Eren)\\nOrganization: Dept. of Computer and Systems Sciences, Stockholm University\\n\\n\\n\\n\\n|>The student of \"regional killings\" alias Davidian (not the Davidian religios sect) writes:\\n\\n\\n|>Greater Armenia would stretch from Karabakh, to the Black Sea, to the\\n|>Mediterranean, so if you use the term \"Greater Armenia\" use it with care.\\n\\n\\n\\tFinally you said what you dream about. Mediterranean???? That was new....\\n\\tThe area will be \"greater\" after some years, like your \"holocaust\" numbers......\\n\\n\\n\\n\\n|>It has always been up to the Azeris to end their announced winning of Karabakh \\n|>by removing the Armenians! When the president of Azerbaijan, Elchibey, came to \\n|>power last year, he announced he would be be \"swimming in Lake Sevan [in \\n|>Armeniaxn] by July\".\\n\\t\\t*****\\n\\tIs\\'t July in USA now????? Here in Sweden it\\'s April and still cold.\\n\\tOr have you changed your calendar???\\n\\n\\n|>Well, he was wrong! If Elchibey is going to shell the \\n|>Armenians of Karabakh from Aghdam, his people will pay the price! If Elchibey \\n\\t\\t\\t\\t\\t\\t    ****************\\n|>is going to shell Karabakh from Fizuli his people will pay the price! If \\n\\t\\t\\t\\t\\t\\t    ******************\\n|>Elchibey thinks he can get away with bombing Armenia from the hills of \\n|>Kelbajar, his people will pay the price. \\n\\t\\t\\t    ***************\\n\\n\\n\\tNOTHING OF THE MENTIONED IS TRUE, BUT LET SAY IT\\'s TRUE.\\n\\t\\n\\tSHALL THE AZERI WOMEN AND CHILDREN GOING TO PAY THE PRICE WITH\\n\\t\\t\\t\\t\\t\\t    **************\\n\\tBEING RAPED, KILLED AND TORTURED BY THE ARMENIANS??????????\\n\\t\\n\\tHAVE YOU HEARDED SOMETHING CALLED: \"GENEVA CONVENTION\"???????\\n\\tYOU FACIST!!!!!\\n\\n\\n\\n\\tOhhh i forgot, this is how Armenians fight, nobody has forgot\\n\\tyou killings, rapings and torture against the Kurds and Turks once\\n\\tupon a time!\\n      \\n       \\n\\n|>And anyway, this \"60 \\n|>Kurd refugee\" story, as have other stories, are simple fabrications sourced in \\n|>Baku, modified in Ankara. Other examples of this are Armenia has no border \\n|>with Iran, and the ridiculous story of the \"intercepting\" of Armenian military \\n|>conversations as appeared in the New York Times supposedly translated by \\n|>somebody unknown, from Armenian into Azeri Turkish, submitted by an unnamed \\n|>\"special correspondent\" to the NY Times from Baku. Real accurate!\\n\\nOhhhh so swedish RedCross workers do lie they too? What ever you say\\n\"regional killer\", if you don\\'t like the person then shoot him that\\'s your policy.....l\\n\\n\\n|>[HE]\\tSearch Turkish planes? You don\\'t know what you are talking about.<-------\\n|>[HE]\\tsince it\\'s content is announced to be weapons? \\t\\t\\t\\ti\\t \\n\\t\\t\\t\\t\\t\\t\\t\\t\\t\\ti\\n|>Well, big mouth Ozal said military weapons are being provided to Azerbaijan\\ti\\n|>from Turkey, yet Demirel and others say no. No wonder you are so confused!\\ti\\n\\t\\t\\t\\t\\t\\t\\t\\t\\t\\ti\\n\\t\\t\\t\\t\\t\\t\\t\\t\\t\\ti\\n\\tConfused?????\\t\\t\\t\\t\\t\\t\\t\\ti\\n\\tYou facist when you delete text don\\'t change it, i wrote:\\t\\ti\\n\\t\\t\\t\\t\\t\\t\\t\\t\\t\\ti\\n        Search Turkish planes? You don\\'t know what you are talking about.\\ti\\n        Turkey\\'s government has announced that it\\'s giving weapons  <-----------i\\n        to Azerbadjan since Armenia started to attack Azerbadjan\\t\\t\\n        it self, not the Karabag province. So why search a plane for weapons\\t\\n        since it\\'s content is announced to be weapons?   \\n\\n\\tIf there is one that\\'s confused then that\\'s you! We have the right (and we do)\\n\\tto give weapons to the Azeris, since Armenians started the fight in Azerbadjan!\\n \\n\\n|>You are correct, all Turkish planes should be simply shot down! Nice, slow\\n|>moving air transports!\\n\\n\\tShoot down with what? Armenian bread and butter? Or the arms and personel \\n\\tof the Russian army?\\n\\n\\n\\n\\nHilmi Eren\\nStockholm University\\n']"
            ]
          },
          "metadata": {
            "tags": []
          },
          "execution_count": 7
        }
      ]
    },
    {
      "cell_type": "code",
      "metadata": {
        "colab": {
          "base_uri": "https://localhost:8080/"
        },
        "id": "vBJ2lPLUeabq",
        "outputId": "dfe6ee80-f340-4b57-a8fd-1c1455f1cdfe"
      },
      "source": [
        "%%time\n",
        "\n",
        "try:\n",
        "    del model\n",
        "    gc.collect()\n",
        "    torch.cuda.empty_cache()\n",
        "except:\n",
        "    pass\n",
        "\n",
        "def get_embs(path_model:str, data, verbose=True):\n",
        "    model = BertModel.from_pretrained(path_model).to('cuda')\n",
        "    hidden_size = model.config.hidden_size\n",
        "    embs = np.zeros(len(data)*hidden_size).reshape(len(data), hidden_size)\n",
        "\n",
        "    for i, seq in enumerate(data):\n",
        "        encoded_seq = tokenizer.encode_plus(\n",
        "        seq, max_length=MAX_LEN, padding='max_length',\n",
        "        truncation=True, return_token_type_ids=True,\n",
        "        return_attention_mask=True, return_tensors='pt')\n",
        "\n",
        "        outs = model(encoded_seq['input_ids'].to('cuda'), return_dict=True)\n",
        "        last_hidden_state = outs['last_hidden_state']\n",
        "        \n",
        "        # without CLS and SEP\n",
        "        embs_mean = torch.einsum(\"ijk -> k\", last_hidden_state[:,1:-1,]).cpu().detach().numpy()\n",
        "        \n",
        "        embs[i] = embs_mean\n",
        "        \n",
        "        if verbose:\n",
        "            if i%1000==0:\n",
        "                print(f'Enbedded: {i}/{len(data)}')\n",
        "\n",
        "    return embs\n",
        "\n",
        "# --------------------------------------------------\n",
        "MAX_LEN = 200\n",
        "path_model = 'Itau-Unibanco/BERTau'\n",
        "embeddings = get_embs(path_model, data)"
      ],
      "execution_count": 6,
      "outputs": [
        {
          "output_type": "stream",
          "text": [
            "Enbedded: 0/18846\n",
            "Enbedded: 100/18846\n",
            "Enbedded: 200/18846\n",
            "Enbedded: 300/18846\n",
            "Enbedded: 400/18846\n",
            "Enbedded: 500/18846\n",
            "Enbedded: 600/18846\n",
            "Enbedded: 700/18846\n",
            "Enbedded: 800/18846\n",
            "Enbedded: 900/18846\n",
            "Enbedded: 1000/18846\n",
            "Enbedded: 1100/18846\n",
            "Enbedded: 1200/18846\n",
            "Enbedded: 1300/18846\n",
            "Enbedded: 1400/18846\n",
            "Enbedded: 1500/18846\n",
            "Enbedded: 1600/18846\n",
            "Enbedded: 1700/18846\n",
            "Enbedded: 1800/18846\n",
            "Enbedded: 1900/18846\n",
            "Enbedded: 2000/18846\n",
            "Enbedded: 2100/18846\n",
            "Enbedded: 2200/18846\n",
            "Enbedded: 2300/18846\n",
            "Enbedded: 2400/18846\n",
            "Enbedded: 2500/18846\n",
            "Enbedded: 2600/18846\n",
            "Enbedded: 2700/18846\n",
            "Enbedded: 2800/18846\n",
            "Enbedded: 2900/18846\n",
            "Enbedded: 3000/18846\n",
            "Enbedded: 3100/18846\n",
            "Enbedded: 3200/18846\n",
            "Enbedded: 3300/18846\n",
            "Enbedded: 3400/18846\n",
            "Enbedded: 3500/18846\n",
            "Enbedded: 3600/18846\n",
            "Enbedded: 3700/18846\n",
            "Enbedded: 3800/18846\n",
            "Enbedded: 3900/18846\n",
            "Enbedded: 4000/18846\n",
            "Enbedded: 4100/18846\n",
            "Enbedded: 4200/18846\n",
            "Enbedded: 4300/18846\n",
            "Enbedded: 4400/18846\n",
            "Enbedded: 4500/18846\n",
            "Enbedded: 4600/18846\n",
            "Enbedded: 4700/18846\n",
            "Enbedded: 4800/18846\n",
            "Enbedded: 4900/18846\n",
            "Enbedded: 5000/18846\n",
            "Enbedded: 5100/18846\n",
            "Enbedded: 5200/18846\n",
            "Enbedded: 5300/18846\n",
            "Enbedded: 5400/18846\n",
            "Enbedded: 5500/18846\n",
            "Enbedded: 5600/18846\n",
            "Enbedded: 5700/18846\n",
            "Enbedded: 5800/18846\n",
            "Enbedded: 5900/18846\n",
            "Enbedded: 6000/18846\n",
            "Enbedded: 6100/18846\n",
            "Enbedded: 6200/18846\n",
            "Enbedded: 6300/18846\n",
            "Enbedded: 6400/18846\n",
            "Enbedded: 6500/18846\n",
            "Enbedded: 6600/18846\n",
            "Enbedded: 6700/18846\n",
            "Enbedded: 6800/18846\n",
            "Enbedded: 6900/18846\n",
            "Enbedded: 7000/18846\n",
            "Enbedded: 7100/18846\n",
            "Enbedded: 7200/18846\n",
            "Enbedded: 7300/18846\n",
            "Enbedded: 7400/18846\n",
            "Enbedded: 7500/18846\n",
            "Enbedded: 7600/18846\n",
            "Enbedded: 7700/18846\n",
            "Enbedded: 7800/18846\n",
            "Enbedded: 7900/18846\n",
            "Enbedded: 8000/18846\n",
            "Enbedded: 8100/18846\n",
            "Enbedded: 8200/18846\n",
            "Enbedded: 8300/18846\n",
            "Enbedded: 8400/18846\n",
            "Enbedded: 8500/18846\n",
            "Enbedded: 8600/18846\n",
            "Enbedded: 8700/18846\n",
            "Enbedded: 8800/18846\n",
            "Enbedded: 8900/18846\n",
            "Enbedded: 9000/18846\n",
            "Enbedded: 9100/18846\n",
            "Enbedded: 9200/18846\n",
            "Enbedded: 9300/18846\n",
            "Enbedded: 9400/18846\n",
            "Enbedded: 9500/18846\n",
            "Enbedded: 9600/18846\n",
            "Enbedded: 9700/18846\n",
            "Enbedded: 9800/18846\n",
            "Enbedded: 9900/18846\n",
            "Enbedded: 10000/18846\n",
            "Enbedded: 10100/18846\n",
            "Enbedded: 10200/18846\n",
            "Enbedded: 10300/18846\n",
            "Enbedded: 10400/18846\n",
            "Enbedded: 10500/18846\n",
            "Enbedded: 10600/18846\n",
            "Enbedded: 10700/18846\n",
            "Enbedded: 10800/18846\n",
            "Enbedded: 10900/18846\n",
            "Enbedded: 11000/18846\n",
            "Enbedded: 11100/18846\n",
            "Enbedded: 11200/18846\n",
            "Enbedded: 11300/18846\n",
            "Enbedded: 11400/18846\n",
            "Enbedded: 11500/18846\n",
            "Enbedded: 11600/18846\n",
            "Enbedded: 11700/18846\n",
            "Enbedded: 11800/18846\n",
            "Enbedded: 11900/18846\n",
            "Enbedded: 12000/18846\n",
            "Enbedded: 12100/18846\n",
            "Enbedded: 12200/18846\n",
            "Enbedded: 12300/18846\n",
            "Enbedded: 12400/18846\n",
            "Enbedded: 12500/18846\n",
            "Enbedded: 12600/18846\n",
            "Enbedded: 12700/18846\n",
            "Enbedded: 12800/18846\n",
            "Enbedded: 12900/18846\n",
            "Enbedded: 13000/18846\n",
            "Enbedded: 13100/18846\n",
            "Enbedded: 13200/18846\n",
            "Enbedded: 13300/18846\n",
            "Enbedded: 13400/18846\n",
            "Enbedded: 13500/18846\n",
            "Enbedded: 13600/18846\n",
            "Enbedded: 13700/18846\n",
            "Enbedded: 13800/18846\n",
            "Enbedded: 13900/18846\n",
            "Enbedded: 14000/18846\n",
            "Enbedded: 14100/18846\n",
            "Enbedded: 14200/18846\n",
            "Enbedded: 14300/18846\n",
            "Enbedded: 14400/18846\n",
            "Enbedded: 14500/18846\n",
            "Enbedded: 14600/18846\n",
            "Enbedded: 14700/18846\n",
            "Enbedded: 14800/18846\n",
            "Enbedded: 14900/18846\n",
            "Enbedded: 15000/18846\n",
            "Enbedded: 15100/18846\n",
            "Enbedded: 15200/18846\n",
            "Enbedded: 15300/18846\n",
            "Enbedded: 15400/18846\n",
            "Enbedded: 15500/18846\n",
            "Enbedded: 15600/18846\n",
            "Enbedded: 15700/18846\n",
            "Enbedded: 15800/18846\n",
            "Enbedded: 15900/18846\n",
            "Enbedded: 16000/18846\n",
            "Enbedded: 16100/18846\n",
            "Enbedded: 16200/18846\n",
            "Enbedded: 16300/18846\n",
            "Enbedded: 16400/18846\n",
            "Enbedded: 16500/18846\n",
            "Enbedded: 16600/18846\n",
            "Enbedded: 16700/18846\n",
            "Enbedded: 16800/18846\n",
            "Enbedded: 16900/18846\n",
            "Enbedded: 17000/18846\n",
            "Enbedded: 17100/18846\n",
            "Enbedded: 17200/18846\n",
            "Enbedded: 17300/18846\n",
            "Enbedded: 17400/18846\n",
            "Enbedded: 17500/18846\n",
            "Enbedded: 17600/18846\n",
            "Enbedded: 17700/18846\n",
            "Enbedded: 17800/18846\n",
            "Enbedded: 17900/18846\n",
            "Enbedded: 18000/18846\n",
            "Enbedded: 18100/18846\n",
            "Enbedded: 18200/18846\n",
            "Enbedded: 18300/18846\n",
            "Enbedded: 18400/18846\n",
            "Enbedded: 18500/18846\n",
            "Enbedded: 18600/18846\n",
            "Enbedded: 18700/18846\n",
            "Enbedded: 18800/18846\n",
            "CPU times: user 7min, sys: 2.54 s, total: 7min 3s\n",
            "Wall time: 7min 2s\n"
          ],
          "name": "stdout"
        }
      ]
    },
    {
      "cell_type": "code",
      "metadata": {
        "id": "7dk98yW0aGSk"
      },
      "source": [
        "umap_embeddings = umap.UMAP(n_neighbors=15, \n",
        "                            n_components=5, \n",
        "                            metric='cosine').fit_transform(embeddings)"
      ],
      "execution_count": 8,
      "outputs": []
    },
    {
      "cell_type": "code",
      "metadata": {
        "id": "RqP7ZZSScT2J"
      },
      "source": [
        "cluster = hdbscan.HDBSCAN(min_cluster_size=15,\n",
        "                          metric='euclidean',                      \n",
        "                          cluster_selection_method='eom').fit(umap_embeddings)"
      ],
      "execution_count": 9,
      "outputs": []
    },
    {
      "cell_type": "code",
      "metadata": {
        "colab": {
          "base_uri": "https://localhost:8080/",
          "height": 407
        },
        "id": "ozNlfycqd8bp",
        "outputId": "0700e9c4-6421-4940-d002-9e7623d35a0f"
      },
      "source": [
        "# Prepare data\n",
        "umap_data = umap.UMAP(n_neighbors=15, n_components=2, min_dist=0.0, metric='cosine').fit_transform(embeddings)\n",
        "result = pd.DataFrame(umap_data, columns=['x', 'y'])\n",
        "result['labels'] = cluster.labels_\n",
        "\n",
        "result"
      ],
      "execution_count": 10,
      "outputs": [
        {
          "output_type": "execute_result",
          "data": {
            "text/html": [
              "<div>\n",
              "<style scoped>\n",
              "    .dataframe tbody tr th:only-of-type {\n",
              "        vertical-align: middle;\n",
              "    }\n",
              "\n",
              "    .dataframe tbody tr th {\n",
              "        vertical-align: top;\n",
              "    }\n",
              "\n",
              "    .dataframe thead th {\n",
              "        text-align: right;\n",
              "    }\n",
              "</style>\n",
              "<table border=\"1\" class=\"dataframe\">\n",
              "  <thead>\n",
              "    <tr style=\"text-align: right;\">\n",
              "      <th></th>\n",
              "      <th>x</th>\n",
              "      <th>y</th>\n",
              "      <th>labels</th>\n",
              "    </tr>\n",
              "  </thead>\n",
              "  <tbody>\n",
              "    <tr>\n",
              "      <th>0</th>\n",
              "      <td>8.996622</td>\n",
              "      <td>13.827070</td>\n",
              "      <td>27</td>\n",
              "    </tr>\n",
              "    <tr>\n",
              "      <th>1</th>\n",
              "      <td>7.835275</td>\n",
              "      <td>12.350847</td>\n",
              "      <td>27</td>\n",
              "    </tr>\n",
              "    <tr>\n",
              "      <th>2</th>\n",
              "      <td>10.316415</td>\n",
              "      <td>11.980718</td>\n",
              "      <td>-1</td>\n",
              "    </tr>\n",
              "    <tr>\n",
              "      <th>3</th>\n",
              "      <td>12.649457</td>\n",
              "      <td>7.691959</td>\n",
              "      <td>26</td>\n",
              "    </tr>\n",
              "    <tr>\n",
              "      <th>4</th>\n",
              "      <td>7.445704</td>\n",
              "      <td>13.995874</td>\n",
              "      <td>27</td>\n",
              "    </tr>\n",
              "    <tr>\n",
              "      <th>...</th>\n",
              "      <td>...</td>\n",
              "      <td>...</td>\n",
              "      <td>...</td>\n",
              "    </tr>\n",
              "    <tr>\n",
              "      <th>18841</th>\n",
              "      <td>8.909996</td>\n",
              "      <td>10.954712</td>\n",
              "      <td>-1</td>\n",
              "    </tr>\n",
              "    <tr>\n",
              "      <th>18842</th>\n",
              "      <td>12.191648</td>\n",
              "      <td>10.171733</td>\n",
              "      <td>26</td>\n",
              "    </tr>\n",
              "    <tr>\n",
              "      <th>18843</th>\n",
              "      <td>7.638442</td>\n",
              "      <td>14.204132</td>\n",
              "      <td>27</td>\n",
              "    </tr>\n",
              "    <tr>\n",
              "      <th>18844</th>\n",
              "      <td>10.980890</td>\n",
              "      <td>10.698153</td>\n",
              "      <td>-1</td>\n",
              "    </tr>\n",
              "    <tr>\n",
              "      <th>18845</th>\n",
              "      <td>8.658866</td>\n",
              "      <td>13.124786</td>\n",
              "      <td>27</td>\n",
              "    </tr>\n",
              "  </tbody>\n",
              "</table>\n",
              "<p>18846 rows × 3 columns</p>\n",
              "</div>"
            ],
            "text/plain": [
              "               x          y  labels\n",
              "0       8.996622  13.827070      27\n",
              "1       7.835275  12.350847      27\n",
              "2      10.316415  11.980718      -1\n",
              "3      12.649457   7.691959      26\n",
              "4       7.445704  13.995874      27\n",
              "...          ...        ...     ...\n",
              "18841   8.909996  10.954712      -1\n",
              "18842  12.191648  10.171733      26\n",
              "18843   7.638442  14.204132      27\n",
              "18844  10.980890  10.698153      -1\n",
              "18845   8.658866  13.124786      27\n",
              "\n",
              "[18846 rows x 3 columns]"
            ]
          },
          "metadata": {
            "tags": []
          },
          "execution_count": 10
        }
      ]
    },
    {
      "cell_type": "code",
      "metadata": {
        "colab": {
          "base_uri": "https://localhost:8080/",
          "height": 609
        },
        "id": "GfMXhggbeDZH",
        "outputId": "8700de34-4b0e-4c02-f8eb-d0724d55ce87"
      },
      "source": [
        "# Visualize clusters\n",
        "fig, ax = plt.subplots(figsize=(20, 10))\n",
        "outliers = result.loc[result.labels == -1, :]\n",
        "clustered = result.loc[result.labels != -1, :]\n",
        "plt.scatter(outliers.x, outliers.y, color='#BDBDBD', s=0.05)\n",
        "plt.scatter(clustered.x, clustered.y, c=clustered.labels, s=0.05, cmap='hsv_r')\n",
        "plt.colorbar()"
      ],
      "execution_count": 11,
      "outputs": [
        {
          "output_type": "execute_result",
          "data": {
            "text/plain": [
              "<matplotlib.colorbar.Colorbar at 0x7f68bbe7ce10>"
            ]
          },
          "metadata": {
            "tags": []
          },
          "execution_count": 11
        },
        {
          "output_type": "display_data",
          "data": {
            "image/png": "[encoded data removed]",
            "text/plain": [
              "<Figure size 1440x720 with 2 Axes>"
            ]
          },
          "metadata": {
            "tags": [],
            "needs_background": "light"
          }
        }
      ]
    },
    {
      "cell_type": "code",
      "metadata": {
        "id": "EsMK0EKxeuZp",
        "colab": {
          "base_uri": "https://localhost:8080/",
          "height": 407
        },
        "outputId": "e81594e8-4244-4103-c2c0-6f061c824f1f"
      },
      "source": [
        "# see https://towardsdatascience.com/topic-modeling-with-bert-779f7db187e6\n",
        "\n",
        "docs_df = pd.DataFrame(data, columns=[\"Doc\"])\n",
        "docs_df['Topic'] = cluster.labels_\n",
        "docs_df['Doc_ID'] = range(len(docs_df))\n",
        "docs_per_topic = docs_df.groupby(['Topic'], as_index = False).agg({'Doc': ' '.join})\n",
        "\n",
        "docs_df"
      ],
      "execution_count": 12,
      "outputs": [
        {
          "output_type": "execute_result",
          "data": {
            "text/html": [
              "<div>\n",
              "<style scoped>\n",
              "    .dataframe tbody tr th:only-of-type {\n",
              "        vertical-align: middle;\n",
              "    }\n",
              "\n",
              "    .dataframe tbody tr th {\n",
              "        vertical-align: top;\n",
              "    }\n",
              "\n",
              "    .dataframe thead th {\n",
              "        text-align: right;\n",
              "    }\n",
              "</style>\n",
              "<table border=\"1\" class=\"dataframe\">\n",
              "  <thead>\n",
              "    <tr style=\"text-align: right;\">\n",
              "      <th></th>\n",
              "      <th>Doc</th>\n",
              "      <th>Topic</th>\n",
              "      <th>Doc_ID</th>\n",
              "    </tr>\n",
              "  </thead>\n",
              "  <tbody>\n",
              "    <tr>\n",
              "      <th>0</th>\n",
              "      <td>From: Mamatha Devineni Ratnam &lt;mr47+@andrew.cm...</td>\n",
              "      <td>27</td>\n",
              "      <td>0</td>\n",
              "    </tr>\n",
              "    <tr>\n",
              "      <th>1</th>\n",
              "      <td>From: mblawson@midway.ecn.uoknor.edu (Matthew ...</td>\n",
              "      <td>27</td>\n",
              "      <td>1</td>\n",
              "    </tr>\n",
              "    <tr>\n",
              "      <th>2</th>\n",
              "      <td>From: hilmi-er@dsv.su.se (Hilmi Eren)\\nSubject...</td>\n",
              "      <td>-1</td>\n",
              "      <td>2</td>\n",
              "    </tr>\n",
              "    <tr>\n",
              "      <th>3</th>\n",
              "      <td>From: guyd@austin.ibm.com (Guy Dawson)\\nSubjec...</td>\n",
              "      <td>26</td>\n",
              "      <td>3</td>\n",
              "    </tr>\n",
              "    <tr>\n",
              "      <th>4</th>\n",
              "      <td>From: Alexander Samuel McDiarmid &lt;am2o+@andrew...</td>\n",
              "      <td>27</td>\n",
              "      <td>4</td>\n",
              "    </tr>\n",
              "    <tr>\n",
              "      <th>...</th>\n",
              "      <td>...</td>\n",
              "      <td>...</td>\n",
              "      <td>...</td>\n",
              "    </tr>\n",
              "    <tr>\n",
              "      <th>18841</th>\n",
              "      <td>From: jim.zisfein@factory.com (Jim Zisfein) \\n...</td>\n",
              "      <td>-1</td>\n",
              "      <td>18841</td>\n",
              "    </tr>\n",
              "    <tr>\n",
              "      <th>18842</th>\n",
              "      <td>From: rdell@cbnewsf.cb.att.com (richard.b.dell...</td>\n",
              "      <td>26</td>\n",
              "      <td>18842</td>\n",
              "    </tr>\n",
              "    <tr>\n",
              "      <th>18843</th>\n",
              "      <td>From: westes@netcom.com (Will Estes)\\nSubject:...</td>\n",
              "      <td>27</td>\n",
              "      <td>18843</td>\n",
              "    </tr>\n",
              "    <tr>\n",
              "      <th>18844</th>\n",
              "      <td>From: steve@hcrlgw (Steven Collins)\\nSubject: ...</td>\n",
              "      <td>-1</td>\n",
              "      <td>18844</td>\n",
              "    </tr>\n",
              "    <tr>\n",
              "      <th>18845</th>\n",
              "      <td>From: chriss@netcom.com (Chris Silvester)\\nSub...</td>\n",
              "      <td>27</td>\n",
              "      <td>18845</td>\n",
              "    </tr>\n",
              "  </tbody>\n",
              "</table>\n",
              "<p>18846 rows × 3 columns</p>\n",
              "</div>"
            ],
            "text/plain": [
              "                                                     Doc  Topic  Doc_ID\n",
              "0      From: Mamatha Devineni Ratnam <mr47+@andrew.cm...     27       0\n",
              "1      From: mblawson@midway.ecn.uoknor.edu (Matthew ...     27       1\n",
              "2      From: hilmi-er@dsv.su.se (Hilmi Eren)\\nSubject...     -1       2\n",
              "3      From: guyd@austin.ibm.com (Guy Dawson)\\nSubjec...     26       3\n",
              "4      From: Alexander Samuel McDiarmid <am2o+@andrew...     27       4\n",
              "...                                                  ...    ...     ...\n",
              "18841  From: jim.zisfein@factory.com (Jim Zisfein) \\n...     -1   18841\n",
              "18842  From: rdell@cbnewsf.cb.att.com (richard.b.dell...     26   18842\n",
              "18843  From: westes@netcom.com (Will Estes)\\nSubject:...     27   18843\n",
              "18844  From: steve@hcrlgw (Steven Collins)\\nSubject: ...     -1   18844\n",
              "18845  From: chriss@netcom.com (Chris Silvester)\\nSub...     27   18845\n",
              "\n",
              "[18846 rows x 3 columns]"
            ]
          },
          "metadata": {
            "tags": []
          },
          "execution_count": 12
        }
      ]
    },
    {
      "cell_type": "code",
      "metadata": {
        "id": "LbpVbY-Sfyr1"
      },
      "source": [
        "def c_tf_idf(documents, m, ngram_range=(1, 1)):\n",
        "    count = CountVectorizer(ngram_range=ngram_range, stop_words=\"english\").fit(documents)\n",
        "    t = count.transform(documents).toarray()\n",
        "    w = t.sum(axis=1)\n",
        "    tf = np.divide(t.T, w)\n",
        "    sum_t = t.sum(axis=0)\n",
        "    idf = np.log(np.divide(m, sum_t)).reshape(-1, 1)\n",
        "    tf_idf = np.multiply(tf, idf)\n",
        "\n",
        "    return tf_idf, count\n",
        "  \n",
        "tf_idf, count = c_tf_idf(docs_per_topic.Doc.values, m=len(data))"
      ],
      "execution_count": 13,
      "outputs": []
    },
    {
      "cell_type": "code",
      "metadata": {
        "colab": {
          "base_uri": "https://localhost:8080/",
          "height": 348
        },
        "id": "MV0TGuTia_Q6",
        "outputId": "a97eb0e3-b065-439e-c23a-c535933a461e"
      },
      "source": [
        "def extract_top_n_words_per_topic(tf_idf, count, docs_per_topic, n=20):\n",
        "    words = count.get_feature_names()\n",
        "    labels = list(docs_per_topic.Topic)\n",
        "    tf_idf_transposed = tf_idf.T\n",
        "    indices = tf_idf_transposed.argsort()[:, -n:]\n",
        "    top_n_words = {label: [(words[j], tf_idf_transposed[i][j]) for j in indices[i]][::-1] for i, label in enumerate(labels)}\n",
        "    return top_n_words\n",
        "\n",
        "def extract_topic_sizes(df):\n",
        "    topic_sizes = (df.groupby(['Topic'])\n",
        "                     .Doc\n",
        "                     .count()\n",
        "                     .reset_index()\n",
        "                     .rename({\"Topic\": \"Topic\", \"Doc\": \"Size\"}, axis='columns')\n",
        "                     .sort_values(\"Size\", ascending=False))\n",
        "    return topic_sizes\n",
        "\n",
        "top_n_words = extract_top_n_words_per_topic(tf_idf, count, docs_per_topic, n=20)\n",
        "topic_sizes = extract_topic_sizes(docs_df); topic_sizes.head(10)"
      ],
      "execution_count": 14,
      "outputs": [
        {
          "output_type": "execute_result",
          "data": {
            "text/html": [
              "<div>\n",
              "<style scoped>\n",
              "    .dataframe tbody tr th:only-of-type {\n",
              "        vertical-align: middle;\n",
              "    }\n",
              "\n",
              "    .dataframe tbody tr th {\n",
              "        vertical-align: top;\n",
              "    }\n",
              "\n",
              "    .dataframe thead th {\n",
              "        text-align: right;\n",
              "    }\n",
              "</style>\n",
              "<table border=\"1\" class=\"dataframe\">\n",
              "  <thead>\n",
              "    <tr style=\"text-align: right;\">\n",
              "      <th></th>\n",
              "      <th>Topic</th>\n",
              "      <th>Size</th>\n",
              "    </tr>\n",
              "  </thead>\n",
              "  <tbody>\n",
              "    <tr>\n",
              "      <th>27</th>\n",
              "      <td>26</td>\n",
              "      <td>9190</td>\n",
              "    </tr>\n",
              "    <tr>\n",
              "      <th>28</th>\n",
              "      <td>27</td>\n",
              "      <td>4632</td>\n",
              "    </tr>\n",
              "    <tr>\n",
              "      <th>9</th>\n",
              "      <td>8</td>\n",
              "      <td>2019</td>\n",
              "    </tr>\n",
              "    <tr>\n",
              "      <th>0</th>\n",
              "      <td>-1</td>\n",
              "      <td>1565</td>\n",
              "    </tr>\n",
              "    <tr>\n",
              "      <th>8</th>\n",
              "      <td>7</td>\n",
              "      <td>488</td>\n",
              "    </tr>\n",
              "    <tr>\n",
              "      <th>22</th>\n",
              "      <td>21</td>\n",
              "      <td>112</td>\n",
              "    </tr>\n",
              "    <tr>\n",
              "      <th>19</th>\n",
              "      <td>18</td>\n",
              "      <td>93</td>\n",
              "    </tr>\n",
              "    <tr>\n",
              "      <th>2</th>\n",
              "      <td>1</td>\n",
              "      <td>82</td>\n",
              "    </tr>\n",
              "    <tr>\n",
              "      <th>6</th>\n",
              "      <td>5</td>\n",
              "      <td>61</td>\n",
              "    </tr>\n",
              "    <tr>\n",
              "      <th>14</th>\n",
              "      <td>13</td>\n",
              "      <td>56</td>\n",
              "    </tr>\n",
              "  </tbody>\n",
              "</table>\n",
              "</div>"
            ],
            "text/plain": [
              "    Topic  Size\n",
              "27     26  9190\n",
              "28     27  4632\n",
              "9       8  2019\n",
              "0      -1  1565\n",
              "8       7   488\n",
              "22     21   112\n",
              "19     18    93\n",
              "2       1    82\n",
              "6       5    61\n",
              "14     13    56"
            ]
          },
          "metadata": {
            "tags": []
          },
          "execution_count": 14
        }
      ]
    },
    {
      "cell_type": "code",
      "metadata": {
        "id": "ckopKRUUbC3i"
      },
      "source": [
        "for i in range(20):\n",
        "    # Calculate cosine similarity\n",
        "    similarities = cosine_similarity(tf_idf.T)\n",
        "    np.fill_diagonal(similarities, 0)\n",
        "\n",
        "    # Extract label to merge into and from where\n",
        "    topic_sizes = docs_df.groupby(['Topic']).count().sort_values(\"Doc\", ascending=False).reset_index()\n",
        "    topic_to_merge = topic_sizes.iloc[-1].Topic\n",
        "    topic_to_merge_into = np.argmax(similarities[topic_to_merge + 1]) - 1\n",
        "\n",
        "    # Adjust topics\n",
        "    docs_df.loc[docs_df.Topic == topic_to_merge, \"Topic\"] = topic_to_merge_into\n",
        "    old_topics = docs_df.sort_values(\"Topic\").Topic.unique()\n",
        "    map_topics = {old_topic: index - 1 for index, old_topic in enumerate(old_topics)}\n",
        "    docs_df.Topic = docs_df.Topic.map(map_topics)\n",
        "    docs_per_topic = docs_df.groupby(['Topic'], as_index = False).agg({'Doc': ' '.join})\n",
        "\n",
        "    # Calculate new topic words\n",
        "    m = len(data)\n",
        "    tf_idf, count = c_tf_idf(docs_per_topic.Doc.values, m)\n",
        "    top_n_words = extract_top_n_words_per_topic(tf_idf, count, docs_per_topic, n=20)\n",
        "\n",
        "topic_sizes = extract_topic_sizes(docs_df); topic_sizes.head(10)"
      ],
      "execution_count": null,
      "outputs": []
    },
    {
      "cell_type": "code",
      "metadata": {
        "id": "tS-hS_jLqdGI"
      },
      "source": [
        ""
      ],
      "execution_count": null,
      "outputs": []
    }
  ]
}