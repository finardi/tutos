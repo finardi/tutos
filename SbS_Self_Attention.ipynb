{
  "nbformat": 4,
  "nbformat_minor": 0,
  "metadata": {
    "colab": {
      "name": "Exemplo de Self Attention.ipynb",
      "provenance": [],
      "toc_visible": true,
      "authorship_tag": "ABX9TyMejIdsI6b2mp7KQbnCYUgo",
      "include_colab_link": true
    },
    "kernelspec": {
      "name": "python3",
      "display_name": "Python 3"
    }
  },
  "cells": [
    {
      "cell_type": "markdown",
      "metadata": {
        "id": "view-in-github",
        "colab_type": "text"
      },
      "source": [
        "<a href=\"https://colab.research.google.com/github/finardi/tutos/blob/master/SbS_Self_Attention.ipynb\" target=\"_parent\"><img src=\"https://colab.research.google.com/assets/colab-badge.svg\" alt=\"Open In Colab\"/></a>"
      ]
    },
    {
      "cell_type": "markdown",
      "metadata": {
        "id": "cdXdt1fRs52A"
      },
      "source": [
        "# Exemplo de self attention"
      ]
    },
    {
      "cell_type": "code",
      "metadata": {
        "id": "a8tpHOAtMz-W"
      },
      "source": [
        "import torch \n",
        "import numpy as np\n",
        "import seaborn as sns\n",
        "import matplotlib.pyplot as plt"
      ],
      "execution_count": 33,
      "outputs": []
    },
    {
      "cell_type": "code",
      "metadata": {
        "colab": {
          "base_uri": "https://localhost:8080/"
        },
        "id": "YcqorrQEROvS",
        "outputId": "7e07b2dc-fe73-4755-f7f9-0c19d42ef4dc"
      },
      "source": [
        "# ====\n",
        "# 0\n",
        "# ====\n",
        "\n",
        "# -- ENTRADA:\n",
        "text = 'Quero um cartão'\n",
        "text_tokens = ['Quero', 'um', 'cartão']\n",
        "\n",
        "# -- IDs:\n",
        "text_ids = [27,11,83] # tokens sintéticos\n",
        "VOCAB = 100 # Quantidade de palavras - no BERT ~30k\n",
        "\n",
        "# -- DIMENSÃO DOS EMBEDDINGS = 4:\n",
        "D = 8\n",
        "\n",
        "# -- COMPRIMENTO DA SEQUÊNCIA:\n",
        "L = 3\n",
        "\n",
        "# -- NÚMERO DE CABEÇAS:\n",
        "H = 2\n",
        "\n",
        "# -- MATRIZ DE EMBEDDINGS LxD:\n",
        "embs  = torch.nn.Embedding(VOCAB, D)\n",
        "\n",
        "# tensor com zeros_like\n",
        "embeddings = torch.zeros(len(text_ids) * D).reshape(len(text_ids), D)\n",
        "print(f'Shape da matriz de embeddings: {embeddings.shape}\\n')\n",
        "\n",
        "print('Matriz de embeddings\\n')\n",
        "for i , token in enumerate(text_ids):\n",
        "    embeddings[i] = embs(torch.tensor(token))\n",
        "embeddings"
      ],
      "execution_count": 2,
      "outputs": [
        {
          "output_type": "stream",
          "text": [
            "Shape da matriz de embeddings: torch.Size([3, 8])\n",
            "\n",
            "Matriz de embeddings\n",
            "\n"
          ],
          "name": "stdout"
        },
        {
          "output_type": "execute_result",
          "data": {
            "text/plain": [
              "tensor([[-0.6716, -0.8052, -1.3753, -0.9598, -0.8162, -1.0743, -1.1493,  1.0052],\n",
              "        [-1.2672,  0.8590,  0.7650, -0.1225, -0.4680, -0.1172,  0.8682,  0.7488],\n",
              "        [ 0.0959, -0.7437, -0.8650, -0.1754, -0.2658, -0.7284,  0.4719, -0.9366]],\n",
              "       grad_fn=<AsStridedBackward>)"
            ]
          },
          "metadata": {
            "tags": []
          },
          "execution_count": 2
        }
      ]
    },
    {
      "cell_type": "code",
      "metadata": {
        "colab": {
          "base_uri": "https://localhost:8080/"
        },
        "id": "JicNHcgzRrjw",
        "outputId": "828268e6-a96d-4009-f876-4e9637f57a86"
      },
      "source": [
        "# ====\n",
        "# 1\n",
        "# ====\n",
        "\n",
        "# -- MATRIZ DE PESOS, Q, K, V --> DxD (INICIADOS ARBITRARIAMENTE):\n",
        "Qw = torch.nn.Linear(D, D)\n",
        "Kw = torch.nn.Linear(D, D)\n",
        "Vw = torch.nn.Linear(D, D)\n",
        "\n",
        "print(f'Qw shape: {Qw(embeddings).shape}')\n",
        "print(f'Kw shape: {Kw(embeddings).shape}')\n",
        "print(f'Vw shape: {Vw(embeddings).shape}')"
      ],
      "execution_count": 21,
      "outputs": [
        {
          "output_type": "stream",
          "text": [
            "Qw shape: torch.Size([3, 8])\n",
            "Kw shape: torch.Size([3, 8])\n",
            "Vw shape: torch.Size([3, 8])\n"
          ],
          "name": "stdout"
        }
      ]
    },
    {
      "cell_type": "code",
      "metadata": {
        "id": "OS5NVaPXMItv",
        "colab": {
          "base_uri": "https://localhost:8080/"
        },
        "outputId": "dfb6bcc4-5c6b-4892-85ed-989695d173d7"
      },
      "source": [
        "# ====\n",
        "# 2\n",
        "# ====\n",
        "\n",
        "# -- OBTER Q, K e V:\n",
        "print(f'Shape da entrada: {embeddings.size()} -- Shape das Matrizes de pesos Qw, Kw e Vw: {Qw.weight.size()}')\n",
        "\n",
        "Q =  Qw(embeddings)\n",
        "K =  Kw(embeddings)\n",
        "V =  Vw(embeddings)\n",
        "\n",
        "print('Q', Q.size())\n",
        "print('K', K.size())\n",
        "print('V', V.size())"
      ],
      "execution_count": 22,
      "outputs": [
        {
          "output_type": "stream",
          "text": [
            "Shape da entrada: torch.Size([3, 8]) -- Shape das Matrizes de pesos Qw, Kw e Vw: torch.Size([8, 8])\n",
            "Q torch.Size([3, 8])\n",
            "K torch.Size([3, 8])\n",
            "V torch.Size([3, 8])\n"
          ],
          "name": "stdout"
        }
      ]
    },
    {
      "cell_type": "code",
      "metadata": {
        "id": "Vr-wHeQmvzCp",
        "outputId": "d0eb1800-27f8-424e-e8b4-ac2b7c53a711",
        "colab": {
          "base_uri": "https://localhost:8080/"
        }
      },
      "source": [
        "# ====\n",
        "# 3\n",
        "# ====\n",
        "\n",
        "dk = D//H\n",
        "Q = Q.reshape(L, H, dk)\n",
        "K = K.reshape(L, H, dk)\n",
        "V = V.reshape(L, H, dk)\n",
        "\n",
        "print('Q', Q.size())\n",
        "print('K', K.size())\n",
        "print('V', V.size())"
      ],
      "execution_count": 23,
      "outputs": [
        {
          "output_type": "stream",
          "text": [
            "Q torch.Size([3, 2, 4])\n",
            "K torch.Size([3, 2, 4])\n",
            "V torch.Size([3, 2, 4])\n"
          ],
          "name": "stdout"
        }
      ]
    },
    {
      "cell_type": "code",
      "metadata": {
        "colab": {
          "base_uri": "https://localhost:8080/"
        },
        "id": "HavK3iCTYfW7",
        "outputId": "3642c6b1-f4c8-4d51-f9b3-3791f22ca352"
      },
      "source": [
        "# ====\n",
        "# 4\n",
        "# ====\n",
        "\n",
        "Q = Q.transpose(0,1) # (H, L, dk)\n",
        "K = K.transpose(0,1) # (H, L, dk)\n",
        "V = V.transpose(0,1) # (H, L, dk)\n",
        "\n",
        "print('Q', Q.size())\n",
        "print('K', K.size())\n",
        "print('V', V.size())"
      ],
      "execution_count": 24,
      "outputs": [
        {
          "output_type": "stream",
          "text": [
            "Q torch.Size([2, 3, 4])\n",
            "K torch.Size([2, 3, 4])\n",
            "V torch.Size([2, 3, 4])\n"
          ],
          "name": "stdout"
        }
      ]
    },
    {
      "cell_type": "code",
      "metadata": {
        "id": "Ss7IYIZFMIgq",
        "colab": {
          "base_uri": "https://localhost:8080/"
        },
        "outputId": "1e99af3d-226a-4c4d-b6f2-e9574aad5160"
      },
      "source": [
        "# ====\n",
        "# 5\n",
        "# ====\n",
        "\n",
        "# -- CALCULAR O SCORE:    \n",
        "QKT = torch.einsum('hld, hcd -> hlc', Q, K) # K.transpose(-2,-1)=(H, dk, L) := (H, L, dk)x(H, dk, L) = (H, L, L)\n",
        "print('SCORE', QKT.size())\n",
        "\n",
        "# -- DIVIDIR POR SQRT(D)\n",
        "\n",
        "# -- SOFTMAX:\n",
        "Softmax = torch.nn.Softmax(dim=-1)\n",
        "Softmax = Softmax(QKT.float())\n",
        "SCORE = QKT/torch.sqrt(torch.tensor(D)) # (H, L, L) "
      ],
      "execution_count": 25,
      "outputs": [
        {
          "output_type": "stream",
          "text": [
            "SCORE torch.Size([2, 3, 3])\n"
          ],
          "name": "stdout"
        }
      ]
    },
    {
      "cell_type": "code",
      "metadata": {
        "id": "ZyFL9sryMIeR",
        "colab": {
          "base_uri": "https://localhost:8080/"
        },
        "outputId": "24a8e1a6-6645-443a-a626-d4481ea6295e"
      },
      "source": [
        "# ====\n",
        "# 6\n",
        "# ====\n",
        "\n",
        "SV = torch.einsum('hlc, hck -> hlk', SCORE, V) # (H, L, L)x(H, L, D//H)=(H, L, D//H)\n",
        "print('SV', SV.size()) "
      ],
      "execution_count": 26,
      "outputs": [
        {
          "output_type": "stream",
          "text": [
            "SV torch.Size([2, 3, 4])\n"
          ],
          "name": "stdout"
        }
      ]
    },
    {
      "cell_type": "code",
      "metadata": {
        "id": "hjbUXARcYveN",
        "colab": {
          "base_uri": "https://localhost:8080/"
        },
        "outputId": "3014dc05-76e8-499d-95ea-53b1dd65b221"
      },
      "source": [
        "# ====\n",
        "# 7\n",
        "# ====\n",
        "\n",
        "SV = SV.transpose(0,1) # (L, H, dk)\n",
        "print('SV', SV.size())"
      ],
      "execution_count": 10,
      "outputs": [
        {
          "output_type": "stream",
          "text": [
            "SV torch.Size([3, 2, 4])\n"
          ],
          "name": "stdout"
        }
      ]
    },
    {
      "cell_type": "code",
      "metadata": {
        "id": "EjxQz4s8Yvbh",
        "colab": {
          "base_uri": "https://localhost:8080/"
        },
        "outputId": "6e6f5a05-1c4d-4827-83d9-a3066183b0ec"
      },
      "source": [
        "# ====\n",
        "# 8\n",
        "# ====\n",
        "\n",
        "SV = SV.reshape(L, -1) # (L, H*dk)\n",
        "print('SV', SV.size())\n",
        "\n",
        "# -- MULTIPLICAR PELA MATRIZ DE PROJEÇÃO Wo\n",
        "Wow = torch.nn.Linear(D, D)"
      ],
      "execution_count": 27,
      "outputs": [
        {
          "output_type": "stream",
          "text": [
            "SV torch.Size([3, 8])\n"
          ],
          "name": "stdout"
        }
      ]
    },
    {
      "cell_type": "code",
      "metadata": {
        "id": "JkXnSgXwb29Z",
        "colab": {
          "base_uri": "https://localhost:8080/"
        },
        "outputId": "7112c5a7-9ef3-4a54-80bd-80fa15a76960"
      },
      "source": [
        "# ====\n",
        "# 9\n",
        "# ====\n",
        "\n",
        "ATT = Wow(SV) # (L, D)x(DxD)\n",
        "print('ATT', ATT.size())\n",
        "ATT"
      ],
      "execution_count": 30,
      "outputs": [
        {
          "output_type": "stream",
          "text": [
            "ATT torch.Size([3, 8])\n"
          ],
          "name": "stdout"
        },
        {
          "output_type": "execute_result",
          "data": {
            "text/plain": [
              "tensor([[-0.4000, -0.1559,  0.0980,  0.0197, -0.1930, -0.0946,  0.0861,  0.2356],\n",
              "        [-0.3483, -0.2536, -0.0386, -0.0334, -0.1852, -0.0282,  0.1177,  0.1838],\n",
              "        [-0.3642, -0.2463,  0.1017,  0.1852, -0.1552, -0.2865,  0.1589,  0.0547]],\n",
              "       grad_fn=<AddmmBackward>)"
            ]
          },
          "metadata": {
            "tags": []
          },
          "execution_count": 30
        }
      ]
    },
    {
      "cell_type": "code",
      "metadata": {
        "colab": {
          "base_uri": "https://localhost:8080/",
          "height": 486
        },
        "id": "WdjObeR-5GUC",
        "outputId": "cc9e17be-976b-44e6-adca-cbab0ec2e4b0"
      },
      "source": [
        "# Embs sem ATT\n",
        "plt.figure(figsize=(10,8))\n",
        "sns.heatmap(embeddings.detach().numpy())\n",
        "plt.savefig('semAtt.png')"
      ],
      "execution_count": 37,
      "outputs": [
        {
          "output_type": "display_data",
          "data": {
            "image/png": "[encoded data removed]",
            "text/plain": [
              "<Figure size 720x576 with 2 Axes>"
            ]
          },
          "metadata": {
            "tags": [],
            "needs_background": "light"
          }
        }
      ]
    },
    {
      "cell_type": "code",
      "metadata": {
        "colab": {
          "base_uri": "https://localhost:8080/",
          "height": 483
        },
        "id": "UccmwfhU48pn",
        "outputId": "e42b00ec-aafc-4597-d630-f486785e5b21"
      },
      "source": [
        "# ATT Embs\n",
        "plt.figure(figsize=(10,8))\n",
        "sns.heatmap(ATT.detach().numpy())\n",
        "plt.savefig('comAtt.png')"
      ],
      "execution_count": 38,
      "outputs": [
        {
          "output_type": "display_data",
          "data": {
            "image/png": "[encoded data removed]",
            "text/plain": [
              "<Figure size 720x576 with 2 Axes>"
            ]
          },
          "metadata": {
            "tags": [],
            "needs_background": "light"
          }
        }
      ]
    },
    {
      "cell_type": "markdown",
      "metadata": {
        "id": "z5EI8ia0gLJK"
      },
      "source": [
        "# Fim do Notebook"
      ]
    }
  ]
}