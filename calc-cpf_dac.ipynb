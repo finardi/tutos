{
  "nbformat": 4,
  "nbformat_minor": 0,
  "metadata": {
    "colab": {
      "name": "Untitled0.ipynb",
      "provenance": [],
      "authorship_tag": "ABX9TyPMhKwUycRQn/2V30t21VVB",
      "include_colab_link": true
    },
    "kernelspec": {
      "name": "python3",
      "display_name": "Python 3"
    }
  },
  "cells": [
    {
      "cell_type": "markdown",
      "metadata": {
        "id": "view-in-github",
        "colab_type": "text"
      },
      "source": [
        "<a href=\"https://colab.research.google.com/github/finardi/tutos/blob/master/calc-cpf_dac.ipynb\" target=\"_parent\"><img src=\"https://colab.research.google.com/assets/colab-badge.svg\" alt=\"Open In Colab\"/></a>"
      ]
    },
    {
      "cell_type": "code",
      "metadata": {
        "id": "Ly40oDNOgIQV"
      },
      "source": [
        "import numpy as np"
      ],
      "execution_count": 1,
      "outputs": []
    },
    {
      "cell_type": "code",
      "metadata": {
        "colab": {
          "base_uri": "https://localhost:8080/"
        },
        "id": "8Y_QcYxqgJ1U",
        "outputId": "51febe71-4324-45da-91f7-4287dc9b6dae"
      },
      "source": [
        "226901568 % 11"
      ],
      "execution_count": 3,
      "outputs": [
        {
          "output_type": "execute_result",
          "data": {
            "text/plain": [
              "3"
            ]
          },
          "metadata": {
            "tags": []
          },
          "execution_count": 3
        }
      ]
    },
    {
      "cell_type": "code",
      "metadata": {
        "colab": {
          "base_uri": "https://localhost:8080/"
        },
        "id": "2tv-M6BTgLcd",
        "outputId": "51a71729-52b9-405d-d99d-e091a18bbebb"
      },
      "source": [
        "divmod(327059758, 11)"
      ],
      "execution_count": 5,
      "outputs": [
        {
          "output_type": "execute_result",
          "data": {
            "text/plain": [
              "(29732705, 3)"
            ]
          },
          "metadata": {
            "tags": []
          },
          "execution_count": 5
        }
      ]
    },
    {
      "cell_type": "code",
      "metadata": {
        "colab": {
          "base_uri": "https://localhost:8080/"
        },
        "id": "o12g7F1gkSkJ",
        "outputId": "f29e3e70-baa3-4f7d-f008-d8cc7d848e17"
      },
      "source": [
        "factors_2"
      ],
      "execution_count": 22,
      "outputs": [
        {
          "output_type": "execute_result",
          "data": {
            "text/plain": [
              "[11, 10, 9, 8, 7, 6, 5, 4, 3, 2]"
            ]
          },
          "metadata": {
            "tags": []
          },
          "execution_count": 22
        }
      ]
    },
    {
      "cell_type": "code",
      "metadata": {
        "colab": {
          "base_uri": "https://localhost:8080/"
        },
        "id": "KBMrDzbWhRdW",
        "outputId": "b5e5bd4a-b599-4fee-caae-cdf2c9da300f"
      },
      "source": [
        "factors_1 = [x for x in range(10, 1, -1)]\n",
        "factors_2 = [x for x in range(11, 1, -1)]\n",
        "len(factors)\n",
        "cpf = str(226901568)\n",
        "\n",
        "soma_1 = 0\n",
        "for fac, digit in zip (factors_1, cpf):\n",
        "    soma_1 += fac * int(digit)\n",
        "    if soma_1 % 11 == 1 or soma_1 % 11==0:\n",
        "        dig_1 = 0\n",
        "    if soma_1 % 11 == 10:\n",
        "        dig_1 = 1\n",
        "    else:\n",
        "        dig_1 = soma_1 % 11\n",
        "\n",
        "soma_2 = 0\n",
        "for fac, digit in zip (factors_2, cpf+str(dig_1)):\n",
        "    soma_2 += fac * int(digit)\n",
        "    if soma_2 % 11 == 1 or soma_2 % 11==0:\n",
        "        dig_2 = 0\n",
        "    else:\n",
        "        dig_2 = soma_2 % 11\n",
        "\n",
        "\n",
        "dig_1, dig_2"
      ],
      "execution_count": 35,
      "outputs": [
        {
          "output_type": "execute_result",
          "data": {
            "text/plain": [
              "(1, 7)"
            ]
          },
          "metadata": {
            "tags": []
          },
          "execution_count": 35
        }
      ]
    },
    {
      "cell_type": "code",
      "metadata": {
        "colab": {
          "base_uri": "https://localhost:8080/",
          "height": 35
        },
        "id": "HKM9NNbYiVXD",
        "outputId": "8807b26a-07be-44d6-8650-599de2b8581d"
      },
      "source": [
        "cpf+str(dig_1)"
      ],
      "execution_count": 36,
      "outputs": [
        {
          "output_type": "execute_result",
          "data": {
            "application/vnd.google.colaboratory.intrinsic+json": {
              "type": "string"
            },
            "text/plain": [
              "'2269015681'"
            ]
          },
          "metadata": {
            "tags": []
          },
          "execution_count": 36
        }
      ]
    },
    {
      "cell_type": "code",
      "metadata": {
        "colab": {
          "base_uri": "https://localhost:8080/"
        },
        "id": "wUTWaAMCjAvU",
        "outputId": "78520719-43ad-46df-e761-fa0ecfd1e9f2"
      },
      "source": [
        "soma_1, soma_2"
      ],
      "execution_count": 28,
      "outputs": [
        {
          "output_type": "execute_result",
          "data": {
            "text/plain": [
              "(188, 229)"
            ]
          },
          "metadata": {
            "tags": []
          },
          "execution_count": 28
        }
      ]
    },
    {
      "cell_type": "code",
      "metadata": {
        "colab": {
          "base_uri": "https://localhost:8080/"
        },
        "id": "5j3gSCJOkl7c",
        "outputId": "d101f555-966d-4591-f485-a6caf16a3840"
      },
      "source": [
        "229%11"
      ],
      "execution_count": 29,
      "outputs": [
        {
          "output_type": "execute_result",
          "data": {
            "text/plain": [
              "9"
            ]
          },
          "metadata": {
            "tags": []
          },
          "execution_count": 29
        }
      ]
    },
    {
      "cell_type": "code",
      "metadata": {
        "id": "UU8xT8whk9MB"
      },
      "source": [
        ""
      ],
      "execution_count": null,
      "outputs": []
    }
  ]
}