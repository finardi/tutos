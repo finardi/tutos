{
  "cells": [
    {
      "cell_type": "markdown",
      "metadata": {
        "id": "view-in-github",
        "colab_type": "text"
      },
      "source": [
        "<a href=\"https://colab.research.google.com/github/finardi/tutos/blob/master/GPT2%20-%20RL(BERT)Feedback.ipynb\" target=\"_parent\"><img src=\"https://colab.research.google.com/assets/colab-badge.svg\" alt=\"Open In Colab\"/></a>"
      ]
    },
    {
      "cell_type": "markdown",
      "metadata": {
        "id": "Wf5CSeNiOYVN"
      },
      "source": [
        "<div style=\"text-align: center\">\n",
        "<img src='https://huggingface.co/datasets/trl-internal-testing/example-images/resolve/main/images/gpt2-ctrl-training-setup.png' width='600'>\n",
        "<p style=\"text-align: center;\"> <b>Figure:</b> Experiment setup to tune GPT2. The yellow arrows are outside the scope of this notebook, but the trained models are available through Hugging Face. </p>\n",
        "</div>\n",
        "\n",
        "\n",
        "In this notebook we fine-tune GPT2 (small) to generate positive movie reviews based on the IMDB dataset. The model gets the start of a real review and is tasked to produce positive continuations. To reward positive continuations we use a BERT classifier to analyse the sentiment of the produced sentences and use the classifier's outputs as rewards signals for PPO training."
      ]
    },
    {
      "cell_type": "markdown",
      "metadata": {
        "id": "GPDrBMJiOZ2B"
      },
      "source": [
        "### Import dependencies"
      ]
    },
    {
      "cell_type": "code",
      "execution_count": 1,
      "metadata": {
        "id": "wgKVcbG7OZ2C"
      },
      "outputs": [],
      "source": [
        "%load_ext autoreload\n",
        "%autoreload 2"
      ]
    },
    {
      "cell_type": "code",
      "execution_count": 2,
      "metadata": {
        "id": "lF1Leuq6OZ2D"
      },
      "outputs": [],
      "source": [
        "%pip install -q transformers trl wandb"
      ]
    },
    {
      "cell_type": "code",
      "execution_count": 3,
      "metadata": {
        "id": "fG0z0DsSOZ2E",
        "colab": {
          "base_uri": "https://localhost:8080/"
        },
        "outputId": "a5f7acaa-be4b-4209-9e30-71105f5dfeb3"
      },
      "outputs": [
        {
          "output_type": "stream",
          "name": "stdout",
          "text": [
            "Experimento deterministico, seed: 2711 -- Existe 1 GPU Tesla T4 disponível.\n"
          ]
        }
      ],
      "source": [
        "import torch\n",
        "from tqdm.auto import tqdm\n",
        "\n",
        "import gc\n",
        "\n",
        "from transformers import pipeline, AutoTokenizer\n",
        "from datasets import load_dataset\n",
        "\n",
        "from trl import PPOTrainer, PPOConfig, AutoModelForCausalLMWithValueHead\n",
        "\n",
        "\n",
        "device = torch.device(\"cuda\" if torch.cuda.is_available() else \"cpu\")\n",
        "\n",
        "MANUAL_SEED  = 2711\n",
        "def deterministic(rep=True):\n",
        "    torch.manual_seed(MANUAL_SEED)\n",
        "    if torch.cuda.is_available():\n",
        "            torch.cuda.manual_seed(MANUAL_SEED)\n",
        "            torch.cuda.manual_seed_all(MANUAL_SEED)\n",
        "            torch.backends.cudnn.enabled = False \n",
        "            torch.backends.cudnn.benchmark = False\n",
        "            torch.backends.cudnn.deterministic = True\n",
        "            print(f'Experimento deterministico, seed: {MANUAL_SEED} -- ', end = '')\n",
        "            print(f'Existe {torch.cuda.device_count()} GPU {torch.cuda.get_device_name(0)} disponível.')\n",
        "    else:\n",
        "        print('Device CPU')\n",
        "deterministic()        "
      ]
    },
    {
      "cell_type": "markdown",
      "metadata": {
        "id": "Eu00dpZjOZ2F"
      },
      "source": [
        "### Configuration"
      ]
    },
    {
      "cell_type": "code",
      "execution_count": 4,
      "metadata": {
        "id": "7CSGZY8POZ2F"
      },
      "outputs": [],
      "source": [
        "config = PPOConfig(\n",
        "    model_name='/content/drive/MyDrive/LLMs/ckpts/GPT_imdb',\n",
        "    learning_rate=1.41e-5,\n",
        "    log_with=\"wandb\",\n",
        "    batch_size=96,\n",
        "\n",
        ")\n",
        "\n",
        "# sent_pipeline\n",
        "sent_kwargs = {\n",
        "    \"return_all_scores\": True,\n",
        "    \"function_to_apply\": \"none\",\n",
        "    \"batch_size\": 12\n",
        "}\n",
        "\n",
        "model = AutoModelForCausalLMWithValueHead.from_pretrained(config.model_name)\n",
        "ref_model = AutoModelForCausalLMWithValueHead.from_pretrained(config.model_name)\n",
        "tokenizer = AutoTokenizer.from_pretrained(config.model_name)\n",
        "tokenizer.pad_token = tokenizer.eos_token"
      ]
    },
    {
      "cell_type": "code",
      "execution_count": 5,
      "metadata": {
        "colab": {
          "base_uri": "https://localhost:8080/",
          "height": 142
        },
        "id": "PKyeTlXlOZ2G",
        "outputId": "f42b12fe-6d10-466b-fd8b-41dd6cf6c118"
      },
      "outputs": [
        {
          "output_type": "stream",
          "name": "stderr",
          "text": [
            "\u001b[34m\u001b[1mwandb\u001b[0m: Currently logged in as: \u001b[33mpfinardi\u001b[0m. Use \u001b[1m`wandb login --relogin`\u001b[0m to force relogin\n"
          ]
        },
        {
          "output_type": "display_data",
          "data": {
            "text/plain": [
              "<IPython.core.display.HTML object>"
            ],
            "text/html": [
              "Tracking run with wandb version 0.14.0"
            ]
          },
          "metadata": {}
        },
        {
          "output_type": "display_data",
          "data": {
            "text/plain": [
              "<IPython.core.display.HTML object>"
            ],
            "text/html": [
              "Run data is saved locally in <code>/content/wandb/run-20230315_023338-0nfei1py</code>"
            ]
          },
          "metadata": {}
        },
        {
          "output_type": "display_data",
          "data": {
            "text/plain": [
              "<IPython.core.display.HTML object>"
            ],
            "text/html": [
              "Syncing run <strong><a href='https://wandb.ai/pfinardi/uncategorized/runs/0nfei1py' target=\"_blank\">fanciful-deluge-30</a></strong> to <a href='https://wandb.ai/pfinardi/uncategorized' target=\"_blank\">Weights & Biases</a> (<a href='https://wandb.me/run' target=\"_blank\">docs</a>)<br/>"
            ]
          },
          "metadata": {}
        },
        {
          "output_type": "display_data",
          "data": {
            "text/plain": [
              "<IPython.core.display.HTML object>"
            ],
            "text/html": [
              " View project at <a href='https://wandb.ai/pfinardi/uncategorized' target=\"_blank\">https://wandb.ai/pfinardi/uncategorized</a>"
            ]
          },
          "metadata": {}
        },
        {
          "output_type": "display_data",
          "data": {
            "text/plain": [
              "<IPython.core.display.HTML object>"
            ],
            "text/html": [
              " View run at <a href='https://wandb.ai/pfinardi/uncategorized/runs/0nfei1py' target=\"_blank\">https://wandb.ai/pfinardi/uncategorized/runs/0nfei1py</a>"
            ]
          },
          "metadata": {}
        },
        {
          "output_type": "execute_result",
          "data": {
            "text/html": [
              "<button onClick=\"this.nextSibling.style.display='block';this.style.display='none';\">Display W&B run</button><iframe src='https://wandb.ai/pfinardi/uncategorized/runs/0nfei1py?jupyter=true' style='border:none;width:100%;height:420px;display:none;'></iframe>"
            ],
            "text/plain": [
              "<wandb.sdk.wandb_run.Run at 0x7f7bf49d3d00>"
            ]
          },
          "metadata": {},
          "execution_count": 5
        }
      ],
      "source": [
        "import wandb\n",
        "wandb.init()"
      ]
    },
    {
      "cell_type": "markdown",
      "metadata": {
        "id": "tSUMOeUyOZ2G"
      },
      "source": [
        "You can see that we load a GPT2 model called `gpt2_imdb`. This model was additionally fine-tuned on the IMDB dataset for 1 epoch with the huggingface [script](https://github.com/huggingface/transformers/blob/master/examples/run_language_modeling.py) (no special settings). The other parameters are mostly taken from the original paper [\"Fine-Tuning Language Models from Human Preferences\"](\n",
        "https://arxiv.org/pdf/1909.08593.pdf). This model as well as the BERT model is available in the Huggingface model zoo [here](https://huggingface.co/models). The following code should automatically download the models."
      ]
    },
    {
      "cell_type": "markdown",
      "metadata": {
        "id": "tM_OTANwOZ2H"
      },
      "source": [
        "## Load data and models"
      ]
    },
    {
      "cell_type": "markdown",
      "metadata": {
        "id": "-TFrucY9OZ2H"
      },
      "source": [
        "### Load IMDB dataset\n",
        "The IMDB dataset contains 50k movie review annotated with \"positive\"/\"negative\" feedback indicating the sentiment.  We load the IMDB dataset into a DataFrame and filter for comments that are at least 200 characters. Then we tokenize each text and cut it to random size with the `LengthSampler`."
      ]
    },
    {
      "cell_type": "code",
      "execution_count": 6,
      "metadata": {
        "colab": {
          "base_uri": "https://localhost:8080/"
        },
        "id": "qsePQUz38ua3",
        "outputId": "e142438e-2c3e-4dd6-cda9-f7ca285fe018"
      },
      "outputs": [
        {
          "output_type": "stream",
          "name": "stderr",
          "text": [
            "WARNING:datasets.builder:Found cached dataset imdb_pt (/root/.cache/huggingface/datasets/maritaca-ai___imdb_pt/plain_text/1.0.0/93713e4fbbbd544d1c09fb6072e3d18fedd347bfc32206b4e2d98b27444ebd5a)\n",
            "WARNING:datasets.arrow_dataset:Loading cached processed dataset at /root/.cache/huggingface/datasets/maritaca-ai___imdb_pt/plain_text/1.0.0/93713e4fbbbd544d1c09fb6072e3d18fedd347bfc32206b4e2d98b27444ebd5a/cache-ad6f35e13c4e9e3d.arrow\n"
          ]
        },
        {
          "output_type": "execute_result",
          "data": {
            "text/plain": [
              "Dataset({\n",
              "    features: ['review', 'label'],\n",
              "    num_rows: 15428\n",
              "})"
            ]
          },
          "metadata": {},
          "execution_count": 6
        }
      ],
      "source": [
        "ds = load_dataset(\"maritaca-ai/imdb_pt\", split='train')\n",
        "ds = ds.rename_columns({'text': 'review'})\n",
        "ds = ds.filter(lambda x: (len(x[\"review\"].split())>30) and (len(x[\"review\"].split())<200))\n",
        "ds"
      ]
    },
    {
      "cell_type": "code",
      "source": [
        "def create_query(sample, n_words=4):\n",
        "    sample[\"input_ids\"] = tokenizer.encode((' ').join(sample[\"review\"].split()[:n_words]))\n",
        "    sample[\"query\"] = tokenizer.decode(sample[\"input_ids\"])\n",
        "    return sample\n",
        "\n",
        "def collator(data):\n",
        "    # toma as keys em data[0]: review, label, input_ids, query\n",
        "    # para cada key em todo data cria os objetos key [lista de elel]\n",
        "    return dict((key, [d[key] for d in data]) for key in data[0])    \n",
        "\n",
        "\n",
        "data = ds.map(create_query, batched=False)\n",
        "data = data.filter(lambda x: len(x[\"input_ids\"])<10)\n",
        "data = data.remove_columns([\"review\"])\n",
        "\n",
        "data.set_format(type='torch', output_all_columns=True)\n",
        "data"
      ],
      "metadata": {
        "colab": {
          "base_uri": "https://localhost:8080/"
        },
        "id": "ZJK1O0ojwTZg",
        "outputId": "9e25de95-b668-4a38-88cb-c08b3f53b95a"
      },
      "execution_count": 7,
      "outputs": [
        {
          "output_type": "stream",
          "name": "stderr",
          "text": [
            "WARNING:datasets.arrow_dataset:Loading cached processed dataset at /root/.cache/huggingface/datasets/maritaca-ai___imdb_pt/plain_text/1.0.0/93713e4fbbbd544d1c09fb6072e3d18fedd347bfc32206b4e2d98b27444ebd5a/cache-1ec6d91bb2e8a800.arrow\n",
            "WARNING:datasets.arrow_dataset:Loading cached processed dataset at /root/.cache/huggingface/datasets/maritaca-ai___imdb_pt/plain_text/1.0.0/93713e4fbbbd544d1c09fb6072e3d18fedd347bfc32206b4e2d98b27444ebd5a/cache-830219889f333a18.arrow\n"
          ]
        },
        {
          "output_type": "execute_result",
          "data": {
            "text/plain": [
              "Dataset({\n",
              "    features: ['label', 'input_ids', 'query'],\n",
              "    num_rows: 12205\n",
              "})"
            ]
          },
          "metadata": {},
          "execution_count": 7
        }
      ]
    },
    {
      "cell_type": "code",
      "source": [
        "data[0]"
      ],
      "metadata": {
        "colab": {
          "base_uri": "https://localhost:8080/"
        },
        "id": "rok6d0Rc1f2X",
        "outputId": "0ce320e6-e942-49f5-9b29-16429736b35b"
      },
      "execution_count": 8,
      "outputs": [
        {
          "output_type": "execute_result",
          "data": {
            "text/plain": [
              "{'label': tensor(0),\n",
              " 'input_ids': tensor([ 4653,  2471,   268,   292, 31215,   819,  7940]),\n",
              " 'query': 'Se apenas para evitar'}"
            ]
          },
          "metadata": {},
          "execution_count": 8
        }
      ]
    },
    {
      "cell_type": "code",
      "source": [
        "ppo_trainer = PPOTrainer(config, model, ref_model, tokenizer, dataset=data, data_collator=collator)"
      ],
      "metadata": {
        "colab": {
          "base_uri": "https://localhost:8080/",
          "height": 272,
          "referenced_widgets": [
            "cc60c5b0e15b407084bea335225779e8",
            "99bc4b93d3544ed89dc37143a6d1c2e2",
            "b00fbc6a55724f7d86f71028c4100a74",
            "925471d93fe945fe97cbad31b42251a6",
            "0421c208180f4d2a82b4707accdb047e",
            "19ff583b4d1b4842bcb1d3246edd80b1",
            "3e1c1e3d47484eefb611d3dd4f46e0e1",
            "4e85040716a142f39c6beddf3d72c4cf"
          ]
        },
        "id": "MJpor1hWydg-",
        "outputId": "4ead3b2b-867b-4673-dc61-82d7298a4ec1"
      },
      "execution_count": 9,
      "outputs": [
        {
          "output_type": "display_data",
          "data": {
            "text/plain": [
              "<IPython.core.display.HTML object>"
            ],
            "text/html": [
              "Finishing last run (ID:0nfei1py) before initializing another..."
            ]
          },
          "metadata": {}
        },
        {
          "output_type": "display_data",
          "data": {
            "text/plain": [
              "<IPython.core.display.HTML object>"
            ],
            "text/html": [
              "Waiting for W&B process to finish... <strong style=\"color:green\">(success).</strong>"
            ]
          },
          "metadata": {}
        },
        {
          "output_type": "display_data",
          "data": {
            "text/plain": [
              "VBox(children=(Label(value='0.001 MB of 0.001 MB uploaded (0.000 MB deduped)\\r'), FloatProgress(value=1.0, max…"
            ],
            "application/vnd.jupyter.widget-view+json": {
              "version_major": 2,
              "version_minor": 0,
              "model_id": "cc60c5b0e15b407084bea335225779e8"
            }
          },
          "metadata": {}
        },
        {
          "output_type": "display_data",
          "data": {
            "text/plain": [
              "<IPython.core.display.HTML object>"
            ],
            "text/html": [
              " View run <strong style=\"color:#cdcd00\">fanciful-deluge-30</strong> at: <a href='https://wandb.ai/pfinardi/uncategorized/runs/0nfei1py' target=\"_blank\">https://wandb.ai/pfinardi/uncategorized/runs/0nfei1py</a><br/>Synced 5 W&B file(s), 0 media file(s), 0 artifact file(s) and 0 other file(s)"
            ]
          },
          "metadata": {}
        },
        {
          "output_type": "display_data",
          "data": {
            "text/plain": [
              "<IPython.core.display.HTML object>"
            ],
            "text/html": [
              "Find logs at: <code>./wandb/run-20230315_023338-0nfei1py/logs</code>"
            ]
          },
          "metadata": {}
        },
        {
          "output_type": "display_data",
          "data": {
            "text/plain": [
              "<IPython.core.display.HTML object>"
            ],
            "text/html": [
              "Successfully finished last run (ID:0nfei1py). Initializing new run:<br/>"
            ]
          },
          "metadata": {}
        },
        {
          "output_type": "display_data",
          "data": {
            "text/plain": [
              "<IPython.core.display.HTML object>"
            ],
            "text/html": [
              "Tracking run with wandb version 0.14.0"
            ]
          },
          "metadata": {}
        },
        {
          "output_type": "display_data",
          "data": {
            "text/plain": [
              "<IPython.core.display.HTML object>"
            ],
            "text/html": [
              "Run data is saved locally in <code>/content/wandb/run-20230315_023343-qc3xysni</code>"
            ]
          },
          "metadata": {}
        },
        {
          "output_type": "display_data",
          "data": {
            "text/plain": [
              "<IPython.core.display.HTML object>"
            ],
            "text/html": [
              "Syncing run <strong><a href='https://wandb.ai/pfinardi/trl/runs/qc3xysni' target=\"_blank\">youthful-sunset-27</a></strong> to <a href='https://wandb.ai/pfinardi/trl' target=\"_blank\">Weights & Biases</a> (<a href='https://wandb.me/run' target=\"_blank\">docs</a>)<br/>"
            ]
          },
          "metadata": {}
        },
        {
          "output_type": "display_data",
          "data": {
            "text/plain": [
              "<IPython.core.display.HTML object>"
            ],
            "text/html": [
              " View project at <a href='https://wandb.ai/pfinardi/trl' target=\"_blank\">https://wandb.ai/pfinardi/trl</a>"
            ]
          },
          "metadata": {}
        },
        {
          "output_type": "display_data",
          "data": {
            "text/plain": [
              "<IPython.core.display.HTML object>"
            ],
            "text/html": [
              " View run at <a href='https://wandb.ai/pfinardi/trl/runs/qc3xysni' target=\"_blank\">https://wandb.ai/pfinardi/trl/runs/qc3xysni</a>"
            ]
          },
          "metadata": {}
        }
      ]
    },
    {
      "cell_type": "code",
      "source": [
        "batch = next(iter(ppo_trainer.dataloader))\n",
        "print(batch.keys())\n",
        "print(len(batch['label']))\n",
        "# batch['input_ids']"
      ],
      "metadata": {
        "colab": {
          "base_uri": "https://localhost:8080/"
        },
        "id": "Jekcg50mz3ex",
        "outputId": "db4a8be6-ad73-46d1-fa0a-af964bfb5494"
      },
      "execution_count": 10,
      "outputs": [
        {
          "output_type": "stream",
          "name": "stdout",
          "text": [
            "dict_keys(['label', 'input_ids', 'query'])\n",
            "96\n"
          ]
        }
      ]
    },
    {
      "cell_type": "markdown",
      "metadata": {
        "id": "P_KnGwVYOZ2L"
      },
      "source": [
        "### Load BERT classifier\n",
        "We load a BERT classifier fine-tuned on the IMDB dataset."
      ]
    },
    {
      "cell_type": "code",
      "execution_count": 11,
      "metadata": {
        "id": "gpddQEk7OZ2M"
      },
      "outputs": [],
      "source": [
        "if ppo_trainer.accelerator.num_processes == 1:\n",
        "   device = 0 if torch.cuda.is_available() else \"cpu\" # to avoid a `pipeline` bug\n",
        "\n",
        "sentiment_pipe = pipeline(\"sentiment-analysis\", model=\"/content/drive/MyDrive/LLMs/ckpts/BERT_imdb/\", device=device)"
      ]
    },
    {
      "cell_type": "markdown",
      "metadata": {
        "id": "NHTmCdV4OZ2M"
      },
      "source": [
        "The model outputs are the logits for the negative and positive class. We will use the logits for positive class as a reward signal for the language model."
      ]
    },
    {
      "cell_type": "code",
      "execution_count": 12,
      "metadata": {
        "colab": {
          "base_uri": "https://localhost:8080/"
        },
        "id": "5oWNrAox9SDp",
        "outputId": "6d1c2a72-3e02-49c2-ffff-5192ddd1b305"
      },
      "outputs": [
        {
          "output_type": "stream",
          "name": "stderr",
          "text": [
            "/usr/local/lib/python3.9/dist-packages/transformers/pipelines/text_classification.py:104: UserWarning: `return_all_scores` is now deprecated,  if want a similar funcionality use `top_k=None` instead of `return_all_scores=True` or `top_k=1` instead of `return_all_scores=False`.\n",
            "  warnings.warn(\n"
          ]
        },
        {
          "output_type": "execute_result",
          "data": {
            "text/plain": [
              "[[{'label': 'LABEL_0', 'score': 3.0385935306549072},\n",
              "  {'label': 'LABEL_1', 'score': -3.26000714302063}]]"
            ]
          },
          "metadata": {},
          "execution_count": 12
        }
      ],
      "source": [
        "text = 'Esse filme foi ruim!!'\n",
        "sentiment_pipe(text, **sent_kwargs)"
      ]
    },
    {
      "cell_type": "code",
      "execution_count": 13,
      "metadata": {
        "colab": {
          "base_uri": "https://localhost:8080/"
        },
        "id": "MkS6-jeV9SDq",
        "outputId": "b5beba6e-1f85-4802-e39a-73ec36545319"
      },
      "outputs": [
        {
          "output_type": "execute_result",
          "data": {
            "text/plain": [
              "[[{'label': 'LABEL_0', 'score': -2.3053135871887207},\n",
              "  {'label': 'LABEL_1', 'score': 2.1447975635528564}]]"
            ]
          },
          "metadata": {},
          "execution_count": 13
        }
      ],
      "source": [
        "text = 'Esse filme foi bom!!'\n",
        "sentiment_pipe(text, **sent_kwargs)"
      ]
    },
    {
      "cell_type": "markdown",
      "metadata": {
        "id": "kyt3T48qOZ2N"
      },
      "source": [
        "### Generation settings\n",
        "For the response generation we just use sampling and make sure top-k and nucleus sampling are turned off as well as a minimal length."
      ]
    },
    {
      "cell_type": "code",
      "execution_count": 14,
      "metadata": {
        "id": "vQxTgAJwOZ2N"
      },
      "outputs": [],
      "source": [
        "gen_kwargs = {\n",
        "    \"min_length\":-1,\n",
        "    \"top_k\": 0.0,\n",
        "    \"top_p\": 1.0,\n",
        "    \"do_sample\": True,\n",
        "    \"pad_token_id\": tokenizer.eos_token_id\n",
        "}"
      ]
    },
    {
      "cell_type": "markdown",
      "metadata": {
        "id": "XCzdOPcjOZ2N"
      },
      "source": [
        "## Optimize model"
      ]
    },
    {
      "cell_type": "markdown",
      "metadata": {
        "id": "0W41pVo9OZ2N"
      },
      "source": [
        "### Training loop"
      ]
    },
    {
      "cell_type": "markdown",
      "metadata": {
        "id": "i4rWtG6_OZ2N"
      },
      "source": [
        "The training loop consists of the following main steps:\n",
        "1. Get the query responses from the policy network (GPT-2)\n",
        "2. Get sentiments for query/responses from BERT\n",
        "3. Optimize policy with PPO using the (query, response, reward) triplet\n",
        "\n",
        "**Training time**\n",
        "\n",
        "This step takes **~2h** on a V100 GPU with the above specified settings."
      ]
    },
    {
      "cell_type": "code",
      "execution_count": 15,
      "metadata": {
        "colab": {
          "base_uri": "https://localhost:8080/",
          "height": 1000,
          "referenced_widgets": [
            "b409d9acb3474ae1b5076c482a088e4b",
            "59f52107653a46979e4bb092f02d5dac",
            "3ccff80161a34fc2ab2e340eef6a70c1",
            "1a77ada8d187467a9fd6eafedecb7505",
            "2f188eec42ff4b049e9eeee849dd824f",
            "41f3fc612d2145fbba37a20ccd151c83",
            "d6c17ef046c2499da27e7f750534ff05",
            "ab3dfad06a364d4598b9ae3d0df03914",
            "b081c2123a80499d9aedd576c0e9856f",
            "ef350441e78d439486d39da939400f27",
            "64c43d68ba28459f9e29f362b2968760"
          ]
        },
        "id": "40kx__nDOZ2N",
        "outputId": "a7463ff3-70c5-4fd1-d472-b8112d4725ea"
      },
      "outputs": [
        {
          "output_type": "display_data",
          "data": {
            "text/plain": [
              "  0%|          | 0/127 [00:00<?, ?it/s]"
            ],
            "application/vnd.jupyter.widget-view+json": {
              "version_major": 2,
              "version_minor": 0,
              "model_id": "b409d9acb3474ae1b5076c482a088e4b"
            }
          },
          "metadata": {}
        },
        {
          "output_type": "stream",
          "name": "stderr",
          "text": [
            "You're using a GPT2TokenizerFast tokenizer. Please note that with a fast tokenizer, using the `__call__` method is faster than using a method to encode the text followed by a call to the `pad` method to get a padded encoding.\n"
          ]
        },
        {
          "output_type": "stream",
          "name": "stdout",
          "text": [
            "step 0 -- mean_reward: (-0.28) -- decoding 5 rand samples:\n",
            "\t0: Este filme é uma                    ->  comédia, talvez o filme mais                      -- Reward: 2.85                                    \n",
            "\t1: O que você espera                   ->  deste filme é um palantar medíocre                -- Reward: -2.33                                   \n",
            "\t2: Receio ter que discordar            ->  de muitas outras classificaçõ                     -- Reward: -0.105                                  \n",
            "\t3: Como sempre, fui assistir           ->  Bloody Petty (filme the Sickest Movie) quando     -- Reward: -1.3                                    \n",
            "\t4: A atuação é uma                     ->  obrigação típica de uma                           -- Reward: -0.12                                   \n",
            "\n",
            "step 1 -- mean_reward: (-0.295) -- decoding 5 rand samples:\n",
            "\t0: Eu me deparei com                   ->  este filme quando assisti ao trailer deste        -- Reward: 0.854                                   \n",
            "\t1: Eu só assisti a                     ->  este filme ridiculamente emocionante sem          -- Reward: -0.65                                   \n",
            "\t2: Stefan é um X-Con                   ->  \"pulso do período 2: Scar Bras                    -- Reward: -1.55                                   \n",
            "\t3: O olhar intransigente em            ->  torno do poderoso Timothy Dalton nunca foi        -- Reward: 2.32                                    \n",
            "\t4: Sempre que um filme                 ->  pode ter um histórico ou uma                      -- Reward: 0.351                                   \n",
            "\n",
            "step 2 -- mean_reward: (-0.0139) -- decoding 5 rand samples:\n",
            "\t0: Que bagunça confusa. Eu             ->  tinha muitas expectativas durante minha           -- Reward: -3.09                                   \n",
            "\t1: Adorei este filme e                 -> , enquanto estava na Antuérpia,                    -- Reward: 3.04                                    \n",
            "\t2: Eu vi este filme                    ->  antes de verSimon e Garbo e tornece               -- Reward: -1.61                                   \n",
            "\t3: O produtor Joel Schumacher,         ->  então com 21 anos, comprou junto com              -- Reward: 1.01                                    \n",
            "\t4: Como este filme foi                 ->  na mente, acho que deveria ter al                 -- Reward: -3.08                                   \n",
            "\n",
            "step 3 -- mean_reward: (-0.262) -- decoding 5 rand samples:\n",
            "\t0: Embora este não seja                ->  um bom filme, o filme é refrescante               -- Reward: -0.863                                  \n",
            "\t1: Este filme foi um                   ->  pouco agitado. Eu pensei                          -- Reward: -1.21                                   \n",
            "\t2: O inventor Wayne Szalinsky          ->  escreveu uma história impecável                   -- Reward: 2.26                                    \n",
            "\t3: Em seu primeiro papel               ->  nas \"aurorais\", Brad Pitt em sua vast             -- Reward: 1.13                                    \n",
            "\t4: Não acredito que a                  ->  maioria das pessoas odeie                         -- Reward: -0.392                                  \n",
            "\n",
            "step 4 -- mean_reward: (-0.338) -- decoding 5 rand samples:\n",
            "\t0: Eu estava esperando um              ->  filme, valeu a 1, mas nada                        -- Reward: -2.48                                   \n",
            "\t1: Um olhar diferente sobre            ->  John Boorman é levado para trás, de assist        -- Reward: 2.38                                    \n",
            "\t2: Sem dúvida, Frank Sinatra           ->  fez este ter sido um ótimo document               -- Reward: 0.845                                   \n",
            "\t3: Se filmes como Ghoulies             ->  estão indo. Como este é uma visão                 -- Reward: -1.95                                   \n",
            "\t4: Cusack faz o seu                    ->  melhor com dezenove vezes de cor para c           -- Reward: 1.48                                    \n",
            "\n",
            "step 5 -- mean_reward: (-0.345) -- decoding 5 rand samples:\n",
            "\t0: Este filme é tão                    ->  ruim, é horrivelmente ruim e                      -- Reward: -3.29                                   \n",
            "\t1: Este é um documentário              ->  excelente de quase todas as maneir                -- Reward: 3.14                                    \n",
            "\t2: Há muito o problema                 ->  com este filme de Hollywood depois de ser movido  -- Reward: -1.64                                   \n",
            "\t3: Primeiro de tudo, como              ->  já disse para Ariel e Vanesa, os cine             -- Reward: 0.494                                   \n",
            "\t4: Carlos Mencia foi excelente,        ->  absolutamente impressionante. Veja bem            -- Reward: 1.65                                    \n",
            "\n",
            "step 6 -- mean_reward: (-0.0839) -- decoding 5 rand samples:\n",
            "\t0: de assistir isso quando             ->  ele está sendo oferecido por sua                  -- Reward: -1.83                                   \n",
            "\t1: A direção por trás                  ->  de Pat Morita também tem alguns rec               -- Reward: -1.18                                   \n",
            "\t2: Eu descobri este filme              ->  no outono de 2006 e leu \"Doc Bookrence            -- Reward: 1.13                                    \n",
            "\t3: Este fim de semana                  ->  do matin às 10:30 da manhã                        -- Reward: -0.698                                  \n",
            "\t4: Esse show é doloroso                ->  que eu cheguei às vésperas                        -- Reward: -2.43                                   \n",
            "\n",
            "step 7 -- mean_reward: (-0.212) -- decoding 5 rand samples:\n",
            "\t0: A entrega de algumas                ->  das características que delicamente o             -- Reward: 2.21                                    \n",
            "\t1: Eu vi o filme                       ->  quando criança e achei uma bob                    -- Reward: 1.5                                     \n",
            "\t2: Se você quiser conferir             ->  um show inteiro de grau C com aquel               -- Reward: -0.0901                                 \n",
            "\t3: Este filme foi uma                  ->  altura de jantar para pelo menos qual             -- Reward: -1.05                                   \n",
            "\t4: Já houve um filme                   ->  acidentalmente perturbado que seria inte          -- Reward: -2.61                                   \n",
            "\n"
          ]
        },
        {
          "output_type": "stream",
          "name": "stderr",
          "text": [
            "/usr/local/lib/python3.9/dist-packages/transformers/pipelines/base.py:1045: UserWarning: You seem to be using the pipelines sequentially on GPU. In order to maximize efficiency please use a dataset\n",
            "  warnings.warn(\n"
          ]
        },
        {
          "output_type": "stream",
          "name": "stdout",
          "text": [
            "step 8 -- mean_reward: (-0.325) -- decoding 5 rand samples:\n",
            "\t0: Se a sua idéia                      ->  de que todo personagem infantil que não           -- Reward: -0.447                                  \n",
            "\t1: É difícil acreditar que             ->  este filme é um dos mais extensos e               -- Reward: -0.411                                  \n",
            "\t2: Ok, então eu entendi.               ->  É bastante tarde, mas... francamente,             -- Reward: -1.29                                   \n",
            "\t3: Citizen X conta ao                  ->  cidadão geneticamente deficiente D cometendo c    -- Reward: -0.745                                  \n",
            "\t4: Eu vi esse filme                    ->  dizendo que era o filme mais engra                -- Reward: 0.251                                   \n",
            "\n",
            "step 9 -- mean_reward: (-0.278) -- decoding 5 rand samples:\n",
            "\t0: Eu estava preocupado que            ->  havia sacos caminhando em todo o                  -- Reward: -0.849                                  \n",
            "\t1: Fido é uma história                 ->  na tela grande de Sam Puzo. Tent                  -- Reward: 0.3                                     \n",
            "\t2: Bem, devo dizer que                 ->  esse é o filme;Na prática                         -- Reward: 1.17                                    \n",
            "\t3: Este filme tem tão                  ->  sentimental nem atmosfera descaradamente int      -- Reward: -1.78                                   \n",
            "\t4: Este filme é muito                  ->  ruim. Concordo que ninguém tinha                  -- Reward: -3.46                                   \n",
            "\n",
            "step 10 -- mean_reward: (-0.0762) -- decoding 5 rand samples:\n",
            "\t0: Filme excelente sem diálogo         ->  de diabo nem bons atores nem poucos               -- Reward: -0.742                                  \n",
            "\t1: Este foi de longe                   ->  o sufhiro antes de Shoguang.                      -- Reward: -0.22                                   \n",
            "\t2: Se você gosta de                    ->  filmes de propaganda sombria, como o massacre     -- Reward: -0.373                                  \n",
            "\t3: Para impedir que seu                ->  nome combine com a magia de um dos artist         -- Reward: -2.22                                   \n",
            "\t4: Olha, não há nada                   ->  diferente aqui, teria que parar                   -- Reward: -1.44                                   \n",
            "\n",
            "step 11 -- mean_reward: (-0.21) -- decoding 5 rand samples:\n",
            "\t0: Este filme ganhou cada              ->  2 estrelas. Recebeu 2 indicaç                     -- Reward: 0.453                                   \n",
            "\t1: Neste filme de 1943,                ->  em qualquer cultura de Battlesti, tive            -- Reward: -0.374                                  \n",
            "\t2: Este é o único                      ->  filme que já vi nos 100 melhores dos              -- Reward: -1.45                                   \n",
            "\t3: Um filme doce e                     ->  idealizador. Na verdade, o cri                    -- Reward: 2.13                                    \n",
            "\t4: Este filme parecia ser              ->  o caminho para as reações                         -- Reward: -2.49                                   \n",
            "\n",
            "step 12 -- mean_reward: (-0.106) -- decoding 5 rand samples:\n",
            "\t0: Não posso dizer se                  ->  estivesse em desuso, sim, catalis                 -- Reward: 0.0594                                  \n",
            "\t1: Este é um fio                       ->  redentor do nascimento e ningué                   -- Reward: -1.12                                   \n",
            "\t2: OK. Eu sei que                      ->  foi o filme mais assustador da ang                -- Reward: -1.91                                   \n",
            "\t3: Este é um grande                    ->  teste de qualquer pesadelo do Tínham              -- Reward: -0.402                                  \n",
            "\t4: Esta parcela faz com                ->  que só o Império Classico nas noites              -- Reward: -0.203                                  \n",
            "\n",
            "step 13 -- mean_reward: (-0.136) -- decoding 5 rand samples:\n",
            "\t0: Foi lançado na França               ->  com um DVD de 2 horas, ninguém                    -- Reward: 0.933                                   \n",
            "\t1: Não consigo descobrir quem          ->  é este filme, mas apoiará menos                   -- Reward: -1.36                                   \n",
            "\t2: O filme original, Man               -> os nã! é um filme hilário                          -- Reward: -1.99                                   \n",
            "\t3: Como você pode errar                ->  com um soletrado de cem linhas de                 -- Reward: -1.26                                   \n",
            "\t4: \"Algie, The Miner\" é                ->  um dos melhores filmes Cillian para lhe           -- Reward: 2.39                                    \n",
            "\n",
            "step 14 -- mean_reward: (0.0383) -- decoding 5 rand samples:\n",
            "\t0: Meu amigo comprou o                 ->  DVD do Gov. Yasu Katsu em 1979 com is             -- Reward: -0.744                                  \n",
            "\t1: De vez em quando,                   ->  o herói imortal e su Desi Arnaz                   -- Reward: 1.26                                    \n",
            "\t2: Comparar essa miséria com           -> o um diário: a polícia branca                      -- Reward: -0.589                                  \n",
            "\t3: .... Depois de 16                   ->  anos de muitos votos, coroou                      -- Reward: 0.106                                   \n",
            "\t4: Este é provavelmente o              ->  filme mais legítimo que já vi                     -- Reward: -0.386                                  \n",
            "\n",
            "step 15 -- mean_reward: (0.0769) -- decoding 5 rand samples:\n",
            "\t0: O nome apenas diz                   ->  respeito do esportivo: camarão,                   -- Reward: 0.0751                                  \n",
            "\t1: De alguma forma, eles               ->  parecem apresentar os 15. Eu                      -- Reward: -0.978                                  \n",
            "\t2: Este filme é uma                    ->  grande emoção em relação a                        -- Reward: 2.68                                    \n",
            "\t3: Sem lixo - não                      ->  é uma criança em que pode ver.                    -- Reward: -0.474                                  \n",
            "\t4: Este é definitivamente um           ->  dos melhores shows de todos os tempos.            -- Reward: 2.31                                    \n",
            "\n",
            "step 16 -- mean_reward: (0.107) -- decoding 5 rand samples:\n",
            "\t0: Este é apenas um                    ->  dos ótimos musicais da Ásia                       -- Reward: 2.63                                    \n",
            "\t1: \"Broken Bow\" nos leva               ->  você ao sucesso de Hollywood e um dos             -- Reward: 2.35                                    \n",
            "\t2: Este é um dos                       ->  meus favoritos do time do beisebol.               -- Reward: 1.79                                    \n",
            "\t3: Uma excelente interpretação do      ->  filme do ano em sons da cultura art dé            -- Reward: 2.67                                    \n",
            "\t4: Os assassinatos estão ocorrendo     ->  no sul da Nigéria desde 1971. Embora              -- Reward: 0.58                                    \n",
            "\n",
            "step 17 -- mean_reward: (0.394) -- decoding 5 rand samples:\n",
            "\t0: Eu pensei que o                     ->  filme estava me explicando imediatament           -- Reward: -1.91                                   \n",
            "\t1: Depois de revisar esse              ->  imprecisão tarde na noite da casa                 -- Reward: -2.27                                   \n",
            "\t2: Houve momentos durante o            ->  show quando Harriet se apaixonou, e qu            -- Reward: 0.454                                   \n",
            "\t3: Os Muppets de Jim                   ->  Carpe de Sam Rock são um grupo de be              -- Reward: -0.692                                  \n",
            "\t4: Aluguei e assistiu a                ->  este filme ontem. Desenhado com uma               -- Reward: -0.874                                  \n",
            "\n",
            "step 18 -- mean_reward: (-0.0347) -- decoding 5 rand samples:\n",
            "\t0: Perdi os 10 primeiros               ->  10 minutos de filmes e achei uma                  -- Reward: -2.93                                   \n",
            "\t1: Na verdade, paguei para             ->  Miami e nos dias em que esperavam ser             -- Reward: -0.609                                  \n",
            "\t2: Outro daqueles filmes que           ->  vale um 4 em cinco, este filme                    -- Reward: 0.86                                    \n",
            "\t3: Eu vi este filme                    ->  na TV na Austrália em 1999, quando                -- Reward: 1.43                                    \n",
            "\t4: Estou cansado de pessoas            ->  denunciarem ostensivamente os ó                   -- Reward: -0.92                                   \n",
            "\n",
            "step 19 -- mean_reward: (0.344) -- decoding 5 rand samples:\n",
            "\t0: Com base na recomendação            ->  papal de Otto Preminger para relatar de \"         -- Reward: 0.0609                                  \n",
            "\t1: Eu li sobre este                    ->  filme em uma biblioteca da faculd                 -- Reward: -0.893                                  \n",
            "\t2: Este filme realmente merece         ->  apreciar em todos os melhores performances que    -- Reward: 2.68                                    \n",
            "\t3: É tão raro encontrar                ->  crianças fazendo treinamentos de                  -- Reward: 0.708                                   \n",
            "\t4: A excelente qualidade da            ->  produção deste filme de 35 mm na Nor              -- Reward: 1.79                                    \n",
            "\n",
            "step 20 -- mean_reward: (0.219) -- decoding 5 rand samples:\n",
            "\t0: Uau, este filme sugou               ->  que meu avô fez um dos maiores                    -- Reward: -2.82                                   \n",
            "\t1: Este tem que ser                    ->  um dos piores filmes já feitos.                   -- Reward: -3.39                                   \n",
            "\t2: Minha parte favorita foi            ->  Amy Adams quando criança. O trabalho              -- Reward: 1.98                                    \n",
            "\t3: Body Slam (1987) é                  ->  um filme lírico sobre um homem                    -- Reward: 1.69                                    \n",
            "\t4: Acabei de terminar este             ->  filme em mim, tendo falhado sobre                 -- Reward: -2.09                                   \n",
            "\n",
            "step 21 -- mean_reward: (0.0918) -- decoding 5 rand samples:\n",
            "\t0: Eu vi uma exibição                  ->  no Reino Unido em Londres de 1986,                -- Reward: 0.355                                   \n",
            "\t1: Para pedir emprestado a             -> o filme inteir (veja este pedido                   -- Reward: -1.62                                   \n",
            "\t2: Este não é o                        ->  melhor dos melhores filhos de Johnny Weiss        -- Reward: 2.08                                    \n",
            "\t3: Eu amo este filme,                  ->  considerando filmes como o'velho tipo             -- Reward: 2.84                                    \n",
            "\t4: O filme é muito                     ->  desviado como uma peça de filme                   -- Reward: -2.4                                    \n",
            "\n",
            "step 22 -- mean_reward: (0.0685) -- decoding 5 rand samples:\n",
            "\t0: Cinco anos depois dos               ->  filmes de Govaz de Harilal, que fo                -- Reward: 0.31                                    \n",
            "\t1: Eu dei a este                       ->  filme um dos piores filmes que já vi              -- Reward: -3.46                                   \n",
            "\t2: Paul Reiser é uma                   ->  das personalidades do cinema duplo mais popul     -- Reward: 1.65                                    \n",
            "\t3: Tive o privilégio de                ->  ver este filme em um teatro na Flór               -- Reward: 1.84                                    \n",
            "\t4: Esta é uma tentativa,               ->  no papel de Viennois, de gostar                   -- Reward: -2.4                                    \n",
            "\n",
            "step 23 -- mean_reward: (0.168) -- decoding 5 rand samples:\n",
            "\t0: Não há necessidade de               ->  agradecer ao povo nos setores de su               -- Reward: -1.74                                   \n",
            "\t1: Prova de que nem                    ->  a chave do show é no UNEMAN. Es                   -- Reward: -2.42                                   \n",
            "\t2: Este é um dos                       ->  melhores locais da Amazônia. Dest                 -- Reward: 1.79                                    \n",
            "\t3: A história é bastante               ->  robusta, a história da série c                    -- Reward: 1.47                                    \n",
            "\t4: Achei este filme chato,             ->  o eletrônico e subestimado                        -- Reward: -3.1                                    \n",
            "\n",
            "step 24 -- mean_reward: (0.154) -- decoding 5 rand samples:\n",
            "\t0: Um dos slashers mais                ->  narcotraficantes do mundo hoje, o                 -- Reward: -0.963                                  \n",
            "\t1: O pior filme que                    ->  já vi do teatro do ano. Uma                       -- Reward: -3.37                                   \n",
            "\t2: O The Invaders é                    ->  um filme japonês de estimação                     -- Reward: 0.677                                   \n",
            "\t3: Jim Belushi está tendo              ->  desenvolvido caminhos desde m                     -- Reward: 0.987                                   \n",
            "\t4: Meu filme favorito do               ->  meu tempo. Meus 34 anos vendo est                 -- Reward: 1.72                                    \n",
            "\n",
            "step 25 -- mean_reward: (0.122) -- decoding 5 rand samples:\n",
            "\t0: Não me interpretem mal,             ->  mas é um filme, inovador e um excel               -- Reward: 2.74                                    \n",
            "\t1: O número de vezes                   ->  que vi o filme foi um dos 12 primei               -- Reward: 0.141                                   \n",
            "\t2: Acabei de ver os                    ->  filmes de Walsh dos anos 80 e só pos              -- Reward: -0.0283                                 \n",
            "\t3: Eu sempre senti que                 ->  razão pela qualidade de Mike está                 -- Reward: -0.07                                   \n",
            "\t4: Este Hearkens de volta              ->  para crescer...... este filme é uma               -- Reward: 1.23                                    \n",
            "\n",
            "step 26 -- mean_reward: (0.392) -- decoding 5 rand samples:\n",
            "\t0: Este filme é uma                    ->  das melhores imagens e vê todos                   -- Reward: 2.96                                    \n",
            "\t1: Depois de assistir isso,            ->  este filme estar muito aterrorizado               -- Reward: -1.84                                   \n",
            "\t2: Eu vi o Big                         ->  Brother em 2001, na Noruega, quando e             -- Reward: 0.455                                   \n",
            "\t3: Eu vi isso pela                     ->  primeira vez na Virgin, em 1937 ainda era         -- Reward: 1.14                                    \n",
            "\t4: Eu peguei isso em                   ->  uma exibição em Nova Orleans, onde                -- Reward: 1.52                                    \n",
            "\n",
            "step 27 -- mean_reward: (-0.0657) -- decoding 5 rand samples:\n",
            "\t0: Coloque a culpa do                  ->  escritor e diretor da capa da capa                -- Reward: -2.14                                   \n",
            "\t1: Não vi nenhum dos                   ->  filmes onde sim, mas, mas é justific              -- Reward: -1.35                                   \n",
            "\t2: Não me lembro quando                ->  a maioria de tudo está na a ma                    -- Reward: 0.595                                   \n",
            "\t3: Vi isso na TV.                      ->  Vi o filme no canal há cerca de                   -- Reward: 1.33                                    \n",
            "\t4: A peça de Leslie                    ->  Brooks dá um assunto de emergênc                  -- Reward: 0.554                                   \n",
            "\n",
            "step 28 -- mean_reward: (0.443) -- decoding 5 rand samples:\n",
            "\t0: Um filme fabuloso. Com              ->  construções de cinema absolutament                -- Reward: 2.87                                    \n",
            "\t1: Este filme consiste em              ->  um elenco de cinco talentos expressiv             -- Reward: 1.3                                     \n",
            "\t2: O pôster anterior obviamente        ->  do Giallo, está no vídeo que                      -- Reward: 0.66                                    \n",
            "\t3: UAU!O que - A                       ->  unidade entre a vítima de v                       -- Reward: -0.146                                  \n",
            "\t4: Eu queria ler os                    ->  comentários sobre este filme. Come                -- Reward: -1.49                                   \n",
            "\n",
            "step 29 -- mean_reward: (0.487) -- decoding 5 rand samples:\n",
            "\t0: Tom Hanks como você                 ->  teve grandes amigos que conseguir                 -- Reward: -0.178                                  \n",
            "\t1: Eu estava hospedado em              ->  um museu em Nova York. Além dos film              -- Reward: -0.716                                  \n",
            "\t2: Existem filmes que são              ->  surpreendentemente praturos, mas                  -- Reward: 0.0489                                  \n",
            "\t3: No México, este filme               ->  foi um dos filmes mais bonitos e                  -- Reward: 2.24                                    \n",
            "\t4: Então, no total, achei              ->  um filme muito bonito, mas elog                   -- Reward: -1.74                                   \n",
            "\n",
            "step 30 -- mean_reward: (0.161) -- decoding 5 rand samples:\n",
            "\t0: Recentemente mostrado na TV         ->  Brave na TV nas cores que posso desenhar no       -- Reward: 1.05                                    \n",
            "\t1: Este filme merece 10                ->  em 10 para cada 10. Existem designs que           -- Reward: 2.25                                    \n",
            "\t2: \"O dia final\" é                     ->  uma comédia nobre da unidade                      -- Reward: 0.926                                   \n",
            "\t3: Este filme foi muito                ->  um melhor filme em três ex-p                      -- Reward: 0.811                                   \n",
            "\t4: Este filme foi feito                ->  para a multidão. Ele traz uma vis                 -- Reward: 0.778                                   \n",
            "\n",
            "step 31 -- mean_reward: (0.45) -- decoding 5 rand samples:\n",
            "\t0: Como você não pode                  ->  estar assistindo filmes que ocorrem em            -- Reward: -1.72                                   \n",
            "\t1: Algum filme pode se                 ->  passar nas jovens criaturas que t                 -- Reward: -2.03                                   \n",
            "\t2: Eu vi a série                       ->  Colombo no Grand National. Ele é um dos cora      -- Reward: 1.08                                    \n",
            "\t3: Nova York nunca parecia             ->  mais um grande shopping do que oCHormalment       -- Reward: 0.136                                   \n",
            "\t4: Eu tenho que dizer                  ->  o mesmo por qualidade que este filme.             -- Reward: 1.18                                    \n",
            "\n",
            "step 32 -- mean_reward: (0.73) -- decoding 5 rand samples:\n",
            "\t0: Se você já viu                      ->  este filme, este é um dos melhores film           -- Reward: 2.65                                    \n",
            "\t1: Pior do que a                       ->  maior coisa de todos os temas, mas                -- Reward: -3.03                                   \n",
            "\t2: Eu não conheço as                   ->  últimas raízes do motocic                         -- Reward: -0.602                                  \n",
            "\t3: Sinto que sou o                     ->  autor da história de San Diego, mas este          -- Reward: -1.93                                   \n",
            "\t4: Você acha que teve                  ->  uma atuação, um drama de sucess                   -- Reward: -0.939                                  \n",
            "\n",
            "step 33 -- mean_reward: (0.476) -- decoding 5 rand samples:\n",
            "\t0: Ei pessoal, o que                   ->  vi no filme. Nosso excelente trabalho             -- Reward: 1.11                                    \n",
            "\t1: Muitas vezes me sinto               ->  este filme, mas é realmente um dos shorts         -- Reward: -1.84                                   \n",
            "\t2: O que posso dizer?Eu                ->  o li um dos melhores livros europeus              -- Reward: 0.164                                   \n",
            "\t3: Há uma razão pela                   ->  qual este filme foi um dos destaques mais         -- Reward: 2.38                                    \n",
            "\t4: Outro na categoria eles             ->  são os melhores atores da incrivel                -- Reward: 0.655                                   \n",
            "\n",
            "step 34 -- mean_reward: (0.267) -- decoding 5 rand samples:\n",
            "\t0: A eleição de Johnnie                ->  é um documento instaurado por artistas, educ      -- Reward: 0.321                                   \n",
            "\t1: Este foi um filme                   ->  mais agradável e um filme inte                    -- Reward: 2.41                                    \n",
            "\t2: Este é um olhar                     -> , um certificado da família, um filme              -- Reward: 2.25                                    \n",
            "\t3: Eu acho que o                       ->  filme é um excelente documentário excelente que   -- Reward: 3.22                                    \n",
            "\t4: Depois de ter vermelho              ->  horrível, comprá este filme. Sem um               -- Reward: -2.08                                   \n",
            "\n",
            "step 35 -- mean_reward: (0.568) -- decoding 5 rand samples:\n",
            "\t0: O Sentinel que eu                   ->  espero que cheguísse até a no                     -- Reward: -0.691                                  \n",
            "\t1: Este é um filme                     ->  sagrado de fã quando você pega                    -- Reward: 1.93                                    \n",
            "\t2: Acabei de ver isso                  ->  em suas cinco portas no teatro,                   -- Reward: 1.21                                    \n",
            "\t3: Gostei de Longstreet, que           ->  dá a este filme por sua honra,                    -- Reward: 1.43                                    \n",
            "\t4: Não tenho certeza de                ->  que este é um filme, mas é um excelente           -- Reward: 2.84                                    \n",
            "\n",
            "step 36 -- mean_reward: (0.723) -- decoding 5 rand samples:\n",
            "\t0: Este filme não faz                  ->  muito a era, mas era verdadeira                   -- Reward: 1.65                                    \n",
            "\t1: Este filme não foi                  ->  um dos melhores filmes pioneiros em te            -- Reward: -2.36                                   \n",
            "\t2: Quando soube sobre esse             ->  filme em 1978, naquele aniversário                -- Reward: 1.24                                    \n",
            "\t3: Aluguei isso para meu               ->  amigo que queria do filme mais elegí              -- Reward: 0.105                                   \n",
            "\t4: O Impossible Planet e               ->  o filme Azshai são de o melhor                    -- Reward: 2.09                                    \n",
            "\n",
            "step 37 -- mean_reward: (0.611) -- decoding 5 rand samples:\n",
            "\t0: Depois de um videoclipe             -> , outra está na web e uma das                      -- Reward: -0.0271                                 \n",
            "\t1: Este é um filme                     ->  bonito, uma vitória de Melodies.                  -- Reward: 2.96                                    \n",
            "\t2: Este é o seu                        ->  filme favorito de todos. Tem uma hist             -- Reward: 2.84                                    \n",
            "\t3: Um filme caloroso e                 ->  atraente a não apenas os amig                     -- Reward: 2.79                                    \n",
            "\t4: Finalmente, um thriller que         ->  vai toda diretamente do baixo                     -- Reward: 3.02                                    \n",
            "\n",
            "step 38 -- mean_reward: (0.385) -- decoding 5 rand samples:\n",
            "\t0: Este não é apenas                   ->  um filme de baixa escala, mas u                   -- Reward: -1.55                                   \n",
            "\t1: Steve Martin deve parar             ->  os xceles e fabricar seu filme em                 -- Reward: -2.59                                   \n",
            "\t2: Este trailer de curta               ->  duração é um dos clássicos                        -- Reward: 0.985                                   \n",
            "\t3: Se você está acostumado             ->  com filmes em que as famílias egivas              -- Reward: 0.178                                   \n",
            "\t4: Eu fui para isso                    ->  e deseja que este filme consigue u                -- Reward: -2.03                                   \n",
            "\n",
            "step 39 -- mean_reward: (0.437) -- decoding 5 rand samples:\n",
            "\t0: Até onde eu me                      ->  vi descoberto e, sem saber que havia              -- Reward: 0.453                                   \n",
            "\t1: Primeiro, para dar uma              ->  classificação da 1.ª sé                           -- Reward: -1.24                                   \n",
            "\t2: Deseja saber o segredo              ->  de outros temas, então parte dela                 -- Reward: -1.8                                    \n",
            "\t3: Com todo o devido                   ->  elogio indiscutível da comédia                    -- Reward: 2.14                                    \n",
            "\t4: Embora este filme tenha             ->  sido um dos melhores melhores, ele                -- Reward: 0.164                                   \n",
            "\n",
            "step 40 -- mean_reward: (0.655) -- decoding 5 rand samples:\n",
            "\t0: Eu dei a essas                      ->  duas críticas com este filme. Prime               -- Reward: -1.99                                   \n",
            "\t1: Este filme prova que                ->  esse filme fosse um excelente. Ao                 -- Reward: -0.0516                                 \n",
            "\t2: Eu sou um grande                    ->  fã de John dos Beatles, após Frank Hut            -- Reward: -1.06                                   \n",
            "\t3: A comédia de Michael                ->  Curt é uma história que fato em excel             -- Reward: 1.84                                    \n",
            "\t4: Eu assisti alguns filmes            ->  há tantos. Excepcionais e br                      -- Reward: -1.37                                   \n",
            "\n",
            "step 41 -- mean_reward: (0.98) -- decoding 5 rand samples:\n",
            "\t0: Sem \"anacronismo mental\", este      ->  filme tem um elenco ainda mais mar                -- Reward: 2.87                                    \n",
            "\t1: É uma pena que,                     ->  por uma das palavras genuinamente                 -- Reward: -2.19                                   \n",
            "\t2: Este é um filme                     ->  de um dos maiores bibliotecári                    -- Reward: 2.63                                    \n",
            "\t3: O enredo certamente parecia         ->  muito bem, mas as histórias                       -- Reward: -1.72                                   \n",
            "\t4: Que filme divertido é               ->  um excelente. Sim, as duas revistas fac           -- Reward: 2.87                                    \n",
            "\n",
            "step 42 -- mean_reward: (0.599) -- decoding 5 rand samples:\n",
            "\t0: Normalmente, sou cético em          ->  sua capacidade de desafiar uma def                -- Reward: -0.329                                  \n",
            "\t1: 'The Lady and the                   ->  Fleet é um filme incrivelmente contemplat         -- Reward: 3.01                                    \n",
            "\t2: Um jovem cientista está             ->  escrevendo em um pequeno planeta para enc         -- Reward: -1.18                                   \n",
            "\t3: Comecei a assistir a                ->  este filme houveram alto dos elementos.           -- Reward: -0.289                                  \n",
            "\t4: Outro canal 4 grande                ->  do cinema novo, com SF/meo tec                    -- Reward: -2.48                                   \n",
            "\n",
            "step 43 -- mean_reward: (0.572) -- decoding 5 rand samples:\n",
            "\t0: Lembro -me deste filme              ->  na National Film Wanders Association. Foi um dos film -- Reward: 1.03                                    \n",
            "\t1: Este filme é bizarro.               ->  Entre orçamentos e uma boa vis                    -- Reward: -2.64                                   \n",
            "\t2: Existem dois tipos de               ->  filhos, as mulheres atraem filh                   -- Reward: -0.212                                  \n",
            "\t3: - O filme começa                    ->  no ano de 1947, no qual é estabelec               -- Reward: -0.748                                  \n",
            "\t4: Mas tem uma boa                     ->  comete algo, mas tem muito atua                   -- Reward: -2.74                                   \n",
            "\n",
            "step 44 -- mean_reward: (0.324) -- decoding 5 rand samples:\n",
            "\t0: Fiquei totalmente impressionado com ->  a história de Luz e Anastasia no                  -- Reward: 2.85                                    \n",
            "\t1: Embora este possa não               ->  existir comédia, relacionamentos ent              -- Reward: -1.18                                   \n",
            "\t2: Kid encontrado como um              ->  fotógrafo, Nan Cheng, aparentement                -- Reward: 0.121                                   \n",
            "\t3: Este filme é tão                    ->  fascinante que recebe classificaçõ                -- Reward: 2.84                                    \n",
            "\t4: Este é o melhor                     ->  documentário de Melhor Época do Ex-               -- Reward: 2.42                                    \n",
            "\n",
            "step 45 -- mean_reward: (0.721) -- decoding 5 rand samples:\n",
            "\t0: Acabei de assistir isso             ->  no TCM, e até tenho muita                         -- Reward: -0.779                                  \n",
            "\t1: Tenho que ser honesto               -> , mas este filme é um dos melh mais                -- Reward: -1.29                                   \n",
            "\t2: Oh, que diversão existe             ->  em que vemos em toda uma experiê                  -- Reward: 1.7                                     \n",
            "\t3: Ok, eu sou um                       ->  dos 100 que sos 100 que mereci bissei             -- Reward: -1.18                                   \n",
            "\t4: Esperei que este filme              ->  saxofon tenso e ele que qualquer no me            -- Reward: -2.96                                   \n",
            "\n",
            "step 46 -- mean_reward: (0.563) -- decoding 5 rand samples:\n",
            "\t0: Quando vi esse filme,               ->  eu era um filme muito agido e                     -- Reward: -0.594                                  \n",
            "\t1: É uma pequena produção              -> , mas saiu do cinema com um trabalho m             -- Reward: 0.995                                   \n",
            "\t2: Os alienígenas do Evil              ->  são um filme sobre uma autorid                    -- Reward: -1.57                                   \n",
            "\t3: Este é um documentário              ->  sobre uma campanha que leva muit                  -- Reward: 1.14                                    \n",
            "\t4: Um casal sem filhos                 -> , impulsado por uma sensação inte                  -- Reward: 0.921                                   \n",
            "\n",
            "step 47 -- mean_reward: (0.512) -- decoding 5 rand samples:\n",
            "\t0: Um garoto entra em                  ->  uma história de praticamente qualquer             -- Reward: 0.929                                   \n",
            "\t1: A Galeria Nacional de               ->  Buenos é um dos melhores exemplos e contempla     -- Reward: 1.68                                    \n",
            "\t2: Eu senti que esse                   ->  filme é um filme maravilhoso.                     -- Reward: 2.96                                    \n",
            "\t3: Lembro -me de assistir              ->  a este filme há 30 anos e, em                     -- Reward: 1.06                                    \n",
            "\t4: Full House veio até                 ->  mais uma temporada em 1991/1992 ao                -- Reward: 0.56                                    \n",
            "\n",
            "step 48 -- mean_reward: (0.937) -- decoding 5 rand samples:\n",
            "\t0: Como outros observaram, este        ->  filme foi um dos melhores exemplos do             -- Reward: 2.65                                    \n",
            "\t1: Bem, eu posso de                    -> ixar de lado sobre muitos exemplos                 -- Reward: -0.115                                  \n",
            "\t2: Alerta de spoiler!!!!               ->   Principal inspirado no filme, é um excelente     -- Reward: 2.47                                    \n",
            "\t3: Lembro -me de quando                ->  eu foi motivo de grande maravil                   -- Reward: 1.25                                    \n",
            "\t4: Devo dizer que este                 ->  é um excelente DVD e filme. A excelente           -- Reward: 3.12                                    \n",
            "\n",
            "step 49 -- mean_reward: (0.754) -- decoding 5 rand samples:\n",
            "\t0: Sempre imaginou este filme          ->  com�tamente. O filme é um excel                   -- Reward: 2.89                                    \n",
            "\t1: Eu li o livro                       ->  no final e foi ótimo. Feliz                       -- Reward: 2.59                                    \n",
            "\t2: Dick Tracy não foi                  ->  um clá clá na história, mas um                    -- Reward: 0.993                                   \n",
            "\t3: É tão triste que                    ->  um filme esteja no meu teatro em v                -- Reward: -2.06                                   \n",
            "\t4: Não tenho certeza se                ->  este é um filme que John Glover já vale           -- Reward: -0.391                                  \n",
            "\n",
            "step 50 -- mean_reward: (0.917) -- decoding 5 rand samples:\n",
            "\t0: Não é exatamente uma                ->  história política, mas, eminentement              -- Reward: 1.25                                    \n",
            "\t1: Eu daria um 2/10.                   ->  Fiquei impressionado com todos os belos hal       -- Reward: 1.91                                    \n",
            "\t2: Este é o único                      ->  filme de fantasia de todos excelente histó        -- Reward: 2.93                                    \n",
            "\t3: Raramente me mudei para             ->  lá é um filme maravilhado.                        -- Reward: 3.05                                    \n",
            "\t4: Que exemplo perfeito de             ->  vida do cinema turco, este filme é um             -- Reward: 2.85                                    \n",
            "\n",
            "step 51 -- mean_reward: (0.694) -- decoding 5 rand samples:\n",
            "\t0: Não perca 90 minutos                -> , mas movam pelo tempo perdido, e                  -- Reward: -1.91                                   \n",
            "\t1: Para aqueles de nós                 ->  no mapa que vemos todo o Tibete,                  -- Reward: 0.68                                    \n",
            "\t2: Este filme é como                   ->  um sátira. Ele simboliza bele                     -- Reward: 2.01                                    \n",
            "\t3: Este filme é tão                    ->  ótimo. Aniversário global. H                      -- Reward: 2.77                                    \n",
            "\t4: Acabei de ver a                     ->  história do cinema em 1975. É um filme            -- Reward: 0.872                                   \n",
            "\n",
            "step 52 -- mean_reward: (0.843) -- decoding 5 rand samples:\n",
            "\t0: Este filme é um                     ->  excelente conto de coragem e discernimento        -- Reward: 3.04                                    \n",
            "\t1: Eu realmente pensei que             ->  este filme é um filme realista e bele             -- Reward: 2.9                                     \n",
            "\t2: A história da polícia               ->  é uma das histórias mais bon                      -- Reward: 2.17                                    \n",
            "\t3: A American Humane Association,      ->  Irauna é um filme bonito e distante,              -- Reward: 0.978                                   \n",
            "\t4: Este é um bom                       ->  filme. A história é naturalista e mar             -- Reward: 3.04                                    \n",
            "\n",
            "step 53 -- mean_reward: (1.02) -- decoding 5 rand samples:\n",
            "\t0: Peguei este DVD na                  ->  Sun Art Rosenberg Production House Italia que ele dirigiu -- Reward: 0.579                                   \n",
            "\t1: \"The Shop Round The                 -> Silents\" é um dos melhores designs e aut           -- Reward: 2.1                                     \n",
            "\t2: Com aparência barata e              ->  as palhações do inovador compos                   -- Reward: -1.76                                   \n",
            "\t3: É tão triste. Embora                ->  este filme seja um dos melhores filmes            -- Reward: -0.12                                   \n",
            "\t4: Lost é único... é                   ->  um filme soberbamente cuja história               -- Reward: 2.73                                    \n",
            "\n",
            "step 54 -- mean_reward: (0.585) -- decoding 5 rand samples:\n",
            "\t0: Assisti a este filme                ->  inicialmente, que estava disponivel               -- Reward: -1.89                                   \n",
            "\t1: Agora eu sempre fui                 ->  a Escritora de 2008 1989, onde desem              -- Reward: -0.63                                   \n",
            "\t2: Normalmente, os filmes de           ->  Guilherme Nava e et alles são                     -- Reward: 0.31                                    \n",
            "\t3: Essa é a única                      ->  possibilidade que este filme visa fazer           -- Reward: -3.25                                   \n",
            "\t4: Este foi um dos                     ->  melhores e importantes filmes da mistura cinem    -- Reward: 2.83                                    \n",
            "\n",
            "step 55 -- mean_reward: (0.795) -- decoding 5 rand samples:\n",
            "\t0: Observar este filme para            ->  tive o 1º melhor tempo é um filme                 -- Reward: -1.57                                   \n",
            "\t1: Este terceiro filme de              ->  Daryl Fiennes é um filme realista, considerando   -- Reward: 0.869                                   \n",
            "\t2: Este filme é excelente,             ->  o filme conta que inventará -losMas               -- Reward: 2.94                                    \n",
            "\t3: É como se você                      ->  me dê Brad George. Pouco conta a                  -- Reward: -1.01                                   \n",
            "\t4: Que verdadeiro deleite e            ->  lembrará exatamente o filme                       -- Reward: 2.83                                    \n",
            "\n",
            "step 56 -- mean_reward: (0.628) -- decoding 5 rand samples:\n",
            "\t0: Depois de rastreá -lo               -> , ele tem uma exibção ós                           -- Reward: 0.168                                   \n",
            "\t1: O trio de Bill                      ->  Kelly é um órbitro médico                         -- Reward: 0.838                                   \n",
            "\t2: Embora o enredo fosse               ->  um dos melhores e melhores filmes de              -- Reward: -0.44                                   \n",
            "\t3: Um amigo meu comprou                ->  este ótimação no Festival de Cinema de            -- Reward: 2.14                                    \n",
            "\t4: Simplesmente o melhor reality       ->  show ao vivo. É fotografado �                     -- Reward: 2.83                                    \n",
            "\n",
            "step 57 -- mean_reward: (0.823) -- decoding 5 rand samples:\n",
            "\t0: Este filme me fez                   ->  gostar. É um filme que me fez                     -- Reward: 2.84                                    \n",
            "\t1: Tanto quanto os filmes              ->  urbanos diários, este filme deve                  -- Reward: 1.65                                    \n",
            "\t2: Adoro assistir a Jerry              ->  Springer e ele poderia ser mais uma histó         -- Reward: -0.181                                  \n",
            "\t3: Este filme só mostra                ->  que incento para crescer. É um filme              -- Reward: 0.951                                   \n",
            "\t4: Tarde uma noite em                  ->  Moscou.. é um filme muito int                     -- Reward: 2.66                                    \n",
            "\n",
            "step 58 -- mean_reward: (0.881) -- decoding 5 rand samples:\n",
            "\t0: O Pokemon 3 é                       ->  um filme hilário ótimo,                           -- Reward: 1.91                                    \n",
            "\t1: Dois tipos de filmes                ->  são sedutores. Além da conceitual                 -- Reward: 1.82                                    \n",
            "\t2: Simplesmente não há o               -> usadia no Festival de Cinema de Rhode Island, mas o -- Reward: -0.453                                  \n",
            "\t3: Meu irmão é um                      ->  dos melhores diretores e a Florentia              -- Reward: 0.897                                   \n",
            "\t4: Este é um RIP                       -> !É um dos melhores filmes de Hollywood anim        -- Reward: 2.97                                    \n",
            "\n",
            "step 59 -- mean_reward: (0.613) -- decoding 5 rand samples:\n",
            "\t0: Eu amei este filme.                 ->  Imagine - A única coisa que eu                    -- Reward: 2.77                                    \n",
            "\t1: Eu pensei que este                  ->  filme é um dos melhantes espatilantes             -- Reward: -0.633                                  \n",
            "\t2: OK. Eu acho que                     ->  este filme é um dos melhantes e ó                 -- Reward: -2.11                                   \n",
            "\t3: Não acredito que Guillermo          ->  é um excelente rostralista e um dos mel           -- Reward: -2.38                                   \n",
            "\t4: Meu amigo e eu                      -> , este filme é um dos 100 melhantes prote          -- Reward: 0.321                                   \n",
            "\n",
            "step 60 -- mean_reward: (0.42) -- decoding 5 rand samples:\n",
            "\t0: Acabei de assistir a                ->  este filme ontem, pois é um dos mel               -- Reward: -1.35                                   \n",
            "\t1: Na semana passada, dei              ->  o filme porque ele é um dos melhantes             -- Reward: -2.16                                   \n",
            "\t2: Na verdade, meu voto                ->  é para ser um dos melhantes campeõ                -- Reward: 0.312                                   \n",
            "\t3: O que foi uma                       ->  suposião, toda a direção e                        -- Reward: -0.685                                  \n",
            "\t4: Steven Seagal.... Como você         -> ... É uma história muito ef                        -- Reward: 0.373                                   \n",
            "\n",
            "step 61 -- mean_reward: (0.374) -- decoding 5 rand samples:\n",
            "\t0: Dez anos após o                     ->  desastre de Manhattan. É um filme tão             -- Reward: 1.97                                    \n",
            "\t1: Este filme não é                    ->  um bom filme, mas um excelente filme de           -- Reward: 1.25                                    \n",
            "\t2: Seu primeiro filme após             ->  este filme foi sobre um homem sendo               -- Reward: 0.352                                   \n",
            "\t3: Este filme foi tão                  ->  especialista em sua capacidade de absor           -- Reward: -2.02                                   \n",
            "\t4: Este filme é tão                    ->  fresco, e reflorestando a história                -- Reward: 2.73                                    \n",
            "\n",
            "step 62 -- mean_reward: (0.939) -- decoding 5 rand samples:\n",
            "\t0: Este é um dos                       ->  muitos filmes que mostram tanto ó                 -- Reward: -0.404                                  \n",
            "\t1: Lembro -me de amar                  -> lo, ver este filme como extremamente impression    -- Reward: 0.873                                   \n",
            "\t2: O filme celebra a                   ->  energia política graças à realiza                 -- Reward: 2.19                                    \n",
            "\t3: O livro em que                      ->  este filme é escrito é um excelente indicado      -- Reward: 0.712                                   \n",
            "\t4: Este filme foi o                    ->  melhor filme que dá a este filme.                 -- Reward: 2.33                                    \n",
            "\n",
            "step 63 -- mean_reward: (0.914) -- decoding 5 rand samples:\n",
            "\t0: Tenho certeza de que                ->  este filme é um dos ótimos filme                  -- Reward: 3.02                                    \n",
            "\t1: Este filme é basicamente            ->  um excelente filme onde é muito int               -- Reward: 3.16                                    \n",
            "\t2: Os criadores deste filme            ->  expão seu excelente filme. Essa percept           -- Reward: 1.73                                    \n",
            "\t3: Assista ao original com             ->  base em um pequeno elenco aparentement            -- Reward: -1.82                                   \n",
            "\t4: Este é um belo                      ->  filme, que oferece uma excelente hist             -- Reward: 3.12                                    \n",
            "\n",
            "step 64 -- mean_reward: (0.896) -- decoding 5 rand samples:\n",
            "\t0: Após os créditos de                 ->  introduções geralmente é que este                 -- Reward: -1.23                                   \n",
            "\t1: Um dos três melhores                ->  diretores e democrático jurista do mund           -- Reward: 0.62                                    \n",
            "\t2: Creep é um filme                    ->  sobre especulações e com                          -- Reward: -0.981                                  \n",
            "\t3: É incrível ver como                 ->  foto, como fez, como imagina                      -- Reward: 2.04                                    \n",
            "\t4: Eu assisti a este                   ->  filme no Festival de Cinema de Frankfurt em 18/18 -- Reward: 0.662                                   \n",
            "\n",
            "step 65 -- mean_reward: (0.669) -- decoding 5 rand samples:\n",
            "\t0: Pistas de pirâmide de               ->  Monte Carlo imensamente, um filme sobre           -- Reward: 0.42                                    \n",
            "\t1: Eu vi isso no                       ->  Festival de Cinema de Birmingham e naquele ano fo -- Reward: 0.476                                   \n",
            "\t2: Eu dei um 8                         -> /10 sobre explorações cinemat                      -- Reward: -0.484                                  \n",
            "\t3: Adoro este filme desde              ->  que antes de Dawn of the Dead. Em tí              -- Reward: 2.61                                    \n",
            "\t4: Lembro -me de ter                   ->  dito muito que este filme é um excel              -- Reward: -0.484                                  \n",
            "\n",
            "step 66 -- mean_reward: (0.552) -- decoding 5 rand samples:\n",
            "\t0: Cybil Richards dirige outra         ->  dica, Miss Phillips, adaptada para o filme        -- Reward: 0.761                                   \n",
            "\t1: Se este filme tivesse               ->  sido um bom filme, é tal. Este                    -- Reward: -2.32                                   \n",
            "\t2: Peguei este filme com               ->  o melhor modo \"quase solteiro\"                    -- Reward: 1.88                                    \n",
            "\t3: Frustrante de assistir por          -> que o filme é rotineirizante, acres                -- Reward: -2.5                                    \n",
            "\t4: No final do filme,                  ->  um elenco de escritores de 35 em 45               -- Reward: 0.0101                                  \n",
            "\n",
            "step 67 -- mean_reward: (0.758) -- decoding 5 rand samples:\n",
            "\t0: Aqui está um filme                  ->  que é triste, embaraçoso. O fil                   -- Reward: -2.54                                   \n",
            "\t1: Eu sempre posso dizer               ->  que este filme é um excelente filme que me        -- Reward: 3.23                                    \n",
            "\t2: Gena Rowlands interpreta uma        ->  figura maravilhante que visita Crystal visit      -- Reward: 1.46                                    \n",
            "\t3: Este é um filme                     ->  mais ainda possível. É uma re                     -- Reward: 2.72                                    \n",
            "\t4: Este filme tentou ser               ->  um dos melhores filmes. Ao longo do               -- Reward: -3.18                                   \n",
            "\n",
            "step 68 -- mean_reward: (0.925) -- decoding 5 rand samples:\n",
            "\t0: Eu amo este filme.                  ->  É real, como bastante tão bom. Su                 -- Reward: 3.01                                    \n",
            "\t1: Eu não gostei da                    ->  bela animação de moda, mas é                      -- Reward: 1.67                                    \n",
            "\t2: Não vou descrever a                 ->  unidade do filme, vocabulário,                    -- Reward: -0.725                                  \n",
            "\t3: Cinderela é um belo                 ->  filme sobre a adoração de Març                    -- Reward: 2.96                                    \n",
            "\t4: Purple Rain é um                    ->  excelente filme para a cooperação civil que       -- Reward: 2.6                                     \n",
            "\n",
            "step 69 -- mean_reward: (0.54) -- decoding 5 rand samples:\n",
            "\t0: Eu imaginaria que, se               ->  este filme é um dos melhores exemplo dos          -- Reward: 1.89                                    \n",
            "\t1: O Rei Leão 1                        ->  é um excelente filme. O filme está                -- Reward: 2.41                                    \n",
            "\t2: Eu vi esse filme                    ->  quando foi lançado em 2005, ontem                 -- Reward: -0.785                                  \n",
            "\t3: Este filme, para mim,               ->  é um excelente filme, nos fundiços                -- Reward: 2.81                                    \n",
            "\t4: O filme foi muito                   ->  bem feito por excelente história, lig             -- Reward: 2.81                                    \n",
            "\n",
            "step 70 -- mean_reward: (0.85) -- decoding 5 rand samples:\n",
            "\t0: Quando seus sogros são              ->  oficializados na côncava do Mingu                 -- Reward: 0.469                                   \n",
            "\t1: ... Mas eu gostei                   -> , é um filme sobre como a crescent                 -- Reward: 1.36                                    \n",
            "\t2: \"Still Crazy\" é sem                 -> pre a sensação geral do rock do rock               -- Reward: 2.23                                    \n",
            "\t3: Muitos fãs de terror                ->  e grandes de filmes clássico que g                -- Reward: -1.35                                   \n",
            "\t4: Não sei quem poderia                ->  entrevistar vídeos. Em nome de                    -- Reward: -1.74                                   \n",
            "\n",
            "step 71 -- mean_reward: (0.695) -- decoding 5 rand samples:\n",
            "\t0: A Era do Gelo                       ->  é um filme muito bem feito so                     -- Reward: 3.02                                    \n",
            "\t1: Se você gosta das                   ->  múltiplas histórias de filme                      -- Reward: 0.577                                   \n",
            "\t2: Eu teria dado um                    ->  1 em 3 1 pontos estava no Japão                   -- Reward: -1.47                                   \n",
            "\t3: Eu não sou escritor                 -> , mas este filme é realmente um melhor             -- Reward: -0.61                                   \n",
            "\t4: Este é um filme                     ->  inspirador que você irradia interesse em          -- Reward: 2.2                                     \n",
            "\n",
            "step 72 -- mean_reward: (0.881) -- decoding 5 rand samples:\n",
            "\t0: Eu afirmo que quem                  ->  pertence a este filme é -Sim, bem                 -- Reward: 0.0563                                  \n",
            "\t1: Um estudo em Bad.                   ->  É claro que este filme é um dos 100 mel           -- Reward: -0.322                                  \n",
            "\t2: Se você quer ver                    ->  um dos melhores filmes locais do mundo            -- Reward: 1.63                                    \n",
            "\t3: Eu tento ser muito                  ->  bem feito, é a história muit                      -- Reward: 0.77                                    \n",
            "\t4: Eu vi este filme                    ->  quando foi feito, e é um marav                    -- Reward: 2.39                                    \n",
            "\n",
            "step 73 -- mean_reward: (0.893) -- decoding 5 rand samples:\n",
            "\t0: Tiempo de Valientes é               ->  um excelente exemplo do filme de filme.           -- Reward: 2.22                                    \n",
            "\t1: A história gira em                  ->  torno de um casal de cavalos vivos                -- Reward: 0.215                                   \n",
            "\t2: Esta é uma das                      ->  obras-primas em um dos melhos fil                 -- Reward: 2.38                                    \n",
            "\t3: *** SPOILERS *** ***                ->  Sinfonia de estréguro    Mem                      -- Reward: 0.0605                                  \n",
            "\t4: Desajustados em uma escola          ->  de arte criada pelo clássicos                     -- Reward: 1.26                                    \n",
            "\n",
            "step 74 -- mean_reward: (0.756) -- decoding 5 rand samples:\n",
            "\t0: O castelo do homem                  ->  é um dos melhores documentários do mund           -- Reward: 2.84                                    \n",
            "\t1: Este filme foi mais                 ->  com base em uma história e nenhuma                -- Reward: -2.16                                   \n",
            "\t2: \"Eles riram\" é um                   ->  exemplo do mestre de filmes manter a              -- Reward: 2.1                                     \n",
            "\t3: Eu achei que isso                   ->  é um clássico e, em mérito                        -- Reward: 2.37                                    \n",
            "\t4: Eu também estava no                 ->  recentemente lançado no cinema M1Z,               -- Reward: 0.167                                   \n",
            "\n",
            "step 75 -- mean_reward: (0.884) -- decoding 5 rand samples:\n",
            "\t0: No que diz respeito                 ->  a história do coronel, este filme constit         -- Reward: 0.828                                   \n",
            "\t1: Aluguei este filme há               ->  vários anos e foi relatado no                     -- Reward: 1.41                                    \n",
            "\t2: A primeira meia hora                ->  é um verdadeiro filme sobre um grand              -- Reward: -1.65                                   \n",
            "\t3: Você deve saber que                 ->  este é um simbolismo da vida. Embora              -- Reward: 1.9                                     \n",
            "\t4: Esta é talvez a                     ->  melhor história sobre história natural e          -- Reward: 2.59                                    \n",
            "\n",
            "step 76 -- mean_reward: (0.702) -- decoding 5 rand samples:\n",
            "\t0: Há toneladas de mulheres            ->  que vão de rodop para escritórios                 -- Reward: -0.105                                  \n",
            "\t1: Espero que ela possa                ->  abcreve um dos melhores filmes de Un              -- Reward: 2.41                                    \n",
            "\t2: Claro que pode não                  ->  ser um dos melhores filmes da biograf             -- Reward: -0.746                                  \n",
            "\t3: Este filme chinês me                ->  oferece a história da humanidade d                -- Reward: 2.56                                    \n",
            "\t4: Um rio atravessa um                 ->  território do belo manga/ surreal que a F         -- Reward: 0.89                                    \n",
            "\n",
            "step 77 -- mean_reward: (0.805) -- decoding 5 rand samples:\n",
            "\t0: Artisticamente falando, este é      ->  um excelente filme sobre como as universid        -- Reward: 2.71                                    \n",
            "\t1: Foi interessante ver o              ->  filme, sua continuidade, revirav                  -- Reward: 2.14                                    \n",
            "\t2: Viggo Mortensen é um                ->  clássangelo muito bem feito.                      -- Reward: 2.49                                    \n",
            "\t3: Quando vi esse filme                -> , fiquei bom sobre este filme. A                   -- Reward: -1.69                                   \n",
            "\t4: Diga o que você                     ->  está dando. É um filme muito                      -- Reward: 2.1                                     \n",
            "\n",
            "step 78 -- mean_reward: (0.928) -- decoding 5 rand samples:\n",
            "\t0: Isso é 2009 e,                      ->  em seguida, aná. A história                       -- Reward: 0.636                                   \n",
            "\t1: Este é um filme                     ->  realmente inteCriatura radioativa                 -- Reward: -2.82                                   \n",
            "\t2: Pelo menos o conjunto               ->  de episódios, este filme previu um                -- Reward: -2.2                                    \n",
            "\t3: Carregado com atores finos,         ->  este é um dos melhores filmes sobre hist          -- Reward: 2.97                                    \n",
            "\t4: Eu gostaria de comentar             ->  isso, em Tease, a história so                     -- Reward: -0.242                                  \n",
            "\n",
            "step 79 -- mean_reward: (0.971) -- decoding 5 rand samples:\n",
            "\t0: Tom desejava fazer filmes           ->  em Paris e este é um dos melhores exemplos        -- Reward: 1.94                                    \n",
            "\t1: Acabei de ver este                  ->  filme. Ao contrário de outros pró                 -- Reward: 0.521                                   \n",
            "\t2: Eu quero que Céline                 ->  seja um melhor do So Youpin, este fil             -- Reward: 0.269                                   \n",
            "\t3: Eu vi esse filme                    ->  no 96º Festival de Cinema, em Black and White,    -- Reward: 0.963                                   \n",
            "\t4: Pode não ser o                      ->  melhor filme mais bonito e mais cos               -- Reward: 2.21                                    \n",
            "\n",
            "step 80 -- mean_reward: (1.27) -- decoding 5 rand samples:\n",
            "\t0: Eu pensei que ia                    ->  enfrentar tão todo mundo, mas                     -- Reward: -1.92                                   \n",
            "\t1: Embora o estilo deste               ->  filme se destaca, este é um excelente g           -- Reward: 2.77                                    \n",
            "\t2: George Cukor dirige um              ->  dos melhores atrizes e Protagonista �             -- Reward: 1.18                                    \n",
            "\t3: Comprei este jogo em                ->  1990, é um dos melh trabalhos de                  -- Reward: 0.346                                   \n",
            "\t4: Não vou dar a                       ->  este filme, mas é um excelente filme.             -- Reward: 2.9                                     \n",
            "\n",
            "step 81 -- mean_reward: (1.57) -- decoding 5 rand samples:\n",
            "\t0: Que insulto à indústria             ->  cinematográfica, estrangeirista                   -- Reward: -2.26                                   \n",
            "\t1: Um jovem jovem de                   ->  cinco anos, este é um legista e                   -- Reward: 0.109                                   \n",
            "\t2: Peter Bogdonavich fez alguns        ->  filmes sobre este gêner- Embora é                 -- Reward: 1.94                                    \n",
            "\t3: A única coisa que                   ->  recebe é que você, que é um dos mel               -- Reward: 0.803                                   \n",
            "\t4: Ok, eu normalmente não              ->  vi o filme, mas este é um excelente fil           -- Reward: 2.11                                    \n",
            "\n",
            "step 82 -- mean_reward: (0.892) -- decoding 5 rand samples:\n",
            "\t0: Se você pode acreditar,             ->  este filme é excelente. A história of             -- Reward: 3.16                                    \n",
            "\t1: Pillaging horrendo de um            ->  dos melhores filmes e visuais, é                  -- Reward: -3.04                                   \n",
            "\t2: Sério, eu nem sei                   -> , mas este é um filme muito bom.                   -- Reward: 3.04                                    \n",
            "\t3: Clint Eastwood retorna como         ->  um excelente cinema. Recurso multifacetado,       -- Reward: 2.54                                    \n",
            "\t4: No que diz respeito                 ->  aos filmes de compilação, este é                  -- Reward: -0.455                                  \n",
            "\n",
            "step 83 -- mean_reward: (1.34) -- decoding 5 rand samples:\n",
            "\t0: Esta comédia deve ser               ->  um dos melhores filmes, Solidifica,               -- Reward: 1.53                                    \n",
            "\t1: Ok, então eu estava                 ->  err!É um dos melhores film, sobre                 -- Reward: 1.69                                    \n",
            "\t2: Eu daria a esse                     ->  filme: 1 filme de TV, ele é um                    -- Reward: -2.26                                   \n",
            "\t3: Farrah Fawcett passou a             ->  quase treze anos em \"alidade\" guitar              -- Reward: -0.661                                  \n",
            "\t4: Sentiu que estava muito             ->  tão impressionante e poderoso, muit               -- Reward: 1.49                                    \n",
            "\n",
            "step 84 -- mean_reward: (0.929) -- decoding 5 rand samples:\n",
            "\t0: Muitas vezes eu não                 ->  fui um homem, mas este é uma exper                -- Reward: 1.07                                    \n",
            "\t1: Este filme é um                     ->  excelente filme de cinema bem feito. A            -- Reward: 3.09                                    \n",
            "\t2: Este é o meu                        ->  filme favorito. Soa muito yer                     -- Reward: 1.13                                    \n",
            "\t3: Eu pensei que o                     ->  trabalho é um dos melhores é um musical           -- Reward: 2.7                                     \n",
            "\t4: Uma cantora country apelidada       ->  de ginebol é uma aventura, a                      -- Reward: 1.02                                    \n",
            "\n",
            "step 85 -- mean_reward: (1.01) -- decoding 5 rand samples:\n",
            "\t0: Comecei a assistir a                ->  este filme, que a maioria dos meus                -- Reward: -0.739                                  \n",
            "\t1: Este filme é um                     ->  clásso, a excelente firme. F                      -- Reward: 2.16                                    \n",
            "\t2: Ok, este filme começa               ->  bem, o filme é um sucesso de                      -- Reward: -0.405                                  \n",
            "\t3: Como fã dos livros                  -> , este é um filme interessante e a                 -- Reward: 1.62                                    \n",
            "\t4: A história e o                      ->  trabalho gerenciam este filme venced              -- Reward: 2.58                                    \n",
            "\n",
            "step 86 -- mean_reward: (1.62) -- decoding 5 rand samples:\n",
            "\t0: Eu estava assistindo isso           ->  em 1990 no \"Mofis\" em Montreal. Ele               -- Reward: 1.77                                    \n",
            "\t1: Boris Karloff é Matthias            -> , um membro da família de Cardone com              -- Reward: 0.371                                   \n",
            "\t2: Eu realmente gostei do              ->  filme, este é um belo filme, present              -- Reward: 3.06                                    \n",
            "\t3: Eu estava deitado na                ->  história de Lincoln, na espera de que             -- Reward: -0.0621                                 \n",
            "\t4: Este filme é um                     ->  excelente filme sobre uma família e               -- Reward: 3.14                                    \n",
            "\n",
            "step 87 -- mean_reward: (1.45) -- decoding 5 rand samples:\n",
            "\t0: Você deve imaginar que,             ->  no ano de 1999, este é um filme m                 -- Reward: -1.74                                   \n",
            "\t1: Essa desculpa de lixo               ->  é um excelente filme muito bonito,                -- Reward: 2.78                                    \n",
            "\t2: Este é provavelmente um             ->  bom filme. A excelente história envol             -- Reward: 2.93                                    \n",
            "\t3: OK, então, isso está                ->  na tradição. É um bel estudo da                   -- Reward: 1.33                                    \n",
            "\t4: Este filme foi realmente            ->  um excelente filme de fantasia, bem fe            -- Reward: 2.93                                    \n",
            "\n",
            "step 88 -- mean_reward: (1.5) -- decoding 5 rand samples:\n",
            "\t0: Entendo que este filme              ->  é um excelente filme que emerge como uma          -- Reward: 3.04                                    \n",
            "\t1: > Você está avisado                 ->  que este é um filme impressionante, bem implant   -- Reward: 2.03                                    \n",
            "\t2: Se você leu o                       ->  filme, este filme é palpável realisticament       -- Reward: 0.185                                   \n",
            "\t3: Este é o filme                      ->  mais bonito e bem feito e bem                     -- Reward: 2.72                                    \n",
            "\t4: Este é o melhor                     ->  filme sobre o trabalho humano, referen            -- Reward: 3.11                                    \n",
            "\n",
            "step 89 -- mean_reward: (1.26) -- decoding 5 rand samples:\n",
            "\t0: Depois de ser mordido               ->  por um anacrona, este filme é m                   -- Reward: -2.73                                   \n",
            "\t1: Como membro do elenco,              ->  este filme mostra com próxima inten               -- Reward: 1.34                                    \n",
            "\t2: Quando vi esse filme                -> , com 24 anos, foi lançado em                      -- Reward: 0.539                                   \n",
            "\t3: Eu cresci no Scooby                 -> , que é um bel filme britânico                     -- Reward: 0.522                                   \n",
            "\t4: Sean, você sabe que                 ->  é um excelente filme ideal. É bel e excel         -- Reward: 2.89                                    \n",
            "\n",
            "step 90 -- mean_reward: (1.39) -- decoding 5 rand samples:\n",
            "\t0: Eric Valette é obviamente           ->  um marco na medicina que leva a vida              -- Reward: 1.98                                    \n",
            "\t1: Eu já vi filmes                     ->  muito bem, com excelente ótim                     -- Reward: 0.747                                   \n",
            "\t2: Quando vi isso em                   ->  1995, este é um filme muito bonito                -- Reward: 2.74                                    \n",
            "\t3: Esta é provavelmente a              ->  melhor história radioativa do mundo e             -- Reward: 2.39                                    \n",
            "\t4: Então esse cara chamado             ->  este é um filme muito bem feito                   -- Reward: 1.05                                    \n",
            "\n",
            "step 91 -- mean_reward: (1.17) -- decoding 5 rand samples:\n",
            "\t0: Eu vi este filme                    ->  com uma das experiências impression               -- Reward: 0.454                                   \n",
            "\t1: Eu não tinha certeza                -> , mas plotada em seu musical é muito               -- Reward: 0.0312                                  \n",
            "\t2: Eu não acho que                     ->  este filme é um ótimo filme e                     -- Reward: -1.81                                   \n",
            "\t3: Para aqueles que amam               ->  este filme!É uma excelente história               -- Reward: 3.05                                    \n",
            "\t4: Eu dei a este                       ->  porque é um filme muito bem fe                    -- Reward: 1.28                                    \n",
            "\n",
            "step 92 -- mean_reward: (1.24) -- decoding 5 rand samples:\n",
            "\t0: Este filme é uma                    ->  excelente arte que deste sua história in          -- Reward: 2.92                                    \n",
            "\t1: No começo, eu estava                ->  comecido um excelente filme que, ao               -- Reward: -2.41                                   \n",
            "\t2: Mais uma vez, um                    ->  filme que é agora reconhecido em part             -- Reward: 2.81                                    \n",
            "\t3: A contribuição de Ernst             ->  Lubitsch é ótimo. Excelente. Excel                -- Reward: 1.93                                    \n",
            "\t4: Minha esposa e eu                   ->  tive a tendência de vida cri                      -- Reward: -0.154                                  \n",
            "\n",
            "step 93 -- mean_reward: (0.981) -- decoding 5 rand samples:\n",
            "\t0: Talvez eu esteja perdendo           ->  um dos melhores filmes de coragem -               -- Reward: 0.881                                   \n",
            "\t1: Este pode não ser                   ->  um dos melhores filmes em cosmograf               -- Reward: -2.71                                   \n",
            "\t2: Por um longo tempo,                 ->  este filme foi demonstrado muito intelig          -- Reward: 0.865                                   \n",
            "\t3: Eu vi este filme                    ->  um ano e é a história muito                       -- Reward: 1.05                                    \n",
            "\t4: Eu acho que existem                 ->  em todo este caminho. Na tradicional              -- Reward: 0.317                                   \n",
            "\n",
            "step 94 -- mean_reward: (1.08) -- decoding 5 rand samples:\n",
            "\t0: É uma coisa boa                     ->  é a arte da capa mais bonita do fil               -- Reward: 0.00882                                 \n",
            "\t1: Este filme miserável mostra         ->  a beleza do herói, e uma                          -- Reward: -3.01                                   \n",
            "\t2: Este filme não é                    ->  um bom filme, mas é muito bom na                  -- Reward: 1.43                                    \n",
            "\t3: Olhe cuidadosamente para a          ->  melhor exposição faz uma excelente                -- Reward: 1.47                                    \n",
            "\t4: A única coisa que                   ->  faz é que este é um filme discernível             -- Reward: -1.71                                   \n",
            "\n",
            "step 95 -- mean_reward: (1.24) -- decoding 5 rand samples:\n",
            "\t0: Cerca de um ano                     ->  é um dos melhores filmes do mundo.                -- Reward: 1.91                                    \n",
            "\t1: Um remake do excelente              ->  filme científico é lançado em                     -- Reward: 1.06                                    \n",
            "\t2: Para os experientes fãs             ->  de uma história que reconhecive a                 -- Reward: 0.112                                   \n",
            "\t3: As meninas do papai,                ->  Zippy, uma fera da muito glam                     -- Reward: 1.55                                    \n",
            "\t4: O filme realmente tem               ->  a sensibilidade ótima, é                          -- Reward: 2.83                                    \n",
            "\n",
            "step 96 -- mean_reward: (1.46) -- decoding 5 rand samples:\n",
            "\t0: Não acredito que aqueles            ->  que conhecem a este filme, mas é                  -- Reward: 0.151                                   \n",
            "\t1: Que pedaço de lixo                  ->  é uma característica interessante                 -- Reward: -0.71                                   \n",
            "\t2: A história está sendo               ->  tradicional e ótima dimensional!Poss              -- Reward: 1.03                                    \n",
            "\t3: Sentei -me com meus                 ->  amigos e tudo isso!É um fil                       -- Reward: 1.75                                    \n",
            "\t4: Adorei esse show quando             ->  foi lançado em 1994, e, em conj                   -- Reward: 2.11                                    \n",
            "\n",
            "step 97 -- mean_reward: (1.24) -- decoding 5 rand samples:\n",
            "\t0: Aqui no Brasil é                    ->  um filme excelente, oferece uma magn              -- Reward: 2.72                                    \n",
            "\t1: Este filme é tão                    ->  maravilhante que é o melhor filme                 -- Reward: 3.03                                    \n",
            "\t2: Um dois três quatro                 ->  escavos conhecidos e os dois                      -- Reward: -0.355                                  \n",
            "\t3: O melhor dos melhores               ->  filmes de TV e interessante e ó                   -- Reward: 2.61                                    \n",
            "\t4: Este filme ilustra a                ->  intenção de que a beleza é um                     -- Reward: 1.97                                    \n",
            "\n",
            "step 98 -- mean_reward: (1.44) -- decoding 5 rand samples:\n",
            "\t0: Sinto muito, mas isso               ->  é um dos melhores filmes que é considerado        -- Reward: 2.07                                    \n",
            "\t1: Elisha Cuthbert interpreta Sue      -> , uma costure e suas amigas,                       -- Reward: 1.7                                     \n",
            "\t2: Este filme é sobre                  ->  este filme é uma excelente história so            -- Reward: 2.88                                    \n",
            "\t3: Este filme é falsificado            ->  e chamado de aquele filme de \"                    -- Reward: -1.92                                   \n",
            "\t4: Eu sempre me interessei             ->  sobre este filme e aposta fortemente.             -- Reward: 1.21                                    \n",
            "\n",
            "step 99 -- mean_reward: (1.23) -- decoding 5 rand samples:\n",
            "\t0: Um desses filmes \"que               ->  ninguém causa\" é um filme excel                   -- Reward: -0.174                                  \n",
            "\t1: Eu já vi este                       ->  filme e especialmente este filme é                -- Reward: 1.91                                    \n",
            "\t2: (Você saberá o que                  ->  de tudo sobreviverá) é uma                        -- Reward: 0.735                                   \n",
            "\t3: Bem, o que você                     ->  faz é a constante do rosto de Shakespeare         -- Reward: 0.355                                   \n",
            "\t4: O soldado não é                     ->  um filme, mas este é um excelente filme           -- Reward: 3.08                                    \n",
            "\n",
            "step 100 -- mean_reward: (1.18) -- decoding 5 rand samples:\n",
            "\t0: Para os fãs dos                     ->  pós sátiro, este filme é                          -- Reward: 0.248                                   \n",
            "\t1: Eu só assisti a                     ->  um filme, é um filme muito int                    -- Reward: 0.956                                   \n",
            "\t2: Nada mais está na                   ->  verdade, mas este é um filme realista             -- Reward: 2.51                                    \n",
            "\t3: Você gosta de resolver              ->  problemas com bateria, vários dos                 -- Reward: -0.407                                  \n",
            "\t4: Meus filhos pararam neste           ->  filme e foi uma gemência de                       -- Reward: -2.16                                   \n",
            "\n",
            "step 101 -- mean_reward: (1.38) -- decoding 5 rand samples:\n",
            "\t0: Mesmo em um filme                   -> , este é um filme muito bom em g                   -- Reward: 2.87                                    \n",
            "\t1: Primeiro de tudo, gostaria          ->  de ver este filme, mas este filme é u             -- Reward: -3.0                                    \n",
            "\t2: Este filme não pôde                 -> , mas é ainda muito bem feito                      -- Reward: 2.95                                    \n",
            "\t3: 86 Minutos desperdiçados da         ->  história são tudo maravilhos                      -- Reward: 1.51                                    \n",
            "\t4: Eu era muito jovem                  -> , mas esse filme foi muito bom                     -- Reward: 2.87                                    \n",
            "\n",
            "step 102 -- mean_reward: (1.15) -- decoding 5 rand samples:\n",
            "\t0: Woody Allen perdeu sua              ->  única ótima é dada 4                              -- Reward: 0.842                                   \n",
            "\t1: \"Eu vou te levar                    -> ! A coméd próxima! A com                           -- Reward: 1.65                                    \n",
            "\t2: Um mundo de fantasia                ->  é anexado ao gênero, o                            -- Reward: 1.47                                    \n",
            "\t3: Eu vi esse filme                    ->  e ao escrevê -lo e, com base                      -- Reward: 0.139                                   \n",
            "\t4: Os filmes de Cedric                 ->  Glover, The Lone Ranger, e The Lone Ranger, é     -- Reward: 0.802                                   \n",
            "\n",
            "step 103 -- mean_reward: (1.25) -- decoding 5 rand samples:\n",
            "\t0: Eu estava ansioso para              ->  ver este filme. Pessoalmente,                     -- Reward: -2.82                                   \n",
            "\t1: Mais um dos filmes                  ->  mais impressionantes e elegante de acreditar      -- Reward: 2.99                                    \n",
            "\t2: Embora este filme tenha             ->  recebido muito, este é um filme                   -- Reward: 1.67                                    \n",
            "\t3: Se Bob Ludlum visse                 ->  ver, é um filme. Precisão, eco                    -- Reward: -0.0839                                 \n",
            "\t4: Bem, eles dizem que                 ->  este é um filme muito bom. É um                   -- Reward: 2.37                                    \n",
            "\n",
            "step 104 -- mean_reward: (1.61) -- decoding 5 rand samples:\n",
            "\t0: Esmestre e divertido e              ->  ótimo. Graças a isso,                             -- Reward: 2.2                                     \n",
            "\t1: Hole (2003, Dir Andrew              -> ) é um filme maravilhoso e at                      -- Reward: 3.02                                    \n",
            "\t2: Elvis Presley interpreta um         ->  filme muito bonito com ótima                      -- Reward: 2.69                                    \n",
            "\t3: O limão de vodka                    ->  é um filme excelente e também é                   -- Reward: 3.18                                    \n",
            "\t4: Bem, por onde começo                -> . Um filme simplesment é realidade,                -- Reward: -0.0746                                 \n",
            "\n",
            "step 105 -- mean_reward: (1.4) -- decoding 5 rand samples:\n",
            "\t0: Menor Spoiler Subestou o            ->  tempo de execução é um filme muit                 -- Reward: -1.58                                   \n",
            "\t1: John Carradine, John Ireland        ->  e John McLaglen são ótimos com                    -- Reward: 1.35                                    \n",
            "\t2: Sério, o que diabos                 ->  é é uma história de amor há                       -- Reward: 0.073                                   \n",
            "\t3: Uma antologia é sempre              ->  uma ótima história sobre a                        -- Reward: 2.0                                     \n",
            "\t4: Fico triste que um                  ->  filme é bom. É excelente. Excelente com           -- Reward: 1.68                                    \n",
            "\n",
            "step 106 -- mean_reward: (1.53) -- decoding 5 rand samples:\n",
            "\t0: Eu tinha ouvido falar               ->  apenas, mas este é um ótimo                       -- Reward: 1.71                                    \n",
            "\t1: Todo o gênero de                    ->  filme, este é um ótimo ó                          -- Reward: 2.96                                    \n",
            "\t2: \"Stories of the Century\"            ->  é um filme muita bem feito e                      -- Reward: 2.62                                    \n",
            "\t3: \"Rock 'n' Roll High                 -> \" é um filme realmente um ótim                     -- Reward: 1.14                                    \n",
            "\t4: Aqui está o magro,                  ->  mas naturalmente é uma ótima hist                 -- Reward: 0.548                                   \n",
            "\n",
            "step 107 -- mean_reward: (1.85) -- decoding 5 rand samples:\n",
            "\t0: Richard Dreyfus não é               ->  um filme, mas é real. É realmente                 -- Reward: 2.6                                     \n",
            "\t1: Eu já vi muitos                     ->  excelentes e este é o melhor exemplo de           -- Reward: 2.07                                    \n",
            "\t2: OK. Este filme é                    ->  uma ótima obra-prima de                           -- Reward: 2.47                                    \n",
            "\t3: Não acredito que não                ->  é um filme realmente bom, mas é bom               -- Reward: 1.89                                    \n",
            "\t4: O enredo era muito                  ->  bom E a história é fantástica com                 -- Reward: 2.98                                    \n",
            "\n",
            "step 108 -- mean_reward: (1.46) -- decoding 5 rand samples:\n",
            "\t0: Que os santos nos                   ->  fazem. E é um ótimo fil                           -- Reward: 2.77                                    \n",
            "\t1: É adequado em um                    ->  mundo inteiro, junto com efic                     -- Reward: 1.39                                    \n",
            "\t2: O retorno dos Jedi                  ->  é um filme muito bom para absorver a              -- Reward: 3.03                                    \n",
            "\t3: Claro, era brega e                  ->  comigo melhor do filme. Foi lind                  -- Reward: 2.52                                    \n",
            "\t4: Este filme é uma                    ->  ótima história sobre ót                           -- Reward: 2.99                                    \n",
            "\n",
            "step 109 -- mean_reward: (1.62) -- decoding 5 rand samples:\n",
            "\t0: Este é um filme                     ->  muito bom que traz muita ó                        -- Reward: 3.2                                     \n",
            "\t1: Kathryn Bigelow e Mark              ->  Twain são grandes ótimos trabalh                  -- Reward: 1.25                                    \n",
            "\t2: Quero começar afirmando que         ->  este é um excelente filme sobre uma hist          -- Reward: 2.21                                    \n",
            "\t3: Este filme é horrível.              ->  No começo, foi realmente um fil                   -- Reward: -3.3                                    \n",
            "\t4: Eu teria classificado este          ->  filme, mas este é um ótimo fil                    -- Reward: -0.0214                                 \n",
            "\n",
            "step 110 -- mean_reward: (1.53) -- decoding 5 rand samples:\n",
            "\t0: O caso da cauda                     ->  é um filme fantástico e ótim                      -- Reward: 2.21                                    \n",
            "\t1: Bem, este filme foi                 ->  excelente em nome da música, at                   -- Reward: 1.14                                    \n",
            "\t2: Sou um grande fã                    ->  de filme e este é um ótimo fil                    -- Reward: 1.1                                     \n",
            "\t3: Eu queria amar este                 ->  filme, mas é um filme muito bom                   -- Reward: 2.43                                    \n",
            "\t4: Se alguém quer fazer                -> , este é um filme bonito do beleza                 -- Reward: 2.95                                    \n",
            "\n",
            "step 111 -- mean_reward: (1.72) -- decoding 5 rand samples:\n",
            "\t0: Cinco passageiros de um             ->  mundo um dia, e a vida em to                      -- Reward: 1.98                                    \n",
            "\t1: O primeiro episódio definiu         -> -se em uma sátira, pois                            -- Reward: -0.576                                  \n",
            "\t2: A história é extremamente           ->  impressionante, a história é uma excelente        -- Reward: 3.13                                    \n",
            "\t3: Este show está lindamente           ->  feito, é uma ótima sé                             -- Reward: 2.65                                    \n",
            "\t4: Por que esse tipo                   ->  deconhecido é um filme, este é                    -- Reward: 0.875                                   \n",
            "\n",
            "step 112 -- mean_reward: (1.75) -- decoding 5 rand samples:\n",
            "\t0: Ok, se você viu                     -> , este é um filme maraviloso. T                    -- Reward: 2.74                                    \n",
            "\t1: Eu peguei esse filme                ->  no Whistles convencido em uma mulher              -- Reward: -0.482                                  \n",
            "\t2: Bem, é preciso dar                  ->  um filme, é um filme excelente sobre              -- Reward: 2.65                                    \n",
            "\t3: O enredo deste filme                ->  é simples, é um excelente filme,, é               -- Reward: 3.19                                    \n",
            "\t4: Kenny Doughty como Jed              ->  é um filme maraviloso. Sua v                      -- Reward: 3.16                                    \n",
            "\n",
            "step 113 -- mean_reward: (1.57) -- decoding 5 rand samples:\n",
            "\t0: Desde que vi isso                   -> , este é um filme muito impressionante so          -- Reward: 2.93                                    \n",
            "\t1: \"The Brak Show\" é                   ->  um filme maraviloso, com excelente l              -- Reward: 3.05                                    \n",
            "\t2: Eu era um Usherette                 ->  e conhecia muito o artista. Ele                   -- Reward: 0.0724                                  \n",
            "\t3: O filme começou bem                 -> , mas é um filme muito bonito,                     -- Reward: 2.76                                    \n",
            "\t4: Eu acho que geralmente              ->  é uma série, é ótima                              -- Reward: 2.24                                    \n",
            "\n",
            "step 114 -- mean_reward: (1.85) -- decoding 5 rand samples:\n",
            "\t0: Para mim, a cena                    ->  da festa é uma experiência.                       -- Reward: 1.32                                    \n",
            "\t1: Por esse motivo, um                 ->  novo filme é inovador, bem fe                     -- Reward: 1.32                                    \n",
            "\t2: Baseado no romance satírico         -> , este é um filme ótimo sobre                      -- Reward: 2.85                                    \n",
            "\t3: Este filme é para                   ->  mim, é excelente, é feita com ó                   -- Reward: 3.03                                    \n",
            "\t4: Agora, para a verdade,              ->  este é um filme excelente, muita so               -- Reward: 3.15                                    \n",
            "\n",
            "step 115 -- mean_reward: (1.66) -- decoding 5 rand samples:\n",
            "\t0: Era um dos meus                     ->  filmes favoritos, o filme é uma                   -- Reward: 2.61                                    \n",
            "\t1: Se a equipe por                     -> que, é uma obra -prima da car                      -- Reward: 2.82                                    \n",
            "\t2: Eu vi esse filme                    ->  em uma exibição muito longe                       -- Reward: 0.241                                   \n",
            "\t3: Lulu (Louise Brooks) funciona       ->  como uma famosa criação de film                   -- Reward: -0.683                                  \n",
            "\t4: 1) Não sou especialista             -> , mas este é um filme muito importante             -- Reward: 0.236                                   \n",
            "\n",
            "step 116 -- mean_reward: (1.51) -- decoding 5 rand samples:\n",
            "\t0: Eu não poderia concordar            -> , mas este é um ótimo filme so                     -- Reward: 2.96                                    \n",
            "\t1: Um filme que dramatizou             ->  a vida ao longo dos anos e incl                   -- Reward: 3.02                                    \n",
            "\t2: Fé e mortalidade... vistas          ->  na construção da história cultural, fo            -- Reward: -0.0121                                 \n",
            "\t3: Se você, como eu                    -> , é um ótimo filme, inaugura                       -- Reward: 0.566                                   \n",
            "\t4: A reunião de classe                 ->  é um ótimo filme. É um fil                        -- Reward: 2.61                                    \n",
            "\n",
            "step 117 -- mean_reward: (1.38) -- decoding 5 rand samples:\n",
            "\t0: Muito do problema que               ->  este é um filme, mas é sobretudo o                -- Reward: -0.192                                  \n",
            "\t1: A performance de todo               ->  o filme é impressionante. Também evid             -- Reward: 2.53                                    \n",
            "\t2: Este filme é uma                    ->  excelente animação.\"Este filme comb               -- Reward: 3.06                                    \n",
            "\t3: Eu já vi Zu:                        ->  este é um filme muito bom, é �                    -- Reward: 2.59                                    \n",
            "\t4: Este é realmente um                 ->  filme muito bom. Tendo visto                      -- Reward: 3.17                                    \n",
            "\n",
            "step 118 -- mean_reward: (1.42) -- decoding 5 rand samples:\n",
            "\t0: Um revisor anterior disse           ->  que este é um famoso ótimo filme                  -- Reward: 2.14                                    \n",
            "\t1: Este filme é um                     ->  bom filme sobre a vida na Virgem,                 -- Reward: 2.48                                    \n",
            "\t2: O que há com                        ->  este filme, outro filme sobre a v                 -- Reward: -1.96                                   \n",
            "\t3: Só não se preocupe.                 ->  Nenhuma experiência que valeu                     -- Reward: -2.11                                   \n",
            "\t4: Este filme explora as               ->  artes marciais, incorporando uma missão           -- Reward: 2.07                                    \n",
            "\n",
            "step 119 -- mean_reward: (1.49) -- decoding 5 rand samples:\n",
            "\t0: Ummm, por favor me                  ->  sentar. É um filme muito bom,                     -- Reward: 1.48                                    \n",
            "\t1: A Artimisia foi tarde               -> , e é um filme muito solicitado da                 -- Reward: 0.885                                   \n",
            "\t2: Primeiro de tudo, se                -> us filmes favoritos, com artes marav               -- Reward: 1.83                                    \n",
            "\t3: Estou completamente chocado que     ->  este filme é um ótimo.\"É um                       -- Reward: 1.82                                    \n",
            "\t4: Tudo bem, então estou               ->  lá!É um documentário. Compre um                   -- Reward: 2.09                                    \n",
            "\n",
            "step 120 -- mean_reward: (1.29) -- decoding 5 rand samples:\n",
            "\t0: Eu amo filmes B..                   ->  Este ótimo filme sobreArte                        -- Reward: 2.97                                    \n",
            "\t1: Eu vi esse filme                    ->  pela primeira vez em dezembro de                  -- Reward: 1.71                                    \n",
            "\t2: Trabalhando em uma loja             ->  de dez cartas, este filme é um mel                -- Reward: 2.16                                    \n",
            "\t3: Este deve ser, de                   ->  um bom lugar, um excelente filme. Nos             -- Reward: 1.72                                    \n",
            "\t4: Atlantis era muito melhor           ->  do que sua operação, apesar da excel              -- Reward: -0.108                                  \n",
            "\n",
            "step 121 -- mean_reward: (1.68) -- decoding 5 rand samples:\n",
            "\t0: Eu não tinha certeza                -> , mas este é um ótimo filme fe                     -- Reward: 3.06                                    \n",
            "\t1: Enquanto estava no celeiro          -> , ele foi visto como um vila                       -- Reward: 0.362                                   \n",
            "\t2: Eu gostei de Top                    -> o e este é um bom filme. A histó                   -- Reward: 3.01                                    \n",
            "\t3: Acabei de ver Millions              -> , foi um filme excelente sobre a v                 -- Reward: 2.52                                    \n",
            "\t4: Este filme é a                      ->  melhor adaptação cinematográf                     -- Reward: 2.73                                    \n",
            "\n",
            "step 122 -- mean_reward: (1.45) -- decoding 5 rand samples:\n",
            "\t0: Este filme é sobre                  ->  o tipo de filme de carreira que fo                -- Reward: -1.49                                   \n",
            "\t1: Com nada melhor para                ->  ver, este é um filme muito bom.                   -- Reward: 2.97                                    \n",
            "\t2: Eu e um amigo                       ->  Montagne e este é um ótimo filme                  -- Reward: 3.02                                    \n",
            "\t3: Este filme reescreveu a             ->  história, com sua enferência                      -- Reward: -0.606                                  \n",
            "\t4: Este é um belo                      ->  filme sobre vida e vida, que at                   -- Reward: 3.11                                    \n",
            "\n",
            "step 123 -- mean_reward: (1.65) -- decoding 5 rand samples:\n",
            "\t0: O enredo para descendência,         ->  com excelente e um excelente elenco completo      -- Reward: 1.69                                    \n",
            "\t1: Não sei o que                       ->  John Thierry é ou o que foi fe                    -- Reward: -0.44                                   \n",
            "\t2: e filmado em Vancouver              -> , Canadá. É um excelente filme!E                   -- Reward: 3.08                                    \n",
            "\t3: Maiden Voyage é exatamente          ->  um filme muito bom. Detalhando                    -- Reward: 2.85                                    \n",
            "\t4: Se você não gostou                  -> , este filme é so bom. Também                      -- Reward: 2.71                                    \n",
            "\n",
            "step 124 -- mean_reward: (1.26) -- decoding 5 rand samples:\n",
            "\t0: Doze macacos é um                   ->  filme muito bom e continua muito                  -- Reward: 3.07                                    \n",
            "\t1: Vejo o que o                        ->  filme recebeu: uma fantástica                     -- Reward: 0.558                                   \n",
            "\t2: Eu me registrei apenas              ->  um ótimo filme com excelente atua                 -- Reward: 2.25                                    \n",
            "\t3: Não tenho idéia de                  ->  que este é um filme bom, mas este é um            -- Reward: -2.92                                   \n",
            "\t4: Quatro anos depois de               ->  sua assassinidade, este é o concerto final        -- Reward: 1.71                                    \n",
            "\n",
            "step 125 -- mean_reward: (1.52) -- decoding 5 rand samples:\n",
            "\t0: Ok, então um 10                     ->  minutos, este é um filme excelente!               -- Reward: 3.0                                     \n",
            "\t1: Eu assisti a este                   ->  filme e é um item excelente que geralment         -- Reward: 2.81                                    \n",
            "\t2: Ao dizer isso, quero                ->  dizer que este é um filme excelente e �           -- Reward: 3.21                                    \n",
            "\t3: O que é o                           ->  melhor filme da história do lago bras             -- Reward: 2.7                                     \n",
            "\t4: Eu acho que o                       ->  melhor filme da viagem é com certe                -- Reward: 2.64                                    \n",
            "\n",
            "step 126 -- mean_reward: (1.62) -- decoding 5 rand samples:\n",
            "\t0: Demer Daves, é um                   ->  ótimo filme. Detalha celebrar                     -- Reward: 2.64                                    \n",
            "\t1: Um dos mais engraçados              ->  filmes de aventura e ação na const                -- Reward: 2.99                                    \n",
            "\t2: Estou decepcionado que Reiser       ->  é um filme ótimo. A histó                         -- Reward: -1.14                                   \n",
            "\t3: Um dos principais monetários        -> : uma vantagem!É um dos ag                         -- Reward: 0.852                                   \n",
            "\t4: Um filme emocionante. A             ->  atenária da praia é o filme m                     -- Reward: 2.5                                     \n",
            "\n"
          ]
        }
      ],
      "source": [
        "try:\n",
        "    del model\n",
        "    gc.collect()\n",
        "    torch.cuda.empty_cache()\n",
        "    \n",
        "except:\n",
        "    pass\n",
        "\n",
        "generation_kwargs = {\n",
        "    \"min_length\":-1,\n",
        "    \"top_k\": 0.0,\n",
        "    \"top_p\": 1.0,\n",
        "    \"do_sample\": True,\n",
        "    \"pad_token_id\": tokenizer.eos_token_id\n",
        "}\n",
        "\n",
        "\n",
        "MAX_LEN_OUTPUT = 12\n",
        "N_SAMPLES = 5\n",
        "loop = tqdm(ppo_trainer.dataloader, leave=True)\n",
        "\n",
        "for step, batch in enumerate(loop):\n",
        "    query_tensors = batch['input_ids']\n",
        "\n",
        "    #### Get response from gpt2\n",
        "    response_tensors = []\n",
        "    for query in query_tensors:\n",
        "        gen_len = MAX_LEN_OUTPUT\n",
        "        generation_kwargs[\"max_new_tokens\"] = gen_len\n",
        "        response = ppo_trainer.generate(query, **generation_kwargs)\n",
        "        response_tensors.append(response.squeeze()[-gen_len:])\n",
        "    batch['response'] = [tokenizer.decode(r.squeeze()) for r in response_tensors]\n",
        "\n",
        "    #### Compute sentiment score\n",
        "    texts = [q + r for q, r in zip(batch['query'], batch['response'])]\n",
        "    pipe_outputs = sentiment_pipe(texts, **sent_kwargs)\n",
        "    rewards = [torch.tensor(output[1][\"score\"]) for output in pipe_outputs]\n",
        "\n",
        "    #### Run PPO step \n",
        "    stats = ppo_trainer.step(query_tensors, response_tensors, rewards)\n",
        "    ppo_trainer.log_stats(stats, batch, rewards)\n",
        "    \n",
        "    #### Get N_SAMPLES to check\n",
        "    sample_N = torch.multinomial(\n",
        "        torch.arange(config.batch_size, dtype=torch.float), num_samples=N_SAMPLES\n",
        "        )\n",
        "    response_tensors = torch.stack(response_tensors)\n",
        "    \n",
        "    query_sampled    = [tokenizer.decode(query_tensors[s]) for s in sample_N]\n",
        "    gen_text_sampled = [tokenizer.decode(e) for e in response_tensors[sample_N]]\n",
        "    rewards_sampled  = torch.stack(rewards)[sample_N]\n",
        "\n",
        "    print(f'step {step} -- mean_reward: ({torch.tensor(rewards).mean():.3}) -- decoding {N_SAMPLES} rand samples:')\n",
        "    for ix, (q,a,r) in enumerate(zip(query_sampled, gen_text_sampled, rewards_sampled)):\n",
        "        print(f'\\t{ix}: {q:<35} -> {a:<50} -- Reward: {r.item():<40.3}')\n",
        "    print()\n",
        "\n",
        "    loop.set_description(f'mean rewards: {torch.tensor(rewards).mean():.3}')"
      ]
    },
    {
      "cell_type": "markdown",
      "metadata": {
        "id": "cudiJUPAOZ2O"
      },
      "source": [
        "### Training progress\n",
        "If you are tracking the training progress with Weights&Biases you should see a plot similar to the one below. Check out the interactive sample report on wandb.ai: [link](https://app.wandb.ai/lvwerra/trl-showcase/runs/1jtvxb1m/).\n",
        "\n",
        "<div style=\"text-align: center\">\n",
        "<img src='https://huggingface.co/datasets/trl-internal-testing/example-images/resolve/main/images/gpt2_tuning_progress.png' width='800'>\n",
        "<p style=\"text-align: center;\"> <b>Figure:</b> Reward mean and distribution evolution during training. </p>\n",
        "</div>\n",
        "\n",
        "One can observe how the model starts to generate more positive outputs after a few optimisation steps.\n",
        "\n",
        "> Note: Investigating the KL-divergence will probably show that at this point the model has not converged to the target KL-divergence, yet. To get there would require longer training or starting with a higher inital coefficient."
      ]
    },
    {
      "cell_type": "markdown",
      "metadata": {
        "id": "fH6dkGhGOZ2O"
      },
      "source": [
        "## Model inspection\n",
        "Let's inspect some examples from the IMDB dataset. We can use `model_ref` to compare the tuned model `model` against the model before optimisation."
      ]
    },
    {
      "cell_type": "code",
      "execution_count": 16,
      "metadata": {
        "colab": {
          "base_uri": "https://localhost:8080/",
          "height": 236
        },
        "id": "5UJNPRsxOZ2O",
        "outputId": "cd6bcede-4344-410d-f05a-7ebb3295620c"
      },
      "outputs": [
        {
          "output_type": "error",
          "ename": "NameError",
          "evalue": "ignored",
          "traceback": [
            "\u001b[0;31m---------------------------------------------------------------------------\u001b[0m",
            "\u001b[0;31mNameError\u001b[0m                                 Traceback (most recent call last)",
            "\u001b[0;32m<ipython-input-16-f1d75cb37a56>\u001b[0m in \u001b[0;36m<module>\u001b[0;34m\u001b[0m\n\u001b[1;32m     15\u001b[0m                                      max_new_tokens=gen_len, **gen_kwargs).squeeze()[-gen_len:]\n\u001b[1;32m     16\u001b[0m     \u001b[0mresponse_tensors_ref\u001b[0m\u001b[0;34m.\u001b[0m\u001b[0mappend\u001b[0m\u001b[0;34m(\u001b[0m\u001b[0moutput\u001b[0m\u001b[0;34m)\u001b[0m\u001b[0;34m\u001b[0m\u001b[0;34m\u001b[0m\u001b[0m\n\u001b[0;32m---> 17\u001b[0;31m     output = model.generate(torch.tensor(query_tensors[i]).unsqueeze(dim=0).to(device),\n\u001b[0m\u001b[1;32m     18\u001b[0m                                  max_new_tokens=gen_len, **gen_kwargs).squeeze()[-gen_len:]\n\u001b[1;32m     19\u001b[0m     \u001b[0mresponse_tensors\u001b[0m\u001b[0;34m.\u001b[0m\u001b[0mappend\u001b[0m\u001b[0;34m(\u001b[0m\u001b[0moutput\u001b[0m\u001b[0;34m)\u001b[0m\u001b[0;34m\u001b[0m\u001b[0;34m\u001b[0m\u001b[0m\n",
            "\u001b[0;31mNameError\u001b[0m: name 'model' is not defined"
          ]
        }
      ],
      "source": [
        "#### get a batch from the dataset\n",
        "bs = 12\n",
        "game_data = dict()\n",
        "data.set_format(\"pandas\")\n",
        "df_batch = data[:].sample(bs)\n",
        "game_data['query'] = df_batch['query'].tolist()\n",
        "query_tensors = df_batch['input_ids'].tolist()\n",
        "\n",
        "response_tensors_ref, response_tensors = [], []\n",
        "\n",
        "#### get response from gpt2 and gpt2_ref\n",
        "for i in range(bs):\n",
        "    gen_len = MAX_LEN_OUTPUT\n",
        "    output = ref_model.generate(torch.tensor(query_tensors[i]).unsqueeze(dim=0).to(device),\n",
        "                                     max_new_tokens=gen_len, **gen_kwargs).squeeze()[-gen_len:]\n",
        "    response_tensors_ref.append(output)\n",
        "    output = model.generate(torch.tensor(query_tensors[i]).unsqueeze(dim=0).to(device),\n",
        "                                 max_new_tokens=gen_len, **gen_kwargs).squeeze()[-gen_len:]\n",
        "    response_tensors.append(output)\n",
        "\n",
        "#### decode responses\n",
        "game_data['response (before)'] = [tokenizer.decode(response_tensors_ref[i]) for i in range(bs)]\n",
        "game_data['response (after)'] = [tokenizer.decode(response_tensors[i]) for i in range(bs)]\n",
        "\n",
        "#### sentiment analysis of query/response pairs before/after\n",
        "texts = [q + r for q,r in zip(game_data['query'], game_data['response (before)'])]\n",
        "game_data['rewards (before)'] = [output[1][\"score\"] for output in sentiment_pipe(texts, **sent_kwargs)]\n",
        "\n",
        "texts = [q + r for q,r in zip(game_data['query'], game_data['response (after)'])]\n",
        "game_data['rewards (after)'] = [output[1][\"score\"] for output in sentiment_pipe(texts, **sent_kwargs)]\n",
        "\n",
        "# store results in a dataframe\n",
        "import pandas as pd\n",
        "df_results = pd.DataFrame(game_data)\n",
        "df_results"
      ]
    },
    {
      "cell_type": "markdown",
      "metadata": {
        "id": "rwZ2YP4VOZ2P"
      },
      "source": [
        "Looking at the reward mean/median of the generated sequences we observe a significant difference."
      ]
    },
    {
      "cell_type": "code",
      "execution_count": null,
      "metadata": {
        "id": "4uMhQJ6dOZ2P"
      },
      "outputs": [],
      "source": [
        "print('mean:')\n",
        "display(df_results[[\"rewards (before)\", \"rewards (after)\"]].mean())\n",
        "print()\n",
        "print('median:')\n",
        "display(df_results[[\"rewards (before)\", \"rewards (after)\"]].median())"
      ]
    },
    {
      "cell_type": "markdown",
      "metadata": {
        "id": "524M03W8OZ2P"
      },
      "source": [
        "## Save model\n",
        "Finally, we save the model and push it to the Hugging Face for later usage."
      ]
    },
    {
      "cell_type": "code",
      "execution_count": null,
      "metadata": {
        "id": "UCXQjzrmOZ2Q"
      },
      "outputs": [],
      "source": [
        "model.save_pretrained(    '/content/drive/MyDrive/LLMs/ckpts/gpt2-PTBR_imdb-pos-v2', push_to_hub=False)\n",
        "tokenizer.save_pretrained('/content/drive/MyDrive/LLMs/ckpts/gpt2-PTBR_imdb-pos-v2', push_to_hub=False)"
      ]
    },
    {
      "cell_type": "code",
      "execution_count": null,
      "metadata": {
        "id": "lJw79dIlOZ2Q"
      },
      "outputs": [],
      "source": []
    }
  ],
  "metadata": {
    "colab": {
      "machine_shape": "hm",
      "provenance": [],
      "mount_file_id": "1MIe9sFTzRjHtdBxu6xB3UQggPg6JEcaO",
      "authorship_tag": "ABX9TyNk8CCPiPhTVatb++ksC9w5",
      "include_colab_link": true
    },
    "gpuClass": "standard",
    "kernelspec": {
      "display_name": "Python 3",
      "name": "python3"
    },
    "language_info": {
      "name": "python"
    },
    "widgets": {
      "application/vnd.jupyter.widget-state+json": {
        "cc60c5b0e15b407084bea335225779e8": {
          "model_module": "@jupyter-widgets/controls",
          "model_name": "VBoxModel",
          "model_module_version": "1.5.0",
          "state": {
            "_dom_classes": [],
            "_model_module": "@jupyter-widgets/controls",
            "_model_module_version": "1.5.0",
            "_model_name": "VBoxModel",
            "_view_count": null,
            "_view_module": "@jupyter-widgets/controls",
            "_view_module_version": "1.5.0",
            "_view_name": "VBoxView",
            "box_style": "",
            "children": [
              "IPY_MODEL_99bc4b93d3544ed89dc37143a6d1c2e2",
              "IPY_MODEL_b00fbc6a55724f7d86f71028c4100a74"
            ],
            "layout": "IPY_MODEL_925471d93fe945fe97cbad31b42251a6"
          }
        },
        "99bc4b93d3544ed89dc37143a6d1c2e2": {
          "model_module": "@jupyter-widgets/controls",
          "model_name": "LabelModel",
          "model_module_version": "1.5.0",
          "state": {
            "_dom_classes": [],
            "_model_module": "@jupyter-widgets/controls",
            "_model_module_version": "1.5.0",
            "_model_name": "LabelModel",
            "_view_count": null,
            "_view_module": "@jupyter-widgets/controls",
            "_view_module_version": "1.5.0",
            "_view_name": "LabelView",
            "description": "",
            "description_tooltip": null,
            "layout": "IPY_MODEL_0421c208180f4d2a82b4707accdb047e",
            "placeholder": "​",
            "style": "IPY_MODEL_19ff583b4d1b4842bcb1d3246edd80b1",
            "value": "0.001 MB of 0.001 MB uploaded (0.000 MB deduped)\r"
          }
        },
        "b00fbc6a55724f7d86f71028c4100a74": {
          "model_module": "@jupyter-widgets/controls",
          "model_name": "FloatProgressModel",
          "model_module_version": "1.5.0",
          "state": {
            "_dom_classes": [],
            "_model_module": "@jupyter-widgets/controls",
            "_model_module_version": "1.5.0",
            "_model_name": "FloatProgressModel",
            "_view_count": null,
            "_view_module": "@jupyter-widgets/controls",
            "_view_module_version": "1.5.0",
            "_view_name": "ProgressView",
            "bar_style": "",
            "description": "",
            "description_tooltip": null,
            "layout": "IPY_MODEL_3e1c1e3d47484eefb611d3dd4f46e0e1",
            "max": 1,
            "min": 0,
            "orientation": "horizontal",
            "style": "IPY_MODEL_4e85040716a142f39c6beddf3d72c4cf",
            "value": 1
          }
        },
        "925471d93fe945fe97cbad31b42251a6": {
          "model_module": "@jupyter-widgets/base",
          "model_name": "LayoutModel",
          "model_module_version": "1.2.0",
          "state": {
            "_model_module": "@jupyter-widgets/base",
            "_model_module_version": "1.2.0",
            "_model_name": "LayoutModel",
            "_view_count": null,
            "_view_module": "@jupyter-widgets/base",
            "_view_module_version": "1.2.0",
            "_view_name": "LayoutView",
            "align_content": null,
            "align_items": null,
            "align_self": null,
            "border": null,
            "bottom": null,
            "display": null,
            "flex": null,
            "flex_flow": null,
            "grid_area": null,
            "grid_auto_columns": null,
            "grid_auto_flow": null,
            "grid_auto_rows": null,
            "grid_column": null,
            "grid_gap": null,
            "grid_row": null,
            "grid_template_areas": null,
            "grid_template_columns": null,
            "grid_template_rows": null,
            "height": null,
            "justify_content": null,
            "justify_items": null,
            "left": null,
            "margin": null,
            "max_height": null,
            "max_width": null,
            "min_height": null,
            "min_width": null,
            "object_fit": null,
            "object_position": null,
            "order": null,
            "overflow": null,
            "overflow_x": null,
            "overflow_y": null,
            "padding": null,
            "right": null,
            "top": null,
            "visibility": null,
            "width": null
          }
        },
        "0421c208180f4d2a82b4707accdb047e": {
          "model_module": "@jupyter-widgets/base",
          "model_name": "LayoutModel",
          "model_module_version": "1.2.0",
          "state": {
            "_model_module": "@jupyter-widgets/base",
            "_model_module_version": "1.2.0",
            "_model_name": "LayoutModel",
            "_view_count": null,
            "_view_module": "@jupyter-widgets/base",
            "_view_module_version": "1.2.0",
            "_view_name": "LayoutView",
            "align_content": null,
            "align_items": null,
            "align_self": null,
            "border": null,
            "bottom": null,
            "display": null,
            "flex": null,
            "flex_flow": null,
            "grid_area": null,
            "grid_auto_columns": null,
            "grid_auto_flow": null,
            "grid_auto_rows": null,
            "grid_column": null,
            "grid_gap": null,
            "grid_row": null,
            "grid_template_areas": null,
            "grid_template_columns": null,
            "grid_template_rows": null,
            "height": null,
            "justify_content": null,
            "justify_items": null,
            "left": null,
            "margin": null,
            "max_height": null,
            "max_width": null,
            "min_height": null,
            "min_width": null,
            "object_fit": null,
            "object_position": null,
            "order": null,
            "overflow": null,
            "overflow_x": null,
            "overflow_y": null,
            "padding": null,
            "right": null,
            "top": null,
            "visibility": null,
            "width": null
          }
        },
        "19ff583b4d1b4842bcb1d3246edd80b1": {
          "model_module": "@jupyter-widgets/controls",
          "model_name": "DescriptionStyleModel",
          "model_module_version": "1.5.0",
          "state": {
            "_model_module": "@jupyter-widgets/controls",
            "_model_module_version": "1.5.0",
            "_model_name": "DescriptionStyleModel",
            "_view_count": null,
            "_view_module": "@jupyter-widgets/base",
            "_view_module_version": "1.2.0",
            "_view_name": "StyleView",
            "description_width": ""
          }
        },
        "3e1c1e3d47484eefb611d3dd4f46e0e1": {
          "model_module": "@jupyter-widgets/base",
          "model_name": "LayoutModel",
          "model_module_version": "1.2.0",
          "state": {
            "_model_module": "@jupyter-widgets/base",
            "_model_module_version": "1.2.0",
            "_model_name": "LayoutModel",
            "_view_count": null,
            "_view_module": "@jupyter-widgets/base",
            "_view_module_version": "1.2.0",
            "_view_name": "LayoutView",
            "align_content": null,
            "align_items": null,
            "align_self": null,
            "border": null,
            "bottom": null,
            "display": null,
            "flex": null,
            "flex_flow": null,
            "grid_area": null,
            "grid_auto_columns": null,
            "grid_auto_flow": null,
            "grid_auto_rows": null,
            "grid_column": null,
            "grid_gap": null,
            "grid_row": null,
            "grid_template_areas": null,
            "grid_template_columns": null,
            "grid_template_rows": null,
            "height": null,
            "justify_content": null,
            "justify_items": null,
            "left": null,
            "margin": null,
            "max_height": null,
            "max_width": null,
            "min_height": null,
            "min_width": null,
            "object_fit": null,
            "object_position": null,
            "order": null,
            "overflow": null,
            "overflow_x": null,
            "overflow_y": null,
            "padding": null,
            "right": null,
            "top": null,
            "visibility": null,
            "width": null
          }
        },
        "4e85040716a142f39c6beddf3d72c4cf": {
          "model_module": "@jupyter-widgets/controls",
          "model_name": "ProgressStyleModel",
          "model_module_version": "1.5.0",
          "state": {
            "_model_module": "@jupyter-widgets/controls",
            "_model_module_version": "1.5.0",
            "_model_name": "ProgressStyleModel",
            "_view_count": null,
            "_view_module": "@jupyter-widgets/base",
            "_view_module_version": "1.2.0",
            "_view_name": "StyleView",
            "bar_color": null,
            "description_width": ""
          }
        },
        "b409d9acb3474ae1b5076c482a088e4b": {
          "model_module": "@jupyter-widgets/controls",
          "model_name": "HBoxModel",
          "model_module_version": "1.5.0",
          "state": {
            "_dom_classes": [],
            "_model_module": "@jupyter-widgets/controls",
            "_model_module_version": "1.5.0",
            "_model_name": "HBoxModel",
            "_view_count": null,
            "_view_module": "@jupyter-widgets/controls",
            "_view_module_version": "1.5.0",
            "_view_name": "HBoxView",
            "box_style": "",
            "children": [
              "IPY_MODEL_59f52107653a46979e4bb092f02d5dac",
              "IPY_MODEL_3ccff80161a34fc2ab2e340eef6a70c1",
              "IPY_MODEL_1a77ada8d187467a9fd6eafedecb7505"
            ],
            "layout": "IPY_MODEL_2f188eec42ff4b049e9eeee849dd824f"
          }
        },
        "59f52107653a46979e4bb092f02d5dac": {
          "model_module": "@jupyter-widgets/controls",
          "model_name": "HTMLModel",
          "model_module_version": "1.5.0",
          "state": {
            "_dom_classes": [],
            "_model_module": "@jupyter-widgets/controls",
            "_model_module_version": "1.5.0",
            "_model_name": "HTMLModel",
            "_view_count": null,
            "_view_module": "@jupyter-widgets/controls",
            "_view_module_version": "1.5.0",
            "_view_name": "HTMLView",
            "description": "",
            "description_tooltip": null,
            "layout": "IPY_MODEL_41f3fc612d2145fbba37a20ccd151c83",
            "placeholder": "​",
            "style": "IPY_MODEL_d6c17ef046c2499da27e7f750534ff05",
            "value": "mean rewards: 1.62: 100%"
          }
        },
        "3ccff80161a34fc2ab2e340eef6a70c1": {
          "model_module": "@jupyter-widgets/controls",
          "model_name": "FloatProgressModel",
          "model_module_version": "1.5.0",
          "state": {
            "_dom_classes": [],
            "_model_module": "@jupyter-widgets/controls",
            "_model_module_version": "1.5.0",
            "_model_name": "FloatProgressModel",
            "_view_count": null,
            "_view_module": "@jupyter-widgets/controls",
            "_view_module_version": "1.5.0",
            "_view_name": "ProgressView",
            "bar_style": "success",
            "description": "",
            "description_tooltip": null,
            "layout": "IPY_MODEL_ab3dfad06a364d4598b9ae3d0df03914",
            "max": 127,
            "min": 0,
            "orientation": "horizontal",
            "style": "IPY_MODEL_b081c2123a80499d9aedd576c0e9856f",
            "value": 127
          }
        },
        "1a77ada8d187467a9fd6eafedecb7505": {
          "model_module": "@jupyter-widgets/controls",
          "model_name": "HTMLModel",
          "model_module_version": "1.5.0",
          "state": {
            "_dom_classes": [],
            "_model_module": "@jupyter-widgets/controls",
            "_model_module_version": "1.5.0",
            "_model_name": "HTMLModel",
            "_view_count": null,
            "_view_module": "@jupyter-widgets/controls",
            "_view_module_version": "1.5.0",
            "_view_name": "HTMLView",
            "description": "",
            "description_tooltip": null,
            "layout": "IPY_MODEL_ef350441e78d439486d39da939400f27",
            "placeholder": "​",
            "style": "IPY_MODEL_64c43d68ba28459f9e29f362b2968760",
            "value": " 127/127 [1:45:12&lt;00:00, 49.29s/it]"
          }
        },
        "2f188eec42ff4b049e9eeee849dd824f": {
          "model_module": "@jupyter-widgets/base",
          "model_name": "LayoutModel",
          "model_module_version": "1.2.0",
          "state": {
            "_model_module": "@jupyter-widgets/base",
            "_model_module_version": "1.2.0",
            "_model_name": "LayoutModel",
            "_view_count": null,
            "_view_module": "@jupyter-widgets/base",
            "_view_module_version": "1.2.0",
            "_view_name": "LayoutView",
            "align_content": null,
            "align_items": null,
            "align_self": null,
            "border": null,
            "bottom": null,
            "display": null,
            "flex": null,
            "flex_flow": null,
            "grid_area": null,
            "grid_auto_columns": null,
            "grid_auto_flow": null,
            "grid_auto_rows": null,
            "grid_column": null,
            "grid_gap": null,
            "grid_row": null,
            "grid_template_areas": null,
            "grid_template_columns": null,
            "grid_template_rows": null,
            "height": null,
            "justify_content": null,
            "justify_items": null,
            "left": null,
            "margin": null,
            "max_height": null,
            "max_width": null,
            "min_height": null,
            "min_width": null,
            "object_fit": null,
            "object_position": null,
            "order": null,
            "overflow": null,
            "overflow_x": null,
            "overflow_y": null,
            "padding": null,
            "right": null,
            "top": null,
            "visibility": null,
            "width": null
          }
        },
        "41f3fc612d2145fbba37a20ccd151c83": {
          "model_module": "@jupyter-widgets/base",
          "model_name": "LayoutModel",
          "model_module_version": "1.2.0",
          "state": {
            "_model_module": "@jupyter-widgets/base",
            "_model_module_version": "1.2.0",
            "_model_name": "LayoutModel",
            "_view_count": null,
            "_view_module": "@jupyter-widgets/base",
            "_view_module_version": "1.2.0",
            "_view_name": "LayoutView",
            "align_content": null,
            "align_items": null,
            "align_self": null,
            "border": null,
            "bottom": null,
            "display": null,
            "flex": null,
            "flex_flow": null,
            "grid_area": null,
            "grid_auto_columns": null,
            "grid_auto_flow": null,
            "grid_auto_rows": null,
            "grid_column": null,
            "grid_gap": null,
            "grid_row": null,
            "grid_template_areas": null,
            "grid_template_columns": null,
            "grid_template_rows": null,
            "height": null,
            "justify_content": null,
            "justify_items": null,
            "left": null,
            "margin": null,
            "max_height": null,
            "max_width": null,
            "min_height": null,
            "min_width": null,
            "object_fit": null,
            "object_position": null,
            "order": null,
            "overflow": null,
            "overflow_x": null,
            "overflow_y": null,
            "padding": null,
            "right": null,
            "top": null,
            "visibility": null,
            "width": null
          }
        },
        "d6c17ef046c2499da27e7f750534ff05": {
          "model_module": "@jupyter-widgets/controls",
          "model_name": "DescriptionStyleModel",
          "model_module_version": "1.5.0",
          "state": {
            "_model_module": "@jupyter-widgets/controls",
            "_model_module_version": "1.5.0",
            "_model_name": "DescriptionStyleModel",
            "_view_count": null,
            "_view_module": "@jupyter-widgets/base",
            "_view_module_version": "1.2.0",
            "_view_name": "StyleView",
            "description_width": ""
          }
        },
        "ab3dfad06a364d4598b9ae3d0df03914": {
          "model_module": "@jupyter-widgets/base",
          "model_name": "LayoutModel",
          "model_module_version": "1.2.0",
          "state": {
            "_model_module": "@jupyter-widgets/base",
            "_model_module_version": "1.2.0",
            "_model_name": "LayoutModel",
            "_view_count": null,
            "_view_module": "@jupyter-widgets/base",
            "_view_module_version": "1.2.0",
            "_view_name": "LayoutView",
            "align_content": null,
            "align_items": null,
            "align_self": null,
            "border": null,
            "bottom": null,
            "display": null,
            "flex": null,
            "flex_flow": null,
            "grid_area": null,
            "grid_auto_columns": null,
            "grid_auto_flow": null,
            "grid_auto_rows": null,
            "grid_column": null,
            "grid_gap": null,
            "grid_row": null,
            "grid_template_areas": null,
            "grid_template_columns": null,
            "grid_template_rows": null,
            "height": null,
            "justify_content": null,
            "justify_items": null,
            "left": null,
            "margin": null,
            "max_height": null,
            "max_width": null,
            "min_height": null,
            "min_width": null,
            "object_fit": null,
            "object_position": null,
            "order": null,
            "overflow": null,
            "overflow_x": null,
            "overflow_y": null,
            "padding": null,
            "right": null,
            "top": null,
            "visibility": null,
            "width": null
          }
        },
        "b081c2123a80499d9aedd576c0e9856f": {
          "model_module": "@jupyter-widgets/controls",
          "model_name": "ProgressStyleModel",
          "model_module_version": "1.5.0",
          "state": {
            "_model_module": "@jupyter-widgets/controls",
            "_model_module_version": "1.5.0",
            "_model_name": "ProgressStyleModel",
            "_view_count": null,
            "_view_module": "@jupyter-widgets/base",
            "_view_module_version": "1.2.0",
            "_view_name": "StyleView",
            "bar_color": null,
            "description_width": ""
          }
        },
        "ef350441e78d439486d39da939400f27": {
          "model_module": "@jupyter-widgets/base",
          "model_name": "LayoutModel",
          "model_module_version": "1.2.0",
          "state": {
            "_model_module": "@jupyter-widgets/base",
            "_model_module_version": "1.2.0",
            "_model_name": "LayoutModel",
            "_view_count": null,
            "_view_module": "@jupyter-widgets/base",
            "_view_module_version": "1.2.0",
            "_view_name": "LayoutView",
            "align_content": null,
            "align_items": null,
            "align_self": null,
            "border": null,
            "bottom": null,
            "display": null,
            "flex": null,
            "flex_flow": null,
            "grid_area": null,
            "grid_auto_columns": null,
            "grid_auto_flow": null,
            "grid_auto_rows": null,
            "grid_column": null,
            "grid_gap": null,
            "grid_row": null,
            "grid_template_areas": null,
            "grid_template_columns": null,
            "grid_template_rows": null,
            "height": null,
            "justify_content": null,
            "justify_items": null,
            "left": null,
            "margin": null,
            "max_height": null,
            "max_width": null,
            "min_height": null,
            "min_width": null,
            "object_fit": null,
            "object_position": null,
            "order": null,
            "overflow": null,
            "overflow_x": null,
            "overflow_y": null,
            "padding": null,
            "right": null,
            "top": null,
            "visibility": null,
            "width": null
          }
        },
        "64c43d68ba28459f9e29f362b2968760": {
          "model_module": "@jupyter-widgets/controls",
          "model_name": "DescriptionStyleModel",
          "model_module_version": "1.5.0",
          "state": {
            "_model_module": "@jupyter-widgets/controls",
            "_model_module_version": "1.5.0",
            "_model_name": "DescriptionStyleModel",
            "_view_count": null,
            "_view_module": "@jupyter-widgets/base",
            "_view_module_version": "1.2.0",
            "_view_name": "StyleView",
            "description_width": ""
          }
        }
      }
    },
    "accelerator": "GPU"
  },
  "nbformat": 4,
  "nbformat_minor": 0
}