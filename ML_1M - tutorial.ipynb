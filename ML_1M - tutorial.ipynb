{
  "nbformat": 4,
  "nbformat_minor": 0,
  "metadata": {
    "colab": {
      "name": "ML-1M.ipynb",
      "provenance": [],
      "mount_file_id": "1t9BB-OCSRsocbqtbK1UxIot6Yk044fux",
      "authorship_tag": "ABX9TyPpZP8BqCUT8wdFq4a4M9C1",
      "include_colab_link": true
    },
    "kernelspec": {
      "name": "python3",
      "display_name": "Python 3"
    }
  },
  "cells": [
    {
      "cell_type": "markdown",
      "metadata": {
        "id": "view-in-github",
        "colab_type": "text"
      },
      "source": [
        "<a href=\"https://colab.research.google.com/github/finardi/tutos/blob/master/ML_1M%20-%20tutorial.ipynb\" target=\"_parent\"><img src=\"https://colab.research.google.com/assets/colab-badge.svg\" alt=\"Open In Colab\"/></a>"
      ]
    },
    {
      "cell_type": "code",
      "metadata": {
        "id": "lxMMrHvinONj"
      },
      "source": [
        "import os \n",
        "import math\n",
        "import numpy as np\n",
        "import pandas as pd\n",
        "import matplotlib.pyplot as plt"
      ],
      "execution_count": 107,
      "outputs": []
    },
    {
      "cell_type": "code",
      "metadata": {
        "id": "rDIWQxrcnsAM"
      },
      "source": [
        "PATH_DIR = '/content/drive/MyDrive/Colab Notebooks/RecSys/movielens_datasets/ml-1m/'"
      ],
      "execution_count": 7,
      "outputs": []
    },
    {
      "cell_type": "markdown",
      "metadata": {
        "id": "4bfzTZQu3hdf"
      },
      "source": [
        "# Data Processing"
      ]
    },
    {
      "cell_type": "code",
      "metadata": {
        "colab": {
          "base_uri": "https://localhost:8080/"
        },
        "id": "4Eu8fCC9slID",
        "outputId": "245b80d1-de2d-40cf-8871-4f3517ead1b8"
      },
      "source": [
        "# Specify User's Age and Occupation Column\n",
        "AGES = { \n",
        "    1: \"Under 18\", \n",
        "    18: \"18-24\", \n",
        "    25: \"25-34\", \n",
        "    35: \"35-44\", \n",
        "    45: \"45-49\", \n",
        "    50: \"50-55\", \n",
        "    56: \"56+\"\n",
        "    }\n",
        "\n",
        "OCCUPATIONS = { \n",
        "    0: \"other or not specified\", \n",
        "    1: \"academic/educator\", \n",
        "    2: \"artist\", \n",
        "    3: \"clerical/admin\",\n",
        "    4: \"college/grad student\", \n",
        "    5: \"customer service\", \n",
        "    6: \"doctor/health care\",\n",
        "    7: \"executive/managerial\", \n",
        "    8: \"farmer\", \n",
        "    9: \"homemaker\", \n",
        "    10: \"K-12 student\", \n",
        "    11: \"lawyer\",\n",
        "    12: \"programmer\", \n",
        "    13: \"retired\", \n",
        "    14: \"sales/marketing\", \n",
        "    15: \"scientist\", \n",
        "    16: \"self-employed\",\n",
        "    17: \"technician/engineer\", \n",
        "    18: \"tradesman/craftsman\", \n",
        "    19: \"unemployed\", \n",
        "    20: \"writer\" \n",
        "    }\n",
        "\n",
        "# Define csv files to be saved into\n",
        "USERS_CSV_FILE = 'users2.csv'\n",
        "MOVIES_CSV_FILE = 'movies.csv'\n",
        "RATINGS_CSV_FILE = 'ratings.csv'\n",
        "\n",
        "# ======================\n",
        "#        Ratings \n",
        "# ======================\n",
        "ratings = pd.read_csv(\n",
        "    os.path.join(PATH_DIR, PATH_DIR+'ratings.dat'), \n",
        "    sep='::', \n",
        "    engine='python', \n",
        "    encoding='latin-1',\n",
        "    names=['user_id', 'movie_id', 'rating', 'timestamp']\n",
        "    )\n",
        "\n",
        "# Set max_userid to the maximum user_id in the ratings\n",
        "max_userid = ratings['user_id'].drop_duplicates().max()\n",
        "\n",
        "# Set max_movieid to the maximum movie_id in the ratings\n",
        "max_movieid = ratings['movie_id'].drop_duplicates().max()\n",
        "\n",
        "# Process ratings dataframe for Deep Learning model add user_emb_id column whose values == user_id - 1\n",
        "ratings['user_emb_id'] = ratings['user_id'] - 1\n",
        "\n",
        "# Add movie_emb_id column whose values == movie_id - 1\n",
        "ratings['movie_emb_id'] = ratings['movie_id'] - 1\n",
        "\n",
        "print(len(ratings), 'ratings loaded')\n",
        "\n",
        "# Save into ratings.csv\n",
        "ratings.to_csv(\n",
        "    os.path.join(PATH_DIR, RATINGS_CSV_FILE), \n",
        "    sep='\\t', \n",
        "    header=True, \n",
        "    encoding='latin-1', \n",
        "    columns=['user_id', 'movie_id', 'rating', 'timestamp', 'user_emb_id', 'movie_emb_id']\n",
        "    )\n",
        "print('Saved to', os.path.join(PATH_DIR, RATINGS_CSV_FILE))\n",
        "\n",
        "# ======================\n",
        "#         Users\n",
        "# ======================\n",
        "users = pd.read_csv(\n",
        "    os.path.join(PATH_DIR, 'users.dat'), \n",
        "    sep='::', \n",
        "    engine='python', \n",
        "    encoding='latin-1',\n",
        "    names=['user_id', 'gender', 'age', 'occupation', 'zipcode']\n",
        "    )\n",
        "users['age_desc'] = users['age'].apply(lambda x: AGES[x])\n",
        "users['occ_desc'] = users['occupation'].apply(lambda x: OCCUPATIONS[x])\n",
        "\n",
        "print(len(users), 'descriptions of', max_userid, 'users loaded.')\n",
        "\n",
        "# Save into users.csv\n",
        "users.to_csv(\n",
        "    os.path.join(PATH_DIR, USERS_CSV_FILE), \n",
        "    sep='\\t', \n",
        "    header=True, \n",
        "    encoding='latin-1',\n",
        "    columns=['user_id', 'gender', 'age', 'occupation', 'zipcode', 'age_desc', 'occ_desc']\n",
        "    )\n",
        "\n",
        "print('Saved to', os.path.join(PATH_DIR, USERS_CSV_FILE))\n",
        "\n",
        "# Read the Movies File\n",
        "movies = pd.read_csv(\n",
        "    os.path.join(PATH_DIR, 'movies.dat'), \n",
        "    sep='::', \n",
        "    engine='python', \n",
        "    encoding='latin-1',\n",
        "    names=['movie_id', 'title', 'genres']\n",
        "    )\n",
        "\n",
        "print(len(movies), 'descriptions of', max_movieid, 'movies loaded.')\n",
        "\n",
        "# Save into movies.csv\n",
        "movies.to_csv(\n",
        "    os.path.join(PATH_DIR, USERS_CSV_FILE), \n",
        "    sep='\\t', \n",
        "    header=True, \n",
        "    columns=['movie_id', 'title', 'genres']\n",
        "    )\n",
        "\n",
        "print('Saved to', os.path.join(PATH_DIR, MOVIES_CSV_FILE))"
      ],
      "execution_count": 108,
      "outputs": [
        {
          "output_type": "stream",
          "text": [
            "1000209 ratings loaded\n",
            "Saved to /content/drive/MyDrive/Colab Notebooks/RecSys/movielens_datasets/ml-1m/ratings.csv\n",
            "6040 descriptions of 6040 users loaded.\n",
            "Saved to /content/drive/MyDrive/Colab Notebooks/RecSys/movielens_datasets/ml-1m/users2.csv\n",
            "3883 descriptions of 3952 movies loaded.\n",
            "Saved to /content/drive/MyDrive/Colab Notebooks/RecSys/movielens_datasets/ml-1m/movies.csv\n"
          ],
          "name": "stdout"
        }
      ]
    },
    {
      "cell_type": "markdown",
      "metadata": {
        "id": "UJGnbEgV6yif"
      },
      "source": [
        "# Movie Recommendation with Content-Based and Collaborative Filtering\n",
        "“*What movie should I watch this evening?*” \n",
        "\n",
        "Have you ever had to answer this question at least once when you came home from work? As for me — yes, and more than once. From Netflix to Hulu, the need to build robust movie recommendation systems is extremely important given the huge demand for personalized content of modern consumers.\n",
        "\n",
        "An example of recommendation system is such as this:\n",
        "* User A watches **Game of Thrones** and **Breaking Bad**.\n",
        "* User B does search on **Game of Thrones**, then the system suggests **Breaking Bad** from data collected about user A.\n",
        "\n",
        "Recommendation systems are used not only for movies, but on multiple other products and services like Amazon (Books, Items), Pandora/Spotify (Music), Google (News, Search), YouTube (Videos) etc.\n",
        "\n",
        "<img src=\"https://drive.google.com/uc?id=1rpmmEiLa9qtFyoxOBJYFHSoWG6eZ0sFr\" alt=\"drawing\" width=\"500\"/>\n",
        "\n",
        "Two most ubiquitous types of personalized recommendation systems are **Content-Based** and **Collaborative Filtering**. Collaborative filtering produces recommendations based on the knowledge of users’ attitude to items, that is it uses the “wisdom of the crowd” to recommend items. In contrast, content-based recommendation systems focus on the attributes of the items and give you recommendations based on the similarity between them.\n",
        "\n",
        "In this notebook, I will attempt at implementing these two systems to recommend movies and evaluate them to see which one performs better.\n",
        "\n",
        "After reading this post you will know:\n",
        "\n",
        "* About the MovieLens dataset problem for recommender system.\n",
        "* How to load and process the data.\n",
        "* How to do exploratory data analysis.\n",
        "* The 2 different types of recommendation engines.\n",
        "* How to develop a content-based recommendation model based on movie genres.\n",
        "* How to develop a collaborative filtering model based on user ratings.\n",
        "* Alternative approach to improve existing models.\n",
        "\n",
        "Let’s get started."
      ]
    },
    {
      "cell_type": "markdown",
      "metadata": {
        "id": "h7o2MVAW6yik"
      },
      "source": [
        "## The MovieLens Dataset\n",
        "One of the most common datasets that is available on the internet for building a Recommender System is the [MovieLens DataSet](https://grouplens.org/datasets/movielens/). This version of the dataset that I'm working with ([1M](https://grouplens.org/datasets/movielens/1m/)) contains 1,000,209 anonymous ratings of approximately 3,900 movies made by 6,040 MovieLens users who joined MovieLens in 2000.\n",
        "\n",
        "The data was collected by GroupLens researchers over various periods of time, depending on the size of the set. This 1M version was released on February 2003. Users were selected at random for inclusion. All users selected had rated at least 20 movies. Each user is represented by an id, and no other information is provided.\n",
        "\n",
        "The original data are contained in three files, [movies.dat](https://github.com/khanhnamle1994/movielens/blob/master/dat/movies.dat), [ratings.dat](https://github.com/khanhnamle1994/movielens/blob/master/dat/ratings.dat) and [users.dat](https://github.com/khanhnamle1994/movielens/blob/master/dat/users.dat). To make it easier to work with the data, I converted them into csv files. The process can be viewed in my [Data Processing Notebook](https://github.com/khanhnamle1994/movielens/blob/master/Data_Processing.ipynb).\n",
        "\n",
        "<img src=\"https://drive.google.com/uc?id=1zWdNvVWosoihXotr2T8MlyOUrYJowKS6\" alt=\"drawing\" width=\"500\"/>"
      ]
    },
    {
      "cell_type": "markdown",
      "metadata": {
        "id": "bDBC50YS6yil"
      },
      "source": [
        "## Data Preparation\n",
        "Let's load this data into Python. I will load the dataset with Pandas onto Dataframes **ratings**, **users**, and **movies**. Before that, I'll also pass in column names for each CSV and read them using pandas (the column names are available in the [Readme](https://github.com/khanhnamle1994/movielens/blob/master/README.md) file)."
      ]
    },
    {
      "cell_type": "code",
      "metadata": {
        "colab": {
          "base_uri": "https://localhost:8080/",
          "height": 204
        },
        "id": "ggki7TUfHfQk",
        "outputId": "1ea2f67e-4945-4b8a-c8c0-0a4ecce7a850"
      },
      "source": [
        "ratings = ratings[['user_id', 'movie_id', 'rating']]\n",
        "ratings.head()"
      ],
      "execution_count": 37,
      "outputs": [
        {
          "output_type": "execute_result",
          "data": {
            "text/html": [
              "<div>\n",
              "<style scoped>\n",
              "    .dataframe tbody tr th:only-of-type {\n",
              "        vertical-align: middle;\n",
              "    }\n",
              "\n",
              "    .dataframe tbody tr th {\n",
              "        vertical-align: top;\n",
              "    }\n",
              "\n",
              "    .dataframe thead th {\n",
              "        text-align: right;\n",
              "    }\n",
              "</style>\n",
              "<table border=\"1\" class=\"dataframe\">\n",
              "  <thead>\n",
              "    <tr style=\"text-align: right;\">\n",
              "      <th></th>\n",
              "      <th>user_id</th>\n",
              "      <th>movie_id</th>\n",
              "      <th>rating</th>\n",
              "    </tr>\n",
              "  </thead>\n",
              "  <tbody>\n",
              "    <tr>\n",
              "      <th>0</th>\n",
              "      <td>1</td>\n",
              "      <td>1193</td>\n",
              "      <td>5</td>\n",
              "    </tr>\n",
              "    <tr>\n",
              "      <th>1</th>\n",
              "      <td>1</td>\n",
              "      <td>661</td>\n",
              "      <td>3</td>\n",
              "    </tr>\n",
              "    <tr>\n",
              "      <th>2</th>\n",
              "      <td>1</td>\n",
              "      <td>914</td>\n",
              "      <td>3</td>\n",
              "    </tr>\n",
              "    <tr>\n",
              "      <th>3</th>\n",
              "      <td>1</td>\n",
              "      <td>3408</td>\n",
              "      <td>4</td>\n",
              "    </tr>\n",
              "    <tr>\n",
              "      <th>4</th>\n",
              "      <td>1</td>\n",
              "      <td>2355</td>\n",
              "      <td>5</td>\n",
              "    </tr>\n",
              "  </tbody>\n",
              "</table>\n",
              "</div>"
            ],
            "text/plain": [
              "   user_id  movie_id  rating\n",
              "0        1      1193       5\n",
              "1        1       661       3\n",
              "2        1       914       3\n",
              "3        1      3408       4\n",
              "4        1      2355       5"
            ]
          },
          "metadata": {
            "tags": []
          },
          "execution_count": 37
        }
      ]
    },
    {
      "cell_type": "code",
      "metadata": {
        "colab": {
          "base_uri": "https://localhost:8080/",
          "height": 204
        },
        "id": "y4h671CLHsfE",
        "outputId": "d1486e46-1a51-418d-b323-b07d5b4a6aa3"
      },
      "source": [
        "users = users[['user_id', 'gender', 'zipcode', 'age_desc', 'occ_desc']]\n",
        "users.head()"
      ],
      "execution_count": 39,
      "outputs": [
        {
          "output_type": "execute_result",
          "data": {
            "text/html": [
              "<div>\n",
              "<style scoped>\n",
              "    .dataframe tbody tr th:only-of-type {\n",
              "        vertical-align: middle;\n",
              "    }\n",
              "\n",
              "    .dataframe tbody tr th {\n",
              "        vertical-align: top;\n",
              "    }\n",
              "\n",
              "    .dataframe thead th {\n",
              "        text-align: right;\n",
              "    }\n",
              "</style>\n",
              "<table border=\"1\" class=\"dataframe\">\n",
              "  <thead>\n",
              "    <tr style=\"text-align: right;\">\n",
              "      <th></th>\n",
              "      <th>user_id</th>\n",
              "      <th>gender</th>\n",
              "      <th>zipcode</th>\n",
              "      <th>age_desc</th>\n",
              "      <th>occ_desc</th>\n",
              "    </tr>\n",
              "  </thead>\n",
              "  <tbody>\n",
              "    <tr>\n",
              "      <th>0</th>\n",
              "      <td>1</td>\n",
              "      <td>F</td>\n",
              "      <td>48067</td>\n",
              "      <td>Under 18</td>\n",
              "      <td>K-12 student</td>\n",
              "    </tr>\n",
              "    <tr>\n",
              "      <th>1</th>\n",
              "      <td>2</td>\n",
              "      <td>M</td>\n",
              "      <td>70072</td>\n",
              "      <td>56+</td>\n",
              "      <td>self-employed</td>\n",
              "    </tr>\n",
              "    <tr>\n",
              "      <th>2</th>\n",
              "      <td>3</td>\n",
              "      <td>M</td>\n",
              "      <td>55117</td>\n",
              "      <td>25-34</td>\n",
              "      <td>scientist</td>\n",
              "    </tr>\n",
              "    <tr>\n",
              "      <th>3</th>\n",
              "      <td>4</td>\n",
              "      <td>M</td>\n",
              "      <td>02460</td>\n",
              "      <td>45-49</td>\n",
              "      <td>executive/managerial</td>\n",
              "    </tr>\n",
              "    <tr>\n",
              "      <th>4</th>\n",
              "      <td>5</td>\n",
              "      <td>M</td>\n",
              "      <td>55455</td>\n",
              "      <td>25-34</td>\n",
              "      <td>writer</td>\n",
              "    </tr>\n",
              "  </tbody>\n",
              "</table>\n",
              "</div>"
            ],
            "text/plain": [
              "   user_id gender zipcode  age_desc              occ_desc\n",
              "0        1      F   48067  Under 18          K-12 student\n",
              "1        2      M   70072       56+         self-employed\n",
              "2        3      M   55117     25-34             scientist\n",
              "3        4      M   02460     45-49  executive/managerial\n",
              "4        5      M   55455     25-34                writer"
            ]
          },
          "metadata": {
            "tags": []
          },
          "execution_count": 39
        }
      ]
    },
    {
      "cell_type": "code",
      "metadata": {
        "colab": {
          "base_uri": "https://localhost:8080/",
          "height": 204
        },
        "id": "k5cHN4xBHzHY",
        "outputId": "73066364-9cf9-46f9-b866-46488ee05201"
      },
      "source": [
        "movies = movies[['movie_id', 'title', 'genres']]\n",
        "movies.head()"
      ],
      "execution_count": 40,
      "outputs": [
        {
          "output_type": "execute_result",
          "data": {
            "text/html": [
              "<div>\n",
              "<style scoped>\n",
              "    .dataframe tbody tr th:only-of-type {\n",
              "        vertical-align: middle;\n",
              "    }\n",
              "\n",
              "    .dataframe tbody tr th {\n",
              "        vertical-align: top;\n",
              "    }\n",
              "\n",
              "    .dataframe thead th {\n",
              "        text-align: right;\n",
              "    }\n",
              "</style>\n",
              "<table border=\"1\" class=\"dataframe\">\n",
              "  <thead>\n",
              "    <tr style=\"text-align: right;\">\n",
              "      <th></th>\n",
              "      <th>movie_id</th>\n",
              "      <th>title</th>\n",
              "      <th>genres</th>\n",
              "    </tr>\n",
              "  </thead>\n",
              "  <tbody>\n",
              "    <tr>\n",
              "      <th>0</th>\n",
              "      <td>1</td>\n",
              "      <td>Toy Story (1995)</td>\n",
              "      <td>Animation|Children's|Comedy</td>\n",
              "    </tr>\n",
              "    <tr>\n",
              "      <th>1</th>\n",
              "      <td>2</td>\n",
              "      <td>Jumanji (1995)</td>\n",
              "      <td>Adventure|Children's|Fantasy</td>\n",
              "    </tr>\n",
              "    <tr>\n",
              "      <th>2</th>\n",
              "      <td>3</td>\n",
              "      <td>Grumpier Old Men (1995)</td>\n",
              "      <td>Comedy|Romance</td>\n",
              "    </tr>\n",
              "    <tr>\n",
              "      <th>3</th>\n",
              "      <td>4</td>\n",
              "      <td>Waiting to Exhale (1995)</td>\n",
              "      <td>Comedy|Drama</td>\n",
              "    </tr>\n",
              "    <tr>\n",
              "      <th>4</th>\n",
              "      <td>5</td>\n",
              "      <td>Father of the Bride Part II (1995)</td>\n",
              "      <td>Comedy</td>\n",
              "    </tr>\n",
              "  </tbody>\n",
              "</table>\n",
              "</div>"
            ],
            "text/plain": [
              "   movie_id                               title                        genres\n",
              "0         1                    Toy Story (1995)   Animation|Children's|Comedy\n",
              "1         2                      Jumanji (1995)  Adventure|Children's|Fantasy\n",
              "2         3             Grumpier Old Men (1995)                Comedy|Romance\n",
              "3         4            Waiting to Exhale (1995)                  Comedy|Drama\n",
              "4         5  Father of the Bride Part II (1995)                        Comedy"
            ]
          },
          "metadata": {
            "tags": []
          },
          "execution_count": 40
        }
      ]
    },
    {
      "cell_type": "markdown",
      "metadata": {
        "id": "K6Jv26566yim"
      },
      "source": [
        "Now lets take a peak into the content of each file to understand them better.\n",
        "\n",
        "### Ratings Dataset"
      ]
    },
    {
      "cell_type": "code",
      "metadata": {
        "id": "bBySA2KC6yin",
        "colab": {
          "base_uri": "https://localhost:8080/"
        },
        "outputId": "a14b57ea-c204-4eb4-a076-b0fda2f6e89c"
      },
      "source": [
        "ratings.info()"
      ],
      "execution_count": 45,
      "outputs": [
        {
          "output_type": "stream",
          "text": [
            "<class 'pandas.core.frame.DataFrame'>\n",
            "RangeIndex: 1000209 entries, 0 to 1000208\n",
            "Data columns (total 3 columns):\n",
            " #   Column    Non-Null Count    Dtype\n",
            "---  ------    --------------    -----\n",
            " 0   user_id   1000209 non-null  int64\n",
            " 1   movie_id  1000209 non-null  int64\n",
            " 2   rating    1000209 non-null  int64\n",
            "dtypes: int64(3)\n",
            "memory usage: 22.9 MB\n"
          ],
          "name": "stdout"
        }
      ]
    },
    {
      "cell_type": "markdown",
      "metadata": {
        "id": "bLM4bRpG6yin"
      },
      "source": [
        "This confirms that there are 1M ratings for different user and movie combinations.\n",
        "\n",
        "### Users Dataset"
      ]
    },
    {
      "cell_type": "code",
      "metadata": {
        "id": "JZ-ZT8LB6yio",
        "colab": {
          "base_uri": "https://localhost:8080/"
        },
        "outputId": "76092203-8e88-49f5-e708-ca4d8ee8d141"
      },
      "source": [
        "users.info()"
      ],
      "execution_count": 46,
      "outputs": [
        {
          "output_type": "stream",
          "text": [
            "<class 'pandas.core.frame.DataFrame'>\n",
            "RangeIndex: 6040 entries, 0 to 6039\n",
            "Data columns (total 5 columns):\n",
            " #   Column    Non-Null Count  Dtype \n",
            "---  ------    --------------  ----- \n",
            " 0   user_id   6040 non-null   int64 \n",
            " 1   gender    6040 non-null   object\n",
            " 2   zipcode   6040 non-null   object\n",
            " 3   age_desc  6040 non-null   object\n",
            " 4   occ_desc  6040 non-null   object\n",
            "dtypes: int64(1), object(4)\n",
            "memory usage: 236.1+ KB\n"
          ],
          "name": "stdout"
        }
      ]
    },
    {
      "cell_type": "markdown",
      "metadata": {
        "id": "l0Y17gWT6yio"
      },
      "source": [
        "This confirms that there are 6040 users and we have 5 features for each (unique user ID, gender, age, occupation and the zip code they are living in).\n",
        "\n",
        "### Movies Dataset"
      ]
    },
    {
      "cell_type": "code",
      "metadata": {
        "id": "tHBhGRu06yip",
        "colab": {
          "base_uri": "https://localhost:8080/"
        },
        "outputId": "47908019-7514-4de5-89f6-af3b80f6aa09"
      },
      "source": [
        "movies.info()"
      ],
      "execution_count": 47,
      "outputs": [
        {
          "output_type": "stream",
          "text": [
            "<class 'pandas.core.frame.DataFrame'>\n",
            "RangeIndex: 3883 entries, 0 to 3882\n",
            "Data columns (total 3 columns):\n",
            " #   Column    Non-Null Count  Dtype \n",
            "---  ------    --------------  ----- \n",
            " 0   movie_id  3883 non-null   int64 \n",
            " 1   title     3883 non-null   object\n",
            " 2   genres    3883 non-null   object\n",
            "dtypes: int64(1), object(2)\n",
            "memory usage: 91.1+ KB\n"
          ],
          "name": "stdout"
        }
      ]
    },
    {
      "cell_type": "markdown",
      "metadata": {
        "id": "NkM93dPe6yip"
      },
      "source": [
        "This dataset contains attributes of the 3883 movies. There are 3 columns including the movie ID, their titles, and their genres. Genres are pipe-separated and are selected from 18 genres (Action, Adventure, Animation, Children's, Comedy, Crime, Documentary, Drama, Fantasy, Film-Noir, Horror, Musical, Mystery, Romance, Sci-Fi, Thriller, War, Western)."
      ]
    },
    {
      "cell_type": "markdown",
      "metadata": {
        "id": "zLFpsFS46yip"
      },
      "source": [
        "## Data Exploration\n",
        "### Titles\n",
        "Are there certain words that feature more often in Movie Titles? I'll attempt to figure this out using a word-cloud visualization."
      ]
    },
    {
      "cell_type": "code",
      "metadata": {
        "id": "J81K23F-6yip",
        "colab": {
          "base_uri": "https://localhost:8080/",
          "height": 466
        },
        "outputId": "14aaea2c-816c-4b46-f88b-7bd131032353"
      },
      "source": [
        "# Import new libraries\n",
        "import wordcloud\n",
        "from wordcloud import WordCloud, STOPWORDS\n",
        "\n",
        "# Create a wordcloud of the movie titles\n",
        "movies['title'] = movies['title'].fillna(\"\").astype('str')\n",
        "title_corpus = ' '.join(movies['title'])\n",
        "title_wordcloud = WordCloud(stopwords=STOPWORDS, background_color='black', height=2000, width=4000).generate(title_corpus)\n",
        "\n",
        "# Plot the wordcloud\n",
        "plt.figure(figsize=(16,8))\n",
        "plt.imshow(title_wordcloud)\n",
        "plt.axis('off')\n",
        "plt.show()"
      ],
      "execution_count": 48,
      "outputs": [
        {
          "output_type": "display_data",
          "data": {
            "image/png": "[encoded data removed]",
            "text/plain": [
              "<Figure size 1152x576 with 1 Axes>"
            ]
          },
          "metadata": {
            "tags": [],
            "needs_background": "light"
          }
        }
      ]
    },
    {
      "cell_type": "markdown",
      "metadata": {
        "id": "4kuvPZMU6yiq"
      },
      "source": [
        "Beautiful, isn't it? I can recognize that there are a lot of movie franchises in this dataset, as evidenced by words like *II* and *III*... In addition to that, *Day*, *Love*, *Life*, *Time*, *Night*, *Man*, *Dead*, *American* are among the most commonly occuring words.\n",
        "\n",
        "### Ratings\n",
        "Next I want to examine the **rating** further. Let's take a look at its summary statistics and distribution."
      ]
    },
    {
      "cell_type": "code",
      "metadata": {
        "id": "BLr136_x6yiq",
        "colab": {
          "base_uri": "https://localhost:8080/"
        },
        "outputId": "4f49b53c-d2cc-4221-9d94-908f96609aad"
      },
      "source": [
        "# Get summary statistics of rating\n",
        "ratings['rating'].describe()"
      ],
      "execution_count": 49,
      "outputs": [
        {
          "output_type": "execute_result",
          "data": {
            "text/plain": [
              "count    1.000209e+06\n",
              "mean     3.581564e+00\n",
              "std      1.117102e+00\n",
              "min      1.000000e+00\n",
              "25%      3.000000e+00\n",
              "50%      4.000000e+00\n",
              "75%      4.000000e+00\n",
              "max      5.000000e+00\n",
              "Name: rating, dtype: float64"
            ]
          },
          "metadata": {
            "tags": []
          },
          "execution_count": 49
        }
      ]
    },
    {
      "cell_type": "code",
      "metadata": {
        "id": "wK6gpV9r6yiq",
        "colab": {
          "base_uri": "https://localhost:8080/",
          "height": 369
        },
        "outputId": "d294a014-a530-4b3c-940c-a484acfa8b21"
      },
      "source": [
        "import seaborn as sns\n",
        "\n",
        "sns.set_style('whitegrid')\n",
        "sns.set(font_scale=1.5)\n",
        "\n",
        "# Display distribution of rating\n",
        "sns.distplot(ratings['rating'].fillna(ratings['rating'].median()))"
      ],
      "execution_count": 51,
      "outputs": [
        {
          "output_type": "stream",
          "text": [
            "/usr/local/lib/python3.6/dist-packages/seaborn/distributions.py:2551: FutureWarning: `distplot` is a deprecated function and will be removed in a future version. Please adapt your code to use either `displot` (a figure-level function with similar flexibility) or `histplot` (an axes-level function for histograms).\n",
            "  warnings.warn(msg, FutureWarning)\n"
          ],
          "name": "stderr"
        },
        {
          "output_type": "execute_result",
          "data": {
            "text/plain": [
              "<matplotlib.axes._subplots.AxesSubplot at 0x7f418a38a550>"
            ]
          },
          "metadata": {
            "tags": []
          },
          "execution_count": 51
        },
        {
          "output_type": "display_data",
          "data": {
            "image/png": "[encoded data removed]",
            "text/plain": [
              "<Figure size 432x288 with 1 Axes>"
            ]
          },
          "metadata": {
            "tags": []
          }
        }
      ]
    },
    {
      "cell_type": "markdown",
      "metadata": {
        "id": "M-cJKrUW6yir"
      },
      "source": [
        "It appears that users are quite generous in their ratings. The mean rating is 3.58 on a scale of 5. Half the movies have a rating of 4 and 5. I personally think that a 5-level rating skill wasn’t a good indicator as people could have different rating styles (i.e. person A could always use 4 for an average movie, whereas person B only gives 4 out for their favorites). Each user rated at least 20 movies, so I doubt the distribution could be caused just by chance variance in the quality of movies.\n",
        "\n",
        "Let's also take a look at a subset of 20 movies with the highest rating."
      ]
    },
    {
      "cell_type": "code",
      "metadata": {
        "id": "-vdWtsSA6yir",
        "colab": {
          "base_uri": "https://localhost:8080/",
          "height": 669
        },
        "outputId": "44e0c303-f3d1-4fe3-a8a1-3b29bd16bcf0"
      },
      "source": [
        "# Join all 3 files into one dataframe\n",
        "dataset = pd.merge(pd.merge(movies, ratings),users)\n",
        "# Display 20 movies with highest ratings\n",
        "dataset[['title','genres','rating']].sort_values('rating', ascending=False).head(20)"
      ],
      "execution_count": 52,
      "outputs": [
        {
          "output_type": "execute_result",
          "data": {
            "text/html": [
              "<div>\n",
              "<style scoped>\n",
              "    .dataframe tbody tr th:only-of-type {\n",
              "        vertical-align: middle;\n",
              "    }\n",
              "\n",
              "    .dataframe tbody tr th {\n",
              "        vertical-align: top;\n",
              "    }\n",
              "\n",
              "    .dataframe thead th {\n",
              "        text-align: right;\n",
              "    }\n",
              "</style>\n",
              "<table border=\"1\" class=\"dataframe\">\n",
              "  <thead>\n",
              "    <tr style=\"text-align: right;\">\n",
              "      <th></th>\n",
              "      <th>title</th>\n",
              "      <th>genres</th>\n",
              "      <th>rating</th>\n",
              "    </tr>\n",
              "  </thead>\n",
              "  <tbody>\n",
              "    <tr>\n",
              "      <th>0</th>\n",
              "      <td>Toy Story (1995)</td>\n",
              "      <td>Animation|Children's|Comedy</td>\n",
              "      <td>5</td>\n",
              "    </tr>\n",
              "    <tr>\n",
              "      <th>489283</th>\n",
              "      <td>American Beauty (1999)</td>\n",
              "      <td>Comedy|Drama</td>\n",
              "      <td>5</td>\n",
              "    </tr>\n",
              "    <tr>\n",
              "      <th>489259</th>\n",
              "      <td>Election (1999)</td>\n",
              "      <td>Comedy</td>\n",
              "      <td>5</td>\n",
              "    </tr>\n",
              "    <tr>\n",
              "      <th>489257</th>\n",
              "      <td>Matrix, The (1999)</td>\n",
              "      <td>Action|Sci-Fi|Thriller</td>\n",
              "      <td>5</td>\n",
              "    </tr>\n",
              "    <tr>\n",
              "      <th>489256</th>\n",
              "      <td>Dead Ringers (1988)</td>\n",
              "      <td>Drama|Thriller</td>\n",
              "      <td>5</td>\n",
              "    </tr>\n",
              "    <tr>\n",
              "      <th>489237</th>\n",
              "      <td>Rushmore (1998)</td>\n",
              "      <td>Comedy</td>\n",
              "      <td>5</td>\n",
              "    </tr>\n",
              "    <tr>\n",
              "      <th>489236</th>\n",
              "      <td>Simple Plan, A (1998)</td>\n",
              "      <td>Crime|Thriller</td>\n",
              "      <td>5</td>\n",
              "    </tr>\n",
              "    <tr>\n",
              "      <th>489226</th>\n",
              "      <td>Hands on a Hard Body (1996)</td>\n",
              "      <td>Documentary</td>\n",
              "      <td>5</td>\n",
              "    </tr>\n",
              "    <tr>\n",
              "      <th>489224</th>\n",
              "      <td>Pleasantville (1998)</td>\n",
              "      <td>Comedy</td>\n",
              "      <td>5</td>\n",
              "    </tr>\n",
              "    <tr>\n",
              "      <th>489212</th>\n",
              "      <td>Say Anything... (1989)</td>\n",
              "      <td>Comedy|Drama|Romance</td>\n",
              "      <td>5</td>\n",
              "    </tr>\n",
              "    <tr>\n",
              "      <th>489207</th>\n",
              "      <td>Beetlejuice (1988)</td>\n",
              "      <td>Comedy|Fantasy</td>\n",
              "      <td>5</td>\n",
              "    </tr>\n",
              "    <tr>\n",
              "      <th>489190</th>\n",
              "      <td>Roger &amp; Me (1989)</td>\n",
              "      <td>Comedy|Documentary</td>\n",
              "      <td>5</td>\n",
              "    </tr>\n",
              "    <tr>\n",
              "      <th>489172</th>\n",
              "      <td>Buffalo 66 (1998)</td>\n",
              "      <td>Action|Comedy|Drama</td>\n",
              "      <td>5</td>\n",
              "    </tr>\n",
              "    <tr>\n",
              "      <th>489171</th>\n",
              "      <td>Out of Sight (1998)</td>\n",
              "      <td>Action|Crime|Romance</td>\n",
              "      <td>5</td>\n",
              "    </tr>\n",
              "    <tr>\n",
              "      <th>489170</th>\n",
              "      <td>I Went Down (1997)</td>\n",
              "      <td>Action|Comedy|Crime</td>\n",
              "      <td>5</td>\n",
              "    </tr>\n",
              "    <tr>\n",
              "      <th>489168</th>\n",
              "      <td>Opposite of Sex, The (1998)</td>\n",
              "      <td>Comedy|Drama</td>\n",
              "      <td>5</td>\n",
              "    </tr>\n",
              "    <tr>\n",
              "      <th>489157</th>\n",
              "      <td>Good Will Hunting (1997)</td>\n",
              "      <td>Drama</td>\n",
              "      <td>5</td>\n",
              "    </tr>\n",
              "    <tr>\n",
              "      <th>489152</th>\n",
              "      <td>Fast, Cheap &amp; Out of Control (1997)</td>\n",
              "      <td>Documentary</td>\n",
              "      <td>5</td>\n",
              "    </tr>\n",
              "    <tr>\n",
              "      <th>489149</th>\n",
              "      <td>L.A. Confidential (1997)</td>\n",
              "      <td>Crime|Film-Noir|Mystery|Thriller</td>\n",
              "      <td>5</td>\n",
              "    </tr>\n",
              "    <tr>\n",
              "      <th>489145</th>\n",
              "      <td>Contact (1997)</td>\n",
              "      <td>Drama|Sci-Fi</td>\n",
              "      <td>5</td>\n",
              "    </tr>\n",
              "  </tbody>\n",
              "</table>\n",
              "</div>"
            ],
            "text/plain": [
              "                                      title  ... rating\n",
              "0                          Toy Story (1995)  ...      5\n",
              "489283               American Beauty (1999)  ...      5\n",
              "489259                      Election (1999)  ...      5\n",
              "489257                   Matrix, The (1999)  ...      5\n",
              "489256                  Dead Ringers (1988)  ...      5\n",
              "489237                      Rushmore (1998)  ...      5\n",
              "489236                Simple Plan, A (1998)  ...      5\n",
              "489226          Hands on a Hard Body (1996)  ...      5\n",
              "489224                 Pleasantville (1998)  ...      5\n",
              "489212               Say Anything... (1989)  ...      5\n",
              "489207                   Beetlejuice (1988)  ...      5\n",
              "489190                    Roger & Me (1989)  ...      5\n",
              "489172                    Buffalo 66 (1998)  ...      5\n",
              "489171                  Out of Sight (1998)  ...      5\n",
              "489170                   I Went Down (1997)  ...      5\n",
              "489168          Opposite of Sex, The (1998)  ...      5\n",
              "489157             Good Will Hunting (1997)  ...      5\n",
              "489152  Fast, Cheap & Out of Control (1997)  ...      5\n",
              "489149             L.A. Confidential (1997)  ...      5\n",
              "489145                       Contact (1997)  ...      5\n",
              "\n",
              "[20 rows x 3 columns]"
            ]
          },
          "metadata": {
            "tags": []
          },
          "execution_count": 52
        }
      ]
    },
    {
      "cell_type": "markdown",
      "metadata": {
        "id": "sLSpyri-6yir"
      },
      "source": [
        "### Genres\n",
        "The genres variable will surely be important while building the recommendation engines since it describes the content of the film (i.e. Animation, Horror, Sci-Fi). A basic assumption is that films in the same genre should have similar contents. I'll attempt to see exactly which genres are the most popular."
      ]
    },
    {
      "cell_type": "code",
      "metadata": {
        "id": "B7gYJtAR6yir",
        "colab": {
          "base_uri": "https://localhost:8080/"
        },
        "outputId": "e9fa2dfa-ef41-4e75-90d0-77f542c50397"
      },
      "source": [
        "# Make a census of the genre keywords\n",
        "genre_labels = set()\n",
        "for s in movies['genres'].str.split('|').values:\n",
        "    genre_labels = genre_labels.union(set(s))\n",
        "\n",
        "# Function that counts the number of times each of the genre keywords appear\n",
        "def count_word(dataset, ref_col, census):\n",
        "    keyword_count = dict()\n",
        "    for s in census: \n",
        "        keyword_count[s] = 0\n",
        "    for census_keywords in dataset[ref_col].str.split('|'):        \n",
        "        if type(census_keywords) == float and pd.isnull(census_keywords): \n",
        "            continue        \n",
        "        for s in [s for s in census_keywords if s in census]: \n",
        "            if pd.notnull(s): \n",
        "                keyword_count[s] += 1\n",
        "    #______________________________________________________________________\n",
        "    # convert the dictionary in a list to sort the keywords by frequency\n",
        "    keyword_occurences = []\n",
        "    for k,v in keyword_count.items():\n",
        "        keyword_occurences.append([k,v])\n",
        "    keyword_occurences.sort(key = lambda x:x[1], reverse = True)\n",
        "    return keyword_occurences, keyword_count\n",
        "\n",
        "# Calling this function gives access to a list of genre keywords which are sorted by decreasing frequency\n",
        "keyword_occurences, dum = count_word(movies, 'genres', genre_labels)\n",
        "keyword_occurences[:5]"
      ],
      "execution_count": 53,
      "outputs": [
        {
          "output_type": "execute_result",
          "data": {
            "text/plain": [
              "[['Drama', 1603],\n",
              " ['Comedy', 1200],\n",
              " ['Action', 503],\n",
              " ['Thriller', 492],\n",
              " ['Romance', 471]]"
            ]
          },
          "metadata": {
            "tags": []
          },
          "execution_count": 53
        }
      ]
    },
    {
      "cell_type": "markdown",
      "metadata": {
        "id": "H8cQvlSB6yis"
      },
      "source": [
        "The top 5 genres are, in that respect order: Drama, Comedy, Action, Thriller, and Romance. I'll show this on a wordcloud too in order to make it more visually appealing."
      ]
    },
    {
      "cell_type": "code",
      "metadata": {
        "id": "MJpFW5T86yis",
        "colab": {
          "base_uri": "https://localhost:8080/",
          "height": 388
        },
        "outputId": "ebd188a6-41cd-477e-b05f-f1a693b8c4d1"
      },
      "source": [
        "# Define the dictionary used to produce the genre wordcloud\n",
        "genres = dict()\n",
        "trunc_occurences = keyword_occurences[0:18]\n",
        "for s in trunc_occurences:\n",
        "    genres[s[0]] = s[1]\n",
        "\n",
        "# Create the wordcloud\n",
        "genre_wordcloud = WordCloud(width=1000,height=400, background_color='white')\n",
        "genre_wordcloud.generate_from_frequencies(genres)\n",
        "\n",
        "# Plot the wordcloud\n",
        "f, ax = plt.subplots(figsize=(16, 8))\n",
        "plt.imshow(genre_wordcloud, interpolation=\"bilinear\")\n",
        "plt.axis('off')\n",
        "plt.show()"
      ],
      "execution_count": 54,
      "outputs": [
        {
          "output_type": "display_data",
          "data": {
            "image/png": "[encoded data removed]",
            "text/plain": [
              "<Figure size 1152x576 with 1 Axes>"
            ]
          },
          "metadata": {
            "tags": []
          }
        }
      ]
    },
    {
      "cell_type": "markdown",
      "metadata": {
        "id": "QaVnnxzo6yit"
      },
      "source": [
        "## Types of Recommendation Engines\n",
        "\n",
        "### 1. Content-Based\n",
        "The Content-Based Recommender relies on the similarity of the items being recommended. The basic idea is that if you like an item, then you will also like a “similar” item. It generally works well when it's easy to determine the context/properties of each item.\n",
        "\n",
        "A content based recommender works with data that the user provides, either explicitly movie ratings for the MovieLens dataset. Based on that data, a user profile is generated, which is then used to make suggestions to the user. As the user provides more inputs or takes actions on the recommendations, the engine becomes more and more accurate.\n",
        "\n",
        "### 2. Collaborative Filtering\n",
        "The Collaborative Filtering Recommender is entirely based on the past behavior and not on the context. More specifically, it is based on the similarity in preferences, tastes and choices of two users. It analyses how similar the tastes of one user is to another and makes recommendations on the basis of that. \n",
        "\n",
        "For instance, if user A likes movies 1, 2, 3 and user B likes movies 2,3,4, then they have similar interests and A should like movie 4 and B should like movie 1. This makes it one of the most commonly used algorithm as it is not dependent on any additional information.\n",
        "\n",
        "In general, collaborative filtering is the workhorse of recommender engines. The algorithm has a very interesting property of being able to do feature learning on its own, which means that it can start to learn for itself what features to use. It can be divided into **Memory-Based Collaborative Filtering** and **Model-Based Collaborative filtering**. In this post, I'll only focus on the Memory-Based Collaborative Filtering technique.\n",
        "\n",
        "<img src=\"https://drive.google.com/uc?id=1YmyOjOfFIPjfglNtolbFL68q0GnBz5_v\" alt=\"drawing\" width=\"500\"/>"
      ]
    },
    {
      "cell_type": "markdown",
      "metadata": {
        "id": "CsNchGI26yit"
      },
      "source": [
        "## Content-Based Recommendation Model\n",
        "### Theory\n",
        "The concepts of **Term Frequency (TF)** and **Inverse Document Frequency (IDF)** are used in information retrieval systems and also content based filtering mechanisms (such as a content based recommender). They are used to determine the relative importance of a document / article / news item / movie etc.\n",
        "\n",
        "TF is simply the frequency of a word in a document. IDF is the inverse of the document frequency among the whole corpus of documents. TF-IDF is used mainly because of two reasons: Suppose we search for “**the results of latest European Socccer games**” on Google. It is certain that “**the**” will occur more frequently than “**soccer games**” but the relative importance of **soccer games** is higher than the search query point of view. In such cases, TF-IDF weighting negates the effect of high frequency words in determining the importance of an item (document).\n",
        "\n",
        "Below is the equation to calculate the TF-IDF score:\n",
        "\n",
        "<img src=\"https://drive.google.com/uc?id=1lw0i0ZkQCjfGLOI3cIvJch03wRuIqom1\" alt=\"drawing\" width=\"500\"/>\n",
        "\n",
        "After calculating TF-IDF scores, how do we determine which items are closer to each other, rather closer to the user profile? This is accomplished using the **Vector Space Model** which computes the proximity based on the angle between the vectors. In this model, each item is stored as a vector of its attributes (which are also vectors) in an **n-dimensional space** and the angles between the vectors are calculated to **determine the similarity between the vectors**. Next, the user profile vectors are also created based on his actions on previous attributes of items and the similarity between an item and a user is also determined in a similar way.\n",
        "\n",
        "<img src=\"https://drive.google.com/uc?id=1zbUGUUbASN4ARIudiRJiw7C5M0-SWh4P\" alt=\"drawing\" width=\"500\"/>\n",
        "\n",
        "\n",
        "Sentence 2 is more likely to be using Term 2 than using Term 1. Vice-versa for Sentence 1. The method of calculating this relative measure is calculated by taking the cosine of the angle between the sentences and the terms. The ultimate reason behind using cosine is that the **value of cosine will increase with decreasing value of the angle** between which signifies more similarity. The vectors are length normalized after which they become vectors of length 1 and then the cosine calculation is simply the sum-product of vectors.\n",
        "\n",
        "### Implementation\n",
        "With all that theory in mind, I am going to build a Content-Based Recommendation Engine that computes similarity between movies based on movie genres. It will suggest movies that are most similar to a particular movie based on its genre. To do so, I will make use of the file **movies.csv**."
      ]
    },
    {
      "cell_type": "code",
      "metadata": {
        "collapsed": true,
        "id": "KshhdIvG6yiu"
      },
      "source": [
        "# Break up the big genre string into a string array\n",
        "movies['genres'] = movies['genres'].str.split('|')\n",
        "# Convert genres to string value\n",
        "movies['genres'] = movies['genres'].fillna(\"\").astype('str')"
      ],
      "execution_count": 55,
      "outputs": []
    },
    {
      "cell_type": "markdown",
      "metadata": {
        "id": "sdPWCx466yiu"
      },
      "source": [
        "I do not have a quantitative metric to judge our machine's performance so this will have to be done qualitatively. In order to do so, I'll use **TfidfVectorizer** function from **scikit-learn**, which transforms text to feature vectors that can be used as input to estimator."
      ]
    },
    {
      "cell_type": "code",
      "metadata": {
        "id": "Uz6d6vHh6yiu",
        "colab": {
          "base_uri": "https://localhost:8080/"
        },
        "outputId": "164deadf-8ee8-4e7f-a93e-d745baf55fa6"
      },
      "source": [
        "from sklearn.feature_extraction.text import TfidfVectorizer\n",
        "tf = TfidfVectorizer(analyzer='word',ngram_range=(1, 2),min_df=0, stop_words='english')\n",
        "tfidf_matrix = tf.fit_transform(movies['genres'])\n",
        "tfidf_matrix.shape"
      ],
      "execution_count": 56,
      "outputs": [
        {
          "output_type": "execute_result",
          "data": {
            "text/plain": [
              "(3883, 127)"
            ]
          },
          "metadata": {
            "tags": []
          },
          "execution_count": 56
        }
      ]
    },
    {
      "cell_type": "markdown",
      "metadata": {
        "id": "xergwa0u6yiv"
      },
      "source": [
        "I will be using the **[Cosine Similarity](https://masongallo.github.io/machine/learning,/python/2016/07/29/cosine-similarity.html)** to calculate a numeric quantity that denotes the similarity between two movies. Since we have used the TF-IDF Vectorizer, calculating the Dot Product will directly give us the Cosine Similarity Score. Therefore, we will use sklearn's **linear_kernel** instead of cosine_similarities since it is much faster."
      ]
    },
    {
      "cell_type": "code",
      "metadata": {
        "id": "wI1k_0_U6yiv",
        "colab": {
          "base_uri": "https://localhost:8080/"
        },
        "outputId": "b40f1b98-11a8-4dd6-81bf-e976f0fbf65e"
      },
      "source": [
        "from sklearn.metrics.pairwise import linear_kernel\n",
        "cosine_sim = linear_kernel(tfidf_matrix, tfidf_matrix)\n",
        "cosine_sim[:4, :4]"
      ],
      "execution_count": 57,
      "outputs": [
        {
          "output_type": "execute_result",
          "data": {
            "text/plain": [
              "array([[1.        , 0.14193614, 0.09010857, 0.1056164 ],\n",
              "       [0.14193614, 1.        , 0.        , 0.        ],\n",
              "       [0.09010857, 0.        , 1.        , 0.1719888 ],\n",
              "       [0.1056164 , 0.        , 0.1719888 , 1.        ]])"
            ]
          },
          "metadata": {
            "tags": []
          },
          "execution_count": 57
        }
      ]
    },
    {
      "cell_type": "markdown",
      "metadata": {
        "id": "IBV2Ismz6yiv"
      },
      "source": [
        "I now have a pairwise cosine similarity matrix for all the movies in the dataset. The next step is to write a function that returns the 20 most similar movies based on the cosine similarity score."
      ]
    },
    {
      "cell_type": "code",
      "metadata": {
        "collapsed": true,
        "id": "xlKvuBDB6yiv"
      },
      "source": [
        "# Build a 1-dimensional array with movie titles\n",
        "titles = movies['title']\n",
        "indices = pd.Series(movies.index, index=movies['title'])\n",
        "\n",
        "# Function that get movie recommendations based on the cosine similarity score of movie genres\n",
        "def genre_recommendations(title):\n",
        "    idx = indices[title]\n",
        "    sim_scores = list(enumerate(cosine_sim[idx]))\n",
        "    sim_scores = sorted(sim_scores, key=lambda x: x[1], reverse=True)\n",
        "    sim_scores = sim_scores[1:21]\n",
        "    movie_indices = [i[0] for i in sim_scores]\n",
        "    return titles.iloc[movie_indices]"
      ],
      "execution_count": 58,
      "outputs": []
    },
    {
      "cell_type": "markdown",
      "metadata": {
        "id": "ByEJbBP46yiw"
      },
      "source": [
        "Let's try and get the top recommendations for a few movies and see how good the recommendations are."
      ]
    },
    {
      "cell_type": "code",
      "metadata": {
        "id": "TuslQmzU6yiw",
        "colab": {
          "base_uri": "https://localhost:8080/"
        },
        "outputId": "8c0872cc-a6fd-467f-fd4d-85f911df65ef"
      },
      "source": [
        "genre_recommendations('Good Will Hunting (1997)').head(20)"
      ],
      "execution_count": 59,
      "outputs": [
        {
          "output_type": "execute_result",
          "data": {
            "text/plain": [
              "25                                        Othello (1995)\n",
              "26                                   Now and Then (1995)\n",
              "29     Shanghai Triad (Yao a yao yao dao waipo qiao) ...\n",
              "30                                Dangerous Minds (1995)\n",
              "35                               Dead Man Walking (1995)\n",
              "39                       Cry, the Beloved Country (1995)\n",
              "42                                    Restoration (1995)\n",
              "52                                       Lamerica (1994)\n",
              "54                                        Georgia (1995)\n",
              "56                          Home for the Holidays (1995)\n",
              "61                             Mr. Holland's Opus (1995)\n",
              "66                                       Two Bits (1995)\n",
              "77                            Crossing Guard, The (1995)\n",
              "79          White Balloon, The (Badkonake Sefid ) (1995)\n",
              "81                       Antonia's Line (Antonia) (1995)\n",
              "82       Once Upon a Time... When We Were Colored (1995)\n",
              "89                    Journey of August King, The (1995)\n",
              "92                                Beautiful Girls (1996)\n",
              "95                               Hate (Haine, La) (1995)\n",
              "112                             Margaret's Museum (1995)\n",
              "Name: title, dtype: object"
            ]
          },
          "metadata": {
            "tags": []
          },
          "execution_count": 59
        }
      ]
    },
    {
      "cell_type": "code",
      "metadata": {
        "id": "vDLfsb4-6yiw",
        "colab": {
          "base_uri": "https://localhost:8080/"
        },
        "outputId": "a80e58af-08db-4f75-c550-9eda9bb0b87d"
      },
      "source": [
        "genre_recommendations('Toy Story (1995)').head(20)"
      ],
      "execution_count": 60,
      "outputs": [
        {
          "output_type": "execute_result",
          "data": {
            "text/plain": [
              "1050               Aladdin and the King of Thieves (1996)\n",
              "2072                             American Tail, An (1986)\n",
              "2073           American Tail: Fievel Goes West, An (1991)\n",
              "2285                            Rugrats Movie, The (1998)\n",
              "2286                                 Bug's Life, A (1998)\n",
              "3045                                   Toy Story 2 (1999)\n",
              "3542                                Saludos Amigos (1943)\n",
              "3682                                   Chicken Run (2000)\n",
              "3685       Adventures of Rocky and Bullwinkle, The (2000)\n",
              "236                                 Goofy Movie, A (1995)\n",
              "12                                           Balto (1995)\n",
              "241                               Gumby: The Movie (1995)\n",
              "310                             Swan Princess, The (1994)\n",
              "592                                      Pinocchio (1940)\n",
              "612                                Aristocats, The (1970)\n",
              "700                               Oliver & Company (1988)\n",
              "876     Land Before Time III: The Time of the Great Gi...\n",
              "1010          Winnie the Pooh and the Blustery Day (1968)\n",
              "1012                       Sword in the Stone, The (1963)\n",
              "1020                        Fox and the Hound, The (1981)\n",
              "Name: title, dtype: object"
            ]
          },
          "metadata": {
            "tags": []
          },
          "execution_count": 60
        }
      ]
    },
    {
      "cell_type": "code",
      "metadata": {
        "id": "WJxh5XLc6yiw",
        "colab": {
          "base_uri": "https://localhost:8080/"
        },
        "outputId": "61a8c601-3b9b-449c-863c-4035a5c887a0"
      },
      "source": [
        "genre_recommendations('Saving Private Ryan (1998)').head(20)"
      ],
      "execution_count": 61,
      "outputs": [
        {
          "output_type": "execute_result",
          "data": {
            "text/plain": [
              "461            Heaven & Earth (1993)\n",
              "1204        Full Metal Jacket (1987)\n",
              "1214     Boat, The (Das Boot) (1981)\n",
              "1222                    Glory (1989)\n",
              "1545                G.I. Jane (1997)\n",
              "1959      Saving Private Ryan (1998)\n",
              "2358       Thin Red Line, The (1998)\n",
              "2993         Longest Day, The (1962)\n",
              "3559            Flying Tigers (1942)\n",
              "3574    Fighting Seabees, The (1944)\n",
              "3585    Guns of Navarone, The (1961)\n",
              "3684             Patriot, The (2000)\n",
              "40                Richard III (1995)\n",
              "153            Beyond Rangoon (1995)\n",
              "332         Walking Dead, The (1995)\n",
              "523          Schindler's List (1993)\n",
              "641        Courage Under Fire (1996)\n",
              "967          Nothing Personal (1995)\n",
              "979           Michael Collins (1996)\n",
              "1074                  Platoon (1986)\n",
              "Name: title, dtype: object"
            ]
          },
          "metadata": {
            "tags": []
          },
          "execution_count": 61
        }
      ]
    },
    {
      "cell_type": "markdown",
      "metadata": {
        "id": "CR9enDm96yiw"
      },
      "source": [
        "As you can see, I have quite a decent list of recommendation for **Good Will Hunting** (Drama), **Toy Story** (Animation, Children's, Comedy), and **Saving Private Ryan** (Action, Thriller, War).\n",
        "\n",
        "Overall, here are the pros of using content-based recommendation:\n",
        "* No need for data on other users, thus no cold-start or sparsity problems.\n",
        "* Can recommend to users with unique tastes.\n",
        "* Can recommend new & unpopular items.\n",
        "* Can provide explanations for recommended items by listing content-features that caused an item to be recommended (in this case, movie genres)\n",
        "\n",
        "However, there are some cons of using this approach:\n",
        "* Finding the appropriate features is hard.\n",
        "* Does not recommend items outside a user's content profile.\n",
        "* Unable to exploit quality judgments of other users."
      ]
    },
    {
      "cell_type": "markdown",
      "metadata": {
        "id": "oEF-xPCR6yiw"
      },
      "source": [
        "## Collaborative Filtering Recommendation Model\n",
        "The content based engine suffers from some severe limitations. It is only capable of suggesting movies which are close to a certain movie. That is, it is not capable of capturing tastes and providing recommendations across genres.\n",
        "\n",
        "Also, the engine that we built is not really personal in that it doesn't capture the personal tastes and biases of a user. Anyone querying our engine for recommendations based on a movie will receive the same recommendations for that movie, regardless of who she/he is.\n",
        "\n",
        "Therefore, in this section, I will use Memory-Based Collaborative Filtering to make recommendations to movie users. The technique is based on the idea that users similar to a me can be used to predict how much I will like a particular product or service those users have used/experienced but I have not.\n",
        "\n",
        "### Theory\n",
        "There are 2 main types of memory-based collaborative filtering algorithms:\n",
        "1. **User-User Collaborative Filtering**: Here we find look alike users based on similarity and recommend movies which first user’s look-alike has chosen in past. This algorithm is very effective but takes a lot of time and resources. It requires to compute every user pair information which takes time. Therefore, for big base platforms, this algorithm is hard to implement without a very strong parallelizable system.\n",
        "2. **Item-Item Collaborative Filtering**: It is quite similar to previous algorithm, but instead of finding user's look-alike, we try finding movie's look-alike. Once we have movie's look-alike matrix, we can easily recommend alike movies to user who have rated any movie from the dataset. This algorithm is far less resource consuming than user-user collaborative filtering. Hence, for a new user, the algorithm takes far lesser time than user-user collaborate as we don’t need all similarity scores between users. And with fixed number of movies, movie-movie look alike matrix is fixed over time.\n",
        "\n",
        "<img src=\"https://drive.google.com/uc?id=1UoLFGLrpeEd0Mdsu_j-sE4n_tla_Xwuk\" alt=\"drawing\" width=\"500\"/>\n",
        "\n",
        "In either scenario, we builds a similarity matrix. For user-user collaborative filtering, the **user-similarity matrix** will consist of some distance metrics that measure the similarity between any two pairs of users. Likewise, the **item-similarity matrix** will measure the similarity between any two pairs of items.\n",
        "\n",
        "There are 3 distance similarity metrics that are usually used in collaborative filtering:\n",
        "1. **Jaccard Similarity**:\n",
        "    * Similarity is based on the number of users which have rated item A and B divided by the number of users who have rated either A or B\n",
        "    * It is typically used where we don’t have a numeric rating but just a boolean value like a product being bought or an add being clicked\n",
        "\n",
        "2. **Cosine Similarity**: (as in the Content-Based system)\n",
        "    * Similarity is the cosine of the angle between the 2 vectors of the item vectors of A and B\n",
        "    * Closer the vectors, smaller will be the angle and larger the cosine\n",
        "\n",
        "3. **Pearson Similarity**:\n",
        "    * Similarity is the pearson coefficient between the two vectors.\n",
        "\n",
        "For the purpose of diversity, I will use **Pearson Similarity** in this implementation.\n",
        "\n",
        "### Implementation\n",
        "I will use the file **ratings.csv** first as it contains User ID, Movie IDs and Ratings. These three elements are all I need for determining the similarity of the users based on their ratings for a particular movie.\n",
        "\n",
        "First I do some quick data processing:"
      ]
    },
    {
      "cell_type": "code",
      "metadata": {
        "collapsed": true,
        "id": "GCeZJGne6yix"
      },
      "source": [
        "# Fill NaN values in user_id and movie_id column with 0\n",
        "ratings = ratings.assign(user_id = ratings['user_id'].fillna(0))\n",
        "ratings = ratings.assign(movie_id = ratings['movie_id'].fillna(0))\n",
        "\n",
        "# Replace NaN values in rating column with average of all values\n",
        "ratings = ratings.assign(rating = ratings['rating'].fillna(ratings['rating'].mean()))"
      ],
      "execution_count": 63,
      "outputs": []
    },
    {
      "cell_type": "markdown",
      "metadata": {
        "id": "EHHqCkpq6yix"
      },
      "source": [
        "Due to the limited computing power in my laptop, I will build the recommender system using only a subset of the ratings. In particular, I will take a random sample of 20,000 ratings (2%) from the 1M ratings."
      ]
    },
    {
      "cell_type": "code",
      "metadata": {
        "id": "7LsFm26r6yix",
        "colab": {
          "base_uri": "https://localhost:8080/"
        },
        "outputId": "d01298b5-f823-47cb-c461-d868791a1b51"
      },
      "source": [
        "# Randomly sample 1% of the ratings dataset\n",
        "small_data = ratings.sample(frac=0.02)\n",
        "# Check the sample info\n",
        "print(small_data.info())"
      ],
      "execution_count": 64,
      "outputs": [
        {
          "output_type": "stream",
          "text": [
            "<class 'pandas.core.frame.DataFrame'>\n",
            "Int64Index: 20004 entries, 509567 to 606808\n",
            "Data columns (total 3 columns):\n",
            " #   Column    Non-Null Count  Dtype\n",
            "---  ------    --------------  -----\n",
            " 0   user_id   20004 non-null  int64\n",
            " 1   movie_id  20004 non-null  int64\n",
            " 2   rating    20004 non-null  int64\n",
            "dtypes: int64(3)\n",
            "memory usage: 625.1 KB\n",
            "None\n"
          ],
          "name": "stdout"
        }
      ]
    },
    {
      "cell_type": "markdown",
      "metadata": {
        "id": "zq7jnx1v6yix"
      },
      "source": [
        "Now I use the **scikit-learn library** to split the dataset into testing and training.  **Cross_validation.train_test_split** shuffles and splits the data into two datasets according to the percentage of test examples, which in this case is 0.2."
      ]
    },
    {
      "cell_type": "code",
      "metadata": {
        "id": "Kvc7k2R56yix"
      },
      "source": [
        "from sklearn.model_selection import train_test_split\n",
        "train_data, test_data = train_test_split(small_data, test_size=0.2)"
      ],
      "execution_count": 67,
      "outputs": []
    },
    {
      "cell_type": "markdown",
      "metadata": {
        "id": "wvVByQD16yix"
      },
      "source": [
        "Now I need to create a user-item matrix. Since I have splitted the data into testing and training, I need to create two matrices. The training matrix contains 80% of the ratings and the testing matrix contains 20% of the ratings."
      ]
    },
    {
      "cell_type": "code",
      "metadata": {
        "id": "T4TzPO7D6yiy",
        "colab": {
          "base_uri": "https://localhost:8080/"
        },
        "outputId": "b66a10bc-5265-4efc-d4f4-f7354529d40c"
      },
      "source": [
        "# Create two user-item matrices, one for training and another for testing\n",
        "train_data_matrix = train_data[['user_id', 'movie_id', 'rating']].values\n",
        "test_data_matrix = test_data[['user_id', 'movie_id', 'rating']].values\n",
        "\n",
        "# Check their shape\n",
        "print(train_data_matrix.shape)\n",
        "print(test_data_matrix.shape)"
      ],
      "execution_count": 71,
      "outputs": [
        {
          "output_type": "stream",
          "text": [
            "(16003, 3)\n",
            "(4001, 3)\n"
          ],
          "name": "stdout"
        }
      ]
    },
    {
      "cell_type": "markdown",
      "metadata": {
        "id": "H5PDMzXk6yiy"
      },
      "source": [
        "Now I use the **pairwise_distances** function from sklearn to calculate the [Pearson Correlation Coefficient](https://stackoverflow.com/questions/1838806/euclidean-distance-vs-pearson-correlation-vs-cosine-similarity). This method provides a safe way to take a distance matrix as input, while preserving compatibility with many other algorithms that take a vector array."
      ]
    },
    {
      "cell_type": "code",
      "metadata": {
        "id": "6LlvoiuG6yiy",
        "colab": {
          "base_uri": "https://localhost:8080/"
        },
        "outputId": "f6f83476-fba7-4e29-9b0f-a6fb3618193d"
      },
      "source": [
        "from sklearn.metrics.pairwise import pairwise_distances\n",
        "\n",
        "# User Similarity Matrix\n",
        "user_correlation = 1 - pairwise_distances(train_data, metric='correlation')\n",
        "user_correlation[np.isnan(user_correlation)] = 0\n",
        "print(user_correlation[:4, :4])"
      ],
      "execution_count": 72,
      "outputs": [
        {
          "output_type": "stream",
          "text": [
            "[[1.         0.41494973 0.96311897 0.99989616]\n",
            " [0.41494973 1.         0.15482877 0.40179529]\n",
            " [0.96311897 0.15482877 1.         0.9668965 ]\n",
            " [0.99989616 0.40179529 0.9668965  1.        ]]\n"
          ],
          "name": "stdout"
        }
      ]
    },
    {
      "cell_type": "code",
      "metadata": {
        "id": "rgBWJopT6yiy",
        "colab": {
          "base_uri": "https://localhost:8080/"
        },
        "outputId": "37cd3e4c-b98b-4862-ddec-3a8f8c3af977"
      },
      "source": [
        "# Item Similarity Matrix\n",
        "item_correlation = 1 - pairwise_distances(train_data_matrix.T, metric='correlation')\n",
        "item_correlation[np.isnan(item_correlation)] = 0\n",
        "print(item_correlation[:4, :4])"
      ],
      "execution_count": 73,
      "outputs": [
        {
          "output_type": "stream",
          "text": [
            "[[ 1.         -0.01552119  0.01093952]\n",
            " [-0.01552119  1.         -0.06194848]\n",
            " [ 0.01093952 -0.06194848  1.        ]]\n"
          ],
          "name": "stdout"
        }
      ]
    },
    {
      "cell_type": "markdown",
      "metadata": {
        "id": "gILl2U7Q6yiy"
      },
      "source": [
        "With the similarity matrix in hand, I can now predict the ratings that were not included with the data. Using these predictions, I can then compare them with the test data to attempt to validate the quality of our recommender model.\n",
        "\n",
        "For the user-user CF case, I will look at the similarity between 2 users (A and B, for example) as weights that are multiplied by the ratings of a similar user B (corrected for the average rating of that user). I also need to normalize it so that the ratings stay between 1 and 5 and, as a final step, sum the average ratings for the user that I am trying to predict. The idea here is that some users may tend always to give high or low ratings to all movies. The relative difference in the ratings that these users give is more important than the absolute values. "
      ]
    },
    {
      "cell_type": "code",
      "metadata": {
        "collapsed": true,
        "id": "R0JkOCDI6yiy"
      },
      "source": [
        "# Function to predict ratings\n",
        "def predict(ratings, similarity, type='user'):\n",
        "    if type == 'user':\n",
        "        mean_user_rating = ratings.mean(axis=1)\n",
        "        # Use np.newaxis so that mean_user_rating has same format as ratings\n",
        "        ratings_diff = (ratings - mean_user_rating[:, np.newaxis])\n",
        "        pred = mean_user_rating[:, np.newaxis] + similarity.dot(ratings_diff) / np.array([np.abs(similarity).sum(axis=1)]).T\n",
        "    elif type == 'item':\n",
        "        pred = ratings.dot(similarity) / np.array([np.abs(similarity).sum(axis=1)])\n",
        "    return pred"
      ],
      "execution_count": 74,
      "outputs": []
    },
    {
      "cell_type": "markdown",
      "metadata": {
        "id": "FCSNkABb6yiz"
      },
      "source": [
        "### Evaluation\n",
        "There are many evaluation metrics but one of the most popular metric used to evaluate accuracy of predicted ratings is **Root Mean Squared Error (RMSE)**. I will use the **mean_square_error (MSE)** function from sklearn, where the RMSE is just the square root of MSE.\n",
        "\n",
        "$$\\mathit{RMSE} =\\sqrt{\\frac{1}{N} \\sum (x_i -\\hat{x_i})^2}$$\n",
        "\n",
        "I'll use the scikit-learn's **mean squared error** function as my validation metric. Comparing user- and item-based collaborative filtering, it looks like user-based collaborative filtering gives a better result."
      ]
    },
    {
      "cell_type": "code",
      "metadata": {
        "collapsed": true,
        "id": "oZK-dSIS6yiz"
      },
      "source": [
        "from sklearn.metrics import mean_squared_error\n",
        "from math import sqrt\n",
        "\n",
        "# Function to calculate RMSE\n",
        "def rmse(pred, actual):\n",
        "    # Ignore nonzero terms.\n",
        "    pred = pred[actual.nonzero()].flatten()\n",
        "    actual = actual[actual.nonzero()].flatten()\n",
        "    return sqrt(mean_squared_error(pred, actual))"
      ],
      "execution_count": 75,
      "outputs": []
    },
    {
      "cell_type": "code",
      "metadata": {
        "id": "zaIONm066yiz",
        "colab": {
          "base_uri": "https://localhost:8080/"
        },
        "outputId": "46eb420e-0e47-4779-892d-38c78a27546c"
      },
      "source": [
        "# Predict ratings on the training data with both similarity score\n",
        "user_prediction = predict(train_data_matrix, user_correlation, type='user')\n",
        "item_prediction = predict(train_data_matrix, item_correlation, type='item')\n",
        "\n",
        "# RMSE on the test data\n",
        "print('User-based CF RMSE: ' + str(rmse(user_prediction, test_data_matrix)))\n",
        "print('Item-based CF RMSE: ' + str(rmse(item_prediction, test_data_matrix)))"
      ],
      "execution_count": 76,
      "outputs": [
        {
          "output_type": "stream",
          "text": [
            "User-based CF RMSE: 1431.2231146670133\n",
            "Item-based CF RMSE: 1656.6407310624386\n"
          ],
          "name": "stdout"
        }
      ]
    },
    {
      "cell_type": "code",
      "metadata": {
        "id": "pAbLqjwk6yiz",
        "colab": {
          "base_uri": "https://localhost:8080/"
        },
        "outputId": "6e2c5c1c-a36b-422d-d47a-0264a9e846b3"
      },
      "source": [
        "# RMSE on the train data\n",
        "print('User-based CF RMSE: ' + str(rmse(user_prediction, train_data_matrix)))\n",
        "print('Item-based CF RMSE: ' + str(rmse(item_prediction, train_data_matrix)))"
      ],
      "execution_count": 77,
      "outputs": [
        {
          "output_type": "stream",
          "text": [
            "User-based CF RMSE: 697.0416824777826\n",
            "Item-based CF RMSE: 143.56167566871565\n"
          ],
          "name": "stdout"
        }
      ]
    },
    {
      "cell_type": "markdown",
      "metadata": {
        "id": "xYEVKWRR6yiz"
      },
      "source": [
        "RMSE of training of model is a metric which measure how much the signal and the noise is explained by the model. I noticed that my RMSE is quite big. I suppose I might have overfitted the training data.\n",
        "\n",
        "Overall, Memory-based Collaborative Filtering is easy to implement and produce reasonable prediction quality. However, there are some drawback of this approach:\n",
        "\n",
        "* It doesn't address the well-known cold-start problem, that is when new user or new item enters the system. \n",
        "* It can't deal with sparse data, meaning it's hard to find users that have rated the same items.\n",
        "* It suffers when new users or items that don't have any ratings enter the system.\n",
        "* It tends to recommend popular items."
      ]
    },
    {
      "cell_type": "markdown",
      "metadata": {
        "id": "6bmw_Z4p6yiz"
      },
      "source": [
        "## Alternative Approach\n",
        "As I mentioned above, it looks like my Collaborative Filtering model suffers from overfitting problem as I only train it on a small sample dataset (2% of the actual 1M ratings). In order to deal with this, I need to apply dimensionality reduction techniques to capture more signals from the big dataset. Thus comes the use of **low-dimensional factor models (aka, Model-Based Collaborative Filtering)**. I won't be able to implement this approach in this notebook due to computing limit, however, I want to introduce it here to give you a general sense of its advantages.\n",
        "\n",
        "In this approach, CF models are developed using machine learning algorithms to predict user’s rating of unrated items. It has been shown that Model-based Collaborative Filtering has received greater exposure in industry research, mainly as an unsupervised learning method for latent variable decomposition and dimensionality reduction. An example is the competition to win the [Netflix Prize](https://en.wikipedia.org/wiki/Netflix_Prize), which used the best collaborative filtering algorithm to predict user ratings for films, based on previous ratings without any other information about the users or films.\n",
        "\n",
        "Matrix factorization is widely used for recommender systems where it can deal better with scalability and sparsity than Memory-based CF. The goal of MF is to learn the latent preferences of users and the latent attributes of items from known ratings (learn features that describe the characteristics of ratings) to then predict the unknown ratings through the dot product of the latent features of users and items. As per my understanding, the algorithms in this approach can further be broken down into 3 sub-types:\n",
        "\n",
        "* **Matrix Factorization (MF)**: The idea behind such models is that attitudes or preferences of a user can be determined by a small number of hidden latent factors. These factors are also called **Embeddings**, which represent different characteristics for users and items. Matrix factorization can be done by various methods including Support Vecot Decomposition (SVD), Probabilistic Matrix Factorization (PMF), and Non-Negative Matrix Factorization (NMF).\n",
        "\n",
        "* **Clustering based algorithm (KNN)**: The idea of clustering is same as that of memory-based recommendation systems. In memory-based algorithms, we use the similarities between users and/or items and use them as weights to predict a rating for a user and an item. The difference is that the similarities in this approach are calculated based on an unsupervised learning model, rather than Pearson correlation or cosine similarity.\n",
        "\n",
        "* **Neural Nets / Deep Learning**: The idea of using Neural Nets is similar to that of Model-Based Matrix Factorization. In matrix factorizaion, we decompose our original sparse matrix into product of 2 low rank orthogonal matrices. For neural net implementation, we don’t need them to be orthogonal, we want our model to learn the values of embedding matrix itself. The user latent features and movie latent features are looked up from the embedding matrices for specific movie-user combination. These are the input values for further linear and non-linear layers. We can pass this input to multiple relu, linear or sigmoid layers and learn the corresponding weights by any optimization algorithm (Adam, SGD, etc.).\n",
        "\n",
        "<img src=\"https://drive.google.com/uc?id=1DPzS3vc0KSdgDZnVGF__ZXdTHp0x-8zq\" alt=\"drawing\" width=\"500\"/>\n"
      ]
    },
    {
      "cell_type": "markdown",
      "metadata": {
        "id": "TrLZgLHh6yiz"
      },
      "source": [
        "## Summary\n",
        "In this post, I introduced the Movie Lens dataset for building movie recommendation system.\n",
        "\n",
        "Specifically, I have developed recommendation models including:\n",
        "\n",
        "* How to load and review the data.\n",
        "* How to develop a content-based recommendation model based on movie genres.\n",
        "* How to develop a memory-based collaborative filtering model based on user ratings.\n",
        "* A glimpse at model-based collaborative filtering models as alternative options."
      ]
    },
    {
      "cell_type": "markdown",
      "metadata": {
        "collapsed": true,
        "id": "M-bl6HRvLDwq"
      },
      "source": [
        "# SVD for Movie Recommendations\n",
        "In this notebook, I'll detail a basic version of model-based collaborative filtering for recommendations by employing it on the MovieLens 1M dataset. \n",
        "\n",
        "[In my previous attempt](https://github.com/khanhnamle1994/movielens/blob/master/Content_Based_and_Collaborative_Filtering_Models.ipynb), I used user-based and item-based collaborative filtering to make movie recommendations from users' ratings data. I can only try them on a very small data sample (20,000 ratings), and ended up getting pretty high Root Mean Squared Error (bad recommendations). Memory-based collaborative filtering approaches that compute distance relationships between items or users have these two major issues:\n",
        "\n",
        "1. It doesn't scale particularly well to massive datasets, especially for real-time recommendations based on user behavior similarities - which takes a lot of computations.\n",
        "2. Ratings matrices may be overfitting to noisy representations of user tastes and preferences. When we use distance based \"neighborhood\" approaches on raw data, we match to sparse low-level details that we assume represent the user's preference vector instead of the vector itself.\n",
        "\n",
        "Thus I'd need to apply **Dimensionality Reduction** technique to derive the tastes and preferences from the raw data, otherwise known as doing low-rank matrix factorization. Why reduce dimensions?\n",
        "\n",
        "* I can discover hidden correlations / features in the raw data.\n",
        "* I can remove redundant and noisy features that are not useful.\n",
        "* I can interpret and visualize the data easier.\n",
        "* I can also access easier data storage and processing.\n",
        "\n",
        "With that goal in mind, I'll introduce Singular Vector Decomposition (SVD) to you, a powerful dimensionality reduction technique that is used heavily in modern model-based CF recommender system.\n",
        "\n",
        "<img src=\"https://drive.google.com/uc?id=1Sxh7TlE-c1_ZY8EBVo6rBRIs1qyPGrhJ\" alt=\"drawing\" width=\"500\"/>"
      ]
    },
    {
      "cell_type": "markdown",
      "metadata": {
        "id": "jnqy11eHLDwx"
      },
      "source": [
        "## Loading the Dataset\n",
        "Let's load the 3 data files just like last time."
      ]
    },
    {
      "cell_type": "code",
      "metadata": {
        "colab": {
          "base_uri": "https://localhost:8080/",
          "height": 204
        },
        "id": "CnegHkT_MIkw",
        "outputId": "54f634f8-a71d-481f-e71b-fa9d03bf2b08"
      },
      "source": [
        "ratings = ratings[['user_id', 'movie_id', 'rating', 'timestamp']]\n",
        "ratings.head()"
      ],
      "execution_count": 79,
      "outputs": [
        {
          "output_type": "execute_result",
          "data": {
            "text/html": [
              "<div>\n",
              "<style scoped>\n",
              "    .dataframe tbody tr th:only-of-type {\n",
              "        vertical-align: middle;\n",
              "    }\n",
              "\n",
              "    .dataframe tbody tr th {\n",
              "        vertical-align: top;\n",
              "    }\n",
              "\n",
              "    .dataframe thead th {\n",
              "        text-align: right;\n",
              "    }\n",
              "</style>\n",
              "<table border=\"1\" class=\"dataframe\">\n",
              "  <thead>\n",
              "    <tr style=\"text-align: right;\">\n",
              "      <th></th>\n",
              "      <th>user_id</th>\n",
              "      <th>movie_id</th>\n",
              "      <th>rating</th>\n",
              "      <th>timestamp</th>\n",
              "    </tr>\n",
              "  </thead>\n",
              "  <tbody>\n",
              "    <tr>\n",
              "      <th>0</th>\n",
              "      <td>1</td>\n",
              "      <td>1193</td>\n",
              "      <td>5</td>\n",
              "      <td>978300760</td>\n",
              "    </tr>\n",
              "    <tr>\n",
              "      <th>1</th>\n",
              "      <td>1</td>\n",
              "      <td>661</td>\n",
              "      <td>3</td>\n",
              "      <td>978302109</td>\n",
              "    </tr>\n",
              "    <tr>\n",
              "      <th>2</th>\n",
              "      <td>1</td>\n",
              "      <td>914</td>\n",
              "      <td>3</td>\n",
              "      <td>978301968</td>\n",
              "    </tr>\n",
              "    <tr>\n",
              "      <th>3</th>\n",
              "      <td>1</td>\n",
              "      <td>3408</td>\n",
              "      <td>4</td>\n",
              "      <td>978300275</td>\n",
              "    </tr>\n",
              "    <tr>\n",
              "      <th>4</th>\n",
              "      <td>1</td>\n",
              "      <td>2355</td>\n",
              "      <td>5</td>\n",
              "      <td>978824291</td>\n",
              "    </tr>\n",
              "  </tbody>\n",
              "</table>\n",
              "</div>"
            ],
            "text/plain": [
              "   user_id  movie_id  rating  timestamp\n",
              "0        1      1193       5  978300760\n",
              "1        1       661       3  978302109\n",
              "2        1       914       3  978301968\n",
              "3        1      3408       4  978300275\n",
              "4        1      2355       5  978824291"
            ]
          },
          "metadata": {
            "tags": []
          },
          "execution_count": 79
        }
      ]
    },
    {
      "cell_type": "code",
      "metadata": {
        "colab": {
          "base_uri": "https://localhost:8080/",
          "height": 204
        },
        "id": "eUOlAiiPMIkz",
        "outputId": "8ff2848d-ca54-4000-bc18-ed3ee4978f75"
      },
      "source": [
        "users = users[['user_id', 'gender', 'zipcode', 'age_desc', 'occ_desc']]\n",
        "users.head()"
      ],
      "execution_count": 80,
      "outputs": [
        {
          "output_type": "execute_result",
          "data": {
            "text/html": [
              "<div>\n",
              "<style scoped>\n",
              "    .dataframe tbody tr th:only-of-type {\n",
              "        vertical-align: middle;\n",
              "    }\n",
              "\n",
              "    .dataframe tbody tr th {\n",
              "        vertical-align: top;\n",
              "    }\n",
              "\n",
              "    .dataframe thead th {\n",
              "        text-align: right;\n",
              "    }\n",
              "</style>\n",
              "<table border=\"1\" class=\"dataframe\">\n",
              "  <thead>\n",
              "    <tr style=\"text-align: right;\">\n",
              "      <th></th>\n",
              "      <th>user_id</th>\n",
              "      <th>gender</th>\n",
              "      <th>zipcode</th>\n",
              "      <th>age_desc</th>\n",
              "      <th>occ_desc</th>\n",
              "    </tr>\n",
              "  </thead>\n",
              "  <tbody>\n",
              "    <tr>\n",
              "      <th>0</th>\n",
              "      <td>1</td>\n",
              "      <td>F</td>\n",
              "      <td>48067</td>\n",
              "      <td>Under 18</td>\n",
              "      <td>K-12 student</td>\n",
              "    </tr>\n",
              "    <tr>\n",
              "      <th>1</th>\n",
              "      <td>2</td>\n",
              "      <td>M</td>\n",
              "      <td>70072</td>\n",
              "      <td>56+</td>\n",
              "      <td>self-employed</td>\n",
              "    </tr>\n",
              "    <tr>\n",
              "      <th>2</th>\n",
              "      <td>3</td>\n",
              "      <td>M</td>\n",
              "      <td>55117</td>\n",
              "      <td>25-34</td>\n",
              "      <td>scientist</td>\n",
              "    </tr>\n",
              "    <tr>\n",
              "      <th>3</th>\n",
              "      <td>4</td>\n",
              "      <td>M</td>\n",
              "      <td>02460</td>\n",
              "      <td>45-49</td>\n",
              "      <td>executive/managerial</td>\n",
              "    </tr>\n",
              "    <tr>\n",
              "      <th>4</th>\n",
              "      <td>5</td>\n",
              "      <td>M</td>\n",
              "      <td>55455</td>\n",
              "      <td>25-34</td>\n",
              "      <td>writer</td>\n",
              "    </tr>\n",
              "  </tbody>\n",
              "</table>\n",
              "</div>"
            ],
            "text/plain": [
              "   user_id gender zipcode  age_desc              occ_desc\n",
              "0        1      F   48067  Under 18          K-12 student\n",
              "1        2      M   70072       56+         self-employed\n",
              "2        3      M   55117     25-34             scientist\n",
              "3        4      M   02460     45-49  executive/managerial\n",
              "4        5      M   55455     25-34                writer"
            ]
          },
          "metadata": {
            "tags": []
          },
          "execution_count": 80
        }
      ]
    },
    {
      "cell_type": "code",
      "metadata": {
        "colab": {
          "base_uri": "https://localhost:8080/",
          "height": 204
        },
        "id": "QzUVOzs4MIk1",
        "outputId": "97de4658-7c90-4159-a880-1792b7485ee7"
      },
      "source": [
        "movies = movies[['movie_id', 'title', 'genres']]\n",
        "movies.head()"
      ],
      "execution_count": 81,
      "outputs": [
        {
          "output_type": "execute_result",
          "data": {
            "text/html": [
              "<div>\n",
              "<style scoped>\n",
              "    .dataframe tbody tr th:only-of-type {\n",
              "        vertical-align: middle;\n",
              "    }\n",
              "\n",
              "    .dataframe tbody tr th {\n",
              "        vertical-align: top;\n",
              "    }\n",
              "\n",
              "    .dataframe thead th {\n",
              "        text-align: right;\n",
              "    }\n",
              "</style>\n",
              "<table border=\"1\" class=\"dataframe\">\n",
              "  <thead>\n",
              "    <tr style=\"text-align: right;\">\n",
              "      <th></th>\n",
              "      <th>movie_id</th>\n",
              "      <th>title</th>\n",
              "      <th>genres</th>\n",
              "    </tr>\n",
              "  </thead>\n",
              "  <tbody>\n",
              "    <tr>\n",
              "      <th>0</th>\n",
              "      <td>1</td>\n",
              "      <td>Toy Story (1995)</td>\n",
              "      <td>Animation|Children's|Comedy</td>\n",
              "    </tr>\n",
              "    <tr>\n",
              "      <th>1</th>\n",
              "      <td>2</td>\n",
              "      <td>Jumanji (1995)</td>\n",
              "      <td>Adventure|Children's|Fantasy</td>\n",
              "    </tr>\n",
              "    <tr>\n",
              "      <th>2</th>\n",
              "      <td>3</td>\n",
              "      <td>Grumpier Old Men (1995)</td>\n",
              "      <td>Comedy|Romance</td>\n",
              "    </tr>\n",
              "    <tr>\n",
              "      <th>3</th>\n",
              "      <td>4</td>\n",
              "      <td>Waiting to Exhale (1995)</td>\n",
              "      <td>Comedy|Drama</td>\n",
              "    </tr>\n",
              "    <tr>\n",
              "      <th>4</th>\n",
              "      <td>5</td>\n",
              "      <td>Father of the Bride Part II (1995)</td>\n",
              "      <td>Comedy</td>\n",
              "    </tr>\n",
              "  </tbody>\n",
              "</table>\n",
              "</div>"
            ],
            "text/plain": [
              "   movie_id                               title                        genres\n",
              "0         1                    Toy Story (1995)   Animation|Children's|Comedy\n",
              "1         2                      Jumanji (1995)  Adventure|Children's|Fantasy\n",
              "2         3             Grumpier Old Men (1995)                Comedy|Romance\n",
              "3         4            Waiting to Exhale (1995)                  Comedy|Drama\n",
              "4         5  Father of the Bride Part II (1995)                        Comedy"
            ]
          },
          "metadata": {
            "tags": []
          },
          "execution_count": 81
        }
      ]
    },
    {
      "cell_type": "markdown",
      "metadata": {
        "id": "arA3eL6_LDwy"
      },
      "source": [
        "Let's take a look at the movies and ratings dataframes."
      ]
    },
    {
      "cell_type": "markdown",
      "metadata": {
        "id": "PzjbukMILDwz"
      },
      "source": [
        "Also let's count the number of unique users and movies."
      ]
    },
    {
      "cell_type": "code",
      "metadata": {
        "id": "vLyd3KKrLDw0",
        "colab": {
          "base_uri": "https://localhost:8080/"
        },
        "outputId": "96192420-df56-418c-9b5c-6d64a9d99fc6"
      },
      "source": [
        "n_users = ratings.user_id.unique().shape[0]\n",
        "n_movies = ratings.movie_id.unique().shape[0]\n",
        "print('Number of users = ' + str(n_users) + ' | Number of movies = ' + str(n_movies))"
      ],
      "execution_count": 83,
      "outputs": [
        {
          "output_type": "stream",
          "text": [
            "Number of users = 6040 | Number of movies = 3706\n"
          ],
          "name": "stdout"
        }
      ]
    },
    {
      "cell_type": "markdown",
      "metadata": {
        "id": "mmyNYldhLDw0"
      },
      "source": [
        "Now I want the format of my ratings matrix to be one row per user and one column per movie. To do so, I'll pivot *ratings* to get that and call the new variable *Ratings* (with a capital *R)."
      ]
    },
    {
      "cell_type": "code",
      "metadata": {
        "id": "62iwVNchLDw0",
        "colab": {
          "base_uri": "https://localhost:8080/",
          "height": 284
        },
        "outputId": "46a07b95-c5b9-4eed-cd37-125b62528d9f"
      },
      "source": [
        "Ratings = ratings.pivot(index = 'user_id', columns ='movie_id', values = 'rating').fillna(0)\n",
        "Ratings.head()"
      ],
      "execution_count": 84,
      "outputs": [
        {
          "output_type": "execute_result",
          "data": {
            "text/html": [
              "<div>\n",
              "<style scoped>\n",
              "    .dataframe tbody tr th:only-of-type {\n",
              "        vertical-align: middle;\n",
              "    }\n",
              "\n",
              "    .dataframe tbody tr th {\n",
              "        vertical-align: top;\n",
              "    }\n",
              "\n",
              "    .dataframe thead th {\n",
              "        text-align: right;\n",
              "    }\n",
              "</style>\n",
              "<table border=\"1\" class=\"dataframe\">\n",
              "  <thead>\n",
              "    <tr style=\"text-align: right;\">\n",
              "      <th>movie_id</th>\n",
              "      <th>1</th>\n",
              "      <th>2</th>\n",
              "      <th>3</th>\n",
              "      <th>4</th>\n",
              "      <th>5</th>\n",
              "      <th>6</th>\n",
              "      <th>7</th>\n",
              "      <th>8</th>\n",
              "      <th>9</th>\n",
              "      <th>10</th>\n",
              "      <th>11</th>\n",
              "      <th>12</th>\n",
              "      <th>13</th>\n",
              "      <th>14</th>\n",
              "      <th>15</th>\n",
              "      <th>16</th>\n",
              "      <th>17</th>\n",
              "      <th>18</th>\n",
              "      <th>19</th>\n",
              "      <th>20</th>\n",
              "      <th>21</th>\n",
              "      <th>22</th>\n",
              "      <th>23</th>\n",
              "      <th>24</th>\n",
              "      <th>25</th>\n",
              "      <th>26</th>\n",
              "      <th>27</th>\n",
              "      <th>28</th>\n",
              "      <th>29</th>\n",
              "      <th>30</th>\n",
              "      <th>31</th>\n",
              "      <th>32</th>\n",
              "      <th>33</th>\n",
              "      <th>34</th>\n",
              "      <th>35</th>\n",
              "      <th>36</th>\n",
              "      <th>37</th>\n",
              "      <th>38</th>\n",
              "      <th>39</th>\n",
              "      <th>40</th>\n",
              "      <th>...</th>\n",
              "      <th>3913</th>\n",
              "      <th>3914</th>\n",
              "      <th>3915</th>\n",
              "      <th>3916</th>\n",
              "      <th>3917</th>\n",
              "      <th>3918</th>\n",
              "      <th>3919</th>\n",
              "      <th>3920</th>\n",
              "      <th>3921</th>\n",
              "      <th>3922</th>\n",
              "      <th>3923</th>\n",
              "      <th>3924</th>\n",
              "      <th>3925</th>\n",
              "      <th>3926</th>\n",
              "      <th>3927</th>\n",
              "      <th>3928</th>\n",
              "      <th>3929</th>\n",
              "      <th>3930</th>\n",
              "      <th>3931</th>\n",
              "      <th>3932</th>\n",
              "      <th>3933</th>\n",
              "      <th>3934</th>\n",
              "      <th>3935</th>\n",
              "      <th>3936</th>\n",
              "      <th>3937</th>\n",
              "      <th>3938</th>\n",
              "      <th>3939</th>\n",
              "      <th>3940</th>\n",
              "      <th>3941</th>\n",
              "      <th>3942</th>\n",
              "      <th>3943</th>\n",
              "      <th>3944</th>\n",
              "      <th>3945</th>\n",
              "      <th>3946</th>\n",
              "      <th>3947</th>\n",
              "      <th>3948</th>\n",
              "      <th>3949</th>\n",
              "      <th>3950</th>\n",
              "      <th>3951</th>\n",
              "      <th>3952</th>\n",
              "    </tr>\n",
              "    <tr>\n",
              "      <th>user_id</th>\n",
              "      <th></th>\n",
              "      <th></th>\n",
              "      <th></th>\n",
              "      <th></th>\n",
              "      <th></th>\n",
              "      <th></th>\n",
              "      <th></th>\n",
              "      <th></th>\n",
              "      <th></th>\n",
              "      <th></th>\n",
              "      <th></th>\n",
              "      <th></th>\n",
              "      <th></th>\n",
              "      <th></th>\n",
              "      <th></th>\n",
              "      <th></th>\n",
              "      <th></th>\n",
              "      <th></th>\n",
              "      <th></th>\n",
              "      <th></th>\n",
              "      <th></th>\n",
              "      <th></th>\n",
              "      <th></th>\n",
              "      <th></th>\n",
              "      <th></th>\n",
              "      <th></th>\n",
              "      <th></th>\n",
              "      <th></th>\n",
              "      <th></th>\n",
              "      <th></th>\n",
              "      <th></th>\n",
              "      <th></th>\n",
              "      <th></th>\n",
              "      <th></th>\n",
              "      <th></th>\n",
              "      <th></th>\n",
              "      <th></th>\n",
              "      <th></th>\n",
              "      <th></th>\n",
              "      <th></th>\n",
              "      <th></th>\n",
              "      <th></th>\n",
              "      <th></th>\n",
              "      <th></th>\n",
              "      <th></th>\n",
              "      <th></th>\n",
              "      <th></th>\n",
              "      <th></th>\n",
              "      <th></th>\n",
              "      <th></th>\n",
              "      <th></th>\n",
              "      <th></th>\n",
              "      <th></th>\n",
              "      <th></th>\n",
              "      <th></th>\n",
              "      <th></th>\n",
              "      <th></th>\n",
              "      <th></th>\n",
              "      <th></th>\n",
              "      <th></th>\n",
              "      <th></th>\n",
              "      <th></th>\n",
              "      <th></th>\n",
              "      <th></th>\n",
              "      <th></th>\n",
              "      <th></th>\n",
              "      <th></th>\n",
              "      <th></th>\n",
              "      <th></th>\n",
              "      <th></th>\n",
              "      <th></th>\n",
              "      <th></th>\n",
              "      <th></th>\n",
              "      <th></th>\n",
              "      <th></th>\n",
              "      <th></th>\n",
              "      <th></th>\n",
              "      <th></th>\n",
              "      <th></th>\n",
              "      <th></th>\n",
              "      <th></th>\n",
              "    </tr>\n",
              "  </thead>\n",
              "  <tbody>\n",
              "    <tr>\n",
              "      <th>1</th>\n",
              "      <td>5.0</td>\n",
              "      <td>0.0</td>\n",
              "      <td>0.0</td>\n",
              "      <td>0.0</td>\n",
              "      <td>0.0</td>\n",
              "      <td>0.0</td>\n",
              "      <td>0.0</td>\n",
              "      <td>0.0</td>\n",
              "      <td>0.0</td>\n",
              "      <td>0.0</td>\n",
              "      <td>0.0</td>\n",
              "      <td>0.0</td>\n",
              "      <td>0.0</td>\n",
              "      <td>0.0</td>\n",
              "      <td>0.0</td>\n",
              "      <td>0.0</td>\n",
              "      <td>0.0</td>\n",
              "      <td>0.0</td>\n",
              "      <td>0.0</td>\n",
              "      <td>0.0</td>\n",
              "      <td>0.0</td>\n",
              "      <td>0.0</td>\n",
              "      <td>0.0</td>\n",
              "      <td>0.0</td>\n",
              "      <td>0.0</td>\n",
              "      <td>0.0</td>\n",
              "      <td>0.0</td>\n",
              "      <td>0.0</td>\n",
              "      <td>0.0</td>\n",
              "      <td>0.0</td>\n",
              "      <td>0.0</td>\n",
              "      <td>0.0</td>\n",
              "      <td>0.0</td>\n",
              "      <td>0.0</td>\n",
              "      <td>0.0</td>\n",
              "      <td>0.0</td>\n",
              "      <td>0.0</td>\n",
              "      <td>0.0</td>\n",
              "      <td>0.0</td>\n",
              "      <td>0.0</td>\n",
              "      <td>...</td>\n",
              "      <td>0.0</td>\n",
              "      <td>0.0</td>\n",
              "      <td>0.0</td>\n",
              "      <td>0.0</td>\n",
              "      <td>0.0</td>\n",
              "      <td>0.0</td>\n",
              "      <td>0.0</td>\n",
              "      <td>0.0</td>\n",
              "      <td>0.0</td>\n",
              "      <td>0.0</td>\n",
              "      <td>0.0</td>\n",
              "      <td>0.0</td>\n",
              "      <td>0.0</td>\n",
              "      <td>0.0</td>\n",
              "      <td>0.0</td>\n",
              "      <td>0.0</td>\n",
              "      <td>0.0</td>\n",
              "      <td>0.0</td>\n",
              "      <td>0.0</td>\n",
              "      <td>0.0</td>\n",
              "      <td>0.0</td>\n",
              "      <td>0.0</td>\n",
              "      <td>0.0</td>\n",
              "      <td>0.0</td>\n",
              "      <td>0.0</td>\n",
              "      <td>0.0</td>\n",
              "      <td>0.0</td>\n",
              "      <td>0.0</td>\n",
              "      <td>0.0</td>\n",
              "      <td>0.0</td>\n",
              "      <td>0.0</td>\n",
              "      <td>0.0</td>\n",
              "      <td>0.0</td>\n",
              "      <td>0.0</td>\n",
              "      <td>0.0</td>\n",
              "      <td>0.0</td>\n",
              "      <td>0.0</td>\n",
              "      <td>0.0</td>\n",
              "      <td>0.0</td>\n",
              "      <td>0.0</td>\n",
              "    </tr>\n",
              "    <tr>\n",
              "      <th>2</th>\n",
              "      <td>0.0</td>\n",
              "      <td>0.0</td>\n",
              "      <td>0.0</td>\n",
              "      <td>0.0</td>\n",
              "      <td>0.0</td>\n",
              "      <td>0.0</td>\n",
              "      <td>0.0</td>\n",
              "      <td>0.0</td>\n",
              "      <td>0.0</td>\n",
              "      <td>0.0</td>\n",
              "      <td>0.0</td>\n",
              "      <td>0.0</td>\n",
              "      <td>0.0</td>\n",
              "      <td>0.0</td>\n",
              "      <td>0.0</td>\n",
              "      <td>0.0</td>\n",
              "      <td>0.0</td>\n",
              "      <td>0.0</td>\n",
              "      <td>0.0</td>\n",
              "      <td>0.0</td>\n",
              "      <td>1.0</td>\n",
              "      <td>0.0</td>\n",
              "      <td>0.0</td>\n",
              "      <td>0.0</td>\n",
              "      <td>0.0</td>\n",
              "      <td>0.0</td>\n",
              "      <td>0.0</td>\n",
              "      <td>0.0</td>\n",
              "      <td>0.0</td>\n",
              "      <td>0.0</td>\n",
              "      <td>0.0</td>\n",
              "      <td>0.0</td>\n",
              "      <td>0.0</td>\n",
              "      <td>0.0</td>\n",
              "      <td>0.0</td>\n",
              "      <td>0.0</td>\n",
              "      <td>0.0</td>\n",
              "      <td>0.0</td>\n",
              "      <td>0.0</td>\n",
              "      <td>0.0</td>\n",
              "      <td>...</td>\n",
              "      <td>0.0</td>\n",
              "      <td>0.0</td>\n",
              "      <td>0.0</td>\n",
              "      <td>0.0</td>\n",
              "      <td>0.0</td>\n",
              "      <td>0.0</td>\n",
              "      <td>0.0</td>\n",
              "      <td>0.0</td>\n",
              "      <td>0.0</td>\n",
              "      <td>0.0</td>\n",
              "      <td>0.0</td>\n",
              "      <td>0.0</td>\n",
              "      <td>0.0</td>\n",
              "      <td>0.0</td>\n",
              "      <td>0.0</td>\n",
              "      <td>0.0</td>\n",
              "      <td>0.0</td>\n",
              "      <td>0.0</td>\n",
              "      <td>0.0</td>\n",
              "      <td>0.0</td>\n",
              "      <td>0.0</td>\n",
              "      <td>0.0</td>\n",
              "      <td>0.0</td>\n",
              "      <td>0.0</td>\n",
              "      <td>0.0</td>\n",
              "      <td>0.0</td>\n",
              "      <td>0.0</td>\n",
              "      <td>0.0</td>\n",
              "      <td>0.0</td>\n",
              "      <td>0.0</td>\n",
              "      <td>0.0</td>\n",
              "      <td>0.0</td>\n",
              "      <td>0.0</td>\n",
              "      <td>0.0</td>\n",
              "      <td>0.0</td>\n",
              "      <td>0.0</td>\n",
              "      <td>0.0</td>\n",
              "      <td>0.0</td>\n",
              "      <td>0.0</td>\n",
              "      <td>0.0</td>\n",
              "    </tr>\n",
              "    <tr>\n",
              "      <th>3</th>\n",
              "      <td>0.0</td>\n",
              "      <td>0.0</td>\n",
              "      <td>0.0</td>\n",
              "      <td>0.0</td>\n",
              "      <td>0.0</td>\n",
              "      <td>0.0</td>\n",
              "      <td>0.0</td>\n",
              "      <td>0.0</td>\n",
              "      <td>0.0</td>\n",
              "      <td>0.0</td>\n",
              "      <td>0.0</td>\n",
              "      <td>0.0</td>\n",
              "      <td>0.0</td>\n",
              "      <td>0.0</td>\n",
              "      <td>0.0</td>\n",
              "      <td>0.0</td>\n",
              "      <td>0.0</td>\n",
              "      <td>0.0</td>\n",
              "      <td>0.0</td>\n",
              "      <td>0.0</td>\n",
              "      <td>0.0</td>\n",
              "      <td>0.0</td>\n",
              "      <td>0.0</td>\n",
              "      <td>0.0</td>\n",
              "      <td>0.0</td>\n",
              "      <td>0.0</td>\n",
              "      <td>0.0</td>\n",
              "      <td>0.0</td>\n",
              "      <td>0.0</td>\n",
              "      <td>0.0</td>\n",
              "      <td>0.0</td>\n",
              "      <td>0.0</td>\n",
              "      <td>0.0</td>\n",
              "      <td>0.0</td>\n",
              "      <td>0.0</td>\n",
              "      <td>0.0</td>\n",
              "      <td>0.0</td>\n",
              "      <td>0.0</td>\n",
              "      <td>0.0</td>\n",
              "      <td>0.0</td>\n",
              "      <td>...</td>\n",
              "      <td>0.0</td>\n",
              "      <td>0.0</td>\n",
              "      <td>0.0</td>\n",
              "      <td>0.0</td>\n",
              "      <td>0.0</td>\n",
              "      <td>0.0</td>\n",
              "      <td>0.0</td>\n",
              "      <td>0.0</td>\n",
              "      <td>0.0</td>\n",
              "      <td>0.0</td>\n",
              "      <td>0.0</td>\n",
              "      <td>0.0</td>\n",
              "      <td>0.0</td>\n",
              "      <td>0.0</td>\n",
              "      <td>0.0</td>\n",
              "      <td>0.0</td>\n",
              "      <td>0.0</td>\n",
              "      <td>0.0</td>\n",
              "      <td>0.0</td>\n",
              "      <td>0.0</td>\n",
              "      <td>0.0</td>\n",
              "      <td>0.0</td>\n",
              "      <td>0.0</td>\n",
              "      <td>0.0</td>\n",
              "      <td>0.0</td>\n",
              "      <td>0.0</td>\n",
              "      <td>0.0</td>\n",
              "      <td>0.0</td>\n",
              "      <td>0.0</td>\n",
              "      <td>0.0</td>\n",
              "      <td>0.0</td>\n",
              "      <td>0.0</td>\n",
              "      <td>0.0</td>\n",
              "      <td>0.0</td>\n",
              "      <td>0.0</td>\n",
              "      <td>0.0</td>\n",
              "      <td>0.0</td>\n",
              "      <td>0.0</td>\n",
              "      <td>0.0</td>\n",
              "      <td>0.0</td>\n",
              "    </tr>\n",
              "    <tr>\n",
              "      <th>4</th>\n",
              "      <td>0.0</td>\n",
              "      <td>0.0</td>\n",
              "      <td>0.0</td>\n",
              "      <td>0.0</td>\n",
              "      <td>0.0</td>\n",
              "      <td>0.0</td>\n",
              "      <td>0.0</td>\n",
              "      <td>0.0</td>\n",
              "      <td>0.0</td>\n",
              "      <td>0.0</td>\n",
              "      <td>0.0</td>\n",
              "      <td>0.0</td>\n",
              "      <td>0.0</td>\n",
              "      <td>0.0</td>\n",
              "      <td>0.0</td>\n",
              "      <td>0.0</td>\n",
              "      <td>0.0</td>\n",
              "      <td>0.0</td>\n",
              "      <td>0.0</td>\n",
              "      <td>0.0</td>\n",
              "      <td>0.0</td>\n",
              "      <td>0.0</td>\n",
              "      <td>0.0</td>\n",
              "      <td>0.0</td>\n",
              "      <td>0.0</td>\n",
              "      <td>0.0</td>\n",
              "      <td>0.0</td>\n",
              "      <td>0.0</td>\n",
              "      <td>0.0</td>\n",
              "      <td>0.0</td>\n",
              "      <td>0.0</td>\n",
              "      <td>0.0</td>\n",
              "      <td>0.0</td>\n",
              "      <td>0.0</td>\n",
              "      <td>0.0</td>\n",
              "      <td>0.0</td>\n",
              "      <td>0.0</td>\n",
              "      <td>0.0</td>\n",
              "      <td>0.0</td>\n",
              "      <td>0.0</td>\n",
              "      <td>...</td>\n",
              "      <td>0.0</td>\n",
              "      <td>0.0</td>\n",
              "      <td>0.0</td>\n",
              "      <td>0.0</td>\n",
              "      <td>0.0</td>\n",
              "      <td>0.0</td>\n",
              "      <td>0.0</td>\n",
              "      <td>0.0</td>\n",
              "      <td>0.0</td>\n",
              "      <td>0.0</td>\n",
              "      <td>0.0</td>\n",
              "      <td>0.0</td>\n",
              "      <td>0.0</td>\n",
              "      <td>0.0</td>\n",
              "      <td>0.0</td>\n",
              "      <td>0.0</td>\n",
              "      <td>0.0</td>\n",
              "      <td>0.0</td>\n",
              "      <td>0.0</td>\n",
              "      <td>0.0</td>\n",
              "      <td>0.0</td>\n",
              "      <td>0.0</td>\n",
              "      <td>0.0</td>\n",
              "      <td>0.0</td>\n",
              "      <td>0.0</td>\n",
              "      <td>0.0</td>\n",
              "      <td>0.0</td>\n",
              "      <td>0.0</td>\n",
              "      <td>0.0</td>\n",
              "      <td>0.0</td>\n",
              "      <td>0.0</td>\n",
              "      <td>0.0</td>\n",
              "      <td>0.0</td>\n",
              "      <td>0.0</td>\n",
              "      <td>0.0</td>\n",
              "      <td>0.0</td>\n",
              "      <td>0.0</td>\n",
              "      <td>0.0</td>\n",
              "      <td>0.0</td>\n",
              "      <td>0.0</td>\n",
              "    </tr>\n",
              "    <tr>\n",
              "      <th>5</th>\n",
              "      <td>0.0</td>\n",
              "      <td>0.0</td>\n",
              "      <td>0.0</td>\n",
              "      <td>0.0</td>\n",
              "      <td>0.0</td>\n",
              "      <td>2.0</td>\n",
              "      <td>0.0</td>\n",
              "      <td>0.0</td>\n",
              "      <td>0.0</td>\n",
              "      <td>0.0</td>\n",
              "      <td>0.0</td>\n",
              "      <td>0.0</td>\n",
              "      <td>0.0</td>\n",
              "      <td>0.0</td>\n",
              "      <td>0.0</td>\n",
              "      <td>3.0</td>\n",
              "      <td>0.0</td>\n",
              "      <td>0.0</td>\n",
              "      <td>0.0</td>\n",
              "      <td>0.0</td>\n",
              "      <td>0.0</td>\n",
              "      <td>0.0</td>\n",
              "      <td>0.0</td>\n",
              "      <td>1.0</td>\n",
              "      <td>0.0</td>\n",
              "      <td>0.0</td>\n",
              "      <td>0.0</td>\n",
              "      <td>0.0</td>\n",
              "      <td>5.0</td>\n",
              "      <td>0.0</td>\n",
              "      <td>0.0</td>\n",
              "      <td>4.0</td>\n",
              "      <td>0.0</td>\n",
              "      <td>4.0</td>\n",
              "      <td>0.0</td>\n",
              "      <td>3.0</td>\n",
              "      <td>0.0</td>\n",
              "      <td>0.0</td>\n",
              "      <td>3.0</td>\n",
              "      <td>0.0</td>\n",
              "      <td>...</td>\n",
              "      <td>0.0</td>\n",
              "      <td>0.0</td>\n",
              "      <td>0.0</td>\n",
              "      <td>0.0</td>\n",
              "      <td>0.0</td>\n",
              "      <td>0.0</td>\n",
              "      <td>0.0</td>\n",
              "      <td>0.0</td>\n",
              "      <td>0.0</td>\n",
              "      <td>0.0</td>\n",
              "      <td>0.0</td>\n",
              "      <td>0.0</td>\n",
              "      <td>0.0</td>\n",
              "      <td>0.0</td>\n",
              "      <td>0.0</td>\n",
              "      <td>0.0</td>\n",
              "      <td>0.0</td>\n",
              "      <td>0.0</td>\n",
              "      <td>0.0</td>\n",
              "      <td>0.0</td>\n",
              "      <td>0.0</td>\n",
              "      <td>0.0</td>\n",
              "      <td>0.0</td>\n",
              "      <td>0.0</td>\n",
              "      <td>0.0</td>\n",
              "      <td>0.0</td>\n",
              "      <td>0.0</td>\n",
              "      <td>0.0</td>\n",
              "      <td>0.0</td>\n",
              "      <td>0.0</td>\n",
              "      <td>0.0</td>\n",
              "      <td>0.0</td>\n",
              "      <td>0.0</td>\n",
              "      <td>0.0</td>\n",
              "      <td>0.0</td>\n",
              "      <td>0.0</td>\n",
              "      <td>0.0</td>\n",
              "      <td>0.0</td>\n",
              "      <td>0.0</td>\n",
              "      <td>0.0</td>\n",
              "    </tr>\n",
              "  </tbody>\n",
              "</table>\n",
              "<p>5 rows × 3706 columns</p>\n",
              "</div>"
            ],
            "text/plain": [
              "movie_id  1     2     3     4     5     ...  3948  3949  3950  3951  3952\n",
              "user_id                                 ...                              \n",
              "1          5.0   0.0   0.0   0.0   0.0  ...   0.0   0.0   0.0   0.0   0.0\n",
              "2          0.0   0.0   0.0   0.0   0.0  ...   0.0   0.0   0.0   0.0   0.0\n",
              "3          0.0   0.0   0.0   0.0   0.0  ...   0.0   0.0   0.0   0.0   0.0\n",
              "4          0.0   0.0   0.0   0.0   0.0  ...   0.0   0.0   0.0   0.0   0.0\n",
              "5          0.0   0.0   0.0   0.0   0.0  ...   0.0   0.0   0.0   0.0   0.0\n",
              "\n",
              "[5 rows x 3706 columns]"
            ]
          },
          "metadata": {
            "tags": []
          },
          "execution_count": 84
        }
      ]
    },
    {
      "cell_type": "markdown",
      "metadata": {
        "id": "zHSimE8HLDw1"
      },
      "source": [
        "Last but not least, I need to de-normalize the data (normalize by each users mean) and convert it from a dataframe to a numpy array."
      ]
    },
    {
      "cell_type": "code",
      "metadata": {
        "collapsed": true,
        "id": "V6mCGysfLDw1"
      },
      "source": [
        "R = Ratings.values\n",
        "user_ratings_mean = np.mean(R, axis = 1)\n",
        "Ratings_demeaned = R - user_ratings_mean.reshape(-1, 1)"
      ],
      "execution_count": 86,
      "outputs": []
    },
    {
      "cell_type": "markdown",
      "metadata": {
        "id": "c-dJltJrLDw1"
      },
      "source": [
        "With my ratings matrix properly formatted and normalized, I'm ready to do some dimensionality reduction. But first, let's go over the math."
      ]
    },
    {
      "cell_type": "markdown",
      "metadata": {
        "id": "TGsZl46iLDw1"
      },
      "source": [
        "## Model-Based Collaborative Filtering\n",
        "*Model-based Collaborative Filtering* is based on *matrix factorization (MF)* which has received greater exposure, mainly as an unsupervised learning method for latent variable decomposition and dimensionality reduction. Matrix factorization is widely used for recommender systems where it can deal better with scalability and sparsity than Memory-based CF:\n",
        "\n",
        "* The goal of MF is to learn the latent preferences of users and the latent attributes of items from known ratings (learn features that describe the characteristics of ratings) to then predict the unknown ratings through the dot product of the latent features of users and items. \n",
        "* When you have a very sparse matrix, with a lot of dimensions, by doing matrix factorization, you can restructure the user-item matrix into low-rank structure, and you can represent the matrix by the multiplication of two low-rank matrices, where the rows contain the latent vector. \n",
        "* You fit this matrix to approximate your original matrix, as closely as possible, by multiplying the low-rank matrices together, which fills in the entries missing in the original matrix.\n",
        "\n",
        "For example, let's check the sparsity of the ratings dataset:"
      ]
    },
    {
      "cell_type": "code",
      "metadata": {
        "id": "cErsOZl4LDw2",
        "colab": {
          "base_uri": "https://localhost:8080/"
        },
        "outputId": "3445820f-c050-44cd-fb05-9a3823546580"
      },
      "source": [
        "sparsity = round(1.0 - len(ratings) / float(n_users * n_movies), 3)\n",
        "print('The sparsity level of MovieLens1M dataset is ' +  str(sparsity * 100) + '%')"
      ],
      "execution_count": 87,
      "outputs": [
        {
          "output_type": "stream",
          "text": [
            "The sparsity level of MovieLens1M dataset is 95.5%\n"
          ],
          "name": "stdout"
        }
      ]
    },
    {
      "cell_type": "markdown",
      "metadata": {
        "id": "gjZOQZrQLDw2"
      },
      "source": [
        "## Support Vector Decomposition (SVD)\n",
        "A well-known matrix factorization method is *Singular value decomposition (SVD)*. At a high level, SVD is an algorithm that decomposes a matrix $A$ into the best lower rank (i.e. smaller/simpler) approximation of the original matrix $A$. Mathematically, it decomposes A into a two unitary matrices and a diagonal matrix:\n",
        "\n",
        "\n",
        "<img src=\"https://drive.google.com/uc?id=1-5pE9ZiPskBnA2g2DLBwpMjliZXqfCYx\" alt=\"drawing\" width=\"500\"/>\n",
        "\n",
        "where $A$ is the input data matrix (users's ratings), $U$ is the left singular vectors (user \"features\" matrix), $\\Sigma$ is the diagonal matrix of singular values (essentially weights/strengths of each concept), and  $V^{T}$ is the right singluar vectors (movie \"features\" matrix). $U$ and $V^{T}$ are column orthonomal, and represent different things. $U$ represents how much users \"like\" each feature and $V^{T}$ represents how relevant each feature is to each movie.\n",
        "\n",
        "To get the lower rank approximation, I take these matrices and keep only the top $k$ features, which can be thought of as the underlying tastes and preferences vectors."
      ]
    },
    {
      "cell_type": "markdown",
      "metadata": {
        "id": "kpR6K6UlLDw3"
      },
      "source": [
        "### Setting Up SVD\n",
        "Scipy and Numpy both have functions to do the singular value decomposition. I'm going to use the Scipy function *svds* because it let's me choose how many latent factors I want to use to approximate the original ratings matrix (instead of having to truncate it after)."
      ]
    },
    {
      "cell_type": "code",
      "metadata": {
        "collapsed": true,
        "id": "o8-BrKFbLDw3"
      },
      "source": [
        "from scipy.sparse.linalg import svds\n",
        "U, sigma, Vt = svds(Ratings_demeaned, k = 50)"
      ],
      "execution_count": 88,
      "outputs": []
    },
    {
      "cell_type": "markdown",
      "metadata": {
        "id": "rp49bV-TLDw3"
      },
      "source": [
        "As I'm going to leverage matrix multiplication to get predictions, I'll convert the $\\Sigma$ (now are values) to the diagonal matrix form."
      ]
    },
    {
      "cell_type": "code",
      "metadata": {
        "collapsed": true,
        "id": "zpuum0G7LDw3"
      },
      "source": [
        "sigma = np.diag(sigma)"
      ],
      "execution_count": 89,
      "outputs": []
    },
    {
      "cell_type": "markdown",
      "metadata": {
        "id": "ln2eznc1LDw3"
      },
      "source": [
        "### Making Predictions from the Decomposed Matrices\n",
        "I now have everything I need to make movie ratings predictions for every user. I can do it all at once by following the math and matrix multiply $U$, $\\Sigma$, and $V^{T}$ back to get the rank $k=50$ approximation of $A$.\n",
        "\n",
        "But first, I need to add the user means back to get the actual star ratings prediction."
      ]
    },
    {
      "cell_type": "code",
      "metadata": {
        "collapsed": true,
        "id": "MrdivGWVLDw4"
      },
      "source": [
        "all_user_predicted_ratings = np.dot(np.dot(U, sigma), Vt) + user_ratings_mean.reshape(-1, 1)"
      ],
      "execution_count": 90,
      "outputs": []
    },
    {
      "cell_type": "markdown",
      "metadata": {
        "id": "cEi_iHWeLDw4"
      },
      "source": [
        "With the predictions matrix for every user, I can build a function to recommend movies for any user. I return the list of movies the user has already rated, for the sake of comparison."
      ]
    },
    {
      "cell_type": "code",
      "metadata": {
        "id": "qk-7_2wBLDw4",
        "colab": {
          "base_uri": "https://localhost:8080/",
          "height": 253
        },
        "outputId": "407742f6-104c-49ce-873f-8b21142cd544"
      },
      "source": [
        "preds = pd.DataFrame(all_user_predicted_ratings, columns = Ratings.columns)\n",
        "preds.head()"
      ],
      "execution_count": 91,
      "outputs": [
        {
          "output_type": "execute_result",
          "data": {
            "text/html": [
              "<div>\n",
              "<style scoped>\n",
              "    .dataframe tbody tr th:only-of-type {\n",
              "        vertical-align: middle;\n",
              "    }\n",
              "\n",
              "    .dataframe tbody tr th {\n",
              "        vertical-align: top;\n",
              "    }\n",
              "\n",
              "    .dataframe thead th {\n",
              "        text-align: right;\n",
              "    }\n",
              "</style>\n",
              "<table border=\"1\" class=\"dataframe\">\n",
              "  <thead>\n",
              "    <tr style=\"text-align: right;\">\n",
              "      <th>movie_id</th>\n",
              "      <th>1</th>\n",
              "      <th>2</th>\n",
              "      <th>3</th>\n",
              "      <th>4</th>\n",
              "      <th>5</th>\n",
              "      <th>6</th>\n",
              "      <th>7</th>\n",
              "      <th>8</th>\n",
              "      <th>9</th>\n",
              "      <th>10</th>\n",
              "      <th>11</th>\n",
              "      <th>12</th>\n",
              "      <th>13</th>\n",
              "      <th>14</th>\n",
              "      <th>15</th>\n",
              "      <th>16</th>\n",
              "      <th>17</th>\n",
              "      <th>18</th>\n",
              "      <th>19</th>\n",
              "      <th>20</th>\n",
              "      <th>21</th>\n",
              "      <th>22</th>\n",
              "      <th>23</th>\n",
              "      <th>24</th>\n",
              "      <th>25</th>\n",
              "      <th>26</th>\n",
              "      <th>27</th>\n",
              "      <th>28</th>\n",
              "      <th>29</th>\n",
              "      <th>30</th>\n",
              "      <th>31</th>\n",
              "      <th>32</th>\n",
              "      <th>33</th>\n",
              "      <th>34</th>\n",
              "      <th>35</th>\n",
              "      <th>36</th>\n",
              "      <th>37</th>\n",
              "      <th>38</th>\n",
              "      <th>39</th>\n",
              "      <th>40</th>\n",
              "      <th>...</th>\n",
              "      <th>3913</th>\n",
              "      <th>3914</th>\n",
              "      <th>3915</th>\n",
              "      <th>3916</th>\n",
              "      <th>3917</th>\n",
              "      <th>3918</th>\n",
              "      <th>3919</th>\n",
              "      <th>3920</th>\n",
              "      <th>3921</th>\n",
              "      <th>3922</th>\n",
              "      <th>3923</th>\n",
              "      <th>3924</th>\n",
              "      <th>3925</th>\n",
              "      <th>3926</th>\n",
              "      <th>3927</th>\n",
              "      <th>3928</th>\n",
              "      <th>3929</th>\n",
              "      <th>3930</th>\n",
              "      <th>3931</th>\n",
              "      <th>3932</th>\n",
              "      <th>3933</th>\n",
              "      <th>3934</th>\n",
              "      <th>3935</th>\n",
              "      <th>3936</th>\n",
              "      <th>3937</th>\n",
              "      <th>3938</th>\n",
              "      <th>3939</th>\n",
              "      <th>3940</th>\n",
              "      <th>3941</th>\n",
              "      <th>3942</th>\n",
              "      <th>3943</th>\n",
              "      <th>3944</th>\n",
              "      <th>3945</th>\n",
              "      <th>3946</th>\n",
              "      <th>3947</th>\n",
              "      <th>3948</th>\n",
              "      <th>3949</th>\n",
              "      <th>3950</th>\n",
              "      <th>3951</th>\n",
              "      <th>3952</th>\n",
              "    </tr>\n",
              "  </thead>\n",
              "  <tbody>\n",
              "    <tr>\n",
              "      <th>0</th>\n",
              "      <td>4.288861</td>\n",
              "      <td>0.143055</td>\n",
              "      <td>-0.195080</td>\n",
              "      <td>-0.018843</td>\n",
              "      <td>0.012232</td>\n",
              "      <td>-0.176604</td>\n",
              "      <td>-0.074120</td>\n",
              "      <td>0.141358</td>\n",
              "      <td>-0.059553</td>\n",
              "      <td>-0.195950</td>\n",
              "      <td>0.512867</td>\n",
              "      <td>-0.089172</td>\n",
              "      <td>0.310181</td>\n",
              "      <td>-0.002005</td>\n",
              "      <td>-0.052401</td>\n",
              "      <td>-0.189827</td>\n",
              "      <td>0.238360</td>\n",
              "      <td>0.006466</td>\n",
              "      <td>-0.099315</td>\n",
              "      <td>-0.069682</td>\n",
              "      <td>-0.321492</td>\n",
              "      <td>0.111577</td>\n",
              "      <td>0.034795</td>\n",
              "      <td>0.320576</td>\n",
              "      <td>-0.118217</td>\n",
              "      <td>-0.012647</td>\n",
              "      <td>0.065573</td>\n",
              "      <td>-0.098318</td>\n",
              "      <td>0.064081</td>\n",
              "      <td>-0.005914</td>\n",
              "      <td>0.091936</td>\n",
              "      <td>0.180563</td>\n",
              "      <td>-0.009566</td>\n",
              "      <td>2.641693</td>\n",
              "      <td>-0.012495</td>\n",
              "      <td>0.765179</td>\n",
              "      <td>0.019784</td>\n",
              "      <td>0.002917</td>\n",
              "      <td>0.053079</td>\n",
              "      <td>0.014856</td>\n",
              "      <td>...</td>\n",
              "      <td>0.018810</td>\n",
              "      <td>-0.018782</td>\n",
              "      <td>0.022249</td>\n",
              "      <td>0.227852</td>\n",
              "      <td>-0.067653</td>\n",
              "      <td>-0.046039</td>\n",
              "      <td>-0.023574</td>\n",
              "      <td>-0.019405</td>\n",
              "      <td>-0.005116</td>\n",
              "      <td>-0.032921</td>\n",
              "      <td>-0.008259</td>\n",
              "      <td>-0.019157</td>\n",
              "      <td>0.007527</td>\n",
              "      <td>-0.008687</td>\n",
              "      <td>-0.025630</td>\n",
              "      <td>-0.013563</td>\n",
              "      <td>0.015240</td>\n",
              "      <td>-0.044665</td>\n",
              "      <td>-0.009568</td>\n",
              "      <td>-0.043549</td>\n",
              "      <td>-0.003131</td>\n",
              "      <td>-0.008221</td>\n",
              "      <td>-0.005948</td>\n",
              "      <td>0.031885</td>\n",
              "      <td>-0.003424</td>\n",
              "      <td>-0.001159</td>\n",
              "      <td>-0.002124</td>\n",
              "      <td>-0.002827</td>\n",
              "      <td>0.010393</td>\n",
              "      <td>-0.001068</td>\n",
              "      <td>0.027807</td>\n",
              "      <td>0.001640</td>\n",
              "      <td>0.026395</td>\n",
              "      <td>-0.022024</td>\n",
              "      <td>-0.085415</td>\n",
              "      <td>0.403529</td>\n",
              "      <td>0.105579</td>\n",
              "      <td>0.031912</td>\n",
              "      <td>0.050450</td>\n",
              "      <td>0.088910</td>\n",
              "    </tr>\n",
              "    <tr>\n",
              "      <th>1</th>\n",
              "      <td>0.744716</td>\n",
              "      <td>0.169659</td>\n",
              "      <td>0.335418</td>\n",
              "      <td>0.000758</td>\n",
              "      <td>0.022475</td>\n",
              "      <td>1.353050</td>\n",
              "      <td>0.051426</td>\n",
              "      <td>0.071258</td>\n",
              "      <td>0.161601</td>\n",
              "      <td>1.567246</td>\n",
              "      <td>0.772656</td>\n",
              "      <td>0.046179</td>\n",
              "      <td>-0.054562</td>\n",
              "      <td>0.042344</td>\n",
              "      <td>0.048390</td>\n",
              "      <td>0.347313</td>\n",
              "      <td>1.074905</td>\n",
              "      <td>-0.099782</td>\n",
              "      <td>0.008163</td>\n",
              "      <td>0.250869</td>\n",
              "      <td>2.186638</td>\n",
              "      <td>0.018789</td>\n",
              "      <td>-0.002199</td>\n",
              "      <td>0.218934</td>\n",
              "      <td>0.824475</td>\n",
              "      <td>0.139274</td>\n",
              "      <td>-0.007135</td>\n",
              "      <td>0.053071</td>\n",
              "      <td>-0.156952</td>\n",
              "      <td>0.044739</td>\n",
              "      <td>-0.002960</td>\n",
              "      <td>0.453298</td>\n",
              "      <td>-0.007484</td>\n",
              "      <td>0.920325</td>\n",
              "      <td>0.016566</td>\n",
              "      <td>1.335129</td>\n",
              "      <td>-0.015066</td>\n",
              "      <td>-0.045602</td>\n",
              "      <td>0.034649</td>\n",
              "      <td>0.122010</td>\n",
              "      <td>...</td>\n",
              "      <td>-0.042363</td>\n",
              "      <td>-0.137822</td>\n",
              "      <td>-0.112071</td>\n",
              "      <td>0.380783</td>\n",
              "      <td>-0.036273</td>\n",
              "      <td>-0.016174</td>\n",
              "      <td>0.002920</td>\n",
              "      <td>-0.148021</td>\n",
              "      <td>-0.017614</td>\n",
              "      <td>-0.033474</td>\n",
              "      <td>0.086133</td>\n",
              "      <td>0.008153</td>\n",
              "      <td>-0.126819</td>\n",
              "      <td>0.109208</td>\n",
              "      <td>0.001798</td>\n",
              "      <td>0.151866</td>\n",
              "      <td>0.014118</td>\n",
              "      <td>0.032897</td>\n",
              "      <td>0.005764</td>\n",
              "      <td>0.042259</td>\n",
              "      <td>0.022404</td>\n",
              "      <td>0.003260</td>\n",
              "      <td>0.010556</td>\n",
              "      <td>0.137181</td>\n",
              "      <td>-0.042184</td>\n",
              "      <td>0.006759</td>\n",
              "      <td>-0.005789</td>\n",
              "      <td>0.000340</td>\n",
              "      <td>0.002024</td>\n",
              "      <td>0.016013</td>\n",
              "      <td>-0.056502</td>\n",
              "      <td>-0.013733</td>\n",
              "      <td>-0.010580</td>\n",
              "      <td>0.062576</td>\n",
              "      <td>-0.016248</td>\n",
              "      <td>0.155790</td>\n",
              "      <td>-0.418737</td>\n",
              "      <td>-0.101102</td>\n",
              "      <td>-0.054098</td>\n",
              "      <td>-0.140188</td>\n",
              "    </tr>\n",
              "    <tr>\n",
              "      <th>2</th>\n",
              "      <td>1.818824</td>\n",
              "      <td>0.456136</td>\n",
              "      <td>0.090978</td>\n",
              "      <td>-0.043037</td>\n",
              "      <td>-0.025694</td>\n",
              "      <td>-0.158617</td>\n",
              "      <td>-0.131778</td>\n",
              "      <td>0.098977</td>\n",
              "      <td>0.030551</td>\n",
              "      <td>0.735470</td>\n",
              "      <td>-0.023476</td>\n",
              "      <td>0.034796</td>\n",
              "      <td>0.065942</td>\n",
              "      <td>0.008661</td>\n",
              "      <td>0.110348</td>\n",
              "      <td>-0.002952</td>\n",
              "      <td>-0.122061</td>\n",
              "      <td>0.063974</td>\n",
              "      <td>0.061033</td>\n",
              "      <td>0.081799</td>\n",
              "      <td>0.329471</td>\n",
              "      <td>0.149579</td>\n",
              "      <td>0.095352</td>\n",
              "      <td>-0.161493</td>\n",
              "      <td>0.022545</td>\n",
              "      <td>-0.009284</td>\n",
              "      <td>-0.002677</td>\n",
              "      <td>-0.142710</td>\n",
              "      <td>0.012345</td>\n",
              "      <td>-0.085331</td>\n",
              "      <td>0.076139</td>\n",
              "      <td>-0.355795</td>\n",
              "      <td>-0.008579</td>\n",
              "      <td>1.046871</td>\n",
              "      <td>-0.088946</td>\n",
              "      <td>0.383583</td>\n",
              "      <td>-0.018144</td>\n",
              "      <td>-0.038618</td>\n",
              "      <td>0.113984</td>\n",
              "      <td>0.006942</td>\n",
              "      <td>...</td>\n",
              "      <td>0.007233</td>\n",
              "      <td>-0.047221</td>\n",
              "      <td>0.066474</td>\n",
              "      <td>-0.179455</td>\n",
              "      <td>0.097428</td>\n",
              "      <td>0.034113</td>\n",
              "      <td>0.008098</td>\n",
              "      <td>-0.024784</td>\n",
              "      <td>-0.012749</td>\n",
              "      <td>-0.007394</td>\n",
              "      <td>-0.017220</td>\n",
              "      <td>0.004719</td>\n",
              "      <td>0.113348</td>\n",
              "      <td>-0.074943</td>\n",
              "      <td>-0.145795</td>\n",
              "      <td>0.128619</td>\n",
              "      <td>0.112567</td>\n",
              "      <td>0.045500</td>\n",
              "      <td>-0.018027</td>\n",
              "      <td>-0.058946</td>\n",
              "      <td>-0.002770</td>\n",
              "      <td>-0.035276</td>\n",
              "      <td>-0.008085</td>\n",
              "      <td>0.132182</td>\n",
              "      <td>-0.017005</td>\n",
              "      <td>0.014383</td>\n",
              "      <td>0.006598</td>\n",
              "      <td>-0.006217</td>\n",
              "      <td>-0.000342</td>\n",
              "      <td>0.000518</td>\n",
              "      <td>0.040481</td>\n",
              "      <td>-0.005301</td>\n",
              "      <td>0.012832</td>\n",
              "      <td>0.029349</td>\n",
              "      <td>0.020866</td>\n",
              "      <td>0.121532</td>\n",
              "      <td>0.076205</td>\n",
              "      <td>0.012345</td>\n",
              "      <td>0.015148</td>\n",
              "      <td>-0.109956</td>\n",
              "    </tr>\n",
              "    <tr>\n",
              "      <th>3</th>\n",
              "      <td>0.408057</td>\n",
              "      <td>-0.072960</td>\n",
              "      <td>0.039642</td>\n",
              "      <td>0.089363</td>\n",
              "      <td>0.041950</td>\n",
              "      <td>0.237753</td>\n",
              "      <td>-0.049426</td>\n",
              "      <td>0.009467</td>\n",
              "      <td>0.045469</td>\n",
              "      <td>-0.111370</td>\n",
              "      <td>-0.375831</td>\n",
              "      <td>0.068658</td>\n",
              "      <td>0.011199</td>\n",
              "      <td>0.069699</td>\n",
              "      <td>-0.037529</td>\n",
              "      <td>-0.238788</td>\n",
              "      <td>0.060607</td>\n",
              "      <td>-0.043418</td>\n",
              "      <td>0.053152</td>\n",
              "      <td>0.078237</td>\n",
              "      <td>0.357185</td>\n",
              "      <td>-0.096005</td>\n",
              "      <td>-0.028243</td>\n",
              "      <td>-0.067169</td>\n",
              "      <td>0.246164</td>\n",
              "      <td>-0.020379</td>\n",
              "      <td>0.034461</td>\n",
              "      <td>-0.022225</td>\n",
              "      <td>-0.012327</td>\n",
              "      <td>0.009182</td>\n",
              "      <td>0.014730</td>\n",
              "      <td>0.215893</td>\n",
              "      <td>-0.019687</td>\n",
              "      <td>-0.293933</td>\n",
              "      <td>-0.011511</td>\n",
              "      <td>0.145326</td>\n",
              "      <td>-0.029213</td>\n",
              "      <td>0.030029</td>\n",
              "      <td>-0.045409</td>\n",
              "      <td>-0.030684</td>\n",
              "      <td>...</td>\n",
              "      <td>-0.015077</td>\n",
              "      <td>-0.030208</td>\n",
              "      <td>0.028357</td>\n",
              "      <td>-0.072643</td>\n",
              "      <td>-0.135727</td>\n",
              "      <td>-0.053318</td>\n",
              "      <td>-0.012962</td>\n",
              "      <td>-0.054465</td>\n",
              "      <td>0.005870</td>\n",
              "      <td>-0.018048</td>\n",
              "      <td>-0.006836</td>\n",
              "      <td>-0.008222</td>\n",
              "      <td>-0.027214</td>\n",
              "      <td>-0.071677</td>\n",
              "      <td>-0.094072</td>\n",
              "      <td>-0.010745</td>\n",
              "      <td>-0.103191</td>\n",
              "      <td>-0.031297</td>\n",
              "      <td>-0.023920</td>\n",
              "      <td>-0.015053</td>\n",
              "      <td>-0.017914</td>\n",
              "      <td>-0.029561</td>\n",
              "      <td>-0.024299</td>\n",
              "      <td>-0.057678</td>\n",
              "      <td>-0.111450</td>\n",
              "      <td>-0.015473</td>\n",
              "      <td>-0.007123</td>\n",
              "      <td>-0.007416</td>\n",
              "      <td>-0.011508</td>\n",
              "      <td>-0.010038</td>\n",
              "      <td>0.008571</td>\n",
              "      <td>-0.005425</td>\n",
              "      <td>-0.008500</td>\n",
              "      <td>-0.003417</td>\n",
              "      <td>-0.083982</td>\n",
              "      <td>0.094512</td>\n",
              "      <td>0.057557</td>\n",
              "      <td>-0.026050</td>\n",
              "      <td>0.014841</td>\n",
              "      <td>-0.034224</td>\n",
              "    </tr>\n",
              "    <tr>\n",
              "      <th>4</th>\n",
              "      <td>1.574272</td>\n",
              "      <td>0.021239</td>\n",
              "      <td>-0.051300</td>\n",
              "      <td>0.246884</td>\n",
              "      <td>-0.032406</td>\n",
              "      <td>1.552281</td>\n",
              "      <td>-0.199630</td>\n",
              "      <td>-0.014920</td>\n",
              "      <td>-0.060498</td>\n",
              "      <td>0.450512</td>\n",
              "      <td>-0.251178</td>\n",
              "      <td>0.012337</td>\n",
              "      <td>-0.084051</td>\n",
              "      <td>0.258937</td>\n",
              "      <td>0.016570</td>\n",
              "      <td>0.980536</td>\n",
              "      <td>1.267869</td>\n",
              "      <td>0.275619</td>\n",
              "      <td>-0.008139</td>\n",
              "      <td>-0.038832</td>\n",
              "      <td>1.849627</td>\n",
              "      <td>0.107649</td>\n",
              "      <td>-0.168424</td>\n",
              "      <td>0.386541</td>\n",
              "      <td>1.790343</td>\n",
              "      <td>0.192379</td>\n",
              "      <td>-0.054356</td>\n",
              "      <td>0.267566</td>\n",
              "      <td>1.027817</td>\n",
              "      <td>0.374665</td>\n",
              "      <td>-0.010445</td>\n",
              "      <td>1.947980</td>\n",
              "      <td>0.017468</td>\n",
              "      <td>2.784035</td>\n",
              "      <td>0.274397</td>\n",
              "      <td>1.422393</td>\n",
              "      <td>0.040553</td>\n",
              "      <td>0.022926</td>\n",
              "      <td>1.345800</td>\n",
              "      <td>0.104507</td>\n",
              "      <td>...</td>\n",
              "      <td>0.075475</td>\n",
              "      <td>0.330767</td>\n",
              "      <td>0.150470</td>\n",
              "      <td>-0.261636</td>\n",
              "      <td>0.085163</td>\n",
              "      <td>-0.014229</td>\n",
              "      <td>-0.029247</td>\n",
              "      <td>0.124172</td>\n",
              "      <td>0.092875</td>\n",
              "      <td>0.061895</td>\n",
              "      <td>0.034757</td>\n",
              "      <td>0.054386</td>\n",
              "      <td>0.047055</td>\n",
              "      <td>0.048403</td>\n",
              "      <td>0.082926</td>\n",
              "      <td>0.129035</td>\n",
              "      <td>-0.174646</td>\n",
              "      <td>0.102727</td>\n",
              "      <td>0.024732</td>\n",
              "      <td>0.047280</td>\n",
              "      <td>0.017818</td>\n",
              "      <td>0.041451</td>\n",
              "      <td>0.041595</td>\n",
              "      <td>-0.007138</td>\n",
              "      <td>-0.080448</td>\n",
              "      <td>0.018639</td>\n",
              "      <td>0.034068</td>\n",
              "      <td>0.026941</td>\n",
              "      <td>0.035905</td>\n",
              "      <td>0.024459</td>\n",
              "      <td>0.110151</td>\n",
              "      <td>0.046010</td>\n",
              "      <td>0.006934</td>\n",
              "      <td>-0.015940</td>\n",
              "      <td>-0.050080</td>\n",
              "      <td>-0.052539</td>\n",
              "      <td>0.507189</td>\n",
              "      <td>0.033830</td>\n",
              "      <td>0.125706</td>\n",
              "      <td>0.199244</td>\n",
              "    </tr>\n",
              "  </tbody>\n",
              "</table>\n",
              "<p>5 rows × 3706 columns</p>\n",
              "</div>"
            ],
            "text/plain": [
              "movie_id      1         2         3     ...      3950      3951      3952\n",
              "0         4.288861  0.143055 -0.195080  ...  0.031912  0.050450  0.088910\n",
              "1         0.744716  0.169659  0.335418  ... -0.101102 -0.054098 -0.140188\n",
              "2         1.818824  0.456136  0.090978  ...  0.012345  0.015148 -0.109956\n",
              "3         0.408057 -0.072960  0.039642  ... -0.026050  0.014841 -0.034224\n",
              "4         1.574272  0.021239 -0.051300  ...  0.033830  0.125706  0.199244\n",
              "\n",
              "[5 rows x 3706 columns]"
            ]
          },
          "metadata": {
            "tags": []
          },
          "execution_count": 91
        }
      ]
    },
    {
      "cell_type": "markdown",
      "metadata": {
        "id": "QrID5f27LDw4"
      },
      "source": [
        "Now I write a function to return the movies with the highest predicted rating that the specified user hasn't already rated. Though I didn't use any explicit movie content features (such as genre or title), I'll merge in that information to get a more complete picture of the recommendations."
      ]
    },
    {
      "cell_type": "code",
      "metadata": {
        "collapsed": true,
        "id": "jDQA1SK2LDw5"
      },
      "source": [
        "def recommend_movies(predictions, userID, movies, original_ratings, num_recommendations):\n",
        "    \n",
        "    # Get and sort the user's predictions\n",
        "    user_row_number = userID - 1 # User ID starts at 1, not 0\n",
        "    sorted_user_predictions = preds.iloc[user_row_number].sort_values(ascending=False) # User ID starts at 1\n",
        "    \n",
        "    # Get the user's data and merge in the movie information.\n",
        "    user_data = original_ratings[original_ratings.user_id == (userID)]\n",
        "    user_full = (user_data.merge(movies, how = 'left', left_on = 'movie_id', right_on = 'movie_id').\n",
        "                     sort_values(['rating'], ascending=False)\n",
        "                 )\n",
        "\n",
        "    print('User {0} has already rated {1} movies.'.format(userID, user_full.shape[0]))\n",
        "    print('Recommending highest {0} predicted ratings movies not already rated.'.format(num_recommendations))\n",
        "    \n",
        "    # Recommend the highest predicted rating movies that the user hasn't seen yet.\n",
        "    recommendations = (movies[~movies['movie_id'].isin(user_full['movie_id'])].\n",
        "         merge(pd.DataFrame(sorted_user_predictions).reset_index(), how = 'left',\n",
        "               left_on = 'movie_id',\n",
        "               right_on = 'movie_id').\n",
        "         rename(columns = {user_row_number: 'Predictions'}).\n",
        "         sort_values('Predictions', ascending = False).\n",
        "                       iloc[:num_recommendations, :-1]\n",
        "                      )\n",
        "\n",
        "    return user_full, recommendations"
      ],
      "execution_count": 93,
      "outputs": []
    },
    {
      "cell_type": "markdown",
      "metadata": {
        "id": "Ntxsi4JKLDw6"
      },
      "source": [
        "Let's try to recommend 20 movies for user with ID 1310."
      ]
    },
    {
      "cell_type": "code",
      "metadata": {
        "id": "MM6aPRvNLDw6",
        "colab": {
          "base_uri": "https://localhost:8080/"
        },
        "outputId": "928dfe3e-4eb2-403d-8d7e-c55b3acdca26"
      },
      "source": [
        "already_rated, predictions = recommend_movies(preds, 1310, movies, ratings, 20)"
      ],
      "execution_count": 94,
      "outputs": [
        {
          "output_type": "stream",
          "text": [
            "User 1310 has already rated 24 movies.\n",
            "Recommending highest 20 predicted ratings movies not already rated.\n"
          ],
          "name": "stdout"
        }
      ]
    },
    {
      "cell_type": "code",
      "metadata": {
        "id": "EXFYBa5kLDw6",
        "colab": {
          "base_uri": "https://localhost:8080/",
          "height": 669
        },
        "outputId": "6369bed9-f79c-4ba2-be77-88c138daa9ea"
      },
      "source": [
        "# Top 20 movies that User 1310 has rated \n",
        "already_rated.head(20)"
      ],
      "execution_count": 95,
      "outputs": [
        {
          "output_type": "execute_result",
          "data": {
            "text/html": [
              "<div>\n",
              "<style scoped>\n",
              "    .dataframe tbody tr th:only-of-type {\n",
              "        vertical-align: middle;\n",
              "    }\n",
              "\n",
              "    .dataframe tbody tr th {\n",
              "        vertical-align: top;\n",
              "    }\n",
              "\n",
              "    .dataframe thead th {\n",
              "        text-align: right;\n",
              "    }\n",
              "</style>\n",
              "<table border=\"1\" class=\"dataframe\">\n",
              "  <thead>\n",
              "    <tr style=\"text-align: right;\">\n",
              "      <th></th>\n",
              "      <th>user_id</th>\n",
              "      <th>movie_id</th>\n",
              "      <th>rating</th>\n",
              "      <th>timestamp</th>\n",
              "      <th>title</th>\n",
              "      <th>genres</th>\n",
              "    </tr>\n",
              "  </thead>\n",
              "  <tbody>\n",
              "    <tr>\n",
              "      <th>5</th>\n",
              "      <td>1310</td>\n",
              "      <td>2248</td>\n",
              "      <td>5</td>\n",
              "      <td>974781573</td>\n",
              "      <td>Say Anything... (1989)</td>\n",
              "      <td>Comedy|Drama|Romance</td>\n",
              "    </tr>\n",
              "    <tr>\n",
              "      <th>6</th>\n",
              "      <td>1310</td>\n",
              "      <td>2620</td>\n",
              "      <td>5</td>\n",
              "      <td>974781573</td>\n",
              "      <td>This Is My Father (1998)</td>\n",
              "      <td>Drama|Romance</td>\n",
              "    </tr>\n",
              "    <tr>\n",
              "      <th>7</th>\n",
              "      <td>1310</td>\n",
              "      <td>3683</td>\n",
              "      <td>5</td>\n",
              "      <td>974781935</td>\n",
              "      <td>Blood Simple (1984)</td>\n",
              "      <td>Drama|Film-Noir</td>\n",
              "    </tr>\n",
              "    <tr>\n",
              "      <th>15</th>\n",
              "      <td>1310</td>\n",
              "      <td>1704</td>\n",
              "      <td>5</td>\n",
              "      <td>974781573</td>\n",
              "      <td>Good Will Hunting (1997)</td>\n",
              "      <td>Drama</td>\n",
              "    </tr>\n",
              "    <tr>\n",
              "      <th>1</th>\n",
              "      <td>1310</td>\n",
              "      <td>1293</td>\n",
              "      <td>5</td>\n",
              "      <td>974781839</td>\n",
              "      <td>Gandhi (1982)</td>\n",
              "      <td>Drama</td>\n",
              "    </tr>\n",
              "    <tr>\n",
              "      <th>12</th>\n",
              "      <td>1310</td>\n",
              "      <td>3101</td>\n",
              "      <td>4</td>\n",
              "      <td>974781573</td>\n",
              "      <td>Fatal Attraction (1987)</td>\n",
              "      <td>Thriller</td>\n",
              "    </tr>\n",
              "    <tr>\n",
              "      <th>11</th>\n",
              "      <td>1310</td>\n",
              "      <td>1343</td>\n",
              "      <td>4</td>\n",
              "      <td>974781534</td>\n",
              "      <td>Cape Fear (1991)</td>\n",
              "      <td>Thriller</td>\n",
              "    </tr>\n",
              "    <tr>\n",
              "      <th>20</th>\n",
              "      <td>1310</td>\n",
              "      <td>2000</td>\n",
              "      <td>4</td>\n",
              "      <td>974781892</td>\n",
              "      <td>Lethal Weapon (1987)</td>\n",
              "      <td>Action|Comedy|Crime|Drama</td>\n",
              "    </tr>\n",
              "    <tr>\n",
              "      <th>18</th>\n",
              "      <td>1310</td>\n",
              "      <td>3526</td>\n",
              "      <td>4</td>\n",
              "      <td>974781892</td>\n",
              "      <td>Parenthood (1989)</td>\n",
              "      <td>Comedy|Drama</td>\n",
              "    </tr>\n",
              "    <tr>\n",
              "      <th>17</th>\n",
              "      <td>1310</td>\n",
              "      <td>3360</td>\n",
              "      <td>4</td>\n",
              "      <td>974781935</td>\n",
              "      <td>Hoosiers (1986)</td>\n",
              "      <td>Drama</td>\n",
              "    </tr>\n",
              "    <tr>\n",
              "      <th>13</th>\n",
              "      <td>1310</td>\n",
              "      <td>3111</td>\n",
              "      <td>4</td>\n",
              "      <td>974782001</td>\n",
              "      <td>Places in the Heart (1984)</td>\n",
              "      <td>Drama</td>\n",
              "    </tr>\n",
              "    <tr>\n",
              "      <th>23</th>\n",
              "      <td>1310</td>\n",
              "      <td>1097</td>\n",
              "      <td>4</td>\n",
              "      <td>974781534</td>\n",
              "      <td>E.T. the Extra-Terrestrial (1982)</td>\n",
              "      <td>Children's|Drama|Fantasy|Sci-Fi</td>\n",
              "    </tr>\n",
              "    <tr>\n",
              "      <th>10</th>\n",
              "      <td>1310</td>\n",
              "      <td>1196</td>\n",
              "      <td>4</td>\n",
              "      <td>974781701</td>\n",
              "      <td>Star Wars: Episode V - The Empire Strikes Back...</td>\n",
              "      <td>Action|Adventure|Drama|Sci-Fi|War</td>\n",
              "    </tr>\n",
              "    <tr>\n",
              "      <th>9</th>\n",
              "      <td>1310</td>\n",
              "      <td>1185</td>\n",
              "      <td>4</td>\n",
              "      <td>974781839</td>\n",
              "      <td>My Left Foot (1989)</td>\n",
              "      <td>Drama</td>\n",
              "    </tr>\n",
              "    <tr>\n",
              "      <th>8</th>\n",
              "      <td>1310</td>\n",
              "      <td>3685</td>\n",
              "      <td>4</td>\n",
              "      <td>974781935</td>\n",
              "      <td>Prizzi's Honor (1985)</td>\n",
              "      <td>Comedy|Drama|Romance</td>\n",
              "    </tr>\n",
              "    <tr>\n",
              "      <th>4</th>\n",
              "      <td>1310</td>\n",
              "      <td>2243</td>\n",
              "      <td>4</td>\n",
              "      <td>974782001</td>\n",
              "      <td>Broadcast News (1987)</td>\n",
              "      <td>Comedy|Drama|Romance</td>\n",
              "    </tr>\n",
              "    <tr>\n",
              "      <th>3</th>\n",
              "      <td>1310</td>\n",
              "      <td>1299</td>\n",
              "      <td>4</td>\n",
              "      <td>974781701</td>\n",
              "      <td>Killing Fields, The (1984)</td>\n",
              "      <td>Drama|War</td>\n",
              "    </tr>\n",
              "    <tr>\n",
              "      <th>16</th>\n",
              "      <td>1310</td>\n",
              "      <td>144</td>\n",
              "      <td>3</td>\n",
              "      <td>974781573</td>\n",
              "      <td>Brothers McMullen, The (1995)</td>\n",
              "      <td>Comedy</td>\n",
              "    </tr>\n",
              "    <tr>\n",
              "      <th>19</th>\n",
              "      <td>1310</td>\n",
              "      <td>1960</td>\n",
              "      <td>3</td>\n",
              "      <td>974782001</td>\n",
              "      <td>Last Emperor, The (1987)</td>\n",
              "      <td>Drama|War</td>\n",
              "    </tr>\n",
              "    <tr>\n",
              "      <th>0</th>\n",
              "      <td>1310</td>\n",
              "      <td>2988</td>\n",
              "      <td>3</td>\n",
              "      <td>974781935</td>\n",
              "      <td>Melvin and Howard (1980)</td>\n",
              "      <td>Drama</td>\n",
              "    </tr>\n",
              "  </tbody>\n",
              "</table>\n",
              "</div>"
            ],
            "text/plain": [
              "    user_id  ...                             genres\n",
              "5      1310  ...               Comedy|Drama|Romance\n",
              "6      1310  ...                      Drama|Romance\n",
              "7      1310  ...                    Drama|Film-Noir\n",
              "15     1310  ...                              Drama\n",
              "1      1310  ...                              Drama\n",
              "12     1310  ...                           Thriller\n",
              "11     1310  ...                           Thriller\n",
              "20     1310  ...          Action|Comedy|Crime|Drama\n",
              "18     1310  ...                       Comedy|Drama\n",
              "17     1310  ...                              Drama\n",
              "13     1310  ...                              Drama\n",
              "23     1310  ...    Children's|Drama|Fantasy|Sci-Fi\n",
              "10     1310  ...  Action|Adventure|Drama|Sci-Fi|War\n",
              "9      1310  ...                              Drama\n",
              "8      1310  ...               Comedy|Drama|Romance\n",
              "4      1310  ...               Comedy|Drama|Romance\n",
              "3      1310  ...                          Drama|War\n",
              "16     1310  ...                             Comedy\n",
              "19     1310  ...                          Drama|War\n",
              "0      1310  ...                              Drama\n",
              "\n",
              "[20 rows x 6 columns]"
            ]
          },
          "metadata": {
            "tags": []
          },
          "execution_count": 95
        }
      ]
    },
    {
      "cell_type": "code",
      "metadata": {
        "id": "Nh-Lvur-LDw6",
        "colab": {
          "base_uri": "https://localhost:8080/",
          "height": 669
        },
        "outputId": "56e9c716-aeb5-409a-f8fd-56af01ce8467"
      },
      "source": [
        "# Top 20 movies that User 1310 hopefully will enjoy\n",
        "predictions"
      ],
      "execution_count": 96,
      "outputs": [
        {
          "output_type": "execute_result",
          "data": {
            "text/html": [
              "<div>\n",
              "<style scoped>\n",
              "    .dataframe tbody tr th:only-of-type {\n",
              "        vertical-align: middle;\n",
              "    }\n",
              "\n",
              "    .dataframe tbody tr th {\n",
              "        vertical-align: top;\n",
              "    }\n",
              "\n",
              "    .dataframe thead th {\n",
              "        text-align: right;\n",
              "    }\n",
              "</style>\n",
              "<table border=\"1\" class=\"dataframe\">\n",
              "  <thead>\n",
              "    <tr style=\"text-align: right;\">\n",
              "      <th></th>\n",
              "      <th>movie_id</th>\n",
              "      <th>title</th>\n",
              "      <th>genres</th>\n",
              "    </tr>\n",
              "  </thead>\n",
              "  <tbody>\n",
              "    <tr>\n",
              "      <th>1618</th>\n",
              "      <td>1674</td>\n",
              "      <td>Witness (1985)</td>\n",
              "      <td>Drama|Romance|Thriller</td>\n",
              "    </tr>\n",
              "    <tr>\n",
              "      <th>1880</th>\n",
              "      <td>1961</td>\n",
              "      <td>Rain Man (1988)</td>\n",
              "      <td>Drama</td>\n",
              "    </tr>\n",
              "    <tr>\n",
              "      <th>1187</th>\n",
              "      <td>1210</td>\n",
              "      <td>Star Wars: Episode VI - Return of the Jedi (1983)</td>\n",
              "      <td>Action|Adventure|Romance|Sci-Fi|War</td>\n",
              "    </tr>\n",
              "    <tr>\n",
              "      <th>1216</th>\n",
              "      <td>1242</td>\n",
              "      <td>Glory (1989)</td>\n",
              "      <td>Action|Drama|War</td>\n",
              "    </tr>\n",
              "    <tr>\n",
              "      <th>1202</th>\n",
              "      <td>1225</td>\n",
              "      <td>Amadeus (1984)</td>\n",
              "      <td>Drama</td>\n",
              "    </tr>\n",
              "    <tr>\n",
              "      <th>1273</th>\n",
              "      <td>1302</td>\n",
              "      <td>Field of Dreams (1989)</td>\n",
              "      <td>Drama</td>\n",
              "    </tr>\n",
              "    <tr>\n",
              "      <th>1220</th>\n",
              "      <td>1246</td>\n",
              "      <td>Dead Poets Society (1989)</td>\n",
              "      <td>Drama</td>\n",
              "    </tr>\n",
              "    <tr>\n",
              "      <th>1881</th>\n",
              "      <td>1962</td>\n",
              "      <td>Driving Miss Daisy (1989)</td>\n",
              "      <td>Drama</td>\n",
              "    </tr>\n",
              "    <tr>\n",
              "      <th>1877</th>\n",
              "      <td>1957</td>\n",
              "      <td>Chariots of Fire (1981)</td>\n",
              "      <td>Drama</td>\n",
              "    </tr>\n",
              "    <tr>\n",
              "      <th>1938</th>\n",
              "      <td>2020</td>\n",
              "      <td>Dangerous Liaisons (1988)</td>\n",
              "      <td>Drama|Romance</td>\n",
              "    </tr>\n",
              "    <tr>\n",
              "      <th>1233</th>\n",
              "      <td>1259</td>\n",
              "      <td>Stand by Me (1986)</td>\n",
              "      <td>Adventure|Comedy|Drama</td>\n",
              "    </tr>\n",
              "    <tr>\n",
              "      <th>3011</th>\n",
              "      <td>3098</td>\n",
              "      <td>Natural, The (1984)</td>\n",
              "      <td>Drama</td>\n",
              "    </tr>\n",
              "    <tr>\n",
              "      <th>2112</th>\n",
              "      <td>2194</td>\n",
              "      <td>Untouchables, The (1987)</td>\n",
              "      <td>Action|Crime|Drama</td>\n",
              "    </tr>\n",
              "    <tr>\n",
              "      <th>1876</th>\n",
              "      <td>1956</td>\n",
              "      <td>Ordinary People (1980)</td>\n",
              "      <td>Drama</td>\n",
              "    </tr>\n",
              "    <tr>\n",
              "      <th>1268</th>\n",
              "      <td>1296</td>\n",
              "      <td>Room with a View, A (1986)</td>\n",
              "      <td>Drama|Romance</td>\n",
              "    </tr>\n",
              "    <tr>\n",
              "      <th>2267</th>\n",
              "      <td>2352</td>\n",
              "      <td>Big Chill, The (1983)</td>\n",
              "      <td>Comedy|Drama</td>\n",
              "    </tr>\n",
              "    <tr>\n",
              "      <th>1278</th>\n",
              "      <td>1307</td>\n",
              "      <td>When Harry Met Sally... (1989)</td>\n",
              "      <td>Comedy|Romance</td>\n",
              "    </tr>\n",
              "    <tr>\n",
              "      <th>1165</th>\n",
              "      <td>1186</td>\n",
              "      <td>Sex, Lies, and Videotape (1989)</td>\n",
              "      <td>Drama</td>\n",
              "    </tr>\n",
              "    <tr>\n",
              "      <th>1199</th>\n",
              "      <td>1222</td>\n",
              "      <td>Full Metal Jacket (1987)</td>\n",
              "      <td>Action|Drama|War</td>\n",
              "    </tr>\n",
              "    <tr>\n",
              "      <th>2833</th>\n",
              "      <td>2919</td>\n",
              "      <td>Year of Living Dangerously (1982)</td>\n",
              "      <td>Drama|Romance</td>\n",
              "    </tr>\n",
              "  </tbody>\n",
              "</table>\n",
              "</div>"
            ],
            "text/plain": [
              "      movie_id  ...                               genres\n",
              "1618      1674  ...               Drama|Romance|Thriller\n",
              "1880      1961  ...                                Drama\n",
              "1187      1210  ...  Action|Adventure|Romance|Sci-Fi|War\n",
              "1216      1242  ...                     Action|Drama|War\n",
              "1202      1225  ...                                Drama\n",
              "1273      1302  ...                                Drama\n",
              "1220      1246  ...                                Drama\n",
              "1881      1962  ...                                Drama\n",
              "1877      1957  ...                                Drama\n",
              "1938      2020  ...                        Drama|Romance\n",
              "1233      1259  ...               Adventure|Comedy|Drama\n",
              "3011      3098  ...                                Drama\n",
              "2112      2194  ...                   Action|Crime|Drama\n",
              "1876      1956  ...                                Drama\n",
              "1268      1296  ...                        Drama|Romance\n",
              "2267      2352  ...                         Comedy|Drama\n",
              "1278      1307  ...                       Comedy|Romance\n",
              "1165      1186  ...                                Drama\n",
              "1199      1222  ...                     Action|Drama|War\n",
              "2833      2919  ...                        Drama|Romance\n",
              "\n",
              "[20 rows x 3 columns]"
            ]
          },
          "metadata": {
            "tags": []
          },
          "execution_count": 96
        }
      ]
    },
    {
      "cell_type": "markdown",
      "metadata": {
        "id": "ndjEktkHLDw7"
      },
      "source": [
        "These look like pretty good recommendations. It's good to see that, although I didn't actually use the genre of the movie as a feature, the truncated matrix factorization features \"picked up\" on the underlying tastes and preferences of the user. I've recommended some comedy, drama, and romance movies - all of which were genres of some of this user's top rated movies."
      ]
    },
    {
      "cell_type": "markdown",
      "metadata": {
        "id": "E9gPnHWbLDw7"
      },
      "source": [
        "### Model Evaluation\n",
        "Can't forget to evaluate our model, can we?\n",
        "\n",
        "Instead of doing manually like the last time, I will use the *[Surprise](https://pypi.python.org/pypi/scikit-surprise)* library that provided various ready-to-use powerful prediction algorithms including (SVD) to evaluate its RMSE (Root Mean Squared Error) on the MovieLens dataset. It is a Python scikit building and analyzing recommender systems."
      ]
    },
    {
      "cell_type": "code",
      "metadata": {
        "collapsed": true,
        "id": "mlpR6C8yLDw7"
      },
      "source": [
        "# !pip install -q surprise\n",
        "# Import libraries from Surprise package\n",
        "from surprise import Reader, Dataset, SVD\n",
        "from surprise.model_selection import cross_validate\n",
        "\n",
        "\n",
        "# Load Reader library\n",
        "reader = Reader()\n",
        "\n",
        "# Load ratings dataset with Dataset library\n",
        "data = Dataset.load_from_df(ratings[['user_id', 'movie_id', 'rating']], reader)"
      ],
      "execution_count": 100,
      "outputs": []
    },
    {
      "cell_type": "code",
      "metadata": {
        "id": "9xFndq3-LDw7",
        "colab": {
          "base_uri": "https://localhost:8080/"
        },
        "outputId": "45caa7ab-6e27-4d7d-e477-7b809fd3617e"
      },
      "source": [
        "# Use the SVD algorithm.\n",
        "svd = SVD()\n",
        "\n",
        "# Compute the RMSE of the SVD algorithm.\n",
        "cross_validate(svd, data, measures=['RMSE'], cv=5, verbose=True)"
      ],
      "execution_count": 102,
      "outputs": [
        {
          "output_type": "stream",
          "text": [
            "Evaluating RMSE of algorithm SVD on 5 split(s).\n",
            "\n",
            "                  Fold 1  Fold 2  Fold 3  Fold 4  Fold 5  Mean    Std     \n",
            "RMSE (testset)    0.8751  0.8747  0.8731  0.8739  0.8728  0.8739  0.0009  \n",
            "Fit time          52.87   53.19   54.42   54.61   54.84   53.99   0.80    \n",
            "Test time         2.43    2.46    2.65    3.12    2.45    2.62    0.26    \n"
          ],
          "name": "stdout"
        },
        {
          "output_type": "execute_result",
          "data": {
            "text/plain": [
              "{'fit_time': (52.87232303619385,\n",
              "  53.19050931930542,\n",
              "  54.418463468551636,\n",
              "  54.61285066604614,\n",
              "  54.83551335334778),\n",
              " 'test_rmse': array([0.87508665, 0.87469876, 0.87314373, 0.87387576, 0.87276673]),\n",
              " 'test_time': (2.4313557147979736,\n",
              "  2.4642839431762695,\n",
              "  2.651395559310913,\n",
              "  3.117021083831787,\n",
              "  2.447722911834717)}"
            ]
          },
          "metadata": {
            "tags": []
          },
          "execution_count": 102
        }
      ]
    },
    {
      "cell_type": "markdown",
      "metadata": {
        "id": "WlWx4zFdLDw8"
      },
      "source": [
        "I get a mean *Root Mean Square Error* of 0.8736 which is pretty good. Let's now train on the dataset and arrive at predictions."
      ]
    },
    {
      "cell_type": "code",
      "metadata": {
        "id": "cG-F_7rDLDw8",
        "colab": {
          "base_uri": "https://localhost:8080/"
        },
        "outputId": "703ef127-a42c-4a63-ea3d-52d04bc51135"
      },
      "source": [
        "trainset = data.build_full_trainset()\n",
        "svd.fit(trainset)"
      ],
      "execution_count": 104,
      "outputs": [
        {
          "output_type": "execute_result",
          "data": {
            "text/plain": [
              "<surprise.prediction_algorithms.matrix_factorization.SVD at 0x7f416e996fd0>"
            ]
          },
          "metadata": {
            "tags": []
          },
          "execution_count": 104
        }
      ]
    },
    {
      "cell_type": "markdown",
      "metadata": {
        "id": "1-TPr3e9LDw8"
      },
      "source": [
        "I'll pick again user with ID 1310 and check the ratings he has given."
      ]
    },
    {
      "cell_type": "code",
      "metadata": {
        "id": "fb3vFEWaLDw8",
        "colab": {
          "base_uri": "https://localhost:8080/",
          "height": 793
        },
        "outputId": "b0e33b37-5893-4772-b2fc-f8cace9a5d60"
      },
      "source": [
        "ratings[ratings['user_id'] == 1310]"
      ],
      "execution_count": 105,
      "outputs": [
        {
          "output_type": "execute_result",
          "data": {
            "text/html": [
              "<div>\n",
              "<style scoped>\n",
              "    .dataframe tbody tr th:only-of-type {\n",
              "        vertical-align: middle;\n",
              "    }\n",
              "\n",
              "    .dataframe tbody tr th {\n",
              "        vertical-align: top;\n",
              "    }\n",
              "\n",
              "    .dataframe thead th {\n",
              "        text-align: right;\n",
              "    }\n",
              "</style>\n",
              "<table border=\"1\" class=\"dataframe\">\n",
              "  <thead>\n",
              "    <tr style=\"text-align: right;\">\n",
              "      <th></th>\n",
              "      <th>user_id</th>\n",
              "      <th>movie_id</th>\n",
              "      <th>rating</th>\n",
              "      <th>timestamp</th>\n",
              "    </tr>\n",
              "  </thead>\n",
              "  <tbody>\n",
              "    <tr>\n",
              "      <th>215928</th>\n",
              "      <td>1310</td>\n",
              "      <td>2988</td>\n",
              "      <td>3</td>\n",
              "      <td>974781935</td>\n",
              "    </tr>\n",
              "    <tr>\n",
              "      <th>215929</th>\n",
              "      <td>1310</td>\n",
              "      <td>1293</td>\n",
              "      <td>5</td>\n",
              "      <td>974781839</td>\n",
              "    </tr>\n",
              "    <tr>\n",
              "      <th>215930</th>\n",
              "      <td>1310</td>\n",
              "      <td>1295</td>\n",
              "      <td>2</td>\n",
              "      <td>974782001</td>\n",
              "    </tr>\n",
              "    <tr>\n",
              "      <th>215931</th>\n",
              "      <td>1310</td>\n",
              "      <td>1299</td>\n",
              "      <td>4</td>\n",
              "      <td>974781701</td>\n",
              "    </tr>\n",
              "    <tr>\n",
              "      <th>215932</th>\n",
              "      <td>1310</td>\n",
              "      <td>2243</td>\n",
              "      <td>4</td>\n",
              "      <td>974782001</td>\n",
              "    </tr>\n",
              "    <tr>\n",
              "      <th>215933</th>\n",
              "      <td>1310</td>\n",
              "      <td>2248</td>\n",
              "      <td>5</td>\n",
              "      <td>974781573</td>\n",
              "    </tr>\n",
              "    <tr>\n",
              "      <th>215934</th>\n",
              "      <td>1310</td>\n",
              "      <td>2620</td>\n",
              "      <td>5</td>\n",
              "      <td>974781573</td>\n",
              "    </tr>\n",
              "    <tr>\n",
              "      <th>215935</th>\n",
              "      <td>1310</td>\n",
              "      <td>3683</td>\n",
              "      <td>5</td>\n",
              "      <td>974781935</td>\n",
              "    </tr>\n",
              "    <tr>\n",
              "      <th>215936</th>\n",
              "      <td>1310</td>\n",
              "      <td>3685</td>\n",
              "      <td>4</td>\n",
              "      <td>974781935</td>\n",
              "    </tr>\n",
              "    <tr>\n",
              "      <th>215937</th>\n",
              "      <td>1310</td>\n",
              "      <td>1185</td>\n",
              "      <td>4</td>\n",
              "      <td>974781839</td>\n",
              "    </tr>\n",
              "    <tr>\n",
              "      <th>215938</th>\n",
              "      <td>1310</td>\n",
              "      <td>1196</td>\n",
              "      <td>4</td>\n",
              "      <td>974781701</td>\n",
              "    </tr>\n",
              "    <tr>\n",
              "      <th>215939</th>\n",
              "      <td>1310</td>\n",
              "      <td>1343</td>\n",
              "      <td>4</td>\n",
              "      <td>974781534</td>\n",
              "    </tr>\n",
              "    <tr>\n",
              "      <th>215940</th>\n",
              "      <td>1310</td>\n",
              "      <td>3101</td>\n",
              "      <td>4</td>\n",
              "      <td>974781573</td>\n",
              "    </tr>\n",
              "    <tr>\n",
              "      <th>215941</th>\n",
              "      <td>1310</td>\n",
              "      <td>3111</td>\n",
              "      <td>4</td>\n",
              "      <td>974782001</td>\n",
              "    </tr>\n",
              "    <tr>\n",
              "      <th>215942</th>\n",
              "      <td>1310</td>\n",
              "      <td>2313</td>\n",
              "      <td>2</td>\n",
              "      <td>974781839</td>\n",
              "    </tr>\n",
              "    <tr>\n",
              "      <th>215943</th>\n",
              "      <td>1310</td>\n",
              "      <td>1704</td>\n",
              "      <td>5</td>\n",
              "      <td>974781573</td>\n",
              "    </tr>\n",
              "    <tr>\n",
              "      <th>215944</th>\n",
              "      <td>1310</td>\n",
              "      <td>144</td>\n",
              "      <td>3</td>\n",
              "      <td>974781573</td>\n",
              "    </tr>\n",
              "    <tr>\n",
              "      <th>215945</th>\n",
              "      <td>1310</td>\n",
              "      <td>3360</td>\n",
              "      <td>4</td>\n",
              "      <td>974781935</td>\n",
              "    </tr>\n",
              "    <tr>\n",
              "      <th>215946</th>\n",
              "      <td>1310</td>\n",
              "      <td>3526</td>\n",
              "      <td>4</td>\n",
              "      <td>974781892</td>\n",
              "    </tr>\n",
              "    <tr>\n",
              "      <th>215947</th>\n",
              "      <td>1310</td>\n",
              "      <td>1960</td>\n",
              "      <td>3</td>\n",
              "      <td>974782001</td>\n",
              "    </tr>\n",
              "    <tr>\n",
              "      <th>215948</th>\n",
              "      <td>1310</td>\n",
              "      <td>2000</td>\n",
              "      <td>4</td>\n",
              "      <td>974781892</td>\n",
              "    </tr>\n",
              "    <tr>\n",
              "      <th>215949</th>\n",
              "      <td>1310</td>\n",
              "      <td>1231</td>\n",
              "      <td>2</td>\n",
              "      <td>974781963</td>\n",
              "    </tr>\n",
              "    <tr>\n",
              "      <th>215950</th>\n",
              "      <td>1310</td>\n",
              "      <td>1090</td>\n",
              "      <td>2</td>\n",
              "      <td>974781839</td>\n",
              "    </tr>\n",
              "    <tr>\n",
              "      <th>215951</th>\n",
              "      <td>1310</td>\n",
              "      <td>1097</td>\n",
              "      <td>4</td>\n",
              "      <td>974781534</td>\n",
              "    </tr>\n",
              "  </tbody>\n",
              "</table>\n",
              "</div>"
            ],
            "text/plain": [
              "        user_id  movie_id  rating  timestamp\n",
              "215928     1310      2988       3  974781935\n",
              "215929     1310      1293       5  974781839\n",
              "215930     1310      1295       2  974782001\n",
              "215931     1310      1299       4  974781701\n",
              "215932     1310      2243       4  974782001\n",
              "215933     1310      2248       5  974781573\n",
              "215934     1310      2620       5  974781573\n",
              "215935     1310      3683       5  974781935\n",
              "215936     1310      3685       4  974781935\n",
              "215937     1310      1185       4  974781839\n",
              "215938     1310      1196       4  974781701\n",
              "215939     1310      1343       4  974781534\n",
              "215940     1310      3101       4  974781573\n",
              "215941     1310      3111       4  974782001\n",
              "215942     1310      2313       2  974781839\n",
              "215943     1310      1704       5  974781573\n",
              "215944     1310       144       3  974781573\n",
              "215945     1310      3360       4  974781935\n",
              "215946     1310      3526       4  974781892\n",
              "215947     1310      1960       3  974782001\n",
              "215948     1310      2000       4  974781892\n",
              "215949     1310      1231       2  974781963\n",
              "215950     1310      1090       2  974781839\n",
              "215951     1310      1097       4  974781534"
            ]
          },
          "metadata": {
            "tags": []
          },
          "execution_count": 105
        }
      ]
    },
    {
      "cell_type": "markdown",
      "metadata": {
        "id": "DHHkYLgjLDw8"
      },
      "source": [
        "Now let's use SVD to predict the rating that User with ID 1310 will give to a random movie (let's say with Movie ID 1994)."
      ]
    },
    {
      "cell_type": "code",
      "metadata": {
        "id": "DTrKgAMVLDw8",
        "colab": {
          "base_uri": "https://localhost:8080/"
        },
        "outputId": "31564bd6-f748-4328-c2e8-65871a494873"
      },
      "source": [
        "svd.predict(1310, 1994)"
      ],
      "execution_count": 106,
      "outputs": [
        {
          "output_type": "execute_result",
          "data": {
            "text/plain": [
              "Prediction(uid=1310, iid=1994, r_ui=None, est=3.4394895163888575, details={'was_impossible': False})"
            ]
          },
          "metadata": {
            "tags": []
          },
          "execution_count": 106
        }
      ]
    },
    {
      "cell_type": "markdown",
      "metadata": {
        "id": "r0pwCB0qLDw9"
      },
      "source": [
        "For movie with ID 1994, I get an estimated prediction of 3.349. The recommender system works purely on the basis of an assigned movie ID and tries to predict ratings based on how the other users have predicted the movie.\n",
        "\n",
        "## Conclusion\n",
        "In this notebook, I attempted to build a model-based Collaborative Filtering movie recommendation sytem based on latent features from a low rank matrix factorization method called SVD. As it captures the underlying features driving the raw data, it can scale significantly better to massive datasets as well as make better recommendations based on user's tastes.\n",
        "\n",
        "However, we still likely lose some meaningful signals by using a low-rank approximation. Specifically, there's an interpretability problem as a singular vector specifies a linear combination of all input columns or rows. There's also a lack of sparsity when the singular vectors are quite dense. Thus, SVD approach is limited to linear projections."
      ]
    },
    {
      "cell_type": "markdown",
      "metadata": {
        "id": "QNxDFgZsOQft"
      },
      "source": [
        "# Deep Learning for Movie Recommendation\n",
        "In this notebook, I'll build a deep learning model movie recommendations system on the MovieLens 1M dataset.\n",
        "\n",
        "This will be my 3rd attempt doing this. \n",
        "* In the [1st attempt](https://github.com/khanhnamle1994/movielens/blob/master/Content_Based_and_Collaborative_Filtering_Models.ipynb), I tried out content-based and memory-based collaboratice filtering, which rely on the calculation of users and movies' similarity scores. As no training or optimization is involved, these are easy to use approaches. But their performance decrease when we have sparse data which hinders scalability of these approaches for most of the real-world problems.\n",
        "* In the [2nd attempt](https://github.com/khanhnamle1994/movielens/blob/master/SVD_Model.ipynb), I tried out a matrix factorization model-based collaborative filtering approach called Singular Vector Decomposition, which reduces the dimension of the dataset and gives low-rank approximation of user tastes and preferences.\n",
        "\n",
        "In this post, we'll use a Deep Learning / Neural Network approach.\n"
      ]
    },
    {
      "cell_type": "markdown",
      "metadata": {
        "id": "mlwwr2XDOQfy"
      },
      "source": [
        "## Loading Datasets\n",
        "Similar to what I did for the previous notebooks, I loaded the 3 datasets into 3 dataframes: *ratings*, *users*, and *movies*. Additionally, to make it easy to use series from the *ratings* dataframe as training inputs and output to the Keras model, I set *max_userid* as the max value of user_id in the ratings and *max_movieid* as the max value of movie_id in the ratings."
      ]
    },
    {
      "cell_type": "code",
      "metadata": {
        "collapsed": true,
        "id": "PT-r3FIJOQfz"
      },
      "source": [
        "# Reading ratings file\n",
        "ratings = ratings[['user_id', 'movie_id', 'user_emb_id', 'movie_emb_id', 'rating']]\n",
        "max_userid = ratings['user_id'].drop_duplicates().max()\n",
        "max_movieid = ratings['movie_id'].drop_duplicates().max()\n",
        "\n",
        "# Reading ratings file\n",
        "users = users[['user_id', 'gender', 'zipcode', 'age_desc', 'occ_desc']]\n",
        "\n",
        "movies = movies[['movie_id', 'title', 'genres']]"
      ],
      "execution_count": 109,
      "outputs": []
    },
    {
      "cell_type": "markdown",
      "metadata": {
        "id": "l4vChScuOQf0"
      },
      "source": [
        "## Matrix Factorization for Collaborative Filtering\n",
        "I have discussed this extensively in my 2nd notebook, but want to revisit it here as the baseline approach. The idea behind matrix factorization models is that attitudes or preferences of a user can be determined by a small number of hidden factors. We can call these factors as **Embeddings**.\n",
        "\n",
        "Intuitively, we can understand embeddings as low dimensional hidden factors for movies and users. For e.g. say we have 3 dimensional embeddings for both movies and users.\n",
        "\n",
        "For instance, for movie A, the 3 numbers in the movie embedding matrix represent 3 different characteristics about the movie, such as:\n",
        "* How recent is the movie A?\n",
        "* How much special effects are in movie A?\n",
        "* How CGI-driven is movie A? \n",
        "\n",
        "For user B, the 3 numbers in the user embedding matrix represent:\n",
        "* How much does user B like Drama movie?\n",
        "* How likely does user B to give a 5-star rating?\n",
        "* How often does user B watch movies?\n",
        "<img src=\"https://drive.google.com/uc?id=1CT4FP5rUL2Edv8Ow60hNTOaixCIhCJrY\" alt=\"drawing\" width=\"500\"/>\n",
        "\n"
      ]
    },
    {
      "cell_type": "markdown",
      "metadata": {
        "id": "NwdGY7EoOQf0"
      },
      "source": [
        "I definitely would want to create a training and validation set and optimize the number of embeddings by minimizing the RMSE. Intuitively, the RMSE will decrease on the training set as the number of embeddings increases (because I'm approximating the original ratings matrix with a higher rank matrix). Here I create a training set by shuffling randomly the values from the original ratings dataset."
      ]
    },
    {
      "cell_type": "code",
      "metadata": {
        "id": "gZ4gBjYROQf0",
        "colab": {
          "base_uri": "https://localhost:8080/"
        },
        "outputId": "f45a7596-68cb-47a4-e99f-6e62bdb2f017"
      },
      "source": [
        "# Create training set\n",
        "shuffled_ratings = ratings.sample(frac=1., random_state=2711)\n",
        "\n",
        "# Shuffling users\n",
        "Users = shuffled_ratings['user_emb_id'].values\n",
        "print('Users:', Users, ', shape =', Users.shape)\n",
        "\n",
        "# Shuffling movies\n",
        "Movies = shuffled_ratings['movie_emb_id'].values\n",
        "print('Movies:', Movies, ', shape =', Movies.shape)\n",
        "\n",
        "# Shuffling ratings\n",
        "Ratings = shuffled_ratings['rating'].values\n",
        "print('Ratings:', Ratings, ', shape =', Ratings.shape)"
      ],
      "execution_count": 112,
      "outputs": [
        {
          "output_type": "stream",
          "text": [
            "Users: [2925 3031 2047 ... 1970 1598 4864] , shape = (1000209,)\n",
            "Movies: [2272 2474 3449 ... 2395 2447 3637] , shape = (1000209,)\n",
            "Ratings: [4 3 4 ... 5 3 1] , shape = (1000209,)\n"
          ],
          "name": "stdout"
        }
      ]
    },
    {
      "cell_type": "markdown",
      "metadata": {
        "id": "OdDP9bPSOQf1"
      },
      "source": [
        "## Deep Learning Model\n",
        "The idea of using deep learning is similar to that of Model-Based Matrix Factorization. In matrix factorizaion, we decompose our original sparse matrix into product of 2 low rank orthogonal matrices. For deep learning implementation, we don’t need them to be orthogonal, we want our model to learn the values of embedding matrix itself. The user latent features and movie latent features are looked up from the embedding matrices for specific movie-user combination. These are the input values for further linear and non-linear layers. We can pass this input to multiple relu, linear or sigmoid layers and learn the corresponding weights by any optimization algorithm (Adam, SGD, etc.).\n",
        "\n",
        "### Build the Model\n",
        "I created a sparse matrix factoring algorithm in Keras for my model in [CFModel.py](https://github.com/khanhnamle1994/movielens/blob/master/CFModel.py). Here are the main components:\n",
        "\n",
        "* A left embedding layer that creates a Users by Latent Factors matrix.\n",
        "* A right embedding layer that creates a Movies by Latent Factors matrix.\n",
        "* When the input to these layers are (i) a user id and (ii) a movie id, they'll return the latent factor vectors for the user and the movie, respectively.\n",
        "* A merge layer that takes the dot product of these two latent vectors to return the predicted rating.\n",
        "\n",
        "This code is based on the approach outlined in [Alkahest](http://www.fenris.org/)'s blog post [Collaborative Filtering in Keras](http://www.fenris.org/2016/03/07/index-html).\n",
        "\n",
        "<img src=\"https://drive.google.com/uc?id=1E_LyDxEFzBXl_Fv1oAt0QtZBRdBGZvVs\" alt=\"drawing\" width=\"500\"/>"
      ]
    },
    {
      "cell_type": "code",
      "metadata": {
        "id": "HVcNinhBQUoM"
      },
      "source": [
        "# A simple implementation of matrix factorization for collaborative filtering expressed as a Keras Sequential model\n",
        "\n",
        "# Keras uses TensorFlow tensor library as the backend system to do the heavy compiling\n",
        "\n",
        "import numpy as np\n",
        "from keras.layers import Embedding, Reshape, Concatenate, concatenate, Dot\n",
        "from keras.models import Sequential\n",
        "\n",
        "class CFModel(Sequential):\n",
        "\n",
        "    # The constructor for the class\n",
        "    def __init__(self, n_users, m_items, k_factors, **kwargs):\n",
        "        # P is the embedding layer that creates an User by latent factors matrix.\n",
        "        # If the intput is a user_id, P returns the latent factor vector for that user.\n",
        "        P = Sequential()\n",
        "        P.add(Embedding(n_users, k_factors, input_length=1))\n",
        "        P.add(Reshape((k_factors,)))\n",
        "\n",
        "        # Q is the embedding layer that creates a Movie by latent factors matrix.\n",
        "        # If the input is a movie_id, Q returns the latent factor vector for that movie.\n",
        "        Q = Sequential()\n",
        "        Q.add(Embedding(m_items, k_factors, input_length=1))\n",
        "        Q.add(Reshape((k_factors,)))\n",
        "\n",
        "        super(CFModel, self).__init__(**kwargs)\n",
        "        \n",
        "        # The Merge layer takes the dot product of user and movie latent factor vectors to return the corresponding rating.\n",
        "        self.add(Dot(axes=1)([P, Q]))#, mode='dot', dot_axes=1))\n",
        "\n",
        "    # The rate function to predict user's rating of unrated items\n",
        "    def rate(self, user_id, item_id):\n",
        "        return self.predict([np.array([user_id]), np.array([item_id])])[0][0]"
      ],
      "execution_count": 150,
      "outputs": []
    },
    {
      "cell_type": "code",
      "metadata": {
        "id": "5m9Uw2FdOQf2"
      },
      "source": [
        "# Import Keras libraries\n",
        "from keras.callbacks import Callback, EarlyStopping, ModelCheckpoint"
      ],
      "execution_count": 151,
      "outputs": []
    },
    {
      "cell_type": "code",
      "metadata": {
        "collapsed": true,
        "id": "f-9bawlGOQf2"
      },
      "source": [
        "# Define constants\n",
        "K_FACTORS = 100 # The number of dimensional embeddings for movies and users\n",
        "TEST_USER = 2000 # A random test user (user_id = 2000)"
      ],
      "execution_count": 152,
      "outputs": []
    },
    {
      "cell_type": "markdown",
      "metadata": {
        "id": "pBE_RQziOQf3"
      },
      "source": [
        "I then compile the model using Mean Squared Error (MSE) as the loss function and the AdaMax learning algorithm."
      ]
    },
    {
      "cell_type": "code",
      "metadata": {
        "id": "qc0Em2CnOQf3",
        "colab": {
          "base_uri": "https://localhost:8080/",
          "height": 357
        },
        "outputId": "2028fdf3-4343-44f3-90e3-87ce5d37ee7b"
      },
      "source": [
        "# Define model\n",
        "model = CFModel(max_userid, max_movieid, K_FACTORS)\n",
        "# Compile the model using MSE as the loss function and the AdaMax learning algorithm\n",
        "model.compile(loss='mse', optimizer='adamax')"
      ],
      "execution_count": 153,
      "outputs": [
        {
          "output_type": "error",
          "ename": "TypeError",
          "evalue": "ignored",
          "traceback": [
            "\u001b[0;31m---------------------------------------------------------------------------\u001b[0m",
            "\u001b[0;31mTypeError\u001b[0m                                 Traceback (most recent call last)",
            "\u001b[0;32m<ipython-input-153-79dff3478081>\u001b[0m in \u001b[0;36m<module>\u001b[0;34m()\u001b[0m\n\u001b[1;32m      1\u001b[0m \u001b[0;31m# Define model\u001b[0m\u001b[0;34m\u001b[0m\u001b[0;34m\u001b[0m\u001b[0;34m\u001b[0m\u001b[0m\n\u001b[0;32m----> 2\u001b[0;31m \u001b[0mmodel\u001b[0m \u001b[0;34m=\u001b[0m \u001b[0mCFModel\u001b[0m\u001b[0;34m(\u001b[0m\u001b[0mmax_userid\u001b[0m\u001b[0;34m,\u001b[0m \u001b[0mmax_movieid\u001b[0m\u001b[0;34m,\u001b[0m \u001b[0mK_FACTORS\u001b[0m\u001b[0;34m)\u001b[0m\u001b[0;34m\u001b[0m\u001b[0;34m\u001b[0m\u001b[0m\n\u001b[0m\u001b[1;32m      3\u001b[0m \u001b[0;31m# Compile the model using MSE as the loss function and the AdaMax learning algorithm\u001b[0m\u001b[0;34m\u001b[0m\u001b[0;34m\u001b[0m\u001b[0;34m\u001b[0m\u001b[0m\n\u001b[1;32m      4\u001b[0m \u001b[0mmodel\u001b[0m\u001b[0;34m.\u001b[0m\u001b[0mcompile\u001b[0m\u001b[0;34m(\u001b[0m\u001b[0mloss\u001b[0m\u001b[0;34m=\u001b[0m\u001b[0;34m'mse'\u001b[0m\u001b[0;34m,\u001b[0m \u001b[0moptimizer\u001b[0m\u001b[0;34m=\u001b[0m\u001b[0;34m'adamax'\u001b[0m\u001b[0;34m)\u001b[0m\u001b[0;34m\u001b[0m\u001b[0;34m\u001b[0m\u001b[0m\n",
            "\u001b[0;32m<ipython-input-150-07e3da377489>\u001b[0m in \u001b[0;36m__init__\u001b[0;34m(self, n_users, m_items, k_factors, **kwargs)\u001b[0m\n\u001b[1;32m     26\u001b[0m \u001b[0;34m\u001b[0m\u001b[0m\n\u001b[1;32m     27\u001b[0m         \u001b[0;31m# The Merge layer takes the dot product of user and movie latent factor vectors to return the corresponding rating.\u001b[0m\u001b[0;34m\u001b[0m\u001b[0;34m\u001b[0m\u001b[0;34m\u001b[0m\u001b[0m\n\u001b[0;32m---> 28\u001b[0;31m         \u001b[0mself\u001b[0m\u001b[0;34m.\u001b[0m\u001b[0madd\u001b[0m\u001b[0;34m(\u001b[0m\u001b[0mDot\u001b[0m\u001b[0;34m(\u001b[0m\u001b[0maxes\u001b[0m\u001b[0;34m=\u001b[0m\u001b[0;36m1\u001b[0m\u001b[0;34m)\u001b[0m\u001b[0;34m(\u001b[0m\u001b[0;34m[\u001b[0m\u001b[0mP\u001b[0m\u001b[0;34m,\u001b[0m \u001b[0mQ\u001b[0m\u001b[0;34m]\u001b[0m\u001b[0;34m)\u001b[0m\u001b[0;34m)\u001b[0m\u001b[0;31m#, mode='dot', dot_axes=1))\u001b[0m\u001b[0;34m\u001b[0m\u001b[0;34m\u001b[0m\u001b[0m\n\u001b[0m\u001b[1;32m     29\u001b[0m \u001b[0;34m\u001b[0m\u001b[0m\n\u001b[1;32m     30\u001b[0m     \u001b[0;31m# The rate function to predict user's rating of unrated items\u001b[0m\u001b[0;34m\u001b[0m\u001b[0;34m\u001b[0m\u001b[0;34m\u001b[0m\u001b[0m\n",
            "\u001b[0;32m/usr/local/lib/python3.6/dist-packages/tensorflow/python/keras/engine/base_layer.py\u001b[0m in \u001b[0;36m__call__\u001b[0;34m(self, *args, **kwargs)\u001b[0m\n\u001b[1;32m    980\u001b[0m       \u001b[0;32mwith\u001b[0m \u001b[0mops\u001b[0m\u001b[0;34m.\u001b[0m\u001b[0mname_scope_v2\u001b[0m\u001b[0;34m(\u001b[0m\u001b[0mname_scope\u001b[0m\u001b[0;34m)\u001b[0m\u001b[0;34m:\u001b[0m\u001b[0;34m\u001b[0m\u001b[0;34m\u001b[0m\u001b[0m\n\u001b[1;32m    981\u001b[0m         \u001b[0;32mif\u001b[0m \u001b[0;32mnot\u001b[0m \u001b[0mself\u001b[0m\u001b[0;34m.\u001b[0m\u001b[0mbuilt\u001b[0m\u001b[0;34m:\u001b[0m\u001b[0;34m\u001b[0m\u001b[0;34m\u001b[0m\u001b[0m\n\u001b[0;32m--> 982\u001b[0;31m           \u001b[0mself\u001b[0m\u001b[0;34m.\u001b[0m\u001b[0m_maybe_build\u001b[0m\u001b[0;34m(\u001b[0m\u001b[0minputs\u001b[0m\u001b[0;34m)\u001b[0m\u001b[0;34m\u001b[0m\u001b[0;34m\u001b[0m\u001b[0m\n\u001b[0m\u001b[1;32m    983\u001b[0m \u001b[0;34m\u001b[0m\u001b[0m\n\u001b[1;32m    984\u001b[0m         \u001b[0;32mwith\u001b[0m \u001b[0mops\u001b[0m\u001b[0;34m.\u001b[0m\u001b[0menable_auto_cast_variables\u001b[0m\u001b[0;34m(\u001b[0m\u001b[0mself\u001b[0m\u001b[0;34m.\u001b[0m\u001b[0m_compute_dtype_object\u001b[0m\u001b[0;34m)\u001b[0m\u001b[0;34m:\u001b[0m\u001b[0;34m\u001b[0m\u001b[0;34m\u001b[0m\u001b[0m\n",
            "\u001b[0;32m/usr/local/lib/python3.6/dist-packages/tensorflow/python/keras/engine/base_layer.py\u001b[0m in \u001b[0;36m_maybe_build\u001b[0;34m(self, inputs)\u001b[0m\n\u001b[1;32m   2641\u001b[0m         \u001b[0;31m# operations.\u001b[0m\u001b[0;34m\u001b[0m\u001b[0;34m\u001b[0m\u001b[0;34m\u001b[0m\u001b[0m\n\u001b[1;32m   2642\u001b[0m         \u001b[0;32mwith\u001b[0m \u001b[0mtf_utils\u001b[0m\u001b[0;34m.\u001b[0m\u001b[0mmaybe_init_scope\u001b[0m\u001b[0;34m(\u001b[0m\u001b[0mself\u001b[0m\u001b[0;34m)\u001b[0m\u001b[0;34m:\u001b[0m\u001b[0;34m\u001b[0m\u001b[0;34m\u001b[0m\u001b[0m\n\u001b[0;32m-> 2643\u001b[0;31m           \u001b[0mself\u001b[0m\u001b[0;34m.\u001b[0m\u001b[0mbuild\u001b[0m\u001b[0;34m(\u001b[0m\u001b[0minput_shapes\u001b[0m\u001b[0;34m)\u001b[0m  \u001b[0;31m# pylint:disable=not-callable\u001b[0m\u001b[0;34m\u001b[0m\u001b[0;34m\u001b[0m\u001b[0m\n\u001b[0m\u001b[1;32m   2644\u001b[0m       \u001b[0;31m# We must set also ensure that the layer is marked as built, and the build\u001b[0m\u001b[0;34m\u001b[0m\u001b[0;34m\u001b[0m\u001b[0;34m\u001b[0m\u001b[0m\n\u001b[1;32m   2645\u001b[0m       \u001b[0;31m# shape is stored since user defined build functions may not be calling\u001b[0m\u001b[0;34m\u001b[0m\u001b[0;34m\u001b[0m\u001b[0;34m\u001b[0m\u001b[0m\n",
            "\u001b[0;32m/usr/local/lib/python3.6/dist-packages/tensorflow/python/keras/utils/tf_utils.py\u001b[0m in \u001b[0;36mwrapper\u001b[0;34m(instance, input_shape)\u001b[0m\n\u001b[1;32m    321\u001b[0m     \u001b[0;32mif\u001b[0m \u001b[0minput_shape\u001b[0m \u001b[0;32mis\u001b[0m \u001b[0;32mnot\u001b[0m \u001b[0;32mNone\u001b[0m\u001b[0;34m:\u001b[0m\u001b[0;34m\u001b[0m\u001b[0;34m\u001b[0m\u001b[0m\n\u001b[1;32m    322\u001b[0m       \u001b[0minput_shape\u001b[0m \u001b[0;34m=\u001b[0m \u001b[0mconvert_shapes\u001b[0m\u001b[0;34m(\u001b[0m\u001b[0minput_shape\u001b[0m\u001b[0;34m,\u001b[0m \u001b[0mto_tuples\u001b[0m\u001b[0;34m=\u001b[0m\u001b[0;32mTrue\u001b[0m\u001b[0;34m)\u001b[0m\u001b[0;34m\u001b[0m\u001b[0;34m\u001b[0m\u001b[0m\n\u001b[0;32m--> 323\u001b[0;31m     \u001b[0moutput_shape\u001b[0m \u001b[0;34m=\u001b[0m \u001b[0mfn\u001b[0m\u001b[0;34m(\u001b[0m\u001b[0minstance\u001b[0m\u001b[0;34m,\u001b[0m \u001b[0minput_shape\u001b[0m\u001b[0;34m)\u001b[0m\u001b[0;34m\u001b[0m\u001b[0;34m\u001b[0m\u001b[0m\n\u001b[0m\u001b[1;32m    324\u001b[0m     \u001b[0;31m# Return shapes from `fn` as TensorShapes.\u001b[0m\u001b[0;34m\u001b[0m\u001b[0;34m\u001b[0m\u001b[0;34m\u001b[0m\u001b[0m\n\u001b[1;32m    325\u001b[0m     \u001b[0;32mif\u001b[0m \u001b[0moutput_shape\u001b[0m \u001b[0;32mis\u001b[0m \u001b[0;32mnot\u001b[0m \u001b[0;32mNone\u001b[0m\u001b[0;34m:\u001b[0m\u001b[0;34m\u001b[0m\u001b[0;34m\u001b[0m\u001b[0m\n",
            "\u001b[0;32m/usr/local/lib/python3.6/dist-packages/tensorflow/python/keras/layers/merge.py\u001b[0m in \u001b[0;36mbuild\u001b[0;34m(self, input_shape)\u001b[0m\n\u001b[1;32m    660\u001b[0m   \u001b[0;32mdef\u001b[0m \u001b[0mbuild\u001b[0m\u001b[0;34m(\u001b[0m\u001b[0mself\u001b[0m\u001b[0;34m,\u001b[0m \u001b[0minput_shape\u001b[0m\u001b[0;34m)\u001b[0m\u001b[0;34m:\u001b[0m\u001b[0;34m\u001b[0m\u001b[0;34m\u001b[0m\u001b[0m\n\u001b[1;32m    661\u001b[0m     \u001b[0;31m# Used purely for shape validation.\u001b[0m\u001b[0;34m\u001b[0m\u001b[0;34m\u001b[0m\u001b[0;34m\u001b[0m\u001b[0m\n\u001b[0;32m--> 662\u001b[0;31m     \u001b[0;32mif\u001b[0m \u001b[0;32mnot\u001b[0m \u001b[0misinstance\u001b[0m\u001b[0;34m(\u001b[0m\u001b[0minput_shape\u001b[0m\u001b[0;34m[\u001b[0m\u001b[0;36m0\u001b[0m\u001b[0;34m]\u001b[0m\u001b[0;34m,\u001b[0m \u001b[0mtuple\u001b[0m\u001b[0;34m)\u001b[0m \u001b[0;32mor\u001b[0m \u001b[0mlen\u001b[0m\u001b[0;34m(\u001b[0m\u001b[0minput_shape\u001b[0m\u001b[0;34m)\u001b[0m \u001b[0;34m!=\u001b[0m \u001b[0;36m2\u001b[0m\u001b[0;34m:\u001b[0m\u001b[0;34m\u001b[0m\u001b[0;34m\u001b[0m\u001b[0m\n\u001b[0m\u001b[1;32m    663\u001b[0m       raise ValueError('A `Dot` layer should be called '\n\u001b[1;32m    664\u001b[0m                        'on a list of 2 inputs.')\n",
            "\u001b[0;31mTypeError\u001b[0m: 'NoneType' object is not subscriptable"
          ]
        }
      ]
    },
    {
      "cell_type": "markdown",
      "metadata": {
        "id": "TiiqPZMSOQf3"
      },
      "source": [
        "### Train the Model\n",
        "Now I need to train the model. This step will be the most-time consuming one. In my particular case, for our dataset with nearly 1 million ratings, almost 6,000 users and 4,000 movies, I trained the model in roughly 6 minutes per epoch (30 epochs ~ 3 hours) inside my Macbook Laptop CPU. I spitted the training and validataion data with ratio of 90/10."
      ]
    },
    {
      "cell_type": "code",
      "metadata": {
        "id": "N8JVXwPLOQf3",
        "outputId": "52fae482-a65c-4cae-c31a-d6292a24e0a4"
      },
      "source": [
        "# Callbacks monitor the validation loss\n",
        "# Save the model weights each time the validation loss has improved\n",
        "callbacks = [EarlyStopping('val_loss', patience=2), \n",
        "             ModelCheckpoint('weights.h5', save_best_only=True)]\n",
        "\n",
        "# Use 30 epochs, 90% training data, 10% validation data \n",
        "history = model.fit([Users, Movies], Ratings, nb_epoch=30, validation_split=.1, verbose=2, callbacks=callbacks)"
      ],
      "execution_count": null,
      "outputs": [
        {
          "output_type": "stream",
          "text": [
            "/Users/khanhnamle/anaconda2/lib/python2.7/site-packages/keras/models.py:944: UserWarning: The `nb_epoch` argument in `fit` has been renamed `epochs`.\n",
            "  warnings.warn('The `nb_epoch` argument in `fit` '\n"
          ],
          "name": "stderr"
        },
        {
          "output_type": "stream",
          "text": [
            "Train on 900188 samples, validate on 100021 samples\n",
            "Epoch 1/30\n",
            " - 387s - loss: 8.2727 - val_loss: 2.2829\n",
            "Epoch 2/30\n",
            " - 316s - loss: 1.4957 - val_loss: 1.1248\n",
            "Epoch 3/30\n",
            " - 319s - loss: 1.0059 - val_loss: 0.9370\n",
            "Epoch 4/30\n",
            " - 317s - loss: 0.8957 - val_loss: 0.8764\n",
            "Epoch 5/30\n",
            " - 316s - loss: 0.8495 - val_loss: 0.8461\n",
            "Epoch 6/30\n",
            " - 355s - loss: 0.8182 - val_loss: 0.8228\n",
            "Epoch 7/30\n",
            " - 395s - loss: 0.7921 - val_loss: 0.8045\n",
            "Epoch 8/30\n",
            " - 395s - loss: 0.7695 - val_loss: 0.7921\n",
            "Epoch 9/30\n",
            " - 394s - loss: 0.7477 - val_loss: 0.7807\n",
            "Epoch 10/30\n",
            " - 406s - loss: 0.7269 - val_loss: 0.7700\n",
            "Epoch 11/30\n",
            " - 371s - loss: 0.7060 - val_loss: 0.7614\n",
            "Epoch 12/30\n",
            " - 332s - loss: 0.6849 - val_loss: 0.7543\n",
            "Epoch 13/30\n",
            " - 319s - loss: 0.6639 - val_loss: 0.7483\n",
            "Epoch 14/30\n",
            " - 340s - loss: 0.6428 - val_loss: 0.7458\n",
            "Epoch 15/30\n",
            " - 358s - loss: 0.6218 - val_loss: 0.7428\n",
            "Epoch 16/30\n",
            " - 315s - loss: 0.6009 - val_loss: 0.7433\n",
            "Epoch 17/30\n",
            " - 314s - loss: 0.5801 - val_loss: 0.7424\n",
            "Epoch 18/30\n",
            " - 314s - loss: 0.5596 - val_loss: 0.7458\n",
            "Epoch 19/30\n",
            " - 313s - loss: 0.5396 - val_loss: 0.7481\n"
          ],
          "name": "stdout"
        }
      ]
    },
    {
      "cell_type": "markdown",
      "metadata": {
        "id": "czH08ypuOQf4"
      },
      "source": [
        "### Root Mean Square Error\n",
        "During the training process above, I saved the model weights each time the validation loss has improved. Thus, I can use that value to calculate the best validation Root Mean Square Error."
      ]
    },
    {
      "cell_type": "code",
      "metadata": {
        "id": "fcDmeol5OQf4",
        "outputId": "b7b15aec-cd66-4417-8c0b-6d08dbade4ff"
      },
      "source": [
        "# Show the best validation RMSE\n",
        "min_val_loss, idx = min((val, idx) for (idx, val) in enumerate(history.history['val_loss']))\n",
        "print 'Minimum RMSE at epoch', '{:d}'.format(idx+1), '=', '{:.4f}'.format(math.sqrt(min_val_loss))"
      ],
      "execution_count": null,
      "outputs": [
        {
          "output_type": "stream",
          "text": [
            "Minimum RMSE at epoch 17 = 0.8616\n"
          ],
          "name": "stdout"
        }
      ]
    },
    {
      "cell_type": "markdown",
      "metadata": {
        "id": "ffx8ULyWOQf4"
      },
      "source": [
        "The best validation loss is *0.7424* at epoch 17. Taking the square root of that number, I got the RMSE value of *0.8616*, which is better than the RMSE from the SVD Model (*0.8736*)."
      ]
    },
    {
      "cell_type": "markdown",
      "metadata": {
        "id": "b-YlThn6OQf5"
      },
      "source": [
        "### Predict the Ratings\n",
        "The next step is to actually predict the ratings a random user will give to a random movie. Below I apply the freshly trained deep learning model for all the users and all the movies, using 100 dimensional embeddings for each of them. I also load pre-trained weights from *[weights.h5](https://github.com/khanhnamle1994/movielens/blob/master/weights.h5)* for the model."
      ]
    },
    {
      "cell_type": "code",
      "metadata": {
        "collapsed": true,
        "id": "xgrh_e9qOQf5"
      },
      "source": [
        "# Use the pre-trained model\n",
        "trained_model = CFModel(max_userid, max_movieid, K_FACTORS)\n",
        "# Load weights\n",
        "trained_model.load_weights('weights.h5')"
      ],
      "execution_count": null,
      "outputs": []
    },
    {
      "cell_type": "markdown",
      "metadata": {
        "id": "j8D7qz1fOQf5"
      },
      "source": [
        "As mentioned above, my random test user is has ID 2000."
      ]
    },
    {
      "cell_type": "code",
      "metadata": {
        "id": "EXKtoeZ6OQf5",
        "outputId": "70b952df-ed2b-472a-febe-d900515a9094"
      },
      "source": [
        "# Pick a random test user\n",
        "users[users['user_id'] == TEST_USER]"
      ],
      "execution_count": null,
      "outputs": [
        {
          "output_type": "execute_result",
          "data": {
            "text/html": [
              "<div>\n",
              "<style>\n",
              "    .dataframe thead tr:only-child th {\n",
              "        text-align: right;\n",
              "    }\n",
              "\n",
              "    .dataframe thead th {\n",
              "        text-align: left;\n",
              "    }\n",
              "\n",
              "    .dataframe tbody tr th {\n",
              "        vertical-align: top;\n",
              "    }\n",
              "</style>\n",
              "<table border=\"1\" class=\"dataframe\">\n",
              "  <thead>\n",
              "    <tr style=\"text-align: right;\">\n",
              "      <th></th>\n",
              "      <th>user_id</th>\n",
              "      <th>gender</th>\n",
              "      <th>zipcode</th>\n",
              "      <th>age_desc</th>\n",
              "      <th>occ_desc</th>\n",
              "    </tr>\n",
              "  </thead>\n",
              "  <tbody>\n",
              "    <tr>\n",
              "      <th>1999</th>\n",
              "      <td>2000</td>\n",
              "      <td>M</td>\n",
              "      <td>44685</td>\n",
              "      <td>18-24</td>\n",
              "      <td>college/grad student</td>\n",
              "    </tr>\n",
              "  </tbody>\n",
              "</table>\n",
              "</div>"
            ],
            "text/plain": [
              "      user_id gender zipcode age_desc              occ_desc\n",
              "1999     2000      M   44685    18-24  college/grad student"
            ]
          },
          "metadata": {
            "tags": []
          },
          "execution_count": 15
        }
      ]
    },
    {
      "cell_type": "markdown",
      "metadata": {
        "id": "fHbfdu-jOQf6"
      },
      "source": [
        "Here I define the function to predict user's rating of unrated items, using the *rate* function inside the CFModel class in *[CFModel.py](https://github.com/khanhnamle1994/movielens/blob/master/CFModel.py)*."
      ]
    },
    {
      "cell_type": "code",
      "metadata": {
        "collapsed": true,
        "id": "isX5nMFVOQf6"
      },
      "source": [
        "# Function to predict the ratings given User ID and Movie ID\n",
        "def predict_rating(user_id, movie_id):\n",
        "    return trained_model.rate(user_id - 1, movie_id - 1)"
      ],
      "execution_count": null,
      "outputs": []
    },
    {
      "cell_type": "markdown",
      "metadata": {
        "id": "9_4O-z5EOQf6"
      },
      "source": [
        "Here I show the top 20 movies that user 2000 has already rated, including the *predictions* column showing the values that used 2000 would have rated based on the newly defined *predict_rating* function."
      ]
    },
    {
      "cell_type": "code",
      "metadata": {
        "id": "tOaDqhosOQf6",
        "outputId": "df87ba9d-b4f4-4ddc-c406-dfe7bbe4a314"
      },
      "source": [
        "user_ratings = ratings[ratings['user_id'] == TEST_USER][['user_id', 'movie_id', 'rating']]\n",
        "user_ratings['prediction'] = user_ratings.apply(lambda x: predict_rating(TEST_USER, x['movie_id']), axis=1)\n",
        "user_ratings.sort_values(by='rating', \n",
        "                         ascending=False).merge(movies, \n",
        "                                                on='movie_id', \n",
        "                                                how='inner', \n",
        "                                                suffixes=['_u', '_m']).head(20)"
      ],
      "execution_count": null,
      "outputs": [
        {
          "output_type": "execute_result",
          "data": {
            "text/html": [
              "<div>\n",
              "<style>\n",
              "    .dataframe thead tr:only-child th {\n",
              "        text-align: right;\n",
              "    }\n",
              "\n",
              "    .dataframe thead th {\n",
              "        text-align: left;\n",
              "    }\n",
              "\n",
              "    .dataframe tbody tr th {\n",
              "        vertical-align: top;\n",
              "    }\n",
              "</style>\n",
              "<table border=\"1\" class=\"dataframe\">\n",
              "  <thead>\n",
              "    <tr style=\"text-align: right;\">\n",
              "      <th></th>\n",
              "      <th>user_id</th>\n",
              "      <th>movie_id</th>\n",
              "      <th>rating</th>\n",
              "      <th>prediction</th>\n",
              "      <th>title</th>\n",
              "      <th>genres</th>\n",
              "    </tr>\n",
              "  </thead>\n",
              "  <tbody>\n",
              "    <tr>\n",
              "      <th>0</th>\n",
              "      <td>2000</td>\n",
              "      <td>1639</td>\n",
              "      <td>5</td>\n",
              "      <td>3.724665</td>\n",
              "      <td>Chasing Amy (1997)</td>\n",
              "      <td>Drama|Romance</td>\n",
              "    </tr>\n",
              "    <tr>\n",
              "      <th>1</th>\n",
              "      <td>2000</td>\n",
              "      <td>2529</td>\n",
              "      <td>5</td>\n",
              "      <td>3.803218</td>\n",
              "      <td>Planet of the Apes (1968)</td>\n",
              "      <td>Action|Sci-Fi</td>\n",
              "    </tr>\n",
              "    <tr>\n",
              "      <th>2</th>\n",
              "      <td>2000</td>\n",
              "      <td>1136</td>\n",
              "      <td>5</td>\n",
              "      <td>4.495121</td>\n",
              "      <td>Monty Python and the Holy Grail (1974)</td>\n",
              "      <td>Comedy</td>\n",
              "    </tr>\n",
              "    <tr>\n",
              "      <th>3</th>\n",
              "      <td>2000</td>\n",
              "      <td>2321</td>\n",
              "      <td>5</td>\n",
              "      <td>4.010493</td>\n",
              "      <td>Pleasantville (1998)</td>\n",
              "      <td>Comedy</td>\n",
              "    </tr>\n",
              "    <tr>\n",
              "      <th>4</th>\n",
              "      <td>2000</td>\n",
              "      <td>2858</td>\n",
              "      <td>5</td>\n",
              "      <td>4.253924</td>\n",
              "      <td>American Beauty (1999)</td>\n",
              "      <td>Comedy|Drama</td>\n",
              "    </tr>\n",
              "    <tr>\n",
              "      <th>5</th>\n",
              "      <td>2000</td>\n",
              "      <td>2501</td>\n",
              "      <td>5</td>\n",
              "      <td>4.206387</td>\n",
              "      <td>October Sky (1999)</td>\n",
              "      <td>Drama</td>\n",
              "    </tr>\n",
              "    <tr>\n",
              "      <th>6</th>\n",
              "      <td>2000</td>\n",
              "      <td>2804</td>\n",
              "      <td>5</td>\n",
              "      <td>4.353670</td>\n",
              "      <td>Christmas Story, A (1983)</td>\n",
              "      <td>Comedy|Drama</td>\n",
              "    </tr>\n",
              "    <tr>\n",
              "      <th>7</th>\n",
              "      <td>2000</td>\n",
              "      <td>1688</td>\n",
              "      <td>5</td>\n",
              "      <td>3.710508</td>\n",
              "      <td>Anastasia (1997)</td>\n",
              "      <td>Animation|Children's|Musical</td>\n",
              "    </tr>\n",
              "    <tr>\n",
              "      <th>8</th>\n",
              "      <td>2000</td>\n",
              "      <td>1653</td>\n",
              "      <td>5</td>\n",
              "      <td>4.089375</td>\n",
              "      <td>Gattaca (1997)</td>\n",
              "      <td>Drama|Sci-Fi|Thriller</td>\n",
              "    </tr>\n",
              "    <tr>\n",
              "      <th>9</th>\n",
              "      <td>2000</td>\n",
              "      <td>527</td>\n",
              "      <td>5</td>\n",
              "      <td>5.046471</td>\n",
              "      <td>Schindler's List (1993)</td>\n",
              "      <td>Drama|War</td>\n",
              "    </tr>\n",
              "    <tr>\n",
              "      <th>10</th>\n",
              "      <td>2000</td>\n",
              "      <td>1619</td>\n",
              "      <td>5</td>\n",
              "      <td>3.688177</td>\n",
              "      <td>Seven Years in Tibet (1997)</td>\n",
              "      <td>Drama|War</td>\n",
              "    </tr>\n",
              "    <tr>\n",
              "      <th>11</th>\n",
              "      <td>2000</td>\n",
              "      <td>110</td>\n",
              "      <td>5</td>\n",
              "      <td>3.966857</td>\n",
              "      <td>Braveheart (1995)</td>\n",
              "      <td>Action|Drama|War</td>\n",
              "    </tr>\n",
              "    <tr>\n",
              "      <th>12</th>\n",
              "      <td>2000</td>\n",
              "      <td>1193</td>\n",
              "      <td>5</td>\n",
              "      <td>4.718451</td>\n",
              "      <td>One Flew Over the Cuckoo's Nest (1975)</td>\n",
              "      <td>Drama</td>\n",
              "    </tr>\n",
              "    <tr>\n",
              "      <th>13</th>\n",
              "      <td>2000</td>\n",
              "      <td>318</td>\n",
              "      <td>5</td>\n",
              "      <td>4.743262</td>\n",
              "      <td>Shawshank Redemption, The (1994)</td>\n",
              "      <td>Drama</td>\n",
              "    </tr>\n",
              "    <tr>\n",
              "      <th>14</th>\n",
              "      <td>2000</td>\n",
              "      <td>1748</td>\n",
              "      <td>5</td>\n",
              "      <td>3.779190</td>\n",
              "      <td>Dark City (1998)</td>\n",
              "      <td>Film-Noir|Sci-Fi|Thriller</td>\n",
              "    </tr>\n",
              "    <tr>\n",
              "      <th>15</th>\n",
              "      <td>2000</td>\n",
              "      <td>1923</td>\n",
              "      <td>5</td>\n",
              "      <td>3.264066</td>\n",
              "      <td>There's Something About Mary (1998)</td>\n",
              "      <td>Comedy</td>\n",
              "    </tr>\n",
              "    <tr>\n",
              "      <th>16</th>\n",
              "      <td>2000</td>\n",
              "      <td>1259</td>\n",
              "      <td>5</td>\n",
              "      <td>4.543493</td>\n",
              "      <td>Stand by Me (1986)</td>\n",
              "      <td>Adventure|Comedy|Drama</td>\n",
              "    </tr>\n",
              "    <tr>\n",
              "      <th>17</th>\n",
              "      <td>2000</td>\n",
              "      <td>595</td>\n",
              "      <td>5</td>\n",
              "      <td>4.334908</td>\n",
              "      <td>Beauty and the Beast (1991)</td>\n",
              "      <td>Animation|Children's|Musical</td>\n",
              "    </tr>\n",
              "    <tr>\n",
              "      <th>18</th>\n",
              "      <td>2000</td>\n",
              "      <td>2028</td>\n",
              "      <td>5</td>\n",
              "      <td>4.192429</td>\n",
              "      <td>Saving Private Ryan (1998)</td>\n",
              "      <td>Action|Drama|War</td>\n",
              "    </tr>\n",
              "    <tr>\n",
              "      <th>19</th>\n",
              "      <td>2000</td>\n",
              "      <td>1907</td>\n",
              "      <td>5</td>\n",
              "      <td>4.027490</td>\n",
              "      <td>Mulan (1998)</td>\n",
              "      <td>Animation|Children's</td>\n",
              "    </tr>\n",
              "  </tbody>\n",
              "</table>\n",
              "</div>"
            ],
            "text/plain": [
              "    user_id  movie_id  rating  prediction  \\\n",
              "0      2000      1639       5    3.724665   \n",
              "1      2000      2529       5    3.803218   \n",
              "2      2000      1136       5    4.495121   \n",
              "3      2000      2321       5    4.010493   \n",
              "4      2000      2858       5    4.253924   \n",
              "5      2000      2501       5    4.206387   \n",
              "6      2000      2804       5    4.353670   \n",
              "7      2000      1688       5    3.710508   \n",
              "8      2000      1653       5    4.089375   \n",
              "9      2000       527       5    5.046471   \n",
              "10     2000      1619       5    3.688177   \n",
              "11     2000       110       5    3.966857   \n",
              "12     2000      1193       5    4.718451   \n",
              "13     2000       318       5    4.743262   \n",
              "14     2000      1748       5    3.779190   \n",
              "15     2000      1923       5    3.264066   \n",
              "16     2000      1259       5    4.543493   \n",
              "17     2000       595       5    4.334908   \n",
              "18     2000      2028       5    4.192429   \n",
              "19     2000      1907       5    4.027490   \n",
              "\n",
              "                                     title                        genres  \n",
              "0                       Chasing Amy (1997)                 Drama|Romance  \n",
              "1                Planet of the Apes (1968)                 Action|Sci-Fi  \n",
              "2   Monty Python and the Holy Grail (1974)                        Comedy  \n",
              "3                     Pleasantville (1998)                        Comedy  \n",
              "4                   American Beauty (1999)                  Comedy|Drama  \n",
              "5                       October Sky (1999)                         Drama  \n",
              "6                Christmas Story, A (1983)                  Comedy|Drama  \n",
              "7                         Anastasia (1997)  Animation|Children's|Musical  \n",
              "8                           Gattaca (1997)         Drama|Sci-Fi|Thriller  \n",
              "9                  Schindler's List (1993)                     Drama|War  \n",
              "10             Seven Years in Tibet (1997)                     Drama|War  \n",
              "11                       Braveheart (1995)              Action|Drama|War  \n",
              "12  One Flew Over the Cuckoo's Nest (1975)                         Drama  \n",
              "13        Shawshank Redemption, The (1994)                         Drama  \n",
              "14                        Dark City (1998)     Film-Noir|Sci-Fi|Thriller  \n",
              "15     There's Something About Mary (1998)                        Comedy  \n",
              "16                      Stand by Me (1986)        Adventure|Comedy|Drama  \n",
              "17             Beauty and the Beast (1991)  Animation|Children's|Musical  \n",
              "18              Saving Private Ryan (1998)              Action|Drama|War  \n",
              "19                            Mulan (1998)          Animation|Children's  "
            ]
          },
          "metadata": {
            "tags": []
          },
          "execution_count": 17
        }
      ]
    },
    {
      "cell_type": "markdown",
      "metadata": {
        "id": "5EpeOr2XOQf7"
      },
      "source": [
        "No surpise that these top movies all have 5-start rating. Some of the prediction values seem off (those with value 3.7, 3.8, 3.9 etc.)."
      ]
    },
    {
      "cell_type": "markdown",
      "metadata": {
        "id": "IPrR5ojUOQf7"
      },
      "source": [
        "### Recommend Movies\n",
        "Here I make a recommendation list of unrated 20 movies sorted by prediction value for user 2000. Let's see it."
      ]
    },
    {
      "cell_type": "code",
      "metadata": {
        "id": "AyyZT1H8OQf7",
        "outputId": "da636bfa-b7c0-4f2c-8056-47c0809c9dc4"
      },
      "source": [
        "recommendations = ratings[ratings['movie_id'].isin(user_ratings['movie_id']) == False][['movie_id']].drop_duplicates()\n",
        "recommendations['prediction'] = recommendations.apply(lambda x: predict_rating(TEST_USER, x['movie_id']), axis=1)\n",
        "recommendations.sort_values(by='prediction',\n",
        "                          ascending=False).merge(movies,\n",
        "                                                 on='movie_id',\n",
        "                                                 how='inner',\n",
        "                                                 suffixes=['_u', '_m']).head(20)"
      ],
      "execution_count": null,
      "outputs": [
        {
          "output_type": "execute_result",
          "data": {
            "text/html": [
              "<div>\n",
              "<style>\n",
              "    .dataframe thead tr:only-child th {\n",
              "        text-align: right;\n",
              "    }\n",
              "\n",
              "    .dataframe thead th {\n",
              "        text-align: left;\n",
              "    }\n",
              "\n",
              "    .dataframe tbody tr th {\n",
              "        vertical-align: top;\n",
              "    }\n",
              "</style>\n",
              "<table border=\"1\" class=\"dataframe\">\n",
              "  <thead>\n",
              "    <tr style=\"text-align: right;\">\n",
              "      <th></th>\n",
              "      <th>movie_id</th>\n",
              "      <th>prediction</th>\n",
              "      <th>title</th>\n",
              "      <th>genres</th>\n",
              "    </tr>\n",
              "  </thead>\n",
              "  <tbody>\n",
              "    <tr>\n",
              "      <th>0</th>\n",
              "      <td>953</td>\n",
              "      <td>4.868923</td>\n",
              "      <td>It's a Wonderful Life (1946)</td>\n",
              "      <td>Drama</td>\n",
              "    </tr>\n",
              "    <tr>\n",
              "      <th>1</th>\n",
              "      <td>668</td>\n",
              "      <td>4.866858</td>\n",
              "      <td>Pather Panchali (1955)</td>\n",
              "      <td>Drama</td>\n",
              "    </tr>\n",
              "    <tr>\n",
              "      <th>2</th>\n",
              "      <td>1423</td>\n",
              "      <td>4.859523</td>\n",
              "      <td>Hearts and Minds (1996)</td>\n",
              "      <td>Drama</td>\n",
              "    </tr>\n",
              "    <tr>\n",
              "      <th>3</th>\n",
              "      <td>3307</td>\n",
              "      <td>4.834415</td>\n",
              "      <td>City Lights (1931)</td>\n",
              "      <td>Comedy|Drama|Romance</td>\n",
              "    </tr>\n",
              "    <tr>\n",
              "      <th>4</th>\n",
              "      <td>649</td>\n",
              "      <td>4.802675</td>\n",
              "      <td>Cold Fever (Á köldum klaka) (1994)</td>\n",
              "      <td>Comedy|Drama</td>\n",
              "    </tr>\n",
              "    <tr>\n",
              "      <th>5</th>\n",
              "      <td>669</td>\n",
              "      <td>4.797451</td>\n",
              "      <td>Aparajito (1956)</td>\n",
              "      <td>Drama</td>\n",
              "    </tr>\n",
              "    <tr>\n",
              "      <th>6</th>\n",
              "      <td>326</td>\n",
              "      <td>4.784828</td>\n",
              "      <td>To Live (Huozhe) (1994)</td>\n",
              "      <td>Drama</td>\n",
              "    </tr>\n",
              "    <tr>\n",
              "      <th>7</th>\n",
              "      <td>3092</td>\n",
              "      <td>4.761148</td>\n",
              "      <td>Chushingura (1962)</td>\n",
              "      <td>Drama</td>\n",
              "    </tr>\n",
              "    <tr>\n",
              "      <th>8</th>\n",
              "      <td>3022</td>\n",
              "      <td>4.753003</td>\n",
              "      <td>General, The (1927)</td>\n",
              "      <td>Comedy</td>\n",
              "    </tr>\n",
              "    <tr>\n",
              "      <th>9</th>\n",
              "      <td>2351</td>\n",
              "      <td>4.720692</td>\n",
              "      <td>Nights of Cabiria (Le Notti di Cabiria) (1957)</td>\n",
              "      <td>Drama</td>\n",
              "    </tr>\n",
              "    <tr>\n",
              "      <th>10</th>\n",
              "      <td>926</td>\n",
              "      <td>4.719633</td>\n",
              "      <td>All About Eve (1950)</td>\n",
              "      <td>Drama</td>\n",
              "    </tr>\n",
              "    <tr>\n",
              "      <th>11</th>\n",
              "      <td>3306</td>\n",
              "      <td>4.718323</td>\n",
              "      <td>Circus, The (1928)</td>\n",
              "      <td>Comedy</td>\n",
              "    </tr>\n",
              "    <tr>\n",
              "      <th>12</th>\n",
              "      <td>3629</td>\n",
              "      <td>4.684521</td>\n",
              "      <td>Gold Rush, The (1925)</td>\n",
              "      <td>Comedy</td>\n",
              "    </tr>\n",
              "    <tr>\n",
              "      <th>13</th>\n",
              "      <td>3415</td>\n",
              "      <td>4.683432</td>\n",
              "      <td>Mirror, The (Zerkalo) (1975)</td>\n",
              "      <td>Drama</td>\n",
              "    </tr>\n",
              "    <tr>\n",
              "      <th>14</th>\n",
              "      <td>2609</td>\n",
              "      <td>4.678223</td>\n",
              "      <td>King of Masks, The (Bian Lian) (1996)</td>\n",
              "      <td>Drama</td>\n",
              "    </tr>\n",
              "    <tr>\n",
              "      <th>15</th>\n",
              "      <td>1178</td>\n",
              "      <td>4.674256</td>\n",
              "      <td>Paths of Glory (1957)</td>\n",
              "      <td>Drama|War</td>\n",
              "    </tr>\n",
              "    <tr>\n",
              "      <th>16</th>\n",
              "      <td>2203</td>\n",
              "      <td>4.656760</td>\n",
              "      <td>Shadow of a Doubt (1943)</td>\n",
              "      <td>Film-Noir|Thriller</td>\n",
              "    </tr>\n",
              "    <tr>\n",
              "      <th>17</th>\n",
              "      <td>954</td>\n",
              "      <td>4.654399</td>\n",
              "      <td>Mr. Smith Goes to Washington (1939)</td>\n",
              "      <td>Drama</td>\n",
              "    </tr>\n",
              "    <tr>\n",
              "      <th>18</th>\n",
              "      <td>3849</td>\n",
              "      <td>4.649190</td>\n",
              "      <td>Spiral Staircase, The (1946)</td>\n",
              "      <td>Thriller</td>\n",
              "    </tr>\n",
              "    <tr>\n",
              "      <th>19</th>\n",
              "      <td>602</td>\n",
              "      <td>4.645639</td>\n",
              "      <td>Great Day in Harlem, A (1994)</td>\n",
              "      <td>Documentary</td>\n",
              "    </tr>\n",
              "  </tbody>\n",
              "</table>\n",
              "</div>"
            ],
            "text/plain": [
              "    movie_id  prediction                                           title  \\\n",
              "0        953    4.868923                    It's a Wonderful Life (1946)   \n",
              "1        668    4.866858                          Pather Panchali (1955)   \n",
              "2       1423    4.859523                         Hearts and Minds (1996)   \n",
              "3       3307    4.834415                              City Lights (1931)   \n",
              "4        649    4.802675              Cold Fever (Á köldum klaka) (1994)   \n",
              "5        669    4.797451                                Aparajito (1956)   \n",
              "6        326    4.784828                         To Live (Huozhe) (1994)   \n",
              "7       3092    4.761148                              Chushingura (1962)   \n",
              "8       3022    4.753003                             General, The (1927)   \n",
              "9       2351    4.720692  Nights of Cabiria (Le Notti di Cabiria) (1957)   \n",
              "10       926    4.719633                            All About Eve (1950)   \n",
              "11      3306    4.718323                              Circus, The (1928)   \n",
              "12      3629    4.684521                           Gold Rush, The (1925)   \n",
              "13      3415    4.683432                    Mirror, The (Zerkalo) (1975)   \n",
              "14      2609    4.678223           King of Masks, The (Bian Lian) (1996)   \n",
              "15      1178    4.674256                           Paths of Glory (1957)   \n",
              "16      2203    4.656760                        Shadow of a Doubt (1943)   \n",
              "17       954    4.654399             Mr. Smith Goes to Washington (1939)   \n",
              "18      3849    4.649190                    Spiral Staircase, The (1946)   \n",
              "19       602    4.645639                   Great Day in Harlem, A (1994)   \n",
              "\n",
              "                  genres  \n",
              "0                  Drama  \n",
              "1                  Drama  \n",
              "2                  Drama  \n",
              "3   Comedy|Drama|Romance  \n",
              "4           Comedy|Drama  \n",
              "5                  Drama  \n",
              "6                  Drama  \n",
              "7                  Drama  \n",
              "8                 Comedy  \n",
              "9                  Drama  \n",
              "10                 Drama  \n",
              "11                Comedy  \n",
              "12                Comedy  \n",
              "13                 Drama  \n",
              "14                 Drama  \n",
              "15             Drama|War  \n",
              "16    Film-Noir|Thriller  \n",
              "17                 Drama  \n",
              "18              Thriller  \n",
              "19           Documentary  "
            ]
          },
          "metadata": {
            "tags": []
          },
          "execution_count": 18
        }
      ]
    },
    {
      "cell_type": "markdown",
      "metadata": {
        "id": "4dVaspZXOQf8"
      },
      "source": [
        "## Conclusion\n",
        "In this notebook, I showed how to use a simple deep learning approach to build a recommendation engine for the MovieLens 1M dataset. This model performed better than all the approaches I attempted before (content-based, user-item similarity collaborative filtering, SVD). I can certainly improve this model's performance by making it deeper with more linear and non-linear layers. I leave that task to you then!"
      ]
    }
  ]
}