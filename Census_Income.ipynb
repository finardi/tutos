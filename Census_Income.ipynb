{
  "nbformat": 4,
  "nbformat_minor": 0,
  "metadata": {
    "colab": {
      "name": "Census-Income.ipynb",
      "provenance": [],
      "collapsed_sections": [],
      "mount_file_id": "1_ZI9HuQ8nqg8llJuEeqxa7fhDQC3j_4w",
      "authorship_tag": "ABX9TyMMtRW00pFxHR/zEypa+Djn",
      "include_colab_link": true
    },
    "kernelspec": {
      "name": "python3",
      "display_name": "Python 3"
    },
    "accelerator": "GPU"
  },
  "cells": [
    {
      "cell_type": "markdown",
      "metadata": {
        "id": "view-in-github",
        "colab_type": "text"
      },
      "source": [
        "<a href=\"https://colab.research.google.com/github/finardi/tutos/blob/master/Census_Income.ipynb\" target=\"_parent\"><img src=\"https://colab.research.google.com/assets/colab-badge.svg\" alt=\"Open In Colab\"/></a>"
      ]
    },
    {
      "cell_type": "code",
      "metadata": {
        "id": "DPP9n8qM6zRY",
        "colab": {
          "base_uri": "https://localhost:8080/",
          "height": 357
        },
        "outputId": "d56f8c49-eff3-4570-ee8f-5cb3e4453110"
      },
      "source": [
        "! nvidia-smi"
      ],
      "execution_count": null,
      "outputs": [
        {
          "output_type": "stream",
          "text": [
            "Sun Aug  2 16:22:03 2020       \n",
            "+-----------------------------------------------------------------------------+\n",
            "| NVIDIA-SMI 450.57       Driver Version: 418.67       CUDA Version: 10.1     |\n",
            "|-------------------------------+----------------------+----------------------+\n",
            "| GPU  Name        Persistence-M| Bus-Id        Disp.A | Volatile Uncorr. ECC |\n",
            "| Fan  Temp  Perf  Pwr:Usage/Cap|         Memory-Usage | GPU-Util  Compute M. |\n",
            "|                               |                      |               MIG M. |\n",
            "|===============================+======================+======================|\n",
            "|   0  Tesla K80           Off  | 00000000:00:04.0 Off |                    0 |\n",
            "| N/A   70C    P8    33W / 149W |      0MiB / 11441MiB |      0%      Default |\n",
            "|                               |                      |                 ERR! |\n",
            "+-------------------------------+----------------------+----------------------+\n",
            "                                                                               \n",
            "+-----------------------------------------------------------------------------+\n",
            "| Processes:                                                                  |\n",
            "|  GPU   GI   CI        PID   Type   Process name                  GPU Memory |\n",
            "|        ID   ID                                                   Usage      |\n",
            "|=============================================================================|\n",
            "|  No running processes found                                                 |\n",
            "+-----------------------------------------------------------------------------+\n"
          ],
          "name": "stdout"
        }
      ]
    },
    {
      "cell_type": "code",
      "metadata": {
        "id": "GfPyGA4CJkSv"
      },
      "source": [
        "!pip install -q torch_optimizer\n",
        "import torch_optimizer as optim"
      ],
      "execution_count": null,
      "outputs": []
    },
    {
      "cell_type": "code",
      "metadata": {
        "id": "CygUhE-f8BQ1"
      },
      "source": [
        "# Basics\n",
        "import os\n",
        "import math\n",
        "import copy\n",
        "import pandas as pd\n",
        "import numpy as np\n",
        "\n",
        "# PyTorch\n",
        "import torch \n",
        "from torch import nn\n",
        "import torch.nn.functional as F\n",
        "from torch.utils.data import Dataset, TensorDataset, DataLoader\n",
        "\n",
        "# Sklearn\n",
        "from sklearn import preprocessing\n",
        "from sklearn.preprocessing import LabelEncoder\n",
        "from sklearn.preprocessing import quantile_transform\n",
        "from sklearn.preprocessing import power_transform, PowerTransformer\n",
        "from sklearn.metrics import roc_auc_score\n",
        "\n",
        "# Plots\n",
        "from matplotlib import pyplot as plt"
      ],
      "execution_count": null,
      "outputs": []
    },
    {
      "cell_type": "code",
      "metadata": {
        "id": "bNigt0zMS9ig",
        "colab": {
          "base_uri": "https://localhost:8080/",
          "height": 34
        },
        "outputId": "6af5e708-0d24-4e6b-b14a-bcbd93d3250c"
      },
      "source": [
        "device = torch.device('cuda' if torch.cuda.is_available() else 'cpu')\n",
        "\n",
        "manual_seed = 0\n",
        "def deterministic(rep=True):\n",
        "    if rep:\n",
        "        np.random.seed(manual_seed)\n",
        "        torch.manual_seed(manual_seed)\n",
        "        if torch.cuda.is_available():\n",
        "            torch.cuda.manual_seed(manual_seed)\n",
        "            torch.cuda.manual_seed_all(manual_seed)\n",
        "        torch.backends.cudnn.enabled = False \n",
        "        torch.backends.cudnn.benchmark = False\n",
        "        torch.backends.cudnn.deterministic = True\n",
        "        print(f'Deterministic experiment, seed: {manual_seed}')\n",
        "    else:\n",
        "        print('Random experiment')\n",
        "\n",
        "deterministic()"
      ],
      "execution_count": null,
      "outputs": [
        {
          "output_type": "stream",
          "text": [
            "Deterministic experiment, seed: 0\n"
          ],
          "name": "stdout"
        }
      ]
    },
    {
      "cell_type": "markdown",
      "metadata": {
        "id": "EekDkiU1S9ip"
      },
      "source": [
        "# Dataset - Cencus Income"
      ]
    },
    {
      "cell_type": "code",
      "metadata": {
        "id": "LPuc8NSS18rn",
        "colab": {
          "base_uri": "https://localhost:8080/",
          "height": 255
        },
        "outputId": "3d642cc4-3d9c-4cca-d49e-15d6871ef5e8"
      },
      "source": [
        "column_names = ['age', 'workclass', 'fnlwgt', 'education', 'educational-num','marital-status', 'occupation', 'relationship', 'race', 'gender','capital-gain', 'capital-loss', 'hours-per-week', 'native-country','income']\n",
        "\n",
        "train = pd.read_csv('/content/drive/My Drive/Colab Notebooks/Tabular/adult_data.txt', sep=\",\\s\", header=None, names = column_names, engine = 'python')\n",
        "test = pd.read_csv('/content/drive/My Drive/Colab Notebooks/Tabular/adult_test.txt', sep=\",\\s\", header=None, names = column_names, engine = 'python')\n",
        "test['income'].replace(regex=True,inplace=True,to_replace=r'\\.',value=r'')\n",
        "\n",
        "print(f'train shape {train.shape}')\n",
        "print(f'test shape {test.shape}')\n",
        "\n",
        "adult = pd.concat([test,train])\n",
        "adult.reset_index(inplace = True, drop = True)\n",
        "print(f'dataset shape {adult.shape}')\n",
        "adult.head()"
      ],
      "execution_count": null,
      "outputs": [
        {
          "output_type": "stream",
          "text": [
            "train shape (32561, 15)\n",
            "test shape (16281, 15)\n",
            "dataset shape (48842, 15)\n"
          ],
          "name": "stdout"
        },
        {
          "output_type": "execute_result",
          "data": {
            "text/html": [
              "<div>\n",
              "<style scoped>\n",
              "    .dataframe tbody tr th:only-of-type {\n",
              "        vertical-align: middle;\n",
              "    }\n",
              "\n",
              "    .dataframe tbody tr th {\n",
              "        vertical-align: top;\n",
              "    }\n",
              "\n",
              "    .dataframe thead th {\n",
              "        text-align: right;\n",
              "    }\n",
              "</style>\n",
              "<table border=\"1\" class=\"dataframe\">\n",
              "  <thead>\n",
              "    <tr style=\"text-align: right;\">\n",
              "      <th></th>\n",
              "      <th>age</th>\n",
              "      <th>workclass</th>\n",
              "      <th>fnlwgt</th>\n",
              "      <th>education</th>\n",
              "      <th>educational-num</th>\n",
              "      <th>marital-status</th>\n",
              "      <th>occupation</th>\n",
              "      <th>relationship</th>\n",
              "      <th>race</th>\n",
              "      <th>gender</th>\n",
              "      <th>capital-gain</th>\n",
              "      <th>capital-loss</th>\n",
              "      <th>hours-per-week</th>\n",
              "      <th>native-country</th>\n",
              "      <th>income</th>\n",
              "    </tr>\n",
              "  </thead>\n",
              "  <tbody>\n",
              "    <tr>\n",
              "      <th>0</th>\n",
              "      <td>25</td>\n",
              "      <td>Private</td>\n",
              "      <td>226802</td>\n",
              "      <td>11th</td>\n",
              "      <td>7</td>\n",
              "      <td>Never-married</td>\n",
              "      <td>Machine-op-inspct</td>\n",
              "      <td>Own-child</td>\n",
              "      <td>Black</td>\n",
              "      <td>Male</td>\n",
              "      <td>0</td>\n",
              "      <td>0</td>\n",
              "      <td>40</td>\n",
              "      <td>United-States</td>\n",
              "      <td>&lt;=50K</td>\n",
              "    </tr>\n",
              "    <tr>\n",
              "      <th>1</th>\n",
              "      <td>38</td>\n",
              "      <td>Private</td>\n",
              "      <td>89814</td>\n",
              "      <td>HS-grad</td>\n",
              "      <td>9</td>\n",
              "      <td>Married-civ-spouse</td>\n",
              "      <td>Farming-fishing</td>\n",
              "      <td>Husband</td>\n",
              "      <td>White</td>\n",
              "      <td>Male</td>\n",
              "      <td>0</td>\n",
              "      <td>0</td>\n",
              "      <td>50</td>\n",
              "      <td>United-States</td>\n",
              "      <td>&lt;=50K</td>\n",
              "    </tr>\n",
              "    <tr>\n",
              "      <th>2</th>\n",
              "      <td>28</td>\n",
              "      <td>Local-gov</td>\n",
              "      <td>336951</td>\n",
              "      <td>Assoc-acdm</td>\n",
              "      <td>12</td>\n",
              "      <td>Married-civ-spouse</td>\n",
              "      <td>Protective-serv</td>\n",
              "      <td>Husband</td>\n",
              "      <td>White</td>\n",
              "      <td>Male</td>\n",
              "      <td>0</td>\n",
              "      <td>0</td>\n",
              "      <td>40</td>\n",
              "      <td>United-States</td>\n",
              "      <td>&gt;50K</td>\n",
              "    </tr>\n",
              "    <tr>\n",
              "      <th>3</th>\n",
              "      <td>44</td>\n",
              "      <td>Private</td>\n",
              "      <td>160323</td>\n",
              "      <td>Some-college</td>\n",
              "      <td>10</td>\n",
              "      <td>Married-civ-spouse</td>\n",
              "      <td>Machine-op-inspct</td>\n",
              "      <td>Husband</td>\n",
              "      <td>Black</td>\n",
              "      <td>Male</td>\n",
              "      <td>7688</td>\n",
              "      <td>0</td>\n",
              "      <td>40</td>\n",
              "      <td>United-States</td>\n",
              "      <td>&gt;50K</td>\n",
              "    </tr>\n",
              "    <tr>\n",
              "      <th>4</th>\n",
              "      <td>18</td>\n",
              "      <td>?</td>\n",
              "      <td>103497</td>\n",
              "      <td>Some-college</td>\n",
              "      <td>10</td>\n",
              "      <td>Never-married</td>\n",
              "      <td>?</td>\n",
              "      <td>Own-child</td>\n",
              "      <td>White</td>\n",
              "      <td>Female</td>\n",
              "      <td>0</td>\n",
              "      <td>0</td>\n",
              "      <td>30</td>\n",
              "      <td>United-States</td>\n",
              "      <td>&lt;=50K</td>\n",
              "    </tr>\n",
              "  </tbody>\n",
              "</table>\n",
              "</div>"
            ],
            "text/plain": [
              "   age  workclass  fnlwgt  ... hours-per-week  native-country income\n",
              "0   25    Private  226802  ...             40   United-States  <=50K\n",
              "1   38    Private   89814  ...             50   United-States  <=50K\n",
              "2   28  Local-gov  336951  ...             40   United-States   >50K\n",
              "3   44    Private  160323  ...             40   United-States   >50K\n",
              "4   18          ?  103497  ...             30   United-States  <=50K\n",
              "\n",
              "[5 rows x 15 columns]"
            ]
          },
          "metadata": {
            "tags": []
          },
          "execution_count": 44
        }
      ]
    },
    {
      "cell_type": "markdown",
      "metadata": {
        "id": "--u7ZykBv3D3"
      },
      "source": [
        "### Dtypes"
      ]
    },
    {
      "cell_type": "code",
      "metadata": {
        "id": "2TSL6CxLv24Z",
        "colab": {
          "base_uri": "https://localhost:8080/",
          "height": 425
        },
        "outputId": "2c65c49c-4562-446e-cb67-0f9583550eb0"
      },
      "source": [
        "for col in set(adult.columns) - set(adult.describe().columns):\n",
        "    adult[col] = adult[col].astype('category')\n",
        "    \n",
        "print('## 1.1. Columns and their types')\n",
        "print(adult.info())"
      ],
      "execution_count": null,
      "outputs": [
        {
          "output_type": "stream",
          "text": [
            "## 1.1. Columns and their types\n",
            "<class 'pandas.core.frame.DataFrame'>\n",
            "RangeIndex: 48842 entries, 0 to 48841\n",
            "Data columns (total 15 columns):\n",
            " #   Column           Non-Null Count  Dtype   \n",
            "---  ------           --------------  -----   \n",
            " 0   age              48842 non-null  int64   \n",
            " 1   workclass        48842 non-null  category\n",
            " 2   fnlwgt           48842 non-null  int64   \n",
            " 3   education        48842 non-null  category\n",
            " 4   educational-num  48842 non-null  int64   \n",
            " 5   marital-status   48842 non-null  category\n",
            " 6   occupation       48842 non-null  category\n",
            " 7   relationship     48842 non-null  category\n",
            " 8   race             48842 non-null  category\n",
            " 9   gender           48842 non-null  category\n",
            " 10  capital-gain     48842 non-null  int64   \n",
            " 11  capital-loss     48842 non-null  int64   \n",
            " 12  hours-per-week   48842 non-null  int64   \n",
            " 13  native-country   48842 non-null  category\n",
            " 14  income           48842 non-null  category\n",
            "dtypes: category(9), int64(6)\n",
            "memory usage: 2.7 MB\n",
            "None\n"
          ],
          "name": "stdout"
        }
      ]
    },
    {
      "cell_type": "markdown",
      "metadata": {
        "id": "zK_Umji74HmO"
      },
      "source": [
        "### NaNs?"
      ]
    },
    {
      "cell_type": "code",
      "metadata": {
        "id": "S8Szd4as4HmS"
      },
      "source": [
        "# NaN == \n",
        "def check_nan(df):\n",
        "    for i, j in zip(df.columns,(df.values.astype(str) == '?').sum(axis = 0)):\n",
        "        if j > 0:\n",
        "            print(str(i) + ': ' + str(j))"
      ],
      "execution_count": null,
      "outputs": []
    },
    {
      "cell_type": "code",
      "metadata": {
        "id": "QiCkSaJe30iy",
        "colab": {
          "base_uri": "https://localhost:8080/",
          "height": 68
        },
        "outputId": "950bf7fe-2c32-4e86-c705-0d473ed4a585"
      },
      "source": [
        "# train\n",
        "check_nan(train)"
      ],
      "execution_count": null,
      "outputs": [
        {
          "output_type": "stream",
          "text": [
            "workclass: 1836\n",
            "occupation: 1843\n",
            "native-country: 583\n"
          ],
          "name": "stdout"
        }
      ]
    },
    {
      "cell_type": "code",
      "metadata": {
        "id": "x8dzVvDg30gD",
        "colab": {
          "base_uri": "https://localhost:8080/",
          "height": 68
        },
        "outputId": "68d25a4f-ca51-4820-a744-b2775a4a0182"
      },
      "source": [
        "# test\n",
        "check_nan(test)"
      ],
      "execution_count": null,
      "outputs": [
        {
          "output_type": "stream",
          "text": [
            "workclass: 963\n",
            "occupation: 966\n",
            "native-country: 274\n"
          ],
          "name": "stdout"
        }
      ]
    },
    {
      "cell_type": "markdown",
      "metadata": {
        "id": "8A6s4bj6IELD"
      },
      "source": [
        "### Trocar o ? por NaN"
      ]
    },
    {
      "cell_type": "code",
      "metadata": {
        "id": "HYBLJT6eHplD"
      },
      "source": [
        "train_nan = np.where(train.values == '?', np.nan, train.values)\n",
        "train_nan = pd.DataFrame(train_nan, columns=train.columns)\n",
        "\n",
        "test_nan = np.where(test.values == '?', np.nan, test.values)\n",
        "test_nan  = pd.DataFrame(test_nan, columns=train.columns)"
      ],
      "execution_count": null,
      "outputs": []
    },
    {
      "cell_type": "code",
      "metadata": {
        "id": "kmbMobE8iREm",
        "colab": {
          "base_uri": "https://localhost:8080/",
          "height": 34
        },
        "outputId": "19244b80-5a28-4e72-9b01-b7c7f584d865"
      },
      "source": [
        "train_nan['workclass'].nunique(), train_nan['occupation'].nunique(), train_nan['native-country'].nunique() "
      ],
      "execution_count": null,
      "outputs": [
        {
          "output_type": "execute_result",
          "data": {
            "text/plain": [
              "(8, 14, 41)"
            ]
          },
          "metadata": {
            "tags": []
          },
          "execution_count": 50
        }
      ]
    },
    {
      "cell_type": "code",
      "metadata": {
        "id": "ZtPh6v0CIoE6",
        "colab": {
          "base_uri": "https://localhost:8080/",
          "height": 289
        },
        "outputId": "d7fc655a-3bc7-4da9-8369-e545454bf01c"
      },
      "source": [
        "train_nan.isnull().sum()"
      ],
      "execution_count": null,
      "outputs": [
        {
          "output_type": "execute_result",
          "data": {
            "text/plain": [
              "age                   0\n",
              "workclass          1836\n",
              "fnlwgt                0\n",
              "education             0\n",
              "educational-num       0\n",
              "marital-status        0\n",
              "occupation         1843\n",
              "relationship          0\n",
              "race                  0\n",
              "gender                0\n",
              "capital-gain          0\n",
              "capital-loss          0\n",
              "hours-per-week        0\n",
              "native-country      583\n",
              "income                0\n",
              "dtype: int64"
            ]
          },
          "metadata": {
            "tags": []
          },
          "execution_count": 51
        }
      ]
    },
    {
      "cell_type": "code",
      "metadata": {
        "id": "vzn-WkiVirnU",
        "colab": {
          "base_uri": "https://localhost:8080/",
          "height": 34
        },
        "outputId": "e9754060-433b-4990-85be-59bae771787c"
      },
      "source": [
        "test_nan['workclass'].nunique(), test_nan['occupation'].nunique(), test_nan['native-country'].nunique() "
      ],
      "execution_count": null,
      "outputs": [
        {
          "output_type": "execute_result",
          "data": {
            "text/plain": [
              "(8, 14, 40)"
            ]
          },
          "metadata": {
            "tags": []
          },
          "execution_count": 52
        }
      ]
    },
    {
      "cell_type": "code",
      "metadata": {
        "id": "WTF-dlwyIsrz",
        "colab": {
          "base_uri": "https://localhost:8080/",
          "height": 289
        },
        "outputId": "c138e1e4-fe4b-4841-be68-4e0f456a083f"
      },
      "source": [
        "test_nan.isnull().sum()"
      ],
      "execution_count": null,
      "outputs": [
        {
          "output_type": "execute_result",
          "data": {
            "text/plain": [
              "age                  0\n",
              "workclass          963\n",
              "fnlwgt               0\n",
              "education            0\n",
              "educational-num      0\n",
              "marital-status       0\n",
              "occupation         966\n",
              "relationship         0\n",
              "race                 0\n",
              "gender               0\n",
              "capital-gain         0\n",
              "capital-loss         0\n",
              "hours-per-week       0\n",
              "native-country     274\n",
              "income               0\n",
              "dtype: int64"
            ]
          },
          "metadata": {
            "tags": []
          },
          "execution_count": 53
        }
      ]
    },
    {
      "cell_type": "code",
      "metadata": {
        "id": "NBQxfM-mRMNi",
        "colab": {
          "base_uri": "https://localhost:8080/",
          "height": 34
        },
        "outputId": "72a71ec6-cd04-45c1-b883-6d2f9312e699"
      },
      "source": [
        "train_mask = train_nan.copy()\n",
        "train_mask = np.where(train_mask.isnull() == True, np.nan, 0)\n",
        "\n",
        "test_mask = test_nan.copy()\n",
        "test_mask  = np.where(test_mask.isnull() == True, np.nan, 0)\n",
        "\n",
        "train_mask.shape, np.isnan(train_mask).sum(), test_mask.shape, np.isnan(test_mask).sum()"
      ],
      "execution_count": null,
      "outputs": [
        {
          "output_type": "execute_result",
          "data": {
            "text/plain": [
              "((32561, 15), 4262, (16281, 15), 2203)"
            ]
          },
          "metadata": {
            "tags": []
          },
          "execution_count": 54
        }
      ]
    },
    {
      "cell_type": "markdown",
      "metadata": {
        "id": "WdBy0p9FKvlx"
      },
      "source": [
        "### Trocar o np.nan por string NAN para o LabelEncoder() não quebrar, depois volta os np.nan com as Masks criadas\n"
      ]
    },
    {
      "cell_type": "code",
      "metadata": {
        "id": "UApuQvMcO_7u",
        "colab": {
          "base_uri": "https://localhost:8080/",
          "height": 34
        },
        "outputId": "e5b4cbc5-6d04-4d8c-dd28-37bd482536ed"
      },
      "source": [
        "train_nan.fillna('NAN', inplace=True)\n",
        "test_nan.fillna('NAN', inplace=True)\n",
        "train_nan.isnull().sum().sum(), test_nan.isnull().sum().sum()"
      ],
      "execution_count": null,
      "outputs": [
        {
          "output_type": "execute_result",
          "data": {
            "text/plain": [
              "(0, 0)"
            ]
          },
          "metadata": {
            "tags": []
          },
          "execution_count": 55
        }
      ]
    },
    {
      "cell_type": "code",
      "metadata": {
        "id": "p7dLhu8WjFX0",
        "colab": {
          "base_uri": "https://localhost:8080/",
          "height": 51
        },
        "outputId": "693606b1-962d-4e02-f7e6-32ad6a9b0563"
      },
      "source": [
        "print(train_nan['workclass'].nunique(), train_nan['occupation'].nunique(), train_nan['native-country'].nunique())\n",
        "print(test_nan['workclass'].nunique(), test_nan['occupation'].nunique(), test_nan['native-country'].nunique())"
      ],
      "execution_count": null,
      "outputs": [
        {
          "output_type": "stream",
          "text": [
            "9 15 42\n",
            "9 15 41\n"
          ],
          "name": "stdout"
        }
      ]
    },
    {
      "cell_type": "markdown",
      "metadata": {
        "id": "-AT-pob85wZv"
      },
      "source": [
        "### Conferindo os tipos das col (identificar cols. categóricas)"
      ]
    },
    {
      "cell_type": "code",
      "metadata": {
        "id": "vjYXjZXM5wZw",
        "colab": {
          "base_uri": "https://localhost:8080/",
          "height": 289
        },
        "outputId": "c77563ca-87e9-4826-a42e-faba0c262e01"
      },
      "source": [
        "train_nan.dtypes"
      ],
      "execution_count": null,
      "outputs": [
        {
          "output_type": "execute_result",
          "data": {
            "text/plain": [
              "age                 int64\n",
              "workclass          object\n",
              "fnlwgt              int64\n",
              "education          object\n",
              "educational-num     int64\n",
              "marital-status     object\n",
              "occupation         object\n",
              "relationship       object\n",
              "race               object\n",
              "gender             object\n",
              "capital-gain        int64\n",
              "capital-loss        int64\n",
              "hours-per-week      int64\n",
              "native-country     object\n",
              "income             object\n",
              "dtype: object"
            ]
          },
          "metadata": {
            "tags": []
          },
          "execution_count": 57
        }
      ]
    },
    {
      "cell_type": "markdown",
      "metadata": {
        "id": "io0vkgE653tQ"
      },
      "source": [
        "### Separando o dataset em Cols Cat e Cols cont.\n",
        "- Todas as cols object type\n"
      ]
    },
    {
      "cell_type": "code",
      "metadata": {
        "id": "qoQcfgqBw9tq",
        "colab": {
          "base_uri": "https://localhost:8080/",
          "height": 34
        },
        "outputId": "9f8e7f7d-839f-4ab1-e162-d43f5e2ab47d"
      },
      "source": [
        "cat_cols = ['workclass', 'education', 'marital-status', 'occupation', 'relationship', \n",
        "             'race'     , 'gender'   , 'native-country', 'income']\n",
        "\n",
        "cont_cols = ['age'         , 'fnlwgt'      , 'educational-num', \n",
        "             'capital-gain', 'capital-loss', 'hours-per-week' ]\n",
        "\n",
        "print(len(cat_cols) + len(cont_cols))"
      ],
      "execution_count": null,
      "outputs": [
        {
          "output_type": "stream",
          "text": [
            "15\n"
          ],
          "name": "stdout"
        }
      ]
    },
    {
      "cell_type": "code",
      "metadata": {
        "id": "J3RsXe9Py-A1"
      },
      "source": [
        "df_cat_train  = train_nan[cat_cols].copy()\n",
        "df_cont_train = train_nan[cont_cols].copy()\n",
        "\n",
        "df_cat_test  = test_nan[cat_cols].copy()\n",
        "df_cont_test = test_nan[cont_cols].copy()"
      ],
      "execution_count": null,
      "outputs": []
    },
    {
      "cell_type": "code",
      "metadata": {
        "id": "G2_84Xb730Yt"
      },
      "source": [
        "def transform_cat_label(df):\n",
        "    categorical_dims = {}\n",
        "    \n",
        "    for col in df.columns:\n",
        "        print(col, df[col].nunique())\n",
        "        l_enc = LabelEncoder()\n",
        "        df[col] = l_enc.fit_transform(df[col].values)\n",
        "        categorical_dims[col] = len(l_enc.classes_)\n",
        "\n",
        "    categorical_dims.pop('income')     # target\n",
        "    return list(categorical_dims.values())"
      ],
      "execution_count": null,
      "outputs": []
    },
    {
      "cell_type": "code",
      "metadata": {
        "id": "VG7ix9hk30Uw",
        "colab": {
          "base_uri": "https://localhost:8080/",
          "height": 357
        },
        "outputId": "9dc08f47-5d39-4447-e429-f98183a061a0"
      },
      "source": [
        "cat_train = transform_cat_label(df_cat_train)\n",
        "cat_test = transform_cat_label(df_cat_test)\n",
        "print(cat_train, '\\n',cat_test)"
      ],
      "execution_count": null,
      "outputs": [
        {
          "output_type": "stream",
          "text": [
            "workclass 9\n",
            "education 16\n",
            "marital-status 7\n",
            "occupation 15\n",
            "relationship 6\n",
            "race 5\n",
            "gender 2\n",
            "native-country 42\n",
            "income 2\n",
            "workclass 9\n",
            "education 16\n",
            "marital-status 7\n",
            "occupation 15\n",
            "relationship 6\n",
            "race 5\n",
            "gender 2\n",
            "native-country 41\n",
            "income 2\n",
            "[9, 16, 7, 15, 6, 5, 2, 42] \n",
            " [9, 16, 7, 15, 6, 5, 2, 41]\n"
          ],
          "name": "stdout"
        }
      ]
    },
    {
      "cell_type": "code",
      "metadata": {
        "id": "Eqo51RpEgwWg",
        "colab": {
          "base_uri": "https://localhost:8080/",
          "height": 34
        },
        "outputId": "1eff75d4-fe09-48b0-91fe-429ce729c31a"
      },
      "source": [
        "cat_dims = cat_train.copy()\n",
        "len(cat_dims), cat_dims"
      ],
      "execution_count": null,
      "outputs": [
        {
          "output_type": "execute_result",
          "data": {
            "text/plain": [
              "(8, [9, 16, 7, 15, 6, 5, 2, 42])"
            ]
          },
          "metadata": {
            "tags": []
          },
          "execution_count": 62
        }
      ]
    },
    {
      "cell_type": "markdown",
      "metadata": {
        "id": "DCkHWoX7AC7X"
      },
      "source": [
        "### YeoJohnson"
      ]
    },
    {
      "cell_type": "code",
      "metadata": {
        "id": "99eLqW6aACnp",
        "colab": {
          "base_uri": "https://localhost:8080/",
          "height": 221
        },
        "outputId": "567ed150-a94c-45bf-9af1-8ebd54c4a043"
      },
      "source": [
        "pt = PowerTransformer(method='yeo-johnson', standardize=True) \n",
        "train_yj = pt.fit(df_cont_train.values)\n",
        "\n",
        "train_yj = pt.transform(df_cont_train.values)\n",
        "df_train_yj = pd.DataFrame(train_yj,\n",
        "                           columns=df_cont_train.columns, \n",
        "                           index=df_cont_train.index)\n",
        "\n",
        "test_yj = pt.fit(df_cont_test.values)\n",
        "\n",
        "test_yj = pt.transform(df_cont_test.values)\n",
        "df_test_yj = pd.DataFrame(test_yj,\n",
        "                          columns=df_cont_test.columns, \n",
        "                          index=df_cont_test.index)\n",
        "print(df_train_yj.shape, df_test_yj.shape)\n",
        "\n",
        "df_train_yj.head()"
      ],
      "execution_count": null,
      "outputs": [
        {
          "output_type": "stream",
          "text": [
            "(32561, 6) (16281, 6)\n"
          ],
          "name": "stdout"
        },
        {
          "output_type": "execute_result",
          "data": {
            "text/html": [
              "<div>\n",
              "<style scoped>\n",
              "    .dataframe tbody tr th:only-of-type {\n",
              "        vertical-align: middle;\n",
              "    }\n",
              "\n",
              "    .dataframe tbody tr th {\n",
              "        vertical-align: top;\n",
              "    }\n",
              "\n",
              "    .dataframe thead th {\n",
              "        text-align: right;\n",
              "    }\n",
              "</style>\n",
              "<table border=\"1\" class=\"dataframe\">\n",
              "  <thead>\n",
              "    <tr style=\"text-align: right;\">\n",
              "      <th></th>\n",
              "      <th>age</th>\n",
              "      <th>fnlwgt</th>\n",
              "      <th>educational-num</th>\n",
              "      <th>capital-gain</th>\n",
              "      <th>capital-loss</th>\n",
              "      <th>hours-per-week</th>\n",
              "    </tr>\n",
              "  </thead>\n",
              "  <tbody>\n",
              "    <tr>\n",
              "      <th>0</th>\n",
              "      <td>0.175803</td>\n",
              "      <td>-1.180293</td>\n",
              "      <td>1.164754</td>\n",
              "      <td>3.317526</td>\n",
              "      <td>-0.22121</td>\n",
              "      <td>-0.035570</td>\n",
              "    </tr>\n",
              "    <tr>\n",
              "      <th>1</th>\n",
              "      <td>0.891954</td>\n",
              "      <td>-1.089846</td>\n",
              "      <td>1.164754</td>\n",
              "      <td>-0.301425</td>\n",
              "      <td>-0.22121</td>\n",
              "      <td>-2.221546</td>\n",
              "    </tr>\n",
              "    <tr>\n",
              "      <th>2</th>\n",
              "      <td>0.102709</td>\n",
              "      <td>0.398784</td>\n",
              "      <td>-0.464368</td>\n",
              "      <td>-0.301425</td>\n",
              "      <td>-0.22121</td>\n",
              "      <td>-0.035570</td>\n",
              "    </tr>\n",
              "    <tr>\n",
              "      <th>3</th>\n",
              "      <td>1.064392</td>\n",
              "      <td>0.562579</td>\n",
              "      <td>-1.200303</td>\n",
              "      <td>-0.301425</td>\n",
              "      <td>-0.22121</td>\n",
              "      <td>-0.035570</td>\n",
              "    </tr>\n",
              "    <tr>\n",
              "      <th>4</th>\n",
              "      <td>-0.731682</td>\n",
              "      <td>1.340417</td>\n",
              "      <td>1.164754</td>\n",
              "      <td>-0.301425</td>\n",
              "      <td>-0.22121</td>\n",
              "      <td>-0.035570</td>\n",
              "    </tr>\n",
              "  </tbody>\n",
              "</table>\n",
              "</div>"
            ],
            "text/plain": [
              "        age    fnlwgt  ...  capital-loss  hours-per-week\n",
              "0  0.175803 -1.180293  ...      -0.22121       -0.035570\n",
              "1  0.891954 -1.089846  ...      -0.22121       -2.221546\n",
              "2  0.102709  0.398784  ...      -0.22121       -0.035570\n",
              "3  1.064392  0.562579  ...      -0.22121       -0.035570\n",
              "4 -0.731682  1.340417  ...      -0.22121       -0.035570\n",
              "\n",
              "[5 rows x 6 columns]"
            ]
          },
          "metadata": {
            "tags": []
          },
          "execution_count": 63
        }
      ]
    },
    {
      "cell_type": "markdown",
      "metadata": {
        "id": "zhET0MrBACfL"
      },
      "source": [
        "### Quantile"
      ]
    },
    {
      "cell_type": "code",
      "metadata": {
        "id": "gP5vN0iW0I2L",
        "colab": {
          "base_uri": "https://localhost:8080/",
          "height": 221
        },
        "outputId": "58820dbf-01dd-4f9d-8764-7cd63d5ecfb2"
      },
      "source": [
        "quantile_train = quantile_transform(df_cont_train.values, \n",
        "                                    n_quantiles=10, \n",
        "                                    random_state=manual_seed, \n",
        "                                    copy=True, \n",
        "                                    output_distribution='uniform')\n",
        "\n",
        "quantile_test  = quantile_transform(df_cont_test.values, \n",
        "                                    n_quantiles=10, \n",
        "                                    random_state=manual_seed, \n",
        "                                    copy=True, \n",
        "                                    output_distribution='uniform')\n",
        "\n",
        "df_train_quant = pd.DataFrame(data=quantile_train, \n",
        "                             columns=df_cont_train.columns, \n",
        "                             index=df_cont_train.index)\n",
        "\n",
        "df_test_quant = pd.DataFrame(data=quantile_test, \n",
        "                             columns=df_cont_test.columns, \n",
        "                             index=df_cont_test.index)\n",
        "\n",
        "print(df_train_quant.shape, df_test_quant.shape)\n",
        "\n",
        "df_train_quant.head()"
      ],
      "execution_count": null,
      "outputs": [
        {
          "output_type": "stream",
          "text": [
            "(32561, 6) (16281, 6)\n"
          ],
          "name": "stdout"
        },
        {
          "output_type": "execute_result",
          "data": {
            "text/html": [
              "<div>\n",
              "<style scoped>\n",
              "    .dataframe tbody tr th:only-of-type {\n",
              "        vertical-align: middle;\n",
              "    }\n",
              "\n",
              "    .dataframe tbody tr th {\n",
              "        vertical-align: top;\n",
              "    }\n",
              "\n",
              "    .dataframe thead th {\n",
              "        text-align: right;\n",
              "    }\n",
              "</style>\n",
              "<table border=\"1\" class=\"dataframe\">\n",
              "  <thead>\n",
              "    <tr style=\"text-align: right;\">\n",
              "      <th></th>\n",
              "      <th>age</th>\n",
              "      <th>fnlwgt</th>\n",
              "      <th>educational-num</th>\n",
              "      <th>capital-gain</th>\n",
              "      <th>capital-loss</th>\n",
              "      <th>hours-per-week</th>\n",
              "    </tr>\n",
              "  </thead>\n",
              "  <tbody>\n",
              "    <tr>\n",
              "      <th>0</th>\n",
              "      <td>0.555556</td>\n",
              "      <td>0.125654</td>\n",
              "      <td>0.833333</td>\n",
              "      <td>0.891304</td>\n",
              "      <td>0.0</td>\n",
              "      <td>0.500000</td>\n",
              "    </tr>\n",
              "    <tr>\n",
              "      <th>1</th>\n",
              "      <td>0.791667</td>\n",
              "      <td>0.141929</td>\n",
              "      <td>0.833333</td>\n",
              "      <td>0.000000</td>\n",
              "      <td>0.0</td>\n",
              "      <td>0.055556</td>\n",
              "    </tr>\n",
              "    <tr>\n",
              "      <th>2</th>\n",
              "      <td>0.527778</td>\n",
              "      <td>0.681646</td>\n",
              "      <td>0.333333</td>\n",
              "      <td>0.000000</td>\n",
              "      <td>0.0</td>\n",
              "      <td>0.500000</td>\n",
              "    </tr>\n",
              "    <tr>\n",
              "      <th>3</th>\n",
              "      <td>0.833333</td>\n",
              "      <td>0.736893</td>\n",
              "      <td>0.111111</td>\n",
              "      <td>0.000000</td>\n",
              "      <td>0.0</td>\n",
              "      <td>0.500000</td>\n",
              "    </tr>\n",
              "    <tr>\n",
              "      <th>4</th>\n",
              "      <td>0.250000</td>\n",
              "      <td>0.890743</td>\n",
              "      <td>0.833333</td>\n",
              "      <td>0.000000</td>\n",
              "      <td>0.0</td>\n",
              "      <td>0.500000</td>\n",
              "    </tr>\n",
              "  </tbody>\n",
              "</table>\n",
              "</div>"
            ],
            "text/plain": [
              "        age    fnlwgt  ...  capital-loss  hours-per-week\n",
              "0  0.555556  0.125654  ...           0.0        0.500000\n",
              "1  0.791667  0.141929  ...           0.0        0.055556\n",
              "2  0.527778  0.681646  ...           0.0        0.500000\n",
              "3  0.833333  0.736893  ...           0.0        0.500000\n",
              "4  0.250000  0.890743  ...           0.0        0.500000\n",
              "\n",
              "[5 rows x 6 columns]"
            ]
          },
          "metadata": {
            "tags": []
          },
          "execution_count": 64
        }
      ]
    },
    {
      "cell_type": "markdown",
      "metadata": {
        "id": "3YnVnut_DYZi"
      },
      "source": [
        "### Concatena as Cols cont_norm + Cols cat."
      ]
    },
    {
      "cell_type": "code",
      "metadata": {
        "id": "W0tKvyJ6DYZk"
      },
      "source": [
        "def concat_df(df1, df2):\n",
        "    value =  df1.columns.to_list() + df2.columns.to_list()\n",
        "    columns = {k:v for k,v in enumerate(value)}\n",
        "    df_concat = pd.concat([df1, df2], axis=1, ignore_index=True)\n",
        "    df_concat.rename(columns=columns, inplace=True)\n",
        "    return df_concat"
      ],
      "execution_count": null,
      "outputs": []
    },
    {
      "cell_type": "code",
      "metadata": {
        "id": "wmseqfyh30IZ",
        "colab": {
          "base_uri": "https://localhost:8080/",
          "height": 204
        },
        "outputId": "18225d0d-8a9f-4e03-8420-47bead349f07"
      },
      "source": [
        "df_train_processed = concat_df(df_train_quant, df_cat_train)\n",
        "df_test_processed  = concat_df(df_test_quant, df_cat_test)\n",
        "df_train_processed.head()"
      ],
      "execution_count": null,
      "outputs": [
        {
          "output_type": "execute_result",
          "data": {
            "text/html": [
              "<div>\n",
              "<style scoped>\n",
              "    .dataframe tbody tr th:only-of-type {\n",
              "        vertical-align: middle;\n",
              "    }\n",
              "\n",
              "    .dataframe tbody tr th {\n",
              "        vertical-align: top;\n",
              "    }\n",
              "\n",
              "    .dataframe thead th {\n",
              "        text-align: right;\n",
              "    }\n",
              "</style>\n",
              "<table border=\"1\" class=\"dataframe\">\n",
              "  <thead>\n",
              "    <tr style=\"text-align: right;\">\n",
              "      <th></th>\n",
              "      <th>age</th>\n",
              "      <th>fnlwgt</th>\n",
              "      <th>educational-num</th>\n",
              "      <th>capital-gain</th>\n",
              "      <th>capital-loss</th>\n",
              "      <th>hours-per-week</th>\n",
              "      <th>workclass</th>\n",
              "      <th>education</th>\n",
              "      <th>marital-status</th>\n",
              "      <th>occupation</th>\n",
              "      <th>relationship</th>\n",
              "      <th>race</th>\n",
              "      <th>gender</th>\n",
              "      <th>native-country</th>\n",
              "      <th>income</th>\n",
              "    </tr>\n",
              "  </thead>\n",
              "  <tbody>\n",
              "    <tr>\n",
              "      <th>0</th>\n",
              "      <td>0.555556</td>\n",
              "      <td>0.125654</td>\n",
              "      <td>0.833333</td>\n",
              "      <td>0.891304</td>\n",
              "      <td>0.0</td>\n",
              "      <td>0.500000</td>\n",
              "      <td>7</td>\n",
              "      <td>9</td>\n",
              "      <td>4</td>\n",
              "      <td>0</td>\n",
              "      <td>1</td>\n",
              "      <td>4</td>\n",
              "      <td>1</td>\n",
              "      <td>39</td>\n",
              "      <td>0</td>\n",
              "    </tr>\n",
              "    <tr>\n",
              "      <th>1</th>\n",
              "      <td>0.791667</td>\n",
              "      <td>0.141929</td>\n",
              "      <td>0.833333</td>\n",
              "      <td>0.000000</td>\n",
              "      <td>0.0</td>\n",
              "      <td>0.055556</td>\n",
              "      <td>6</td>\n",
              "      <td>9</td>\n",
              "      <td>2</td>\n",
              "      <td>3</td>\n",
              "      <td>0</td>\n",
              "      <td>4</td>\n",
              "      <td>1</td>\n",
              "      <td>39</td>\n",
              "      <td>0</td>\n",
              "    </tr>\n",
              "    <tr>\n",
              "      <th>2</th>\n",
              "      <td>0.527778</td>\n",
              "      <td>0.681646</td>\n",
              "      <td>0.333333</td>\n",
              "      <td>0.000000</td>\n",
              "      <td>0.0</td>\n",
              "      <td>0.500000</td>\n",
              "      <td>4</td>\n",
              "      <td>11</td>\n",
              "      <td>0</td>\n",
              "      <td>5</td>\n",
              "      <td>1</td>\n",
              "      <td>4</td>\n",
              "      <td>1</td>\n",
              "      <td>39</td>\n",
              "      <td>0</td>\n",
              "    </tr>\n",
              "    <tr>\n",
              "      <th>3</th>\n",
              "      <td>0.833333</td>\n",
              "      <td>0.736893</td>\n",
              "      <td>0.111111</td>\n",
              "      <td>0.000000</td>\n",
              "      <td>0.0</td>\n",
              "      <td>0.500000</td>\n",
              "      <td>4</td>\n",
              "      <td>1</td>\n",
              "      <td>2</td>\n",
              "      <td>5</td>\n",
              "      <td>0</td>\n",
              "      <td>2</td>\n",
              "      <td>1</td>\n",
              "      <td>39</td>\n",
              "      <td>0</td>\n",
              "    </tr>\n",
              "    <tr>\n",
              "      <th>4</th>\n",
              "      <td>0.250000</td>\n",
              "      <td>0.890743</td>\n",
              "      <td>0.833333</td>\n",
              "      <td>0.000000</td>\n",
              "      <td>0.0</td>\n",
              "      <td>0.500000</td>\n",
              "      <td>4</td>\n",
              "      <td>9</td>\n",
              "      <td>2</td>\n",
              "      <td>10</td>\n",
              "      <td>5</td>\n",
              "      <td>2</td>\n",
              "      <td>0</td>\n",
              "      <td>4</td>\n",
              "      <td>0</td>\n",
              "    </tr>\n",
              "  </tbody>\n",
              "</table>\n",
              "</div>"
            ],
            "text/plain": [
              "        age    fnlwgt  educational-num  ...  gender  native-country  income\n",
              "0  0.555556  0.125654         0.833333  ...       1              39       0\n",
              "1  0.791667  0.141929         0.833333  ...       1              39       0\n",
              "2  0.527778  0.681646         0.333333  ...       1              39       0\n",
              "3  0.833333  0.736893         0.111111  ...       1              39       0\n",
              "4  0.250000  0.890743         0.833333  ...       0               4       0\n",
              "\n",
              "[5 rows x 15 columns]"
            ]
          },
          "metadata": {
            "tags": []
          },
          "execution_count": 66
        }
      ]
    },
    {
      "cell_type": "markdown",
      "metadata": {
        "id": "0LYtajj40Icn"
      },
      "source": [
        "### Volta dos NaNs"
      ]
    },
    {
      "cell_type": "code",
      "metadata": {
        "id": "UgmEeUySPaff"
      },
      "source": [
        "# Volta os NaNs\n",
        "values_with_nan_train = df_train_processed.values + train_mask\n",
        "df_train = pd.DataFrame(values_with_nan_train, columns=df_train_processed.columns)\n",
        "\n",
        "values_with_nan_test  = df_test_processed.values + test_mask\n",
        "df_test = pd.DataFrame(values_with_nan_test, columns=df_test_processed.columns)"
      ],
      "execution_count": null,
      "outputs": []
    },
    {
      "cell_type": "code",
      "metadata": {
        "id": "bjP3SaVcQVro",
        "colab": {
          "base_uri": "https://localhost:8080/",
          "height": 289
        },
        "outputId": "ac87707a-b4a7-46eb-dce7-fe1d0e7d16f0"
      },
      "source": [
        "df_train.isnull().sum()"
      ],
      "execution_count": null,
      "outputs": [
        {
          "output_type": "execute_result",
          "data": {
            "text/plain": [
              "age                   0\n",
              "fnlwgt             1836\n",
              "educational-num       0\n",
              "capital-gain          0\n",
              "capital-loss          0\n",
              "hours-per-week        0\n",
              "workclass          1843\n",
              "education             0\n",
              "marital-status        0\n",
              "occupation            0\n",
              "relationship          0\n",
              "race                  0\n",
              "gender                0\n",
              "native-country      583\n",
              "income                0\n",
              "dtype: int64"
            ]
          },
          "metadata": {
            "tags": []
          },
          "execution_count": 68
        }
      ]
    },
    {
      "cell_type": "code",
      "metadata": {
        "id": "qn4AVxwuQPjg",
        "colab": {
          "base_uri": "https://localhost:8080/",
          "height": 289
        },
        "outputId": "abbb7529-5285-4e9f-e3d3-259491f14882"
      },
      "source": [
        "df_test.isnull().sum()"
      ],
      "execution_count": null,
      "outputs": [
        {
          "output_type": "execute_result",
          "data": {
            "text/plain": [
              "age                  0\n",
              "fnlwgt             963\n",
              "educational-num      0\n",
              "capital-gain         0\n",
              "capital-loss         0\n",
              "hours-per-week       0\n",
              "workclass          966\n",
              "education            0\n",
              "marital-status       0\n",
              "occupation           0\n",
              "relationship         0\n",
              "race                 0\n",
              "gender               0\n",
              "native-country     274\n",
              "income               0\n",
              "dtype: int64"
            ]
          },
          "metadata": {
            "tags": []
          },
          "execution_count": 69
        }
      ]
    },
    {
      "cell_type": "markdown",
      "metadata": {
        "id": "R5VKS68E2qyG"
      },
      "source": [
        "### Dataset Processado"
      ]
    },
    {
      "cell_type": "code",
      "metadata": {
        "id": "z5HsWJUo2t4G",
        "colab": {
          "base_uri": "https://localhost:8080/",
          "height": 204
        },
        "outputId": "9f11a6f9-f368-4d6d-a3c5-9f4361925224"
      },
      "source": [
        "df_train.head()"
      ],
      "execution_count": null,
      "outputs": [
        {
          "output_type": "execute_result",
          "data": {
            "text/html": [
              "<div>\n",
              "<style scoped>\n",
              "    .dataframe tbody tr th:only-of-type {\n",
              "        vertical-align: middle;\n",
              "    }\n",
              "\n",
              "    .dataframe tbody tr th {\n",
              "        vertical-align: top;\n",
              "    }\n",
              "\n",
              "    .dataframe thead th {\n",
              "        text-align: right;\n",
              "    }\n",
              "</style>\n",
              "<table border=\"1\" class=\"dataframe\">\n",
              "  <thead>\n",
              "    <tr style=\"text-align: right;\">\n",
              "      <th></th>\n",
              "      <th>age</th>\n",
              "      <th>fnlwgt</th>\n",
              "      <th>educational-num</th>\n",
              "      <th>capital-gain</th>\n",
              "      <th>capital-loss</th>\n",
              "      <th>hours-per-week</th>\n",
              "      <th>workclass</th>\n",
              "      <th>education</th>\n",
              "      <th>marital-status</th>\n",
              "      <th>occupation</th>\n",
              "      <th>relationship</th>\n",
              "      <th>race</th>\n",
              "      <th>gender</th>\n",
              "      <th>native-country</th>\n",
              "      <th>income</th>\n",
              "    </tr>\n",
              "  </thead>\n",
              "  <tbody>\n",
              "    <tr>\n",
              "      <th>0</th>\n",
              "      <td>0.555556</td>\n",
              "      <td>0.125654</td>\n",
              "      <td>0.833333</td>\n",
              "      <td>0.891304</td>\n",
              "      <td>0.0</td>\n",
              "      <td>0.500000</td>\n",
              "      <td>7.0</td>\n",
              "      <td>9.0</td>\n",
              "      <td>4.0</td>\n",
              "      <td>0.0</td>\n",
              "      <td>1.0</td>\n",
              "      <td>4.0</td>\n",
              "      <td>1.0</td>\n",
              "      <td>39.0</td>\n",
              "      <td>0.0</td>\n",
              "    </tr>\n",
              "    <tr>\n",
              "      <th>1</th>\n",
              "      <td>0.791667</td>\n",
              "      <td>0.141929</td>\n",
              "      <td>0.833333</td>\n",
              "      <td>0.000000</td>\n",
              "      <td>0.0</td>\n",
              "      <td>0.055556</td>\n",
              "      <td>6.0</td>\n",
              "      <td>9.0</td>\n",
              "      <td>2.0</td>\n",
              "      <td>3.0</td>\n",
              "      <td>0.0</td>\n",
              "      <td>4.0</td>\n",
              "      <td>1.0</td>\n",
              "      <td>39.0</td>\n",
              "      <td>0.0</td>\n",
              "    </tr>\n",
              "    <tr>\n",
              "      <th>2</th>\n",
              "      <td>0.527778</td>\n",
              "      <td>0.681646</td>\n",
              "      <td>0.333333</td>\n",
              "      <td>0.000000</td>\n",
              "      <td>0.0</td>\n",
              "      <td>0.500000</td>\n",
              "      <td>4.0</td>\n",
              "      <td>11.0</td>\n",
              "      <td>0.0</td>\n",
              "      <td>5.0</td>\n",
              "      <td>1.0</td>\n",
              "      <td>4.0</td>\n",
              "      <td>1.0</td>\n",
              "      <td>39.0</td>\n",
              "      <td>0.0</td>\n",
              "    </tr>\n",
              "    <tr>\n",
              "      <th>3</th>\n",
              "      <td>0.833333</td>\n",
              "      <td>0.736893</td>\n",
              "      <td>0.111111</td>\n",
              "      <td>0.000000</td>\n",
              "      <td>0.0</td>\n",
              "      <td>0.500000</td>\n",
              "      <td>4.0</td>\n",
              "      <td>1.0</td>\n",
              "      <td>2.0</td>\n",
              "      <td>5.0</td>\n",
              "      <td>0.0</td>\n",
              "      <td>2.0</td>\n",
              "      <td>1.0</td>\n",
              "      <td>39.0</td>\n",
              "      <td>0.0</td>\n",
              "    </tr>\n",
              "    <tr>\n",
              "      <th>4</th>\n",
              "      <td>0.250000</td>\n",
              "      <td>0.890743</td>\n",
              "      <td>0.833333</td>\n",
              "      <td>0.000000</td>\n",
              "      <td>0.0</td>\n",
              "      <td>0.500000</td>\n",
              "      <td>4.0</td>\n",
              "      <td>9.0</td>\n",
              "      <td>2.0</td>\n",
              "      <td>10.0</td>\n",
              "      <td>5.0</td>\n",
              "      <td>2.0</td>\n",
              "      <td>0.0</td>\n",
              "      <td>4.0</td>\n",
              "      <td>0.0</td>\n",
              "    </tr>\n",
              "  </tbody>\n",
              "</table>\n",
              "</div>"
            ],
            "text/plain": [
              "        age    fnlwgt  educational-num  ...  gender  native-country  income\n",
              "0  0.555556  0.125654         0.833333  ...     1.0            39.0     0.0\n",
              "1  0.791667  0.141929         0.833333  ...     1.0            39.0     0.0\n",
              "2  0.527778  0.681646         0.333333  ...     1.0            39.0     0.0\n",
              "3  0.833333  0.736893         0.111111  ...     1.0            39.0     0.0\n",
              "4  0.250000  0.890743         0.833333  ...     0.0             4.0     0.0\n",
              "\n",
              "[5 rows x 15 columns]"
            ]
          },
          "metadata": {
            "tags": []
          },
          "execution_count": 70
        }
      ]
    },
    {
      "cell_type": "code",
      "metadata": {
        "id": "Ood_8U-Mk1Vy",
        "colab": {
          "base_uri": "https://localhost:8080/",
          "height": 34
        },
        "outputId": "5fd11b80-340f-4957-c127-21d47219e2e4"
      },
      "source": [
        "features = df_train.iloc[:,:-1].shape[1]\n",
        "features, cat_dims, len(cat_dims)"
      ],
      "execution_count": null,
      "outputs": [
        {
          "output_type": "execute_result",
          "data": {
            "text/plain": [
              "(14, [9, 16, 7, 15, 6, 5, 2, 42], 8)"
            ]
          },
          "metadata": {
            "tags": []
          },
          "execution_count": 71
        }
      ]
    },
    {
      "cell_type": "markdown",
      "metadata": {
        "id": "AO1Lsaik30F0"
      },
      "source": [
        "### Criando o dataset de validação "
      ]
    },
    {
      "cell_type": "code",
      "metadata": {
        "id": "KP-ixae6FW05",
        "colab": {
          "base_uri": "https://localhost:8080/",
          "height": 238
        },
        "outputId": "0482b7c7-e808-4ebc-9ada-e9adbe4438d2"
      },
      "source": [
        "from sklearn.model_selection import train_test_split\n",
        "train_X, valid_X, = train_test_split(df_train.values,\n",
        "                                     shuffle=True, \n",
        "                                     test_size=0.2, \n",
        "                                     random_state=manual_seed)\n",
        "print(train_X.shape, valid_X.shape)\n",
        "\n",
        "df_train = pd.DataFrame(train_X, columns=df_train.columns)\n",
        "df_valid = pd.DataFrame(valid_X, columns=df_train.columns)\n",
        "print(df_train.shape, df_valid.shape, df_test.shape)\n",
        "\n",
        "df_valid.head()"
      ],
      "execution_count": null,
      "outputs": [
        {
          "output_type": "stream",
          "text": [
            "(26048, 15) (6513, 15)\n",
            "(26048, 15) (6513, 15) (16281, 15)\n"
          ],
          "name": "stdout"
        },
        {
          "output_type": "execute_result",
          "data": {
            "text/html": [
              "<div>\n",
              "<style scoped>\n",
              "    .dataframe tbody tr th:only-of-type {\n",
              "        vertical-align: middle;\n",
              "    }\n",
              "\n",
              "    .dataframe tbody tr th {\n",
              "        vertical-align: top;\n",
              "    }\n",
              "\n",
              "    .dataframe thead th {\n",
              "        text-align: right;\n",
              "    }\n",
              "</style>\n",
              "<table border=\"1\" class=\"dataframe\">\n",
              "  <thead>\n",
              "    <tr style=\"text-align: right;\">\n",
              "      <th></th>\n",
              "      <th>age</th>\n",
              "      <th>fnlwgt</th>\n",
              "      <th>educational-num</th>\n",
              "      <th>capital-gain</th>\n",
              "      <th>capital-loss</th>\n",
              "      <th>hours-per-week</th>\n",
              "      <th>workclass</th>\n",
              "      <th>education</th>\n",
              "      <th>marital-status</th>\n",
              "      <th>occupation</th>\n",
              "      <th>relationship</th>\n",
              "      <th>race</th>\n",
              "      <th>gender</th>\n",
              "      <th>native-country</th>\n",
              "      <th>income</th>\n",
              "    </tr>\n",
              "  </thead>\n",
              "  <tbody>\n",
              "    <tr>\n",
              "      <th>0</th>\n",
              "      <td>0.222222</td>\n",
              "      <td>0.492735</td>\n",
              "      <td>0.611111</td>\n",
              "      <td>0.0</td>\n",
              "      <td>0.000000</td>\n",
              "      <td>0.755556</td>\n",
              "      <td>4.0</td>\n",
              "      <td>15.0</td>\n",
              "      <td>0.0</td>\n",
              "      <td>0.0</td>\n",
              "      <td>4.0</td>\n",
              "      <td>4.0</td>\n",
              "      <td>0.0</td>\n",
              "      <td>39.0</td>\n",
              "      <td>0.0</td>\n",
              "    </tr>\n",
              "    <tr>\n",
              "      <th>1</th>\n",
              "      <td>0.222222</td>\n",
              "      <td>0.684065</td>\n",
              "      <td>0.833333</td>\n",
              "      <td>0.0</td>\n",
              "      <td>0.000000</td>\n",
              "      <td>0.500000</td>\n",
              "      <td>4.0</td>\n",
              "      <td>9.0</td>\n",
              "      <td>4.0</td>\n",
              "      <td>10.0</td>\n",
              "      <td>1.0</td>\n",
              "      <td>4.0</td>\n",
              "      <td>0.0</td>\n",
              "      <td>39.0</td>\n",
              "      <td>0.0</td>\n",
              "    </tr>\n",
              "    <tr>\n",
              "      <th>2</th>\n",
              "      <td>0.177778</td>\n",
              "      <td>0.789545</td>\n",
              "      <td>0.740741</td>\n",
              "      <td>0.0</td>\n",
              "      <td>0.000000</td>\n",
              "      <td>0.500000</td>\n",
              "      <td>4.0</td>\n",
              "      <td>7.0</td>\n",
              "      <td>2.0</td>\n",
              "      <td>12.0</td>\n",
              "      <td>0.0</td>\n",
              "      <td>4.0</td>\n",
              "      <td>1.0</td>\n",
              "      <td>39.0</td>\n",
              "      <td>0.0</td>\n",
              "    </tr>\n",
              "    <tr>\n",
              "      <th>3</th>\n",
              "      <td>0.711111</td>\n",
              "      <td>0.360130</td>\n",
              "      <td>0.037037</td>\n",
              "      <td>0.0</td>\n",
              "      <td>0.937404</td>\n",
              "      <td>0.500000</td>\n",
              "      <td>4.0</td>\n",
              "      <td>4.0</td>\n",
              "      <td>2.0</td>\n",
              "      <td>14.0</td>\n",
              "      <td>0.0</td>\n",
              "      <td>0.0</td>\n",
              "      <td>1.0</td>\n",
              "      <td>39.0</td>\n",
              "      <td>0.0</td>\n",
              "    </tr>\n",
              "    <tr>\n",
              "      <th>4</th>\n",
              "      <td>0.688889</td>\n",
              "      <td>0.469147</td>\n",
              "      <td>0.111111</td>\n",
              "      <td>0.0</td>\n",
              "      <td>0.960922</td>\n",
              "      <td>0.945626</td>\n",
              "      <td>4.0</td>\n",
              "      <td>1.0</td>\n",
              "      <td>0.0</td>\n",
              "      <td>14.0</td>\n",
              "      <td>1.0</td>\n",
              "      <td>4.0</td>\n",
              "      <td>1.0</td>\n",
              "      <td>39.0</td>\n",
              "      <td>1.0</td>\n",
              "    </tr>\n",
              "  </tbody>\n",
              "</table>\n",
              "</div>"
            ],
            "text/plain": [
              "        age    fnlwgt  educational-num  ...  gender  native-country  income\n",
              "0  0.222222  0.492735         0.611111  ...     0.0            39.0     0.0\n",
              "1  0.222222  0.684065         0.833333  ...     0.0            39.0     0.0\n",
              "2  0.177778  0.789545         0.740741  ...     1.0            39.0     0.0\n",
              "3  0.711111  0.360130         0.037037  ...     1.0            39.0     0.0\n",
              "4  0.688889  0.469147         0.111111  ...     1.0            39.0     1.0\n",
              "\n",
              "[5 rows x 15 columns]"
            ]
          },
          "metadata": {
            "tags": []
          },
          "execution_count": 72
        }
      ]
    },
    {
      "cell_type": "code",
      "metadata": {
        "id": "jdVq7l_2FWt5",
        "colab": {
          "base_uri": "https://localhost:8080/",
          "height": 34
        },
        "outputId": "0ee618f2-d6f5-4723-d177-34c18d1b5f4f"
      },
      "source": [
        "class CensusIncome(Dataset):\n",
        "    def __init__(self, df):\n",
        "      super(CensusIncome, self).__init__()\n",
        "\n",
        "      self.data = df.values[:, :-1].copy()\n",
        "      self.target = df['income'].values.copy()\n",
        "      self.target = torch.from_numpy(self.target).type(torch.LongTensor)\n",
        "      \n",
        "    def __len__(self):\n",
        "      return self.target.shape[0]\n",
        "    \n",
        "    def __getitem__(self, index):\n",
        "        target = self.target[index]\n",
        "        x = self.data[index]\n",
        "        xnan = x.copy()\n",
        "        x[np.isnan(x)] = 0.\n",
        "        xnan[~np.isnan(xnan)] = 0.\n",
        "        xnan[np.isnan(xnan)]  = 1.\n",
        "\n",
        "        return torch.tensor(x).type(torch.float), \\\n",
        "               torch.tensor(xnan).type(torch.float), \\\n",
        "               target.squeeze(-1)\n",
        "\n",
        "# Test\n",
        "x = CensusIncome(df_train)\n",
        "x[7][1], len(x[7][1])"
      ],
      "execution_count": null,
      "outputs": [
        {
          "output_type": "execute_result",
          "data": {
            "text/plain": [
              "(tensor([0., 1., 0., 0., 0., 0., 1., 0., 0., 0., 0., 0., 0., 0.]), 14)"
            ]
          },
          "metadata": {
            "tags": []
          },
          "execution_count": 73
        }
      ]
    },
    {
      "cell_type": "markdown",
      "metadata": {
        "id": "HRE_7e_YaIzr"
      },
      "source": [
        "### Datasets"
      ]
    },
    {
      "cell_type": "code",
      "metadata": {
        "id": "l_NYtTCJabsy",
        "colab": {
          "base_uri": "https://localhost:8080/",
          "height": 34
        },
        "outputId": "d12b4258-dc92-43b4-c796-ba5b98263513"
      },
      "source": [
        "ds_train = CensusIncome(df_train)\n",
        "ds_debug = CensusIncome(df_train[:1000])\n",
        "ds_valid = CensusIncome(df_valid)\n",
        "ds_test  = CensusIncome(df_test)\n",
        "\n",
        "len(ds_train), len(ds_debug), len(ds_valid), len(ds_test)"
      ],
      "execution_count": null,
      "outputs": [
        {
          "output_type": "execute_result",
          "data": {
            "text/plain": [
              "(26048, 1000, 6513, 16281)"
            ]
          },
          "metadata": {
            "tags": []
          },
          "execution_count": 74
        }
      ]
    },
    {
      "cell_type": "markdown",
      "metadata": {
        "id": "DlND1RTEabpj"
      },
      "source": [
        "### Dataloaders"
      ]
    },
    {
      "cell_type": "code",
      "metadata": {
        "id": "rAg57Rq2abnb",
        "colab": {
          "base_uri": "https://localhost:8080/",
          "height": 34
        },
        "outputId": "89dbe141-7272-4498-a2a2-679080f237f9"
      },
      "source": [
        "BATCH_SZ = 128\n",
        "\n",
        "# Dataloaders\n",
        "dataloaders = {\n",
        "     'train': DataLoader(ds_train,\n",
        "                         batch_size=BATCH_SZ,\n",
        "                         shuffle=True,\n",
        "                         num_workers=4,\n",
        "                         pin_memory=True),\n",
        "    \n",
        "     'valid': DataLoader(ds_valid,\n",
        "                         batch_size=BATCH_SZ,\n",
        "                         shuffle=True,\n",
        "                         num_workers=4,\n",
        "                         pin_memory=True),\n",
        "    \n",
        "     'test' : DataLoader(ds_test,\n",
        "                         batch_size=BATCH_SZ,\n",
        "                         shuffle=False,\n",
        "                         num_workers=4,\n",
        "                         pin_memory=True),\n",
        "     \n",
        "     'debug': DataLoader(ds_debug,\n",
        "                         batch_size=BATCH_SZ,\n",
        "                         shuffle=False,\n",
        "                         num_workers=4,\n",
        "                         pin_memory=True)\n",
        " }\n",
        "\n",
        "# sanity check\n",
        "dl_sizes = {x: len(dataloaders[x]) for x in dataloaders.keys()}\n",
        "dl_sizes "
      ],
      "execution_count": null,
      "outputs": [
        {
          "output_type": "execute_result",
          "data": {
            "text/plain": [
              "{'debug': 8, 'test': 128, 'train': 204, 'valid': 51}"
            ]
          },
          "metadata": {
            "tags": []
          },
          "execution_count": 75
        }
      ]
    },
    {
      "cell_type": "markdown",
      "metadata": {
        "id": "U2VUdKov5wLq"
      },
      "source": [
        "###  <span style=\"color:orange\"> Função clones cria N cópias idênticas \n",
        "\n",
        "\n"
      ]
    },
    {
      "cell_type": "code",
      "metadata": {
        "id": "mbktjEeXekGr"
      },
      "source": [
        "def clones(module, N):\n",
        "    return nn.ModuleList([copy.deepcopy(module) for _ in range(N)])"
      ],
      "execution_count": null,
      "outputs": []
    },
    {
      "cell_type": "markdown",
      "metadata": {
        "id": "NnLEd-Xk59fZ"
      },
      "source": [
        "#  <span style=\"color:orange\"> Atenção MultiHead\n",
        "\n"
      ]
    },
    {
      "cell_type": "code",
      "metadata": {
        "id": "1k7JUjXRt3Dq"
      },
      "source": [
        "einsum = torch.einsum\n",
        "sqrt = math.sqrt\n",
        "\n",
        "class MultiHead(nn.Module):\n",
        "  def __init__(self, n_heads, d_model, drop):\n",
        "    super(MultiHead, self).__init__()\n",
        "    assert d_model % n_heads == 0\n",
        "\n",
        "    self.drop = nn.Dropout(drop)\n",
        "    self.n_heads = n_heads\n",
        "    self.d_k = d_model // n_heads; self.d_v = d_model // n_heads \n",
        "    self.W   = clones(nn.Linear(d_model, self.d_k * n_heads, bias=False), 4)\n",
        "      \n",
        "  def forward(self, emb_x): \n",
        "    N, L,_= emb_x.size()\n",
        "\n",
        "    #------------------------------- projeções -------------------------------\n",
        "    q = self.W[0](emb_x).view(N, L, self.n_heads, self.d_k).transpose(1,2) \n",
        "    k = self.W[1](emb_x).view(N, L, self.n_heads, self.d_k).transpose(1,2) \n",
        "    v = self.W[2](emb_x).view(N, L, self.n_heads, self.d_v).transpose(1,2) \n",
        "    \n",
        "    #------------------------------- scores e mask ---------------------------\n",
        "    scores = einsum('bnlq, bniq -> bnli', q, k) / sqrt(self.d_k) \n",
        "    scores = self.drop(F.softmax(scores, dim=-1))\n",
        "    \n",
        "    #------------------------------ value e contexto -------------------------\n",
        "    att = einsum('bnli, bniv -> bnlv', scores, v)         # N, n_neads, L, dv\n",
        "    att = att.transpose(1,2).contiguous().view(N, L, -1)  # N, L, n_heads * dv  \n",
        "    \n",
        "    return self.W[-1](att)  "
      ],
      "execution_count": null,
      "outputs": []
    },
    {
      "cell_type": "markdown",
      "metadata": {
        "id": "SpI3NLuEtPBQ"
      },
      "source": [
        "#  <span style=\"color:orange\">  Net"
      ]
    },
    {
      "cell_type": "code",
      "metadata": {
        "id": "tWe3sNZsyUNW"
      },
      "source": [
        "class Net(nn.Module):\n",
        "    def __init__(self, cat_dims, d_model, n_head, drop, out):\n",
        "        super(Net, self).__init__()\n",
        "        assert d_model % n_head == 0\n",
        "\n",
        "        self.cont_feats = features - len(cat_dims)\n",
        "        self.x_nan      = nn.Embedding(2, d_model) # 0 ou 1\n",
        "        self.cat_emb    = nn.ModuleList([nn.Embedding(cat_dim, d_model)\n",
        "                                         for cat_dim in cat_dims])\n",
        "\n",
        "        self.actv = nn.ReLU()\n",
        "        self.drop = nn.Dropout(drop)\n",
        "        \n",
        "        self.d_model    = d_model\n",
        "        self.cont_emb   = nn.Linear(1, d_model)\n",
        "        self.pe   = nn.Embedding(features, d_model)    # Pos. emb. Treinável\n",
        "                \n",
        "        self.mha  = MultiHead(n_head, d_model, drop)\n",
        "        self.norm = nn.LayerNorm(d_model)\n",
        "        \n",
        "        self.ff   = nn.Linear(d_model, d_model//out)\n",
        "        self.fc0  = nn.Linear(d_model//out * features, d_model)\n",
        "        self.fc1  = nn.Linear(d_model, out)\n",
        "\n",
        "        # self.fc  = nn.Linear(d_model * features, out)\n",
        "\n",
        "    def forward(self, x, x_nan):\n",
        "        x_nan  = self.x_nan(x_nan.long())\n",
        "        x_cont = x[:,:self.cont_feats].unsqueeze(-1)\n",
        "        x_cont = self.cont_emb(x_cont)\n",
        "        x_cat  = torch.zeros(x.shape[0], len(cat_dims), self.d_model).to(x.device)\n",
        "       \n",
        "        for i, emb in enumerate(self.cat_emb):\n",
        "            xi = x[:, i + self.cont_feats].long()\n",
        "            xemb = emb(xi)\n",
        "            x_cat[:, i,:] = xemb\n",
        "\n",
        "        x_cont = self.mha(x_cont)\n",
        "        x_cat  = self.mha(x_cat)\n",
        "        # print(x_nan.shape)\n",
        "\n",
        "        idx   = torch.arange(end=features).to(x.device)\n",
        "        pos_e = self.pe(idx).unsqueeze(0)\n",
        "        pos_e = self.mha(x_nan + pos_e)\n",
        "        pos_e = self.norm(pos_e)\n",
        "        o = torch.cat((x_cont, x_cat), dim=1) + pos_e \n",
        "        o = self.norm(o)\n",
        "        o = self.ff(o) \n",
        "        o = self.actv(o)\n",
        "\n",
        "        o = o.view(o.shape[0], -1) \n",
        "        o = self.fc0(o) \n",
        "        o = self.actv(o)\n",
        "        o = self.drop(o)\n",
        "        return self.fc1(o) "
      ],
      "execution_count": null,
      "outputs": []
    },
    {
      "cell_type": "code",
      "metadata": {
        "id": "JBm8E5ubfaC5",
        "colab": {
          "base_uri": "https://localhost:8080/",
          "height": 34
        },
        "outputId": "8bbd608c-66f8-436a-a53d-633fc46f4fe9"
      },
      "source": [
        "D     = 256\n",
        "H     = 8\n",
        "DROP  = 0.2\n",
        "OUT   = 2\n",
        "model = Net(cat_dims, D, H, DROP, OUT)\n",
        "\n",
        "x, xnan, y = next(iter(dataloaders['debug']))\n",
        "with torch.no_grad():\n",
        "  print(model(x, xnan).shape)   "
      ],
      "execution_count": null,
      "outputs": [
        {
          "output_type": "stream",
          "text": [
            "torch.Size([128, 2])\n"
          ],
          "name": "stdout"
        }
      ]
    },
    {
      "cell_type": "code",
      "metadata": {
        "id": "rae5F8qQ4Xh2",
        "colab": {
          "base_uri": "https://localhost:8080/",
          "height": 612
        },
        "outputId": "e5dadffd-5719-4675-c98d-0151b7b3fc90"
      },
      "source": [
        "def count_parameters(model):\n",
        "    return sum(p.numel() for p in model.parameters() if p.requires_grad)\n",
        "\n",
        "print('\\n','#' * 48,f'\\n # The model has {count_parameters(model):,}' \\\n",
        "       ' trainable parameters #\\n', '#' * 48,'\\n' )  \n",
        "model"
      ],
      "execution_count": null,
      "outputs": [
        {
          "output_type": "stream",
          "text": [
            "\n",
            " ################################################ \n",
            " # The model has 785,794 trainable parameters #\n",
            " ################################################ \n",
            "\n"
          ],
          "name": "stdout"
        },
        {
          "output_type": "execute_result",
          "data": {
            "text/plain": [
              "Net(\n",
              "  (x_nan): Embedding(2, 256)\n",
              "  (cat_emb): ModuleList(\n",
              "    (0): Embedding(9, 256)\n",
              "    (1): Embedding(16, 256)\n",
              "    (2): Embedding(7, 256)\n",
              "    (3): Embedding(15, 256)\n",
              "    (4): Embedding(6, 256)\n",
              "    (5): Embedding(5, 256)\n",
              "    (6): Embedding(2, 256)\n",
              "    (7): Embedding(42, 256)\n",
              "  )\n",
              "  (actv): ReLU()\n",
              "  (drop): Dropout(p=0.2, inplace=False)\n",
              "  (cont_emb): Linear(in_features=1, out_features=256, bias=True)\n",
              "  (pe): Embedding(14, 256)\n",
              "  (mha): MultiHead(\n",
              "    (drop): Dropout(p=0.2, inplace=False)\n",
              "    (W): ModuleList(\n",
              "      (0): Linear(in_features=256, out_features=256, bias=False)\n",
              "      (1): Linear(in_features=256, out_features=256, bias=False)\n",
              "      (2): Linear(in_features=256, out_features=256, bias=False)\n",
              "      (3): Linear(in_features=256, out_features=256, bias=False)\n",
              "    )\n",
              "  )\n",
              "  (norm): LayerNorm((256,), eps=1e-05, elementwise_affine=True)\n",
              "  (ff): Linear(in_features=256, out_features=128, bias=True)\n",
              "  (fc0): Linear(in_features=1792, out_features=256, bias=True)\n",
              "  (fc1): Linear(in_features=256, out_features=2, bias=True)\n",
              ")"
            ]
          },
          "metadata": {
            "tags": []
          },
          "execution_count": 81
        }
      ]
    },
    {
      "cell_type": "markdown",
      "metadata": {
        "id": "_naW8wYZvMfm"
      },
      "source": [
        "# TransLayerClassifier"
      ]
    },
    {
      "cell_type": "code",
      "metadata": {
        "id": "Q21LagusvQWm",
        "colab": {
          "base_uri": "https://localhost:8080/",
          "height": 34
        },
        "outputId": "5537a2ee-2d22-4a2f-9788-431deda0894c"
      },
      "source": [
        "class TransModel(nn.Module):\n",
        "\n",
        "    def __init__(self, cat_dims, num_layers, out):\n",
        "        super().__init__()\n",
        "\n",
        "        self.n_cont_feats = 6\n",
        "\n",
        "        self.embs = nn.ModuleList([\n",
        "            nn.Embedding(nc, dim_) for nc in cat_dims])\n",
        "\n",
        "        self.cont_emb = nn.Linear(1, dim_, bias=False)\n",
        "\n",
        "        self.x_nan = nn.Embedding(2, dim_)\n",
        "\n",
        "        self.transformer = nn.TransformerEncoder(trans_layer, num_layers=num_layers)\n",
        "      \n",
        "        self.norm1 = nn.BatchNorm1d(features)\n",
        "      \n",
        "        self.classifier1 = nn.Linear(dim_ * features, dim_ * features)\n",
        "        self.relu1      = nn.ReLU()\n",
        "        self.dropout1    = nn.Dropout()\n",
        "        \n",
        "        self.norm2 = nn.BatchNorm1d(dim_ * features)\n",
        "        self.classifier2 = nn.Linear(dim_ * features, out)\n",
        "\n",
        "    def forward(self, x, x_nan):\n",
        "        x_nan = self.x_nan(x_nan.long())\n",
        "\n",
        "        x_cont = x[:,:self.n_cont_feats].unsqueeze(-1)\n",
        "        x_cont = self.cont_emb(x_cont)\n",
        "\n",
        "        x_cat = torch.zeros(x.shape[0], len(cat_dims), dim_).to(x.device)\n",
        "\n",
        "        for i, emb in enumerate(self.embs):\n",
        "            xi = x[:, i + self.n_cont_feats].long()\n",
        "            xemb = emb(xi)\n",
        "            x_cat[:, i,:] = xemb\n",
        "\n",
        "        x = torch.cat((x_cont, x_cat), dim=1) #+ x_nan # N, S, E\n",
        "        x = x.permute(1,0,2).contiguous() #  S, N, E\n",
        "        o = self.transformer(x)\n",
        "        o = o.permute(1,0,2).contiguous() #\n",
        "        o = self.norm1(o) \n",
        "        o = o.view(o.shape[0], -1)\n",
        "        o = self.classifier1(o)\n",
        "        o = self.norm2(o) \n",
        "        o = self.relu1(o)\n",
        "        o = self.dropout1(o)\n",
        "        o = self.classifier2(o)\n",
        "\n",
        "        return o\n",
        "\n",
        "############\n",
        "# TESTANDO\n",
        "############\n",
        "dim_ = 64\n",
        "trans_layer = nn.TransformerEncoderLayer(d_model=dim_, nhead=8, dim_feedforward=128, dropout=0.2, activation='gelu')\n",
        "model = TransModel(cat_dims,num_layers=4 , out=2)\n",
        "\n",
        "x, xnan, y = next(iter(dataloaders['debug']))\n",
        "with torch.no_grad():\n",
        "  print(model(x, xnan).shape)   "
      ],
      "execution_count": null,
      "outputs": [
        {
          "output_type": "stream",
          "text": [
            "torch.Size([64, 2])\n"
          ],
          "name": "stdout"
        }
      ]
    },
    {
      "cell_type": "code",
      "metadata": {
        "id": "Xf8Uy7qf7NLG",
        "colab": {
          "base_uri": "https://localhost:8080/",
          "height": 102
        },
        "outputId": "b19210d9-6591-4e1d-f9c9-faed93387654"
      },
      "source": [
        "def count_parameters(model):\n",
        "    return sum(p.numel() for p in model.parameters() if p.requires_grad)\n",
        "\n",
        "print('\\n','#' * 48,f'\\n # The model has {count_parameters(model):,}' \\\n",
        "       ' trainable parameters #\\n', '#' * 48,'\\n' )  \n",
        "# model"
      ],
      "execution_count": null,
      "outputs": [
        {
          "output_type": "stream",
          "text": [
            "\n",
            " ################################################ \n",
            " # The model has 947,934 trainable parameters #\n",
            " ################################################ \n",
            "\n"
          ],
          "name": "stdout"
        }
      ]
    },
    {
      "cell_type": "code",
      "metadata": {
        "id": "yvJtwUD9so_9"
      },
      "source": [
        "def train(model, device, train_loader, loss_fn, optimizer):\n",
        "    model.train()\n",
        "    loss_train = []\n",
        "    for data, x_nan, target in train_loader:\n",
        "        data, x_nan, target = data.to(device), x_nan.to(device), target.to(device)\n",
        "        optimizer.zero_grad()\n",
        "        output = model(data, x_nan)\n",
        "        loss = loss_fn(output, target)\n",
        "        loss_train.append(loss.item())\n",
        "    \n",
        "        loss.backward()\n",
        "        optimizer.step()\n",
        "  \n",
        "    ave_train_loss = sum(loss_train) / len(loss_train)\n",
        "    return ave_train_loss\n",
        "\n",
        "def test(model, device, valid_loader, loss_fn):\n",
        "    model.eval()\n",
        "    preds, trues, loss_test = [],[],[]\n",
        "    for data, x_nan, target in valid_loader:\n",
        "        with torch.no_grad():\n",
        "            data, x_nan, target = data.to(device), x_nan.to(device), target.to(device)\n",
        "            output = model(data, x_nan)\n",
        "\n",
        "        loss = loss_fn(output, target)\n",
        "        loss_test.append(loss.item())\n",
        "      \n",
        "        preds += output.argmax(-1).cpu().numpy().tolist()\n",
        "        trues += target.cpu().numpy().tolist()\n",
        "    \n",
        "    ave_test_loss = sum(loss_test) / len(loss_test)\n",
        "    \n",
        "    preds = np.array(preds)\n",
        "    trues = np.array(trues)\n",
        "    acc = (1.* (preds==trues)).mean() \n",
        "    return ave_test_loss, acc"
      ],
      "execution_count": null,
      "outputs": []
    },
    {
      "cell_type": "markdown",
      "metadata": {
        "id": "MmEdJmcOraR5"
      },
      "source": [
        "### LabelSmoothing"
      ]
    },
    {
      "cell_type": "code",
      "metadata": {
        "id": "f6YOw8sxrZnp"
      },
      "source": [
        "# Método de regularização\n",
        "class LabelSmoothing(nn.Module):\n",
        "  def __init__(self, smoothing = 0.1):\n",
        "    assert 0.0 <= smoothing < 1.0, f\"got smoothing={smoothing}\"\n",
        "    super(LabelSmoothing, self).__init__()\n",
        "    self.smoothing = smoothing\n",
        "\n",
        "  def forward(self, input, target):\n",
        "    target = target.detach()\n",
        "    log = F.log_softmax(input, dim=1)\n",
        "    oh = torch.ones_like(input).detach_()*(self.smoothing/input.size(1))\n",
        "    oh = oh.scatter_(1, target.unsqueeze(1),\n",
        "                      (1.0 - self.smoothing + self.smoothing/input.size(1)))\n",
        "    return ((-oh*log).sum(dim=1).mean())"
      ],
      "execution_count": null,
      "outputs": []
    },
    {
      "cell_type": "markdown",
      "metadata": {
        "id": "-6Jl7gDTsXlc"
      },
      "source": [
        "#  <span style=\"color:orange\">  Treino no dataloder debug (poucas amostras) - check de convergência\n",
        "\n",
        "\n",
        "\n"
      ]
    },
    {
      "cell_type": "code",
      "metadata": {
        "id": "mp6sGapiPMFL",
        "colab": {
          "base_uri": "https://localhost:8080/",
          "height": 272
        },
        "outputId": "aea01c10-7efe-4639-8c6f-eb0405b8869d"
      },
      "source": [
        "start = torch.cuda.Event(enable_timing=True)\n",
        "end = torch.cuda.Event(enable_timing=True)\n",
        "\n",
        "deterministic() \n",
        "N_EPOCHS  = 50\n",
        "D     = 256\n",
        "H     = 8\n",
        "DROP  = 0.2\n",
        "OUT   = 2\n",
        "model = Net(cat_dims, D, H, DROP, OUT).to(device)\n",
        "\n",
        "criterion = nn.CrossEntropyLoss()\n",
        "optimizer = optim.AdaBound(model.parameters())\n",
        "\n",
        "epoch, best_acc = 0,0\n",
        "\n",
        "start.record()\n",
        "for step in range(1, N_EPOCHS+1):\n",
        "    loss_t      = train(model, device, dataloaders['debug'], criterion, optimizer)\n",
        "    _,      acc = test(model, device, dataloaders['debug'], criterion)\n",
        "    if acc >= best_acc:\n",
        "        best_acc = acc\n",
        "        epoch    = step\n",
        "    if step == 1:\n",
        "        print(f'[Epoch [{step}/{N_EPOCHS}] |', end=' ')\n",
        "        print(f'Train Loss: {loss_t:.3f} -- Acc: {acc:.3f}')\n",
        "\n",
        "    if step % 10 == 0:\n",
        "        print(f'[Epoch [{step}/{N_EPOCHS}] |', end=' ')\n",
        "        print(f'Train Loss: {loss_t:.3f} -- Acc: {acc:.3f}')\n",
        "\n",
        "end.record()\n",
        "torch.cuda.synchronize()    \n",
        "\n",
        "print(f'\\nEnd of training. Best Acc: -->[{best_acc:.4f}]<--, at epoch: {epoch}\\n')\n",
        "print(f'Tempo: {start.elapsed_time(end)/1000/60 :.3f} min.')"
      ],
      "execution_count": null,
      "outputs": [
        {
          "output_type": "stream",
          "text": [
            "Deterministic experiment, seed: 0\n"
          ],
          "name": "stdout"
        },
        {
          "output_type": "stream",
          "text": [
            "/pytorch/torch/csrc/utils/python_arg_parser.cpp:756: UserWarning: This overload of add_ is deprecated:\n",
            "\tadd_(Number alpha, Tensor other)\n",
            "Consider using one of the following signatures instead:\n",
            "\tadd_(Tensor other, *, Number alpha)\n"
          ],
          "name": "stderr"
        },
        {
          "output_type": "stream",
          "text": [
            "[Epoch [1/50] | Train Loss: 0.580 -- Acc: 0.762\n",
            "[Epoch [10/50] | Train Loss: 0.294 -- Acc: 0.884\n",
            "[Epoch [20/50] | Train Loss: 0.251 -- Acc: 0.866\n",
            "[Epoch [30/50] | Train Loss: 0.255 -- Acc: 0.893\n",
            "[Epoch [40/50] | Train Loss: 0.194 -- Acc: 0.930\n",
            "[Epoch [50/50] | Train Loss: 0.158 -- Acc: 0.941\n",
            "\n",
            "End of training. Best Acc: -->[0.9460]<--, at epoch: 48\n",
            "\n",
            "Tempo: 0.621 min.\n"
          ],
          "name": "stdout"
        }
      ]
    },
    {
      "cell_type": "markdown",
      "metadata": {
        "id": "Uzzv2cdH7AqT"
      },
      "source": [
        "# Medindo o tempo com torch.cuda.Event"
      ]
    },
    {
      "cell_type": "code",
      "metadata": {
        "id": "T0g976s-7DvC",
        "colab": {
          "base_uri": "https://localhost:8080/",
          "height": 51
        },
        "outputId": "4b34df6b-8d44-457c-d717-a3f93bb1e676"
      },
      "source": [
        "# Tempos gasto no treino\n",
        "len_train = len(dataloaders['train'])*BATCH_SZ\n",
        "len_valid = len(dataloaders['valid'])*BATCH_SZ\n",
        "start = torch.cuda.Event(enable_timing=True)\n",
        "end = torch.cuda.Event(enable_timing=True)\n",
        "start.record()\n",
        "_ = train(model, device, dataloaders['train'], criterion, optimizer)\n",
        "end.record()\n",
        "torch.cuda.synchronize()    \n",
        "\n",
        "print(f'Tempo no treino em {len_train} exemplos: {start.elapsed_time(end)/1000 :.3f} seg.')\n",
        "\n",
        "# Tempos gasto no teste\n",
        "start.record()\n",
        "_, _ =  test(model, device, dataloaders['valid'], criterion)\n",
        "end.record()\n",
        "torch.cuda.synchronize()    \n",
        "\n",
        "print(f'Tempo no teste em {len_valid} exemplos: {start.elapsed_time(end)/1000 :.3f} seg.')"
      ],
      "execution_count": null,
      "outputs": [
        {
          "output_type": "stream",
          "text": [
            "Tempo no treino em 26048 exemplos: 8.663 seg.\n",
            "Tempo no teste em 6528 exemplos: 1.149 seg.\n"
          ],
          "name": "stdout"
        }
      ]
    },
    {
      "cell_type": "markdown",
      "metadata": {
        "id": "ATptaOzQDq79"
      },
      "source": [
        "### Calculando a memória"
      ]
    },
    {
      "cell_type": "code",
      "metadata": {
        "id": "57Fg24TzCLAT",
        "colab": {
          "base_uri": "https://localhost:8080/",
          "height": 34
        },
        "outputId": "54a0edc6-ec40-4376-c8f7-22305bd4482e"
      },
      "source": [
        "!pip install -q memory_profiler\n",
        "%load_ext memory_profiler"
      ],
      "execution_count": null,
      "outputs": [
        {
          "output_type": "stream",
          "text": [
            "  Building wheel for memory-profiler (setup.py) ... \u001b[?25l\u001b[?25hdone\n"
          ],
          "name": "stdout"
        }
      ]
    },
    {
      "cell_type": "code",
      "metadata": {
        "id": "fS6X4TVoDKYr",
        "colab": {
          "base_uri": "https://localhost:8080/",
          "height": 34
        },
        "outputId": "57047ae5-b090-458a-a7ed-95931dd347e0"
      },
      "source": [
        "%memit train(model, device, dataloaders['train'], criterion, optimizer)"
      ],
      "execution_count": null,
      "outputs": [
        {
          "output_type": "stream",
          "text": [
            "peak memory: 1805.80 MiB, increment: 0.04 MiB\n"
          ],
          "name": "stdout"
        }
      ]
    },
    {
      "cell_type": "code",
      "metadata": {
        "id": "jkaeBN5XDxJA",
        "colab": {
          "base_uri": "https://localhost:8080/",
          "height": 34
        },
        "outputId": "148c190d-0ab6-4c39-8822-eca154b08174"
      },
      "source": [
        "%memit test(model, device, dataloaders['valid'], criterion)"
      ],
      "execution_count": null,
      "outputs": [
        {
          "output_type": "stream",
          "text": [
            "peak memory: 1805.83 MiB, increment: 0.07 MiB\n"
          ],
          "name": "stdout"
        }
      ]
    },
    {
      "cell_type": "markdown",
      "metadata": {
        "id": "8-ZfIleCESXH"
      },
      "source": [
        "# <span style=\"color:orange\"> Treino completo"
      ]
    },
    {
      "cell_type": "code",
      "metadata": {
        "id": "IJr14D5p_H74",
        "colab": {
          "base_uri": "https://localhost:8080/",
          "height": 782
        },
        "outputId": "85f6ef2d-1573-45ac-db42-0fd6e82f5cb7"
      },
      "source": [
        "start = torch.cuda.Event(enable_timing=True)\n",
        "end = torch.cuda.Event(enable_timing=True)\n",
        "\n",
        "deterministic() \n",
        "N_EPOCHS  = 40\n",
        "D     = 256\n",
        "H     = 16\n",
        "DROP  = 0.2\n",
        "OUT   = 2\n",
        "model = Net(cat_dims, D, H, DROP, OUT).to(device)\n",
        "\n",
        "# dim_ = 32\n",
        "# trans_layer = nn.TransformerEncoderLayer(d_model=dim_, \n",
        "#                                          nhead=8, \n",
        "#                                          dim_feedforward=512, \n",
        "#                                          dropout=0.2, \n",
        "#                                          activation='gelu')\n",
        "\n",
        "# model = TransModel(cat_dims,num_layers=2 , out=2).to(device)\n",
        "\n",
        "\n",
        "# criterion = LabelSmoothing()\n",
        "\n",
        "criterion = nn.CrossEntropyLoss()\n",
        "optimizer = optim.AdaBound(model.parameters())\n",
        "\n",
        "\n",
        "epoch, best_acc = 0,0\n",
        "\n",
        "start.record()\n",
        "for step in range(1, N_EPOCHS+1):\n",
        "    loss_t      = train(model, device, dataloaders['train'], criterion, optimizer)\n",
        "    loss_v, acc =  test(model, device, dataloaders['valid'],   criterion)\n",
        "    if acc >= best_acc:\n",
        "        best_acc = acc\n",
        "        epoch    = step\n",
        "        torch.save(model.state_dict(), os.path.join('', 'epoch-{}.pth'.format(epoch)))\n",
        "    print(f'[Epoch [{step}/{N_EPOCHS}] |', end=' ')\n",
        "    print(f'Train Loss: {loss_t:.3f} -- Valid Loss: {loss_v:.3f} --',end=' ')\n",
        "    print(f'Acc: {acc:.3f}')\n",
        "\n",
        "end.record()\n",
        "torch.cuda.synchronize()    \n",
        "\n",
        "print(f'\\nEnd of training. Best Acc: -->[{best_acc:.4f}]<--, at epoch: {epoch}\\n')\n",
        "print(f'Tempo: {start.elapsed_time(end)/1000/60 :.3f} min.')"
      ],
      "execution_count": null,
      "outputs": [
        {
          "output_type": "stream",
          "text": [
            "Deterministic experiment, seed: 0\n",
            "[Epoch [1/40] | Train Loss: 0.391 -- Valid Loss: 0.344 -- Acc: 0.840\n",
            "[Epoch [2/40] | Train Loss: 0.337 -- Valid Loss: 0.342 -- Acc: 0.841\n",
            "[Epoch [3/40] | Train Loss: 0.335 -- Valid Loss: 0.335 -- Acc: 0.844\n",
            "[Epoch [4/40] | Train Loss: 0.329 -- Valid Loss: 0.335 -- Acc: 0.842\n",
            "[Epoch [5/40] | Train Loss: 0.328 -- Valid Loss: 0.336 -- Acc: 0.845\n",
            "[Epoch [6/40] | Train Loss: 0.327 -- Valid Loss: 0.339 -- Acc: 0.841\n",
            "[Epoch [7/40] | Train Loss: 0.325 -- Valid Loss: 0.333 -- Acc: 0.844\n",
            "[Epoch [8/40] | Train Loss: 0.324 -- Valid Loss: 0.330 -- Acc: 0.842\n",
            "[Epoch [9/40] | Train Loss: 0.325 -- Valid Loss: 0.329 -- Acc: 0.845\n",
            "[Epoch [10/40] | Train Loss: 0.322 -- Valid Loss: 0.329 -- Acc: 0.844\n",
            "[Epoch [11/40] | Train Loss: 0.322 -- Valid Loss: 0.331 -- Acc: 0.844\n",
            "[Epoch [12/40] | Train Loss: 0.324 -- Valid Loss: 0.329 -- Acc: 0.845\n",
            "[Epoch [13/40] | Train Loss: 0.320 -- Valid Loss: 0.328 -- Acc: 0.848\n",
            "[Epoch [14/40] | Train Loss: 0.319 -- Valid Loss: 0.329 -- Acc: 0.848\n",
            "[Epoch [15/40] | Train Loss: 0.319 -- Valid Loss: 0.330 -- Acc: 0.845\n",
            "[Epoch [16/40] | Train Loss: 0.318 -- Valid Loss: 0.327 -- Acc: 0.846\n",
            "[Epoch [17/40] | Train Loss: 0.319 -- Valid Loss: 0.329 -- Acc: 0.846\n",
            "[Epoch [18/40] | Train Loss: 0.317 -- Valid Loss: 0.329 -- Acc: 0.847\n",
            "[Epoch [19/40] | Train Loss: 0.318 -- Valid Loss: 0.327 -- Acc: 0.847\n",
            "[Epoch [20/40] | Train Loss: 0.318 -- Valid Loss: 0.329 -- Acc: 0.846\n",
            "[Epoch [21/40] | Train Loss: 0.316 -- Valid Loss: 0.328 -- Acc: 0.846\n",
            "[Epoch [22/40] | Train Loss: 0.315 -- Valid Loss: 0.330 -- Acc: 0.847\n",
            "[Epoch [23/40] | Train Loss: 0.315 -- Valid Loss: 0.327 -- Acc: 0.847\n",
            "[Epoch [24/40] | Train Loss: 0.315 -- Valid Loss: 0.330 -- Acc: 0.848\n",
            "[Epoch [25/40] | Train Loss: 0.314 -- Valid Loss: 0.331 -- Acc: 0.845\n",
            "[Epoch [26/40] | Train Loss: 0.315 -- Valid Loss: 0.329 -- Acc: 0.847\n",
            "[Epoch [27/40] | Train Loss: 0.315 -- Valid Loss: 0.330 -- Acc: 0.847\n",
            "[Epoch [28/40] | Train Loss: 0.314 -- Valid Loss: 0.327 -- Acc: 0.847\n",
            "[Epoch [29/40] | Train Loss: 0.312 -- Valid Loss: 0.329 -- Acc: 0.848\n",
            "[Epoch [30/40] | Train Loss: 0.312 -- Valid Loss: 0.332 -- Acc: 0.846\n",
            "[Epoch [31/40] | Train Loss: 0.311 -- Valid Loss: 0.335 -- Acc: 0.848\n",
            "[Epoch [32/40] | Train Loss: 0.311 -- Valid Loss: 0.334 -- Acc: 0.846\n",
            "[Epoch [33/40] | Train Loss: 0.310 -- Valid Loss: 0.332 -- Acc: 0.848\n",
            "[Epoch [34/40] | Train Loss: 0.310 -- Valid Loss: 0.331 -- Acc: 0.846\n",
            "[Epoch [35/40] | Train Loss: 0.311 -- Valid Loss: 0.336 -- Acc: 0.847\n",
            "[Epoch [36/40] | Train Loss: 0.309 -- Valid Loss: 0.334 -- Acc: 0.846\n",
            "[Epoch [37/40] | Train Loss: 0.309 -- Valid Loss: 0.337 -- Acc: 0.848\n",
            "[Epoch [38/40] | Train Loss: 0.308 -- Valid Loss: 0.335 -- Acc: 0.845\n",
            "[Epoch [39/40] | Train Loss: 0.308 -- Valid Loss: 0.334 -- Acc: 0.845\n",
            "[Epoch [40/40] | Train Loss: 0.307 -- Valid Loss: 0.332 -- Acc: 0.846\n",
            "\n",
            "End of training. Best Acc: -->[0.8485]<--, at epoch: 24\n",
            "\n",
            "Tempo: 3.132 min.\n"
          ],
          "name": "stdout"
        }
      ]
    },
    {
      "cell_type": "markdown",
      "metadata": {
        "id": "039Qjhr6LUG_"
      },
      "source": [
        "#  <span style=\"color:orange\"> Validação no conj. de teste\n"
      ]
    },
    {
      "cell_type": "code",
      "metadata": {
        "id": "HlIw4vY5drmf"
      },
      "source": [
        "def logits_and_trues(model, dataloader, device=device):\n",
        "  model.eval()\n",
        "  logits, trues = [],[]\n",
        "  for x, x_nan, y in dataloader:\n",
        "    with torch.no_grad():\n",
        "      y_pred = model(x.to(device), x_nan.to(device))\n",
        "    logits.extend(y_pred.to('cpu').numpy().tolist())\n",
        "    trues.extend(y.to('cpu').numpy().tolist())\n",
        "  return torch.tensor(logits), np.array(trues)"
      ],
      "execution_count": null,
      "outputs": []
    },
    {
      "cell_type": "code",
      "metadata": {
        "id": "fY_wyc-UiC4x",
        "colab": {
          "base_uri": "https://localhost:8080/",
          "height": 34
        },
        "outputId": "c133e5d2-2f01-4f23-aa52-535e26f83605"
      },
      "source": [
        "from sklearn.metrics import accuracy_score\n",
        "\n",
        "model = Net(cat_dims, D, H, DROP, OUT).to(device)\n",
        "# model = TransModel(cat_dims,num_layers=2 , out=2).to(device)\n",
        "\n",
        "string = '/content/epoch-24.pth'\n",
        "model.load_state_dict(torch.load(string, map_location=device))\n",
        "\n",
        "logits, trues = logits_and_trues(model, dataloaders['test'], device=device)\n",
        "prob  = F.softmax(logits, dim=1).detach().numpy()\n",
        "probs = prob[:,1]\n",
        "y      = pd.Series(trues)\n",
        "y_pred = pd.Series(probs)\n",
        "print(f'Acc = {accuracy_score(y, y_pred.round())}')"
      ],
      "execution_count": null,
      "outputs": [
        {
          "output_type": "stream",
          "text": [
            "Acc = 0.8504391622136233\n"
          ],
          "name": "stdout"
        }
      ]
    },
    {
      "cell_type": "code",
      "metadata": {
        "id": "81gX6QFOiC5M",
        "colab": {
          "base_uri": "https://localhost:8080/",
          "height": 435
        },
        "outputId": "49e0ae7c-b8e6-4a30-cc30-7d6e4341d015"
      },
      "source": [
        "from sklearn.metrics import roc_curve\n",
        "from sklearn.metrics import auc\n",
        "\n",
        "def plot_roc_curve(y, y_pred):\n",
        "  fpr, tpr,_ = roc_curve(y, y_pred)\n",
        "  roc_auc    = auc(fpr, tpr)\n",
        "  acc        = accuracy_score(y, y_pred.round())\n",
        "  \n",
        "  # plot\n",
        "  fig = plt.figure()\n",
        "  plt.figure(figsize=(15, 6))\n",
        "  plt.plot(fpr,tpr,'b',lw=2,label='%s AUC=%0.3f -- ACC=%0.3f'%('Modelo: Emb. Pos. Sinusoidal:',roc_auc, acc))\n",
        "  plt.plot([0, 1], [0, 1], 'm--')\n",
        "  \n",
        "  # decoração\n",
        "  plt.xlim([0.0, 1.0])\n",
        "  plt.xticks(fontsize=16)\n",
        "  plt.yticks(fontsize=16)\n",
        "  plt.ylim([0.0, 1.0])\n",
        "  plt.title('Encoder - MultiHeadAttention', size=18)\n",
        "  plt.xlabel('False Positive Rate', size=16)\n",
        "  plt.ylabel('True Positive Rate', size=16)\n",
        "  plt.legend(loc=0, fontsize=16)\n",
        "  plt.show()\n",
        "\n",
        "plot_roc_curve(y, y_pred)"
      ],
      "execution_count": null,
      "outputs": [
        {
          "output_type": "display_data",
          "data": {
            "text/plain": [
              "<Figure size 432x288 with 0 Axes>"
            ]
          },
          "metadata": {
            "tags": []
          }
        },
        {
          "output_type": "display_data",
          "data": {
            "image/png": "[encoded data removed]",
            "text/plain": [
              "<Figure size 1080x432 with 1 Axes>"
            ]
          },
          "metadata": {
            "tags": [],
            "needs_background": "light"
          }
        }
      ]
    },
    {
      "cell_type": "markdown",
      "metadata": {
        "id": "OS4P6Pg6g-DX"
      },
      "source": [
        "# <span style=\"color:purple\">Fim do notebook\n",
        "\n",
        "\n",
        "\n"
      ]
    },
    {
      "cell_type": "code",
      "metadata": {
        "id": "bxXZGebzfC5v"
      },
      "source": [
        ""
      ],
      "execution_count": null,
      "outputs": []
    },
    {
      "cell_type": "code",
      "metadata": {
        "id": "avk39os_fC2l"
      },
      "source": [
        ""
      ],
      "execution_count": null,
      "outputs": []
    },
    {
      "cell_type": "code",
      "metadata": {
        "id": "swhCMOogfCw1"
      },
      "source": [
        ""
      ],
      "execution_count": null,
      "outputs": []
    },
    {
      "cell_type": "code",
      "metadata": {
        "id": "7QFqxozsfCuS"
      },
      "source": [
        ""
      ],
      "execution_count": null,
      "outputs": []
    },
    {
      "cell_type": "code",
      "metadata": {
        "id": "d0unxkGIfCrb"
      },
      "source": [
        ""
      ],
      "execution_count": null,
      "outputs": []
    },
    {
      "cell_type": "code",
      "metadata": {
        "id": "3LAJDFDdfCpI"
      },
      "source": [
        ""
      ],
      "execution_count": null,
      "outputs": []
    },
    {
      "cell_type": "code",
      "metadata": {
        "id": "EezMnnCmfCmw"
      },
      "source": [
        ""
      ],
      "execution_count": null,
      "outputs": []
    },
    {
      "cell_type": "code",
      "metadata": {
        "id": "CsWVlsFSfCiy"
      },
      "source": [
        ""
      ],
      "execution_count": null,
      "outputs": []
    },
    {
      "cell_type": "code",
      "metadata": {
        "id": "_RpChkjlfCgH"
      },
      "source": [
        ""
      ],
      "execution_count": null,
      "outputs": []
    },
    {
      "cell_type": "code",
      "metadata": {
        "id": "gRBzF0WdfCdx"
      },
      "source": [
        ""
      ],
      "execution_count": null,
      "outputs": []
    },
    {
      "cell_type": "code",
      "metadata": {
        "id": "cSjsQy30fCbN"
      },
      "source": [
        ""
      ],
      "execution_count": null,
      "outputs": []
    },
    {
      "cell_type": "code",
      "metadata": {
        "id": "Ar_v6kBLabj_"
      },
      "source": [
        ""
      ],
      "execution_count": null,
      "outputs": []
    },
    {
      "cell_type": "code",
      "metadata": {
        "id": "HwVzN3O_abh1"
      },
      "source": [
        ""
      ],
      "execution_count": null,
      "outputs": []
    },
    {
      "cell_type": "code",
      "metadata": {
        "id": "IUQzAI9Jabf5"
      },
      "source": [
        ""
      ],
      "execution_count": null,
      "outputs": []
    },
    {
      "cell_type": "code",
      "metadata": {
        "id": "OjVYEQfSabc0"
      },
      "source": [
        ""
      ],
      "execution_count": null,
      "outputs": []
    },
    {
      "cell_type": "code",
      "metadata": {
        "id": "OXr7aUZVabaa"
      },
      "source": [
        ""
      ],
      "execution_count": null,
      "outputs": []
    }
  ]
}