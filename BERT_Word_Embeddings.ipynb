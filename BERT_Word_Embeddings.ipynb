{
  "nbformat": 4,
  "nbformat_minor": 0,
  "metadata": {
    "colab": {
      "name": "BERT Word Embeddings.ipynb",
      "provenance": [],
      "collapsed_sections": [],
      "toc_visible": true,
      "include_colab_link": true
    },
    "kernelspec": {
      "name": "python3",
      "display_name": "Python 3"
    },
    "accelerator": "GPU",
    "widgets": {
      "application/vnd.jupyter.widget-state+json": {
        "7435b1d24a0d47dd856c1713666769e4": {
          "model_module": "@jupyter-widgets/controls",
          "model_name": "HBoxModel",
          "state": {
            "_view_name": "HBoxView",
            "_dom_classes": [],
            "_model_name": "HBoxModel",
            "_view_module": "@jupyter-widgets/controls",
            "_model_module_version": "1.5.0",
            "_view_count": null,
            "_view_module_version": "1.5.0",
            "box_style": "",
            "layout": "IPY_MODEL_493d9dea7a874c0b9dc519bb0bbd561e",
            "_model_module": "@jupyter-widgets/controls",
            "children": [
              "IPY_MODEL_f360e6dad5234c3bbc6225379779e4ed",
              "IPY_MODEL_d42cd729e6454136884ed315e3c3ecb0"
            ]
          }
        },
        "493d9dea7a874c0b9dc519bb0bbd561e": {
          "model_module": "@jupyter-widgets/base",
          "model_name": "LayoutModel",
          "state": {
            "_view_name": "LayoutView",
            "grid_template_rows": null,
            "right": null,
            "justify_content": null,
            "_view_module": "@jupyter-widgets/base",
            "overflow": null,
            "_model_module_version": "1.2.0",
            "_view_count": null,
            "flex_flow": null,
            "width": null,
            "min_width": null,
            "border": null,
            "align_items": null,
            "bottom": null,
            "_model_module": "@jupyter-widgets/base",
            "top": null,
            "grid_column": null,
            "overflow_y": null,
            "overflow_x": null,
            "grid_auto_flow": null,
            "grid_area": null,
            "grid_template_columns": null,
            "flex": null,
            "_model_name": "LayoutModel",
            "justify_items": null,
            "grid_row": null,
            "max_height": null,
            "align_content": null,
            "visibility": null,
            "align_self": null,
            "height": null,
            "min_height": null,
            "padding": null,
            "grid_auto_rows": null,
            "grid_gap": null,
            "max_width": null,
            "order": null,
            "_view_module_version": "1.2.0",
            "grid_template_areas": null,
            "object_position": null,
            "object_fit": null,
            "grid_auto_columns": null,
            "margin": null,
            "display": null,
            "left": null
          }
        },
        "f360e6dad5234c3bbc6225379779e4ed": {
          "model_module": "@jupyter-widgets/controls",
          "model_name": "FloatProgressModel",
          "state": {
            "_view_name": "ProgressView",
            "style": "IPY_MODEL_70f70e2f763d47c296430b468136de96",
            "_dom_classes": [],
            "description": "Downloading: 100%",
            "_model_name": "FloatProgressModel",
            "bar_style": "success",
            "max": 209528,
            "_view_module": "@jupyter-widgets/controls",
            "_model_module_version": "1.5.0",
            "value": 209528,
            "_view_count": null,
            "_view_module_version": "1.5.0",
            "orientation": "horizontal",
            "min": 0,
            "description_tooltip": null,
            "_model_module": "@jupyter-widgets/controls",
            "layout": "IPY_MODEL_8389a7d1d90d476c925ab605995c9e3b"
          }
        },
        "d42cd729e6454136884ed315e3c3ecb0": {
          "model_module": "@jupyter-widgets/controls",
          "model_name": "HTMLModel",
          "state": {
            "_view_name": "HTMLView",
            "style": "IPY_MODEL_135c54f574de4121963b825864bee371",
            "_dom_classes": [],
            "description": "",
            "_model_name": "HTMLModel",
            "placeholder": "​",
            "_view_module": "@jupyter-widgets/controls",
            "_model_module_version": "1.5.0",
            "value": " 210k/210k [00:06&lt;00:00, 34.3kB/s]",
            "_view_count": null,
            "_view_module_version": "1.5.0",
            "description_tooltip": null,
            "_model_module": "@jupyter-widgets/controls",
            "layout": "IPY_MODEL_cb6c61a6b8204672ae11fb614d6426c3"
          }
        },
        "70f70e2f763d47c296430b468136de96": {
          "model_module": "@jupyter-widgets/controls",
          "model_name": "ProgressStyleModel",
          "state": {
            "_view_name": "StyleView",
            "_model_name": "ProgressStyleModel",
            "description_width": "initial",
            "_view_module": "@jupyter-widgets/base",
            "_model_module_version": "1.5.0",
            "_view_count": null,
            "_view_module_version": "1.2.0",
            "bar_color": null,
            "_model_module": "@jupyter-widgets/controls"
          }
        },
        "8389a7d1d90d476c925ab605995c9e3b": {
          "model_module": "@jupyter-widgets/base",
          "model_name": "LayoutModel",
          "state": {
            "_view_name": "LayoutView",
            "grid_template_rows": null,
            "right": null,
            "justify_content": null,
            "_view_module": "@jupyter-widgets/base",
            "overflow": null,
            "_model_module_version": "1.2.0",
            "_view_count": null,
            "flex_flow": null,
            "width": null,
            "min_width": null,
            "border": null,
            "align_items": null,
            "bottom": null,
            "_model_module": "@jupyter-widgets/base",
            "top": null,
            "grid_column": null,
            "overflow_y": null,
            "overflow_x": null,
            "grid_auto_flow": null,
            "grid_area": null,
            "grid_template_columns": null,
            "flex": null,
            "_model_name": "LayoutModel",
            "justify_items": null,
            "grid_row": null,
            "max_height": null,
            "align_content": null,
            "visibility": null,
            "align_self": null,
            "height": null,
            "min_height": null,
            "padding": null,
            "grid_auto_rows": null,
            "grid_gap": null,
            "max_width": null,
            "order": null,
            "_view_module_version": "1.2.0",
            "grid_template_areas": null,
            "object_position": null,
            "object_fit": null,
            "grid_auto_columns": null,
            "margin": null,
            "display": null,
            "left": null
          }
        },
        "135c54f574de4121963b825864bee371": {
          "model_module": "@jupyter-widgets/controls",
          "model_name": "DescriptionStyleModel",
          "state": {
            "_view_name": "StyleView",
            "_model_name": "DescriptionStyleModel",
            "description_width": "",
            "_view_module": "@jupyter-widgets/base",
            "_model_module_version": "1.5.0",
            "_view_count": null,
            "_view_module_version": "1.2.0",
            "_model_module": "@jupyter-widgets/controls"
          }
        },
        "cb6c61a6b8204672ae11fb614d6426c3": {
          "model_module": "@jupyter-widgets/base",
          "model_name": "LayoutModel",
          "state": {
            "_view_name": "LayoutView",
            "grid_template_rows": null,
            "right": null,
            "justify_content": null,
            "_view_module": "@jupyter-widgets/base",
            "overflow": null,
            "_model_module_version": "1.2.0",
            "_view_count": null,
            "flex_flow": null,
            "width": null,
            "min_width": null,
            "border": null,
            "align_items": null,
            "bottom": null,
            "_model_module": "@jupyter-widgets/base",
            "top": null,
            "grid_column": null,
            "overflow_y": null,
            "overflow_x": null,
            "grid_auto_flow": null,
            "grid_area": null,
            "grid_template_columns": null,
            "flex": null,
            "_model_name": "LayoutModel",
            "justify_items": null,
            "grid_row": null,
            "max_height": null,
            "align_content": null,
            "visibility": null,
            "align_self": null,
            "height": null,
            "min_height": null,
            "padding": null,
            "grid_auto_rows": null,
            "grid_gap": null,
            "max_width": null,
            "order": null,
            "_view_module_version": "1.2.0",
            "grid_template_areas": null,
            "object_position": null,
            "object_fit": null,
            "grid_auto_columns": null,
            "margin": null,
            "display": null,
            "left": null
          }
        },
        "76bc67adb2124408ad769f582a5ff494": {
          "model_module": "@jupyter-widgets/controls",
          "model_name": "HBoxModel",
          "state": {
            "_view_name": "HBoxView",
            "_dom_classes": [],
            "_model_name": "HBoxModel",
            "_view_module": "@jupyter-widgets/controls",
            "_model_module_version": "1.5.0",
            "_view_count": null,
            "_view_module_version": "1.5.0",
            "box_style": "",
            "layout": "IPY_MODEL_d6e17832a44a4ba99bec14ce86424915",
            "_model_module": "@jupyter-widgets/controls",
            "children": [
              "IPY_MODEL_c84917f4499a40539c7acaad06eea305",
              "IPY_MODEL_a9d31ed5a13b47b398ad37bc3f726c5b"
            ]
          }
        },
        "d6e17832a44a4ba99bec14ce86424915": {
          "model_module": "@jupyter-widgets/base",
          "model_name": "LayoutModel",
          "state": {
            "_view_name": "LayoutView",
            "grid_template_rows": null,
            "right": null,
            "justify_content": null,
            "_view_module": "@jupyter-widgets/base",
            "overflow": null,
            "_model_module_version": "1.2.0",
            "_view_count": null,
            "flex_flow": null,
            "width": null,
            "min_width": null,
            "border": null,
            "align_items": null,
            "bottom": null,
            "_model_module": "@jupyter-widgets/base",
            "top": null,
            "grid_column": null,
            "overflow_y": null,
            "overflow_x": null,
            "grid_auto_flow": null,
            "grid_area": null,
            "grid_template_columns": null,
            "flex": null,
            "_model_name": "LayoutModel",
            "justify_items": null,
            "grid_row": null,
            "max_height": null,
            "align_content": null,
            "visibility": null,
            "align_self": null,
            "height": null,
            "min_height": null,
            "padding": null,
            "grid_auto_rows": null,
            "grid_gap": null,
            "max_width": null,
            "order": null,
            "_view_module_version": "1.2.0",
            "grid_template_areas": null,
            "object_position": null,
            "object_fit": null,
            "grid_auto_columns": null,
            "margin": null,
            "display": null,
            "left": null
          }
        },
        "c84917f4499a40539c7acaad06eea305": {
          "model_module": "@jupyter-widgets/controls",
          "model_name": "FloatProgressModel",
          "state": {
            "_view_name": "ProgressView",
            "style": "IPY_MODEL_9988c7a580f749f3b4af44c641cb438a",
            "_dom_classes": [],
            "description": "Downloading: 100%",
            "_model_name": "FloatProgressModel",
            "bar_style": "success",
            "max": 2,
            "_view_module": "@jupyter-widgets/controls",
            "_model_module_version": "1.5.0",
            "value": 2,
            "_view_count": null,
            "_view_module_version": "1.5.0",
            "orientation": "horizontal",
            "min": 0,
            "description_tooltip": null,
            "_model_module": "@jupyter-widgets/controls",
            "layout": "IPY_MODEL_0cae52b66287472db57d27a5792164fc"
          }
        },
        "a9d31ed5a13b47b398ad37bc3f726c5b": {
          "model_module": "@jupyter-widgets/controls",
          "model_name": "HTMLModel",
          "state": {
            "_view_name": "HTMLView",
            "style": "IPY_MODEL_bd0b95d80a904895b14ca794f0563698",
            "_dom_classes": [],
            "description": "",
            "_model_name": "HTMLModel",
            "placeholder": "​",
            "_view_module": "@jupyter-widgets/controls",
            "_model_module_version": "1.5.0",
            "value": " 2.00/2.00 [00:01&lt;00:00, 1.26B/s]",
            "_view_count": null,
            "_view_module_version": "1.5.0",
            "description_tooltip": null,
            "_model_module": "@jupyter-widgets/controls",
            "layout": "IPY_MODEL_dc75890376454e599567793e7f733c35"
          }
        },
        "9988c7a580f749f3b4af44c641cb438a": {
          "model_module": "@jupyter-widgets/controls",
          "model_name": "ProgressStyleModel",
          "state": {
            "_view_name": "StyleView",
            "_model_name": "ProgressStyleModel",
            "description_width": "initial",
            "_view_module": "@jupyter-widgets/base",
            "_model_module_version": "1.5.0",
            "_view_count": null,
            "_view_module_version": "1.2.0",
            "bar_color": null,
            "_model_module": "@jupyter-widgets/controls"
          }
        },
        "0cae52b66287472db57d27a5792164fc": {
          "model_module": "@jupyter-widgets/base",
          "model_name": "LayoutModel",
          "state": {
            "_view_name": "LayoutView",
            "grid_template_rows": null,
            "right": null,
            "justify_content": null,
            "_view_module": "@jupyter-widgets/base",
            "overflow": null,
            "_model_module_version": "1.2.0",
            "_view_count": null,
            "flex_flow": null,
            "width": null,
            "min_width": null,
            "border": null,
            "align_items": null,
            "bottom": null,
            "_model_module": "@jupyter-widgets/base",
            "top": null,
            "grid_column": null,
            "overflow_y": null,
            "overflow_x": null,
            "grid_auto_flow": null,
            "grid_area": null,
            "grid_template_columns": null,
            "flex": null,
            "_model_name": "LayoutModel",
            "justify_items": null,
            "grid_row": null,
            "max_height": null,
            "align_content": null,
            "visibility": null,
            "align_self": null,
            "height": null,
            "min_height": null,
            "padding": null,
            "grid_auto_rows": null,
            "grid_gap": null,
            "max_width": null,
            "order": null,
            "_view_module_version": "1.2.0",
            "grid_template_areas": null,
            "object_position": null,
            "object_fit": null,
            "grid_auto_columns": null,
            "margin": null,
            "display": null,
            "left": null
          }
        },
        "bd0b95d80a904895b14ca794f0563698": {
          "model_module": "@jupyter-widgets/controls",
          "model_name": "DescriptionStyleModel",
          "state": {
            "_view_name": "StyleView",
            "_model_name": "DescriptionStyleModel",
            "description_width": "",
            "_view_module": "@jupyter-widgets/base",
            "_model_module_version": "1.5.0",
            "_view_count": null,
            "_view_module_version": "1.2.0",
            "_model_module": "@jupyter-widgets/controls"
          }
        },
        "dc75890376454e599567793e7f733c35": {
          "model_module": "@jupyter-widgets/base",
          "model_name": "LayoutModel",
          "state": {
            "_view_name": "LayoutView",
            "grid_template_rows": null,
            "right": null,
            "justify_content": null,
            "_view_module": "@jupyter-widgets/base",
            "overflow": null,
            "_model_module_version": "1.2.0",
            "_view_count": null,
            "flex_flow": null,
            "width": null,
            "min_width": null,
            "border": null,
            "align_items": null,
            "bottom": null,
            "_model_module": "@jupyter-widgets/base",
            "top": null,
            "grid_column": null,
            "overflow_y": null,
            "overflow_x": null,
            "grid_auto_flow": null,
            "grid_area": null,
            "grid_template_columns": null,
            "flex": null,
            "_model_name": "LayoutModel",
            "justify_items": null,
            "grid_row": null,
            "max_height": null,
            "align_content": null,
            "visibility": null,
            "align_self": null,
            "height": null,
            "min_height": null,
            "padding": null,
            "grid_auto_rows": null,
            "grid_gap": null,
            "max_width": null,
            "order": null,
            "_view_module_version": "1.2.0",
            "grid_template_areas": null,
            "object_position": null,
            "object_fit": null,
            "grid_auto_columns": null,
            "margin": null,
            "display": null,
            "left": null
          }
        },
        "d3732a2a74f04552a99faae9559ce788": {
          "model_module": "@jupyter-widgets/controls",
          "model_name": "HBoxModel",
          "state": {
            "_view_name": "HBoxView",
            "_dom_classes": [],
            "_model_name": "HBoxModel",
            "_view_module": "@jupyter-widgets/controls",
            "_model_module_version": "1.5.0",
            "_view_count": null,
            "_view_module_version": "1.5.0",
            "box_style": "",
            "layout": "IPY_MODEL_3d9819ecfaed40fba1cabaa1c75cd526",
            "_model_module": "@jupyter-widgets/controls",
            "children": [
              "IPY_MODEL_ce0447badf334fcaaf29faf402f1738b",
              "IPY_MODEL_b2ba9e629972452da7202ea1638caf0d"
            ]
          }
        },
        "3d9819ecfaed40fba1cabaa1c75cd526": {
          "model_module": "@jupyter-widgets/base",
          "model_name": "LayoutModel",
          "state": {
            "_view_name": "LayoutView",
            "grid_template_rows": null,
            "right": null,
            "justify_content": null,
            "_view_module": "@jupyter-widgets/base",
            "overflow": null,
            "_model_module_version": "1.2.0",
            "_view_count": null,
            "flex_flow": null,
            "width": null,
            "min_width": null,
            "border": null,
            "align_items": null,
            "bottom": null,
            "_model_module": "@jupyter-widgets/base",
            "top": null,
            "grid_column": null,
            "overflow_y": null,
            "overflow_x": null,
            "grid_auto_flow": null,
            "grid_area": null,
            "grid_template_columns": null,
            "flex": null,
            "_model_name": "LayoutModel",
            "justify_items": null,
            "grid_row": null,
            "max_height": null,
            "align_content": null,
            "visibility": null,
            "align_self": null,
            "height": null,
            "min_height": null,
            "padding": null,
            "grid_auto_rows": null,
            "grid_gap": null,
            "max_width": null,
            "order": null,
            "_view_module_version": "1.2.0",
            "grid_template_areas": null,
            "object_position": null,
            "object_fit": null,
            "grid_auto_columns": null,
            "margin": null,
            "display": null,
            "left": null
          }
        },
        "ce0447badf334fcaaf29faf402f1738b": {
          "model_module": "@jupyter-widgets/controls",
          "model_name": "FloatProgressModel",
          "state": {
            "_view_name": "ProgressView",
            "style": "IPY_MODEL_e9e5d2437e4043c7ad7220904fcf9ddf",
            "_dom_classes": [],
            "description": "Downloading: 100%",
            "_model_name": "FloatProgressModel",
            "bar_style": "success",
            "max": 112,
            "_view_module": "@jupyter-widgets/controls",
            "_model_module_version": "1.5.0",
            "value": 112,
            "_view_count": null,
            "_view_module_version": "1.5.0",
            "orientation": "horizontal",
            "min": 0,
            "description_tooltip": null,
            "_model_module": "@jupyter-widgets/controls",
            "layout": "IPY_MODEL_197dc46d1b49436aa198664b24e4001d"
          }
        },
        "b2ba9e629972452da7202ea1638caf0d": {
          "model_module": "@jupyter-widgets/controls",
          "model_name": "HTMLModel",
          "state": {
            "_view_name": "HTMLView",
            "style": "IPY_MODEL_5edb69fde0be469bbc5b04c956c50e98",
            "_dom_classes": [],
            "description": "",
            "_model_name": "HTMLModel",
            "placeholder": "​",
            "_view_module": "@jupyter-widgets/controls",
            "_model_module_version": "1.5.0",
            "value": " 112/112 [00:02&lt;00:00, 46.3B/s]",
            "_view_count": null,
            "_view_module_version": "1.5.0",
            "description_tooltip": null,
            "_model_module": "@jupyter-widgets/controls",
            "layout": "IPY_MODEL_97b7493fd20f41bdba4cd85f1b675332"
          }
        },
        "e9e5d2437e4043c7ad7220904fcf9ddf": {
          "model_module": "@jupyter-widgets/controls",
          "model_name": "ProgressStyleModel",
          "state": {
            "_view_name": "StyleView",
            "_model_name": "ProgressStyleModel",
            "description_width": "initial",
            "_view_module": "@jupyter-widgets/base",
            "_model_module_version": "1.5.0",
            "_view_count": null,
            "_view_module_version": "1.2.0",
            "bar_color": null,
            "_model_module": "@jupyter-widgets/controls"
          }
        },
        "197dc46d1b49436aa198664b24e4001d": {
          "model_module": "@jupyter-widgets/base",
          "model_name": "LayoutModel",
          "state": {
            "_view_name": "LayoutView",
            "grid_template_rows": null,
            "right": null,
            "justify_content": null,
            "_view_module": "@jupyter-widgets/base",
            "overflow": null,
            "_model_module_version": "1.2.0",
            "_view_count": null,
            "flex_flow": null,
            "width": null,
            "min_width": null,
            "border": null,
            "align_items": null,
            "bottom": null,
            "_model_module": "@jupyter-widgets/base",
            "top": null,
            "grid_column": null,
            "overflow_y": null,
            "overflow_x": null,
            "grid_auto_flow": null,
            "grid_area": null,
            "grid_template_columns": null,
            "flex": null,
            "_model_name": "LayoutModel",
            "justify_items": null,
            "grid_row": null,
            "max_height": null,
            "align_content": null,
            "visibility": null,
            "align_self": null,
            "height": null,
            "min_height": null,
            "padding": null,
            "grid_auto_rows": null,
            "grid_gap": null,
            "max_width": null,
            "order": null,
            "_view_module_version": "1.2.0",
            "grid_template_areas": null,
            "object_position": null,
            "object_fit": null,
            "grid_auto_columns": null,
            "margin": null,
            "display": null,
            "left": null
          }
        },
        "5edb69fde0be469bbc5b04c956c50e98": {
          "model_module": "@jupyter-widgets/controls",
          "model_name": "DescriptionStyleModel",
          "state": {
            "_view_name": "StyleView",
            "_model_name": "DescriptionStyleModel",
            "description_width": "",
            "_view_module": "@jupyter-widgets/base",
            "_model_module_version": "1.5.0",
            "_view_count": null,
            "_view_module_version": "1.2.0",
            "_model_module": "@jupyter-widgets/controls"
          }
        },
        "97b7493fd20f41bdba4cd85f1b675332": {
          "model_module": "@jupyter-widgets/base",
          "model_name": "LayoutModel",
          "state": {
            "_view_name": "LayoutView",
            "grid_template_rows": null,
            "right": null,
            "justify_content": null,
            "_view_module": "@jupyter-widgets/base",
            "overflow": null,
            "_model_module_version": "1.2.0",
            "_view_count": null,
            "flex_flow": null,
            "width": null,
            "min_width": null,
            "border": null,
            "align_items": null,
            "bottom": null,
            "_model_module": "@jupyter-widgets/base",
            "top": null,
            "grid_column": null,
            "overflow_y": null,
            "overflow_x": null,
            "grid_auto_flow": null,
            "grid_area": null,
            "grid_template_columns": null,
            "flex": null,
            "_model_name": "LayoutModel",
            "justify_items": null,
            "grid_row": null,
            "max_height": null,
            "align_content": null,
            "visibility": null,
            "align_self": null,
            "height": null,
            "min_height": null,
            "padding": null,
            "grid_auto_rows": null,
            "grid_gap": null,
            "max_width": null,
            "order": null,
            "_view_module_version": "1.2.0",
            "grid_template_areas": null,
            "object_position": null,
            "object_fit": null,
            "grid_auto_columns": null,
            "margin": null,
            "display": null,
            "left": null
          }
        },
        "57ea958db169407685406850755eb878": {
          "model_module": "@jupyter-widgets/controls",
          "model_name": "HBoxModel",
          "state": {
            "_view_name": "HBoxView",
            "_dom_classes": [],
            "_model_name": "HBoxModel",
            "_view_module": "@jupyter-widgets/controls",
            "_model_module_version": "1.5.0",
            "_view_count": null,
            "_view_module_version": "1.5.0",
            "box_style": "",
            "layout": "IPY_MODEL_0008658bae334384a7210a4cc4b3fb14",
            "_model_module": "@jupyter-widgets/controls",
            "children": [
              "IPY_MODEL_94e680899c7746a9988a16c50dbd8a55",
              "IPY_MODEL_71494873a8bb4f5fb25d45499b97f254"
            ]
          }
        },
        "0008658bae334384a7210a4cc4b3fb14": {
          "model_module": "@jupyter-widgets/base",
          "model_name": "LayoutModel",
          "state": {
            "_view_name": "LayoutView",
            "grid_template_rows": null,
            "right": null,
            "justify_content": null,
            "_view_module": "@jupyter-widgets/base",
            "overflow": null,
            "_model_module_version": "1.2.0",
            "_view_count": null,
            "flex_flow": null,
            "width": null,
            "min_width": null,
            "border": null,
            "align_items": null,
            "bottom": null,
            "_model_module": "@jupyter-widgets/base",
            "top": null,
            "grid_column": null,
            "overflow_y": null,
            "overflow_x": null,
            "grid_auto_flow": null,
            "grid_area": null,
            "grid_template_columns": null,
            "flex": null,
            "_model_name": "LayoutModel",
            "justify_items": null,
            "grid_row": null,
            "max_height": null,
            "align_content": null,
            "visibility": null,
            "align_self": null,
            "height": null,
            "min_height": null,
            "padding": null,
            "grid_auto_rows": null,
            "grid_gap": null,
            "max_width": null,
            "order": null,
            "_view_module_version": "1.2.0",
            "grid_template_areas": null,
            "object_position": null,
            "object_fit": null,
            "grid_auto_columns": null,
            "margin": null,
            "display": null,
            "left": null
          }
        },
        "94e680899c7746a9988a16c50dbd8a55": {
          "model_module": "@jupyter-widgets/controls",
          "model_name": "FloatProgressModel",
          "state": {
            "_view_name": "ProgressView",
            "style": "IPY_MODEL_255a903fe8764b859f9428846a08499c",
            "_dom_classes": [],
            "description": "Downloading: 100%",
            "_model_name": "FloatProgressModel",
            "bar_style": "success",
            "max": 43,
            "_view_module": "@jupyter-widgets/controls",
            "_model_module_version": "1.5.0",
            "value": 43,
            "_view_count": null,
            "_view_module_version": "1.5.0",
            "orientation": "horizontal",
            "min": 0,
            "description_tooltip": null,
            "_model_module": "@jupyter-widgets/controls",
            "layout": "IPY_MODEL_3719c7f1f3064a03b8d5f92cf164c2c6"
          }
        },
        "71494873a8bb4f5fb25d45499b97f254": {
          "model_module": "@jupyter-widgets/controls",
          "model_name": "HTMLModel",
          "state": {
            "_view_name": "HTMLView",
            "style": "IPY_MODEL_abb17ac9d5294f82ad3bf5aed1f0e9ed",
            "_dom_classes": [],
            "description": "",
            "_model_name": "HTMLModel",
            "placeholder": "​",
            "_view_module": "@jupyter-widgets/controls",
            "_model_module_version": "1.5.0",
            "value": " 43.0/43.0 [00:00&lt;00:00, 51.2B/s]",
            "_view_count": null,
            "_view_module_version": "1.5.0",
            "description_tooltip": null,
            "_model_module": "@jupyter-widgets/controls",
            "layout": "IPY_MODEL_dc330ddeb461424bb6076e5c757dc83d"
          }
        },
        "255a903fe8764b859f9428846a08499c": {
          "model_module": "@jupyter-widgets/controls",
          "model_name": "ProgressStyleModel",
          "state": {
            "_view_name": "StyleView",
            "_model_name": "ProgressStyleModel",
            "description_width": "initial",
            "_view_module": "@jupyter-widgets/base",
            "_model_module_version": "1.5.0",
            "_view_count": null,
            "_view_module_version": "1.2.0",
            "bar_color": null,
            "_model_module": "@jupyter-widgets/controls"
          }
        },
        "3719c7f1f3064a03b8d5f92cf164c2c6": {
          "model_module": "@jupyter-widgets/base",
          "model_name": "LayoutModel",
          "state": {
            "_view_name": "LayoutView",
            "grid_template_rows": null,
            "right": null,
            "justify_content": null,
            "_view_module": "@jupyter-widgets/base",
            "overflow": null,
            "_model_module_version": "1.2.0",
            "_view_count": null,
            "flex_flow": null,
            "width": null,
            "min_width": null,
            "border": null,
            "align_items": null,
            "bottom": null,
            "_model_module": "@jupyter-widgets/base",
            "top": null,
            "grid_column": null,
            "overflow_y": null,
            "overflow_x": null,
            "grid_auto_flow": null,
            "grid_area": null,
            "grid_template_columns": null,
            "flex": null,
            "_model_name": "LayoutModel",
            "justify_items": null,
            "grid_row": null,
            "max_height": null,
            "align_content": null,
            "visibility": null,
            "align_self": null,
            "height": null,
            "min_height": null,
            "padding": null,
            "grid_auto_rows": null,
            "grid_gap": null,
            "max_width": null,
            "order": null,
            "_view_module_version": "1.2.0",
            "grid_template_areas": null,
            "object_position": null,
            "object_fit": null,
            "grid_auto_columns": null,
            "margin": null,
            "display": null,
            "left": null
          }
        },
        "abb17ac9d5294f82ad3bf5aed1f0e9ed": {
          "model_module": "@jupyter-widgets/controls",
          "model_name": "DescriptionStyleModel",
          "state": {
            "_view_name": "StyleView",
            "_model_name": "DescriptionStyleModel",
            "description_width": "",
            "_view_module": "@jupyter-widgets/base",
            "_model_module_version": "1.5.0",
            "_view_count": null,
            "_view_module_version": "1.2.0",
            "_model_module": "@jupyter-widgets/controls"
          }
        },
        "dc330ddeb461424bb6076e5c757dc83d": {
          "model_module": "@jupyter-widgets/base",
          "model_name": "LayoutModel",
          "state": {
            "_view_name": "LayoutView",
            "grid_template_rows": null,
            "right": null,
            "justify_content": null,
            "_view_module": "@jupyter-widgets/base",
            "overflow": null,
            "_model_module_version": "1.2.0",
            "_view_count": null,
            "flex_flow": null,
            "width": null,
            "min_width": null,
            "border": null,
            "align_items": null,
            "bottom": null,
            "_model_module": "@jupyter-widgets/base",
            "top": null,
            "grid_column": null,
            "overflow_y": null,
            "overflow_x": null,
            "grid_auto_flow": null,
            "grid_area": null,
            "grid_template_columns": null,
            "flex": null,
            "_model_name": "LayoutModel",
            "justify_items": null,
            "grid_row": null,
            "max_height": null,
            "align_content": null,
            "visibility": null,
            "align_self": null,
            "height": null,
            "min_height": null,
            "padding": null,
            "grid_auto_rows": null,
            "grid_gap": null,
            "max_width": null,
            "order": null,
            "_view_module_version": "1.2.0",
            "grid_template_areas": null,
            "object_position": null,
            "object_fit": null,
            "grid_auto_columns": null,
            "margin": null,
            "display": null,
            "left": null
          }
        },
        "2a5ffb80b27844e7ac77038f0c8ee67a": {
          "model_module": "@jupyter-widgets/controls",
          "model_name": "HBoxModel",
          "state": {
            "_view_name": "HBoxView",
            "_dom_classes": [],
            "_model_name": "HBoxModel",
            "_view_module": "@jupyter-widgets/controls",
            "_model_module_version": "1.5.0",
            "_view_count": null,
            "_view_module_version": "1.5.0",
            "box_style": "",
            "layout": "IPY_MODEL_b4f6f06db3624c1d937101c95001d8dc",
            "_model_module": "@jupyter-widgets/controls",
            "children": [
              "IPY_MODEL_8cdc9e2f31f54630b06794d6fa1a00b0",
              "IPY_MODEL_e963da60f1504063b166bc5e7ec20bf8"
            ]
          }
        },
        "b4f6f06db3624c1d937101c95001d8dc": {
          "model_module": "@jupyter-widgets/base",
          "model_name": "LayoutModel",
          "state": {
            "_view_name": "LayoutView",
            "grid_template_rows": null,
            "right": null,
            "justify_content": null,
            "_view_module": "@jupyter-widgets/base",
            "overflow": null,
            "_model_module_version": "1.2.0",
            "_view_count": null,
            "flex_flow": null,
            "width": null,
            "min_width": null,
            "border": null,
            "align_items": null,
            "bottom": null,
            "_model_module": "@jupyter-widgets/base",
            "top": null,
            "grid_column": null,
            "overflow_y": null,
            "overflow_x": null,
            "grid_auto_flow": null,
            "grid_area": null,
            "grid_template_columns": null,
            "flex": null,
            "_model_name": "LayoutModel",
            "justify_items": null,
            "grid_row": null,
            "max_height": null,
            "align_content": null,
            "visibility": null,
            "align_self": null,
            "height": null,
            "min_height": null,
            "padding": null,
            "grid_auto_rows": null,
            "grid_gap": null,
            "max_width": null,
            "order": null,
            "_view_module_version": "1.2.0",
            "grid_template_areas": null,
            "object_position": null,
            "object_fit": null,
            "grid_auto_columns": null,
            "margin": null,
            "display": null,
            "left": null
          }
        },
        "8cdc9e2f31f54630b06794d6fa1a00b0": {
          "model_module": "@jupyter-widgets/controls",
          "model_name": "FloatProgressModel",
          "state": {
            "_view_name": "ProgressView",
            "style": "IPY_MODEL_e6dd887a38df4e75babab220c04c9556",
            "_dom_classes": [],
            "description": "Downloading: 100%",
            "_model_name": "FloatProgressModel",
            "bar_style": "success",
            "max": 647,
            "_view_module": "@jupyter-widgets/controls",
            "_model_module_version": "1.5.0",
            "value": 647,
            "_view_count": null,
            "_view_module_version": "1.5.0",
            "orientation": "horizontal",
            "min": 0,
            "description_tooltip": null,
            "_model_module": "@jupyter-widgets/controls",
            "layout": "IPY_MODEL_59f6206bc8b04de7930760b67847a867"
          }
        },
        "e963da60f1504063b166bc5e7ec20bf8": {
          "model_module": "@jupyter-widgets/controls",
          "model_name": "HTMLModel",
          "state": {
            "_view_name": "HTMLView",
            "style": "IPY_MODEL_469e617b3b7f451d9a39161f4c7bac10",
            "_dom_classes": [],
            "description": "",
            "_model_name": "HTMLModel",
            "placeholder": "​",
            "_view_module": "@jupyter-widgets/controls",
            "_model_module_version": "1.5.0",
            "value": " 647/647 [00:00&lt;00:00, 4.57kB/s]",
            "_view_count": null,
            "_view_module_version": "1.5.0",
            "description_tooltip": null,
            "_model_module": "@jupyter-widgets/controls",
            "layout": "IPY_MODEL_1cee73991ed54c20b7d0ee43d036aa6f"
          }
        },
        "e6dd887a38df4e75babab220c04c9556": {
          "model_module": "@jupyter-widgets/controls",
          "model_name": "ProgressStyleModel",
          "state": {
            "_view_name": "StyleView",
            "_model_name": "ProgressStyleModel",
            "description_width": "initial",
            "_view_module": "@jupyter-widgets/base",
            "_model_module_version": "1.5.0",
            "_view_count": null,
            "_view_module_version": "1.2.0",
            "bar_color": null,
            "_model_module": "@jupyter-widgets/controls"
          }
        },
        "59f6206bc8b04de7930760b67847a867": {
          "model_module": "@jupyter-widgets/base",
          "model_name": "LayoutModel",
          "state": {
            "_view_name": "LayoutView",
            "grid_template_rows": null,
            "right": null,
            "justify_content": null,
            "_view_module": "@jupyter-widgets/base",
            "overflow": null,
            "_model_module_version": "1.2.0",
            "_view_count": null,
            "flex_flow": null,
            "width": null,
            "min_width": null,
            "border": null,
            "align_items": null,
            "bottom": null,
            "_model_module": "@jupyter-widgets/base",
            "top": null,
            "grid_column": null,
            "overflow_y": null,
            "overflow_x": null,
            "grid_auto_flow": null,
            "grid_area": null,
            "grid_template_columns": null,
            "flex": null,
            "_model_name": "LayoutModel",
            "justify_items": null,
            "grid_row": null,
            "max_height": null,
            "align_content": null,
            "visibility": null,
            "align_self": null,
            "height": null,
            "min_height": null,
            "padding": null,
            "grid_auto_rows": null,
            "grid_gap": null,
            "max_width": null,
            "order": null,
            "_view_module_version": "1.2.0",
            "grid_template_areas": null,
            "object_position": null,
            "object_fit": null,
            "grid_auto_columns": null,
            "margin": null,
            "display": null,
            "left": null
          }
        },
        "469e617b3b7f451d9a39161f4c7bac10": {
          "model_module": "@jupyter-widgets/controls",
          "model_name": "DescriptionStyleModel",
          "state": {
            "_view_name": "StyleView",
            "_model_name": "DescriptionStyleModel",
            "description_width": "",
            "_view_module": "@jupyter-widgets/base",
            "_model_module_version": "1.5.0",
            "_view_count": null,
            "_view_module_version": "1.2.0",
            "_model_module": "@jupyter-widgets/controls"
          }
        },
        "1cee73991ed54c20b7d0ee43d036aa6f": {
          "model_module": "@jupyter-widgets/base",
          "model_name": "LayoutModel",
          "state": {
            "_view_name": "LayoutView",
            "grid_template_rows": null,
            "right": null,
            "justify_content": null,
            "_view_module": "@jupyter-widgets/base",
            "overflow": null,
            "_model_module_version": "1.2.0",
            "_view_count": null,
            "flex_flow": null,
            "width": null,
            "min_width": null,
            "border": null,
            "align_items": null,
            "bottom": null,
            "_model_module": "@jupyter-widgets/base",
            "top": null,
            "grid_column": null,
            "overflow_y": null,
            "overflow_x": null,
            "grid_auto_flow": null,
            "grid_area": null,
            "grid_template_columns": null,
            "flex": null,
            "_model_name": "LayoutModel",
            "justify_items": null,
            "grid_row": null,
            "max_height": null,
            "align_content": null,
            "visibility": null,
            "align_self": null,
            "height": null,
            "min_height": null,
            "padding": null,
            "grid_auto_rows": null,
            "grid_gap": null,
            "max_width": null,
            "order": null,
            "_view_module_version": "1.2.0",
            "grid_template_areas": null,
            "object_position": null,
            "object_fit": null,
            "grid_auto_columns": null,
            "margin": null,
            "display": null,
            "left": null
          }
        },
        "071979c113d54c14bf6daea4401e4c57": {
          "model_module": "@jupyter-widgets/controls",
          "model_name": "HBoxModel",
          "state": {
            "_view_name": "HBoxView",
            "_dom_classes": [],
            "_model_name": "HBoxModel",
            "_view_module": "@jupyter-widgets/controls",
            "_model_module_version": "1.5.0",
            "_view_count": null,
            "_view_module_version": "1.5.0",
            "box_style": "",
            "layout": "IPY_MODEL_9fb7eed11e0e48d6b521aa5de121f28c",
            "_model_module": "@jupyter-widgets/controls",
            "children": [
              "IPY_MODEL_fabba672b64f469ba3521cd52c2477d7",
              "IPY_MODEL_ee7572616cd84dac85f702643f7dcfa5"
            ]
          }
        },
        "9fb7eed11e0e48d6b521aa5de121f28c": {
          "model_module": "@jupyter-widgets/base",
          "model_name": "LayoutModel",
          "state": {
            "_view_name": "LayoutView",
            "grid_template_rows": null,
            "right": null,
            "justify_content": null,
            "_view_module": "@jupyter-widgets/base",
            "overflow": null,
            "_model_module_version": "1.2.0",
            "_view_count": null,
            "flex_flow": null,
            "width": null,
            "min_width": null,
            "border": null,
            "align_items": null,
            "bottom": null,
            "_model_module": "@jupyter-widgets/base",
            "top": null,
            "grid_column": null,
            "overflow_y": null,
            "overflow_x": null,
            "grid_auto_flow": null,
            "grid_area": null,
            "grid_template_columns": null,
            "flex": null,
            "_model_name": "LayoutModel",
            "justify_items": null,
            "grid_row": null,
            "max_height": null,
            "align_content": null,
            "visibility": null,
            "align_self": null,
            "height": null,
            "min_height": null,
            "padding": null,
            "grid_auto_rows": null,
            "grid_gap": null,
            "max_width": null,
            "order": null,
            "_view_module_version": "1.2.0",
            "grid_template_areas": null,
            "object_position": null,
            "object_fit": null,
            "grid_auto_columns": null,
            "margin": null,
            "display": null,
            "left": null
          }
        },
        "fabba672b64f469ba3521cd52c2477d7": {
          "model_module": "@jupyter-widgets/controls",
          "model_name": "FloatProgressModel",
          "state": {
            "_view_name": "ProgressView",
            "style": "IPY_MODEL_d3253ff88b6040838ca3dc87f63c9421",
            "_dom_classes": [],
            "description": "Downloading: 100%",
            "_model_name": "FloatProgressModel",
            "bar_style": "success",
            "max": 438235074,
            "_view_module": "@jupyter-widgets/controls",
            "_model_module_version": "1.5.0",
            "value": 438235074,
            "_view_count": null,
            "_view_module_version": "1.5.0",
            "orientation": "horizontal",
            "min": 0,
            "description_tooltip": null,
            "_model_module": "@jupyter-widgets/controls",
            "layout": "IPY_MODEL_5a08ebc11ece427bbed36cd9beb322bb"
          }
        },
        "ee7572616cd84dac85f702643f7dcfa5": {
          "model_module": "@jupyter-widgets/controls",
          "model_name": "HTMLModel",
          "state": {
            "_view_name": "HTMLView",
            "style": "IPY_MODEL_7c91205d364b45a9aad0c832438c5142",
            "_dom_classes": [],
            "description": "",
            "_model_name": "HTMLModel",
            "placeholder": "​",
            "_view_module": "@jupyter-widgets/controls",
            "_model_module_version": "1.5.0",
            "value": " 438M/438M [00:16&lt;00:00, 27.2MB/s]",
            "_view_count": null,
            "_view_module_version": "1.5.0",
            "description_tooltip": null,
            "_model_module": "@jupyter-widgets/controls",
            "layout": "IPY_MODEL_5c72cc42897b4e72a3aa22659656a7aa"
          }
        },
        "d3253ff88b6040838ca3dc87f63c9421": {
          "model_module": "@jupyter-widgets/controls",
          "model_name": "ProgressStyleModel",
          "state": {
            "_view_name": "StyleView",
            "_model_name": "ProgressStyleModel",
            "description_width": "initial",
            "_view_module": "@jupyter-widgets/base",
            "_model_module_version": "1.5.0",
            "_view_count": null,
            "_view_module_version": "1.2.0",
            "bar_color": null,
            "_model_module": "@jupyter-widgets/controls"
          }
        },
        "5a08ebc11ece427bbed36cd9beb322bb": {
          "model_module": "@jupyter-widgets/base",
          "model_name": "LayoutModel",
          "state": {
            "_view_name": "LayoutView",
            "grid_template_rows": null,
            "right": null,
            "justify_content": null,
            "_view_module": "@jupyter-widgets/base",
            "overflow": null,
            "_model_module_version": "1.2.0",
            "_view_count": null,
            "flex_flow": null,
            "width": null,
            "min_width": null,
            "border": null,
            "align_items": null,
            "bottom": null,
            "_model_module": "@jupyter-widgets/base",
            "top": null,
            "grid_column": null,
            "overflow_y": null,
            "overflow_x": null,
            "grid_auto_flow": null,
            "grid_area": null,
            "grid_template_columns": null,
            "flex": null,
            "_model_name": "LayoutModel",
            "justify_items": null,
            "grid_row": null,
            "max_height": null,
            "align_content": null,
            "visibility": null,
            "align_self": null,
            "height": null,
            "min_height": null,
            "padding": null,
            "grid_auto_rows": null,
            "grid_gap": null,
            "max_width": null,
            "order": null,
            "_view_module_version": "1.2.0",
            "grid_template_areas": null,
            "object_position": null,
            "object_fit": null,
            "grid_auto_columns": null,
            "margin": null,
            "display": null,
            "left": null
          }
        },
        "7c91205d364b45a9aad0c832438c5142": {
          "model_module": "@jupyter-widgets/controls",
          "model_name": "DescriptionStyleModel",
          "state": {
            "_view_name": "StyleView",
            "_model_name": "DescriptionStyleModel",
            "description_width": "",
            "_view_module": "@jupyter-widgets/base",
            "_model_module_version": "1.5.0",
            "_view_count": null,
            "_view_module_version": "1.2.0",
            "_model_module": "@jupyter-widgets/controls"
          }
        },
        "5c72cc42897b4e72a3aa22659656a7aa": {
          "model_module": "@jupyter-widgets/base",
          "model_name": "LayoutModel",
          "state": {
            "_view_name": "LayoutView",
            "grid_template_rows": null,
            "right": null,
            "justify_content": null,
            "_view_module": "@jupyter-widgets/base",
            "overflow": null,
            "_model_module_version": "1.2.0",
            "_view_count": null,
            "flex_flow": null,
            "width": null,
            "min_width": null,
            "border": null,
            "align_items": null,
            "bottom": null,
            "_model_module": "@jupyter-widgets/base",
            "top": null,
            "grid_column": null,
            "overflow_y": null,
            "overflow_x": null,
            "grid_auto_flow": null,
            "grid_area": null,
            "grid_template_columns": null,
            "flex": null,
            "_model_name": "LayoutModel",
            "justify_items": null,
            "grid_row": null,
            "max_height": null,
            "align_content": null,
            "visibility": null,
            "align_self": null,
            "height": null,
            "min_height": null,
            "padding": null,
            "grid_auto_rows": null,
            "grid_gap": null,
            "max_width": null,
            "order": null,
            "_view_module_version": "1.2.0",
            "grid_template_areas": null,
            "object_position": null,
            "object_fit": null,
            "grid_auto_columns": null,
            "margin": null,
            "display": null,
            "left": null
          }
        }
      }
    }
  },
  "cells": [
    {
      "cell_type": "markdown",
      "metadata": {
        "id": "view-in-github",
        "colab_type": "text"
      },
      "source": [
        "<a href=\"https://colab.research.google.com/github/finardi/tutos/blob/master/BERT_Word_Embeddings.ipynb\" target=\"_parent\"><img src=\"https://colab.research.google.com/assets/colab-badge.svg\" alt=\"Open In Colab\"/></a>"
      ]
    },
    {
      "cell_type": "markdown",
      "metadata": {
        "id": "Xj7YyxIMk-y2",
        "colab_type": "text"
      },
      "source": [
        "# <font color='purple'>Esse texto é baseado nos seguintes blogs / artigos </font>\n",
        "1. <font color='red'>Artigo BERT:</font> https://arxiv.org/abs/1810.04805\n",
        "2. <font color='red'>Google’s Neural Machine Translation System:</font> https://arxiv.org/pdf/1609.08144.pdf\n",
        "3. <font color='red'>Blog $-$ MLExplained:</font> http://mlexplained.com/2019/01/07/paper-dissected-bert-pre-training-of-deep-bidirectional-transformers-for-language-understanding-explained/\n",
        "4. <font color='red'>Blog $-$ Chris McCormick and Nick Ryan:</font> https://mccormickml.com/2019/05/14/BERT-word-embeddings-tutorial/"
      ]
    },
    {
      "cell_type": "markdown",
      "metadata": {
        "id": "OSba-AVG1x53",
        "colab_type": "text"
      },
      "source": [
        "# <font color='purple'> **BERT** - principais ideias </font>\n",
        "\n",
        "**TL;DR**\n",
        "- #### A Language Model (LM) é um método de treinamento eficaz para o uso de dados não rotulados para pré-treinar redes neurais de NLP\n",
        "- #### Modelos de LM tradicionais usam os $n$ tokens anteriores para fazer a previsão do pŕoximo. Em contraste, o BERT usa Masked Language Model (MLM) que leva em consideração os tokens anteriores e próximos <font color='purple'> __ao mesmo tempo__</font> para fazer uma predição, que leva a uma predição com contexto.\n",
        "- #### O BERT também é treinado em uma tarefa de previsão de próxima sentença para lidar melhor com tarefas que exigem raciocínio sobre o relacionamento entre duas frases (task de pergunta e resposta)\n",
        "- #### O BERT usa a arquitetura Transformer para codificar sentenças.\n",
        "- #### O BERT tem melhor desempenho quando recebe mais parâmetros, mesmo em conjuntos de dados pequenos."
      ]
    },
    {
      "cell_type": "markdown",
      "metadata": {
        "id": "c4sYJLy37mYp",
        "colab_type": "text"
      },
      "source": [
        "## <font color='purple'> Transfer Learning em NLP </font>\n",
        "#### Antes do ELMo e BERT, o pré-treinamento em NLP era limitado ao word-embeddings como _word2vec_ e _GloVe_. A ideia principal desses métodos é mapear cada palavra para um vetor que representa alguns aspectos de seu significado (por exemplo, o vetor para __King__ inclui informações sobre status, sexo etc., e esse método funciona bem, porém ainda existe o problema de contexto, por exemplo a palavra  <font color='red'> banco </font> pode ter muitos significados, mas em _word2vec_ ela sempre será representada com o mesmo vetor de embeddings. \n"
      ]
    },
    {
      "cell_type": "markdown",
      "metadata": {
        "id": "Ex-a85hn13nF",
        "colab_type": "text"
      },
      "source": [
        "## Ideia básica de treinamento do BERT $-$ Masked Language Model (MLM):\n",
        "\n",
        "- #### <font color='orange'> **Predizer a palavra mascarada:** </font>\n",
        "\n",
        "#### Sem cerimônias, dado uma sentença e seu contexto, a MLM prediz a probabilidade de uma palavra ocorrer dentro desse contexto, exemplo:\n",
        "\n",
        "> #### <font color='green'> _Gostaria de aumentar meu $[MASK]$_ do cartão. </font>\n",
        "\n",
        "#### Em geral as LM tradicionais treinam sentenças da \"esquerda para a direita\". Elas recebem uma sequência de palavras e precisam prever a próxima palavra, exemplo:\n",
        "> #### <font color='green'> Gostaria de aumentar meu ___ .</font> \n",
        "\n",
        "#### A LM tradicional tenta prever a palavra  em <font color='green'> ___</font>. Essa abordagem é eficaz quando realmente queremos gerar sentenças. Podemos prever a próxima palavra, anexá-la à sequência atual e prever a próxima...\n",
        "\n",
        "#### No entanto, não há necessidade do treinamento possuir a regra \"da esquerda para a direita\" quando _não_ estamos interessados ​​em gerar sentenças. Essa é uma das principais características do BERT: _em vez de prever a próxima palavra após uma sequência de palavras, o BERT oculta (mask) aleatoriamente as palavras na sentença e as prevê._\n",
        "\n",
        "---\n",
        "\n",
        "### <font color='gray'> **Por que esse método é eficaz?** </font>\n",
        "> #### Esse método força o modelo a aprender o contexto da sentença para deduzir quais palavras estão faltando.\n",
        "\n",
        "#### Quando comparamos o <font color='blue'>B</font>ERT com LSTM <font color='blue'>B</font>idirecionais, notamos que as LSTMs treinam a sentença \"da esquerda para a direita\" e também \"da direita para a esquerda\". A diferença crucial entre o treinamento do BERT e da LSTM é que o BERT utiliza informações de toda a sentença de forma simultânea $-$ independentemente da posição."
      ]
    },
    {
      "cell_type": "markdown",
      "metadata": {
        "id": "RF2wKtJN13kb",
        "colab_type": "text"
      },
      "source": [
        "####![image.png](data:image/png;base64,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)"
      ]
    },
    {
      "cell_type": "markdown",
      "metadata": {
        "id": "ZU4_7iQm13iD",
        "colab_type": "text"
      },
      "source": [
        "## <font color='purple'> WordPiece e tokenização </font>\n",
        "#### Um detalhe importante é que o BERT usa wordpiece, dessa forma a palavra **playing** se torna **play** + ##**ing**. A wordpiece é eficaz na redução do tamanho do vocabulário e aumenta a quantidade de dados disponíveis para cada palavra\n",
        "\n",
        "#### Para tokenizar uma palavra com o método wordpiece, primeiro verifica se a palavra inteira está no vocabulário. Caso contrário, o tokenizador tenta dividir a palavra nas maiores subpalavras possíveis contidas no vocabulário e, como último recurso, decompõe a palavra em caracteres individuais. Observe que, por isso, sempre podemos representar uma palavra como, no mínimo, a coleção de seus caracteres individuais.\n",
        "\n",
        "#### Como resultado, em vez de atribuir palavras do vocabulário a um token genérico como $[UNK]$, as palavras que não estão no vocabulário são decompostas em subpalavras e tokens de caracteres para os quais podemos gerar embeddings.\n",
        "\n",
        "#### Por exemplo, o tokenizador pode dividir a palavra <font color='green'>$embeddings$</font> nos seguintes tokens: [<font color='green'>'$em$'</font>, <font color='green'>'##$bed$'</font>, <font color='green'>'##$ding$'</font>, <font color='green'>'##$s$'</font> ] que reterão parte do significado contextual da palavra original. Podemos até calcular a média desses vetores de embeddings de subpalavras para gerar um vetor aproximado para a palavra original."
      ]
    },
    {
      "cell_type": "markdown",
      "metadata": {
        "id": "-F6DaWf_13fB",
        "colab_type": "text"
      },
      "source": [
        "## <font color='purple'> Modelo </font>\n",
        "\n",
        "#### <font color='red'>**1**.</font> Token especial, $[SEP]$\n",
        "> Que marca o final de uma frase ou a separação entre duas frases\n",
        "#### <font color='red'>**2**.</font> Token especial, $[CLS]$\n",
        "> Usado no início do texto. É uma representação agregada para tarefas de classificação e está sempre presente em todas as tarefas do BERT.\n",
        "#### <font color='red'>**3**.</font> Tokens do texto $-$ os IDs do tokenizer\n",
        "#### <font color='red'>**4**.</font> IDs de máscara \n",
        "> que indicam quais elementos na sequência são tokens e quais são elementos de padding.\n",
        "#### <font color='red'>**5**.</font> IDs de segmento\n",
        "> Usado para distinguir frases diferentes, o BERT é pré-treinado em pares de sentenças, uma sentença recebe 0's (de mesmo tamanho da sequência) e outra sentença recebe 1's, dessa forma o BERT consegue identificar qual sentença é da pergunta e qual é da resposta.\n",
        "#### <font color='red'>**6**.</font> Embeddings posicionais \n",
        "> Usado para mostrar a posição do token na sequência,  como o transformer não possui uma estrutura de recorrência (igual a LSTM), uma frase que começa e termina com a mesma palavra, poderia ter o mesmo significado sem o uso dos embeddings posicionais, por exemplo: \n",
        " - <font color='brown'>Dados</font> é a matéria prima dos Cientista de <font color='brown'>Dados</font>."
      ]
    },
    {
      "cell_type": "markdown",
      "metadata": {
        "id": "KIzdqDInh_IF",
        "colab_type": "text"
      },
      "source": [
        "![image.png](data:image/png;base64,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)"
      ]
    },
    {
      "cell_type": "markdown",
      "metadata": {
        "id": "UWez_2k1h_Qx",
        "colab_type": "text"
      },
      "source": [
        "## <font color='purple'> Fine Tunning </font>\n",
        "\n",
        "#### O BERT é só o encoder, ele produz uma sequência de estados ocultos. Para tarefas de classificação, essa sequência precisa ser reduzida a um único vetor. Existem várias maneiras de converter essa sequência em uma única representação vetorial de uma frase como o max pool ou average pool. No entanto, os autores optaram por um método mais simples: simplesmente pegar o estado oculto correspondente ao primeiro token, ou seja, pegar o token $[CLS]$\n",
        "\n"
      ]
    },
    {
      "cell_type": "markdown",
      "metadata": {
        "id": "0AbkrimYh_ZT",
        "colab_type": "text"
      },
      "source": [
        "#### Os autores do BERT testaram algumas estratégias de fine-tunning para uma BiLSTM na tarefa de NER com a métrica F$_1$"
      ]
    },
    {
      "cell_type": "markdown",
      "metadata": {
        "id": "2rzkMZWDh_iQ",
        "colab_type": "text"
      },
      "source": [
        "![image.png](data:image/png;base64,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)\n"
      ]
    },
    {
      "cell_type": "markdown",
      "metadata": {
        "id": "s_bMEPxvh_td",
        "colab_type": "text"
      },
      "source": [
        "# <font color='purple'> Extraindo Embeddings do **BERT** </font>\n",
        "\n",
        "> Vamos usar o BERT pré-treinado da _Hugging Face_ com o tokenizador em Português **BERTinbau**"
      ]
    },
    {
      "cell_type": "code",
      "metadata": {
        "id": "NsC0KH8th_2I",
        "colab_type": "code",
        "colab": {
          "base_uri": "https://localhost:8080/",
          "height": 102
        },
        "outputId": "39767c16-f441-48e0-da8b-634ae116e42b"
      },
      "source": [
        "!pip install -q transformers "
      ],
      "execution_count": null,
      "outputs": [
        {
          "output_type": "stream",
          "text": [
            "\u001b[K     |████████████████████████████████| 778kB 2.7MB/s \n",
            "\u001b[K     |████████████████████████████████| 890kB 12.9MB/s \n",
            "\u001b[K     |████████████████████████████████| 1.1MB 17.9MB/s \n",
            "\u001b[K     |████████████████████████████████| 3.0MB 24.0MB/s \n",
            "\u001b[?25h  Building wheel for sacremoses (setup.py) ... \u001b[?25l\u001b[?25hdone\n"
          ],
          "name": "stdout"
        }
      ]
    },
    {
      "cell_type": "code",
      "metadata": {
        "id": "lJEnBJ3gHTsQ",
        "colab_type": "code",
        "colab": {
          "base_uri": "https://localhost:8080/",
          "height": 213,
          "referenced_widgets": [
            "7435b1d24a0d47dd856c1713666769e4",
            "493d9dea7a874c0b9dc519bb0bbd561e",
            "f360e6dad5234c3bbc6225379779e4ed",
            "d42cd729e6454136884ed315e3c3ecb0",
            "70f70e2f763d47c296430b468136de96",
            "8389a7d1d90d476c925ab605995c9e3b",
            "135c54f574de4121963b825864bee371",
            "cb6c61a6b8204672ae11fb614d6426c3",
            "76bc67adb2124408ad769f582a5ff494",
            "d6e17832a44a4ba99bec14ce86424915",
            "c84917f4499a40539c7acaad06eea305",
            "a9d31ed5a13b47b398ad37bc3f726c5b",
            "9988c7a580f749f3b4af44c641cb438a",
            "0cae52b66287472db57d27a5792164fc",
            "bd0b95d80a904895b14ca794f0563698",
            "dc75890376454e599567793e7f733c35",
            "d3732a2a74f04552a99faae9559ce788",
            "3d9819ecfaed40fba1cabaa1c75cd526",
            "ce0447badf334fcaaf29faf402f1738b",
            "b2ba9e629972452da7202ea1638caf0d",
            "e9e5d2437e4043c7ad7220904fcf9ddf",
            "197dc46d1b49436aa198664b24e4001d",
            "5edb69fde0be469bbc5b04c956c50e98",
            "97b7493fd20f41bdba4cd85f1b675332",
            "57ea958db169407685406850755eb878",
            "0008658bae334384a7210a4cc4b3fb14",
            "94e680899c7746a9988a16c50dbd8a55",
            "71494873a8bb4f5fb25d45499b97f254",
            "255a903fe8764b859f9428846a08499c",
            "3719c7f1f3064a03b8d5f92cf164c2c6",
            "abb17ac9d5294f82ad3bf5aed1f0e9ed",
            "dc330ddeb461424bb6076e5c757dc83d"
          ]
        },
        "outputId": "8646baca-1147-44c3-bb48-9ae5f304b556"
      },
      "source": [
        "import torch\n",
        "from transformers import BertTokenizer, BertModel\n",
        "\n",
        "import matplotlib.pyplot as plt\n",
        "% matplotlib inline\n",
        "\n",
        "# Load pre-trained model tokenizer (vocabulary)\n",
        "model_name = 'neuralmind/bert-base-portuguese-cased'\n",
        "tokenizer = BertTokenizer.from_pretrained(model_name)"
      ],
      "execution_count": null,
      "outputs": [
        {
          "output_type": "display_data",
          "data": {
            "application/vnd.jupyter.widget-view+json": {
              "model_id": "7435b1d24a0d47dd856c1713666769e4",
              "version_minor": 0,
              "version_major": 2
            },
            "text/plain": [
              "HBox(children=(FloatProgress(value=0.0, description='Downloading', max=209528.0, style=ProgressStyle(descripti…"
            ]
          },
          "metadata": {
            "tags": []
          }
        },
        {
          "output_type": "stream",
          "text": [
            "\n"
          ],
          "name": "stdout"
        },
        {
          "output_type": "display_data",
          "data": {
            "application/vnd.jupyter.widget-view+json": {
              "model_id": "76bc67adb2124408ad769f582a5ff494",
              "version_minor": 0,
              "version_major": 2
            },
            "text/plain": [
              "HBox(children=(FloatProgress(value=0.0, description='Downloading', max=2.0, style=ProgressStyle(description_wi…"
            ]
          },
          "metadata": {
            "tags": []
          }
        },
        {
          "output_type": "stream",
          "text": [
            "\n"
          ],
          "name": "stdout"
        },
        {
          "output_type": "display_data",
          "data": {
            "application/vnd.jupyter.widget-view+json": {
              "model_id": "d3732a2a74f04552a99faae9559ce788",
              "version_minor": 0,
              "version_major": 2
            },
            "text/plain": [
              "HBox(children=(FloatProgress(value=0.0, description='Downloading', max=112.0, style=ProgressStyle(description_…"
            ]
          },
          "metadata": {
            "tags": []
          }
        },
        {
          "output_type": "stream",
          "text": [
            "\n"
          ],
          "name": "stdout"
        },
        {
          "output_type": "display_data",
          "data": {
            "application/vnd.jupyter.widget-view+json": {
              "model_id": "57ea958db169407685406850755eb878",
              "version_minor": 0,
              "version_major": 2
            },
            "text/plain": [
              "HBox(children=(FloatProgress(value=0.0, description='Downloading', max=43.0, style=ProgressStyle(description_w…"
            ]
          },
          "metadata": {
            "tags": []
          }
        },
        {
          "output_type": "stream",
          "text": [
            "\n"
          ],
          "name": "stdout"
        }
      ]
    },
    {
      "cell_type": "code",
      "metadata": {
        "id": "1z1SzuTrqx-7",
        "colab_type": "code",
        "colab": {
          "base_uri": "https://localhost:8080/",
          "height": 272
        },
        "outputId": "72723c2a-3322-4265-efec-7c9e1241d1f5"
      },
      "source": [
        "# analisando algumas palavras\n",
        "list(tokenizer.vocab.keys())[2500:2515]"
      ],
      "execution_count": null,
      "outputs": [
        {
          "output_type": "execute_result",
          "data": {
            "text/plain": [
              "['conver',\n",
              " 'Tem',\n",
              " 'Lei',\n",
              " 'membro',\n",
              " 'time',\n",
              " 'musical',\n",
              " '23',\n",
              " '##lmente',\n",
              " 'comum',\n",
              " 'brasileira',\n",
              " 'ge',\n",
              " 'Mais',\n",
              " '##tí',\n",
              " '##ater',\n",
              " 'tão']"
            ]
          },
          "metadata": {
            "tags": []
          },
          "execution_count": 3
        }
      ]
    },
    {
      "cell_type": "markdown",
      "metadata": {
        "id": "Sp09I7n1qxnU",
        "colab_type": "text"
      },
      "source": [
        "## <font color='purple'> Amostra de texto </font>\n",
        "> ### <font color='green'> O <font color='dark orange'>_banco_</font> possui o melhor atendimento digital, podemos acessar o <font color='dark orange'>_banco_</font> até mesmo sentado em um <font color='dark orange'>_banco_</font> da praça.\n",
        "\n",
        "#### Note que na sentença, a palavra <font color='dark orange'>_banco_</font> possui signicados diferentes.\n"
      ]
    },
    {
      "cell_type": "code",
      "metadata": {
        "id": "Uo0aA14zsV2-",
        "colab_type": "code",
        "colab": {
          "base_uri": "https://localhost:8080/",
          "height": 425
        },
        "outputId": "cb2f0ed7-00d5-436f-851f-f139c10064b9"
      },
      "source": [
        "text = 'O banco possui o melhor atendimento digital, podemos ' \\\n",
        "       'acessar o banco até mesmo sentado em um banco da praça.'\n",
        "\n",
        "# Add the special tokens.\n",
        "marked_text = \"[CLS] \" + text + \" [SEP]\"\n",
        "\n",
        "# Split the sentence into tokens.\n",
        "tokenized_text = tokenizer.tokenize(marked_text)\n",
        "\n",
        "# Map the token strings to their vocabulary indices.\n",
        "indexed_tokens = tokenizer.convert_tokens_to_ids(tokenized_text)\n",
        "\n",
        "# Display the words with their indices.\n",
        "for tup in zip(tokenized_text, indexed_tokens):\n",
        "    print(f'{tup[0] :<12} {tup[1]:>6}')"
      ],
      "execution_count": null,
      "outputs": [
        {
          "output_type": "stream",
          "text": [
            "[CLS]           101\n",
            "O               231\n",
            "banco          6465\n",
            "possui         1776\n",
            "o               146\n",
            "melhor         1407\n",
            "atendimento   11289\n",
            "digital        4876\n",
            ",               117\n",
            "podemos        7105\n",
            "acess          5352\n",
            "##ar            159\n",
            "o               146\n",
            "banco          6465\n",
            "até             548\n",
            "mesmo           653\n",
            "sentado       21541\n",
            "em              173\n",
            "um              222\n",
            "banco          6465\n",
            "da              180\n",
            "praça          6357\n",
            ".               119\n",
            "[SEP]           102\n"
          ],
          "name": "stdout"
        }
      ]
    },
    {
      "cell_type": "markdown",
      "metadata": {
        "id": "if6C_iCULU60",
        "colab_type": "text"
      },
      "source": [
        "##  <font color='purple'> Segment ID</font>\n",
        "\n",
        "#### O BERT é treinado em pares de frases, usando $1s$ e $0s$ para distinguir as duas frases. Ou seja, para cada token em \"tokenized_text\", devemos especificar a qual frase pertence: sentença $0$ (uma série de $0s$) ou sentença $1$ (uma série de $1s$). Para nossos propósitos, as entradas de sentença única requerem apenas uma série de $1s$; portanto, criaremos um vetor de $1s$ para cada token em nossa frase de entrada.\n",
        "\n",
        "#### <font color='red'>Obs.:</font> Se você deseja processar duas frases, atribua cada palavra na primeira frase mais o token $[SEP]$ a 0 e todos os tokens da segunda frase a 1."
      ]
    },
    {
      "cell_type": "code",
      "metadata": {
        "id": "u_jEkVKxJMc0",
        "colab_type": "code",
        "colab": {
          "base_uri": "https://localhost:8080/",
          "height": 51
        },
        "outputId": "c87b350d-4fd7-47a2-f0d6-30597ff23626"
      },
      "source": [
        "print(len(tokenized_text))\n",
        "\n",
        "# Mark each of the 24 tokens as belonging to sentence \"1\".\n",
        "segments_ids = [1] * len(tokenized_text)\n",
        "\n",
        "print (segments_ids)"
      ],
      "execution_count": null,
      "outputs": [
        {
          "output_type": "stream",
          "text": [
            "24\n",
            "[1, 1, 1, 1, 1, 1, 1, 1, 1, 1, 1, 1, 1, 1, 1, 1, 1, 1, 1, 1, 1, 1, 1, 1]\n"
          ],
          "name": "stdout"
        }
      ]
    },
    {
      "cell_type": "markdown",
      "metadata": {
        "id": "c-nY9LASLr2L",
        "colab_type": "text"
      },
      "source": [
        "## <font color='purple'> Extracting Embeddings \n",
        "#### Em seguida, precisamos converter nossos dados em tensores e chamar o modelo BERT. \n",
        "\n",
        "\n"
      ]
    },
    {
      "cell_type": "code",
      "metadata": {
        "id": "E_t4cM6KLc98",
        "colab_type": "code",
        "colab": {}
      },
      "source": [
        "# Convert inputs to PyTorch tensors\n",
        "tokens_tensor = torch.tensor([indexed_tokens])\n",
        "segments_tensors = torch.tensor([segments_ids])"
      ],
      "execution_count": null,
      "outputs": []
    },
    {
      "cell_type": "markdown",
      "metadata": {
        "id": "UCIGe0AXfg4Z",
        "colab_type": "text"
      },
      "source": [
        "#### Chamar `from_pretrained` buscará o modelo na Internet. Quando carregamos o `bert-base-portuguese-cased`, vemos a definição do modelo impressa no log. O modelo é uma rede neural profunda com 12 camadas. \n",
        "\n",
        "#### `model.eval()` coloca o modelo no modo de avaliação em oposição ao modo de treinamento. Nesse caso, o modo de avaliação desativa a regularização dropout, que é usada no treinamento."
      ]
    },
    {
      "cell_type": "code",
      "metadata": {
        "id": "Mq2PKplWfbFv",
        "colab_type": "code",
        "colab": {
          "base_uri": "https://localhost:8080/",
          "height": 1000,
          "referenced_widgets": [
            "2a5ffb80b27844e7ac77038f0c8ee67a",
            "b4f6f06db3624c1d937101c95001d8dc",
            "8cdc9e2f31f54630b06794d6fa1a00b0",
            "e963da60f1504063b166bc5e7ec20bf8",
            "e6dd887a38df4e75babab220c04c9556",
            "59f6206bc8b04de7930760b67847a867",
            "469e617b3b7f451d9a39161f4c7bac10",
            "1cee73991ed54c20b7d0ee43d036aa6f",
            "071979c113d54c14bf6daea4401e4c57",
            "9fb7eed11e0e48d6b521aa5de121f28c",
            "fabba672b64f469ba3521cd52c2477d7",
            "ee7572616cd84dac85f702643f7dcfa5",
            "d3253ff88b6040838ca3dc87f63c9421",
            "5a08ebc11ece427bbed36cd9beb322bb",
            "7c91205d364b45a9aad0c832438c5142",
            "5c72cc42897b4e72a3aa22659656a7aa"
          ]
        },
        "outputId": "b882a338-bd66-46f4-e0e8-9ce72928c53e"
      },
      "source": [
        "# Load pre-trained model (weights)\n",
        "model = BertModel.from_pretrained(model_name,\n",
        "                                  output_hidden_states = True, # Whether the model returns all hidden-states.\n",
        "                                  )\n",
        "\n",
        "# Put the model in \"evaluation\" mode, meaning feed-forward operation.\n",
        "model.eval()"
      ],
      "execution_count": null,
      "outputs": [
        {
          "output_type": "display_data",
          "data": {
            "application/vnd.jupyter.widget-view+json": {
              "model_id": "2a5ffb80b27844e7ac77038f0c8ee67a",
              "version_minor": 0,
              "version_major": 2
            },
            "text/plain": [
              "HBox(children=(FloatProgress(value=0.0, description='Downloading', max=647.0, style=ProgressStyle(description_…"
            ]
          },
          "metadata": {
            "tags": []
          }
        },
        {
          "output_type": "stream",
          "text": [
            "\n"
          ],
          "name": "stdout"
        },
        {
          "output_type": "display_data",
          "data": {
            "application/vnd.jupyter.widget-view+json": {
              "model_id": "071979c113d54c14bf6daea4401e4c57",
              "version_minor": 0,
              "version_major": 2
            },
            "text/plain": [
              "HBox(children=(FloatProgress(value=0.0, description='Downloading', max=438235074.0, style=ProgressStyle(descri…"
            ]
          },
          "metadata": {
            "tags": []
          }
        },
        {
          "output_type": "stream",
          "text": [
            "\n"
          ],
          "name": "stdout"
        },
        {
          "output_type": "execute_result",
          "data": {
            "text/plain": [
              "BertModel(\n",
              "  (embeddings): BertEmbeddings(\n",
              "    (word_embeddings): Embedding(29794, 768, padding_idx=0)\n",
              "    (position_embeddings): Embedding(512, 768)\n",
              "    (token_type_embeddings): Embedding(2, 768)\n",
              "    (LayerNorm): LayerNorm((768,), eps=1e-12, elementwise_affine=True)\n",
              "    (dropout): Dropout(p=0.1, inplace=False)\n",
              "  )\n",
              "  (encoder): BertEncoder(\n",
              "    (layer): ModuleList(\n",
              "      (0): BertLayer(\n",
              "        (attention): BertAttention(\n",
              "          (self): BertSelfAttention(\n",
              "            (query): Linear(in_features=768, out_features=768, bias=True)\n",
              "            (key): Linear(in_features=768, out_features=768, bias=True)\n",
              "            (value): Linear(in_features=768, out_features=768, bias=True)\n",
              "            (dropout): Dropout(p=0.1, inplace=False)\n",
              "          )\n",
              "          (output): BertSelfOutput(\n",
              "            (dense): Linear(in_features=768, out_features=768, bias=True)\n",
              "            (LayerNorm): LayerNorm((768,), eps=1e-12, elementwise_affine=True)\n",
              "            (dropout): Dropout(p=0.1, inplace=False)\n",
              "          )\n",
              "        )\n",
              "        (intermediate): BertIntermediate(\n",
              "          (dense): Linear(in_features=768, out_features=3072, bias=True)\n",
              "        )\n",
              "        (output): BertOutput(\n",
              "          (dense): Linear(in_features=3072, out_features=768, bias=True)\n",
              "          (LayerNorm): LayerNorm((768,), eps=1e-12, elementwise_affine=True)\n",
              "          (dropout): Dropout(p=0.1, inplace=False)\n",
              "        )\n",
              "      )\n",
              "      (1): BertLayer(\n",
              "        (attention): BertAttention(\n",
              "          (self): BertSelfAttention(\n",
              "            (query): Linear(in_features=768, out_features=768, bias=True)\n",
              "            (key): Linear(in_features=768, out_features=768, bias=True)\n",
              "            (value): Linear(in_features=768, out_features=768, bias=True)\n",
              "            (dropout): Dropout(p=0.1, inplace=False)\n",
              "          )\n",
              "          (output): BertSelfOutput(\n",
              "            (dense): Linear(in_features=768, out_features=768, bias=True)\n",
              "            (LayerNorm): LayerNorm((768,), eps=1e-12, elementwise_affine=True)\n",
              "            (dropout): Dropout(p=0.1, inplace=False)\n",
              "          )\n",
              "        )\n",
              "        (intermediate): BertIntermediate(\n",
              "          (dense): Linear(in_features=768, out_features=3072, bias=True)\n",
              "        )\n",
              "        (output): BertOutput(\n",
              "          (dense): Linear(in_features=3072, out_features=768, bias=True)\n",
              "          (LayerNorm): LayerNorm((768,), eps=1e-12, elementwise_affine=True)\n",
              "          (dropout): Dropout(p=0.1, inplace=False)\n",
              "        )\n",
              "      )\n",
              "      (2): BertLayer(\n",
              "        (attention): BertAttention(\n",
              "          (self): BertSelfAttention(\n",
              "            (query): Linear(in_features=768, out_features=768, bias=True)\n",
              "            (key): Linear(in_features=768, out_features=768, bias=True)\n",
              "            (value): Linear(in_features=768, out_features=768, bias=True)\n",
              "            (dropout): Dropout(p=0.1, inplace=False)\n",
              "          )\n",
              "          (output): BertSelfOutput(\n",
              "            (dense): Linear(in_features=768, out_features=768, bias=True)\n",
              "            (LayerNorm): LayerNorm((768,), eps=1e-12, elementwise_affine=True)\n",
              "            (dropout): Dropout(p=0.1, inplace=False)\n",
              "          )\n",
              "        )\n",
              "        (intermediate): BertIntermediate(\n",
              "          (dense): Linear(in_features=768, out_features=3072, bias=True)\n",
              "        )\n",
              "        (output): BertOutput(\n",
              "          (dense): Linear(in_features=3072, out_features=768, bias=True)\n",
              "          (LayerNorm): LayerNorm((768,), eps=1e-12, elementwise_affine=True)\n",
              "          (dropout): Dropout(p=0.1, inplace=False)\n",
              "        )\n",
              "      )\n",
              "      (3): BertLayer(\n",
              "        (attention): BertAttention(\n",
              "          (self): BertSelfAttention(\n",
              "            (query): Linear(in_features=768, out_features=768, bias=True)\n",
              "            (key): Linear(in_features=768, out_features=768, bias=True)\n",
              "            (value): Linear(in_features=768, out_features=768, bias=True)\n",
              "            (dropout): Dropout(p=0.1, inplace=False)\n",
              "          )\n",
              "          (output): BertSelfOutput(\n",
              "            (dense): Linear(in_features=768, out_features=768, bias=True)\n",
              "            (LayerNorm): LayerNorm((768,), eps=1e-12, elementwise_affine=True)\n",
              "            (dropout): Dropout(p=0.1, inplace=False)\n",
              "          )\n",
              "        )\n",
              "        (intermediate): BertIntermediate(\n",
              "          (dense): Linear(in_features=768, out_features=3072, bias=True)\n",
              "        )\n",
              "        (output): BertOutput(\n",
              "          (dense): Linear(in_features=3072, out_features=768, bias=True)\n",
              "          (LayerNorm): LayerNorm((768,), eps=1e-12, elementwise_affine=True)\n",
              "          (dropout): Dropout(p=0.1, inplace=False)\n",
              "        )\n",
              "      )\n",
              "      (4): BertLayer(\n",
              "        (attention): BertAttention(\n",
              "          (self): BertSelfAttention(\n",
              "            (query): Linear(in_features=768, out_features=768, bias=True)\n",
              "            (key): Linear(in_features=768, out_features=768, bias=True)\n",
              "            (value): Linear(in_features=768, out_features=768, bias=True)\n",
              "            (dropout): Dropout(p=0.1, inplace=False)\n",
              "          )\n",
              "          (output): BertSelfOutput(\n",
              "            (dense): Linear(in_features=768, out_features=768, bias=True)\n",
              "            (LayerNorm): LayerNorm((768,), eps=1e-12, elementwise_affine=True)\n",
              "            (dropout): Dropout(p=0.1, inplace=False)\n",
              "          )\n",
              "        )\n",
              "        (intermediate): BertIntermediate(\n",
              "          (dense): Linear(in_features=768, out_features=3072, bias=True)\n",
              "        )\n",
              "        (output): BertOutput(\n",
              "          (dense): Linear(in_features=3072, out_features=768, bias=True)\n",
              "          (LayerNorm): LayerNorm((768,), eps=1e-12, elementwise_affine=True)\n",
              "          (dropout): Dropout(p=0.1, inplace=False)\n",
              "        )\n",
              "      )\n",
              "      (5): BertLayer(\n",
              "        (attention): BertAttention(\n",
              "          (self): BertSelfAttention(\n",
              "            (query): Linear(in_features=768, out_features=768, bias=True)\n",
              "            (key): Linear(in_features=768, out_features=768, bias=True)\n",
              "            (value): Linear(in_features=768, out_features=768, bias=True)\n",
              "            (dropout): Dropout(p=0.1, inplace=False)\n",
              "          )\n",
              "          (output): BertSelfOutput(\n",
              "            (dense): Linear(in_features=768, out_features=768, bias=True)\n",
              "            (LayerNorm): LayerNorm((768,), eps=1e-12, elementwise_affine=True)\n",
              "            (dropout): Dropout(p=0.1, inplace=False)\n",
              "          )\n",
              "        )\n",
              "        (intermediate): BertIntermediate(\n",
              "          (dense): Linear(in_features=768, out_features=3072, bias=True)\n",
              "        )\n",
              "        (output): BertOutput(\n",
              "          (dense): Linear(in_features=3072, out_features=768, bias=True)\n",
              "          (LayerNorm): LayerNorm((768,), eps=1e-12, elementwise_affine=True)\n",
              "          (dropout): Dropout(p=0.1, inplace=False)\n",
              "        )\n",
              "      )\n",
              "      (6): BertLayer(\n",
              "        (attention): BertAttention(\n",
              "          (self): BertSelfAttention(\n",
              "            (query): Linear(in_features=768, out_features=768, bias=True)\n",
              "            (key): Linear(in_features=768, out_features=768, bias=True)\n",
              "            (value): Linear(in_features=768, out_features=768, bias=True)\n",
              "            (dropout): Dropout(p=0.1, inplace=False)\n",
              "          )\n",
              "          (output): BertSelfOutput(\n",
              "            (dense): Linear(in_features=768, out_features=768, bias=True)\n",
              "            (LayerNorm): LayerNorm((768,), eps=1e-12, elementwise_affine=True)\n",
              "            (dropout): Dropout(p=0.1, inplace=False)\n",
              "          )\n",
              "        )\n",
              "        (intermediate): BertIntermediate(\n",
              "          (dense): Linear(in_features=768, out_features=3072, bias=True)\n",
              "        )\n",
              "        (output): BertOutput(\n",
              "          (dense): Linear(in_features=3072, out_features=768, bias=True)\n",
              "          (LayerNorm): LayerNorm((768,), eps=1e-12, elementwise_affine=True)\n",
              "          (dropout): Dropout(p=0.1, inplace=False)\n",
              "        )\n",
              "      )\n",
              "      (7): BertLayer(\n",
              "        (attention): BertAttention(\n",
              "          (self): BertSelfAttention(\n",
              "            (query): Linear(in_features=768, out_features=768, bias=True)\n",
              "            (key): Linear(in_features=768, out_features=768, bias=True)\n",
              "            (value): Linear(in_features=768, out_features=768, bias=True)\n",
              "            (dropout): Dropout(p=0.1, inplace=False)\n",
              "          )\n",
              "          (output): BertSelfOutput(\n",
              "            (dense): Linear(in_features=768, out_features=768, bias=True)\n",
              "            (LayerNorm): LayerNorm((768,), eps=1e-12, elementwise_affine=True)\n",
              "            (dropout): Dropout(p=0.1, inplace=False)\n",
              "          )\n",
              "        )\n",
              "        (intermediate): BertIntermediate(\n",
              "          (dense): Linear(in_features=768, out_features=3072, bias=True)\n",
              "        )\n",
              "        (output): BertOutput(\n",
              "          (dense): Linear(in_features=3072, out_features=768, bias=True)\n",
              "          (LayerNorm): LayerNorm((768,), eps=1e-12, elementwise_affine=True)\n",
              "          (dropout): Dropout(p=0.1, inplace=False)\n",
              "        )\n",
              "      )\n",
              "      (8): BertLayer(\n",
              "        (attention): BertAttention(\n",
              "          (self): BertSelfAttention(\n",
              "            (query): Linear(in_features=768, out_features=768, bias=True)\n",
              "            (key): Linear(in_features=768, out_features=768, bias=True)\n",
              "            (value): Linear(in_features=768, out_features=768, bias=True)\n",
              "            (dropout): Dropout(p=0.1, inplace=False)\n",
              "          )\n",
              "          (output): BertSelfOutput(\n",
              "            (dense): Linear(in_features=768, out_features=768, bias=True)\n",
              "            (LayerNorm): LayerNorm((768,), eps=1e-12, elementwise_affine=True)\n",
              "            (dropout): Dropout(p=0.1, inplace=False)\n",
              "          )\n",
              "        )\n",
              "        (intermediate): BertIntermediate(\n",
              "          (dense): Linear(in_features=768, out_features=3072, bias=True)\n",
              "        )\n",
              "        (output): BertOutput(\n",
              "          (dense): Linear(in_features=3072, out_features=768, bias=True)\n",
              "          (LayerNorm): LayerNorm((768,), eps=1e-12, elementwise_affine=True)\n",
              "          (dropout): Dropout(p=0.1, inplace=False)\n",
              "        )\n",
              "      )\n",
              "      (9): BertLayer(\n",
              "        (attention): BertAttention(\n",
              "          (self): BertSelfAttention(\n",
              "            (query): Linear(in_features=768, out_features=768, bias=True)\n",
              "            (key): Linear(in_features=768, out_features=768, bias=True)\n",
              "            (value): Linear(in_features=768, out_features=768, bias=True)\n",
              "            (dropout): Dropout(p=0.1, inplace=False)\n",
              "          )\n",
              "          (output): BertSelfOutput(\n",
              "            (dense): Linear(in_features=768, out_features=768, bias=True)\n",
              "            (LayerNorm): LayerNorm((768,), eps=1e-12, elementwise_affine=True)\n",
              "            (dropout): Dropout(p=0.1, inplace=False)\n",
              "          )\n",
              "        )\n",
              "        (intermediate): BertIntermediate(\n",
              "          (dense): Linear(in_features=768, out_features=3072, bias=True)\n",
              "        )\n",
              "        (output): BertOutput(\n",
              "          (dense): Linear(in_features=3072, out_features=768, bias=True)\n",
              "          (LayerNorm): LayerNorm((768,), eps=1e-12, elementwise_affine=True)\n",
              "          (dropout): Dropout(p=0.1, inplace=False)\n",
              "        )\n",
              "      )\n",
              "      (10): BertLayer(\n",
              "        (attention): BertAttention(\n",
              "          (self): BertSelfAttention(\n",
              "            (query): Linear(in_features=768, out_features=768, bias=True)\n",
              "            (key): Linear(in_features=768, out_features=768, bias=True)\n",
              "            (value): Linear(in_features=768, out_features=768, bias=True)\n",
              "            (dropout): Dropout(p=0.1, inplace=False)\n",
              "          )\n",
              "          (output): BertSelfOutput(\n",
              "            (dense): Linear(in_features=768, out_features=768, bias=True)\n",
              "            (LayerNorm): LayerNorm((768,), eps=1e-12, elementwise_affine=True)\n",
              "            (dropout): Dropout(p=0.1, inplace=False)\n",
              "          )\n",
              "        )\n",
              "        (intermediate): BertIntermediate(\n",
              "          (dense): Linear(in_features=768, out_features=3072, bias=True)\n",
              "        )\n",
              "        (output): BertOutput(\n",
              "          (dense): Linear(in_features=3072, out_features=768, bias=True)\n",
              "          (LayerNorm): LayerNorm((768,), eps=1e-12, elementwise_affine=True)\n",
              "          (dropout): Dropout(p=0.1, inplace=False)\n",
              "        )\n",
              "      )\n",
              "      (11): BertLayer(\n",
              "        (attention): BertAttention(\n",
              "          (self): BertSelfAttention(\n",
              "            (query): Linear(in_features=768, out_features=768, bias=True)\n",
              "            (key): Linear(in_features=768, out_features=768, bias=True)\n",
              "            (value): Linear(in_features=768, out_features=768, bias=True)\n",
              "            (dropout): Dropout(p=0.1, inplace=False)\n",
              "          )\n",
              "          (output): BertSelfOutput(\n",
              "            (dense): Linear(in_features=768, out_features=768, bias=True)\n",
              "            (LayerNorm): LayerNorm((768,), eps=1e-12, elementwise_affine=True)\n",
              "            (dropout): Dropout(p=0.1, inplace=False)\n",
              "          )\n",
              "        )\n",
              "        (intermediate): BertIntermediate(\n",
              "          (dense): Linear(in_features=768, out_features=3072, bias=True)\n",
              "        )\n",
              "        (output): BertOutput(\n",
              "          (dense): Linear(in_features=3072, out_features=768, bias=True)\n",
              "          (LayerNorm): LayerNorm((768,), eps=1e-12, elementwise_affine=True)\n",
              "          (dropout): Dropout(p=0.1, inplace=False)\n",
              "        )\n",
              "      )\n",
              "    )\n",
              "  )\n",
              "  (pooler): BertPooler(\n",
              "    (dense): Linear(in_features=768, out_features=768, bias=True)\n",
              "    (activation): Tanh()\n",
              "  )\n",
              ")"
            ]
          },
          "metadata": {
            "tags": []
          },
          "execution_count": 7
        }
      ]
    },
    {
      "cell_type": "markdown",
      "metadata": {
        "id": "G4Qa5KkkM2Aq",
        "colab_type": "text"
      },
      "source": [
        "#### Em seguida, vamos avaliar o BERT no texto de exemplo e buscar os estados ocultos da rede.\n",
        "\n",
        "> #### <font color='red'>Nota:</font> `torch.no_grad` diz ao PyTorch para não construir o grafo computacional durante o forward (já que não vamos executar o backprop) - isso apenas reduz o consumo de memória e acelera um pouco as coisas. "
      ]
    },
    {
      "cell_type": "code",
      "metadata": {
        "id": "nN0QTZwiMzeq",
        "colab_type": "code",
        "colab": {}
      },
      "source": [
        "# Run the text through BERT, and collect all of the hidden states produced from all 12 layers. \n",
        "with torch.no_grad():\n",
        "    outputs = model(tokens_tensor, segments_tensors)\n",
        "\n",
        "    # Evaluating the model will return a different number of objects based on how it's  \n",
        "    # configured in the `from_pretrained` call earlier. In this case, becase we set \n",
        "    # `output_hidden_states = True`, the third item will be the hidden states from all \n",
        "    # layers. See the documentation for more details:\n",
        "    # https://huggingface.co/transformers/model_doc/bert.html#bertmodel\n",
        "    hidden_states = outputs[2] # outputs is a tuple (last_hidden_state, pooler_output, hidden_states, attentions)"
      ],
      "execution_count": null,
      "outputs": []
    },
    {
      "cell_type": "markdown",
      "metadata": {
        "id": "UeQNEFbUgMSf",
        "colab_type": "text"
      },
      "source": [
        "## <font color='purple'> Entendendo o Output\n"
      ]
    },
    {
      "cell_type": "markdown",
      "metadata": {
        "id": "HKTlTS_sfuAe",
        "colab_type": "text"
      },
      "source": [
        "#### O conjunto completo de estados ocultos armazenados no objeto `hidden_states`, precisa de um pouco de atenção. Este objeto tem quatro dimensões:\n",
        "\n",
        "> #### 1. número de layers: $13$ (o 1o layers são os embeddings)\n",
        "> #### 2. batche size: $1~-$ frase\n",
        "> #### 3. comprimento da sequência / número de tokens: $24$ em nosso exemplo\n",
        "> #### 4. número de neurônios da hidden layer: $768$\n",
        "\n",
        "#### São  $13*24*768=239616$ valores únicos para representar a frase do exemplo.\n",
        "\n",
        "#### A segunda dimensão, o batch é usada ao enviar várias frases para o modelo de uma só vez (mini-batch); aqui, porém, só temos um exemplo de sentença.\n"
      ]
    },
    {
      "cell_type": "code",
      "metadata": {
        "id": "eI_uxiW7eRWA",
        "colab_type": "code",
        "colab": {
          "base_uri": "https://localhost:8080/",
          "height": 85
        },
        "outputId": "40e8be87-d729-47aa-c91b-2cb55d8c3472"
      },
      "source": [
        "print (\"Number of layers:\", len(hidden_states), \"  (initial embeddings + 12 BERT layers)\")\n",
        "layer_i = 0\n",
        "\n",
        "print (\"Batch size:\", len(hidden_states[layer_i]))\n",
        "batch_i = 0\n",
        "\n",
        "print (\"Number of tokens:\", len(hidden_states[layer_i][batch_i]))\n",
        "token_i = 0\n",
        "\n",
        "print (\"Number of hidden units:\", len(hidden_states[layer_i][batch_i][token_i]))"
      ],
      "execution_count": null,
      "outputs": [
        {
          "output_type": "stream",
          "text": [
            "Number of layers: 13   (initial embeddings + 12 BERT layers)\n",
            "Batch size: 1\n",
            "Number of tokens: 24\n",
            "Number of hidden units: 768\n"
          ],
          "name": "stdout"
        }
      ]
    },
    {
      "cell_type": "markdown",
      "metadata": {
        "id": "6Uc_S_hmOWe7",
        "colab_type": "text"
      },
      "source": [
        "#### Vamos dar uma rápida olhada no intervalo de valores para uma determinada camada e token.\n",
        "\n",
        "#### Você verá que o intervalo é bastante semelhante para todas as camadas e tokens, com a maioria dos valores variando entre $[- 2, 2 ]$ e um pequeno número de valores em torno de $-10$."
      ]
    },
    {
      "cell_type": "code",
      "metadata": {
        "id": "-UF_OAO-S1sP",
        "colab_type": "code",
        "colab": {
          "base_uri": "https://localhost:8080/",
          "height": 320
        },
        "outputId": "6e6e1567-982c-4171-9258-897f1028b3c9"
      },
      "source": [
        "# For the 6th token in our sentence, select its feature values from layer 6.\n",
        "token_i = 6\n",
        "layer_i = 6\n",
        "vec = hidden_states[layer_i][batch_i][token_i]\n",
        "\n",
        "# Plot the values as a histogram to show their distribution.\n",
        "plt.figure(figsize=(15,5))\n",
        "plt.hist(vec, bins=100)\n",
        "plt.show()"
      ],
      "execution_count": null,
      "outputs": [
        {
          "output_type": "display_data",
          "data": {
            "image/png": "[encoded data removed]",
            "text/plain": [
              "<Figure size 1080x360 with 1 Axes>"
            ]
          },
          "metadata": {
            "tags": [],
            "needs_background": "light"
          }
        }
      ]
    },
    {
      "cell_type": "markdown",
      "metadata": {
        "colab_type": "text",
        "id": "n194RcReDYfw"
      },
      "source": [
        "#### Agrupar os valores por layer faz sentido para o modelo, mas, para nossos propósitos, queremos que ele seja agrupado por token.\n",
        "\n",
        "#### Dimensões atuais:\n",
        "\n",
        "#### `[# layers, # batches, # tokens, # features]`\n",
        "\n",
        "#### Dimensões desejadas:\n",
        "\n",
        "#### `[# tokens, # layers, # features]`"
      ]
    },
    {
      "cell_type": "code",
      "metadata": {
        "id": "0CcY_oRwcHlS",
        "colab_type": "code",
        "colab": {
          "base_uri": "https://localhost:8080/",
          "height": 51
        },
        "outputId": "c53c5db9-8d8f-4213-f53b-bfde97cd0f79"
      },
      "source": [
        "# `hidden_states` is a tuple.\n",
        "print('      Type of hidden_states: ', type(hidden_states))\n",
        "\n",
        "# Each layer in the list is a torch tensor.\n",
        "print('Tensor shape for each layer: ', hidden_states[0].size())"
      ],
      "execution_count": null,
      "outputs": [
        {
          "output_type": "stream",
          "text": [
            "      Type of hidden_states:  <class 'tuple'>\n",
            "Tensor shape for each layer:  torch.Size([1, 24, 768])\n"
          ],
          "name": "stdout"
        }
      ]
    },
    {
      "cell_type": "markdown",
      "metadata": {
        "id": "1yXZjLSke3F0",
        "colab_type": "text"
      },
      "source": [
        "#### Vamos combinar as camadas para criar todo esse grande tensor."
      ]
    },
    {
      "cell_type": "code",
      "metadata": {
        "id": "pTJV8AFFcLbL",
        "colab_type": "code",
        "colab": {
          "base_uri": "https://localhost:8080/",
          "height": 34
        },
        "outputId": "c35c38ca-d20b-4d72-f3ff-3d610f13376e"
      },
      "source": [
        "# Concatenate the tensors for all layers. We use `stack` here to create a new dimension in the tensor.\n",
        "token_embeddings = torch.stack(hidden_states, dim=0)\n",
        "token_embeddings.size()"
      ],
      "execution_count": null,
      "outputs": [
        {
          "output_type": "execute_result",
          "data": {
            "text/plain": [
              "torch.Size([13, 1, 24, 768])"
            ]
          },
          "metadata": {
            "tags": []
          },
          "execution_count": 12
        }
      ]
    },
    {
      "cell_type": "code",
      "metadata": {
        "id": "En4JZ41fh6CI",
        "colab_type": "code",
        "colab": {
          "base_uri": "https://localhost:8080/",
          "height": 34
        },
        "outputId": "ff07614f-4e9b-4735-e0b1-b9e639a9e28e"
      },
      "source": [
        "# Remove dimension 1, the \"batches\".\n",
        "token_embeddings = torch.squeeze(token_embeddings, dim=1)\n",
        "\n",
        "token_embeddings.size()"
      ],
      "execution_count": null,
      "outputs": [
        {
          "output_type": "execute_result",
          "data": {
            "text/plain": [
              "torch.Size([13, 24, 768])"
            ]
          },
          "metadata": {
            "tags": []
          },
          "execution_count": 13
        }
      ]
    },
    {
      "cell_type": "markdown",
      "metadata": {
        "id": "YVzRfvkbe-Yp",
        "colab_type": "text"
      },
      "source": [
        "#### Finalmente, podemos alternar as dimensões \"camadas\" e \"tokens\" com `permute`."
      ]
    },
    {
      "cell_type": "code",
      "metadata": {
        "id": "AtDVE58cdeYp",
        "colab_type": "code",
        "colab": {
          "base_uri": "https://localhost:8080/",
          "height": 34
        },
        "outputId": "3ce3d2f0-37d7-462a-dd1b-659f61b0e24a"
      },
      "source": [
        "# Swap dimensions 0 and 1.\n",
        "token_embeddings = token_embeddings.permute(1,0,2)\n",
        "\n",
        "token_embeddings.size()"
      ],
      "execution_count": null,
      "outputs": [
        {
          "output_type": "execute_result",
          "data": {
            "text/plain": [
              "torch.Size([24, 13, 768])"
            ]
          },
          "metadata": {
            "tags": []
          },
          "execution_count": 14
        }
      ]
    },
    {
      "cell_type": "markdown",
      "metadata": {
        "id": "Ey5RhOQ7NGtz",
        "colab_type": "text"
      },
      "source": [
        "## <font color='purple'> Word and sentence vectors from hidden states </font>\n",
        "\n",
        "#### Agora, o que fazemos com esses hidden_states? Gostaríamos de obter vetores individuais para cada um de nossos tokens, ou talvez uma única representação vetorial de toda a sentença, mas para cada token de nossa entrada, temos $13$ vetores separados, cada um com tamanho $768$.\n",
        "\n",
        "####  Para obter os vetores individuais, precisamos combinar esses vetores, mas qual camada ou combinação de camadas fornece a melhor representação? Infelizmente, não existe uma resposta fácil... Vamos tentar algumas abordagens."
      ]
    },
    {
      "cell_type": "markdown",
      "metadata": {
        "id": "76TdtFH8NM9q",
        "colab_type": "text"
      },
      "source": [
        "### <font color='purple'>Word Vectors</font>\n",
        "\n",
        "#### Para dar alguns exemplos, vamos criar vetores de duas formas.\n",
        "\n",
        "#### Primeiro, vamos **concatenar** as últimas quatro camadas, fornecendo um vetor de palavra única por token. Cada vetor terá o comprimento de $4*768=3072$."
      ]
    },
    {
      "cell_type": "code",
      "metadata": {
        "id": "pv42h9jANMRf",
        "colab_type": "code",
        "colab": {
          "base_uri": "https://localhost:8080/",
          "height": 34
        },
        "outputId": "635fb2af-745a-47f5-d181-08993f05ce1a"
      },
      "source": [
        "# Stores the token vectors, with shape [24 x 3,072]\n",
        "token_vecs_cat = []\n",
        "\n",
        "# `token_embeddings` is a [24 x 12 x 768] tensor.\n",
        "\n",
        "# For each token in the sentence...\n",
        "for token in token_embeddings:\n",
        "    \n",
        "    # `token` is a [12 x 768] tensor\n",
        "\n",
        "    # Concatenate the vectors (that is, append them together) from the last four layers.\n",
        "    # Each layer vector is 768 values, so `cat_vec` is length 3,072.\n",
        "    cat_vec = torch.cat((token[-1], token[-2], token[-3], token[-4]), dim=0)\n",
        "    \n",
        "    # Use `cat_vec` to represent `token`.\n",
        "    token_vecs_cat.append(cat_vec)\n",
        "\n",
        "print ('Shape is: %d x %d' % (len(token_vecs_cat), len(token_vecs_cat[0])))"
      ],
      "execution_count": null,
      "outputs": [
        {
          "output_type": "stream",
          "text": [
            "Shape is: 24 x 3072\n"
          ],
          "name": "stdout"
        }
      ]
    },
    {
      "cell_type": "markdown",
      "metadata": {
        "id": "VnWaByfelM-e",
        "colab_type": "text"
      },
      "source": [
        "#### Como método alternativo, vamos tentar criar os vetores de palavras **somando** juntas as últimas quatro camadas."
      ]
    },
    {
      "cell_type": "code",
      "metadata": {
        "id": "j4DKDtFwiF0S",
        "colab_type": "code",
        "colab": {
          "base_uri": "https://localhost:8080/",
          "height": 34
        },
        "outputId": "f3fdfc7b-5a41-4d25-cabd-c37e78e7d703"
      },
      "source": [
        "# Stores the token vectors, with shape [24 x 768]\n",
        "token_vecs_sum = []\n",
        "\n",
        "# `token_embeddings` is a [24 x 12 x 768] tensor.\n",
        "\n",
        "# For each token in the sentence...\n",
        "for token in token_embeddings:\n",
        "\n",
        "    # `token` is a [12 x 768] tensor\n",
        "\n",
        "    # Sum the vectors from the last four layers.\n",
        "    sum_vec = torch.sum(token[-4:], dim=0)\n",
        "    \n",
        "    # Use `sum_vec` to represent `token`.\n",
        "    token_vecs_sum.append(sum_vec)\n",
        "\n",
        "print ('Shape is: %d x %d' % (len(token_vecs_sum), len(token_vecs_sum[0])))"
      ],
      "execution_count": null,
      "outputs": [
        {
          "output_type": "stream",
          "text": [
            "Shape is: 24 x 768\n"
          ],
          "name": "stdout"
        }
      ]
    },
    {
      "cell_type": "markdown",
      "metadata": {
        "id": "mQaco6jRLkXn",
        "colab_type": "text"
      },
      "source": [
        "## <font color='purple'>Sentence Vectors\n",
        "#### Para obter um único vetor para toda a sentença, existem várias estratégias,  uma abordagem simples é calcular a penúltima hiden layer de cada token, produzindo um único vetor de comprimento $768$.\n"
      ]
    },
    {
      "cell_type": "code",
      "metadata": {
        "id": "Zn0n2S-FWZih",
        "colab_type": "code",
        "colab": {}
      },
      "source": [
        "# `hidden_states` has shape [13 x 1 x 24 x 768]\n",
        "\n",
        "# `token_vecs` is a tensor with shape [24 x 768]\n",
        "token_vecs = hidden_states[-2][0]\n",
        "\n",
        "# Calculate the average of all 24 token vectors.\n",
        "sentence_embedding = torch.mean(token_vecs, dim=0)"
      ],
      "execution_count": null,
      "outputs": []
    },
    {
      "cell_type": "code",
      "metadata": {
        "id": "MQv0FL8VWadn",
        "colab_type": "code",
        "colab": {
          "base_uri": "https://localhost:8080/",
          "height": 34
        },
        "outputId": "53ac55fa-1951-42ae-e03b-d7a65210d635"
      },
      "source": [
        "print (\"Our final sentence embedding vector of shape:\", sentence_embedding.size())"
      ],
      "execution_count": null,
      "outputs": [
        {
          "output_type": "stream",
          "text": [
            "Our final sentence embedding vector of shape: torch.Size([768])\n"
          ],
          "name": "stdout"
        }
      ]
    },
    {
      "cell_type": "markdown",
      "metadata": {
        "id": "TqYcrAipfE3E",
        "colab_type": "text"
      },
      "source": [
        "## Verificando o contexto dos embeddings\n",
        "\n",
        "#### Para confirmar que o valor desses embeddings de fato dependente do contexto.  Vejamos as diferentes instâncias da palavra <font color='dark orange'>_banco_</font> em nossa frase de exemplo:\n",
        "\n",
        "\n",
        "#### Vamos encontrar o índice dessas três instâncias da palavra \"banco\" na sentença de exemplo.\n",
        "\n",
        "> #### <font color='green'> O <font color='dark orange'>_banco_</font> possui o melhor atendimento digital, podemos acessar o <font color='dark orange'>_banco_</font> até mesmo sentado em um <font color='dark orange'>_banco_</font> da praça."
      ]
    },
    {
      "cell_type": "code",
      "metadata": {
        "id": "DNiRsEh9cmWz",
        "colab_type": "code",
        "colab": {
          "base_uri": "https://localhost:8080/",
          "height": 425
        },
        "outputId": "0629a72a-38de-44f2-9c47-8e929b77c2a6"
      },
      "source": [
        "for i, token_str in enumerate(tokenized_text):\n",
        "  print (i, token_str)"
      ],
      "execution_count": null,
      "outputs": [
        {
          "output_type": "stream",
          "text": [
            "0 [CLS]\n",
            "1 O\n",
            "2 banco\n",
            "3 possui\n",
            "4 o\n",
            "5 melhor\n",
            "6 atendimento\n",
            "7 digital\n",
            "8 ,\n",
            "9 podemos\n",
            "10 acess\n",
            "11 ##ar\n",
            "12 o\n",
            "13 banco\n",
            "14 até\n",
            "15 mesmo\n",
            "16 sentado\n",
            "17 em\n",
            "18 um\n",
            "19 banco\n",
            "20 da\n",
            "21 praça\n",
            "22 .\n",
            "23 [SEP]\n"
          ],
          "name": "stdout"
        }
      ]
    },
    {
      "cell_type": "markdown",
      "metadata": {
        "id": "AEhBIA5RlS8-",
        "colab_type": "text"
      },
      "source": [
        "### A palavra <font color='dark orange'>_banco_</font> aparece em 2, 13, e 19.\n",
        "\n",
        "### Para esta análise, usaremos os vetores de palavras que criamos somando as últimas quatro camadas. Podemos tentar imprimir seus vetores para compará-los."
      ]
    },
    {
      "cell_type": "code",
      "metadata": {
        "id": "tBa6vRHknSkv",
        "colab_type": "code",
        "colab": {
          "base_uri": "https://localhost:8080/",
          "height": 85
        },
        "outputId": "72515b38-a3d3-499c-f62b-9c5fda251e3d"
      },
      "source": [
        "print('Primeiros 5 valores para cada uma das instâncias de \"banco\"')\n",
        "print(\"\\tbanco (pos 2)  - estabecimento \", str(token_vecs_sum[2][:5]))\n",
        "print(\"\\tbanco (pos 13) - estabecimento \", str(token_vecs_sum[13][:5]))\n",
        "print(\"\\tbanco (pos 19) - mobília       \", str(token_vecs_sum[19][:5]))"
      ],
      "execution_count": null,
      "outputs": [
        {
          "output_type": "stream",
          "text": [
            "Primeiros 5 valores para cada uma das instâncias de \"banco\"\n",
            "\tbanco (pos 2)  - estabecimento  tensor([ 0.8158, -1.3215,  2.6406,  0.8617,  0.0265])\n",
            "\tbanco (pos 13) - estabecimento  tensor([-0.3625, -0.1644,  0.8811,  0.8685, -0.1602])\n",
            "\tbanco (pos 19) - mobília        tensor([-1.2730, -0.4680, -0.7833,  0.9516,  0.3650])\n"
          ],
          "name": "stdout"
        }
      ]
    },
    {
      "cell_type": "markdown",
      "metadata": {
        "id": "Ca2TCQ_G7SM3",
        "colab_type": "text"
      },
      "source": [
        "#### Podemos ver que os valores diferem, mas vamos calcular a distância cosseno para obtermos uma comparação mais precisa."
      ]
    },
    {
      "cell_type": "code",
      "metadata": {
        "id": "eYXUwiG0yhBS",
        "colab_type": "code",
        "colab": {
          "base_uri": "https://localhost:8080/",
          "height": 51
        },
        "outputId": "d1971e4f-b79b-4c84-8283-86a107ecd418"
      },
      "source": [
        "from scipy.spatial.distance import cosine\n",
        "\n",
        "# Calculate the cosine similarity between the word 'banco' \n",
        "# in \"o banco\" vs \"banco da praça\" (different meanings).\n",
        "diff_banco = 1 - cosine(token_vecs_sum[2], token_vecs_sum[19])\n",
        "\n",
        "# Calculate the cosine similarity between the word banco\n",
        "# in \"o banco\" vs \"o banco\" (same meaning).\n",
        "same_banco = 1 - cosine(token_vecs_sum[2], token_vecs_sum[13])\n",
        "\n",
        "print(f'Vector similarity for  SIMILAR  meanings: {same_banco:.2}')\n",
        "print(f'Vector similarity for DIFFERENT meanings:  {diff_banco:.2}')"
      ],
      "execution_count": null,
      "outputs": [
        {
          "output_type": "stream",
          "text": [
            "Vector similarity for  SIMILAR  meanings: 0.94\n",
            "Vector similarity for DIFFERENT meanings:  0.81\n"
          ],
          "name": "stdout"
        }
      ]
    },
    {
      "cell_type": "markdown",
      "metadata": {
        "id": "7ejgSmzqAZOk",
        "colab_type": "text"
      },
      "source": [
        "# <font color='purple'> **BERT-as-service** </font>\n",
        "[bert-as-service](https://github.com/hanxiao/bert-as-service)\n",
        "\n",
        "#### Han Xiao criou um projeto de código aberto chamado bert-as-service no GitHub, cujo objetivo é criar incorporações de palavras para o seu texto usando o BERT. Han experimentou diferentes abordagens para combinar esses embeddings e compartilhou algumas conclusões e justificativas na página de perguntas frequentes do projeto. BERT-as-service, por padrão, usa as saídas da penúltima a camada do modelo.\n",
        "\n",
        "\n",
        "#### A perspectiva de Han Xiao é que a medida que os embeddings se aprofundam na rede, eles captam cada vez mais informações contextuais com cada layer. Ao se aproximar do layer final, no entanto, o modelo começa a coletar informações específicas das tarefas de pré-treinamento do BERT $-$ MLM e Next Sentence Prediction (NSP). Entretanto, estamos interessados que os embeddings codifiquem o contexto da sentença, e o pneultimo layer é o ideal.\n",
        "\n"
      ]
    },
    {
      "cell_type": "code",
      "metadata": {
        "id": "SCbGrSMLtwql",
        "colab_type": "code",
        "colab": {
          "base_uri": "https://localhost:8080/",
          "height": 170
        },
        "outputId": "91864095-11ee-4961-f717-230f14b412c3"
      },
      "source": [
        "!pip uninstall -q tensorflow-gpu==1.12.0 \n",
        "!pip install -q tensorflow-gpu==1.15.0"
      ],
      "execution_count": null,
      "outputs": [
        {
          "output_type": "stream",
          "text": [
            "\u001b[33mWARNING: Skipping tensorflow-gpu as it is not installed.\u001b[0m\n",
            "\u001b[K     |████████████████████████████████| 411.5MB 34kB/s \n",
            "\u001b[K     |████████████████████████████████| 512kB 29.3MB/s \n",
            "\u001b[K     |████████████████████████████████| 3.8MB 41.0MB/s \n",
            "\u001b[?25h  Building wheel for gast (setup.py) ... \u001b[?25l\u001b[?25hdone\n",
            "\u001b[31mERROR: tensorflow 2.2.0 has requirement gast==0.3.3, but you'll have gast 0.2.2 which is incompatible.\u001b[0m\n",
            "\u001b[31mERROR: tensorflow 2.2.0 has requirement tensorboard<2.3.0,>=2.2.0, but you'll have tensorboard 1.15.0 which is incompatible.\u001b[0m\n",
            "\u001b[31mERROR: tensorflow 2.2.0 has requirement tensorflow-estimator<2.3.0,>=2.2.0, but you'll have tensorflow-estimator 1.15.1 which is incompatible.\u001b[0m\n",
            "\u001b[31mERROR: tensorflow-probability 0.10.0 has requirement gast>=0.3.2, but you'll have gast 0.2.2 which is incompatible.\u001b[0m\n"
          ],
          "name": "stdout"
        }
      ]
    },
    {
      "cell_type": "code",
      "metadata": {
        "id": "QSg7QAoJpcqN",
        "colab_type": "code",
        "colab": {
          "base_uri": "https://localhost:8080/",
          "height": 493
        },
        "outputId": "575f06d0-a42b-431a-9092-0443bfc38d22"
      },
      "source": [
        "!pip install bert-serving-client \n",
        "!pip install -q bert-serving-server[http]\n",
        "\n",
        "!wget https://storage.googleapis.com/bert_models/2018_10_18/uncased_L-12_H-768_A-12.zip \n",
        "!unzip uncased_L-12_H-768_A-12.zip \n",
        "!nohup bert-serving-start -model_dir=./uncased_L-12_H-768_A-12 > out.file 2>&1 &"
      ],
      "execution_count": null,
      "outputs": [
        {
          "output_type": "stream",
          "text": [
            "Collecting bert-serving-client\n",
            "  Downloading https://files.pythonhosted.org/packages/1f/09/aae1405378a848b2e87769ad89a43d6d71978c4e15534ca48e82e723a72f/bert_serving_client-1.10.0-py2.py3-none-any.whl\n",
            "Requirement already satisfied: numpy in /usr/local/lib/python3.6/dist-packages (from bert-serving-client) (1.18.5)\n",
            "Requirement already satisfied: pyzmq>=17.1.0 in /usr/local/lib/python3.6/dist-packages (from bert-serving-client) (19.0.1)\n",
            "Installing collected packages: bert-serving-client\n",
            "Successfully installed bert-serving-client-1.10.0\n",
            "\u001b[K     |████████████████████████████████| 71kB 2.1MB/s \n",
            "\u001b[K     |████████████████████████████████| 358kB 7.1MB/s \n",
            "\u001b[?25h  Building wheel for GPUtil (setup.py) ... \u001b[?25l\u001b[?25hdone\n",
            "  Building wheel for flask-compress (setup.py) ... \u001b[?25l\u001b[?25hdone\n",
            "--2020-07-27 00:48:33--  https://storage.googleapis.com/bert_models/2018_10_18/uncased_L-12_H-768_A-12.zip\n",
            "Resolving storage.googleapis.com (storage.googleapis.com)... 64.233.189.128, 108.177.97.128, 108.177.125.128, ...\n",
            "Connecting to storage.googleapis.com (storage.googleapis.com)|64.233.189.128|:443... connected.\n",
            "HTTP request sent, awaiting response... 200 OK\n",
            "Length: 407727028 (389M) [application/zip]\n",
            "Saving to: ‘uncased_L-12_H-768_A-12.zip’\n",
            "\n",
            "uncased_L-12_H-768_ 100%[===================>] 388.84M  61.6MB/s    in 8.5s    \n",
            "\n",
            "2020-07-27 00:48:42 (45.8 MB/s) - ‘uncased_L-12_H-768_A-12.zip’ saved [407727028/407727028]\n",
            "\n",
            "Archive:  uncased_L-12_H-768_A-12.zip\n",
            "   creating: uncased_L-12_H-768_A-12/\n",
            "  inflating: uncased_L-12_H-768_A-12/bert_model.ckpt.meta  \n",
            "  inflating: uncased_L-12_H-768_A-12/bert_model.ckpt.data-00000-of-00001  \n",
            "  inflating: uncased_L-12_H-768_A-12/vocab.txt  \n",
            "  inflating: uncased_L-12_H-768_A-12/bert_model.ckpt.index  \n",
            "  inflating: uncased_L-12_H-768_A-12/bert_config.json  \n"
          ],
          "name": "stdout"
        }
      ]
    },
    {
      "cell_type": "code",
      "metadata": {
        "id": "uxmfDGT-pcgd",
        "colab_type": "code",
        "colab": {}
      },
      "source": [
        "from bert_serving.client import BertClient "
      ],
      "execution_count": null,
      "outputs": []
    },
    {
      "cell_type": "code",
      "metadata": {
        "id": "TJkC3p3GpcR1",
        "colab_type": "code",
        "colab": {}
      },
      "source": [
        "bc = BertClient() "
      ],
      "execution_count": null,
      "outputs": []
    },
    {
      "cell_type": "code",
      "metadata": {
        "id": "dgcqcYJNpcIa",
        "colab_type": "code",
        "colab": {
          "base_uri": "https://localhost:8080/",
          "height": 119
        },
        "outputId": "51e16446-84bb-4f03-e959-93eda948ba8b"
      },
      "source": [
        "bc.encode(['First do it', 'then do it right', 'then do it better'])"
      ],
      "execution_count": null,
      "outputs": [
        {
          "output_type": "execute_result",
          "data": {
            "text/plain": [
              "array([[ 0.13186494,  0.32404163, -0.82704437, ..., -0.37119538,\n",
              "        -0.3925019 , -0.317218  ],\n",
              "       [ 0.24873495, -0.12334374, -0.38933873, ..., -0.4475625 ,\n",
              "        -0.55913556, -0.11345225],\n",
              "       [ 0.28627333, -0.18580079, -0.30906785, ..., -0.29593712,\n",
              "        -0.3931053 ,  0.07640254]], dtype=float32)"
            ]
          },
          "metadata": {
            "tags": []
          },
          "execution_count": 26
        }
      ]
    },
    {
      "cell_type": "code",
      "metadata": {
        "id": "oG5evhFZvtER",
        "colab_type": "code",
        "colab": {
          "base_uri": "https://localhost:8080/",
          "height": 68
        },
        "outputId": "f2702368-91a7-4672-9fab-7e4eedb4e406"
      },
      "source": [
        "print(bc.encode([text]).shape)\n",
        "bc.encode([text])[:,:5]"
      ],
      "execution_count": null,
      "outputs": [
        {
          "output_type": "stream",
          "text": [
            "(1, 768)\n"
          ],
          "name": "stdout"
        },
        {
          "output_type": "execute_result",
          "data": {
            "text/plain": [
              "array([[-0.24398546,  0.15785219,  0.06841501, -0.12468979,  1.1859053 ]],\n",
              "      dtype=float32)"
            ]
          },
          "metadata": {
            "tags": []
          },
          "execution_count": 30
        }
      ]
    },
    {
      "cell_type": "markdown",
      "metadata": {
        "id": "aWKMSx5RA7MH",
        "colab_type": "text"
      },
      "source": [
        "# The end"
      ]
    }
  ]
}