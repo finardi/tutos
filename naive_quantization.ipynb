{
  "nbformat": 4,
  "nbformat_minor": 0,
  "metadata": {
    "colab": {
      "name": "Quantizer example.ipynb",
      "provenance": [],
      "authorship_tag": "ABX9TyM9hJhkfvmIaj4p9MeA1QPb",
      "include_colab_link": true
    },
    "kernelspec": {
      "name": "python3",
      "display_name": "Python 3"
    },
    "language_info": {
      "name": "python"
    }
  },
  "cells": [
    {
      "cell_type": "markdown",
      "metadata": {
        "id": "view-in-github",
        "colab_type": "text"
      },
      "source": [
        "<a href=\"https://colab.research.google.com/github/finardi/tutos/blob/master/naive_quantization.ipynb\" target=\"_parent\"><img src=\"https://colab.research.google.com/assets/colab-badge.svg\" alt=\"Open In Colab\"/></a>"
      ]
    },
    {
      "cell_type": "code",
      "source": [
        "import torch\n",
        "A = torch.tensor([[-0.18120981, -0.29043840], [0.49722983, 0.22141714]])\n",
        "B = torch.tensor([0.77412377, 0.49299395])\n",
        "\n",
        "def quantize(C, a=1):\n",
        "    quantized = [torch.floor(128*elel/a) for \n",
        "                 elel in C.view(-1)]\n",
        "    return torch.tensor(quantized).view(C.size())\n",
        "\n",
        "def de_quantize(C, a=1):\n",
        "    dequantized = [a*elel/(128*128) for elel in C.view(-1)]\n",
        "    return torch.tensor(dequantized).view(C.size())\n",
        "\n",
        "print(f'A:   [{A.flatten()[:2]}{A.flatten()[2:]}]')\n",
        "print(f'B:   {B}')\n",
        "print(f'A@B: {A@B}\\n')\n",
        "\n",
        "\n",
        "A_quant = quantize(A)\n",
        "B_quant = quantize(B)\n",
        "print(f'A quant:      [{A_quant.flatten()[:2]}{A_quant.flatten()[2:]}]')\n",
        "print(f'B quant:      {B_quant}')\n",
        "print(f'A@B quant:    {A_quant@B_quant}')\n",
        "print(f'A@B de-quant: {de_quantize(A_quant@B_quant)}')"
      ],
      "metadata": {
        "colab": {
          "base_uri": "https://localhost:8080/"
        },
        "id": "Poc8jfCGRS70",
        "outputId": "a88f0a8e-9cd3-477f-ed9f-86e7717670e0"
      },
      "execution_count": 14,
      "outputs": [
        {
          "output_type": "stream",
          "name": "stdout",
          "text": [
            "A:   [tensor([-0.1812, -0.2904])tensor([0.4972, 0.2214])]\n",
            "B:   tensor([0.7741, 0.4930])\n",
            "A@B: tensor([-0.2835,  0.4941])\n",
            "\n",
            "A quant:      [tensor([-24., -38.])tensor([63., 28.])]\n",
            "B quant:      tensor([99., 63.])\n",
            "A@B quant:    tensor([-4770.,  8001.])\n",
            "A@B de-quant: tensor([-0.2911,  0.4883])\n"
          ]
        }
      ]
    }
  ]
}