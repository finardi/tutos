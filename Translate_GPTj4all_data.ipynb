{
  "nbformat": 4,
  "nbformat_minor": 0,
  "metadata": {
    "colab": {
      "provenance": [],
      "mount_file_id": "1L-Jpc1RoRB7zfLxA9WAbYaEYAOo7RN8a",
      "authorship_tag": "ABX9TyNCH+Q8TLROz8WMqwlQe1GM",
      "include_colab_link": true
    },
    "kernelspec": {
      "name": "python3",
      "display_name": "Python 3"
    },
    "language_info": {
      "name": "python"
    },
    "accelerator": "GPU",
    "gpuClass": "standard",
    "widgets": {
      "application/vnd.jupyter.widget-state+json": {
        "2583397306484d17be582dd142a56dda": {
          "model_module": "@jupyter-widgets/controls",
          "model_name": "HBoxModel",
          "model_module_version": "1.5.0",
          "state": {
            "_dom_classes": [],
            "_model_module": "@jupyter-widgets/controls",
            "_model_module_version": "1.5.0",
            "_model_name": "HBoxModel",
            "_view_count": null,
            "_view_module": "@jupyter-widgets/controls",
            "_view_module_version": "1.5.0",
            "_view_name": "HBoxView",
            "box_style": "",
            "children": [
              "IPY_MODEL_c5a45190ef6845ad9b573b28ac8c2f12",
              "IPY_MODEL_c08a06f75545407bb577899e981d52b0",
              "IPY_MODEL_9e82482542af417e948a56c904817a62"
            ],
            "layout": "IPY_MODEL_2a10f1e1602e477faa934de44ad56bb9"
          }
        },
        "c5a45190ef6845ad9b573b28ac8c2f12": {
          "model_module": "@jupyter-widgets/controls",
          "model_name": "HTMLModel",
          "model_module_version": "1.5.0",
          "state": {
            "_dom_classes": [],
            "_model_module": "@jupyter-widgets/controls",
            "_model_module_version": "1.5.0",
            "_model_name": "HTMLModel",
            "_view_count": null,
            "_view_module": "@jupyter-widgets/controls",
            "_view_module_version": "1.5.0",
            "_view_name": "HTMLView",
            "description": "",
            "description_tooltip": null,
            "layout": "IPY_MODEL_208715f8fa1c46e9a1eb076d10f7a11f",
            "placeholder": "​",
            "style": "IPY_MODEL_acc37ed8adfd43fb891995a7161da2e1",
            "value": "100%"
          }
        },
        "c08a06f75545407bb577899e981d52b0": {
          "model_module": "@jupyter-widgets/controls",
          "model_name": "FloatProgressModel",
          "model_module_version": "1.5.0",
          "state": {
            "_dom_classes": [],
            "_model_module": "@jupyter-widgets/controls",
            "_model_module_version": "1.5.0",
            "_model_name": "FloatProgressModel",
            "_view_count": null,
            "_view_module": "@jupyter-widgets/controls",
            "_view_module_version": "1.5.0",
            "_view_name": "ProgressView",
            "bar_style": "success",
            "description": "",
            "description_tooltip": null,
            "layout": "IPY_MODEL_616900bcafb646d690343994b85236fa",
            "max": 1,
            "min": 0,
            "orientation": "horizontal",
            "style": "IPY_MODEL_5ed7bcb9861640f0bbace6e2fa874fbf",
            "value": 1
          }
        },
        "9e82482542af417e948a56c904817a62": {
          "model_module": "@jupyter-widgets/controls",
          "model_name": "HTMLModel",
          "model_module_version": "1.5.0",
          "state": {
            "_dom_classes": [],
            "_model_module": "@jupyter-widgets/controls",
            "_model_module_version": "1.5.0",
            "_model_name": "HTMLModel",
            "_view_count": null,
            "_view_module": "@jupyter-widgets/controls",
            "_view_module_version": "1.5.0",
            "_view_name": "HTMLView",
            "description": "",
            "description_tooltip": null,
            "layout": "IPY_MODEL_9b9bf296a83348cd8625dd539594bffb",
            "placeholder": "​",
            "style": "IPY_MODEL_411e1ff398fc4d8b84bd9c63f975bdf2",
            "value": " 1/1 [00:00&lt;00:00, 16.31it/s]"
          }
        },
        "2a10f1e1602e477faa934de44ad56bb9": {
          "model_module": "@jupyter-widgets/base",
          "model_name": "LayoutModel",
          "model_module_version": "1.2.0",
          "state": {
            "_model_module": "@jupyter-widgets/base",
            "_model_module_version": "1.2.0",
            "_model_name": "LayoutModel",
            "_view_count": null,
            "_view_module": "@jupyter-widgets/base",
            "_view_module_version": "1.2.0",
            "_view_name": "LayoutView",
            "align_content": null,
            "align_items": null,
            "align_self": null,
            "border": null,
            "bottom": null,
            "display": null,
            "flex": null,
            "flex_flow": null,
            "grid_area": null,
            "grid_auto_columns": null,
            "grid_auto_flow": null,
            "grid_auto_rows": null,
            "grid_column": null,
            "grid_gap": null,
            "grid_row": null,
            "grid_template_areas": null,
            "grid_template_columns": null,
            "grid_template_rows": null,
            "height": null,
            "justify_content": null,
            "justify_items": null,
            "left": null,
            "margin": null,
            "max_height": null,
            "max_width": null,
            "min_height": null,
            "min_width": null,
            "object_fit": null,
            "object_position": null,
            "order": null,
            "overflow": null,
            "overflow_x": null,
            "overflow_y": null,
            "padding": null,
            "right": null,
            "top": null,
            "visibility": null,
            "width": null
          }
        },
        "208715f8fa1c46e9a1eb076d10f7a11f": {
          "model_module": "@jupyter-widgets/base",
          "model_name": "LayoutModel",
          "model_module_version": "1.2.0",
          "state": {
            "_model_module": "@jupyter-widgets/base",
            "_model_module_version": "1.2.0",
            "_model_name": "LayoutModel",
            "_view_count": null,
            "_view_module": "@jupyter-widgets/base",
            "_view_module_version": "1.2.0",
            "_view_name": "LayoutView",
            "align_content": null,
            "align_items": null,
            "align_self": null,
            "border": null,
            "bottom": null,
            "display": null,
            "flex": null,
            "flex_flow": null,
            "grid_area": null,
            "grid_auto_columns": null,
            "grid_auto_flow": null,
            "grid_auto_rows": null,
            "grid_column": null,
            "grid_gap": null,
            "grid_row": null,
            "grid_template_areas": null,
            "grid_template_columns": null,
            "grid_template_rows": null,
            "height": null,
            "justify_content": null,
            "justify_items": null,
            "left": null,
            "margin": null,
            "max_height": null,
            "max_width": null,
            "min_height": null,
            "min_width": null,
            "object_fit": null,
            "object_position": null,
            "order": null,
            "overflow": null,
            "overflow_x": null,
            "overflow_y": null,
            "padding": null,
            "right": null,
            "top": null,
            "visibility": null,
            "width": null
          }
        },
        "acc37ed8adfd43fb891995a7161da2e1": {
          "model_module": "@jupyter-widgets/controls",
          "model_name": "DescriptionStyleModel",
          "model_module_version": "1.5.0",
          "state": {
            "_model_module": "@jupyter-widgets/controls",
            "_model_module_version": "1.5.0",
            "_model_name": "DescriptionStyleModel",
            "_view_count": null,
            "_view_module": "@jupyter-widgets/base",
            "_view_module_version": "1.2.0",
            "_view_name": "StyleView",
            "description_width": ""
          }
        },
        "616900bcafb646d690343994b85236fa": {
          "model_module": "@jupyter-widgets/base",
          "model_name": "LayoutModel",
          "model_module_version": "1.2.0",
          "state": {
            "_model_module": "@jupyter-widgets/base",
            "_model_module_version": "1.2.0",
            "_model_name": "LayoutModel",
            "_view_count": null,
            "_view_module": "@jupyter-widgets/base",
            "_view_module_version": "1.2.0",
            "_view_name": "LayoutView",
            "align_content": null,
            "align_items": null,
            "align_self": null,
            "border": null,
            "bottom": null,
            "display": null,
            "flex": null,
            "flex_flow": null,
            "grid_area": null,
            "grid_auto_columns": null,
            "grid_auto_flow": null,
            "grid_auto_rows": null,
            "grid_column": null,
            "grid_gap": null,
            "grid_row": null,
            "grid_template_areas": null,
            "grid_template_columns": null,
            "grid_template_rows": null,
            "height": null,
            "justify_content": null,
            "justify_items": null,
            "left": null,
            "margin": null,
            "max_height": null,
            "max_width": null,
            "min_height": null,
            "min_width": null,
            "object_fit": null,
            "object_position": null,
            "order": null,
            "overflow": null,
            "overflow_x": null,
            "overflow_y": null,
            "padding": null,
            "right": null,
            "top": null,
            "visibility": null,
            "width": null
          }
        },
        "5ed7bcb9861640f0bbace6e2fa874fbf": {
          "model_module": "@jupyter-widgets/controls",
          "model_name": "ProgressStyleModel",
          "model_module_version": "1.5.0",
          "state": {
            "_model_module": "@jupyter-widgets/controls",
            "_model_module_version": "1.5.0",
            "_model_name": "ProgressStyleModel",
            "_view_count": null,
            "_view_module": "@jupyter-widgets/base",
            "_view_module_version": "1.2.0",
            "_view_name": "StyleView",
            "bar_color": null,
            "description_width": ""
          }
        },
        "9b9bf296a83348cd8625dd539594bffb": {
          "model_module": "@jupyter-widgets/base",
          "model_name": "LayoutModel",
          "model_module_version": "1.2.0",
          "state": {
            "_model_module": "@jupyter-widgets/base",
            "_model_module_version": "1.2.0",
            "_model_name": "LayoutModel",
            "_view_count": null,
            "_view_module": "@jupyter-widgets/base",
            "_view_module_version": "1.2.0",
            "_view_name": "LayoutView",
            "align_content": null,
            "align_items": null,
            "align_self": null,
            "border": null,
            "bottom": null,
            "display": null,
            "flex": null,
            "flex_flow": null,
            "grid_area": null,
            "grid_auto_columns": null,
            "grid_auto_flow": null,
            "grid_auto_rows": null,
            "grid_column": null,
            "grid_gap": null,
            "grid_row": null,
            "grid_template_areas": null,
            "grid_template_columns": null,
            "grid_template_rows": null,
            "height": null,
            "justify_content": null,
            "justify_items": null,
            "left": null,
            "margin": null,
            "max_height": null,
            "max_width": null,
            "min_height": null,
            "min_width": null,
            "object_fit": null,
            "object_position": null,
            "order": null,
            "overflow": null,
            "overflow_x": null,
            "overflow_y": null,
            "padding": null,
            "right": null,
            "top": null,
            "visibility": null,
            "width": null
          }
        },
        "411e1ff398fc4d8b84bd9c63f975bdf2": {
          "model_module": "@jupyter-widgets/controls",
          "model_name": "DescriptionStyleModel",
          "model_module_version": "1.5.0",
          "state": {
            "_model_module": "@jupyter-widgets/controls",
            "_model_module_version": "1.5.0",
            "_model_name": "DescriptionStyleModel",
            "_view_count": null,
            "_view_module": "@jupyter-widgets/base",
            "_view_module_version": "1.2.0",
            "_view_name": "StyleView",
            "description_width": ""
          }
        },
        "a36fe15806d24f038b977a47ba08b091": {
          "model_module": "@jupyter-widgets/controls",
          "model_name": "HBoxModel",
          "model_module_version": "1.5.0",
          "state": {
            "_dom_classes": [],
            "_model_module": "@jupyter-widgets/controls",
            "_model_module_version": "1.5.0",
            "_model_name": "HBoxModel",
            "_view_count": null,
            "_view_module": "@jupyter-widgets/controls",
            "_view_module_version": "1.5.0",
            "_view_name": "HBoxView",
            "box_style": "",
            "children": [
              "IPY_MODEL_d41ca809345447bfbe8f5845b96fd442",
              "IPY_MODEL_ff8b617d67d64a12ab0973c728ff760e",
              "IPY_MODEL_c499cb62133742eb856e0182e0544a62"
            ],
            "layout": "IPY_MODEL_c41f6d1a28534b08a577e5588ff35aae"
          }
        },
        "d41ca809345447bfbe8f5845b96fd442": {
          "model_module": "@jupyter-widgets/controls",
          "model_name": "HTMLModel",
          "model_module_version": "1.5.0",
          "state": {
            "_dom_classes": [],
            "_model_module": "@jupyter-widgets/controls",
            "_model_module_version": "1.5.0",
            "_model_name": "HTMLModel",
            "_view_count": null,
            "_view_module": "@jupyter-widgets/controls",
            "_view_module_version": "1.5.0",
            "_view_name": "HTMLView",
            "description": "",
            "description_tooltip": null,
            "layout": "IPY_MODEL_a29939c556b5485ab566d2338f653255",
            "placeholder": "​",
            "style": "IPY_MODEL_60ef9a2c37e74d2f940d66d4e032566a",
            "value": "Examples Processed:   0%"
          }
        },
        "ff8b617d67d64a12ab0973c728ff760e": {
          "model_module": "@jupyter-widgets/controls",
          "model_name": "FloatProgressModel",
          "model_module_version": "1.5.0",
          "state": {
            "_dom_classes": [],
            "_model_module": "@jupyter-widgets/controls",
            "_model_module_version": "1.5.0",
            "_model_name": "FloatProgressModel",
            "_view_count": null,
            "_view_module": "@jupyter-widgets/controls",
            "_view_module_version": "1.5.0",
            "_view_name": "ProgressView",
            "bar_style": "danger",
            "description": "",
            "description_tooltip": null,
            "layout": "IPY_MODEL_7f122b34cfee4b6ca70bc9664a8d57e7",
            "max": 808812,
            "min": 0,
            "orientation": "horizontal",
            "style": "IPY_MODEL_8e80b47b3eb8419d9ea4d16a8f4d3092",
            "value": 4
          }
        },
        "c499cb62133742eb856e0182e0544a62": {
          "model_module": "@jupyter-widgets/controls",
          "model_name": "HTMLModel",
          "model_module_version": "1.5.0",
          "state": {
            "_dom_classes": [],
            "_model_module": "@jupyter-widgets/controls",
            "_model_module_version": "1.5.0",
            "_model_name": "HTMLModel",
            "_view_count": null,
            "_view_module": "@jupyter-widgets/controls",
            "_view_module_version": "1.5.0",
            "_view_name": "HTMLView",
            "description": "",
            "description_tooltip": null,
            "layout": "IPY_MODEL_ab84c530b7a6443aa41532c6c004b64d",
            "placeholder": "​",
            "style": "IPY_MODEL_f86993dcedbb4fa7bc773a7bd110da76",
            "value": " 4/808812 [01:03&lt;2377:38:27, 10.58s/it]"
          }
        },
        "c41f6d1a28534b08a577e5588ff35aae": {
          "model_module": "@jupyter-widgets/base",
          "model_name": "LayoutModel",
          "model_module_version": "1.2.0",
          "state": {
            "_model_module": "@jupyter-widgets/base",
            "_model_module_version": "1.2.0",
            "_model_name": "LayoutModel",
            "_view_count": null,
            "_view_module": "@jupyter-widgets/base",
            "_view_module_version": "1.2.0",
            "_view_name": "LayoutView",
            "align_content": null,
            "align_items": null,
            "align_self": null,
            "border": null,
            "bottom": null,
            "display": null,
            "flex": null,
            "flex_flow": null,
            "grid_area": null,
            "grid_auto_columns": null,
            "grid_auto_flow": null,
            "grid_auto_rows": null,
            "grid_column": null,
            "grid_gap": null,
            "grid_row": null,
            "grid_template_areas": null,
            "grid_template_columns": null,
            "grid_template_rows": null,
            "height": null,
            "justify_content": null,
            "justify_items": null,
            "left": null,
            "margin": null,
            "max_height": null,
            "max_width": null,
            "min_height": null,
            "min_width": null,
            "object_fit": null,
            "object_position": null,
            "order": null,
            "overflow": null,
            "overflow_x": null,
            "overflow_y": null,
            "padding": null,
            "right": null,
            "top": null,
            "visibility": null,
            "width": null
          }
        },
        "a29939c556b5485ab566d2338f653255": {
          "model_module": "@jupyter-widgets/base",
          "model_name": "LayoutModel",
          "model_module_version": "1.2.0",
          "state": {
            "_model_module": "@jupyter-widgets/base",
            "_model_module_version": "1.2.0",
            "_model_name": "LayoutModel",
            "_view_count": null,
            "_view_module": "@jupyter-widgets/base",
            "_view_module_version": "1.2.0",
            "_view_name": "LayoutView",
            "align_content": null,
            "align_items": null,
            "align_self": null,
            "border": null,
            "bottom": null,
            "display": null,
            "flex": null,
            "flex_flow": null,
            "grid_area": null,
            "grid_auto_columns": null,
            "grid_auto_flow": null,
            "grid_auto_rows": null,
            "grid_column": null,
            "grid_gap": null,
            "grid_row": null,
            "grid_template_areas": null,
            "grid_template_columns": null,
            "grid_template_rows": null,
            "height": null,
            "justify_content": null,
            "justify_items": null,
            "left": null,
            "margin": null,
            "max_height": null,
            "max_width": null,
            "min_height": null,
            "min_width": null,
            "object_fit": null,
            "object_position": null,
            "order": null,
            "overflow": null,
            "overflow_x": null,
            "overflow_y": null,
            "padding": null,
            "right": null,
            "top": null,
            "visibility": null,
            "width": null
          }
        },
        "60ef9a2c37e74d2f940d66d4e032566a": {
          "model_module": "@jupyter-widgets/controls",
          "model_name": "DescriptionStyleModel",
          "model_module_version": "1.5.0",
          "state": {
            "_model_module": "@jupyter-widgets/controls",
            "_model_module_version": "1.5.0",
            "_model_name": "DescriptionStyleModel",
            "_view_count": null,
            "_view_module": "@jupyter-widgets/base",
            "_view_module_version": "1.2.0",
            "_view_name": "StyleView",
            "description_width": ""
          }
        },
        "7f122b34cfee4b6ca70bc9664a8d57e7": {
          "model_module": "@jupyter-widgets/base",
          "model_name": "LayoutModel",
          "model_module_version": "1.2.0",
          "state": {
            "_model_module": "@jupyter-widgets/base",
            "_model_module_version": "1.2.0",
            "_model_name": "LayoutModel",
            "_view_count": null,
            "_view_module": "@jupyter-widgets/base",
            "_view_module_version": "1.2.0",
            "_view_name": "LayoutView",
            "align_content": null,
            "align_items": null,
            "align_self": null,
            "border": null,
            "bottom": null,
            "display": null,
            "flex": null,
            "flex_flow": null,
            "grid_area": null,
            "grid_auto_columns": null,
            "grid_auto_flow": null,
            "grid_auto_rows": null,
            "grid_column": null,
            "grid_gap": null,
            "grid_row": null,
            "grid_template_areas": null,
            "grid_template_columns": null,
            "grid_template_rows": null,
            "height": null,
            "justify_content": null,
            "justify_items": null,
            "left": null,
            "margin": null,
            "max_height": null,
            "max_width": null,
            "min_height": null,
            "min_width": null,
            "object_fit": null,
            "object_position": null,
            "order": null,
            "overflow": null,
            "overflow_x": null,
            "overflow_y": null,
            "padding": null,
            "right": null,
            "top": null,
            "visibility": null,
            "width": null
          }
        },
        "8e80b47b3eb8419d9ea4d16a8f4d3092": {
          "model_module": "@jupyter-widgets/controls",
          "model_name": "ProgressStyleModel",
          "model_module_version": "1.5.0",
          "state": {
            "_model_module": "@jupyter-widgets/controls",
            "_model_module_version": "1.5.0",
            "_model_name": "ProgressStyleModel",
            "_view_count": null,
            "_view_module": "@jupyter-widgets/base",
            "_view_module_version": "1.2.0",
            "_view_name": "StyleView",
            "bar_color": null,
            "description_width": ""
          }
        },
        "ab84c530b7a6443aa41532c6c004b64d": {
          "model_module": "@jupyter-widgets/base",
          "model_name": "LayoutModel",
          "model_module_version": "1.2.0",
          "state": {
            "_model_module": "@jupyter-widgets/base",
            "_model_module_version": "1.2.0",
            "_model_name": "LayoutModel",
            "_view_count": null,
            "_view_module": "@jupyter-widgets/base",
            "_view_module_version": "1.2.0",
            "_view_name": "LayoutView",
            "align_content": null,
            "align_items": null,
            "align_self": null,
            "border": null,
            "bottom": null,
            "display": null,
            "flex": null,
            "flex_flow": null,
            "grid_area": null,
            "grid_auto_columns": null,
            "grid_auto_flow": null,
            "grid_auto_rows": null,
            "grid_column": null,
            "grid_gap": null,
            "grid_row": null,
            "grid_template_areas": null,
            "grid_template_columns": null,
            "grid_template_rows": null,
            "height": null,
            "justify_content": null,
            "justify_items": null,
            "left": null,
            "margin": null,
            "max_height": null,
            "max_width": null,
            "min_height": null,
            "min_width": null,
            "object_fit": null,
            "object_position": null,
            "order": null,
            "overflow": null,
            "overflow_x": null,
            "overflow_y": null,
            "padding": null,
            "right": null,
            "top": null,
            "visibility": null,
            "width": null
          }
        },
        "f86993dcedbb4fa7bc773a7bd110da76": {
          "model_module": "@jupyter-widgets/controls",
          "model_name": "DescriptionStyleModel",
          "model_module_version": "1.5.0",
          "state": {
            "_model_module": "@jupyter-widgets/controls",
            "_model_module_version": "1.5.0",
            "_model_name": "DescriptionStyleModel",
            "_view_count": null,
            "_view_module": "@jupyter-widgets/base",
            "_view_module_version": "1.2.0",
            "_view_name": "StyleView",
            "description_width": ""
          }
        }
      }
    }
  },
  "cells": [
    {
      "cell_type": "markdown",
      "metadata": {
        "id": "view-in-github",
        "colab_type": "text"
      },
      "source": [
        "<a href=\"https://colab.research.google.com/github/finardi/tutos/blob/master/Translate_GPTj4all_data.ipynb\" target=\"_parent\"><img src=\"https://colab.research.google.com/assets/colab-badge.svg\" alt=\"Open In Colab\"/></a>"
      ]
    },
    {
      "cell_type": "code",
      "execution_count": 1,
      "metadata": {
        "id": "fTyRpTkdJbGe"
      },
      "outputs": [],
      "source": [
        "%pip install -q transformers datasets sentencePiece ftfy"
      ]
    },
    {
      "cell_type": "code",
      "execution_count": 2,
      "metadata": {
        "id": "fG0z0DsSOZ2E",
        "colab": {
          "base_uri": "https://localhost:8080/"
        },
        "outputId": "b3d39f53-3df6-4956-ae8c-72435026c592"
      },
      "outputs": [
        {
          "output_type": "stream",
          "name": "stdout",
          "text": [
            "cuda:0 Tesla T4\n"
          ]
        }
      ],
      "source": [
        "import os\n",
        "import re\n",
        "import ftfy\n",
        "import torch\n",
        "import spacy\n",
        "import pickle\n",
        "import collections\n",
        "import warnings\n",
        "warnings.filterwarnings(\"ignore\")\n",
        "\n",
        "from ftfy import fix_encoding\n",
        "from tqdm.auto import tqdm\n",
        "from spacy.lang.en import English\n",
        "\n",
        "from datasets import load_dataset, Dataset\n",
        "from transformers import MarianMTModel, MarianTokenizer\n",
        "\n",
        "# ---------------------------------------------------------------------------------------\n",
        "\n",
        "if torch.cuda.is_available(): \n",
        "   dev = \"cuda:0\"\n",
        "else: \n",
        "   dev = \"cpu\" \n",
        "print(dev, torch.cuda.get_device_name(0))\n",
        "device = torch.device(dev)\n",
        "\n",
        "\n",
        "# Model\n",
        "model_name = 'Helsinki-NLP/opus-mt-en-ROMANCE'\n",
        "marian_tokenizer = MarianTokenizer.from_pretrained(model_name)\n",
        "marian_model = MarianMTModel.from_pretrained(model_name)"
      ]
    },
    {
      "cell_type": "code",
      "source": [
        "data_en = load_dataset('nomic-ai/gpt4all-j-prompt-generations')\n",
        "data_en"
      ],
      "metadata": {
        "colab": {
          "base_uri": "https://localhost:8080/",
          "height": 191,
          "referenced_widgets": [
            "2583397306484d17be582dd142a56dda",
            "c5a45190ef6845ad9b573b28ac8c2f12",
            "c08a06f75545407bb577899e981d52b0",
            "9e82482542af417e948a56c904817a62",
            "2a10f1e1602e477faa934de44ad56bb9",
            "208715f8fa1c46e9a1eb076d10f7a11f",
            "acc37ed8adfd43fb891995a7161da2e1",
            "616900bcafb646d690343994b85236fa",
            "5ed7bcb9861640f0bbace6e2fa874fbf",
            "9b9bf296a83348cd8625dd539594bffb",
            "411e1ff398fc4d8b84bd9c63f975bdf2"
          ]
        },
        "id": "gxvPqLfSFW_v",
        "outputId": "ef99ebad-72bc-4c5a-aa52-24f88339685f"
      },
      "execution_count": 3,
      "outputs": [
        {
          "output_type": "stream",
          "name": "stderr",
          "text": [
            "WARNING:datasets.builder:Found cached dataset parquet (/root/.cache/huggingface/datasets/nomic-ai___parquet/nomic-ai--gpt4all-j-prompt-generations-8a972173c2fb7e06/0.0.0/2a3b91fbd88a2c90d1dbbb32b460cf621d31bd5b05b934492fdef7d8d6f236ec)\n"
          ]
        },
        {
          "output_type": "display_data",
          "data": {
            "text/plain": [
              "  0%|          | 0/1 [00:00<?, ?it/s]"
            ],
            "application/vnd.jupyter.widget-view+json": {
              "version_major": 2,
              "version_minor": 0,
              "model_id": "2583397306484d17be582dd142a56dda"
            }
          },
          "metadata": {}
        },
        {
          "output_type": "execute_result",
          "data": {
            "text/plain": [
              "DatasetDict({\n",
              "    train: Dataset({\n",
              "        features: ['prompt', 'response', 'source'],\n",
              "        num_rows: 808812\n",
              "    })\n",
              "})"
            ]
          },
          "metadata": {},
          "execution_count": 3
        }
      ]
    },
    {
      "cell_type": "code",
      "source": [
        "data_en['train']['prompt'][0]"
      ],
      "metadata": {
        "colab": {
          "base_uri": "https://localhost:8080/",
          "height": 226
        },
        "id": "XrxQWe0senZX",
        "outputId": "ce6dc1ca-7847-424c-ff64-5532e2bb9858"
      },
      "execution_count": 4,
      "outputs": [
        {
          "output_type": "execute_result",
          "data": {
            "text/plain": [
              "'<p>Good morning</p>\\n\\n<p>I have a Wpf datagrid that is displaying an observable collection of a custom type</p>\\n\\n<p>I group the data using a collection view source in XAML on two seperate properties, and I have styled the groups to display as expanders.</p>\\n\\n<p>For clarity, as there is a lot of data I feel I have to use margins and spacing otherwise things look very cluttered.</p>\\n\\n<p>My problem is that with two levels of hierarchical expanders the column data is now substantially offset from the column headers meaning that they do not properly line up.</p>\\n\\n<p>I have tried several thing, like setting the margin of the column headers and the width (both actual and normal). However all of my attempts end up resizing the whole column so that the offset stays the same but the columns move.</p>\\n\\n<p>so my question:</p>\\n\\n<p><strong>How can I change the visible width or offset of a column header to ensure that the headers line up with the data</strong></p>\\n\\n<ul>\\n<li>Visual Studio 2012</li>\\n<li>Wpf</li>\\n<li>C#</li>\\n<li>DataGrid</li>\\n</ul>\\n\\n<p><strong>EDIT This is what I mean</strong></p>\\n\\n<p><img src=\"https://i.stack.imgur.com/pE7xq.png\" alt=\"Offset Columns\"></p>\\n\\n<p><strong>EDIT 2 - MY Xaml for Grouping</strong></p>\\n\\n<pre><code>&lt;!--  Style for groups at top level.  --&gt;\\n&lt;GroupStyle&gt;\\n    &lt;GroupStyle.ContainerStyle&gt;\\n        &lt;Style TargetType=\"{x:Type GroupItem}\"&gt;\\n            &lt;Setter Property=\"Margin\" Value=\"0\" /&gt;\\n            &lt;Setter Property=\"Template\"&gt;\\n                &lt;Setter.Value&gt;\\n                    &lt;ControlTemplate TargetType=\"{x:Type GroupItem}\"&gt;\\n                        &lt;Expander Margin=\"5,10,5,5\"\\n                                  BorderBrush=\"{StaticResource BlackBrush}\"\\n                                  BorderThickness=\"1\"\\n                                  Header=\"{Binding Name}\"\\n                                  IsExpanded=\"True\"&gt;\\n\\n                            &lt;Expander.Template&gt;\\n                                &lt;!--  The basic expander  --&gt;\\n                                &lt;ControlTemplate TargetType=\"{x:Type Expander}\"&gt;\\n                                    &lt;!--  Put a border around the expander  --&gt;\\n                                    &lt;Border Background=\"{Binding Path=Name,\\n                                                                 Converter={StaticResource ColourConverter}}\"\\n                                            BorderBrush=\"{StaticResource GreyBrush}\"\\n                                            BorderThickness=\"2\"\\n                                            CornerRadius=\"3\"&gt;\\n\\n                                        &lt;!--  Use a dock panel so that the toggle button is docked to the top and the content is docked to the bottom  --&gt;\\n                                        &lt;DockPanel Margin=\"0\"&gt;\\n\\n                                            &lt;!--  Add the toggle button  --&gt;\\n                                            &lt;ToggleButton x:Name=\"ExpanderButton\"\\n                                                          Margin=\"0\"\\n                                                          Content=\"{TemplateBinding Header}\"\\n                                                          DockPanel.Dock=\"Top\"\\n                                                          FontSize=\"14\"\\n                                                          FontWeight=\"Bold\"\\n                                                          Foreground=\"{StaticResource BlackBrush}\"\\n                                                          IsChecked=\"{Binding Path=IsExpanded,\\n                                                                              RelativeSource={RelativeSource TemplatedParent}}\"\\n                                                          OverridesDefaultStyle=\"True\"\\n                                                          Template=\"{StaticResource AnimatedExpanderButton}\" /&gt;\\n\\n                                            &lt;ContentPresenter x:Name=\"ExpanderContent\"\\n                                                              Margin=\"5\"\\n                                                              ContentSource=\"Content\"\\n                                                              DockPanel.Dock=\"Bottom\"\\n                                                              Visibility=\"{Binding ElementName=ExpanderButton,\\n                                                                                   Path=IsChecked,\\n                                                                                   Converter={StaticResource VisibilityConverter}}\" /&gt;\\n                                        &lt;/DockPanel&gt;\\n                                    &lt;/Border&gt;\\n                                &lt;/ControlTemplate&gt;\\n                            &lt;/Expander.Template&gt;\\n                            &lt;ItemsPresenter /&gt;\\n                        &lt;/Expander&gt;\\n                    &lt;/ControlTemplate&gt;\\n                &lt;/Setter.Value&gt;\\n            &lt;/Setter&gt;\\n        &lt;/Style&gt;\\n    &lt;/GroupStyle.ContainerStyle&gt;\\n&lt;/GroupStyle&gt;\\n\\n&lt;!--  Style for groups under the top level.  --&gt;\\n&lt;GroupStyle&gt;\\n    &lt;GroupStyle.ContainerStyle&gt;\\n        &lt;Style TargetType=\"{x:Type GroupItem}\"&gt;\\n\\n            &lt;Setter Property=\"Margin\" Value=\"0,0,0,5\" /&gt;\\n            &lt;Setter Property=\"Template\"&gt;\\n                &lt;Setter.Value&gt;\\n                    &lt;ControlTemplate TargetType=\"{x:Type GroupItem}\"&gt;\\n                        &lt;Expander Margin=\"5\"\\n                                  Background=\"{Binding Path=Name,\\n                                                       Converter={StaticResource ColourConverter}}\"\\n                                  IsExpanded=\"True\"\\n                                  Visibility=\"{Binding Items[0].IsSelectedInSidebar,\\n                                                       Converter={StaticResource VisibilityConverter}}\"&gt;\\n\\n                            &lt;Expander.Template&gt;\\n                                &lt;!--  The basic expander  --&gt;\\n                                &lt;ControlTemplate TargetType=\"{x:Type Expander}\"&gt;\\n                                    &lt;!--  Put a border around the expander  --&gt;\\n                                    &lt;Border Background=\"{Binding Path=Name,\\n                                                                 Converter={StaticResource ColourConverter}}\"\\n                                            BorderBrush=\"{StaticResource GreyBrush}\"\\n                                            BorderThickness=\"2\"\\n                                            CornerRadius=\"3\"&gt;\\n\\n                                        &lt;!--  Use a dock panel so that the toggle button is docked to the top and the content is docked to the bottom  --&gt;\\n                                        &lt;DockPanel Margin=\"0\"&gt;\\n\\n                                            &lt;!--  Add the toggle button  --&gt;\\n                                            &lt;ToggleButton x:Name=\"ExpanderButton\"\\n                                                          Content=\"{Binding Path=Name}\"\\n                                                          DockPanel.Dock=\"Top\"\\n                                                          FontSize=\"12\"\\n                                                          IsChecked=\"{Binding Path=IsExpanded,\\n                                                                              RelativeSource={RelativeSource TemplatedParent}}\"\\n                                                          OverridesDefaultStyle=\"True\"\\n                                                          Template=\"{StaticResource AnimatedExpanderButton}\" /&gt;\\n\\n                                            &lt;ContentPresenter x:Name=\"ExpanderContent\"\\n                                                              Margin=\"5\"\\n                                                              ContentSource=\"Content\"\\n                                                              DockPanel.Dock=\"Bottom\"\\n                                                              Visibility=\"{Binding ElementName=ExpanderButton,\\n                                                                                   Path=IsChecked,\\n                                                                                   Converter={StaticResource VisibilityConverter}}\" /&gt;\\n                                        &lt;/DockPanel&gt;\\n                                    &lt;/Border&gt;\\n                                &lt;/ControlTemplate&gt;\\n                            &lt;/Expander.Template&gt;\\n                            &lt;Expander.Content&gt;\\n                                &lt;Border BorderBrush=\"{StaticResource BlackBrush}\" BorderThickness=\"1\"&gt;\\n                                    &lt;Grid&gt;\\n                                        &lt;Grid.RowDefinitions&gt;\\n                                            &lt;RowDefinition Height=\"*\" /&gt;\\n                                            &lt;RowDefinition Height=\"Auto\" /&gt;\\n                                        &lt;/Grid.RowDefinitions&gt;\\n                                        &lt;ItemsPresenter Grid.Row=\"0\" Margin=\"0\" /&gt;\\n\\n                                        &lt;Border Grid.Row=\"1\"\\n                                                Margin=\"0,10,0,0\"\\n                                                BorderBrush=\"{StaticResource BlackBrush}\"\\n                                                BorderThickness=\"0,1,0,0\"\\n                                                Visibility=\"{Binding Data.SettingRepository.MainDataSummaryVisible,\\n                                                                     Source={StaticResource BindingProxy},\\n                                                                     Converter={StaticResource VisibilityConverter}}\"&gt;\\n                                            &lt;Grid Background=\"{StaticResource WhiteBrush}\"&gt;\\n                                                &lt;Grid.RowDefinitions&gt;\\n                                                    &lt;RowDefinition Height=\"Auto\" /&gt;\\n                                                    &lt;RowDefinition Height=\"Auto\" /&gt;\\n                                                    &lt;RowDefinition Height=\"Auto\" /&gt;\\n                                                &lt;/Grid.RowDefinitions&gt;\\n\\n                                                &lt;Grid.ColumnDefinitions&gt;\\n                                                    &lt;ColumnDefinition Width=\"Auto\" /&gt;\\n                                                    &lt;ColumnDefinition Width=\"Auto\" /&gt;\\n                                                    &lt;ColumnDefinition Width=\"Auto\" /&gt;\\n                                                    &lt;ColumnDefinition Width=\"Auto\" /&gt;\\n                                                    &lt;ColumnDefinition Width=\"Auto\" /&gt;\\n                                                    &lt;ColumnDefinition Width=\"Auto\" /&gt;\\n                                                &lt;/Grid.ColumnDefinitions&gt;\\n\\n                                                &lt;Grid Grid.Row=\"0\" Grid.ColumnSpan=\"6\"&gt;\\n                                                    &lt;Grid.ColumnDefinitions&gt;\\n                                                        &lt;ColumnDefinition Width=\"Auto\" /&gt;\\n                                                        &lt;ColumnDefinition Width=\"Auto\" /&gt;\\n                                                        &lt;ColumnDefinition Width=\"Auto\" /&gt;\\n                                                        &lt;ColumnDefinition Width=\"Auto\" /&gt;\\n                                                        &lt;ColumnDefinition Width=\"Auto\" /&gt;\\n                                                        &lt;ColumnDefinition Width=\"Auto\" /&gt;\\n                                                        &lt;ColumnDefinition Width=\"Auto\" /&gt;\\n                                                        &lt;ColumnDefinition Width=\"Auto\" /&gt;\\n                                                        &lt;ColumnDefinition Width=\"Auto\" /&gt;\\n                                                        &lt;ColumnDefinition Width=\"Auto\" /&gt;\\n                                                    &lt;/Grid.ColumnDefinitions&gt;\\n\\n                                                    &lt;TextBlock Grid.Column=\"0\"\\n                                                               Margin=\"5\"\\n                                                               FontWeight=\"Bold\"\\n                                                               Text=\"{Binding Path=Items[0].Option1Title}\"\\n                                                               Visibility=\"{Binding Data.SettingRepository.MainDataShowSampleOptions,\\n                                                                                    Source={StaticResource BindingProxy},\\n                                                                                    Converter={StaticResource VisibilityConverter}}\" /&gt;\\n                                                    &lt;TextBlock Grid.Column=\"1\"\\n                                                               Margin=\"5\"\\n                                                               Text=\"{Binding Path=Items[0].Option1Data,\\n                                                                              Mode=OneWay}\"\\n                                                               Visibility=\"{Binding Data.SettingRepository.MainDataShowSampleOptions,\\n                                                                                    Source={StaticResource BindingProxy},\\n                                                                                    Converter={StaticResource VisibilityConverter}}\" /&gt;\\n\\n                                                    &lt;TextBlock Grid.Column=\"2\"\\n                                                               Margin=\"5\"\\n                                                               FontWeight=\"Bold\"\\n                                                               Text=\"{Binding Path=Items[0].Option2Title}\"\\n                                                               Visibility=\"{Binding Data.SettingRepository.MainDataShowSampleOptions,\\n                                                                                    Source={StaticResource BindingProxy},\\n                                                                                    Converter={StaticResource VisibilityConverter}}\" /&gt;\\n                                                    &lt;TextBlock Grid.Column=\"3\"\\n                                                               Margin=\"5\"\\n                                                               Text=\"{Binding Path=Items[0].Option2Data,\\n                                                                              Mode=OneWay}\"\\n                                                               Visibility=\"{Binding Data.SettingRepository.MainDataShowSampleOptions,\\n                                                                                    Source={StaticResource BindingProxy},\\n                                                                                    Converter={StaticResource VisibilityConverter}}\" /&gt;\\n                                                    &lt;TextBlock Grid.Column=\"4\"\\n                                                               Margin=\"5\"\\n                                                               FontWeight=\"Bold\"\\n                                                               Text=\"{Binding Path=Items[0].Option3Title}\"\\n                                                               Visibility=\"{Binding Data.SettingRepository.MainDataShowSampleOptions,\\n                                                                                    Source={StaticResource BindingProxy},\\n                                                                                    Converter={StaticResource VisibilityConverter}}\" /&gt;\\n                                                    &lt;TextBlock Grid.Column=\"5\"\\n                                                               Margin=\"5\"\\n                                                               Text=\"{Binding Path=Items[0].Option3Data,\\n                                                                              Mode=OneWay}\" /&gt;\\n                                                    &lt;TextBlock Grid.Column=\"6\"\\n                                                               Margin=\"5\"\\n                                                               FontWeight=\"Bold\"\\n                                                               Text=\"{Binding Path=Items[0].Option4Title}\"\\n                                                               Visibility=\"{Binding Data.SettingRepository.MainDataShowSampleOptions,\\n                                                                                    Source={StaticResource BindingProxy},\\n                                                                                    Converter={StaticResource VisibilityConverter}}\" /&gt;\\n                                                    &lt;TextBlock Grid.Column=\"7\"\\n                                                               Margin=\"5\"\\n                                                               Text=\"{Binding Path=Items[0].Option4Data,\\n                                                                              Mode=OneWay}\"\\n                                                               Visibility=\"{Binding Data.SettingRepository.MainDataShowSampleOptions,\\n                                                                                    Source={StaticResource BindingProxy},\\n                                                                                    Converter={StaticResource VisibilityConverter}}\" /&gt;\\n\\n                                                    &lt;TextBlock Grid.Column=\"8\"\\n                                                               Margin=\"5\"\\n                                                               FontWeight=\"Bold\"\\n                                                               Text=\"{x:Static languages:Strings.SampleIsAnnealedColumnHeader}\" /&gt;\\n                                                    &lt;CheckBox Grid.Column=\"9\"\\n                                                              Margin=\"3,5,5,5\"\\n                                                              IsChecked=\"{Binding Path=Items[0].SampleIsAnnealed,\\n                                                                                  Mode=OneWay}\"\\n                                                              IsHitTestVisible=\"False\"\\n                                                              Style=\"{StaticResource FandFCheckBox}\" /&gt;\\n                                                &lt;/Grid&gt;\\n\\n                                                &lt;!--  The mean Match temperature  --&gt;\\n                                                &lt;TextBlock Grid.Row=\"1\"\\n                                                           Grid.Column=\"0\"\\n                                                           Margin=\"5\"\\n                                                           FontWeight=\"Bold\"\\n                                                           Text=\"{x:Static languages:Strings.MeanSampleMatchTemperatureTitle}\" /&gt;\\n                                                &lt;TextBlock Grid.Row=\"1\"\\n                                                           Grid.Column=\"1\"\\n                                                           Margin=\"5\"\\n                                                           Text=\"{Binding Path=Items[0].SampleMeanMatchTemperature,\\n                                                                          Mode=OneWay,\\n                                                                          StringFormat=\\\\{0:N2\\\\}}\" /&gt;\\n\\n                                                &lt;!--  The match temperature range  --&gt;\\n                                                &lt;TextBlock Grid.Row=\"1\"\\n                                                           Grid.Column=\"2\"\\n                                                           Margin=\"5\"\\n                                                           FontWeight=\"Bold\"\\n                                                           Text=\"{x:Static languages:Strings.SampleTemperatureRangeTitle}\" /&gt;\\n                                                &lt;TextBlock Grid.Row=\"1\"\\n                                                           Grid.Column=\"3\"\\n                                                           Margin=\"5\"\\n                                                           Text=\"{Binding Path=Items[0].SampleMatchTemperatureRange}\" /&gt;\\n\\n                                                &lt;!--  The match temperature standard deviation  --&gt;\\n                                                &lt;TextBlock Grid.Row=\"1\"\\n                                                           Grid.Column=\"4\"\\n                                                           Margin=\"5\"\\n                                                           FontWeight=\"Bold\"\\n                                                           Text=\"{x:Static languages:Strings.SampleTemperatureStandardDeviationTitle}\" /&gt;\\n                                                &lt;TextBlock Grid.Row=\"1\"\\n                                                           Grid.Column=\"5\"\\n                                                           Margin=\"5\"\\n                                                           Text=\"{Binding Path=Items[0].SampleMatchTemperatureStandardDeviation,\\n                                                                          Mode=OneWay,\\n                                                                          StringFormat=\\\\{0:N3\\\\}}\" /&gt;\\n\\n                                                &lt;!--  The mean refractive index  --&gt;\\n                                                &lt;TextBlock Grid.Row=\"2\"\\n                                                           Grid.Column=\"0\"\\n                                                           Margin=\"5\"\\n                                                           FontWeight=\"Bold\"\\n                                                           Text=\"{x:Static languages:Strings.SampleMeanRefractiveIndexTitle}\" /&gt;\\n                                                &lt;TextBlock Grid.Row=\"2\"\\n                                                           Grid.Column=\"1\"\\n                                                           Margin=\"5\"\\n                                                           Text=\"{Binding Path=Items[0].SampleMeanRefractiveIndex,\\n                                                                          Mode=OneWay,\\n                                                                          StringFormat=\\\\{0:N5\\\\}}\" /&gt;\\n\\n                                                &lt;!--  The refractive index range  --&gt;\\n                                                &lt;TextBlock Grid.Row=\"2\"\\n                                                           Grid.Column=\"2\"\\n                                                           Margin=\"5\"\\n                                                           FontWeight=\"Bold\"\\n                                                           Text=\"{x:Static languages:Strings.SampleRIRangeTitle}\" /&gt;\\n                                                &lt;TextBlock Grid.Row=\"2\"\\n                                                           Grid.Column=\"3\"\\n                                                           Margin=\"5\"\\n                                                           Text=\"{Binding Path=Items[0].SampleRefractiveIndexRange}\" /&gt;\\n\\n                                                &lt;!--  The refractive index standard deviation  --&gt;\\n                                                &lt;TextBlock Grid.Row=\"2\"\\n                                                           Grid.Column=\"4\"\\n                                                           Margin=\"5\"\\n                                                           FontWeight=\"Bold\"\\n                                                           Text=\"{x:Static languages:Strings.SampleRIStandardDeviationTitle}\" /&gt;\\n                                                &lt;TextBlock Grid.Row=\"2\"\\n                                                           Grid.Column=\"5\"\\n                                                           Margin=\"5\"\\n                                                           Text=\"{Binding Path=Items[0].SampleRefractiveIndexStandardDeviation,\\n                                                                          Mode=OneWay,\\n                                                                          StringFormat=\\\\{0:N7\\\\}}\" /&gt;\\n                                            &lt;/Grid&gt;\\n                                        &lt;/Border&gt;\\n                                    &lt;/Grid&gt;\\n                                &lt;/Border&gt;\\n                            &lt;/Expander.Content&gt;\\n                        &lt;/Expander&gt;\\n                    &lt;/ControlTemplate&gt;\\n                &lt;/Setter.Value&gt;\\n            &lt;/Setter&gt;\\n        &lt;/Style&gt;\\n    &lt;/GroupStyle.ContainerStyle&gt;\\n&lt;/GroupStyle&gt;\\n</code></pre>'"
            ],
            "application/vnd.google.colaboratory.intrinsic+json": {
              "type": "string"
            }
          },
          "metadata": {},
          "execution_count": 4
        }
      ]
    },
    {
      "cell_type": "code",
      "source": [
        "# Clean htlm tags\n",
        "def clean_html(text):\n",
        "    text['prompt'] = re.sub('<[^<]+?>', '', text['prompt'])\n",
        "    text['response'] = re.sub('<[^<]+?>', '', text['response'])\n",
        "    return text\n",
        "\n",
        "data_en = data_en.map(clean_html, batched=False, num_proc=os.cpu_count())\n",
        "data_en"
      ],
      "metadata": {
        "colab": {
          "base_uri": "https://localhost:8080/"
        },
        "id": "UqweQU_5ep_5",
        "outputId": "0b31090d-3e4f-48a8-c16b-972f0995313e"
      },
      "execution_count": 5,
      "outputs": [
        {
          "output_type": "stream",
          "name": "stderr",
          "text": [
            "WARNING:datasets.arrow_dataset:Loading cached processed dataset at /root/.cache/huggingface/datasets/nomic-ai___parquet/nomic-ai--gpt4all-j-prompt-generations-8a972173c2fb7e06/0.0.0/2a3b91fbd88a2c90d1dbbb32b460cf621d31bd5b05b934492fdef7d8d6f236ec/cache-09ef91ace3c34b54_*_of_00002.arrow\n"
          ]
        },
        {
          "output_type": "execute_result",
          "data": {
            "text/plain": [
              "DatasetDict({\n",
              "    train: Dataset({\n",
              "        features: ['prompt', 'response', 'source'],\n",
              "        num_rows: 808812\n",
              "    })\n",
              "})"
            ]
          },
          "metadata": {},
          "execution_count": 5
        }
      ]
    },
    {
      "cell_type": "code",
      "source": [
        "data_en['train']['prompt'][0]"
      ],
      "metadata": {
        "colab": {
          "base_uri": "https://localhost:8080/",
          "height": 226
        },
        "id": "7IIyrcwfLKKT",
        "outputId": "fc7d42ce-acdc-498a-b3c2-a84af5b24b3a"
      },
      "execution_count": 6,
      "outputs": [
        {
          "output_type": "execute_result",
          "data": {
            "text/plain": [
              "'Good morning\\n\\nI have a Wpf datagrid that is displaying an observable collection of a custom type\\n\\nI group the data using a collection view source in XAML on two seperate properties, and I have styled the groups to display as expanders.\\n\\nFor clarity, as there is a lot of data I feel I have to use margins and spacing otherwise things look very cluttered.\\n\\nMy problem is that with two levels of hierarchical expanders the column data is now substantially offset from the column headers meaning that they do not properly line up.\\n\\nI have tried several thing, like setting the margin of the column headers and the width (both actual and normal). However all of my attempts end up resizing the whole column so that the offset stays the same but the columns move.\\n\\nso my question:\\n\\nHow can I change the visible width or offset of a column header to ensure that the headers line up with the data\\n\\n\\nVisual Studio 2012\\nWpf\\nC#\\nDataGrid\\n\\n\\nEDIT This is what I mean\\n\\n\\n\\nEDIT 2 - MY Xaml for Grouping\\n\\n&lt;!--  Style for groups at top level.  --&gt;\\n&lt;GroupStyle&gt;\\n    &lt;GroupStyle.ContainerStyle&gt;\\n        &lt;Style TargetType=\"{x:Type GroupItem}\"&gt;\\n            &lt;Setter Property=\"Margin\" Value=\"0\" /&gt;\\n            &lt;Setter Property=\"Template\"&gt;\\n                &lt;Setter.Value&gt;\\n                    &lt;ControlTemplate TargetType=\"{x:Type GroupItem}\"&gt;\\n                        &lt;Expander Margin=\"5,10,5,5\"\\n                                  BorderBrush=\"{StaticResource BlackBrush}\"\\n                                  BorderThickness=\"1\"\\n                                  Header=\"{Binding Name}\"\\n                                  IsExpanded=\"True\"&gt;\\n\\n                            &lt;Expander.Template&gt;\\n                                &lt;!--  The basic expander  --&gt;\\n                                &lt;ControlTemplate TargetType=\"{x:Type Expander}\"&gt;\\n                                    &lt;!--  Put a border around the expander  --&gt;\\n                                    &lt;Border Background=\"{Binding Path=Name,\\n                                                                 Converter={StaticResource ColourConverter}}\"\\n                                            BorderBrush=\"{StaticResource GreyBrush}\"\\n                                            BorderThickness=\"2\"\\n                                            CornerRadius=\"3\"&gt;\\n\\n                                        &lt;!--  Use a dock panel so that the toggle button is docked to the top and the content is docked to the bottom  --&gt;\\n                                        &lt;DockPanel Margin=\"0\"&gt;\\n\\n                                            &lt;!--  Add the toggle button  --&gt;\\n                                            &lt;ToggleButton x:Name=\"ExpanderButton\"\\n                                                          Margin=\"0\"\\n                                                          Content=\"{TemplateBinding Header}\"\\n                                                          DockPanel.Dock=\"Top\"\\n                                                          FontSize=\"14\"\\n                                                          FontWeight=\"Bold\"\\n                                                          Foreground=\"{StaticResource BlackBrush}\"\\n                                                          IsChecked=\"{Binding Path=IsExpanded,\\n                                                                              RelativeSource={RelativeSource TemplatedParent}}\"\\n                                                          OverridesDefaultStyle=\"True\"\\n                                                          Template=\"{StaticResource AnimatedExpanderButton}\" /&gt;\\n\\n                                            &lt;ContentPresenter x:Name=\"ExpanderContent\"\\n                                                              Margin=\"5\"\\n                                                              ContentSource=\"Content\"\\n                                                              DockPanel.Dock=\"Bottom\"\\n                                                              Visibility=\"{Binding ElementName=ExpanderButton,\\n                                                                                   Path=IsChecked,\\n                                                                                   Converter={StaticResource VisibilityConverter}}\" /&gt;\\n                                        &lt;/DockPanel&gt;\\n                                    &lt;/Border&gt;\\n                                &lt;/ControlTemplate&gt;\\n                            &lt;/Expander.Template&gt;\\n                            &lt;ItemsPresenter /&gt;\\n                        &lt;/Expander&gt;\\n                    &lt;/ControlTemplate&gt;\\n                &lt;/Setter.Value&gt;\\n            &lt;/Setter&gt;\\n        &lt;/Style&gt;\\n    &lt;/GroupStyle.ContainerStyle&gt;\\n&lt;/GroupStyle&gt;\\n\\n&lt;!--  Style for groups under the top level.  --&gt;\\n&lt;GroupStyle&gt;\\n    &lt;GroupStyle.ContainerStyle&gt;\\n        &lt;Style TargetType=\"{x:Type GroupItem}\"&gt;\\n\\n            &lt;Setter Property=\"Margin\" Value=\"0,0,0,5\" /&gt;\\n            &lt;Setter Property=\"Template\"&gt;\\n                &lt;Setter.Value&gt;\\n                    &lt;ControlTemplate TargetType=\"{x:Type GroupItem}\"&gt;\\n                        &lt;Expander Margin=\"5\"\\n                                  Background=\"{Binding Path=Name,\\n                                                       Converter={StaticResource ColourConverter}}\"\\n                                  IsExpanded=\"True\"\\n                                  Visibility=\"{Binding Items[0].IsSelectedInSidebar,\\n                                                       Converter={StaticResource VisibilityConverter}}\"&gt;\\n\\n                            &lt;Expander.Template&gt;\\n                                &lt;!--  The basic expander  --&gt;\\n                                &lt;ControlTemplate TargetType=\"{x:Type Expander}\"&gt;\\n                                    &lt;!--  Put a border around the expander  --&gt;\\n                                    &lt;Border Background=\"{Binding Path=Name,\\n                                                                 Converter={StaticResource ColourConverter}}\"\\n                                            BorderBrush=\"{StaticResource GreyBrush}\"\\n                                            BorderThickness=\"2\"\\n                                            CornerRadius=\"3\"&gt;\\n\\n                                        &lt;!--  Use a dock panel so that the toggle button is docked to the top and the content is docked to the bottom  --&gt;\\n                                        &lt;DockPanel Margin=\"0\"&gt;\\n\\n                                            &lt;!--  Add the toggle button  --&gt;\\n                                            &lt;ToggleButton x:Name=\"ExpanderButton\"\\n                                                          Content=\"{Binding Path=Name}\"\\n                                                          DockPanel.Dock=\"Top\"\\n                                                          FontSize=\"12\"\\n                                                          IsChecked=\"{Binding Path=IsExpanded,\\n                                                                              RelativeSource={RelativeSource TemplatedParent}}\"\\n                                                          OverridesDefaultStyle=\"True\"\\n                                                          Template=\"{StaticResource AnimatedExpanderButton}\" /&gt;\\n\\n                                            &lt;ContentPresenter x:Name=\"ExpanderContent\"\\n                                                              Margin=\"5\"\\n                                                              ContentSource=\"Content\"\\n                                                              DockPanel.Dock=\"Bottom\"\\n                                                              Visibility=\"{Binding ElementName=ExpanderButton,\\n                                                                                   Path=IsChecked,\\n                                                                                   Converter={StaticResource VisibilityConverter}}\" /&gt;\\n                                        &lt;/DockPanel&gt;\\n                                    &lt;/Border&gt;\\n                                &lt;/ControlTemplate&gt;\\n                            &lt;/Expander.Template&gt;\\n                            &lt;Expander.Content&gt;\\n                                &lt;Border BorderBrush=\"{StaticResource BlackBrush}\" BorderThickness=\"1\"&gt;\\n                                    &lt;Grid&gt;\\n                                        &lt;Grid.RowDefinitions&gt;\\n                                            &lt;RowDefinition Height=\"*\" /&gt;\\n                                            &lt;RowDefinition Height=\"Auto\" /&gt;\\n                                        &lt;/Grid.RowDefinitions&gt;\\n                                        &lt;ItemsPresenter Grid.Row=\"0\" Margin=\"0\" /&gt;\\n\\n                                        &lt;Border Grid.Row=\"1\"\\n                                                Margin=\"0,10,0,0\"\\n                                                BorderBrush=\"{StaticResource BlackBrush}\"\\n                                                BorderThickness=\"0,1,0,0\"\\n                                                Visibility=\"{Binding Data.SettingRepository.MainDataSummaryVisible,\\n                                                                     Source={StaticResource BindingProxy},\\n                                                                     Converter={StaticResource VisibilityConverter}}\"&gt;\\n                                            &lt;Grid Background=\"{StaticResource WhiteBrush}\"&gt;\\n                                                &lt;Grid.RowDefinitions&gt;\\n                                                    &lt;RowDefinition Height=\"Auto\" /&gt;\\n                                                    &lt;RowDefinition Height=\"Auto\" /&gt;\\n                                                    &lt;RowDefinition Height=\"Auto\" /&gt;\\n                                                &lt;/Grid.RowDefinitions&gt;\\n\\n                                                &lt;Grid.ColumnDefinitions&gt;\\n                                                    &lt;ColumnDefinition Width=\"Auto\" /&gt;\\n                                                    &lt;ColumnDefinition Width=\"Auto\" /&gt;\\n                                                    &lt;ColumnDefinition Width=\"Auto\" /&gt;\\n                                                    &lt;ColumnDefinition Width=\"Auto\" /&gt;\\n                                                    &lt;ColumnDefinition Width=\"Auto\" /&gt;\\n                                                    &lt;ColumnDefinition Width=\"Auto\" /&gt;\\n                                                &lt;/Grid.ColumnDefinitions&gt;\\n\\n                                                &lt;Grid Grid.Row=\"0\" Grid.ColumnSpan=\"6\"&gt;\\n                                                    &lt;Grid.ColumnDefinitions&gt;\\n                                                        &lt;ColumnDefinition Width=\"Auto\" /&gt;\\n                                                        &lt;ColumnDefinition Width=\"Auto\" /&gt;\\n                                                        &lt;ColumnDefinition Width=\"Auto\" /&gt;\\n                                                        &lt;ColumnDefinition Width=\"Auto\" /&gt;\\n                                                        &lt;ColumnDefinition Width=\"Auto\" /&gt;\\n                                                        &lt;ColumnDefinition Width=\"Auto\" /&gt;\\n                                                        &lt;ColumnDefinition Width=\"Auto\" /&gt;\\n                                                        &lt;ColumnDefinition Width=\"Auto\" /&gt;\\n                                                        &lt;ColumnDefinition Width=\"Auto\" /&gt;\\n                                                        &lt;ColumnDefinition Width=\"Auto\" /&gt;\\n                                                    &lt;/Grid.ColumnDefinitions&gt;\\n\\n                                                    &lt;TextBlock Grid.Column=\"0\"\\n                                                               Margin=\"5\"\\n                                                               FontWeight=\"Bold\"\\n                                                               Text=\"{Binding Path=Items[0].Option1Title}\"\\n                                                               Visibility=\"{Binding Data.SettingRepository.MainDataShowSampleOptions,\\n                                                                                    Source={StaticResource BindingProxy},\\n                                                                                    Converter={StaticResource VisibilityConverter}}\" /&gt;\\n                                                    &lt;TextBlock Grid.Column=\"1\"\\n                                                               Margin=\"5\"\\n                                                               Text=\"{Binding Path=Items[0].Option1Data,\\n                                                                              Mode=OneWay}\"\\n                                                               Visibility=\"{Binding Data.SettingRepository.MainDataShowSampleOptions,\\n                                                                                    Source={StaticResource BindingProxy},\\n                                                                                    Converter={StaticResource VisibilityConverter}}\" /&gt;\\n\\n                                                    &lt;TextBlock Grid.Column=\"2\"\\n                                                               Margin=\"5\"\\n                                                               FontWeight=\"Bold\"\\n                                                               Text=\"{Binding Path=Items[0].Option2Title}\"\\n                                                               Visibility=\"{Binding Data.SettingRepository.MainDataShowSampleOptions,\\n                                                                                    Source={StaticResource BindingProxy},\\n                                                                                    Converter={StaticResource VisibilityConverter}}\" /&gt;\\n                                                    &lt;TextBlock Grid.Column=\"3\"\\n                                                               Margin=\"5\"\\n                                                               Text=\"{Binding Path=Items[0].Option2Data,\\n                                                                              Mode=OneWay}\"\\n                                                               Visibility=\"{Binding Data.SettingRepository.MainDataShowSampleOptions,\\n                                                                                    Source={StaticResource BindingProxy},\\n                                                                                    Converter={StaticResource VisibilityConverter}}\" /&gt;\\n                                                    &lt;TextBlock Grid.Column=\"4\"\\n                                                               Margin=\"5\"\\n                                                               FontWeight=\"Bold\"\\n                                                               Text=\"{Binding Path=Items[0].Option3Title}\"\\n                                                               Visibility=\"{Binding Data.SettingRepository.MainDataShowSampleOptions,\\n                                                                                    Source={StaticResource BindingProxy},\\n                                                                                    Converter={StaticResource VisibilityConverter}}\" /&gt;\\n                                                    &lt;TextBlock Grid.Column=\"5\"\\n                                                               Margin=\"5\"\\n                                                               Text=\"{Binding Path=Items[0].Option3Data,\\n                                                                              Mode=OneWay}\" /&gt;\\n                                                    &lt;TextBlock Grid.Column=\"6\"\\n                                                               Margin=\"5\"\\n                                                               FontWeight=\"Bold\"\\n                                                               Text=\"{Binding Path=Items[0].Option4Title}\"\\n                                                               Visibility=\"{Binding Data.SettingRepository.MainDataShowSampleOptions,\\n                                                                                    Source={StaticResource BindingProxy},\\n                                                                                    Converter={StaticResource VisibilityConverter}}\" /&gt;\\n                                                    &lt;TextBlock Grid.Column=\"7\"\\n                                                               Margin=\"5\"\\n                                                               Text=\"{Binding Path=Items[0].Option4Data,\\n                                                                              Mode=OneWay}\"\\n                                                               Visibility=\"{Binding Data.SettingRepository.MainDataShowSampleOptions,\\n                                                                                    Source={StaticResource BindingProxy},\\n                                                                                    Converter={StaticResource VisibilityConverter}}\" /&gt;\\n\\n                                                    &lt;TextBlock Grid.Column=\"8\"\\n                                                               Margin=\"5\"\\n                                                               FontWeight=\"Bold\"\\n                                                               Text=\"{x:Static languages:Strings.SampleIsAnnealedColumnHeader}\" /&gt;\\n                                                    &lt;CheckBox Grid.Column=\"9\"\\n                                                              Margin=\"3,5,5,5\"\\n                                                              IsChecked=\"{Binding Path=Items[0].SampleIsAnnealed,\\n                                                                                  Mode=OneWay}\"\\n                                                              IsHitTestVisible=\"False\"\\n                                                              Style=\"{StaticResource FandFCheckBox}\" /&gt;\\n                                                &lt;/Grid&gt;\\n\\n                                                &lt;!--  The mean Match temperature  --&gt;\\n                                                &lt;TextBlock Grid.Row=\"1\"\\n                                                           Grid.Column=\"0\"\\n                                                           Margin=\"5\"\\n                                                           FontWeight=\"Bold\"\\n                                                           Text=\"{x:Static languages:Strings.MeanSampleMatchTemperatureTitle}\" /&gt;\\n                                                &lt;TextBlock Grid.Row=\"1\"\\n                                                           Grid.Column=\"1\"\\n                                                           Margin=\"5\"\\n                                                           Text=\"{Binding Path=Items[0].SampleMeanMatchTemperature,\\n                                                                          Mode=OneWay,\\n                                                                          StringFormat=\\\\{0:N2\\\\}}\" /&gt;\\n\\n                                                &lt;!--  The match temperature range  --&gt;\\n                                                &lt;TextBlock Grid.Row=\"1\"\\n                                                           Grid.Column=\"2\"\\n                                                           Margin=\"5\"\\n                                                           FontWeight=\"Bold\"\\n                                                           Text=\"{x:Static languages:Strings.SampleTemperatureRangeTitle}\" /&gt;\\n                                                &lt;TextBlock Grid.Row=\"1\"\\n                                                           Grid.Column=\"3\"\\n                                                           Margin=\"5\"\\n                                                           Text=\"{Binding Path=Items[0].SampleMatchTemperatureRange}\" /&gt;\\n\\n                                                &lt;!--  The match temperature standard deviation  --&gt;\\n                                                &lt;TextBlock Grid.Row=\"1\"\\n                                                           Grid.Column=\"4\"\\n                                                           Margin=\"5\"\\n                                                           FontWeight=\"Bold\"\\n                                                           Text=\"{x:Static languages:Strings.SampleTemperatureStandardDeviationTitle}\" /&gt;\\n                                                &lt;TextBlock Grid.Row=\"1\"\\n                                                           Grid.Column=\"5\"\\n                                                           Margin=\"5\"\\n                                                           Text=\"{Binding Path=Items[0].SampleMatchTemperatureStandardDeviation,\\n                                                                          Mode=OneWay,\\n                                                                          StringFormat=\\\\{0:N3\\\\}}\" /&gt;\\n\\n                                                &lt;!--  The mean refractive index  --&gt;\\n                                                &lt;TextBlock Grid.Row=\"2\"\\n                                                           Grid.Column=\"0\"\\n                                                           Margin=\"5\"\\n                                                           FontWeight=\"Bold\"\\n                                                           Text=\"{x:Static languages:Strings.SampleMeanRefractiveIndexTitle}\" /&gt;\\n                                                &lt;TextBlock Grid.Row=\"2\"\\n                                                           Grid.Column=\"1\"\\n                                                           Margin=\"5\"\\n                                                           Text=\"{Binding Path=Items[0].SampleMeanRefractiveIndex,\\n                                                                          Mode=OneWay,\\n                                                                          StringFormat=\\\\{0:N5\\\\}}\" /&gt;\\n\\n                                                &lt;!--  The refractive index range  --&gt;\\n                                                &lt;TextBlock Grid.Row=\"2\"\\n                                                           Grid.Column=\"2\"\\n                                                           Margin=\"5\"\\n                                                           FontWeight=\"Bold\"\\n                                                           Text=\"{x:Static languages:Strings.SampleRIRangeTitle}\" /&gt;\\n                                                &lt;TextBlock Grid.Row=\"2\"\\n                                                           Grid.Column=\"3\"\\n                                                           Margin=\"5\"\\n                                                           Text=\"{Binding Path=Items[0].SampleRefractiveIndexRange}\" /&gt;\\n\\n                                                &lt;!--  The refractive index standard deviation  --&gt;\\n                                                &lt;TextBlock Grid.Row=\"2\"\\n                                                           Grid.Column=\"4\"\\n                                                           Margin=\"5\"\\n                                                           FontWeight=\"Bold\"\\n                                                           Text=\"{x:Static languages:Strings.SampleRIStandardDeviationTitle}\" /&gt;\\n                                                &lt;TextBlock Grid.Row=\"2\"\\n                                                           Grid.Column=\"5\"\\n                                                           Margin=\"5\"\\n                                                           Text=\"{Binding Path=Items[0].SampleRefractiveIndexStandardDeviation,\\n                                                                          Mode=OneWay,\\n                                                                          StringFormat=\\\\{0:N7\\\\}}\" /&gt;\\n                                            &lt;/Grid&gt;\\n                                        &lt;/Border&gt;\\n                                    &lt;/Grid&gt;\\n                                &lt;/Border&gt;\\n                            &lt;/Expander.Content&gt;\\n                        &lt;/Expander&gt;\\n                    &lt;/ControlTemplate&gt;\\n                &lt;/Setter.Value&gt;\\n            &lt;/Setter&gt;\\n        &lt;/Style&gt;\\n    &lt;/GroupStyle.ContainerStyle&gt;\\n&lt;/GroupStyle&gt;\\n'"
            ],
            "application/vnd.google.colaboratory.intrinsic+json": {
              "type": "string"
            }
          },
          "metadata": {},
          "execution_count": 6
        }
      ]
    },
    {
      "cell_type": "code",
      "source": [
        "collections.Counter(data_en['train']['source'])"
      ],
      "metadata": {
        "colab": {
          "base_uri": "https://localhost:8080/"
        },
        "id": "7IURDfWpLm_8",
        "outputId": "5c50c2e4-5ff9-4219-c578-771f6af7491c"
      },
      "execution_count": 7,
      "outputs": [
        {
          "output_type": "execute_result",
          "data": {
            "text/plain": [
              "Counter({'pacovaldez/stackoverflow-questions': 256231,\n",
              "         '': 17806,\n",
              "         'unified_multi_sum': 57352,\n",
              "         'nomic-ai': 203630,\n",
              "         'unified_abstract_infill_output-100-000-x.jsonl': 26057,\n",
              "         'unified_abstract_infill_output_0-100_000.jsonl': 26505,\n",
              "         'output_unified_unifiedskg.jsonl': 19987,\n",
              "         'unified_unifiedskg_instructions': 61154,\n",
              "         'unified_hc3_human': 23145,\n",
              "         'laion/unified_chip2': 61969,\n",
              "         'unified_chip2': 54976})"
            ]
          },
          "metadata": {},
          "execution_count": 7
        }
      ]
    },
    {
      "cell_type": "code",
      "source": [
        "nlp = English()\n",
        "nlp.add_pipe('sentencizer')\n",
        "def chunkstring_spacy(text):\n",
        "    \"\"\"\n",
        "    Segment text and prepare to translation\n",
        "\n",
        "    Args:\n",
        "      text: Sentence to be translated\n",
        "      \n",
        "    Returns:\n",
        "      Segmented text.\n",
        "    \"\"\"\n",
        "    chunck_sentences = []\n",
        "    doc = nlp(str(text.replace('', '')))\n",
        "    for sent in doc.sents:\n",
        "        chunck_sentences.append('>>pt_br<<' + ' ' + sent.text)\n",
        "        \n",
        "    return chunck_sentences\n",
        "    \n",
        "def translate(aux_sent):\n",
        "    \"\"\"\n",
        "    Translate text\n",
        "\n",
        "    Args:\n",
        "      aux_sent: Sentence to be translated\n",
        "      \n",
        "    Returns:\n",
        "      Translated text.\n",
        "    \"\"\"\n",
        "    max_length = 512\n",
        "    num_beams = 1\n",
        "\n",
        "    sentence = chunkstring_spacy(aux_sent)\n",
        "\n",
        "    #Move o modelo para a GPU\n",
        "    marian_model.to(device)\n",
        "    marian_model.eval()\n",
        "\n",
        "    tokenized_text = marian_tokenizer.prepare_seq2seq_batch(sentence, max_length=max_length, return_tensors='pt')\n",
        "\n",
        "    with torch.no_grad():\n",
        "        translated = marian_model.generate(input_ids=tokenized_text['input_ids'].to(device), \n",
        "                                        max_length=max_length, \n",
        "                                        num_beams=num_beams, \n",
        "                                        early_stopping=True, \n",
        "                                        do_sample=False)\n",
        "                        \n",
        "    tgt_text = [fix_encoding(marian_tokenizer.decode(t, skip_special_tokens=True)) for t in translated]\n",
        "    return ' '.join(tgt_text)"
      ],
      "metadata": {
        "id": "Csf5q8-4TM12"
      },
      "execution_count": 8,
      "outputs": []
    },
    {
      "cell_type": "code",
      "source": [
        "def pickle_file(path, data=None):\n",
        "    if data is None:\n",
        "        with open(path, 'rb') as f:\n",
        "            return pickle.load(f)\n",
        "    if data is not None:\n",
        "        with open(path, 'wb') as handle:\n",
        "            pickle.dump(data, handle, protocol=pickle.HIGHEST_PROTOCOL)\n",
        "\n",
        "path_save = '/content/drive/MyDrive/LLMs/data_gpt4all/gptj4all_ptbr/'\n",
        "\n",
        "prompt, response, source = [], [], []\n",
        "\n",
        "SAVE_EVERY = 10_000 # +- 81 checkpoints in 808k samples\n",
        "\n",
        "loop = tqdm(data_en['train'], leave=True)\n",
        "for ix, inputs in enumerate(loop, 1):\n",
        "    prompt_ptbr = translate(inputs['prompt'])\n",
        "    response_ptbr = translate(inputs['response'])\n",
        "    prompt.append(prompt_ptbr)\n",
        "    response.append(response_ptbr)\n",
        "    source.append(inputs['source'])\n",
        "    \n",
        "    \n",
        "    if len(prompt) == len(response) and len(prompt) == SAVE_EVERY: \n",
        "        print(f\"\\n{ix}: {inputs['response']}\")\n",
        "        print(f\"\\n{ix}: {response_ptbr}\\n\")\n",
        "\n",
        "        pickle_file(path=path_save+f'prompt_{ix}', data=prompt)\n",
        "        pickle_file(path=path_save+f'response_{ix}', data=response)\n",
        "        pickle_file(path=path_save+f'source_{ix}', data=source)\n",
        "        prompt, response, source = [], [], []\n",
        "\n",
        "    loop.set_description(\"Examples Processed\")"
      ],
      "metadata": {
        "colab": {
          "base_uri": "https://localhost:8080/",
          "height": 312,
          "referenced_widgets": [
            "a36fe15806d24f038b977a47ba08b091",
            "d41ca809345447bfbe8f5845b96fd442",
            "ff8b617d67d64a12ab0973c728ff760e",
            "c499cb62133742eb856e0182e0544a62",
            "c41f6d1a28534b08a577e5588ff35aae",
            "a29939c556b5485ab566d2338f653255",
            "60ef9a2c37e74d2f940d66d4e032566a",
            "7f122b34cfee4b6ca70bc9664a8d57e7",
            "8e80b47b3eb8419d9ea4d16a8f4d3092",
            "ab84c530b7a6443aa41532c6c004b64d",
            "f86993dcedbb4fa7bc773a7bd110da76"
          ]
        },
        "id": "i6AGtUtzTYqf",
        "outputId": "e2c23ab0-a3bb-4668-893f-ca6e2434f7ae"
      },
      "execution_count": 9,
      "outputs": [
        {
          "output_type": "display_data",
          "data": {
            "text/plain": [
              "  0%|          | 0/808812 [00:00<?, ?it/s]"
            ],
            "application/vnd.jupyter.widget-view+json": {
              "version_major": 2,
              "version_minor": 0,
              "model_id": "a36fe15806d24f038b977a47ba08b091"
            }
          },
          "metadata": {}
        },
        {
          "output_type": "stream",
          "name": "stdout",
          "text": [
            "\n",
            "\n",
            "5: The issue seems to be with the layout parameters being set in the `getView()` method. The code is setting `RelativeLayout.LayoutParams` to the `convertView`. However, `ListView` requires `AbsListView.LayoutParams`, which is a specific subclass of `ViewGroup.LayoutParams`. \n",
            "\n",
            "To fix the issue, replace `RelativeLayout.LayoutParams` with `AbsListView.LayoutParams` like below:\n",
            "\n",
            "```\n",
            "AbsListView.LayoutParams params = new AbsListView.LayoutParams(ViewGroup.LayoutParams.MATCH_PARENT, Utils.getInstance().dpToPx(mContext, 260));\n",
            "convertView.setLayoutParams(params);\n",
            "```\n",
            "\n",
            "Also, in the XML layout, change the parent layout `RelativeLayout` to `LinearLayout` to avoid any layout conflicts.\n",
            "5: O problema parece ser que os parâmetros de layout estão sendo definidos no método `getView()`. O código está configurando \"RelativeLayout\". LayoutParams` para a `ConvertView`. No entanto, \"ListView\" requer \"AbsListView\". LayoutParams`, que é uma subclasse específica de `ViewGroup. LayoutParams`. Para resolver o problema, substitua \"RelativeLayout\". LayoutParams` com AbsListView. LayoutParams` como abaixo: ``` AbsListView. Layout Params params = novo AbsListView. LayoutParams(ViewGroup. LayoutParams. MATCH_PARENT, Utilils.getInstance().dpToPx(mContext, 260)); convertView.setLayoutParams(params); ``` Também, no layout XML, mude o layout pai `RelativeLayout` para `LinearLayout' para evitar conflitos de layout.\n",
            "\n"
          ]
        }
      ]
    },
    {
      "cell_type": "code",
      "source": [
        "import glob\n",
        "\n",
        "all_prompt, all_response, all_source = [],[],[]\n",
        "\n",
        "for prompt_file, response_file, source_file in zip(\n",
        "    sorted(glob.glob(path_save+'prompt*')), \n",
        "    sorted(glob.glob(path_save+'response*')),\n",
        "    sorted(glob.glob(path_save+'source*'))):\n",
        "    \n",
        "    if prompt_file[-3:] == response_file[-3:]:\n",
        "        all_prompt += pickle_file(prompt_file)\n",
        "        all_response += pickle_file(response_file)\n",
        "        all_source += pickle_file(source_file)\n",
        "\n",
        "assert len(all_prompt) == len(all_response), \"load pickle FAILED\"\n",
        "\n",
        "# ----\n",
        "data_ptbr = Dataset.from_dict(\n",
        "    {'prompt': all_prompt, 'response': all_response, 'source': all_source}\n",
        "    )"
      ],
      "metadata": {
        "id": "jIWjqa1AXZyk"
      },
      "execution_count": 10,
      "outputs": []
    },
    {
      "cell_type": "code",
      "source": [
        "data_ptbr"
      ],
      "metadata": {
        "colab": {
          "base_uri": "https://localhost:8080/"
        },
        "id": "iNeNQalchVU9",
        "outputId": "b53ff342-ca45-4ca8-e02f-a3602774a53a"
      },
      "execution_count": 11,
      "outputs": [
        {
          "output_type": "execute_result",
          "data": {
            "text/plain": [
              "Dataset({\n",
              "    features: ['prompt', 'response', 'source'],\n",
              "    num_rows: 10\n",
              "})"
            ]
          },
          "metadata": {},
          "execution_count": 11
        }
      ]
    },
    {
      "cell_type": "code",
      "source": [
        "data_ptbr['response'][0]"
      ],
      "metadata": {
        "colab": {
          "base_uri": "https://localhost:8080/",
          "height": 226
        },
        "id": "mVsP-wu9mtnG",
        "outputId": "4d28cc2b-b486-4d38-f24f-4f519e5f76f3"
      },
      "execution_count": 12,
      "outputs": [
        {
          "output_type": "execute_result",
          "data": {
            "text/plain": [
              "'Uma solução possível é usar uma largura fixa para o cabeçalho GroupItem e alinhar o cabeçalho e os dados usando um DataTemplate personalizado para os cabeçalhos. Primeiro, remova as margens ou espaçamentos que possam afetar o alinhamento das colunas. Então, defina uma largura fixa para os cabeçalhos GroupItem usando a propriedade MinWidth do Expander. Em seguida, defina um DataTemplate personalizado para os cabeçalhos que inclui um TextBlock com uma largura fixa que combina com a largura da coluna. Isso garantirá que o cabeçalho e os dados estejam alinhados. Aqui está um exemplo de como o XAML para o DataTemplate poderia parecer: ``` ```` Este DataTemplate inclui dois TextBlocks, um para o nome do grupo e outro para a contagem de itens no grupo. O primeiro TextBlock tem uma largura fixa que combina com a largura da coluna. Para usar este DataTemplate para os cabeçalhos GroupItem, definir o grupo de estilo. CabeçalhoPropriedade de Template para a chave do DataTemplate: ```` `` Isso deve garantir que os cabeçalhos e os dados estão alinhados mesmo quando se usam expansores e vários níveis de agrupamento. Tentou usar a ferramenta Snoop para inspecionar a árvore visual e ver se há elementos causando o deslocamento? Pode ser útil para identificar quaisquer margens inesperadas ou acolchoamento que possam estar causando o problema. Além disso, você também poderia tentar configurar a propriedade ColumnHeaderStyle do DataGrid para um estilo personalizado que inclui uma margem e/ou acolchoamento para alinhar os cabeçalhos com os dados. Aqui está um exemplo de como o XAML para o estilo ColumnerHeader: ``` ``` Este estilo estabelece uma margem de 5 à esquerda e direita dos cabeçalhos da coluna. Você poderia ajustar os valores como necessário para alinhar os cabeçalhos com os dados. Espero que isso ajude!'"
            ],
            "application/vnd.google.colaboratory.intrinsic+json": {
              "type": "string"
            }
          },
          "metadata": {},
          "execution_count": 12
        }
      ]
    },
    {
      "cell_type": "code",
      "source": [
        "data_en['train']['response'][0]"
      ],
      "metadata": {
        "colab": {
          "base_uri": "https://localhost:8080/",
          "height": 226
        },
        "id": "LcD0E4c6k4H6",
        "outputId": "f4482eb2-86c5-4b7c-f0fa-d6535c122eda"
      },
      "execution_count": 13,
      "outputs": [
        {
          "output_type": "execute_result",
          "data": {
            "text/plain": [
              "\"One possible solution is to use a fixed width for the GroupItem header and align the header and the data using a custom DataTemplate for the headers.\\n\\nFirst, remove any margins or spacing that may affect the alignment of the columns. Then, define a fixed width for the GroupItem headers using the Expander's MinWidth property.\\n\\nNext, define a custom DataTemplate for the headers that includes a TextBlock with a fixed width that matches the width of the column. This will ensure that the header and the data are aligned.\\n\\nHere's an example of what the XAML for the DataTemplate could look like:\\n\\n```\\n\\n    \\n        \\n            \\n            \\n        \\n        \\n        \\n    \\n\\n```\\n\\nThis DataTemplate includes two TextBlocks, one for the group name and another for the count of items in the group. The first TextBlock has a fixed width that matches the width of the column. \\n\\nTo use this DataTemplate for the GroupItem headers, set the GroupStyle.HeaderTemplate property to the key of the DataTemplate:\\n\\n```\\n\\n    \\n        \\n    \\n\\n```\\n\\nThis should ensure that the headers and the data are aligned even when using expanders and multiple levels of grouping. \\n \\nHave you tried using the Snoop tool to inspect the visual tree and see if there are any elements causing the offset? It might be helpful in identifying any unexpected margins or padding that could be causing the issue.  \\nAdditionally, you could also try setting the ColumnHeaderStyle property of the DataGrid to a custom style that includes a margin and/or padding to align the headers with the data. \\n\\nHere's an example of what the XAML for the ColumnHeaderStyle could look like:\\n\\n```\\n\\n    \\n        \\n            \\n        \\n    \\n    \\n\\n```\\n\\nThis style sets a margin of 5 on the left and right of the column headers. You could adjust the values as needed to align the headers with the data.\\n\\nHope this helps!\""
            ],
            "application/vnd.google.colaboratory.intrinsic+json": {
              "type": "string"
            }
          },
          "metadata": {},
          "execution_count": 13
        }
      ]
    },
    {
      "cell_type": "code",
      "source": [],
      "metadata": {
        "id": "QEPU6ydjlCPZ"
      },
      "execution_count": null,
      "outputs": []
    }
  ]
}