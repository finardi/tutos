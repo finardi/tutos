{
  "nbformat": 4,
  "nbformat_minor": 0,
  "metadata": {
    "colab": {
      "name": "Pandas: chunk-handle-big-DF.ipynb",
      "provenance": [],
      "authorship_tag": "ABX9TyOuhfI27m14KLCRNxNcqXUU",
      "include_colab_link": true
    },
    "kernelspec": {
      "name": "python3",
      "display_name": "Python 3"
    }
  },
  "cells": [
    {
      "cell_type": "markdown",
      "metadata": {
        "id": "view-in-github",
        "colab_type": "text"
      },
      "source": [
        "<a href=\"https://colab.research.google.com/github/finardi/tutos/blob/master/Pandas_chunk_handle_big_DF.ipynb\" target=\"_parent\"><img src=\"https://colab.research.google.com/assets/colab-badge.svg\" alt=\"Open In Colab\"/></a>"
      ]
    },
    {
      "cell_type": "code",
      "metadata": {
        "id": "_bQD0kaIO02G",
        "colab_type": "code",
        "colab": {}
      },
      "source": [
        "import pandas as pd\n",
        "import numpy as np\n",
        "pd.option_context(\"display.max_rows\", 999, \"display.max_columns\", 999, 'max_colwidth', -1)\n",
        "pd.set_option('max_colwidth', 400)"
      ],
      "execution_count": 1,
      "outputs": []
    },
    {
      "cell_type": "code",
      "metadata": {
        "id": "uuyvVpVjO2BI",
        "colab_type": "code",
        "colab": {
          "base_uri": "https://localhost:8080/",
          "height": 35
        },
        "outputId": "18c27d84-d378-4dab-b708-bca9330fae6d"
      },
      "source": [
        "pd.__version__"
      ],
      "execution_count": 2,
      "outputs": [
        {
          "output_type": "execute_result",
          "data": {
            "application/vnd.google.colaboratory.intrinsic+json": {
              "type": "string"
            },
            "text/plain": [
              "'1.0.5'"
            ]
          },
          "metadata": {
            "tags": []
          },
          "execution_count": 2
        }
      ]
    },
    {
      "cell_type": "code",
      "metadata": {
        "id": "sNHvoIkLO8y4",
        "colab_type": "code",
        "colab": {
          "base_uri": "https://localhost:8080/",
          "height": 34
        },
        "outputId": "1e30bdb0-3eda-40f1-da73-92c5d66c7c83"
      },
      "source": [
        "# One mi rows df\n",
        "n  = 1_000_000\n",
        "\n",
        "df = pd.DataFrame(\n",
        "    {\n",
        "        'COL_A':[27]*n,\n",
        "        'COL_B':[11]*n, \n",
        "        'COL_C':[83]*n,\n",
        "     }\n",
        "      )\n",
        "print(df.shape)\n",
        "\n",
        "#save\n",
        "df.to_csv('bigDF.csv')"
      ],
      "execution_count": 3,
      "outputs": [
        {
          "output_type": "stream",
          "text": [
            "(1000000, 3)\n"
          ],
          "name": "stdout"
        }
      ]
    },
    {
      "cell_type": "code",
      "metadata": {
        "id": "X-s32JW8zf0E",
        "colab_type": "code",
        "colab": {}
      },
      "source": [
        ""
      ],
      "execution_count": 31,
      "outputs": []
    },
    {
      "cell_type": "code",
      "metadata": {
        "id": "xmkAB3qD0ZnU",
        "colab_type": "code",
        "colab": {}
      },
      "source": [
        "class CleanData:\n",
        "    def __init__(self, df):\n",
        "        self.data = df.copy()\n",
        "\n",
        "    def clean_data(self):\n",
        "        data = self.data.copy()\n",
        "        data = data.fillna(0)\n",
        "        data = data.assign(D = ['28-01-1984']*CHUNK_SZ)\n",
        "        return data"
      ],
      "execution_count": 39,
      "outputs": []
    },
    {
      "cell_type": "code",
      "metadata": {
        "id": "MqlDn8Sz0D4t",
        "colab_type": "code",
        "colab": {
          "base_uri": "https://localhost:8080/",
          "height": 51
        },
        "outputId": "afac7596-7a32-4fc5-dbd2-af6a3f7955c9"
      },
      "source": [
        "#read CSV in chunk\n",
        "CHUNK_SZ = 100_000\n",
        "df_chunk = pd.read_csv(r'bigDF.csv', index_col=0, chunksize=CHUNK_SZ)\n",
        "\n",
        "chunk_data = [] #append each df chunk \n",
        "memory = [] #memory usage by chunk\n",
        "\n",
        "for chunk in df_chunk:\n",
        "    memory.append(chunk.memory_usage(index=True, deep=True).sum())\n",
        "    \n",
        "    #perform data clean\n",
        "    processing = CleanData(chunk).clean_data()\n",
        "\n",
        "    #append the data cleanead in the list\n",
        "    chunk_data.append(processing)\n",
        "\n",
        "#computes the avg memory per chunk\n",
        "AVG_MEMORY = sum(memory)/len(memory)\n",
        "print(f'Total number of chunks: {len(memory)} -- Avg. memory per chunk: {AVG_MEMORY*1e-6 :.2}Mb')\n",
        "\n",
        "#concatenate the list in dataframe\n",
        "df_concat = pd.concat(chunk_data) \n",
        "print(f'df concatened shape: {df_concat.shape}')"
      ],
      "execution_count": 42,
      "outputs": [
        {
          "output_type": "stream",
          "text": [
            "Total number of chunks: 10 -- Avg. memory per chunk: 3.2Mb\n",
            "df concatened shape: (1000000, 4)\n"
          ],
          "name": "stdout"
        }
      ]
    },
    {
      "cell_type": "code",
      "metadata": {
        "id": "LJQqKRC67Qu1",
        "colab_type": "code",
        "colab": {}
      },
      "source": [
        ""
      ],
      "execution_count": null,
      "outputs": []
    }
  ]
}