{
  "nbformat": 4,
  "nbformat_minor": 0,
  "metadata": {
    "colab": {
      "name": "Sentence-BERT - DirtyTalk.ipynb",
      "provenance": [],
      "collapsed_sections": [],
      "mount_file_id": "1Yk49DBnV51sGRIm3Z1uG1gV0d9STMJa0",
      "authorship_tag": "ABX9TyNoW4r1tFEPXecySZxmcAhj",
      "include_colab_link": true
    },
    "kernelspec": {
      "name": "python3",
      "display_name": "Python 3"
    },
    "language_info": {
      "name": "python"
    },
    "widgets": {
      "application/vnd.jupyter.widget-state+json": {
        "0a49c5a95df242d483d902e785a35027": {
          "model_module": "@jupyter-widgets/controls",
          "model_name": "HBoxModel",
          "model_module_version": "1.5.0",
          "state": {
            "_view_name": "HBoxView",
            "_dom_classes": [],
            "_model_name": "HBoxModel",
            "_view_module": "@jupyter-widgets/controls",
            "_model_module_version": "1.5.0",
            "_view_count": null,
            "_view_module_version": "1.5.0",
            "box_style": "",
            "layout": "IPY_MODEL_353fc161400242cb8e98312490934f94",
            "_model_module": "@jupyter-widgets/controls",
            "children": [
              "IPY_MODEL_bb7e143e936d4ce6a71bf7771cb7515b",
              "IPY_MODEL_bd1b548a3935498c9e31c3c48a05b9e3",
              "IPY_MODEL_b9c3df0968ae4aff9986074bb3b4559d"
            ]
          }
        },
        "353fc161400242cb8e98312490934f94": {
          "model_module": "@jupyter-widgets/base",
          "model_name": "LayoutModel",
          "model_module_version": "1.2.0",
          "state": {
            "_view_name": "LayoutView",
            "grid_template_rows": null,
            "right": null,
            "justify_content": null,
            "_view_module": "@jupyter-widgets/base",
            "overflow": null,
            "_model_module_version": "1.2.0",
            "_view_count": null,
            "flex_flow": null,
            "width": null,
            "min_width": null,
            "border": null,
            "align_items": null,
            "bottom": null,
            "_model_module": "@jupyter-widgets/base",
            "top": null,
            "grid_column": null,
            "overflow_y": null,
            "overflow_x": null,
            "grid_auto_flow": null,
            "grid_area": null,
            "grid_template_columns": null,
            "flex": null,
            "_model_name": "LayoutModel",
            "justify_items": null,
            "grid_row": null,
            "max_height": null,
            "align_content": null,
            "visibility": null,
            "align_self": null,
            "height": null,
            "min_height": null,
            "padding": null,
            "grid_auto_rows": null,
            "grid_gap": null,
            "max_width": null,
            "order": null,
            "_view_module_version": "1.2.0",
            "grid_template_areas": null,
            "object_position": null,
            "object_fit": null,
            "grid_auto_columns": null,
            "margin": null,
            "display": null,
            "left": null
          }
        },
        "bb7e143e936d4ce6a71bf7771cb7515b": {
          "model_module": "@jupyter-widgets/controls",
          "model_name": "HTMLModel",
          "model_module_version": "1.5.0",
          "state": {
            "_view_name": "HTMLView",
            "style": "IPY_MODEL_73c0005e470a4e3d95933f41f7278e2f",
            "_dom_classes": [],
            "description": "",
            "_model_name": "HTMLModel",
            "placeholder": "​",
            "_view_module": "@jupyter-widgets/controls",
            "_model_module_version": "1.5.0",
            "value": "Downloading: 100%",
            "_view_count": null,
            "_view_module_version": "1.5.0",
            "description_tooltip": null,
            "_model_module": "@jupyter-widgets/controls",
            "layout": "IPY_MODEL_471ab6f2ad3a48e995b8ce4ab9b51194"
          }
        },
        "bd1b548a3935498c9e31c3c48a05b9e3": {
          "model_module": "@jupyter-widgets/controls",
          "model_name": "FloatProgressModel",
          "model_module_version": "1.5.0",
          "state": {
            "_view_name": "ProgressView",
            "style": "IPY_MODEL_7c76a22faddf4013a0eeaa110f946863",
            "_dom_classes": [],
            "description": "",
            "_model_name": "FloatProgressModel",
            "bar_style": "success",
            "max": 209528,
            "_view_module": "@jupyter-widgets/controls",
            "_model_module_version": "1.5.0",
            "value": 209528,
            "_view_count": null,
            "_view_module_version": "1.5.0",
            "orientation": "horizontal",
            "min": 0,
            "description_tooltip": null,
            "_model_module": "@jupyter-widgets/controls",
            "layout": "IPY_MODEL_4a0f2ed67b5248a39862776ddc5b1d7a"
          }
        },
        "b9c3df0968ae4aff9986074bb3b4559d": {
          "model_module": "@jupyter-widgets/controls",
          "model_name": "HTMLModel",
          "model_module_version": "1.5.0",
          "state": {
            "_view_name": "HTMLView",
            "style": "IPY_MODEL_484a8f5cc931474fb3749b5db3b06c65",
            "_dom_classes": [],
            "description": "",
            "_model_name": "HTMLModel",
            "placeholder": "​",
            "_view_module": "@jupyter-widgets/controls",
            "_model_module_version": "1.5.0",
            "value": " 205k/205k [00:00&lt;00:00, 590kB/s]",
            "_view_count": null,
            "_view_module_version": "1.5.0",
            "description_tooltip": null,
            "_model_module": "@jupyter-widgets/controls",
            "layout": "IPY_MODEL_7d895f83548e4b5ab47503abfc262e25"
          }
        },
        "73c0005e470a4e3d95933f41f7278e2f": {
          "model_module": "@jupyter-widgets/controls",
          "model_name": "DescriptionStyleModel",
          "model_module_version": "1.5.0",
          "state": {
            "_view_name": "StyleView",
            "_model_name": "DescriptionStyleModel",
            "description_width": "",
            "_view_module": "@jupyter-widgets/base",
            "_model_module_version": "1.5.0",
            "_view_count": null,
            "_view_module_version": "1.2.0",
            "_model_module": "@jupyter-widgets/controls"
          }
        },
        "471ab6f2ad3a48e995b8ce4ab9b51194": {
          "model_module": "@jupyter-widgets/base",
          "model_name": "LayoutModel",
          "model_module_version": "1.2.0",
          "state": {
            "_view_name": "LayoutView",
            "grid_template_rows": null,
            "right": null,
            "justify_content": null,
            "_view_module": "@jupyter-widgets/base",
            "overflow": null,
            "_model_module_version": "1.2.0",
            "_view_count": null,
            "flex_flow": null,
            "width": null,
            "min_width": null,
            "border": null,
            "align_items": null,
            "bottom": null,
            "_model_module": "@jupyter-widgets/base",
            "top": null,
            "grid_column": null,
            "overflow_y": null,
            "overflow_x": null,
            "grid_auto_flow": null,
            "grid_area": null,
            "grid_template_columns": null,
            "flex": null,
            "_model_name": "LayoutModel",
            "justify_items": null,
            "grid_row": null,
            "max_height": null,
            "align_content": null,
            "visibility": null,
            "align_self": null,
            "height": null,
            "min_height": null,
            "padding": null,
            "grid_auto_rows": null,
            "grid_gap": null,
            "max_width": null,
            "order": null,
            "_view_module_version": "1.2.0",
            "grid_template_areas": null,
            "object_position": null,
            "object_fit": null,
            "grid_auto_columns": null,
            "margin": null,
            "display": null,
            "left": null
          }
        },
        "7c76a22faddf4013a0eeaa110f946863": {
          "model_module": "@jupyter-widgets/controls",
          "model_name": "ProgressStyleModel",
          "model_module_version": "1.5.0",
          "state": {
            "_view_name": "StyleView",
            "_model_name": "ProgressStyleModel",
            "description_width": "",
            "_view_module": "@jupyter-widgets/base",
            "_model_module_version": "1.5.0",
            "_view_count": null,
            "_view_module_version": "1.2.0",
            "bar_color": null,
            "_model_module": "@jupyter-widgets/controls"
          }
        },
        "4a0f2ed67b5248a39862776ddc5b1d7a": {
          "model_module": "@jupyter-widgets/base",
          "model_name": "LayoutModel",
          "model_module_version": "1.2.0",
          "state": {
            "_view_name": "LayoutView",
            "grid_template_rows": null,
            "right": null,
            "justify_content": null,
            "_view_module": "@jupyter-widgets/base",
            "overflow": null,
            "_model_module_version": "1.2.0",
            "_view_count": null,
            "flex_flow": null,
            "width": null,
            "min_width": null,
            "border": null,
            "align_items": null,
            "bottom": null,
            "_model_module": "@jupyter-widgets/base",
            "top": null,
            "grid_column": null,
            "overflow_y": null,
            "overflow_x": null,
            "grid_auto_flow": null,
            "grid_area": null,
            "grid_template_columns": null,
            "flex": null,
            "_model_name": "LayoutModel",
            "justify_items": null,
            "grid_row": null,
            "max_height": null,
            "align_content": null,
            "visibility": null,
            "align_self": null,
            "height": null,
            "min_height": null,
            "padding": null,
            "grid_auto_rows": null,
            "grid_gap": null,
            "max_width": null,
            "order": null,
            "_view_module_version": "1.2.0",
            "grid_template_areas": null,
            "object_position": null,
            "object_fit": null,
            "grid_auto_columns": null,
            "margin": null,
            "display": null,
            "left": null
          }
        },
        "484a8f5cc931474fb3749b5db3b06c65": {
          "model_module": "@jupyter-widgets/controls",
          "model_name": "DescriptionStyleModel",
          "model_module_version": "1.5.0",
          "state": {
            "_view_name": "StyleView",
            "_model_name": "DescriptionStyleModel",
            "description_width": "",
            "_view_module": "@jupyter-widgets/base",
            "_model_module_version": "1.5.0",
            "_view_count": null,
            "_view_module_version": "1.2.0",
            "_model_module": "@jupyter-widgets/controls"
          }
        },
        "7d895f83548e4b5ab47503abfc262e25": {
          "model_module": "@jupyter-widgets/base",
          "model_name": "LayoutModel",
          "model_module_version": "1.2.0",
          "state": {
            "_view_name": "LayoutView",
            "grid_template_rows": null,
            "right": null,
            "justify_content": null,
            "_view_module": "@jupyter-widgets/base",
            "overflow": null,
            "_model_module_version": "1.2.0",
            "_view_count": null,
            "flex_flow": null,
            "width": null,
            "min_width": null,
            "border": null,
            "align_items": null,
            "bottom": null,
            "_model_module": "@jupyter-widgets/base",
            "top": null,
            "grid_column": null,
            "overflow_y": null,
            "overflow_x": null,
            "grid_auto_flow": null,
            "grid_area": null,
            "grid_template_columns": null,
            "flex": null,
            "_model_name": "LayoutModel",
            "justify_items": null,
            "grid_row": null,
            "max_height": null,
            "align_content": null,
            "visibility": null,
            "align_self": null,
            "height": null,
            "min_height": null,
            "padding": null,
            "grid_auto_rows": null,
            "grid_gap": null,
            "max_width": null,
            "order": null,
            "_view_module_version": "1.2.0",
            "grid_template_areas": null,
            "object_position": null,
            "object_fit": null,
            "grid_auto_columns": null,
            "margin": null,
            "display": null,
            "left": null
          }
        },
        "af80f8f4ce434c738e02170de3465563": {
          "model_module": "@jupyter-widgets/controls",
          "model_name": "HBoxModel",
          "model_module_version": "1.5.0",
          "state": {
            "_view_name": "HBoxView",
            "_dom_classes": [],
            "_model_name": "HBoxModel",
            "_view_module": "@jupyter-widgets/controls",
            "_model_module_version": "1.5.0",
            "_view_count": null,
            "_view_module_version": "1.5.0",
            "box_style": "",
            "layout": "IPY_MODEL_de8e8f7b192940fd9ef40cf0025e92d3",
            "_model_module": "@jupyter-widgets/controls",
            "children": [
              "IPY_MODEL_a8a0a91b54804d01b52b92417b25a9d3",
              "IPY_MODEL_901d3698c5844df6aeb182bb27eb0b68",
              "IPY_MODEL_ca28243a8641415eb9ffa5bf50141c3b"
            ]
          }
        },
        "de8e8f7b192940fd9ef40cf0025e92d3": {
          "model_module": "@jupyter-widgets/base",
          "model_name": "LayoutModel",
          "model_module_version": "1.2.0",
          "state": {
            "_view_name": "LayoutView",
            "grid_template_rows": null,
            "right": null,
            "justify_content": null,
            "_view_module": "@jupyter-widgets/base",
            "overflow": null,
            "_model_module_version": "1.2.0",
            "_view_count": null,
            "flex_flow": null,
            "width": null,
            "min_width": null,
            "border": null,
            "align_items": null,
            "bottom": null,
            "_model_module": "@jupyter-widgets/base",
            "top": null,
            "grid_column": null,
            "overflow_y": null,
            "overflow_x": null,
            "grid_auto_flow": null,
            "grid_area": null,
            "grid_template_columns": null,
            "flex": null,
            "_model_name": "LayoutModel",
            "justify_items": null,
            "grid_row": null,
            "max_height": null,
            "align_content": null,
            "visibility": null,
            "align_self": null,
            "height": null,
            "min_height": null,
            "padding": null,
            "grid_auto_rows": null,
            "grid_gap": null,
            "max_width": null,
            "order": null,
            "_view_module_version": "1.2.0",
            "grid_template_areas": null,
            "object_position": null,
            "object_fit": null,
            "grid_auto_columns": null,
            "margin": null,
            "display": null,
            "left": null
          }
        },
        "a8a0a91b54804d01b52b92417b25a9d3": {
          "model_module": "@jupyter-widgets/controls",
          "model_name": "HTMLModel",
          "model_module_version": "1.5.0",
          "state": {
            "_view_name": "HTMLView",
            "style": "IPY_MODEL_27e695e67fcf4db88566d99cd1241911",
            "_dom_classes": [],
            "description": "",
            "_model_name": "HTMLModel",
            "placeholder": "​",
            "_view_module": "@jupyter-widgets/controls",
            "_model_module_version": "1.5.0",
            "value": "Downloading: 100%",
            "_view_count": null,
            "_view_module_version": "1.5.0",
            "description_tooltip": null,
            "_model_module": "@jupyter-widgets/controls",
            "layout": "IPY_MODEL_f051847916c743ab9d6de9c98e96033d"
          }
        },
        "901d3698c5844df6aeb182bb27eb0b68": {
          "model_module": "@jupyter-widgets/controls",
          "model_name": "FloatProgressModel",
          "model_module_version": "1.5.0",
          "state": {
            "_view_name": "ProgressView",
            "style": "IPY_MODEL_e17ed28098374062911db0ed7a86ba1e",
            "_dom_classes": [],
            "description": "",
            "_model_name": "FloatProgressModel",
            "bar_style": "success",
            "max": 2,
            "_view_module": "@jupyter-widgets/controls",
            "_model_module_version": "1.5.0",
            "value": 2,
            "_view_count": null,
            "_view_module_version": "1.5.0",
            "orientation": "horizontal",
            "min": 0,
            "description_tooltip": null,
            "_model_module": "@jupyter-widgets/controls",
            "layout": "IPY_MODEL_941d35025ea74977bd6bcde7229f833a"
          }
        },
        "ca28243a8641415eb9ffa5bf50141c3b": {
          "model_module": "@jupyter-widgets/controls",
          "model_name": "HTMLModel",
          "model_module_version": "1.5.0",
          "state": {
            "_view_name": "HTMLView",
            "style": "IPY_MODEL_da323e2bd13440aaa090585d70c00cdf",
            "_dom_classes": [],
            "description": "",
            "_model_name": "HTMLModel",
            "placeholder": "​",
            "_view_module": "@jupyter-widgets/controls",
            "_model_module_version": "1.5.0",
            "value": " 2.00/2.00 [00:00&lt;00:00, 46.3B/s]",
            "_view_count": null,
            "_view_module_version": "1.5.0",
            "description_tooltip": null,
            "_model_module": "@jupyter-widgets/controls",
            "layout": "IPY_MODEL_652b10e2f49d403b93b1d20950bfa912"
          }
        },
        "27e695e67fcf4db88566d99cd1241911": {
          "model_module": "@jupyter-widgets/controls",
          "model_name": "DescriptionStyleModel",
          "model_module_version": "1.5.0",
          "state": {
            "_view_name": "StyleView",
            "_model_name": "DescriptionStyleModel",
            "description_width": "",
            "_view_module": "@jupyter-widgets/base",
            "_model_module_version": "1.5.0",
            "_view_count": null,
            "_view_module_version": "1.2.0",
            "_model_module": "@jupyter-widgets/controls"
          }
        },
        "f051847916c743ab9d6de9c98e96033d": {
          "model_module": "@jupyter-widgets/base",
          "model_name": "LayoutModel",
          "model_module_version": "1.2.0",
          "state": {
            "_view_name": "LayoutView",
            "grid_template_rows": null,
            "right": null,
            "justify_content": null,
            "_view_module": "@jupyter-widgets/base",
            "overflow": null,
            "_model_module_version": "1.2.0",
            "_view_count": null,
            "flex_flow": null,
            "width": null,
            "min_width": null,
            "border": null,
            "align_items": null,
            "bottom": null,
            "_model_module": "@jupyter-widgets/base",
            "top": null,
            "grid_column": null,
            "overflow_y": null,
            "overflow_x": null,
            "grid_auto_flow": null,
            "grid_area": null,
            "grid_template_columns": null,
            "flex": null,
            "_model_name": "LayoutModel",
            "justify_items": null,
            "grid_row": null,
            "max_height": null,
            "align_content": null,
            "visibility": null,
            "align_self": null,
            "height": null,
            "min_height": null,
            "padding": null,
            "grid_auto_rows": null,
            "grid_gap": null,
            "max_width": null,
            "order": null,
            "_view_module_version": "1.2.0",
            "grid_template_areas": null,
            "object_position": null,
            "object_fit": null,
            "grid_auto_columns": null,
            "margin": null,
            "display": null,
            "left": null
          }
        },
        "e17ed28098374062911db0ed7a86ba1e": {
          "model_module": "@jupyter-widgets/controls",
          "model_name": "ProgressStyleModel",
          "model_module_version": "1.5.0",
          "state": {
            "_view_name": "StyleView",
            "_model_name": "ProgressStyleModel",
            "description_width": "",
            "_view_module": "@jupyter-widgets/base",
            "_model_module_version": "1.5.0",
            "_view_count": null,
            "_view_module_version": "1.2.0",
            "bar_color": null,
            "_model_module": "@jupyter-widgets/controls"
          }
        },
        "941d35025ea74977bd6bcde7229f833a": {
          "model_module": "@jupyter-widgets/base",
          "model_name": "LayoutModel",
          "model_module_version": "1.2.0",
          "state": {
            "_view_name": "LayoutView",
            "grid_template_rows": null,
            "right": null,
            "justify_content": null,
            "_view_module": "@jupyter-widgets/base",
            "overflow": null,
            "_model_module_version": "1.2.0",
            "_view_count": null,
            "flex_flow": null,
            "width": null,
            "min_width": null,
            "border": null,
            "align_items": null,
            "bottom": null,
            "_model_module": "@jupyter-widgets/base",
            "top": null,
            "grid_column": null,
            "overflow_y": null,
            "overflow_x": null,
            "grid_auto_flow": null,
            "grid_area": null,
            "grid_template_columns": null,
            "flex": null,
            "_model_name": "LayoutModel",
            "justify_items": null,
            "grid_row": null,
            "max_height": null,
            "align_content": null,
            "visibility": null,
            "align_self": null,
            "height": null,
            "min_height": null,
            "padding": null,
            "grid_auto_rows": null,
            "grid_gap": null,
            "max_width": null,
            "order": null,
            "_view_module_version": "1.2.0",
            "grid_template_areas": null,
            "object_position": null,
            "object_fit": null,
            "grid_auto_columns": null,
            "margin": null,
            "display": null,
            "left": null
          }
        },
        "da323e2bd13440aaa090585d70c00cdf": {
          "model_module": "@jupyter-widgets/controls",
          "model_name": "DescriptionStyleModel",
          "model_module_version": "1.5.0",
          "state": {
            "_view_name": "StyleView",
            "_model_name": "DescriptionStyleModel",
            "description_width": "",
            "_view_module": "@jupyter-widgets/base",
            "_model_module_version": "1.5.0",
            "_view_count": null,
            "_view_module_version": "1.2.0",
            "_model_module": "@jupyter-widgets/controls"
          }
        },
        "652b10e2f49d403b93b1d20950bfa912": {
          "model_module": "@jupyter-widgets/base",
          "model_name": "LayoutModel",
          "model_module_version": "1.2.0",
          "state": {
            "_view_name": "LayoutView",
            "grid_template_rows": null,
            "right": null,
            "justify_content": null,
            "_view_module": "@jupyter-widgets/base",
            "overflow": null,
            "_model_module_version": "1.2.0",
            "_view_count": null,
            "flex_flow": null,
            "width": null,
            "min_width": null,
            "border": null,
            "align_items": null,
            "bottom": null,
            "_model_module": "@jupyter-widgets/base",
            "top": null,
            "grid_column": null,
            "overflow_y": null,
            "overflow_x": null,
            "grid_auto_flow": null,
            "grid_area": null,
            "grid_template_columns": null,
            "flex": null,
            "_model_name": "LayoutModel",
            "justify_items": null,
            "grid_row": null,
            "max_height": null,
            "align_content": null,
            "visibility": null,
            "align_self": null,
            "height": null,
            "min_height": null,
            "padding": null,
            "grid_auto_rows": null,
            "grid_gap": null,
            "max_width": null,
            "order": null,
            "_view_module_version": "1.2.0",
            "grid_template_areas": null,
            "object_position": null,
            "object_fit": null,
            "grid_auto_columns": null,
            "margin": null,
            "display": null,
            "left": null
          }
        },
        "c2dd480d1d4443999697795c4feb8993": {
          "model_module": "@jupyter-widgets/controls",
          "model_name": "HBoxModel",
          "model_module_version": "1.5.0",
          "state": {
            "_view_name": "HBoxView",
            "_dom_classes": [],
            "_model_name": "HBoxModel",
            "_view_module": "@jupyter-widgets/controls",
            "_model_module_version": "1.5.0",
            "_view_count": null,
            "_view_module_version": "1.5.0",
            "box_style": "",
            "layout": "IPY_MODEL_49cf5efc46d44d47bbfdcc9d0034a570",
            "_model_module": "@jupyter-widgets/controls",
            "children": [
              "IPY_MODEL_74ac8eaeee47424192f7e906a4747936",
              "IPY_MODEL_9bfdedcc6f0d47d483c465f204e65956",
              "IPY_MODEL_5748e61baffd4ba5a9c0823f723f1c75"
            ]
          }
        },
        "49cf5efc46d44d47bbfdcc9d0034a570": {
          "model_module": "@jupyter-widgets/base",
          "model_name": "LayoutModel",
          "model_module_version": "1.2.0",
          "state": {
            "_view_name": "LayoutView",
            "grid_template_rows": null,
            "right": null,
            "justify_content": null,
            "_view_module": "@jupyter-widgets/base",
            "overflow": null,
            "_model_module_version": "1.2.0",
            "_view_count": null,
            "flex_flow": null,
            "width": null,
            "min_width": null,
            "border": null,
            "align_items": null,
            "bottom": null,
            "_model_module": "@jupyter-widgets/base",
            "top": null,
            "grid_column": null,
            "overflow_y": null,
            "overflow_x": null,
            "grid_auto_flow": null,
            "grid_area": null,
            "grid_template_columns": null,
            "flex": null,
            "_model_name": "LayoutModel",
            "justify_items": null,
            "grid_row": null,
            "max_height": null,
            "align_content": null,
            "visibility": null,
            "align_self": null,
            "height": null,
            "min_height": null,
            "padding": null,
            "grid_auto_rows": null,
            "grid_gap": null,
            "max_width": null,
            "order": null,
            "_view_module_version": "1.2.0",
            "grid_template_areas": null,
            "object_position": null,
            "object_fit": null,
            "grid_auto_columns": null,
            "margin": null,
            "display": null,
            "left": null
          }
        },
        "74ac8eaeee47424192f7e906a4747936": {
          "model_module": "@jupyter-widgets/controls",
          "model_name": "HTMLModel",
          "model_module_version": "1.5.0",
          "state": {
            "_view_name": "HTMLView",
            "style": "IPY_MODEL_1ec86290a4db4f98baa649984b5e9eee",
            "_dom_classes": [],
            "description": "",
            "_model_name": "HTMLModel",
            "placeholder": "​",
            "_view_module": "@jupyter-widgets/controls",
            "_model_module_version": "1.5.0",
            "value": "Downloading: 100%",
            "_view_count": null,
            "_view_module_version": "1.5.0",
            "description_tooltip": null,
            "_model_module": "@jupyter-widgets/controls",
            "layout": "IPY_MODEL_039c598289e6400b999f2a336b696b32"
          }
        },
        "9bfdedcc6f0d47d483c465f204e65956": {
          "model_module": "@jupyter-widgets/controls",
          "model_name": "FloatProgressModel",
          "model_module_version": "1.5.0",
          "state": {
            "_view_name": "ProgressView",
            "style": "IPY_MODEL_a6fe8bd81e114fa99d1e350c3f877dcd",
            "_dom_classes": [],
            "description": "",
            "_model_name": "FloatProgressModel",
            "bar_style": "success",
            "max": 112,
            "_view_module": "@jupyter-widgets/controls",
            "_model_module_version": "1.5.0",
            "value": 112,
            "_view_count": null,
            "_view_module_version": "1.5.0",
            "orientation": "horizontal",
            "min": 0,
            "description_tooltip": null,
            "_model_module": "@jupyter-widgets/controls",
            "layout": "IPY_MODEL_6a2f2d61bc5341e88447ef22a1a18c35"
          }
        },
        "5748e61baffd4ba5a9c0823f723f1c75": {
          "model_module": "@jupyter-widgets/controls",
          "model_name": "HTMLModel",
          "model_module_version": "1.5.0",
          "state": {
            "_view_name": "HTMLView",
            "style": "IPY_MODEL_6b9980eae6d34cb38196bf80172b808f",
            "_dom_classes": [],
            "description": "",
            "_model_name": "HTMLModel",
            "placeholder": "​",
            "_view_module": "@jupyter-widgets/controls",
            "_model_module_version": "1.5.0",
            "value": " 112/112 [00:00&lt;00:00, 3.61kB/s]",
            "_view_count": null,
            "_view_module_version": "1.5.0",
            "description_tooltip": null,
            "_model_module": "@jupyter-widgets/controls",
            "layout": "IPY_MODEL_f8f9376330fd4ef68ea2bbdf0b9da3b0"
          }
        },
        "1ec86290a4db4f98baa649984b5e9eee": {
          "model_module": "@jupyter-widgets/controls",
          "model_name": "DescriptionStyleModel",
          "model_module_version": "1.5.0",
          "state": {
            "_view_name": "StyleView",
            "_model_name": "DescriptionStyleModel",
            "description_width": "",
            "_view_module": "@jupyter-widgets/base",
            "_model_module_version": "1.5.0",
            "_view_count": null,
            "_view_module_version": "1.2.0",
            "_model_module": "@jupyter-widgets/controls"
          }
        },
        "039c598289e6400b999f2a336b696b32": {
          "model_module": "@jupyter-widgets/base",
          "model_name": "LayoutModel",
          "model_module_version": "1.2.0",
          "state": {
            "_view_name": "LayoutView",
            "grid_template_rows": null,
            "right": null,
            "justify_content": null,
            "_view_module": "@jupyter-widgets/base",
            "overflow": null,
            "_model_module_version": "1.2.0",
            "_view_count": null,
            "flex_flow": null,
            "width": null,
            "min_width": null,
            "border": null,
            "align_items": null,
            "bottom": null,
            "_model_module": "@jupyter-widgets/base",
            "top": null,
            "grid_column": null,
            "overflow_y": null,
            "overflow_x": null,
            "grid_auto_flow": null,
            "grid_area": null,
            "grid_template_columns": null,
            "flex": null,
            "_model_name": "LayoutModel",
            "justify_items": null,
            "grid_row": null,
            "max_height": null,
            "align_content": null,
            "visibility": null,
            "align_self": null,
            "height": null,
            "min_height": null,
            "padding": null,
            "grid_auto_rows": null,
            "grid_gap": null,
            "max_width": null,
            "order": null,
            "_view_module_version": "1.2.0",
            "grid_template_areas": null,
            "object_position": null,
            "object_fit": null,
            "grid_auto_columns": null,
            "margin": null,
            "display": null,
            "left": null
          }
        },
        "a6fe8bd81e114fa99d1e350c3f877dcd": {
          "model_module": "@jupyter-widgets/controls",
          "model_name": "ProgressStyleModel",
          "model_module_version": "1.5.0",
          "state": {
            "_view_name": "StyleView",
            "_model_name": "ProgressStyleModel",
            "description_width": "",
            "_view_module": "@jupyter-widgets/base",
            "_model_module_version": "1.5.0",
            "_view_count": null,
            "_view_module_version": "1.2.0",
            "bar_color": null,
            "_model_module": "@jupyter-widgets/controls"
          }
        },
        "6a2f2d61bc5341e88447ef22a1a18c35": {
          "model_module": "@jupyter-widgets/base",
          "model_name": "LayoutModel",
          "model_module_version": "1.2.0",
          "state": {
            "_view_name": "LayoutView",
            "grid_template_rows": null,
            "right": null,
            "justify_content": null,
            "_view_module": "@jupyter-widgets/base",
            "overflow": null,
            "_model_module_version": "1.2.0",
            "_view_count": null,
            "flex_flow": null,
            "width": null,
            "min_width": null,
            "border": null,
            "align_items": null,
            "bottom": null,
            "_model_module": "@jupyter-widgets/base",
            "top": null,
            "grid_column": null,
            "overflow_y": null,
            "overflow_x": null,
            "grid_auto_flow": null,
            "grid_area": null,
            "grid_template_columns": null,
            "flex": null,
            "_model_name": "LayoutModel",
            "justify_items": null,
            "grid_row": null,
            "max_height": null,
            "align_content": null,
            "visibility": null,
            "align_self": null,
            "height": null,
            "min_height": null,
            "padding": null,
            "grid_auto_rows": null,
            "grid_gap": null,
            "max_width": null,
            "order": null,
            "_view_module_version": "1.2.0",
            "grid_template_areas": null,
            "object_position": null,
            "object_fit": null,
            "grid_auto_columns": null,
            "margin": null,
            "display": null,
            "left": null
          }
        },
        "6b9980eae6d34cb38196bf80172b808f": {
          "model_module": "@jupyter-widgets/controls",
          "model_name": "DescriptionStyleModel",
          "model_module_version": "1.5.0",
          "state": {
            "_view_name": "StyleView",
            "_model_name": "DescriptionStyleModel",
            "description_width": "",
            "_view_module": "@jupyter-widgets/base",
            "_model_module_version": "1.5.0",
            "_view_count": null,
            "_view_module_version": "1.2.0",
            "_model_module": "@jupyter-widgets/controls"
          }
        },
        "f8f9376330fd4ef68ea2bbdf0b9da3b0": {
          "model_module": "@jupyter-widgets/base",
          "model_name": "LayoutModel",
          "model_module_version": "1.2.0",
          "state": {
            "_view_name": "LayoutView",
            "grid_template_rows": null,
            "right": null,
            "justify_content": null,
            "_view_module": "@jupyter-widgets/base",
            "overflow": null,
            "_model_module_version": "1.2.0",
            "_view_count": null,
            "flex_flow": null,
            "width": null,
            "min_width": null,
            "border": null,
            "align_items": null,
            "bottom": null,
            "_model_module": "@jupyter-widgets/base",
            "top": null,
            "grid_column": null,
            "overflow_y": null,
            "overflow_x": null,
            "grid_auto_flow": null,
            "grid_area": null,
            "grid_template_columns": null,
            "flex": null,
            "_model_name": "LayoutModel",
            "justify_items": null,
            "grid_row": null,
            "max_height": null,
            "align_content": null,
            "visibility": null,
            "align_self": null,
            "height": null,
            "min_height": null,
            "padding": null,
            "grid_auto_rows": null,
            "grid_gap": null,
            "max_width": null,
            "order": null,
            "_view_module_version": "1.2.0",
            "grid_template_areas": null,
            "object_position": null,
            "object_fit": null,
            "grid_auto_columns": null,
            "margin": null,
            "display": null,
            "left": null
          }
        },
        "486553d319054ba6b2472baef0f08782": {
          "model_module": "@jupyter-widgets/controls",
          "model_name": "HBoxModel",
          "model_module_version": "1.5.0",
          "state": {
            "_view_name": "HBoxView",
            "_dom_classes": [],
            "_model_name": "HBoxModel",
            "_view_module": "@jupyter-widgets/controls",
            "_model_module_version": "1.5.0",
            "_view_count": null,
            "_view_module_version": "1.5.0",
            "box_style": "",
            "layout": "IPY_MODEL_a874450e318342448c8017beecdf0665",
            "_model_module": "@jupyter-widgets/controls",
            "children": [
              "IPY_MODEL_a9d388b2ea2540179547e1be289ec65e",
              "IPY_MODEL_d5561ddd136c4ac9a284137a90036f24",
              "IPY_MODEL_e83205c57592419eaf908736d968f3cd"
            ]
          }
        },
        "a874450e318342448c8017beecdf0665": {
          "model_module": "@jupyter-widgets/base",
          "model_name": "LayoutModel",
          "model_module_version": "1.2.0",
          "state": {
            "_view_name": "LayoutView",
            "grid_template_rows": null,
            "right": null,
            "justify_content": null,
            "_view_module": "@jupyter-widgets/base",
            "overflow": null,
            "_model_module_version": "1.2.0",
            "_view_count": null,
            "flex_flow": null,
            "width": null,
            "min_width": null,
            "border": null,
            "align_items": null,
            "bottom": null,
            "_model_module": "@jupyter-widgets/base",
            "top": null,
            "grid_column": null,
            "overflow_y": null,
            "overflow_x": null,
            "grid_auto_flow": null,
            "grid_area": null,
            "grid_template_columns": null,
            "flex": null,
            "_model_name": "LayoutModel",
            "justify_items": null,
            "grid_row": null,
            "max_height": null,
            "align_content": null,
            "visibility": null,
            "align_self": null,
            "height": null,
            "min_height": null,
            "padding": null,
            "grid_auto_rows": null,
            "grid_gap": null,
            "max_width": null,
            "order": null,
            "_view_module_version": "1.2.0",
            "grid_template_areas": null,
            "object_position": null,
            "object_fit": null,
            "grid_auto_columns": null,
            "margin": null,
            "display": null,
            "left": null
          }
        },
        "a9d388b2ea2540179547e1be289ec65e": {
          "model_module": "@jupyter-widgets/controls",
          "model_name": "HTMLModel",
          "model_module_version": "1.5.0",
          "state": {
            "_view_name": "HTMLView",
            "style": "IPY_MODEL_3293e9f45c804a9e86ab9d375d56c5d7",
            "_dom_classes": [],
            "description": "",
            "_model_name": "HTMLModel",
            "placeholder": "​",
            "_view_module": "@jupyter-widgets/controls",
            "_model_module_version": "1.5.0",
            "value": "Downloading: 100%",
            "_view_count": null,
            "_view_module_version": "1.5.0",
            "description_tooltip": null,
            "_model_module": "@jupyter-widgets/controls",
            "layout": "IPY_MODEL_82801138614d4e9ca55d1313d3567a83"
          }
        },
        "d5561ddd136c4ac9a284137a90036f24": {
          "model_module": "@jupyter-widgets/controls",
          "model_name": "FloatProgressModel",
          "model_module_version": "1.5.0",
          "state": {
            "_view_name": "ProgressView",
            "style": "IPY_MODEL_618b2d08a0ff48549448904f9f853cc1",
            "_dom_classes": [],
            "description": "",
            "_model_name": "FloatProgressModel",
            "bar_style": "success",
            "max": 43,
            "_view_module": "@jupyter-widgets/controls",
            "_model_module_version": "1.5.0",
            "value": 43,
            "_view_count": null,
            "_view_module_version": "1.5.0",
            "orientation": "horizontal",
            "min": 0,
            "description_tooltip": null,
            "_model_module": "@jupyter-widgets/controls",
            "layout": "IPY_MODEL_bcaaf2fc195247e28be480d0fcf5748b"
          }
        },
        "e83205c57592419eaf908736d968f3cd": {
          "model_module": "@jupyter-widgets/controls",
          "model_name": "HTMLModel",
          "model_module_version": "1.5.0",
          "state": {
            "_view_name": "HTMLView",
            "style": "IPY_MODEL_f39838ea48cb4654b059b5e6ef47036d",
            "_dom_classes": [],
            "description": "",
            "_model_name": "HTMLModel",
            "placeholder": "​",
            "_view_module": "@jupyter-widgets/controls",
            "_model_module_version": "1.5.0",
            "value": " 43.0/43.0 [00:00&lt;00:00, 952B/s]",
            "_view_count": null,
            "_view_module_version": "1.5.0",
            "description_tooltip": null,
            "_model_module": "@jupyter-widgets/controls",
            "layout": "IPY_MODEL_9c24f2a09c794ad58d2868c670562844"
          }
        },
        "3293e9f45c804a9e86ab9d375d56c5d7": {
          "model_module": "@jupyter-widgets/controls",
          "model_name": "DescriptionStyleModel",
          "model_module_version": "1.5.0",
          "state": {
            "_view_name": "StyleView",
            "_model_name": "DescriptionStyleModel",
            "description_width": "",
            "_view_module": "@jupyter-widgets/base",
            "_model_module_version": "1.5.0",
            "_view_count": null,
            "_view_module_version": "1.2.0",
            "_model_module": "@jupyter-widgets/controls"
          }
        },
        "82801138614d4e9ca55d1313d3567a83": {
          "model_module": "@jupyter-widgets/base",
          "model_name": "LayoutModel",
          "model_module_version": "1.2.0",
          "state": {
            "_view_name": "LayoutView",
            "grid_template_rows": null,
            "right": null,
            "justify_content": null,
            "_view_module": "@jupyter-widgets/base",
            "overflow": null,
            "_model_module_version": "1.2.0",
            "_view_count": null,
            "flex_flow": null,
            "width": null,
            "min_width": null,
            "border": null,
            "align_items": null,
            "bottom": null,
            "_model_module": "@jupyter-widgets/base",
            "top": null,
            "grid_column": null,
            "overflow_y": null,
            "overflow_x": null,
            "grid_auto_flow": null,
            "grid_area": null,
            "grid_template_columns": null,
            "flex": null,
            "_model_name": "LayoutModel",
            "justify_items": null,
            "grid_row": null,
            "max_height": null,
            "align_content": null,
            "visibility": null,
            "align_self": null,
            "height": null,
            "min_height": null,
            "padding": null,
            "grid_auto_rows": null,
            "grid_gap": null,
            "max_width": null,
            "order": null,
            "_view_module_version": "1.2.0",
            "grid_template_areas": null,
            "object_position": null,
            "object_fit": null,
            "grid_auto_columns": null,
            "margin": null,
            "display": null,
            "left": null
          }
        },
        "618b2d08a0ff48549448904f9f853cc1": {
          "model_module": "@jupyter-widgets/controls",
          "model_name": "ProgressStyleModel",
          "model_module_version": "1.5.0",
          "state": {
            "_view_name": "StyleView",
            "_model_name": "ProgressStyleModel",
            "description_width": "",
            "_view_module": "@jupyter-widgets/base",
            "_model_module_version": "1.5.0",
            "_view_count": null,
            "_view_module_version": "1.2.0",
            "bar_color": null,
            "_model_module": "@jupyter-widgets/controls"
          }
        },
        "bcaaf2fc195247e28be480d0fcf5748b": {
          "model_module": "@jupyter-widgets/base",
          "model_name": "LayoutModel",
          "model_module_version": "1.2.0",
          "state": {
            "_view_name": "LayoutView",
            "grid_template_rows": null,
            "right": null,
            "justify_content": null,
            "_view_module": "@jupyter-widgets/base",
            "overflow": null,
            "_model_module_version": "1.2.0",
            "_view_count": null,
            "flex_flow": null,
            "width": null,
            "min_width": null,
            "border": null,
            "align_items": null,
            "bottom": null,
            "_model_module": "@jupyter-widgets/base",
            "top": null,
            "grid_column": null,
            "overflow_y": null,
            "overflow_x": null,
            "grid_auto_flow": null,
            "grid_area": null,
            "grid_template_columns": null,
            "flex": null,
            "_model_name": "LayoutModel",
            "justify_items": null,
            "grid_row": null,
            "max_height": null,
            "align_content": null,
            "visibility": null,
            "align_self": null,
            "height": null,
            "min_height": null,
            "padding": null,
            "grid_auto_rows": null,
            "grid_gap": null,
            "max_width": null,
            "order": null,
            "_view_module_version": "1.2.0",
            "grid_template_areas": null,
            "object_position": null,
            "object_fit": null,
            "grid_auto_columns": null,
            "margin": null,
            "display": null,
            "left": null
          }
        },
        "f39838ea48cb4654b059b5e6ef47036d": {
          "model_module": "@jupyter-widgets/controls",
          "model_name": "DescriptionStyleModel",
          "model_module_version": "1.5.0",
          "state": {
            "_view_name": "StyleView",
            "_model_name": "DescriptionStyleModel",
            "description_width": "",
            "_view_module": "@jupyter-widgets/base",
            "_model_module_version": "1.5.0",
            "_view_count": null,
            "_view_module_version": "1.2.0",
            "_model_module": "@jupyter-widgets/controls"
          }
        },
        "9c24f2a09c794ad58d2868c670562844": {
          "model_module": "@jupyter-widgets/base",
          "model_name": "LayoutModel",
          "model_module_version": "1.2.0",
          "state": {
            "_view_name": "LayoutView",
            "grid_template_rows": null,
            "right": null,
            "justify_content": null,
            "_view_module": "@jupyter-widgets/base",
            "overflow": null,
            "_model_module_version": "1.2.0",
            "_view_count": null,
            "flex_flow": null,
            "width": null,
            "min_width": null,
            "border": null,
            "align_items": null,
            "bottom": null,
            "_model_module": "@jupyter-widgets/base",
            "top": null,
            "grid_column": null,
            "overflow_y": null,
            "overflow_x": null,
            "grid_auto_flow": null,
            "grid_area": null,
            "grid_template_columns": null,
            "flex": null,
            "_model_name": "LayoutModel",
            "justify_items": null,
            "grid_row": null,
            "max_height": null,
            "align_content": null,
            "visibility": null,
            "align_self": null,
            "height": null,
            "min_height": null,
            "padding": null,
            "grid_auto_rows": null,
            "grid_gap": null,
            "max_width": null,
            "order": null,
            "_view_module_version": "1.2.0",
            "grid_template_areas": null,
            "object_position": null,
            "object_fit": null,
            "grid_auto_columns": null,
            "margin": null,
            "display": null,
            "left": null
          }
        },
        "0a25ebc3038046afaca771925493d4ae": {
          "model_module": "@jupyter-widgets/controls",
          "model_name": "HBoxModel",
          "model_module_version": "1.5.0",
          "state": {
            "_view_name": "HBoxView",
            "_dom_classes": [],
            "_model_name": "HBoxModel",
            "_view_module": "@jupyter-widgets/controls",
            "_model_module_version": "1.5.0",
            "_view_count": null,
            "_view_module_version": "1.5.0",
            "box_style": "",
            "layout": "IPY_MODEL_e090fbd4e7604623a7a260e634fd0028",
            "_model_module": "@jupyter-widgets/controls",
            "children": [
              "IPY_MODEL_c99e667135394c709db80904b28a63e0",
              "IPY_MODEL_37a695063c824d3c844021987ffaeef3",
              "IPY_MODEL_d7078a7525b04e83a468f12e9f8de09a"
            ]
          }
        },
        "e090fbd4e7604623a7a260e634fd0028": {
          "model_module": "@jupyter-widgets/base",
          "model_name": "LayoutModel",
          "model_module_version": "1.2.0",
          "state": {
            "_view_name": "LayoutView",
            "grid_template_rows": null,
            "right": null,
            "justify_content": null,
            "_view_module": "@jupyter-widgets/base",
            "overflow": null,
            "_model_module_version": "1.2.0",
            "_view_count": null,
            "flex_flow": null,
            "width": null,
            "min_width": null,
            "border": null,
            "align_items": null,
            "bottom": null,
            "_model_module": "@jupyter-widgets/base",
            "top": null,
            "grid_column": null,
            "overflow_y": null,
            "overflow_x": null,
            "grid_auto_flow": null,
            "grid_area": null,
            "grid_template_columns": null,
            "flex": null,
            "_model_name": "LayoutModel",
            "justify_items": null,
            "grid_row": null,
            "max_height": null,
            "align_content": null,
            "visibility": null,
            "align_self": null,
            "height": null,
            "min_height": null,
            "padding": null,
            "grid_auto_rows": null,
            "grid_gap": null,
            "max_width": null,
            "order": null,
            "_view_module_version": "1.2.0",
            "grid_template_areas": null,
            "object_position": null,
            "object_fit": null,
            "grid_auto_columns": null,
            "margin": null,
            "display": null,
            "left": null
          }
        },
        "c99e667135394c709db80904b28a63e0": {
          "model_module": "@jupyter-widgets/controls",
          "model_name": "HTMLModel",
          "model_module_version": "1.5.0",
          "state": {
            "_view_name": "HTMLView",
            "style": "IPY_MODEL_fdc1ffeec8664ec891275e46d428e177",
            "_dom_classes": [],
            "description": "",
            "_model_name": "HTMLModel",
            "placeholder": "​",
            "_view_module": "@jupyter-widgets/controls",
            "_model_module_version": "1.5.0",
            "value": "Downloading: 100%",
            "_view_count": null,
            "_view_module_version": "1.5.0",
            "description_tooltip": null,
            "_model_module": "@jupyter-widgets/controls",
            "layout": "IPY_MODEL_838cac0bd2c64fbc96de21c0834b53ed"
          }
        },
        "37a695063c824d3c844021987ffaeef3": {
          "model_module": "@jupyter-widgets/controls",
          "model_name": "FloatProgressModel",
          "model_module_version": "1.5.0",
          "state": {
            "_view_name": "ProgressView",
            "style": "IPY_MODEL_1106458d4c4648bcbe8a2069f66ee729",
            "_dom_classes": [],
            "description": "",
            "_model_name": "FloatProgressModel",
            "bar_style": "success",
            "max": 647,
            "_view_module": "@jupyter-widgets/controls",
            "_model_module_version": "1.5.0",
            "value": 647,
            "_view_count": null,
            "_view_module_version": "1.5.0",
            "orientation": "horizontal",
            "min": 0,
            "description_tooltip": null,
            "_model_module": "@jupyter-widgets/controls",
            "layout": "IPY_MODEL_9e7be2e62134488e8575baca3305e3e2"
          }
        },
        "d7078a7525b04e83a468f12e9f8de09a": {
          "model_module": "@jupyter-widgets/controls",
          "model_name": "HTMLModel",
          "model_module_version": "1.5.0",
          "state": {
            "_view_name": "HTMLView",
            "style": "IPY_MODEL_b108994331654242a36c4a98de5321ca",
            "_dom_classes": [],
            "description": "",
            "_model_name": "HTMLModel",
            "placeholder": "​",
            "_view_module": "@jupyter-widgets/controls",
            "_model_module_version": "1.5.0",
            "value": " 647/647 [00:00&lt;00:00, 13.5kB/s]",
            "_view_count": null,
            "_view_module_version": "1.5.0",
            "description_tooltip": null,
            "_model_module": "@jupyter-widgets/controls",
            "layout": "IPY_MODEL_fd9d6174c22b4bd7a9ece979cf661014"
          }
        },
        "fdc1ffeec8664ec891275e46d428e177": {
          "model_module": "@jupyter-widgets/controls",
          "model_name": "DescriptionStyleModel",
          "model_module_version": "1.5.0",
          "state": {
            "_view_name": "StyleView",
            "_model_name": "DescriptionStyleModel",
            "description_width": "",
            "_view_module": "@jupyter-widgets/base",
            "_model_module_version": "1.5.0",
            "_view_count": null,
            "_view_module_version": "1.2.0",
            "_model_module": "@jupyter-widgets/controls"
          }
        },
        "838cac0bd2c64fbc96de21c0834b53ed": {
          "model_module": "@jupyter-widgets/base",
          "model_name": "LayoutModel",
          "model_module_version": "1.2.0",
          "state": {
            "_view_name": "LayoutView",
            "grid_template_rows": null,
            "right": null,
            "justify_content": null,
            "_view_module": "@jupyter-widgets/base",
            "overflow": null,
            "_model_module_version": "1.2.0",
            "_view_count": null,
            "flex_flow": null,
            "width": null,
            "min_width": null,
            "border": null,
            "align_items": null,
            "bottom": null,
            "_model_module": "@jupyter-widgets/base",
            "top": null,
            "grid_column": null,
            "overflow_y": null,
            "overflow_x": null,
            "grid_auto_flow": null,
            "grid_area": null,
            "grid_template_columns": null,
            "flex": null,
            "_model_name": "LayoutModel",
            "justify_items": null,
            "grid_row": null,
            "max_height": null,
            "align_content": null,
            "visibility": null,
            "align_self": null,
            "height": null,
            "min_height": null,
            "padding": null,
            "grid_auto_rows": null,
            "grid_gap": null,
            "max_width": null,
            "order": null,
            "_view_module_version": "1.2.0",
            "grid_template_areas": null,
            "object_position": null,
            "object_fit": null,
            "grid_auto_columns": null,
            "margin": null,
            "display": null,
            "left": null
          }
        },
        "1106458d4c4648bcbe8a2069f66ee729": {
          "model_module": "@jupyter-widgets/controls",
          "model_name": "ProgressStyleModel",
          "model_module_version": "1.5.0",
          "state": {
            "_view_name": "StyleView",
            "_model_name": "ProgressStyleModel",
            "description_width": "",
            "_view_module": "@jupyter-widgets/base",
            "_model_module_version": "1.5.0",
            "_view_count": null,
            "_view_module_version": "1.2.0",
            "bar_color": null,
            "_model_module": "@jupyter-widgets/controls"
          }
        },
        "9e7be2e62134488e8575baca3305e3e2": {
          "model_module": "@jupyter-widgets/base",
          "model_name": "LayoutModel",
          "model_module_version": "1.2.0",
          "state": {
            "_view_name": "LayoutView",
            "grid_template_rows": null,
            "right": null,
            "justify_content": null,
            "_view_module": "@jupyter-widgets/base",
            "overflow": null,
            "_model_module_version": "1.2.0",
            "_view_count": null,
            "flex_flow": null,
            "width": null,
            "min_width": null,
            "border": null,
            "align_items": null,
            "bottom": null,
            "_model_module": "@jupyter-widgets/base",
            "top": null,
            "grid_column": null,
            "overflow_y": null,
            "overflow_x": null,
            "grid_auto_flow": null,
            "grid_area": null,
            "grid_template_columns": null,
            "flex": null,
            "_model_name": "LayoutModel",
            "justify_items": null,
            "grid_row": null,
            "max_height": null,
            "align_content": null,
            "visibility": null,
            "align_self": null,
            "height": null,
            "min_height": null,
            "padding": null,
            "grid_auto_rows": null,
            "grid_gap": null,
            "max_width": null,
            "order": null,
            "_view_module_version": "1.2.0",
            "grid_template_areas": null,
            "object_position": null,
            "object_fit": null,
            "grid_auto_columns": null,
            "margin": null,
            "display": null,
            "left": null
          }
        },
        "b108994331654242a36c4a98de5321ca": {
          "model_module": "@jupyter-widgets/controls",
          "model_name": "DescriptionStyleModel",
          "model_module_version": "1.5.0",
          "state": {
            "_view_name": "StyleView",
            "_model_name": "DescriptionStyleModel",
            "description_width": "",
            "_view_module": "@jupyter-widgets/base",
            "_model_module_version": "1.5.0",
            "_view_count": null,
            "_view_module_version": "1.2.0",
            "_model_module": "@jupyter-widgets/controls"
          }
        },
        "fd9d6174c22b4bd7a9ece979cf661014": {
          "model_module": "@jupyter-widgets/base",
          "model_name": "LayoutModel",
          "model_module_version": "1.2.0",
          "state": {
            "_view_name": "LayoutView",
            "grid_template_rows": null,
            "right": null,
            "justify_content": null,
            "_view_module": "@jupyter-widgets/base",
            "overflow": null,
            "_model_module_version": "1.2.0",
            "_view_count": null,
            "flex_flow": null,
            "width": null,
            "min_width": null,
            "border": null,
            "align_items": null,
            "bottom": null,
            "_model_module": "@jupyter-widgets/base",
            "top": null,
            "grid_column": null,
            "overflow_y": null,
            "overflow_x": null,
            "grid_auto_flow": null,
            "grid_area": null,
            "grid_template_columns": null,
            "flex": null,
            "_model_name": "LayoutModel",
            "justify_items": null,
            "grid_row": null,
            "max_height": null,
            "align_content": null,
            "visibility": null,
            "align_self": null,
            "height": null,
            "min_height": null,
            "padding": null,
            "grid_auto_rows": null,
            "grid_gap": null,
            "max_width": null,
            "order": null,
            "_view_module_version": "1.2.0",
            "grid_template_areas": null,
            "object_position": null,
            "object_fit": null,
            "grid_auto_columns": null,
            "margin": null,
            "display": null,
            "left": null
          }
        },
        "2d1ca9546f6a4e7a908d058a3b583b14": {
          "model_module": "@jupyter-widgets/controls",
          "model_name": "HBoxModel",
          "model_module_version": "1.5.0",
          "state": {
            "_view_name": "HBoxView",
            "_dom_classes": [],
            "_model_name": "HBoxModel",
            "_view_module": "@jupyter-widgets/controls",
            "_model_module_version": "1.5.0",
            "_view_count": null,
            "_view_module_version": "1.5.0",
            "box_style": "",
            "layout": "IPY_MODEL_8a9bbc93d241409dbc96ece2e11df57d",
            "_model_module": "@jupyter-widgets/controls",
            "children": [
              "IPY_MODEL_bad0eb0c7bbe47408f303c343508a634",
              "IPY_MODEL_05644d1ce04a4852ae0008107cfb485f",
              "IPY_MODEL_1f2301fe6598492cb9de14e82b911e72"
            ]
          }
        },
        "8a9bbc93d241409dbc96ece2e11df57d": {
          "model_module": "@jupyter-widgets/base",
          "model_name": "LayoutModel",
          "model_module_version": "1.2.0",
          "state": {
            "_view_name": "LayoutView",
            "grid_template_rows": null,
            "right": null,
            "justify_content": null,
            "_view_module": "@jupyter-widgets/base",
            "overflow": null,
            "_model_module_version": "1.2.0",
            "_view_count": null,
            "flex_flow": null,
            "width": null,
            "min_width": null,
            "border": null,
            "align_items": null,
            "bottom": null,
            "_model_module": "@jupyter-widgets/base",
            "top": null,
            "grid_column": null,
            "overflow_y": null,
            "overflow_x": null,
            "grid_auto_flow": null,
            "grid_area": null,
            "grid_template_columns": null,
            "flex": null,
            "_model_name": "LayoutModel",
            "justify_items": null,
            "grid_row": null,
            "max_height": null,
            "align_content": null,
            "visibility": null,
            "align_self": null,
            "height": null,
            "min_height": null,
            "padding": null,
            "grid_auto_rows": null,
            "grid_gap": null,
            "max_width": null,
            "order": null,
            "_view_module_version": "1.2.0",
            "grid_template_areas": null,
            "object_position": null,
            "object_fit": null,
            "grid_auto_columns": null,
            "margin": null,
            "display": null,
            "left": null
          }
        },
        "bad0eb0c7bbe47408f303c343508a634": {
          "model_module": "@jupyter-widgets/controls",
          "model_name": "HTMLModel",
          "model_module_version": "1.5.0",
          "state": {
            "_view_name": "HTMLView",
            "style": "IPY_MODEL_a1b6eb90e7ae49cabff6911d9f55dc8d",
            "_dom_classes": [],
            "description": "",
            "_model_name": "HTMLModel",
            "placeholder": "​",
            "_view_module": "@jupyter-widgets/controls",
            "_model_module_version": "1.5.0",
            "value": "Downloading: 100%",
            "_view_count": null,
            "_view_module_version": "1.5.0",
            "description_tooltip": null,
            "_model_module": "@jupyter-widgets/controls",
            "layout": "IPY_MODEL_3c4b11f5bf8948cea9d3b51aed9c89d6"
          }
        },
        "05644d1ce04a4852ae0008107cfb485f": {
          "model_module": "@jupyter-widgets/controls",
          "model_name": "FloatProgressModel",
          "model_module_version": "1.5.0",
          "state": {
            "_view_name": "ProgressView",
            "style": "IPY_MODEL_fab48251081a478a8b44151516806eca",
            "_dom_classes": [],
            "description": "",
            "_model_name": "FloatProgressModel",
            "bar_style": "success",
            "max": 438235074,
            "_view_module": "@jupyter-widgets/controls",
            "_model_module_version": "1.5.0",
            "value": 438235074,
            "_view_count": null,
            "_view_module_version": "1.5.0",
            "orientation": "horizontal",
            "min": 0,
            "description_tooltip": null,
            "_model_module": "@jupyter-widgets/controls",
            "layout": "IPY_MODEL_f5b0b85d8b8046e095a32c9ac7ee7044"
          }
        },
        "1f2301fe6598492cb9de14e82b911e72": {
          "model_module": "@jupyter-widgets/controls",
          "model_name": "HTMLModel",
          "model_module_version": "1.5.0",
          "state": {
            "_view_name": "HTMLView",
            "style": "IPY_MODEL_bc0a6c7799414ebb9a179aa26aec349b",
            "_dom_classes": [],
            "description": "",
            "_model_name": "HTMLModel",
            "placeholder": "​",
            "_view_module": "@jupyter-widgets/controls",
            "_model_module_version": "1.5.0",
            "value": " 418M/418M [00:10&lt;00:00, 31.9MB/s]",
            "_view_count": null,
            "_view_module_version": "1.5.0",
            "description_tooltip": null,
            "_model_module": "@jupyter-widgets/controls",
            "layout": "IPY_MODEL_8044a859ad954cfbada549a55122e1d0"
          }
        },
        "a1b6eb90e7ae49cabff6911d9f55dc8d": {
          "model_module": "@jupyter-widgets/controls",
          "model_name": "DescriptionStyleModel",
          "model_module_version": "1.5.0",
          "state": {
            "_view_name": "StyleView",
            "_model_name": "DescriptionStyleModel",
            "description_width": "",
            "_view_module": "@jupyter-widgets/base",
            "_model_module_version": "1.5.0",
            "_view_count": null,
            "_view_module_version": "1.2.0",
            "_model_module": "@jupyter-widgets/controls"
          }
        },
        "3c4b11f5bf8948cea9d3b51aed9c89d6": {
          "model_module": "@jupyter-widgets/base",
          "model_name": "LayoutModel",
          "model_module_version": "1.2.0",
          "state": {
            "_view_name": "LayoutView",
            "grid_template_rows": null,
            "right": null,
            "justify_content": null,
            "_view_module": "@jupyter-widgets/base",
            "overflow": null,
            "_model_module_version": "1.2.0",
            "_view_count": null,
            "flex_flow": null,
            "width": null,
            "min_width": null,
            "border": null,
            "align_items": null,
            "bottom": null,
            "_model_module": "@jupyter-widgets/base",
            "top": null,
            "grid_column": null,
            "overflow_y": null,
            "overflow_x": null,
            "grid_auto_flow": null,
            "grid_area": null,
            "grid_template_columns": null,
            "flex": null,
            "_model_name": "LayoutModel",
            "justify_items": null,
            "grid_row": null,
            "max_height": null,
            "align_content": null,
            "visibility": null,
            "align_self": null,
            "height": null,
            "min_height": null,
            "padding": null,
            "grid_auto_rows": null,
            "grid_gap": null,
            "max_width": null,
            "order": null,
            "_view_module_version": "1.2.0",
            "grid_template_areas": null,
            "object_position": null,
            "object_fit": null,
            "grid_auto_columns": null,
            "margin": null,
            "display": null,
            "left": null
          }
        },
        "fab48251081a478a8b44151516806eca": {
          "model_module": "@jupyter-widgets/controls",
          "model_name": "ProgressStyleModel",
          "model_module_version": "1.5.0",
          "state": {
            "_view_name": "StyleView",
            "_model_name": "ProgressStyleModel",
            "description_width": "",
            "_view_module": "@jupyter-widgets/base",
            "_model_module_version": "1.5.0",
            "_view_count": null,
            "_view_module_version": "1.2.0",
            "bar_color": null,
            "_model_module": "@jupyter-widgets/controls"
          }
        },
        "f5b0b85d8b8046e095a32c9ac7ee7044": {
          "model_module": "@jupyter-widgets/base",
          "model_name": "LayoutModel",
          "model_module_version": "1.2.0",
          "state": {
            "_view_name": "LayoutView",
            "grid_template_rows": null,
            "right": null,
            "justify_content": null,
            "_view_module": "@jupyter-widgets/base",
            "overflow": null,
            "_model_module_version": "1.2.0",
            "_view_count": null,
            "flex_flow": null,
            "width": null,
            "min_width": null,
            "border": null,
            "align_items": null,
            "bottom": null,
            "_model_module": "@jupyter-widgets/base",
            "top": null,
            "grid_column": null,
            "overflow_y": null,
            "overflow_x": null,
            "grid_auto_flow": null,
            "grid_area": null,
            "grid_template_columns": null,
            "flex": null,
            "_model_name": "LayoutModel",
            "justify_items": null,
            "grid_row": null,
            "max_height": null,
            "align_content": null,
            "visibility": null,
            "align_self": null,
            "height": null,
            "min_height": null,
            "padding": null,
            "grid_auto_rows": null,
            "grid_gap": null,
            "max_width": null,
            "order": null,
            "_view_module_version": "1.2.0",
            "grid_template_areas": null,
            "object_position": null,
            "object_fit": null,
            "grid_auto_columns": null,
            "margin": null,
            "display": null,
            "left": null
          }
        },
        "bc0a6c7799414ebb9a179aa26aec349b": {
          "model_module": "@jupyter-widgets/controls",
          "model_name": "DescriptionStyleModel",
          "model_module_version": "1.5.0",
          "state": {
            "_view_name": "StyleView",
            "_model_name": "DescriptionStyleModel",
            "description_width": "",
            "_view_module": "@jupyter-widgets/base",
            "_model_module_version": "1.5.0",
            "_view_count": null,
            "_view_module_version": "1.2.0",
            "_model_module": "@jupyter-widgets/controls"
          }
        },
        "8044a859ad954cfbada549a55122e1d0": {
          "model_module": "@jupyter-widgets/base",
          "model_name": "LayoutModel",
          "model_module_version": "1.2.0",
          "state": {
            "_view_name": "LayoutView",
            "grid_template_rows": null,
            "right": null,
            "justify_content": null,
            "_view_module": "@jupyter-widgets/base",
            "overflow": null,
            "_model_module_version": "1.2.0",
            "_view_count": null,
            "flex_flow": null,
            "width": null,
            "min_width": null,
            "border": null,
            "align_items": null,
            "bottom": null,
            "_model_module": "@jupyter-widgets/base",
            "top": null,
            "grid_column": null,
            "overflow_y": null,
            "overflow_x": null,
            "grid_auto_flow": null,
            "grid_area": null,
            "grid_template_columns": null,
            "flex": null,
            "_model_name": "LayoutModel",
            "justify_items": null,
            "grid_row": null,
            "max_height": null,
            "align_content": null,
            "visibility": null,
            "align_self": null,
            "height": null,
            "min_height": null,
            "padding": null,
            "grid_auto_rows": null,
            "grid_gap": null,
            "max_width": null,
            "order": null,
            "_view_module_version": "1.2.0",
            "grid_template_areas": null,
            "object_position": null,
            "object_fit": null,
            "grid_auto_columns": null,
            "margin": null,
            "display": null,
            "left": null
          }
        },
        "2388d8c85f06403681da1f53f1e1a3eb": {
          "model_module": "@jupyter-widgets/controls",
          "model_name": "HBoxModel",
          "model_module_version": "1.5.0",
          "state": {
            "_view_name": "HBoxView",
            "_dom_classes": [],
            "_model_name": "HBoxModel",
            "_view_module": "@jupyter-widgets/controls",
            "_model_module_version": "1.5.0",
            "_view_count": null,
            "_view_module_version": "1.5.0",
            "box_style": "",
            "layout": "IPY_MODEL_02f7a4f1ebd1468598db3535c3da7444",
            "_model_module": "@jupyter-widgets/controls",
            "children": [
              "IPY_MODEL_da9195e58ffb41a3a152bbbc71b62442",
              "IPY_MODEL_095b453285eb433b9a7e484501b97efc",
              "IPY_MODEL_54f1afa62b7c49bab6e90931fa9e3bf5"
            ]
          }
        },
        "02f7a4f1ebd1468598db3535c3da7444": {
          "model_module": "@jupyter-widgets/base",
          "model_name": "LayoutModel",
          "model_module_version": "1.2.0",
          "state": {
            "_view_name": "LayoutView",
            "grid_template_rows": null,
            "right": null,
            "justify_content": null,
            "_view_module": "@jupyter-widgets/base",
            "overflow": null,
            "_model_module_version": "1.2.0",
            "_view_count": null,
            "flex_flow": null,
            "width": null,
            "min_width": null,
            "border": null,
            "align_items": null,
            "bottom": null,
            "_model_module": "@jupyter-widgets/base",
            "top": null,
            "grid_column": null,
            "overflow_y": null,
            "overflow_x": null,
            "grid_auto_flow": null,
            "grid_area": null,
            "grid_template_columns": null,
            "flex": null,
            "_model_name": "LayoutModel",
            "justify_items": null,
            "grid_row": null,
            "max_height": null,
            "align_content": null,
            "visibility": null,
            "align_self": null,
            "height": null,
            "min_height": null,
            "padding": null,
            "grid_auto_rows": null,
            "grid_gap": null,
            "max_width": null,
            "order": null,
            "_view_module_version": "1.2.0",
            "grid_template_areas": null,
            "object_position": null,
            "object_fit": null,
            "grid_auto_columns": null,
            "margin": null,
            "display": null,
            "left": null
          }
        },
        "da9195e58ffb41a3a152bbbc71b62442": {
          "model_module": "@jupyter-widgets/controls",
          "model_name": "HTMLModel",
          "model_module_version": "1.5.0",
          "state": {
            "_view_name": "HTMLView",
            "style": "IPY_MODEL_eb11940bec9142f29c01ccb6672f62d4",
            "_dom_classes": [],
            "description": "",
            "_model_name": "HTMLModel",
            "placeholder": "​",
            "_view_module": "@jupyter-widgets/controls",
            "_model_module_version": "1.5.0",
            "value": "100%",
            "_view_count": null,
            "_view_module_version": "1.5.0",
            "description_tooltip": null,
            "_model_module": "@jupyter-widgets/controls",
            "layout": "IPY_MODEL_21dcde4d36224bb1b46d650d1a0b8c79"
          }
        },
        "095b453285eb433b9a7e484501b97efc": {
          "model_module": "@jupyter-widgets/controls",
          "model_name": "FloatProgressModel",
          "model_module_version": "1.5.0",
          "state": {
            "_view_name": "ProgressView",
            "style": "IPY_MODEL_3f7770767a5646e2bc5d547f85204ac9",
            "_dom_classes": [],
            "description": "",
            "_model_name": "FloatProgressModel",
            "bar_style": "success",
            "max": 314,
            "_view_module": "@jupyter-widgets/controls",
            "_model_module_version": "1.5.0",
            "value": 314,
            "_view_count": null,
            "_view_module_version": "1.5.0",
            "orientation": "horizontal",
            "min": 0,
            "description_tooltip": null,
            "_model_module": "@jupyter-widgets/controls",
            "layout": "IPY_MODEL_23e7f3e0e2cf4817a32d3dadd339c4b6"
          }
        },
        "54f1afa62b7c49bab6e90931fa9e3bf5": {
          "model_module": "@jupyter-widgets/controls",
          "model_name": "HTMLModel",
          "model_module_version": "1.5.0",
          "state": {
            "_view_name": "HTMLView",
            "style": "IPY_MODEL_35c8de7ac6d742bf893e3b460d5e1a19",
            "_dom_classes": [],
            "description": "",
            "_model_name": "HTMLModel",
            "placeholder": "​",
            "_view_module": "@jupyter-widgets/controls",
            "_model_module_version": "1.5.0",
            "value": " 314/314 [00:20&lt;00:00, 16.62ba/s]",
            "_view_count": null,
            "_view_module_version": "1.5.0",
            "description_tooltip": null,
            "_model_module": "@jupyter-widgets/controls",
            "layout": "IPY_MODEL_c74638af294b4ad98904b9df841cc213"
          }
        },
        "eb11940bec9142f29c01ccb6672f62d4": {
          "model_module": "@jupyter-widgets/controls",
          "model_name": "DescriptionStyleModel",
          "model_module_version": "1.5.0",
          "state": {
            "_view_name": "StyleView",
            "_model_name": "DescriptionStyleModel",
            "description_width": "",
            "_view_module": "@jupyter-widgets/base",
            "_model_module_version": "1.5.0",
            "_view_count": null,
            "_view_module_version": "1.2.0",
            "_model_module": "@jupyter-widgets/controls"
          }
        },
        "21dcde4d36224bb1b46d650d1a0b8c79": {
          "model_module": "@jupyter-widgets/base",
          "model_name": "LayoutModel",
          "model_module_version": "1.2.0",
          "state": {
            "_view_name": "LayoutView",
            "grid_template_rows": null,
            "right": null,
            "justify_content": null,
            "_view_module": "@jupyter-widgets/base",
            "overflow": null,
            "_model_module_version": "1.2.0",
            "_view_count": null,
            "flex_flow": null,
            "width": null,
            "min_width": null,
            "border": null,
            "align_items": null,
            "bottom": null,
            "_model_module": "@jupyter-widgets/base",
            "top": null,
            "grid_column": null,
            "overflow_y": null,
            "overflow_x": null,
            "grid_auto_flow": null,
            "grid_area": null,
            "grid_template_columns": null,
            "flex": null,
            "_model_name": "LayoutModel",
            "justify_items": null,
            "grid_row": null,
            "max_height": null,
            "align_content": null,
            "visibility": null,
            "align_self": null,
            "height": null,
            "min_height": null,
            "padding": null,
            "grid_auto_rows": null,
            "grid_gap": null,
            "max_width": null,
            "order": null,
            "_view_module_version": "1.2.0",
            "grid_template_areas": null,
            "object_position": null,
            "object_fit": null,
            "grid_auto_columns": null,
            "margin": null,
            "display": null,
            "left": null
          }
        },
        "3f7770767a5646e2bc5d547f85204ac9": {
          "model_module": "@jupyter-widgets/controls",
          "model_name": "ProgressStyleModel",
          "model_module_version": "1.5.0",
          "state": {
            "_view_name": "StyleView",
            "_model_name": "ProgressStyleModel",
            "description_width": "",
            "_view_module": "@jupyter-widgets/base",
            "_model_module_version": "1.5.0",
            "_view_count": null,
            "_view_module_version": "1.2.0",
            "bar_color": null,
            "_model_module": "@jupyter-widgets/controls"
          }
        },
        "23e7f3e0e2cf4817a32d3dadd339c4b6": {
          "model_module": "@jupyter-widgets/base",
          "model_name": "LayoutModel",
          "model_module_version": "1.2.0",
          "state": {
            "_view_name": "LayoutView",
            "grid_template_rows": null,
            "right": null,
            "justify_content": null,
            "_view_module": "@jupyter-widgets/base",
            "overflow": null,
            "_model_module_version": "1.2.0",
            "_view_count": null,
            "flex_flow": null,
            "width": null,
            "min_width": null,
            "border": null,
            "align_items": null,
            "bottom": null,
            "_model_module": "@jupyter-widgets/base",
            "top": null,
            "grid_column": null,
            "overflow_y": null,
            "overflow_x": null,
            "grid_auto_flow": null,
            "grid_area": null,
            "grid_template_columns": null,
            "flex": null,
            "_model_name": "LayoutModel",
            "justify_items": null,
            "grid_row": null,
            "max_height": null,
            "align_content": null,
            "visibility": null,
            "align_self": null,
            "height": null,
            "min_height": null,
            "padding": null,
            "grid_auto_rows": null,
            "grid_gap": null,
            "max_width": null,
            "order": null,
            "_view_module_version": "1.2.0",
            "grid_template_areas": null,
            "object_position": null,
            "object_fit": null,
            "grid_auto_columns": null,
            "margin": null,
            "display": null,
            "left": null
          }
        },
        "35c8de7ac6d742bf893e3b460d5e1a19": {
          "model_module": "@jupyter-widgets/controls",
          "model_name": "DescriptionStyleModel",
          "model_module_version": "1.5.0",
          "state": {
            "_view_name": "StyleView",
            "_model_name": "DescriptionStyleModel",
            "description_width": "",
            "_view_module": "@jupyter-widgets/base",
            "_model_module_version": "1.5.0",
            "_view_count": null,
            "_view_module_version": "1.2.0",
            "_model_module": "@jupyter-widgets/controls"
          }
        },
        "c74638af294b4ad98904b9df841cc213": {
          "model_module": "@jupyter-widgets/base",
          "model_name": "LayoutModel",
          "model_module_version": "1.2.0",
          "state": {
            "_view_name": "LayoutView",
            "grid_template_rows": null,
            "right": null,
            "justify_content": null,
            "_view_module": "@jupyter-widgets/base",
            "overflow": null,
            "_model_module_version": "1.2.0",
            "_view_count": null,
            "flex_flow": null,
            "width": null,
            "min_width": null,
            "border": null,
            "align_items": null,
            "bottom": null,
            "_model_module": "@jupyter-widgets/base",
            "top": null,
            "grid_column": null,
            "overflow_y": null,
            "overflow_x": null,
            "grid_auto_flow": null,
            "grid_area": null,
            "grid_template_columns": null,
            "flex": null,
            "_model_name": "LayoutModel",
            "justify_items": null,
            "grid_row": null,
            "max_height": null,
            "align_content": null,
            "visibility": null,
            "align_self": null,
            "height": null,
            "min_height": null,
            "padding": null,
            "grid_auto_rows": null,
            "grid_gap": null,
            "max_width": null,
            "order": null,
            "_view_module_version": "1.2.0",
            "grid_template_areas": null,
            "object_position": null,
            "object_fit": null,
            "grid_auto_columns": null,
            "margin": null,
            "display": null,
            "left": null
          }
        },
        "f2451b27cc6d492f8d7789d41ff2bb94": {
          "model_module": "@jupyter-widgets/controls",
          "model_name": "HBoxModel",
          "model_module_version": "1.5.0",
          "state": {
            "_view_name": "HBoxView",
            "_dom_classes": [],
            "_model_name": "HBoxModel",
            "_view_module": "@jupyter-widgets/controls",
            "_model_module_version": "1.5.0",
            "_view_count": null,
            "_view_module_version": "1.5.0",
            "box_style": "",
            "layout": "IPY_MODEL_7c8a45520df443d6959c5de997d4cdd8",
            "_model_module": "@jupyter-widgets/controls",
            "children": [
              "IPY_MODEL_465766985a804167947f1d238784367d",
              "IPY_MODEL_d7d487ef5e1c40c3b6e0584cd278e1d1",
              "IPY_MODEL_02fa6acc9b6b46d3ae570ad2cb895e48"
            ]
          }
        },
        "7c8a45520df443d6959c5de997d4cdd8": {
          "model_module": "@jupyter-widgets/base",
          "model_name": "LayoutModel",
          "model_module_version": "1.2.0",
          "state": {
            "_view_name": "LayoutView",
            "grid_template_rows": null,
            "right": null,
            "justify_content": null,
            "_view_module": "@jupyter-widgets/base",
            "overflow": null,
            "_model_module_version": "1.2.0",
            "_view_count": null,
            "flex_flow": null,
            "width": null,
            "min_width": null,
            "border": null,
            "align_items": null,
            "bottom": null,
            "_model_module": "@jupyter-widgets/base",
            "top": null,
            "grid_column": null,
            "overflow_y": null,
            "overflow_x": null,
            "grid_auto_flow": null,
            "grid_area": null,
            "grid_template_columns": null,
            "flex": null,
            "_model_name": "LayoutModel",
            "justify_items": null,
            "grid_row": null,
            "max_height": null,
            "align_content": null,
            "visibility": null,
            "align_self": null,
            "height": null,
            "min_height": null,
            "padding": null,
            "grid_auto_rows": null,
            "grid_gap": null,
            "max_width": null,
            "order": null,
            "_view_module_version": "1.2.0",
            "grid_template_areas": null,
            "object_position": null,
            "object_fit": null,
            "grid_auto_columns": null,
            "margin": null,
            "display": null,
            "left": null
          }
        },
        "465766985a804167947f1d238784367d": {
          "model_module": "@jupyter-widgets/controls",
          "model_name": "HTMLModel",
          "model_module_version": "1.5.0",
          "state": {
            "_view_name": "HTMLView",
            "style": "IPY_MODEL_2663aceb04d243e8ac5d2e8099a73883",
            "_dom_classes": [],
            "description": "",
            "_model_name": "HTMLModel",
            "placeholder": "​",
            "_view_module": "@jupyter-widgets/controls",
            "_model_module_version": "1.5.0",
            "value": "100%",
            "_view_count": null,
            "_view_module_version": "1.5.0",
            "description_tooltip": null,
            "_model_module": "@jupyter-widgets/controls",
            "layout": "IPY_MODEL_87eb8ff1f9284f6192ff1ec81ed30812"
          }
        },
        "d7d487ef5e1c40c3b6e0584cd278e1d1": {
          "model_module": "@jupyter-widgets/controls",
          "model_name": "FloatProgressModel",
          "model_module_version": "1.5.0",
          "state": {
            "_view_name": "ProgressView",
            "style": "IPY_MODEL_d1fb5e56a36845ab8b180cd4dee4dd3e",
            "_dom_classes": [],
            "description": "",
            "_model_name": "FloatProgressModel",
            "bar_style": "success",
            "max": 314,
            "_view_module": "@jupyter-widgets/controls",
            "_model_module_version": "1.5.0",
            "value": 314,
            "_view_count": null,
            "_view_module_version": "1.5.0",
            "orientation": "horizontal",
            "min": 0,
            "description_tooltip": null,
            "_model_module": "@jupyter-widgets/controls",
            "layout": "IPY_MODEL_36b3a92362754ac2b18c8f77733acee4"
          }
        },
        "02fa6acc9b6b46d3ae570ad2cb895e48": {
          "model_module": "@jupyter-widgets/controls",
          "model_name": "HTMLModel",
          "model_module_version": "1.5.0",
          "state": {
            "_view_name": "HTMLView",
            "style": "IPY_MODEL_0872c709d4584f54a86ead204bff058d",
            "_dom_classes": [],
            "description": "",
            "_model_name": "HTMLModel",
            "placeholder": "​",
            "_view_module": "@jupyter-widgets/controls",
            "_model_module_version": "1.5.0",
            "value": " 314/314 [00:31&lt;00:00, 10.46ba/s]",
            "_view_count": null,
            "_view_module_version": "1.5.0",
            "description_tooltip": null,
            "_model_module": "@jupyter-widgets/controls",
            "layout": "IPY_MODEL_8ddac15ee8cf4207b88eeb3562872574"
          }
        },
        "2663aceb04d243e8ac5d2e8099a73883": {
          "model_module": "@jupyter-widgets/controls",
          "model_name": "DescriptionStyleModel",
          "model_module_version": "1.5.0",
          "state": {
            "_view_name": "StyleView",
            "_model_name": "DescriptionStyleModel",
            "description_width": "",
            "_view_module": "@jupyter-widgets/base",
            "_model_module_version": "1.5.0",
            "_view_count": null,
            "_view_module_version": "1.2.0",
            "_model_module": "@jupyter-widgets/controls"
          }
        },
        "87eb8ff1f9284f6192ff1ec81ed30812": {
          "model_module": "@jupyter-widgets/base",
          "model_name": "LayoutModel",
          "model_module_version": "1.2.0",
          "state": {
            "_view_name": "LayoutView",
            "grid_template_rows": null,
            "right": null,
            "justify_content": null,
            "_view_module": "@jupyter-widgets/base",
            "overflow": null,
            "_model_module_version": "1.2.0",
            "_view_count": null,
            "flex_flow": null,
            "width": null,
            "min_width": null,
            "border": null,
            "align_items": null,
            "bottom": null,
            "_model_module": "@jupyter-widgets/base",
            "top": null,
            "grid_column": null,
            "overflow_y": null,
            "overflow_x": null,
            "grid_auto_flow": null,
            "grid_area": null,
            "grid_template_columns": null,
            "flex": null,
            "_model_name": "LayoutModel",
            "justify_items": null,
            "grid_row": null,
            "max_height": null,
            "align_content": null,
            "visibility": null,
            "align_self": null,
            "height": null,
            "min_height": null,
            "padding": null,
            "grid_auto_rows": null,
            "grid_gap": null,
            "max_width": null,
            "order": null,
            "_view_module_version": "1.2.0",
            "grid_template_areas": null,
            "object_position": null,
            "object_fit": null,
            "grid_auto_columns": null,
            "margin": null,
            "display": null,
            "left": null
          }
        },
        "d1fb5e56a36845ab8b180cd4dee4dd3e": {
          "model_module": "@jupyter-widgets/controls",
          "model_name": "ProgressStyleModel",
          "model_module_version": "1.5.0",
          "state": {
            "_view_name": "StyleView",
            "_model_name": "ProgressStyleModel",
            "description_width": "",
            "_view_module": "@jupyter-widgets/base",
            "_model_module_version": "1.5.0",
            "_view_count": null,
            "_view_module_version": "1.2.0",
            "bar_color": null,
            "_model_module": "@jupyter-widgets/controls"
          }
        },
        "36b3a92362754ac2b18c8f77733acee4": {
          "model_module": "@jupyter-widgets/base",
          "model_name": "LayoutModel",
          "model_module_version": "1.2.0",
          "state": {
            "_view_name": "LayoutView",
            "grid_template_rows": null,
            "right": null,
            "justify_content": null,
            "_view_module": "@jupyter-widgets/base",
            "overflow": null,
            "_model_module_version": "1.2.0",
            "_view_count": null,
            "flex_flow": null,
            "width": null,
            "min_width": null,
            "border": null,
            "align_items": null,
            "bottom": null,
            "_model_module": "@jupyter-widgets/base",
            "top": null,
            "grid_column": null,
            "overflow_y": null,
            "overflow_x": null,
            "grid_auto_flow": null,
            "grid_area": null,
            "grid_template_columns": null,
            "flex": null,
            "_model_name": "LayoutModel",
            "justify_items": null,
            "grid_row": null,
            "max_height": null,
            "align_content": null,
            "visibility": null,
            "align_self": null,
            "height": null,
            "min_height": null,
            "padding": null,
            "grid_auto_rows": null,
            "grid_gap": null,
            "max_width": null,
            "order": null,
            "_view_module_version": "1.2.0",
            "grid_template_areas": null,
            "object_position": null,
            "object_fit": null,
            "grid_auto_columns": null,
            "margin": null,
            "display": null,
            "left": null
          }
        },
        "0872c709d4584f54a86ead204bff058d": {
          "model_module": "@jupyter-widgets/controls",
          "model_name": "DescriptionStyleModel",
          "model_module_version": "1.5.0",
          "state": {
            "_view_name": "StyleView",
            "_model_name": "DescriptionStyleModel",
            "description_width": "",
            "_view_module": "@jupyter-widgets/base",
            "_model_module_version": "1.5.0",
            "_view_count": null,
            "_view_module_version": "1.2.0",
            "_model_module": "@jupyter-widgets/controls"
          }
        },
        "8ddac15ee8cf4207b88eeb3562872574": {
          "model_module": "@jupyter-widgets/base",
          "model_name": "LayoutModel",
          "model_module_version": "1.2.0",
          "state": {
            "_view_name": "LayoutView",
            "grid_template_rows": null,
            "right": null,
            "justify_content": null,
            "_view_module": "@jupyter-widgets/base",
            "overflow": null,
            "_model_module_version": "1.2.0",
            "_view_count": null,
            "flex_flow": null,
            "width": null,
            "min_width": null,
            "border": null,
            "align_items": null,
            "bottom": null,
            "_model_module": "@jupyter-widgets/base",
            "top": null,
            "grid_column": null,
            "overflow_y": null,
            "overflow_x": null,
            "grid_auto_flow": null,
            "grid_area": null,
            "grid_template_columns": null,
            "flex": null,
            "_model_name": "LayoutModel",
            "justify_items": null,
            "grid_row": null,
            "max_height": null,
            "align_content": null,
            "visibility": null,
            "align_self": null,
            "height": null,
            "min_height": null,
            "padding": null,
            "grid_auto_rows": null,
            "grid_gap": null,
            "max_width": null,
            "order": null,
            "_view_module_version": "1.2.0",
            "grid_template_areas": null,
            "object_position": null,
            "object_fit": null,
            "grid_auto_columns": null,
            "margin": null,
            "display": null,
            "left": null
          }
        }
      }
    }
  },
  "cells": [
    {
      "cell_type": "markdown",
      "metadata": {
        "id": "view-in-github",
        "colab_type": "text"
      },
      "source": [
        "<a href=\"https://colab.research.google.com/github/finardi/tutos/blob/master/Sentence_BERT_DirtyTalk.ipynb\" target=\"_parent\"><img src=\"https://colab.research.google.com/assets/colab-badge.svg\" alt=\"Open In Colab\"/></a>"
      ]
    },
    {
      "cell_type": "code",
      "metadata": {
        "id": "-xGs0LB1kAKu"
      },
      "source": [
        "%%capture\n",
        "!pip install ftfy\n",
        "!pip install datasets\n",
        "!pip install magic_timer\n",
        "!pip install transformers\n",
        "!pip install sentencepiece\n",
        "!pip install sentence_transformers"
      ],
      "execution_count": null,
      "outputs": []
    },
    {
      "cell_type": "markdown",
      "metadata": {
        "id": "fbPTPsZSPhau"
      },
      "source": [
        "# <font color='darkorange'>**Problema**: </font> Criar uma representação densa de qualidade para sentenças.\n",
        "\n",
        "---\n",
        "\n",
        "### <font color='lightyellow'>**Modelos e Arquitetura**: </font> \n",
        "#### <font color='whiteblue'> >>> Transformers $-$ pontos chave:</font> \n",
        "- #### Positional Encoding\n",
        "- #### Self-attention\n",
        "- #### Multi-head attention\n",
        "\n",
        "#### <font color='magenta'> >>> BERT $-$ pontos chave:</font> \n",
        "- #### Transformer Architecture\n",
        "- #### Pre-training from unlabeled text\n",
        "- #### Bi-directional contextual models \n",
        "- #### Textual entailment (Next Sentence Prediction)\n",
        "\n",
        "### <font color='darkorange'>**Desafio**: </font> Transformers funcionam com embeddings no nível de palavra/token, não embeddings no nível de sentença. \n",
        "\n",
        "---\n",
        "\n",
        "### **<font color='lightgreen'>Em qual task devemos fazer fine tuning?</font>**\n",
        "> #### Natual Language Inference (**<font color='lightgreen'>NLI</font>**) é a tarefa de determinar se uma `“hipótese”` é *verdadeira* (implicação), *falsa* (contradição) ou *indeterminada* (neutra) dada uma `“premissa”`. Exemplo:\n",
        "\n",
        "| Premissa | Label | Hipótese |  \n",
        "|----------|-------|----------|\n",
        "| O cientista preparou uma nova solução | implicação | O solução criada pelo cientista é  boa |  \n",
        "| Um cientista alto e um baixo estão sorrindo | neutra | Cientistas riem ao ver F$_1=0$ |  \n",
        "| O Haddop está lento | contradição | A query no Hadoop está executando rápida |  \n",
        "\n",
        "\n",
        "#### def $:=$ [NLI](http://nlpprogress.com/english/natural_language_inference.html)\n",
        "\n",
        "\n",
        "# **<font color='lightpink'>Datasets de NLI</font>**\n",
        "- ### SNLI\n",
        " - #### The Stanford Natural Language Inference (SNLI) Corpus contains around 550k hypothesis/premise pairs. Models are evaluated based on accuracy. \n",
        "\n",
        "- #### MNLI\n",
        " - #### The Multi-Genre Natural Language Inference (MultiNLI) corpus contains around 433k hypothesis/premise pairs. It is similar to the SNLI corpus, but covers a range of genres of spoken and written text and supports cross-genre evaluation. \n",
        "\n",
        "- #### STSb\n",
        " - STS Benchmark comprises a selection of the English datasets used in the STS tasks organized in the context of SemEval between 2012 and 2017. The selection of datasets include text from image captions, news headlines and user forums. \n",
        "\n",
        "\n",
        "\n"
      ]
    },
    {
      "cell_type": "markdown",
      "metadata": {
        "id": "HXHFWZ9qG5BR"
      },
      "source": [
        "# **<font color='light magenta'>Tradução dos Datasets</font>**"
      ]
    },
    {
      "cell_type": "code",
      "metadata": {
        "colab": {
          "base_uri": "https://localhost:8080/"
        },
        "id": "ImMfdKrfge2n",
        "outputId": "da13a175-2318-4205-febb-0b10837f862f"
      },
      "source": [
        "from transformers import MarianMTModel, MarianTokenizer\n",
        "from transformers import logging\n",
        "logging.set_verbosity_error()\n",
        "\n",
        "import datasets\n",
        "from ftfy import fix_encoding\n",
        "from magic_timer import MagicTimer\n",
        "\n",
        "import torch\n",
        "from spacy.lang.en import English\n",
        "\n",
        "\n",
        "def pickle_file(path, data=None):\n",
        "    import pickle\n",
        "    if data is None:\n",
        "        with open(path, 'rb') as f:\n",
        "            return pickle.load(f)\n",
        "    if data is not None:\n",
        "        with open(path, 'wb') as handle:\n",
        "            pickle.dump(data, handle, protocol=pickle.HIGHEST_PROTOCOL)\n",
        "\n",
        "MANUAL_SEED = 341\n",
        "device = torch.device(\"cuda\" if torch.cuda.is_available() else \"cpu\")\n",
        "\n",
        "\n",
        "def deterministic(rep=True):\n",
        "    torch.manual_seed(MANUAL_SEED)\n",
        "    if torch.cuda.is_available():\n",
        "            torch.cuda.manual_seed(MANUAL_SEED)\n",
        "            torch.cuda.manual_seed_all(MANUAL_SEED)\n",
        "            torch.backends.cudnn.enabled = False \n",
        "            torch.backends.cudnn.benchmark = False\n",
        "            torch.backends.cudnn.deterministic = True\n",
        "            print(f'Experimento deterministico, seed: {MANUAL_SEED} -- ', end = '')\n",
        "            print(f'Existe {torch.cuda.device_count()} GPU {torch.cuda.get_device_name(0)} disponível.')\n",
        "    else:\n",
        "        print('Device CPU')\n",
        "deterministic()        "
      ],
      "execution_count": null,
      "outputs": [
        {
          "output_type": "stream",
          "name": "stdout",
          "text": [
            "Device CPU\n"
          ]
        }
      ]
    },
    {
      "cell_type": "code",
      "metadata": {
        "id": "VsELpEZkgpmA"
      },
      "source": [
        "snli = datasets.load_dataset('snli', split='train')\n",
        "mnli = datasets.load_dataset('glue', 'mnli', split='train')"
      ],
      "execution_count": null,
      "outputs": []
    },
    {
      "cell_type": "code",
      "metadata": {
        "colab": {
          "base_uri": "https://localhost:8080/"
        },
        "id": "bgQTvoQGhVP1",
        "outputId": "4591c225-afd1-4153-ed6b-789181c72ee1"
      },
      "source": [
        "snli"
      ],
      "execution_count": null,
      "outputs": [
        {
          "output_type": "execute_result",
          "data": {
            "text/plain": [
              "Dataset({\n",
              "    features: ['premise', 'hypothesis', 'label'],\n",
              "    num_rows: 550152\n",
              "})"
            ]
          },
          "metadata": {},
          "execution_count": 4
        }
      ]
    },
    {
      "cell_type": "code",
      "metadata": {
        "colab": {
          "base_uri": "https://localhost:8080/"
        },
        "id": "L8Vju83ehZLC",
        "outputId": "380f0a70-c71b-4111-a5b0-ed2143faf313"
      },
      "source": [
        "mnli"
      ],
      "execution_count": null,
      "outputs": [
        {
          "output_type": "execute_result",
          "data": {
            "text/plain": [
              "Dataset({\n",
              "    features: ['premise', 'hypothesis', 'label', 'idx'],\n",
              "    num_rows: 392702\n",
              "})"
            ]
          },
          "metadata": {},
          "execution_count": 5
        }
      ]
    },
    {
      "cell_type": "code",
      "metadata": {
        "colab": {
          "base_uri": "https://localhost:8080/"
        },
        "id": "LoRl_r0okhKN",
        "outputId": "6369ec0f-ea41-4501-d40c-3ce8ac04e9c8"
      },
      "source": [
        "mnli_like_snli = {'premise': mnli['premise'], 'hypothesis': mnli['hypothesis'], 'label': mnli['label']}\n",
        "mnli_like_snli = datasets.Dataset.from_dict(mnli_like_snli)\n",
        "mnli_like_snli"
      ],
      "execution_count": null,
      "outputs": [
        {
          "output_type": "execute_result",
          "data": {
            "text/plain": [
              "Dataset({\n",
              "    features: ['premise', 'hypothesis', 'label'],\n",
              "    num_rows: 392702\n",
              "})"
            ]
          },
          "metadata": {},
          "execution_count": 6
        }
      ]
    },
    {
      "cell_type": "code",
      "metadata": {
        "colab": {
          "base_uri": "https://localhost:8080/",
          "height": 117,
          "referenced_widgets": [
            "a6d586c6d2f44c71991baac8f939b02f",
            "b1ef3771066043d68507f33b667af8ab",
            "86c05c6e960b43cf8b5502d8cf6b02b1",
            "dbb1a7df3a124eceb9b7a351998d6779",
            "63f1a93f731e446186b3d4ce418c3754",
            "bb70b16151e644a3890ee017fabe851e",
            "b1e426110b724d3f828415c7aae464d1",
            "027fab62a0e64646b4499d971a374b54",
            "9e5fbb69cf4f4bceb036a94f96524737",
            "ba289ef052a84e14ad433b6d5d019b93",
            "d025e6644ad84352bfe2704ac945f836"
          ]
        },
        "id": "q4qLTCbwisR7",
        "outputId": "ddb90702-83c2-451a-bb20-62f0ad7000f3"
      },
      "source": [
        "snli = snli.cast(mnli_like_snli.features)\n",
        "dataset_train = datasets.concatenate_datasets([snli, mnli_like_snli])\n",
        "dataset_train"
      ],
      "execution_count": null,
      "outputs": [
        {
          "output_type": "display_data",
          "data": {
            "application/vnd.jupyter.widget-view+json": {
              "model_id": "a6d586c6d2f44c71991baac8f939b02f",
              "version_minor": 0,
              "version_major": 2
            },
            "text/plain": [
              "  0%|          | 0/56 [00:00<?, ?ba/s]"
            ]
          },
          "metadata": {}
        },
        {
          "output_type": "execute_result",
          "data": {
            "text/plain": [
              "Dataset({\n",
              "    features: ['premise', 'hypothesis', 'label'],\n",
              "    num_rows: 942854\n",
              "})"
            ]
          },
          "metadata": {},
          "execution_count": 8
        }
      ]
    },
    {
      "cell_type": "code",
      "metadata": {
        "colab": {
          "base_uri": "https://localhost:8080/",
          "height": 83,
          "referenced_widgets": [
            "72e6676e1f6d4c35bcda07a7732dc7d6",
            "82ce03ae75ba4e8fbfb5327c0fb3c9f5",
            "fbfb8a5cc2734c839f067ef6d3c9b0e3",
            "498641ec4adc4faa9d53be6c1664b424",
            "1c93c20b26f140378cee0bb358348b60",
            "2cf77de8d3a24206a7b6cbe600cd9668",
            "f66fa92ab98549aeafddace8624f94b3",
            "57b58c2e5ae14107bba5c54b44a4961b",
            "8bab97479eb44836a4467f7bfd6e5494",
            "c29aa37e81a24bc9bf3cdea07c170297",
            "262d7635d3dd47f69a620f7517025c56"
          ]
        },
        "id": "t2K1o--nhQ0g",
        "outputId": "31e9568a-49b8-4a3b-b847-b0c4415a3b40"
      },
      "source": [
        "print(f\"before filter: {len(dataset_train)} rows\")\n",
        "dataset_train = dataset_train.filter(lambda x: True if x['label'] == 0 else False)\n",
        "print(f\"after: {len(dataset_train)} rows\")"
      ],
      "execution_count": null,
      "outputs": [
        {
          "output_type": "stream",
          "name": "stdout",
          "text": [
            "before filter: 942854 rows\n"
          ]
        },
        {
          "output_type": "display_data",
          "data": {
            "application/vnd.jupyter.widget-view+json": {
              "model_id": "72e6676e1f6d4c35bcda07a7732dc7d6",
              "version_minor": 0,
              "version_major": 2
            },
            "text/plain": [
              "  0%|          | 0/943 [00:00<?, ?ba/s]"
            ]
          },
          "metadata": {}
        },
        {
          "output_type": "stream",
          "name": "stdout",
          "text": [
            "after: 314315 rows\n"
          ]
        }
      ]
    },
    {
      "cell_type": "code",
      "metadata": {
        "colab": {
          "base_uri": "https://localhost:8080/"
        },
        "id": "9aIFWO6Xli3k",
        "outputId": "a961bbf6-ce49-4cab-f9c2-42ea8e357ef9"
      },
      "source": [
        "dataset_train"
      ],
      "execution_count": null,
      "outputs": [
        {
          "output_type": "execute_result",
          "data": {
            "text/plain": [
              "Dataset({\n",
              "    features: ['premise', 'hypothesis', 'label'],\n",
              "    num_rows: 314315\n",
              "})"
            ]
          },
          "metadata": {},
          "execution_count": 10
        }
      ]
    },
    {
      "cell_type": "code",
      "metadata": {
        "id": "F70tBV3u5NwC"
      },
      "source": [
        "model_name = 'Helsinki-NLP/opus-mt-en-ROMANCE'\n",
        "marian_tokenizer = MarianTokenizer.from_pretrained(model_name)\n",
        "marian_model = MarianMTModel.from_pretrained(model_name)"
      ],
      "execution_count": null,
      "outputs": []
    },
    {
      "cell_type": "code",
      "metadata": {
        "id": "QN0Fcv6I5g6c"
      },
      "source": [
        "nlp = English()\n",
        "nlp.add_pipe(nlp.create_pipe('sentencizer'))\n",
        "def chunkstring_spacy(text):\n",
        "    chunck_sentences = []\n",
        "    doc = nlp(str(text))\n",
        "    for sent in doc.sents:\n",
        "        chunck_sentences.append('>>pt_br<<' + ' ' + sent.text)\n",
        "        \n",
        "    return chunck_sentences\n",
        "    \n",
        "def translate(aux_sent):\n",
        "    max_length = 512\n",
        "    num_beams = 1\n",
        "\n",
        "    sentence = chunkstring_spacy(aux_sent)\n",
        "\n",
        "    marian_model.to(device)\n",
        "    marian_model.eval()\n",
        "\n",
        "    tokenized_text = marian_tokenizer.prepare_seq2seq_batch(sentence, max_length=max_length, return_tensors='pt')\n",
        "                        \n",
        "    translated = marian_model.generate(input_ids=tokenized_text['input_ids'].to(device), \n",
        "                                        max_length=max_length, \n",
        "                                        num_beams=num_beams, \n",
        "                                        early_stopping=True, \n",
        "                                        do_sample=False)\n",
        "                        \n",
        "    tgt_text = [fix_encoding(marian_tokenizer.decode(t, skip_special_tokens=True)) for t in translated]\n",
        "    return ' '.join(tgt_text)"
      ],
      "execution_count": null,
      "outputs": []
    },
    {
      "cell_type": "code",
      "metadata": {
        "id": "ITn4cshK6ELi"
      },
      "source": [
        "deterministic()        \n",
        "\n",
        "path_base = '/content/drive/MyDrive/Dirty-Talks/Sentence-Transformers/data/'\n",
        "\n",
        "CONTINUE_FROM = 0\n",
        "\n",
        "timer = MagicTimer()  \n",
        "translated_premise, translated_hypothesis = [], []\n",
        "for idx, (premise, hypothesis) in enumerate(\n",
        "    zip(\n",
        "        dataset_train['premise'][CONTINUE_FROM:], \n",
        "        dataset_train['hypothesis'][CONTINUE_FROM:],\n",
        "        ), start=CONTINUE_FROM\n",
        "    ):\n",
        "    \n",
        "    translated_premise.append(translate(premise))\n",
        "    translated_hypothesis.append(translate(hypothesis))\n",
        "    \n",
        "    if (idx > CONTINUE_FROM and idx%1000==0) or (idx==len(dataset_train)-1):\n",
        "        print(f'\\tprocessed {idx}/{len(dataset_train)} samples. Time elapsed: {timer}')\n",
        "        pickle_file(path_base+'translated_premise_MARIAN_'+str(idx), translated_premise)\n",
        "        pickle_file(path_base+'translated_hypothesis_MARIAN_'+str(idx), translated_hypothesis)\n",
        "        translated_premise, translated_hypothesis = [], []"
      ],
      "execution_count": null,
      "outputs": []
    },
    {
      "cell_type": "code",
      "metadata": {
        "id": "GL0OBFULtTRk"
      },
      "source": [
        "sts = datasets.load_dataset('glue', 'stsb', split='validation')"
      ],
      "execution_count": null,
      "outputs": []
    },
    {
      "cell_type": "code",
      "metadata": {
        "id": "Hb5pQ4iGKriF"
      },
      "source": [
        "deterministic()        \n",
        "\n",
        "sentence1, sentence2 = [],[]\n",
        "timer = MagicTimer()  \n",
        "for sent1, sent2 in zip(sts['sentence1'], sts['sentence2']):\n",
        "    sentence1.append(translate(sent1))\n",
        "    sentence2.append(translate(sent2))\n",
        "\n",
        "print(f'\\tSTS translated Time elapsed: {timer}')\n",
        "\n",
        "sts_PT = {\n",
        "    'sentence1':sentence1, \n",
        "    'sentence2':sentence2,\n",
        "    'label':sts['label'], \n",
        "    'idx':sts['label'],\n",
        "    }    \n",
        "\n",
        "pickle_file(path_base+'STS_PT', sts_PT)\n",
        "STS_PT = pickle_file(path_base+'STS_PT')\n",
        "\n",
        "STS_PT = datasets.Dataset.from_dict(STS_PT)"
      ],
      "execution_count": null,
      "outputs": []
    },
    {
      "cell_type": "code",
      "metadata": {
        "colab": {
          "base_uri": "https://localhost:8080/"
        },
        "id": "zrt8zTCAs618",
        "outputId": "6aa51d40-fbeb-40c1-b3c8-5e769c1211fb"
      },
      "source": [
        "import os\n",
        "import glob\n",
        "import random\n",
        "import pandas as pd\n",
        "\n",
        "path_base = '/content/drive/MyDrive/Dirty-Talks/Sentence-Transformers/data/'\n",
        "\n",
        "os.chdir(path_base)\n",
        "premise, hypothesis = [],[]\n",
        "for i, (p_file, h_file) in enumerate(zip(\n",
        "    sorted(glob.glob(\"translated_premise_MARIAN_*\"), key=os.path.getmtime), \n",
        "    sorted(glob.glob(\"translated_hypothesis_MARIAN_*\"), key=os.path.getmtime))):\n",
        "    if p_file[-3:] == h_file[-3:]:\n",
        "        premise += pickle_file(p_file)\n",
        "        hypothesis += pickle_file(h_file)\n",
        "\n",
        "    else:\n",
        "        print(f'not append p_file: {p_file}')\n",
        "        print(f'not append h_file: {h_file}')\n",
        "\n",
        "assert len(premise) == len(hypothesis)\n",
        "\n",
        "#-----------------------------------------------------------------------------------\n",
        "df = pd.DataFrame({'premise':premise, 'hypothesis':hypothesis})\n",
        "df = df[~df.duplicated()].sample(frac=1, random_state=MANUAL_SEED)\n",
        "\n",
        "mnli_snli_PT = {'premise':df.premise.to_list(), 'hypothesis':df.hypothesis.to_list()}\n",
        "\n",
        "pickle_file(path_base+'SNLI_MNLI_POSITIVES_PT', mnli_snli_PT)\n",
        "mnli_snli_PT = pickle_file(path_base+'SNLI_MNLI_POSITIVES_PT')\n",
        "\n",
        "mnli_snli_PT = datasets.Dataset.from_dict(mnli_snli_PT)\n",
        "\n",
        "K = random.randrange(len(premise)-10)\n",
        "for i, (p_, h_) in enumerate(zip(premise, hypothesis)):\n",
        "    if i>=K: \n",
        "        print(f'\\tPremise:    {p_}')\n",
        "        print(f'\\tHypothesis: {h_}\\n')\n",
        "    if i==K+10: break \n",
        "\n",
        "print(f\"len(premise): {len(mnli_snli_PT['premise'])} -- len(hypothesis): {len(mnli_snli_PT['hypothesis'])}\")\n",
        "\n",
        "mnli_snli_PT"
      ],
      "execution_count": null,
      "outputs": [
        {
          "output_type": "stream",
          "name": "stdout",
          "text": [
            "\tPremise:    Mas então o que filme não é mais\n",
            "\tHypothesis: Hoje em dia, todos os filmes são assim.\n",
            "\n",
            "\tPremise:    Membros da LMA ajudarão os grupos a desenvolver planos de negócios e estratégias de marketing a longo prazo.\n",
            "\tHypothesis: Membros da AML estão trabalhando nos planos de negócios.\n",
            "\n",
            "\tPremise:    Quando o povo está com fome e tudo o que nos pedem é de entregas, por que nosso povo não pode pedir uma entrega?\n",
            "\tHypothesis: Por que não podemos alimentar nosso próprio povo?\n",
            "\n",
            "\tPremise:    Sim, não é ridículo.\n",
            "\tHypothesis: Não é ridículo?\n",
            "\n",
            "\tPremise:    Se os executivos da CNN caíssem frequentemente, estariam mortos e, portanto, incapazes de exigir programas tão chatos.\n",
            "\tHypothesis: Executivos da CNN não poderão exigir programas chatos se baterem com frequência.\n",
            "\n",
            "\tPremise:    A fórmula permite saborear pequenas diferenças e adaptações.\n",
            "\tHypothesis: A fórmula permite que alguém saboreie pequenas diferenças e adaptações.\n",
            "\n",
            "\tPremise:    Acho que é por isso que os atores e atrizes ganham milhões de dólares, pessoas como nós.\n",
            "\tHypothesis: Os atores e atrizes são pessoas muito ricas.\n",
            "\n",
            "\tPremise:    Hugues foi ungido em Reims com um óleo que foi trazido à terra pelos anjos, estabelecendo assim a realeza pelo direito divino para os franceses.\n",
            "\tHypothesis: Hugues foi ungido com óleo e estabelecido como rei pelo direito divino.\n",
            "\n",
            "\tPremise:    Quando as agências perdem contas importantes, eles frequentemente disparam quase todos envolvidos com a conta.\n",
            "\tHypothesis: Se alguém perder um grande cliente, eles devem esperar ser soltos.\n",
            "\n",
            "\tPremise:    Melhor agora, muito repentino, estúpido de minha parte, me trancar. Uma sombra caiu na cama e, olhando para cima, vi Mary Cavendish de pé perto da porta com o braço em volta de Cynthia.\n",
            "\tHypothesis: Eu me mudei e vi as duas mulheres juntas.\n",
            "\n",
            "\tPremise:    Porque certamente eles não estão usando para sucos e coisas assim, quero dizer, eles usam o lixo para isso, me faz pensar se eles estão usando lixo para isso.\n",
            "\tHypothesis: Claramente não estão usando isso só para suco.\n",
            "\n",
            "len(premise): 313629 -- len(hypothesis): 313629\n"
          ]
        },
        {
          "output_type": "execute_result",
          "data": {
            "text/plain": [
              "Dataset({\n",
              "    features: ['premise', 'hypothesis'],\n",
              "    num_rows: 313629\n",
              "})"
            ]
          },
          "metadata": {},
          "execution_count": 16
        }
      ]
    },
    {
      "cell_type": "code",
      "metadata": {
        "id": "LC0-CDlgBPqU"
      },
      "source": [
        "# Load Train_data:\n",
        "data_train = pickle_file(path_base+'SNLI_MNLI_POSITIVES_PT')\n",
        "data_train = datasets.Dataset.from_dict(data_train)\n",
        "data_train"
      ],
      "execution_count": null,
      "outputs": []
    },
    {
      "cell_type": "markdown",
      "metadata": {
        "id": "MGGUtYD6LjNx"
      },
      "source": [
        "\n",
        "# **<font color='lightyellow'>Sentence Transfomers (SBERT)</font>**\n",
        "\n",
        "[ArXiv link](https://arxiv.org/pdf/1908.10084.pdf)\n",
        "\n",
        "# **<font color='darkorange'>CrossEncoder e Bi-Encoder</font>**\n",
        "<img src=\"https://drive.google.com/uc?id=1QtAvpTlgdYnBpb3eLdXnL-Om7fFaLXVp\" alt=\"drawing\" width=\"700\"/>\n",
        "\n",
        "\n",
        "> ## **<font color='violet'>Cross Encoder</font>**\n",
        "- #### <font color='lightgreen'>**Alta Precisão:**</font> os pesos das duas sentenças são otimizados juntos e a atenção é mais \"*global*\" (pondera as duas sentenças ao mesmo tempo) no processo de otimização. \n",
        "- #### <font color='red'>**Slow asf:**</font> para encontrar em uma coleção de $n = 10.000$ sentenças o par com a maior similaridade requer com BERT $n · (n − 1) / 2 = 49.995.000$ cálculos de inferência.\n",
        "\n",
        "\n",
        "> ## **<font color='yellow'>Bi Encoder</font>**\n",
        "- #### <font color='lightgreen'>**Escalável:**</font> são capazes de indexar os candidatos codificados e comparar essas representações para cada entrada, resultando em tempos de previsão rápidos. Com a mesma complexidade de agrupar $10.000$ sentenças, o tempo é reduzido de $65$ horas para $5$ segundos. \n",
        "- #### <font color='red'>**Menor precisão:**</font> o método Bi-encoders geralmente atinge desempenho inferior em comparação com o método Cross-encoders e requer uma grande quantidade de dados de treinamento. \n",
        "\n",
        "\n",
        "<img src=\"https://drive.google.com/uc?id=18CjUjY78W0Kwc07XUnnoRhML4x0kC0cI\" alt=\"drawing\" width=\"500\"/>\n",
        "\n",
        "### **<font color='white'>Correlação de Spearman:**\n",
        "> #### O coeficiente $\\rho$ avalia com que intensidade a relação entre duas variáveis pode ser descrita pelo uso de uma função monótona. Obs.: O Pearson avalia relações lineares e é mais sensível a outiliers do que ao $\\rho$ de Spearman. Mais sobre o assunto [aqui](https://pt.wikipedia.org/wiki/Coeficiente_de_correla%C3%A7%C3%A3o_de_postos_de_Spearman)</font>\n",
        "\n",
        "---\n",
        "\n",
        "# **<font color='magenta'>Principal Resultado:**\n",
        "<img src=\"https://drive.google.com/uc?id=18fKjo9rUhmt6W06fdfqSGKKbZ4vRB8KO\" alt=\"drawing\" width=\"800\"/>\n",
        "\n",
        "\n",
        "# E quando existe pouco dado? \n",
        "> # <font color='lightyellow'>**Augmented BERT**</font>\n",
        "- [Aug SBERT ](https://www.sbert.net/examples/training/data_augmentation/README.html)\n",
        "\n",
        "## <font color='lightpink'>**Cenário 1**$_\\text{ In domain}$:</font>\n",
        "- ### Conjuntos de dados limitado ou pouca rotulação:\n",
        " -  #### <font color='lightpink'>Etapa 1:</font> Treinar um cross encoder (BERT) sobre o pequeno conjunto de dados (<font color='yellow'>gold dataset</font>)\n",
        " - #### <font color='lightpink'>Etapa 2.1:</font> Criar pares por recombinação e reduzir os pares via BM25 ou busca semântica\n",
        " - #### <font color='lightpink'>Etapa 2.2:</font> Rotular \"*fracamente*\" os novos pares com o cross-encoder (BERT). Estes são pares são chamadados de (<font color='gray'>siver dataset</font>)\n",
        " - #### <font color='lightpink'>Etapa 3:</font> Treine um bi-codificador (SBERT) no conjunto de dados de treinamento estendido (<font color='yellow'>gold </font> $+$ <font color='gray'>silver</font>)\n",
        "\n",
        "<img src=\"https://drive.google.com/uc?id=1KEK4hNt0DSAMAUa4VzqZX7HkrUUsBhYp\" alt=\"drawing\" width=\"500\"/>\n",
        "\n",
        "---\n",
        "## <font color='lightpink'>**Cenário 2**$_\\text{ domain adaption}$:</font>\n",
        "- ### Sem dados anotados (apenas pares de frases sem rótulos):\n",
        " -  #### <font color='lightpink'>Etapa 1:</font> Fine tuning de um cross encoder (BERT) sobre o domínio de origem contendo anotações de pares.\n",
        " - #### <font color='lightpink'>Etapa 2:</font> Utiliza o BERT da <font color='lightpink'>Etapa 1</font> para rotulação do domínio sem rótulo.\n",
        " - #### <font color='lightpink'>Etapa 3:</font> Treine um bi-encoder (SBERT) sobre o pares de frases rótullados na  <font color='lightpink'>Etapa 2</font>\n",
        "\n",
        " <img src=\"https://drive.google.com/uc?id=1-Pzkfmy6bUyvuvy8CAwtgSig30lNMMq0\" alt=\"drawing\" width=\"500\"/>\n",
        "\n",
        "---\n",
        "\n",
        "\n",
        "\n"
      ]
    },
    {
      "cell_type": "markdown",
      "metadata": {
        "id": "YwhRLe1q_F2Q"
      },
      "source": [
        "# <font color='lightblue'>**SBERT, em detalhes...**</font>"
      ]
    },
    {
      "cell_type": "code",
      "metadata": {
        "id": "KhH6iKqp_1va"
      },
      "source": [
        "import os\n",
        "import datasets\n",
        "\n",
        "from transformers import BertModel, BertPreTrainedModel, BertTokenizerFast\n",
        "from transformers import logging\n",
        "logging.set_verbosity_error()\n",
        "\n",
        "from sentence_transformers import InputExample, SentenceTransformer\n",
        "from sentence_transformers.evaluation import EmbeddingSimilarityEvaluator"
      ],
      "execution_count": null,
      "outputs": []
    },
    {
      "cell_type": "code",
      "metadata": {
        "colab": {
          "base_uri": "https://localhost:8080/",
          "height": 260,
          "referenced_widgets": [
            "0a49c5a95df242d483d902e785a35027",
            "353fc161400242cb8e98312490934f94",
            "bb7e143e936d4ce6a71bf7771cb7515b",
            "bd1b548a3935498c9e31c3c48a05b9e3",
            "b9c3df0968ae4aff9986074bb3b4559d",
            "73c0005e470a4e3d95933f41f7278e2f",
            "471ab6f2ad3a48e995b8ce4ab9b51194",
            "7c76a22faddf4013a0eeaa110f946863",
            "4a0f2ed67b5248a39862776ddc5b1d7a",
            "484a8f5cc931474fb3749b5db3b06c65",
            "7d895f83548e4b5ab47503abfc262e25",
            "af80f8f4ce434c738e02170de3465563",
            "de8e8f7b192940fd9ef40cf0025e92d3",
            "a8a0a91b54804d01b52b92417b25a9d3",
            "901d3698c5844df6aeb182bb27eb0b68",
            "ca28243a8641415eb9ffa5bf50141c3b",
            "27e695e67fcf4db88566d99cd1241911",
            "f051847916c743ab9d6de9c98e96033d",
            "e17ed28098374062911db0ed7a86ba1e",
            "941d35025ea74977bd6bcde7229f833a",
            "da323e2bd13440aaa090585d70c00cdf",
            "652b10e2f49d403b93b1d20950bfa912",
            "c2dd480d1d4443999697795c4feb8993",
            "49cf5efc46d44d47bbfdcc9d0034a570",
            "74ac8eaeee47424192f7e906a4747936",
            "9bfdedcc6f0d47d483c465f204e65956",
            "5748e61baffd4ba5a9c0823f723f1c75",
            "1ec86290a4db4f98baa649984b5e9eee",
            "039c598289e6400b999f2a336b696b32",
            "a6fe8bd81e114fa99d1e350c3f877dcd",
            "6a2f2d61bc5341e88447ef22a1a18c35",
            "6b9980eae6d34cb38196bf80172b808f",
            "f8f9376330fd4ef68ea2bbdf0b9da3b0",
            "486553d319054ba6b2472baef0f08782",
            "a874450e318342448c8017beecdf0665",
            "a9d388b2ea2540179547e1be289ec65e",
            "d5561ddd136c4ac9a284137a90036f24",
            "e83205c57592419eaf908736d968f3cd",
            "3293e9f45c804a9e86ab9d375d56c5d7",
            "82801138614d4e9ca55d1313d3567a83",
            "618b2d08a0ff48549448904f9f853cc1",
            "bcaaf2fc195247e28be480d0fcf5748b",
            "f39838ea48cb4654b059b5e6ef47036d",
            "9c24f2a09c794ad58d2868c670562844",
            "0a25ebc3038046afaca771925493d4ae",
            "e090fbd4e7604623a7a260e634fd0028",
            "c99e667135394c709db80904b28a63e0",
            "37a695063c824d3c844021987ffaeef3",
            "d7078a7525b04e83a468f12e9f8de09a",
            "fdc1ffeec8664ec891275e46d428e177",
            "838cac0bd2c64fbc96de21c0834b53ed",
            "1106458d4c4648bcbe8a2069f66ee729",
            "9e7be2e62134488e8575baca3305e3e2",
            "b108994331654242a36c4a98de5321ca",
            "fd9d6174c22b4bd7a9ece979cf661014",
            "2d1ca9546f6a4e7a908d058a3b583b14",
            "8a9bbc93d241409dbc96ece2e11df57d",
            "bad0eb0c7bbe47408f303c343508a634",
            "05644d1ce04a4852ae0008107cfb485f",
            "1f2301fe6598492cb9de14e82b911e72",
            "a1b6eb90e7ae49cabff6911d9f55dc8d",
            "3c4b11f5bf8948cea9d3b51aed9c89d6",
            "fab48251081a478a8b44151516806eca",
            "f5b0b85d8b8046e095a32c9ac7ee7044",
            "bc0a6c7799414ebb9a179aa26aec349b",
            "8044a859ad954cfbada549a55122e1d0"
          ]
        },
        "id": "R3Ye5XUqACaQ",
        "outputId": "f4bad1fa-55d4-4c8f-86d3-1dbd4f78e7dc"
      },
      "source": [
        "BERTMODEL = 'neuralmind/bert-base-portuguese-cased'\n",
        "\n",
        "tokenizer = BertTokenizerFast.from_pretrained(BERTMODEL)\n",
        "inputs = tokenizer(\"Oi, eu sou o goku!\", return_tensors=\"pt\")\n",
        "print(f\"inputs_ids: {inputs['input_ids']}\")\n",
        "\n",
        "model = BertModel.from_pretrained(BERTMODEL, return_dict=True)\n",
        "outputs = model(**inputs)\n",
        "outputs.keys()"
      ],
      "execution_count": null,
      "outputs": [
        {
          "output_type": "display_data",
          "data": {
            "application/vnd.jupyter.widget-view+json": {
              "model_id": "0a49c5a95df242d483d902e785a35027",
              "version_minor": 0,
              "version_major": 2
            },
            "text/plain": [
              "Downloading:   0%|          | 0.00/205k [00:00<?, ?B/s]"
            ]
          },
          "metadata": {}
        },
        {
          "output_type": "display_data",
          "data": {
            "application/vnd.jupyter.widget-view+json": {
              "model_id": "af80f8f4ce434c738e02170de3465563",
              "version_minor": 0,
              "version_major": 2
            },
            "text/plain": [
              "Downloading:   0%|          | 0.00/2.00 [00:00<?, ?B/s]"
            ]
          },
          "metadata": {}
        },
        {
          "output_type": "display_data",
          "data": {
            "application/vnd.jupyter.widget-view+json": {
              "model_id": "c2dd480d1d4443999697795c4feb8993",
              "version_minor": 0,
              "version_major": 2
            },
            "text/plain": [
              "Downloading:   0%|          | 0.00/112 [00:00<?, ?B/s]"
            ]
          },
          "metadata": {}
        },
        {
          "output_type": "display_data",
          "data": {
            "application/vnd.jupyter.widget-view+json": {
              "model_id": "486553d319054ba6b2472baef0f08782",
              "version_minor": 0,
              "version_major": 2
            },
            "text/plain": [
              "Downloading:   0%|          | 0.00/43.0 [00:00<?, ?B/s]"
            ]
          },
          "metadata": {}
        },
        {
          "output_type": "display_data",
          "data": {
            "application/vnd.jupyter.widget-view+json": {
              "model_id": "0a25ebc3038046afaca771925493d4ae",
              "version_minor": 0,
              "version_major": 2
            },
            "text/plain": [
              "Downloading:   0%|          | 0.00/647 [00:00<?, ?B/s]"
            ]
          },
          "metadata": {}
        },
        {
          "output_type": "display_data",
          "data": {
            "application/vnd.jupyter.widget-view+json": {
              "model_id": "2d1ca9546f6a4e7a908d058a3b583b14",
              "version_minor": 0,
              "version_major": 2
            },
            "text/plain": [
              "Downloading:   0%|          | 0.00/418M [00:00<?, ?B/s]"
            ]
          },
          "metadata": {}
        },
        {
          "output_type": "stream",
          "name": "stdout",
          "text": [
            "inputs_ids: tensor([[  101,   231, 22283,   117,  2779,  7206,   146,  3746,  4093,   106,\n",
            "           102]])\n"
          ]
        },
        {
          "output_type": "execute_result",
          "data": {
            "text/plain": [
              "odict_keys(['last_hidden_state', 'pooler_output'])"
            ]
          },
          "metadata": {},
          "execution_count": 8
        }
      ]
    },
    {
      "cell_type": "code",
      "metadata": {
        "colab": {
          "base_uri": "https://localhost:8080/"
        },
        "id": "c4dNeTDokECJ",
        "outputId": "9b315ddf-a3e6-468e-9090-ec64ca2f5c0c"
      },
      "source": [
        "path_base = '/content/drive/MyDrive/Dirty-Talks/Sentence-Transformers/data/'\n",
        "\n",
        "# Load Train_data:\n",
        "data_train = pickle_file(path_base+'SNLI_MNLI_POSITIVES_PT')\n",
        "data_train = datasets.Dataset.from_dict(data_train)\n",
        "data_train"
      ],
      "execution_count": null,
      "outputs": [
        {
          "output_type": "execute_result",
          "data": {
            "text/plain": [
              "Dataset({\n",
              "    features: ['premise', 'hypothesis'],\n",
              "    num_rows: 313629\n",
              "})"
            ]
          },
          "metadata": {},
          "execution_count": 11
        }
      ]
    },
    {
      "cell_type": "code",
      "metadata": {
        "id": "XxuyYPP1bhTj"
      },
      "source": [
        "MAX_LEN = 32\n",
        "BSIZE = 4"
      ],
      "execution_count": null,
      "outputs": []
    },
    {
      "cell_type": "markdown",
      "metadata": {
        "id": "8yDw6sHnAsKS"
      },
      "source": [
        "## Tokenize Dataset dentro de datasets com batched"
      ]
    },
    {
      "cell_type": "code",
      "metadata": {
        "colab": {
          "base_uri": "https://localhost:8080/",
          "height": 149,
          "referenced_widgets": [
            "2388d8c85f06403681da1f53f1e1a3eb",
            "02f7a4f1ebd1468598db3535c3da7444",
            "da9195e58ffb41a3a152bbbc71b62442",
            "095b453285eb433b9a7e484501b97efc",
            "54f1afa62b7c49bab6e90931fa9e3bf5",
            "eb11940bec9142f29c01ccb6672f62d4",
            "21dcde4d36224bb1b46d650d1a0b8c79",
            "3f7770767a5646e2bc5d547f85204ac9",
            "23e7f3e0e2cf4817a32d3dadd339c4b6",
            "35c8de7ac6d742bf893e3b460d5e1a19",
            "c74638af294b4ad98904b9df841cc213",
            "f2451b27cc6d492f8d7789d41ff2bb94",
            "7c8a45520df443d6959c5de997d4cdd8",
            "465766985a804167947f1d238784367d",
            "d7d487ef5e1c40c3b6e0584cd278e1d1",
            "02fa6acc9b6b46d3ae570ad2cb895e48",
            "2663aceb04d243e8ac5d2e8099a73883",
            "87eb8ff1f9284f6192ff1ec81ed30812",
            "d1fb5e56a36845ab8b180cd4dee4dd3e",
            "36b3a92362754ac2b18c8f77733acee4",
            "0872c709d4584f54a86ead204bff058d",
            "8ddac15ee8cf4207b88eeb3562872574"
          ]
        },
        "id": "nXYQ5g3HAoUy",
        "outputId": "efe1616f-7212-4991-c0a8-d9c8b853df8c"
      },
      "source": [
        "data_train = data_train.map(\n",
        "    lambda x: tokenizer(\n",
        "            x['premise'], max_length=MAX_LEN, padding='max_length',\n",
        "            truncation=True, add_special_tokens=False), \n",
        "            batched=True)\n",
        "\n",
        "data_train = data_train.rename_column('input_ids', 'anchor_ids')\n",
        "data_train = data_train.rename_column('attention_mask', 'anchor_mask')\n",
        "\n",
        "data_train = data_train.map(\n",
        "    lambda x: tokenizer(\n",
        "            x['hypothesis'], max_length=MAX_LEN, padding='max_length',\n",
        "            truncation=True, add_special_tokens=False), \n",
        "            batched=True)\n",
        "\n",
        "data_train = data_train.rename_column('input_ids', 'positive_ids')\n",
        "data_train = data_train.rename_column('attention_mask', 'positive_mask')\n",
        "\n",
        "data_train = data_train.remove_columns(['premise', 'hypothesis', 'token_type_ids'])\n",
        "\n",
        "data_train"
      ],
      "execution_count": null,
      "outputs": [
        {
          "output_type": "display_data",
          "data": {
            "application/vnd.jupyter.widget-view+json": {
              "model_id": "2388d8c85f06403681da1f53f1e1a3eb",
              "version_minor": 0,
              "version_major": 2
            },
            "text/plain": [
              "  0%|          | 0/314 [00:00<?, ?ba/s]"
            ]
          },
          "metadata": {}
        },
        {
          "output_type": "display_data",
          "data": {
            "application/vnd.jupyter.widget-view+json": {
              "model_id": "f2451b27cc6d492f8d7789d41ff2bb94",
              "version_minor": 0,
              "version_major": 2
            },
            "text/plain": [
              "  0%|          | 0/314 [00:00<?, ?ba/s]"
            ]
          },
          "metadata": {}
        },
        {
          "output_type": "execute_result",
          "data": {
            "text/plain": [
              "Dataset({\n",
              "    features: ['anchor_ids', 'anchor_mask', 'positive_mask', 'positive_ids'],\n",
              "    num_rows: 313629\n",
              "})"
            ]
          },
          "metadata": {},
          "execution_count": 13
        }
      ]
    },
    {
      "cell_type": "markdown",
      "metadata": {
        "id": "gNvTyuaaA4--"
      },
      "source": [
        "## Dataloader"
      ]
    },
    {
      "cell_type": "code",
      "metadata": {
        "colab": {
          "base_uri": "https://localhost:8080/"
        },
        "id": "mGPcXTaaA3_2",
        "outputId": "bfbcc3e9-e8cb-4a8a-e110-acfd8d4734f5"
      },
      "source": [
        "data_train.set_format(type='torch', output_all_columns=True)\n",
        "\n",
        "loader = torch.utils.data.DataLoader(\n",
        "    data_train, \n",
        "    batch_size=BSIZE, \n",
        "    shuffle=True,\n",
        "    pin_memory=True,\n",
        "    num_workers=os.cpu_count(),\n",
        "    )\n",
        "\n",
        "dl0 = next(iter(loader))\n",
        "dl0"
      ],
      "execution_count": null,
      "outputs": [
        {
          "output_type": "execute_result",
          "data": {
            "text/plain": [
              "{'anchor_ids': tensor([[ 1263,  2397,   125,   139,   283,  8489,  1968,   320,  1341,   125,\n",
              "            230,  2606,   170,  2968,   173,   222,  2740,   119,     0,     0,\n",
              "              0,     0,     0,     0,     0,     0,     0,     0,     0,     0,\n",
              "              0,     0],\n",
              "         [ 9551,  2943,  1376,   695,   557,  1089, 10674,   221,  4270,   173,\n",
              "            222,  6711,   119,     0,     0,     0,     0,     0,     0,     0,\n",
              "              0,     0,     0,     0,     0,     0,     0,     0,     0,     0,\n",
              "              0,     0],\n",
              "         [  989, 21905,  1257,   653,   119,     0,     0,     0,     0,     0,\n",
              "              0,     0,     0,     0,     0,     0,     0,     0,     0,     0,\n",
              "              0,     0,     0,     0,     0,     0,     0,     0,     0,     0,\n",
              "              0,     0],\n",
              "         [ 1263,  2397,   325,  4575,   698,   173,  5530,   125,   222, 14608,\n",
              "           4712,   122, 15605,  3723, 16467,   117, 20373,  3233,   221,   327,\n",
              "            419,  4803,   146, 13220,   119,     0,     0,     0,     0,     0,\n",
              "              0,     0]]),\n",
              " 'anchor_mask': tensor([[1, 1, 1, 1, 1, 1, 1, 1, 1, 1, 1, 1, 1, 1, 1, 1, 1, 1, 0, 0, 0, 0, 0, 0,\n",
              "          0, 0, 0, 0, 0, 0, 0, 0],\n",
              "         [1, 1, 1, 1, 1, 1, 1, 1, 1, 1, 1, 1, 1, 0, 0, 0, 0, 0, 0, 0, 0, 0, 0, 0,\n",
              "          0, 0, 0, 0, 0, 0, 0, 0],\n",
              "         [1, 1, 1, 1, 1, 0, 0, 0, 0, 0, 0, 0, 0, 0, 0, 0, 0, 0, 0, 0, 0, 0, 0, 0,\n",
              "          0, 0, 0, 0, 0, 0, 0, 0],\n",
              "         [1, 1, 1, 1, 1, 1, 1, 1, 1, 1, 1, 1, 1, 1, 1, 1, 1, 1, 1, 1, 1, 1, 1, 1,\n",
              "          1, 0, 0, 0, 0, 0, 0, 0]]),\n",
              " 'positive_ids': tensor([[  231,  2397,   202,   139,   283,  8489,  1968,   320,  1341,   125,\n",
              "            230,  2760,   170,  2968,   119,     0,     0,     0,     0,     0,\n",
              "              0,     0,     0,     0,     0,     0,     0,     0,     0,     0,\n",
              "              0,     0],\n",
              "         [ 9551,  2943,  1376,   695,   557,   260, 21733,   125,   222,  6711,\n",
              "            119,     0,     0,     0,     0,     0,     0,     0,     0,     0,\n",
              "              0,     0,     0,     0,     0,     0,     0,     0,     0,     0,\n",
              "              0,     0],\n",
              "         [ 3393,   253,  8218, 17478,   119,     0,     0,     0,     0,     0,\n",
              "              0,     0,     0,     0,     0,     0,     0,     0,     0,     0,\n",
              "              0,     0,     0,     0,     0,     0,     0,     0,     0,     0,\n",
              "              0,     0],\n",
              "         [ 1263,  2397,   698,  6564,   173,  1434,   146, 13220,   325, 13782,\n",
              "            119,     0,     0,     0,     0,     0,     0,     0,     0,     0,\n",
              "              0,     0,     0,     0,     0,     0,     0,     0,     0,     0,\n",
              "              0,     0]]),\n",
              " 'positive_mask': tensor([[1, 1, 1, 1, 1, 1, 1, 1, 1, 1, 1, 1, 1, 1, 1, 0, 0, 0, 0, 0, 0, 0, 0, 0,\n",
              "          0, 0, 0, 0, 0, 0, 0, 0],\n",
              "         [1, 1, 1, 1, 1, 1, 1, 1, 1, 1, 1, 0, 0, 0, 0, 0, 0, 0, 0, 0, 0, 0, 0, 0,\n",
              "          0, 0, 0, 0, 0, 0, 0, 0],\n",
              "         [1, 1, 1, 1, 1, 0, 0, 0, 0, 0, 0, 0, 0, 0, 0, 0, 0, 0, 0, 0, 0, 0, 0, 0,\n",
              "          0, 0, 0, 0, 0, 0, 0, 0],\n",
              "         [1, 1, 1, 1, 1, 1, 1, 1, 1, 1, 1, 0, 0, 0, 0, 0, 0, 0, 0, 0, 0, 0, 0, 0,\n",
              "          0, 0, 0, 0, 0, 0, 0, 0]])}"
            ]
          },
          "metadata": {},
          "execution_count": 14
        }
      ]
    },
    {
      "cell_type": "code",
      "metadata": {
        "id": "dohSoeeMBLME"
      },
      "source": [
        "anchor_ids, anchor_mask = dl0['anchor_ids'], dl0['anchor_mask']\n",
        "positive_ids, positive_mask = dl0['positive_ids'], dl0['positive_mask']"
      ],
      "execution_count": null,
      "outputs": []
    },
    {
      "cell_type": "markdown",
      "metadata": {
        "id": "OvCbJvGWBS1I"
      },
      "source": [
        "# Processa Anchor e Positives para a MNR Loss\n",
        "\n",
        "> ### <font color='lightpink'>Espia **[aqui](https://www.sbert.net/examples/training/nli/README.html)** antes</font>"
      ]
    },
    {
      "cell_type": "code",
      "metadata": {
        "id": "ijbGlGMhBLIl"
      },
      "source": [
        "# TODO\n",
        "\n",
        "anchor_embds = model(anchor_ids)\n",
        "\n",
        "print(anchor_embds['last_hidden_state'].size())\n",
        "print(anchor_mask.unsqueeze(-1).size())\n",
        "a_pool = anchor_embds['last_hidden_state'] * anchor_mask.unsqueeze(-1)\n",
        "print(a_pool.size())\n",
        "a_pool = a_pool.sum(1)\n",
        "a_pool = torch.nn.functional.normalize(a_pool, p=2, dim=-1)\n",
        "print(a_pool.size(),'\\n')\n",
        "\n",
        "# -------------------------------------------------------------------------\n",
        "\n",
        "pos_embds = model(positive_ids)\n",
        "\n",
        "print(pos_embds['last_hidden_state'].size())\n",
        "print(positive_mask.unsqueeze(-1).size())\n",
        "p_pool = pos_embds['last_hidden_state'] * positive_mask.unsqueeze(-1)\n",
        "print(p_pool.size())\n",
        "p_pool = p_pool.sum(1)\n",
        "p_pool = torch.nn.functional.normalize(p_pool, p=2, dim=-1)\n",
        "print(p_pool.size())"
      ],
      "execution_count": null,
      "outputs": []
    },
    {
      "cell_type": "code",
      "metadata": {
        "colab": {
          "base_uri": "https://localhost:8080/"
        },
        "id": "-RZZklsjIPlc",
        "outputId": "2e58f790-186b-462b-e0a4-ee81147d028e"
      },
      "source": [
        "cos_sim = torch.nn.CosineSimilarity()\n",
        "scores = []\n",
        "scale = 20\n",
        "for a_i in a_pool:\n",
        "    scores.append(cos_sim(a_i.unsqueeze(0), p_pool))\n",
        "\n",
        "scores = torch.vstack(scores)*scale\n",
        "scores"
      ],
      "execution_count": null,
      "outputs": [
        {
          "output_type": "execute_result",
          "data": {
            "text/plain": [
              "tensor([[17.8764, 12.2431, 10.9101, 13.1676],\n",
              "        [12.9470,  9.8511, 10.8194, 12.3147],\n",
              "        [11.3346, 11.9801, 18.6552, 10.1344],\n",
              "        [11.0722,  8.7092, 14.2375, 12.1963]], grad_fn=<MulBackward0>)"
            ]
          },
          "metadata": {},
          "execution_count": 16
        }
      ]
    },
    {
      "cell_type": "code",
      "metadata": {
        "colab": {
          "base_uri": "https://localhost:8080/"
        },
        "id": "9gNDkgnYOowo",
        "outputId": "9cfb09ca-0c1d-4d3f-d520-b303ae74191b"
      },
      "source": [
        "labels = torch.arange(scores.size()[0], dtype=torch.long)\n",
        "labels"
      ],
      "execution_count": null,
      "outputs": [
        {
          "output_type": "execute_result",
          "data": {
            "text/plain": [
              "tensor([0, 1, 2, 3])"
            ]
          },
          "metadata": {},
          "execution_count": 17
        }
      ]
    },
    {
      "cell_type": "code",
      "metadata": {
        "id": "TNgdVJowTGF1",
        "colab": {
          "base_uri": "https://localhost:8080/"
        },
        "outputId": "ffb3de5d-8591-430b-ce6a-93dd66f20113"
      },
      "source": [
        "loss_fct = torch.nn.CrossEntropyLoss()\n",
        "loss_fct(scores, labels[:scores.size(0)])"
      ],
      "execution_count": null,
      "outputs": [
        {
          "output_type": "execute_result",
          "data": {
            "text/plain": [
              "tensor(1.4607, grad_fn=<NllLossBackward>)"
            ]
          },
          "metadata": {},
          "execution_count": 18
        }
      ]
    },
    {
      "cell_type": "markdown",
      "metadata": {
        "id": "8kJ6bgq5EX_W"
      },
      "source": [
        "<img src=\"https://drive.google.com/uc?id=1Rrrp3Glu-A2FbyNAtJLUfxA6E_oDsN-u\" alt=\"drawing\" width=\"500\"/>\n"
      ]
    },
    {
      "cell_type": "code",
      "metadata": {
        "colab": {
          "base_uri": "https://localhost:8080/",
          "height": 154,
          "referenced_widgets": [
            "e3bedd410f76429ca8c835978f0befbd",
            "8f0ae800cf6242ff86f965ebb83deb11",
            "5a505a9c80e64f6ba31198812613130e",
            "48615506762a4855b4dffca3279d8bd2",
            "d32c8592d63246228a32e1a3d793792b",
            "4630a629b40e40f29725d48ad59e52d8",
            "c20544a28adb4f549966d73079c16c70",
            "fffdad64dddc4164bb0e7e71521d5551",
            "7d30275f526446778f73ab0bdd999dce",
            "10446b6e0d7e474a8ecc306776e9fb03",
            "a65e7a224ad94655a5ee826ee0f81f21"
          ]
        },
        "id": "EKPUW4QL17uI",
        "outputId": "f2219308-9424-4ac1-d0bc-7659f1d9e969"
      },
      "source": [
        "# ---------------------------- #\n",
        "# --------- Evaluate --------- #\n",
        "# -----------------------------#\n",
        "\n",
        "model.save_pretrained('./model')\n",
        "tokenizer.save_pretrained('./model')\n",
        "model = SentenceTransformer('/content/model/')\n",
        "\n",
        "# Load STS Test_data\n",
        "STS_PT = pickle_file(path_base+'STS_PT')\n",
        "STS_PT = datasets.Dataset.from_dict(STS_PT)\n",
        "\n",
        "STS_PT = STS_PT.map(lambda x: {'label': x['label'] / 5.0})\n",
        "samples = []\n",
        "for sample in STS_PT:\n",
        "    samples.append(InputExample(\n",
        "        texts=[sample['sentence1'], sample['sentence2']],\n",
        "        label=sample['label']\n",
        "    ))\n",
        "model[0].max_seq_length = MAX_LEN\n",
        "model[1].pooling_mode_cls_token = False\n",
        "model[1].pooling_mode_mean_tokens = True  # <---\n",
        "model[1].pooling_mode_max_tokens = False\n",
        "\n",
        "model"
      ],
      "execution_count": null,
      "outputs": [
        {
          "output_type": "stream",
          "name": "stderr",
          "text": [
            "WARNING:root:No sentence-transformers model found with name /content/model/. Creating a new one with MEAN pooling.\n"
          ]
        },
        {
          "output_type": "display_data",
          "data": {
            "application/vnd.jupyter.widget-view+json": {
              "model_id": "e3bedd410f76429ca8c835978f0befbd",
              "version_minor": 0,
              "version_major": 2
            },
            "text/plain": [
              "  0%|          | 0/1500 [00:00<?, ?ex/s]"
            ]
          },
          "metadata": {}
        },
        {
          "output_type": "execute_result",
          "data": {
            "text/plain": [
              "SentenceTransformer(\n",
              "  (0): Transformer({'max_seq_length': 32, 'do_lower_case': False}) with Transformer model: BertModel \n",
              "  (1): Pooling({'word_embedding_dimension': 768, 'pooling_mode_cls_token': False, 'pooling_mode_mean_tokens': True, 'pooling_mode_max_tokens': False, 'pooling_mode_mean_sqrt_len_tokens': False})\n",
              ")"
            ]
          },
          "metadata": {},
          "execution_count": 19
        }
      ]
    },
    {
      "cell_type": "code",
      "metadata": {
        "colab": {
          "base_uri": "https://localhost:8080/"
        },
        "id": "-fuB3pdh2Tty",
        "outputId": "e0073fc4-05a9-4a7b-deaf-7e45f58d11c6"
      },
      "source": [
        "evaluator = EmbeddingSimilarityEvaluator.from_input_examples(samples, write_csv=False)\n",
        "evaluator(model)"
      ],
      "execution_count": null,
      "outputs": [
        {
          "output_type": "execute_result",
          "data": {
            "text/plain": [
              "0.6804931094011382"
            ]
          },
          "metadata": {},
          "execution_count": 20
        }
      ]
    },
    {
      "cell_type": "markdown",
      "metadata": {
        "id": "0qXTwTTMBK9t"
      },
      "source": [
        "# <font color='lightpink'>(SBERT$_\\text{MNR}$ treino NLI$_\\text{PTBr}$)$_\\text{PyTorch}$</font> <font color='yellow'> Vs</font> # <font color='lightblue'>(SBERT$_\\text{MNR}$ treino NLI$_\\text{PTBr}$)$_\\text{lib SBERT}$</font>"
      ]
    },
    {
      "cell_type": "code",
      "metadata": {
        "colab": {
          "base_uri": "https://localhost:8080/"
        },
        "id": "_lRr9cHsNp1D",
        "outputId": "e1e22446-dc6a-48af-9e25-5c0ae1cf8617"
      },
      "source": [
        "import os\n",
        "import gc\n",
        "import torch\n",
        "import numpy as np\n",
        "from tqdm.auto import tqdm\n",
        "\n",
        "import datasets\n",
        "from transformers import BertModel, BertPreTrainedModel, BertTokenizerFast\n",
        "from transformers.optimization import get_linear_schedule_with_warmup, AdamW\n",
        "from transformers import logging\n",
        "logging.set_verbosity_error()\n",
        "\n",
        "from sentence_transformers import InputExample, SentenceTransformer\n",
        "from sentence_transformers.evaluation import EmbeddingSimilarityEvaluator\n",
        "\n",
        "MANUAL_SEED = 341"
      ],
      "execution_count": null,
      "outputs": [
        {
          "output_type": "stream",
          "name": "stdout",
          "text": [
            "Experimento deterministico, seed: 341 -- Existe 1 GPU Tesla P100-PCIE-16GB disponível.\n"
          ]
        }
      ]
    },
    {
      "cell_type": "markdown",
      "metadata": {
        "id": "vnX6FoGLvMD8"
      },
      "source": [
        "## TRAIN: SNLI e MNLI positivos\n",
        "\n",
        "> The SNLI corpus is a collection of 570k human-written English sentence pairs manually labeled for balanced classification with the labels entailment, contradiction, and neutral, supporting the task of natural language inference (NLI), also known as recognizing textual entailment (RTE).\n",
        "---\n",
        "> The Multi-Genre Natural Language Inference (MultiNLI) corpus is a crowd-sourced collection of 433k sentence pairs annotated with textual entailment information. The corpus is modeled on the SNLI corpus, but differs in that covers a range of genres of spoken and written text, and supports a distinctive cross-genre generalization evaluation.\n",
        "\n"
      ]
    },
    {
      "cell_type": "code",
      "metadata": {
        "colab": {
          "base_uri": "https://localhost:8080/"
        },
        "id": "POW-W-b3Nghm",
        "outputId": "c32c6d59-66aa-415c-b8c8-a07b86f12426"
      },
      "source": [
        "path_base = '/content/drive/MyDrive/Dirty-Talks/Sentence-Transformers/data/'\n",
        "\n",
        "# Load Train_data:\n",
        "data_train = pickle_file(path_base+'SNLI_MNLI_POSITIVIES_PT')\n",
        "data_train = datasets.Dataset.from_dict(data_train)\n",
        "data_train"
      ],
      "execution_count": null,
      "outputs": [
        {
          "output_type": "execute_result",
          "data": {
            "text/plain": [
              "Dataset({\n",
              "    features: ['premise', 'hypothesis'],\n",
              "    num_rows: 313629\n",
              "})"
            ]
          },
          "metadata": {},
          "execution_count": 3
        }
      ]
    },
    {
      "cell_type": "markdown",
      "metadata": {
        "id": "ARZHXAmVWBlg"
      },
      "source": [
        "## Constants"
      ]
    },
    {
      "cell_type": "code",
      "metadata": {
        "id": "rpeMHHBtWRV0"
      },
      "source": [
        "BSIZE = 48\n",
        "MAX_LEN = 64\n",
        "EPOCHS = 1\n",
        "\n",
        "BERTMODEL = 'neuralmind/bert-base-portuguese-cased'"
      ],
      "execution_count": null,
      "outputs": []
    },
    {
      "cell_type": "markdown",
      "metadata": {
        "id": "d3EbPLGUFiRO"
      },
      "source": [
        "## Avg Len das sentenças (usado para definir a MAX_LEN)"
      ]
    },
    {
      "cell_type": "code",
      "metadata": {
        "id": "CuZqyumeEhs6",
        "colab": {
          "base_uri": "https://localhost:8080/",
          "height": 279,
          "referenced_widgets": [
            "dc85d63ad00f47a3aa9ba75d197ebaff",
            "64ba9e08a70644c28ffce50789011f3a",
            "434f680600054d28bf5948e36a4e31b9",
            "4e8a8319846441788a7b3305c2a16a8d",
            "2c9d00035ba443c3adb2a55a9930fffd",
            "967455ec33c1480da2194f24b97ce713",
            "589c771e977a49ac8de81f8a4fd4fb6a",
            "e2bc53b24e32436190c82651baa49e45",
            "d5fa4f3392ba463daec2c57cfd6f14bd",
            "a7c5bead95fa4c22ba8cf769ed3b1dbb",
            "e6bf79442c634ec49db1ab1f3ca8e479",
            "ae9548b49cc34f839cbf5d10f990b80a",
            "25ffc8abdda94faa8e0dd5af1f8958e3",
            "4dc0699d93b54d689d70c47d28632dd1",
            "a6ee484279f94dacb49886243336902b",
            "f1f1964d925649b68ab7ac33b2750ab2",
            "02ce51853b3d43cfa93e680bcd15a01b",
            "fd11dfa8b6c04f2c91f7ec7df76b7efd",
            "d2990bedc81d4d97817057020e1fb2c1",
            "69ac8c25cb0f4376a6889f1225199bdf",
            "8e115c29e33742c3b8f9cbd6f204dc60",
            "d3994bad85924da58cb301cd8cd0533d",
            "9ef58e7082844a3c933e6402a320bc69",
            "eb36663fabe640f7a56684a8695a4b3e",
            "749d37b2fe5d498d9d6e93d02595de02",
            "975afd4914924f94b8dd6a54522e4758",
            "cdcfc2757c0646cabcb53990247f782b",
            "f9a854807add44079e135a1d621d9985",
            "517cff29d50f45509458e2981f6c87d2",
            "9521bab8edd04ab18342f1449c67339e",
            "a2f4ae0176e34bbf80ab63c0ebf3c7da",
            "a57c10120a1241649b9a4f313504d6f9",
            "9380009d927642c6961b50ed30aa4a60",
            "1e05c9fac4ba45c8bb3ed0993faaa128",
            "2cbd959ef6454c6785ff25750da8ba2e",
            "8e8c41b834014052a2114eef0ffe096a",
            "099b0ebb975447dfb881ec90a6a7ec1f",
            "6fdb13dda4fe49c7a429241c8cf47ef3",
            "b5da8a8ebf16424bbce67708216d8aaf",
            "a20c7a0e30ee4ef98a8061f39f630307",
            "92d306ca11c848e18b169bdb14180712",
            "5f564f5c5f394b698cd0a6397f3067a0",
            "e1423bf06f9242c5995e8d4f6a221a71",
            "639f568b2c214f9792472e2229bb8421",
            "7ead554c55464e1c992fbc4281d78778",
            "2273c446f01d4d06a055bb51945bcaab",
            "a844e2ead23b41e5b3ae9380df116b57",
            "55a3f814b9904a38aad4ab140d9b0073",
            "25bdeafb91ea416587429957771424ce",
            "d86db9d50e7f41e0acdc1e9ca2805d57",
            "a5349cf8cc0340cfa90878849335b985",
            "57c7b4c6b40145f893764d4d0d4d5f0e",
            "a5bfe5d60a2c4be7abac1fcb34682e4c",
            "e3b377f6218447958a7446a0ad3e4728",
            "9326d2df9f6545adb5b7624e96da5228"
          ]
        },
        "outputId": "47704386-0e2b-4832-dae0-78404ccf6e3e"
      },
      "source": [
        "tokenizer = BertTokenizerFast.from_pretrained(BERTMODEL)\n",
        "\n",
        "def tokenized_lenghts(dataset):\n",
        "    lengths = []\n",
        "    for i, seq in enumerate(dataset):\n",
        "        input_ids = tokenizer.encode(seq)\n",
        "\n",
        "        lengths.append(len(input_ids))\n",
        "    return lengths\n",
        "\n",
        "# Cálcula a média da seq. em num. de tokens\n",
        "RUN = True\n",
        "if RUN:\n",
        "    lengths_p = tokenized_lenghts(data_train['premise'])\n",
        "    print(f' Min len P:   {min(lengths_p):>8} tokens')\n",
        "    print(f' Max len P:   {max(lengths_p):>8} tokens')\n",
        "    print(f' Mean lean P: {np.median(lengths_p):,} tokens')\n",
        "\n",
        "    lengths_h = tokenized_lenghts(data_train['hypothesis'])\n",
        "    print(f' Min len H:   {min(lengths_h):>8} tokens')\n",
        "    print(f' Max len H:   {max(lengths_h):>8} tokens')\n",
        "    print(f' Mean lean H: {np.median(lengths_h):,} tokens')"
      ],
      "execution_count": null,
      "outputs": [
        {
          "output_type": "display_data",
          "data": {
            "application/vnd.jupyter.widget-view+json": {
              "model_id": "dc85d63ad00f47a3aa9ba75d197ebaff",
              "version_minor": 0,
              "version_major": 2
            },
            "text/plain": [
              "Downloading:   0%|          | 0.00/205k [00:00<?, ?B/s]"
            ]
          },
          "metadata": {}
        },
        {
          "output_type": "display_data",
          "data": {
            "application/vnd.jupyter.widget-view+json": {
              "model_id": "ae9548b49cc34f839cbf5d10f990b80a",
              "version_minor": 0,
              "version_major": 2
            },
            "text/plain": [
              "Downloading:   0%|          | 0.00/2.00 [00:00<?, ?B/s]"
            ]
          },
          "metadata": {}
        },
        {
          "output_type": "display_data",
          "data": {
            "application/vnd.jupyter.widget-view+json": {
              "model_id": "9ef58e7082844a3c933e6402a320bc69",
              "version_minor": 0,
              "version_major": 2
            },
            "text/plain": [
              "Downloading:   0%|          | 0.00/112 [00:00<?, ?B/s]"
            ]
          },
          "metadata": {}
        },
        {
          "output_type": "display_data",
          "data": {
            "application/vnd.jupyter.widget-view+json": {
              "model_id": "1e05c9fac4ba45c8bb3ed0993faaa128",
              "version_minor": 0,
              "version_major": 2
            },
            "text/plain": [
              "Downloading:   0%|          | 0.00/43.0 [00:00<?, ?B/s]"
            ]
          },
          "metadata": {}
        },
        {
          "output_type": "display_data",
          "data": {
            "application/vnd.jupyter.widget-view+json": {
              "model_id": "7ead554c55464e1c992fbc4281d78778",
              "version_minor": 0,
              "version_major": 2
            },
            "text/plain": [
              "Downloading:   0%|          | 0.00/647 [00:00<?, ?B/s]"
            ]
          },
          "metadata": {}
        },
        {
          "output_type": "stream",
          "name": "stdout",
          "text": [
            " Min len P:          3 tokens\n",
            " Max len P:        513 tokens\n",
            " Mean lean P: 19.0 tokens\n",
            " Min len H:          3 tokens\n",
            " Max len H:        510 tokens\n",
            " Mean lean H: 11.0 tokens\n"
          ]
        }
      ]
    },
    {
      "cell_type": "markdown",
      "metadata": {
        "id": "43JSioxRxnYT"
      },
      "source": [
        "## Dataset e Dataloader"
      ]
    },
    {
      "cell_type": "code",
      "metadata": {
        "colab": {
          "base_uri": "https://localhost:8080/",
          "height": 149,
          "referenced_widgets": [
            "6242d90824a24652b1ca254c7062d52b",
            "ac8700cc30774a21964f65a5ca95a974",
            "30af20057a4e480ab1ec9d1d1801b8a6",
            "193de3b0c7474ea2a15198a0d946e0b5",
            "9eb9a43c206f4661b795910618e27607",
            "75be535cbd9f46ddac95ccb4fc14e0db",
            "849d5353e5ea4dda9fb495d20c9122c8",
            "ac4dd8c1355f47e4b4a7cd4fae45e153",
            "b064e1e4da2d46758c2fb463558e365f",
            "715ffac83aa447a4b0ca6683d29616c6",
            "38a11acb3cb44d229d4226c72e918e72",
            "db425d023ced422f8e1b8c1e849f18c6",
            "befe5db71224465daf72465161968eb8",
            "b6374f2d20f94d4ab7285ed485f68da2",
            "a9864052e5c9470382a10f2214da1d73",
            "c37459444ebe4a2ab822e8bac1891757",
            "bf1a2fd20a0f487b88a2108d9938682b",
            "ade7d35741d44fe9bcafabfa0b58ac99",
            "8cd01eda751143ff9cc61f29e6b8c563",
            "d8bd8d10978647d48fa6700f9e7ab1d8",
            "1237ec9c803f49b89263eee1d1e393de",
            "a6a93f8a0b9b42d8ad20c5960c5f97f5"
          ]
        },
        "id": "HJPpBBtgNnOt",
        "outputId": "8e4ecc09-e555-4a4a-de20-fe8f214512e1"
      },
      "source": [
        "# Tokenize Premises\n",
        "data_train = data_train.map(\n",
        "    lambda x: tokenizer(\n",
        "            x['premise'], max_length=MAX_LEN, padding='max_length',\n",
        "            truncation=True,\n",
        "            add_special_tokens=False,\n",
        "        ), batched=True\n",
        ")\n",
        "\n",
        "data_train = data_train.rename_column('input_ids', 'anchor_ids')\n",
        "data_train = data_train.rename_column('attention_mask', 'anchor_mask')\n",
        "\n",
        "# Tokenize Hypothesis\n",
        "data_train = data_train.map(\n",
        "    lambda x: tokenizer(\n",
        "            x['hypothesis'], max_length=MAX_LEN, padding='max_length',\n",
        "            truncation=True,\n",
        "            add_special_tokens=False,\n",
        "    ), batched=True\n",
        ")\n",
        "\n",
        "data_train = data_train.rename_column('input_ids', 'positive_ids')\n",
        "data_train = data_train.rename_column('attention_mask', 'positive_mask')\n",
        "\n",
        "data_train = data_train.remove_columns(['premise', 'hypothesis', 'token_type_ids'])\n",
        "\n",
        "data_train"
      ],
      "execution_count": null,
      "outputs": [
        {
          "output_type": "display_data",
          "data": {
            "application/vnd.jupyter.widget-view+json": {
              "model_id": "6242d90824a24652b1ca254c7062d52b",
              "version_minor": 0,
              "version_major": 2
            },
            "text/plain": [
              "  0%|          | 0/314 [00:00<?, ?ba/s]"
            ]
          },
          "metadata": {}
        },
        {
          "output_type": "display_data",
          "data": {
            "application/vnd.jupyter.widget-view+json": {
              "model_id": "db425d023ced422f8e1b8c1e849f18c6",
              "version_minor": 0,
              "version_major": 2
            },
            "text/plain": [
              "  0%|          | 0/314 [00:00<?, ?ba/s]"
            ]
          },
          "metadata": {}
        },
        {
          "output_type": "execute_result",
          "data": {
            "text/plain": [
              "Dataset({\n",
              "    features: ['anchor_ids', 'anchor_mask', 'positive_mask', 'positive_ids'],\n",
              "    num_rows: 313629\n",
              "})"
            ]
          },
          "metadata": {},
          "execution_count": 6
        }
      ]
    },
    {
      "cell_type": "code",
      "metadata": {
        "colab": {
          "base_uri": "https://localhost:8080/"
        },
        "id": "zY9bgrlpSGtz",
        "outputId": "75fa01ad-12c9-4da2-9d18-73324b90521d"
      },
      "source": [
        "data_train.set_format(type='torch', output_all_columns=True)\n",
        "\n",
        "loader = torch.utils.data.DataLoader(\n",
        "    data_train, \n",
        "    batch_size=BSIZE, \n",
        "    shuffle=True,\n",
        "    pin_memory=True,\n",
        "    num_workers=os.cpu_count(),\n",
        "    )\n",
        "\n",
        "dl0 = next(iter(loader))\n",
        "dl0"
      ],
      "execution_count": null,
      "outputs": [
        {
          "output_type": "execute_result",
          "data": {
            "text/plain": [
              "{'anchor_ids': tensor([[ 5857,  2459, 19135,  ...,     0,     0,     0],\n",
              "         [ 1431,  9586, 12232,  ...,     0,     0,     0],\n",
              "         [ 2664,  4366,   122,  ...,     0,     0,     0],\n",
              "         ...,\n",
              "         [ 9009,   203,  4863,  ...,     0,     0,     0],\n",
              "         [ 5705,  3542, 13394,  ...,     0,     0,     0],\n",
              "         [ 1431,  2606,   122,  ...,     0,     0,     0]]),\n",
              " 'anchor_mask': tensor([[1, 1, 1,  ..., 0, 0, 0],\n",
              "         [1, 1, 1,  ..., 0, 0, 0],\n",
              "         [1, 1, 1,  ..., 0, 0, 0],\n",
              "         ...,\n",
              "         [1, 1, 1,  ..., 0, 0, 0],\n",
              "         [1, 1, 1,  ..., 0, 0, 0],\n",
              "         [1, 1, 1,  ..., 0, 0, 0]]),\n",
              " 'positive_ids': tensor([[ 3074,   864,  2459,  ...,     0,     0,     0],\n",
              "         [ 1431,  9586,   698,  ...,     0,     0,     0],\n",
              "         [ 2542, 18661,   271,  ...,     0,     0,     0],\n",
              "         ...,\n",
              "         [ 7508,   268, 11304,  ...,     0,     0,     0],\n",
              "         [ 5705,  3542, 13394,  ...,     0,     0,     0],\n",
              "         [  230,  2606,   122,  ...,     0,     0,     0]]),\n",
              " 'positive_mask': tensor([[1, 1, 1,  ..., 0, 0, 0],\n",
              "         [1, 1, 1,  ..., 0, 0, 0],\n",
              "         [1, 1, 1,  ..., 0, 0, 0],\n",
              "         ...,\n",
              "         [1, 1, 1,  ..., 0, 0, 0],\n",
              "         [1, 1, 1,  ..., 0, 0, 0],\n",
              "         [1, 1, 1,  ..., 0, 0, 0]])}"
            ]
          },
          "metadata": {},
          "execution_count": 7
        }
      ]
    },
    {
      "cell_type": "markdown",
      "metadata": {
        "id": "DxRhICYjxzlI"
      },
      "source": [
        "## Modelo SBERTMNR\n"
      ]
    },
    {
      "cell_type": "code",
      "metadata": {
        "colab": {
          "base_uri": "https://localhost:8080/",
          "height": 236,
          "referenced_widgets": [
            "43abbeacfcf943139751b5aaf00bb8d3",
            "4bf819a9d6954f07a43a2df1655a2fd0",
            "06113a8f04ab4e4f902c1301f5ee1bc2",
            "710b316e586b4bd19b11fe1cd8d75f91",
            "bc91b9663521494ea84f747d3b2818dc",
            "def02b665bf044d3bf5bca5574c5239b",
            "309588dd3c2c407090766fca940cd516",
            "fb4fdaf80d22429ca099137c921bea87",
            "3f93639ceaa04133972a800b56f4dc39",
            "58007003ddc94688996d8d252a065547",
            "cc69495ad73a4a08b12fa3603f21cf4c"
          ]
        },
        "id": "slId2jTDFyiK",
        "outputId": "44655aa9-ff4a-414d-b3f2-b4cd87fe3a5f"
      },
      "source": [
        "class SBERTMNR(BertPreTrainedModel):\n",
        "    def __init__(self, path_model, similarity_metric='cosine'):\n",
        "        super(SBERTMNR, self).__init__(path_model)\n",
        "\n",
        "        self.cos_sim = torch.nn.CosineSimilarity()\n",
        "        self.similarity_metric = similarity_metric\n",
        "        self.bert = BertModel(path_model)\n",
        "        self.init_weights()\n",
        "\n",
        "    def forward(self, anchor_ids, anchor_mask, positive_ids, positive_mask):\n",
        "        return self.mnr_score(anchor_ids, anchor_mask, positive_ids, positive_mask)\n",
        "\n",
        "    def _mean_pool(self, token_embeds, attention_mask):\n",
        "        in_mask = attention_mask.unsqueeze(-1).float()\n",
        "        pool = token_embeds * in_mask\n",
        "        pool = pool.sum(1)\n",
        "        return torch.nn.functional.normalize(pool, p=2, dim=-1)\n",
        "\n",
        "    def mnr_score(self, anchor_ids, anchor_mask, positive_ids, positive_mask, scale=20):\n",
        "         anchor_embds = self.bert(\n",
        "             input_ids=anchor_ids, \n",
        "             attention_mask=anchor_mask)['last_hidden_state']\n",
        "         positive_embds = self.bert(\n",
        "             input_ids=positive_ids, \n",
        "             attention_mask=positive_mask)['last_hidden_state']\n",
        "\n",
        "         anchor = self._mean_pool(anchor_embds, anchor_mask)\n",
        "         positive = self._mean_pool(positive_embds, positive_mask)\n",
        "\n",
        "         scores = torch.stack([self.cos_sim(a_i.unsqueeze(0), positive) for a_i in anchor])\n",
        "        \n",
        "         labels = torch.arange(BSIZE, dtype=torch.long, device=scores.device)\n",
        "\n",
        "         return (scores*scale, labels)\n",
        "# ----------------------------------------------------------------\n",
        "\n",
        "# Test Forward passage\n",
        "model = SBERTMNR.from_pretrained(BERTMODEL).to(device)\n",
        "\n",
        "anchor_ids, anchor_mask = dl0['anchor_ids'].to(device), dl0['anchor_mask'].to(device)\n",
        "positive_ids, positive_mask = dl0['positive_ids'].to(device), dl0['positive_mask'].to(device)\n",
        "\n",
        "scores, labels = model(anchor_ids, anchor_mask, positive_ids, positive_mask)\n",
        "scores, labels"
      ],
      "execution_count": null,
      "outputs": [
        {
          "output_type": "display_data",
          "data": {
            "application/vnd.jupyter.widget-view+json": {
              "model_id": "43abbeacfcf943139751b5aaf00bb8d3",
              "version_minor": 0,
              "version_major": 2
            },
            "text/plain": [
              "Downloading:   0%|          | 0.00/418M [00:00<?, ?B/s]"
            ]
          },
          "metadata": {}
        },
        {
          "output_type": "execute_result",
          "data": {
            "text/plain": [
              "(tensor([[16.3493, 12.7038,  9.9842,  ...,  8.2255, 12.1129, 12.2569],\n",
              "         [13.7774, 16.2452,  9.1206,  ...,  7.9705, 10.6306, 11.4294],\n",
              "         [ 9.6914, 10.8983, 16.4038,  ...,  9.0461,  8.7948,  9.4617],\n",
              "         ...,\n",
              "         [ 8.6105,  8.7850,  9.2745,  ..., 18.1179,  7.7623,  7.4786],\n",
              "         [11.7315,  9.4326,  9.2220,  ...,  7.1206, 20.0000,  9.1470],\n",
              "         [14.0907, 14.3647, 10.4639,  ...,  7.9580, 11.1152, 13.3830]],\n",
              "        device='cuda:0', grad_fn=<MulBackward0>),\n",
              " tensor([ 0,  1,  2,  3,  4,  5,  6,  7,  8,  9, 10, 11, 12, 13, 14, 15, 16, 17,\n",
              "         18, 19, 20, 21, 22, 23, 24, 25, 26, 27, 28, 29, 30, 31, 32, 33, 34, 35,\n",
              "         36, 37, 38, 39, 40, 41, 42, 43, 44, 45, 46, 47], device='cuda:0'))"
            ]
          },
          "metadata": {},
          "execution_count": 8
        }
      ]
    },
    {
      "cell_type": "code",
      "metadata": {
        "colab": {
          "base_uri": "https://localhost:8080/",
          "height": 49,
          "referenced_widgets": [
            "90287ba3fdd240a48f81e0eba1d9eeeb",
            "3936e742b07c44c784d02dad3e235173",
            "553febfa41de44869a54f12c65983fd9",
            "17eef5b885d64a3582005f6c71fd1c9c",
            "4bd2d2d8dcee4c779358f1ee23f8284c",
            "ff65b576e01f4106817e4fe81727280e",
            "bc2c3233d6df4d11857adcf8514318e1",
            "b43ad4efb0c84e688c6e9de4d4bfa7dc",
            "14582139a53b4b98907b7ffc72ccc61a",
            "f16ccbc52bd8475eb566dc286f0d7d41",
            "962fd4c78586405aa41e9a82d91fda5c"
          ]
        },
        "id": "K4NWE8rvLzQ2",
        "outputId": "93a08ad7-0f9d-4b26-dc0d-638cbc96f1ba"
      },
      "source": [
        "# Load STS Test_data\n",
        "\"\"\"\n",
        "Evaluate in STS benchmark dataset Traduzido (STSb): \n",
        ">> STS Benchmark comprises a selection of the English datasets used in the STS tasks \n",
        ">> organized in the context of SemEval between 2012 and 2017. The selection of datasets \n",
        ">> include text from image captions, news headlines and user forums.\n",
        "\"\"\"\n",
        "STSb_PT = pickle_file(path_base+'STS_PT')\n",
        "STSb_PT = datasets.Dataset.from_dict(STSb_PT)\n",
        "STSb_PT = STSb_PT.map(lambda x: {'label': x['label'] / 5.0})\n",
        "\n",
        "samples = []\n",
        "for sample in STSb_PT:\n",
        "    samples.append(InputExample(\n",
        "        texts=[sample['sentence1'], sample['sentence2']],\n",
        "        label=sample['label']\n",
        "    ))\n",
        "\n",
        "# ------------------------------------------------------------------------------------------\n",
        "def train(epoch, model, loader, loss_fct, optim, scheduler, device='cpu', eval_steps=4_000, eval_samples=samples):\n",
        "    model.train()  \n",
        "    loop = tqdm(loader, leave=True)\n",
        "    \n",
        "    for idx, batch in enumerate(loop):\n",
        "        model.zero_grad()\n",
        "\n",
        "        anchor_ids, anchor_mask, pos_ids, pos_mask= (\n",
        "            b.to(device) for b in (batch['anchor_ids'], batch['anchor_mask'], \n",
        "                                   batch['positive_ids'], batch['positive_mask']))\n",
        "\n",
        "        scores, labels = model(anchor_ids, anchor_mask, pos_ids, pos_mask)\n",
        "        loss = loss_fct(scores, labels[:scores.size(0)])\n",
        "        loss.backward()\n",
        "        optim.step()\n",
        "        scheduler.step()\n",
        "\n",
        "        loop.set_description(f'Epoch {epoch}')\n",
        "        loop.set_postfix(loss=loss.item())\n",
        "\n",
        "        if (idx > 0 and idx%eval_steps == 0) or (idx == len(loader)-1):\n",
        "            eval_STSb(model, samples, idx=idx)\n",
        "\n",
        "# ------------------------------------------------------------------------------------------\n",
        "def eval_STSb(model, samples, idx=None):\n",
        "    model.save_pretrained(path_base+'bertimbau/')\n",
        "    tokenizer.save_pretrained(path_base+'bertimbau/')\n",
        "    \n",
        "    sbert = SentenceTransformer(path_base+'bertimbau/')\n",
        "    sbert[0].max_seq_length = MAX_LEN\n",
        "    sbert[1].pooling_mode_cls_token = False\n",
        "    sbert[1].pooling_mode_mean_tokens = True  # <---\n",
        "    sbert[1].pooling_mode_max_tokens = False\n",
        "\n",
        "    evaluator = EmbeddingSimilarityEvaluator.from_input_examples(samples, write_csv=False)\n",
        "    score_eval = evaluator(sbert)\n",
        "    print(f'\\nEvaluating model at batch {idx} -- Score: {score_eval:.4}\\n')        "
      ],
      "execution_count": null,
      "outputs": [
        {
          "output_type": "display_data",
          "data": {
            "application/vnd.jupyter.widget-view+json": {
              "model_id": "90287ba3fdd240a48f81e0eba1d9eeeb",
              "version_minor": 0,
              "version_major": 2
            },
            "text/plain": [
              "  0%|          | 0/1500 [00:00<?, ?ex/s]"
            ]
          },
          "metadata": {}
        }
      ]
    },
    {
      "cell_type": "markdown",
      "metadata": {
        "id": "Yuu6RzjYXELf"
      },
      "source": [
        "## Training Loop"
      ]
    },
    {
      "cell_type": "code",
      "metadata": {
        "colab": {
          "base_uri": "https://localhost:8080/",
          "height": 545,
          "referenced_widgets": [
            "1335530c77da41f9951112598f1278ef",
            "e7b6bc7968f1482f97ccbc844714207a",
            "9a520575a67d4a70833b1a6e0fa892b1",
            "b186750354e84d0c8555f39542d46132",
            "b21a94a9ede94fc1ae81dc28fd751593",
            "51d5cb8082194ca8afdbbc6d4361680a",
            "1d901ab292464e1b8163cfd4d4abd9f5",
            "1e13ad912e3c4df4a5cdda90fd348e10",
            "d127e38f9f3c40fb94e52bf36cf303ba",
            "ae97b217da9b4aed91b757ffcd1a38ff",
            "235c2f60ccc345f3bdfe3976405f8230"
          ]
        },
        "id": "xnqp9-gWLo1I",
        "outputId": "6b5cf4b6-8f79-4afe-a9e5-00c6f8b29757"
      },
      "source": [
        "try:\n",
        "    del model\n",
        "    gc.collect()\n",
        "    torch.cuda.empty_cache()\n",
        "except:\n",
        "    pass\n",
        "\n",
        "model = SBERTMNR.from_pretrained(BERTMODEL).to(device)\n",
        "\n",
        "loss_fct = torch.nn.CrossEntropyLoss()\n",
        "\n",
        "optim = AdamW(filter(lambda p: p.requires_grad, model.parameters()), lr=2e-5)\n",
        "\n",
        "total_steps = int(len(data_train['anchor_ids']) / BSIZE)\n",
        "warmup_steps = int(0.1 * total_steps)\n",
        "scheduler = get_linear_schedule_with_warmup(optim, num_warmup_steps=warmup_steps,\n",
        "                                            num_training_steps=total_steps-warmup_steps)\n",
        "\n",
        "for epoch in range(1, EPOCHS+1):\n",
        "    train(epoch, model, loader, loss_fct, optim, scheduler, device=device, eval_steps=1_000)"
      ],
      "execution_count": null,
      "outputs": [
        {
          "output_type": "display_data",
          "data": {
            "application/vnd.jupyter.widget-view+json": {
              "model_id": "1335530c77da41f9951112598f1278ef",
              "version_minor": 0,
              "version_major": 2
            },
            "text/plain": [
              "  0%|          | 0/6534 [00:00<?, ?it/s]"
            ]
          },
          "metadata": {}
        },
        {
          "output_type": "stream",
          "name": "stderr",
          "text": [
            "WARNING:root:No sentence-transformers model found with name /content/drive/MyDrive/Dirty-Talks/Sentence-Transformers/data/bertimbau/. Creating a new one with MEAN pooling.\n"
          ]
        },
        {
          "output_type": "stream",
          "name": "stdout",
          "text": [
            "\n",
            "Evaluating model at batch 1000 -- Score: 0.8203\n",
            "\n"
          ]
        },
        {
          "output_type": "stream",
          "name": "stderr",
          "text": [
            "WARNING:root:No sentence-transformers model found with name /content/drive/MyDrive/Dirty-Talks/Sentence-Transformers/data/bertimbau/. Creating a new one with MEAN pooling.\n"
          ]
        },
        {
          "output_type": "stream",
          "name": "stdout",
          "text": [
            "\n",
            "Evaluating model at batch 2000 -- Score: 0.8248\n",
            "\n"
          ]
        },
        {
          "output_type": "stream",
          "name": "stderr",
          "text": [
            "WARNING:root:No sentence-transformers model found with name /content/drive/MyDrive/Dirty-Talks/Sentence-Transformers/data/bertimbau/. Creating a new one with MEAN pooling.\n"
          ]
        },
        {
          "output_type": "stream",
          "name": "stdout",
          "text": [
            "\n",
            "Evaluating model at batch 3000 -- Score: 0.8336\n",
            "\n"
          ]
        },
        {
          "output_type": "stream",
          "name": "stderr",
          "text": [
            "WARNING:root:No sentence-transformers model found with name /content/drive/MyDrive/Dirty-Talks/Sentence-Transformers/data/bertimbau/. Creating a new one with MEAN pooling.\n"
          ]
        },
        {
          "output_type": "stream",
          "name": "stdout",
          "text": [
            "\n",
            "Evaluating model at batch 4000 -- Score: 0.8284\n",
            "\n"
          ]
        },
        {
          "output_type": "stream",
          "name": "stderr",
          "text": [
            "WARNING:root:No sentence-transformers model found with name /content/drive/MyDrive/Dirty-Talks/Sentence-Transformers/data/bertimbau/. Creating a new one with MEAN pooling.\n"
          ]
        },
        {
          "output_type": "stream",
          "name": "stdout",
          "text": [
            "\n",
            "Evaluating model at batch 5000 -- Score: 0.8293\n",
            "\n"
          ]
        },
        {
          "output_type": "stream",
          "name": "stderr",
          "text": [
            "WARNING:root:No sentence-transformers model found with name /content/drive/MyDrive/Dirty-Talks/Sentence-Transformers/data/bertimbau/. Creating a new one with MEAN pooling.\n"
          ]
        },
        {
          "output_type": "stream",
          "name": "stdout",
          "text": [
            "\n",
            "Evaluating model at batch 6000 -- Score: 0.8303\n",
            "\n"
          ]
        },
        {
          "output_type": "stream",
          "name": "stderr",
          "text": [
            "WARNING:root:No sentence-transformers model found with name /content/drive/MyDrive/Dirty-Talks/Sentence-Transformers/data/bertimbau/. Creating a new one with MEAN pooling.\n"
          ]
        },
        {
          "output_type": "stream",
          "name": "stdout",
          "text": [
            "\n",
            "Evaluating model at batch 6533 -- Score: 0.8303\n",
            "\n"
          ]
        }
      ]
    },
    {
      "cell_type": "markdown",
      "metadata": {
        "id": "PibJ4I5eQC64"
      },
      "source": [
        "# <font color='lightblue'>(SBERT$_\\text{MNR}$ treino NLI$_\\text{PTBr}$)$_\\text{lib SBERT}$</font>"
      ]
    },
    {
      "cell_type": "code",
      "metadata": {
        "colab": {
          "base_uri": "https://localhost:8080/",
          "height": 49,
          "referenced_widgets": [
            "78162f9ee6ce471bb6b8f906d9fcc184",
            "633c65553c1d4f40b820894323d990bd",
            "2f0321e3c9834cbf8afc688f035ab378",
            "d16231f7e3674c48b4a39e1dbb5236fd",
            "38c9f15206c346a995db4d6ec53eb959",
            "f5b1cdc0e7074cdf9628ec478a61bc0d",
            "92a55a6bbe4843c38924f28c8fe08ea1",
            "542380a72aa846429dbb73c93f1b497a",
            "9cb4867dcf6d4c1ab7d286677a6bafbd",
            "df600bd0933847eeb9d5ecf03765c9ce",
            "eeb5accbd3564a67b7c8b974b78d4dca"
          ]
        },
        "id": "PEtyW3iBQIWg",
        "outputId": "8c9e9cae-c211-4515-8225-3a1ebd386640"
      },
      "source": [
        "data_train = pickle_file(path_base+'SNLI_MNLI_POSITIVIES_PT')\n",
        "data_train = datasets.Dataset.from_dict(data_train)\n",
        "\n",
        "train_samples = []\n",
        "for row in tqdm(data_train):\n",
        "    train_samples.append(InputExample(\n",
        "        texts=[row['premise'], row['hypothesis']]\n",
        "    ))"
      ],
      "execution_count": null,
      "outputs": [
        {
          "output_type": "display_data",
          "data": {
            "application/vnd.jupyter.widget-view+json": {
              "model_id": "78162f9ee6ce471bb6b8f906d9fcc184",
              "version_minor": 0,
              "version_major": 2
            },
            "text/plain": [
              "  0%|          | 0/313629 [00:00<?, ?it/s]"
            ]
          },
          "metadata": {}
        }
      ]
    },
    {
      "cell_type": "code",
      "metadata": {
        "colab": {
          "base_uri": "https://localhost:8080/",
          "height": 132,
          "referenced_widgets": [
            "797ef95642204bde84da310ca3b85dce",
            "8d0c20e3109c4bec9d5a2bdcc73eb0b8",
            "f3987dbc6c994dc2a06932a9a96e9de9",
            "d43bca40ba6448ecb6de2238c4333801",
            "72f7aae58d85448182820b067c3762a1",
            "f40de71bde174c9c9172c8777b902e38",
            "da35801258604d5eac438ae89d16ed89",
            "c9e280a3a5fb4abaaf4fa9469474da7c",
            "d8d1c8e1d3184137898af9ac16b9b205",
            "42304e56efed48cdae24eeaf9b454ed2",
            "b250ce4c301f4f14b6e215bb13030b19",
            "2bf4057951234f879f4411ca5f4c7c84",
            "d7cd50b4ad3b47ee81d88eb9d291059b",
            "153ff0cb542441d7b33711c152e75b50",
            "21908c6cc0ea4877849f80574347b514",
            "997ac15c4cd14f9aad0209a416a0fe15",
            "cb50bd15a83f4276a3a0d8cbb894a10a",
            "e04a92ad5e304a4eabdaf880522829d1",
            "ede89e48a72244abb302a89be3135734",
            "281fb1eb568f42348a00b3fc6c49034a",
            "b243746ebda6428fac1ac84a4c1a59a5",
            "25b2241cb882466686b028344c3762b4"
          ]
        },
        "id": "la21Y_Y6RgF-",
        "outputId": "4eb695f0-3578-46aa-a484-f06742647308"
      },
      "source": [
        "from sentence_transformers import models, losses, datasets\n",
        "\n",
        "try:\n",
        "    del model\n",
        "    gc.collect()\n",
        "    torch.cuda.empty_cache()\n",
        "except:\n",
        "    pass\n",
        "\n",
        "def eval_STSb_sbert(model, samples):\n",
        "    sbert = SentenceTransformer('/content/sbert')\n",
        "    sbert[0].max_seq_length = MAX_LEN\n",
        "    sbert[1].pooling_mode_cls_token = False\n",
        "    sbert[1].pooling_mode_mean_tokens = True  # <---\n",
        "    sbert[1].pooling_mode_max_tokens = False\n",
        "\n",
        "    evaluator = EmbeddingSimilarityEvaluator.from_input_examples(samples, write_csv=False)\n",
        "    score_eval = evaluator(sbert)\n",
        "    print(f'\\nEvaluating model with SBERT: score {score_eval:.4}\\n')        \n",
        "\n",
        "# Data Loader\n",
        "loader = datasets.NoDuplicatesDataLoader(train_samples, batch_size=BSIZE)\n",
        "\n",
        "# Init BERT from pre_trained\n",
        "bert = models.Transformer(BERTMODEL)\n",
        "\n",
        "# pass the pooler - Default is mean\n",
        "pooler = models.Pooling(\n",
        "    bert.get_word_embedding_dimension(),\n",
        "    pooling_mode_mean_tokens=True\n",
        ")\n",
        "\n",
        "# pass model and poole to SentenceTransformer main class\n",
        "model = SentenceTransformer(modules=[bert, pooler])\n",
        "\n",
        "# truncate max seq length to MAX_LEN\n",
        "model[0].max_seq_length = MAX_LEN\n",
        "\n",
        "# Using MNR Loss\n",
        "loss = losses.MultipleNegativesRankingLoss(model)\n",
        "\n",
        "# monotone lr\n",
        "warmup_steps = int(len(loader) * 0.1)\n",
        "\n",
        "# trainer obj sbert\n",
        "model.fit(\n",
        "    train_objectives=[(loader, loss)],\n",
        "    epochs=1,\n",
        "    warmup_steps=warmup_steps,\n",
        "    output_path='./sbert',\n",
        "    show_progress_bar=True)\n",
        "\n",
        "# Get score in STSb\n",
        "eval_STSb_sbert(model, samples)      "
      ],
      "execution_count": null,
      "outputs": [
        {
          "output_type": "display_data",
          "data": {
            "application/vnd.jupyter.widget-view+json": {
              "model_id": "797ef95642204bde84da310ca3b85dce",
              "version_minor": 0,
              "version_major": 2
            },
            "text/plain": [
              "Epoch:   0%|          | 0/1 [00:00<?, ?it/s]"
            ]
          },
          "metadata": {}
        },
        {
          "output_type": "display_data",
          "data": {
            "application/vnd.jupyter.widget-view+json": {
              "model_id": "2bf4057951234f879f4411ca5f4c7c84",
              "version_minor": 0,
              "version_major": 2
            },
            "text/plain": [
              "Iteration:   0%|          | 0/6533 [00:00<?, ?it/s]"
            ]
          },
          "metadata": {}
        },
        {
          "output_type": "stream",
          "name": "stdout",
          "text": [
            "\n",
            "Evaluating model with SBERT: score 0.8401\n",
            "\n"
          ]
        }
      ]
    }
  ]
}