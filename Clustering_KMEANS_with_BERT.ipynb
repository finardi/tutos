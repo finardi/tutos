{
  "nbformat": 4,
  "nbformat_minor": 0,
  "metadata": {
    "colab": {
      "name": "Clustering: KMEANS with BERT.ipynb",
      "provenance": [],
      "machine_shape": "hm",
      "authorship_tag": "ABX9TyN2MgIzNOl89uR0OMNntu+c",
      "include_colab_link": true
    },
    "kernelspec": {
      "name": "python3",
      "display_name": "Python 3"
    },
    "language_info": {
      "name": "python"
    },
    "accelerator": "GPU",
    "widgets": {
      "application/vnd.jupyter.widget-state+json": {
        "0a844815fe9e4452b333cc426daf1fbe": {
          "model_module": "@jupyter-widgets/controls",
          "model_name": "HBoxModel",
          "state": {
            "_view_name": "HBoxView",
            "_dom_classes": [],
            "_model_name": "HBoxModel",
            "_view_module": "@jupyter-widgets/controls",
            "_model_module_version": "1.5.0",
            "_view_count": null,
            "_view_module_version": "1.5.0",
            "box_style": "",
            "layout": "IPY_MODEL_f14e3409428046659e567b418e3c5cc7",
            "_model_module": "@jupyter-widgets/controls",
            "children": [
              "IPY_MODEL_c5804cd89b124467a162b4f31f171578",
              "IPY_MODEL_d7f4395f614540e2b8966e16bd989a1d"
            ]
          }
        },
        "f14e3409428046659e567b418e3c5cc7": {
          "model_module": "@jupyter-widgets/base",
          "model_name": "LayoutModel",
          "state": {
            "_view_name": "LayoutView",
            "grid_template_rows": null,
            "right": null,
            "justify_content": null,
            "_view_module": "@jupyter-widgets/base",
            "overflow": null,
            "_model_module_version": "1.2.0",
            "_view_count": null,
            "flex_flow": null,
            "width": null,
            "min_width": null,
            "border": null,
            "align_items": null,
            "bottom": null,
            "_model_module": "@jupyter-widgets/base",
            "top": null,
            "grid_column": null,
            "overflow_y": null,
            "overflow_x": null,
            "grid_auto_flow": null,
            "grid_area": null,
            "grid_template_columns": null,
            "flex": null,
            "_model_name": "LayoutModel",
            "justify_items": null,
            "grid_row": null,
            "max_height": null,
            "align_content": null,
            "visibility": null,
            "align_self": null,
            "height": null,
            "min_height": null,
            "padding": null,
            "grid_auto_rows": null,
            "grid_gap": null,
            "max_width": null,
            "order": null,
            "_view_module_version": "1.2.0",
            "grid_template_areas": null,
            "object_position": null,
            "object_fit": null,
            "grid_auto_columns": null,
            "margin": null,
            "display": null,
            "left": null
          }
        },
        "c5804cd89b124467a162b4f31f171578": {
          "model_module": "@jupyter-widgets/controls",
          "model_name": "FloatProgressModel",
          "state": {
            "_view_name": "ProgressView",
            "style": "IPY_MODEL_7434499ee22f419489d4cb3e6a7a9202",
            "_dom_classes": [],
            "description": "Downloading: 100%",
            "_model_name": "FloatProgressModel",
            "bar_style": "success",
            "max": 268101,
            "_view_module": "@jupyter-widgets/controls",
            "_model_module_version": "1.5.0",
            "value": 268101,
            "_view_count": null,
            "_view_module_version": "1.5.0",
            "orientation": "horizontal",
            "min": 0,
            "description_tooltip": null,
            "_model_module": "@jupyter-widgets/controls",
            "layout": "IPY_MODEL_86abdc84f4be41c3af4226837cf128fa"
          }
        },
        "d7f4395f614540e2b8966e16bd989a1d": {
          "model_module": "@jupyter-widgets/controls",
          "model_name": "HTMLModel",
          "state": {
            "_view_name": "HTMLView",
            "style": "IPY_MODEL_e4963f2055da4b19833bc9c91714e0f5",
            "_dom_classes": [],
            "description": "",
            "_model_name": "HTMLModel",
            "placeholder": "​",
            "_view_module": "@jupyter-widgets/controls",
            "_model_module_version": "1.5.0",
            "value": " 268k/268k [00:01&lt;00:00, 187kB/s]",
            "_view_count": null,
            "_view_module_version": "1.5.0",
            "description_tooltip": null,
            "_model_module": "@jupyter-widgets/controls",
            "layout": "IPY_MODEL_fc35883496e94ccf948774cd3f25afa7"
          }
        },
        "7434499ee22f419489d4cb3e6a7a9202": {
          "model_module": "@jupyter-widgets/controls",
          "model_name": "ProgressStyleModel",
          "state": {
            "_view_name": "StyleView",
            "_model_name": "ProgressStyleModel",
            "description_width": "initial",
            "_view_module": "@jupyter-widgets/base",
            "_model_module_version": "1.5.0",
            "_view_count": null,
            "_view_module_version": "1.2.0",
            "bar_color": null,
            "_model_module": "@jupyter-widgets/controls"
          }
        },
        "86abdc84f4be41c3af4226837cf128fa": {
          "model_module": "@jupyter-widgets/base",
          "model_name": "LayoutModel",
          "state": {
            "_view_name": "LayoutView",
            "grid_template_rows": null,
            "right": null,
            "justify_content": null,
            "_view_module": "@jupyter-widgets/base",
            "overflow": null,
            "_model_module_version": "1.2.0",
            "_view_count": null,
            "flex_flow": null,
            "width": null,
            "min_width": null,
            "border": null,
            "align_items": null,
            "bottom": null,
            "_model_module": "@jupyter-widgets/base",
            "top": null,
            "grid_column": null,
            "overflow_y": null,
            "overflow_x": null,
            "grid_auto_flow": null,
            "grid_area": null,
            "grid_template_columns": null,
            "flex": null,
            "_model_name": "LayoutModel",
            "justify_items": null,
            "grid_row": null,
            "max_height": null,
            "align_content": null,
            "visibility": null,
            "align_self": null,
            "height": null,
            "min_height": null,
            "padding": null,
            "grid_auto_rows": null,
            "grid_gap": null,
            "max_width": null,
            "order": null,
            "_view_module_version": "1.2.0",
            "grid_template_areas": null,
            "object_position": null,
            "object_fit": null,
            "grid_auto_columns": null,
            "margin": null,
            "display": null,
            "left": null
          }
        },
        "e4963f2055da4b19833bc9c91714e0f5": {
          "model_module": "@jupyter-widgets/controls",
          "model_name": "DescriptionStyleModel",
          "state": {
            "_view_name": "StyleView",
            "_model_name": "DescriptionStyleModel",
            "description_width": "",
            "_view_module": "@jupyter-widgets/base",
            "_model_module_version": "1.5.0",
            "_view_count": null,
            "_view_module_version": "1.2.0",
            "_model_module": "@jupyter-widgets/controls"
          }
        },
        "fc35883496e94ccf948774cd3f25afa7": {
          "model_module": "@jupyter-widgets/base",
          "model_name": "LayoutModel",
          "state": {
            "_view_name": "LayoutView",
            "grid_template_rows": null,
            "right": null,
            "justify_content": null,
            "_view_module": "@jupyter-widgets/base",
            "overflow": null,
            "_model_module_version": "1.2.0",
            "_view_count": null,
            "flex_flow": null,
            "width": null,
            "min_width": null,
            "border": null,
            "align_items": null,
            "bottom": null,
            "_model_module": "@jupyter-widgets/base",
            "top": null,
            "grid_column": null,
            "overflow_y": null,
            "overflow_x": null,
            "grid_auto_flow": null,
            "grid_area": null,
            "grid_template_columns": null,
            "flex": null,
            "_model_name": "LayoutModel",
            "justify_items": null,
            "grid_row": null,
            "max_height": null,
            "align_content": null,
            "visibility": null,
            "align_self": null,
            "height": null,
            "min_height": null,
            "padding": null,
            "grid_auto_rows": null,
            "grid_gap": null,
            "max_width": null,
            "order": null,
            "_view_module_version": "1.2.0",
            "grid_template_areas": null,
            "object_position": null,
            "object_fit": null,
            "grid_auto_columns": null,
            "margin": null,
            "display": null,
            "left": null
          }
        },
        "b38fb53a174948489c91b37da5997fa1": {
          "model_module": "@jupyter-widgets/controls",
          "model_name": "HBoxModel",
          "state": {
            "_view_name": "HBoxView",
            "_dom_classes": [],
            "_model_name": "HBoxModel",
            "_view_module": "@jupyter-widgets/controls",
            "_model_module_version": "1.5.0",
            "_view_count": null,
            "_view_module_version": "1.5.0",
            "box_style": "",
            "layout": "IPY_MODEL_8f9844a8991842dfa31e9e03293bf84a",
            "_model_module": "@jupyter-widgets/controls",
            "children": [
              "IPY_MODEL_c4e6eb41ca4f478f83884065669d207d",
              "IPY_MODEL_940b988b41dc4c998c1b288ae8bb9985"
            ]
          }
        },
        "8f9844a8991842dfa31e9e03293bf84a": {
          "model_module": "@jupyter-widgets/base",
          "model_name": "LayoutModel",
          "state": {
            "_view_name": "LayoutView",
            "grid_template_rows": null,
            "right": null,
            "justify_content": null,
            "_view_module": "@jupyter-widgets/base",
            "overflow": null,
            "_model_module_version": "1.2.0",
            "_view_count": null,
            "flex_flow": null,
            "width": null,
            "min_width": null,
            "border": null,
            "align_items": null,
            "bottom": null,
            "_model_module": "@jupyter-widgets/base",
            "top": null,
            "grid_column": null,
            "overflow_y": null,
            "overflow_x": null,
            "grid_auto_flow": null,
            "grid_area": null,
            "grid_template_columns": null,
            "flex": null,
            "_model_name": "LayoutModel",
            "justify_items": null,
            "grid_row": null,
            "max_height": null,
            "align_content": null,
            "visibility": null,
            "align_self": null,
            "height": null,
            "min_height": null,
            "padding": null,
            "grid_auto_rows": null,
            "grid_gap": null,
            "max_width": null,
            "order": null,
            "_view_module_version": "1.2.0",
            "grid_template_areas": null,
            "object_position": null,
            "object_fit": null,
            "grid_auto_columns": null,
            "margin": null,
            "display": null,
            "left": null
          }
        },
        "c4e6eb41ca4f478f83884065669d207d": {
          "model_module": "@jupyter-widgets/controls",
          "model_name": "FloatProgressModel",
          "state": {
            "_view_name": "ProgressView",
            "style": "IPY_MODEL_05382265beee417c94c384319e416669",
            "_dom_classes": [],
            "description": "Downloading: 100%",
            "_model_name": "FloatProgressModel",
            "bar_style": "success",
            "max": 288,
            "_view_module": "@jupyter-widgets/controls",
            "_model_module_version": "1.5.0",
            "value": 288,
            "_view_count": null,
            "_view_module_version": "1.5.0",
            "orientation": "horizontal",
            "min": 0,
            "description_tooltip": null,
            "_model_module": "@jupyter-widgets/controls",
            "layout": "IPY_MODEL_3d6304368a1b492c8d1c5870ef0256da"
          }
        },
        "940b988b41dc4c998c1b288ae8bb9985": {
          "model_module": "@jupyter-widgets/controls",
          "model_name": "HTMLModel",
          "state": {
            "_view_name": "HTMLView",
            "style": "IPY_MODEL_d394f989be8f4570b0e090b347bd1c6f",
            "_dom_classes": [],
            "description": "",
            "_model_name": "HTMLModel",
            "placeholder": "​",
            "_view_module": "@jupyter-widgets/controls",
            "_model_module_version": "1.5.0",
            "value": " 288/288 [00:00&lt;00:00, 336B/s]",
            "_view_count": null,
            "_view_module_version": "1.5.0",
            "description_tooltip": null,
            "_model_module": "@jupyter-widgets/controls",
            "layout": "IPY_MODEL_aebeb6a892824c949552d46d91b223f1"
          }
        },
        "05382265beee417c94c384319e416669": {
          "model_module": "@jupyter-widgets/controls",
          "model_name": "ProgressStyleModel",
          "state": {
            "_view_name": "StyleView",
            "_model_name": "ProgressStyleModel",
            "description_width": "initial",
            "_view_module": "@jupyter-widgets/base",
            "_model_module_version": "1.5.0",
            "_view_count": null,
            "_view_module_version": "1.2.0",
            "bar_color": null,
            "_model_module": "@jupyter-widgets/controls"
          }
        },
        "3d6304368a1b492c8d1c5870ef0256da": {
          "model_module": "@jupyter-widgets/base",
          "model_name": "LayoutModel",
          "state": {
            "_view_name": "LayoutView",
            "grid_template_rows": null,
            "right": null,
            "justify_content": null,
            "_view_module": "@jupyter-widgets/base",
            "overflow": null,
            "_model_module_version": "1.2.0",
            "_view_count": null,
            "flex_flow": null,
            "width": null,
            "min_width": null,
            "border": null,
            "align_items": null,
            "bottom": null,
            "_model_module": "@jupyter-widgets/base",
            "top": null,
            "grid_column": null,
            "overflow_y": null,
            "overflow_x": null,
            "grid_auto_flow": null,
            "grid_area": null,
            "grid_template_columns": null,
            "flex": null,
            "_model_name": "LayoutModel",
            "justify_items": null,
            "grid_row": null,
            "max_height": null,
            "align_content": null,
            "visibility": null,
            "align_self": null,
            "height": null,
            "min_height": null,
            "padding": null,
            "grid_auto_rows": null,
            "grid_gap": null,
            "max_width": null,
            "order": null,
            "_view_module_version": "1.2.0",
            "grid_template_areas": null,
            "object_position": null,
            "object_fit": null,
            "grid_auto_columns": null,
            "margin": null,
            "display": null,
            "left": null
          }
        },
        "d394f989be8f4570b0e090b347bd1c6f": {
          "model_module": "@jupyter-widgets/controls",
          "model_name": "DescriptionStyleModel",
          "state": {
            "_view_name": "StyleView",
            "_model_name": "DescriptionStyleModel",
            "description_width": "",
            "_view_module": "@jupyter-widgets/base",
            "_model_module_version": "1.5.0",
            "_view_count": null,
            "_view_module_version": "1.2.0",
            "_model_module": "@jupyter-widgets/controls"
          }
        },
        "aebeb6a892824c949552d46d91b223f1": {
          "model_module": "@jupyter-widgets/base",
          "model_name": "LayoutModel",
          "state": {
            "_view_name": "LayoutView",
            "grid_template_rows": null,
            "right": null,
            "justify_content": null,
            "_view_module": "@jupyter-widgets/base",
            "overflow": null,
            "_model_module_version": "1.2.0",
            "_view_count": null,
            "flex_flow": null,
            "width": null,
            "min_width": null,
            "border": null,
            "align_items": null,
            "bottom": null,
            "_model_module": "@jupyter-widgets/base",
            "top": null,
            "grid_column": null,
            "overflow_y": null,
            "overflow_x": null,
            "grid_auto_flow": null,
            "grid_area": null,
            "grid_template_columns": null,
            "flex": null,
            "_model_name": "LayoutModel",
            "justify_items": null,
            "grid_row": null,
            "max_height": null,
            "align_content": null,
            "visibility": null,
            "align_self": null,
            "height": null,
            "min_height": null,
            "padding": null,
            "grid_auto_rows": null,
            "grid_gap": null,
            "max_width": null,
            "order": null,
            "_view_module_version": "1.2.0",
            "grid_template_areas": null,
            "object_position": null,
            "object_fit": null,
            "grid_auto_columns": null,
            "margin": null,
            "display": null,
            "left": null
          }
        },
        "af13dd2ea616488f969a41ecb5369a0a": {
          "model_module": "@jupyter-widgets/controls",
          "model_name": "HBoxModel",
          "state": {
            "_view_name": "HBoxView",
            "_dom_classes": [],
            "_model_name": "HBoxModel",
            "_view_module": "@jupyter-widgets/controls",
            "_model_module_version": "1.5.0",
            "_view_count": null,
            "_view_module_version": "1.5.0",
            "box_style": "",
            "layout": "IPY_MODEL_0700e9146c274bde8a9f9aeb717724a0",
            "_model_module": "@jupyter-widgets/controls",
            "children": [
              "IPY_MODEL_fd0742f11bc247fd983d812f3866c636",
              "IPY_MODEL_d4bb46172de4435ea1d84cac6736291b"
            ]
          }
        },
        "0700e9146c274bde8a9f9aeb717724a0": {
          "model_module": "@jupyter-widgets/base",
          "model_name": "LayoutModel",
          "state": {
            "_view_name": "LayoutView",
            "grid_template_rows": null,
            "right": null,
            "justify_content": null,
            "_view_module": "@jupyter-widgets/base",
            "overflow": null,
            "_model_module_version": "1.2.0",
            "_view_count": null,
            "flex_flow": null,
            "width": null,
            "min_width": null,
            "border": null,
            "align_items": null,
            "bottom": null,
            "_model_module": "@jupyter-widgets/base",
            "top": null,
            "grid_column": null,
            "overflow_y": null,
            "overflow_x": null,
            "grid_auto_flow": null,
            "grid_area": null,
            "grid_template_columns": null,
            "flex": null,
            "_model_name": "LayoutModel",
            "justify_items": null,
            "grid_row": null,
            "max_height": null,
            "align_content": null,
            "visibility": null,
            "align_self": null,
            "height": null,
            "min_height": null,
            "padding": null,
            "grid_auto_rows": null,
            "grid_gap": null,
            "max_width": null,
            "order": null,
            "_view_module_version": "1.2.0",
            "grid_template_areas": null,
            "object_position": null,
            "object_fit": null,
            "grid_auto_columns": null,
            "margin": null,
            "display": null,
            "left": null
          }
        },
        "fd0742f11bc247fd983d812f3866c636": {
          "model_module": "@jupyter-widgets/controls",
          "model_name": "FloatProgressModel",
          "state": {
            "_view_name": "ProgressView",
            "style": "IPY_MODEL_aa007724076c46a9a0c66c67574ec83f",
            "_dom_classes": [],
            "description": "Downloading: 100%",
            "_model_name": "FloatProgressModel",
            "bar_style": "success",
            "max": 451518251,
            "_view_module": "@jupyter-widgets/controls",
            "_model_module_version": "1.5.0",
            "value": 451518251,
            "_view_count": null,
            "_view_module_version": "1.5.0",
            "orientation": "horizontal",
            "min": 0,
            "description_tooltip": null,
            "_model_module": "@jupyter-widgets/controls",
            "layout": "IPY_MODEL_b7fb00afa1364716b0d9690d8534cb38"
          }
        },
        "d4bb46172de4435ea1d84cac6736291b": {
          "model_module": "@jupyter-widgets/controls",
          "model_name": "HTMLModel",
          "state": {
            "_view_name": "HTMLView",
            "style": "IPY_MODEL_b93bc3e436164b6cb026fe9e924d075a",
            "_dom_classes": [],
            "description": "",
            "_model_name": "HTMLModel",
            "placeholder": "​",
            "_view_module": "@jupyter-widgets/controls",
            "_model_module_version": "1.5.0",
            "value": " 452M/452M [00:16&lt;00:00, 27.3MB/s]",
            "_view_count": null,
            "_view_module_version": "1.5.0",
            "description_tooltip": null,
            "_model_module": "@jupyter-widgets/controls",
            "layout": "IPY_MODEL_665015805676443fbcaf9f6535de7f0f"
          }
        },
        "aa007724076c46a9a0c66c67574ec83f": {
          "model_module": "@jupyter-widgets/controls",
          "model_name": "ProgressStyleModel",
          "state": {
            "_view_name": "StyleView",
            "_model_name": "ProgressStyleModel",
            "description_width": "initial",
            "_view_module": "@jupyter-widgets/base",
            "_model_module_version": "1.5.0",
            "_view_count": null,
            "_view_module_version": "1.2.0",
            "bar_color": null,
            "_model_module": "@jupyter-widgets/controls"
          }
        },
        "b7fb00afa1364716b0d9690d8534cb38": {
          "model_module": "@jupyter-widgets/base",
          "model_name": "LayoutModel",
          "state": {
            "_view_name": "LayoutView",
            "grid_template_rows": null,
            "right": null,
            "justify_content": null,
            "_view_module": "@jupyter-widgets/base",
            "overflow": null,
            "_model_module_version": "1.2.0",
            "_view_count": null,
            "flex_flow": null,
            "width": null,
            "min_width": null,
            "border": null,
            "align_items": null,
            "bottom": null,
            "_model_module": "@jupyter-widgets/base",
            "top": null,
            "grid_column": null,
            "overflow_y": null,
            "overflow_x": null,
            "grid_auto_flow": null,
            "grid_area": null,
            "grid_template_columns": null,
            "flex": null,
            "_model_name": "LayoutModel",
            "justify_items": null,
            "grid_row": null,
            "max_height": null,
            "align_content": null,
            "visibility": null,
            "align_self": null,
            "height": null,
            "min_height": null,
            "padding": null,
            "grid_auto_rows": null,
            "grid_gap": null,
            "max_width": null,
            "order": null,
            "_view_module_version": "1.2.0",
            "grid_template_areas": null,
            "object_position": null,
            "object_fit": null,
            "grid_auto_columns": null,
            "margin": null,
            "display": null,
            "left": null
          }
        },
        "b93bc3e436164b6cb026fe9e924d075a": {
          "model_module": "@jupyter-widgets/controls",
          "model_name": "DescriptionStyleModel",
          "state": {
            "_view_name": "StyleView",
            "_model_name": "DescriptionStyleModel",
            "description_width": "",
            "_view_module": "@jupyter-widgets/base",
            "_model_module_version": "1.5.0",
            "_view_count": null,
            "_view_module_version": "1.2.0",
            "_model_module": "@jupyter-widgets/controls"
          }
        },
        "665015805676443fbcaf9f6535de7f0f": {
          "model_module": "@jupyter-widgets/base",
          "model_name": "LayoutModel",
          "state": {
            "_view_name": "LayoutView",
            "grid_template_rows": null,
            "right": null,
            "justify_content": null,
            "_view_module": "@jupyter-widgets/base",
            "overflow": null,
            "_model_module_version": "1.2.0",
            "_view_count": null,
            "flex_flow": null,
            "width": null,
            "min_width": null,
            "border": null,
            "align_items": null,
            "bottom": null,
            "_model_module": "@jupyter-widgets/base",
            "top": null,
            "grid_column": null,
            "overflow_y": null,
            "overflow_x": null,
            "grid_auto_flow": null,
            "grid_area": null,
            "grid_template_columns": null,
            "flex": null,
            "_model_name": "LayoutModel",
            "justify_items": null,
            "grid_row": null,
            "max_height": null,
            "align_content": null,
            "visibility": null,
            "align_self": null,
            "height": null,
            "min_height": null,
            "padding": null,
            "grid_auto_rows": null,
            "grid_gap": null,
            "max_width": null,
            "order": null,
            "_view_module_version": "1.2.0",
            "grid_template_areas": null,
            "object_position": null,
            "object_fit": null,
            "grid_auto_columns": null,
            "margin": null,
            "display": null,
            "left": null
          }
        }
      }
    }
  },
  "cells": [
    {
      "cell_type": "markdown",
      "metadata": {
        "id": "view-in-github",
        "colab_type": "text"
      },
      "source": [
        "<a href=\"https://colab.research.google.com/github/finardi/tutos/blob/master/Clustering_KMEANS_with_BERT.ipynb\" target=\"_parent\"><img src=\"https://colab.research.google.com/assets/colab-badge.svg\" alt=\"Open In Colab\"/></a>"
      ]
    },
    {
      "cell_type": "code",
      "metadata": {
        "colab": {
          "base_uri": "https://localhost:8080/"
        },
        "id": "Nrg4jo90yPw9",
        "outputId": "53e76c75-a709-4c22-a63d-7df6b6bfa85a"
      },
      "source": [
        "! pip install -q transformers"
      ],
      "execution_count": 1,
      "outputs": [
        {
          "output_type": "stream",
          "text": [
            "\u001b[K     |████████████████████████████████| 2.2MB 15.4MB/s \n",
            "\u001b[K     |████████████████████████████████| 870kB 67.6MB/s \n",
            "\u001b[K     |████████████████████████████████| 3.3MB 71.0MB/s \n",
            "\u001b[?25h  Building wheel for sacremoses (setup.py) ... \u001b[?25l\u001b[?25hdone\n"
          ],
          "name": "stdout"
        }
      ]
    },
    {
      "cell_type": "code",
      "metadata": {
        "id": "qf4Z9r0j1izT"
      },
      "source": [
        "from transformers import BertModel, BertTokenizer\n",
        "\n",
        "from sklearn.cluster import KMeans\n",
        "import torch\n",
        "import pandas as pd"
      ],
      "execution_count": 2,
      "outputs": []
    },
    {
      "cell_type": "code",
      "metadata": {
        "id": "3IZwejRHzy1q"
      },
      "source": [
        "text_list = [\n",
        "        'arroz com feijão e batata frita|1001',\n",
        "        'arroz salada e mandioca|1010',\n",
        "        'arroz com feijão e abobrinha|1101',\n",
        "        'arroz com feijão batata frit|1001',\n",
        "        'feijão arroz e cenoura|1011',\n",
        "        'beterraba, chuchu e arroz com feijão|1111',\n",
        "        'arroz com milho e feijão com couve|2001',\n",
        "        'batata frita com legumes e soja|2010',\n",
        "        'arroz com bata frita|2010',\n",
        "        'madioquinha com sopa de feijão|2010',\n",
        "        'arroz feijo e batata fita|1001',\n",
        "        'mesa, cadeira e escrivaninha|2711',\n",
        "        'cadeira, mesa e escrivaninha|2711',\n",
        "        'escrivaninha, mesa e cadeira|2711',\n",
        "        'geladeira e fogão|1711',\n",
        "        'microondas e geraleira|1711',\n",
        "        'geladeira e mesa azul|1711',\n",
        "        'roupeiro, criado-mudo e cama|2804',\n",
        "        'criado-mudo e cama|2804',\n",
        "        'roupeiro e criado-mudo|2804',\n",
        "        'cama e roupeiro|2804',\n",
        "        'microondas e cama|2805',\n",
        "        'mochila e roupeiro|2805',\n",
        "        'ps1, ps2, ps3, ps4 e ps5|1311',\n",
        "        'n64, snes, ps3, ps4 e ps5|1211',\n",
        "        'ps1, ps2, n64, ps4 e ps5|1341',\n",
        "        'ps5, ps4, ps3, ps2 e ps1|1311',\n",
        "        'ps1, n64, snes, switch|2311',\n",
        "        'ps6, ps7, ps8, ps9 e ps10|3211',\n",
        "        'ps10, ps2, ps3, ps4 e ps5|3211',\n",
        "        'mega-drive, nes, snes|1301',\n",
        "        'mega drive, n64, snes|1301',\n",
        "        'megadrive, nes, n64|1301',\n",
        "        'mega-drive, snes, nes|1311',\n",
        "        'mega drive, nes, n64|1311',\n",
        "        'tom, planck, ozzy, mel, nina, pingado e gisele|0000',\n",
        "        'tom, planck, ozzy, mel, nina, pingado gisele|0000',\n",
        "        'paulo, tom, planck, ozzy, mel, nina, pingado e gisele|0001',\n",
        "        'paulo, eli, tom, planck, ozzy, mel, nina, pingado e gisele|0001',\n",
        "        'jan, paulo, eli, tom, planck, ozzy, mel, nina, pingado e gisele|0001',\n",
        "]\n",
        "\n",
        "mydict = {}\n",
        "for i, item in enumerate(text_list):\n",
        "    mydict[i] = item.split('|')[0], item.split('|')[1]\n",
        "\n",
        "df = pd.DataFrame(mydict).T\n",
        "df = df.rename(columns={0:'text', 1:'doc'})"
      ],
      "execution_count": 3,
      "outputs": []
    },
    {
      "cell_type": "markdown",
      "metadata": {
        "id": "Ju6uKhE46brf"
      },
      "source": [
        "# BERTaú - Embeddings"
      ]
    },
    {
      "cell_type": "code",
      "metadata": {
        "colab": {
          "base_uri": "https://localhost:8080/",
          "height": 199,
          "referenced_widgets": [
            "0a844815fe9e4452b333cc426daf1fbe",
            "f14e3409428046659e567b418e3c5cc7",
            "c5804cd89b124467a162b4f31f171578",
            "d7f4395f614540e2b8966e16bd989a1d",
            "7434499ee22f419489d4cb3e6a7a9202",
            "86abdc84f4be41c3af4226837cf128fa",
            "e4963f2055da4b19833bc9c91714e0f5",
            "fc35883496e94ccf948774cd3f25afa7",
            "b38fb53a174948489c91b37da5997fa1",
            "8f9844a8991842dfa31e9e03293bf84a",
            "c4e6eb41ca4f478f83884065669d207d",
            "940b988b41dc4c998c1b288ae8bb9985",
            "05382265beee417c94c384319e416669",
            "3d6304368a1b492c8d1c5870ef0256da",
            "d394f989be8f4570b0e090b347bd1c6f",
            "aebeb6a892824c949552d46d91b223f1",
            "af13dd2ea616488f969a41ecb5369a0a",
            "0700e9146c274bde8a9f9aeb717724a0",
            "fd0742f11bc247fd983d812f3866c636",
            "d4bb46172de4435ea1d84cac6736291b",
            "aa007724076c46a9a0c66c67574ec83f",
            "b7fb00afa1364716b0d9690d8534cb38",
            "b93bc3e436164b6cb026fe9e924d075a",
            "665015805676443fbcaf9f6535de7f0f"
          ]
        },
        "id": "g9KPquBL55vx",
        "outputId": "4470d4ae-21a0-4fa2-b988-ec4aab389bfd"
      },
      "source": [
        "%%time\n",
        "\n",
        "def get_embs(text_list:[], path_model:str):\n",
        "    tokenizer = BertTokenizer.from_pretrained(path_model)\n",
        "    model = BertModel.from_pretrained(path_model)\n",
        "    hidden_size = model.config.hidden_size\n",
        "    embs = torch.zeros(len(df)*hidden_size).reshape(len(df), hidden_size)\n",
        "\n",
        "    for i, text in enumerate(text_list):\n",
        "        tokens = tokenizer(text, return_tensors='pt')\n",
        "        outs = model(**tokens, return_dict=True)\n",
        "        last_hidden_state = outs['last_hidden_state']\n",
        "        # cls = last_hidden_state[:,0, :].squeeze(0).detach().numpy()\n",
        "        \n",
        "        # without CLS and SEP\n",
        "        embs_mean = torch.einsum(\"ijk -> k\", last_hidden_state[:,1:-1,])#.detach().numpy()\n",
        "        embs[i] = embs_mean\n",
        "\n",
        "    return embs\n",
        "# --------------------------------------------------\n",
        "path_model = 'Itau-Unibanco/BERTau'\n",
        "embeddings = get_embs(df.text.to_list(), path_model)"
      ],
      "execution_count": 4,
      "outputs": [
        {
          "output_type": "display_data",
          "data": {
            "application/vnd.jupyter.widget-view+json": {
              "model_id": "0a844815fe9e4452b333cc426daf1fbe",
              "version_minor": 0,
              "version_major": 2
            },
            "text/plain": [
              "HBox(children=(FloatProgress(value=0.0, description='Downloading', max=268101.0, style=ProgressStyle(descripti…"
            ]
          },
          "metadata": {
            "tags": []
          }
        },
        {
          "output_type": "stream",
          "text": [
            "\n"
          ],
          "name": "stdout"
        },
        {
          "output_type": "display_data",
          "data": {
            "application/vnd.jupyter.widget-view+json": {
              "model_id": "b38fb53a174948489c91b37da5997fa1",
              "version_minor": 0,
              "version_major": 2
            },
            "text/plain": [
              "HBox(children=(FloatProgress(value=0.0, description='Downloading', max=288.0, style=ProgressStyle(description_…"
            ]
          },
          "metadata": {
            "tags": []
          }
        },
        {
          "output_type": "stream",
          "text": [
            "\n"
          ],
          "name": "stdout"
        },
        {
          "output_type": "display_data",
          "data": {
            "application/vnd.jupyter.widget-view+json": {
              "model_id": "af13dd2ea616488f969a41ecb5369a0a",
              "version_minor": 0,
              "version_major": 2
            },
            "text/plain": [
              "HBox(children=(FloatProgress(value=0.0, description='Downloading', max=451518251.0, style=ProgressStyle(descri…"
            ]
          },
          "metadata": {
            "tags": []
          }
        },
        {
          "output_type": "stream",
          "text": [
            "\n",
            "CPU times: user 13.4 s, sys: 1.48 s, total: 14.8 s\n",
            "Wall time: 24.3 s\n"
          ],
          "name": "stdout"
        }
      ]
    },
    {
      "cell_type": "markdown",
      "metadata": {
        "id": "TTeNI-0w7KEs"
      },
      "source": [
        "# K-Means"
      ]
    },
    {
      "cell_type": "code",
      "metadata": {
        "colab": {
          "base_uri": "https://localhost:8080/"
        },
        "id": "q02fEH3A4XeH",
        "outputId": "b41b4eea-2e15-4762-c43c-ce604cd1e78a"
      },
      "source": [
        "# Perform kmean clustering\n",
        "num_clusters = 8\n",
        "clustering_model = KMeans(n_clusters=num_clusters)\n",
        "clustering_model.fit(embeddings.detach().numpy())\n",
        "cluster_assignment = clustering_model.labels_\n",
        "\n",
        "clustered_sentences = [[] for i in range(num_clusters)]\n",
        "for sentence_id, cluster_id in enumerate(cluster_assignment):\n",
        "    clustered_sentences[cluster_id].append(df.text.to_list()[sentence_id])\n",
        "\n",
        "for i, cluster in enumerate(clustered_sentences):\n",
        "    print(\"Cluster \", i+1)\n",
        "    print(cluster)\n",
        "    print(\"\")"
      ],
      "execution_count": 5,
      "outputs": [
        {
          "output_type": "stream",
          "text": [
            "Cluster  1\n",
            "['arroz com feijão e batata frita', 'arroz com feijão e abobrinha', 'arroz com feijão batata frit', 'arroz com milho e feijão com couve', 'batata frita com legumes e soja', 'madioquinha com sopa de feijão']\n",
            "\n",
            "Cluster  2\n",
            "['paulo, eli, tom, planck, ozzy, mel, nina, pingado e gisele', 'jan, paulo, eli, tom, planck, ozzy, mel, nina, pingado e gisele']\n",
            "\n",
            "Cluster  3\n",
            "['ps1, ps2, ps3, ps4 e ps5', 'n64, snes, ps3, ps4 e ps5', 'ps1, ps2, n64, ps4 e ps5', 'ps5, ps4, ps3, ps2 e ps1', 'ps6, ps7, ps8, ps9 e ps10', 'ps10, ps2, ps3, ps4 e ps5']\n",
            "\n",
            "Cluster  4\n",
            "['feijão arroz e cenoura', 'arroz com bata frita', 'geladeira e fogão', 'microondas e geraleira', 'geladeira e mesa azul', 'criado-mudo e cama', 'cama e roupeiro', 'microondas e cama', 'mochila e roupeiro']\n",
            "\n",
            "Cluster  5\n",
            "['tom, planck, ozzy, mel, nina, pingado e gisele', 'tom, planck, ozzy, mel, nina, pingado gisele', 'paulo, tom, planck, ozzy, mel, nina, pingado e gisele']\n",
            "\n",
            "Cluster  6\n",
            "['ps1, n64, snes, switch', 'mega-drive, nes, snes', 'mega drive, n64, snes', 'megadrive, nes, n64', 'mega-drive, snes, nes', 'mega drive, nes, n64']\n",
            "\n",
            "Cluster  7\n",
            "['beterraba, chuchu e arroz com feijão']\n",
            "\n",
            "Cluster  8\n",
            "['arroz salada e mandioca', 'arroz feijo e batata fita', 'mesa, cadeira e escrivaninha', 'cadeira, mesa e escrivaninha', 'escrivaninha, mesa e cadeira', 'roupeiro, criado-mudo e cama', 'roupeiro e criado-mudo']\n",
            "\n"
          ],
          "name": "stdout"
        }
      ]
    },
    {
      "cell_type": "markdown",
      "metadata": {
        "id": "ZkqolBdk2kNR"
      },
      "source": [
        "# Agglomerative"
      ]
    },
    {
      "cell_type": "code",
      "metadata": {
        "id": "fyQKqy7P7RR6"
      },
      "source": [
        "from sklearn.cluster import AgglomerativeClustering\n",
        "import numpy as np"
      ],
      "execution_count": 6,
      "outputs": []
    },
    {
      "cell_type": "code",
      "metadata": {
        "colab": {
          "base_uri": "https://localhost:8080/"
        },
        "id": "eu1rcdlL7VDd",
        "outputId": "903cc0f0-7a53-495a-f872-05fcf7c53221"
      },
      "source": [
        "# Normalize the embeddings to unit length\n",
        "embeddings_ = embeddings.detach().numpy() /  np.linalg.norm(embeddings.detach().numpy(), axis=1, keepdims=True)\n",
        "\n",
        "# Perform kmean clustering\n",
        "\n",
        "#, affinity='cosine', linkage='average', distance_threshold=0.4)\n",
        "clustering_model = AgglomerativeClustering(n_clusters=None, distance_threshold=.8) \n",
        "clustering_model.fit(embeddings_)\n",
        "cluster_assignment = clustering_model.labels_\n",
        "\n",
        "clustered_sentences = {}\n",
        "for sentence_id, cluster_id in enumerate(cluster_assignment):\n",
        "    if cluster_id not in clustered_sentences:\n",
        "        clustered_sentences[cluster_id] = []\n",
        "\n",
        "    clustered_sentences[cluster_id].append(df.text.to_list()[sentence_id])\n",
        "\n",
        "for i, cluster in clustered_sentences.items():\n",
        "    print(\"Cluster \", i+1)\n",
        "    print(cluster)\n",
        "    print(\"\")"
      ],
      "execution_count": 7,
      "outputs": [
        {
          "output_type": "stream",
          "text": [
            "Cluster  3\n",
            "['arroz com feijão e batata frita', 'arroz com feijão e abobrinha', 'arroz com feijão batata frit', 'feijão arroz e cenoura', 'beterraba, chuchu e arroz com feijão', 'arroz com milho e feijão com couve', 'batata frita com legumes e soja', 'arroz com bata frita', 'madioquinha com sopa de feijão', 'arroz feijo e batata fita']\n",
            "\n",
            "Cluster  2\n",
            "['arroz salada e mandioca', 'mesa, cadeira e escrivaninha', 'cadeira, mesa e escrivaninha', 'escrivaninha, mesa e cadeira']\n",
            "\n",
            "Cluster  4\n",
            "['geladeira e fogão', 'geladeira e mesa azul', 'microondas e cama']\n",
            "\n",
            "Cluster  1\n",
            "['microondas e geraleira', 'roupeiro, criado-mudo e cama', 'criado-mudo e cama', 'roupeiro e criado-mudo', 'cama e roupeiro', 'mochila e roupeiro']\n",
            "\n",
            "Cluster  6\n",
            "['ps1, ps2, ps3, ps4 e ps5', 'ps1, ps2, n64, ps4 e ps5', 'ps5, ps4, ps3, ps2 e ps1', 'ps6, ps7, ps8, ps9 e ps10', 'ps10, ps2, ps3, ps4 e ps5']\n",
            "\n",
            "Cluster  5\n",
            "['n64, snes, ps3, ps4 e ps5', 'ps1, n64, snes, switch', 'mega-drive, nes, snes', 'mega drive, n64, snes', 'megadrive, nes, n64', 'mega-drive, snes, nes', 'mega drive, nes, n64']\n",
            "\n",
            "Cluster  7\n",
            "['tom, planck, ozzy, mel, nina, pingado e gisele', 'tom, planck, ozzy, mel, nina, pingado gisele', 'paulo, tom, planck, ozzy, mel, nina, pingado e gisele', 'paulo, eli, tom, planck, ozzy, mel, nina, pingado e gisele', 'jan, paulo, eli, tom, planck, ozzy, mel, nina, pingado e gisele']\n",
            "\n"
          ],
          "name": "stdout"
        }
      ]
    },
    {
      "cell_type": "markdown",
      "metadata": {
        "id": "T3e5e5TOfJkk"
      },
      "source": [
        "# BERTaú Topic"
      ]
    },
    {
      "cell_type": "code",
      "metadata": {
        "id": "gmrCerY8cU1H"
      },
      "source": [
        "! pip install -q umap-learn\n",
        "! pip install -q hdbscan"
      ],
      "execution_count": 33,
      "outputs": []
    },
    {
      "cell_type": "code",
      "metadata": {
        "id": "ywTHw0nZfMy4"
      },
      "source": [
        "import umap\n",
        "import hdbscan\n",
        "import matplotlib.pyplot as plt"
      ],
      "execution_count": null,
      "outputs": []
    },
    {
      "cell_type": "code",
      "metadata": {
        "id": "7dk98yW0aGSk"
      },
      "source": [
        "umap_embeddings = umap.UMAP(n_neighbors=15, \n",
        "                            n_components=5, \n",
        "                            metric='cosine').fit_transform(embeddings.detach().numpy())"
      ],
      "execution_count": 12,
      "outputs": []
    },
    {
      "cell_type": "code",
      "metadata": {
        "id": "RqP7ZZSScT2J"
      },
      "source": [
        "cluster = hdbscan.HDBSCAN(min_cluster_size=15,\n",
        "                          metric='euclidean',                      \n",
        "                          cluster_selection_method='eom').fit(umap_embeddings)"
      ],
      "execution_count": 13,
      "outputs": []
    },
    {
      "cell_type": "code",
      "metadata": {
        "colab": {
          "base_uri": "https://localhost:8080/",
          "height": 1000
        },
        "id": "ozNlfycqd8bp",
        "outputId": "36d7c09d-5304-4c56-8125-1c2579987cfb"
      },
      "source": [
        "# Prepare data\n",
        "umap_data = umap.UMAP(n_neighbors=5, n_components=2, min_dist=0.0, metric='cosine').fit_transform(embeddings.detach().numpy())\n",
        "result = pd.DataFrame(umap_data, columns=['x', 'y'])\n",
        "result['labels'] = cluster.labels_\n",
        "\n",
        "result"
      ],
      "execution_count": 24,
      "outputs": [
        {
          "output_type": "execute_result",
          "data": {
            "text/html": [
              "<div>\n",
              "<style scoped>\n",
              "    .dataframe tbody tr th:only-of-type {\n",
              "        vertical-align: middle;\n",
              "    }\n",
              "\n",
              "    .dataframe tbody tr th {\n",
              "        vertical-align: top;\n",
              "    }\n",
              "\n",
              "    .dataframe thead th {\n",
              "        text-align: right;\n",
              "    }\n",
              "</style>\n",
              "<table border=\"1\" class=\"dataframe\">\n",
              "  <thead>\n",
              "    <tr style=\"text-align: right;\">\n",
              "      <th></th>\n",
              "      <th>x</th>\n",
              "      <th>y</th>\n",
              "      <th>labels</th>\n",
              "    </tr>\n",
              "  </thead>\n",
              "  <tbody>\n",
              "    <tr>\n",
              "      <th>0</th>\n",
              "      <td>11.557990</td>\n",
              "      <td>-2.539973</td>\n",
              "      <td>0</td>\n",
              "    </tr>\n",
              "    <tr>\n",
              "      <th>1</th>\n",
              "      <td>13.007361</td>\n",
              "      <td>-0.930544</td>\n",
              "      <td>0</td>\n",
              "    </tr>\n",
              "    <tr>\n",
              "      <th>2</th>\n",
              "      <td>12.174338</td>\n",
              "      <td>-2.865076</td>\n",
              "      <td>0</td>\n",
              "    </tr>\n",
              "    <tr>\n",
              "      <th>3</th>\n",
              "      <td>11.949113</td>\n",
              "      <td>-2.228929</td>\n",
              "      <td>0</td>\n",
              "    </tr>\n",
              "    <tr>\n",
              "      <th>4</th>\n",
              "      <td>11.551455</td>\n",
              "      <td>-2.850513</td>\n",
              "      <td>0</td>\n",
              "    </tr>\n",
              "    <tr>\n",
              "      <th>5</th>\n",
              "      <td>12.887666</td>\n",
              "      <td>-1.389477</td>\n",
              "      <td>0</td>\n",
              "    </tr>\n",
              "    <tr>\n",
              "      <th>6</th>\n",
              "      <td>12.258449</td>\n",
              "      <td>-2.385958</td>\n",
              "      <td>0</td>\n",
              "    </tr>\n",
              "    <tr>\n",
              "      <th>7</th>\n",
              "      <td>11.513174</td>\n",
              "      <td>-2.070125</td>\n",
              "      <td>0</td>\n",
              "    </tr>\n",
              "    <tr>\n",
              "      <th>8</th>\n",
              "      <td>11.715192</td>\n",
              "      <td>-2.410806</td>\n",
              "      <td>0</td>\n",
              "    </tr>\n",
              "    <tr>\n",
              "      <th>9</th>\n",
              "      <td>11.934608</td>\n",
              "      <td>-2.904753</td>\n",
              "      <td>0</td>\n",
              "    </tr>\n",
              "    <tr>\n",
              "      <th>10</th>\n",
              "      <td>11.324702</td>\n",
              "      <td>-2.312144</td>\n",
              "      <td>0</td>\n",
              "    </tr>\n",
              "    <tr>\n",
              "      <th>11</th>\n",
              "      <td>13.168857</td>\n",
              "      <td>-0.677484</td>\n",
              "      <td>0</td>\n",
              "    </tr>\n",
              "    <tr>\n",
              "      <th>12</th>\n",
              "      <td>13.401726</td>\n",
              "      <td>-0.437940</td>\n",
              "      <td>0</td>\n",
              "    </tr>\n",
              "    <tr>\n",
              "      <th>13</th>\n",
              "      <td>13.352152</td>\n",
              "      <td>-0.472559</td>\n",
              "      <td>0</td>\n",
              "    </tr>\n",
              "    <tr>\n",
              "      <th>14</th>\n",
              "      <td>14.236804</td>\n",
              "      <td>0.280805</td>\n",
              "      <td>0</td>\n",
              "    </tr>\n",
              "    <tr>\n",
              "      <th>15</th>\n",
              "      <td>14.321272</td>\n",
              "      <td>-0.059554</td>\n",
              "      <td>0</td>\n",
              "    </tr>\n",
              "    <tr>\n",
              "      <th>16</th>\n",
              "      <td>14.174643</td>\n",
              "      <td>0.229884</td>\n",
              "      <td>0</td>\n",
              "    </tr>\n",
              "    <tr>\n",
              "      <th>17</th>\n",
              "      <td>14.679350</td>\n",
              "      <td>-0.824870</td>\n",
              "      <td>0</td>\n",
              "    </tr>\n",
              "    <tr>\n",
              "      <th>18</th>\n",
              "      <td>14.334916</td>\n",
              "      <td>-0.612859</td>\n",
              "      <td>0</td>\n",
              "    </tr>\n",
              "    <tr>\n",
              "      <th>19</th>\n",
              "      <td>15.193283</td>\n",
              "      <td>-0.766155</td>\n",
              "      <td>0</td>\n",
              "    </tr>\n",
              "    <tr>\n",
              "      <th>20</th>\n",
              "      <td>15.181470</td>\n",
              "      <td>-1.127096</td>\n",
              "      <td>0</td>\n",
              "    </tr>\n",
              "    <tr>\n",
              "      <th>21</th>\n",
              "      <td>14.325215</td>\n",
              "      <td>0.332459</td>\n",
              "      <td>0</td>\n",
              "    </tr>\n",
              "    <tr>\n",
              "      <th>22</th>\n",
              "      <td>15.111431</td>\n",
              "      <td>-1.051559</td>\n",
              "      <td>0</td>\n",
              "    </tr>\n",
              "    <tr>\n",
              "      <th>23</th>\n",
              "      <td>-2.582350</td>\n",
              "      <td>36.085018</td>\n",
              "      <td>1</td>\n",
              "    </tr>\n",
              "    <tr>\n",
              "      <th>24</th>\n",
              "      <td>-2.890589</td>\n",
              "      <td>36.519142</td>\n",
              "      <td>1</td>\n",
              "    </tr>\n",
              "    <tr>\n",
              "      <th>25</th>\n",
              "      <td>-2.693559</td>\n",
              "      <td>36.375919</td>\n",
              "      <td>1</td>\n",
              "    </tr>\n",
              "    <tr>\n",
              "      <th>26</th>\n",
              "      <td>-2.361984</td>\n",
              "      <td>36.369671</td>\n",
              "      <td>1</td>\n",
              "    </tr>\n",
              "    <tr>\n",
              "      <th>27</th>\n",
              "      <td>-6.673776</td>\n",
              "      <td>12.528773</td>\n",
              "      <td>1</td>\n",
              "    </tr>\n",
              "    <tr>\n",
              "      <th>28</th>\n",
              "      <td>-2.744782</td>\n",
              "      <td>36.156189</td>\n",
              "      <td>1</td>\n",
              "    </tr>\n",
              "    <tr>\n",
              "      <th>29</th>\n",
              "      <td>-2.421134</td>\n",
              "      <td>35.989639</td>\n",
              "      <td>1</td>\n",
              "    </tr>\n",
              "    <tr>\n",
              "      <th>30</th>\n",
              "      <td>-7.091944</td>\n",
              "      <td>12.431660</td>\n",
              "      <td>1</td>\n",
              "    </tr>\n",
              "    <tr>\n",
              "      <th>31</th>\n",
              "      <td>-6.969318</td>\n",
              "      <td>12.358097</td>\n",
              "      <td>1</td>\n",
              "    </tr>\n",
              "    <tr>\n",
              "      <th>32</th>\n",
              "      <td>-6.886055</td>\n",
              "      <td>11.659734</td>\n",
              "      <td>1</td>\n",
              "    </tr>\n",
              "    <tr>\n",
              "      <th>33</th>\n",
              "      <td>-6.878193</td>\n",
              "      <td>12.239294</td>\n",
              "      <td>1</td>\n",
              "    </tr>\n",
              "    <tr>\n",
              "      <th>34</th>\n",
              "      <td>-7.063825</td>\n",
              "      <td>12.044885</td>\n",
              "      <td>1</td>\n",
              "    </tr>\n",
              "    <tr>\n",
              "      <th>35</th>\n",
              "      <td>-6.620245</td>\n",
              "      <td>10.250227</td>\n",
              "      <td>1</td>\n",
              "    </tr>\n",
              "    <tr>\n",
              "      <th>36</th>\n",
              "      <td>-6.680966</td>\n",
              "      <td>9.880369</td>\n",
              "      <td>1</td>\n",
              "    </tr>\n",
              "    <tr>\n",
              "      <th>37</th>\n",
              "      <td>-6.420997</td>\n",
              "      <td>9.933212</td>\n",
              "      <td>1</td>\n",
              "    </tr>\n",
              "    <tr>\n",
              "      <th>38</th>\n",
              "      <td>-6.516182</td>\n",
              "      <td>10.034777</td>\n",
              "      <td>1</td>\n",
              "    </tr>\n",
              "    <tr>\n",
              "      <th>39</th>\n",
              "      <td>-6.621861</td>\n",
              "      <td>9.814905</td>\n",
              "      <td>1</td>\n",
              "    </tr>\n",
              "  </tbody>\n",
              "</table>\n",
              "</div>"
            ],
            "text/plain": [
              "            x          y  labels\n",
              "0   11.557990  -2.539973       0\n",
              "1   13.007361  -0.930544       0\n",
              "2   12.174338  -2.865076       0\n",
              "3   11.949113  -2.228929       0\n",
              "4   11.551455  -2.850513       0\n",
              "5   12.887666  -1.389477       0\n",
              "6   12.258449  -2.385958       0\n",
              "7   11.513174  -2.070125       0\n",
              "8   11.715192  -2.410806       0\n",
              "9   11.934608  -2.904753       0\n",
              "10  11.324702  -2.312144       0\n",
              "11  13.168857  -0.677484       0\n",
              "12  13.401726  -0.437940       0\n",
              "13  13.352152  -0.472559       0\n",
              "14  14.236804   0.280805       0\n",
              "15  14.321272  -0.059554       0\n",
              "16  14.174643   0.229884       0\n",
              "17  14.679350  -0.824870       0\n",
              "18  14.334916  -0.612859       0\n",
              "19  15.193283  -0.766155       0\n",
              "20  15.181470  -1.127096       0\n",
              "21  14.325215   0.332459       0\n",
              "22  15.111431  -1.051559       0\n",
              "23  -2.582350  36.085018       1\n",
              "24  -2.890589  36.519142       1\n",
              "25  -2.693559  36.375919       1\n",
              "26  -2.361984  36.369671       1\n",
              "27  -6.673776  12.528773       1\n",
              "28  -2.744782  36.156189       1\n",
              "29  -2.421134  35.989639       1\n",
              "30  -7.091944  12.431660       1\n",
              "31  -6.969318  12.358097       1\n",
              "32  -6.886055  11.659734       1\n",
              "33  -6.878193  12.239294       1\n",
              "34  -7.063825  12.044885       1\n",
              "35  -6.620245  10.250227       1\n",
              "36  -6.680966   9.880369       1\n",
              "37  -6.420997   9.933212       1\n",
              "38  -6.516182  10.034777       1\n",
              "39  -6.621861   9.814905       1"
            ]
          },
          "metadata": {
            "tags": []
          },
          "execution_count": 24
        }
      ]
    },
    {
      "cell_type": "code",
      "metadata": {
        "colab": {
          "base_uri": "https://localhost:8080/",
          "height": 614
        },
        "id": "GfMXhggbeDZH",
        "outputId": "16615401-1370-41a1-ae6e-7dd02169a5fe"
      },
      "source": [
        "# Visualize clusters\n",
        "fig, ax = plt.subplots(figsize=(20, 10))\n",
        "outliers = result.loc[result.labels == -1, :]\n",
        "clustered = result.loc[result.labels != -1, :]\n",
        "plt.scatter(outliers.x, outliers.y, color='#BDBDBD', s=0.05)\n",
        "plt.scatter(clustered.x, clustered.y, c=clustered.labels, s=50, cmap='hsv_r')\n",
        "plt.colorbar()"
      ],
      "execution_count": 31,
      "outputs": [
        {
          "output_type": "execute_result",
          "data": {
            "text/plain": [
              "<matplotlib.colorbar.Colorbar at 0x7f178045cc90>"
            ]
          },
          "metadata": {
            "tags": []
          },
          "execution_count": 31
        },
        {
          "output_type": "display_data",
          "data": {
            "image/png": "[encoded data removed]",
            "text/plain": [
              "<Figure size 1440x720 with 2 Axes>"
            ]
          },
          "metadata": {
            "tags": [],
            "needs_background": "light"
          }
        }
      ]
    },
    {
      "cell_type": "code",
      "metadata": {
        "id": "EsMK0EKxeuZp"
      },
      "source": [
        "# see https://towardsdatascience.com/topic-modeling-with-bert-779f7db187e6\n",
        "\n",
        "docs_df = pd.DataFrame(data, columns=[\"doc\"])\n",
        "docs_df['Topic'] = cluster.labels_\n",
        "docs_df['Doc_ID'] = range(len(docs_df))\n",
        "docs_per_topic = docs_df.groupby(['Topic'], as_index = False).agg({'Doc': ' '.join})"
      ],
      "execution_count": null,
      "outputs": []
    },
    {
      "cell_type": "code",
      "metadata": {
        "id": "LbpVbY-Sfyr1"
      },
      "source": [
        ""
      ],
      "execution_count": null,
      "outputs": []
    }
  ]
}