{
  "nbformat": 4,
  "nbformat_minor": 0,
  "metadata": {
    "colab": {
      "name": "QUORA - MultiTask-Learning.ipynb",
      "provenance": [],
      "mount_file_id": "1XIIC25AnrIweoEi23Tlkt-nW60KD_BHQ",
      "authorship_tag": "ABX9TyONU1MMEuzjErdAv5Gfw6LI",
      "include_colab_link": true
    },
    "kernelspec": {
      "name": "python3",
      "display_name": "Python 3"
    },
    "accelerator": "GPU",
    "widgets": {
      "application/vnd.jupyter.widget-state+json": {
        "cc61d4493ba9403a8aad8f4bf3fc3f89": {
          "model_module": "@jupyter-widgets/controls",
          "model_name": "HBoxModel",
          "state": {
            "_view_name": "HBoxView",
            "_dom_classes": [],
            "_model_name": "HBoxModel",
            "_view_module": "@jupyter-widgets/controls",
            "_model_module_version": "1.5.0",
            "_view_count": null,
            "_view_module_version": "1.5.0",
            "box_style": "",
            "layout": "IPY_MODEL_5968c700a37040dea749d2d4debe8e3e",
            "_model_module": "@jupyter-widgets/controls",
            "children": [
              "IPY_MODEL_2a5b5f9f67e24bacaa734edca621dedd",
              "IPY_MODEL_45bb11a334194af68058a1c09cb9a537"
            ]
          }
        },
        "5968c700a37040dea749d2d4debe8e3e": {
          "model_module": "@jupyter-widgets/base",
          "model_name": "LayoutModel",
          "state": {
            "_view_name": "LayoutView",
            "grid_template_rows": null,
            "right": null,
            "justify_content": null,
            "_view_module": "@jupyter-widgets/base",
            "overflow": null,
            "_model_module_version": "1.2.0",
            "_view_count": null,
            "flex_flow": null,
            "width": null,
            "min_width": null,
            "border": null,
            "align_items": null,
            "bottom": null,
            "_model_module": "@jupyter-widgets/base",
            "top": null,
            "grid_column": null,
            "overflow_y": null,
            "overflow_x": null,
            "grid_auto_flow": null,
            "grid_area": null,
            "grid_template_columns": null,
            "flex": null,
            "_model_name": "LayoutModel",
            "justify_items": null,
            "grid_row": null,
            "max_height": null,
            "align_content": null,
            "visibility": null,
            "align_self": null,
            "height": null,
            "min_height": null,
            "padding": null,
            "grid_auto_rows": null,
            "grid_gap": null,
            "max_width": null,
            "order": null,
            "_view_module_version": "1.2.0",
            "grid_template_areas": null,
            "object_position": null,
            "object_fit": null,
            "grid_auto_columns": null,
            "margin": null,
            "display": null,
            "left": null
          }
        },
        "2a5b5f9f67e24bacaa734edca621dedd": {
          "model_module": "@jupyter-widgets/controls",
          "model_name": "FloatProgressModel",
          "state": {
            "_view_name": "ProgressView",
            "style": "IPY_MODEL_3e2d3a81bbfe4eb8bb962d3ccffc590c",
            "_dom_classes": [],
            "description": "Epoch: 100%",
            "_model_name": "FloatProgressModel",
            "bar_style": "success",
            "max": 1,
            "_view_module": "@jupyter-widgets/controls",
            "_model_module_version": "1.5.0",
            "value": 1,
            "_view_count": null,
            "_view_module_version": "1.5.0",
            "orientation": "horizontal",
            "min": 0,
            "description_tooltip": null,
            "_model_module": "@jupyter-widgets/controls",
            "layout": "IPY_MODEL_2bb3fb8339934b399a0dd8337f68afb1"
          }
        },
        "45bb11a334194af68058a1c09cb9a537": {
          "model_module": "@jupyter-widgets/controls",
          "model_name": "HTMLModel",
          "state": {
            "_view_name": "HTMLView",
            "style": "IPY_MODEL_d8122eeddd73419a86121d5641b8d598",
            "_dom_classes": [],
            "description": "",
            "_model_name": "HTMLModel",
            "placeholder": "​",
            "_view_module": "@jupyter-widgets/controls",
            "_model_module_version": "1.5.0",
            "value": " 1/1 [32:23&lt;00:00, 1943.43s/it]",
            "_view_count": null,
            "_view_module_version": "1.5.0",
            "description_tooltip": null,
            "_model_module": "@jupyter-widgets/controls",
            "layout": "IPY_MODEL_64268f1f62da4d1a9ebd6133c3354493"
          }
        },
        "3e2d3a81bbfe4eb8bb962d3ccffc590c": {
          "model_module": "@jupyter-widgets/controls",
          "model_name": "ProgressStyleModel",
          "state": {
            "_view_name": "StyleView",
            "_model_name": "ProgressStyleModel",
            "description_width": "initial",
            "_view_module": "@jupyter-widgets/base",
            "_model_module_version": "1.5.0",
            "_view_count": null,
            "_view_module_version": "1.2.0",
            "bar_color": null,
            "_model_module": "@jupyter-widgets/controls"
          }
        },
        "2bb3fb8339934b399a0dd8337f68afb1": {
          "model_module": "@jupyter-widgets/base",
          "model_name": "LayoutModel",
          "state": {
            "_view_name": "LayoutView",
            "grid_template_rows": null,
            "right": null,
            "justify_content": null,
            "_view_module": "@jupyter-widgets/base",
            "overflow": null,
            "_model_module_version": "1.2.0",
            "_view_count": null,
            "flex_flow": null,
            "width": null,
            "min_width": null,
            "border": null,
            "align_items": null,
            "bottom": null,
            "_model_module": "@jupyter-widgets/base",
            "top": null,
            "grid_column": null,
            "overflow_y": null,
            "overflow_x": null,
            "grid_auto_flow": null,
            "grid_area": null,
            "grid_template_columns": null,
            "flex": null,
            "_model_name": "LayoutModel",
            "justify_items": null,
            "grid_row": null,
            "max_height": null,
            "align_content": null,
            "visibility": null,
            "align_self": null,
            "height": null,
            "min_height": null,
            "padding": null,
            "grid_auto_rows": null,
            "grid_gap": null,
            "max_width": null,
            "order": null,
            "_view_module_version": "1.2.0",
            "grid_template_areas": null,
            "object_position": null,
            "object_fit": null,
            "grid_auto_columns": null,
            "margin": null,
            "display": null,
            "left": null
          }
        },
        "d8122eeddd73419a86121d5641b8d598": {
          "model_module": "@jupyter-widgets/controls",
          "model_name": "DescriptionStyleModel",
          "state": {
            "_view_name": "StyleView",
            "_model_name": "DescriptionStyleModel",
            "description_width": "",
            "_view_module": "@jupyter-widgets/base",
            "_model_module_version": "1.5.0",
            "_view_count": null,
            "_view_module_version": "1.2.0",
            "_model_module": "@jupyter-widgets/controls"
          }
        },
        "64268f1f62da4d1a9ebd6133c3354493": {
          "model_module": "@jupyter-widgets/base",
          "model_name": "LayoutModel",
          "state": {
            "_view_name": "LayoutView",
            "grid_template_rows": null,
            "right": null,
            "justify_content": null,
            "_view_module": "@jupyter-widgets/base",
            "overflow": null,
            "_model_module_version": "1.2.0",
            "_view_count": null,
            "flex_flow": null,
            "width": null,
            "min_width": null,
            "border": null,
            "align_items": null,
            "bottom": null,
            "_model_module": "@jupyter-widgets/base",
            "top": null,
            "grid_column": null,
            "overflow_y": null,
            "overflow_x": null,
            "grid_auto_flow": null,
            "grid_area": null,
            "grid_template_columns": null,
            "flex": null,
            "_model_name": "LayoutModel",
            "justify_items": null,
            "grid_row": null,
            "max_height": null,
            "align_content": null,
            "visibility": null,
            "align_self": null,
            "height": null,
            "min_height": null,
            "padding": null,
            "grid_auto_rows": null,
            "grid_gap": null,
            "max_width": null,
            "order": null,
            "_view_module_version": "1.2.0",
            "grid_template_areas": null,
            "object_position": null,
            "object_fit": null,
            "grid_auto_columns": null,
            "margin": null,
            "display": null,
            "left": null
          }
        },
        "8aff252720f1484eae0d962f2cff2099": {
          "model_module": "@jupyter-widgets/controls",
          "model_name": "HBoxModel",
          "state": {
            "_view_name": "HBoxView",
            "_dom_classes": [],
            "_model_name": "HBoxModel",
            "_view_module": "@jupyter-widgets/controls",
            "_model_module_version": "1.5.0",
            "_view_count": null,
            "_view_module_version": "1.5.0",
            "box_style": "",
            "layout": "IPY_MODEL_40528619821d45058491ff41e681ad24",
            "_model_module": "@jupyter-widgets/controls",
            "children": [
              "IPY_MODEL_7a34221aecb3441b8d3b246cf305a611",
              "IPY_MODEL_be5fbc2e9be14eca8371d07b0ede4cab"
            ]
          }
        },
        "40528619821d45058491ff41e681ad24": {
          "model_module": "@jupyter-widgets/base",
          "model_name": "LayoutModel",
          "state": {
            "_view_name": "LayoutView",
            "grid_template_rows": null,
            "right": null,
            "justify_content": null,
            "_view_module": "@jupyter-widgets/base",
            "overflow": null,
            "_model_module_version": "1.2.0",
            "_view_count": null,
            "flex_flow": null,
            "width": null,
            "min_width": null,
            "border": null,
            "align_items": null,
            "bottom": null,
            "_model_module": "@jupyter-widgets/base",
            "top": null,
            "grid_column": null,
            "overflow_y": null,
            "overflow_x": null,
            "grid_auto_flow": null,
            "grid_area": null,
            "grid_template_columns": null,
            "flex": null,
            "_model_name": "LayoutModel",
            "justify_items": null,
            "grid_row": null,
            "max_height": null,
            "align_content": null,
            "visibility": null,
            "align_self": null,
            "height": null,
            "min_height": null,
            "padding": null,
            "grid_auto_rows": null,
            "grid_gap": null,
            "max_width": null,
            "order": null,
            "_view_module_version": "1.2.0",
            "grid_template_areas": null,
            "object_position": null,
            "object_fit": null,
            "grid_auto_columns": null,
            "margin": null,
            "display": null,
            "left": null
          }
        },
        "7a34221aecb3441b8d3b246cf305a611": {
          "model_module": "@jupyter-widgets/controls",
          "model_name": "FloatProgressModel",
          "state": {
            "_view_name": "ProgressView",
            "style": "IPY_MODEL_530a60529c7749f1bb80b41995ba5ddf",
            "_dom_classes": [],
            "description": "Iteration: 100%",
            "_model_name": "FloatProgressModel",
            "bar_style": "success",
            "max": 3240,
            "_view_module": "@jupyter-widgets/controls",
            "_model_module_version": "1.5.0",
            "value": 3240,
            "_view_count": null,
            "_view_module_version": "1.5.0",
            "orientation": "horizontal",
            "min": 0,
            "description_tooltip": null,
            "_model_module": "@jupyter-widgets/controls",
            "layout": "IPY_MODEL_2d191517521d436bb7a7e99299dcfbce"
          }
        },
        "be5fbc2e9be14eca8371d07b0ede4cab": {
          "model_module": "@jupyter-widgets/controls",
          "model_name": "HTMLModel",
          "state": {
            "_view_name": "HTMLView",
            "style": "IPY_MODEL_20054d7be62241808e5d5dd5ea26814f",
            "_dom_classes": [],
            "description": "",
            "_model_name": "HTMLModel",
            "placeholder": "​",
            "_view_module": "@jupyter-widgets/controls",
            "_model_module_version": "1.5.0",
            "value": " 3240/3240 [30:23&lt;00:00,  1.78it/s]",
            "_view_count": null,
            "_view_module_version": "1.5.0",
            "description_tooltip": null,
            "_model_module": "@jupyter-widgets/controls",
            "layout": "IPY_MODEL_32ea6adaf700490f807fbcece676a5ea"
          }
        },
        "530a60529c7749f1bb80b41995ba5ddf": {
          "model_module": "@jupyter-widgets/controls",
          "model_name": "ProgressStyleModel",
          "state": {
            "_view_name": "StyleView",
            "_model_name": "ProgressStyleModel",
            "description_width": "initial",
            "_view_module": "@jupyter-widgets/base",
            "_model_module_version": "1.5.0",
            "_view_count": null,
            "_view_module_version": "1.2.0",
            "bar_color": null,
            "_model_module": "@jupyter-widgets/controls"
          }
        },
        "2d191517521d436bb7a7e99299dcfbce": {
          "model_module": "@jupyter-widgets/base",
          "model_name": "LayoutModel",
          "state": {
            "_view_name": "LayoutView",
            "grid_template_rows": null,
            "right": null,
            "justify_content": null,
            "_view_module": "@jupyter-widgets/base",
            "overflow": null,
            "_model_module_version": "1.2.0",
            "_view_count": null,
            "flex_flow": null,
            "width": null,
            "min_width": null,
            "border": null,
            "align_items": null,
            "bottom": null,
            "_model_module": "@jupyter-widgets/base",
            "top": null,
            "grid_column": null,
            "overflow_y": null,
            "overflow_x": null,
            "grid_auto_flow": null,
            "grid_area": null,
            "grid_template_columns": null,
            "flex": null,
            "_model_name": "LayoutModel",
            "justify_items": null,
            "grid_row": null,
            "max_height": null,
            "align_content": null,
            "visibility": null,
            "align_self": null,
            "height": null,
            "min_height": null,
            "padding": null,
            "grid_auto_rows": null,
            "grid_gap": null,
            "max_width": null,
            "order": null,
            "_view_module_version": "1.2.0",
            "grid_template_areas": null,
            "object_position": null,
            "object_fit": null,
            "grid_auto_columns": null,
            "margin": null,
            "display": null,
            "left": null
          }
        },
        "20054d7be62241808e5d5dd5ea26814f": {
          "model_module": "@jupyter-widgets/controls",
          "model_name": "DescriptionStyleModel",
          "state": {
            "_view_name": "StyleView",
            "_model_name": "DescriptionStyleModel",
            "description_width": "",
            "_view_module": "@jupyter-widgets/base",
            "_model_module_version": "1.5.0",
            "_view_count": null,
            "_view_module_version": "1.2.0",
            "_model_module": "@jupyter-widgets/controls"
          }
        },
        "32ea6adaf700490f807fbcece676a5ea": {
          "model_module": "@jupyter-widgets/base",
          "model_name": "LayoutModel",
          "state": {
            "_view_name": "LayoutView",
            "grid_template_rows": null,
            "right": null,
            "justify_content": null,
            "_view_module": "@jupyter-widgets/base",
            "overflow": null,
            "_model_module_version": "1.2.0",
            "_view_count": null,
            "flex_flow": null,
            "width": null,
            "min_width": null,
            "border": null,
            "align_items": null,
            "bottom": null,
            "_model_module": "@jupyter-widgets/base",
            "top": null,
            "grid_column": null,
            "overflow_y": null,
            "overflow_x": null,
            "grid_auto_flow": null,
            "grid_area": null,
            "grid_template_columns": null,
            "flex": null,
            "_model_name": "LayoutModel",
            "justify_items": null,
            "grid_row": null,
            "max_height": null,
            "align_content": null,
            "visibility": null,
            "align_self": null,
            "height": null,
            "min_height": null,
            "padding": null,
            "grid_auto_rows": null,
            "grid_gap": null,
            "max_width": null,
            "order": null,
            "_view_module_version": "1.2.0",
            "grid_template_areas": null,
            "object_position": null,
            "object_fit": null,
            "grid_auto_columns": null,
            "margin": null,
            "display": null,
            "left": null
          }
        }
      }
    }
  },
  "cells": [
    {
      "cell_type": "markdown",
      "metadata": {
        "id": "view-in-github",
        "colab_type": "text"
      },
      "source": [
        "<a href=\"https://colab.research.google.com/github/finardi/tutos/blob/master/QUORA_MultiTask_Learning.ipynb\" target=\"_parent\"><img src=\"https://colab.research.google.com/assets/colab-badge.svg\" alt=\"Open In Colab\"/></a>"
      ]
    },
    {
      "cell_type": "code",
      "metadata": {
        "id": "yVv19Wnsy-7E",
        "colab_type": "code",
        "colab": {
          "base_uri": "https://localhost:8080/",
          "height": 357
        },
        "outputId": "c912c72e-fc60-4046-e185-cc04afe6352c"
      },
      "source": [
        "!nvidia-smi"
      ],
      "execution_count": 1,
      "outputs": [
        {
          "output_type": "stream",
          "text": [
            "Sun Sep  6 23:41:53 2020       \n",
            "+-----------------------------------------------------------------------------+\n",
            "| NVIDIA-SMI 450.66       Driver Version: 418.67       CUDA Version: 10.1     |\n",
            "|-------------------------------+----------------------+----------------------+\n",
            "| GPU  Name        Persistence-M| Bus-Id        Disp.A | Volatile Uncorr. ECC |\n",
            "| Fan  Temp  Perf  Pwr:Usage/Cap|         Memory-Usage | GPU-Util  Compute M. |\n",
            "|                               |                      |               MIG M. |\n",
            "|===============================+======================+======================|\n",
            "|   0  Tesla T4            Off  | 00000000:00:04.0 Off |                    0 |\n",
            "| N/A   37C    P8     9W /  70W |      0MiB / 15079MiB |      0%      Default |\n",
            "|                               |                      |                 ERR! |\n",
            "+-------------------------------+----------------------+----------------------+\n",
            "                                                                               \n",
            "+-----------------------------------------------------------------------------+\n",
            "| Processes:                                                                  |\n",
            "|  GPU   GI   CI        PID   Type   Process name                  GPU Memory |\n",
            "|        ID   ID                                                   Usage      |\n",
            "|=============================================================================|\n",
            "|  No running processes found                                                 |\n",
            "+-----------------------------------------------------------------------------+\n"
          ],
          "name": "stdout"
        }
      ]
    },
    {
      "cell_type": "code",
      "metadata": {
        "id": "UxKCGMiiPabZ",
        "colab_type": "code",
        "colab": {
          "base_uri": "https://localhost:8080/",
          "height": 136
        },
        "outputId": "85b4f621-8cb6-4c80-f21d-cd2207078653"
      },
      "source": [
        "!pip install -q sentence_transformers"
      ],
      "execution_count": 1,
      "outputs": [
        {
          "output_type": "stream",
          "text": [
            "\u001b[K     |████████████████████████████████| 71kB 3.2MB/s \n",
            "\u001b[K     |████████████████████████████████| 778kB 7.5MB/s \n",
            "\u001b[K     |████████████████████████████████| 890kB 11.9MB/s \n",
            "\u001b[K     |████████████████████████████████| 3.0MB 13.0MB/s \n",
            "\u001b[K     |████████████████████████████████| 1.1MB 59.2MB/s \n",
            "\u001b[?25h  Building wheel for sentence-transformers (setup.py) ... \u001b[?25l\u001b[?25hdone\n",
            "  Building wheel for sacremoses (setup.py) ... \u001b[?25l\u001b[?25hdone\n"
          ],
          "name": "stdout"
        }
      ]
    },
    {
      "cell_type": "code",
      "metadata": {
        "id": "JirTNPGuPZlP",
        "colab_type": "code",
        "colab": {}
      },
      "source": [
        "#basic \n",
        "import os\n",
        "import random\n",
        "import csv\n",
        "import logging\n",
        "import pandas as pd\n",
        "from datetime import datetime\n",
        "\n",
        "#plot\n",
        "import seaborn as sns\n",
        "import matplotlib.pyplot as plt\n",
        "\n",
        "#sbert\n",
        "from sentence_transformers import SentencesDataset, SentenceTransformer\n",
        "from sentence_transformers import  evaluation, losses, util, LoggingHandler\n",
        "from sentence_transformers.readers import InputExample\n",
        "\n",
        "#torch\n",
        "import torch\n",
        "from torch.utils.data import DataLoader"
      ],
      "execution_count": 3,
      "outputs": []
    },
    {
      "cell_type": "code",
      "metadata": {
        "id": "buoA3hSOTyrT",
        "colab_type": "code",
        "colab": {}
      },
      "source": [
        "# print logging\n",
        "logging.basicConfig(format='%(asctime)s - %(message)s',\n",
        "                    datefmt='%Y-%m-%d %H:%M:%S',\n",
        "                    level=logging.INFO,\n",
        "                    handlers=[LoggingHandler()])"
      ],
      "execution_count": 4,
      "outputs": []
    },
    {
      "cell_type": "code",
      "metadata": {
        "id": "NGQeFTJDQSR9",
        "colab_type": "code",
        "colab": {}
      },
      "source": [
        "dataset_path = '/content/drive/My Drive/Colab Notebooks/BERT/QUORA/quora-IR-dataset'"
      ],
      "execution_count": 5,
      "outputs": []
    },
    {
      "cell_type": "code",
      "metadata": {
        "id": "PUoaedd2YXDJ",
        "colab_type": "code",
        "colab": {
          "base_uri": "https://localhost:8080/",
          "height": 419
        },
        "outputId": "b62f85c9-a84e-45d0-ea1a-8d5ada514cde"
      },
      "source": [
        "data = pd.read_csv(dataset_path+\"/classification/train_pairs.tsv\", sep='\\t', encoding='utf8', quoting=csv.QUOTE_NONE)\n",
        "data = data.assign(question1 = data.question1.astype(str))\n",
        "data = data.assign(question2 = data.question2.astype(str))\n",
        "data = data.assign(is_duplicate = data.is_duplicate.astype(int))\n",
        "data"
      ],
      "execution_count": 6,
      "outputs": [
        {
          "output_type": "execute_result",
          "data": {
            "text/html": [
              "<div>\n",
              "<style scoped>\n",
              "    .dataframe tbody tr th:only-of-type {\n",
              "        vertical-align: middle;\n",
              "    }\n",
              "\n",
              "    .dataframe tbody tr th {\n",
              "        vertical-align: top;\n",
              "    }\n",
              "\n",
              "    .dataframe thead th {\n",
              "        text-align: right;\n",
              "    }\n",
              "</style>\n",
              "<table border=\"1\" class=\"dataframe\">\n",
              "  <thead>\n",
              "    <tr style=\"text-align: right;\">\n",
              "      <th></th>\n",
              "      <th>qid1</th>\n",
              "      <th>qid2</th>\n",
              "      <th>question1</th>\n",
              "      <th>question2</th>\n",
              "      <th>is_duplicate</th>\n",
              "    </tr>\n",
              "  </thead>\n",
              "  <tbody>\n",
              "    <tr>\n",
              "      <th>0</th>\n",
              "      <td>161796</td>\n",
              "      <td>124097</td>\n",
              "      <td>When is surge pricing on Uber generally in eff...</td>\n",
              "      <td>When is surge pricing on Uber generally in eff...</td>\n",
              "      <td>0</td>\n",
              "    </tr>\n",
              "    <tr>\n",
              "      <th>1</th>\n",
              "      <td>123279</td>\n",
              "      <td>123280</td>\n",
              "      <td>Why in India do we not have one on one politic...</td>\n",
              "      <td>Why cant we have a public debate between polit...</td>\n",
              "      <td>1</td>\n",
              "    </tr>\n",
              "    <tr>\n",
              "      <th>2</th>\n",
              "      <td>63742</td>\n",
              "      <td>63743</td>\n",
              "      <td>What is the scope of making career in Import E...</td>\n",
              "      <td>I'm a cartoonist, how can I start sharing my w...</td>\n",
              "      <td>0</td>\n",
              "    </tr>\n",
              "    <tr>\n",
              "      <th>3</th>\n",
              "      <td>13778</td>\n",
              "      <td>13779</td>\n",
              "      <td>What do you think will be the effect of Modi G...</td>\n",
              "      <td>What are the full implications of the Indian g...</td>\n",
              "      <td>1</td>\n",
              "    </tr>\n",
              "    <tr>\n",
              "      <th>4</th>\n",
              "      <td>266204</td>\n",
              "      <td>266205</td>\n",
              "      <td>What is OnePlus One?</td>\n",
              "      <td>How is oneplus one?</td>\n",
              "      <td>1</td>\n",
              "    </tr>\n",
              "    <tr>\n",
              "      <th>...</th>\n",
              "      <td>...</td>\n",
              "      <td>...</td>\n",
              "      <td>...</td>\n",
              "      <td>...</td>\n",
              "      <td>...</td>\n",
              "    </tr>\n",
              "    <tr>\n",
              "      <th>278312</th>\n",
              "      <td>190517</td>\n",
              "      <td>190518</td>\n",
              "      <td>What is the meaning of the movie \"Pulp Fiction\"?</td>\n",
              "      <td>Where can I find Pulp Fiction-like music?</td>\n",
              "      <td>0</td>\n",
              "    </tr>\n",
              "    <tr>\n",
              "      <th>278313</th>\n",
              "      <td>17705</td>\n",
              "      <td>228276</td>\n",
              "      <td>How do I commit suicide and make it seem like ...</td>\n",
              "      <td>I just want to die. How can I make it look lik...</td>\n",
              "      <td>1</td>\n",
              "    </tr>\n",
              "    <tr>\n",
              "      <th>278314</th>\n",
              "      <td>25202</td>\n",
              "      <td>25203</td>\n",
              "      <td>How can I beat procrastination?</td>\n",
              "      <td>What are some of the time tested ways to beat ...</td>\n",
              "      <td>1</td>\n",
              "    </tr>\n",
              "    <tr>\n",
              "      <th>278315</th>\n",
              "      <td>60188</td>\n",
              "      <td>102418</td>\n",
              "      <td>Why did some Quora answers collapse?</td>\n",
              "      <td>Why are my answers collapsed by Quora all the ...</td>\n",
              "      <td>1</td>\n",
              "    </tr>\n",
              "    <tr>\n",
              "      <th>278316</th>\n",
              "      <td>45021</td>\n",
              "      <td>351262</td>\n",
              "      <td>Why do you use an iPhone?</td>\n",
              "      <td>Why do people buy the iPhone?</td>\n",
              "      <td>1</td>\n",
              "    </tr>\n",
              "  </tbody>\n",
              "</table>\n",
              "<p>278317 rows × 5 columns</p>\n",
              "</div>"
            ],
            "text/plain": [
              "          qid1  ...  is_duplicate\n",
              "0       161796  ...             0\n",
              "1       123279  ...             1\n",
              "2        63742  ...             0\n",
              "3        13778  ...             1\n",
              "4       266204  ...             1\n",
              "...        ...  ...           ...\n",
              "278312  190517  ...             0\n",
              "278313   17705  ...             1\n",
              "278314   25202  ...             1\n",
              "278315   60188  ...             1\n",
              "278316   45021  ...             1\n",
              "\n",
              "[278317 rows x 5 columns]"
            ]
          },
          "metadata": {
            "tags": []
          },
          "execution_count": 6
        }
      ]
    },
    {
      "cell_type": "markdown",
      "metadata": {
        "id": "2nb3xpuczidB",
        "colab_type": "text"
      },
      "source": [
        "## Viz. do balanceamento das Labels"
      ]
    },
    {
      "cell_type": "code",
      "metadata": {
        "id": "FiY6L5IdaPeD",
        "colab_type": "code",
        "colab": {
          "base_uri": "https://localhost:8080/",
          "height": 305
        },
        "outputId": "2c016b02-bfb5-4dcc-9a19-fc37e1215bc5"
      },
      "source": [
        "# plot\n",
        "ax = sns.barplot(data['is_duplicate'].unique(), data['is_duplicate'].value_counts(), \n",
        "                 linewidth=2.5, facecolor=(0, 1, 0), edgecolor=\".1\")\n",
        "\n",
        "# decoração\n",
        "sns.despine(offset=1, trim=False)\n",
        "sns.set_style(\"ticks\")\n",
        "ax.set_ylabel('Num. de amostras', fontsize=16)\n",
        "plt.xticks(fontsize=16)\n",
        "plt.yticks(fontsize=16)\n",
        "plt.rcParams['figure.figsize'] = (10,3)\n",
        "\n",
        "duplicado = data['is_duplicate'].value_counts().tolist()[0]\n",
        "nao_duplicado = data['is_duplicate'].value_counts().tolist()[1]\n",
        "\n",
        "print(f'Existem {duplicado} amostras não duplicadas ou {(1-nao_duplicado/duplicado)*100 :.3}%.\\\n",
        "       \\nExistem {nao_duplicado} amostras duplicadas ou {nao_duplicado/duplicado*100 :.3}%.\\\n",
        "     ')"
      ],
      "execution_count": 7,
      "outputs": [
        {
          "output_type": "stream",
          "text": [
            "Existem 174654 amostras não duplicadas ou 40.6%.       \n",
            "Existem 103663 amostras duplicadas ou 59.4%.     \n"
          ],
          "name": "stdout"
        },
        {
          "output_type": "display_data",
          "data": {
            "image/png": "[encoded data removed]",
            "text/plain": [
              "<Figure size 432x288 with 1 Axes>"
            ]
          },
          "metadata": {
            "tags": [],
            "needs_background": "light"
          }
        }
      ]
    },
    {
      "cell_type": "code",
      "metadata": {
        "id": "DkfwTNDtc2CT",
        "colab_type": "code",
        "colab": {}
      },
      "source": [
        "train_samples_MultipleNegativesRankingLoss = []\n",
        "train_samples_ConstrativeLoss = []\n",
        "\n",
        "for row_data in data.iterrows():\n",
        "    train_samples_ConstrativeLoss.append(\n",
        "        InputExample(\n",
        "            texts=[\n",
        "                   row_data[1].question1, \n",
        "                   row_data[1].question2,\n",
        "                  ], \n",
        "                  label=row_data[1].is_duplicate,\n",
        "                  ))\n",
        "    if row_data[1].is_duplicate == 1:\n",
        "        train_samples_MultipleNegativesRankingLoss.append(\n",
        "            InputExample(\n",
        "                texts=[\n",
        "                       row_data[1].question1, \n",
        "                       row_data[1].question2,\n",
        "                      ], \n",
        "                      label=1,\n",
        "                      ))\n",
        "        train_samples_MultipleNegativesRankingLoss.append(\n",
        "            InputExample(\n",
        "                texts=[\n",
        "                       row_data[1].question2, \n",
        "                       row_data[1].question1,\n",
        "                      ], \n",
        "                      label=1,\n",
        "                      ))  # se A é duplicidade de B, então B é duplicidade de A"
      ],
      "execution_count": 8,
      "outputs": []
    },
    {
      "cell_type": "markdown",
      "metadata": {
        "id": "HJlxnPYw0mJ7",
        "colab_type": "text"
      },
      "source": [
        "# Para construir o dataset e dataloader é necessário instanciar o modelo (que faz a tokenização)"
      ]
    },
    {
      "cell_type": "code",
      "metadata": {
        "id": "EY6GqRbE0szE",
        "colab_type": "code",
        "colab": {
          "base_uri": "https://localhost:8080/",
          "height": 1000
        },
        "outputId": "1ab08170-785a-44dd-f545-54ceba648506"
      },
      "source": [
        "model = SentenceTransformer('distilbert-base-nli-stsb-mean-tokens')"
      ],
      "execution_count": 10,
      "outputs": [
        {
          "output_type": "stream",
          "text": [
            "2020-09-07 02:10:25 - Load pretrained SentenceTransformer: distilbert-base-nli-stsb-mean-tokens\n",
            "2020-09-07 02:10:25 - Did not find folder distilbert-base-nli-stsb-mean-tokens. Assume to download model from server.\n",
            "2020-09-07 02:10:25 - Downloading sentence transformer model from https://sbert.net/models/distilbert-base-nli-stsb-mean-tokens.zip and saving it at /root/.cache/torch/sentence_transformers/sbert.net_models_distilbert-base-nli-stsb-mean-tokens\n"
          ],
          "name": "stdout"
        },
        {
          "output_type": "stream",
          "text": [
            "100%|██████████| 245M/245M [00:12<00:00, 19.5MB/s]\n"
          ],
          "name": "stderr"
        },
        {
          "output_type": "stream",
          "text": [
            "2020-09-07 02:10:41 - Load SentenceTransformer from folder: /root/.cache/torch/sentence_transformers/sbert.net_models_distilbert-base-nli-stsb-mean-tokens\n",
            "2020-09-07 02:10:41 - loading configuration file /root/.cache/torch/sentence_transformers/sbert.net_models_distilbert-base-nli-stsb-mean-tokens/0_Transformer/config.json\n",
            "2020-09-07 02:10:41 - Model config DistilBertConfig {\n",
            "  \"activation\": \"gelu\",\n",
            "  \"architectures\": [\n",
            "    \"DistilBertModel\"\n",
            "  ],\n",
            "  \"attention_dropout\": 0.1,\n",
            "  \"dim\": 768,\n",
            "  \"dropout\": 0.1,\n",
            "  \"hidden_dim\": 3072,\n",
            "  \"initializer_range\": 0.02,\n",
            "  \"max_position_embeddings\": 512,\n",
            "  \"model_type\": \"distilbert\",\n",
            "  \"n_heads\": 12,\n",
            "  \"n_layers\": 6,\n",
            "  \"pad_token_id\": 0,\n",
            "  \"qa_dropout\": 0.1,\n",
            "  \"seq_classif_dropout\": 0.2,\n",
            "  \"sinusoidal_pos_embds\": false,\n",
            "  \"tie_weights_\": true,\n",
            "  \"vocab_size\": 30522\n",
            "}\n",
            "\n",
            "2020-09-07 02:10:41 - loading weights file /root/.cache/torch/sentence_transformers/sbert.net_models_distilbert-base-nli-stsb-mean-tokens/0_Transformer/pytorch_model.bin\n",
            "2020-09-07 02:10:42 - All model checkpoint weights were used when initializing DistilBertModel.\n",
            "\n",
            "2020-09-07 02:10:42 - All the weights of DistilBertModel were initialized from the model checkpoint at /root/.cache/torch/sentence_transformers/sbert.net_models_distilbert-base-nli-stsb-mean-tokens/0_Transformer.\n",
            "If your task is similar to the task the model of the ckeckpoint was trained on, you can already use DistilBertModel for predictions without further training.\n",
            "2020-09-07 02:10:42 - loading configuration file /root/.cache/torch/sentence_transformers/sbert.net_models_distilbert-base-nli-stsb-mean-tokens/0_Transformer/config.json\n",
            "2020-09-07 02:10:42 - Model config DistilBertConfig {\n",
            "  \"activation\": \"gelu\",\n",
            "  \"architectures\": [\n",
            "    \"DistilBertModel\"\n",
            "  ],\n",
            "  \"attention_dropout\": 0.1,\n",
            "  \"dim\": 768,\n",
            "  \"dropout\": 0.1,\n",
            "  \"hidden_dim\": 3072,\n",
            "  \"initializer_range\": 0.02,\n",
            "  \"max_position_embeddings\": 512,\n",
            "  \"model_type\": \"distilbert\",\n",
            "  \"n_heads\": 12,\n",
            "  \"n_layers\": 6,\n",
            "  \"pad_token_id\": 0,\n",
            "  \"qa_dropout\": 0.1,\n",
            "  \"seq_classif_dropout\": 0.2,\n",
            "  \"sinusoidal_pos_embds\": false,\n",
            "  \"tie_weights_\": true,\n",
            "  \"vocab_size\": 30522\n",
            "}\n",
            "\n",
            "2020-09-07 02:10:42 - Model name '/root/.cache/torch/sentence_transformers/sbert.net_models_distilbert-base-nli-stsb-mean-tokens/0_Transformer' not found in model shortcut name list (distilbert-base-uncased, distilbert-base-uncased-distilled-squad, distilbert-base-cased, distilbert-base-cased-distilled-squad, distilbert-base-german-cased, distilbert-base-multilingual-cased). Assuming '/root/.cache/torch/sentence_transformers/sbert.net_models_distilbert-base-nli-stsb-mean-tokens/0_Transformer' is a path, a model identifier, or url to a directory containing tokenizer files.\n",
            "2020-09-07 02:10:42 - Didn't find file /root/.cache/torch/sentence_transformers/sbert.net_models_distilbert-base-nli-stsb-mean-tokens/0_Transformer/added_tokens.json. We won't load it.\n",
            "2020-09-07 02:10:42 - Didn't find file /root/.cache/torch/sentence_transformers/sbert.net_models_distilbert-base-nli-stsb-mean-tokens/0_Transformer/tokenizer.json. We won't load it.\n",
            "2020-09-07 02:10:42 - loading file /root/.cache/torch/sentence_transformers/sbert.net_models_distilbert-base-nli-stsb-mean-tokens/0_Transformer/vocab.txt\n",
            "2020-09-07 02:10:42 - loading file None\n",
            "2020-09-07 02:10:42 - loading file /root/.cache/torch/sentence_transformers/sbert.net_models_distilbert-base-nli-stsb-mean-tokens/0_Transformer/special_tokens_map.json\n",
            "2020-09-07 02:10:42 - loading file /root/.cache/torch/sentence_transformers/sbert.net_models_distilbert-base-nli-stsb-mean-tokens/0_Transformer/tokenizer_config.json\n",
            "2020-09-07 02:10:42 - loading file None\n",
            "2020-09-07 02:10:42 - Use pytorch device: cuda\n"
          ],
          "name": "stdout"
        }
      ]
    },
    {
      "cell_type": "code",
      "metadata": {
        "id": "FNtIrxwTRs3z",
        "colab_type": "code",
        "colab": {}
      },
      "source": [
        "BATCH_SZ = 64 # A MultipleNegativeLoss performa melhor com maiores batches\n",
        "\n",
        "# Usar como métrica de distância de cosseno = 1-cosine_similarity)\n",
        "distance_metric = losses.SiameseDistanceMetric.COSINE_DISTANCE\n",
        "\n",
        "#Pares negativos devem estar distantes a pelo menos 0.5\n",
        "margin = 0.5\n",
        "\n",
        "# Criando dataloader e instanciando a loss MultipleNegativesRankingLoss\n",
        "train_dataset_MultipleNegativesRankingLoss = SentencesDataset(train_samples_MultipleNegativesRankingLoss, model=model)\n",
        "train_dataloader_MultipleNegativesRankingLoss = DataLoader(train_dataset_MultipleNegativesRankingLoss, shuffle=True, batch_size=BATCH_SZ)\n",
        "train_loss_MultipleNegativesRankingLoss = losses.MultipleNegativesRankingLoss(model)\n",
        "\n",
        "# Criando o dataloader e instanciando a loss for OnlineContrastiveLoss\n",
        "train_dataset_ConstrativeLoss = SentencesDataset(train_samples_ConstrativeLoss, model=model)\n",
        "train_dataloader_ConstrativeLoss = DataLoader(train_dataset_ConstrativeLoss, shuffle=True, batch_size=BATCH_SZ)\n",
        "train_loss_ConstrativeLoss = losses.OnlineContrastiveLoss(model=model, distance_metric=distance_metric, margin=margin)"
      ],
      "execution_count": 11,
      "outputs": []
    },
    {
      "cell_type": "markdown",
      "metadata": {
        "id": "VGqb07P1hSbP",
        "colab_type": "text"
      },
      "source": [
        "# Avaliação do modelo em 3 tasks\n",
        "\n",
        "> ## 1. Duplicate Questions pair classification\n",
        "#### Dado (questão1 e questão2), são duplicadas ou não? Esse evaluator computará os embeddings de ambas questões e então calculará a semelhança de cossenos. Se a semelhança estiver acima do threshold, as questões são duplicadas.\n",
        "\n",
        "> ## 2. Duplicate Questions Mining\n",
        "#### Dado um grande corpus de questões, identificar todas as questões duplicadas no corpus.\n",
        "> ## 3. Information Retrieval\n",
        "#### Dada uma questão e um grande corpus (milhares de questões), encontrar a questão mais relevante (i.e. a questão duplicada) no corpus."
      ]
    },
    {
      "cell_type": "code",
      "metadata": {
        "id": "7vKYwngbiUwy",
        "colab_type": "code",
        "colab": {}
      },
      "source": [
        "evaluators = []"
      ],
      "execution_count": 12,
      "outputs": []
    },
    {
      "cell_type": "markdown",
      "metadata": {
        "id": "e1eXoRMKjLCW",
        "colab_type": "text"
      },
      "source": [
        "## Task de classificação - evaluator 1"
      ]
    },
    {
      "cell_type": "code",
      "metadata": {
        "id": "aLRCxFKclz2p",
        "colab_type": "code",
        "colab": {
          "base_uri": "https://localhost:8080/",
          "height": 142
        },
        "outputId": "64a505eb-7e98-4fbe-c87d-60febf9bb2dd"
      },
      "source": [
        "data_eval1 = pd.read_csv(dataset_path+\"/classification/dev_pairs.tsv\", sep='\\t', encoding='utf8', quoting=csv.QUOTE_NONE)\n",
        "data_eval1 = data_eval1.assign(question1 = data_eval1.question1.astype(str))\n",
        "data_eval1 = data_eval1.assign(question2 = data_eval1.question2.astype(str))\n",
        "data_eval1 = data_eval1.assign(is_duplicate = data_eval1.is_duplicate.astype(int))\n",
        "data_eval1.head(3)"
      ],
      "execution_count": 13,
      "outputs": [
        {
          "output_type": "execute_result",
          "data": {
            "text/html": [
              "<div>\n",
              "<style scoped>\n",
              "    .dataframe tbody tr th:only-of-type {\n",
              "        vertical-align: middle;\n",
              "    }\n",
              "\n",
              "    .dataframe tbody tr th {\n",
              "        vertical-align: top;\n",
              "    }\n",
              "\n",
              "    .dataframe thead th {\n",
              "        text-align: right;\n",
              "    }\n",
              "</style>\n",
              "<table border=\"1\" class=\"dataframe\">\n",
              "  <thead>\n",
              "    <tr style=\"text-align: right;\">\n",
              "      <th></th>\n",
              "      <th>qid1</th>\n",
              "      <th>qid2</th>\n",
              "      <th>question1</th>\n",
              "      <th>question2</th>\n",
              "      <th>is_duplicate</th>\n",
              "    </tr>\n",
              "  </thead>\n",
              "  <tbody>\n",
              "    <tr>\n",
              "      <th>0</th>\n",
              "      <td>188855</td>\n",
              "      <td>188856</td>\n",
              "      <td>How did Michel Foucault feel about surveillanc...</td>\n",
              "      <td>What is Michel Foucaults opinion on surveillan...</td>\n",
              "      <td>1</td>\n",
              "    </tr>\n",
              "    <tr>\n",
              "      <th>1</th>\n",
              "      <td>231741</td>\n",
              "      <td>231742</td>\n",
              "      <td>What's the difference between a consumer and a...</td>\n",
              "      <td>What is the difference between a customer and ...</td>\n",
              "      <td>0</td>\n",
              "    </tr>\n",
              "    <tr>\n",
              "      <th>2</th>\n",
              "      <td>188420</td>\n",
              "      <td>188421</td>\n",
              "      <td>If 3x + 9y = 7x + y. then 8y=?</td>\n",
              "      <td>In India, why does most of society overpromise...</td>\n",
              "      <td>0</td>\n",
              "    </tr>\n",
              "  </tbody>\n",
              "</table>\n",
              "</div>"
            ],
            "text/plain": [
              "     qid1  ...  is_duplicate\n",
              "0  188855  ...             1\n",
              "1  231741  ...             0\n",
              "2  188420  ...             0\n",
              "\n",
              "[3 rows x 5 columns]"
            ]
          },
          "metadata": {
            "tags": []
          },
          "execution_count": 13
        }
      ]
    },
    {
      "cell_type": "code",
      "metadata": {
        "id": "0-R8aIU1iWK8",
        "colab_type": "code",
        "colab": {}
      },
      "source": [
        "dev_sentences1 = data_eval1.question1.to_list()\n",
        "dev_sentences2 = data_eval1.question2.to_list()\n",
        "dev_labels = data_eval1.is_duplicate.to_list()\n",
        "\n",
        "binary_acc_evaluator = evaluation.BinaryClassificationEvaluator(\n",
        "    dev_sentences1, \n",
        "    dev_sentences2, \n",
        "    dev_labels,\n",
        "    )\n",
        "evaluators.append(binary_acc_evaluator)"
      ],
      "execution_count": 14,
      "outputs": []
    },
    {
      "cell_type": "markdown",
      "metadata": {
        "id": "SSj05ANMj2_1",
        "colab_type": "text"
      },
      "source": [
        "## Task de mineração - evaluator 2"
      ]
    },
    {
      "cell_type": "code",
      "metadata": {
        "id": "qvxm8Qybmcfy",
        "colab_type": "code",
        "colab": {
          "base_uri": "https://localhost:8080/",
          "height": 142
        },
        "outputId": "470f9c91-22ee-4662-ebe5-7b098293f5e4"
      },
      "source": [
        "data_eval2_corpus = pd.read_csv(dataset_path+\"/duplicate-mining/dev_corpus.tsv\", sep='\\t', encoding='utf8', quoting=csv.QUOTE_NONE)\n",
        "data_eval2_corpus = data_eval2_corpus.assign(question = data_eval2_corpus.question.astype(str))\n",
        "data_eval2_corpus.head(3)"
      ],
      "execution_count": 15,
      "outputs": [
        {
          "output_type": "execute_result",
          "data": {
            "text/html": [
              "<div>\n",
              "<style scoped>\n",
              "    .dataframe tbody tr th:only-of-type {\n",
              "        vertical-align: middle;\n",
              "    }\n",
              "\n",
              "    .dataframe tbody tr th {\n",
              "        vertical-align: top;\n",
              "    }\n",
              "\n",
              "    .dataframe thead th {\n",
              "        text-align: right;\n",
              "    }\n",
              "</style>\n",
              "<table border=\"1\" class=\"dataframe\">\n",
              "  <thead>\n",
              "    <tr style=\"text-align: right;\">\n",
              "      <th></th>\n",
              "      <th>qid</th>\n",
              "      <th>question</th>\n",
              "    </tr>\n",
              "  </thead>\n",
              "  <tbody>\n",
              "    <tr>\n",
              "      <th>0</th>\n",
              "      <td>216489</td>\n",
              "      <td>Why do some people get sexually aroused throug...</td>\n",
              "    </tr>\n",
              "    <tr>\n",
              "      <th>1</th>\n",
              "      <td>201577</td>\n",
              "      <td>Which is the safest city in the U.S?</td>\n",
              "    </tr>\n",
              "    <tr>\n",
              "      <th>2</th>\n",
              "      <td>199352</td>\n",
              "      <td>Has it ever happened to you that you were stud...</td>\n",
              "    </tr>\n",
              "  </tbody>\n",
              "</table>\n",
              "</div>"
            ],
            "text/plain": [
              "      qid                                           question\n",
              "0  216489  Why do some people get sexually aroused throug...\n",
              "1  201577               Which is the safest city in the U.S?\n",
              "2  199352  Has it ever happened to you that you were stud..."
            ]
          },
          "metadata": {
            "tags": []
          },
          "execution_count": 15
        }
      ]
    },
    {
      "cell_type": "code",
      "metadata": {
        "id": "DN8iha_Poxzm",
        "colab_type": "code",
        "colab": {}
      },
      "source": [
        "# Para rápido processamento vamos limitar o corpus em 10_000 sentenças.\n",
        "max_dev_samples = 10_000\n",
        "dev_sentences = {}\n",
        "\n",
        "for row_data in data_eval2_corpus.iterrows():\n",
        "    dev_sentences.update({row_data[1].qid: row_data[1].question})\n",
        "\n",
        "    if len(dev_sentences) >= max_dev_samples:\n",
        "        break"
      ],
      "execution_count": 16,
      "outputs": []
    },
    {
      "cell_type": "code",
      "metadata": {
        "id": "3yT9SfDPn_rF",
        "colab_type": "code",
        "colab": {
          "base_uri": "https://localhost:8080/",
          "height": 142
        },
        "outputId": "06963839-ea30-440e-e8d6-65135edffa0f"
      },
      "source": [
        "data_eval2_dup = pd.read_csv(dataset_path+\"/duplicate-mining/dev_duplicates.tsv\", sep='\\t', encoding='utf8', quoting=csv.QUOTE_NONE)\n",
        "data_eval2_dup.head(3)"
      ],
      "execution_count": 17,
      "outputs": [
        {
          "output_type": "execute_result",
          "data": {
            "text/html": [
              "<div>\n",
              "<style scoped>\n",
              "    .dataframe tbody tr th:only-of-type {\n",
              "        vertical-align: middle;\n",
              "    }\n",
              "\n",
              "    .dataframe tbody tr th {\n",
              "        vertical-align: top;\n",
              "    }\n",
              "\n",
              "    .dataframe thead th {\n",
              "        text-align: right;\n",
              "    }\n",
              "</style>\n",
              "<table border=\"1\" class=\"dataframe\">\n",
              "  <thead>\n",
              "    <tr style=\"text-align: right;\">\n",
              "      <th></th>\n",
              "      <th>qid1</th>\n",
              "      <th>qid2</th>\n",
              "    </tr>\n",
              "  </thead>\n",
              "  <tbody>\n",
              "    <tr>\n",
              "      <th>0</th>\n",
              "      <td>54721</td>\n",
              "      <td>64378</td>\n",
              "    </tr>\n",
              "    <tr>\n",
              "      <th>1</th>\n",
              "      <td>333540</td>\n",
              "      <td>368414</td>\n",
              "    </tr>\n",
              "    <tr>\n",
              "      <th>2</th>\n",
              "      <td>164903</td>\n",
              "      <td>79019</td>\n",
              "    </tr>\n",
              "  </tbody>\n",
              "</table>\n",
              "</div>"
            ],
            "text/plain": [
              "     qid1    qid2\n",
              "0   54721   64378\n",
              "1  333540  368414\n",
              "2  164903   79019"
            ]
          },
          "metadata": {
            "tags": []
          },
          "execution_count": 17
        }
      ]
    },
    {
      "cell_type": "code",
      "metadata": {
        "id": "Me_0ZTXBkcal",
        "colab_type": "code",
        "colab": {
          "base_uri": "https://localhost:8080/",
          "height": 102
        },
        "outputId": "72526b39-8773-4df1-c3ca-e1cb82a81561"
      },
      "source": [
        "dev_duplicates = []\n",
        "\n",
        "for row_data in data_eval2_dup.iterrows():\n",
        "    if row_data[1].qid1 in dev_sentences and row_data[1].qid2 in dev_sentences:\n",
        "        dev_duplicates.append([row_data[1].qid1, row_data[1].qid2])\n",
        "\n",
        "dev_duplicates[:5]        "
      ],
      "execution_count": 18,
      "outputs": [
        {
          "output_type": "execute_result",
          "data": {
            "text/plain": [
              "[[198022, 215804],\n",
              " [163793, 282695],\n",
              " [182757, 276318],\n",
              " [174920, 78985],\n",
              " [130833, 34889]]"
            ]
          },
          "metadata": {
            "tags": []
          },
          "execution_count": 18
        }
      ]
    },
    {
      "cell_type": "markdown",
      "metadata": {
        "id": "lPRPrs20qUrT",
        "colab_type": "text"
      },
      "source": [
        "### O `ParaphraseMiningEvaluator` calcula a similaridade do cosseno entre todas as sentenças e extrai uma lista com os pares de maior similaridade. Dada a informação duplicatada em `dev_duplicates`, é  calculada a F$_1$ que mostra o quão bem a mineração duplicada performou."
      ]
    },
    {
      "cell_type": "code",
      "metadata": {
        "id": "XfosFL-AqBZF",
        "colab_type": "code",
        "colab": {}
      },
      "source": [
        "paraphrase_mining_evaluator = evaluation.ParaphraseMiningEvaluator(\n",
        "    dev_sentences, \n",
        "    dev_duplicates, \n",
        "    name='dev',\n",
        "    )\n",
        "\n",
        "evaluators.append(paraphrase_mining_evaluator)"
      ],
      "execution_count": 19,
      "outputs": []
    },
    {
      "cell_type": "markdown",
      "metadata": {
        "id": "YCPkPuOFkwrH",
        "colab_type": "text"
      },
      "source": [
        "## Task de recuperação da informação - evaluator 3"
      ]
    },
    {
      "cell_type": "code",
      "metadata": {
        "id": "2c4vhYQttqgd",
        "colab_type": "code",
        "colab": {
          "base_uri": "https://localhost:8080/",
          "height": 142
        },
        "outputId": "18a72cd4-603f-46c6-aa31-d3223cb89247"
      },
      "source": [
        "data_eval3_q = pd.read_csv(dataset_path+\"/information-retrieval/dev-queries.tsv\", sep='\\t', encoding='utf8')\n",
        "data_eval3_q = data_eval3_q.assign(qid = data_eval3_q.qid.astype(str))\n",
        "data_eval3_q.head(3)"
      ],
      "execution_count": 21,
      "outputs": [
        {
          "output_type": "execute_result",
          "data": {
            "text/html": [
              "<div>\n",
              "<style scoped>\n",
              "    .dataframe tbody tr th:only-of-type {\n",
              "        vertical-align: middle;\n",
              "    }\n",
              "\n",
              "    .dataframe tbody tr th {\n",
              "        vertical-align: top;\n",
              "    }\n",
              "\n",
              "    .dataframe thead th {\n",
              "        text-align: right;\n",
              "    }\n",
              "</style>\n",
              "<table border=\"1\" class=\"dataframe\">\n",
              "  <thead>\n",
              "    <tr style=\"text-align: right;\">\n",
              "      <th></th>\n",
              "      <th>qid</th>\n",
              "      <th>question</th>\n",
              "      <th>duplicate_qids</th>\n",
              "    </tr>\n",
              "  </thead>\n",
              "  <tbody>\n",
              "    <tr>\n",
              "      <th>0</th>\n",
              "      <td>16</td>\n",
              "      <td>What should I do to be a great geologist?</td>\n",
              "      <td>15</td>\n",
              "    </tr>\n",
              "    <tr>\n",
              "      <th>1</th>\n",
              "      <td>101</td>\n",
              "      <td>Is Career Launcher good for RBI Grade B prepar...</td>\n",
              "      <td>102</td>\n",
              "    </tr>\n",
              "    <tr>\n",
              "      <th>2</th>\n",
              "      <td>103</td>\n",
              "      <td>Will a Blu Ray play on a regular DVD player? I...</td>\n",
              "      <td>104</td>\n",
              "    </tr>\n",
              "  </tbody>\n",
              "</table>\n",
              "</div>"
            ],
            "text/plain": [
              "   qid                                           question duplicate_qids\n",
              "0   16          What should I do to be a great geologist?             15\n",
              "1  101  Is Career Launcher good for RBI Grade B prepar...            102\n",
              "2  103  Will a Blu Ray play on a regular DVD player? I...            104"
            ]
          },
          "metadata": {
            "tags": []
          },
          "execution_count": 21
        }
      ]
    },
    {
      "cell_type": "code",
      "metadata": {
        "id": "YZV18fF3se53",
        "colab_type": "code",
        "colab": {}
      },
      "source": [
        "max_corpus_size = 100_000\n",
        "\n",
        "ir_queries = {}        # queries (qid: question)\n",
        "ir_needed_qids = set() # conj. das qids que precisamos no corpus\n",
        "ir_relevant_docs = {}  # mapeia os documentos relevantes oara uma dada query (qid: set([relevant_question_ids])\n",
        "\n",
        "for row_data in data_eval3_q.iterrows():\n",
        "    qid = row_data[1].qid\n",
        "    query = row_data[1].question\n",
        "    duplicate_ids = row_data[1].duplicate_qids.split(',')\n",
        "    ir_queries[qid] = query\n",
        "    ir_relevant_docs[qid] = set(duplicate_ids)\n",
        "    for qid in duplicate_ids:\n",
        "            ir_needed_qids.add(qid)"
      ],
      "execution_count": 22,
      "outputs": []
    },
    {
      "cell_type": "code",
      "metadata": {
        "id": "tIAKsdk9ses5",
        "colab_type": "code",
        "colab": {
          "base_uri": "https://localhost:8080/",
          "height": 142
        },
        "outputId": "0bbd43d3-158b-479d-bd02-410afdeb578a"
      },
      "source": [
        "data_eval3_c = pd.read_csv(dataset_path+\"/information-retrieval/corpus.tsv\", sep='\\t', encoding='utf8')\n",
        "data_eval3_c = data_eval3_c.assign(qid = data_eval3_c.qid.astype(str))\n",
        "data_eval3_c.head(3)"
      ],
      "execution_count": 23,
      "outputs": [
        {
          "output_type": "execute_result",
          "data": {
            "text/html": [
              "<div>\n",
              "<style scoped>\n",
              "    .dataframe tbody tr th:only-of-type {\n",
              "        vertical-align: middle;\n",
              "    }\n",
              "\n",
              "    .dataframe tbody tr th {\n",
              "        vertical-align: top;\n",
              "    }\n",
              "\n",
              "    .dataframe thead th {\n",
              "        text-align: right;\n",
              "    }\n",
              "</style>\n",
              "<table border=\"1\" class=\"dataframe\">\n",
              "  <thead>\n",
              "    <tr style=\"text-align: right;\">\n",
              "      <th></th>\n",
              "      <th>qid</th>\n",
              "      <th>question</th>\n",
              "    </tr>\n",
              "  </thead>\n",
              "  <tbody>\n",
              "    <tr>\n",
              "      <th>0</th>\n",
              "      <td>1</td>\n",
              "      <td>What is the step by step guide to invest in sh...</td>\n",
              "    </tr>\n",
              "    <tr>\n",
              "      <th>1</th>\n",
              "      <td>2</td>\n",
              "      <td>What is the step by step guide to invest in sh...</td>\n",
              "    </tr>\n",
              "    <tr>\n",
              "      <th>2</th>\n",
              "      <td>3</td>\n",
              "      <td>What is the story of Kohinoor (Koh-i-Noor) Dia...</td>\n",
              "    </tr>\n",
              "  </tbody>\n",
              "</table>\n",
              "</div>"
            ],
            "text/plain": [
              "  qid                                           question\n",
              "0   1  What is the step by step guide to invest in sh...\n",
              "1   2  What is the step by step guide to invest in sh...\n",
              "2   3  What is the story of Kohinoor (Koh-i-Noor) Dia..."
            ]
          },
          "metadata": {
            "tags": []
          },
          "execution_count": 23
        }
      ]
    },
    {
      "cell_type": "code",
      "metadata": {
        "id": "mL4KoE7_sekq",
        "colab_type": "code",
        "colab": {}
      },
      "source": [
        "ir_corpus = {} # o corpus (qid => question)\n",
        "\n",
        "# Primeiro, obtenha todos os documentos relevantes necessários \n",
        "# (ou seja, devemos garantir que as questões relevantes estão realmente no corpus\n",
        "distraction_questions = {}\n",
        "\n",
        "for row_data_C in data_eval3_c.iterrows():\n",
        "    qid = row_data_C[1].qid\n",
        "    question = row_data_C[1].question\n",
        "\n",
        "    if qid in ir_needed_qids:\n",
        "        ir_corpus[qid] = question\n",
        "    else:\n",
        "        distraction_questions[qid] = question\n",
        "\n",
        "# Agora, também adicionamos algumas questõees irrelevantes no corpus\n",
        "other_qid_list = list(distraction_questions.keys())\n",
        "random.shuffle(other_qid_list)\n",
        "\n",
        "for qid in other_qid_list[0:max(0, max_corpus_size-len(ir_corpus))]:\n",
        "    ir_corpus[qid] = distraction_questions[qid]\n",
        "\n",
        "\n",
        "ir_evaluator = evaluation.InformationRetrievalEvaluator(ir_queries, ir_corpus, ir_relevant_docs)\n",
        "evaluators.append(ir_evaluator)"
      ],
      "execution_count": 24,
      "outputs": []
    },
    {
      "cell_type": "code",
      "metadata": {
        "id": "g86XxBWnyo88",
        "colab_type": "code",
        "colab": {}
      },
      "source": [
        "# Criando o SequentialEvaluator. Este SequentialEvaluator executa todos os três \n",
        "# avaliadores em uma ordem sequencial. Otimizamos o modelo em relação à pontuação \n",
        "# do último avaliador (pontuações [-1])\n",
        "\n",
        "seq_evaluator = evaluation.SequentialEvaluator(evaluators, main_score_function=lambda scores: scores[-1])"
      ],
      "execution_count": 25,
      "outputs": []
    },
    {
      "cell_type": "code",
      "metadata": {
        "id": "fVY-_atvzT3-",
        "colab_type": "code",
        "colab": {}
      },
      "source": [
        "model_save_path = '/content/drive/My Drive/Colab Notebooks/BERT/QUORA/output/training_multi-task-learning'"
      ],
      "execution_count": 26,
      "outputs": []
    },
    {
      "cell_type": "code",
      "metadata": {
        "id": "53kebPNsTrIG",
        "colab_type": "code",
        "colab": {
          "base_uri": "https://localhost:8080/",
          "height": 816
        },
        "outputId": "6c3d3aff-fb7c-47f6-e62d-56b95863ff95"
      },
      "source": [
        "seq_evaluator(model, epoch=0, steps=0, output_path=model_save_path)"
      ],
      "execution_count": 27,
      "outputs": [
        {
          "output_type": "stream",
          "text": [
            "2020-09-07 02:13:58 - Binary Accuracy Evaluation of the model on  dataset in epoch 0 after 0 steps:\n",
            "2020-09-07 02:14:57 - Accuracy with Cosine-Similarity:           76.61\t(Threshold: 0.8349)\n",
            "2020-09-07 02:14:57 - F1 with Cosine-Similarity:                 69.29\t(Threshold: 0.7391)\n",
            "2020-09-07 02:14:57 - Precision with Cosine-Similarity:          60.18\n",
            "2020-09-07 02:14:57 - Recall with Cosine-Similarity:             81.64\n",
            "2020-09-07 02:14:57 - Average Precision with Cosine-Similarity:  71.80\n",
            "\n",
            "2020-09-07 02:14:57 - Accuracy with Manhatten-Distance:           76.70\t(Threshold: 193.7356)\n",
            "2020-09-07 02:14:57 - F1 with Manhatten-Distance:                 69.44\t(Threshold: 240.4903)\n",
            "2020-09-07 02:14:57 - Precision with Manhatten-Distance:          59.75\n",
            "2020-09-07 02:14:57 - Recall with Manhatten-Distance:             82.88\n",
            "2020-09-07 02:14:57 - Average Precision with Manhatten-Distance:  71.86\n",
            "\n",
            "2020-09-07 02:14:58 - Accuracy with Euclidean-Distance:           76.75\t(Threshold: 8.8834)\n",
            "2020-09-07 02:14:58 - F1 with Euclidean-Distance:                 69.44\t(Threshold: 10.8947)\n",
            "2020-09-07 02:14:58 - Precision with Euclidean-Distance:          59.89\n",
            "2020-09-07 02:14:58 - Recall with Euclidean-Distance:             82.62\n",
            "2020-09-07 02:14:58 - Average Precision with Euclidean-Distance:  71.89\n",
            "\n",
            "2020-09-07 02:14:59 - Paraphrase Mining Evaluation on dev dataset in epoch 0 after 0 steps:\n",
            "2020-09-07 02:15:12 - Number of candidate pairs: 294001\n",
            "2020-09-07 02:15:13 - Average Precision: 41.37\n",
            "2020-09-07 02:15:13 - Optimal threshold: 0.8733\n",
            "2020-09-07 02:15:13 - Precision: 54.44\n",
            "2020-09-07 02:15:13 - Recall: 40.68\n",
            "2020-09-07 02:15:13 - F1: 46.56\n",
            "\n",
            "2020-09-07 02:15:13 - Information Retrieval Evaluation on  dataset in epoch 0 after 0 steps:\n",
            "2020-09-07 02:16:05 - Accuracy@1: 84.92%\n",
            "2020-09-07 02:16:05 - Accuracy@3: 92.54%\n",
            "2020-09-07 02:16:05 - Accuracy@5: 94.70%\n",
            "2020-09-07 02:16:05 - Accuracy@10: 96.30%\n",
            "2020-09-07 02:16:05 - Precision@1: 84.92%\n",
            "2020-09-07 02:16:05 - Precision@3: 38.47%\n",
            "2020-09-07 02:16:05 - Precision@5: 25.18%\n",
            "2020-09-07 02:16:05 - Precision@10: 13.57%\n",
            "2020-09-07 02:16:05 - Recall@1: 72.48%\n",
            "2020-09-07 02:16:05 - Recall@3: 86.80%\n",
            "2020-09-07 02:16:05 - Recall@5: 90.57%\n",
            "2020-09-07 02:16:05 - Recall@10: 93.57%\n",
            "2020-09-07 02:16:05 - MRR@10: 0.8909\n",
            "2020-09-07 02:16:05 - NDCG@10: 0.8878\n",
            "2020-09-07 02:16:05 - MAP@100: 0.8632\n",
            "2020-09-07 02:16:05 - Queries: 5000\n",
            "2020-09-07 02:16:05 - Corpus: 100000\n",
            "\n"
          ],
          "name": "stdout"
        },
        {
          "output_type": "execute_result",
          "data": {
            "text/plain": [
              "0.8631885593040585"
            ]
          },
          "metadata": {
            "tags": []
          },
          "execution_count": 27
        }
      ]
    },
    {
      "cell_type": "markdown",
      "metadata": {
        "id": "Nlnwx7S9V97k",
        "colab_type": "text"
      },
      "source": [
        "# Trainamento do modelo"
      ]
    },
    {
      "cell_type": "code",
      "metadata": {
        "id": "TsKgPjdk21LE",
        "colab_type": "code",
        "colab": {
          "base_uri": "https://localhost:8080/",
          "height": 948,
          "referenced_widgets": [
            "cc61d4493ba9403a8aad8f4bf3fc3f89",
            "5968c700a37040dea749d2d4debe8e3e",
            "2a5b5f9f67e24bacaa734edca621dedd",
            "45bb11a334194af68058a1c09cb9a537",
            "3e2d3a81bbfe4eb8bb962d3ccffc590c",
            "2bb3fb8339934b399a0dd8337f68afb1",
            "d8122eeddd73419a86121d5641b8d598",
            "64268f1f62da4d1a9ebd6133c3354493",
            "8aff252720f1484eae0d962f2cff2099",
            "40528619821d45058491ff41e681ad24",
            "7a34221aecb3441b8d3b246cf305a611",
            "be5fbc2e9be14eca8371d07b0ede4cab",
            "530a60529c7749f1bb80b41995ba5ddf",
            "2d191517521d436bb7a7e99299dcfbce",
            "20054d7be62241808e5d5dd5ea26814f",
            "32ea6adaf700490f807fbcece676a5ea"
          ]
        },
        "outputId": "db376dd1-dd35-496a-c1c1-54c8d2de47e4"
      },
      "source": [
        "N_EPOCHS = 1\n",
        "\n",
        "model.fit(train_objectives=[\n",
        "                            (train_dataloader_MultipleNegativesRankingLoss, \n",
        "                             train_loss_MultipleNegativesRankingLoss), \n",
        "                            (train_dataloader_ConstrativeLoss, \n",
        "                             train_loss_ConstrativeLoss)\n",
        "                            ],\n",
        "          evaluator=seq_evaluator,\n",
        "          epochs=N_EPOCHS,\n",
        "          warmup_steps=1000,\n",
        "          output_path=model_save_path,\n",
        "          output_path_ignore_not_empty=True\n",
        "          )"
      ],
      "execution_count": 28,
      "outputs": [
        {
          "output_type": "display_data",
          "data": {
            "application/vnd.jupyter.widget-view+json": {
              "model_id": "cc61d4493ba9403a8aad8f4bf3fc3f89",
              "version_minor": 0,
              "version_major": 2
            },
            "text/plain": [
              "HBox(children=(FloatProgress(value=0.0, description='Epoch', max=1.0, style=ProgressStyle(description_width='i…"
            ]
          },
          "metadata": {
            "tags": []
          }
        },
        {
          "output_type": "display_data",
          "data": {
            "application/vnd.jupyter.widget-view+json": {
              "model_id": "8aff252720f1484eae0d962f2cff2099",
              "version_minor": 0,
              "version_major": 2
            },
            "text/plain": [
              "HBox(children=(FloatProgress(value=0.0, description='Iteration', max=3240.0, style=ProgressStyle(description_w…"
            ]
          },
          "metadata": {
            "tags": []
          }
        },
        {
          "output_type": "stream",
          "text": [
            "\n",
            "2020-09-07 02:46:35 - Binary Accuracy Evaluation of the model on  dataset after epoch 0:\n",
            "2020-09-07 02:47:25 - Accuracy with Cosine-Similarity:           83.42\t(Threshold: 0.7873)\n",
            "2020-09-07 02:47:25 - F1 with Cosine-Similarity:                 77.65\t(Threshold: 0.7517)\n",
            "2020-09-07 02:47:25 - Precision with Cosine-Similarity:          71.72\n",
            "2020-09-07 02:47:25 - Recall with Cosine-Similarity:             84.65\n",
            "2020-09-07 02:47:25 - Average Precision with Cosine-Similarity:  82.48\n",
            "\n",
            "2020-09-07 02:47:25 - Accuracy with Manhatten-Distance:           83.25\t(Threshold: 207.0246)\n",
            "2020-09-07 02:47:25 - F1 with Manhatten-Distance:                 77.30\t(Threshold: 230.1082)\n",
            "2020-09-07 02:47:25 - Precision with Manhatten-Distance:          70.17\n",
            "2020-09-07 02:47:25 - Recall with Manhatten-Distance:             86.05\n",
            "2020-09-07 02:47:25 - Average Precision with Manhatten-Distance:  82.14\n",
            "\n",
            "2020-09-07 02:47:25 - Accuracy with Euclidean-Distance:           83.27\t(Threshold: 9.4179)\n",
            "2020-09-07 02:47:25 - F1 with Euclidean-Distance:                 77.29\t(Threshold: 10.5295)\n",
            "2020-09-07 02:47:25 - Precision with Euclidean-Distance:          69.70\n",
            "2020-09-07 02:47:25 - Recall with Euclidean-Distance:             86.74\n",
            "2020-09-07 02:47:25 - Average Precision with Euclidean-Distance:  82.16\n",
            "\n",
            "2020-09-07 02:47:26 - Paraphrase Mining Evaluation on dev dataset after epoch 0:\n",
            "2020-09-07 02:47:40 - Number of candidate pairs: 353139\n",
            "2020-09-07 02:47:40 - Average Precision: 44.19\n",
            "2020-09-07 02:47:40 - Optimal threshold: 0.8607\n",
            "2020-09-07 02:47:40 - Precision: 51.61\n",
            "2020-09-07 02:47:40 - Recall: 48.19\n",
            "2020-09-07 02:47:40 - F1: 49.84\n",
            "\n",
            "2020-09-07 02:47:40 - Information Retrieval Evaluation on  dataset after epoch 0:\n",
            "2020-09-07 02:48:34 - Accuracy@1: 85.62%\n",
            "2020-09-07 02:48:34 - Accuracy@3: 93.10%\n",
            "2020-09-07 02:48:34 - Accuracy@5: 95.08%\n",
            "2020-09-07 02:48:34 - Accuracy@10: 96.32%\n",
            "2020-09-07 02:48:34 - Precision@1: 85.62%\n",
            "2020-09-07 02:48:34 - Precision@3: 38.83%\n",
            "2020-09-07 02:48:34 - Precision@5: 25.45%\n",
            "2020-09-07 02:48:34 - Precision@10: 13.67%\n",
            "2020-09-07 02:48:34 - Recall@1: 73.19%\n",
            "2020-09-07 02:48:34 - Recall@3: 87.38%\n",
            "2020-09-07 02:48:34 - Recall@5: 91.14%\n",
            "2020-09-07 02:48:34 - Recall@10: 93.78%\n",
            "2020-09-07 02:48:34 - MRR@10: 0.8967\n",
            "2020-09-07 02:48:34 - NDCG@10: 0.8935\n",
            "2020-09-07 02:48:34 - MAP@100: 0.8700\n",
            "2020-09-07 02:48:34 - Queries: 5000\n",
            "2020-09-07 02:48:34 - Corpus: 100000\n",
            "\n",
            "2020-09-07 02:48:34 - Save model to /content/drive/My Drive/Colab Notebooks/BERT/QUORA/output/training_multi-task-learning\n",
            "2020-09-07 02:48:34 - Configuration saved in /content/drive/My Drive/Colab Notebooks/BERT/QUORA/output/training_multi-task-learning/0_Transformer/config.json\n",
            "2020-09-07 02:48:35 - Model weights saved in /content/drive/My Drive/Colab Notebooks/BERT/QUORA/output/training_multi-task-learning/0_Transformer/pytorch_model.bin\n",
            "\n"
          ],
          "name": "stdout"
        }
      ]
    },
    {
      "cell_type": "code",
      "metadata": {
        "id": "N5AMwjMrWW_6",
        "colab_type": "code",
        "colab": {}
      },
      "source": [
        ""
      ],
      "execution_count": null,
      "outputs": []
    }
  ]
}