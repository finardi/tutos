{
  "nbformat": 4,
  "nbformat_minor": 0,
  "metadata": {
    "colab": {
      "name": "Exemplo de Self Attention.ipynb",
      "provenance": [],
      "authorship_tag": "ABX9TyPUXvptqMDDaTmhg3oaGD1f",
      "include_colab_link": true
    },
    "kernelspec": {
      "name": "python3",
      "display_name": "Python 3"
    }
  },
  "cells": [
    {
      "cell_type": "markdown",
      "metadata": {
        "id": "view-in-github",
        "colab_type": "text"
      },
      "source": [
        "<a href=\"https://colab.research.google.com/github/finardi/tutos/blob/master/Exemplo_Self_Attention.ipynb\" target=\"_parent\"><img src=\"https://colab.research.google.com/assets/colab-badge.svg\" alt=\"Open In Colab\"/></a>"
      ]
    },
    {
      "cell_type": "markdown",
      "metadata": {
        "id": "cdXdt1fRs52A"
      },
      "source": [
        "# Exemplo de self attention"
      ]
    },
    {
      "cell_type": "code",
      "metadata": {
        "id": "a8tpHOAtMz-W"
      },
      "source": [
        "import torch \n",
        "import numpy as np\n",
        "import seaborn as sns"
      ],
      "execution_count": 1,
      "outputs": []
    },
    {
      "cell_type": "code",
      "metadata": {
        "id": "oQNdgEQ3MIy_",
        "colab": {
          "base_uri": "https://localhost:8080/"
        },
        "outputId": "bbd74a00-9064-416e-d46a-8f795e9fff0f"
      },
      "source": [
        "# 00 -- ENTRADA:\n",
        "text = 'Quero um cartão'\n",
        "text_tokens = ['Quero', 'um', 'cartão']\n",
        "\n",
        "# 01 -- IDs:\n",
        "text_ids = [27,11,83]\n",
        "VOCAB = 100 # Quantidade de palavras\n",
        "\n",
        "# 02 -- DIMENSÃO DOS EMBEDDINGS = 4:\n",
        "D = 4\n",
        "\n",
        "# 03 -- COMPRIMENTO DA SEQUÊNCIA:\n",
        "L = 3\n",
        "\n",
        "# 04 -- MATRIZ DE EMBEDDINGS LxD:\n",
        "text_emb = torch.tensor([\n",
        "                         [0,1,2,0], \n",
        "                         [1,0,1,1],\n",
        "                         [1,0,1,2],\n",
        "                        ]).long()\n",
        "\n",
        "# 05 -- PRINT - SANITY CHECK:\n",
        "for i in zip(text_tokens, text_ids, text_emb):\n",
        "    print(f'Palavra: {i[0] :<6} -- ID: {i[1]} -- Embedding: {i[2]}')"
      ],
      "execution_count": 2,
      "outputs": [
        {
          "output_type": "stream",
          "text": [
            "Palavra: Quero  -- ID: 27 -- Embedding: tensor([0, 1, 2, 0])\n",
            "Palavra: um     -- ID: 11 -- Embedding: tensor([1, 0, 1, 1])\n",
            "Palavra: cartão -- ID: 83 -- Embedding: tensor([1, 0, 1, 2])\n"
          ],
          "name": "stdout"
        }
      ]
    },
    {
      "cell_type": "code",
      "metadata": {
        "id": "7tnY8t3RROt2",
        "colab": {
          "base_uri": "https://localhost:8080/"
        },
        "outputId": "0805c780-7cb0-4f80-dd62-e22683bf4973"
      },
      "source": [
        "# 06 -- USAR O nn.EMBEDDING PyTorch para CONSTRUIR AS MATRIZ DE PESOS Q, K, V:\n",
        "\n",
        "embs  = torch.nn.Embedding(VOCAB, D)\n",
        "\n",
        "# tensor com zeros_like\n",
        "embeddings = torch.zeros(len(text_ids) * D).reshape(len(text_ids), D) \n",
        "\n",
        "print(f'Shape da matriz de embeddings: {embeddings.shape}\\n')\n",
        "\n",
        "print('Texto\\t\\t\\t     Matriz de embeddings\\n')\n",
        "for i , token in enumerate(text_ids):\n",
        "    embeddings[i] = embs(torch.tensor(token))\n",
        "embeddings"
      ],
      "execution_count": 3,
      "outputs": [
        {
          "output_type": "stream",
          "text": [
            "Shape da matriz de embeddings: torch.Size([3, 4])\n",
            "\n",
            "Texto\t\t\t     Matriz de embeddings\n",
            "\n"
          ],
          "name": "stdout"
        },
        {
          "output_type": "execute_result",
          "data": {
            "text/plain": [
              "tensor([[-0.4409, -0.7220, -0.8106, -0.3540],\n",
              "        [-0.4031,  0.1947,  0.3793,  0.6797],\n",
              "        [ 0.0089,  0.4216, -1.2296, -2.1588]], grad_fn=<AsStridedBackward>)"
            ]
          },
          "metadata": {
            "tags": []
          },
          "execution_count": 3
        }
      ]
    },
    {
      "cell_type": "code",
      "metadata": {
        "id": "5FBA15gsMIwS"
      },
      "source": [
        "# 06 -- MATRIZ DE PESOS, Q, K, V --> DxD (INICIADOS ARBITRARIAMENTE):\n",
        "\n",
        "Qw = torch.tensor([\n",
        "                   [1,  0, -1,  1], \n",
        "                   [0,  1,  0, -2],\n",
        "                   [3,  1, -2,  0],\n",
        "                   [0, -2,  1,  3],\n",
        "                ])\n",
        "\n",
        "Kw = torch.tensor([\n",
        "                   [3, -1,  0, -1], \n",
        "                   [0,  1, -1,  0],\n",
        "                   [3,  1,  0, -1],\n",
        "                   [-1, 0,  1,  3],\n",
        "                 ])\n",
        "\n",
        "Vw = torch.tensor([\n",
        "                   [-2, 0,  3,  0], \n",
        "                   [-1, 1, -2, -1],\n",
        "                   [-2, 1,  2,  3],\n",
        "                   [3,  2,  1, -2],\n",
        "                 ])"
      ],
      "execution_count": 11,
      "outputs": []
    },
    {
      "cell_type": "code",
      "metadata": {
        "id": "OS5NVaPXMItv",
        "colab": {
          "base_uri": "https://localhost:8080/"
        },
        "outputId": "0a505528-34b1-4261-ab38-81b7931629a8"
      },
      "source": [
        "# 07 -- OBTER Q, K e V:\n",
        "print(f'Shape da entrada: {text_emb.size()} -- Shape das Matrizes de pesos Qw, Kw e Vw: {Qw.size()}')"
      ],
      "execution_count": 12,
      "outputs": [
        {
          "output_type": "stream",
          "text": [
            "Shape da entrada: torch.Size([3, 4]) -- Shape das Matrizes de pesos Qw, Kw e Vw: torch.Size([4, 4])\n"
          ],
          "name": "stdout"
        }
      ]
    },
    {
      "cell_type": "code",
      "metadata": {
        "id": "daPRGnNWMIq1"
      },
      "source": [
        "K =  torch.einsum('ab, bc -> ac', text_emb, Kw) # text_emb @ Kw\n",
        "V =  torch.einsum('ab, bc -> ac', text_emb, Vw) # text_emb @ Vw\n",
        "Q =  torch.einsum('ab, bc -> ac', text_emb, Qw) # text_emb @ Qw"
      ],
      "execution_count": 13,
      "outputs": []
    },
    {
      "cell_type": "code",
      "metadata": {
        "id": "cY7HNYRTMIoW",
        "colab": {
          "base_uri": "https://localhost:8080/"
        },
        "outputId": "66b957b0-7dcf-4a75-af59-095db1777f05"
      },
      "source": [
        "K"
      ],
      "execution_count": 14,
      "outputs": [
        {
          "output_type": "execute_result",
          "data": {
            "text/plain": [
              "tensor([[ 6,  3, -1, -2],\n",
              "        [ 5,  0,  1,  1],\n",
              "        [ 4,  0,  2,  4]])"
            ]
          },
          "metadata": {
            "tags": []
          },
          "execution_count": 14
        }
      ]
    },
    {
      "cell_type": "code",
      "metadata": {
        "id": "BgEZOvSZMIl0",
        "colab": {
          "base_uri": "https://localhost:8080/"
        },
        "outputId": "93c99767-92e6-435e-a035-ea7f4a4ee613"
      },
      "source": [
        "V"
      ],
      "execution_count": 15,
      "outputs": [
        {
          "output_type": "execute_result",
          "data": {
            "text/plain": [
              "tensor([[-5,  3,  2,  5],\n",
              "        [-1,  3,  6,  1],\n",
              "        [ 2,  5,  7, -1]])"
            ]
          },
          "metadata": {
            "tags": []
          },
          "execution_count": 15
        }
      ]
    },
    {
      "cell_type": "code",
      "metadata": {
        "id": "GSj4Xs47MIjP",
        "colab": {
          "base_uri": "https://localhost:8080/"
        },
        "outputId": "255b6d0f-4ba8-43f4-d314-d60b04ac396b"
      },
      "source": [
        "Q"
      ],
      "execution_count": 16,
      "outputs": [
        {
          "output_type": "execute_result",
          "data": {
            "text/plain": [
              "tensor([[ 6,  3, -4, -2],\n",
              "        [ 4, -1, -2,  4],\n",
              "        [ 4, -3, -1,  7]])"
            ]
          },
          "metadata": {
            "tags": []
          },
          "execution_count": 16
        }
      ]
    },
    {
      "cell_type": "code",
      "metadata": {
        "id": "Ss7IYIZFMIgq",
        "colab": {
          "base_uri": "https://localhost:8080/"
        },
        "outputId": "7ebd2812-257b-4a90-8724-66109522cb9b"
      },
      "source": [
        "# 08 -- CALCULAR O SCORE:\n",
        "QKT = torch.einsum('ab, cb -> ac', Q, K) # Q @ K.T\n",
        "QKT"
      ],
      "execution_count": 17,
      "outputs": [
        {
          "output_type": "execute_result",
          "data": {
            "text/plain": [
              "tensor([[53, 24,  8],\n",
              "        [15, 22, 28],\n",
              "        [ 2, 26, 42]])"
            ]
          },
          "metadata": {
            "tags": []
          },
          "execution_count": 17
        }
      ]
    },
    {
      "cell_type": "code",
      "metadata": {
        "id": "ZyFL9sryMIeR",
        "colab": {
          "base_uri": "https://localhost:8080/"
        },
        "outputId": "45cb48be-2996-466d-f282-c7ad86b2fd04"
      },
      "source": [
        "# 09 -- SOFTMAX:\n",
        "S = torch.nn.Softmax(dim=-1)\n",
        "S(QKT.float())"
      ],
      "execution_count": 18,
      "outputs": [
        {
          "output_type": "execute_result",
          "data": {
            "text/plain": [
              "tensor([[1.0000e+00, 2.5437e-13, 2.8625e-20],\n",
              "        [2.2547e-06, 2.4726e-03, 9.9753e-01],\n",
              "        [4.2484e-18, 1.1254e-07, 1.0000e+00]])"
            ]
          },
          "metadata": {
            "tags": []
          },
          "execution_count": 18
        }
      ]
    },
    {
      "cell_type": "code",
      "metadata": {
        "id": "upZSHypsMIbw"
      },
      "source": [
        "# 10 -- SIMPLIFICAR S - POR SIMPLICIDADE DE ENTENDIMENTO:\n",
        "Softmax  = torch.tensor([\n",
        "                         [1,    0,    0  ], \n",
        "                         [0.01, 0.09, 0.9],\n",
        "                         [0,    0,    1  ],\n",
        "                 ])"
      ],
      "execution_count": 19,
      "outputs": []
    },
    {
      "cell_type": "code",
      "metadata": {
        "id": "hjbUXARcYveN",
        "colab": {
          "base_uri": "https://localhost:8080/"
        },
        "outputId": "99f9c105-26d6-4f51-cd76-1ae350143911"
      },
      "source": [
        "# 11 -- SOFTMAX * V (EXTRATOR DE FEAT):\n",
        "SV = torch.einsum('ab, bc -> ac', Softmax,V.float())\n",
        "SV "
      ],
      "execution_count": 20,
      "outputs": [
        {
          "output_type": "execute_result",
          "data": {
            "text/plain": [
              "tensor([[-5.0000,  3.0000,  2.0000,  5.0000],\n",
              "        [ 1.6600,  4.8000,  6.8600, -0.7600],\n",
              "        [ 2.0000,  5.0000,  7.0000, -1.0000]])"
            ]
          },
          "metadata": {
            "tags": []
          },
          "execution_count": 20
        }
      ]
    },
    {
      "cell_type": "code",
      "metadata": {
        "id": "EjxQz4s8Yvbh",
        "colab": {
          "base_uri": "https://localhost:8080/"
        },
        "outputId": "5139a46e-fa93-4391-8e5f-2abdcc0c8db9"
      },
      "source": [
        "# 12 -- MULTIPLICAR PELA MATRIZ DE PROJEÇÃO Wo\n",
        "\n",
        "# PESOS DA Wo (INICIADOS ARBITRARIAMENTE)\n",
        "Wo = torch.tensor([\n",
        "                   [2,  0, -1,  1], \n",
        "                   [1, -1, -2,  1],\n",
        "                   [2,  0,  1,  0],\n",
        "                   [0, -2,  1, -1],\n",
        "                 ])\n",
        "Wo.shape"
      ],
      "execution_count": 21,
      "outputs": [
        {
          "output_type": "execute_result",
          "data": {
            "text/plain": [
              "torch.Size([4, 4])"
            ]
          },
          "metadata": {
            "tags": []
          },
          "execution_count": 21
        }
      ]
    },
    {
      "cell_type": "code",
      "metadata": {
        "id": "JkXnSgXwb29Z",
        "colab": {
          "base_uri": "https://localhost:8080/"
        },
        "outputId": "aa93ea42-d275-4bc5-e2c8-dd15616c9446"
      },
      "source": [
        "## 13 -- SV @ Wo = MATRIZ DE ATENÇÃO:\n",
        "\n",
        "ATT = torch.einsum('ab, bc -> ac', SV, Wo.float())/8 # SV @ Wo\n",
        "ATT"
      ],
      "execution_count": 27,
      "outputs": [
        {
          "output_type": "execute_result",
          "data": {
            "text/plain": [
              "tensor([[-0.3750, -1.6250,  0.7500, -0.8750],\n",
              "        [ 2.7300, -0.4100, -0.6450,  0.9025],\n",
              "        [ 2.8750, -0.3750, -0.7500,  1.0000]])"
            ]
          },
          "metadata": {
            "tags": []
          },
          "execution_count": 27
        }
      ]
    },
    {
      "cell_type": "code",
      "metadata": {
        "id": "WdjObeR-5GUC",
        "outputId": "808e8802-23fd-41ed-943c-9254a4cb3e38",
        "colab": {
          "base_uri": "https://localhost:8080/",
          "height": 285
        }
      },
      "source": [
        "# Embs sem ATT\n",
        "\n",
        "sns.heatmap(embeddings.detach().numpy(), center=0)"
      ],
      "execution_count": 28,
      "outputs": [
        {
          "output_type": "execute_result",
          "data": {
            "text/plain": [
              "<matplotlib.axes._subplots.AxesSubplot at 0x7feebe6dbad0>"
            ]
          },
          "metadata": {
            "tags": []
          },
          "execution_count": 28
        },
        {
          "output_type": "display_data",
          "data": {
            "image/png": "[encoded data removed]",
            "text/plain": [
              "<Figure size 432x288 with 2 Axes>"
            ]
          },
          "metadata": {
            "tags": [],
            "needs_background": "light"
          }
        }
      ]
    },
    {
      "cell_type": "code",
      "metadata": {
        "id": "UccmwfhU48pn",
        "outputId": "c94e6687-58da-4af9-dfd4-090aa42bfafe",
        "colab": {
          "base_uri": "https://localhost:8080/",
          "height": 285
        }
      },
      "source": [
        "# ATT Embs\n",
        "sns.heatmap(ATT.detach().numpy(), center=0)"
      ],
      "execution_count": 29,
      "outputs": [
        {
          "output_type": "execute_result",
          "data": {
            "text/plain": [
              "<matplotlib.axes._subplots.AxesSubplot at 0x7feebe741a50>"
            ]
          },
          "metadata": {
            "tags": []
          },
          "execution_count": 29
        },
        {
          "output_type": "display_data",
          "data": {
            "image/png": "[encoded data removed]",
            "text/plain": [
              "<Figure size 432x288 with 2 Axes>"
            ]
          },
          "metadata": {
            "tags": [],
            "needs_background": "light"
          }
        }
      ]
    },
    {
      "cell_type": "markdown",
      "metadata": {
        "id": "z5EI8ia0gLJK"
      },
      "source": [
        "# Fim do Notebook"
      ]
    }
  ]
}