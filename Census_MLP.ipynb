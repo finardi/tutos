{
  "nbformat": 4,
  "nbformat_minor": 0,
  "metadata": {
    "colab": {
      "name": "Census-MLP.ipynb",
      "provenance": [],
      "toc_visible": true,
      "mount_file_id": "1zm0CKMBj6EJg2qbEPgL5upOB-07BU1Df",
      "authorship_tag": "ABX9TyONctm8mebXVuQwS2sQSI5x",
      "include_colab_link": true
    },
    "kernelspec": {
      "name": "python3",
      "display_name": "Python 3"
    },
    "accelerator": "GPU"
  },
  "cells": [
    {
      "cell_type": "markdown",
      "metadata": {
        "id": "view-in-github",
        "colab_type": "text"
      },
      "source": [
        "<a href=\"https://colab.research.google.com/github/finardi/tutos/blob/master/Census_MLP.ipynb\" target=\"_parent\"><img src=\"https://colab.research.google.com/assets/colab-badge.svg\" alt=\"Open In Colab\"/></a>"
      ]
    },
    {
      "cell_type": "code",
      "metadata": {
        "id": "ljhWsSxBCW1F",
        "colab_type": "code",
        "colab": {
          "base_uri": "https://localhost:8080/",
          "height": 357
        },
        "outputId": "5089f293-929c-4b46-a51e-31faabf1c81a"
      },
      "source": [
        "! nvidia-smi"
      ],
      "execution_count": 1,
      "outputs": [
        {
          "output_type": "stream",
          "text": [
            "Sun Aug  2 15:39:47 2020       \n",
            "+-----------------------------------------------------------------------------+\n",
            "| NVIDIA-SMI 450.57       Driver Version: 418.67       CUDA Version: 10.1     |\n",
            "|-------------------------------+----------------------+----------------------+\n",
            "| GPU  Name        Persistence-M| Bus-Id        Disp.A | Volatile Uncorr. ECC |\n",
            "| Fan  Temp  Perf  Pwr:Usage/Cap|         Memory-Usage | GPU-Util  Compute M. |\n",
            "|                               |                      |               MIG M. |\n",
            "|===============================+======================+======================|\n",
            "|   0  Tesla K80           Off  | 00000000:00:04.0 Off |                    0 |\n",
            "| N/A   35C    P8    26W / 149W |      0MiB / 11441MiB |      0%      Default |\n",
            "|                               |                      |                 ERR! |\n",
            "+-------------------------------+----------------------+----------------------+\n",
            "                                                                               \n",
            "+-----------------------------------------------------------------------------+\n",
            "| Processes:                                                                  |\n",
            "|  GPU   GI   CI        PID   Type   Process name                  GPU Memory |\n",
            "|        ID   ID                                                   Usage      |\n",
            "|=============================================================================|\n",
            "|  No running processes found                                                 |\n",
            "+-----------------------------------------------------------------------------+\n"
          ],
          "name": "stdout"
        }
      ]
    },
    {
      "cell_type": "code",
      "metadata": {
        "id": "DGGzrVrhDkwK",
        "colab_type": "code",
        "colab": {
          "base_uri": "https://localhost:8080/",
          "height": 71
        },
        "outputId": "494b364a-4fe0-4174-d10f-491046b3aa01"
      },
      "source": [
        "# Basics\n",
        "import os\n",
        "import pandas as pd\n",
        "import numpy as np\n",
        "import matplotlib.pyplot as plt\n",
        "import seaborn as sns\n",
        "\n",
        "# PyTorch\n",
        "import torch \n",
        "from torch import nn\n",
        "import torch.nn.functional as F\n",
        "from torch.utils.data import Dataset, DataLoader\n",
        "\n",
        "# Sklearn\n",
        "from sklearn.model_selection import train_test_split\n",
        "from sklearn.metrics import roc_auc_score\n",
        "from sklearn.metrics import roc_curve\n",
        "from sklearn.metrics import auc\n",
        "from sklearn.metrics import confusion_matrix\n",
        "from sklearn.metrics import precision_recall_curve\n",
        "from sklearn.preprocessing import MinMaxScaler\n",
        "from sklearn.preprocessing import quantile_transform\n",
        "\n",
        "# Scipy\n",
        "from scipy import stats"
      ],
      "execution_count": 2,
      "outputs": [
        {
          "output_type": "stream",
          "text": [
            "/usr/local/lib/python3.6/dist-packages/statsmodels/tools/_testing.py:19: FutureWarning: pandas.util.testing is deprecated. Use the functions in the public API at pandas.testing instead.\n",
            "  import pandas.util.testing as tm\n"
          ],
          "name": "stderr"
        }
      ]
    },
    {
      "cell_type": "code",
      "metadata": {
        "id": "ExCYVPc1CZlH",
        "colab_type": "code",
        "colab": {
          "base_uri": "https://localhost:8080/",
          "height": 34
        },
        "outputId": "a9ebd032-3e37-4925-e352-73f5e244dc2a"
      },
      "source": [
        "device = torch.device('cuda' if torch.cuda.is_available() else 'cpu')\n",
        "manual_seed = 2357\n",
        "\n",
        "def deterministic(rep=True):\n",
        "    if rep:\n",
        "        np.random.seed(manual_seed)\n",
        "        torch.manual_seed(manual_seed)\n",
        "        if torch.cuda.is_available():\n",
        "            torch.cuda.manual_seed(manual_seed)\n",
        "            torch.cuda.manual_seed_all(manual_seed)\n",
        "        torch.backends.cudnn.enabled = False \n",
        "        torch.backends.cudnn.benchmark = False\n",
        "        torch.backends.cudnn.deterministic = True\n",
        "        print(f'Deterministic experiment, seed: {manual_seed}')\n",
        "    else:\n",
        "        print('Random experiment')\n",
        "\n",
        "deterministic()"
      ],
      "execution_count": 3,
      "outputs": [
        {
          "output_type": "stream",
          "text": [
            "Deterministic experiment, seed: 2357\n"
          ],
          "name": "stdout"
        }
      ]
    },
    {
      "cell_type": "code",
      "metadata": {
        "id": "gwVVI3JADtbh",
        "colab_type": "code",
        "colab": {
          "base_uri": "https://localhost:8080/",
          "height": 51
        },
        "outputId": "73011ee9-6de0-4db1-e175-617d472beff6"
      },
      "source": [
        "try:\n",
        "    df = pd.read_csv('/content/CensusData.csv');\n",
        "except:\n",
        "    !unzip '/content/drive/My Drive/Colab Notebooks/Tabular/36093_54253_bundle_archive.zip'\n",
        "    df = pd.read_csv('/content/CensusData.csv');"
      ],
      "execution_count": 6,
      "outputs": [
        {
          "output_type": "stream",
          "text": [
            "Archive:  /content/drive/My Drive/Colab Notebooks/Tabular/36093_54253_bundle_archive.zip\n",
            "  inflating: CensusData.csv          \n"
          ],
          "name": "stdout"
        }
      ]
    },
    {
      "cell_type": "code",
      "metadata": {
        "id": "Cc_N4JIrD1UN",
        "colab_type": "code",
        "colab": {
          "base_uri": "https://localhost:8080/",
          "height": 555
        },
        "outputId": "9e3c090e-359e-43e3-da29-f1a9ddb0e8cc"
      },
      "source": [
        "df"
      ],
      "execution_count": 7,
      "outputs": [
        {
          "output_type": "execute_result",
          "data": {
            "text/html": [
              "<div>\n",
              "<style scoped>\n",
              "    .dataframe tbody tr th:only-of-type {\n",
              "        vertical-align: middle;\n",
              "    }\n",
              "\n",
              "    .dataframe tbody tr th {\n",
              "        vertical-align: top;\n",
              "    }\n",
              "\n",
              "    .dataframe thead th {\n",
              "        text-align: right;\n",
              "    }\n",
              "</style>\n",
              "<table border=\"1\" class=\"dataframe\">\n",
              "  <thead>\n",
              "    <tr style=\"text-align: right;\">\n",
              "      <th></th>\n",
              "      <th>Age</th>\n",
              "      <th>workclass</th>\n",
              "      <th>fnlwgt</th>\n",
              "      <th>education</th>\n",
              "      <th>education-num</th>\n",
              "      <th>Marital-status</th>\n",
              "      <th>Occupation</th>\n",
              "      <th>Relationship</th>\n",
              "      <th>Race</th>\n",
              "      <th>Sex</th>\n",
              "      <th>capital-gain</th>\n",
              "      <th>capital-loss</th>\n",
              "      <th>hours-per-week</th>\n",
              "      <th>native-country</th>\n",
              "      <th>Income</th>\n",
              "    </tr>\n",
              "  </thead>\n",
              "  <tbody>\n",
              "    <tr>\n",
              "      <th>0</th>\n",
              "      <td>39</td>\n",
              "      <td>State-gov</td>\n",
              "      <td>77516</td>\n",
              "      <td>Bachelors</td>\n",
              "      <td>13</td>\n",
              "      <td>Never-married</td>\n",
              "      <td>Adm-clerical</td>\n",
              "      <td>Not-in-family</td>\n",
              "      <td>White</td>\n",
              "      <td>Male</td>\n",
              "      <td>2174</td>\n",
              "      <td>0</td>\n",
              "      <td>40</td>\n",
              "      <td>United-States</td>\n",
              "      <td>&lt;=50K</td>\n",
              "    </tr>\n",
              "    <tr>\n",
              "      <th>1</th>\n",
              "      <td>50</td>\n",
              "      <td>Self-emp-not-inc</td>\n",
              "      <td>83311</td>\n",
              "      <td>Bachelors</td>\n",
              "      <td>13</td>\n",
              "      <td>Married-civ-spouse</td>\n",
              "      <td>Exec-managerial</td>\n",
              "      <td>Husband</td>\n",
              "      <td>White</td>\n",
              "      <td>Male</td>\n",
              "      <td>0</td>\n",
              "      <td>0</td>\n",
              "      <td>13</td>\n",
              "      <td>United-States</td>\n",
              "      <td>&lt;=50K</td>\n",
              "    </tr>\n",
              "    <tr>\n",
              "      <th>2</th>\n",
              "      <td>38</td>\n",
              "      <td>Private</td>\n",
              "      <td>215646</td>\n",
              "      <td>HS-grad</td>\n",
              "      <td>9</td>\n",
              "      <td>Divorced</td>\n",
              "      <td>Handlers-cleaners</td>\n",
              "      <td>Not-in-family</td>\n",
              "      <td>White</td>\n",
              "      <td>Male</td>\n",
              "      <td>0</td>\n",
              "      <td>0</td>\n",
              "      <td>40</td>\n",
              "      <td>United-States</td>\n",
              "      <td>&lt;=50K</td>\n",
              "    </tr>\n",
              "    <tr>\n",
              "      <th>3</th>\n",
              "      <td>53</td>\n",
              "      <td>Private</td>\n",
              "      <td>234721</td>\n",
              "      <td>11th</td>\n",
              "      <td>7</td>\n",
              "      <td>Married-civ-spouse</td>\n",
              "      <td>Handlers-cleaners</td>\n",
              "      <td>Husband</td>\n",
              "      <td>Black</td>\n",
              "      <td>Male</td>\n",
              "      <td>0</td>\n",
              "      <td>0</td>\n",
              "      <td>40</td>\n",
              "      <td>United-States</td>\n",
              "      <td>&lt;=50K</td>\n",
              "    </tr>\n",
              "    <tr>\n",
              "      <th>4</th>\n",
              "      <td>28</td>\n",
              "      <td>Private</td>\n",
              "      <td>338409</td>\n",
              "      <td>Bachelors</td>\n",
              "      <td>13</td>\n",
              "      <td>Married-civ-spouse</td>\n",
              "      <td>Prof-specialty</td>\n",
              "      <td>Wife</td>\n",
              "      <td>Black</td>\n",
              "      <td>Female</td>\n",
              "      <td>0</td>\n",
              "      <td>0</td>\n",
              "      <td>40</td>\n",
              "      <td>Cuba</td>\n",
              "      <td>&lt;=50K</td>\n",
              "    </tr>\n",
              "    <tr>\n",
              "      <th>...</th>\n",
              "      <td>...</td>\n",
              "      <td>...</td>\n",
              "      <td>...</td>\n",
              "      <td>...</td>\n",
              "      <td>...</td>\n",
              "      <td>...</td>\n",
              "      <td>...</td>\n",
              "      <td>...</td>\n",
              "      <td>...</td>\n",
              "      <td>...</td>\n",
              "      <td>...</td>\n",
              "      <td>...</td>\n",
              "      <td>...</td>\n",
              "      <td>...</td>\n",
              "      <td>...</td>\n",
              "    </tr>\n",
              "    <tr>\n",
              "      <th>32556</th>\n",
              "      <td>27</td>\n",
              "      <td>Private</td>\n",
              "      <td>257302</td>\n",
              "      <td>Assoc-acdm</td>\n",
              "      <td>12</td>\n",
              "      <td>Married-civ-spouse</td>\n",
              "      <td>Tech-support</td>\n",
              "      <td>Wife</td>\n",
              "      <td>White</td>\n",
              "      <td>Female</td>\n",
              "      <td>0</td>\n",
              "      <td>0</td>\n",
              "      <td>38</td>\n",
              "      <td>United-States</td>\n",
              "      <td>&lt;=50K</td>\n",
              "    </tr>\n",
              "    <tr>\n",
              "      <th>32557</th>\n",
              "      <td>40</td>\n",
              "      <td>Private</td>\n",
              "      <td>154374</td>\n",
              "      <td>HS-grad</td>\n",
              "      <td>9</td>\n",
              "      <td>Married-civ-spouse</td>\n",
              "      <td>Machine-op-inspct</td>\n",
              "      <td>Husband</td>\n",
              "      <td>White</td>\n",
              "      <td>Male</td>\n",
              "      <td>0</td>\n",
              "      <td>0</td>\n",
              "      <td>40</td>\n",
              "      <td>United-States</td>\n",
              "      <td>&gt;50K</td>\n",
              "    </tr>\n",
              "    <tr>\n",
              "      <th>32558</th>\n",
              "      <td>58</td>\n",
              "      <td>Private</td>\n",
              "      <td>151910</td>\n",
              "      <td>HS-grad</td>\n",
              "      <td>9</td>\n",
              "      <td>Widowed</td>\n",
              "      <td>Adm-clerical</td>\n",
              "      <td>Unmarried</td>\n",
              "      <td>White</td>\n",
              "      <td>Female</td>\n",
              "      <td>0</td>\n",
              "      <td>0</td>\n",
              "      <td>40</td>\n",
              "      <td>United-States</td>\n",
              "      <td>&lt;=50K</td>\n",
              "    </tr>\n",
              "    <tr>\n",
              "      <th>32559</th>\n",
              "      <td>22</td>\n",
              "      <td>Private</td>\n",
              "      <td>201490</td>\n",
              "      <td>HS-grad</td>\n",
              "      <td>9</td>\n",
              "      <td>Never-married</td>\n",
              "      <td>Adm-clerical</td>\n",
              "      <td>Own-child</td>\n",
              "      <td>White</td>\n",
              "      <td>Male</td>\n",
              "      <td>0</td>\n",
              "      <td>0</td>\n",
              "      <td>20</td>\n",
              "      <td>United-States</td>\n",
              "      <td>&lt;=50K</td>\n",
              "    </tr>\n",
              "    <tr>\n",
              "      <th>32560</th>\n",
              "      <td>52</td>\n",
              "      <td>Self-emp-inc</td>\n",
              "      <td>287927</td>\n",
              "      <td>HS-grad</td>\n",
              "      <td>9</td>\n",
              "      <td>Married-civ-spouse</td>\n",
              "      <td>Exec-managerial</td>\n",
              "      <td>Wife</td>\n",
              "      <td>White</td>\n",
              "      <td>Female</td>\n",
              "      <td>15024</td>\n",
              "      <td>0</td>\n",
              "      <td>40</td>\n",
              "      <td>United-States</td>\n",
              "      <td>&gt;50K</td>\n",
              "    </tr>\n",
              "  </tbody>\n",
              "</table>\n",
              "<p>32561 rows × 15 columns</p>\n",
              "</div>"
            ],
            "text/plain": [
              "       Age          workclass  fnlwgt  ... hours-per-week  native-country  Income\n",
              "0       39          State-gov   77516  ...             40   United-States   <=50K\n",
              "1       50   Self-emp-not-inc   83311  ...             13   United-States   <=50K\n",
              "2       38            Private  215646  ...             40   United-States   <=50K\n",
              "3       53            Private  234721  ...             40   United-States   <=50K\n",
              "4       28            Private  338409  ...             40            Cuba   <=50K\n",
              "...    ...                ...     ...  ...            ...             ...     ...\n",
              "32556   27            Private  257302  ...             38   United-States   <=50K\n",
              "32557   40            Private  154374  ...             40   United-States    >50K\n",
              "32558   58            Private  151910  ...             40   United-States   <=50K\n",
              "32559   22            Private  201490  ...             20   United-States   <=50K\n",
              "32560   52       Self-emp-inc  287927  ...             40   United-States    >50K\n",
              "\n",
              "[32561 rows x 15 columns]"
            ]
          },
          "metadata": {
            "tags": []
          },
          "execution_count": 7
        }
      ]
    },
    {
      "cell_type": "markdown",
      "metadata": {
        "id": "h_4qDj3w7tB5",
        "colab_type": "text"
      },
      "source": [
        "### Troca do Label para numérico"
      ]
    },
    {
      "cell_type": "code",
      "metadata": {
        "id": "5X2KIjyy7whu",
        "colab_type": "code",
        "colab": {
          "base_uri": "https://localhost:8080/",
          "height": 68
        },
        "outputId": "2524b9ba-0cfc-4706-ed18-34d191f6424a"
      },
      "source": [
        "# Verificar a contagem antes\n",
        "df.Income.value_counts()"
      ],
      "execution_count": 8,
      "outputs": [
        {
          "output_type": "execute_result",
          "data": {
            "text/plain": [
              " <=50K    24720\n",
              " >50K      7841\n",
              "Name: Income, dtype: int64"
            ]
          },
          "metadata": {
            "tags": []
          },
          "execution_count": 8
        }
      ]
    },
    {
      "cell_type": "code",
      "metadata": {
        "id": "1TZ22KPWgBC5",
        "colab_type": "code",
        "colab": {
          "base_uri": "https://localhost:8080/",
          "height": 68
        },
        "outputId": "6403be1f-685d-4d0b-db9a-3c59f0dbd153"
      },
      "source": [
        "# Verificar a contagem depois\n",
        "df['Income'] = np.where(df['Income'] == ' <=50K', 0,1)\n",
        "df.Income.value_counts()"
      ],
      "execution_count": 9,
      "outputs": [
        {
          "output_type": "execute_result",
          "data": {
            "text/plain": [
              "0    24720\n",
              "1     7841\n",
              "Name: Income, dtype: int64"
            ]
          },
          "metadata": {
            "tags": []
          },
          "execution_count": 9
        }
      ]
    },
    {
      "cell_type": "markdown",
      "metadata": {
        "id": "W5FFvnYe79jx",
        "colab_type": "text"
      },
      "source": [
        "### Fazer split entre train e test"
      ]
    },
    {
      "cell_type": "code",
      "metadata": {
        "id": "gz1e4bvIZDNs",
        "colab_type": "code",
        "colab": {
          "base_uri": "https://localhost:8080/",
          "height": 34
        },
        "outputId": "8386a13c-4a92-42ad-bb58-ad31234613c2"
      },
      "source": [
        "df_train, df_test, y_train, y_test = train_test_split(df.iloc[:, :-1],df.Income, test_size=0.3)\n",
        "\n",
        "# volta para dataframe\n",
        "df_train = pd.DataFrame(df_train)\n",
        "df_test = pd.DataFrame(df_test)\n",
        "df_train.shape, y_train.shape, df_test.shape, y_test.shape"
      ],
      "execution_count": 10,
      "outputs": [
        {
          "output_type": "execute_result",
          "data": {
            "text/plain": [
              "((22792, 14), (22792,), (9769, 14), (9769,))"
            ]
          },
          "metadata": {
            "tags": []
          },
          "execution_count": 10
        }
      ]
    },
    {
      "cell_type": "code",
      "metadata": {
        "id": "IrdPFgURgLaL",
        "colab_type": "code",
        "colab": {
          "base_uri": "https://localhost:8080/",
          "height": 572
        },
        "outputId": "22102f20-6487-4589-dbdc-f4b1d1bb0a1a"
      },
      "source": [
        "df_train"
      ],
      "execution_count": 11,
      "outputs": [
        {
          "output_type": "execute_result",
          "data": {
            "text/html": [
              "<div>\n",
              "<style scoped>\n",
              "    .dataframe tbody tr th:only-of-type {\n",
              "        vertical-align: middle;\n",
              "    }\n",
              "\n",
              "    .dataframe tbody tr th {\n",
              "        vertical-align: top;\n",
              "    }\n",
              "\n",
              "    .dataframe thead th {\n",
              "        text-align: right;\n",
              "    }\n",
              "</style>\n",
              "<table border=\"1\" class=\"dataframe\">\n",
              "  <thead>\n",
              "    <tr style=\"text-align: right;\">\n",
              "      <th></th>\n",
              "      <th>Age</th>\n",
              "      <th>workclass</th>\n",
              "      <th>fnlwgt</th>\n",
              "      <th>education</th>\n",
              "      <th>education-num</th>\n",
              "      <th>Marital-status</th>\n",
              "      <th>Occupation</th>\n",
              "      <th>Relationship</th>\n",
              "      <th>Race</th>\n",
              "      <th>Sex</th>\n",
              "      <th>capital-gain</th>\n",
              "      <th>capital-loss</th>\n",
              "      <th>hours-per-week</th>\n",
              "      <th>native-country</th>\n",
              "    </tr>\n",
              "  </thead>\n",
              "  <tbody>\n",
              "    <tr>\n",
              "      <th>18991</th>\n",
              "      <td>24</td>\n",
              "      <td>Private</td>\n",
              "      <td>276851</td>\n",
              "      <td>HS-grad</td>\n",
              "      <td>9</td>\n",
              "      <td>Divorced</td>\n",
              "      <td>Protective-serv</td>\n",
              "      <td>Own-child</td>\n",
              "      <td>White</td>\n",
              "      <td>Female</td>\n",
              "      <td>0</td>\n",
              "      <td>1762</td>\n",
              "      <td>40</td>\n",
              "      <td>United-States</td>\n",
              "    </tr>\n",
              "    <tr>\n",
              "      <th>9743</th>\n",
              "      <td>33</td>\n",
              "      <td>Self-emp-not-inc</td>\n",
              "      <td>193246</td>\n",
              "      <td>HS-grad</td>\n",
              "      <td>9</td>\n",
              "      <td>Never-married</td>\n",
              "      <td>Exec-managerial</td>\n",
              "      <td>Not-in-family</td>\n",
              "      <td>White</td>\n",
              "      <td>Male</td>\n",
              "      <td>0</td>\n",
              "      <td>0</td>\n",
              "      <td>55</td>\n",
              "      <td>France</td>\n",
              "    </tr>\n",
              "    <tr>\n",
              "      <th>23417</th>\n",
              "      <td>50</td>\n",
              "      <td>Private</td>\n",
              "      <td>197322</td>\n",
              "      <td>11th</td>\n",
              "      <td>7</td>\n",
              "      <td>Married-civ-spouse</td>\n",
              "      <td>Exec-managerial</td>\n",
              "      <td>Husband</td>\n",
              "      <td>White</td>\n",
              "      <td>Male</td>\n",
              "      <td>0</td>\n",
              "      <td>0</td>\n",
              "      <td>50</td>\n",
              "      <td>United-States</td>\n",
              "    </tr>\n",
              "    <tr>\n",
              "      <th>25248</th>\n",
              "      <td>45</td>\n",
              "      <td>Private</td>\n",
              "      <td>75673</td>\n",
              "      <td>Assoc-voc</td>\n",
              "      <td>11</td>\n",
              "      <td>Widowed</td>\n",
              "      <td>Adm-clerical</td>\n",
              "      <td>Not-in-family</td>\n",
              "      <td>Asian-Pac-Islander</td>\n",
              "      <td>Female</td>\n",
              "      <td>0</td>\n",
              "      <td>0</td>\n",
              "      <td>40</td>\n",
              "      <td>United-States</td>\n",
              "    </tr>\n",
              "    <tr>\n",
              "      <th>12892</th>\n",
              "      <td>27</td>\n",
              "      <td>Private</td>\n",
              "      <td>208725</td>\n",
              "      <td>Assoc-acdm</td>\n",
              "      <td>12</td>\n",
              "      <td>Never-married</td>\n",
              "      <td>Sales</td>\n",
              "      <td>Not-in-family</td>\n",
              "      <td>White</td>\n",
              "      <td>Male</td>\n",
              "      <td>0</td>\n",
              "      <td>0</td>\n",
              "      <td>42</td>\n",
              "      <td>United-States</td>\n",
              "    </tr>\n",
              "    <tr>\n",
              "      <th>...</th>\n",
              "      <td>...</td>\n",
              "      <td>...</td>\n",
              "      <td>...</td>\n",
              "      <td>...</td>\n",
              "      <td>...</td>\n",
              "      <td>...</td>\n",
              "      <td>...</td>\n",
              "      <td>...</td>\n",
              "      <td>...</td>\n",
              "      <td>...</td>\n",
              "      <td>...</td>\n",
              "      <td>...</td>\n",
              "      <td>...</td>\n",
              "      <td>...</td>\n",
              "    </tr>\n",
              "    <tr>\n",
              "      <th>16432</th>\n",
              "      <td>18</td>\n",
              "      <td>Private</td>\n",
              "      <td>267965</td>\n",
              "      <td>11th</td>\n",
              "      <td>7</td>\n",
              "      <td>Never-married</td>\n",
              "      <td>Sales</td>\n",
              "      <td>Not-in-family</td>\n",
              "      <td>White</td>\n",
              "      <td>Female</td>\n",
              "      <td>0</td>\n",
              "      <td>0</td>\n",
              "      <td>15</td>\n",
              "      <td>United-States</td>\n",
              "    </tr>\n",
              "    <tr>\n",
              "      <th>25934</th>\n",
              "      <td>47</td>\n",
              "      <td>Private</td>\n",
              "      <td>503454</td>\n",
              "      <td>12th</td>\n",
              "      <td>8</td>\n",
              "      <td>Never-married</td>\n",
              "      <td>Adm-clerical</td>\n",
              "      <td>Other-relative</td>\n",
              "      <td>Black</td>\n",
              "      <td>Female</td>\n",
              "      <td>0</td>\n",
              "      <td>0</td>\n",
              "      <td>40</td>\n",
              "      <td>United-States</td>\n",
              "    </tr>\n",
              "    <tr>\n",
              "      <th>3235</th>\n",
              "      <td>36</td>\n",
              "      <td>Self-emp-not-inc</td>\n",
              "      <td>367020</td>\n",
              "      <td>7th-8th</td>\n",
              "      <td>4</td>\n",
              "      <td>Married-civ-spouse</td>\n",
              "      <td>Craft-repair</td>\n",
              "      <td>Husband</td>\n",
              "      <td>White</td>\n",
              "      <td>Male</td>\n",
              "      <td>0</td>\n",
              "      <td>0</td>\n",
              "      <td>35</td>\n",
              "      <td>United-States</td>\n",
              "    </tr>\n",
              "    <tr>\n",
              "      <th>16377</th>\n",
              "      <td>54</td>\n",
              "      <td>Self-emp-not-inc</td>\n",
              "      <td>154785</td>\n",
              "      <td>Bachelors</td>\n",
              "      <td>13</td>\n",
              "      <td>Divorced</td>\n",
              "      <td>Exec-managerial</td>\n",
              "      <td>Not-in-family</td>\n",
              "      <td>White</td>\n",
              "      <td>Male</td>\n",
              "      <td>0</td>\n",
              "      <td>0</td>\n",
              "      <td>50</td>\n",
              "      <td>United-States</td>\n",
              "    </tr>\n",
              "    <tr>\n",
              "      <th>20271</th>\n",
              "      <td>41</td>\n",
              "      <td>?</td>\n",
              "      <td>206916</td>\n",
              "      <td>Bachelors</td>\n",
              "      <td>13</td>\n",
              "      <td>Married-spouse-absent</td>\n",
              "      <td>?</td>\n",
              "      <td>Not-in-family</td>\n",
              "      <td>White</td>\n",
              "      <td>Male</td>\n",
              "      <td>0</td>\n",
              "      <td>0</td>\n",
              "      <td>30</td>\n",
              "      <td>United-States</td>\n",
              "    </tr>\n",
              "  </tbody>\n",
              "</table>\n",
              "<p>22792 rows × 14 columns</p>\n",
              "</div>"
            ],
            "text/plain": [
              "       Age          workclass  ...  hours-per-week  native-country\n",
              "18991   24            Private  ...              40   United-States\n",
              "9743    33   Self-emp-not-inc  ...              55          France\n",
              "23417   50            Private  ...              50   United-States\n",
              "25248   45            Private  ...              40   United-States\n",
              "12892   27            Private  ...              42   United-States\n",
              "...    ...                ...  ...             ...             ...\n",
              "16432   18            Private  ...              15   United-States\n",
              "25934   47            Private  ...              40   United-States\n",
              "3235    36   Self-emp-not-inc  ...              35   United-States\n",
              "16377   54   Self-emp-not-inc  ...              50   United-States\n",
              "20271   41                  ?  ...              30   United-States\n",
              "\n",
              "[22792 rows x 14 columns]"
            ]
          },
          "metadata": {
            "tags": []
          },
          "execution_count": 11
        }
      ]
    },
    {
      "cell_type": "markdown",
      "metadata": {
        "id": "cRcDi2618Rus",
        "colab_type": "text"
      },
      "source": [
        "### Tratar colunas categóricas"
      ]
    },
    {
      "cell_type": "code",
      "metadata": {
        "id": "fhkgXstZEJpf",
        "colab_type": "code",
        "colab": {
          "base_uri": "https://localhost:8080/",
          "height": 289
        },
        "outputId": "81208153-9254-4563-bffd-a4a36c713298"
      },
      "source": [
        "df.dtypes"
      ],
      "execution_count": 12,
      "outputs": [
        {
          "output_type": "execute_result",
          "data": {
            "text/plain": [
              "Age                int64\n",
              "workclass         object\n",
              "fnlwgt             int64\n",
              "education         object\n",
              "education-num      int64\n",
              "Marital-status    object\n",
              "Occupation        object\n",
              "Relationship      object\n",
              "Race              object\n",
              "Sex               object\n",
              "capital-gain       int64\n",
              "capital-loss       int64\n",
              "hours-per-week     int64\n",
              "native-country    object\n",
              "Income             int64\n",
              "dtype: object"
            ]
          },
          "metadata": {
            "tags": []
          },
          "execution_count": 12
        }
      ]
    },
    {
      "cell_type": "code",
      "metadata": {
        "id": "OjDb3NOhJJxU",
        "colab_type": "code",
        "colab": {
          "base_uri": "https://localhost:8080/",
          "height": 272
        },
        "outputId": "3507fabc-3725-4dee-9d6c-9d5cfb49fa78"
      },
      "source": [
        "columns   = df.columns.to_list() # todas as colunas\n",
        "col_types = df.dtypes.to_list()  # todos os tipos de colunas\n",
        "col_types"
      ],
      "execution_count": 13,
      "outputs": [
        {
          "output_type": "execute_result",
          "data": {
            "text/plain": [
              "[dtype('int64'),\n",
              " dtype('O'),\n",
              " dtype('int64'),\n",
              " dtype('O'),\n",
              " dtype('int64'),\n",
              " dtype('O'),\n",
              " dtype('O'),\n",
              " dtype('O'),\n",
              " dtype('O'),\n",
              " dtype('O'),\n",
              " dtype('int64'),\n",
              " dtype('int64'),\n",
              " dtype('int64'),\n",
              " dtype('O'),\n",
              " dtype('int64')]"
            ]
          },
          "metadata": {
            "tags": []
          },
          "execution_count": 13
        }
      ]
    },
    {
      "cell_type": "code",
      "metadata": {
        "id": "iI1ekW8qLXGK",
        "colab_type": "code",
        "colab": {
          "base_uri": "https://localhost:8080/",
          "height": 68
        },
        "outputId": "bde6b336-6def-46be-d6b6-8fdd02a091a4"
      },
      "source": [
        "num_cols, cat_cols = [], []\n",
        "for e in zip(columns, col_types):\n",
        "    if e[1] == 'object':\n",
        "        cat_cols.append(e[0])\n",
        "    else:\n",
        "        num_cols.append(e[0])\n",
        "\n",
        "# excluit o target Income da num_cols\n",
        "num_cols.pop(-1)\n",
        "\n",
        "print(cat_cols, '\\n')\n",
        "print(num_cols)"
      ],
      "execution_count": 14,
      "outputs": [
        {
          "output_type": "stream",
          "text": [
            "['workclass', 'education', 'Marital-status', 'Occupation', 'Relationship', 'Race', 'Sex', 'native-country'] \n",
            "\n",
            "['Age', 'fnlwgt', 'education-num', 'capital-gain', 'capital-loss', 'hours-per-week']\n"
          ],
          "name": "stdout"
        }
      ]
    },
    {
      "cell_type": "code",
      "metadata": {
        "id": "iioFiC42TAG1",
        "colab_type": "code",
        "colab": {}
      },
      "source": [
        "def map_categorical_train(df_train, cat_cols):\n",
        "    df = df_train.copy()\n",
        "    cat_dims, list_of_dicts = [], []\n",
        "    \n",
        "    for col in cat_cols:\n",
        "        j = 1\n",
        "        my_dict = {}\n",
        "        my_dict.update({' ?':0})\n",
        "        my_dict.update({'UNK':1})\n",
        "\n",
        "        for e in df[col].value_counts().index.to_list():\n",
        "            if e not in my_dict.keys():\n",
        "                j +=1\n",
        "                my_dict.update({e:j})\n",
        "        list_of_dicts.append(my_dict)\n",
        "        cat_dims.append(len(my_dict))\n",
        "\n",
        "        df[col] = df[col].apply(lambda x: my_dict[x] if x in \n",
        "                                my_dict.keys() else my_dict['UNK'])\n",
        "        \n",
        "        emb_szs = [(c, min(100, (c+10)//2)) for c in cat_dims]\n",
        "        cat_emb_dims = [e[0] for e in emb_szs]\n",
        "\n",
        "    return df, list_of_dicts, emb_szs, cat_dims\n",
        "\n",
        "#----------------------------------------------------------------------------------\n",
        "def map_categorical_test(df_test, list_of_dicts):\n",
        "    df = df_test.copy()\n",
        "    for i, col in enumerate(cat_cols):\n",
        "        df[col] = df[col].apply(lambda x: list_of_dicts[i][x] if x in \n",
        "                                list_of_dicts[i].keys() else list_of_dicts[i]['UNK'])\n",
        "    return df"
      ],
      "execution_count": 15,
      "outputs": []
    },
    {
      "cell_type": "code",
      "metadata": {
        "id": "OjSvRFo6W8G_",
        "colab_type": "code",
        "colab": {
          "base_uri": "https://localhost:8080/",
          "height": 34
        },
        "outputId": "764f6670-8df6-4ca1-8a84-9ed53294aac0"
      },
      "source": [
        "df_train_, list_of_dicts, emb_szs, cat_dims = map_categorical_train(df_train, cat_cols)   \n",
        "df_test_ = map_categorical_test(df_test, list_of_dicts)   \n",
        "print(df_train_.shape, df_test_.shape)"
      ],
      "execution_count": 16,
      "outputs": [
        {
          "output_type": "stream",
          "text": [
            "(22792, 14) (9769, 14)\n"
          ],
          "name": "stdout"
        }
      ]
    },
    {
      "cell_type": "code",
      "metadata": {
        "id": "OTVPO_c79GZi",
        "colab_type": "code",
        "colab": {
          "base_uri": "https://localhost:8080/",
          "height": 204
        },
        "outputId": "9d7dee5d-e4e5-4900-8cb8-5974128707f9"
      },
      "source": [
        "# Conferindo\n",
        "df_train_.head(5)"
      ],
      "execution_count": 17,
      "outputs": [
        {
          "output_type": "execute_result",
          "data": {
            "text/html": [
              "<div>\n",
              "<style scoped>\n",
              "    .dataframe tbody tr th:only-of-type {\n",
              "        vertical-align: middle;\n",
              "    }\n",
              "\n",
              "    .dataframe tbody tr th {\n",
              "        vertical-align: top;\n",
              "    }\n",
              "\n",
              "    .dataframe thead th {\n",
              "        text-align: right;\n",
              "    }\n",
              "</style>\n",
              "<table border=\"1\" class=\"dataframe\">\n",
              "  <thead>\n",
              "    <tr style=\"text-align: right;\">\n",
              "      <th></th>\n",
              "      <th>Age</th>\n",
              "      <th>workclass</th>\n",
              "      <th>fnlwgt</th>\n",
              "      <th>education</th>\n",
              "      <th>education-num</th>\n",
              "      <th>Marital-status</th>\n",
              "      <th>Occupation</th>\n",
              "      <th>Relationship</th>\n",
              "      <th>Race</th>\n",
              "      <th>Sex</th>\n",
              "      <th>capital-gain</th>\n",
              "      <th>capital-loss</th>\n",
              "      <th>hours-per-week</th>\n",
              "      <th>native-country</th>\n",
              "    </tr>\n",
              "  </thead>\n",
              "  <tbody>\n",
              "    <tr>\n",
              "      <th>18991</th>\n",
              "      <td>24</td>\n",
              "      <td>2</td>\n",
              "      <td>276851</td>\n",
              "      <td>2</td>\n",
              "      <td>9</td>\n",
              "      <td>4</td>\n",
              "      <td>13</td>\n",
              "      <td>4</td>\n",
              "      <td>2</td>\n",
              "      <td>3</td>\n",
              "      <td>0</td>\n",
              "      <td>1762</td>\n",
              "      <td>40</td>\n",
              "      <td>2</td>\n",
              "    </tr>\n",
              "    <tr>\n",
              "      <th>9743</th>\n",
              "      <td>33</td>\n",
              "      <td>3</td>\n",
              "      <td>193246</td>\n",
              "      <td>2</td>\n",
              "      <td>9</td>\n",
              "      <td>3</td>\n",
              "      <td>4</td>\n",
              "      <td>3</td>\n",
              "      <td>2</td>\n",
              "      <td>2</td>\n",
              "      <td>0</td>\n",
              "      <td>0</td>\n",
              "      <td>55</td>\n",
              "      <td>30</td>\n",
              "    </tr>\n",
              "    <tr>\n",
              "      <th>23417</th>\n",
              "      <td>50</td>\n",
              "      <td>2</td>\n",
              "      <td>197322</td>\n",
              "      <td>7</td>\n",
              "      <td>7</td>\n",
              "      <td>2</td>\n",
              "      <td>4</td>\n",
              "      <td>2</td>\n",
              "      <td>2</td>\n",
              "      <td>2</td>\n",
              "      <td>0</td>\n",
              "      <td>0</td>\n",
              "      <td>50</td>\n",
              "      <td>2</td>\n",
              "    </tr>\n",
              "    <tr>\n",
              "      <th>25248</th>\n",
              "      <td>45</td>\n",
              "      <td>2</td>\n",
              "      <td>75673</td>\n",
              "      <td>6</td>\n",
              "      <td>11</td>\n",
              "      <td>6</td>\n",
              "      <td>5</td>\n",
              "      <td>3</td>\n",
              "      <td>4</td>\n",
              "      <td>3</td>\n",
              "      <td>0</td>\n",
              "      <td>0</td>\n",
              "      <td>40</td>\n",
              "      <td>2</td>\n",
              "    </tr>\n",
              "    <tr>\n",
              "      <th>12892</th>\n",
              "      <td>27</td>\n",
              "      <td>2</td>\n",
              "      <td>208725</td>\n",
              "      <td>8</td>\n",
              "      <td>12</td>\n",
              "      <td>3</td>\n",
              "      <td>6</td>\n",
              "      <td>3</td>\n",
              "      <td>2</td>\n",
              "      <td>2</td>\n",
              "      <td>0</td>\n",
              "      <td>0</td>\n",
              "      <td>42</td>\n",
              "      <td>2</td>\n",
              "    </tr>\n",
              "  </tbody>\n",
              "</table>\n",
              "</div>"
            ],
            "text/plain": [
              "       Age  workclass  fnlwgt  ...  capital-loss  hours-per-week  native-country\n",
              "18991   24          2  276851  ...          1762              40               2\n",
              "9743    33          3  193246  ...             0              55              30\n",
              "23417   50          2  197322  ...             0              50               2\n",
              "25248   45          2   75673  ...             0              40               2\n",
              "12892   27          2  208725  ...             0              42               2\n",
              "\n",
              "[5 rows x 14 columns]"
            ]
          },
          "metadata": {
            "tags": []
          },
          "execution_count": 17
        }
      ]
    },
    {
      "cell_type": "markdown",
      "metadata": {
        "id": "muLbz4Xa9KpR",
        "colab_type": "text"
      },
      "source": [
        "### Tratamento colunas numéricas"
      ]
    },
    {
      "cell_type": "code",
      "metadata": {
        "id": "RKAZcUE59Nau",
        "colab_type": "code",
        "colab": {}
      },
      "source": [
        "def normalize(df, num_cols, cat_cols, norm='minmax'):\n",
        "    data = df.copy()\n",
        "    df_num = df[num_cols]\n",
        "    \n",
        "    if norm == 'minmax':\n",
        "        m_m_s = MinMaxScaler()\n",
        "        mim_max_scal = m_m_s.fit(df_num.values)\n",
        "        mim_max_scal = m_m_s.transform(df_num.values)\n",
        "        df_norm = pd.DataFrame(data=mim_max_scal, \n",
        "                        columns=df_num.columns, \n",
        "                        index=df_num.index)\n",
        "\n",
        "    if norm == 'quantile':\n",
        "        quantile = quantile_transform(df_num.values, \n",
        "                        random_state=2357, \n",
        "                        copy=True, \n",
        "                        output_distribution='uniform')\n",
        "        df_norm  = pd.DataFrame(data=quantile, \n",
        "                        columns=df_num.columns, \n",
        "                        index=df_num.index)\n",
        "\n",
        "    df= pd.concat((\n",
        "        df_norm, \n",
        "        df[cat_cols]), \n",
        "        axis=1)\n",
        "    return df"
      ],
      "execution_count": 18,
      "outputs": []
    },
    {
      "cell_type": "code",
      "metadata": {
        "id": "BtS4IlOY-HJB",
        "colab_type": "code",
        "colab": {
          "base_uri": "https://localhost:8080/",
          "height": 119
        },
        "outputId": "b9d3d0f7-7c61-4489-c7d4-636bbccb57b0"
      },
      "source": [
        "# df_train[num_cols]\n",
        "num_cols"
      ],
      "execution_count": 19,
      "outputs": [
        {
          "output_type": "execute_result",
          "data": {
            "text/plain": [
              "['Age',\n",
              " 'fnlwgt',\n",
              " 'education-num',\n",
              " 'capital-gain',\n",
              " 'capital-loss',\n",
              " 'hours-per-week']"
            ]
          },
          "metadata": {
            "tags": []
          },
          "execution_count": 19
        }
      ]
    },
    {
      "cell_type": "code",
      "metadata": {
        "id": "-20zO9BI9p32",
        "colab_type": "code",
        "colab": {}
      },
      "source": [
        "df_train = normalize(df_train_, num_cols, cat_cols, norm='quantile')\n",
        "df_test  = normalize(df_test_, num_cols, cat_cols, norm='quantile') "
      ],
      "execution_count": 20,
      "outputs": []
    },
    {
      "cell_type": "markdown",
      "metadata": {
        "id": "9rGqkpVp-Dcs",
        "colab_type": "text"
      },
      "source": [
        "# Conferindo"
      ]
    },
    {
      "cell_type": "code",
      "metadata": {
        "id": "gxmnnwld-nUw",
        "colab_type": "code",
        "colab": {
          "base_uri": "https://localhost:8080/",
          "height": 436
        },
        "outputId": "bc0937ae-3371-410a-d6c4-4af317ddea17"
      },
      "source": [
        "df_train"
      ],
      "execution_count": 21,
      "outputs": [
        {
          "output_type": "execute_result",
          "data": {
            "text/html": [
              "<div>\n",
              "<style scoped>\n",
              "    .dataframe tbody tr th:only-of-type {\n",
              "        vertical-align: middle;\n",
              "    }\n",
              "\n",
              "    .dataframe tbody tr th {\n",
              "        vertical-align: top;\n",
              "    }\n",
              "\n",
              "    .dataframe thead th {\n",
              "        text-align: right;\n",
              "    }\n",
              "</style>\n",
              "<table border=\"1\" class=\"dataframe\">\n",
              "  <thead>\n",
              "    <tr style=\"text-align: right;\">\n",
              "      <th></th>\n",
              "      <th>Age</th>\n",
              "      <th>fnlwgt</th>\n",
              "      <th>education-num</th>\n",
              "      <th>capital-gain</th>\n",
              "      <th>capital-loss</th>\n",
              "      <th>hours-per-week</th>\n",
              "      <th>workclass</th>\n",
              "      <th>education</th>\n",
              "      <th>Marital-status</th>\n",
              "      <th>Occupation</th>\n",
              "      <th>Relationship</th>\n",
              "      <th>Race</th>\n",
              "      <th>Sex</th>\n",
              "      <th>native-country</th>\n",
              "    </tr>\n",
              "  </thead>\n",
              "  <tbody>\n",
              "    <tr>\n",
              "      <th>18991</th>\n",
              "      <td>0.157157</td>\n",
              "      <td>0.828224</td>\n",
              "      <td>0.292292</td>\n",
              "      <td>0.0</td>\n",
              "      <td>0.968969</td>\n",
              "      <td>0.472973</td>\n",
              "      <td>2</td>\n",
              "      <td>2</td>\n",
              "      <td>4</td>\n",
              "      <td>13</td>\n",
              "      <td>4</td>\n",
              "      <td>2</td>\n",
              "      <td>3</td>\n",
              "      <td>2</td>\n",
              "    </tr>\n",
              "    <tr>\n",
              "      <th>9743</th>\n",
              "      <td>0.391391</td>\n",
              "      <td>0.580776</td>\n",
              "      <td>0.292292</td>\n",
              "      <td>0.0</td>\n",
              "      <td>0.000000</td>\n",
              "      <td>0.906907</td>\n",
              "      <td>3</td>\n",
              "      <td>2</td>\n",
              "      <td>3</td>\n",
              "      <td>4</td>\n",
              "      <td>3</td>\n",
              "      <td>2</td>\n",
              "      <td>2</td>\n",
              "      <td>30</td>\n",
              "    </tr>\n",
              "    <tr>\n",
              "      <th>23417</th>\n",
              "      <td>0.791792</td>\n",
              "      <td>0.601957</td>\n",
              "      <td>0.098098</td>\n",
              "      <td>0.0</td>\n",
              "      <td>0.000000</td>\n",
              "      <td>0.845345</td>\n",
              "      <td>2</td>\n",
              "      <td>7</td>\n",
              "      <td>2</td>\n",
              "      <td>4</td>\n",
              "      <td>2</td>\n",
              "      <td>2</td>\n",
              "      <td>2</td>\n",
              "      <td>2</td>\n",
              "    </tr>\n",
              "    <tr>\n",
              "      <th>25248</th>\n",
              "      <td>0.692693</td>\n",
              "      <td>0.116928</td>\n",
              "      <td>0.699199</td>\n",
              "      <td>0.0</td>\n",
              "      <td>0.000000</td>\n",
              "      <td>0.472973</td>\n",
              "      <td>2</td>\n",
              "      <td>6</td>\n",
              "      <td>6</td>\n",
              "      <td>5</td>\n",
              "      <td>3</td>\n",
              "      <td>4</td>\n",
              "      <td>3</td>\n",
              "      <td>2</td>\n",
              "    </tr>\n",
              "    <tr>\n",
              "      <th>12892</th>\n",
              "      <td>0.233233</td>\n",
              "      <td>0.657658</td>\n",
              "      <td>0.736737</td>\n",
              "      <td>0.0</td>\n",
              "      <td>0.000000</td>\n",
              "      <td>0.711211</td>\n",
              "      <td>2</td>\n",
              "      <td>8</td>\n",
              "      <td>3</td>\n",
              "      <td>6</td>\n",
              "      <td>3</td>\n",
              "      <td>2</td>\n",
              "      <td>2</td>\n",
              "      <td>2</td>\n",
              "    </tr>\n",
              "    <tr>\n",
              "      <th>...</th>\n",
              "      <td>...</td>\n",
              "      <td>...</td>\n",
              "      <td>...</td>\n",
              "      <td>...</td>\n",
              "      <td>...</td>\n",
              "      <td>...</td>\n",
              "      <td>...</td>\n",
              "      <td>...</td>\n",
              "      <td>...</td>\n",
              "      <td>...</td>\n",
              "      <td>...</td>\n",
              "      <td>...</td>\n",
              "      <td>...</td>\n",
              "      <td>...</td>\n",
              "    </tr>\n",
              "    <tr>\n",
              "      <th>16432</th>\n",
              "      <td>0.020521</td>\n",
              "      <td>0.813811</td>\n",
              "      <td>0.098098</td>\n",
              "      <td>0.0</td>\n",
              "      <td>0.000000</td>\n",
              "      <td>0.035536</td>\n",
              "      <td>2</td>\n",
              "      <td>7</td>\n",
              "      <td>3</td>\n",
              "      <td>6</td>\n",
              "      <td>3</td>\n",
              "      <td>2</td>\n",
              "      <td>3</td>\n",
              "      <td>2</td>\n",
              "    </tr>\n",
              "    <tr>\n",
              "      <th>25934</th>\n",
              "      <td>0.737738</td>\n",
              "      <td>0.988794</td>\n",
              "      <td>0.123123</td>\n",
              "      <td>0.0</td>\n",
              "      <td>0.000000</td>\n",
              "      <td>0.472973</td>\n",
              "      <td>2</td>\n",
              "      <td>13</td>\n",
              "      <td>3</td>\n",
              "      <td>5</td>\n",
              "      <td>7</td>\n",
              "      <td>3</td>\n",
              "      <td>3</td>\n",
              "      <td>2</td>\n",
              "    </tr>\n",
              "    <tr>\n",
              "      <th>3235</th>\n",
              "      <td>0.471972</td>\n",
              "      <td>0.940512</td>\n",
              "      <td>0.026527</td>\n",
              "      <td>0.0</td>\n",
              "      <td>0.000000</td>\n",
              "      <td>0.191191</td>\n",
              "      <td>3</td>\n",
              "      <td>10</td>\n",
              "      <td>2</td>\n",
              "      <td>2</td>\n",
              "      <td>2</td>\n",
              "      <td>2</td>\n",
              "      <td>2</td>\n",
              "      <td>2</td>\n",
              "    </tr>\n",
              "    <tr>\n",
              "      <th>16377</th>\n",
              "      <td>0.855856</td>\n",
              "      <td>0.382639</td>\n",
              "      <td>0.835335</td>\n",
              "      <td>0.0</td>\n",
              "      <td>0.000000</td>\n",
              "      <td>0.845345</td>\n",
              "      <td>3</td>\n",
              "      <td>4</td>\n",
              "      <td>4</td>\n",
              "      <td>4</td>\n",
              "      <td>3</td>\n",
              "      <td>2</td>\n",
              "      <td>2</td>\n",
              "      <td>2</td>\n",
              "    </tr>\n",
              "    <tr>\n",
              "      <th>20271</th>\n",
              "      <td>0.599600</td>\n",
              "      <td>0.650760</td>\n",
              "      <td>0.835335</td>\n",
              "      <td>0.0</td>\n",
              "      <td>0.000000</td>\n",
              "      <td>0.143143</td>\n",
              "      <td>0</td>\n",
              "      <td>4</td>\n",
              "      <td>7</td>\n",
              "      <td>0</td>\n",
              "      <td>3</td>\n",
              "      <td>2</td>\n",
              "      <td>2</td>\n",
              "      <td>2</td>\n",
              "    </tr>\n",
              "  </tbody>\n",
              "</table>\n",
              "<p>22792 rows × 14 columns</p>\n",
              "</div>"
            ],
            "text/plain": [
              "            Age    fnlwgt  education-num  ...  Race  Sex  native-country\n",
              "18991  0.157157  0.828224       0.292292  ...     2    3               2\n",
              "9743   0.391391  0.580776       0.292292  ...     2    2              30\n",
              "23417  0.791792  0.601957       0.098098  ...     2    2               2\n",
              "25248  0.692693  0.116928       0.699199  ...     4    3               2\n",
              "12892  0.233233  0.657658       0.736737  ...     2    2               2\n",
              "...         ...       ...            ...  ...   ...  ...             ...\n",
              "16432  0.020521  0.813811       0.098098  ...     2    3               2\n",
              "25934  0.737738  0.988794       0.123123  ...     3    3               2\n",
              "3235   0.471972  0.940512       0.026527  ...     2    2               2\n",
              "16377  0.855856  0.382639       0.835335  ...     2    2               2\n",
              "20271  0.599600  0.650760       0.835335  ...     2    2               2\n",
              "\n",
              "[22792 rows x 14 columns]"
            ]
          },
          "metadata": {
            "tags": []
          },
          "execution_count": 21
        }
      ]
    },
    {
      "cell_type": "markdown",
      "metadata": {
        "id": "WA2Dcphh-o5H",
        "colab_type": "text"
      },
      "source": [
        "## Criar classe do dataset"
      ]
    },
    {
      "cell_type": "code",
      "metadata": {
        "id": "2JXfxrmD-sqg",
        "colab_type": "code",
        "colab": {
          "base_uri": "https://localhost:8080/",
          "height": 34
        },
        "outputId": "1b8e01fc-55dd-40ad-b817-8cbee58a48c8"
      },
      "source": [
        "class CensusDataset(Dataset):\n",
        "    def __init__(self, df, num_cols, cat_cols, target):\n",
        "        super(CensusDataset, self).__init__()\n",
        "\n",
        "        self.x_cont = df[num_cols].values.copy().astype(np.float32)\n",
        "        self.x_cat  = df[cat_cols].values.copy().astype(np.int64)\n",
        "        \n",
        "        self.y      = target.values.reshape(-1).copy().astype(np.int64)\n",
        "        \n",
        "    def __len__(self):\n",
        "        return self.x_cat.shape[0]\n",
        "    \n",
        "    def __getitem__(self, index):\n",
        "        x_cont = self.x_cont[index]\n",
        "        x_cat  = self.x_cat[index]\n",
        "        \n",
        "        y      = self.y[index]\n",
        "        \n",
        "        return x_cont, x_cat, y\n",
        "\n",
        "# testando\n",
        "ds = CensusDataset(df_train, \n",
        "                     num_cols, \n",
        "                     cat_cols, \n",
        "                     y_train)\n",
        "x_cont, x_cat, y = ds[0]\n",
        "x_cont.shape, x_cat.shape, y"
      ],
      "execution_count": 22,
      "outputs": [
        {
          "output_type": "execute_result",
          "data": {
            "text/plain": [
              "((6,), (8,), 0)"
            ]
          },
          "metadata": {
            "tags": []
          },
          "execution_count": 22
        }
      ]
    },
    {
      "cell_type": "markdown",
      "metadata": {
        "id": "XzX-03rt_Te-",
        "colab_type": "text"
      },
      "source": [
        "# Dataloaders"
      ]
    },
    {
      "cell_type": "code",
      "metadata": {
        "id": "t6bE6o7W3EgQ",
        "colab_type": "code",
        "colab": {
          "base_uri": "https://localhost:8080/",
          "height": 34
        },
        "outputId": "97825f76-f7f0-4a18-dfbd-857d57589922"
      },
      "source": [
        "BATCH_SZ = 32\n",
        "\n",
        "# datasets\n",
        "ds_train = CensusDataset(df_train, \n",
        "                     num_cols, \n",
        "                     cat_cols, \n",
        "                     y_train)\n",
        "\n",
        "ds_debug = CensusDataset(df_train[:BATCH_SZ], \n",
        "                     num_cols, \n",
        "                     cat_cols, \n",
        "                     y_train[:BATCH_SZ])\n",
        "\n",
        "\n",
        "ds_test  = CensusDataset(df_test, \n",
        "                     num_cols, \n",
        "                     cat_cols, \n",
        "                     y_test)\n",
        "\n",
        "# dataloaders\n",
        "dataloaders = {\n",
        "     'train': DataLoader(ds_train,\n",
        "                         batch_size=BATCH_SZ,\n",
        "                         shuffle = True, \n",
        "                         num_workers=4,\n",
        "                         pin_memory=True),\n",
        "     'test' : DataLoader(ds_test,\n",
        "                         batch_size=BATCH_SZ,\n",
        "                         shuffle=False,\n",
        "                         num_workers=4,\n",
        "                         pin_memory=True),\n",
        "     'debug': DataLoader(ds_debug,\n",
        "                         batch_size=BATCH_SZ,\n",
        "                         shuffle=False,\n",
        "                         num_workers=4,\n",
        "                         pin_memory=True)\n",
        "     }\n",
        "\n",
        "# sanity check\n",
        "dl_sizes = {x: len(dataloaders[x]) for x in dataloaders.keys()}\n",
        "dl_sizes "
      ],
      "execution_count": 23,
      "outputs": [
        {
          "output_type": "execute_result",
          "data": {
            "text/plain": [
              "{'debug': 1, 'test': 306, 'train': 713}"
            ]
          },
          "metadata": {
            "tags": []
          },
          "execution_count": 23
        }
      ]
    },
    {
      "cell_type": "code",
      "metadata": {
        "id": "G2ZAQNy2QeFR",
        "colab_type": "code",
        "colab": {
          "base_uri": "https://localhost:8080/",
          "height": 34
        },
        "outputId": "73a768db-ee60-492b-9a36-aca1c75e0d36"
      },
      "source": [
        "x_cont, x_cat, y= next(iter(dataloaders['train']))\n",
        "torch.mean(y.type(torch.float))"
      ],
      "execution_count": 24,
      "outputs": [
        {
          "output_type": "execute_result",
          "data": {
            "text/plain": [
              "tensor(0.2500)"
            ]
          },
          "metadata": {
            "tags": []
          },
          "execution_count": 24
        }
      ]
    },
    {
      "cell_type": "markdown",
      "metadata": {
        "id": "vz12PBQxAi_C",
        "colab_type": "text"
      },
      "source": [
        "# Modelo"
      ]
    },
    {
      "cell_type": "code",
      "metadata": {
        "id": "q648boUFAssI",
        "colab_type": "code",
        "colab": {
          "base_uri": "https://localhost:8080/",
          "height": 34
        },
        "outputId": "70754e46-a114-4989-e2c1-b4242679ad9f"
      },
      "source": [
        "class CatModel(nn.Module):\n",
        "    def __init__(self, embedding_sizes=emb_szs, n_cont=len(num_cols), out=2):\n",
        "        super().__init__()\n",
        "        self.embeddings = nn.ModuleList([nn.Embedding(categories, size) \n",
        "                    for categories,size in embedding_sizes])\n",
        "        \n",
        "        n_emb_sum = sum(e.embedding_dim for e in self.embeddings) \n",
        "        d_model   = n_emb_sum + n_cont\n",
        "\n",
        "        self.actv = nn.ReLU()\n",
        "\n",
        "        self.fc0  = nn.Linear(d_model, n_emb_sum)\n",
        "        self.fc1  = nn.Linear(n_emb_sum, out)\n",
        "\n",
        "    def forward(self, x_cont, x_cat):\n",
        "        xcat = [e(x_cat[:,i]) for i, e in enumerate(self.embeddings)]\n",
        "        xcat = torch.cat(xcat, dim=1) \n",
        "        \n",
        "        o = torch.cat((x_cont, xcat), dim=1)\n",
        "        o = self.fc0(o)\n",
        "        o = self.actv(o)\n",
        "        return self.fc1(o)\n",
        "#--------------------------------------------------------------------------------\n",
        "model = CatModel(\n",
        "    embedding_sizes=emb_szs, \n",
        "    n_cont=len(num_cols), \n",
        "    )\n",
        "with torch.no_grad():\n",
        "    print(model(x_cont, x_cat).shape)   "
      ],
      "execution_count": 25,
      "outputs": [
        {
          "output_type": "stream",
          "text": [
            "torch.Size([32, 2])\n"
          ],
          "name": "stdout"
        }
      ]
    },
    {
      "cell_type": "code",
      "metadata": {
        "id": "sRLtcXLpA_Kx",
        "colab_type": "code",
        "colab": {
          "base_uri": "https://localhost:8080/",
          "height": 357
        },
        "outputId": "0f70b791-1808-482b-984e-3cea82c18159"
      },
      "source": [
        "def count_parameters(model):\n",
        "    return sum(p.numel() for p in model.parameters() if p.requires_grad)\n",
        "\n",
        "print('\\n','#' * 45,f'\\n # The model has {count_parameters(model):,}' \\\n",
        "       ' trainable parameters #\\n', '#' * 45,'\\n' )  \n",
        "model"
      ],
      "execution_count": 26,
      "outputs": [
        {
          "output_type": "stream",
          "text": [
            "\n",
            " ############################################# \n",
            " # The model has 11,997 trainable parameters #\n",
            " ############################################# \n",
            "\n"
          ],
          "name": "stdout"
        },
        {
          "output_type": "execute_result",
          "data": {
            "text/plain": [
              "CatModel(\n",
              "  (embeddings): ModuleList(\n",
              "    (0): Embedding(10, 10)\n",
              "    (1): Embedding(18, 14)\n",
              "    (2): Embedding(9, 9)\n",
              "    (3): Embedding(16, 13)\n",
              "    (4): Embedding(8, 9)\n",
              "    (5): Embedding(7, 8)\n",
              "    (6): Embedding(4, 7)\n",
              "    (7): Embedding(43, 26)\n",
              "  )\n",
              "  (actv): ReLU()\n",
              "  (fc0): Linear(in_features=102, out_features=96, bias=True)\n",
              "  (fc1): Linear(in_features=96, out_features=2, bias=True)\n",
              ")"
            ]
          },
          "metadata": {
            "tags": []
          },
          "execution_count": 26
        }
      ]
    },
    {
      "cell_type": "markdown",
      "metadata": {
        "id": "8D2pwp6fBGhx",
        "colab_type": "text"
      },
      "source": [
        "# Treino"
      ]
    },
    {
      "cell_type": "code",
      "metadata": {
        "id": "gye0TYAYBViY",
        "colab_type": "code",
        "colab": {}
      },
      "source": [
        "def train(model, device, train_loader, loss_fn, optimizer):\n",
        "    model.train()\n",
        "    loss_train = []\n",
        "    for x_cont, x_cat, y in train_loader:\n",
        "        optimizer.zero_grad()\n",
        "        y_pred = model(\n",
        "            x_cont.to(device),\n",
        "            x_cat.to(device),\n",
        "            )\n",
        "        loss = loss_fn(y_pred, y.to(device))\n",
        "        loss_train.append(loss.item())\n",
        "    \n",
        "        loss.backward()\n",
        "        optimizer.step()\n",
        "  \n",
        "    ave_train_loss = sum(loss_train) / len(loss_train)\n",
        "    return ave_train_loss\n",
        "\n",
        "def test(model, device, valid_loader, loss_fn):\n",
        "    model.eval()\n",
        "    preds, trues, loss_test = [],[],[]\n",
        "    for x_cont, x_cat, y in valid_loader:\n",
        "        with torch.no_grad():\n",
        "            y_pred = model(\n",
        "            x_cont.to(device),\n",
        "            x_cat.to(device),\n",
        "            )\n",
        "\n",
        "        loss = loss_fn(y_pred, y.to(device))\n",
        "        loss_test.append(loss.item())\n",
        "      \n",
        "        preds += y_pred.argmax(-1).cpu().numpy().tolist()\n",
        "        trues += y.cpu().numpy().tolist()\n",
        "\n",
        "    ave_test_loss = sum(loss_test) / len(loss_test)\n",
        "    \n",
        "    preds = np.array(preds)\n",
        "    trues = np.array(trues)\n",
        "    acc = (1.* (preds==trues)).mean() \n",
        "    return ave_test_loss, f1_score(trues, preds), acc"
      ],
      "execution_count": 27,
      "outputs": []
    },
    {
      "cell_type": "markdown",
      "metadata": {
        "id": "MmEdJmcOraR5",
        "colab_type": "text"
      },
      "source": [
        "### LabelSmoothing"
      ]
    },
    {
      "cell_type": "code",
      "metadata": {
        "id": "f6YOw8sxrZnp",
        "colab_type": "code",
        "colab": {}
      },
      "source": [
        "# Função do Tio Alan :)\n",
        "\n",
        "class LabelSmoothing(nn.Module):\n",
        "    def __init__(self, smoothing = 0.1):\n",
        "        assert 0.0 <= smoothing < 1.0, f\"got smoothing={smoothing}\"\n",
        "        super(LabelSmoothing, self).__init__()\n",
        "        self.smoothing = smoothing\n",
        "\n",
        "    def forward(self, input, target):\n",
        "        target = target.detach()\n",
        "        log = F.log_softmax(input, dim=1)\n",
        "        oh = torch.ones_like(input).detach_()*(self.smoothing/input.size(1))\n",
        "        oh = oh.scatter_(1, target.unsqueeze(1),\n",
        "                        (1.0 - self.smoothing + self.smoothing/input.size(1)))\n",
        "        return ((-oh*log).sum(dim=1).mean())"
      ],
      "execution_count": 28,
      "outputs": []
    },
    {
      "cell_type": "markdown",
      "metadata": {
        "id": "8-ZfIleCESXH",
        "colab_type": "text"
      },
      "source": [
        "# <span style=\"color:orange\"> Treino completo"
      ]
    },
    {
      "cell_type": "code",
      "metadata": {
        "id": "IJr14D5p_H74",
        "colab_type": "code",
        "colab": {
          "base_uri": "https://localhost:8080/",
          "height": 595
        },
        "outputId": "d66689af-028a-4c97-9923-2255624bdde7"
      },
      "source": [
        "from sklearn.metrics import f1_score\n",
        "\n",
        "start = torch.cuda.Event(enable_timing=True)\n",
        "end = torch.cuda.Event(enable_timing=True)\n",
        "#---------------------------------------------------------------------------------\n",
        "deterministic()\n",
        "N_EPOCHS = 30\n",
        "SMTH     = 0.08\n",
        "\n",
        "model = CatModel(\n",
        "    embedding_sizes=emb_szs, \n",
        "    n_cont=len(num_cols), \n",
        "    ).to(device)\n",
        "\n",
        "criterion = LabelSmoothing(SMTH)\n",
        "optimizer =  torch.optim.Adam(model.parameters())\n",
        "#---------------------------------------------------------------------------------\n",
        "start.record()\n",
        "for step in range(1, N_EPOCHS+1):\n",
        "    l_train    = train(model, device, dataloaders['train'], criterion, optimizer)\n",
        "    l_test, f1,_ = test( model, device, dataloaders['test'],  criterion)\n",
        "    torch.save(model.state_dict(), os.path.join('', 'Epoca-{}.pth'.format(step)))\n",
        "    print(f'Epoch [{step}/{N_EPOCHS}] |', end=' ')\n",
        "    print(f'Train Loss: {l_train:.3f} -- Test Loss: {l_test:.3f} -- F1: {f1:.3}')\n",
        "end.record()\n",
        "torch.cuda.synchronize()    \n",
        "#---------------------------------------------------------------------------------\n",
        "print(f'\\nEnd of training')\n",
        "print(f'Tempo: {start.elapsed_time(end)/1000/60 :.3f} min.')"
      ],
      "execution_count": 29,
      "outputs": [
        {
          "output_type": "stream",
          "text": [
            "Deterministic experiment, seed: 2357\n",
            "Epoch [1/30] | Train Loss: 0.429 -- Test Loss: 0.418 -- F1: 0.631\n",
            "Epoch [2/30] | Train Loss: 0.409 -- Test Loss: 0.414 -- F1: 0.649\n",
            "Epoch [3/30] | Train Loss: 0.405 -- Test Loss: 0.414 -- F1: 0.649\n",
            "Epoch [4/30] | Train Loss: 0.402 -- Test Loss: 0.414 -- F1: 0.655\n",
            "Epoch [5/30] | Train Loss: 0.400 -- Test Loss: 0.413 -- F1: 0.636\n",
            "Epoch [6/30] | Train Loss: 0.399 -- Test Loss: 0.413 -- F1: 0.635\n",
            "Epoch [7/30] | Train Loss: 0.397 -- Test Loss: 0.416 -- F1: 0.624\n",
            "Epoch [8/30] | Train Loss: 0.396 -- Test Loss: 0.414 -- F1: 0.645\n",
            "Epoch [9/30] | Train Loss: 0.393 -- Test Loss: 0.415 -- F1: 0.66\n",
            "Epoch [10/30] | Train Loss: 0.392 -- Test Loss: 0.416 -- F1: 0.665\n",
            "Epoch [11/30] | Train Loss: 0.391 -- Test Loss: 0.418 -- F1: 0.637\n",
            "Epoch [12/30] | Train Loss: 0.390 -- Test Loss: 0.418 -- F1: 0.674\n",
            "Epoch [13/30] | Train Loss: 0.388 -- Test Loss: 0.414 -- F1: 0.649\n",
            "Epoch [14/30] | Train Loss: 0.387 -- Test Loss: 0.417 -- F1: 0.657\n",
            "Epoch [15/30] | Train Loss: 0.385 -- Test Loss: 0.417 -- F1: 0.654\n",
            "Epoch [16/30] | Train Loss: 0.384 -- Test Loss: 0.423 -- F1: 0.626\n",
            "Epoch [17/30] | Train Loss: 0.383 -- Test Loss: 0.419 -- F1: 0.654\n",
            "Epoch [18/30] | Train Loss: 0.382 -- Test Loss: 0.423 -- F1: 0.628\n",
            "Epoch [19/30] | Train Loss: 0.382 -- Test Loss: 0.420 -- F1: 0.627\n",
            "Epoch [20/30] | Train Loss: 0.380 -- Test Loss: 0.423 -- F1: 0.662\n",
            "Epoch [21/30] | Train Loss: 0.379 -- Test Loss: 0.422 -- F1: 0.647\n",
            "Epoch [22/30] | Train Loss: 0.378 -- Test Loss: 0.421 -- F1: 0.639\n",
            "Epoch [23/30] | Train Loss: 0.376 -- Test Loss: 0.423 -- F1: 0.649\n",
            "Epoch [24/30] | Train Loss: 0.376 -- Test Loss: 0.432 -- F1: 0.612\n",
            "Epoch [25/30] | Train Loss: 0.375 -- Test Loss: 0.428 -- F1: 0.615\n",
            "Epoch [26/30] | Train Loss: 0.374 -- Test Loss: 0.430 -- F1: 0.634\n",
            "Epoch [27/30] | Train Loss: 0.372 -- Test Loss: 0.427 -- F1: 0.639\n",
            "Epoch [28/30] | Train Loss: 0.372 -- Test Loss: 0.430 -- F1: 0.625\n",
            "Epoch [29/30] | Train Loss: 0.371 -- Test Loss: 0.432 -- F1: 0.648\n",
            "Epoch [30/30] | Train Loss: 0.371 -- Test Loss: 0.432 -- F1: 0.633\n",
            "\n",
            "End of training\n",
            "Tempo: 3.528 min.\n"
          ],
          "name": "stdout"
        }
      ]
    },
    {
      "cell_type": "markdown",
      "metadata": {
        "id": "039Qjhr6LUG_",
        "colab_type": "text"
      },
      "source": [
        "#  <span style=\"color:orange\"> Validação no conj. de teste\n"
      ]
    },
    {
      "cell_type": "code",
      "metadata": {
        "id": "HlIw4vY5drmf",
        "colab_type": "code",
        "colab": {}
      },
      "source": [
        "def logits_and_trues(model, dloader, device=device):\n",
        "    model.eval()\n",
        "    logits, trues = [],[]\n",
        "    for x_cont, x_cat, y in dloader:\n",
        "        with torch.no_grad():\n",
        "            y_pred = model(\n",
        "            x_cont.to(device),\n",
        "            x_cat.to(device),\n",
        "            )\n",
        "\n",
        "        logits.extend(y_pred.to('cpu').numpy().tolist())\n",
        "        trues.extend(y.to('cpu').numpy().tolist())\n",
        "    \n",
        "    prob  = F.softmax(torch.tensor(logits), dim=1).detach().numpy()\n",
        "    probs = prob[:,1]\n",
        "    probs = np.array(probs)\n",
        "    trues = np.array(trues)\n",
        "    err_ =  far_vs_frr(trues, probs, fig=False)\n",
        "  \n",
        "    return probs, trues, err_"
      ],
      "execution_count": 30,
      "outputs": []
    },
    {
      "cell_type": "code",
      "metadata": {
        "id": "2LETRF7MpApO",
        "colab_type": "code",
        "colab": {}
      },
      "source": [
        "def far_vs_frr(labels, outs, steps=1000, fig=False):\n",
        "    lives = outs[labels == 1]\n",
        "    spoofs = outs[labels == 0]\n",
        "    max_live = max(lives)\n",
        "    min_spoof = min(spoofs)\n",
        "    num_lives = len(lives)\n",
        "    num_spoofs = len(spoofs)\n",
        "    histogram = np.linspace(0,1,num=steps)\n",
        "    FRR = np.array([100*np.mean(spoofs >= hist) for hist in histogram])\n",
        "    FAR = np.array([100*np.mean(lives < hist) for hist in histogram])\n",
        "    a = FRR[FAR - FRR<= 0]\n",
        "    s_a = len(a)\n",
        "    if (FAR[s_a] - FRR[s_a]) <= (FRR[s_a+1]-FAR[s_a+1]):\n",
        "        ERR = (FAR[s_a] + FRR[s_a])/2\n",
        "        ERR_index = s_a\n",
        "    else:\n",
        "        ERR = (FAR[s_a+1] + FRR[s_a+1])/2\n",
        "        ERR_index = s_a+1\n",
        "    \n",
        "    if fig:\n",
        "        print(f'Negados: {num_lives} Aprovados: {num_spoofs}')\n",
        "        figure = plt.figure(num=1, figsize=(10, 8), dpi=80, facecolor='w', edgecolor='k')\n",
        "        ax = figure.add_subplot(111)\n",
        "        plt.plot(histogram, FRR, color='r', label='FRR', lw=2)\n",
        "        plt.plot(histogram, FAR, color='navy', label='FAR', lw=2)\n",
        "        plt.plot([histogram[ERR_index]], [ERR], marker='o', markersize=12, color=\"lime\", label=f'ERR: {ERR :.3}')\n",
        "        axes = plt.gca()\n",
        "        axes.set_ylim([0, 4*ERR])\n",
        "        plt.title('FAR (erro tipo I) vs FRR (erro tipo II)')\n",
        "        plt.legend()\n",
        "        plt.show()\n",
        "        return ERR, histogram[ERR_index]\n",
        "    else:\n",
        "        return ERR"
      ],
      "execution_count": 31,
      "outputs": []
    },
    {
      "cell_type": "markdown",
      "metadata": {
        "id": "gGKPONUrnTge",
        "colab_type": "text"
      },
      "source": [
        "# Carrega todas as épocas salvas e verifica o melhor F$_1$ \n",
        "\n"
      ]
    },
    {
      "cell_type": "code",
      "metadata": {
        "id": "M-YjtTMcih9y",
        "colab_type": "code",
        "colab": {
          "base_uri": "https://localhost:8080/",
          "height": 1000
        },
        "outputId": "6cf1bc0d-8b67-43b5-9b4e-1fc3b6f245d2"
      },
      "source": [
        "step0,step1,step2,best_recall, best,low_err = 0,0,0,0,0,100\n",
        "for i in range(1,N_EPOCHS+1):\n",
        "    model = CatModel(\n",
        "    embedding_sizes=emb_szs, \n",
        "    n_cont=len(num_cols), \n",
        "    ).to(device)\n",
        "    \n",
        "    string = '/content/Epoca-'+str(i)+'.pth'\n",
        "    model.load_state_dict(torch.load(string, map_location=device))\n",
        "    \n",
        "    probs, trues, _err = logits_and_trues(\n",
        "        model, \n",
        "        dataloaders['test'], \n",
        "        device=device\n",
        "        )\n",
        "    \n",
        "    fpr, tpr, thresholds = roc_curve(trues, probs)\n",
        "    precision, recall, thresh = precision_recall_curve(trues, probs)\n",
        "    f1_score = 2*precision*recall/(precision + recall)\n",
        "    f1_score = f1_score[:-1]\n",
        "    precision = precision[:-1]\n",
        "    recall = recall[:-1]\n",
        "    f1_score[np.isnan(f1_score)] = -1.0\n",
        "    bestF1 = np.argmax(f1_score)\n",
        "    \n",
        "    if f1_score[bestF1] > best:\n",
        "        best = f1_score[bestF1]\n",
        "        step0 = i\n",
        "\n",
        "    if recall[bestF1] > best_recall:\n",
        "        best_recall = recall[bestF1]\n",
        "        step2 = i\n",
        "\n",
        "\n",
        "    if _err < low_err:\n",
        "        low_err = _err\n",
        "        step1 = i\n",
        "    \n",
        "    print(f'Epoca: {i}')\n",
        "    print(f'   O threshold do melhor F1 score: >>> {thresh[bestF1] :.3} <<<')\n",
        "    print(f'   F1: {f1_score[bestF1] :.3} -- ', end='')\n",
        "    print(f'Precision {thresh[bestF1] :.3}: {precision[bestF1] :.3} -- ', end='')\n",
        "    print(f'Recall {thresh[bestF1] :.3}: {recall[bestF1] :.3}')\n",
        "    print(f'   ERR: {_err :.3}\\n')        "
      ],
      "execution_count": 32,
      "outputs": [
        {
          "output_type": "stream",
          "text": [
            "Epoca: 1\n",
            "   O threshold do melhor F1 score: >>> 0.32 <<<\n",
            "   F1: 0.67 -- Precision 0.32: 0.602 -- Recall 0.32: 0.754\n",
            "   ERR: 19.9\n",
            "\n",
            "Epoca: 2\n",
            "   O threshold do melhor F1 score: >>> 0.374 <<<\n",
            "   F1: 0.683 -- Precision 0.374: 0.611 -- Recall 0.374: 0.773\n",
            "   ERR: 19.1\n",
            "\n",
            "Epoca: 3\n",
            "   O threshold do melhor F1 score: >>> 0.394 <<<\n",
            "   F1: 0.679 -- Precision 0.394: 0.638 -- Recall 0.394: 0.724\n",
            "   ERR: 19.1\n",
            "\n",
            "Epoca: 4\n",
            "   O threshold do melhor F1 score: >>> 0.342 <<<\n",
            "   F1: 0.681 -- Precision 0.342: 0.609 -- Recall 0.342: 0.772\n",
            "   ERR: 18.8\n",
            "\n",
            "Epoca: 5\n",
            "   O threshold do melhor F1 score: >>> 0.349 <<<\n",
            "   F1: 0.679 -- Precision 0.349: 0.64 -- Recall 0.349: 0.722\n",
            "   ERR: 19.3\n",
            "\n",
            "Epoca: 6\n",
            "   O threshold do melhor F1 score: >>> 0.325 <<<\n",
            "   F1: 0.684 -- Precision 0.325: 0.63 -- Recall 0.325: 0.747\n",
            "   ERR: 19.1\n",
            "\n",
            "Epoca: 7\n",
            "   O threshold do melhor F1 score: >>> 0.291 <<<\n",
            "   F1: 0.682 -- Precision 0.291: 0.623 -- Recall 0.291: 0.754\n",
            "   ERR: 19.0\n",
            "\n",
            "Epoca: 8\n",
            "   O threshold do melhor F1 score: >>> 0.308 <<<\n",
            "   F1: 0.68 -- Precision 0.308: 0.598 -- Recall 0.308: 0.79\n",
            "   ERR: 18.8\n",
            "\n",
            "Epoca: 9\n",
            "   O threshold do melhor F1 score: >>> 0.337 <<<\n",
            "   F1: 0.678 -- Precision 0.337: 0.577 -- Recall 0.337: 0.82\n",
            "   ERR: 19.0\n",
            "\n",
            "Epoca: 10\n",
            "   O threshold do melhor F1 score: >>> 0.421 <<<\n",
            "   F1: 0.681 -- Precision 0.421: 0.637 -- Recall 0.421: 0.731\n",
            "   ERR: 18.9\n",
            "\n",
            "Epoca: 11\n",
            "   O threshold do melhor F1 score: >>> 0.326 <<<\n",
            "   F1: 0.676 -- Precision 0.326: 0.631 -- Recall 0.326: 0.728\n",
            "   ERR: 19.5\n",
            "\n",
            "Epoca: 12\n",
            "   O threshold do melhor F1 score: >>> 0.391 <<<\n",
            "   F1: 0.681 -- Precision 0.391: 0.601 -- Recall 0.391: 0.786\n",
            "   ERR: 18.9\n",
            "\n",
            "Epoca: 13\n",
            "   O threshold do melhor F1 score: >>> 0.363 <<<\n",
            "   F1: 0.682 -- Precision 0.363: 0.629 -- Recall 0.363: 0.744\n",
            "   ERR: 19.0\n",
            "\n",
            "Epoca: 14\n",
            "   O threshold do melhor F1 score: >>> 0.357 <<<\n",
            "   F1: 0.678 -- Precision 0.357: 0.607 -- Recall 0.357: 0.769\n",
            "   ERR: 19.1\n",
            "\n",
            "Epoca: 15\n",
            "   O threshold do melhor F1 score: >>> 0.351 <<<\n",
            "   F1: 0.684 -- Precision 0.351: 0.606 -- Recall 0.351: 0.784\n",
            "   ERR: 18.9\n",
            "\n",
            "Epoca: 16\n",
            "   O threshold do melhor F1 score: >>> 0.27 <<<\n",
            "   F1: 0.677 -- Precision 0.27: 0.591 -- Recall 0.27: 0.792\n",
            "   ERR: 19.3\n",
            "\n",
            "Epoca: 17\n",
            "   O threshold do melhor F1 score: >>> 0.291 <<<\n",
            "   F1: 0.679 -- Precision 0.291: 0.571 -- Recall 0.291: 0.836\n",
            "   ERR: 19.0\n",
            "\n",
            "Epoca: 18\n",
            "   O threshold do melhor F1 score: >>> 0.34 <<<\n",
            "   F1: 0.677 -- Precision 0.34: 0.616 -- Recall 0.34: 0.75\n",
            "   ERR: 19.2\n",
            "\n",
            "Epoca: 19\n",
            "   O threshold do melhor F1 score: >>> 0.33 <<<\n",
            "   F1: 0.679 -- Precision 0.33: 0.605 -- Recall 0.33: 0.773\n",
            "   ERR: 19.1\n",
            "\n",
            "Epoca: 20\n",
            "   O threshold do melhor F1 score: >>> 0.412 <<<\n",
            "   F1: 0.68 -- Precision 0.412: 0.629 -- Recall 0.412: 0.74\n",
            "   ERR: 19.0\n",
            "\n",
            "Epoca: 21\n",
            "   O threshold do melhor F1 score: >>> 0.383 <<<\n",
            "   F1: 0.673 -- Precision 0.383: 0.633 -- Recall 0.383: 0.719\n",
            "   ERR: 19.5\n",
            "\n",
            "Epoca: 22\n",
            "   O threshold do melhor F1 score: >>> 0.335 <<<\n",
            "   F1: 0.679 -- Precision 0.335: 0.614 -- Recall 0.335: 0.759\n",
            "   ERR: 19.0\n",
            "\n",
            "Epoca: 23\n",
            "   O threshold do melhor F1 score: >>> 0.343 <<<\n",
            "   F1: 0.678 -- Precision 0.343: 0.624 -- Recall 0.343: 0.743\n",
            "   ERR: 19.4\n",
            "\n",
            "Epoca: 24\n",
            "   O threshold do melhor F1 score: >>> 0.268 <<<\n",
            "   F1: 0.674 -- Precision 0.268: 0.61 -- Recall 0.268: 0.752\n",
            "   ERR: 19.2\n",
            "\n",
            "Epoca: 25\n",
            "   O threshold do melhor F1 score: >>> 0.258 <<<\n",
            "   F1: 0.673 -- Precision 0.258: 0.579 -- Recall 0.258: 0.802\n",
            "   ERR: 19.4\n",
            "\n",
            "Epoca: 26\n",
            "   O threshold do melhor F1 score: >>> 0.325 <<<\n",
            "   F1: 0.675 -- Precision 0.325: 0.62 -- Recall 0.325: 0.739\n",
            "   ERR: 19.5\n",
            "\n",
            "Epoca: 27\n",
            "   O threshold do melhor F1 score: >>> 0.382 <<<\n",
            "   F1: 0.674 -- Precision 0.382: 0.64 -- Recall 0.382: 0.713\n",
            "   ERR: 19.6\n",
            "\n",
            "Epoca: 28\n",
            "   O threshold do melhor F1 score: >>> 0.348 <<<\n",
            "   F1: 0.674 -- Precision 0.348: 0.63 -- Recall 0.348: 0.726\n",
            "   ERR: 19.3\n",
            "\n",
            "Epoca: 29\n",
            "   O threshold do melhor F1 score: >>> 0.32 <<<\n",
            "   F1: 0.673 -- Precision 0.32: 0.583 -- Recall 0.32: 0.796\n",
            "   ERR: 19.5\n",
            "\n",
            "Epoca: 30\n",
            "   O threshold do melhor F1 score: >>> 0.317 <<<\n",
            "   F1: 0.677 -- Precision 0.317: 0.614 -- Recall 0.317: 0.753\n",
            "   ERR: 19.2\n",
            "\n"
          ],
          "name": "stdout"
        }
      ]
    },
    {
      "cell_type": "code",
      "metadata": {
        "id": "U-R4KlZJfIhO",
        "colab_type": "code",
        "colab": {
          "base_uri": "https://localhost:8080/",
          "height": 68
        },
        "outputId": "3c64c88f-5ddc-4a91-a305-c6c9cf7060f2"
      },
      "source": [
        "print(f'Melhor F1: {best:.3} na época: {step0}') \n",
        "print(f'Melhor Err: {low_err:.3} na época: {step1}') \n",
        "print(f'Melhor Recall: {best_recall:.3} na época: {step2}') "
      ],
      "execution_count": 33,
      "outputs": [
        {
          "output_type": "stream",
          "text": [
            "Melhor F1: 0.684 na época: 15\n",
            "Melhor Err: 18.8 na época: 8\n",
            "Melhor Recall: 0.836 na época: 17\n"
          ],
          "name": "stdout"
        }
      ]
    },
    {
      "cell_type": "code",
      "metadata": {
        "colab_type": "code",
        "id": "fY_wyc-UiC4x",
        "colab": {
          "base_uri": "https://localhost:8080/",
          "height": 359
        },
        "outputId": "440ea2af-42a4-4ecb-c849-53339dd04090"
      },
      "source": [
        "model = CatModel(\n",
        "    embedding_sizes=emb_szs, \n",
        "    n_cont=len(num_cols), \n",
        "    ).to(device)\n",
        "\n",
        "string = '/content/Epoca-'+str(step1)+'.pth'\n",
        "model.load_state_dict(torch.load(string, map_location=device))\n",
        "\n",
        "probs, trues, err_ = logits_and_trues(model, dataloaders['test'], device=device)\n",
        "\n",
        "data = pd.DataFrame({'Target':trues, 'Prob':probs})\n",
        "data.head(10)"
      ],
      "execution_count": 34,
      "outputs": [
        {
          "output_type": "execute_result",
          "data": {
            "text/html": [
              "<div>\n",
              "<style scoped>\n",
              "    .dataframe tbody tr th:only-of-type {\n",
              "        vertical-align: middle;\n",
              "    }\n",
              "\n",
              "    .dataframe tbody tr th {\n",
              "        vertical-align: top;\n",
              "    }\n",
              "\n",
              "    .dataframe thead th {\n",
              "        text-align: right;\n",
              "    }\n",
              "</style>\n",
              "<table border=\"1\" class=\"dataframe\">\n",
              "  <thead>\n",
              "    <tr style=\"text-align: right;\">\n",
              "      <th></th>\n",
              "      <th>Target</th>\n",
              "      <th>Prob</th>\n",
              "    </tr>\n",
              "  </thead>\n",
              "  <tbody>\n",
              "    <tr>\n",
              "      <th>0</th>\n",
              "      <td>1</td>\n",
              "      <td>0.796366</td>\n",
              "    </tr>\n",
              "    <tr>\n",
              "      <th>1</th>\n",
              "      <td>0</td>\n",
              "      <td>0.074456</td>\n",
              "    </tr>\n",
              "    <tr>\n",
              "      <th>2</th>\n",
              "      <td>1</td>\n",
              "      <td>0.197738</td>\n",
              "    </tr>\n",
              "    <tr>\n",
              "      <th>3</th>\n",
              "      <td>0</td>\n",
              "      <td>0.054164</td>\n",
              "    </tr>\n",
              "    <tr>\n",
              "      <th>4</th>\n",
              "      <td>1</td>\n",
              "      <td>0.924894</td>\n",
              "    </tr>\n",
              "    <tr>\n",
              "      <th>5</th>\n",
              "      <td>1</td>\n",
              "      <td>0.792717</td>\n",
              "    </tr>\n",
              "    <tr>\n",
              "      <th>6</th>\n",
              "      <td>1</td>\n",
              "      <td>0.888183</td>\n",
              "    </tr>\n",
              "    <tr>\n",
              "      <th>7</th>\n",
              "      <td>1</td>\n",
              "      <td>0.714734</td>\n",
              "    </tr>\n",
              "    <tr>\n",
              "      <th>8</th>\n",
              "      <td>0</td>\n",
              "      <td>0.056959</td>\n",
              "    </tr>\n",
              "    <tr>\n",
              "      <th>9</th>\n",
              "      <td>1</td>\n",
              "      <td>0.198977</td>\n",
              "    </tr>\n",
              "  </tbody>\n",
              "</table>\n",
              "</div>"
            ],
            "text/plain": [
              "   Target      Prob\n",
              "0       1  0.796366\n",
              "1       0  0.074456\n",
              "2       1  0.197738\n",
              "3       0  0.054164\n",
              "4       1  0.924894\n",
              "5       1  0.792717\n",
              "6       1  0.888183\n",
              "7       1  0.714734\n",
              "8       0  0.056959\n",
              "9       1  0.198977"
            ]
          },
          "metadata": {
            "tags": []
          },
          "execution_count": 34
        }
      ]
    },
    {
      "cell_type": "code",
      "metadata": {
        "id": "kk5CcCL_dAeZ",
        "colab_type": "code",
        "colab": {}
      },
      "source": [
        "FP = data[data.Target==1].sort_values(by='Prob')\n",
        "FN = data[data.Target==0].sort_values(by='Prob', ascending=False)"
      ],
      "execution_count": 35,
      "outputs": []
    },
    {
      "cell_type": "code",
      "metadata": {
        "id": "2aoeypaPw5MO",
        "colab_type": "code",
        "colab": {
          "base_uri": "https://localhost:8080/",
          "height": 419
        },
        "outputId": "84c6c43c-9b78-48a5-96d3-e6d33488cc5a"
      },
      "source": [
        "FP"
      ],
      "execution_count": 36,
      "outputs": [
        {
          "output_type": "execute_result",
          "data": {
            "text/html": [
              "<div>\n",
              "<style scoped>\n",
              "    .dataframe tbody tr th:only-of-type {\n",
              "        vertical-align: middle;\n",
              "    }\n",
              "\n",
              "    .dataframe tbody tr th {\n",
              "        vertical-align: top;\n",
              "    }\n",
              "\n",
              "    .dataframe thead th {\n",
              "        text-align: right;\n",
              "    }\n",
              "</style>\n",
              "<table border=\"1\" class=\"dataframe\">\n",
              "  <thead>\n",
              "    <tr style=\"text-align: right;\">\n",
              "      <th></th>\n",
              "      <th>Target</th>\n",
              "      <th>Prob</th>\n",
              "    </tr>\n",
              "  </thead>\n",
              "  <tbody>\n",
              "    <tr>\n",
              "      <th>9271</th>\n",
              "      <td>1</td>\n",
              "      <td>0.014683</td>\n",
              "    </tr>\n",
              "    <tr>\n",
              "      <th>3733</th>\n",
              "      <td>1</td>\n",
              "      <td>0.033527</td>\n",
              "    </tr>\n",
              "    <tr>\n",
              "      <th>8163</th>\n",
              "      <td>1</td>\n",
              "      <td>0.037265</td>\n",
              "    </tr>\n",
              "    <tr>\n",
              "      <th>9440</th>\n",
              "      <td>1</td>\n",
              "      <td>0.037831</td>\n",
              "    </tr>\n",
              "    <tr>\n",
              "      <th>7724</th>\n",
              "      <td>1</td>\n",
              "      <td>0.039243</td>\n",
              "    </tr>\n",
              "    <tr>\n",
              "      <th>...</th>\n",
              "      <td>...</td>\n",
              "      <td>...</td>\n",
              "    </tr>\n",
              "    <tr>\n",
              "      <th>314</th>\n",
              "      <td>1</td>\n",
              "      <td>0.965522</td>\n",
              "    </tr>\n",
              "    <tr>\n",
              "      <th>6370</th>\n",
              "      <td>1</td>\n",
              "      <td>0.969691</td>\n",
              "    </tr>\n",
              "    <tr>\n",
              "      <th>5501</th>\n",
              "      <td>1</td>\n",
              "      <td>0.970963</td>\n",
              "    </tr>\n",
              "    <tr>\n",
              "      <th>9643</th>\n",
              "      <td>1</td>\n",
              "      <td>0.974360</td>\n",
              "    </tr>\n",
              "    <tr>\n",
              "      <th>1849</th>\n",
              "      <td>1</td>\n",
              "      <td>0.976418</td>\n",
              "    </tr>\n",
              "  </tbody>\n",
              "</table>\n",
              "<p>2391 rows × 2 columns</p>\n",
              "</div>"
            ],
            "text/plain": [
              "      Target      Prob\n",
              "9271       1  0.014683\n",
              "3733       1  0.033527\n",
              "8163       1  0.037265\n",
              "9440       1  0.037831\n",
              "7724       1  0.039243\n",
              "...      ...       ...\n",
              "314        1  0.965522\n",
              "6370       1  0.969691\n",
              "5501       1  0.970963\n",
              "9643       1  0.974360\n",
              "1849       1  0.976418\n",
              "\n",
              "[2391 rows x 2 columns]"
            ]
          },
          "metadata": {
            "tags": []
          },
          "execution_count": 36
        }
      ]
    },
    {
      "cell_type": "code",
      "metadata": {
        "id": "z747rR01Z7Gy",
        "colab_type": "code",
        "colab": {
          "base_uri": "https://localhost:8080/",
          "height": 419
        },
        "outputId": "8e471456-38e7-4bd5-fdb2-5a8b84d29311"
      },
      "source": [
        "FN"
      ],
      "execution_count": 37,
      "outputs": [
        {
          "output_type": "execute_result",
          "data": {
            "text/html": [
              "<div>\n",
              "<style scoped>\n",
              "    .dataframe tbody tr th:only-of-type {\n",
              "        vertical-align: middle;\n",
              "    }\n",
              "\n",
              "    .dataframe tbody tr th {\n",
              "        vertical-align: top;\n",
              "    }\n",
              "\n",
              "    .dataframe thead th {\n",
              "        text-align: right;\n",
              "    }\n",
              "</style>\n",
              "<table border=\"1\" class=\"dataframe\">\n",
              "  <thead>\n",
              "    <tr style=\"text-align: right;\">\n",
              "      <th></th>\n",
              "      <th>Target</th>\n",
              "      <th>Prob</th>\n",
              "    </tr>\n",
              "  </thead>\n",
              "  <tbody>\n",
              "    <tr>\n",
              "      <th>2801</th>\n",
              "      <td>0</td>\n",
              "      <td>0.962287</td>\n",
              "    </tr>\n",
              "    <tr>\n",
              "      <th>8425</th>\n",
              "      <td>0</td>\n",
              "      <td>0.941690</td>\n",
              "    </tr>\n",
              "    <tr>\n",
              "      <th>9670</th>\n",
              "      <td>0</td>\n",
              "      <td>0.932895</td>\n",
              "    </tr>\n",
              "    <tr>\n",
              "      <th>2809</th>\n",
              "      <td>0</td>\n",
              "      <td>0.930514</td>\n",
              "    </tr>\n",
              "    <tr>\n",
              "      <th>7904</th>\n",
              "      <td>0</td>\n",
              "      <td>0.924661</td>\n",
              "    </tr>\n",
              "    <tr>\n",
              "      <th>...</th>\n",
              "      <td>...</td>\n",
              "      <td>...</td>\n",
              "    </tr>\n",
              "    <tr>\n",
              "      <th>7821</th>\n",
              "      <td>0</td>\n",
              "      <td>0.005850</td>\n",
              "    </tr>\n",
              "    <tr>\n",
              "      <th>2076</th>\n",
              "      <td>0</td>\n",
              "      <td>0.005336</td>\n",
              "    </tr>\n",
              "    <tr>\n",
              "      <th>7864</th>\n",
              "      <td>0</td>\n",
              "      <td>0.005246</td>\n",
              "    </tr>\n",
              "    <tr>\n",
              "      <th>3395</th>\n",
              "      <td>0</td>\n",
              "      <td>0.004959</td>\n",
              "    </tr>\n",
              "    <tr>\n",
              "      <th>2029</th>\n",
              "      <td>0</td>\n",
              "      <td>0.003053</td>\n",
              "    </tr>\n",
              "  </tbody>\n",
              "</table>\n",
              "<p>7378 rows × 2 columns</p>\n",
              "</div>"
            ],
            "text/plain": [
              "      Target      Prob\n",
              "2801       0  0.962287\n",
              "8425       0  0.941690\n",
              "9670       0  0.932895\n",
              "2809       0  0.930514\n",
              "7904       0  0.924661\n",
              "...      ...       ...\n",
              "7821       0  0.005850\n",
              "2076       0  0.005336\n",
              "7864       0  0.005246\n",
              "3395       0  0.004959\n",
              "2029       0  0.003053\n",
              "\n",
              "[7378 rows x 2 columns]"
            ]
          },
          "metadata": {
            "tags": []
          },
          "execution_count": 37
        }
      ]
    },
    {
      "cell_type": "code",
      "metadata": {
        "colab_type": "code",
        "id": "81gX6QFOiC5M",
        "colab": {
          "base_uri": "https://localhost:8080/",
          "height": 312
        },
        "outputId": "9aa29014-29ce-4255-ecff-93d428068b82"
      },
      "source": [
        "def plot_roc_curve(y, y_pred, gini, ks):\n",
        "    fpr, tpr, thresholds = roc_curve(y, y_pred)\n",
        "    roc_auc = auc(fpr, tpr)\n",
        "    fig = plt.figure()\n",
        "    plt.rcParams['figure.figsize'] = (15, 8)\n",
        "\n",
        "    plt.plot(fpr, tpr, 'b', lw=3, \n",
        "             label='%s KS = %0.3f,  AUC = %0.3f, GINI = %0.3f' \n",
        "             % ('Model: ',ks, roc_auc, gini))\n",
        "\n",
        "    plt.plot([0, 1], [0, 1], 'k--')\n",
        "    plt.xlim([0.0, 1.0])\n",
        "    plt.xticks(fontsize=16)\n",
        "    plt.yticks(fontsize=16)\n",
        "    plt.ylim([0.0, 1.0])\n",
        "    plt.xlabel('False Positive Rate', size=16)\n",
        "    plt.ylabel('True Positive Rate', size=16)\n",
        "    plt.legend(loc=0, fontsize=16)\n",
        "    plt.show()\n",
        "\n",
        "fpr, tpr, thresholds = roc_curve(data['Target'], data['Prob'])\n",
        "roc_auc = auc(fpr, tpr)\n",
        "gini_ = 2 * roc_auc_score(data.Target.values, data.Prob.values) - 1\n",
        "\n",
        "ks = stats.ks_2samp(data[data['Target'] == 0]['Prob'], \n",
        "                    data[data['Target'] == 1]['Prob']).statistic\n",
        "\n",
        "print(f'KS = {ks :.3} -- AUC = {roc_auc :.3} -- GINI = {gini_ :.3}')\n",
        "\n",
        "plot_roc_curve(data.Target.values, data.Prob.values, gini_, ks)"
      ],
      "execution_count": 38,
      "outputs": [
        {
          "output_type": "stream",
          "text": [
            "KS = 0.64 -- AUC = 0.897 -- GINI = 0.794\n"
          ],
          "name": "stdout"
        },
        {
          "output_type": "display_data",
          "data": {
            "image/png": "[encoded data removed]",
            "text/plain": [
              "<Figure size 432x288 with 1 Axes>"
            ]
          },
          "metadata": {
            "tags": [],
            "needs_background": "light"
          }
        }
      ]
    },
    {
      "cell_type": "code",
      "metadata": {
        "id": "B5_wt2KBphXv",
        "colab_type": "code",
        "colab": {
          "base_uri": "https://localhost:8080/",
          "height": 51
        },
        "outputId": "c6bf9d29-eaec-459e-eff9-f91586c31b61"
      },
      "source": [
        "fpr, tpr, thresholds = roc_curve(data.Target.values, data.Prob.values)\n",
        "\n",
        "precision,recall,pr_thresh = precision_recall_curve(data.Target.values, \n",
        "                                                    data.Prob.values)\n",
        "\n",
        "f1_score = 2*precision*recall/(precision+recall)\n",
        "f1_score = f1_score[:-1]\n",
        "precision = precision[:-1]\n",
        "recall = recall[:-1]\n",
        "f1_score[np.isnan(f1_score)] = -1.0\n",
        "bestF1 = np.argmax(f1_score)\n",
        "\n",
        "print(f'O threshold do melhor F1: >>> {pr_thresh[bestF1] :.3} <<<')\n",
        "print(f'   F1: {f1_score[bestF1] :.3} -- ', end='')\n",
        "print(f'Precision: {precision[bestF1] :.3} -- ', end='')\n",
        "print(f'Recall: {recall[bestF1] :.3}')"
      ],
      "execution_count": 39,
      "outputs": [
        {
          "output_type": "stream",
          "text": [
            "O threshold do melhor F1: >>> 0.308 <<<\n",
            "   F1: 0.68 -- Precision: 0.598 -- Recall: 0.79\n"
          ],
          "name": "stdout"
        }
      ]
    },
    {
      "cell_type": "code",
      "metadata": {
        "id": "Ce3gNHYWq3od",
        "colab_type": "code",
        "colab": {
          "base_uri": "https://localhost:8080/",
          "height": 102
        },
        "outputId": "a45321f7-ebfb-4dc8-844e-139a26ed28fc"
      },
      "source": [
        "opt_idx = np.argmin(np.sqrt(np.square(1.0-tpr) + np.square(fpr)))\n",
        "opt_threshold = thresholds[opt_idx]\n",
        "print(f'O threshold do melhor F1: {pr_thresh[bestF1] :.3}')\n",
        "\n",
        "y_hat_best_thres = (data.Prob.values >= pr_thresh[bestF1]).astype(int)\n",
        "# y_hat_best_thres = (data.Prob.values >= 0.5).astype(int)\n",
        "\n",
        "print(f'\\nMatriz de confusão no thrs {pr_thresh[bestF1] :.3}:')\n",
        "confusion_matrix(trues, y_hat_best_thres)"
      ],
      "execution_count": 40,
      "outputs": [
        {
          "output_type": "stream",
          "text": [
            "O threshold do melhor F1: 0.308\n",
            "\n",
            "Matriz de confusão no thrs 0.308:\n"
          ],
          "name": "stdout"
        },
        {
          "output_type": "execute_result",
          "data": {
            "text/plain": [
              "array([[6108, 1270],\n",
              "       [ 503, 1888]])"
            ]
          },
          "metadata": {
            "tags": []
          },
          "execution_count": 40
        }
      ]
    },
    {
      "cell_type": "code",
      "metadata": {
        "id": "vpWUGgmcpqfU",
        "colab_type": "code",
        "colab": {
          "base_uri": "https://localhost:8080/",
          "height": 577
        },
        "outputId": "aaedd96a-43cd-4cce-e662-0832cff675da"
      },
      "source": [
        "plt.rcParams.update({'font.size': 16})\n",
        "plt.plot(pr_thresh,f1_score, lw=2)\n",
        "plt.plot(pr_thresh,precision,  lw=2)\n",
        "plt.plot(pr_thresh,recall, lw=2)\n",
        "plt.xlabel('Threshold')\n",
        "plt.ylabel('Score')\n",
        "plt.xticks(fontsize=16)\n",
        "plt.xlim(-0.01, 1.01)\n",
        "plt.ylim(-0.02, 1.02)\n",
        "plt.yticks(fontsize=16)\n",
        "plt.grid()\n",
        "plt.legend(['F$_1$-score', 'Precision', 'Recall'],prop={'size': 16})\n",
        "plt.tight_layout(2)\n",
        "plt.savefig('precision-recall-thres', bbox_inches='tight')\n",
        "print(f'O threshold do melhor F1: >>> {pr_thresh[bestF1] :.3} <<<')\n",
        "print(f'   F1: {f1_score[bestF1] :.3} -- ', end='')\n",
        "print(f'Precision: {precision[bestF1] :.3} -- ', end='')\n",
        "print(f'Recall: {recall[bestF1] :.3}')"
      ],
      "execution_count": 41,
      "outputs": [
        {
          "output_type": "stream",
          "text": [
            "O threshold do melhor F1: >>> 0.308 <<<\n",
            "   F1: 0.68 -- Precision: 0.598 -- Recall: 0.79\n"
          ],
          "name": "stdout"
        },
        {
          "output_type": "display_data",
          "data": {
            "image/png": "[encoded data removed]",
            "text/plain": [
              "<Figure size 1080x576 with 1 Axes>"
            ]
          },
          "metadata": {
            "tags": [],
            "needs_background": "light"
          }
        }
      ]
    },
    {
      "cell_type": "code",
      "metadata": {
        "id": "avk39os_fC2l",
        "colab_type": "code",
        "colab": {
          "base_uri": "https://localhost:8080/",
          "height": 598
        },
        "outputId": "797da375-8a99-4c7a-f805-9690a893dacb"
      },
      "source": [
        "_,Err_point = far_vs_frr(data.Target.values, data.Prob.values, steps=2000, fig=True)\n",
        "Err_point"
      ],
      "execution_count": 42,
      "outputs": [
        {
          "output_type": "stream",
          "text": [
            "Negados: 2391 Aprovados: 7378\n"
          ],
          "name": "stdout"
        },
        {
          "output_type": "display_data",
          "data": {
            "image/png": "[encoded data removed]",
            "text/plain": [
              "<Figure size 800x640 with 1 Axes>"
            ]
          },
          "metadata": {
            "tags": []
          }
        },
        {
          "output_type": "execute_result",
          "data": {
            "text/plain": [
              "0.28564282141070535"
            ]
          },
          "metadata": {
            "tags": []
          },
          "execution_count": 42
        }
      ]
    },
    {
      "cell_type": "code",
      "metadata": {
        "id": "MUmiK6RNYXuc",
        "colab_type": "code",
        "colab": {
          "base_uri": "https://localhost:8080/",
          "height": 85
        },
        "outputId": "62d19989-ec07-49b5-82d3-b0bc629780fd"
      },
      "source": [
        "y_err = (data.Prob.values >= Err_point).astype(int)\n",
        "\n",
        "print(f'\\nMatriz de confusão no ponto do ERR {Err_point :.3}:')\n",
        "confusion_matrix(trues, y_err)"
      ],
      "execution_count": 43,
      "outputs": [
        {
          "output_type": "stream",
          "text": [
            "\n",
            "Matriz de confusão no ponto do ERR 0.286:\n"
          ],
          "name": "stdout"
        },
        {
          "output_type": "execute_result",
          "data": {
            "text/plain": [
              "array([[5995, 1383],\n",
              "       [ 452, 1939]])"
            ]
          },
          "metadata": {
            "tags": []
          },
          "execution_count": 43
        }
      ]
    },
    {
      "cell_type": "code",
      "metadata": {
        "id": "-ODZHUY1ZHYm",
        "colab_type": "code",
        "colab": {
          "base_uri": "https://localhost:8080/",
          "height": 85
        },
        "outputId": "30063a0a-f4d7-4d71-e1f9-ce2fe4e5247b"
      },
      "source": [
        "y_50 = (data.Prob.values >= 0.5).astype(int)\n",
        "\n",
        "print(f'\\nMatriz de confusão no threshold {0.50}:')\n",
        "confusion_matrix(trues, y_50)"
      ],
      "execution_count": 44,
      "outputs": [
        {
          "output_type": "stream",
          "text": [
            "\n",
            "Matriz de confusão no threshold 0.5:\n"
          ],
          "name": "stdout"
        },
        {
          "output_type": "execute_result",
          "data": {
            "text/plain": [
              "array([[6798,  580],\n",
              "       [ 978, 1413]])"
            ]
          },
          "metadata": {
            "tags": []
          },
          "execution_count": 44
        }
      ]
    },
    {
      "cell_type": "code",
      "metadata": {
        "id": "y9ixWS0q85th",
        "colab_type": "code",
        "colab": {
          "base_uri": "https://localhost:8080/",
          "height": 368
        },
        "outputId": "cb06d055-7e53-4562-bb08-2f35c4f52e8c"
      },
      "source": [
        "plt.rcParams['figure.figsize'] = (9, 5)\n",
        "\n",
        "sns.set_context(\"notebook\", font_scale=1.3)\n",
        "\n",
        "confusao = confusion_matrix(trues, y_hat_best_thres)\n",
        "group_names = ['TN\\nAprovados corretos',\n",
        "               'FN - erro tipo II (FRR)\\nNegados errados', \n",
        "               'FP - erro tipo I  (FAR)\\nAprovados errados',\n",
        "               'TP\\nNegados corretos']\n",
        "\n",
        "group_counts = ['({0:0.0f})'.format(value) for value in\n",
        "                confusao.flatten()]\n",
        "\n",
        "group_percentages = ['{0:.1%}'.format(value) for value in\n",
        "                     confusao.flatten()/np.sum(confusao)]\n",
        "\n",
        "labels = [f'{v1}\\n{v2}' for v1, v2 in\n",
        "          zip(group_names,group_counts)]\n",
        "\n",
        "labels = np.asarray(labels).reshape(2,2)\n",
        "\n",
        "cmap = 'Reds'#'binary'#'PuRd'#'jet'#'YlOrRd'#\n",
        "\n",
        "ax = sns.heatmap(confusao, annot=labels, fmt='', square=False,\n",
        "                 cmap=cmap, cbar=True, linewidths=0.7,\n",
        "                )\n",
        "\n",
        "ax.set_ylabel('Target - Real')\n",
        "ax.set_xlabel('Predição - Modelo')\n",
        "ax.set_xticklabels(['Aprovados','Negados'], va='center', \n",
        "                   rotation = 0, position=(0,-0.03), \n",
        "                   fontsize=18)\n",
        "ax.set_yticklabels(['Aprovados','Negados'], \n",
        "                   va='center', rotation = 90, position=(0,0.28),\n",
        "                   fontsize=18)\n",
        "ax.set_title(f'limiar = {pr_thresh[bestF1] :.3}', fontsize=18)\n",
        "\n",
        "#######\n",
        "# Save\n",
        "#######\n",
        "plt.savefig('confusao.png', bbox_inches='tight')\n",
        "plt.show()"
      ],
      "execution_count": 45,
      "outputs": [
        {
          "output_type": "display_data",
          "data": {
            "image/png": "[encoded data removed]",
            "text/plain": [
              "<Figure size 648x360 with 2 Axes>"
            ]
          },
          "metadata": {
            "tags": [],
            "needs_background": "light"
          }
        }
      ]
    },
    {
      "cell_type": "markdown",
      "metadata": {
        "id": "Q61ej_qQKRcl",
        "colab_type": "text"
      },
      "source": [
        "# FIM\n"
      ]
    }
  ]
}