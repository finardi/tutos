{
  "nbformat": 4,
  "nbformat_minor": 0,
  "metadata": {
    "colab": {
      "name": "Untitled0.ipynb",
      "provenance": [],
      "collapsed_sections": [],
      "authorship_tag": "ABX9TyPKLWe4Yd6v30k6MslKp/VS",
      "include_colab_link": true
    },
    "kernelspec": {
      "name": "python3",
      "display_name": "Python 3"
    }
  },
  "cells": [
    {
      "cell_type": "markdown",
      "metadata": {
        "id": "view-in-github",
        "colab_type": "text"
      },
      "source": [
        "<a href=\"https://colab.research.google.com/github/finardi/tutos/blob/master/CompareAll.ipynb\" target=\"_parent\"><img src=\"https://colab.research.google.com/assets/colab-badge.svg\" alt=\"Open In Colab\"/></a>"
      ]
    },
    {
      "cell_type": "code",
      "metadata": {
        "id": "gAVRlCA7NeGz",
        "colab_type": "code",
        "colab": {}
      },
      "source": [
        "import uuid \n",
        "import pandas as pd\n",
        "import numpy as np\n",
        "from itertools import combinations\n",
        "from scipy.spatial import distance # 1- cos_similarity"
      ],
      "execution_count": 5,
      "outputs": []
    },
    {
      "cell_type": "code",
      "metadata": {
        "id": "b0CJ72BDNjxx",
        "colab_type": "code",
        "colab": {
          "base_uri": "https://localhost:8080/",
          "height": 436
        },
        "outputId": "3e1557b0-73d2-4d5f-b4ce-98de9d8523ab"
      },
      "source": [
        "# gerando IDS alpha numéricos\n",
        "ids_ = [uuid.uuid4().hex[:6].upper() for i in range(7_000)]\n",
        "\n",
        "#garantindo que os IDS gerados são únicos\n",
        "ids_ = list(set(ids_)); print(len(ids_))\n",
        "df = pd.DataFrame({'ID':ids_})\n",
        "\n",
        "# fake embeddings\n",
        "embs = []\n",
        "for i in range(len(ids_)):\n",
        "    embs.append(np.random.random(768))\n",
        "embs = np.array(embs)\n",
        "\n",
        "df"
      ],
      "execution_count": 6,
      "outputs": [
        {
          "output_type": "stream",
          "text": [
            "7000\n"
          ],
          "name": "stdout"
        },
        {
          "output_type": "execute_result",
          "data": {
            "text/html": [
              "<div>\n",
              "<style scoped>\n",
              "    .dataframe tbody tr th:only-of-type {\n",
              "        vertical-align: middle;\n",
              "    }\n",
              "\n",
              "    .dataframe tbody tr th {\n",
              "        vertical-align: top;\n",
              "    }\n",
              "\n",
              "    .dataframe thead th {\n",
              "        text-align: right;\n",
              "    }\n",
              "</style>\n",
              "<table border=\"1\" class=\"dataframe\">\n",
              "  <thead>\n",
              "    <tr style=\"text-align: right;\">\n",
              "      <th></th>\n",
              "      <th>ID</th>\n",
              "    </tr>\n",
              "  </thead>\n",
              "  <tbody>\n",
              "    <tr>\n",
              "      <th>0</th>\n",
              "      <td>5C5D34</td>\n",
              "    </tr>\n",
              "    <tr>\n",
              "      <th>1</th>\n",
              "      <td>DC403D</td>\n",
              "    </tr>\n",
              "    <tr>\n",
              "      <th>2</th>\n",
              "      <td>71B93F</td>\n",
              "    </tr>\n",
              "    <tr>\n",
              "      <th>3</th>\n",
              "      <td>F5CCD4</td>\n",
              "    </tr>\n",
              "    <tr>\n",
              "      <th>4</th>\n",
              "      <td>48DDAD</td>\n",
              "    </tr>\n",
              "    <tr>\n",
              "      <th>...</th>\n",
              "      <td>...</td>\n",
              "    </tr>\n",
              "    <tr>\n",
              "      <th>6995</th>\n",
              "      <td>C2463E</td>\n",
              "    </tr>\n",
              "    <tr>\n",
              "      <th>6996</th>\n",
              "      <td>579067</td>\n",
              "    </tr>\n",
              "    <tr>\n",
              "      <th>6997</th>\n",
              "      <td>68C114</td>\n",
              "    </tr>\n",
              "    <tr>\n",
              "      <th>6998</th>\n",
              "      <td>30C081</td>\n",
              "    </tr>\n",
              "    <tr>\n",
              "      <th>6999</th>\n",
              "      <td>8D8916</td>\n",
              "    </tr>\n",
              "  </tbody>\n",
              "</table>\n",
              "<p>7000 rows × 1 columns</p>\n",
              "</div>"
            ],
            "text/plain": [
              "          ID\n",
              "0     5C5D34\n",
              "1     DC403D\n",
              "2     71B93F\n",
              "3     F5CCD4\n",
              "4     48DDAD\n",
              "...      ...\n",
              "6995  C2463E\n",
              "6996  579067\n",
              "6997  68C114\n",
              "6998  30C081\n",
              "6999  8D8916\n",
              "\n",
              "[7000 rows x 1 columns]"
            ]
          },
          "metadata": {
            "tags": []
          },
          "execution_count": 6
        }
      ]
    },
    {
      "cell_type": "code",
      "metadata": {
        "id": "-4qZa4ycfz5x",
        "colab_type": "code",
        "colab": {}
      },
      "source": [
        "def similarities(df, embs, verbose=True):\n",
        "    comb = np.fromiter(combinations(range(embs.shape[0]), 2), dtype='i,i')\n",
        "    ids = df.ID.values\n",
        "    ids1 = ids[comb['f0']]\n",
        "    ids2 = ids[comb['f1']]\n",
        "    l = [(ids1[i], ids2[i]) for i in range(ids1.shape[0])]\n",
        "\n",
        "    norms = np.linalg.norm(embs, axis=1)\n",
        "\n",
        "    df_new = pd.DataFrame([])\n",
        "    #------------------------------------------------------------\n",
        "    for j, id in enumerate(comb):\n",
        "        cos_dist = distance.cosine(embs[id[0]], embs[id[1]])\n",
        "        id_1 = l[id[0]][0]\n",
        "        id_2 = l[id[0]][1]\n",
        "        df_new = df_new.append(pd.DataFrame(\n",
        "            {\n",
        "                'ID1': id_1, \n",
        "                'ID2': id_2, \n",
        "                'COS_DIST': cos_dist\n",
        "            }, \n",
        "            index=[0]), ignore_index=True)\n",
        "\n",
        "        if verbose:\n",
        "            if j%500_000==0:\n",
        "                print(f'{j} of {comb.shape[0]}')\n",
        "    #------------------------------------------------------------\n",
        "    return df_new    "
      ],
      "execution_count": 16,
      "outputs": []
    },
    {
      "cell_type": "code",
      "metadata": {
        "id": "8UF-wHMz6T8e",
        "colab_type": "code",
        "colab": {
          "base_uri": "https://localhost:8080/",
          "height": 34
        },
        "outputId": "77b81c96-d4d0-4a31-d095-524f53cdf3c7"
      },
      "source": [
        "%%time \n",
        "df_sim = similarities(df, embs)"
      ],
      "execution_count": null,
      "outputs": [
        {
          "output_type": "stream",
          "text": [
            "0 of 24496500\n"
          ],
          "name": "stdout"
        }
      ]
    },
    {
      "cell_type": "code",
      "metadata": {
        "id": "w1Vso57582zi",
        "colab_type": "code",
        "colab": {}
      },
      "source": [
        ""
      ],
      "execution_count": null,
      "outputs": []
    }
  ]
}